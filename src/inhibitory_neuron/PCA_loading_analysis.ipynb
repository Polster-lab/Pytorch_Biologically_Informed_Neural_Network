{
 "cells": [
  {
   "cell_type": "markdown",
   "id": "0c04c928-6e2d-4a58-ad98-43d32466f8f2",
   "metadata": {},
   "source": [
    "# Index\n"
   ]
  },
  {
   "cell_type": "code",
   "execution_count": 1,
   "id": "850a5d7f-872f-485a-9cf8-f5a4c7ca4fe9",
   "metadata": {},
   "outputs": [],
   "source": [
    "import pandas as pd\n",
    "import numpy as np\n",
    "\n",
    "import matplotlib.pyplot as plt\n",
    "import os\n",
    "from tqdm import tqdm"
   ]
  },
  {
   "cell_type": "code",
   "execution_count": 2,
   "id": "94e2e2e7-361c-46f8-a807-b6caec1b492f",
   "metadata": {},
   "outputs": [
    {
     "name": "stdout",
     "output_type": "stream",
     "text": [
      "                 0        1\n",
      "0  ENSG00000210049    MT-TF\n",
      "1  ENSG00000211459  MT-RNR1\n",
      "2  ENSG00000210077    MT-TV\n",
      "3  ENSG00000210082  MT-RNR2\n",
      "4  ENSG00000209082   MT-TL1\n"
     ]
    }
   ],
   "source": [
    "from biomart import BiomartServer\n",
    "\n",
    "# Connect to the Ensembl Biomart server\n",
    "server = BiomartServer(\"http://www.ensembl.org/biomart\")\n",
    "\n",
    "# Access the Ensembl Genes dataset for Homo sapiens\n",
    "dataset = server.datasets['hsapiens_gene_ensembl']\n",
    "\n",
    "# Query the dataset for Ensembl IDs and gene names\n",
    "response = dataset.search({\n",
    "    'attributes': [\n",
    "        'ensembl_gene_id', \n",
    "        'external_gene_name'\n",
    "    ]\n",
    "})\n",
    "\n",
    "# Convert the response to a dataframe\n",
    "import pandas as pd\n",
    "from io import StringIO\n",
    "\n",
    "data_ensemble_gene = StringIO(response.text)\n",
    "\n",
    "df_ensemble = pd.read_csv(data_ensemble_gene , sep=\"\\t\",header = None)\n",
    "\n",
    "# Display the first few rows of the dataframe\n",
    "print(df_ensemble.head())\n",
    "# Nice\n",
    "\n",
    "import numpy as np\n",
    "def return_ensemble_id(x):\n",
    "    \n",
    "    try:\n",
    "        return df_ensemble[df_ensemble[1]==x][0].values[0]\n",
    "    except: \n",
    "        return np.nan\n"
   ]
  },
  {
   "cell_type": "code",
   "execution_count": 3,
   "id": "2d97513d-50d3-4877-8124-a23d06806a35",
   "metadata": {},
   "outputs": [
    {
     "data": {
      "text/plain": [
       "'l = 0\\nfor j in tqdm(range(1,2)):\\n    for i in os.listdir(\\'../../preprocessed_data/inhibitory_neuron/split_chunks/\\'):\\n        try:\\n            if i.split(\\'.\\')[1] == \\'pkl\\':\\n                print(i)\\n                pickle_file_path = \\'../../preprocessed_data/inhibitory_neuron/split_chunks/\\' + i\\n                if l == 0: \\n                    data = pd.read_pickle(pickle_file_path)\\n                    # to load data in the RAM (not possible to load all data once)\\n                    selected_columns = np.random.choice(data.columns, size=int(len(data.columns)*0.5), replace=False)\\n                    data = data[selected_columns]\\n                else:\\n                    df = pd.read_pickle(pickle_file_path)\\n                    df_selected = df[selected_columns] # selected columns coming from first time loaded data\\n                    data = pd.concat([data,df_selected],axis = 0)\\n                \\n                print(\"Pickle file has been loaded into a DataFrame:\")\\n                l = l + 1\\n                \\n        except:\\n            continue   '"
      ]
     },
     "execution_count": 3,
     "metadata": {},
     "output_type": "execute_result"
    }
   ],
   "source": [
    "'''l = 0\n",
    "for j in tqdm(range(1,2)):\n",
    "    for i in os.listdir('../../preprocessed_data/inhibitory_neuron/split_chunks/'):\n",
    "        try:\n",
    "            if i.split('.')[1] == 'pkl':\n",
    "                print(i)\n",
    "                pickle_file_path = '../../preprocessed_data/inhibitory_neuron/split_chunks/' + i\n",
    "                if l == 0: \n",
    "                    data = pd.read_pickle(pickle_file_path)\n",
    "                    # to load data in the RAM (not possible to load all data once)\n",
    "                    selected_columns = np.random.choice(data.columns, size=int(len(data.columns)*0.5), replace=False)\n",
    "                    data = data[selected_columns]\n",
    "                else:\n",
    "                    df = pd.read_pickle(pickle_file_path)\n",
    "                    df_selected = df[selected_columns] # selected columns coming from first time loaded data\n",
    "                    data = pd.concat([data,df_selected],axis = 0)\n",
    "                \n",
    "                print(\"Pickle file has been loaded into a DataFrame:\")\n",
    "                l = l + 1\n",
    "                \n",
    "        except:\n",
    "            continue   '''"
   ]
  },
  {
   "cell_type": "code",
   "execution_count": 5,
   "id": "879c4a3b-6b8a-4509-88f5-4173c988e3e8",
   "metadata": {},
   "outputs": [
    {
     "data": {
      "text/plain": [
       "'data'"
      ]
     },
     "execution_count": 5,
     "metadata": {},
     "output_type": "execute_result"
    }
   ],
   "source": [
    "'''data'''"
   ]
  },
  {
   "cell_type": "code",
   "execution_count": 6,
   "id": "19d631a7-35c0-4b9e-928d-451efd2842eb",
   "metadata": {},
   "outputs": [
    {
     "data": {
      "text/plain": [
       "\"single_cell_metadata = pd.read_csv('../../preprocessed_data/inhibitory_neuron/metadata_inhibitory_neurons.csv', index_col = 0)\\n        \\nsingle_cell_metadata = single_cell_metadata[single_cell_metadata.clinical_pathological_AD != 'False']\\nsingle_cell_metadata = single_cell_metadata[single_cell_metadata.index.isin(data.columns)]\\ndata = data[single_cell_metadata.index.tolist()]\\ndata\""
      ]
     },
     "execution_count": 6,
     "metadata": {},
     "output_type": "execute_result"
    }
   ],
   "source": [
    "'''single_cell_metadata = pd.read_csv('../../preprocessed_data/inhibitory_neuron/metadata_inhibitory_neurons.csv', index_col = 0)\n",
    "        \n",
    "single_cell_metadata = single_cell_metadata[single_cell_metadata.clinical_pathological_AD != 'False']\n",
    "single_cell_metadata = single_cell_metadata[single_cell_metadata.index.isin(data.columns)]\n",
    "data = data[single_cell_metadata.index.tolist()]\n",
    "data'''"
   ]
  },
  {
   "cell_type": "code",
   "execution_count": 7,
   "id": "a3419570-4fb7-4bc1-9f86-8b5e500e4579",
   "metadata": {},
   "outputs": [
    {
     "data": {
      "text/plain": [
       "\"'data\\n\\nx = data.reset_index()['index'].apply(return_ensemble_id)\\nx[0:10]\\n#data['ensemble_gene_name'] = x.tolist(\""
      ]
     },
     "execution_count": 7,
     "metadata": {},
     "output_type": "execute_result"
    }
   ],
   "source": [
    "''''data\n",
    "\n",
    "x = data.reset_index()['index'].apply(return_ensemble_id)\n",
    "x[0:10]\n",
    "#data['ensemble_gene_name'] = x.tolist('''\n",
    "#data = data.dropna()"
   ]
  },
  {
   "cell_type": "code",
   "execution_count": 8,
   "id": "ead4cb6a-667c-49b1-b0d6-fad97b625b60",
   "metadata": {},
   "outputs": [
    {
     "name": "stderr",
     "output_type": "stream",
     "text": [
      "  0%|                                                                                                                                                                                                                                                                                                                                                | 0/10 [00:00<?, ?it/s]"
     ]
    },
    {
     "name": "stdout",
     "output_type": "stream",
     "text": [
      "inhibitory_neurons_mat_chunk_2.pkl\n",
      "Pickle file has been loaded into a DataFrame:\n",
      "inhibitory_neurons_mat_chunk_3.pkl\n",
      "Pickle file has been loaded into a DataFrame:\n",
      "inhibitory_neurons_mat_chunk_13.pkl\n",
      "Pickle file has been loaded into a DataFrame:\n",
      "inhibitory_neurons_mat_chunk_9.pkl\n",
      "Pickle file has been loaded into a DataFrame:\n",
      "inhibitory_neurons_mat_chunk_1.pkl\n",
      "Pickle file has been loaded into a DataFrame:\n",
      "inhibitory_neurons_mat_chunk_5.pkl\n",
      "Pickle file has been loaded into a DataFrame:\n",
      "inhibitory_neurons_mat_chunk_6.pkl\n",
      "Pickle file has been loaded into a DataFrame:\n",
      "inhibitory_neurons_mat_chunk_16.pkl\n",
      "Pickle file has been loaded into a DataFrame:\n",
      "inhibitory_neurons_mat_chunk_11.pkl\n",
      "Pickle file has been loaded into a DataFrame:\n",
      "inhibitory_neurons_mat_chunk_14.pkl\n",
      "Pickle file has been loaded into a DataFrame:\n",
      "inhibitory_neurons_mat_chunk_7.pkl\n",
      "Pickle file has been loaded into a DataFrame:\n",
      "inhibitory_neurons_mat_chunk_4.pkl\n",
      "Pickle file has been loaded into a DataFrame:\n",
      "inhibitory_neurons_mat_chunk_15.pkl\n",
      "Pickle file has been loaded into a DataFrame:\n",
      "inhibitory_neurons_mat_chunk_12.pkl\n",
      "Pickle file has been loaded into a DataFrame:\n",
      "inhibitory_neurons_mat_chunk_8.pkl\n",
      "Pickle file has been loaded into a DataFrame:\n",
      "inhibitory_neurons_mat_chunk_10.pkl\n",
      "Pickle file has been loaded into a DataFrame:\n",
      "inhibitory_neurons_mat_chunk_17.pkl\n",
      "Pickle file has been loaded into a DataFrame:\n"
     ]
    },
    {
     "name": "stderr",
     "output_type": "stream",
     "text": [
      " 10%|████████████████████████████████▋                                                                                                                                                                                                                                                                                                      | 1/10 [03:15<29:18, 195.41s/it]"
     ]
    },
    {
     "name": "stdout",
     "output_type": "stream",
     "text": [
      "inhibitory_neurons_mat_chunk_2.pkl\n",
      "Pickle file has been loaded into a DataFrame:\n",
      "inhibitory_neurons_mat_chunk_3.pkl\n",
      "Pickle file has been loaded into a DataFrame:\n",
      "inhibitory_neurons_mat_chunk_13.pkl\n",
      "Pickle file has been loaded into a DataFrame:\n",
      "inhibitory_neurons_mat_chunk_9.pkl\n",
      "Pickle file has been loaded into a DataFrame:\n",
      "inhibitory_neurons_mat_chunk_1.pkl\n",
      "Pickle file has been loaded into a DataFrame:\n",
      "inhibitory_neurons_mat_chunk_5.pkl\n",
      "Pickle file has been loaded into a DataFrame:\n",
      "inhibitory_neurons_mat_chunk_6.pkl\n",
      "Pickle file has been loaded into a DataFrame:\n",
      "inhibitory_neurons_mat_chunk_16.pkl\n",
      "Pickle file has been loaded into a DataFrame:\n",
      "inhibitory_neurons_mat_chunk_11.pkl\n",
      "Pickle file has been loaded into a DataFrame:\n",
      "inhibitory_neurons_mat_chunk_14.pkl\n",
      "Pickle file has been loaded into a DataFrame:\n",
      "inhibitory_neurons_mat_chunk_7.pkl\n",
      "Pickle file has been loaded into a DataFrame:\n",
      "inhibitory_neurons_mat_chunk_4.pkl\n",
      "Pickle file has been loaded into a DataFrame:\n",
      "inhibitory_neurons_mat_chunk_15.pkl\n",
      "Pickle file has been loaded into a DataFrame:\n",
      "inhibitory_neurons_mat_chunk_12.pkl\n",
      "Pickle file has been loaded into a DataFrame:\n",
      "inhibitory_neurons_mat_chunk_8.pkl\n",
      "Pickle file has been loaded into a DataFrame:\n",
      "inhibitory_neurons_mat_chunk_10.pkl\n",
      "Pickle file has been loaded into a DataFrame:\n",
      "inhibitory_neurons_mat_chunk_17.pkl\n",
      "Pickle file has been loaded into a DataFrame:\n"
     ]
    },
    {
     "name": "stderr",
     "output_type": "stream",
     "text": [
      " 20%|█████████████████████████████████████████████████████████████████▍                                                                                                                                                                                                                                                                     | 2/10 [06:31<26:04, 195.57s/it]"
     ]
    },
    {
     "name": "stdout",
     "output_type": "stream",
     "text": [
      "inhibitory_neurons_mat_chunk_2.pkl\n",
      "Pickle file has been loaded into a DataFrame:\n",
      "inhibitory_neurons_mat_chunk_3.pkl\n",
      "Pickle file has been loaded into a DataFrame:\n",
      "inhibitory_neurons_mat_chunk_13.pkl\n",
      "Pickle file has been loaded into a DataFrame:\n",
      "inhibitory_neurons_mat_chunk_9.pkl\n",
      "Pickle file has been loaded into a DataFrame:\n",
      "inhibitory_neurons_mat_chunk_1.pkl\n",
      "Pickle file has been loaded into a DataFrame:\n",
      "inhibitory_neurons_mat_chunk_5.pkl\n",
      "Pickle file has been loaded into a DataFrame:\n",
      "inhibitory_neurons_mat_chunk_6.pkl\n",
      "Pickle file has been loaded into a DataFrame:\n",
      "inhibitory_neurons_mat_chunk_16.pkl\n",
      "Pickle file has been loaded into a DataFrame:\n",
      "inhibitory_neurons_mat_chunk_11.pkl\n",
      "Pickle file has been loaded into a DataFrame:\n",
      "inhibitory_neurons_mat_chunk_14.pkl\n",
      "Pickle file has been loaded into a DataFrame:\n",
      "inhibitory_neurons_mat_chunk_7.pkl\n",
      "Pickle file has been loaded into a DataFrame:\n",
      "inhibitory_neurons_mat_chunk_4.pkl\n",
      "Pickle file has been loaded into a DataFrame:\n",
      "inhibitory_neurons_mat_chunk_15.pkl\n",
      "Pickle file has been loaded into a DataFrame:\n",
      "inhibitory_neurons_mat_chunk_12.pkl\n",
      "Pickle file has been loaded into a DataFrame:\n",
      "inhibitory_neurons_mat_chunk_8.pkl\n",
      "Pickle file has been loaded into a DataFrame:\n",
      "inhibitory_neurons_mat_chunk_10.pkl\n",
      "Pickle file has been loaded into a DataFrame:\n",
      "inhibitory_neurons_mat_chunk_17.pkl\n",
      "Pickle file has been loaded into a DataFrame:\n"
     ]
    },
    {
     "name": "stderr",
     "output_type": "stream",
     "text": [
      " 30%|██████████████████████████████████████████████████████████████████████████████████████████████████                                                                                                                                                                                                                                     | 3/10 [09:48<22:55, 196.44s/it]"
     ]
    },
    {
     "name": "stdout",
     "output_type": "stream",
     "text": [
      "inhibitory_neurons_mat_chunk_2.pkl\n",
      "Pickle file has been loaded into a DataFrame:\n",
      "inhibitory_neurons_mat_chunk_3.pkl\n",
      "Pickle file has been loaded into a DataFrame:\n",
      "inhibitory_neurons_mat_chunk_13.pkl\n",
      "Pickle file has been loaded into a DataFrame:\n",
      "inhibitory_neurons_mat_chunk_9.pkl\n",
      "Pickle file has been loaded into a DataFrame:\n",
      "inhibitory_neurons_mat_chunk_1.pkl\n",
      "Pickle file has been loaded into a DataFrame:\n",
      "inhibitory_neurons_mat_chunk_5.pkl\n",
      "Pickle file has been loaded into a DataFrame:\n",
      "inhibitory_neurons_mat_chunk_6.pkl\n",
      "Pickle file has been loaded into a DataFrame:\n",
      "inhibitory_neurons_mat_chunk_16.pkl\n",
      "Pickle file has been loaded into a DataFrame:\n",
      "inhibitory_neurons_mat_chunk_11.pkl\n",
      "Pickle file has been loaded into a DataFrame:\n",
      "inhibitory_neurons_mat_chunk_14.pkl\n",
      "Pickle file has been loaded into a DataFrame:\n",
      "inhibitory_neurons_mat_chunk_7.pkl\n",
      "Pickle file has been loaded into a DataFrame:\n",
      "inhibitory_neurons_mat_chunk_4.pkl\n",
      "Pickle file has been loaded into a DataFrame:\n",
      "inhibitory_neurons_mat_chunk_15.pkl\n",
      "Pickle file has been loaded into a DataFrame:\n",
      "inhibitory_neurons_mat_chunk_12.pkl\n",
      "Pickle file has been loaded into a DataFrame:\n",
      "inhibitory_neurons_mat_chunk_8.pkl\n",
      "Pickle file has been loaded into a DataFrame:\n",
      "inhibitory_neurons_mat_chunk_10.pkl\n",
      "Pickle file has been loaded into a DataFrame:\n",
      "inhibitory_neurons_mat_chunk_17.pkl\n",
      "Pickle file has been loaded into a DataFrame:\n"
     ]
    },
    {
     "name": "stderr",
     "output_type": "stream",
     "text": [
      " 40%|██████████████████████████████████████████████████████████████████████████████████████████████████████████████████████████████████▊                                                                                                                                                                                                    | 4/10 [13:11<19:53, 198.88s/it]"
     ]
    },
    {
     "name": "stdout",
     "output_type": "stream",
     "text": [
      "inhibitory_neurons_mat_chunk_2.pkl\n",
      "Pickle file has been loaded into a DataFrame:\n",
      "inhibitory_neurons_mat_chunk_3.pkl\n",
      "Pickle file has been loaded into a DataFrame:\n",
      "inhibitory_neurons_mat_chunk_13.pkl\n",
      "Pickle file has been loaded into a DataFrame:\n",
      "inhibitory_neurons_mat_chunk_9.pkl\n",
      "Pickle file has been loaded into a DataFrame:\n",
      "inhibitory_neurons_mat_chunk_1.pkl\n",
      "Pickle file has been loaded into a DataFrame:\n",
      "inhibitory_neurons_mat_chunk_5.pkl\n",
      "Pickle file has been loaded into a DataFrame:\n",
      "inhibitory_neurons_mat_chunk_6.pkl\n",
      "Pickle file has been loaded into a DataFrame:\n",
      "inhibitory_neurons_mat_chunk_16.pkl\n",
      "Pickle file has been loaded into a DataFrame:\n",
      "inhibitory_neurons_mat_chunk_11.pkl\n",
      "Pickle file has been loaded into a DataFrame:\n",
      "inhibitory_neurons_mat_chunk_14.pkl\n",
      "Pickle file has been loaded into a DataFrame:\n",
      "inhibitory_neurons_mat_chunk_7.pkl\n",
      "Pickle file has been loaded into a DataFrame:\n",
      "inhibitory_neurons_mat_chunk_4.pkl\n",
      "Pickle file has been loaded into a DataFrame:\n",
      "inhibitory_neurons_mat_chunk_15.pkl\n",
      "Pickle file has been loaded into a DataFrame:\n",
      "inhibitory_neurons_mat_chunk_12.pkl\n",
      "Pickle file has been loaded into a DataFrame:\n",
      "inhibitory_neurons_mat_chunk_8.pkl\n",
      "Pickle file has been loaded into a DataFrame:\n",
      "inhibitory_neurons_mat_chunk_10.pkl\n",
      "Pickle file has been loaded into a DataFrame:\n",
      "inhibitory_neurons_mat_chunk_17.pkl\n",
      "Pickle file has been loaded into a DataFrame:\n"
     ]
    },
    {
     "name": "stderr",
     "output_type": "stream",
     "text": [
      " 50%|███████████████████████████████████████████████████████████████████████████████████████████████████████████████████████████████████████████████████████████████████▌                                                                                                                                                                   | 5/10 [16:27<16:29, 197.93s/it]"
     ]
    },
    {
     "name": "stdout",
     "output_type": "stream",
     "text": [
      "inhibitory_neurons_mat_chunk_2.pkl\n",
      "Pickle file has been loaded into a DataFrame:\n",
      "inhibitory_neurons_mat_chunk_3.pkl\n",
      "Pickle file has been loaded into a DataFrame:\n",
      "inhibitory_neurons_mat_chunk_13.pkl\n",
      "Pickle file has been loaded into a DataFrame:\n",
      "inhibitory_neurons_mat_chunk_9.pkl\n",
      "Pickle file has been loaded into a DataFrame:\n",
      "inhibitory_neurons_mat_chunk_1.pkl\n",
      "Pickle file has been loaded into a DataFrame:\n",
      "inhibitory_neurons_mat_chunk_5.pkl\n",
      "Pickle file has been loaded into a DataFrame:\n",
      "inhibitory_neurons_mat_chunk_6.pkl\n",
      "Pickle file has been loaded into a DataFrame:\n",
      "inhibitory_neurons_mat_chunk_16.pkl\n",
      "Pickle file has been loaded into a DataFrame:\n",
      "inhibitory_neurons_mat_chunk_11.pkl\n",
      "Pickle file has been loaded into a DataFrame:\n",
      "inhibitory_neurons_mat_chunk_14.pkl\n",
      "Pickle file has been loaded into a DataFrame:\n",
      "inhibitory_neurons_mat_chunk_7.pkl\n",
      "Pickle file has been loaded into a DataFrame:\n",
      "inhibitory_neurons_mat_chunk_4.pkl\n",
      "Pickle file has been loaded into a DataFrame:\n",
      "inhibitory_neurons_mat_chunk_15.pkl\n",
      "Pickle file has been loaded into a DataFrame:\n",
      "inhibitory_neurons_mat_chunk_12.pkl\n",
      "Pickle file has been loaded into a DataFrame:\n",
      "inhibitory_neurons_mat_chunk_8.pkl\n",
      "Pickle file has been loaded into a DataFrame:\n",
      "inhibitory_neurons_mat_chunk_10.pkl\n",
      "Pickle file has been loaded into a DataFrame:\n",
      "inhibitory_neurons_mat_chunk_17.pkl\n",
      "Pickle file has been loaded into a DataFrame:\n"
     ]
    },
    {
     "name": "stderr",
     "output_type": "stream",
     "text": [
      " 60%|████████████████████████████████████████████████████████████████████████████████████████████████████████████████████████████████████████████████████████████████████████████████████████████████████▏                                                                                                                                  | 6/10 [20:00<13:31, 202.95s/it]"
     ]
    },
    {
     "name": "stdout",
     "output_type": "stream",
     "text": [
      "inhibitory_neurons_mat_chunk_2.pkl\n",
      "Pickle file has been loaded into a DataFrame:\n",
      "inhibitory_neurons_mat_chunk_3.pkl\n",
      "Pickle file has been loaded into a DataFrame:\n",
      "inhibitory_neurons_mat_chunk_13.pkl\n",
      "Pickle file has been loaded into a DataFrame:\n",
      "inhibitory_neurons_mat_chunk_9.pkl\n",
      "Pickle file has been loaded into a DataFrame:\n",
      "inhibitory_neurons_mat_chunk_1.pkl\n",
      "Pickle file has been loaded into a DataFrame:\n",
      "inhibitory_neurons_mat_chunk_5.pkl\n",
      "Pickle file has been loaded into a DataFrame:\n",
      "inhibitory_neurons_mat_chunk_6.pkl\n",
      "Pickle file has been loaded into a DataFrame:\n",
      "inhibitory_neurons_mat_chunk_16.pkl\n",
      "Pickle file has been loaded into a DataFrame:\n",
      "inhibitory_neurons_mat_chunk_11.pkl\n",
      "Pickle file has been loaded into a DataFrame:\n",
      "inhibitory_neurons_mat_chunk_14.pkl\n",
      "Pickle file has been loaded into a DataFrame:\n",
      "inhibitory_neurons_mat_chunk_7.pkl\n",
      "Pickle file has been loaded into a DataFrame:\n",
      "inhibitory_neurons_mat_chunk_4.pkl\n",
      "Pickle file has been loaded into a DataFrame:\n",
      "inhibitory_neurons_mat_chunk_15.pkl\n",
      "Pickle file has been loaded into a DataFrame:\n",
      "inhibitory_neurons_mat_chunk_12.pkl\n",
      "Pickle file has been loaded into a DataFrame:\n",
      "inhibitory_neurons_mat_chunk_8.pkl\n",
      "Pickle file has been loaded into a DataFrame:\n",
      "inhibitory_neurons_mat_chunk_10.pkl\n",
      "Pickle file has been loaded into a DataFrame:\n",
      "inhibitory_neurons_mat_chunk_17.pkl\n",
      "Pickle file has been loaded into a DataFrame:\n"
     ]
    },
    {
     "name": "stderr",
     "output_type": "stream",
     "text": [
      " 70%|████████████████████████████████████████████████████████████████████████████████████████████████████████████████████████████████████████████████████████████████████████████████████████████████████████████████████████████████████▉                                                                                                  | 7/10 [23:29<10:15, 205.17s/it]"
     ]
    },
    {
     "name": "stdout",
     "output_type": "stream",
     "text": [
      "inhibitory_neurons_mat_chunk_2.pkl\n",
      "Pickle file has been loaded into a DataFrame:\n",
      "inhibitory_neurons_mat_chunk_3.pkl\n",
      "Pickle file has been loaded into a DataFrame:\n",
      "inhibitory_neurons_mat_chunk_13.pkl\n",
      "Pickle file has been loaded into a DataFrame:\n",
      "inhibitory_neurons_mat_chunk_9.pkl\n",
      "Pickle file has been loaded into a DataFrame:\n",
      "inhibitory_neurons_mat_chunk_1.pkl\n",
      "Pickle file has been loaded into a DataFrame:\n",
      "inhibitory_neurons_mat_chunk_5.pkl\n",
      "Pickle file has been loaded into a DataFrame:\n",
      "inhibitory_neurons_mat_chunk_6.pkl\n",
      "Pickle file has been loaded into a DataFrame:\n",
      "inhibitory_neurons_mat_chunk_16.pkl\n",
      "Pickle file has been loaded into a DataFrame:\n",
      "inhibitory_neurons_mat_chunk_11.pkl\n",
      "Pickle file has been loaded into a DataFrame:\n",
      "inhibitory_neurons_mat_chunk_14.pkl\n",
      "Pickle file has been loaded into a DataFrame:\n",
      "inhibitory_neurons_mat_chunk_7.pkl\n",
      "Pickle file has been loaded into a DataFrame:\n",
      "inhibitory_neurons_mat_chunk_4.pkl\n",
      "Pickle file has been loaded into a DataFrame:\n",
      "inhibitory_neurons_mat_chunk_15.pkl\n",
      "Pickle file has been loaded into a DataFrame:\n",
      "inhibitory_neurons_mat_chunk_12.pkl\n",
      "Pickle file has been loaded into a DataFrame:\n",
      "inhibitory_neurons_mat_chunk_8.pkl\n",
      "Pickle file has been loaded into a DataFrame:\n",
      "inhibitory_neurons_mat_chunk_10.pkl\n",
      "Pickle file has been loaded into a DataFrame:\n",
      "inhibitory_neurons_mat_chunk_17.pkl\n",
      "Pickle file has been loaded into a DataFrame:\n"
     ]
    },
    {
     "name": "stderr",
     "output_type": "stream",
     "text": [
      " 80%|█████████████████████████████████████████████████████████████████████████████████████████████████████████████████████████████████████████████████████████████████████████████████████████████████████████████████████████████████████████████████████████████████████▌                                                                 | 8/10 [27:07<06:58, 209.22s/it]"
     ]
    },
    {
     "name": "stdout",
     "output_type": "stream",
     "text": [
      "inhibitory_neurons_mat_chunk_2.pkl\n",
      "Pickle file has been loaded into a DataFrame:\n",
      "inhibitory_neurons_mat_chunk_3.pkl\n",
      "Pickle file has been loaded into a DataFrame:\n",
      "inhibitory_neurons_mat_chunk_13.pkl\n",
      "Pickle file has been loaded into a DataFrame:\n",
      "inhibitory_neurons_mat_chunk_9.pkl\n",
      "Pickle file has been loaded into a DataFrame:\n",
      "inhibitory_neurons_mat_chunk_1.pkl\n",
      "Pickle file has been loaded into a DataFrame:\n",
      "inhibitory_neurons_mat_chunk_5.pkl\n",
      "Pickle file has been loaded into a DataFrame:\n",
      "inhibitory_neurons_mat_chunk_6.pkl\n",
      "Pickle file has been loaded into a DataFrame:\n",
      "inhibitory_neurons_mat_chunk_16.pkl\n",
      "Pickle file has been loaded into a DataFrame:\n",
      "inhibitory_neurons_mat_chunk_11.pkl\n",
      "Pickle file has been loaded into a DataFrame:\n",
      "inhibitory_neurons_mat_chunk_14.pkl\n",
      "Pickle file has been loaded into a DataFrame:\n",
      "inhibitory_neurons_mat_chunk_7.pkl\n",
      "Pickle file has been loaded into a DataFrame:\n",
      "inhibitory_neurons_mat_chunk_4.pkl\n",
      "Pickle file has been loaded into a DataFrame:\n",
      "inhibitory_neurons_mat_chunk_15.pkl\n",
      "Pickle file has been loaded into a DataFrame:\n",
      "inhibitory_neurons_mat_chunk_12.pkl\n",
      "Pickle file has been loaded into a DataFrame:\n",
      "inhibitory_neurons_mat_chunk_8.pkl\n",
      "Pickle file has been loaded into a DataFrame:\n",
      "inhibitory_neurons_mat_chunk_10.pkl\n",
      "Pickle file has been loaded into a DataFrame:\n",
      "inhibitory_neurons_mat_chunk_17.pkl\n",
      "Pickle file has been loaded into a DataFrame:\n"
     ]
    },
    {
     "name": "stderr",
     "output_type": "stream",
     "text": [
      " 90%|██████████████████████████████████████████████████████████████████████████████████████████████████████████████████████████████████████████████████████████████████████████████████████████████████████████████████████████████████████████████████████████████████████████████████████████████████████▎                                | 9/10 [30:35<03:28, 208.74s/it]"
     ]
    },
    {
     "name": "stdout",
     "output_type": "stream",
     "text": [
      "inhibitory_neurons_mat_chunk_2.pkl\n",
      "Pickle file has been loaded into a DataFrame:\n",
      "inhibitory_neurons_mat_chunk_3.pkl\n",
      "Pickle file has been loaded into a DataFrame:\n",
      "inhibitory_neurons_mat_chunk_13.pkl\n",
      "Pickle file has been loaded into a DataFrame:\n",
      "inhibitory_neurons_mat_chunk_9.pkl\n",
      "Pickle file has been loaded into a DataFrame:\n",
      "inhibitory_neurons_mat_chunk_1.pkl\n",
      "Pickle file has been loaded into a DataFrame:\n",
      "inhibitory_neurons_mat_chunk_5.pkl\n",
      "Pickle file has been loaded into a DataFrame:\n",
      "inhibitory_neurons_mat_chunk_6.pkl\n",
      "Pickle file has been loaded into a DataFrame:\n",
      "inhibitory_neurons_mat_chunk_16.pkl\n",
      "Pickle file has been loaded into a DataFrame:\n",
      "inhibitory_neurons_mat_chunk_11.pkl\n",
      "Pickle file has been loaded into a DataFrame:\n",
      "inhibitory_neurons_mat_chunk_14.pkl\n",
      "Pickle file has been loaded into a DataFrame:\n",
      "inhibitory_neurons_mat_chunk_7.pkl\n",
      "Pickle file has been loaded into a DataFrame:\n",
      "inhibitory_neurons_mat_chunk_4.pkl\n",
      "Pickle file has been loaded into a DataFrame:\n",
      "inhibitory_neurons_mat_chunk_15.pkl\n",
      "Pickle file has been loaded into a DataFrame:\n",
      "inhibitory_neurons_mat_chunk_12.pkl\n",
      "Pickle file has been loaded into a DataFrame:\n",
      "inhibitory_neurons_mat_chunk_8.pkl\n",
      "Pickle file has been loaded into a DataFrame:\n",
      "inhibitory_neurons_mat_chunk_10.pkl\n",
      "Pickle file has been loaded into a DataFrame:\n",
      "inhibitory_neurons_mat_chunk_17.pkl\n",
      "Pickle file has been loaded into a DataFrame:\n"
     ]
    },
    {
     "name": "stderr",
     "output_type": "stream",
     "text": [
      "100%|██████████████████████████████████████████████████████████████████████████████████████████████████████████████████████████████████████████████████████████████████████████████████████████████████████████████████████████████████████████████████████████████████████████████████████████████████████████████████████████████████████| 10/10 [34:11<00:00, 205.13s/it]\n"
     ]
    }
   ],
   "source": [
    "import pickle\n",
    "import numpy as np\n",
    "from sklearn.decomposition import PCA\n",
    "from sklearn.preprocessing import StandardScaler\n",
    "import matplotlib.pyplot as plt\n",
    "import seaborn as sns\n",
    "from tqdm import tqdm\n",
    "# Load the DataFrame from the pickle file\n",
    "#data = pd.read_csv('../preprocessed_data/mat.csv')\n",
    "\n",
    "for j in tqdm(range(1,11)):\n",
    "    l = 0\n",
    "    for i in os.listdir('../../preprocessed_data/inhibitory_neuron/split_chunks/'):\n",
    "        try:\n",
    "            if i.split('.')[1] == 'pkl':\n",
    "                print(i)\n",
    "                pickle_file_path = '../../preprocessed_data/inhibitory_neuron/split_chunks/' + i\n",
    "                if l == 0: \n",
    "                    data = pd.read_pickle(pickle_file_path)\n",
    "                    # to load data in the RAM (not possible to load all data once)\n",
    "                    selected_columns = np.random.choice(data.columns, size=int(len(data.columns)*0.5), replace=False)\n",
    "                    data = data[selected_columns]\n",
    "                else:\n",
    "                    df = pd.read_pickle(pickle_file_path)\n",
    "                    df_selected = df[selected_columns] # selected columns coming from first time loaded data\n",
    "                    data = pd.concat([data,df_selected],axis = 0)\n",
    "                \n",
    "                print(\"Pickle file has been loaded into a DataFrame:\")\n",
    "                l = l + 1\n",
    "               \n",
    "        except:\n",
    "            continue\n",
    "\n",
    "    single_cell_metadata = pd.read_csv('../../preprocessed_data/inhibitory_neuron/metadata_inhibitory_neurons.csv', index_col = 0)\n",
    "        \n",
    "    single_cell_metadata = single_cell_metadata[single_cell_metadata.clinical_pathological_AD != 'False']\n",
    "    single_cell_metadata = single_cell_metadata[single_cell_metadata.index.isin(data.columns)]\n",
    "    data = data[single_cell_metadata.index.tolist()]\n",
    "    x = data.reset_index()['index'].apply(return_ensemble_id)\n",
    "    \n",
    "    data['ensemble_gene_name'] = x.tolist()\n",
    "    data = data.dropna()\n",
    "        \n",
    "    data.set_index('ensemble_gene_name', inplace = True)\n",
    "    clinical_data = pd.read_csv('/12tb_dsk1/danish/preprocessed_data/clinical/clinical_single_cell.csv')\n",
    "    single_cell_metadata.reset_index(inplace = True)\n",
    "    single_cell_metadata = pd.merge(single_cell_metadata,clinical_data[['subject','pmi_df2','age_death','msex','educ','age_first_ad_dx','cogdx','ceradsc','braaksc','apoe_genotype']], on = 'subject', how = 'left')\n",
    "    single_cell_metadata = single_cell_metadata.drop(columns=['apoe_genotype'])         \n",
    "    single_cell_metadata = single_cell_metadata[~single_cell_metadata.pmi_df2.isna()]\n",
    "    single_cell_metadata.drop_duplicates(inplace = True)\n",
    "    data = data.T\n",
    "\n",
    "    covariates_dataframe = pd.merge(data.reset_index()['index'],single_cell_metadata[['cell_id','pmi_df2','age_death','msex','educ','cogdx','ceradsc','braaksc',\n",
    "                                                                                                ]] , left_on='index', right_on='cell_id', how='inner')\n",
    "    data = data[data.index.isin(covariates_dataframe.cell_id)]\n",
    "    data = data.sort_index()\n",
    "    try:\n",
    "        covariates_dataframe.drop(columns=['index'],inplace = True)\n",
    "    except:\n",
    "        print('no such columns, probably I am running this snippet second time')\n",
    "    covariates_dataframe.drop_duplicates(inplace = True)\n",
    "    covariates_dataframe.set_index('cell_id', inplace = True)\n",
    "    covariates_dataframe = covariates_dataframe.sort_index()\n",
    "    data = data.sort_index()\n",
    "\n",
    "    scaler = StandardScaler()\n",
    "    scaled_data = scaler.fit_transform(data)\n",
    "            \n",
    "            # Perform PCA\n",
    "    pca = PCA(n_components=100)  # Choose number of components\n",
    "    principal_components = pca.fit_transform(scaled_data)\n",
    "            \n",
    "    df_explained_variance_ratio = pd.DataFrame(pca.explained_variance_ratio_, columns=['Explained Variance Ratio'])\n",
    "    \n",
    "    loadings = pca.components_\n",
    "    loadings_df = pd.DataFrame(loadings.T, columns=[f'PC{i+1}' for i in range(loadings.shape[0])], index=data.columns)\n",
    "\n",
    "    loadings_df.to_csv(f'../../../../usman/Single_Cell_Microglia_Project/results/inhibitory_neuron/loadings_pca_output_{j}.txt', sep='\\t')\n",
    "    df_explained_variance_ratio.to_csv(f'../../../../usman/Single_Cell_Microglia_Project/results/inhibitory_neuron/pca_explained_variance_{j}.txt', sep='\\t')    "
   ]
  },
  {
   "cell_type": "code",
   "execution_count": 9,
   "id": "e35c7ec9-0a0d-4ead-b6c7-9969a19813c8",
   "metadata": {},
   "outputs": [],
   "source": [
    "        # Assuming merged_data_clinical_pathological is your data matrix (samples x features)\n",
    "        # and labels is a list/array of labels corresponding to each sample\n",
    "        \n",
    "        # Standardize the data (important for PCA)\n",
    "\n",
    "\n",
    "\n",
    "        #correlation_matrix = np.corrcoef(principal_components.T, covariates_dataframe.T)[:principal_components.shape[1], principal_components.shape[1]:]\n",
    "        #print(loadings_df)\n",
    "        \n",
    "        #fig, ax1 = plt.subplots(figsize=(12, 6))\n",
    "        \n",
    "        # Plot Heatmap\n",
    "        #sns.heatmap(correlation_matrix, annot=True, cmap='coolwarm', fmt='.2f', xticklabels=covariates_dataframe.columns,\n",
    "                    #yticklabels=[f'PC {i+1}' for i in range(principal_components.shape[1])], ax=ax1)\n",
    "        #ax1.set_title('Correlation between PCs and Covariates') \n",
    "        #plt.savefig(f'../../../../usman/Single_Cell_Microglia_Project/results/inhibitory_neuron/correlation_heatmap_{j}.png')\n"
   ]
  },
  {
   "cell_type": "code",
   "execution_count": null,
   "id": "ac936036-da6c-418b-b34d-aa59ca562bd1",
   "metadata": {},
   "outputs": [],
   "source": []
  }
 ],
 "metadata": {
  "kernelspec": {
   "display_name": "Python 3 (ipykernel)",
   "language": "python",
   "name": "python3"
  },
  "language_info": {
   "codemirror_mode": {
    "name": "ipython",
    "version": 3
   },
   "file_extension": ".py",
   "mimetype": "text/x-python",
   "name": "python",
   "nbconvert_exporter": "python",
   "pygments_lexer": "ipython3",
   "version": "3.12.2"
  }
 },
 "nbformat": 4,
 "nbformat_minor": 5
}
