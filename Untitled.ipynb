{
 "cells": [
  {
   "cell_type": "code",
   "execution_count": 27,
   "id": "0d91bfc0-9a4b-411e-8d09-f9c92a15500e",
   "metadata": {},
   "outputs": [],
   "source": [
    "import yaml\n",
    "import argparse\n",
    "0\n",
    "\n",
    "with open('config.yml', 'r') as file:\n",
    "    config = yaml.safe_load(file)\n",
    "\n",
    "    \n",
    "\n"
   ]
  },
  {
   "cell_type": "code",
   "execution_count": 28,
   "id": "57287675-d559-4111-b078-53e3217389e7",
   "metadata": {},
   "outputs": [
    {
     "name": "stdout",
     "output_type": "stream",
     "text": [
      "{'dataset': {'train': '/12tb_dsk1/danish/Pytorch_Biologically_Informed_Neural_Network/Preprocessed_data/excitory_neurons/Exc_L2-3_CBLN2_LINC02306/train.csv', 'test': '/12tb_dsk1/danish/Pytorch_Biologically_Informed_Neural_Network/Preprocessed_data/excitory_neurons/Exc_L2-3_CBLN2_LINC02306/test.csv', 'val': '/12tb_dsk1/danish/Pytorch_Biologically_Informed_Neural_Network/Preprocessed_data/excitory_neurons/Exc_L2-3_CBLN2_LINC02306/val.csv', 'y_train': '/12tb_dsk1/danish/Pytorch_Biologically_Informed_Neural_Network/Preprocessed_data/excitory_neurons/Exc_L2-3_CBLN2_LINC02306/y_train.csv', 'y_test': '/12tb_dsk1/danish/Pytorch_Biologically_Informed_Neural_Network/Preprocessed_data/excitory_neurons/Exc_L2-3_CBLN2_LINC02306/y_test.csv', 'y_val': '/12tb_dsk1/danish/Pytorch_Biologically_Informed_Neural_Network/Preprocessed_data/excitory_neurons/Exc_L2-3_CBLN2_LINC02306/y_val.csv'}, 'model_output': {'model_save_dir': '/12tb_dsk1/danish/Pytorch_Biologically_Informed_Neural_Network/model_save/excitory_neurons/Exc_L2-3_CBLN2_LINC02306/'}, 'train': {'epochs': 100, 'learning_rate': 0.001, 'weight_decay': 0.0001, 'batch_size': 2048}, 'gene_expression': {'highly_expressed_threshold': 0.95, 'lowly_expressed_threshold': 0.95, 'normalization': True, 'marker': True, 'print_information': True}, 'pathways_network': {'species': 'human', 'n_hidden_layer': 5, 'pathway_relation': '../../usman/CellTICS/reactome/ReactomePathwaysRelation.txt', 'pathway_names': '../../usman/CellTICS/reactome/ReactomePathways.txt', 'ensemble_pathway_relation': '../../usman/CellTICS/reactome/Ensembl2Reactome_All_Levels.txt', 'datatype': 'diagnosis'}}\n"
     ]
    }
   ],
   "source": [
    "print(config)"
   ]
  },
  {
   "cell_type": "code",
   "execution_count": 29,
   "id": "4484af5f-3627-4c76-9fca-ac240f6e4043",
   "metadata": {},
   "outputs": [
    {
     "name": "stdout",
     "output_type": "stream",
     "text": [
      "/12tb_dsk1/danish/Pytorch_Biologically_Informed_Neural_Network\n"
     ]
    }
   ],
   "source": [
    "!pwd"
   ]
  },
  {
   "cell_type": "code",
   "execution_count": 30,
   "id": "f36b1332-961f-4dc0-af7a-b04e45258038",
   "metadata": {},
   "outputs": [
    {
     "data": {
      "text/plain": [
       "{'highly_expressed_threshold': 0.95,\n",
       " 'lowly_expressed_threshold': 0.95,\n",
       " 'normalization': True,\n",
       " 'marker': True,\n",
       " 'print_information': True}"
      ]
     },
     "execution_count": 30,
     "metadata": {},
     "output_type": "execute_result"
    }
   ],
   "source": [
    "config['gene_expression']"
   ]
  },
  {
   "cell_type": "code",
   "execution_count": 31,
   "id": "b2a7c842-495c-4381-85f7-780ffc30b62c",
   "metadata": {},
   "outputs": [
    {
     "data": {
      "text/plain": [
       "0.95"
      ]
     },
     "execution_count": 31,
     "metadata": {},
     "output_type": "execute_result"
    }
   ],
   "source": [
    "config['gene_expression']['highly_expressed_threshold']"
   ]
  },
  {
   "cell_type": "code",
   "execution_count": 32,
   "id": "a76033eb-41d8-4df1-a6a1-6d027bc7deae",
   "metadata": {},
   "outputs": [
    {
     "data": {
      "text/plain": [
       "{'species': 'human',\n",
       " 'n_hidden_layer': 5,\n",
       " 'pathway_relation': '../../usman/CellTICS/reactome/ReactomePathwaysRelation.txt',\n",
       " 'pathway_names': '../../usman/CellTICS/reactome/ReactomePathways.txt',\n",
       " 'ensemble_pathway_relation': '../../usman/CellTICS/reactome/Ensembl2Reactome_All_Levels.txt',\n",
       " 'datatype': 'diagnosis'}"
      ]
     },
     "execution_count": 32,
     "metadata": {},
     "output_type": "execute_result"
    }
   ],
   "source": [
    "config['pathways_network']"
   ]
  },
  {
   "cell_type": "code",
   "execution_count": 34,
   "id": "51da8b47-7303-4fcc-ad74-bfb17c6c7825",
   "metadata": {},
   "outputs": [
    {
     "data": {
      "text/plain": [
       "{'model_save_dir': '/12tb_dsk1/danish/Pytorch_Biologically_Informed_Neural_Network/model_save/excitory_neurons/Exc_L2-3_CBLN2_LINC02306/'}"
      ]
     },
     "execution_count": 34,
     "metadata": {},
     "output_type": "execute_result"
    }
   ],
   "source": [
    "config['model_output']"
   ]
  },
  {
   "cell_type": "code",
   "execution_count": 40,
   "id": "0b5ed05f-79c7-4187-9e9b-b95796404a88",
   "metadata": {},
   "outputs": [
    {
     "name": "stdout",
     "output_type": "stream",
     "text": [
      "2024_07_24_12_59_45\n"
     ]
    }
   ],
   "source": [
    "from datetime import datetime\n",
    "\n",
    "# Get the current date and time\n",
    "now = datetime.now()\n",
    "\n",
    "# Format the date as a string\n",
    "date_string = now.strftime(\"%Y-%m-%d\")\n",
    "\n",
    "from datetime import datetime\n",
    "\n",
    "# Get the current date and time\n",
    "now = datetime.now()\n",
    "\n",
    "# Format the date and time as a string\n",
    "datetime_string = now.strftime(\"%Y_%m_%d_%H_%M_%S\")\n",
    "\n",
    "print(datetime_string)\n"
   ]
  },
  {
   "cell_type": "code",
   "execution_count": null,
   "id": "7e7e3e19-9bb4-40a2-91c4-436a1919ba4e",
   "metadata": {},
   "outputs": [],
   "source": []
  }
 ],
 "metadata": {
  "kernelspec": {
   "display_name": "Python 3 (ipykernel)",
   "language": "python",
   "name": "python3"
  },
  "language_info": {
   "codemirror_mode": {
    "name": "ipython",
    "version": 3
   },
   "file_extension": ".py",
   "mimetype": "text/x-python",
   "name": "python",
   "nbconvert_exporter": "python",
   "pygments_lexer": "ipython3",
   "version": "3.12.2"
  }
 },
 "nbformat": 4,
 "nbformat_minor": 5
}
