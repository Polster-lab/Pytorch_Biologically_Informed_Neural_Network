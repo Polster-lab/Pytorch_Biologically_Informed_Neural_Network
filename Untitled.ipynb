{
 "cells": [
  {
   "cell_type": "code",
   "execution_count": 19,
   "id": "0d91bfc0-9a4b-411e-8d09-f9c92a15500e",
   "metadata": {},
   "outputs": [],
   "source": [
    "import yaml\n",
    "import argparse\n",
    "\n",
    "\n",
    "with open('config.yml', 'r') as file:\n",
    "    config = yaml.safe_load(file)\n",
    "\n",
    "    \n",
    "\n"
   ]
  },
  {
   "cell_type": "code",
   "execution_count": 20,
   "id": "57287675-d559-4111-b078-53e3217389e7",
   "metadata": {},
   "outputs": [
    {
     "name": "stdout",
     "output_type": "stream",
     "text": [
      "{'dataset': {'train': '/12tb_dsk1/danish/Pytorch_Biologically_Informed_Neural_Network/Preprocessed_data/excitory_neurons/Exc_L2-3_CBLN2_LINC02306/train.csv', 'test': '/12tb_dsk1/danish/Pytorch_Biologically_Informed_Neural_Network/Preprocessed_data/excitory_neurons/Exc_L2-3_CBLN2_LINC02306/test.csv', 'val': '/12tb_dsk1/danish/Pytorch_Biologically_Informed_Neural_Network/Preprocessed_data/excitory_neurons/Exc_L2-3_CBLN2_LINC02306/val.csv', 'y_train': '/12tb_dsk1/danish/Pytorch_Biologically_Informed_Neural_Network/Preprocessed_data/excitory_neurons/Exc_L2-3_CBLN2_LINC02306/y_train.csv', 'y_test': '/12tb_dsk1/danish/Pytorch_Biologically_Informed_Neural_Network/Preprocessed_data/excitory_neurons/Exc_L2-3_CBLN2_LINC02306/y_test.csv', 'y_val': '/12tb_dsk1/danish/Pytorch_Biologically_Informed_Neural_Network/Preprocessed_data/excitory_neurons/Exc_L2-3_CBLN2_LINC02306/y_val.csv'}, 'train': {'epochs': 100, 'learning_rate': 0.001, 'weight_decay': 0.0001, 'batch_size': 2048}, 'gene_expression': {'highly_expressed_threshold': 0.95, 'lowly_expressed_threshold': 0.95, 'normalization': True, 'marker': True, 'print_information': True}, 'pathways_network': {'species': 'human', 'n_hidden_layer': 5, 'pathway_relation': '../../usman/CellTICS/reactome/ReactomePathwaysRelation.txt', 'pathway_names': '../../usman/CellTICS/reactome/ReactomePathways.txt', 'ensemble_pathway_relation': '../../usman/CellTICS/reactome/Ensembl2Reactome_All_Levels.txt', 'datatype': 'diagnosis'}}\n"
     ]
    }
   ],
   "source": [
    "print(config)"
   ]
  },
  {
   "cell_type": "code",
   "execution_count": 13,
   "id": "c463ec12-5614-4af6-ae1d-f81229b1b79a",
   "metadata": {},
   "outputs": [
    {
     "ename": "KeyError",
     "evalue": "'database'",
     "output_type": "error",
     "traceback": [
      "\u001b[0;31m---------------------------------------------------------------------------\u001b[0m",
      "\u001b[0;31mKeyError\u001b[0m                                  Traceback (most recent call last)",
      "Cell \u001b[0;32mIn[13], line 2\u001b[0m\n\u001b[1;32m      1\u001b[0m \u001b[38;5;66;03m# Example usage of the loaded configuration\u001b[39;00m\n\u001b[0;32m----> 2\u001b[0m \u001b[38;5;28mprint\u001b[39m(\u001b[38;5;124m\"\u001b[39m\u001b[38;5;124mDatabase Host:\u001b[39m\u001b[38;5;124m\"\u001b[39m, \u001b[43mconfig\u001b[49m\u001b[43m[\u001b[49m\u001b[38;5;124;43m'\u001b[39;49m\u001b[38;5;124;43mdatabase\u001b[39;49m\u001b[38;5;124;43m'\u001b[39;49m\u001b[43m]\u001b[49m[\u001b[38;5;124m'\u001b[39m\u001b[38;5;124mhost\u001b[39m\u001b[38;5;124m'\u001b[39m])\n\u001b[1;32m      3\u001b[0m \u001b[38;5;28mprint\u001b[39m(\u001b[38;5;124m\"\u001b[39m\u001b[38;5;124mDatabase Port:\u001b[39m\u001b[38;5;124m\"\u001b[39m, config[\u001b[38;5;124m'\u001b[39m\u001b[38;5;124mdatabase\u001b[39m\u001b[38;5;124m'\u001b[39m][\u001b[38;5;124m'\u001b[39m\u001b[38;5;124mport\u001b[39m\u001b[38;5;124m'\u001b[39m])\n\u001b[1;32m      4\u001b[0m \u001b[38;5;28mprint\u001b[39m(\u001b[38;5;124m\"\u001b[39m\u001b[38;5;124mLogging Level:\u001b[39m\u001b[38;5;124m\"\u001b[39m, config[\u001b[38;5;124m'\u001b[39m\u001b[38;5;124mlogging\u001b[39m\u001b[38;5;124m'\u001b[39m][\u001b[38;5;124m'\u001b[39m\u001b[38;5;124mlevel\u001b[39m\u001b[38;5;124m'\u001b[39m])\n",
      "\u001b[0;31mKeyError\u001b[0m: 'database'"
     ]
    }
   ],
   "source": [
    "\n",
    "    # Example usage of the loaded configuration\n",
    "print(\"Database Host:\", config['database']['host'])\n",
    "print(\"Database Port:\", config['database']['port'])\n",
    "print(\"Logging Level:\", config['logging']['level'])\n",
    "print(\"Logging File:\", config['logging']['file'])"
   ]
  },
  {
   "cell_type": "code",
   "execution_count": 10,
   "id": "4484af5f-3627-4c76-9fca-ac240f6e4043",
   "metadata": {},
   "outputs": [
    {
     "name": "stdout",
     "output_type": "stream",
     "text": [
      "/12tb_dsk1/danish/Pytorch_Biologically_Informed_Neural_Network\n"
     ]
    }
   ],
   "source": [
    "!pwd"
   ]
  },
  {
   "cell_type": "code",
   "execution_count": 21,
   "id": "f36b1332-961f-4dc0-af7a-b04e45258038",
   "metadata": {},
   "outputs": [
    {
     "data": {
      "text/plain": [
       "{'highly_expressed_threshold': 0.95,\n",
       " 'lowly_expressed_threshold': 0.95,\n",
       " 'normalization': True,\n",
       " 'marker': True,\n",
       " 'print_information': True}"
      ]
     },
     "execution_count": 21,
     "metadata": {},
     "output_type": "execute_result"
    }
   ],
   "source": [
    "config['gene_expression']"
   ]
  },
  {
   "cell_type": "code",
   "execution_count": null,
   "id": "b2a7c842-495c-4381-85f7-780ffc30b62c",
   "metadata": {},
   "outputs": [],
   "source": [
    "config['gene_expression']['highly_expressed_threshold']"
   ]
  },
  {
   "cell_type": "code",
   "execution_count": 22,
   "id": "a76033eb-41d8-4df1-a6a1-6d027bc7deae",
   "metadata": {},
   "outputs": [
    {
     "data": {
      "text/plain": [
       "{'species': 'human',\n",
       " 'n_hidden_layer': 5,\n",
       " 'pathway_relation': '../../usman/CellTICS/reactome/ReactomePathwaysRelation.txt',\n",
       " 'pathway_names': '../../usman/CellTICS/reactome/ReactomePathways.txt',\n",
       " 'ensemble_pathway_relation': '../../usman/CellTICS/reactome/Ensembl2Reactome_All_Levels.txt',\n",
       " 'datatype': 'diagnosis'}"
      ]
     },
     "execution_count": 22,
     "metadata": {},
     "output_type": "execute_result"
    }
   ],
   "source": [
    "config['pathways_network']"
   ]
  },
  {
   "cell_type": "code",
   "execution_count": null,
   "id": "51da8b47-7303-4fcc-ad74-bfb17c6c7825",
   "metadata": {},
   "outputs": [],
   "source": []
  }
 ],
 "metadata": {
  "kernelspec": {
   "display_name": "Python 3 (ipykernel)",
   "language": "python",
   "name": "python3"
  },
  "language_info": {
   "codemirror_mode": {
    "name": "ipython",
    "version": 3
   },
   "file_extension": ".py",
   "mimetype": "text/x-python",
   "name": "python",
   "nbconvert_exporter": "python",
   "pygments_lexer": "ipython3",
   "version": "3.12.2"
  }
 },
 "nbformat": 4,
 "nbformat_minor": 5
}
