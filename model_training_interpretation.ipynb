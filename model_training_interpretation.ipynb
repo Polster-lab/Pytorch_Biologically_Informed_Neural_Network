{
 "cells": [
  {
   "cell_type": "code",
   "execution_count": 376,
   "id": "2a405eab-a0b4-44d5-bcd6-ba814b870c03",
   "metadata": {},
   "outputs": [],
   "source": [
    "import tensorflow as tf\n",
    "from gene_expression import *\n",
    "from pathway_hierarchy import *\n",
    "from utils import *\n",
    "import torch"
   ]
  },
  {
   "cell_type": "code",
   "execution_count": 377,
   "id": "2fb0cea0-3807-442e-8374-f4c7a4b49355",
   "metadata": {
    "scrolled": true
   },
   "outputs": [
    {
     "name": "stdout",
     "output_type": "stream",
     "text": [
      "{'dataset': {'train': '/12tb_dsk1/danish/Pytorch_Biologically_Informed_Neural_Network/Preprocessed_data/excitory_neurons/Exc_L2-3_CBLN2_LINC02306/train.csv', 'test': '/12tb_dsk1/danish/Pytorch_Biologically_Informed_Neural_Network/Preprocessed_data/excitory_neurons/Exc_L2-3_CBLN2_LINC02306/test.csv', 'val': '/12tb_dsk1/danish/Pytorch_Biologically_Informed_Neural_Network/Preprocessed_data/excitory_neurons/Exc_L2-3_CBLN2_LINC02306/val.csv', 'y_train': '/12tb_dsk1/danish/Pytorch_Biologically_Informed_Neural_Network/Preprocessed_data/excitory_neurons/Exc_L2-3_CBLN2_LINC02306/y_train.csv', 'y_test': '/12tb_dsk1/danish/Pytorch_Biologically_Informed_Neural_Network/Preprocessed_data/excitory_neurons/Exc_L2-3_CBLN2_LINC02306/y_test.csv', 'y_val': '/12tb_dsk1/danish/Pytorch_Biologically_Informed_Neural_Network/Preprocessed_data/excitory_neurons/Exc_L2-3_CBLN2_LINC02306/y_val.csv'}, 'model_output': {'model_save_dir': '/12tb_dsk1/danish/Pytorch_Biologically_Informed_Neural_Network/model_save/excitory_neurons/Exc_L2-3_CBLN2_LINC02306/'}, 'train': {'epochs': 50, 'learning_rate': 0.001, 'weight_decay': 0.0001, 'batch_size': 8192}, 'gene_expression': {'highly_expressed_threshold': 0.95, 'lowly_expressed_threshold': 0.95, 'normalization': True, 'marker': True, 'print_information': True}, 'pathways_network': {'species': 'human', 'n_hidden_layer': 3, 'pathway_relation': '../../usman/CellTICS/reactome/ReactomePathwaysRelation.txt', 'pathway_names': '../../usman/CellTICS/reactome/ReactomePathways.txt', 'ensemble_pathway_relation': '../../usman/CellTICS/reactome/Ensembl2Reactome_All_Levels.txt', 'datatype': 'diagnosis'}}\n",
      "Getting Marker Genes.......\n",
      "1125\n",
      "1125\n",
      "2250\n",
      "2250\n",
      "                    0                1\n",
      "0     ENSG00000101210  ENSG00000172270\n",
      "1     ENSG00000099622  ENSG00000141905\n",
      "2     ENSG00000105278  ENSG00000167658\n",
      "3     ENSG00000178951  ENSG00000089847\n",
      "4     ENSG00000141985  ENSG00000127663\n",
      "...               ...              ...\n",
      "1120  ENSG00000285395  ENSG00000103316\n",
      "1121  ENSG00000140740  ENSG00000284218\n",
      "1122  ENSG00000122254  ENSG00000103365\n",
      "1123  ENSG00000006116  ENSG00000182601\n",
      "1124  ENSG00000077235  ENSG00000171208\n",
      "\n",
      "[1125 rows x 2 columns]\n",
      "                    0                1\n",
      "0     ENSG00000101210  ENSG00000172270\n",
      "1     ENSG00000099622  ENSG00000141905\n",
      "2     ENSG00000105278  ENSG00000167658\n",
      "3     ENSG00000178951  ENSG00000089847\n",
      "4     ENSG00000141985  ENSG00000127663\n",
      "...               ...              ...\n",
      "1120  ENSG00000285395  ENSG00000103316\n",
      "1121  ENSG00000140740  ENSG00000284218\n",
      "1122  ENSG00000122254  ENSG00000103365\n",
      "1123  ENSG00000006116  ENSG00000182601\n",
      "1124  ENSG00000077235  ENSG00000171208\n",
      "\n",
      "[1125 rows x 2 columns]\n",
      "Getting Pathway Genes.........\n",
      "Getting Masking.........\n",
      "HSA\n"
     ]
    },
    {
     "name": "stderr",
     "output_type": "stream",
     "text": [
      "/home/anwer/.local/lib/python3.12/site-packages/torch/optim/lr_scheduler.py:28: UserWarning: The verbose parameter is deprecated. Please use get_last_lr() to access the learning rate.\n",
      "  warnings.warn(\"The verbose parameter is deprecated. Please use get_last_lr() \"\n"
     ]
    },
    {
     "name": "stdout",
     "output_type": "stream",
     "text": [
      "Training.........\n",
      "Current sub-neural network has 1 hidden layers.\n",
      "...\n"
     ]
    },
    {
     "name": "stderr",
     "output_type": "stream",
     "text": [
      "  2%|███▍                                                                                                                                                                         | 1/50 [00:00<00:18,  2.71it/s]"
     ]
    },
    {
     "name": "stdout",
     "output_type": "stream",
     "text": [
      "Epoch [1/50], Train Loss: 1.3804, Train_accuracy: 53.411430599929005, Val Loss: 0.6902, Val_accuracy: 53.439829605963794\n",
      "Model saved.\n"
     ]
    },
    {
     "name": "stderr",
     "output_type": "stream",
     "text": [
      "  4%|██████▉                                                                                                                                                                      | 2/50 [00:01<00:36,  1.33it/s]"
     ]
    },
    {
     "name": "stdout",
     "output_type": "stream",
     "text": [
      "Epoch [2/50], Train Loss: 1.3753, Train_accuracy: 53.00674476393326, Val Loss: 0.6876, Val_accuracy: 53.14164004259851\n"
     ]
    },
    {
     "name": "stderr",
     "output_type": "stream",
     "text": [
      "  6%|██████████▍                                                                                                                                                                  | 3/50 [00:01<00:26,  1.75it/s]"
     ]
    },
    {
     "name": "stdout",
     "output_type": "stream",
     "text": [
      "Epoch [3/50], Train Loss: 1.3701, Train_accuracy: 55.05147319843805, Val Loss: 0.6851, Val_accuracy: 55.356762513312034\n",
      "Model saved.\n"
     ]
    },
    {
     "name": "stderr",
     "output_type": "stream",
     "text": [
      "  8%|█████████████▊                                                                                                                                                               | 4/50 [00:02<00:22,  2.03it/s]"
     ]
    },
    {
     "name": "stdout",
     "output_type": "stream",
     "text": [
      "Epoch [4/50], Train Loss: 1.3647, Train_accuracy: 58.71494497692581, Val Loss: 0.6825, Val_accuracy: 59.211927582534614\n",
      "Model saved.\n"
     ]
    },
    {
     "name": "stderr",
     "output_type": "stream",
     "text": [
      " 10%|█████████████████▎                                                                                                                                                           | 5/50 [00:02<00:20,  2.24it/s]"
     ]
    },
    {
     "name": "stdout",
     "output_type": "stream",
     "text": [
      "Epoch [5/50], Train Loss: 1.3591, Train_accuracy: 62.17252396166134, Val Loss: 0.6798, Val_accuracy: 62.705005324813634\n",
      "Model saved.\n"
     ]
    },
    {
     "name": "stderr",
     "output_type": "stream",
     "text": [
      " 12%|████████████████████▊                                                                                                                                                        | 6/50 [00:03<00:28,  1.53it/s]"
     ]
    },
    {
     "name": "stdout",
     "output_type": "stream",
     "text": [
      "Epoch [6/50], Train Loss: 1.3533, Train_accuracy: 64.78523251686191, Val Loss: 0.6771, Val_accuracy: 64.66453674121406\n",
      "Model saved.\n"
     ]
    },
    {
     "name": "stderr",
     "output_type": "stream",
     "text": [
      " 14%|████████████████████████▏                                                                                                                                                    | 7/50 [00:03<00:24,  1.78it/s]"
     ]
    },
    {
     "name": "stdout",
     "output_type": "stream",
     "text": [
      "Epoch [7/50], Train Loss: 1.3472, Train_accuracy: 65.88569400070998, Val Loss: 0.6742, Val_accuracy: 65.51650692225772\n",
      "Model saved.\n"
     ]
    },
    {
     "name": "stderr",
     "output_type": "stream",
     "text": [
      " 16%|███████████████████████████▋                                                                                                                                                 | 8/50 [00:04<00:21,  2.00it/s]"
     ]
    },
    {
     "name": "stdout",
     "output_type": "stream",
     "text": [
      "Epoch [8/50], Train Loss: 1.3408, Train_accuracy: 66.39687610933618, Val Loss: 0.6711, Val_accuracy: 65.79339723109692\n",
      "Model saved.\n"
     ]
    },
    {
     "name": "stderr",
     "output_type": "stream",
     "text": [
      " 18%|███████████████████████████████▏                                                                                                                                             | 9/50 [00:04<00:18,  2.19it/s]"
     ]
    },
    {
     "name": "stdout",
     "output_type": "stream",
     "text": [
      "Epoch [9/50], Train Loss: 1.3341, Train_accuracy: 66.42527511537097, Val Loss: 0.6679, Val_accuracy: 66.00638977635782\n",
      "Model saved.\n"
     ]
    },
    {
     "name": "stderr",
     "output_type": "stream",
     "text": [
      " 20%|██████████████████████████████████▍                                                                                                                                         | 10/50 [00:05<00:25,  1.56it/s]"
     ]
    },
    {
     "name": "stdout",
     "output_type": "stream",
     "text": [
      "Epoch [10/50], Train Loss: 1.3271, Train_accuracy: 66.56727014554491, Val Loss: 0.6646, Val_accuracy: 65.98509052183174\n"
     ]
    },
    {
     "name": "stderr",
     "output_type": "stream",
     "text": [
      " 22%|█████████████████████████████████████▊                                                                                                                                      | 11/50 [00:06<00:21,  1.79it/s]"
     ]
    },
    {
     "name": "stdout",
     "output_type": "stream",
     "text": [
      "Epoch [11/50], Train Loss: 1.3199, Train_accuracy: 66.8157614483493, Val Loss: 0.6611, Val_accuracy: 66.09158679446219\n",
      "Model saved.\n"
     ]
    },
    {
     "name": "stderr",
     "output_type": "stream",
     "text": [
      " 24%|█████████████████████████████████████████▎                                                                                                                                  | 12/50 [00:06<00:18,  2.01it/s]"
     ]
    },
    {
     "name": "stdout",
     "output_type": "stream",
     "text": [
      "Epoch [12/50], Train Loss: 1.3125, Train_accuracy: 66.99325523606674, Val Loss: 0.6576, Val_accuracy: 66.02768903088392\n"
     ]
    },
    {
     "name": "stderr",
     "output_type": "stream",
     "text": [
      " 26%|████████████████████████████████████████████▋                                                                                                                               | 13/50 [00:06<00:17,  2.17it/s]"
     ]
    },
    {
     "name": "stdout",
     "output_type": "stream",
     "text": [
      "Epoch [13/50], Train Loss: 1.3049, Train_accuracy: 67.36244231451899, Val Loss: 0.6540, Val_accuracy: 66.24068157614484\n",
      "Model saved.\n"
     ]
    },
    {
     "name": "stderr",
     "output_type": "stream",
     "text": [
      " 28%|████████████████████████████████████████████████▏                                                                                                                           | 14/50 [00:07<00:23,  1.56it/s]"
     ]
    },
    {
     "name": "stdout",
     "output_type": "stream",
     "text": [
      "Epoch [14/50], Train Loss: 1.2972, Train_accuracy: 67.6109336173234, Val Loss: 0.6504, Val_accuracy: 66.49627263045794\n",
      "Model saved.\n"
     ]
    },
    {
     "name": "stderr",
     "output_type": "stream",
     "text": [
      " 30%|███████████████████████████████████████████████████▌                                                                                                                        | 15/50 [00:08<00:19,  1.80it/s]"
     ]
    },
    {
     "name": "stdout",
     "output_type": "stream",
     "text": [
      "Epoch [15/50], Train Loss: 1.2894, Train_accuracy: 67.62513312034079, Val Loss: 0.6467, Val_accuracy: 66.41107561235357\n"
     ]
    },
    {
     "name": "stderr",
     "output_type": "stream",
     "text": [
      " 32%|███████████████████████████████████████████████████████                                                                                                                     | 16/50 [00:08<00:17,  2.00it/s]"
     ]
    },
    {
     "name": "stdout",
     "output_type": "stream",
     "text": [
      "Epoch [16/50], Train Loss: 1.2815, Train_accuracy: 67.71033013844516, Val Loss: 0.6430, Val_accuracy: 66.5601703940362\n",
      "Model saved.\n"
     ]
    },
    {
     "name": "stderr",
     "output_type": "stream",
     "text": [
      " 34%|██████████████████████████████████████████████████████████▍                                                                                                                 | 17/50 [00:08<00:15,  2.17it/s]"
     ]
    },
    {
     "name": "stdout",
     "output_type": "stream",
     "text": [
      "Epoch [17/50], Train Loss: 1.2737, Train_accuracy: 67.83812566560171, Val Loss: 0.6393, Val_accuracy: 66.70926517571885\n",
      "Model saved.\n"
     ]
    },
    {
     "name": "stderr",
     "output_type": "stream",
     "text": [
      " 36%|█████████████████████████████████████████████████████████████▉                                                                                                              | 18/50 [00:09<00:20,  1.58it/s]"
     ]
    },
    {
     "name": "stdout",
     "output_type": "stream",
     "text": [
      "Epoch [18/50], Train Loss: 1.2659, Train_accuracy: 68.02981895633653, Val Loss: 0.6356, Val_accuracy: 66.90095846645367\n",
      "Model saved.\n"
     ]
    },
    {
     "name": "stderr",
     "output_type": "stream",
     "text": [
      " 38%|█████████████████████████████████████████████████████████████████▎                                                                                                          | 19/50 [00:10<00:17,  1.80it/s]"
     ]
    },
    {
     "name": "stdout",
     "output_type": "stream",
     "text": [
      "Epoch [19/50], Train Loss: 1.2581, Train_accuracy: 68.14341498047568, Val Loss: 0.6320, Val_accuracy: 67.0713525026624\n",
      "Model saved.\n"
     ]
    },
    {
     "name": "stderr",
     "output_type": "stream",
     "text": [
      " 40%|████████████████████████████████████████████████████████████████████▊                                                                                                       | 20/50 [00:10<00:15,  2.00it/s]"
     ]
    },
    {
     "name": "stdout",
     "output_type": "stream",
     "text": [
      "Epoch [20/50], Train Loss: 1.2504, Train_accuracy: 68.29250976215832, Val Loss: 0.6284, Val_accuracy: 67.09265175718849\n",
      "Model saved.\n"
     ]
    },
    {
     "name": "stderr",
     "output_type": "stream",
     "text": [
      " 42%|████████████████████████████████████████████████████████████████████████▏                                                                                                   | 21/50 [00:11<00:13,  2.16it/s]"
     ]
    },
    {
     "name": "stdout",
     "output_type": "stream",
     "text": [
      "Epoch [21/50], Train Loss: 1.2429, Train_accuracy: 68.51970181043663, Val Loss: 0.6249, Val_accuracy: 67.39084132055378\n",
      "Model saved.\n"
     ]
    },
    {
     "name": "stderr",
     "output_type": "stream",
     "text": [
      " 44%|███████████████████████████████████████████████████████████████████████████▋                                                                                                | 22/50 [00:12<00:17,  1.56it/s]"
     ]
    },
    {
     "name": "stdout",
     "output_type": "stream",
     "text": [
      "Epoch [22/50], Train Loss: 1.2355, Train_accuracy: 68.5977990770323, Val Loss: 0.6214, Val_accuracy: 67.49733759318424\n",
      "Model saved.\n"
     ]
    },
    {
     "name": "stderr",
     "output_type": "stream",
     "text": [
      " 46%|███████████████████████████████████████████████████████████████████████████████                                                                                             | 23/50 [00:12<00:15,  1.78it/s]"
     ]
    },
    {
     "name": "stdout",
     "output_type": "stream",
     "text": [
      "Epoch [23/50], Train Loss: 1.2282, Train_accuracy: 68.79659211927583, Val Loss: 0.6180, Val_accuracy: 67.92332268370608\n",
      "Model saved.\n"
     ]
    },
    {
     "name": "stderr",
     "output_type": "stream",
     "text": [
      " 48%|██████████████████████████████████████████████████████████████████████████████████▌                                                                                         | 24/50 [00:12<00:13,  1.97it/s]"
     ]
    },
    {
     "name": "stdout",
     "output_type": "stream",
     "text": [
      "Epoch [24/50], Train Loss: 1.2211, Train_accuracy: 69.02378416755414, Val Loss: 0.6147, Val_accuracy: 68.15761448349308\n",
      "Model saved.\n"
     ]
    },
    {
     "name": "stderr",
     "output_type": "stream",
     "text": [
      " 50%|██████████████████████████████████████████████████████████████████████████████████████                                                                                      | 25/50 [00:13<00:11,  2.13it/s]"
     ]
    },
    {
     "name": "stdout",
     "output_type": "stream",
     "text": [
      "Epoch [25/50], Train Loss: 1.2142, Train_accuracy: 69.21547745828896, Val Loss: 0.6115, Val_accuracy: 68.43450479233226\n",
      "Model saved.\n"
     ]
    },
    {
     "name": "stderr",
     "output_type": "stream",
     "text": [
      " 52%|█████████████████████████████████████████████████████████████████████████████████████████▍                                                                                  | 26/50 [00:14<00:15,  1.56it/s]"
     ]
    },
    {
     "name": "stdout",
     "output_type": "stream",
     "text": [
      "Epoch [26/50], Train Loss: 1.2074, Train_accuracy: 69.49946751863685, Val Loss: 0.6084, Val_accuracy: 69.07348242811501\n",
      "Model saved.\n"
     ]
    },
    {
     "name": "stderr",
     "output_type": "stream",
     "text": [
      " 54%|████████████████████████████████████████████████████████████████████████████████████████████▉                                                                               | 27/50 [00:14<00:12,  1.78it/s]"
     ]
    },
    {
     "name": "stdout",
     "output_type": "stream",
     "text": [
      "Epoch [27/50], Train Loss: 1.2007, Train_accuracy: 69.73375931842385, Val Loss: 0.6053, Val_accuracy: 69.30777422790203\n",
      "Model saved.\n"
     ]
    },
    {
     "name": "stderr",
     "output_type": "stream",
     "text": [
      " 56%|████████████████████████████████████████████████████████████████████████████████████████████████▎                                                                           | 28/50 [00:15<00:11,  1.98it/s]"
     ]
    },
    {
     "name": "stdout",
     "output_type": "stream",
     "text": [
      "Epoch [28/50], Train Loss: 1.1943, Train_accuracy: 69.91125310614129, Val Loss: 0.6023, Val_accuracy: 69.6059637912673\n",
      "Model saved.\n"
     ]
    },
    {
     "name": "stderr",
     "output_type": "stream",
     "text": [
      " 58%|███████████████████████████████████████████████████████████████████████████████████████████████████▊                                                                        | 29/50 [00:15<00:09,  2.15it/s]"
     ]
    },
    {
     "name": "stdout",
     "output_type": "stream",
     "text": [
      "Epoch [29/50], Train Loss: 1.1879, Train_accuracy: 70.14554490592829, Val Loss: 0.5994, Val_accuracy: 69.96805111821087\n",
      "Model saved.\n"
     ]
    },
    {
     "name": "stderr",
     "output_type": "stream",
     "text": [
      " 60%|███████████████████████████████████████████████████████████████████████████████████████████████████████▏                                                                    | 30/50 [00:16<00:12,  1.58it/s]"
     ]
    },
    {
     "name": "stdout",
     "output_type": "stream",
     "text": [
      "Epoch [30/50], Train Loss: 1.1818, Train_accuracy: 70.34433794817181, Val Loss: 0.5965, Val_accuracy: 70.33013844515442\n",
      "Model saved.\n"
     ]
    },
    {
     "name": "stderr",
     "output_type": "stream",
     "text": [
      " 62%|██████████████████████████████████████████████████████████████████████████████████████████████████████████▋                                                                 | 31/50 [00:16<00:10,  1.80it/s]"
     ]
    },
    {
     "name": "stdout",
     "output_type": "stream",
     "text": [
      "Epoch [31/50], Train Loss: 1.1757, Train_accuracy: 70.49343272985446, Val Loss: 0.5938, Val_accuracy: 70.52183173588925\n",
      "Model saved.\n"
     ]
    },
    {
     "name": "stderr",
     "output_type": "stream",
     "text": [
      " 64%|██████████████████████████████████████████████████████████████████████████████████████████████████████████████                                                              | 32/50 [00:17<00:08,  2.00it/s]"
     ]
    },
    {
     "name": "stdout",
     "output_type": "stream",
     "text": [
      "Epoch [32/50], Train Loss: 1.1699, Train_accuracy: 70.81292154774583, Val Loss: 0.5911, Val_accuracy: 70.8839190628328\n",
      "Model saved.\n"
     ]
    },
    {
     "name": "stderr",
     "output_type": "stream",
     "text": [
      " 66%|█████████████████████████████████████████████████████████████████████████████████████████████████████████████████▌                                                          | 33/50 [00:17<00:07,  2.18it/s]"
     ]
    },
    {
     "name": "stdout",
     "output_type": "stream",
     "text": [
      "Epoch [33/50], Train Loss: 1.1641, Train_accuracy: 71.1466098686546, Val Loss: 0.5884, Val_accuracy: 71.16080937167199\n",
      "Model saved.\n"
     ]
    },
    {
     "name": "stderr",
     "output_type": "stream",
     "text": [
      " 68%|████████████████████████████████████████████████████████████████████████████████████████████████████████████████████▉                                                       | 34/50 [00:18<00:10,  1.58it/s]"
     ]
    },
    {
     "name": "stdout",
     "output_type": "stream",
     "text": [
      "Epoch [34/50], Train Loss: 1.1585, Train_accuracy: 71.43769968051119, Val Loss: 0.5859, Val_accuracy: 71.28860489882854\n",
      "Model saved.\n"
     ]
    },
    {
     "name": "stderr",
     "output_type": "stream",
     "text": [
      " 70%|████████████████████████████████████████████████████████████████████████████████████████████████████████████████████████▍                                                   | 35/50 [00:19<00:08,  1.80it/s]"
     ]
    },
    {
     "name": "stdout",
     "output_type": "stream",
     "text": [
      "Epoch [35/50], Train Loss: 1.1531, Train_accuracy: 71.61519346822861, Val Loss: 0.5834, Val_accuracy: 71.54419595314164\n",
      "Model saved.\n"
     ]
    },
    {
     "name": "stderr",
     "output_type": "stream",
     "text": [
      " 72%|███████████████████████████████████████████████████████████████████████████████████████████████████████████████████████████▊                                                | 36/50 [00:19<00:06,  2.00it/s]"
     ]
    },
    {
     "name": "stdout",
     "output_type": "stream",
     "text": [
      "Epoch [36/50], Train Loss: 1.1478, Train_accuracy: 71.78558750443734, Val Loss: 0.5810, Val_accuracy: 71.71458998935037\n",
      "Model saved.\n"
     ]
    },
    {
     "name": "stderr",
     "output_type": "stream",
     "text": [
      " 74%|███████████████████████████████████████████████████████████████████████████████████████████████████████████████████████████████▎                                            | 37/50 [00:19<00:06,  2.16it/s]"
     ]
    },
    {
     "name": "stdout",
     "output_type": "stream",
     "text": [
      "Epoch [37/50], Train Loss: 1.1426, Train_accuracy: 72.02697905573305, Val Loss: 0.5786, Val_accuracy: 71.97018104366347\n",
      "Model saved.\n"
     ]
    },
    {
     "name": "stderr",
     "output_type": "stream",
     "text": [
      " 76%|██████████████████████████████████████████████████████████████████████████████████████████████████████████████████████████████████▋                                         | 38/50 [00:20<00:07,  1.58it/s]"
     ]
    },
    {
     "name": "stdout",
     "output_type": "stream",
     "text": [
      "Epoch [38/50], Train Loss: 1.1376, Train_accuracy: 72.12637557685481, Val Loss: 0.5764, Val_accuracy: 72.16187433439829\n",
      "Model saved.\n"
     ]
    },
    {
     "name": "stderr",
     "output_type": "stream",
     "text": [
      " 78%|██████████████████████████████████████████████████████████████████████████████████████████████████████████████████████████████████████▏                                     | 39/50 [00:21<00:06,  1.80it/s]"
     ]
    },
    {
     "name": "stdout",
     "output_type": "stream",
     "text": [
      "Epoch [39/50], Train Loss: 1.1327, Train_accuracy: 72.26127085552005, Val Loss: 0.5742, Val_accuracy: 72.26837060702876\n",
      "Model saved.\n"
     ]
    },
    {
     "name": "stderr",
     "output_type": "stream",
     "text": [
      " 80%|█████████████████████████████████████████████████████████████████████████████████████████████████████████████████████████████████████████▌                                  | 40/50 [00:21<00:04,  2.00it/s]"
     ]
    },
    {
     "name": "stdout",
     "output_type": "stream",
     "text": [
      "Epoch [40/50], Train Loss: 1.1280, Train_accuracy: 72.55236066737665, Val Loss: 0.5721, Val_accuracy: 72.41746538871139\n",
      "Model saved.\n"
     ]
    },
    {
     "name": "stderr",
     "output_type": "stream",
     "text": [
      " 82%|█████████████████████████████████████████████████████████████████████████████████████████████████████████████████████████████████████████████                               | 41/50 [00:21<00:04,  2.16it/s]"
     ]
    },
    {
     "name": "stdout",
     "output_type": "stream",
     "text": [
      "Epoch [41/50], Train Loss: 1.1234, Train_accuracy: 72.57365992190273, Val Loss: 0.5700, Val_accuracy: 72.69435569755059\n",
      "Model saved.\n"
     ]
    },
    {
     "name": "stderr",
     "output_type": "stream",
     "text": [
      " 84%|████████████████████████████████████████████████████████████████████████████████████████████████████████████████████████████████████████████████▍                           | 42/50 [00:22<00:05,  1.58it/s]"
     ]
    },
    {
     "name": "stdout",
     "output_type": "stream",
     "text": [
      "Epoch [42/50], Train Loss: 1.1189, Train_accuracy: 72.75115370962017, Val Loss: 0.5681, Val_accuracy: 72.77955271565496\n",
      "Model saved.\n"
     ]
    },
    {
     "name": "stderr",
     "output_type": "stream",
     "text": [
      " 86%|███████████████████████████████████████████████████████████████████████████████████████████████████████████████████████████████████████████████████▉                        | 43/50 [00:23<00:03,  1.80it/s]"
     ]
    },
    {
     "name": "stdout",
     "output_type": "stream",
     "text": [
      "Epoch [43/50], Train Loss: 1.1145, Train_accuracy: 72.83635072772454, Val Loss: 0.5662, Val_accuracy: 72.84345047923323\n",
      "Model saved.\n"
     ]
    },
    {
     "name": "stderr",
     "output_type": "stream",
     "text": [
      " 88%|███████████████████████████████████████████████████████████████████████████████████████████████████████████████████████████████████████████████████████▎                    | 44/50 [00:23<00:03,  2.00it/s]"
     ]
    },
    {
     "name": "stdout",
     "output_type": "stream",
     "text": [
      "Epoch [44/50], Train Loss: 1.1103, Train_accuracy: 72.90734824281151, Val Loss: 0.5643, Val_accuracy: 72.94994675186368\n",
      "Model saved.\n"
     ]
    },
    {
     "name": "stderr",
     "output_type": "stream",
     "text": [
      " 90%|██████████████████████████████████████████████████████████████████████████████████████████████████████████████████████████████████████████████████████████▊                 | 45/50 [00:24<00:02,  2.17it/s]"
     ]
    },
    {
     "name": "stdout",
     "output_type": "stream",
     "text": [
      "Epoch [45/50], Train Loss: 1.1061, Train_accuracy: 72.99254526091586, Val Loss: 0.5626, Val_accuracy: 72.97124600638978\n",
      "Model saved.\n"
     ]
    },
    {
     "name": "stderr",
     "output_type": "stream",
     "text": [
      " 92%|██████████████████████████████████████████████████████████████████████████████████████████████████████████████████████████████████████████████████████████████▏             | 46/50 [00:25<00:02,  1.58it/s]"
     ]
    },
    {
     "name": "stdout",
     "output_type": "stream",
     "text": [
      "Epoch [46/50], Train Loss: 1.1021, Train_accuracy: 73.05644302449414, Val Loss: 0.5609, Val_accuracy: 73.05644302449414\n",
      "Model saved.\n"
     ]
    },
    {
     "name": "stderr",
     "output_type": "stream",
     "text": [
      " 94%|█████████████████████████████████████████████████████████████████████████████████████████████████████████████████████████████████████████████████████████████████▋          | 47/50 [00:25<00:01,  1.80it/s]"
     ]
    },
    {
     "name": "stdout",
     "output_type": "stream",
     "text": [
      "Epoch [47/50], Train Loss: 1.0982, Train_accuracy: 73.29073482428115, Val Loss: 0.5592, Val_accuracy: 73.20553780617678\n",
      "Model saved.\n"
     ]
    },
    {
     "name": "stderr",
     "output_type": "stream",
     "text": [
      " 96%|█████████████████████████████████████████████████████████████████████████████████████████████████████████████████████████████████████████████████████████████████████       | 48/50 [00:25<00:00,  2.00it/s]"
     ]
    },
    {
     "name": "stdout",
     "output_type": "stream",
     "text": [
      "Epoch [48/50], Train Loss: 1.0944, Train_accuracy: 73.4398296059638, Val Loss: 0.5576, Val_accuracy: 73.29073482428115\n",
      "Model saved.\n"
     ]
    },
    {
     "name": "stderr",
     "output_type": "stream",
     "text": [
      " 98%|████████████████████████████████████████████████████████████████████████████████████████████████████████████████████████████████████████████████████████████████████████▌   | 49/50 [00:26<00:00,  2.16it/s]"
     ]
    },
    {
     "name": "stdout",
     "output_type": "stream",
     "text": [
      "Epoch [49/50], Train Loss: 1.0906, Train_accuracy: 73.63862264820732, Val Loss: 0.5561, Val_accuracy: 73.46112886048988\n",
      "Model saved.\n"
     ]
    },
    {
     "name": "stderr",
     "output_type": "stream",
     "text": [
      "100%|████████████████████████████████████████████████████████████████████████████████████████████████████████████████████████████████████████████████████████████████████████████| 50/50 [00:27<00:00,  1.83it/s]"
     ]
    },
    {
     "name": "stdout",
     "output_type": "stream",
     "text": [
      "Epoch [50/50], Train Loss: 1.0870, Train_accuracy: 73.79481718139866, Val Loss: 0.5546, Val_accuracy: 73.56762513312034\n",
      "Model saved.\n"
     ]
    },
    {
     "name": "stderr",
     "output_type": "stream",
     "text": [
      "\n"
     ]
    },
    {
     "name": "stdout",
     "output_type": "stream",
     "text": [
      "Test Accucary 72.91311754684838\n",
      "Current sub-neural network has 2 hidden layers.\n",
      "...\n"
     ]
    },
    {
     "name": "stderr",
     "output_type": "stream",
     "text": [
      "  2%|███▍                                                                                                                                                                         | 1/50 [00:00<00:18,  2.71it/s]"
     ]
    },
    {
     "name": "stdout",
     "output_type": "stream",
     "text": [
      "Epoch [1/50], Train Loss: 1.3859, Train_accuracy: 50.159744408945684, Val Loss: 0.6929, Val_accuracy: 49.77635782747604\n",
      "Model saved.\n"
     ]
    },
    {
     "name": "stderr",
     "output_type": "stream",
     "text": [
      "  4%|██████▉                                                                                                                                                                      | 2/50 [00:00<00:17,  2.72it/s]"
     ]
    },
    {
     "name": "stdout",
     "output_type": "stream",
     "text": [
      "Epoch [2/50], Train Loss: 1.3855, Train_accuracy: 54.142705005324814, Val Loss: 0.6928, Val_accuracy: 53.908413205537805\n",
      "Model saved.\n"
     ]
    },
    {
     "name": "stderr",
     "output_type": "stream",
     "text": [
      "  6%|██████████▍                                                                                                                                                                  | 3/50 [00:01<00:32,  1.46it/s]"
     ]
    },
    {
     "name": "stdout",
     "output_type": "stream",
     "text": [
      "Epoch [3/50], Train Loss: 1.3852, Train_accuracy: 62.56301029463969, Val Loss: 0.6926, Val_accuracy: 62.74760383386582\n",
      "Model saved.\n"
     ]
    },
    {
     "name": "stderr",
     "output_type": "stream",
     "text": [
      "  8%|█████████████▊                                                                                                                                                               | 4/50 [00:02<00:25,  1.78it/s]"
     ]
    },
    {
     "name": "stdout",
     "output_type": "stream",
     "text": [
      "Epoch [4/50], Train Loss: 1.3848, Train_accuracy: 64.70003549875754, Val Loss: 0.6924, Val_accuracy: 64.89882854100107\n",
      "Model saved.\n"
     ]
    },
    {
     "name": "stderr",
     "output_type": "stream",
     "text": [
      " 10%|█████████████████▎                                                                                                                                                           | 5/50 [00:02<00:22,  2.04it/s]"
     ]
    },
    {
     "name": "stdout",
     "output_type": "stream",
     "text": [
      "Epoch [5/50], Train Loss: 1.3844, Train_accuracy: 64.18885339013134, Val Loss: 0.6922, Val_accuracy: 63.85516506922258\n"
     ]
    },
    {
     "name": "stderr",
     "output_type": "stream",
     "text": [
      " 12%|████████████████████▊                                                                                                                                                        | 6/50 [00:02<00:19,  2.25it/s]"
     ]
    },
    {
     "name": "stdout",
     "output_type": "stream",
     "text": [
      "Epoch [6/50], Train Loss: 1.3839, Train_accuracy: 63.59957401490948, Val Loss: 0.6920, Val_accuracy: 63.36528221512247\n"
     ]
    },
    {
     "name": "stderr",
     "output_type": "stream",
     "text": [
      " 14%|████████████████████████▏                                                                                                                                                    | 7/50 [00:03<00:27,  1.55it/s]"
     ]
    },
    {
     "name": "stdout",
     "output_type": "stream",
     "text": [
      "Epoch [7/50], Train Loss: 1.3833, Train_accuracy: 62.98189563365282, Val Loss: 0.6917, Val_accuracy: 62.87539936102237\n"
     ]
    },
    {
     "name": "stderr",
     "output_type": "stream",
     "text": [
      " 16%|███████████████████████████▋                                                                                                                                                 | 8/50 [00:04<00:23,  1.80it/s]"
     ]
    },
    {
     "name": "stdout",
     "output_type": "stream",
     "text": [
      "Epoch [8/50], Train Loss: 1.3827, Train_accuracy: 62.17962371317004, Val Loss: 0.6914, Val_accuracy: 61.87433439829606\n"
     ]
    },
    {
     "name": "stderr",
     "output_type": "stream",
     "text": [
      " 18%|███████████████████████████████▏                                                                                                                                             | 9/50 [00:04<00:20,  2.03it/s]"
     ]
    },
    {
     "name": "stdout",
     "output_type": "stream",
     "text": [
      "Epoch [9/50], Train Loss: 1.3820, Train_accuracy: 61.61874334398296, Val Loss: 0.6910, Val_accuracy: 61.256656017039404\n"
     ]
    },
    {
     "name": "stderr",
     "output_type": "stream",
     "text": [
      " 20%|██████████████████████████████████▍                                                                                                                                         | 10/50 [00:05<00:18,  2.20it/s]"
     ]
    },
    {
     "name": "stdout",
     "output_type": "stream",
     "text": [
      "Epoch [10/50], Train Loss: 1.3813, Train_accuracy: 61.178558750443734, Val Loss: 0.6906, Val_accuracy: 61.150159744408946\n"
     ]
    },
    {
     "name": "stderr",
     "output_type": "stream",
     "text": [
      " 22%|█████████████████████████████████████▊                                                                                                                                      | 11/50 [00:06<00:24,  1.57it/s]"
     ]
    },
    {
     "name": "stdout",
     "output_type": "stream",
     "text": [
      "Epoch [11/50], Train Loss: 1.3804, Train_accuracy: 61.06496272630458, Val Loss: 0.6902, Val_accuracy: 60.85197018104366\n"
     ]
    },
    {
     "name": "stderr",
     "output_type": "stream",
     "text": [
      " 24%|█████████████████████████████████████████▎                                                                                                                                  | 12/50 [00:06<00:20,  1.81it/s]"
     ]
    },
    {
     "name": "stdout",
     "output_type": "stream",
     "text": [
      "Epoch [12/50], Train Loss: 1.3794, Train_accuracy: 61.19275825346113, Val Loss: 0.6897, Val_accuracy: 60.894568690095845\n"
     ]
    },
    {
     "name": "stderr",
     "output_type": "stream",
     "text": [
      " 26%|████████████████████████████████████████████▋                                                                                                                               | 13/50 [00:06<00:18,  2.00it/s]"
     ]
    },
    {
     "name": "stdout",
     "output_type": "stream",
     "text": [
      "Epoch [13/50], Train Loss: 1.3783, Train_accuracy: 61.16435924742634, Val Loss: 0.6892, Val_accuracy: 61.0010649627263\n"
     ]
    },
    {
     "name": "stderr",
     "output_type": "stream",
     "text": [
      " 28%|████████████████████████████████████████████████▏                                                                                                                           | 14/50 [00:07<00:16,  2.17it/s]"
     ]
    },
    {
     "name": "stdout",
     "output_type": "stream",
     "text": [
      "Epoch [14/50], Train Loss: 1.3771, Train_accuracy: 61.483848065317716, Val Loss: 0.6886, Val_accuracy: 61.128860489882854\n"
     ]
    },
    {
     "name": "stderr",
     "output_type": "stream",
     "text": [
      " 30%|███████████████████████████████████████████████████▌                                                                                                                        | 15/50 [00:08<00:22,  1.57it/s]"
     ]
    },
    {
     "name": "stdout",
     "output_type": "stream",
     "text": [
      "Epoch [15/50], Train Loss: 1.3757, Train_accuracy: 61.668441604543844, Val Loss: 0.6879, Val_accuracy: 61.21405750798722\n"
     ]
    },
    {
     "name": "stderr",
     "output_type": "stream",
     "text": [
      " 32%|███████████████████████████████████████████████████████                                                                                                                     | 16/50 [00:08<00:18,  1.79it/s]"
     ]
    },
    {
     "name": "stdout",
     "output_type": "stream",
     "text": [
      "Epoch [16/50], Train Loss: 1.3742, Train_accuracy: 61.89563365282215, Val Loss: 0.6872, Val_accuracy: 61.46964856230032\n"
     ]
    },
    {
     "name": "stderr",
     "output_type": "stream",
     "text": [
      " 34%|██████████████████████████████████████████████████████████▍                                                                                                                 | 17/50 [00:08<00:16,  2.01it/s]"
     ]
    },
    {
     "name": "stdout",
     "output_type": "stream",
     "text": [
      "Epoch [17/50], Train Loss: 1.3726, Train_accuracy: 62.087326943556974, Val Loss: 0.6864, Val_accuracy: 61.83173588924387\n"
     ]
    },
    {
     "name": "stderr",
     "output_type": "stream",
     "text": [
      " 36%|█████████████████████████████████████████████████████████████▉                                                                                                              | 18/50 [00:09<00:14,  2.18it/s]"
     ]
    },
    {
     "name": "stdout",
     "output_type": "stream",
     "text": [
      "Epoch [18/50], Train Loss: 1.3708, Train_accuracy: 62.48491302804402, Val Loss: 0.6855, Val_accuracy: 62.2790202342918\n"
     ]
    },
    {
     "name": "stderr",
     "output_type": "stream",
     "text": [
      " 38%|█████████████████████████████████████████████████████████████████▎                                                                                                          | 19/50 [00:10<00:19,  1.57it/s]"
     ]
    },
    {
     "name": "stdout",
     "output_type": "stream",
     "text": [
      "Epoch [19/50], Train Loss: 1.3688, Train_accuracy: 62.87539936102237, Val Loss: 0.6845, Val_accuracy: 62.832800851970184\n"
     ]
    },
    {
     "name": "stderr",
     "output_type": "stream",
     "text": [
      " 40%|████████████████████████████████████████████████████████████████████▊                                                                                                       | 20/50 [00:10<00:16,  1.81it/s]"
     ]
    },
    {
     "name": "stdout",
     "output_type": "stream",
     "text": [
      "Epoch [20/50], Train Loss: 1.3667, Train_accuracy: 63.2942847000355, Val Loss: 0.6835, Val_accuracy: 63.322683706070286\n"
     ]
    },
    {
     "name": "stderr",
     "output_type": "stream",
     "text": [
      " 42%|████████████████████████████████████████████████████████████████████████▏                                                                                                   | 21/50 [00:11<00:14,  2.03it/s]"
     ]
    },
    {
     "name": "stdout",
     "output_type": "stream",
     "text": [
      "Epoch [21/50], Train Loss: 1.3644, Train_accuracy: 63.635072772452965, Val Loss: 0.6824, Val_accuracy: 63.5356762513312\n"
     ]
    },
    {
     "name": "stderr",
     "output_type": "stream",
     "text": [
      " 44%|███████████████████████████████████████████████████████████████████████████▋                                                                                                | 22/50 [00:11<00:12,  2.20it/s]"
     ]
    },
    {
     "name": "stdout",
     "output_type": "stream",
     "text": [
      "Epoch [22/50], Train Loss: 1.3619, Train_accuracy: 64.01845935392261, Val Loss: 0.6811, Val_accuracy: 63.72736954206603\n"
     ]
    },
    {
     "name": "stderr",
     "output_type": "stream",
     "text": [
      " 46%|███████████████████████████████████████████████████████████████████████████████                                                                                             | 23/50 [00:11<00:11,  2.34it/s]"
     ]
    },
    {
     "name": "stdout",
     "output_type": "stream",
     "text": [
      "Epoch [23/50], Train Loss: 1.3591, Train_accuracy: 64.47994320198794, Val Loss: 0.6798, Val_accuracy: 63.940362087326946\n"
     ]
    },
    {
     "name": "stderr",
     "output_type": "stream",
     "text": [
      " 48%|██████████████████████████████████████████████████████████████████████████████████▌                                                                                         | 24/50 [00:12<00:15,  1.63it/s]"
     ]
    },
    {
     "name": "stdout",
     "output_type": "stream",
     "text": [
      "Epoch [24/50], Train Loss: 1.3562, Train_accuracy: 64.84913028044018, Val Loss: 0.6784, Val_accuracy: 64.25985090521831\n"
     ]
    },
    {
     "name": "stderr",
     "output_type": "stream",
     "text": [
      " 50%|██████████████████████████████████████████████████████████████████████████████████████                                                                                      | 25/50 [00:13<00:13,  1.85it/s]"
     ]
    },
    {
     "name": "stdout",
     "output_type": "stream",
     "text": [
      "Epoch [25/50], Train Loss: 1.3531, Train_accuracy: 65.19701810436635, Val Loss: 0.6769, Val_accuracy: 64.83493077742278\n"
     ]
    },
    {
     "name": "stderr",
     "output_type": "stream",
     "text": [
      " 52%|█████████████████████████████████████████████████████████████████████████████████████████▍                                                                                  | 26/50 [00:13<00:11,  2.05it/s]"
     ]
    },
    {
     "name": "stdout",
     "output_type": "stream",
     "text": [
      "Epoch [26/50], Train Loss: 1.3497, Train_accuracy: 65.53070642527511, Val Loss: 0.6753, Val_accuracy: 65.21831735889243\n",
      "Model saved.\n"
     ]
    },
    {
     "name": "stderr",
     "output_type": "stream",
     "text": [
      " 54%|████████████████████████████████████████████████████████████████████████████████████████████▉                                                                               | 27/50 [00:13<00:10,  2.21it/s]"
     ]
    },
    {
     "name": "stdout",
     "output_type": "stream",
     "text": [
      "Epoch [27/50], Train Loss: 1.3462, Train_accuracy: 65.77209797657082, Val Loss: 0.6736, Val_accuracy: 65.3248136315229\n",
      "Model saved.\n"
     ]
    },
    {
     "name": "stderr",
     "output_type": "stream",
     "text": [
      " 56%|████████████████████████████████████████████████████████████████████████████████████████████████▎                                                                           | 28/50 [00:15<00:14,  1.56it/s]"
     ]
    },
    {
     "name": "stdout",
     "output_type": "stream",
     "text": [
      "Epoch [28/50], Train Loss: 1.3424, Train_accuracy: 66.0844870429535, Val Loss: 0.6718, Val_accuracy: 65.49520766773163\n",
      "Model saved.\n"
     ]
    },
    {
     "name": "stderr",
     "output_type": "stream",
     "text": [
      " 58%|███████████████████████████████████████████████████████████████████████████████████████████████████▊                                                                        | 29/50 [00:15<00:11,  1.80it/s]"
     ]
    },
    {
     "name": "stdout",
     "output_type": "stream",
     "text": [
      "Epoch [29/50], Train Loss: 1.3385, Train_accuracy: 66.29037983670571, Val Loss: 0.6699, Val_accuracy: 65.51650692225772\n",
      "Model saved.\n"
     ]
    },
    {
     "name": "stderr",
     "output_type": "stream",
     "text": [
      " 60%|███████████████████████████████████████████████████████████████████████████████████████████████████████▏                                                                    | 30/50 [00:15<00:09,  2.01it/s]"
     ]
    },
    {
     "name": "stdout",
     "output_type": "stream",
     "text": [
      "Epoch [30/50], Train Loss: 1.3343, Train_accuracy: 66.63116790912318, Val Loss: 0.6679, Val_accuracy: 65.580404685836\n",
      "Model saved.\n"
     ]
    },
    {
     "name": "stderr",
     "output_type": "stream",
     "text": [
      " 62%|██████████████████████████████████████████████████████████████████████████████████████████████████████████▋                                                                 | 31/50 [00:16<00:08,  2.18it/s]"
     ]
    },
    {
     "name": "stdout",
     "output_type": "stream",
     "text": [
      "Epoch [31/50], Train Loss: 1.3300, Train_accuracy: 66.69506567270146, Val Loss: 0.6659, Val_accuracy: 65.53780617678382\n"
     ]
    },
    {
     "name": "stderr",
     "output_type": "stream",
     "text": [
      " 64%|██████████████████████████████████████████████████████████████████████████████████████████████████████████████                                                              | 32/50 [00:17<00:11,  1.57it/s]"
     ]
    },
    {
     "name": "stdout",
     "output_type": "stream",
     "text": [
      "Epoch [32/50], Train Loss: 1.3254, Train_accuracy: 66.71636492722754, Val Loss: 0.6637, Val_accuracy: 65.43130990415335\n"
     ]
    },
    {
     "name": "stderr",
     "output_type": "stream",
     "text": [
      " 66%|█████████████████████████████████████████████████████████████████████████████████████████████████████████████████▌                                                          | 33/50 [00:17<00:09,  1.80it/s]"
     ]
    },
    {
     "name": "stdout",
     "output_type": "stream",
     "text": [
      "Epoch [33/50], Train Loss: 1.3208, Train_accuracy: 66.75896343627973, Val Loss: 0.6615, Val_accuracy: 65.60170394036209\n",
      "Model saved.\n"
     ]
    },
    {
     "name": "stderr",
     "output_type": "stream",
     "text": [
      " 68%|████████████████████████████████████████████████████████████████████████████████████████████████████████████████████▉                                                       | 34/50 [00:17<00:08,  2.00it/s]"
     ]
    },
    {
     "name": "stdout",
     "output_type": "stream",
     "text": [
      "Epoch [34/50], Train Loss: 1.3159, Train_accuracy: 66.92935747248846, Val Loss: 0.6592, Val_accuracy: 65.75079872204473\n",
      "Model saved.\n"
     ]
    },
    {
     "name": "stderr",
     "output_type": "stream",
     "text": [
      " 70%|████████████████████████████████████████████████████████████████████████████████████████████████████████████████████████▍                                                   | 35/50 [00:18<00:06,  2.18it/s]"
     ]
    },
    {
     "name": "stdout",
     "output_type": "stream",
     "text": [
      "Epoch [35/50], Train Loss: 1.3109, Train_accuracy: 66.96485623003196, Val Loss: 0.6568, Val_accuracy: 65.70820021299255\n"
     ]
    },
    {
     "name": "stderr",
     "output_type": "stream",
     "text": [
      " 72%|███████████████████████████████████████████████████████████████████████████████████████████████████████████████████████████▊                                                | 36/50 [00:19<00:08,  1.58it/s]"
     ]
    },
    {
     "name": "stdout",
     "output_type": "stream",
     "text": [
      "Epoch [36/50], Train Loss: 1.3059, Train_accuracy: 67.0713525026624, Val Loss: 0.6544, Val_accuracy: 65.89989350372737\n",
      "Model saved.\n"
     ]
    },
    {
     "name": "stderr",
     "output_type": "stream",
     "text": [
      " 74%|███████████████████████████████████████████████████████████████████████████████████████████████████████████████████████████████▎                                            | 37/50 [00:19<00:07,  1.80it/s]"
     ]
    },
    {
     "name": "stdout",
     "output_type": "stream",
     "text": [
      "Epoch [37/50], Train Loss: 1.3007, Train_accuracy: 67.12815051473198, Val Loss: 0.6519, Val_accuracy: 66.02768903088392\n",
      "Model saved.\n"
     ]
    },
    {
     "name": "stderr",
     "output_type": "stream",
     "text": [
      " 76%|██████████████████████████████████████████████████████████████████████████████████████████████████████████████████████████████████▋                                         | 38/50 [00:20<00:05,  2.00it/s]"
     ]
    },
    {
     "name": "stdout",
     "output_type": "stream",
     "text": [
      "Epoch [38/50], Train Loss: 1.2954, Train_accuracy: 67.16364927227546, Val Loss: 0.6495, Val_accuracy: 66.13418530351437\n",
      "Model saved.\n"
     ]
    },
    {
     "name": "stderr",
     "output_type": "stream",
     "text": [
      " 78%|██████████████████████████████████████████████████████████████████████████████████████████████████████████████████████████████████████▏                                     | 39/50 [00:20<00:05,  2.17it/s]"
     ]
    },
    {
     "name": "stdout",
     "output_type": "stream",
     "text": [
      "Epoch [39/50], Train Loss: 1.2900, Train_accuracy: 67.26304579339723, Val Loss: 0.6469, Val_accuracy: 66.3045793397231\n",
      "Model saved.\n"
     ]
    },
    {
     "name": "stderr",
     "output_type": "stream",
     "text": [
      " 80%|█████████████████████████████████████████████████████████████████████████████████████████████████████████████████████████████████████████▌                                  | 40/50 [00:21<00:06,  1.57it/s]"
     ]
    },
    {
     "name": "stdout",
     "output_type": "stream",
     "text": [
      "Epoch [40/50], Train Loss: 1.2847, Train_accuracy: 67.3411430599929, Val Loss: 0.6444, Val_accuracy: 66.3045793397231\n"
     ]
    },
    {
     "name": "stderr",
     "output_type": "stream",
     "text": [
      " 82%|█████████████████████████████████████████████████████████████████████████████████████████████████████████████████████████████████████████████                               | 41/50 [00:21<00:05,  1.80it/s]"
     ]
    },
    {
     "name": "stdout",
     "output_type": "stream",
     "text": [
      "Epoch [41/50], Train Loss: 1.2792, Train_accuracy: 67.41924032658856, Val Loss: 0.6418, Val_accuracy: 66.47497337593184\n",
      "Model saved.\n"
     ]
    },
    {
     "name": "stderr",
     "output_type": "stream",
     "text": [
      " 84%|████████████████████████████████████████████████████████████████████████████████████████████████████████████████████████████████████████████████▍                           | 42/50 [00:22<00:03,  2.01it/s]"
     ]
    },
    {
     "name": "stdout",
     "output_type": "stream",
     "text": [
      "Epoch [42/50], Train Loss: 1.2738, Train_accuracy: 67.46183883564075, Val Loss: 0.6393, Val_accuracy: 66.51757188498402\n",
      "Model saved.\n"
     ]
    },
    {
     "name": "stderr",
     "output_type": "stream",
     "text": [
      " 86%|███████████████████████████████████████████████████████████████████████████████████████████████████████████████████████████████████████████████████▉                        | 43/50 [00:22<00:03,  2.17it/s]"
     ]
    },
    {
     "name": "stdout",
     "output_type": "stream",
     "text": [
      "Epoch [43/50], Train Loss: 1.2683, Train_accuracy: 67.6109336173234, Val Loss: 0.6367, Val_accuracy: 66.68796592119276\n",
      "Model saved.\n"
     ]
    },
    {
     "name": "stderr",
     "output_type": "stream",
     "text": [
      " 88%|███████████████████████████████████████████████████████████████████████████████████████████████████████████████████████████████████████████████████████▎                    | 44/50 [00:23<00:03,  1.56it/s]"
     ]
    },
    {
     "name": "stdout",
     "output_type": "stream",
     "text": [
      "Epoch [44/50], Train Loss: 1.2629, Train_accuracy: 67.81682641107561, Val Loss: 0.6342, Val_accuracy: 66.75186368477104\n",
      "Model saved.\n"
     ]
    },
    {
     "name": "stderr",
     "output_type": "stream",
     "text": [
      " 90%|██████████████████████████████████████████████████████████████████████████████████████████████████████████████████████████████████████████████████████████▊                 | 45/50 [00:24<00:02,  1.78it/s]"
     ]
    },
    {
     "name": "stdout",
     "output_type": "stream",
     "text": [
      "Epoch [45/50], Train Loss: 1.2574, Train_accuracy: 67.97302094426695, Val Loss: 0.6317, Val_accuracy: 66.90095846645367\n",
      "Model saved.\n"
     ]
    },
    {
     "name": "stderr",
     "output_type": "stream",
     "text": [
      " 92%|██████████████████████████████████████████████████████████████████████████████████████████████████████████████████████████████████████████████████████████████▏             | 46/50 [00:24<00:02,  1.96it/s]"
     ]
    },
    {
     "name": "stdout",
     "output_type": "stream",
     "text": [
      "Epoch [46/50], Train Loss: 1.2520, Train_accuracy: 68.24281150159744, Val Loss: 0.6291, Val_accuracy: 67.13525026624067\n",
      "Model saved.\n"
     ]
    },
    {
     "name": "stderr",
     "output_type": "stream",
     "text": [
      " 94%|█████████████████████████████████████████████████████████████████████████████████████████████████████████████████████████████████████████████████████████████████▋          | 47/50 [00:24<00:01,  2.13it/s]"
     ]
    },
    {
     "name": "stdout",
     "output_type": "stream",
     "text": [
      "Epoch [47/50], Train Loss: 1.2466, Train_accuracy: 68.42740504082357, Val Loss: 0.6266, Val_accuracy: 67.36954206602769\n",
      "Model saved.\n"
     ]
    },
    {
     "name": "stderr",
     "output_type": "stream",
     "text": [
      " 96%|█████████████████████████████████████████████████████████████████████████████████████████████████████████████████████████████████████████████████████████████████████       | 48/50 [00:25<00:01,  1.53it/s]"
     ]
    },
    {
     "name": "stdout",
     "output_type": "stream",
     "text": [
      "Epoch [48/50], Train Loss: 1.2413, Train_accuracy: 68.6119985800497, Val Loss: 0.6242, Val_accuracy: 67.53993610223642\n",
      "Model saved.\n"
     ]
    },
    {
     "name": "stderr",
     "output_type": "stream",
     "text": [
      " 98%|████████████████████████████████████████████████████████████████████████████████████████████████████████████████████████████████████████████████████████████████████████▌   | 49/50 [00:26<00:00,  1.75it/s]"
     ]
    },
    {
     "name": "stdout",
     "output_type": "stream",
     "text": [
      "Epoch [49/50], Train Loss: 1.2360, Train_accuracy: 68.73979410720625, Val Loss: 0.6217, Val_accuracy: 67.8594249201278\n",
      "Model saved.\n"
     ]
    },
    {
     "name": "stderr",
     "output_type": "stream",
     "text": [
      "100%|████████████████████████████████████████████████████████████████████████████████████████████████████████████████████████████████████████████████████████████████████████████| 50/50 [00:26<00:00,  1.88it/s]"
     ]
    },
    {
     "name": "stdout",
     "output_type": "stream",
     "text": [
      "Epoch [50/50], Train Loss: 1.2308, Train_accuracy: 68.83209087681931, Val Loss: 0.6193, Val_accuracy: 68.00851970181044\n",
      "Model saved.\n"
     ]
    },
    {
     "name": "stderr",
     "output_type": "stream",
     "text": [
      "\n"
     ]
    },
    {
     "name": "stdout",
     "output_type": "stream",
     "text": [
      "Test Accucary 68.82453151618398\n",
      "Current sub-neural network has 3 hidden layers.\n",
      "...\n"
     ]
    },
    {
     "name": "stderr",
     "output_type": "stream",
     "text": [
      "  2%|███▍                                                                                                                                                                         | 1/50 [00:01<00:52,  1.07s/it]"
     ]
    },
    {
     "name": "stdout",
     "output_type": "stream",
     "text": [
      "Epoch [1/50], Train Loss: 1.3868, Train_accuracy: 50.17394391196308, Val Loss: 0.6936, Val_accuracy: 49.75505857294995\n",
      "Model saved.\n"
     ]
    },
    {
     "name": "stderr",
     "output_type": "stream",
     "text": [
      "  4%|██████▉                                                                                                                                                                      | 2/50 [00:01<00:31,  1.51it/s]"
     ]
    },
    {
     "name": "stdout",
     "output_type": "stream",
     "text": [
      "Epoch [2/50], Train Loss: 1.3867, Train_accuracy: 50.17394391196308, Val Loss: 0.6936, Val_accuracy: 49.75505857294995\n"
     ]
    },
    {
     "name": "stderr",
     "output_type": "stream",
     "text": [
      "  6%|██████████▍                                                                                                                                                                  | 3/50 [00:01<00:25,  1.88it/s]"
     ]
    },
    {
     "name": "stdout",
     "output_type": "stream",
     "text": [
      "Epoch [3/50], Train Loss: 1.3866, Train_accuracy: 50.17394391196308, Val Loss: 0.6935, Val_accuracy: 49.75505857294995\n"
     ]
    },
    {
     "name": "stderr",
     "output_type": "stream",
     "text": [
      "  8%|█████████████▊                                                                                                                                                               | 4/50 [00:02<00:21,  2.11it/s]"
     ]
    },
    {
     "name": "stdout",
     "output_type": "stream",
     "text": [
      "Epoch [4/50], Train Loss: 1.3865, Train_accuracy: 50.17394391196308, Val Loss: 0.6935, Val_accuracy: 49.75505857294995\n"
     ]
    },
    {
     "name": "stderr",
     "output_type": "stream",
     "text": [
      " 10%|█████████████████▎                                                                                                                                                           | 5/50 [00:03<00:31,  1.45it/s]"
     ]
    },
    {
     "name": "stdout",
     "output_type": "stream",
     "text": [
      "Epoch [5/50], Train Loss: 1.3864, Train_accuracy: 50.17394391196308, Val Loss: 0.6934, Val_accuracy: 49.75505857294995\n"
     ]
    },
    {
     "name": "stderr",
     "output_type": "stream",
     "text": [
      " 12%|████████████████████▊                                                                                                                                                        | 6/50 [00:03<00:25,  1.70it/s]"
     ]
    },
    {
     "name": "stdout",
     "output_type": "stream",
     "text": [
      "Epoch [6/50], Train Loss: 1.3863, Train_accuracy: 50.17394391196308, Val Loss: 0.6934, Val_accuracy: 49.75505857294995\n"
     ]
    },
    {
     "name": "stderr",
     "output_type": "stream",
     "text": [
      " 14%|████████████████████████▏                                                                                                                                                    | 7/50 [00:04<00:22,  1.93it/s]"
     ]
    },
    {
     "name": "stdout",
     "output_type": "stream",
     "text": [
      "Epoch [7/50], Train Loss: 1.3862, Train_accuracy: 50.17394391196308, Val Loss: 0.6933, Val_accuracy: 49.75505857294995\n"
     ]
    },
    {
     "name": "stderr",
     "output_type": "stream",
     "text": [
      " 16%|███████████████████████████▋                                                                                                                                                 | 8/50 [00:04<00:19,  2.10it/s]"
     ]
    },
    {
     "name": "stdout",
     "output_type": "stream",
     "text": [
      "Epoch [8/50], Train Loss: 1.3861, Train_accuracy: 50.17394391196308, Val Loss: 0.6932, Val_accuracy: 49.75505857294995\n"
     ]
    },
    {
     "name": "stderr",
     "output_type": "stream",
     "text": [
      " 18%|███████████████████████████████▏                                                                                                                                             | 9/50 [00:05<00:27,  1.51it/s]"
     ]
    },
    {
     "name": "stdout",
     "output_type": "stream",
     "text": [
      "Epoch [9/50], Train Loss: 1.3860, Train_accuracy: 50.17394391196308, Val Loss: 0.6932, Val_accuracy: 49.75505857294995\n"
     ]
    },
    {
     "name": "stderr",
     "output_type": "stream",
     "text": [
      " 20%|██████████████████████████████████▍                                                                                                                                         | 10/50 [00:05<00:23,  1.73it/s]"
     ]
    },
    {
     "name": "stdout",
     "output_type": "stream",
     "text": [
      "Epoch [10/50], Train Loss: 1.3859, Train_accuracy: 50.17394391196308, Val Loss: 0.6931, Val_accuracy: 49.75505857294995\n"
     ]
    },
    {
     "name": "stderr",
     "output_type": "stream",
     "text": [
      " 22%|█████████████████████████████████████▊                                                                                                                                      | 11/50 [00:06<00:20,  1.94it/s]"
     ]
    },
    {
     "name": "stdout",
     "output_type": "stream",
     "text": [
      "Epoch [11/50], Train Loss: 1.3858, Train_accuracy: 50.17394391196308, Val Loss: 0.6930, Val_accuracy: 49.75505857294995\n"
     ]
    },
    {
     "name": "stderr",
     "output_type": "stream",
     "text": [
      " 24%|█████████████████████████████████████████▎                                                                                                                                  | 12/50 [00:06<00:18,  2.10it/s]"
     ]
    },
    {
     "name": "stdout",
     "output_type": "stream",
     "text": [
      "Epoch [12/50], Train Loss: 1.3856, Train_accuracy: 50.17394391196308, Val Loss: 0.6929, Val_accuracy: 49.75505857294995\n"
     ]
    },
    {
     "name": "stderr",
     "output_type": "stream",
     "text": [
      " 26%|████████████████████████████████████████████▋                                                                                                                               | 13/50 [00:07<00:24,  1.52it/s]"
     ]
    },
    {
     "name": "stdout",
     "output_type": "stream",
     "text": [
      "Epoch [13/50], Train Loss: 1.3854, Train_accuracy: 50.17394391196308, Val Loss: 0.6928, Val_accuracy: 49.75505857294995\n"
     ]
    },
    {
     "name": "stderr",
     "output_type": "stream",
     "text": [
      " 28%|████████████████████████████████████████████████▏                                                                                                                           | 14/50 [00:08<00:20,  1.74it/s]"
     ]
    },
    {
     "name": "stdout",
     "output_type": "stream",
     "text": [
      "Epoch [14/50], Train Loss: 1.3853, Train_accuracy: 50.17394391196308, Val Loss: 0.6927, Val_accuracy: 49.75505857294995\n"
     ]
    },
    {
     "name": "stderr",
     "output_type": "stream",
     "text": [
      " 30%|███████████████████████████████████████████████████▌                                                                                                                        | 15/50 [00:08<00:18,  1.93it/s]"
     ]
    },
    {
     "name": "stdout",
     "output_type": "stream",
     "text": [
      "Epoch [15/50], Train Loss: 1.3851, Train_accuracy: 50.17394391196308, Val Loss: 0.6926, Val_accuracy: 49.75505857294995\n"
     ]
    },
    {
     "name": "stderr",
     "output_type": "stream",
     "text": [
      " 32%|███████████████████████████████████████████████████████                                                                                                                     | 16/50 [00:08<00:16,  2.07it/s]"
     ]
    },
    {
     "name": "stdout",
     "output_type": "stream",
     "text": [
      "Epoch [16/50], Train Loss: 1.3848, Train_accuracy: 50.18814341498047, Val Loss: 0.6925, Val_accuracy: 49.818956336528224\n",
      "Model saved.\n"
     ]
    },
    {
     "name": "stderr",
     "output_type": "stream",
     "text": [
      " 34%|██████████████████████████████████████████████████████████▍                                                                                                                 | 17/50 [00:09<00:15,  2.19it/s]"
     ]
    },
    {
     "name": "stdout",
     "output_type": "stream",
     "text": [
      "Epoch [17/50], Train Loss: 1.3846, Train_accuracy: 50.905218317358894, Val Loss: 0.6924, Val_accuracy: 50.415335463258785\n",
      "Model saved.\n"
     ]
    },
    {
     "name": "stderr",
     "output_type": "stream",
     "text": [
      " 36%|█████████████████████████████████████████████████████████████▉                                                                                                              | 18/50 [00:10<00:20,  1.54it/s]"
     ]
    },
    {
     "name": "stdout",
     "output_type": "stream",
     "text": [
      "Epoch [18/50], Train Loss: 1.3843, Train_accuracy: 54.994675186368475, Val Loss: 0.6922, Val_accuracy: 54.67518636847711\n",
      "Model saved.\n"
     ]
    },
    {
     "name": "stderr",
     "output_type": "stream",
     "text": [
      " 38%|█████████████████████████████████████████████████████████████████▎                                                                                                          | 19/50 [00:10<00:17,  1.74it/s]"
     ]
    },
    {
     "name": "stdout",
     "output_type": "stream",
     "text": [
      "Epoch [19/50], Train Loss: 1.3840, Train_accuracy: 60.972665956691515, Val Loss: 0.6921, Val_accuracy: 60.2555910543131\n",
      "Model saved.\n"
     ]
    },
    {
     "name": "stderr",
     "output_type": "stream",
     "text": [
      " 40%|████████████████████████████████████████████████████████████████████▊                                                                                                       | 20/50 [00:11<00:15,  1.93it/s]"
     ]
    },
    {
     "name": "stdout",
     "output_type": "stream",
     "text": [
      "Epoch [20/50], Train Loss: 1.3836, Train_accuracy: 64.52964146254881, Val Loss: 0.6919, Val_accuracy: 63.74866879659212\n",
      "Model saved.\n"
     ]
    },
    {
     "name": "stderr",
     "output_type": "stream",
     "text": [
      " 42%|████████████████████████████████████████████████████████████████████████▏                                                                                                   | 21/50 [00:11<00:13,  2.09it/s]"
     ]
    },
    {
     "name": "stdout",
     "output_type": "stream",
     "text": [
      "Epoch [21/50], Train Loss: 1.3832, Train_accuracy: 65.49520766773163, Val Loss: 0.6917, Val_accuracy: 64.3237486687966\n",
      "Model saved.\n"
     ]
    },
    {
     "name": "stderr",
     "output_type": "stream",
     "text": [
      " 44%|███████████████████████████████████████████████████████████████████████████▋                                                                                                | 22/50 [00:12<00:18,  1.51it/s]"
     ]
    },
    {
     "name": "stdout",
     "output_type": "stream",
     "text": [
      "Epoch [22/50], Train Loss: 1.3828, Train_accuracy: 64.98402555910543, Val Loss: 0.6914, Val_accuracy: 64.17465388711395\n"
     ]
    },
    {
     "name": "stderr",
     "output_type": "stream",
     "text": [
      " 46%|███████████████████████████████████████████████████████████████████████████████                                                                                             | 23/50 [00:13<00:15,  1.73it/s]"
     ]
    },
    {
     "name": "stdout",
     "output_type": "stream",
     "text": [
      "Epoch [23/50], Train Loss: 1.3823, Train_accuracy: 63.5427760028399, Val Loss: 0.6912, Val_accuracy: 63.045793397231094\n"
     ]
    },
    {
     "name": "stderr",
     "output_type": "stream",
     "text": [
      " 48%|██████████████████████████████████████████████████████████████████████████████████▌                                                                                         | 24/50 [00:13<00:13,  1.92it/s]"
     ]
    },
    {
     "name": "stdout",
     "output_type": "stream",
     "text": [
      "Epoch [24/50], Train Loss: 1.3817, Train_accuracy: 62.32161874334398, Val Loss: 0.6909, Val_accuracy: 61.853035143769965\n"
     ]
    },
    {
     "name": "stderr",
     "output_type": "stream",
     "text": [
      " 50%|██████████████████████████████████████████████████████████████████████████████████████                                                                                      | 25/50 [00:13<00:12,  2.08it/s]"
     ]
    },
    {
     "name": "stdout",
     "output_type": "stream",
     "text": [
      "Epoch [25/50], Train Loss: 1.3811, Train_accuracy: 61.37025204117856, Val Loss: 0.6906, Val_accuracy: 61.150159744408946\n"
     ]
    },
    {
     "name": "stderr",
     "output_type": "stream",
     "text": [
      " 52%|█████████████████████████████████████████████████████████████████████████████████████████▍                                                                                  | 26/50 [00:14<00:15,  1.52it/s]"
     ]
    },
    {
     "name": "stdout",
     "output_type": "stream",
     "text": [
      "Epoch [26/50], Train Loss: 1.3804, Train_accuracy: 60.816471423500175, Val Loss: 0.6902, Val_accuracy: 60.87326943556975\n"
     ]
    },
    {
     "name": "stderr",
     "output_type": "stream",
     "text": [
      " 54%|████████████████████████████████████████████████████████████████████████████████████████████▉                                                                               | 27/50 [00:15<00:13,  1.73it/s]"
     ]
    },
    {
     "name": "stdout",
     "output_type": "stream",
     "text": [
      "Epoch [27/50], Train Loss: 1.3796, Train_accuracy: 60.60347887823926, Val Loss: 0.6899, Val_accuracy: 60.83067092651757\n"
     ]
    },
    {
     "name": "stderr",
     "output_type": "stream",
     "text": [
      " 56%|████████████████████████████████████████████████████████████████████████████████████████████████▎                                                                           | 28/50 [00:15<00:11,  1.92it/s]"
     ]
    },
    {
     "name": "stdout",
     "output_type": "stream",
     "text": [
      "Epoch [28/50], Train Loss: 1.3787, Train_accuracy: 60.766773162939295, Val Loss: 0.6894, Val_accuracy: 61.0010649627263\n"
     ]
    },
    {
     "name": "stderr",
     "output_type": "stream",
     "text": [
      " 58%|███████████████████████████████████████████████████████████████████████████████████████████████████▊                                                                        | 29/50 [00:16<00:10,  2.09it/s]"
     ]
    },
    {
     "name": "stdout",
     "output_type": "stream",
     "text": [
      "Epoch [29/50], Train Loss: 1.3778, Train_accuracy: 60.96556620518282, Val Loss: 0.6890, Val_accuracy: 61.04366347177849\n"
     ]
    },
    {
     "name": "stderr",
     "output_type": "stream",
     "text": [
      " 60%|███████████████████████████████████████████████████████████████████████████████████████████████████████▏                                                                    | 30/50 [00:17<00:13,  1.51it/s]"
     ]
    },
    {
     "name": "stdout",
     "output_type": "stream",
     "text": [
      "Epoch [30/50], Train Loss: 1.3768, Train_accuracy: 61.405750798722046, Val Loss: 0.6885, Val_accuracy: 61.46964856230032\n"
     ]
    },
    {
     "name": "stderr",
     "output_type": "stream",
     "text": [
      " 62%|██████████████████████████████████████████████████████████████████████████████████████████████████████████▋                                                                 | 31/50 [00:17<00:10,  1.73it/s]"
     ]
    },
    {
     "name": "stdout",
     "output_type": "stream",
     "text": [
      "Epoch [31/50], Train Loss: 1.3756, Train_accuracy: 61.853035143769965, Val Loss: 0.6879, Val_accuracy: 61.83173588924387\n"
     ]
    },
    {
     "name": "stderr",
     "output_type": "stream",
     "text": [
      " 64%|██████████████████████████████████████████████████████████████████████████████████████████████████████████████                                                              | 32/50 [00:17<00:09,  1.92it/s]"
     ]
    },
    {
     "name": "stdout",
     "output_type": "stream",
     "text": [
      "Epoch [32/50], Train Loss: 1.3744, Train_accuracy: 62.392616258430955, Val Loss: 0.6873, Val_accuracy: 62.236421725239616\n"
     ]
    },
    {
     "name": "stderr",
     "output_type": "stream",
     "text": [
      " 66%|█████████████████████████████████████████████████████████████████████████████████████████████████████████████████▌                                                          | 33/50 [00:18<00:08,  2.08it/s]"
     ]
    },
    {
     "name": "stdout",
     "output_type": "stream",
     "text": [
      "Epoch [33/50], Train Loss: 1.3730, Train_accuracy: 62.83990060347888, Val Loss: 0.6867, Val_accuracy: 62.49201277955272\n"
     ]
    },
    {
     "name": "stderr",
     "output_type": "stream",
     "text": [
      " 68%|████████████████████████████████████████████████████████████████████████████████████████████████████████████████████▉                                                       | 34/50 [00:19<00:10,  1.51it/s]"
     ]
    },
    {
     "name": "stdout",
     "output_type": "stream",
     "text": [
      "Epoch [34/50], Train Loss: 1.3715, Train_accuracy: 63.21618743343983, Val Loss: 0.6859, Val_accuracy: 62.61980830670927\n"
     ]
    },
    {
     "name": "stderr",
     "output_type": "stream",
     "text": [
      " 70%|████████████████████████████████████████████████████████████████████████████████████████████████████████████████████████▍                                                   | 35/50 [00:19<00:08,  1.73it/s]"
     ]
    },
    {
     "name": "stdout",
     "output_type": "stream",
     "text": [
      "Epoch [35/50], Train Loss: 1.3699, Train_accuracy: 63.57827476038339, Val Loss: 0.6852, Val_accuracy: 62.74760383386582\n"
     ]
    },
    {
     "name": "stderr",
     "output_type": "stream",
     "text": [
      " 72%|███████████████████████████████████████████████████████████████████████████████████████████████████████████████████████████▊                                                | 36/50 [00:20<00:07,  1.92it/s]"
     ]
    },
    {
     "name": "stdout",
     "output_type": "stream",
     "text": [
      "Epoch [36/50], Train Loss: 1.3682, Train_accuracy: 64.13915512957047, Val Loss: 0.6843, Val_accuracy: 63.024494142705\n"
     ]
    },
    {
     "name": "stderr",
     "output_type": "stream",
     "text": [
      " 74%|███████████████████████████████████████████████████████████████████████████████████████████████████████████████████████████████▎                                            | 37/50 [00:20<00:06,  2.09it/s]"
     ]
    },
    {
     "name": "stdout",
     "output_type": "stream",
     "text": [
      "Epoch [37/50], Train Loss: 1.3663, Train_accuracy: 64.34504792332268, Val Loss: 0.6834, Val_accuracy: 63.25878594249201\n"
     ]
    },
    {
     "name": "stderr",
     "output_type": "stream",
     "text": [
      " 76%|██████████████████████████████████████████████████████████████████████████████████████████████████████████████████████████████████▋                                         | 38/50 [00:21<00:07,  1.51it/s]"
     ]
    },
    {
     "name": "stdout",
     "output_type": "stream",
     "text": [
      "Epoch [38/50], Train Loss: 1.3643, Train_accuracy: 64.7923322683706, Val Loss: 0.6825, Val_accuracy: 63.85516506922258\n"
     ]
    },
    {
     "name": "stderr",
     "output_type": "stream",
     "text": [
      " 78%|██████████████████████████████████████████████████████████████████████████████████████████████████████████████████████████████████████▏                                     | 39/50 [00:21<00:06,  1.73it/s]"
     ]
    },
    {
     "name": "stdout",
     "output_type": "stream",
     "text": [
      "Epoch [39/50], Train Loss: 1.3621, Train_accuracy: 65.25381611643593, Val Loss: 0.6814, Val_accuracy: 64.08945686900958\n"
     ]
    },
    {
     "name": "stderr",
     "output_type": "stream",
     "text": [
      " 80%|█████████████████████████████████████████████████████████████████████████████████████████████████████████████████████████████████████████▌                                  | 40/50 [00:22<00:05,  1.91it/s]"
     ]
    },
    {
     "name": "stdout",
     "output_type": "stream",
     "text": [
      "Epoch [40/50], Train Loss: 1.3598, Train_accuracy: 65.42421015264466, Val Loss: 0.6803, Val_accuracy: 64.53674121405751\n",
      "Model saved.\n"
     ]
    },
    {
     "name": "stderr",
     "output_type": "stream",
     "text": [
      " 82%|█████████████████████████████████████████████████████████████████████████████████████████████████████████████████████████████████████████████                               | 41/50 [00:22<00:04,  2.06it/s]"
     ]
    },
    {
     "name": "stdout",
     "output_type": "stream",
     "text": [
      "Epoch [41/50], Train Loss: 1.3573, Train_accuracy: 65.49520766773163, Val Loss: 0.6791, Val_accuracy: 64.8136315228967\n",
      "Model saved.\n"
     ]
    },
    {
     "name": "stderr",
     "output_type": "stream",
     "text": [
      " 84%|████████████████████████████████████████████████████████████████████████████████████████████████████████████████████████████████████████████████▍                           | 42/50 [00:23<00:05,  1.49it/s]"
     ]
    },
    {
     "name": "stdout",
     "output_type": "stream",
     "text": [
      "Epoch [42/50], Train Loss: 1.3547, Train_accuracy: 65.5733049343273, Val Loss: 0.6779, Val_accuracy: 64.87752928647497\n",
      "Model saved.\n"
     ]
    },
    {
     "name": "stderr",
     "output_type": "stream",
     "text": [
      " 86%|███████████████████████████████████████████████████████████████████████████████████████████████████████████████████████████████████████████████████▉                        | 43/50 [00:24<00:04,  1.70it/s]"
     ]
    },
    {
     "name": "stdout",
     "output_type": "stream",
     "text": [
      "Epoch [43/50], Train Loss: 1.3520, Train_accuracy: 65.85729499467519, Val Loss: 0.6765, Val_accuracy: 65.02662406815762\n",
      "Model saved.\n"
     ]
    },
    {
     "name": "stderr",
     "output_type": "stream",
     "text": [
      " 88%|███████████████████████████████████████████████████████████████████████████████████████████████████████████████████████████████████████████████████████▎                    | 44/50 [00:24<00:03,  1.89it/s]"
     ]
    },
    {
     "name": "stdout",
     "output_type": "stream",
     "text": [
      "Epoch [44/50], Train Loss: 1.3490, Train_accuracy: 66.26908058217963, Val Loss: 0.6751, Val_accuracy: 65.17571884984025\n",
      "Model saved.\n"
     ]
    },
    {
     "name": "stderr",
     "output_type": "stream",
     "text": [
      " 90%|██████████████████████████████████████████████████████████████████████████████████████████████████████████████████████████████████████████████████████████▊                 | 45/50 [00:25<00:02,  2.06it/s]"
     ]
    },
    {
     "name": "stdout",
     "output_type": "stream",
     "text": [
      "Epoch [45/50], Train Loss: 1.3460, Train_accuracy: 66.41107561235357, Val Loss: 0.6737, Val_accuracy: 65.28221512247072\n",
      "Model saved.\n"
     ]
    },
    {
     "name": "stderr",
     "output_type": "stream",
     "text": [
      " 92%|██████████████████████████████████████████████████████████████████████████████████████████████████████████████████████████████████████████████████████████████▏             | 46/50 [00:26<00:02,  1.49it/s]"
     ]
    },
    {
     "name": "stdout",
     "output_type": "stream",
     "text": [
      "Epoch [46/50], Train Loss: 1.3427, Train_accuracy: 66.45367412140575, Val Loss: 0.6721, Val_accuracy: 65.3248136315229\n",
      "Model saved.\n"
     ]
    },
    {
     "name": "stderr",
     "output_type": "stream",
     "text": [
      " 94%|█████████████████████████████████████████████████████████████████████████████████████████████████████████████████████████████████████████████████████████████████▋          | 47/50 [00:26<00:01,  1.71it/s]"
     ]
    },
    {
     "name": "stdout",
     "output_type": "stream",
     "text": [
      "Epoch [47/50], Train Loss: 1.3394, Train_accuracy: 66.38267660631878, Val Loss: 0.6705, Val_accuracy: 65.34611288604899\n",
      "Model saved.\n"
     ]
    },
    {
     "name": "stderr",
     "output_type": "stream",
     "text": [
      " 96%|█████████████████████████████████████████████████████████████████████████████████████████████████████████████████████████████████████████████████████████████████████       | 48/50 [00:26<00:01,  1.90it/s]"
     ]
    },
    {
     "name": "stdout",
     "output_type": "stream",
     "text": [
      "Epoch [48/50], Train Loss: 1.3359, Train_accuracy: 66.39687610933618, Val Loss: 0.6689, Val_accuracy: 65.36741214057508\n",
      "Model saved.\n"
     ]
    },
    {
     "name": "stderr",
     "output_type": "stream",
     "text": [
      " 98%|████████████████████████████████████████████████████████████████████████████████████████████████████████████████████████████████████████████████████████████████████████▌   | 49/50 [00:27<00:00,  2.06it/s]"
     ]
    },
    {
     "name": "stdout",
     "output_type": "stream",
     "text": [
      "Epoch [49/50], Train Loss: 1.3322, Train_accuracy: 66.53887113951012, Val Loss: 0.6671, Val_accuracy: 65.3248136315229\n"
     ]
    },
    {
     "name": "stderr",
     "output_type": "stream",
     "text": [
      "100%|████████████████████████████████████████████████████████████████████████████████████████████████████████████████████████████████████████████████████████████████████████████| 50/50 [00:28<00:00,  1.76it/s]"
     ]
    },
    {
     "name": "stdout",
     "output_type": "stream",
     "text": [
      "Epoch [50/50], Train Loss: 1.3284, Train_accuracy: 66.73056443024494, Val Loss: 0.6653, Val_accuracy: 65.45260915867945\n",
      "Model saved.\n"
     ]
    },
    {
     "name": "stderr",
     "output_type": "stream",
     "text": [
      "\n"
     ]
    },
    {
     "name": "stdout",
     "output_type": "stream",
     "text": [
      "Test Accucary 65.92844974446338\n",
      "tranining_fully_connected_layers:\n",
      "Current sub-neural network has 1 hidden layers.\n",
      "...\n"
     ]
    },
    {
     "name": "stderr",
     "output_type": "stream",
     "text": [
      "  2%|███▍                                                                                                                                                                         | 1/50 [00:00<00:18,  2.71it/s]"
     ]
    },
    {
     "name": "stdout",
     "output_type": "stream",
     "text": [
      "Epoch [1/50], Train Loss: 1.6327, Train_accuracy: 49.85445509407171, Val Loss: 0.8098, Val_accuracy: 50.26624068157614\n",
      "Model saved.\n"
     ]
    },
    {
     "name": "stderr",
     "output_type": "stream",
     "text": [
      "  4%|██████▉                                                                                                                                                                      | 2/50 [00:00<00:17,  2.72it/s]"
     ]
    },
    {
     "name": "stdout",
     "output_type": "stream",
     "text": [
      "Epoch [2/50], Train Loss: 2.0425, Train_accuracy: 50.17394391196308, Val Loss: 1.0301, Val_accuracy: 49.77635782747604\n"
     ]
    },
    {
     "name": "stderr",
     "output_type": "stream",
     "text": [
      "  6%|██████████▍                                                                                                                                                                  | 3/50 [00:01<00:32,  1.46it/s]"
     ]
    },
    {
     "name": "stdout",
     "output_type": "stream",
     "text": [
      "Epoch [3/50], Train Loss: 1.3423, Train_accuracy: 53.64572239971601, Val Loss: 0.6737, Val_accuracy: 52.843450479233226\n",
      "Model saved.\n"
     ]
    },
    {
     "name": "stderr",
     "output_type": "stream",
     "text": [
      "  8%|█████████████▊                                                                                                                                                               | 4/50 [00:02<00:25,  1.78it/s]"
     ]
    },
    {
     "name": "stdout",
     "output_type": "stream",
     "text": [
      "Epoch [4/50], Train Loss: 1.4724, Train_accuracy: 50.23074192403266, Val Loss: 0.7322, Val_accuracy: 50.6283280085197\n"
     ]
    },
    {
     "name": "stderr",
     "output_type": "stream",
     "text": [
      " 10%|█████████████████▎                                                                                                                                                           | 5/50 [00:02<00:22,  2.03it/s]"
     ]
    },
    {
     "name": "stdout",
     "output_type": "stream",
     "text": [
      "Epoch [5/50], Train Loss: 1.4970, Train_accuracy: 50.003549875754345, Val Loss: 0.7443, Val_accuracy: 50.415335463258785\n"
     ]
    },
    {
     "name": "stderr",
     "output_type": "stream",
     "text": [
      " 12%|████████████████████▊                                                                                                                                                        | 6/50 [00:02<00:19,  2.22it/s]"
     ]
    },
    {
     "name": "stdout",
     "output_type": "stream",
     "text": [
      "Epoch [6/50], Train Loss: 1.3253, Train_accuracy: 56.07383741569045, Val Loss: 0.6619, Val_accuracy: 56.443024494142705\n",
      "Model saved.\n"
     ]
    },
    {
     "name": "stderr",
     "output_type": "stream",
     "text": [
      " 14%|████████████████████████▏                                                                                                                                                    | 7/50 [00:03<00:18,  2.35it/s]"
     ]
    },
    {
     "name": "stdout",
     "output_type": "stream",
     "text": [
      "Epoch [7/50], Train Loss: 1.3020, Train_accuracy: 61.462548810791624, Val Loss: 0.6543, Val_accuracy: 60.40468583599574\n",
      "Model saved.\n"
     ]
    },
    {
     "name": "stderr",
     "output_type": "stream",
     "text": [
      " 16%|███████████████████████████▋                                                                                                                                                 | 8/50 [00:04<00:26,  1.61it/s]"
     ]
    },
    {
     "name": "stdout",
     "output_type": "stream",
     "text": [
      "Epoch [8/50], Train Loss: 1.3607, Train_accuracy: 51.87788427405041, Val Loss: 0.6860, Val_accuracy: 50.905218317358894\n"
     ]
    },
    {
     "name": "stderr",
     "output_type": "stream",
     "text": [
      " 18%|███████████████████████████████▏                                                                                                                                             | 9/50 [00:04<00:21,  1.87it/s]"
     ]
    },
    {
     "name": "stdout",
     "output_type": "stream",
     "text": [
      "Epoch [9/50], Train Loss: 1.3379, Train_accuracy: 53.1629392971246, Val Loss: 0.6746, Val_accuracy: 52.01277955271566\n"
     ]
    },
    {
     "name": "stderr",
     "output_type": "stream",
     "text": [
      " 20%|██████████████████████████████████▍                                                                                                                                         | 10/50 [00:05<00:19,  2.06it/s]"
     ]
    },
    {
     "name": "stdout",
     "output_type": "stream",
     "text": [
      "Epoch [10/50], Train Loss: 1.2759, Train_accuracy: 65.5946041888534, Val Loss: 0.6421, Val_accuracy: 64.34504792332268\n",
      "Model saved.\n"
     ]
    },
    {
     "name": "stderr",
     "output_type": "stream",
     "text": [
      " 22%|█████████████████████████████████████▊                                                                                                                                      | 11/50 [00:05<00:17,  2.24it/s]"
     ]
    },
    {
     "name": "stdout",
     "output_type": "stream",
     "text": [
      "Epoch [11/50], Train Loss: 1.2632, Train_accuracy: 67.73162939297124, Val Loss: 0.6338, Val_accuracy: 67.43343982960596\n",
      "Model saved.\n"
     ]
    },
    {
     "name": "stderr",
     "output_type": "stream",
     "text": [
      " 24%|█████████████████████████████████████████▎                                                                                                                                  | 12/50 [00:06<00:23,  1.60it/s]"
     ]
    },
    {
     "name": "stdout",
     "output_type": "stream",
     "text": [
      "Epoch [12/50], Train Loss: 1.2796, Train_accuracy: 62.776002839900606, Val Loss: 0.6409, Val_accuracy: 63.10969116080937\n"
     ]
    },
    {
     "name": "stderr",
     "output_type": "stream",
     "text": [
      " 26%|████████████████████████████████████████████▋                                                                                                                               | 13/50 [00:06<00:20,  1.83it/s]"
     ]
    },
    {
     "name": "stdout",
     "output_type": "stream",
     "text": [
      "Epoch [13/50], Train Loss: 1.2673, Train_accuracy: 64.21725239616613, Val Loss: 0.6351, Val_accuracy: 64.40894568690096\n"
     ]
    },
    {
     "name": "stderr",
     "output_type": "stream",
     "text": [
      " 28%|████████████████████████████████████████████████▏                                                                                                                           | 14/50 [00:07<00:17,  2.04it/s]"
     ]
    },
    {
     "name": "stdout",
     "output_type": "stream",
     "text": [
      "Epoch [14/50], Train Loss: 1.2323, Train_accuracy: 69.08768193113241, Val Loss: 0.6193, Val_accuracy: 68.370607028754\n",
      "Model saved.\n"
     ]
    },
    {
     "name": "stderr",
     "output_type": "stream",
     "text": [
      " 30%|███████████████████████████████████████████████████▌                                                                                                                        | 15/50 [00:07<00:15,  2.21it/s]"
     ]
    },
    {
     "name": "stdout",
     "output_type": "stream",
     "text": [
      "Epoch [15/50], Train Loss: 1.2191, Train_accuracy: 69.68406105786298, Val Loss: 0.6151, Val_accuracy: 68.90308839190628\n",
      "Model saved.\n"
     ]
    },
    {
     "name": "stderr",
     "output_type": "stream",
     "text": [
      " 32%|███████████████████████████████████████████████████████                                                                                                                     | 16/50 [00:08<00:21,  1.58it/s]"
     ]
    },
    {
     "name": "stdout",
     "output_type": "stream",
     "text": [
      "Epoch [16/50], Train Loss: 1.2231, Train_accuracy: 67.76002839900603, Val Loss: 0.6188, Val_accuracy: 66.13418530351437\n"
     ]
    },
    {
     "name": "stderr",
     "output_type": "stream",
     "text": [
      " 34%|██████████████████████████████████████████████████████████▍                                                                                                                 | 17/50 [00:08<00:18,  1.81it/s]"
     ]
    },
    {
     "name": "stdout",
     "output_type": "stream",
     "text": [
      "Epoch [17/50], Train Loss: 1.2045, Train_accuracy: 69.10898118565851, Val Loss: 0.6095, Val_accuracy: 67.98722044728434\n"
     ]
    },
    {
     "name": "stderr",
     "output_type": "stream",
     "text": [
      " 36%|█████████████████████████████████████████████████████████████▉                                                                                                              | 18/50 [00:09<00:15,  2.02it/s]"
     ]
    },
    {
     "name": "stdout",
     "output_type": "stream",
     "text": [
      "Epoch [18/50], Train Loss: 1.1814, Train_accuracy: 71.06851260205893, Val Loss: 0.5965, Val_accuracy: 70.35143769968052\n",
      "Model saved.\n"
     ]
    },
    {
     "name": "stderr",
     "output_type": "stream",
     "text": [
      " 38%|█████████████████████████████████████████████████████████████████▎                                                                                                          | 19/50 [00:09<00:14,  2.19it/s]"
     ]
    },
    {
     "name": "stdout",
     "output_type": "stream",
     "text": [
      "Epoch [19/50], Train Loss: 1.1781, Train_accuracy: 70.29463968761094, Val Loss: 0.5936, Val_accuracy: 69.8828541001065\n"
     ]
    },
    {
     "name": "stderr",
     "output_type": "stream",
     "text": [
      " 40%|████████████████████████████████████████████████████████████████████▊                                                                                                       | 20/50 [00:10<00:19,  1.57it/s]"
     ]
    },
    {
     "name": "stdout",
     "output_type": "stream",
     "text": [
      "Epoch [20/50], Train Loss: 1.1665, Train_accuracy: 70.67802626908058, Val Loss: 0.5882, Val_accuracy: 70.20234291799787\n"
     ]
    },
    {
     "name": "stderr",
     "output_type": "stream",
     "text": [
      " 42%|████████████████████████████████████████████████████████████████████████▏                                                                                                   | 21/50 [00:11<00:16,  1.80it/s]"
     ]
    },
    {
     "name": "stdout",
     "output_type": "stream",
     "text": [
      "Epoch [21/50], Train Loss: 1.1488, Train_accuracy: 71.56549520766774, Val Loss: 0.5814, Val_accuracy: 70.94781682641107\n",
      "Model saved.\n"
     ]
    },
    {
     "name": "stderr",
     "output_type": "stream",
     "text": [
      " 44%|███████████████████████████████████████████████████████████████████████████▋                                                                                                | 22/50 [00:11<00:14,  2.00it/s]"
     ]
    },
    {
     "name": "stdout",
     "output_type": "stream",
     "text": [
      "Epoch [22/50], Train Loss: 1.1459, Train_accuracy: 71.30990415335464, Val Loss: 0.5819, Val_accuracy: 70.69222577209797\n"
     ]
    },
    {
     "name": "stderr",
     "output_type": "stream",
     "text": [
      " 46%|███████████████████████████████████████████████████████████████████████████████                                                                                             | 23/50 [00:11<00:12,  2.18it/s]"
     ]
    },
    {
     "name": "stdout",
     "output_type": "stream",
     "text": [
      "Epoch [23/50], Train Loss: 1.1329, Train_accuracy: 71.94888178913737, Val Loss: 0.5753, Val_accuracy: 71.26730564430245\n",
      "Model saved.\n"
     ]
    },
    {
     "name": "stderr",
     "output_type": "stream",
     "text": [
      " 48%|██████████████████████████████████████████████████████████████████████████████████▌                                                                                         | 24/50 [00:12<00:16,  1.56it/s]"
     ]
    },
    {
     "name": "stdout",
     "output_type": "stream",
     "text": [
      "Epoch [24/50], Train Loss: 1.1219, Train_accuracy: 72.23997160099397, Val Loss: 0.5684, Val_accuracy: 71.84238551650692\n",
      "Model saved.\n"
     ]
    },
    {
     "name": "stderr",
     "output_type": "stream",
     "text": [
      " 50%|██████████████████████████████████████████████████████████████████████████████████████                                                                                      | 25/50 [00:13<00:14,  1.78it/s]"
     ]
    },
    {
     "name": "stdout",
     "output_type": "stream",
     "text": [
      "Epoch [25/50], Train Loss: 1.1154, Train_accuracy: 72.55946041888534, Val Loss: 0.5650, Val_accuracy: 71.94888178913737\n",
      "Model saved.\n"
     ]
    },
    {
     "name": "stderr",
     "output_type": "stream",
     "text": [
      " 52%|█████████████████████████████████████████████████████████████████████████████████████████▍                                                                                  | 26/50 [00:13<00:12,  1.99it/s]"
     ]
    },
    {
     "name": "stdout",
     "output_type": "stream",
     "text": [
      "Epoch [26/50], Train Loss: 1.1025, Train_accuracy: 73.22683706070288, Val Loss: 0.5606, Val_accuracy: 72.63045793397231\n",
      "Model saved.\n"
     ]
    },
    {
     "name": "stderr",
     "output_type": "stream",
     "text": [
      " 54%|████████████████████████████████████████████████████████████████████████████████████████████▉                                                                               | 27/50 [00:14<00:10,  2.17it/s]"
     ]
    },
    {
     "name": "stdout",
     "output_type": "stream",
     "text": [
      "Epoch [27/50], Train Loss: 1.0969, Train_accuracy: 73.37593184238551, Val Loss: 0.5595, Val_accuracy: 72.37486687965921\n"
     ]
    },
    {
     "name": "stderr",
     "output_type": "stream",
     "text": [
      " 56%|████████████████████████████████████████████████████████████████████████████████████████████████▎                                                                           | 28/50 [00:15<00:14,  1.55it/s]"
     ]
    },
    {
     "name": "stdout",
     "output_type": "stream",
     "text": [
      "Epoch [28/50], Train Loss: 1.0848, Train_accuracy: 73.9297124600639, Val Loss: 0.5529, Val_accuracy: 73.1629392971246\n",
      "Model saved.\n"
     ]
    },
    {
     "name": "stderr",
     "output_type": "stream",
     "text": [
      " 58%|███████████████████████████████████████████████████████████████████████████████████████████████████▊                                                                        | 29/50 [00:15<00:11,  1.78it/s]"
     ]
    },
    {
     "name": "stdout",
     "output_type": "stream",
     "text": [
      "Epoch [29/50], Train Loss: 1.0776, Train_accuracy: 74.17820376286829, Val Loss: 0.5486, Val_accuracy: 73.50372736954206\n",
      "Model saved.\n"
     ]
    },
    {
     "name": "stderr",
     "output_type": "stream",
     "text": [
      " 60%|███████████████████████████████████████████████████████████████████████████████████████████████████████▏                                                                    | 30/50 [00:15<00:10,  2.00it/s]"
     ]
    },
    {
     "name": "stdout",
     "output_type": "stream",
     "text": [
      "Epoch [30/50], Train Loss: 1.0671, Train_accuracy: 74.70358537451189, Val Loss: 0.5446, Val_accuracy: 73.54632587859425\n",
      "Model saved.\n"
     ]
    },
    {
     "name": "stderr",
     "output_type": "stream",
     "text": [
      " 62%|██████████████████████████████████████████████████████████████████████████████████████████████████████████▋                                                                 | 31/50 [00:16<00:08,  2.17it/s]"
     ]
    },
    {
     "name": "stdout",
     "output_type": "stream",
     "text": [
      "Epoch [31/50], Train Loss: 1.0601, Train_accuracy: 74.9662761803337, Val Loss: 0.5427, Val_accuracy: 73.75931842385516\n",
      "Model saved.\n"
     ]
    },
    {
     "name": "stderr",
     "output_type": "stream",
     "text": [
      " 64%|██████████████████████████████████████████████████████████████████████████████████████████████████████████████                                                              | 32/50 [00:17<00:11,  1.57it/s]"
     ]
    },
    {
     "name": "stdout",
     "output_type": "stream",
     "text": [
      "Epoch [32/50], Train Loss: 1.0501, Train_accuracy: 75.26446574369898, Val Loss: 0.5376, Val_accuracy: 74.05750798722045\n",
      "Model saved.\n"
     ]
    },
    {
     "name": "stderr",
     "output_type": "stream",
     "text": [
      " 66%|█████████████████████████████████████████████████████████████████████████████████████████████████████████████████▌                                                          | 33/50 [00:17<00:09,  1.80it/s]"
     ]
    },
    {
     "name": "stdout",
     "output_type": "stream",
     "text": [
      "Epoch [33/50], Train Loss: 1.0428, Train_accuracy: 75.49165779197727, Val Loss: 0.5338, Val_accuracy: 74.12140575079871\n",
      "Model saved.\n"
     ]
    },
    {
     "name": "stderr",
     "output_type": "stream",
     "text": [
      " 68%|████████████████████████████████████████████████████████████████████████████████████████████████████████████████████▉                                                       | 34/50 [00:17<00:07,  2.00it/s]"
     ]
    },
    {
     "name": "stdout",
     "output_type": "stream",
     "text": [
      "Epoch [34/50], Train Loss: 1.0341, Train_accuracy: 75.83954561590345, Val Loss: 0.5310, Val_accuracy: 74.84558040468583\n",
      "Model saved.\n"
     ]
    },
    {
     "name": "stderr",
     "output_type": "stream",
     "text": [
      " 70%|████████████████████████████████████████████████████████████████████████████████████████████████████████████████████████▍                                                   | 35/50 [00:18<00:06,  2.18it/s]"
     ]
    },
    {
     "name": "stdout",
     "output_type": "stream",
     "text": [
      "Epoch [35/50], Train Loss: 1.0271, Train_accuracy: 76.12353567625134, Val Loss: 0.5285, Val_accuracy: 74.9520766773163\n",
      "Model saved.\n"
     ]
    },
    {
     "name": "stderr",
     "output_type": "stream",
     "text": [
      " 72%|███████████████████████████████████████████████████████████████████████████████████████████████████████████████████████████▊                                                | 36/50 [00:19<00:08,  1.56it/s]"
     ]
    },
    {
     "name": "stdout",
     "output_type": "stream",
     "text": [
      "Epoch [36/50], Train Loss: 1.0193, Train_accuracy: 76.30812921547746, Val Loss: 0.5245, Val_accuracy: 74.76038338658147\n"
     ]
    },
    {
     "name": "stderr",
     "output_type": "stream",
     "text": [
      " 74%|███████████████████████████████████████████████████████████████████████████████████████████████████████████████████████████████▎                                            | 37/50 [00:19<00:07,  1.79it/s]"
     ]
    },
    {
     "name": "stdout",
     "output_type": "stream",
     "text": [
      "Epoch [37/50], Train Loss: 1.0118, Train_accuracy: 76.50692225772097, Val Loss: 0.5219, Val_accuracy: 75.10117145899893\n",
      "Model saved.\n"
     ]
    },
    {
     "name": "stderr",
     "output_type": "stream",
     "text": [
      " 76%|██████████████████████████████████████████████████████████████████████████████████████████████████████████████████████████████████▋                                         | 38/50 [00:20<00:05,  2.00it/s]"
     ]
    },
    {
     "name": "stdout",
     "output_type": "stream",
     "text": [
      "Epoch [38/50], Train Loss: 1.0052, Train_accuracy: 76.85481008164714, Val Loss: 0.5201, Val_accuracy: 75.50585729499467\n",
      "Model saved.\n"
     ]
    },
    {
     "name": "stderr",
     "output_type": "stream",
     "text": [
      " 78%|██████████████████████████████████████████████████████████████████████████████████████████████████████████████████████████████████████▏                                     | 39/50 [00:20<00:05,  2.19it/s]"
     ]
    },
    {
     "name": "stdout",
     "output_type": "stream",
     "text": [
      "Epoch [39/50], Train Loss: 0.9978, Train_accuracy: 76.79091231806886, Val Loss: 0.5167, Val_accuracy: 75.33546325878594\n"
     ]
    },
    {
     "name": "stderr",
     "output_type": "stream",
     "text": [
      " 80%|█████████████████████████████████████████████████████████████████████████████████████████████████████████████████████████████████████████▌                                  | 40/50 [00:21<00:06,  1.56it/s]"
     ]
    },
    {
     "name": "stdout",
     "output_type": "stream",
     "text": [
      "Epoch [40/50], Train Loss: 0.9910, Train_accuracy: 77.03940362087327, Val Loss: 0.5145, Val_accuracy: 75.61235356762514\n",
      "Model saved.\n"
     ]
    },
    {
     "name": "stderr",
     "output_type": "stream",
     "text": [
      " 82%|█████████████████████████████████████████████████████████████████████████████████████████████████████████████████████████████████████████████                               | 41/50 [00:21<00:05,  1.79it/s]"
     ]
    },
    {
     "name": "stdout",
     "output_type": "stream",
     "text": [
      "Epoch [41/50], Train Loss: 0.9847, Train_accuracy: 77.32339368122116, Val Loss: 0.5129, Val_accuracy: 75.6762513312034\n",
      "Model saved.\n"
     ]
    },
    {
     "name": "stderr",
     "output_type": "stream",
     "text": [
      " 84%|████████████████████████████████████████████████████████████████████████████████████████████████████████████████████████████████████████████████▍                           | 42/50 [00:22<00:03,  2.01it/s]"
     ]
    },
    {
     "name": "stdout",
     "output_type": "stream",
     "text": [
      "Epoch [42/50], Train Loss: 0.9779, Train_accuracy: 77.18139865104722, Val Loss: 0.5102, Val_accuracy: 75.54845580404685\n"
     ]
    },
    {
     "name": "stderr",
     "output_type": "stream",
     "text": [
      " 86%|███████████████████████████████████████████████████████████████████████████████████████████████████████████████████████████████████████████████████▉                        | 43/50 [00:22<00:03,  2.18it/s]"
     ]
    },
    {
     "name": "stdout",
     "output_type": "stream",
     "text": [
      "Epoch [43/50], Train Loss: 0.9717, Train_accuracy: 77.35889243876464, Val Loss: 0.5086, Val_accuracy: 75.78274760383387\n",
      "Model saved.\n"
     ]
    },
    {
     "name": "stderr",
     "output_type": "stream",
     "text": [
      " 88%|███████████████████████████████████████████████████████████████████████████████████████████████████████████████████████████████████████████████████████▎                    | 44/50 [00:23<00:03,  1.58it/s]"
     ]
    },
    {
     "name": "stdout",
     "output_type": "stream",
     "text": [
      "Epoch [44/50], Train Loss: 0.9658, Train_accuracy: 77.51508697195598, Val Loss: 0.5070, Val_accuracy: 75.86794462193824\n",
      "Model saved.\n"
     ]
    },
    {
     "name": "stderr",
     "output_type": "stream",
     "text": [
      " 90%|██████████████████████████████████████████████████████████████████████████████████████████████████████████████████████████████████████████████████████████▊                 | 45/50 [00:24<00:02,  1.81it/s]"
     ]
    },
    {
     "name": "stdout",
     "output_type": "stream",
     "text": [
      "Epoch [45/50], Train Loss: 0.9600, Train_accuracy: 77.6925807596734, Val Loss: 0.5050, Val_accuracy: 75.80404685835995\n"
     ]
    },
    {
     "name": "stderr",
     "output_type": "stream",
     "text": [
      " 92%|██████████████████████████████████████████████████████████████████████████████████████████████████████████████████████████████████████████████████████████████▏             | 46/50 [00:24<00:01,  2.02it/s]"
     ]
    },
    {
     "name": "stdout",
     "output_type": "stream",
     "text": [
      "Epoch [46/50], Train Loss: 0.9547, Train_accuracy: 77.86297479588214, Val Loss: 0.5041, Val_accuracy: 76.10223642172524\n",
      "Model saved.\n"
     ]
    },
    {
     "name": "stderr",
     "output_type": "stream",
     "text": [
      " 94%|█████████████████████████████████████████████████████████████████████████████████████████████████████████████████████████████████████████████████████████████████▋          | 47/50 [00:24<00:01,  2.20it/s]"
     ]
    },
    {
     "name": "stdout",
     "output_type": "stream",
     "text": [
      "Epoch [47/50], Train Loss: 0.9493, Train_accuracy: 77.91267305644303, Val Loss: 0.5024, Val_accuracy: 75.97444089456869\n"
     ]
    },
    {
     "name": "stderr",
     "output_type": "stream",
     "text": [
      " 96%|█████████████████████████████████████████████████████████████████████████████████████████████████████████████████████████████████████████████████████████████████████       | 48/50 [00:25<00:01,  1.57it/s]"
     ]
    },
    {
     "name": "stdout",
     "output_type": "stream",
     "text": [
      "Epoch [48/50], Train Loss: 0.9443, Train_accuracy: 78.00496982605608, Val Loss: 0.5013, Val_accuracy: 76.2087326943557\n",
      "Model saved.\n"
     ]
    },
    {
     "name": "stderr",
     "output_type": "stream",
     "text": [
      " 98%|████████████████████████████████████████████████████████████████████████████████████████████████████████████████████████████████████████████████████████████████████████▌   | 49/50 [00:26<00:00,  1.80it/s]"
     ]
    },
    {
     "name": "stdout",
     "output_type": "stream",
     "text": [
      "Epoch [49/50], Train Loss: 0.9396, Train_accuracy: 78.17536386226482, Val Loss: 0.5004, Val_accuracy: 76.29392971246007\n",
      "Model saved.\n"
     ]
    },
    {
     "name": "stderr",
     "output_type": "stream",
     "text": [
      "100%|████████████████████████████████████████████████████████████████████████████████████████████████████████████████████████████████████████████████████████████████████████████| 50/50 [00:26<00:00,  1.88it/s]"
     ]
    },
    {
     "name": "stdout",
     "output_type": "stream",
     "text": [
      "Epoch [50/50], Train Loss: 0.9350, Train_accuracy: 78.17536386226482, Val Loss: 0.4992, Val_accuracy: 76.35782747603834\n",
      "Model saved.\n"
     ]
    },
    {
     "name": "stderr",
     "output_type": "stream",
     "text": [
      "\n"
     ]
    },
    {
     "name": "stdout",
     "output_type": "stream",
     "text": [
      "Test Accucary 76.51192504258944\n",
      "Current sub-neural network has 2 hidden layers.\n",
      "...\n"
     ]
    },
    {
     "name": "stderr",
     "output_type": "stream",
     "text": [
      "  2%|███▍                                                                                                                                                                         | 1/50 [00:00<00:18,  2.66it/s]"
     ]
    },
    {
     "name": "stdout",
     "output_type": "stream",
     "text": [
      "Epoch [1/50], Train Loss: 1.3542, Train_accuracy: 53.53922612708555, Val Loss: 0.6805, Val_accuracy: 52.86474973375932\n",
      "Model saved.\n"
     ]
    },
    {
     "name": "stderr",
     "output_type": "stream",
     "text": [
      "  4%|██████▉                                                                                                                                                                      | 2/50 [00:01<00:37,  1.29it/s]"
     ]
    },
    {
     "name": "stdout",
     "output_type": "stream",
     "text": [
      "Epoch [2/50], Train Loss: 1.4899, Train_accuracy: 49.82605608803692, Val Loss: 0.7425, Val_accuracy: 50.24494142705005\n"
     ]
    },
    {
     "name": "stderr",
     "output_type": "stream",
     "text": [
      "  6%|██████████▍                                                                                                                                                                  | 3/50 [00:01<00:27,  1.69it/s]"
     ]
    },
    {
     "name": "stdout",
     "output_type": "stream",
     "text": [
      "Epoch [3/50], Train Loss: 1.3777, Train_accuracy: 50.65672701455449, Val Loss: 0.6917, Val_accuracy: 50.01064962726304\n"
     ]
    },
    {
     "name": "stderr",
     "output_type": "stream",
     "text": [
      "  8%|█████████████▊                                                                                                                                                               | 4/50 [00:02<00:23,  1.97it/s]"
     ]
    },
    {
     "name": "stdout",
     "output_type": "stream",
     "text": [
      "Epoch [4/50], Train Loss: 1.4111, Train_accuracy: 50.23074192403266, Val Loss: 0.7096, Val_accuracy: 49.818956336528224\n"
     ]
    },
    {
     "name": "stderr",
     "output_type": "stream",
     "text": [
      " 10%|█████████████████▎                                                                                                                                                           | 5/50 [00:02<00:20,  2.17it/s]"
     ]
    },
    {
     "name": "stdout",
     "output_type": "stream",
     "text": [
      "Epoch [5/50], Train Loss: 1.3339, Train_accuracy: 66.31167909123181, Val Loss: 0.6684, Val_accuracy: 65.68690095846645\n",
      "Model saved.\n"
     ]
    },
    {
     "name": "stderr",
     "output_type": "stream",
     "text": [
      " 12%|████████████████████▊                                                                                                                                                        | 6/50 [00:03<00:29,  1.51it/s]"
     ]
    },
    {
     "name": "stdout",
     "output_type": "stream",
     "text": [
      "Epoch [6/50], Train Loss: 1.3642, Train_accuracy: 51.43769968051118, Val Loss: 0.6821, Val_accuracy: 51.71458998935037\n"
     ]
    },
    {
     "name": "stderr",
     "output_type": "stream",
     "text": [
      " 14%|████████████████████████▏                                                                                                                                                    | 7/50 [00:03<00:24,  1.76it/s]"
     ]
    },
    {
     "name": "stdout",
     "output_type": "stream",
     "text": [
      "Epoch [7/50], Train Loss: 1.3090, Train_accuracy: 63.42208022719205, Val Loss: 0.6563, Val_accuracy: 63.25878594249201\n"
     ]
    },
    {
     "name": "stderr",
     "output_type": "stream",
     "text": [
      " 16%|███████████████████████████▋                                                                                                                                                 | 8/50 [00:04<00:21,  1.97it/s]"
     ]
    },
    {
     "name": "stdout",
     "output_type": "stream",
     "text": [
      "Epoch [8/50], Train Loss: 1.2984, Train_accuracy: 60.972665956691515, Val Loss: 0.6545, Val_accuracy: 59.72310969116081\n"
     ]
    },
    {
     "name": "stderr",
     "output_type": "stream",
     "text": [
      " 18%|███████████████████████████████▏                                                                                                                                             | 9/50 [00:04<00:18,  2.16it/s]"
     ]
    },
    {
     "name": "stdout",
     "output_type": "stream",
     "text": [
      "Epoch [9/50], Train Loss: 1.2659, Train_accuracy: 65.66560170394037, Val Loss: 0.6392, Val_accuracy: 64.34504792332268\n"
     ]
    },
    {
     "name": "stderr",
     "output_type": "stream",
     "text": [
      " 20%|██████████████████████████████████▍                                                                                                                                         | 10/50 [00:05<00:26,  1.52it/s]"
     ]
    },
    {
     "name": "stdout",
     "output_type": "stream",
     "text": [
      "Epoch [10/50], Train Loss: 1.2307, Train_accuracy: 68.39190628328008, Val Loss: 0.6196, Val_accuracy: 67.22044728434504\n",
      "Model saved.\n"
     ]
    },
    {
     "name": "stderr",
     "output_type": "stream",
     "text": [
      " 22%|█████████████████████████████████████▊                                                                                                                                      | 11/50 [00:06<00:22,  1.75it/s]"
     ]
    },
    {
     "name": "stdout",
     "output_type": "stream",
     "text": [
      "Epoch [11/50], Train Loss: 1.1959, Train_accuracy: 69.48526801561945, Val Loss: 0.6038, Val_accuracy: 69.54206602768903\n",
      "Model saved.\n"
     ]
    },
    {
     "name": "stderr",
     "output_type": "stream",
     "text": [
      " 24%|█████████████████████████████████████████▎                                                                                                                                  | 12/50 [00:06<00:19,  1.96it/s]"
     ]
    },
    {
     "name": "stdout",
     "output_type": "stream",
     "text": [
      "Epoch [12/50], Train Loss: 1.1874, Train_accuracy: 69.34327298544551, Val Loss: 0.6052, Val_accuracy: 67.71033013844516\n"
     ]
    },
    {
     "name": "stderr",
     "output_type": "stream",
     "text": [
      " 26%|████████████████████████████████████████████▋                                                                                                                               | 13/50 [00:06<00:17,  2.13it/s]"
     ]
    },
    {
     "name": "stdout",
     "output_type": "stream",
     "text": [
      "Epoch [13/50], Train Loss: 1.1462, Train_accuracy: 70.74192403265886, Val Loss: 0.5820, Val_accuracy: 70.52183173588925\n",
      "Model saved.\n"
     ]
    },
    {
     "name": "stderr",
     "output_type": "stream",
     "text": [
      " 28%|████████████████████████████████████████████████▏                                                                                                                           | 14/50 [00:08<00:23,  1.54it/s]"
     ]
    },
    {
     "name": "stdout",
     "output_type": "stream",
     "text": [
      "Epoch [14/50], Train Loss: 1.1300, Train_accuracy: 71.34540291089812, Val Loss: 0.5746, Val_accuracy: 71.05431309904154\n",
      "Model saved.\n"
     ]
    },
    {
     "name": "stderr",
     "output_type": "stream",
     "text": [
      " 30%|███████████████████████████████████████████████████▌                                                                                                                        | 15/50 [00:08<00:19,  1.76it/s]"
     ]
    },
    {
     "name": "stdout",
     "output_type": "stream",
     "text": [
      "Epoch [15/50], Train Loss: 1.1228, Train_accuracy: 71.94888178913737, Val Loss: 0.5766, Val_accuracy: 70.8626198083067\n"
     ]
    },
    {
     "name": "stderr",
     "output_type": "stream",
     "text": [
      " 32%|███████████████████████████████████████████████████████                                                                                                                     | 16/50 [00:08<00:17,  1.96it/s]"
     ]
    },
    {
     "name": "stdout",
     "output_type": "stream",
     "text": [
      "Epoch [16/50], Train Loss: 1.0978, Train_accuracy: 72.78665246716365, Val Loss: 0.5600, Val_accuracy: 71.82108626198082\n",
      "Model saved.\n"
     ]
    },
    {
     "name": "stderr",
     "output_type": "stream",
     "text": [
      " 34%|██████████████████████████████████████████████████████████▍                                                                                                                 | 17/50 [00:09<00:15,  2.13it/s]"
     ]
    },
    {
     "name": "stdout",
     "output_type": "stream",
     "text": [
      "Epoch [17/50], Train Loss: 1.0717, Train_accuracy: 74.22080227192048, Val Loss: 0.5520, Val_accuracy: 72.9286474973376\n",
      "Model saved.\n"
     ]
    },
    {
     "name": "stderr",
     "output_type": "stream",
     "text": [
      " 36%|█████████████████████████████████████████████████████████████▉                                                                                                              | 18/50 [00:10<00:20,  1.54it/s]"
     ]
    },
    {
     "name": "stdout",
     "output_type": "stream",
     "text": [
      "Epoch [18/50], Train Loss: 1.0485, Train_accuracy: 75.16506922257722, Val Loss: 0.5399, Val_accuracy: 73.88711395101171\n",
      "Model saved.\n"
     ]
    },
    {
     "name": "stderr",
     "output_type": "stream",
     "text": [
      " 38%|█████████████████████████████████████████████████████████████████▎                                                                                                          | 19/50 [00:10<00:17,  1.76it/s]"
     ]
    },
    {
     "name": "stdout",
     "output_type": "stream",
     "text": [
      "Epoch [19/50], Train Loss: 1.0311, Train_accuracy: 75.9531416400426, Val Loss: 0.5325, Val_accuracy: 74.48349307774228\n",
      "Model saved.\n"
     ]
    },
    {
     "name": "stderr",
     "output_type": "stream",
     "text": [
      " 40%|████████████████████████████████████████████████████████████████████▊                                                                                                       | 20/50 [00:10<00:15,  1.96it/s]"
     ]
    },
    {
     "name": "stdout",
     "output_type": "stream",
     "text": [
      "Epoch [20/50], Train Loss: 1.0174, Train_accuracy: 76.23713170039049, Val Loss: 0.5278, Val_accuracy: 74.82428115015975\n",
      "Model saved.\n"
     ]
    },
    {
     "name": "stderr",
     "output_type": "stream",
     "text": [
      " 42%|████████████████████████████████████████████████████████████████████████▏                                                                                                   | 21/50 [00:11<00:13,  2.12it/s]"
     ]
    },
    {
     "name": "stdout",
     "output_type": "stream",
     "text": [
      "Epoch [21/50], Train Loss: 1.0043, Train_accuracy: 76.53532126375576, Val Loss: 0.5219, Val_accuracy: 75.05857294994675\n",
      "Model saved.\n"
     ]
    },
    {
     "name": "stderr",
     "output_type": "stream",
     "text": [
      " 44%|███████████████████████████████████████████████████████████████████████████▋                                                                                                | 22/50 [00:12<00:18,  1.53it/s]"
     ]
    },
    {
     "name": "stdout",
     "output_type": "stream",
     "text": [
      "Epoch [22/50], Train Loss: 0.9932, Train_accuracy: 76.74121405750799, Val Loss: 0.5186, Val_accuracy: 75.01597444089457\n"
     ]
    },
    {
     "name": "stderr",
     "output_type": "stream",
     "text": [
      " 46%|███████████████████████████████████████████████████████████████████████████████                                                                                             | 23/50 [00:12<00:15,  1.75it/s]"
     ]
    },
    {
     "name": "stdout",
     "output_type": "stream",
     "text": [
      "Epoch [23/50], Train Loss: 0.9828, Train_accuracy: 77.02520411785588, Val Loss: 0.5160, Val_accuracy: 75.1863684771033\n",
      "Model saved.\n"
     ]
    },
    {
     "name": "stderr",
     "output_type": "stream",
     "text": [
      " 48%|██████████████████████████████████████████████████████████████████████████████████▌                                                                                         | 24/50 [00:13<00:13,  1.96it/s]"
     ]
    },
    {
     "name": "stdout",
     "output_type": "stream",
     "text": [
      "Epoch [24/50], Train Loss: 0.9714, Train_accuracy: 76.92580759673412, Val Loss: 0.5112, Val_accuracy: 74.90947816826412\n"
     ]
    },
    {
     "name": "stderr",
     "output_type": "stream",
     "text": [
      " 50%|██████████████████████████████████████████████████████████████████████████████████████                                                                                      | 25/50 [00:13<00:11,  2.13it/s]"
     ]
    },
    {
     "name": "stdout",
     "output_type": "stream",
     "text": [
      "Epoch [25/50], Train Loss: 0.9660, Train_accuracy: 77.52928647497338, Val Loss: 0.5137, Val_accuracy: 75.12247071352503\n"
     ]
    },
    {
     "name": "stderr",
     "output_type": "stream",
     "text": [
      " 52%|█████████████████████████████████████████████████████████████████████████████████████████▍                                                                                  | 26/50 [00:14<00:15,  1.53it/s]"
     ]
    },
    {
     "name": "stdout",
     "output_type": "stream",
     "text": [
      "Epoch [26/50], Train Loss: 0.9488, Train_accuracy: 77.64998225062122, Val Loss: 0.5052, Val_accuracy: 75.52715654952077\n",
      "Model saved.\n"
     ]
    },
    {
     "name": "stderr",
     "output_type": "stream",
     "text": [
      " 54%|████████████████████████████████████████████████████████████████████████████████████████████▉                                                                               | 27/50 [00:15<00:13,  1.76it/s]"
     ]
    },
    {
     "name": "stdout",
     "output_type": "stream",
     "text": [
      "Epoch [27/50], Train Loss: 0.9390, Train_accuracy: 78.30315938942137, Val Loss: 0.5044, Val_accuracy: 75.6975505857295\n",
      "Model saved.\n"
     ]
    },
    {
     "name": "stderr",
     "output_type": "stream",
     "text": [
      " 56%|████████████████████████████████████████████████████████████████████████████████████████████████▎                                                                           | 28/50 [00:15<00:11,  1.96it/s]"
     ]
    },
    {
     "name": "stdout",
     "output_type": "stream",
     "text": [
      "Epoch [28/50], Train Loss: 0.9374, Train_accuracy: 78.2392616258431, Val Loss: 0.5078, Val_accuracy: 75.4206602768903\n"
     ]
    },
    {
     "name": "stderr",
     "output_type": "stream",
     "text": [
      " 58%|███████████████████████████████████████████████████████████████████████████████████████████████████▊                                                                        | 29/50 [00:15<00:09,  2.13it/s]"
     ]
    },
    {
     "name": "stdout",
     "output_type": "stream",
     "text": [
      "Epoch [29/50], Train Loss: 0.9230, Train_accuracy: 78.40255591054313, Val Loss: 0.5009, Val_accuracy: 75.48455804046858\n"
     ]
    },
    {
     "name": "stderr",
     "output_type": "stream",
     "text": [
      " 60%|███████████████████████████████████████████████████████████████████████████████████████████████████████▏                                                                    | 30/50 [00:16<00:12,  1.55it/s]"
     ]
    },
    {
     "name": "stdout",
     "output_type": "stream",
     "text": [
      "Epoch [30/50], Train Loss: 0.9163, Train_accuracy: 78.60134895278665, Val Loss: 0.5008, Val_accuracy: 75.50585729499467\n"
     ]
    },
    {
     "name": "stderr",
     "output_type": "stream",
     "text": [
      " 62%|██████████████████████████████████████████████████████████████████████████████████████████████████████████▋                                                                 | 31/50 [00:17<00:10,  1.76it/s]"
     ]
    },
    {
     "name": "stdout",
     "output_type": "stream",
     "text": [
      "Epoch [31/50], Train Loss: 0.9220, Train_accuracy: 78.35995740149095, Val Loss: 0.5083, Val_accuracy: 75.6975505857295\n"
     ]
    },
    {
     "name": "stderr",
     "output_type": "stream",
     "text": [
      " 64%|██████████████████████████████████████████████████████████████████████████████████████████████████████████████                                                              | 32/50 [00:17<00:09,  1.97it/s]"
     ]
    },
    {
     "name": "stdout",
     "output_type": "stream",
     "text": [
      "Epoch [32/50], Train Loss: 0.9091, Train_accuracy: 78.72204472843451, Val Loss: 0.5032, Val_accuracy: 75.6762513312034\n"
     ]
    },
    {
     "name": "stderr",
     "output_type": "stream",
     "text": [
      " 66%|█████████████████████████████████████████████████████████████████████████████████████████████████████████████████▌                                                          | 33/50 [00:17<00:07,  2.13it/s]"
     ]
    },
    {
     "name": "stdout",
     "output_type": "stream",
     "text": [
      "Epoch [33/50], Train Loss: 0.8992, Train_accuracy: 78.94213702520412, Val Loss: 0.4983, Val_accuracy: 75.80404685835995\n",
      "Model saved.\n"
     ]
    },
    {
     "name": "stderr",
     "output_type": "stream",
     "text": [
      " 68%|████████████████████████████████████████████████████████████████████████████████████████████████████████████████████▉                                                       | 34/50 [00:19<00:10,  1.54it/s]"
     ]
    },
    {
     "name": "stdout",
     "output_type": "stream",
     "text": [
      "Epoch [34/50], Train Loss: 0.8958, Train_accuracy: 79.06993255236067, Val Loss: 0.5001, Val_accuracy: 75.71884984025559\n"
     ]
    },
    {
     "name": "stderr",
     "output_type": "stream",
     "text": [
      " 70%|████████████████████████████████████████████████████████████████████████████████████████████████████████████████████████▍                                                   | 35/50 [00:19<00:08,  1.76it/s]"
     ]
    },
    {
     "name": "stdout",
     "output_type": "stream",
     "text": [
      "Epoch [35/50], Train Loss: 0.9093, Train_accuracy: 78.89953851615194, Val Loss: 0.5116, Val_accuracy: 75.52715654952077\n"
     ]
    },
    {
     "name": "stderr",
     "output_type": "stream",
     "text": [
      " 72%|███████████████████████████████████████████████████████████████████████████████████████████████████████████████████████████▊                                                | 36/50 [00:19<00:07,  1.97it/s]"
     ]
    },
    {
     "name": "stdout",
     "output_type": "stream",
     "text": [
      "Epoch [36/50], Train Loss: 0.8946, Train_accuracy: 79.57401490947817, Val Loss: 0.5052, Val_accuracy: 75.78274760383387\n"
     ]
    },
    {
     "name": "stderr",
     "output_type": "stream",
     "text": [
      " 74%|███████████████████████████████████████████████████████████████████████████████████████████████████████████████████████████████▎                                            | 37/50 [00:20<00:06,  2.12it/s]"
     ]
    },
    {
     "name": "stdout",
     "output_type": "stream",
     "text": [
      "Epoch [37/50], Train Loss: 0.8841, Train_accuracy: 79.36812211572595, Val Loss: 0.4985, Val_accuracy: 75.4206602768903\n"
     ]
    },
    {
     "name": "stderr",
     "output_type": "stream",
     "text": [
      " 76%|██████████████████████████████████████████████████████████████████████████████████████████████████████████████████████████████████▋                                         | 38/50 [00:21<00:07,  1.54it/s]"
     ]
    },
    {
     "name": "stdout",
     "output_type": "stream",
     "text": [
      "Epoch [38/50], Train Loss: 0.8794, Train_accuracy: 79.4746183883564, Val Loss: 0.4993, Val_accuracy: 75.56975505857295\n"
     ]
    },
    {
     "name": "stderr",
     "output_type": "stream",
     "text": [
      " 78%|██████████████████████████████████████████████████████████████████████████████████████████████████████████████████████████████████████▏                                     | 39/50 [00:21<00:06,  1.76it/s]"
     ]
    },
    {
     "name": "stdout",
     "output_type": "stream",
     "text": [
      "Epoch [39/50], Train Loss: 0.8922, Train_accuracy: 79.43911963081293, Val Loss: 0.5101, Val_accuracy: 75.56975505857295\n"
     ]
    },
    {
     "name": "stderr",
     "output_type": "stream",
     "text": [
      " 80%|█████████████████████████████████████████████████████████████████████████████████████████████████████████████████████████████████████████▌                                  | 40/50 [00:21<00:05,  1.95it/s]"
     ]
    },
    {
     "name": "stdout",
     "output_type": "stream",
     "text": [
      "Epoch [40/50], Train Loss: 0.8784, Train_accuracy: 79.93610223642173, Val Loss: 0.5033, Val_accuracy: 75.86794462193824\n",
      "Model saved.\n"
     ]
    },
    {
     "name": "stderr",
     "output_type": "stream",
     "text": [
      " 82%|█████████████████████████████████████████████████████████████████████████████████████████████████████████████████████████████████████████████                               | 41/50 [00:22<00:04,  2.11it/s]"
     ]
    },
    {
     "name": "stdout",
     "output_type": "stream",
     "text": [
      "Epoch [41/50], Train Loss: 0.8710, Train_accuracy: 79.78700745473908, Val Loss: 0.4981, Val_accuracy: 75.33546325878594\n"
     ]
    },
    {
     "name": "stderr",
     "output_type": "stream",
     "text": [
      " 84%|████████████████████████████████████████████████████████████████████████████████████████████████████████████████████████████████████████████████▍                           | 42/50 [00:22<00:03,  2.27it/s]"
     ]
    },
    {
     "name": "stdout",
     "output_type": "stream",
     "text": [
      "Epoch [42/50], Train Loss: 0.8669, Train_accuracy: 80.18459353922613, Val Loss: 0.4988, Val_accuracy: 75.6975505857295\n"
     ]
    },
    {
     "name": "stderr",
     "output_type": "stream",
     "text": [
      " 86%|███████████████████████████████████████████████████████████████████████████████████████████████████████████████████████████████████████████████████▉                        | 43/50 [00:23<00:04,  1.58it/s]"
     ]
    },
    {
     "name": "stdout",
     "output_type": "stream",
     "text": [
      "Epoch [43/50], Train Loss: 0.8773, Train_accuracy: 79.66631167909124, Val Loss: 0.5078, Val_accuracy: 75.6762513312034\n"
     ]
    },
    {
     "name": "stderr",
     "output_type": "stream",
     "text": [
      " 88%|███████████████████████████████████████████████████████████████████████████████████████████████████████████████████████████████████████████████████████▎                    | 44/50 [00:24<00:03,  1.79it/s]"
     ]
    },
    {
     "name": "stdout",
     "output_type": "stream",
     "text": [
      "Epoch [44/50], Train Loss: 0.8664, Train_accuracy: 80.21299254526092, Val Loss: 0.5029, Val_accuracy: 75.59105431309904\n"
     ]
    },
    {
     "name": "stderr",
     "output_type": "stream",
     "text": [
      " 90%|██████████████████████████████████████████████████████████████████████████████████████████████████████████████████████████████████████████████████████████▊                 | 45/50 [00:24<00:02,  2.00it/s]"
     ]
    },
    {
     "name": "stdout",
     "output_type": "stream",
     "text": [
      "Epoch [45/50], Train Loss: 0.8581, Train_accuracy: 80.21299254526092, Val Loss: 0.4980, Val_accuracy: 75.76144834930777\n"
     ]
    },
    {
     "name": "stderr",
     "output_type": "stream",
     "text": [
      " 92%|██████████████████████████████████████████████████████████████████████████████████████████████████████████████████████████████████████████████████████████████▏             | 46/50 [00:24<00:01,  2.10it/s]"
     ]
    },
    {
     "name": "stdout",
     "output_type": "stream",
     "text": [
      "Epoch [46/50], Train Loss: 0.8547, Train_accuracy: 80.46148384806531, Val Loss: 0.4985, Val_accuracy: 75.59105431309904\n"
     ]
    },
    {
     "name": "stderr",
     "output_type": "stream",
     "text": [
      " 94%|█████████████████████████████████████████████████████████████████████████████████████████████████████████████████████████████████████████████████████████████████▋          | 47/50 [00:26<00:01,  1.54it/s]"
     ]
    },
    {
     "name": "stdout",
     "output_type": "stream",
     "text": [
      "Epoch [47/50], Train Loss: 0.8615, Train_accuracy: 80.30528931487397, Val Loss: 0.5057, Val_accuracy: 75.80404685835995\n"
     ]
    },
    {
     "name": "stderr",
     "output_type": "stream",
     "text": [
      " 96%|█████████████████████████████████████████████████████████████████████████████████████████████████████████████████████████████████████████████████████████████████████       | 48/50 [00:26<00:01,  1.76it/s]"
     ]
    },
    {
     "name": "stdout",
     "output_type": "stream",
     "text": [
      "Epoch [48/50], Train Loss: 0.8639, Train_accuracy: 80.05679801206958, Val Loss: 0.5087, Val_accuracy: 75.80404685835995\n"
     ]
    },
    {
     "name": "stderr",
     "output_type": "stream",
     "text": [
      " 98%|████████████████████████████████████████████████████████████████████████████████████████████████████████████████████████████████████████████████████████████████████████▌   | 49/50 [00:26<00:00,  1.94it/s]"
     ]
    },
    {
     "name": "stdout",
     "output_type": "stream",
     "text": [
      "Epoch [49/50], Train Loss: 0.8470, Train_accuracy: 80.62477813276536, Val Loss: 0.4994, Val_accuracy: 75.88924387646432\n",
      "Model saved.\n"
     ]
    },
    {
     "name": "stderr",
     "output_type": "stream",
     "text": [
      "100%|████████████████████████████████████████████████████████████████████████████████████████████████████████████████████████████████████████████████████████████████████████████| 50/50 [00:27<00:00,  1.84it/s]"
     ]
    },
    {
     "name": "stdout",
     "output_type": "stream",
     "text": [
      "Epoch [50/50], Train Loss: 0.8436, Train_accuracy: 80.66737664181754, Val Loss: 0.4974, Val_accuracy: 75.9318423855165\n",
      "Model saved.\n"
     ]
    },
    {
     "name": "stderr",
     "output_type": "stream",
     "text": [
      "\n"
     ]
    },
    {
     "name": "stdout",
     "output_type": "stream",
     "text": [
      "Test Accucary 76.70357751277683\n",
      "Current sub-neural network has 3 hidden layers.\n",
      "...\n"
     ]
    },
    {
     "name": "stderr",
     "output_type": "stream",
     "text": [
      "  2%|███▍                                                                                                                                                                         | 1/50 [00:00<00:18,  2.62it/s]"
     ]
    },
    {
     "name": "stdout",
     "output_type": "stream",
     "text": [
      "Epoch [1/50], Train Loss: 1.3634, Train_accuracy: 52.55946041888534, Val Loss: 0.6812, Val_accuracy: 52.694355697550584\n",
      "Model saved.\n"
     ]
    },
    {
     "name": "stderr",
     "output_type": "stream",
     "text": [
      "  4%|██████▉                                                                                                                                                                      | 2/50 [00:00<00:18,  2.63it/s]"
     ]
    },
    {
     "name": "stdout",
     "output_type": "stream",
     "text": [
      "Epoch [2/50], Train Loss: 1.2956, Train_accuracy: 61.16435924742634, Val Loss: 0.6549, Val_accuracy: 60.425985090521834\n",
      "Model saved.\n"
     ]
    },
    {
     "name": "stderr",
     "output_type": "stream",
     "text": [
      "  6%|██████████▍                                                                                                                                                                  | 3/50 [00:01<00:17,  2.64it/s]"
     ]
    },
    {
     "name": "stdout",
     "output_type": "stream",
     "text": [
      "Epoch [3/50], Train Loss: 1.2532, Train_accuracy: 65.09762158324459, Val Loss: 0.6288, Val_accuracy: 64.68583599574015\n",
      "Model saved.\n"
     ]
    },
    {
     "name": "stderr",
     "output_type": "stream",
     "text": [
      "  8%|█████████████▊                                                                                                                                                               | 4/50 [00:02<00:29,  1.55it/s]"
     ]
    },
    {
     "name": "stdout",
     "output_type": "stream",
     "text": [
      "Epoch [4/50], Train Loss: 1.2141, Train_accuracy: 68.04401845935392, Val Loss: 0.6178, Val_accuracy: 66.87965921192759\n",
      "Model saved.\n"
     ]
    },
    {
     "name": "stderr",
     "output_type": "stream",
     "text": [
      " 10%|█████████████████▎                                                                                                                                                           | 5/50 [00:02<00:24,  1.83it/s]"
     ]
    },
    {
     "name": "stdout",
     "output_type": "stream",
     "text": [
      "Epoch [5/50], Train Loss: 1.1634, Train_accuracy: 70.152644657437, Val Loss: 0.5875, Val_accuracy: 69.49946751863685\n",
      "Model saved.\n"
     ]
    },
    {
     "name": "stderr",
     "output_type": "stream",
     "text": [
      " 12%|████████████████████▊                                                                                                                                                        | 6/50 [00:02<00:21,  2.06it/s]"
     ]
    },
    {
     "name": "stdout",
     "output_type": "stream",
     "text": [
      "Epoch [6/50], Train Loss: 1.1236, Train_accuracy: 72.58075967341144, Val Loss: 0.5745, Val_accuracy: 71.09691160809372\n",
      "Model saved.\n"
     ]
    },
    {
     "name": "stderr",
     "output_type": "stream",
     "text": [
      " 14%|████████████████████████▏                                                                                                                                                    | 7/50 [00:03<00:19,  2.22it/s]"
     ]
    },
    {
     "name": "stdout",
     "output_type": "stream",
     "text": [
      "Epoch [7/50], Train Loss: 1.0883, Train_accuracy: 73.77351792687256, Val Loss: 0.5550, Val_accuracy: 72.73695420660277\n",
      "Model saved.\n"
     ]
    },
    {
     "name": "stderr",
     "output_type": "stream",
     "text": [
      " 16%|███████████████████████████▋                                                                                                                                                 | 8/50 [00:04<00:26,  1.56it/s]"
     ]
    },
    {
     "name": "stdout",
     "output_type": "stream",
     "text": [
      "Epoch [8/50], Train Loss: 1.0618, Train_accuracy: 75.13667021654243, Val Loss: 0.5465, Val_accuracy: 73.82321618743345\n",
      "Model saved.\n"
     ]
    },
    {
     "name": "stderr",
     "output_type": "stream",
     "text": [
      " 18%|███████████████████████████████▏                                                                                                                                             | 9/50 [00:04<00:22,  1.80it/s]"
     ]
    },
    {
     "name": "stdout",
     "output_type": "stream",
     "text": [
      "Epoch [9/50], Train Loss: 1.0405, Train_accuracy: 75.71884984025559, Val Loss: 0.5336, Val_accuracy: 74.24920127795527\n",
      "Model saved.\n"
     ]
    },
    {
     "name": "stderr",
     "output_type": "stream",
     "text": [
      " 20%|██████████████████████████████████▍                                                                                                                                         | 10/50 [00:05<00:20,  1.99it/s]"
     ]
    },
    {
     "name": "stdout",
     "output_type": "stream",
     "text": [
      "Epoch [10/50], Train Loss: 1.0373, Train_accuracy: 75.84664536741214, Val Loss: 0.5391, Val_accuracy: 74.31309904153355\n",
      "Model saved.\n"
     ]
    },
    {
     "name": "stderr",
     "output_type": "stream",
     "text": [
      " 22%|█████████████████████████████████████▊                                                                                                                                      | 11/50 [00:05<00:18,  2.16it/s]"
     ]
    },
    {
     "name": "stdout",
     "output_type": "stream",
     "text": [
      "Epoch [11/50], Train Loss: 1.0204, Train_accuracy: 75.98864039758608, Val Loss: 0.5258, Val_accuracy: 74.71778487752928\n",
      "Model saved.\n"
     ]
    },
    {
     "name": "stderr",
     "output_type": "stream",
     "text": [
      " 24%|█████████████████████████████████████████▎                                                                                                                                  | 12/50 [00:06<00:24,  1.55it/s]"
     ]
    },
    {
     "name": "stdout",
     "output_type": "stream",
     "text": [
      "Epoch [12/50], Train Loss: 0.9994, Train_accuracy: 76.9471068512602, Val Loss: 0.5233, Val_accuracy: 75.25026624068158\n",
      "Model saved.\n"
     ]
    },
    {
     "name": "stderr",
     "output_type": "stream",
     "text": [
      " 26%|████████████████████████████████████████████▋                                                                                                                               | 13/50 [00:06<00:20,  1.77it/s]"
     ]
    },
    {
     "name": "stdout",
     "output_type": "stream",
     "text": [
      "Epoch [13/50], Train Loss: 0.9848, Train_accuracy: 77.46538871139511, Val Loss: 0.5183, Val_accuracy: 75.35676251331203\n",
      "Model saved.\n"
     ]
    },
    {
     "name": "stderr",
     "output_type": "stream",
     "text": [
      " 28%|████████████████████████████████████████████████▏                                                                                                                           | 14/50 [00:07<00:18,  1.97it/s]"
     ]
    },
    {
     "name": "stdout",
     "output_type": "stream",
     "text": [
      "Epoch [14/50], Train Loss: 0.9792, Train_accuracy: 77.01100461483848, Val Loss: 0.5136, Val_accuracy: 75.37806176783812\n",
      "Model saved.\n"
     ]
    },
    {
     "name": "stderr",
     "output_type": "stream",
     "text": [
      " 30%|███████████████████████████████████████████████████▌                                                                                                                        | 15/50 [00:07<00:16,  2.15it/s]"
     ]
    },
    {
     "name": "stdout",
     "output_type": "stream",
     "text": [
      "Epoch [15/50], Train Loss: 0.9636, Train_accuracy: 77.83457578984735, Val Loss: 0.5143, Val_accuracy: 75.65495207667732\n",
      "Model saved.\n"
     ]
    },
    {
     "name": "stderr",
     "output_type": "stream",
     "text": [
      " 32%|███████████████████████████████████████████████████████                                                                                                                     | 16/50 [00:08<00:21,  1.56it/s]"
     ]
    },
    {
     "name": "stdout",
     "output_type": "stream",
     "text": [
      "Epoch [16/50], Train Loss: 0.9497, Train_accuracy: 78.14696485623003, Val Loss: 0.5098, Val_accuracy: 75.65495207667732\n"
     ]
    },
    {
     "name": "stderr",
     "output_type": "stream",
     "text": [
      " 34%|██████████████████████████████████████████████████████████▍                                                                                                                 | 17/50 [00:09<00:18,  1.79it/s]"
     ]
    },
    {
     "name": "stdout",
     "output_type": "stream",
     "text": [
      "Epoch [17/50], Train Loss: 0.9427, Train_accuracy: 78.17536386226482, Val Loss: 0.5045, Val_accuracy: 75.91054313099042\n",
      "Model saved.\n"
     ]
    },
    {
     "name": "stderr",
     "output_type": "stream",
     "text": [
      " 36%|█████████████████████████████████████████████████████████████▉                                                                                                              | 18/50 [00:09<00:16,  2.00it/s]"
     ]
    },
    {
     "name": "stdout",
     "output_type": "stream",
     "text": [
      "Epoch [18/50], Train Loss: 0.9285, Train_accuracy: 78.58714944976926, Val Loss: 0.5039, Val_accuracy: 75.82534611288605\n"
     ]
    },
    {
     "name": "stderr",
     "output_type": "stream",
     "text": [
      " 38%|█████████████████████████████████████████████████████████████████▎                                                                                                          | 19/50 [00:09<00:14,  2.16it/s]"
     ]
    },
    {
     "name": "stdout",
     "output_type": "stream",
     "text": [
      "Epoch [19/50], Train Loss: 0.9446, Train_accuracy: 78.09726659566915, Val Loss: 0.5166, Val_accuracy: 75.27156549520767\n"
     ]
    },
    {
     "name": "stderr",
     "output_type": "stream",
     "text": [
      " 40%|████████████████████████████████████████████████████████████████████▊                                                                                                       | 20/50 [00:10<00:19,  1.56it/s]"
     ]
    },
    {
     "name": "stdout",
     "output_type": "stream",
     "text": [
      "Epoch [20/50], Train Loss: 0.9106, Train_accuracy: 79.24742634007809, Val Loss: 0.4993, Val_accuracy: 76.27263045793397\n",
      "Model saved.\n"
     ]
    },
    {
     "name": "stderr",
     "output_type": "stream",
     "text": [
      " 42%|████████████████████████████████████████████████████████████████████████▏                                                                                                   | 21/50 [00:11<00:16,  1.80it/s]"
     ]
    },
    {
     "name": "stdout",
     "output_type": "stream",
     "text": [
      "Epoch [21/50], Train Loss: 0.9105, Train_accuracy: 78.92083777067802, Val Loss: 0.5001, Val_accuracy: 75.76144834930777\n"
     ]
    },
    {
     "name": "stderr",
     "output_type": "stream",
     "text": [
      " 44%|███████████████████████████████████████████████████████████████████████████▋                                                                                                | 22/50 [00:11<00:14,  2.00it/s]"
     ]
    },
    {
     "name": "stdout",
     "output_type": "stream",
     "text": [
      "Epoch [22/50], Train Loss: 0.8970, Train_accuracy: 79.5101171458999, Val Loss: 0.4995, Val_accuracy: 76.10223642172524\n"
     ]
    },
    {
     "name": "stderr",
     "output_type": "stream",
     "text": [
      " 46%|███████████████████████████████████████████████████████████████████████████████                                                                                             | 23/50 [00:11<00:12,  2.18it/s]"
     ]
    },
    {
     "name": "stdout",
     "output_type": "stream",
     "text": [
      "Epoch [23/50], Train Loss: 0.9407, Train_accuracy: 78.26766063187789, Val Loss: 0.5283, Val_accuracy: 74.90947816826412\n"
     ]
    },
    {
     "name": "stderr",
     "output_type": "stream",
     "text": [
      " 48%|██████████████████████████████████████████████████████████████████████████████████▌                                                                                         | 24/50 [00:12<00:11,  2.32it/s]"
     ]
    },
    {
     "name": "stdout",
     "output_type": "stream",
     "text": [
      "Epoch [24/50], Train Loss: 0.9561, Train_accuracy: 77.7067802626908, Val Loss: 0.5379, Val_accuracy: 74.31309904153355\n"
     ]
    },
    {
     "name": "stderr",
     "output_type": "stream",
     "text": [
      " 50%|██████████████████████████████████████████████████████████████████████████████████████                                                                                      | 25/50 [00:13<00:15,  1.63it/s]"
     ]
    },
    {
     "name": "stdout",
     "output_type": "stream",
     "text": [
      "Epoch [25/50], Train Loss: 0.9455, Train_accuracy: 77.64998225062122, Val Loss: 0.5220, Val_accuracy: 74.24920127795527\n"
     ]
    },
    {
     "name": "stderr",
     "output_type": "stream",
     "text": [
      " 52%|█████████████████████████████████████████████████████████████████████████████████████████▍                                                                                  | 26/50 [00:13<00:12,  1.86it/s]"
     ]
    },
    {
     "name": "stdout",
     "output_type": "stream",
     "text": [
      "Epoch [26/50], Train Loss: 0.9070, Train_accuracy: 79.19062832800851, Val Loss: 0.5126, Val_accuracy: 75.50585729499467\n"
     ]
    },
    {
     "name": "stderr",
     "output_type": "stream",
     "text": [
      " 54%|████████████████████████████████████████████████████████████████████████████████████████████▉                                                                               | 27/50 [00:14<00:11,  2.06it/s]"
     ]
    },
    {
     "name": "stdout",
     "output_type": "stream",
     "text": [
      "Epoch [27/50], Train Loss: 0.8817, Train_accuracy: 80.10649627263045, Val Loss: 0.4973, Val_accuracy: 76.12353567625134\n"
     ]
    },
    {
     "name": "stderr",
     "output_type": "stream",
     "text": [
      " 56%|████████████████████████████████████████████████████████████████████████████████████████████████▎                                                                           | 28/50 [00:14<00:09,  2.20it/s]"
     ]
    },
    {
     "name": "stdout",
     "output_type": "stream",
     "text": [
      "Epoch [28/50], Train Loss: 0.8786, Train_accuracy: 80.21299254526092, Val Loss: 0.4973, Val_accuracy: 76.03833865814697\n"
     ]
    },
    {
     "name": "stderr",
     "output_type": "stream",
     "text": [
      " 58%|███████████████████████████████████████████████████████████████████████████████████████████████████▊                                                                        | 29/50 [00:15<00:13,  1.57it/s]"
     ]
    },
    {
     "name": "stdout",
     "output_type": "stream",
     "text": [
      "Epoch [29/50], Train Loss: 0.8858, Train_accuracy: 79.82250621228258, Val Loss: 0.5056, Val_accuracy: 75.9531416400426\n"
     ]
    },
    {
     "name": "stderr",
     "output_type": "stream",
     "text": [
      " 60%|███████████████████████████████████████████████████████████████████████████████████████████████████████▏                                                                    | 30/50 [00:15<00:11,  1.80it/s]"
     ]
    },
    {
     "name": "stdout",
     "output_type": "stream",
     "text": [
      "Epoch [30/50], Train Loss: 0.8893, Train_accuracy: 79.53851615193469, Val Loss: 0.5045, Val_accuracy: 75.99574014909479\n"
     ]
    },
    {
     "name": "stderr",
     "output_type": "stream",
     "text": [
      " 62%|██████████████████████████████████████████████████████████████████████████████████████████████████████████▋                                                                 | 31/50 [00:16<00:09,  1.99it/s]"
     ]
    },
    {
     "name": "stdout",
     "output_type": "stream",
     "text": [
      "Epoch [31/50], Train Loss: 0.8897, Train_accuracy: 79.85090521831737, Val Loss: 0.5131, Val_accuracy: 75.65495207667732\n"
     ]
    },
    {
     "name": "stderr",
     "output_type": "stream",
     "text": [
      " 64%|██████████████████████████████████████████████████████████████████████████████████████████████████████████████                                                              | 32/50 [00:16<00:08,  2.16it/s]"
     ]
    },
    {
     "name": "stdout",
     "output_type": "stream",
     "text": [
      "Epoch [32/50], Train Loss: 0.8678, Train_accuracy: 80.37628682996095, Val Loss: 0.5000, Val_accuracy: 76.1874334398296\n"
     ]
    },
    {
     "name": "stderr",
     "output_type": "stream",
     "text": [
      " 66%|█████████████████████████████████████████████████████████████████████████████████████████████████████████████████▌                                                          | 33/50 [00:17<00:10,  1.57it/s]"
     ]
    },
    {
     "name": "stdout",
     "output_type": "stream",
     "text": [
      "Epoch [33/50], Train Loss: 0.8599, Train_accuracy: 80.66737664181754, Val Loss: 0.4989, Val_accuracy: 75.88924387646432\n"
     ]
    },
    {
     "name": "stderr",
     "output_type": "stream",
     "text": [
      " 68%|████████████████████████████████████████████████████████████████████████████████████████████████████████████████████▉                                                       | 34/50 [00:18<00:08,  1.78it/s]"
     ]
    },
    {
     "name": "stdout",
     "output_type": "stream",
     "text": [
      "Epoch [34/50], Train Loss: 0.8711, Train_accuracy: 80.2555910543131, Val Loss: 0.5087, Val_accuracy: 75.84664536741214\n"
     ]
    },
    {
     "name": "stderr",
     "output_type": "stream",
     "text": [
      " 70%|████████████████████████████████████████████████████████████████████████████████████████████████████████████████████████▍                                                   | 35/50 [00:18<00:07,  1.98it/s]"
     ]
    },
    {
     "name": "stdout",
     "output_type": "stream",
     "text": [
      "Epoch [35/50], Train Loss: 0.8570, Train_accuracy: 80.68867589634363, Val Loss: 0.4999, Val_accuracy: 76.23003194888179\n"
     ]
    },
    {
     "name": "stderr",
     "output_type": "stream",
     "text": [
      " 72%|███████████████████████████████████████████████████████████████████████████████████████████████████████████████████████████▊                                                | 36/50 [00:18<00:06,  2.16it/s]"
     ]
    },
    {
     "name": "stdout",
     "output_type": "stream",
     "text": [
      "Epoch [36/50], Train Loss: 0.8493, Train_accuracy: 80.75257365992191, Val Loss: 0.4993, Val_accuracy: 76.1874334398296\n"
     ]
    },
    {
     "name": "stderr",
     "output_type": "stream",
     "text": [
      " 74%|███████████████████████████████████████████████████████████████████████████████████████████████████████████████████████████████▎                                            | 37/50 [00:19<00:08,  1.56it/s]"
     ]
    },
    {
     "name": "stdout",
     "output_type": "stream",
     "text": [
      "Epoch [37/50], Train Loss: 0.8578, Train_accuracy: 80.7596734114306, Val Loss: 0.5089, Val_accuracy: 75.9531416400426\n"
     ]
    },
    {
     "name": "stderr",
     "output_type": "stream",
     "text": [
      " 76%|██████████████████████████████████████████████████████████████████████████████████████████████████████████████████████████████████▋                                         | 38/50 [00:20<00:06,  1.78it/s]"
     ]
    },
    {
     "name": "stdout",
     "output_type": "stream",
     "text": [
      "Epoch [38/50], Train Loss: 0.8434, Train_accuracy: 81.06496272630459, Val Loss: 0.5027, Val_accuracy: 75.82534611288605\n"
     ]
    },
    {
     "name": "stderr",
     "output_type": "stream",
     "text": [
      " 78%|██████████████████████████████████████████████████████████████████████████████████████████████████████████████████████████████████████▏                                     | 39/50 [00:20<00:05,  1.97it/s]"
     ]
    },
    {
     "name": "stdout",
     "output_type": "stream",
     "text": [
      "Epoch [39/50], Train Loss: 0.8395, Train_accuracy: 80.94426695065673, Val Loss: 0.4998, Val_accuracy: 76.37912673056444\n",
      "Model saved.\n"
     ]
    },
    {
     "name": "stderr",
     "output_type": "stream",
     "text": [
      " 80%|█████████████████████████████████████████████████████████████████████████████████████████████████████████████████████████████████████████▌                                  | 40/50 [00:21<00:04,  2.13it/s]"
     ]
    },
    {
     "name": "stdout",
     "output_type": "stream",
     "text": [
      "Epoch [40/50], Train Loss: 0.8344, Train_accuracy: 81.16435924742635, Val Loss: 0.4996, Val_accuracy: 76.33652822151225\n"
     ]
    },
    {
     "name": "stderr",
     "output_type": "stream",
     "text": [
      " 82%|█████████████████████████████████████████████████████████████████████████████████████████████████████████████████████████████████████████████                               | 41/50 [00:22<00:05,  1.54it/s]"
     ]
    },
    {
     "name": "stdout",
     "output_type": "stream",
     "text": [
      "Epoch [41/50], Train Loss: 0.8282, Train_accuracy: 81.70394036208732, Val Loss: 0.5012, Val_accuracy: 76.08093716719915\n"
     ]
    },
    {
     "name": "stderr",
     "output_type": "stream",
     "text": [
      " 84%|████████████████████████████████████████████████████████████████████████████████████████████████████████████████████████████████████████████████▍                           | 42/50 [00:22<00:04,  1.77it/s]"
     ]
    },
    {
     "name": "stdout",
     "output_type": "stream",
     "text": [
      "Epoch [42/50], Train Loss: 0.8541, Train_accuracy: 80.44728434504792, Val Loss: 0.5187, Val_accuracy: 75.48455804046858\n"
     ]
    },
    {
     "name": "stderr",
     "output_type": "stream",
     "text": [
      " 86%|███████████████████████████████████████████████████████████████████████████████████████████████████████████████████████████████████████████████████▉                        | 43/50 [00:22<00:03,  1.97it/s]"
     ]
    },
    {
     "name": "stdout",
     "output_type": "stream",
     "text": [
      "Epoch [43/50], Train Loss: 0.9561, Train_accuracy: 76.90450834220802, Val Loss: 0.5676, Val_accuracy: 72.84345047923323\n"
     ]
    },
    {
     "name": "stderr",
     "output_type": "stream",
     "text": [
      " 88%|███████████████████████████████████████████████████████████████████████████████████████████████████████████████████████████████████████████████████████▎                    | 44/50 [00:23<00:02,  2.13it/s]"
     ]
    },
    {
     "name": "stdout",
     "output_type": "stream",
     "text": [
      "Epoch [44/50], Train Loss: 0.8269, Train_accuracy: 81.5122470713525, Val Loss: 0.4942, Val_accuracy: 76.48562300319489\n",
      "Model saved.\n"
     ]
    },
    {
     "name": "stderr",
     "output_type": "stream",
     "text": [
      " 90%|██████████████████████████████████████████████████████████████████████████████████████████████████████████████████████████████████████████████████████████▊                 | 45/50 [00:24<00:03,  1.55it/s]"
     ]
    },
    {
     "name": "stdout",
     "output_type": "stream",
     "text": [
      "Epoch [45/50], Train Loss: 0.8311, Train_accuracy: 81.35605253816117, Val Loss: 0.4959, Val_accuracy: 76.65601703940362\n",
      "Model saved.\n"
     ]
    },
    {
     "name": "stderr",
     "output_type": "stream",
     "text": [
      " 92%|██████████████████████████████████████████████████████████████████████████████████████████████████████████████████████████████████████████████████████████████▏             | 46/50 [00:24<00:02,  1.77it/s]"
     ]
    },
    {
     "name": "stdout",
     "output_type": "stream",
     "text": [
      "Epoch [46/50], Train Loss: 0.8561, Train_accuracy: 80.31238906638268, Val Loss: 0.5171, Val_accuracy: 75.56975505857295\n"
     ]
    },
    {
     "name": "stderr",
     "output_type": "stream",
     "text": [
      " 94%|█████████████████████████████████████████████████████████████████████████████████████████████████████████████████████████████████████████████████████████████████▋          | 47/50 [00:25<00:01,  1.97it/s]"
     ]
    },
    {
     "name": "stdout",
     "output_type": "stream",
     "text": [
      "Epoch [47/50], Train Loss: 0.8584, Train_accuracy: 80.31948881789137, Val Loss: 0.5137, Val_accuracy: 75.86794462193824\n"
     ]
    },
    {
     "name": "stderr",
     "output_type": "stream",
     "text": [
      " 96%|█████████████████████████████████████████████████████████████████████████████████████████████████████████████████████████████████████████████████████████████████████       | 48/50 [00:25<00:00,  2.15it/s]"
     ]
    },
    {
     "name": "stdout",
     "output_type": "stream",
     "text": [
      "Epoch [48/50], Train Loss: 0.8146, Train_accuracy: 81.7962371317004, Val Loss: 0.5004, Val_accuracy: 76.35782747603834\n"
     ]
    },
    {
     "name": "stderr",
     "output_type": "stream",
     "text": [
      " 98%|████████████████████████████████████████████████████████████████████████████████████████████████████████████████████████████████████████████████████████████████████████▌   | 49/50 [00:26<00:00,  1.54it/s]"
     ]
    },
    {
     "name": "stdout",
     "output_type": "stream",
     "text": [
      "Epoch [49/50], Train Loss: 0.8103, Train_accuracy: 81.73233936812211, Val Loss: 0.4966, Val_accuracy: 76.23003194888179\n"
     ]
    },
    {
     "name": "stderr",
     "output_type": "stream",
     "text": [
      "100%|████████████████████████████████████████████████████████████████████████████████████████████████████████████████████████████████████████████████████████████████████████████| 50/50 [00:26<00:00,  1.86it/s]"
     ]
    },
    {
     "name": "stdout",
     "output_type": "stream",
     "text": [
      "Epoch [50/50], Train Loss: 0.8248, Train_accuracy: 81.34895278665246, Val Loss: 0.4996, Val_accuracy: 76.35782747603834\n"
     ]
    },
    {
     "name": "stderr",
     "output_type": "stream",
     "text": [
      "\n"
     ]
    },
    {
     "name": "stdout",
     "output_type": "stream",
     "text": [
      "Test Accucary 77.02299829642249\n",
      "Hidden_Layers: 2\n",
      "Test Accuracy: 72.91311754684838\n",
      "Train Accuracy: 73.79481718139866\n",
      "Validation Accuracy: 73.56762513312034\n",
      "Hidden_Layers: 3\n",
      "Test Accuracy: 68.82453151618398\n",
      "Train Accuracy: 68.83209087681931\n",
      "Validation Accuracy: 68.00851970181044\n",
      "Hidden_Layers: 4\n",
      "Test Accuracy: 65.92844974446338\n",
      "Train Accuracy: 66.73056443024494\n",
      "Validation Accuracy: 65.45260915867945\n"
     ]
    }
   ],
   "source": [
    "import os\n",
    "import torch\n",
    "from tqdm import tqdm\n",
    "import numpy as np\n",
    "from torch.optim.lr_scheduler import ReduceLROnPlateau\n",
    "from torch.utils.data import Dataset, DataLoader\n",
    "import argparse\n",
    "from utils import *\n",
    "from gene_expression import *\n",
    "from pathway_hierarchy import *\n",
    "import pandas as pd\n",
    "import yaml\n",
    "from custom_neural_network import *\n",
    "from custom_fc_network import *\n",
    "from datetime import datetime\n",
    "import csv\n",
    "import copy\n",
    "import pickle\n",
    "import random\n",
    "random.seed(0)\n",
    "np.random.seed(0)\n",
    "\n",
    "path_config = 'config.yml'\n",
    "model_dct = dict()\n",
    "\n",
    "# Hook function\n",
    "def hook_fn(module, input, output, layer_name):\n",
    "    global model_dct\n",
    "    input_list = [i.detach().cpu().numpy().tolist() for i in input]\n",
    "    output_list = output.detach().cpu().numpy().tolist()\n",
    "    \n",
    "    # If the layer name is not in the dictionary, create a new list for it\n",
    "    if layer_name not in model_dct:\n",
    "        model_dct[layer_name] = []\n",
    "\n",
    "    # Append the activations to the corresponding layer list\n",
    "    model_dct[layer_name].append({\n",
    "        'input': input_list,\n",
    "        'output': output_list\n",
    "    })\n",
    "\n",
    "\n",
    "\n",
    "# Define the file path for the CSV file\n",
    "def seed_worker(worker_id):\n",
    "    worker_seed = torch.initial_seed() % 2**32\n",
    "    np.random.seed(worker_seed)\n",
    "    random.seed(worker_seed)\n",
    "\n",
    "class TabularDataset(Dataset):\n",
    "    def __init__(self, count_matrix, label):\n",
    "        # Read the CSV file\n",
    "        self.data = count_matrix\n",
    "        # Separate features and target\n",
    "        self.features = self.data.values\n",
    "        self.target = label.values\n",
    "    \n",
    "    def __len__(self):\n",
    "        return len(self.data)\n",
    "    \n",
    "    def __getitem__(self, idx):\n",
    "        # Get features and target for a given index\n",
    "        features = torch.tensor(self.features[idx], dtype=torch.float32)\n",
    "        target = torch.tensor(self.target[idx], dtype=torch.float32)\n",
    "        return features, target\n",
    "\n",
    "def evaluate(model, dataloader):\n",
    "    model.eval()  # Set the model to evaluation mode\n",
    "    correct = 0\n",
    "    total = 0\n",
    "    predicted_list = []\n",
    "    probability_list = []\n",
    "    labels_list = []\n",
    "    criterion = nn.BCEWithLogitsLoss()\n",
    "    loss = 0\n",
    "    with torch.no_grad():  # No need to compute gradients during evaluation\n",
    "        for features, labels in dataloader:\n",
    "            outputs = model(features)\n",
    "            #print(outputs)\n",
    "            probability = torch.sigmoid(outputs.data)\n",
    "            predicted = torch.round(torch.sigmoid(outputs.data))\n",
    "            #print(outputs)\n",
    "            #print(predicted)\n",
    "            loss += criterion(outputs, labels)\n",
    "            #_, predicted = torch.sigmoid(outputs.data)\n",
    "            predicted_list.extend(predicted)\n",
    "            labels_list.extend(labels)\n",
    "            probability_list.extend(probability)\n",
    "            total += labels.size(0)\n",
    "            correct += (predicted == labels).sum().item()\n",
    "    #print(total)\n",
    "    accuracy = 100 * correct / total\n",
    "    return accuracy, loss, predicted_list, labels_list, probability_list\n",
    "\n",
    "def save_model(model_nn,model_path, model_state_dict_path):\n",
    "    \n",
    "    model_nn.eval()\n",
    "    torch.save(model_nn, model_path)\n",
    "    torch.save(model_nn.state_dict(), model_state_dict_path)\n",
    "\n",
    "\n",
    "\n",
    "\n",
    "def model_fc(train_dataloader , val_dataloader, test_dataloader, test_cell_id, layers_node, masking, output_layer,model_save_dir, date_string, learning_rate=0.001, num_epochs=50, weight_decay = 0):\n",
    "\n",
    "    model_nn = CustomfcNetwork(layers_node, output_layer, masking)\n",
    "    optimizer = optim.AdamW(model_nn.parameters(), lr=learning_rate,weight_decay = weight_decay )  # Using SGD with momentum\n",
    "    criterion = nn.BCEWithLogitsLoss()\n",
    "    scheduler = ReduceLROnPlateau(optimizer, mode='max', factor=0.1, patience=5, verbose=True)\n",
    "    patience = 20\n",
    "    best_val_accuracy = 0.0\n",
    "    epochs_no_improve = 0\n",
    "    early_stop = False\n",
    "    csv_file_path = f'{model_save_dir}{date_string}/fc_training_log_{output_layer}.csv'\n",
    "\n",
    "    try:\n",
    "        os.makedirs(f'{model_save_dir}{date_string}')\n",
    "    except:\n",
    "        print(('...'))\n",
    "\n",
    "    with open(csv_file_path, mode='w', newline='') as file:\n",
    "        writer = csv.writer(file)\n",
    "        writer.writerow(['Epoch', 'Train_Loss', 'Train_accuracy','Validation_Loss','Val_accuracy'])\n",
    "\n",
    "    for epoch in tqdm(range(num_epochs)):\n",
    "        if early_stop:\n",
    "            print(\"Early stopping\")\n",
    "            break\n",
    "        epoch_cost = 0.\n",
    "        \n",
    "        total_loss = 0\n",
    "        for batch_features,batch_targets in train_dataloader:\n",
    "            outputs = model_nn(batch_features)\n",
    "            #print(outputs)\n",
    "            #print(batch_targets)\n",
    "            #print(outputs)\n",
    "            loss = criterion(outputs, batch_targets)\n",
    "            \n",
    "            optimizer.zero_grad()\n",
    "            loss.backward()\n",
    "            optimizer.step()\n",
    "            \n",
    "            \n",
    "        \n",
    "        train_accuracy, train_loss, predicted_list_train, labels_list_train, train_probability_list = evaluate(model_nn, train_dataloader)\n",
    "        val_accuracy, val_loss, predicted_list_val, labels_list_val, val_probability_list = evaluate(model_nn, val_dataloader)\n",
    "        #scheduler.step(val_accuracy)\n",
    "        print(f'Epoch [{epoch+1}/{num_epochs}], Train Loss: {train_loss.item():.4f}, Train_accuracy: {train_accuracy}, Val Loss: {val_loss.item():.4f}, Val_accuracy: {val_accuracy}')\n",
    "        with open(csv_file_path, mode='a', newline='') as file:\n",
    "            writer = csv.writer(file)\n",
    "            writer.writerow([epoch + 1, loss.item(), train_accuracy, val_loss.item(), val_accuracy])\n",
    "        \n",
    "        if val_accuracy > best_val_accuracy:\n",
    "            best_val_accuracy = val_accuracy\n",
    "            epochs_no_improve = 0\n",
    "        # Save the best model\n",
    "            model_path = f'{model_save_dir}{date_string}/fc_best_model_{output_layer}.pth'\n",
    "            model_state_dict_path = f'{model_save_dir}{date_string}/fc_best_model_{output_layer}_state_dict.pth'\n",
    "            save_model(model_nn, model_path, model_state_dict_path)\n",
    "            best_model_nn = copy.deepcopy(model_nn)\n",
    "            #torch.save(model_nn, f'{model_save_dir}{date_string}/fc_best_model_{output_layer}.pth')\n",
    "            #torch.save(model_nn.state_dict(), f'{model_save_dir}{date_string}/fc_best_model_{output_layer}_state_dict.pth')\n",
    "            print('Model saved.')\n",
    "        else:\n",
    "            epochs_no_improve += 1\n",
    "    \n",
    "        # Early stopping\n",
    "        '''if epochs_no_improve >= patience:\n",
    "            early_stop = True\n",
    "            print(\"Early stopping triggered\")'''\n",
    "        \n",
    "    \n",
    "    train_accuracy, train_loss, predicted_list_train, labels_list_train, train_probability_list = evaluate(best_model_nn, train_dataloader)\n",
    "    val_accuracy, val_loss, predicted_list_val, labels_list_val, val_probability_list = evaluate(best_model_nn, val_dataloader)\n",
    "    test_accuracy, test_loss, predicted_list_test, labels_list_test, test_probability_list = evaluate(best_model_nn, test_dataloader)\n",
    "    print('Test Accucary', test_accuracy)\n",
    "    output_train = (predicted_list_train, labels_list_train)\n",
    "    output_val = (predicted_list_val, labels_list_val)\n",
    "\n",
    "    labels_list_test = [m.item() for m in labels_list_test]\n",
    "    predicted_list_test = [m.item() for m in predicted_list_test]\n",
    "    test_probability_list = [m.item() for m in test_probability_list]\n",
    "\n",
    "\n",
    "    test_df = pd.DataFrame({'cell_id': test_cell_id, 'true_y': labels_list_test, 'pred_y': predicted_list_test, 'probabilty': test_probability_list})\n",
    "    csv_file_path = f'{model_save_dir}{date_string}/fc_test_log_{output_layer}.csv'\n",
    "    test_df.to_csv(csv_file_path)\n",
    "    #torch.save(model_nn, f'{model_save_dir}{date_string}/fc_last_epoch_model_{output_layer}.pth')\n",
    "    return output_train, output_val,best_model_nn\n",
    "\n",
    "\n",
    "\n",
    "def model(train_dataloader , val_dataloader, test_dataloader, test_cell_id, layers_node, masking, output_layer,model_save_dir, date_string, learning_rate=0.001, num_epochs=50, weight_decay = 0):\n",
    "\n",
    "    model_nn = CustomNetwork(layers_node, output_layer, masking)\n",
    "    optimizer = optim.AdamW(model_nn.parameters(), lr=learning_rate,weight_decay = weight_decay )  # Using SGD with momentum\n",
    "    criterion = nn.BCEWithLogitsLoss()\n",
    "    scheduler = ReduceLROnPlateau(optimizer, mode='max', factor=0.1, patience=5, verbose=True)\n",
    "    patience = 20\n",
    "    best_val_accuracy = 0.0\n",
    "    epochs_no_improve = 0\n",
    "    early_stop = False\n",
    "    csv_file_path = f'{model_save_dir}{date_string}/training_log_{output_layer}.csv'\n",
    "\n",
    "    try:\n",
    "        os.makedirs(f'{model_save_dir}{date_string}')\n",
    "    except:\n",
    "        print(('...'))\n",
    "\n",
    "    with open(csv_file_path, mode='w', newline='') as file:\n",
    "        writer = csv.writer(file)\n",
    "        writer.writerow(['Epoch', 'Train_Loss', 'Train_accuracy','Validation_Loss','Val_accuracy'])\n",
    "\n",
    "    for epoch in tqdm(range(num_epochs)):\n",
    "        if early_stop:\n",
    "            print(\"Early stopping\")\n",
    "            break\n",
    "        epoch_cost = 0.\n",
    "        \n",
    "        total_loss = 0\n",
    "        for batch_features,batch_targets in train_dataloader:\n",
    "            \n",
    "            #print(outputs)\n",
    "            #print(batch_targets)\n",
    "            #print(outputs)\n",
    "            \n",
    "            \n",
    "            optimizer.zero_grad()\n",
    "            outputs = model_nn(batch_features)\n",
    "            loss = criterion(outputs, batch_targets)\n",
    "            loss.backward()\n",
    "            optimizer.step()\n",
    "            \n",
    "            \n",
    "        \n",
    "        train_accuracy, train_loss, predicted_list_train, labels_list_train, train_probability_list = evaluate(model_nn, train_dataloader)\n",
    "        val_accuracy, val_loss, predicted_list_val, labels_list_val, val_probability_list = evaluate(model_nn, val_dataloader)\n",
    "        #scheduler.step(val_accuracy)\n",
    "        print(f'Epoch [{epoch+1}/{num_epochs}], Train Loss: {train_loss.item():.4f}, Train_accuracy: {train_accuracy}, Val Loss: {val_loss.item():.4f}, Val_accuracy: {val_accuracy}')\n",
    "        with open(csv_file_path, mode='a', newline='') as file:\n",
    "            writer = csv.writer(file)\n",
    "            writer.writerow([epoch + 1, loss.item(), train_accuracy, val_loss.item(), val_accuracy])\n",
    "        \n",
    "        if val_accuracy > best_val_accuracy:\n",
    "            best_val_accuracy = val_accuracy\n",
    "            epochs_no_improve = 0\n",
    "        # Save the best model\n",
    "            model_path = f'{model_save_dir}{date_string}/best_model_{output_layer}.pth'\n",
    "            model_state_dict_path = f'{model_save_dir}{date_string}/best_model_{output_layer}_state_dict.pth'\n",
    "            save_model(model_nn, model_path, model_state_dict_path)\n",
    "            best_model_nn = copy.deepcopy(model_nn)\n",
    "            #torch.save(model_nn, f'{model_save_dir}{date_string}/best_model_{output_layer}.pth')\n",
    "            #torch.save(model_nn.state_dict(), f'{model_save_dir}{date_string}/best_model_{output_layer}_state_dict.pth')\n",
    "            print('Model saved.')\n",
    "        else:\n",
    "            epochs_no_improve += 1\n",
    "    \n",
    "        # Early stopping\n",
    "        '''if epochs_no_improve >= patience:\n",
    "            early_stop = True\n",
    "            print(\"Early stopping triggered\")'''\n",
    "        \n",
    "    \n",
    "    train_accuracy, train_loss, predicted_list_train, labels_list_train, train_probability_list = evaluate(best_model_nn, train_dataloader)\n",
    "    val_accuracy, val_loss, predicted_list_val, labels_list_val, val_probability_list = evaluate(best_model_nn, val_dataloader)\n",
    "    test_accuracy, test_loss, predicted_list_test, labels_list_test, test_probability_list = evaluate(best_model_nn, test_dataloader)\n",
    "    print('Test Accucary', test_accuracy)\n",
    "    output_train = (predicted_list_train, labels_list_train)\n",
    "    output_val = (predicted_list_val, labels_list_val)\n",
    "\n",
    "    labels_list_test = [m.item() for m in labels_list_test]\n",
    "    predicted_list_test = [m.item() for m in predicted_list_test]\n",
    "    test_probability_list = [m.item() for m in test_probability_list]\n",
    "\n",
    "\n",
    "    test_df = pd.DataFrame({'cell_id': test_cell_id, 'true_y': labels_list_test, 'pred_y': predicted_list_test, 'probabilty': test_probability_list})\n",
    "    csv_file_path = f'{model_save_dir}{date_string}/test_log_{output_layer}.csv'\n",
    "    test_df.to_csv(csv_file_path)\n",
    "    #torch.save(model_nn, f'{model_save_dir}{date_string}/last_epoch_model_{output_layer}.pth')\n",
    "    return output_train, output_val,best_model_nn\n",
    "\n",
    "\n",
    "def load_config(config_file):\n",
    "    with open(config_file, 'r') as file:\n",
    "        return yaml.safe_load(file)\n",
    "\n",
    "\n",
    "def main_file(path_config):\n",
    "\n",
    "    '''parser = argparse.ArgumentParser(description='Sample application with config and argparse')\n",
    "    parser.add_argument('--config', type=str, default='config.yml', help='Path to the configuration file')\n",
    "    args = parser.parse_args()'''\n",
    "\n",
    "    config = load_config(path_config)\n",
    "    print(config)\n",
    "    train = pd.read_csv(config['dataset']['train'],index_col=0)\n",
    "    test = pd.read_csv(config['dataset']['test'],index_col=0)\n",
    "    val = pd.read_csv(config['dataset']['val'],index_col=0)\n",
    "\n",
    "    y_train = pd.read_csv(config['dataset']['y_train'])\n",
    "    y_test = pd.read_csv(config['dataset']['y_test'])\n",
    "    y_val = pd.read_csv(config['dataset']['y_val'])\n",
    "  \n",
    "\n",
    "\n",
    "    r_data_tmp = train.T\n",
    "    q_data_tmp = test.T\n",
    "    v_data_tmp = val.T\n",
    "    r_label_tmp = y_train\n",
    "\n",
    "    print('Getting Marker Genes.......')\n",
    "    train_x, test_x, val_x, train_y = get_expression(r_data_tmp,\n",
    "                                                q_data_tmp,\n",
    "                                                v_data_tmp,\n",
    "                                                r_label_tmp,\n",
    "                                                thrh=config['gene_expression']['highly_expressed_threshold'],\n",
    "                                                thrl=config['gene_expression']['lowly_expressed_threshold'],\n",
    "                                                normalization=config['gene_expression']['normalization'],\n",
    "                                                marker=config['gene_expression']['marker'])\n",
    "    \n",
    "    print('Getting Pathway Genes.........')\n",
    "    pathway_genes = get_gene_pathways(config['pathways_network']['ensemble_pathway_relation'], species=config['pathways_network']['species'])\n",
    "\n",
    "\n",
    "    print('Getting Masking.........')\n",
    "    masking, masking_df, layers_node, train_x, test_x,val_x = get_masking(config['pathways_network']['pathway_names'],\n",
    "                                                        pathway_genes,\n",
    "                                                        config['pathways_network']['pathway_relation'],\n",
    "                                                        train_x,\n",
    "                                                        test_x,\n",
    "                                                        val_x,\n",
    "                                                        train_y,\n",
    "                                                        config['pathways_network']['datatype'],\n",
    "                                                        config['pathways_network']['species'],\n",
    "                                                        config['pathways_network']['n_hidden_layer'])\n",
    "\n",
    "    test_cell_id = list(test_x.T.index) \n",
    "    try:\n",
    "        masking = list(masking.values())\n",
    "        layers_node = list(layers_node.values())\n",
    "    except:\n",
    "        print('already_done')\n",
    "\n",
    "\n",
    "    train_dataset = TabularDataset(train_x.T,train_y)\n",
    "    val_dataset = TabularDataset(val_x.T,y_val)\n",
    "    test_dataset = TabularDataset(test_x.T,y_test)  \n",
    "    \n",
    "    \n",
    "\n",
    "    dataloader_params = {\n",
    "    'batch_size': config['train']['batch_size'],\n",
    "    'shuffle': False\n",
    "    }\n",
    "\n",
    "    train_dataloader = DataLoader(train_dataset,**dataloader_params)\n",
    "    test_dataloader = DataLoader(test_dataset, **dataloader_params)\n",
    "    val_dataloader = DataLoader(val_dataset,**dataloader_params)\n",
    "    # Example of iterating through the DataLoader\n",
    "\n",
    "\n",
    "    pred_y_df = pd.DataFrame(data=0, index=test_x.columns, columns=list(range(2, len(masking) + 2)))\n",
    "    train_y_df = pd.DataFrame(data=0, index=train_x.columns, columns=list(range(2, len(masking) + 2)))\n",
    "    model_dict_sparse = dict()\n",
    "    model_dict_fc = dict()\n",
    "    activation_output = {}\n",
    "    now = datetime.now()\n",
    "\n",
    "# Format the date as a string\n",
    "    date_string = datetime_string = now.strftime(\"%Y_%m_%d_%H_%M_%S\")\n",
    "\n",
    "    try:\n",
    "        os.makedirs(f'{config['model_output']['model_save_dir']}{date_string}')\n",
    "    except:\n",
    "        print(('...'))\n",
    "\n",
    "   \n",
    "\n",
    "    print('Training.........')\n",
    "    for output_layer in range(2, len(masking) + 2):\n",
    "        if config['gene_expression']['print_information']:\n",
    "            print(\"Current sub-neural network has \" + str(output_layer - 1) + \" hidden layers.\")\n",
    "        output_train, output_val,model_dict_sparse[output_layer] = model(train_dataloader,\n",
    "                                            val_dataloader,test_dataloader, test_cell_id,\n",
    "                                            layers_node,\n",
    "                                            masking,\n",
    "                                            output_layer,\n",
    "                                            model_save_dir = config['model_output']['model_save_dir'],date_string = date_string,\n",
    "                                            learning_rate=config['train']['learning_rate'],num_epochs=config['train']['epochs'],weight_decay = config['train']['weight_decay']\n",
    "                                        )  \n",
    "\n",
    "    print('tranining_fully_connected_layers:')\n",
    "    for output_layer in range(2, len(masking) + 2):\n",
    "        if config['gene_expression']['print_information']:\n",
    "            print(\"Current sub-neural network has \" + str(output_layer - 1) + \" hidden layers.\")\n",
    "        output_train, output_val,model_dict_fc[output_layer] = model_fc(train_dataloader,\n",
    "                                            val_dataloader,test_dataloader, test_cell_id,\n",
    "                                            layers_node,\n",
    "                                            masking,\n",
    "                                            output_layer,\n",
    "                                            model_save_dir = config['model_output']['model_save_dir'],date_string = date_string,\n",
    "                                            learning_rate=config['train']['learning_rate'],num_epochs=config['train']['epochs'],weight_decay = config['train']['weight_decay']\n",
    "                                        )  \n",
    "        \n",
    "    new_parameter = {'date_string': date_string}\n",
    "    config.update(new_parameter)\n",
    "    save_path =   str(config['model_output']['model_save_dir'])+ date_string + '/config.yml'\n",
    "    with open(save_path, 'w') as file:\n",
    "        yaml.dump(config, file)\n",
    "\n",
    "        \n",
    "    for i in range(len(masking_df)):\n",
    "        masking_df[i].to_csv(str(config['model_output']['model_save_dir'])+ date_string+ '/' +f'masking_df_{i}.csv')\n",
    "    \n",
    "   \n",
    "        \n",
    "    return model_dict_sparse, val_dataloader, test_dataloader, train_dataloader, train_x, train_y, val_x, y_val, test_x, y_test, config\n",
    "\n",
    "   \n",
    "model_dict_sparse, val_dataloader, test_dataloader, train_dataloader,train_x, train_y, val_x, y_val, test_x, y_test, config = main_file(path_config= path_config)\n",
    "for j,i in model_dict_sparse.items():\n",
    "\n",
    "# Assuming 'model' is your neural network\n",
    "    torch.save(i.state_dict(), f'{config['model_output']['model_save_dir']}{config['date_string']}/model_{j}_state_dict_jupyter_notebook.pth')\n",
    "\n",
    "\n",
    "for j,i in model_dict_sparse.items():\n",
    "        \n",
    "        print(f'Hidden_Layers: {j}')\n",
    "        accuracy, loss, predicted_list, labels_list, probability_list = evaluate(i, test_dataloader)\n",
    "        print(f'Test Accuracy: {accuracy}')   \n",
    "        accuracy, loss, predicted_list, labels_list, probability_list = evaluate(i, train_dataloader)\n",
    "        print(f'Train Accuracy: {accuracy}')   \n",
    "        accuracy, loss, predicted_list, labels_list, probability_list = evaluate(i, val_dataloader)\n",
    "        print(f'Validation Accuracy: {accuracy}') "
   ]
  },
  {
   "cell_type": "code",
   "execution_count": 390,
   "id": "32a465e1-58ab-4f18-9943-54217f87d0cd",
   "metadata": {},
   "outputs": [
    {
     "name": "stdout",
     "output_type": "stream",
     "text": [
      "Hidden_Layers: 2\n",
      "Test Accuracy: 72.91311754684838\n",
      "Train Accuracy: 73.79481718139866\n",
      "Validation Accuracy: 73.56762513312034\n",
      "Hidden_Layers: 3\n",
      "Test Accuracy: 68.82453151618398\n",
      "Train Accuracy: 68.83209087681931\n",
      "Validation Accuracy: 68.00851970181044\n",
      "Hidden_Layers: 4\n",
      "Test Accuracy: 65.92844974446338\n",
      "Train Accuracy: 66.73056443024494\n",
      "Validation Accuracy: 65.45260915867945\n"
     ]
    }
   ],
   "source": [
    "\n",
    "train_dataset = TabularDataset(train_x.T,train_y)\n",
    "val_dataset = TabularDataset(val_x.T,y_val)\n",
    "test_dataset = TabularDataset(test_x.T,y_test) \n",
    "\n",
    "dataloader_params = {\n",
    "    'batch_size': 1,\n",
    "    'shuffle': False\n",
    "    }\n",
    "\n",
    "train_dataloader = DataLoader(train_dataset,**dataloader_params)\n",
    "test_dataloader = DataLoader(test_dataset, **dataloader_params)\n",
    "val_dataloader = DataLoader(val_dataset,**dataloader_params)\n",
    "\n",
    "for j,i in model_dict_sparse.items():\n",
    "        \n",
    "        print(f'Hidden_Layers: {j}')\n",
    "        accuracy, loss, predicted_list, labels_list, probability_list = evaluate(i, test_dataloader)\n",
    "        print(f'Test Accuracy: {accuracy}')   \n",
    "        accuracy, loss, predicted_list, labels_list, probability_list = evaluate(i, train_dataloader)\n",
    "        print(f'Train Accuracy: {accuracy}')   \n",
    "        accuracy, loss, predicted_list, labels_list, probability_list = evaluate(i, val_dataloader)\n",
    "        print(f'Validation Accuracy: {accuracy}')"
   ]
  },
  {
   "cell_type": "code",
   "execution_count": 391,
   "id": "07cf86ae-23f8-429d-838e-df8abde3c2ca",
   "metadata": {},
   "outputs": [
    {
     "data": {
      "text/plain": [
       "{'dataset': {'train': '/12tb_dsk1/danish/Pytorch_Biologically_Informed_Neural_Network/Preprocessed_data/excitory_neurons/Exc_L2-3_CBLN2_LINC02306/train.csv',\n",
       "  'test': '/12tb_dsk1/danish/Pytorch_Biologically_Informed_Neural_Network/Preprocessed_data/excitory_neurons/Exc_L2-3_CBLN2_LINC02306/test.csv',\n",
       "  'val': '/12tb_dsk1/danish/Pytorch_Biologically_Informed_Neural_Network/Preprocessed_data/excitory_neurons/Exc_L2-3_CBLN2_LINC02306/val.csv',\n",
       "  'y_train': '/12tb_dsk1/danish/Pytorch_Biologically_Informed_Neural_Network/Preprocessed_data/excitory_neurons/Exc_L2-3_CBLN2_LINC02306/y_train.csv',\n",
       "  'y_test': '/12tb_dsk1/danish/Pytorch_Biologically_Informed_Neural_Network/Preprocessed_data/excitory_neurons/Exc_L2-3_CBLN2_LINC02306/y_test.csv',\n",
       "  'y_val': '/12tb_dsk1/danish/Pytorch_Biologically_Informed_Neural_Network/Preprocessed_data/excitory_neurons/Exc_L2-3_CBLN2_LINC02306/y_val.csv'},\n",
       " 'model_output': {'model_save_dir': '/12tb_dsk1/danish/Pytorch_Biologically_Informed_Neural_Network/model_save/excitory_neurons/Exc_L2-3_CBLN2_LINC02306/'},\n",
       " 'train': {'epochs': 50,\n",
       "  'learning_rate': 0.001,\n",
       "  'weight_decay': 0.0001,\n",
       "  'batch_size': 8192},\n",
       " 'gene_expression': {'highly_expressed_threshold': 0.95,\n",
       "  'lowly_expressed_threshold': 0.95,\n",
       "  'normalization': True,\n",
       "  'marker': True,\n",
       "  'print_information': True},\n",
       " 'pathways_network': {'species': 'human',\n",
       "  'n_hidden_layer': 3,\n",
       "  'pathway_relation': '../../usman/CellTICS/reactome/ReactomePathwaysRelation.txt',\n",
       "  'pathway_names': '../../usman/CellTICS/reactome/ReactomePathways.txt',\n",
       "  'ensemble_pathway_relation': '../../usman/CellTICS/reactome/Ensembl2Reactome_All_Levels.txt',\n",
       "  'datatype': 'diagnosis'},\n",
       " 'date_string': '2024_08_07_08_53_10'}"
      ]
     },
     "execution_count": 391,
     "metadata": {},
     "output_type": "execute_result"
    }
   ],
   "source": [
    "config"
   ]
  },
  {
   "cell_type": "code",
   "execution_count": 392,
   "id": "01c89375-5f2d-4175-958c-8c59fc2b1667",
   "metadata": {},
   "outputs": [
    {
     "data": {
      "text/plain": [
       "'/12tb_dsk1/danish/Pytorch_Biologically_Informed_Neural_Network/model_save/excitory_neurons/Exc_L2-3_CBLN2_LINC02306/'"
      ]
     },
     "execution_count": 392,
     "metadata": {},
     "output_type": "execute_result"
    }
   ],
   "source": [
    "config['model_output']['model_save_dir'] "
   ]
  },
  {
   "cell_type": "code",
   "execution_count": 393,
   "id": "867f09af-cd2b-45d7-ac06-29e192830d90",
   "metadata": {},
   "outputs": [
    {
     "data": {
      "text/html": [
       "<div>\n",
       "<style scoped>\n",
       "    .dataframe tbody tr th:only-of-type {\n",
       "        vertical-align: middle;\n",
       "    }\n",
       "\n",
       "    .dataframe tbody tr th {\n",
       "        vertical-align: top;\n",
       "    }\n",
       "\n",
       "    .dataframe thead th {\n",
       "        text-align: right;\n",
       "    }\n",
       "</style>\n",
       "<table border=\"1\" class=\"dataframe\">\n",
       "  <thead>\n",
       "    <tr style=\"text-align: right;\">\n",
       "      <th>cell_id</th>\n",
       "      <th>GTACAACAGGCGTTGA.21.11</th>\n",
       "      <th>GAGTTGTAGCAACAGC.42.2</th>\n",
       "      <th>ACACCAATCCCGATCT.23.6</th>\n",
       "      <th>GCACATAAGAATCTAG.10.7</th>\n",
       "      <th>AAGACCTAGCCTATGT.13.1</th>\n",
       "      <th>ACTTACTGTCAGAAGC.8.1</th>\n",
       "      <th>CACAGGCAGAATCTCC.38.1</th>\n",
       "      <th>CGAGCCAGTATTACCG.29.0</th>\n",
       "      <th>ACCCAAAGTGACCTGC.1.5</th>\n",
       "      <th>CGGACGTTCATGTGGT.15.1</th>\n",
       "      <th>...</th>\n",
       "      <th>AGGGCCTTCGAGAACG.12.14</th>\n",
       "      <th>GCGATCGCACCTCTAC.12.11</th>\n",
       "      <th>ATGTCTTGTTCACCGG.16.2</th>\n",
       "      <th>TGCAGTACAACCAATC.26.2</th>\n",
       "      <th>CGGACGTCACGGTAGA.19.0</th>\n",
       "      <th>CTAACCCTCCCGGTAG.31.6</th>\n",
       "      <th>TCGGGCATCCCAGTGG.12.14</th>\n",
       "      <th>ATCACGAGTATCACCA.6.2</th>\n",
       "      <th>AAGACTCGTTGGGTAG.10.7</th>\n",
       "      <th>GATGATCCAGCCATTA.30.6</th>\n",
       "    </tr>\n",
       "  </thead>\n",
       "  <tbody>\n",
       "    <tr>\n",
       "      <th>ENSG00000142920</th>\n",
       "      <td>0.000000</td>\n",
       "      <td>1.145814</td>\n",
       "      <td>1.360721</td>\n",
       "      <td>0.000000</td>\n",
       "      <td>0.0000</td>\n",
       "      <td>1.643206</td>\n",
       "      <td>0.000000</td>\n",
       "      <td>0.0</td>\n",
       "      <td>0.504917</td>\n",
       "      <td>1.582466</td>\n",
       "      <td>...</td>\n",
       "      <td>0.861235</td>\n",
       "      <td>1.664975</td>\n",
       "      <td>0.940507</td>\n",
       "      <td>0.649033</td>\n",
       "      <td>0.000000</td>\n",
       "      <td>0.000000</td>\n",
       "      <td>0.000000</td>\n",
       "      <td>0.000000</td>\n",
       "      <td>0.000000</td>\n",
       "      <td>0.000000</td>\n",
       "    </tr>\n",
       "    <tr>\n",
       "      <th>ENSG00000128298</th>\n",
       "      <td>0.000000</td>\n",
       "      <td>0.000000</td>\n",
       "      <td>0.000000</td>\n",
       "      <td>0.381069</td>\n",
       "      <td>3.4106</td>\n",
       "      <td>0.000000</td>\n",
       "      <td>0.000000</td>\n",
       "      <td>0.0</td>\n",
       "      <td>0.504917</td>\n",
       "      <td>0.000000</td>\n",
       "      <td>...</td>\n",
       "      <td>0.861235</td>\n",
       "      <td>0.625523</td>\n",
       "      <td>0.000000</td>\n",
       "      <td>0.000000</td>\n",
       "      <td>2.828458</td>\n",
       "      <td>0.000000</td>\n",
       "      <td>0.000000</td>\n",
       "      <td>0.501618</td>\n",
       "      <td>0.656484</td>\n",
       "      <td>0.454942</td>\n",
       "    </tr>\n",
       "    <tr>\n",
       "      <th>ENSG00000128739</th>\n",
       "      <td>0.000000</td>\n",
       "      <td>1.145814</td>\n",
       "      <td>0.000000</td>\n",
       "      <td>0.931244</td>\n",
       "      <td>0.0000</td>\n",
       "      <td>0.000000</td>\n",
       "      <td>0.000000</td>\n",
       "      <td>0.0</td>\n",
       "      <td>1.174485</td>\n",
       "      <td>0.000000</td>\n",
       "      <td>...</td>\n",
       "      <td>0.000000</td>\n",
       "      <td>0.625523</td>\n",
       "      <td>0.000000</td>\n",
       "      <td>0.000000</td>\n",
       "      <td>1.601402</td>\n",
       "      <td>0.000000</td>\n",
       "      <td>0.000000</td>\n",
       "      <td>2.245558</td>\n",
       "      <td>1.105994</td>\n",
       "      <td>2.713896</td>\n",
       "    </tr>\n",
       "    <tr>\n",
       "      <th>ENSG00000115738</th>\n",
       "      <td>0.000000</td>\n",
       "      <td>0.000000</td>\n",
       "      <td>0.000000</td>\n",
       "      <td>0.381069</td>\n",
       "      <td>3.4106</td>\n",
       "      <td>0.000000</td>\n",
       "      <td>2.347186</td>\n",
       "      <td>0.0</td>\n",
       "      <td>0.000000</td>\n",
       "      <td>0.000000</td>\n",
       "      <td>...</td>\n",
       "      <td>0.000000</td>\n",
       "      <td>0.625523</td>\n",
       "      <td>0.000000</td>\n",
       "      <td>0.360711</td>\n",
       "      <td>2.018482</td>\n",
       "      <td>0.000000</td>\n",
       "      <td>0.000000</td>\n",
       "      <td>0.501618</td>\n",
       "      <td>1.105994</td>\n",
       "      <td>0.000000</td>\n",
       "    </tr>\n",
       "    <tr>\n",
       "      <th>ENSG00000104325</th>\n",
       "      <td>0.000000</td>\n",
       "      <td>0.000000</td>\n",
       "      <td>0.000000</td>\n",
       "      <td>0.931244</td>\n",
       "      <td>0.0000</td>\n",
       "      <td>0.000000</td>\n",
       "      <td>0.000000</td>\n",
       "      <td>0.0</td>\n",
       "      <td>0.000000</td>\n",
       "      <td>0.000000</td>\n",
       "      <td>...</td>\n",
       "      <td>0.000000</td>\n",
       "      <td>0.625523</td>\n",
       "      <td>0.000000</td>\n",
       "      <td>0.000000</td>\n",
       "      <td>0.000000</td>\n",
       "      <td>0.000000</td>\n",
       "      <td>0.000000</td>\n",
       "      <td>0.873105</td>\n",
       "      <td>0.656484</td>\n",
       "      <td>0.000000</td>\n",
       "    </tr>\n",
       "    <tr>\n",
       "      <th>...</th>\n",
       "      <td>...</td>\n",
       "      <td>...</td>\n",
       "      <td>...</td>\n",
       "      <td>...</td>\n",
       "      <td>...</td>\n",
       "      <td>...</td>\n",
       "      <td>...</td>\n",
       "      <td>...</td>\n",
       "      <td>...</td>\n",
       "      <td>...</td>\n",
       "      <td>...</td>\n",
       "      <td>...</td>\n",
       "      <td>...</td>\n",
       "      <td>...</td>\n",
       "      <td>...</td>\n",
       "      <td>...</td>\n",
       "      <td>...</td>\n",
       "      <td>...</td>\n",
       "      <td>...</td>\n",
       "      <td>...</td>\n",
       "      <td>...</td>\n",
       "    </tr>\n",
       "    <tr>\n",
       "      <th>ENSG00000157152</th>\n",
       "      <td>2.006299</td>\n",
       "      <td>2.820393</td>\n",
       "      <td>1.745110</td>\n",
       "      <td>2.468479</td>\n",
       "      <td>0.0000</td>\n",
       "      <td>0.000000</td>\n",
       "      <td>0.000000</td>\n",
       "      <td>0.0</td>\n",
       "      <td>2.945731</td>\n",
       "      <td>1.582466</td>\n",
       "      <td>...</td>\n",
       "      <td>2.345670</td>\n",
       "      <td>2.684303</td>\n",
       "      <td>2.484399</td>\n",
       "      <td>2.611894</td>\n",
       "      <td>2.341633</td>\n",
       "      <td>1.990744</td>\n",
       "      <td>1.351873</td>\n",
       "      <td>2.679290</td>\n",
       "      <td>2.487972</td>\n",
       "      <td>1.846029</td>\n",
       "    </tr>\n",
       "    <tr>\n",
       "      <th>ENSG00000112186</th>\n",
       "      <td>2.006299</td>\n",
       "      <td>2.820393</td>\n",
       "      <td>1.360721</td>\n",
       "      <td>1.492540</td>\n",
       "      <td>0.0000</td>\n",
       "      <td>2.391544</td>\n",
       "      <td>0.000000</td>\n",
       "      <td>0.0</td>\n",
       "      <td>2.254404</td>\n",
       "      <td>2.318932</td>\n",
       "      <td>...</td>\n",
       "      <td>0.861235</td>\n",
       "      <td>1.060421</td>\n",
       "      <td>0.940507</td>\n",
       "      <td>0.360711</td>\n",
       "      <td>1.012347</td>\n",
       "      <td>0.000000</td>\n",
       "      <td>0.828808</td>\n",
       "      <td>1.805211</td>\n",
       "      <td>0.656484</td>\n",
       "      <td>2.234892</td>\n",
       "    </tr>\n",
       "    <tr>\n",
       "      <th>ENSG00000076685</th>\n",
       "      <td>2.006299</td>\n",
       "      <td>0.000000</td>\n",
       "      <td>1.745110</td>\n",
       "      <td>1.328568</td>\n",
       "      <td>0.0000</td>\n",
       "      <td>0.000000</td>\n",
       "      <td>0.000000</td>\n",
       "      <td>0.0</td>\n",
       "      <td>1.420167</td>\n",
       "      <td>1.582466</td>\n",
       "      <td>...</td>\n",
       "      <td>0.861235</td>\n",
       "      <td>1.394136</td>\n",
       "      <td>0.940507</td>\n",
       "      <td>2.140355</td>\n",
       "      <td>2.605483</td>\n",
       "      <td>1.990744</td>\n",
       "      <td>0.828808</td>\n",
       "      <td>1.967391</td>\n",
       "      <td>0.000000</td>\n",
       "      <td>1.312032</td>\n",
       "    </tr>\n",
       "    <tr>\n",
       "      <th>ENSG00000134539</th>\n",
       "      <td>0.000000</td>\n",
       "      <td>1.776280</td>\n",
       "      <td>0.000000</td>\n",
       "      <td>0.381069</td>\n",
       "      <td>0.0000</td>\n",
       "      <td>1.643206</td>\n",
       "      <td>0.000000</td>\n",
       "      <td>0.0</td>\n",
       "      <td>0.000000</td>\n",
       "      <td>0.000000</td>\n",
       "      <td>...</td>\n",
       "      <td>0.000000</td>\n",
       "      <td>0.000000</td>\n",
       "      <td>0.000000</td>\n",
       "      <td>0.000000</td>\n",
       "      <td>0.000000</td>\n",
       "      <td>1.990744</td>\n",
       "      <td>1.351873</td>\n",
       "      <td>1.622463</td>\n",
       "      <td>0.000000</td>\n",
       "      <td>0.454942</td>\n",
       "    </tr>\n",
       "    <tr>\n",
       "      <th>ENSG00000127663</th>\n",
       "      <td>0.000000</td>\n",
       "      <td>0.000000</td>\n",
       "      <td>0.000000</td>\n",
       "      <td>1.328568</td>\n",
       "      <td>0.0000</td>\n",
       "      <td>0.000000</td>\n",
       "      <td>0.000000</td>\n",
       "      <td>0.0</td>\n",
       "      <td>0.878202</td>\n",
       "      <td>0.000000</td>\n",
       "      <td>...</td>\n",
       "      <td>0.861235</td>\n",
       "      <td>1.060421</td>\n",
       "      <td>0.000000</td>\n",
       "      <td>1.095070</td>\n",
       "      <td>0.000000</td>\n",
       "      <td>0.000000</td>\n",
       "      <td>1.734937</td>\n",
       "      <td>0.873105</td>\n",
       "      <td>1.105994</td>\n",
       "      <td>1.078734</td>\n",
       "    </tr>\n",
       "  </tbody>\n",
       "</table>\n",
       "<p>582 rows × 14085 columns</p>\n",
       "</div>"
      ],
      "text/plain": [
       "cell_id          GTACAACAGGCGTTGA.21.11  GAGTTGTAGCAACAGC.42.2  \\\n",
       "ENSG00000142920                0.000000               1.145814   \n",
       "ENSG00000128298                0.000000               0.000000   \n",
       "ENSG00000128739                0.000000               1.145814   \n",
       "ENSG00000115738                0.000000               0.000000   \n",
       "ENSG00000104325                0.000000               0.000000   \n",
       "...                                 ...                    ...   \n",
       "ENSG00000157152                2.006299               2.820393   \n",
       "ENSG00000112186                2.006299               2.820393   \n",
       "ENSG00000076685                2.006299               0.000000   \n",
       "ENSG00000134539                0.000000               1.776280   \n",
       "ENSG00000127663                0.000000               0.000000   \n",
       "\n",
       "cell_id          ACACCAATCCCGATCT.23.6  GCACATAAGAATCTAG.10.7  \\\n",
       "ENSG00000142920               1.360721               0.000000   \n",
       "ENSG00000128298               0.000000               0.381069   \n",
       "ENSG00000128739               0.000000               0.931244   \n",
       "ENSG00000115738               0.000000               0.381069   \n",
       "ENSG00000104325               0.000000               0.931244   \n",
       "...                                ...                    ...   \n",
       "ENSG00000157152               1.745110               2.468479   \n",
       "ENSG00000112186               1.360721               1.492540   \n",
       "ENSG00000076685               1.745110               1.328568   \n",
       "ENSG00000134539               0.000000               0.381069   \n",
       "ENSG00000127663               0.000000               1.328568   \n",
       "\n",
       "cell_id          AAGACCTAGCCTATGT.13.1  ACTTACTGTCAGAAGC.8.1  \\\n",
       "ENSG00000142920                 0.0000              1.643206   \n",
       "ENSG00000128298                 3.4106              0.000000   \n",
       "ENSG00000128739                 0.0000              0.000000   \n",
       "ENSG00000115738                 3.4106              0.000000   \n",
       "ENSG00000104325                 0.0000              0.000000   \n",
       "...                                ...                   ...   \n",
       "ENSG00000157152                 0.0000              0.000000   \n",
       "ENSG00000112186                 0.0000              2.391544   \n",
       "ENSG00000076685                 0.0000              0.000000   \n",
       "ENSG00000134539                 0.0000              1.643206   \n",
       "ENSG00000127663                 0.0000              0.000000   \n",
       "\n",
       "cell_id          CACAGGCAGAATCTCC.38.1  CGAGCCAGTATTACCG.29.0  \\\n",
       "ENSG00000142920               0.000000                    0.0   \n",
       "ENSG00000128298               0.000000                    0.0   \n",
       "ENSG00000128739               0.000000                    0.0   \n",
       "ENSG00000115738               2.347186                    0.0   \n",
       "ENSG00000104325               0.000000                    0.0   \n",
       "...                                ...                    ...   \n",
       "ENSG00000157152               0.000000                    0.0   \n",
       "ENSG00000112186               0.000000                    0.0   \n",
       "ENSG00000076685               0.000000                    0.0   \n",
       "ENSG00000134539               0.000000                    0.0   \n",
       "ENSG00000127663               0.000000                    0.0   \n",
       "\n",
       "cell_id          ACCCAAAGTGACCTGC.1.5  CGGACGTTCATGTGGT.15.1  ...  \\\n",
       "ENSG00000142920              0.504917               1.582466  ...   \n",
       "ENSG00000128298              0.504917               0.000000  ...   \n",
       "ENSG00000128739              1.174485               0.000000  ...   \n",
       "ENSG00000115738              0.000000               0.000000  ...   \n",
       "ENSG00000104325              0.000000               0.000000  ...   \n",
       "...                               ...                    ...  ...   \n",
       "ENSG00000157152              2.945731               1.582466  ...   \n",
       "ENSG00000112186              2.254404               2.318932  ...   \n",
       "ENSG00000076685              1.420167               1.582466  ...   \n",
       "ENSG00000134539              0.000000               0.000000  ...   \n",
       "ENSG00000127663              0.878202               0.000000  ...   \n",
       "\n",
       "cell_id          AGGGCCTTCGAGAACG.12.14  GCGATCGCACCTCTAC.12.11  \\\n",
       "ENSG00000142920                0.861235                1.664975   \n",
       "ENSG00000128298                0.861235                0.625523   \n",
       "ENSG00000128739                0.000000                0.625523   \n",
       "ENSG00000115738                0.000000                0.625523   \n",
       "ENSG00000104325                0.000000                0.625523   \n",
       "...                                 ...                     ...   \n",
       "ENSG00000157152                2.345670                2.684303   \n",
       "ENSG00000112186                0.861235                1.060421   \n",
       "ENSG00000076685                0.861235                1.394136   \n",
       "ENSG00000134539                0.000000                0.000000   \n",
       "ENSG00000127663                0.861235                1.060421   \n",
       "\n",
       "cell_id          ATGTCTTGTTCACCGG.16.2  TGCAGTACAACCAATC.26.2  \\\n",
       "ENSG00000142920               0.940507               0.649033   \n",
       "ENSG00000128298               0.000000               0.000000   \n",
       "ENSG00000128739               0.000000               0.000000   \n",
       "ENSG00000115738               0.000000               0.360711   \n",
       "ENSG00000104325               0.000000               0.000000   \n",
       "...                                ...                    ...   \n",
       "ENSG00000157152               2.484399               2.611894   \n",
       "ENSG00000112186               0.940507               0.360711   \n",
       "ENSG00000076685               0.940507               2.140355   \n",
       "ENSG00000134539               0.000000               0.000000   \n",
       "ENSG00000127663               0.000000               1.095070   \n",
       "\n",
       "cell_id          CGGACGTCACGGTAGA.19.0  CTAACCCTCCCGGTAG.31.6  \\\n",
       "ENSG00000142920               0.000000               0.000000   \n",
       "ENSG00000128298               2.828458               0.000000   \n",
       "ENSG00000128739               1.601402               0.000000   \n",
       "ENSG00000115738               2.018482               0.000000   \n",
       "ENSG00000104325               0.000000               0.000000   \n",
       "...                                ...                    ...   \n",
       "ENSG00000157152               2.341633               1.990744   \n",
       "ENSG00000112186               1.012347               0.000000   \n",
       "ENSG00000076685               2.605483               1.990744   \n",
       "ENSG00000134539               0.000000               1.990744   \n",
       "ENSG00000127663               0.000000               0.000000   \n",
       "\n",
       "cell_id          TCGGGCATCCCAGTGG.12.14  ATCACGAGTATCACCA.6.2  \\\n",
       "ENSG00000142920                0.000000              0.000000   \n",
       "ENSG00000128298                0.000000              0.501618   \n",
       "ENSG00000128739                0.000000              2.245558   \n",
       "ENSG00000115738                0.000000              0.501618   \n",
       "ENSG00000104325                0.000000              0.873105   \n",
       "...                                 ...                   ...   \n",
       "ENSG00000157152                1.351873              2.679290   \n",
       "ENSG00000112186                0.828808              1.805211   \n",
       "ENSG00000076685                0.828808              1.967391   \n",
       "ENSG00000134539                1.351873              1.622463   \n",
       "ENSG00000127663                1.734937              0.873105   \n",
       "\n",
       "cell_id          AAGACTCGTTGGGTAG.10.7  GATGATCCAGCCATTA.30.6  \n",
       "ENSG00000142920               0.000000               0.000000  \n",
       "ENSG00000128298               0.656484               0.454942  \n",
       "ENSG00000128739               1.105994               2.713896  \n",
       "ENSG00000115738               1.105994               0.000000  \n",
       "ENSG00000104325               0.656484               0.000000  \n",
       "...                                ...                    ...  \n",
       "ENSG00000157152               2.487972               1.846029  \n",
       "ENSG00000112186               0.656484               2.234892  \n",
       "ENSG00000076685               0.000000               1.312032  \n",
       "ENSG00000134539               0.000000               0.454942  \n",
       "ENSG00000127663               1.105994               1.078734  \n",
       "\n",
       "[582 rows x 14085 columns]"
      ]
     },
     "execution_count": 393,
     "metadata": {},
     "output_type": "execute_result"
    }
   ],
   "source": [
    "train_x"
   ]
  },
  {
   "cell_type": "code",
   "execution_count": 394,
   "id": "4dce6d6f-cadc-4111-bc5c-6618bec14a2f",
   "metadata": {},
   "outputs": [
    {
     "data": {
      "text/plain": [
       "{2: CustomNetwork(\n",
       "   (layers): ModuleList(\n",
       "     (0): Linear(in_features=582, out_features=356, bias=False)\n",
       "     (1): Linear(in_features=356, out_features=1, bias=True)\n",
       "   )\n",
       " ),\n",
       " 3: CustomNetwork(\n",
       "   (layers): ModuleList(\n",
       "     (0): Linear(in_features=582, out_features=356, bias=False)\n",
       "     (1): Linear(in_features=356, out_features=134, bias=False)\n",
       "     (2): Linear(in_features=134, out_features=1, bias=True)\n",
       "   )\n",
       " ),\n",
       " 4: CustomNetwork(\n",
       "   (layers): ModuleList(\n",
       "     (0): Linear(in_features=582, out_features=356, bias=False)\n",
       "     (1): Linear(in_features=356, out_features=134, bias=False)\n",
       "     (2): Linear(in_features=134, out_features=29, bias=False)\n",
       "     (3): Linear(in_features=29, out_features=1, bias=True)\n",
       "   )\n",
       " )}"
      ]
     },
     "execution_count": 394,
     "metadata": {},
     "output_type": "execute_result"
    }
   ],
   "source": [
    "model_dict_sparse"
   ]
  },
  {
   "cell_type": "code",
   "execution_count": 395,
   "id": "b8458044-062e-48b9-a957-11ed67272bc4",
   "metadata": {},
   "outputs": [
    {
     "data": {
      "text/plain": [
       "CustomNetwork(\n",
       "  (layers): ModuleList(\n",
       "    (0): Linear(in_features=582, out_features=356, bias=False)\n",
       "    (1): Linear(in_features=356, out_features=1, bias=True)\n",
       "  )\n",
       ")"
      ]
     },
     "execution_count": 395,
     "metadata": {},
     "output_type": "execute_result"
    }
   ],
   "source": [
    "model_dict_sparse[2]"
   ]
  },
  {
   "cell_type": "code",
   "execution_count": 396,
   "id": "5337d8b1-82eb-4825-be59-e962176e58a0",
   "metadata": {},
   "outputs": [
    {
     "data": {
      "text/plain": [
       "72.91311754684838"
      ]
     },
     "execution_count": 396,
     "metadata": {},
     "output_type": "execute_result"
    }
   ],
   "source": [
    "accuracy, loss, predicted_list, labels_list, probability_list = evaluate(model_dict_sparse[2], test_dataloader)\n",
    "accuracy"
   ]
  },
  {
   "cell_type": "code",
   "execution_count": 397,
   "id": "e823f1ea-15ab-417a-a6ca-9976f4876d88",
   "metadata": {},
   "outputs": [
    {
     "name": "stdout",
     "output_type": "stream",
     "text": [
      "tensor([[1.]])\n",
      "torch.Size([1, 582])\n"
     ]
    }
   ],
   "source": [
    "for features, labels in test_dataloader:\n",
    "    print(labels)\n",
    "    print(features.shape)\n",
    "    break"
   ]
  },
  {
   "cell_type": "code",
   "execution_count": 398,
   "id": "6022339a-cf84-4801-b60c-666f947f77c3",
   "metadata": {},
   "outputs": [
    {
     "data": {
      "text/plain": [
       "{'dataset': {'train': '/12tb_dsk1/danish/Pytorch_Biologically_Informed_Neural_Network/Preprocessed_data/excitory_neurons/Exc_L2-3_CBLN2_LINC02306/train.csv',\n",
       "  'test': '/12tb_dsk1/danish/Pytorch_Biologically_Informed_Neural_Network/Preprocessed_data/excitory_neurons/Exc_L2-3_CBLN2_LINC02306/test.csv',\n",
       "  'val': '/12tb_dsk1/danish/Pytorch_Biologically_Informed_Neural_Network/Preprocessed_data/excitory_neurons/Exc_L2-3_CBLN2_LINC02306/val.csv',\n",
       "  'y_train': '/12tb_dsk1/danish/Pytorch_Biologically_Informed_Neural_Network/Preprocessed_data/excitory_neurons/Exc_L2-3_CBLN2_LINC02306/y_train.csv',\n",
       "  'y_test': '/12tb_dsk1/danish/Pytorch_Biologically_Informed_Neural_Network/Preprocessed_data/excitory_neurons/Exc_L2-3_CBLN2_LINC02306/y_test.csv',\n",
       "  'y_val': '/12tb_dsk1/danish/Pytorch_Biologically_Informed_Neural_Network/Preprocessed_data/excitory_neurons/Exc_L2-3_CBLN2_LINC02306/y_val.csv'},\n",
       " 'model_output': {'model_save_dir': '/12tb_dsk1/danish/Pytorch_Biologically_Informed_Neural_Network/model_save/excitory_neurons/Exc_L2-3_CBLN2_LINC02306/'},\n",
       " 'train': {'epochs': 50,\n",
       "  'learning_rate': 0.001,\n",
       "  'weight_decay': 0.0001,\n",
       "  'batch_size': 8192},\n",
       " 'gene_expression': {'highly_expressed_threshold': 0.95,\n",
       "  'lowly_expressed_threshold': 0.95,\n",
       "  'normalization': True,\n",
       "  'marker': True,\n",
       "  'print_information': True},\n",
       " 'pathways_network': {'species': 'human',\n",
       "  'n_hidden_layer': 3,\n",
       "  'pathway_relation': '../../usman/CellTICS/reactome/ReactomePathwaysRelation.txt',\n",
       "  'pathway_names': '../../usman/CellTICS/reactome/ReactomePathways.txt',\n",
       "  'ensemble_pathway_relation': '../../usman/CellTICS/reactome/Ensembl2Reactome_All_Levels.txt',\n",
       "  'datatype': 'diagnosis'},\n",
       " 'date_string': '2024_08_07_08_53_10'}"
      ]
     },
     "execution_count": 398,
     "metadata": {},
     "output_type": "execute_result"
    }
   ],
   "source": [
    "config"
   ]
  },
  {
   "cell_type": "markdown",
   "id": "a0033209-555e-4136-8c99-bdd45b8bd2ee",
   "metadata": {},
   "source": [
    "# Model Interpretation"
   ]
  },
  {
   "cell_type": "code",
   "execution_count": 573,
   "id": "8b688d50-c892-4781-8630-259ed9e5078b",
   "metadata": {},
   "outputs": [],
   "source": [
    "# Define a hook function to capture the activations\n",
    "\n",
    "\n",
    "def get_activation(name, number_of_layers, config, activations):\n",
    "    def hook(model, input, output):\n",
    "        # Convert output to numpy array for easier handling, but this is optional\n",
    "        activations[name] = output.detach().numpy()\n",
    "        \n",
    "           \n",
    "    return hook\n",
    "def attaching_hook(model, dataloader):\n",
    "    \n",
    "        correct = 0\n",
    "        total = 0\n",
    "        predicted_list = []\n",
    "        probability_list = []\n",
    "        labels_list = []\n",
    "        activations_list = []\n",
    "        features_list = []\n",
    "        criterion = nn.BCEWithLogitsLoss()\n",
    "        loss = 0\n",
    "        \n",
    "\n",
    "        with torch.no_grad():  # No need to compute gradients during evaluation\n",
    "            for sample_idx, (features, labels) in tqdm(enumerate(dataloader)):\n",
    "                \n",
    "                \n",
    "                #print(labels)\n",
    "                #print(features.shape)\n",
    "                activations = {}\n",
    "                for idx, layer in enumerate(model.layers):\n",
    "                    layer_name = f'layer_{idx}'\n",
    "                    number_of_layers = len(model.layers)\n",
    "                    activation_hook = get_activation(layer_name, number_of_layers, config, activations)\n",
    "                    \n",
    "                    layer.register_forward_hook(activation_hook)\n",
    "    \n",
    "                outputs =  model(features)\n",
    "                    #print(outputs)\n",
    "                probability = torch.sigmoid(outputs.data)\n",
    "                predicted = torch.round(torch.sigmoid(outputs.data))\n",
    "                    #print(outputs)\n",
    "                    #print(predicted)\n",
    "                #loss += criterion(outputs, labels)\n",
    "                    #_, predicted = torch.sigmoid(outputs.data)\n",
    "                predicted_list.extend(predicted.detach().numpy())\n",
    "                labels_list.extend(labels.detach().numpy())\n",
    "                probability_list.extend(probability.detach().numpy())\n",
    "                features_list.append(features)\n",
    "                total += labels.size(0)\n",
    "                x = activations\n",
    "                activations_temp = activations.copy()\n",
    "                activations_list.append(activations_temp)\n",
    "                \n",
    "                correct += (predicted == labels).sum().item()\n",
    "                '''if sample_idx == 1000:\n",
    "                    #print(activations_list)\n",
    "                    break'''\n",
    "                \n",
    "            #print(total)\n",
    "        accuracy = 100 * correct / total\n",
    "        #print(activations_list)\n",
    "        return activations_list, accuracy, predicted_list, labels_list, features_list,x\n",
    "        \n"
   ]
  },
  {
   "cell_type": "code",
   "execution_count": 574,
   "id": "c3aad112-b683-4ca7-a7de-eda25b51adeb",
   "metadata": {},
   "outputs": [],
   "source": [
    "\n",
    "def return_feature_importance(model_dict_sparse, dataloader):\n",
    "    predicted_list_dict = {}\n",
    "    ground_truth_list_dict = {}\n",
    "    activations_list_dict = {}\n",
    "    accuracy_list_dict = {}\n",
    "    for i, j in model_dict_sparse.items():\n",
    "        #accuracy, loss, predicted_list, labels_list, probability_list = evaluate(j, dataloader)\n",
    "        \n",
    "        activations_list_dict[f'model_{i}_hidden_layers'], accuracy_list_dict[f'model_{i}_hidden_layers'], \\\n",
    "        predicted_list_dict[f'model_{i}_hidden_layers'], ground_truth_list_dict[f'model_{i}_hidden_layers'], \\\n",
    "        feature_list,x= attaching_hook(j, dataloader)\n",
    "        print(f'{i} Layers: {accuracy_list_dict[f'model_{i}_hidden_layers']}')\n",
    "        \n",
    "    return activations_list_dict, accuracy_list_dict, predicted_list_dict, ground_truth_list_dict, feature_list,x"
   ]
  },
  {
   "cell_type": "code",
   "execution_count": 575,
   "id": "f21569bf-6144-4f5d-bccb-7336562f40d1",
   "metadata": {},
   "outputs": [
    {
     "name": "stderr",
     "output_type": "stream",
     "text": [
      "4696it [02:50, 27.58it/s]\n"
     ]
    },
    {
     "name": "stdout",
     "output_type": "stream",
     "text": [
      "2 Layers: 72.91311754684838\n"
     ]
    },
    {
     "name": "stderr",
     "output_type": "stream",
     "text": [
      "4696it [04:11, 18.64it/s]\n"
     ]
    },
    {
     "name": "stdout",
     "output_type": "stream",
     "text": [
      "3 Layers: 68.82453151618398\n"
     ]
    },
    {
     "name": "stderr",
     "output_type": "stream",
     "text": [
      "4696it [06:06, 12.83it/s]"
     ]
    },
    {
     "name": "stdout",
     "output_type": "stream",
     "text": [
      "4 Layers: 65.92844974446338\n"
     ]
    },
    {
     "name": "stderr",
     "output_type": "stream",
     "text": [
      "\n"
     ]
    }
   ],
   "source": [
    "\n",
    "activations_list_dict, accuracy_list_dict, predicted_list_dict, ground_truth_list_dict, feature_list,x = return_feature_importance(model_dict_sparse, test_dataloader)"
   ]
  },
  {
   "cell_type": "code",
   "execution_count": 576,
   "id": "121d9db9-7ace-471c-9fdf-e2d41e951ff6",
   "metadata": {},
   "outputs": [],
   "source": [
    "activations_list_dict_temp , accuracy_list_dict_temp , predicted_list_dict_temp , ground_truth_list_dict_temp , feature_list_temp = \\\n",
    "activations_list_dict.copy(), accuracy_list_dict.copy(), predicted_list_dict.copy(), ground_truth_list_dict.copy(), feature_list.copy()"
   ]
  },
  {
   "cell_type": "code",
   "execution_count": 578,
   "id": "cc6f2139-f039-4d4c-8540-e0b53460589c",
   "metadata": {
    "scrolled": true
   },
   "outputs": [
    {
     "data": {
      "text/plain": [
       "{'layer_0': array([[-1.02035873e-01, -3.95229980e-02, -2.49865577e-01,\n",
       "         -7.59571433e-01,  6.13655001e-02,  1.19171841e-02,\n",
       "         -1.52978525e-01, -2.48776227e-02, -6.63356781e-02,\n",
       "         -8.50164890e-02,  1.00919388e-01,  2.10174620e-01,\n",
       "          2.43535209e-02,  8.88209566e-02, -2.46568099e-01,\n",
       "         -4.17953022e-02,  3.41609120e-05, -9.35641825e-02,\n",
       "          1.41167626e-01,  3.46663594e-03, -3.34159844e-02,\n",
       "          4.92186725e-01, -6.62227720e-02,  7.44830891e-02,\n",
       "          2.67924070e-01,  1.36089027e-01, -4.37991858e-01,\n",
       "         -1.57400221e-02, -5.29005975e-02, -1.91125162e-02,\n",
       "         -1.02645546e-01, -8.21893439e-02, -2.80858204e-03,\n",
       "         -1.24615297e-01,  1.04077175e-01, -1.67470649e-02,\n",
       "          1.61785185e-01,  5.77118635e-01, -5.46624362e-01,\n",
       "          3.51986587e-02, -1.67751297e-01,  1.60857409e-01,\n",
       "         -1.89261302e-01, -2.38271877e-01, -8.71248692e-02,\n",
       "         -1.91935405e-01,  4.39671837e-02,  0.00000000e+00,\n",
       "          4.17069420e-02,  2.00590387e-01, -1.06402384e-02,\n",
       "          1.40312672e-01, -3.81667800e-02,  2.38952160e-01,\n",
       "          5.97646952e-01, -1.79363638e-02,  1.41732469e-01,\n",
       "          0.00000000e+00,  6.07788265e-01, -6.21699020e-02,\n",
       "          1.76398978e-01, -2.03044623e-01, -1.03607178e-02,\n",
       "         -7.38674179e-02,  2.25990564e-02, -4.49835248e-02,\n",
       "          2.73041606e-01,  3.14335376e-02,  6.51861578e-02,\n",
       "          1.60075337e-01,  2.45169580e-01,  1.18112862e-01,\n",
       "          2.43976623e-01, -6.90346658e-02,  1.89347669e-01,\n",
       "         -1.98150396e-01, -5.56668162e-01,  4.12340835e-02,\n",
       "          4.86102290e-02, -2.58437872e-01,  7.35907108e-02,\n",
       "         -1.80896521e-01,  1.06396906e-01, -1.34881973e-01,\n",
       "          2.60790527e-01,  1.09098762e-01, -3.10829002e-02,\n",
       "          4.81573306e-02, -1.34458428e-03,  3.60258967e-02,\n",
       "         -1.35205120e-01,  0.00000000e+00,  7.13199675e-02,\n",
       "         -1.50726326e-02,  4.56736684e-01, -3.55885401e-02,\n",
       "         -3.26575674e-02, -9.43721011e-02,  1.37803644e-01,\n",
       "          2.72965543e-02, -2.09955163e-02, -1.65664107e-02,\n",
       "          2.14456066e-01,  9.02247727e-02,  9.31147188e-02,\n",
       "          1.15645677e-01,  1.18748084e-01, -5.71083277e-02,\n",
       "          2.67795213e-02,  7.47335255e-02, -9.37788635e-02,\n",
       "          4.16481197e-02,  2.34330922e-01,  1.62065685e-01,\n",
       "          8.52352902e-02,  4.08489890e-02,  3.53833020e-01,\n",
       "         -2.17033643e-02, -2.71035492e-01,  7.15197623e-03,\n",
       "          2.79331416e-01, -4.22605909e-02, -7.80411214e-02,\n",
       "          1.84578046e-01, -1.41079649e-01, -1.70094222e-02,\n",
       "          0.00000000e+00, -3.48647982e-02,  7.55275488e-02,\n",
       "          1.34258419e-01, -1.80279091e-01, -6.35636896e-02,\n",
       "         -8.29607546e-02,  0.00000000e+00,  5.73852062e-01,\n",
       "         -1.42391235e-01, -4.76613939e-02,  5.70254922e-02,\n",
       "          1.06335141e-01,  7.35945329e-02, -2.99091786e-02,\n",
       "          7.08931684e-03,  0.00000000e+00,  4.35853116e-02,\n",
       "          8.75283480e-02, -2.88574453e-02,  0.00000000e+00,\n",
       "          3.78989488e-01,  4.84630875e-02,  8.74747038e-02,\n",
       "         -1.68342739e-01,  2.40377098e-01,  5.17781913e-01,\n",
       "          1.70807391e-01, -4.92447540e-02, -2.39868596e-01,\n",
       "         -9.28864554e-02, -3.55908334e-01,  1.42290264e-01,\n",
       "          1.50417477e-01,  6.14410043e-02,  0.00000000e+00,\n",
       "          1.60444319e-01, -4.90637263e-03,  9.62758809e-02,\n",
       "          2.23818421e-03,  1.37425028e-02,  7.62098059e-02,\n",
       "         -8.82674009e-02,  4.80650961e-02,  1.73990726e-01,\n",
       "          0.00000000e+00, -5.50771877e-02,  5.34335636e-02,\n",
       "         -6.42447025e-02, -6.43352792e-02,  1.35108769e-01,\n",
       "         -3.65405977e-01,  1.12630025e-01, -4.56118882e-02,\n",
       "          3.32918726e-02, -3.32608968e-01, -9.33165178e-02,\n",
       "         -1.75877243e-01, -1.35268839e-02,  6.84264153e-02,\n",
       "          5.25066108e-02, -7.65881464e-02, -4.59157497e-01,\n",
       "         -1.14797346e-01,  5.98398089e-01, -2.07384914e-01,\n",
       "          1.97046071e-01, -1.77851602e-01, -9.51993391e-02,\n",
       "         -1.60999112e-02, -1.01106539e-01,  7.68037736e-02,\n",
       "         -6.55398443e-02, -4.00951952e-01,  2.58247945e-02,\n",
       "          0.00000000e+00,  1.31669454e-03, -2.94045985e-01,\n",
       "         -1.00418381e-01, -2.84076601e-01, -1.35850489e-01,\n",
       "          2.67476980e-02,  6.00568712e-01,  5.07605262e-02,\n",
       "          0.00000000e+00, -2.54567504e-01,  2.52335537e-02,\n",
       "          2.66954213e-01, -6.58969656e-02, -3.80586684e-01,\n",
       "         -5.29802330e-02, -1.23222023e-01,  2.21309103e-02,\n",
       "         -5.87036461e-03, -7.71565223e-03, -1.17953429e-02,\n",
       "         -9.31676850e-02,  0.00000000e+00, -8.36995989e-02,\n",
       "          0.00000000e+00,  1.73792958e-01,  2.63994545e-01,\n",
       "         -1.95203386e-02,  4.09123525e-02, -5.71395308e-02,\n",
       "         -1.57740101e-01,  3.06417704e-01,  0.00000000e+00,\n",
       "         -2.75292784e-01, -7.79662728e-02,  2.19456255e-01,\n",
       "         -2.73129791e-01, -1.73659809e-03,  1.14987284e-01,\n",
       "         -4.68466803e-03, -7.55714998e-02, -4.42366563e-02,\n",
       "         -5.27343377e-02, -1.16549678e-01,  4.49306844e-03,\n",
       "          1.09941117e-01,  3.08699965e-01, -2.16645524e-01,\n",
       "          6.91833794e-02, -8.32562987e-03,  1.03573918e-01,\n",
       "          4.07507122e-02, -1.84706360e-01, -3.71491015e-02,\n",
       "          2.70441592e-01,  2.96240717e-01, -8.33187029e-02,\n",
       "         -6.36833906e-02,  1.27407983e-02,  9.99862701e-02,\n",
       "         -2.75469244e-01, -6.86559975e-02, -3.10843550e-02,\n",
       "          1.19614616e-01, -1.06680088e-01,  0.00000000e+00,\n",
       "          8.99247229e-02, -2.20713615e-01, -8.70018899e-02,\n",
       "         -4.53909896e-02,  4.57149222e-02,  2.54060030e-01,\n",
       "         -1.40952319e-01,  2.15032548e-01, -3.08052391e-01,\n",
       "          4.49587554e-01,  2.25382596e-01, -1.70361131e-01,\n",
       "          0.00000000e+00,  0.00000000e+00, -1.81920111e-01,\n",
       "          4.11318362e-01, -1.17106840e-01,  2.27618247e-01,\n",
       "         -1.59577668e-01, -1.18162088e-01,  4.78686113e-03,\n",
       "         -4.94635105e-02, -8.46512765e-02,  8.41861889e-02,\n",
       "          1.24797538e-01, -2.72579908e-01,  6.07820190e-02,\n",
       "          2.48104334e-04,  1.31146967e-01, -8.53491947e-03,\n",
       "          3.44576016e-02,  1.39107600e-01, -9.49335545e-02,\n",
       "         -1.45085203e-02,  6.53352886e-02,  3.45055163e-01,\n",
       "         -1.91407297e-02, -4.12287474e-01, -9.40135345e-02,\n",
       "          2.24667415e-02, -4.71211597e-02,  3.49683344e-01,\n",
       "         -1.02378763e-02, -7.84333348e-02,  1.07216097e-01,\n",
       "          4.98263165e-02,  0.00000000e+00, -6.44509673e-01,\n",
       "         -4.49373335e-01, -1.89546943e-01, -1.49488762e-01,\n",
       "         -7.78974742e-02,  4.57076132e-02,  1.66038662e-01,\n",
       "         -7.98675194e-02, -4.26879227e-02,  9.65376385e-03,\n",
       "         -5.05733430e-01,  3.73553574e-01,  2.61873692e-01,\n",
       "          1.38945684e-01, -1.38649136e-01,  5.86080141e-02,\n",
       "         -1.22350290e-01, -2.26055980e-02, -1.24666639e-01,\n",
       "         -3.28289717e-02, -8.14957693e-02, -2.38523677e-01,\n",
       "         -5.96183315e-02,  8.50583240e-03,  1.30400553e-01,\n",
       "          1.44048631e-02, -2.03274116e-02,  2.25530788e-01,\n",
       "         -2.06212401e-01,  2.40909338e-01,  1.29580513e-01,\n",
       "          3.08211267e-01,  1.18501320e-01,  1.11365005e-01,\n",
       "          3.78097832e-01, -6.03529811e-02,  1.26897812e-01,\n",
       "          1.44374082e-02,  5.47412455e-01, -1.17372128e-03,\n",
       "         -1.34929419e-02, -3.60051170e-02]], dtype=float32),\n",
       " 'layer_1': array([[0.4581598]], dtype=float32)}"
      ]
     },
     "execution_count": 578,
     "metadata": {},
     "output_type": "execute_result"
    }
   ],
   "source": [
    "activations_list_dict['model_2_hidden_layers'][0]"
   ]
  },
  {
   "cell_type": "code",
   "execution_count": 579,
   "id": "0ec65fb2-a4fa-4c22-8a37-c2d80167396c",
   "metadata": {
    "scrolled": true
   },
   "outputs": [
    {
     "data": {
      "text/plain": [
       "{'layer_0': array([[-1.60546184e-01,  0.00000000e+00, -2.44876876e-01,\n",
       "         -6.31171763e-01, -2.75769532e-01,  0.00000000e+00,\n",
       "          3.05476002e-02, -2.99740702e-01,  7.10200926e-04,\n",
       "         -2.05958635e-02,  1.07451864e-01,  2.55113184e-01,\n",
       "          0.00000000e+00,  1.07311770e-01, -3.56487483e-02,\n",
       "         -6.58128560e-02,  0.00000000e+00, -6.63892254e-02,\n",
       "          0.00000000e+00,  1.99292362e-01, -2.44851969e-02,\n",
       "          3.22092742e-01, -4.17610779e-02,  0.00000000e+00,\n",
       "          2.33944058e-02,  7.10880756e-02, -3.64194751e-01,\n",
       "          4.79219668e-02,  0.00000000e+00, -4.11451198e-02,\n",
       "          0.00000000e+00,  0.00000000e+00, -4.10979725e-02,\n",
       "         -1.50681928e-01,  1.71501413e-02,  0.00000000e+00,\n",
       "          1.21552788e-01,  6.13950670e-01, -4.70364720e-01,\n",
       "          5.25264703e-02, -1.07782960e-01,  1.92994878e-01,\n",
       "         -8.97179544e-02, -1.62051916e-01,  0.00000000e+00,\n",
       "         -2.54708409e-01,  0.00000000e+00,  0.00000000e+00,\n",
       "          5.93301319e-02,  1.48803562e-01,  0.00000000e+00,\n",
       "          0.00000000e+00, -1.36773840e-01,  2.52999961e-02,\n",
       "          2.63742596e-01, -2.22321078e-02,  7.20348954e-03,\n",
       "          0.00000000e+00,  4.30595487e-01, -3.63490395e-02,\n",
       "          1.54159322e-01, -2.68758982e-02, -3.24114740e-01,\n",
       "         -3.77642252e-02,  0.00000000e+00, -5.67141809e-02,\n",
       "          0.00000000e+00,  1.03099056e-01,  2.84532756e-01,\n",
       "          1.67453393e-01,  2.13457346e-01,  1.09353155e-01,\n",
       "          4.07434143e-02, -2.53041089e-01,  0.00000000e+00,\n",
       "         -1.02886915e-01, -2.46440679e-01,  0.00000000e+00,\n",
       "          0.00000000e+00, -1.27741903e-01,  0.00000000e+00,\n",
       "          4.61817980e-02,  4.41482902e-01, -8.77427384e-02,\n",
       "          4.71698254e-01, -6.43823808e-03,  0.00000000e+00,\n",
       "          8.72357488e-02,  1.09270280e-02, -1.04454815e-01,\n",
       "         -3.62071395e-02,  0.00000000e+00, -1.96238548e-01,\n",
       "         -2.28698296e-03,  3.20502341e-01,  0.00000000e+00,\n",
       "         -2.69426227e-01, -4.26718816e-02,  1.90014690e-01,\n",
       "          0.00000000e+00,  0.00000000e+00,  8.00405145e-02,\n",
       "          2.77880430e-01,  2.11524382e-01,  2.26851553e-01,\n",
       "         -3.62768024e-02,  9.17629898e-02, -6.84439182e-01,\n",
       "          7.03715608e-02,  3.93989459e-02, -5.56248575e-02,\n",
       "          4.13317174e-01,  1.00064620e-01,  1.08047053e-01,\n",
       "          2.43665352e-02,  8.25365186e-02,  5.35370350e-01,\n",
       "          0.00000000e+00, -2.64493793e-01,  2.48391613e-01,\n",
       "          1.13509558e-01,  0.00000000e+00, -3.25347558e-02,\n",
       "          2.90420443e-01,  4.28675860e-02,  1.03961237e-01,\n",
       "          0.00000000e+00, -7.61401653e-03,  1.79000914e-01,\n",
       "          1.07584022e-01, -3.22683007e-01,  0.00000000e+00,\n",
       "         -1.32925510e-02, -3.41870496e-03,  3.19486082e-01,\n",
       "         -4.67550643e-02, -1.91718489e-02,  0.00000000e+00,\n",
       "          0.00000000e+00,  4.41377088e-02, -3.75315249e-02,\n",
       "         -1.84167922e-01,  0.00000000e+00, -1.85107097e-01,\n",
       "          1.84734732e-01,  0.00000000e+00, -1.63935095e-01,\n",
       "          4.42184806e-01,  1.81034207e-01,  0.00000000e+00,\n",
       "         -8.89406577e-02,  2.63311088e-01,  1.56355307e-01,\n",
       "          3.14439356e-01, -5.24323471e-02, -1.28788054e-01,\n",
       "         -1.06204309e-01, -9.01258290e-02,  0.00000000e+00,\n",
       "         -1.42268434e-01,  2.02311739e-01,  0.00000000e+00,\n",
       "          1.73236176e-01,  0.00000000e+00,  8.64526033e-02,\n",
       "         -2.41808385e-01,  0.00000000e+00,  2.10770257e-02,\n",
       "         -2.81336308e-02,  2.72065401e-02,  3.64394933e-01,\n",
       "          0.00000000e+00,  0.00000000e+00,  7.34009817e-02,\n",
       "          0.00000000e+00, -1.92256272e-02, -1.01764351e-02,\n",
       "         -1.99567229e-01,  4.25965413e-02,  0.00000000e+00,\n",
       "          0.00000000e+00, -2.01739550e-01,  0.00000000e+00,\n",
       "          6.94666430e-02, -5.63925598e-03,  9.84430164e-02,\n",
       "         -1.37305453e-01, -4.40215729e-02, -6.28211915e-01,\n",
       "         -2.91081607e-01, -1.23657130e-01, -1.20458722e-01,\n",
       "          1.24847785e-01, -3.10423374e-02,  1.56839993e-02,\n",
       "          0.00000000e+00, -1.07651122e-01,  1.83176652e-01,\n",
       "          0.00000000e+00,  2.93673426e-01,  0.00000000e+00,\n",
       "          0.00000000e+00,  1.77536994e-01, -5.09256124e-03,\n",
       "         -6.78238347e-02, -1.39991626e-01,  0.00000000e+00,\n",
       "          0.00000000e+00,  4.60153222e-01,  0.00000000e+00,\n",
       "          0.00000000e+00, -8.29423368e-02,  1.61695201e-02,\n",
       "          0.00000000e+00, -6.47630394e-02, -6.60034597e-01,\n",
       "          0.00000000e+00, -5.01576543e-01,  0.00000000e+00,\n",
       "         -9.15892944e-02,  0.00000000e+00,  1.18200921e-01,\n",
       "          5.93435466e-02, -1.04600154e-01, -1.54885367e-01,\n",
       "         -4.82167816e-03,  1.73608437e-01,  5.00403047e-01,\n",
       "          0.00000000e+00,  0.00000000e+00, -2.06940249e-01,\n",
       "         -3.09403926e-01,  4.47153062e-01,  1.11880884e-01,\n",
       "         -1.12530455e-01, -6.29947782e-02,  2.38914117e-02,\n",
       "         -7.39550442e-02,  4.99276333e-02,  1.07880384e-01,\n",
       "          6.69715703e-02, -9.94526893e-02,  2.25018375e-02,\n",
       "         -3.26333880e-01, -1.09821506e-01,  0.00000000e+00,\n",
       "         -9.32766572e-02,  3.01028192e-01, -1.24536656e-01,\n",
       "          1.25323907e-01,  0.00000000e+00,  1.93755135e-01,\n",
       "          1.92044452e-01, -3.71256649e-01, -6.78205714e-02,\n",
       "          3.83388162e-01,  3.07058930e-01, -1.00620717e-01,\n",
       "         -2.03788519e-01,  4.17886227e-02,  6.84662610e-02,\n",
       "         -3.83752972e-01, -1.97588488e-01,  1.05229653e-02,\n",
       "          4.98664342e-02, -7.46175051e-02,  0.00000000e+00,\n",
       "          2.09033519e-01, -1.21231601e-01, -7.98388794e-02,\n",
       "          0.00000000e+00,  1.49940655e-01, -6.44234121e-02,\n",
       "         -2.00062364e-01,  3.15161020e-01, -2.13830099e-01,\n",
       "          3.31827402e-01,  3.35321516e-01, -8.65310133e-02,\n",
       "          0.00000000e+00,  0.00000000e+00, -1.20934963e-01,\n",
       "         -3.76915097e-01,  0.00000000e+00,  2.79657751e-01,\n",
       "         -4.06860322e-01, -7.38659352e-02,  0.00000000e+00,\n",
       "         -7.50997961e-02, -2.06854492e-01,  1.12275019e-01,\n",
       "          0.00000000e+00, -3.73211116e-01,  0.00000000e+00,\n",
       "          2.34185159e-02,  5.65581284e-02,  0.00000000e+00,\n",
       "          4.48885784e-02,  1.87492326e-01, -8.18904489e-02,\n",
       "         -4.75865863e-02, -7.37655163e-03,  1.54640853e-01,\n",
       "         -2.72286069e-02,  5.57593524e-01,  0.00000000e+00,\n",
       "          2.88322028e-02, -1.85140073e-02,  3.62316281e-01,\n",
       "          1.94770306e-01,  7.20861405e-02,  1.38499498e-01,\n",
       "          9.02590826e-02,  0.00000000e+00, -7.53362656e-01,\n",
       "         -1.52012333e-01, -2.04020634e-01, -9.40616652e-02,\n",
       "          0.00000000e+00,  0.00000000e+00,  4.83351834e-02,\n",
       "         -2.17203915e-01, -1.32192031e-01,  1.42259123e-02,\n",
       "         -2.88474619e-01,  5.22328258e-01, -3.58528614e-01,\n",
       "          3.87151614e-02, -1.68944225e-01,  0.00000000e+00,\n",
       "         -1.09700337e-01,  0.00000000e+00,  0.00000000e+00,\n",
       "          0.00000000e+00, -8.48362893e-02, -6.78823739e-02,\n",
       "          0.00000000e+00,  0.00000000e+00,  1.48553513e-02,\n",
       "          4.33203531e-03,  9.75199044e-02,  1.49480104e-01,\n",
       "         -4.79805768e-02,  6.61993176e-02, -3.78244966e-01,\n",
       "          2.89095193e-01,  2.75984675e-01,  8.09039101e-02,\n",
       "          4.52090681e-01, -1.33538574e-01,  2.31668636e-01,\n",
       "          9.51294973e-02, -3.78790677e-01,  1.10392727e-01,\n",
       "          3.76078598e-02,  0.00000000e+00]], dtype=float32),\n",
       " 'layer_1': array([[-0.52140903]], dtype=float32)}"
      ]
     },
     "execution_count": 579,
     "metadata": {},
     "output_type": "execute_result"
    }
   ],
   "source": [
    "activations_list_dict['model_2_hidden_layers'][1]"
   ]
  },
  {
   "cell_type": "code",
   "execution_count": 548,
   "id": "ce7ab3e1-9e24-4a78-9da1-48201cd1fa64",
   "metadata": {
    "scrolled": true
   },
   "outputs": [
    {
     "data": {
      "text/plain": [
       "{'5_layer_0': array([[-1.58823341e-01, -7.20940381e-02,  0.00000000e+00,\n",
       "         -6.74182832e-01, -5.90596616e-01,  0.00000000e+00,\n",
       "         -1.88265577e-01,  3.42074394e-01, -9.34310555e-02,\n",
       "          9.73826498e-02,  0.00000000e+00,  1.80161193e-01,\n",
       "          0.00000000e+00,  1.22480705e-01,  4.02367115e-02,\n",
       "         -4.64771092e-02,  0.00000000e+00, -8.45884606e-02,\n",
       "          0.00000000e+00, -1.80080891e-01, -4.98244762e-02,\n",
       "          2.88965017e-01, -1.03159338e-01,  0.00000000e+00,\n",
       "          7.83233196e-02,  8.82530212e-02, -2.41623178e-01,\n",
       "          1.64873764e-01,  0.00000000e+00, -2.27105450e-02,\n",
       "         -1.36651114e-01, -2.05357254e-01,  0.00000000e+00,\n",
       "         -1.06411740e-01, -2.03965902e-01,  0.00000000e+00,\n",
       "          0.00000000e+00,  4.26571786e-01, -4.40427840e-01,\n",
       "         -4.67337482e-03, -4.42186594e-01,  1.98911294e-01,\n",
       "         -2.09125742e-01, -3.87853622e-01,  0.00000000e+00,\n",
       "         -1.42592236e-01,  0.00000000e+00,  0.00000000e+00,\n",
       "          0.00000000e+00,  1.78147689e-01,  0.00000000e+00,\n",
       "          0.00000000e+00,  0.00000000e+00,  2.76787460e-01,\n",
       "          3.04006875e-01, -1.87364757e-01,  1.85910389e-01,\n",
       "          0.00000000e+00,  4.26300764e-01, -5.00984974e-02,\n",
       "          1.23927683e-01,  5.46826720e-02,  1.61761880e-01,\n",
       "         -9.32862014e-02,  0.00000000e+00,  0.00000000e+00,\n",
       "          1.42098010e-01,  0.00000000e+00,  1.43471748e-01,\n",
       "         -3.21466118e-01,  9.77186859e-02,  9.65878889e-02,\n",
       "          4.00557369e-03, -3.39846224e-01,  0.00000000e+00,\n",
       "         -8.30774009e-03, -1.70132607e-01,  0.00000000e+00,\n",
       "          0.00000000e+00, -3.28028202e-01,  1.12455152e-01,\n",
       "          1.40458256e-01,  1.56134933e-01, -6.19640164e-02,\n",
       "          9.12644267e-02,  2.24040002e-01,  0.00000000e+00,\n",
       "          1.20233715e-01, -2.43881159e-03, -1.07239030e-01,\n",
       "         -2.22913921e-04,  0.00000000e+00,  1.87580347e-01,\n",
       "         -3.15206149e-03,  3.17691863e-01, -1.60880491e-01,\n",
       "         -1.78791955e-01, -5.88130280e-02,  4.44563106e-02,\n",
       "          0.00000000e+00, -5.24192043e-02,  1.00450806e-01,\n",
       "          3.04478616e-01,  1.16753437e-01, -2.28030518e-01,\n",
       "         -2.89478481e-01,  1.23504691e-01, -4.18846846e-01,\n",
       "          1.12119623e-01,  9.73243415e-02,  0.00000000e+00,\n",
       "          5.73918164e-01,  5.52318729e-02,  1.16508052e-01,\n",
       "          0.00000000e+00,  2.91782003e-02,  2.98337817e-01,\n",
       "          0.00000000e+00, -1.21875852e-01,  2.71137655e-01,\n",
       "          1.23499103e-01, -1.05511412e-01, -9.09806415e-02,\n",
       "          2.87303895e-01,  4.39817220e-01,  1.65261567e-01,\n",
       "          0.00000000e+00,  1.34629011e-03, -1.74693137e-01,\n",
       "          4.61517066e-01, -3.77991855e-01, -1.65488005e-01,\n",
       "         -2.56257087e-01,  0.00000000e+00,  3.55946302e-01,\n",
       "         -2.58070212e-02, -1.68814093e-01,  0.00000000e+00,\n",
       "          1.47468880e-01,  1.23427294e-01, -5.57536744e-02,\n",
       "         -1.48814529e-01,  0.00000000e+00, -7.08512664e-02,\n",
       "         -9.05955210e-03,  0.00000000e+00,  0.00000000e+00,\n",
       "          5.03648102e-01,  2.80423701e-01,  0.00000000e+00,\n",
       "         -1.17470324e-03,  1.50844485e-01,  5.14534265e-02,\n",
       "          7.62779415e-02,  0.00000000e+00, -2.62068421e-01,\n",
       "         -1.38497159e-01, -3.60827297e-01,  1.33117363e-01,\n",
       "         -1.14634894e-01,  3.28275412e-01,  0.00000000e+00,\n",
       "          1.03775829e-01,  0.00000000e+00,  1.19154327e-01,\n",
       "          0.00000000e+00,  4.85701226e-02,  5.20650372e-02,\n",
       "         -3.66880447e-02, -2.01488808e-01,  2.12690219e-01,\n",
       "          0.00000000e+00,  0.00000000e+00,  8.15957226e-03,\n",
       "          0.00000000e+00,  1.61758080e-01,  1.60465851e-01,\n",
       "         -1.44318491e-01,  0.00000000e+00,  0.00000000e+00,\n",
       "          6.08305931e-02, -4.12949204e-01,  0.00000000e+00,\n",
       "         -2.19384089e-01, -1.57696940e-02,  6.21838450e-01,\n",
       "          3.62181872e-01, -1.08743280e-01, -8.32067251e-01,\n",
       "          4.38870847e-01,  1.85421258e-02, -1.06397055e-01,\n",
       "          3.08402359e-01, -1.88716441e-01, -2.88528092e-02,\n",
       "          0.00000000e+00,  0.00000000e+00,  2.46298760e-01,\n",
       "          8.25733691e-03,  1.79691598e-01,  0.00000000e+00,\n",
       "          0.00000000e+00, -4.75398405e-03, -3.76317352e-02,\n",
       "         -2.22112656e-01, -5.95831722e-02,  0.00000000e+00,\n",
       "          0.00000000e+00,  2.50557542e-01,  0.00000000e+00,\n",
       "         -1.65619433e-01, -6.74768984e-02,  1.42819816e-02,\n",
       "          0.00000000e+00, -1.59979418e-01, -8.11894298e-01,\n",
       "          0.00000000e+00,  0.00000000e+00,  4.78115045e-02,\n",
       "          1.90871507e-02, -2.21167272e-03,  0.00000000e+00,\n",
       "          2.81990767e-02,  0.00000000e+00, -3.38818103e-01,\n",
       "          0.00000000e+00, -1.26173437e-01, -7.52909929e-02,\n",
       "          0.00000000e+00,  0.00000000e+00, -2.93648615e-02,\n",
       "         -1.52444527e-01,  3.67687374e-01,  0.00000000e+00,\n",
       "          1.71376616e-02,  0.00000000e+00,  0.00000000e+00,\n",
       "         -3.00265700e-01,  4.40993644e-02,  1.48687422e-01,\n",
       "          7.75623769e-02, -1.37071848e-01,  4.80622193e-03,\n",
       "         -3.05053979e-01,  1.91203102e-01,  0.00000000e+00,\n",
       "          9.54808965e-02,  0.00000000e+00,  0.00000000e+00,\n",
       "          0.00000000e+00,  0.00000000e+00,  1.33343674e-02,\n",
       "          1.25961497e-01,  0.00000000e+00, -3.45819294e-02,\n",
       "          1.91850573e-01,  2.27671042e-02,  0.00000000e+00,\n",
       "         -2.03917891e-01,  0.00000000e+00,  0.00000000e+00,\n",
       "         -4.21807438e-01, -1.74523130e-01,  9.29457415e-03,\n",
       "          1.39447182e-01, -1.84322163e-01,  0.00000000e+00,\n",
       "          3.74607950e-01, -1.67759120e-01, -7.78627843e-02,\n",
       "          0.00000000e+00,  0.00000000e+00,  3.22455168e-03,\n",
       "         -2.48369500e-01,  2.32785195e-01, -2.57580459e-01,\n",
       "          2.18365833e-01,  2.39309609e-01, -2.13751256e-01,\n",
       "         -2.32235894e-01,  0.00000000e+00, -3.24422389e-01,\n",
       "          1.34203464e-01, -3.81814092e-01,  0.00000000e+00,\n",
       "         -2.68444270e-01, -1.01806603e-01,  0.00000000e+00,\n",
       "         -4.15373385e-01, -2.37515181e-01,  1.40721634e-01,\n",
       "          0.00000000e+00, -3.80017281e-01,  0.00000000e+00,\n",
       "          1.34592056e-02,  1.68877080e-01, -1.49396458e-03,\n",
       "         -7.18428334e-03,  1.00372955e-01, -7.85551965e-02,\n",
       "          0.00000000e+00,  2.10461915e-01,  1.59052938e-01,\n",
       "         -2.40500942e-02,  3.41177881e-01, -1.18126869e-01,\n",
       "          0.00000000e+00, -4.57337983e-02,  5.57093501e-01,\n",
       "          1.95658907e-01, -9.58839059e-03,  2.85646319e-01,\n",
       "          0.00000000e+00,  0.00000000e+00, -5.98384976e-01,\n",
       "         -1.43821254e-01, -1.07681885e-01, -1.69227928e-01,\n",
       "          0.00000000e+00,  0.00000000e+00,  1.35165170e-01,\n",
       "         -1.19888321e-01,  0.00000000e+00,  7.07120774e-03,\n",
       "         -1.79104686e-01, -8.49543735e-02, -2.70555578e-02,\n",
       "          1.69614941e-01, -1.09632760e-01,  7.36402646e-02,\n",
       "          0.00000000e+00,  0.00000000e+00,  0.00000000e+00,\n",
       "          0.00000000e+00, -4.68264110e-02, -2.07256451e-01,\n",
       "         -2.00682834e-01,  0.00000000e+00,  0.00000000e+00,\n",
       "          5.97067876e-03,  9.22717080e-02,  0.00000000e+00,\n",
       "         -9.80010852e-02,  1.44216061e-01, -5.70083141e-01,\n",
       "          3.42775732e-01,  0.00000000e+00,  1.11506775e-01,\n",
       "          4.81247306e-01,  0.00000000e+00,  1.18128590e-01,\n",
       "          2.61866208e-02,  1.34295523e-01,  2.72695094e-01,\n",
       "          5.18334769e-02, -8.98934603e-02]], dtype=float32),\n",
       " '5_layer_1': array([[-0.1818067]], dtype=float32)}"
      ]
     },
     "execution_count": 548,
     "metadata": {},
     "output_type": "execute_result"
    }
   ],
   "source": [
    "activations_list_dict['model_2_hidden_layers'][5]"
   ]
  },
  {
   "cell_type": "code",
   "execution_count": 580,
   "id": "c5753684-15c8-4df7-adf2-612d0517fd5b",
   "metadata": {
    "scrolled": true
   },
   "outputs": [
    {
     "data": {
      "text/plain": [
       "[array([1.], dtype=float32),\n",
       " array([0.], dtype=float32),\n",
       " array([1.], dtype=float32),\n",
       " array([1.], dtype=float32),\n",
       " array([1.], dtype=float32),\n",
       " array([0.], dtype=float32),\n",
       " array([1.], dtype=float32),\n",
       " array([0.], dtype=float32),\n",
       " array([1.], dtype=float32),\n",
       " array([1.], dtype=float32),\n",
       " array([1.], dtype=float32),\n",
       " array([0.], dtype=float32),\n",
       " array([1.], dtype=float32),\n",
       " array([0.], dtype=float32),\n",
       " array([1.], dtype=float32),\n",
       " array([1.], dtype=float32),\n",
       " array([1.], dtype=float32),\n",
       " array([1.], dtype=float32),\n",
       " array([1.], dtype=float32),\n",
       " array([1.], dtype=float32)]"
      ]
     },
     "execution_count": 580,
     "metadata": {},
     "output_type": "execute_result"
    }
   ],
   "source": [
    "predicted_list_dict['model_2_hidden_layers'][0:20]"
   ]
  },
  {
   "cell_type": "code",
   "execution_count": 581,
   "id": "20c09521-a1d8-4ee6-aafd-075bd4fc7723",
   "metadata": {
    "scrolled": true
   },
   "outputs": [
    {
     "data": {
      "text/plain": [
       "[array([1.], dtype=float32),\n",
       " array([0.], dtype=float32),\n",
       " array([0.], dtype=float32),\n",
       " array([1.], dtype=float32),\n",
       " array([1.], dtype=float32),\n",
       " array([0.], dtype=float32),\n",
       " array([1.], dtype=float32),\n",
       " array([0.], dtype=float32),\n",
       " array([1.], dtype=float32),\n",
       " array([1.], dtype=float32),\n",
       " array([1.], dtype=float32),\n",
       " array([1.], dtype=float32),\n",
       " array([1.], dtype=float32),\n",
       " array([1.], dtype=float32),\n",
       " array([1.], dtype=float32),\n",
       " array([0.], dtype=float32),\n",
       " array([0.], dtype=float32),\n",
       " array([0.], dtype=float32),\n",
       " array([0.], dtype=float32),\n",
       " array([1.], dtype=float32)]"
      ]
     },
     "execution_count": 581,
     "metadata": {},
     "output_type": "execute_result"
    }
   ],
   "source": [
    "\n",
    "ground_truth_list_dict['model_2_hidden_layers'][0:20]"
   ]
  },
  {
   "cell_type": "code",
   "execution_count": 582,
   "id": "f0d33ba9-2068-487f-ab64-f2f9ef6b27c8",
   "metadata": {},
   "outputs": [
    {
     "data": {
      "text/plain": [
       "{'model_2_hidden_layers': 72.91311754684838,\n",
       " 'model_3_hidden_layers': 68.82453151618398,\n",
       " 'model_4_hidden_layers': 65.92844974446338}"
      ]
     },
     "execution_count": 582,
     "metadata": {},
     "output_type": "execute_result"
    }
   ],
   "source": [
    "accuracy_list_dict_temp"
   ]
  },
  {
   "cell_type": "code",
   "execution_count": 583,
   "id": "fdb26b42-ca42-4174-8aae-c3ec295bbd31",
   "metadata": {},
   "outputs": [
    {
     "data": {
      "text/plain": [
       "[tensor([[0.6080, 0.0000, 0.3358, 0.3358, 0.6080, 0.8369, 1.6307, 0.3358, 0.0000,\n",
       "          0.8369, 1.0344, 1.5031, 1.0344, 0.0000, 0.0000, 0.0000, 1.2081, 1.3631,\n",
       "          3.0597, 0.8369, 0.3358, 0.3358, 0.0000, 2.5153, 3.2306, 3.1044, 0.0000,\n",
       "          0.3358, 0.6080, 0.0000, 1.3631, 0.6080, 0.8369, 0.0000, 1.0344, 1.7479,\n",
       "          1.0344, 2.6419, 0.0000, 0.3358, 3.2306, 0.6080, 0.6080, 0.0000, 0.6080,\n",
       "          0.0000, 2.8131, 0.3358, 1.0344, 2.9168, 0.6080, 0.0000, 1.9571, 1.0344,\n",
       "          0.6080, 2.3019, 0.3358, 1.0344, 3.4540, 1.8563, 1.8563, 1.0344, 1.6307,\n",
       "          0.8369, 0.3358, 1.3631, 0.3358, 0.6080, 0.8369, 0.3358, 0.6080, 0.3358,\n",
       "          2.1398, 1.6307, 1.2081, 1.6307, 1.6307, 0.3358, 2.4477, 2.2231, 0.0000,\n",
       "          0.0000, 1.5031, 0.0000, 0.6080, 0.0000, 0.6080, 1.0344, 0.3358, 0.0000,\n",
       "          2.5153, 0.8369, 0.6080, 0.6080, 2.3766, 0.0000, 0.3358, 2.3766, 0.8369,\n",
       "          4.3125, 0.3358, 0.3358, 2.2231, 0.0000, 0.3358, 0.3358, 0.0000, 0.0000,\n",
       "          2.7582, 0.8369, 0.8369, 2.9168, 0.3358, 1.0344, 0.8369, 0.0000, 4.1935,\n",
       "          1.7479, 1.2081, 1.8563, 0.0000, 1.2081, 2.4477, 1.5031, 1.0344, 1.7479,\n",
       "          0.0000, 0.3358, 0.6080, 0.0000, 1.5031, 0.3358, 1.2081, 0.0000, 1.6307,\n",
       "          0.3358, 0.6080, 0.8369, 0.6080, 1.7479, 0.8369, 1.5031, 0.8369, 0.0000,\n",
       "          0.3358, 2.3019, 2.8131, 3.1897, 3.9214, 4.1935, 0.0000, 0.6080, 0.6080,\n",
       "          0.0000, 1.2081, 0.0000, 2.2231, 0.3358, 0.8369, 2.8659, 2.5800, 0.3358,\n",
       "          3.8963, 1.0344, 0.8369, 0.3358, 1.8563, 2.5800, 1.0344, 2.3019, 0.8369,\n",
       "          1.0344, 0.0000, 2.3019, 0.6080, 1.6307, 0.3358, 2.0513, 0.8369, 1.2081,\n",
       "          5.7947, 1.9571, 1.2081, 0.0000, 0.6080, 0.0000, 1.3631, 1.0344, 0.3358,\n",
       "          4.1727, 0.0000, 2.9168, 0.3358, 6.4071, 0.6080, 0.0000, 1.0344, 1.2081,\n",
       "          2.3766, 0.0000, 1.6307, 0.0000, 0.6080, 0.0000, 0.0000, 1.0344, 0.0000,\n",
       "          0.3358, 0.3358, 0.6080, 0.6080, 1.0344, 3.1897, 1.6307, 0.3358, 2.3766,\n",
       "          0.0000, 0.8369, 3.3090, 0.0000, 0.6080, 0.0000, 0.3358, 1.7479, 0.3358,\n",
       "          0.3358, 0.6080, 1.6307, 0.6080, 1.6307, 2.1398, 1.8563, 0.0000, 1.0344,\n",
       "          0.0000, 0.3358, 1.3631, 0.6080, 0.8369, 0.6080, 0.0000, 0.6080, 3.7634,\n",
       "          0.6080, 1.2081, 3.7353, 0.0000, 0.6080, 1.6307, 0.8369, 3.1477, 1.0344,\n",
       "          0.3358, 0.8369, 1.5031, 0.3358, 1.6307, 1.0344, 1.0344, 0.6080, 2.4477,\n",
       "          1.0344, 0.6080, 0.0000, 2.5800, 0.3358, 1.0344, 0.3358, 0.6080, 0.0000,\n",
       "          0.0000, 4.5887, 0.3358, 0.8369, 0.0000, 0.0000, 0.3358, 0.6080, 0.0000,\n",
       "          2.1398, 0.0000, 1.2081, 1.5031, 2.2231, 0.6080, 0.6080, 0.6080, 1.7479,\n",
       "          1.2081, 1.3631, 0.0000, 1.0344, 0.0000, 0.3358, 2.1398, 0.3358, 1.2081,\n",
       "          1.6307, 2.9168, 0.3358, 1.5031, 0.6080, 0.6080, 0.8369, 2.5153, 1.0344,\n",
       "          1.0344, 0.8369, 4.1516, 4.9606, 0.6080, 2.1398, 0.6080, 2.4477, 0.6080,\n",
       "          0.0000, 0.3358, 1.2081, 1.2081, 1.5031, 1.8563, 0.3358, 0.8369, 1.2081,\n",
       "          0.3358, 0.6080, 0.6080, 0.6080, 0.3358, 1.0344, 2.2231, 1.8563, 0.3358,\n",
       "          0.0000, 1.9571, 0.0000, 3.0597, 3.4191, 1.6307, 0.6080, 1.2081, 1.0344,\n",
       "          3.2703, 2.6419, 2.0513, 2.5800, 0.6080, 2.8659, 0.0000, 1.3631, 1.3631,\n",
       "          1.5031, 1.0344, 0.8369, 0.6080, 0.0000, 0.3358, 2.6419, 2.1398, 0.8369,\n",
       "          0.0000, 0.0000, 0.6080, 2.6419, 0.3358, 0.0000, 2.8131, 1.0344, 1.5031,\n",
       "          0.0000, 0.3358, 0.6080, 1.2081, 2.7582, 0.6080, 1.2081, 0.0000, 0.0000,\n",
       "          0.3358, 0.6080, 2.9661, 0.8369, 3.3090, 0.6080, 1.0344, 0.8369, 1.7479,\n",
       "          1.0344, 1.8563, 0.6080, 0.8369, 1.3631, 0.0000, 0.8369, 0.8369, 1.2081,\n",
       "          0.3358, 1.3631, 0.3358, 0.6080, 0.8369, 4.1084, 5.7178, 0.0000, 1.5031,\n",
       "          3.4881, 3.7634, 1.6307, 0.8369, 3.7353, 1.7479, 0.3358, 0.0000, 1.6307,\n",
       "          0.6080, 3.7909, 1.0344, 0.8369, 1.6307, 1.2081, 0.3358, 2.0513, 0.6080,\n",
       "          1.0344, 0.0000, 0.6080, 0.0000, 1.6307, 0.8369, 0.3358, 0.6080, 1.2081,\n",
       "          0.0000, 0.6080, 1.6307, 0.3358, 1.7479, 0.0000, 2.5800, 0.3358, 0.0000,\n",
       "          0.8369, 0.6080, 0.8369, 0.3358, 0.0000, 1.0344, 2.3766, 1.8563, 3.8707,\n",
       "          3.0136, 1.5031, 1.0344, 1.0344, 2.3766, 0.6080, 1.2081, 0.6080, 1.7479,\n",
       "          1.9571, 1.8563, 1.3631, 1.3631, 0.3358, 1.2081, 1.0344, 3.4540, 0.6080,\n",
       "          2.6419, 0.8369, 2.5800, 0.0000, 0.8369, 0.0000, 1.6307, 1.5031, 0.0000,\n",
       "          1.5031, 0.3358, 1.3631, 0.3358, 2.5153, 3.3466, 0.6080, 1.0344, 0.0000,\n",
       "          2.1398, 0.0000, 0.3358, 1.6307, 0.6080, 1.2081, 0.8369, 0.3358, 0.3358,\n",
       "          0.6080, 2.3766, 0.6080, 0.0000, 0.0000, 0.0000, 0.6080, 0.3358, 0.6080,\n",
       "          0.8369, 1.3631, 2.1398, 0.8369, 1.0344, 0.3358, 0.6080, 0.0000, 1.0344,\n",
       "          0.3358, 1.5031, 2.7012, 3.1897, 1.3631, 0.6080, 1.2081, 1.8563, 0.3358,\n",
       "          1.0344, 1.0344, 0.0000, 1.2081, 1.2081, 2.0513, 0.3358, 3.2306, 1.7479,\n",
       "          0.6080, 0.6080, 0.3358, 1.3631, 0.0000, 0.8369, 2.3019, 1.5031, 3.1477,\n",
       "          0.0000, 0.0000, 0.0000, 2.3019, 1.8563, 2.3019, 2.1398, 2.6419, 4.1516,\n",
       "          0.0000, 3.1044, 1.9571, 1.0344, 0.8369, 0.6080, 0.8369, 1.0344, 0.8369,\n",
       "          1.8563, 0.3358, 0.3358, 0.6080, 0.3358, 0.0000, 0.8369, 0.8369, 3.2306,\n",
       "          1.0344, 1.3631, 1.2081, 3.9462, 1.2081, 1.5031, 0.8369, 0.8369, 0.8369,\n",
       "          0.6080, 2.5800, 1.6307, 1.2081, 0.0000, 0.3358]])]"
      ]
     },
     "execution_count": 583,
     "metadata": {},
     "output_type": "execute_result"
    }
   ],
   "source": [
    "feature_list[0:1]"
   ]
  },
  {
   "cell_type": "code",
   "execution_count": 481,
   "id": "beccae56-4c74-4927-b12a-16777b9b3a67",
   "metadata": {},
   "outputs": [
    {
     "data": {
      "text/html": [
       "<div>\n",
       "<style scoped>\n",
       "    .dataframe tbody tr th:only-of-type {\n",
       "        vertical-align: middle;\n",
       "    }\n",
       "\n",
       "    .dataframe tbody tr th {\n",
       "        vertical-align: top;\n",
       "    }\n",
       "\n",
       "    .dataframe thead th {\n",
       "        text-align: right;\n",
       "    }\n",
       "</style>\n",
       "<table border=\"1\" class=\"dataframe\">\n",
       "  <thead>\n",
       "    <tr style=\"text-align: right;\">\n",
       "      <th></th>\n",
       "      <th>ENSG00000142920</th>\n",
       "      <th>ENSG00000128298</th>\n",
       "      <th>ENSG00000128739</th>\n",
       "      <th>ENSG00000115738</th>\n",
       "      <th>ENSG00000104325</th>\n",
       "      <th>ENSG00000138002</th>\n",
       "      <th>ENSG00000089220</th>\n",
       "      <th>ENSG00000284260</th>\n",
       "      <th>ENSG00000134779</th>\n",
       "      <th>ENSG00000175745</th>\n",
       "      <th>...</th>\n",
       "      <th>ENSG00000132824</th>\n",
       "      <th>ENSG00000112964</th>\n",
       "      <th>ENSG00000146966</th>\n",
       "      <th>ENSG00000143549</th>\n",
       "      <th>ENSG00000144455</th>\n",
       "      <th>ENSG00000157152</th>\n",
       "      <th>ENSG00000112186</th>\n",
       "      <th>ENSG00000076685</th>\n",
       "      <th>ENSG00000134539</th>\n",
       "      <th>ENSG00000127663</th>\n",
       "    </tr>\n",
       "    <tr>\n",
       "      <th>cell_id</th>\n",
       "      <th></th>\n",
       "      <th></th>\n",
       "      <th></th>\n",
       "      <th></th>\n",
       "      <th></th>\n",
       "      <th></th>\n",
       "      <th></th>\n",
       "      <th></th>\n",
       "      <th></th>\n",
       "      <th></th>\n",
       "      <th></th>\n",
       "      <th></th>\n",
       "      <th></th>\n",
       "      <th></th>\n",
       "      <th></th>\n",
       "      <th></th>\n",
       "      <th></th>\n",
       "      <th></th>\n",
       "      <th></th>\n",
       "      <th></th>\n",
       "      <th></th>\n",
       "    </tr>\n",
       "  </thead>\n",
       "  <tbody>\n",
       "    <tr>\n",
       "      <th>CACAACATCGTCCTTG.26.2</th>\n",
       "      <td>0.608005</td>\n",
       "      <td>0.0</td>\n",
       "      <td>0.335798</td>\n",
       "      <td>0.335798</td>\n",
       "      <td>0.608005</td>\n",
       "      <td>0.836914</td>\n",
       "      <td>1.630685</td>\n",
       "      <td>0.335798</td>\n",
       "      <td>0.000000</td>\n",
       "      <td>0.836914</td>\n",
       "      <td>...</td>\n",
       "      <td>1.503107</td>\n",
       "      <td>0.836914</td>\n",
       "      <td>0.836914</td>\n",
       "      <td>0.836914</td>\n",
       "      <td>0.608005</td>\n",
       "      <td>2.580007</td>\n",
       "      <td>1.630685</td>\n",
       "      <td>1.208127</td>\n",
       "      <td>0.000000</td>\n",
       "      <td>0.335798</td>\n",
       "    </tr>\n",
       "    <tr>\n",
       "      <th>AGCTTCCGTCTCTCTG.9.9</th>\n",
       "      <td>0.000000</td>\n",
       "      <td>0.0</td>\n",
       "      <td>0.000000</td>\n",
       "      <td>0.000000</td>\n",
       "      <td>0.000000</td>\n",
       "      <td>0.000000</td>\n",
       "      <td>0.000000</td>\n",
       "      <td>0.000000</td>\n",
       "      <td>0.000000</td>\n",
       "      <td>0.000000</td>\n",
       "      <td>...</td>\n",
       "      <td>1.101385</td>\n",
       "      <td>0.000000</td>\n",
       "      <td>0.000000</td>\n",
       "      <td>0.000000</td>\n",
       "      <td>0.000000</td>\n",
       "      <td>1.101385</td>\n",
       "      <td>0.000000</td>\n",
       "      <td>0.000000</td>\n",
       "      <td>0.000000</td>\n",
       "      <td>1.101385</td>\n",
       "    </tr>\n",
       "    <tr>\n",
       "      <th>CGCCAGACAACAAGTA.17.11</th>\n",
       "      <td>0.000000</td>\n",
       "      <td>0.0</td>\n",
       "      <td>1.360638</td>\n",
       "      <td>0.702387</td>\n",
       "      <td>0.393523</td>\n",
       "      <td>0.956646</td>\n",
       "      <td>1.172737</td>\n",
       "      <td>0.702387</td>\n",
       "      <td>1.172737</td>\n",
       "      <td>0.393523</td>\n",
       "      <td>...</td>\n",
       "      <td>1.172737</td>\n",
       "      <td>0.702387</td>\n",
       "      <td>0.000000</td>\n",
       "      <td>0.702387</td>\n",
       "      <td>1.360638</td>\n",
       "      <td>3.091927</td>\n",
       "      <td>1.934471</td>\n",
       "      <td>0.956646</td>\n",
       "      <td>0.000000</td>\n",
       "      <td>1.172737</td>\n",
       "    </tr>\n",
       "    <tr>\n",
       "      <th>GGGATGATCGTAACAC.7.4</th>\n",
       "      <td>0.645931</td>\n",
       "      <td>0.0</td>\n",
       "      <td>1.704427</td>\n",
       "      <td>1.704427</td>\n",
       "      <td>0.000000</td>\n",
       "      <td>0.000000</td>\n",
       "      <td>3.327109</td>\n",
       "      <td>0.000000</td>\n",
       "      <td>0.645931</td>\n",
       "      <td>1.429881</td>\n",
       "      <td>...</td>\n",
       "      <td>1.090513</td>\n",
       "      <td>1.090513</td>\n",
       "      <td>0.000000</td>\n",
       "      <td>1.090513</td>\n",
       "      <td>1.934985</td>\n",
       "      <td>2.308372</td>\n",
       "      <td>2.464142</td>\n",
       "      <td>0.000000</td>\n",
       "      <td>0.000000</td>\n",
       "      <td>1.704427</td>\n",
       "    </tr>\n",
       "    <tr>\n",
       "      <th>ACGTTCCGTATTCTCT.5.11</th>\n",
       "      <td>0.000000</td>\n",
       "      <td>0.0</td>\n",
       "      <td>0.000000</td>\n",
       "      <td>0.000000</td>\n",
       "      <td>0.000000</td>\n",
       "      <td>0.000000</td>\n",
       "      <td>4.163537</td>\n",
       "      <td>0.000000</td>\n",
       "      <td>0.000000</td>\n",
       "      <td>0.000000</td>\n",
       "      <td>...</td>\n",
       "      <td>0.000000</td>\n",
       "      <td>0.000000</td>\n",
       "      <td>0.000000</td>\n",
       "      <td>0.000000</td>\n",
       "      <td>0.000000</td>\n",
       "      <td>4.163537</td>\n",
       "      <td>4.163537</td>\n",
       "      <td>0.000000</td>\n",
       "      <td>0.000000</td>\n",
       "      <td>0.000000</td>\n",
       "    </tr>\n",
       "    <tr>\n",
       "      <th>...</th>\n",
       "      <td>...</td>\n",
       "      <td>...</td>\n",
       "      <td>...</td>\n",
       "      <td>...</td>\n",
       "      <td>...</td>\n",
       "      <td>...</td>\n",
       "      <td>...</td>\n",
       "      <td>...</td>\n",
       "      <td>...</td>\n",
       "      <td>...</td>\n",
       "      <td>...</td>\n",
       "      <td>...</td>\n",
       "      <td>...</td>\n",
       "      <td>...</td>\n",
       "      <td>...</td>\n",
       "      <td>...</td>\n",
       "      <td>...</td>\n",
       "      <td>...</td>\n",
       "      <td>...</td>\n",
       "      <td>...</td>\n",
       "      <td>...</td>\n",
       "    </tr>\n",
       "    <tr>\n",
       "      <th>CATCAAGTCCTCGCAT.19.1</th>\n",
       "      <td>0.000000</td>\n",
       "      <td>0.0</td>\n",
       "      <td>0.000000</td>\n",
       "      <td>0.000000</td>\n",
       "      <td>1.302083</td>\n",
       "      <td>2.432301</td>\n",
       "      <td>1.302083</td>\n",
       "      <td>0.000000</td>\n",
       "      <td>2.778920</td>\n",
       "      <td>0.000000</td>\n",
       "      <td>...</td>\n",
       "      <td>0.000000</td>\n",
       "      <td>0.000000</td>\n",
       "      <td>0.000000</td>\n",
       "      <td>0.000000</td>\n",
       "      <td>0.000000</td>\n",
       "      <td>3.292057</td>\n",
       "      <td>0.000000</td>\n",
       "      <td>0.000000</td>\n",
       "      <td>0.000000</td>\n",
       "      <td>0.000000</td>\n",
       "    </tr>\n",
       "    <tr>\n",
       "      <th>GTCAGCGGTCTGATAC.45.2</th>\n",
       "      <td>0.000000</td>\n",
       "      <td>0.0</td>\n",
       "      <td>0.000000</td>\n",
       "      <td>0.000000</td>\n",
       "      <td>0.000000</td>\n",
       "      <td>1.462699</td>\n",
       "      <td>1.462699</td>\n",
       "      <td>1.462699</td>\n",
       "      <td>1.462699</td>\n",
       "      <td>2.648167</td>\n",
       "      <td>...</td>\n",
       "      <td>0.000000</td>\n",
       "      <td>0.000000</td>\n",
       "      <td>0.000000</td>\n",
       "      <td>0.000000</td>\n",
       "      <td>1.462699</td>\n",
       "      <td>3.290008</td>\n",
       "      <td>0.000000</td>\n",
       "      <td>0.000000</td>\n",
       "      <td>1.462699</td>\n",
       "      <td>0.000000</td>\n",
       "    </tr>\n",
       "    <tr>\n",
       "      <th>CATGCTCAGTGTCATC.30.10</th>\n",
       "      <td>0.677931</td>\n",
       "      <td>0.0</td>\n",
       "      <td>0.000000</td>\n",
       "      <td>0.677931</td>\n",
       "      <td>0.000000</td>\n",
       "      <td>0.000000</td>\n",
       "      <td>1.765270</td>\n",
       "      <td>0.000000</td>\n",
       "      <td>1.137299</td>\n",
       "      <td>1.137299</td>\n",
       "      <td>...</td>\n",
       "      <td>0.677931</td>\n",
       "      <td>0.000000</td>\n",
       "      <td>0.677931</td>\n",
       "      <td>1.137299</td>\n",
       "      <td>0.000000</td>\n",
       "      <td>1.999719</td>\n",
       "      <td>1.765270</td>\n",
       "      <td>0.677931</td>\n",
       "      <td>1.765270</td>\n",
       "      <td>0.677931</td>\n",
       "    </tr>\n",
       "    <tr>\n",
       "      <th>CTCATCGAGCAAATGT.32.8</th>\n",
       "      <td>0.623683</td>\n",
       "      <td>0.0</td>\n",
       "      <td>1.057698</td>\n",
       "      <td>0.623683</td>\n",
       "      <td>0.000000</td>\n",
       "      <td>1.390894</td>\n",
       "      <td>1.390894</td>\n",
       "      <td>1.661391</td>\n",
       "      <td>0.623683</td>\n",
       "      <td>0.623683</td>\n",
       "      <td>...</td>\n",
       "      <td>0.623683</td>\n",
       "      <td>0.623683</td>\n",
       "      <td>0.000000</td>\n",
       "      <td>0.000000</td>\n",
       "      <td>1.057698</td>\n",
       "      <td>2.552680</td>\n",
       "      <td>1.661391</td>\n",
       "      <td>1.661391</td>\n",
       "      <td>0.000000</td>\n",
       "      <td>0.000000</td>\n",
       "    </tr>\n",
       "    <tr>\n",
       "      <th>GAAATGACATGCACTA.3.9</th>\n",
       "      <td>0.000000</td>\n",
       "      <td>0.0</td>\n",
       "      <td>1.069676</td>\n",
       "      <td>0.631785</td>\n",
       "      <td>0.631785</td>\n",
       "      <td>0.631785</td>\n",
       "      <td>1.405144</td>\n",
       "      <td>0.631785</td>\n",
       "      <td>0.631785</td>\n",
       "      <td>0.000000</td>\n",
       "      <td>...</td>\n",
       "      <td>0.631785</td>\n",
       "      <td>0.631785</td>\n",
       "      <td>0.000000</td>\n",
       "      <td>1.405144</td>\n",
       "      <td>0.000000</td>\n",
       "      <td>2.276903</td>\n",
       "      <td>2.276903</td>\n",
       "      <td>1.405144</td>\n",
       "      <td>0.000000</td>\n",
       "      <td>1.405144</td>\n",
       "    </tr>\n",
       "  </tbody>\n",
       "</table>\n",
       "<p>4696 rows × 582 columns</p>\n",
       "</div>"
      ],
      "text/plain": [
       "                        ENSG00000142920  ENSG00000128298  ENSG00000128739  \\\n",
       "cell_id                                                                     \n",
       "CACAACATCGTCCTTG.26.2          0.608005              0.0         0.335798   \n",
       "AGCTTCCGTCTCTCTG.9.9           0.000000              0.0         0.000000   \n",
       "CGCCAGACAACAAGTA.17.11         0.000000              0.0         1.360638   \n",
       "GGGATGATCGTAACAC.7.4           0.645931              0.0         1.704427   \n",
       "ACGTTCCGTATTCTCT.5.11          0.000000              0.0         0.000000   \n",
       "...                                 ...              ...              ...   \n",
       "CATCAAGTCCTCGCAT.19.1          0.000000              0.0         0.000000   \n",
       "GTCAGCGGTCTGATAC.45.2          0.000000              0.0         0.000000   \n",
       "CATGCTCAGTGTCATC.30.10         0.677931              0.0         0.000000   \n",
       "CTCATCGAGCAAATGT.32.8          0.623683              0.0         1.057698   \n",
       "GAAATGACATGCACTA.3.9           0.000000              0.0         1.069676   \n",
       "\n",
       "                        ENSG00000115738  ENSG00000104325  ENSG00000138002  \\\n",
       "cell_id                                                                     \n",
       "CACAACATCGTCCTTG.26.2          0.335798         0.608005         0.836914   \n",
       "AGCTTCCGTCTCTCTG.9.9           0.000000         0.000000         0.000000   \n",
       "CGCCAGACAACAAGTA.17.11         0.702387         0.393523         0.956646   \n",
       "GGGATGATCGTAACAC.7.4           1.704427         0.000000         0.000000   \n",
       "ACGTTCCGTATTCTCT.5.11          0.000000         0.000000         0.000000   \n",
       "...                                 ...              ...              ...   \n",
       "CATCAAGTCCTCGCAT.19.1          0.000000         1.302083         2.432301   \n",
       "GTCAGCGGTCTGATAC.45.2          0.000000         0.000000         1.462699   \n",
       "CATGCTCAGTGTCATC.30.10         0.677931         0.000000         0.000000   \n",
       "CTCATCGAGCAAATGT.32.8          0.623683         0.000000         1.390894   \n",
       "GAAATGACATGCACTA.3.9           0.631785         0.631785         0.631785   \n",
       "\n",
       "                        ENSG00000089220  ENSG00000284260  ENSG00000134779  \\\n",
       "cell_id                                                                     \n",
       "CACAACATCGTCCTTG.26.2          1.630685         0.335798         0.000000   \n",
       "AGCTTCCGTCTCTCTG.9.9           0.000000         0.000000         0.000000   \n",
       "CGCCAGACAACAAGTA.17.11         1.172737         0.702387         1.172737   \n",
       "GGGATGATCGTAACAC.7.4           3.327109         0.000000         0.645931   \n",
       "ACGTTCCGTATTCTCT.5.11          4.163537         0.000000         0.000000   \n",
       "...                                 ...              ...              ...   \n",
       "CATCAAGTCCTCGCAT.19.1          1.302083         0.000000         2.778920   \n",
       "GTCAGCGGTCTGATAC.45.2          1.462699         1.462699         1.462699   \n",
       "CATGCTCAGTGTCATC.30.10         1.765270         0.000000         1.137299   \n",
       "CTCATCGAGCAAATGT.32.8          1.390894         1.661391         0.623683   \n",
       "GAAATGACATGCACTA.3.9           1.405144         0.631785         0.631785   \n",
       "\n",
       "                        ENSG00000175745  ...  ENSG00000132824  \\\n",
       "cell_id                                  ...                    \n",
       "CACAACATCGTCCTTG.26.2          0.836914  ...         1.503107   \n",
       "AGCTTCCGTCTCTCTG.9.9           0.000000  ...         1.101385   \n",
       "CGCCAGACAACAAGTA.17.11         0.393523  ...         1.172737   \n",
       "GGGATGATCGTAACAC.7.4           1.429881  ...         1.090513   \n",
       "ACGTTCCGTATTCTCT.5.11          0.000000  ...         0.000000   \n",
       "...                                 ...  ...              ...   \n",
       "CATCAAGTCCTCGCAT.19.1          0.000000  ...         0.000000   \n",
       "GTCAGCGGTCTGATAC.45.2          2.648167  ...         0.000000   \n",
       "CATGCTCAGTGTCATC.30.10         1.137299  ...         0.677931   \n",
       "CTCATCGAGCAAATGT.32.8          0.623683  ...         0.623683   \n",
       "GAAATGACATGCACTA.3.9           0.000000  ...         0.631785   \n",
       "\n",
       "                        ENSG00000112964  ENSG00000146966  ENSG00000143549  \\\n",
       "cell_id                                                                     \n",
       "CACAACATCGTCCTTG.26.2          0.836914         0.836914         0.836914   \n",
       "AGCTTCCGTCTCTCTG.9.9           0.000000         0.000000         0.000000   \n",
       "CGCCAGACAACAAGTA.17.11         0.702387         0.000000         0.702387   \n",
       "GGGATGATCGTAACAC.7.4           1.090513         0.000000         1.090513   \n",
       "ACGTTCCGTATTCTCT.5.11          0.000000         0.000000         0.000000   \n",
       "...                                 ...              ...              ...   \n",
       "CATCAAGTCCTCGCAT.19.1          0.000000         0.000000         0.000000   \n",
       "GTCAGCGGTCTGATAC.45.2          0.000000         0.000000         0.000000   \n",
       "CATGCTCAGTGTCATC.30.10         0.000000         0.677931         1.137299   \n",
       "CTCATCGAGCAAATGT.32.8          0.623683         0.000000         0.000000   \n",
       "GAAATGACATGCACTA.3.9           0.631785         0.000000         1.405144   \n",
       "\n",
       "                        ENSG00000144455  ENSG00000157152  ENSG00000112186  \\\n",
       "cell_id                                                                     \n",
       "CACAACATCGTCCTTG.26.2          0.608005         2.580007         1.630685   \n",
       "AGCTTCCGTCTCTCTG.9.9           0.000000         1.101385         0.000000   \n",
       "CGCCAGACAACAAGTA.17.11         1.360638         3.091927         1.934471   \n",
       "GGGATGATCGTAACAC.7.4           1.934985         2.308372         2.464142   \n",
       "ACGTTCCGTATTCTCT.5.11          0.000000         4.163537         4.163537   \n",
       "...                                 ...              ...              ...   \n",
       "CATCAAGTCCTCGCAT.19.1          0.000000         3.292057         0.000000   \n",
       "GTCAGCGGTCTGATAC.45.2          1.462699         3.290008         0.000000   \n",
       "CATGCTCAGTGTCATC.30.10         0.000000         1.999719         1.765270   \n",
       "CTCATCGAGCAAATGT.32.8          1.057698         2.552680         1.661391   \n",
       "GAAATGACATGCACTA.3.9           0.000000         2.276903         2.276903   \n",
       "\n",
       "                        ENSG00000076685  ENSG00000134539  ENSG00000127663  \n",
       "cell_id                                                                    \n",
       "CACAACATCGTCCTTG.26.2          1.208127         0.000000         0.335798  \n",
       "AGCTTCCGTCTCTCTG.9.9           0.000000         0.000000         1.101385  \n",
       "CGCCAGACAACAAGTA.17.11         0.956646         0.000000         1.172737  \n",
       "GGGATGATCGTAACAC.7.4           0.000000         0.000000         1.704427  \n",
       "ACGTTCCGTATTCTCT.5.11          0.000000         0.000000         0.000000  \n",
       "...                                 ...              ...              ...  \n",
       "CATCAAGTCCTCGCAT.19.1          0.000000         0.000000         0.000000  \n",
       "GTCAGCGGTCTGATAC.45.2          0.000000         1.462699         0.000000  \n",
       "CATGCTCAGTGTCATC.30.10         0.677931         1.765270         0.677931  \n",
       "CTCATCGAGCAAATGT.32.8          1.661391         0.000000         0.000000  \n",
       "GAAATGACATGCACTA.3.9           1.405144         0.000000         1.405144  \n",
       "\n",
       "[4696 rows x 582 columns]"
      ]
     },
     "execution_count": 481,
     "metadata": {},
     "output_type": "execute_result"
    }
   ],
   "source": [
    "test_x.T"
   ]
  },
  {
   "cell_type": "code",
   "execution_count": 497,
   "id": "c09dc037-b0d6-4a04-a541-000403c1c1c5",
   "metadata": {},
   "outputs": [
    {
     "name": "stdout",
     "output_type": "stream",
     "text": [
      "model_2_hidden_layers\n"
     ]
    }
   ],
   "source": [
    "for p,l in activations_list_dict.items():\n",
    "    print(p)\n",
    "    break"
   ]
  },
  {
   "cell_type": "code",
   "execution_count": 616,
   "id": "a4b76f36-8d00-4f25-845c-ce4dfda18476",
   "metadata": {},
   "outputs": [],
   "source": [
    "def return_feature_importance_list(activations_list_dict, model_name):\n",
    "    m=0\n",
    "    for k in tqdm(activations_list_dict[model_name]):\n",
    "        #print(k)\n",
    "        if m == 0:\n",
    "            layer_dict = {key: [] for key in list(k.keys())}\n",
    "        m = m+1\n",
    "        \n",
    "        #print(k['0_layer_0'])\n",
    "        for z in list(layer_dict.keys()):\n",
    "            #print(k)\n",
    "            layer_dict[z].append(k[z][0])\n",
    "\n",
    "    return layer_dict\n",
    "    "
   ]
  },
  {
   "cell_type": "code",
   "execution_count": 671,
   "id": "74fd88a9-b562-4c01-b365-ea928e2d2628",
   "metadata": {},
   "outputs": [
    {
     "name": "stderr",
     "output_type": "stream",
     "text": [
      "100%|████████████████████████████████████████████████████████████████████████████████████████████████████████████████████████████████████████████████████████████████████| 4696/4696 [00:00<00:00, 666028.19it/s]\n"
     ]
    }
   ],
   "source": [
    "\n",
    "layer_dict = return_feature_importance_list(activations_list_dict, 'model_2_hidden_layers')\n",
    "layer_node_name_dict = {}\n",
    "for i in range(config['pathways_network']['n_hidden_layer']+1):\n",
    "    nodes_df = pd.read_csv(config['model_output']['model_save_dir'] + config['date_string'] + '/' + 'masking_df_' + \\\n",
    "    f'{config['pathways_network']['n_hidden_layer']-i}'+ '.csv', index_col = 0)\n",
    "    layer_node_name_dict[f'layer_{i-1}'] = nodes_df.columns\n",
    "    \n",
    "\n",
    "layer_node_name_dict['final_layer'] = ['last_layer']\n",
    "\n",
    "li = []\n",
    "for i in layer_dict['layer_0']:\n",
    "    li.append(list(i))\n",
    "    \n",
    "layer_0_df = pd.DataFrame(li,index = test_x.columns, columns=layer_node_name_dict['layer_0'])\n",
    "layer_0_df\n",
    "\n",
    "li = []\n",
    "for i in layer_dict['layer_1']:\n",
    "    li.append(list(i))\n",
    "    \n",
    "last_layer_df = pd.DataFrame(li,index = test_x.columns, columns=layer_node_name_dict['final_layer'])\n"
   ]
  },
  {
   "cell_type": "code",
   "execution_count": 672,
   "id": "ae9838f8-2115-40c2-b9a7-8f00d98a5655",
   "metadata": {},
   "outputs": [
    {
     "name": "stderr",
     "output_type": "stream",
     "text": [
      "100%|████████████████████████████████████████████████████████████████████████████████████████████████████████████████████████████████████████████████████████████████████| 4696/4696 [00:00<00:00, 523034.99it/s]\n"
     ]
    }
   ],
   "source": [
    "\n",
    "layer_dict = return_feature_importance_list(activations_list_dict, 'model_3_hidden_layers')\n",
    "layer_node_name_dict = {}\n",
    "for i in range(config['pathways_network']['n_hidden_layer']+1):\n",
    "    nodes_df = pd.read_csv(config['model_output']['model_save_dir'] + config['date_string'] + '/' + 'masking_df_' + \\\n",
    "    f'{config['pathways_network']['n_hidden_layer']-i}'+ '.csv', index_col = 0)\n",
    "    layer_node_name_dict[f'layer_{i-1}'] = nodes_df.columns\n",
    "    \n",
    "\n",
    "layer_node_name_dict['final_layer'] = ['last_layer']\n",
    "\n",
    "li = []\n",
    "for i in layer_dict['layer_0']:\n",
    "    li.append(list(i))    \n",
    "layer_0_df = pd.DataFrame(li,index = test_x.columns, columns=layer_node_name_dict['layer_0'])\n",
    "\n",
    "li = []\n",
    "for i in layer_dict['layer_1']:\n",
    "    li.append(list(i)) \n",
    "layer_1_df = pd.DataFrame(li,index = test_x.columns, columns=layer_node_name_dict['layer_1'])\n",
    "\n",
    "li = []\n",
    "for i in layer_dict['layer_2']:\n",
    "    li.append(list(i))   \n",
    "last_layer_df = pd.DataFrame(li,index = test_x.columns, columns=layer_node_name_dict['final_layer'])\n"
   ]
  },
  {
   "cell_type": "code",
   "execution_count": 679,
   "id": "f0cd6899-ba80-4b8d-9dee-1130caaf81da",
   "metadata": {},
   "outputs": [
    {
     "name": "stderr",
     "output_type": "stream",
     "text": [
      "100%|████████████████████████████████████████████████████████████████████████████████████████████████████████████████████████████████████████████████████████████████████| 4696/4696 [00:00<00:00, 439898.42it/s]\n"
     ]
    }
   ],
   "source": [
    "\n",
    "layer_dict = return_feature_importance_list(activations_list_dict, 'model_4_hidden_layers')\n",
    "layer_node_name_dict = {}\n",
    "for i in range(config['pathways_network']['n_hidden_layer']+1):\n",
    "    nodes_df = pd.read_csv(config['model_output']['model_save_dir'] + config['date_string'] + '/' + 'masking_df_' + \\\n",
    "    f'{config['pathways_network']['n_hidden_layer']-i}'+ '.csv', index_col = 0)\n",
    "    layer_node_name_dict[f'layer_{i-1}'] = nodes_df.columns\n",
    "    \n",
    "\n",
    "layer_node_name_dict['final_layer'] = ['last_layer']\n",
    "\n",
    "li = []\n",
    "for i in layer_dict['layer_0']:\n",
    "    li.append(list(i))    \n",
    "layer_0_df = pd.DataFrame(li,index = test_x.columns, columns=layer_node_name_dict['layer_0'])\n",
    "\n",
    "li = []\n",
    "for i in layer_dict['layer_1']:\n",
    "    li.append(list(i)) \n",
    "layer_1_df = pd.DataFrame(li,index = test_x.columns, columns=layer_node_name_dict['layer_1'])\n",
    "\n",
    "li = []\n",
    "for i in layer_dict['layer_2']:\n",
    "    li.append(list(i)) \n",
    "layer_2_df = pd.DataFrame(li,index = test_x.columns, columns=layer_node_name_dict['layer_2'])\n",
    "\n",
    "li = []\n",
    "for i in layer_dict['layer_3']:\n",
    "    li.append(list(i))   \n",
    "last_layer_df = pd.DataFrame(li,index = test_x.columns, columns=layer_node_name_dict['final_layer'])\n"
   ]
  },
  {
   "cell_type": "code",
   "execution_count": 680,
   "id": "713ec7e1-2cdb-41b2-87ef-09ee7dfe7197",
   "metadata": {},
   "outputs": [
    {
     "data": {
      "text/html": [
       "<div>\n",
       "<style scoped>\n",
       "    .dataframe tbody tr th:only-of-type {\n",
       "        vertical-align: middle;\n",
       "    }\n",
       "\n",
       "    .dataframe tbody tr th {\n",
       "        vertical-align: top;\n",
       "    }\n",
       "\n",
       "    .dataframe thead th {\n",
       "        text-align: right;\n",
       "    }\n",
       "</style>\n",
       "<table border=\"1\" class=\"dataframe\">\n",
       "  <thead>\n",
       "    <tr style=\"text-align: right;\">\n",
       "      <th></th>\n",
       "      <th>R-HSA-8953854</th>\n",
       "      <th>R-HSA-400253</th>\n",
       "      <th>R-HSA-112316</th>\n",
       "      <th>R-HSA-8953897</th>\n",
       "      <th>R-HSA-382551</th>\n",
       "      <th>R-HSA-109582</th>\n",
       "      <th>R-HSA-1852241</th>\n",
       "      <th>R-HSA-5653656</th>\n",
       "      <th>R-HSA-9609507</th>\n",
       "      <th>R-HSA-1266738</th>\n",
       "      <th>...</th>\n",
       "      <th>R-HSA-392499</th>\n",
       "      <th>R-HSA-1474244</th>\n",
       "      <th>R-HSA-8963743</th>\n",
       "      <th>R-HSA-74160</th>\n",
       "      <th>R-HSA-1640170</th>\n",
       "      <th>R-HSA-1643685</th>\n",
       "      <th>R-HSA-1430728</th>\n",
       "      <th>R-HSA-1500931</th>\n",
       "      <th>R-HSA-9748784</th>\n",
       "      <th>R-HSA-5357801</th>\n",
       "    </tr>\n",
       "    <tr>\n",
       "      <th>cell_id</th>\n",
       "      <th></th>\n",
       "      <th></th>\n",
       "      <th></th>\n",
       "      <th></th>\n",
       "      <th></th>\n",
       "      <th></th>\n",
       "      <th></th>\n",
       "      <th></th>\n",
       "      <th></th>\n",
       "      <th></th>\n",
       "      <th></th>\n",
       "      <th></th>\n",
       "      <th></th>\n",
       "      <th></th>\n",
       "      <th></th>\n",
       "      <th></th>\n",
       "      <th></th>\n",
       "      <th></th>\n",
       "      <th></th>\n",
       "      <th></th>\n",
       "      <th></th>\n",
       "    </tr>\n",
       "  </thead>\n",
       "  <tbody>\n",
       "    <tr>\n",
       "      <th>CACAACATCGTCCTTG.26.2</th>\n",
       "      <td>0.003192</td>\n",
       "      <td>0.003243</td>\n",
       "      <td>-0.094225</td>\n",
       "      <td>0.024115</td>\n",
       "      <td>-0.040822</td>\n",
       "      <td>-0.039206</td>\n",
       "      <td>-0.008053</td>\n",
       "      <td>0.002400</td>\n",
       "      <td>-0.017398</td>\n",
       "      <td>0.018628</td>\n",
       "      <td>...</td>\n",
       "      <td>-0.032678</td>\n",
       "      <td>-0.080831</td>\n",
       "      <td>0.000000</td>\n",
       "      <td>0.072017</td>\n",
       "      <td>0.022111</td>\n",
       "      <td>0.001398</td>\n",
       "      <td>-0.042310</td>\n",
       "      <td>0.001724</td>\n",
       "      <td>-0.016589</td>\n",
       "      <td>0.003660</td>\n",
       "    </tr>\n",
       "    <tr>\n",
       "      <th>AGCTTCCGTCTCTCTG.9.9</th>\n",
       "      <td>0.000416</td>\n",
       "      <td>0.000000</td>\n",
       "      <td>-0.052766</td>\n",
       "      <td>0.013761</td>\n",
       "      <td>-0.017580</td>\n",
       "      <td>-0.036376</td>\n",
       "      <td>-0.019942</td>\n",
       "      <td>-0.024553</td>\n",
       "      <td>-0.002905</td>\n",
       "      <td>-0.034468</td>\n",
       "      <td>...</td>\n",
       "      <td>0.002048</td>\n",
       "      <td>0.002480</td>\n",
       "      <td>0.000000</td>\n",
       "      <td>0.055641</td>\n",
       "      <td>-0.014929</td>\n",
       "      <td>0.051533</td>\n",
       "      <td>0.032083</td>\n",
       "      <td>-0.001383</td>\n",
       "      <td>-0.004855</td>\n",
       "      <td>-0.019736</td>\n",
       "    </tr>\n",
       "    <tr>\n",
       "      <th>CGCCAGACAACAAGTA.17.11</th>\n",
       "      <td>0.033061</td>\n",
       "      <td>0.002102</td>\n",
       "      <td>-0.044097</td>\n",
       "      <td>0.022053</td>\n",
       "      <td>-0.027606</td>\n",
       "      <td>-0.035938</td>\n",
       "      <td>-0.007972</td>\n",
       "      <td>0.002773</td>\n",
       "      <td>-0.011472</td>\n",
       "      <td>-0.007298</td>\n",
       "      <td>...</td>\n",
       "      <td>0.010177</td>\n",
       "      <td>-0.065225</td>\n",
       "      <td>-0.005036</td>\n",
       "      <td>0.100094</td>\n",
       "      <td>-0.016947</td>\n",
       "      <td>0.070461</td>\n",
       "      <td>-0.038647</td>\n",
       "      <td>-0.003032</td>\n",
       "      <td>-0.015724</td>\n",
       "      <td>-0.010885</td>\n",
       "    </tr>\n",
       "    <tr>\n",
       "      <th>GGGATGATCGTAACAC.7.4</th>\n",
       "      <td>-0.031345</td>\n",
       "      <td>0.000000</td>\n",
       "      <td>-0.026797</td>\n",
       "      <td>0.075383</td>\n",
       "      <td>-0.071461</td>\n",
       "      <td>-0.038022</td>\n",
       "      <td>-0.014789</td>\n",
       "      <td>0.029762</td>\n",
       "      <td>-0.027033</td>\n",
       "      <td>0.029706</td>\n",
       "      <td>...</td>\n",
       "      <td>-0.091628</td>\n",
       "      <td>-0.085251</td>\n",
       "      <td>0.000000</td>\n",
       "      <td>0.091940</td>\n",
       "      <td>0.057748</td>\n",
       "      <td>-0.107239</td>\n",
       "      <td>-0.070346</td>\n",
       "      <td>-0.004848</td>\n",
       "      <td>-0.006595</td>\n",
       "      <td>0.014651</td>\n",
       "    </tr>\n",
       "    <tr>\n",
       "      <th>ACGTTCCGTATTCTCT.5.11</th>\n",
       "      <td>-0.028796</td>\n",
       "      <td>0.000000</td>\n",
       "      <td>-0.028498</td>\n",
       "      <td>0.061885</td>\n",
       "      <td>-0.011495</td>\n",
       "      <td>-0.020144</td>\n",
       "      <td>-0.015957</td>\n",
       "      <td>0.006740</td>\n",
       "      <td>0.000000</td>\n",
       "      <td>-0.019739</td>\n",
       "      <td>...</td>\n",
       "      <td>-0.002756</td>\n",
       "      <td>0.000000</td>\n",
       "      <td>0.000000</td>\n",
       "      <td>0.046271</td>\n",
       "      <td>0.033432</td>\n",
       "      <td>-0.075131</td>\n",
       "      <td>-0.036871</td>\n",
       "      <td>0.000415</td>\n",
       "      <td>0.000000</td>\n",
       "      <td>-0.000502</td>\n",
       "    </tr>\n",
       "    <tr>\n",
       "      <th>...</th>\n",
       "      <td>...</td>\n",
       "      <td>...</td>\n",
       "      <td>...</td>\n",
       "      <td>...</td>\n",
       "      <td>...</td>\n",
       "      <td>...</td>\n",
       "      <td>...</td>\n",
       "      <td>...</td>\n",
       "      <td>...</td>\n",
       "      <td>...</td>\n",
       "      <td>...</td>\n",
       "      <td>...</td>\n",
       "      <td>...</td>\n",
       "      <td>...</td>\n",
       "      <td>...</td>\n",
       "      <td>...</td>\n",
       "      <td>...</td>\n",
       "      <td>...</td>\n",
       "      <td>...</td>\n",
       "      <td>...</td>\n",
       "      <td>...</td>\n",
       "    </tr>\n",
       "    <tr>\n",
       "      <th>CATCAAGTCCTCGCAT.19.1</th>\n",
       "      <td>0.095238</td>\n",
       "      <td>0.000000</td>\n",
       "      <td>-0.049896</td>\n",
       "      <td>-0.016791</td>\n",
       "      <td>-0.030130</td>\n",
       "      <td>-0.007301</td>\n",
       "      <td>-0.012426</td>\n",
       "      <td>-0.005699</td>\n",
       "      <td>-0.008590</td>\n",
       "      <td>-0.062270</td>\n",
       "      <td>...</td>\n",
       "      <td>0.133749</td>\n",
       "      <td>-0.026048</td>\n",
       "      <td>-0.005576</td>\n",
       "      <td>-0.155036</td>\n",
       "      <td>-0.067543</td>\n",
       "      <td>0.110339</td>\n",
       "      <td>0.021932</td>\n",
       "      <td>0.002039</td>\n",
       "      <td>-0.005329</td>\n",
       "      <td>-0.004713</td>\n",
       "    </tr>\n",
       "    <tr>\n",
       "      <th>GTCAGCGGTCTGATAC.45.2</th>\n",
       "      <td>0.003741</td>\n",
       "      <td>0.000000</td>\n",
       "      <td>0.044544</td>\n",
       "      <td>0.057364</td>\n",
       "      <td>-0.100107</td>\n",
       "      <td>-0.075661</td>\n",
       "      <td>0.003785</td>\n",
       "      <td>0.050277</td>\n",
       "      <td>-0.037251</td>\n",
       "      <td>0.048398</td>\n",
       "      <td>...</td>\n",
       "      <td>-0.111480</td>\n",
       "      <td>-0.022444</td>\n",
       "      <td>0.000000</td>\n",
       "      <td>0.038555</td>\n",
       "      <td>0.069527</td>\n",
       "      <td>-0.200935</td>\n",
       "      <td>-0.136595</td>\n",
       "      <td>0.004584</td>\n",
       "      <td>0.001261</td>\n",
       "      <td>0.019553</td>\n",
       "    </tr>\n",
       "    <tr>\n",
       "      <th>CATGCTCAGTGTCATC.30.10</th>\n",
       "      <td>0.045524</td>\n",
       "      <td>0.000000</td>\n",
       "      <td>0.003606</td>\n",
       "      <td>0.061253</td>\n",
       "      <td>-0.079797</td>\n",
       "      <td>-0.050916</td>\n",
       "      <td>-0.005480</td>\n",
       "      <td>0.020057</td>\n",
       "      <td>-0.029405</td>\n",
       "      <td>0.014021</td>\n",
       "      <td>...</td>\n",
       "      <td>-0.019122</td>\n",
       "      <td>-0.038702</td>\n",
       "      <td>0.000000</td>\n",
       "      <td>0.109737</td>\n",
       "      <td>0.060977</td>\n",
       "      <td>-0.153676</td>\n",
       "      <td>-0.079196</td>\n",
       "      <td>0.000508</td>\n",
       "      <td>-0.015568</td>\n",
       "      <td>0.017447</td>\n",
       "    </tr>\n",
       "    <tr>\n",
       "      <th>CTCATCGAGCAAATGT.32.8</th>\n",
       "      <td>0.057059</td>\n",
       "      <td>0.000000</td>\n",
       "      <td>0.004990</td>\n",
       "      <td>0.036490</td>\n",
       "      <td>-0.052850</td>\n",
       "      <td>-0.050645</td>\n",
       "      <td>0.002882</td>\n",
       "      <td>-0.004712</td>\n",
       "      <td>-0.019052</td>\n",
       "      <td>0.000053</td>\n",
       "      <td>...</td>\n",
       "      <td>0.045829</td>\n",
       "      <td>-0.037177</td>\n",
       "      <td>-0.002702</td>\n",
       "      <td>0.047953</td>\n",
       "      <td>0.026907</td>\n",
       "      <td>-0.006230</td>\n",
       "      <td>-0.047520</td>\n",
       "      <td>-0.000727</td>\n",
       "      <td>-0.010166</td>\n",
       "      <td>0.012630</td>\n",
       "    </tr>\n",
       "    <tr>\n",
       "      <th>GAAATGACATGCACTA.3.9</th>\n",
       "      <td>0.063847</td>\n",
       "      <td>0.000000</td>\n",
       "      <td>-0.077928</td>\n",
       "      <td>0.007398</td>\n",
       "      <td>-0.030436</td>\n",
       "      <td>-0.032846</td>\n",
       "      <td>-0.045034</td>\n",
       "      <td>-0.015911</td>\n",
       "      <td>-0.010666</td>\n",
       "      <td>-0.044896</td>\n",
       "      <td>...</td>\n",
       "      <td>0.073567</td>\n",
       "      <td>-0.021474</td>\n",
       "      <td>-0.006003</td>\n",
       "      <td>0.053677</td>\n",
       "      <td>-0.021004</td>\n",
       "      <td>0.082348</td>\n",
       "      <td>0.009688</td>\n",
       "      <td>0.003999</td>\n",
       "      <td>-0.015264</td>\n",
       "      <td>-0.002216</td>\n",
       "    </tr>\n",
       "  </tbody>\n",
       "</table>\n",
       "<p>4696 rows × 29 columns</p>\n",
       "</div>"
      ],
      "text/plain": [
       "                        R-HSA-8953854  R-HSA-400253  R-HSA-112316  \\\n",
       "cell_id                                                             \n",
       "CACAACATCGTCCTTG.26.2        0.003192      0.003243     -0.094225   \n",
       "AGCTTCCGTCTCTCTG.9.9         0.000416      0.000000     -0.052766   \n",
       "CGCCAGACAACAAGTA.17.11       0.033061      0.002102     -0.044097   \n",
       "GGGATGATCGTAACAC.7.4        -0.031345      0.000000     -0.026797   \n",
       "ACGTTCCGTATTCTCT.5.11       -0.028796      0.000000     -0.028498   \n",
       "...                               ...           ...           ...   \n",
       "CATCAAGTCCTCGCAT.19.1        0.095238      0.000000     -0.049896   \n",
       "GTCAGCGGTCTGATAC.45.2        0.003741      0.000000      0.044544   \n",
       "CATGCTCAGTGTCATC.30.10       0.045524      0.000000      0.003606   \n",
       "CTCATCGAGCAAATGT.32.8        0.057059      0.000000      0.004990   \n",
       "GAAATGACATGCACTA.3.9         0.063847      0.000000     -0.077928   \n",
       "\n",
       "                        R-HSA-8953897  R-HSA-382551  R-HSA-109582  \\\n",
       "cell_id                                                             \n",
       "CACAACATCGTCCTTG.26.2        0.024115     -0.040822     -0.039206   \n",
       "AGCTTCCGTCTCTCTG.9.9         0.013761     -0.017580     -0.036376   \n",
       "CGCCAGACAACAAGTA.17.11       0.022053     -0.027606     -0.035938   \n",
       "GGGATGATCGTAACAC.7.4         0.075383     -0.071461     -0.038022   \n",
       "ACGTTCCGTATTCTCT.5.11        0.061885     -0.011495     -0.020144   \n",
       "...                               ...           ...           ...   \n",
       "CATCAAGTCCTCGCAT.19.1       -0.016791     -0.030130     -0.007301   \n",
       "GTCAGCGGTCTGATAC.45.2        0.057364     -0.100107     -0.075661   \n",
       "CATGCTCAGTGTCATC.30.10       0.061253     -0.079797     -0.050916   \n",
       "CTCATCGAGCAAATGT.32.8        0.036490     -0.052850     -0.050645   \n",
       "GAAATGACATGCACTA.3.9         0.007398     -0.030436     -0.032846   \n",
       "\n",
       "                        R-HSA-1852241  R-HSA-5653656  R-HSA-9609507  \\\n",
       "cell_id                                                               \n",
       "CACAACATCGTCCTTG.26.2       -0.008053       0.002400      -0.017398   \n",
       "AGCTTCCGTCTCTCTG.9.9        -0.019942      -0.024553      -0.002905   \n",
       "CGCCAGACAACAAGTA.17.11      -0.007972       0.002773      -0.011472   \n",
       "GGGATGATCGTAACAC.7.4        -0.014789       0.029762      -0.027033   \n",
       "ACGTTCCGTATTCTCT.5.11       -0.015957       0.006740       0.000000   \n",
       "...                               ...            ...            ...   \n",
       "CATCAAGTCCTCGCAT.19.1       -0.012426      -0.005699      -0.008590   \n",
       "GTCAGCGGTCTGATAC.45.2        0.003785       0.050277      -0.037251   \n",
       "CATGCTCAGTGTCATC.30.10      -0.005480       0.020057      -0.029405   \n",
       "CTCATCGAGCAAATGT.32.8        0.002882      -0.004712      -0.019052   \n",
       "GAAATGACATGCACTA.3.9        -0.045034      -0.015911      -0.010666   \n",
       "\n",
       "                        R-HSA-1266738  ...  R-HSA-392499  R-HSA-1474244  \\\n",
       "cell_id                                ...                                \n",
       "CACAACATCGTCCTTG.26.2        0.018628  ...     -0.032678      -0.080831   \n",
       "AGCTTCCGTCTCTCTG.9.9        -0.034468  ...      0.002048       0.002480   \n",
       "CGCCAGACAACAAGTA.17.11      -0.007298  ...      0.010177      -0.065225   \n",
       "GGGATGATCGTAACAC.7.4         0.029706  ...     -0.091628      -0.085251   \n",
       "ACGTTCCGTATTCTCT.5.11       -0.019739  ...     -0.002756       0.000000   \n",
       "...                               ...  ...           ...            ...   \n",
       "CATCAAGTCCTCGCAT.19.1       -0.062270  ...      0.133749      -0.026048   \n",
       "GTCAGCGGTCTGATAC.45.2        0.048398  ...     -0.111480      -0.022444   \n",
       "CATGCTCAGTGTCATC.30.10       0.014021  ...     -0.019122      -0.038702   \n",
       "CTCATCGAGCAAATGT.32.8        0.000053  ...      0.045829      -0.037177   \n",
       "GAAATGACATGCACTA.3.9        -0.044896  ...      0.073567      -0.021474   \n",
       "\n",
       "                        R-HSA-8963743  R-HSA-74160  R-HSA-1640170  \\\n",
       "cell_id                                                             \n",
       "CACAACATCGTCCTTG.26.2        0.000000     0.072017       0.022111   \n",
       "AGCTTCCGTCTCTCTG.9.9         0.000000     0.055641      -0.014929   \n",
       "CGCCAGACAACAAGTA.17.11      -0.005036     0.100094      -0.016947   \n",
       "GGGATGATCGTAACAC.7.4         0.000000     0.091940       0.057748   \n",
       "ACGTTCCGTATTCTCT.5.11        0.000000     0.046271       0.033432   \n",
       "...                               ...          ...            ...   \n",
       "CATCAAGTCCTCGCAT.19.1       -0.005576    -0.155036      -0.067543   \n",
       "GTCAGCGGTCTGATAC.45.2        0.000000     0.038555       0.069527   \n",
       "CATGCTCAGTGTCATC.30.10       0.000000     0.109737       0.060977   \n",
       "CTCATCGAGCAAATGT.32.8       -0.002702     0.047953       0.026907   \n",
       "GAAATGACATGCACTA.3.9        -0.006003     0.053677      -0.021004   \n",
       "\n",
       "                        R-HSA-1643685  R-HSA-1430728  R-HSA-1500931  \\\n",
       "cell_id                                                               \n",
       "CACAACATCGTCCTTG.26.2        0.001398      -0.042310       0.001724   \n",
       "AGCTTCCGTCTCTCTG.9.9         0.051533       0.032083      -0.001383   \n",
       "CGCCAGACAACAAGTA.17.11       0.070461      -0.038647      -0.003032   \n",
       "GGGATGATCGTAACAC.7.4        -0.107239      -0.070346      -0.004848   \n",
       "ACGTTCCGTATTCTCT.5.11       -0.075131      -0.036871       0.000415   \n",
       "...                               ...            ...            ...   \n",
       "CATCAAGTCCTCGCAT.19.1        0.110339       0.021932       0.002039   \n",
       "GTCAGCGGTCTGATAC.45.2       -0.200935      -0.136595       0.004584   \n",
       "CATGCTCAGTGTCATC.30.10      -0.153676      -0.079196       0.000508   \n",
       "CTCATCGAGCAAATGT.32.8       -0.006230      -0.047520      -0.000727   \n",
       "GAAATGACATGCACTA.3.9         0.082348       0.009688       0.003999   \n",
       "\n",
       "                        R-HSA-9748784  R-HSA-5357801  \n",
       "cell_id                                               \n",
       "CACAACATCGTCCTTG.26.2       -0.016589       0.003660  \n",
       "AGCTTCCGTCTCTCTG.9.9        -0.004855      -0.019736  \n",
       "CGCCAGACAACAAGTA.17.11      -0.015724      -0.010885  \n",
       "GGGATGATCGTAACAC.7.4        -0.006595       0.014651  \n",
       "ACGTTCCGTATTCTCT.5.11        0.000000      -0.000502  \n",
       "...                               ...            ...  \n",
       "CATCAAGTCCTCGCAT.19.1       -0.005329      -0.004713  \n",
       "GTCAGCGGTCTGATAC.45.2        0.001261       0.019553  \n",
       "CATGCTCAGTGTCATC.30.10      -0.015568       0.017447  \n",
       "CTCATCGAGCAAATGT.32.8       -0.010166       0.012630  \n",
       "GAAATGACATGCACTA.3.9        -0.015264      -0.002216  \n",
       "\n",
       "[4696 rows x 29 columns]"
      ]
     },
     "execution_count": 680,
     "metadata": {},
     "output_type": "execute_result"
    }
   ],
   "source": [
    "layer_2_df"
   ]
  },
  {
   "cell_type": "code",
   "execution_count": null,
   "id": "25b9ab6d-b1d2-4be3-b346-e4d2d7631f32",
   "metadata": {},
   "outputs": [],
   "source": []
  },
  {
   "cell_type": "code",
   "execution_count": null,
   "id": "30001e3c-d3e9-4f01-a289-03b430725af2",
   "metadata": {},
   "outputs": [],
   "source": []
  },
  {
   "cell_type": "markdown",
   "id": "8703ffe3-76a1-4186-b842-b3c10a6b887b",
   "metadata": {},
   "source": [
    "# Embedding Space of Activation"
   ]
  },
  {
   "cell_type": "code",
   "execution_count": null,
   "id": "2628cf21-4400-4f14-95e8-8bf4d2c9dfd5",
   "metadata": {},
   "outputs": [],
   "source": []
  }
 ],
 "metadata": {
  "kernelspec": {
   "display_name": "Python 3 (ipykernel)",
   "language": "python",
   "name": "python3"
  },
  "language_info": {
   "codemirror_mode": {
    "name": "ipython",
    "version": 3
   },
   "file_extension": ".py",
   "mimetype": "text/x-python",
   "name": "python",
   "nbconvert_exporter": "python",
   "pygments_lexer": "ipython3",
   "version": "3.12.2"
  }
 },
 "nbformat": 4,
 "nbformat_minor": 5
}
