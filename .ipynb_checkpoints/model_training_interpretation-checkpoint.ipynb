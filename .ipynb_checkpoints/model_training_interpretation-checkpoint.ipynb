{
 "cells": [
  {
   "cell_type": "code",
   "execution_count": 1,
   "id": "2a405eab-a0b4-44d5-bcd6-ba814b870c03",
   "metadata": {},
   "outputs": [
    {
     "name": "stderr",
     "output_type": "stream",
     "text": [
      "2024-08-05 08:36:10.173140: I tensorflow/core/util/port.cc:113] oneDNN custom operations are on. You may see slightly different numerical results due to floating-point round-off errors from different computation orders. To turn them off, set the environment variable `TF_ENABLE_ONEDNN_OPTS=0`.\n",
      "2024-08-05 08:36:10.182591: E external/local_xla/xla/stream_executor/cuda/cuda_fft.cc:479] Unable to register cuFFT factory: Attempting to register factory for plugin cuFFT when one has already been registered\n",
      "2024-08-05 08:36:10.194379: E external/local_xla/xla/stream_executor/cuda/cuda_dnn.cc:10575] Unable to register cuDNN factory: Attempting to register factory for plugin cuDNN when one has already been registered\n",
      "2024-08-05 08:36:10.194399: E external/local_xla/xla/stream_executor/cuda/cuda_blas.cc:1442] Unable to register cuBLAS factory: Attempting to register factory for plugin cuBLAS when one has already been registered\n",
      "2024-08-05 08:36:10.203371: I tensorflow/core/platform/cpu_feature_guard.cc:210] This TensorFlow binary is optimized to use available CPU instructions in performance-critical operations.\n",
      "To enable the following instructions: AVX2 AVX512F AVX512_VNNI AVX512_BF16 FMA, in other operations, rebuild TensorFlow with the appropriate compiler flags.\n",
      "2024-08-05 08:36:10.590049: W tensorflow/compiler/tf2tensorrt/utils/py_utils.cc:38] TF-TRT Warning: Could not find TensorRT\n"
     ]
    }
   ],
   "source": [
    "import tensorflow as tf\n",
    "from gene_expression import *\n",
    "from pathway_hierarchy import *\n",
    "from utils import *\n",
    "import torch"
   ]
  },
  {
   "cell_type": "code",
   "execution_count": 66,
   "id": "2fb0cea0-3807-442e-8374-f4c7a4b49355",
   "metadata": {
    "scrolled": true
   },
   "outputs": [
    {
     "name": "stdout",
     "output_type": "stream",
     "text": [
      "{'dataset': {'train': '/12tb_dsk1/danish/Pytorch_Biologically_Informed_Neural_Network/Preprocessed_data/excitory_neurons/Exc_L2-3_CBLN2_LINC02306/train.csv', 'test': '/12tb_dsk1/danish/Pytorch_Biologically_Informed_Neural_Network/Preprocessed_data/excitory_neurons/Exc_L2-3_CBLN2_LINC02306/test.csv', 'val': '/12tb_dsk1/danish/Pytorch_Biologically_Informed_Neural_Network/Preprocessed_data/excitory_neurons/Exc_L2-3_CBLN2_LINC02306/val.csv', 'y_train': '/12tb_dsk1/danish/Pytorch_Biologically_Informed_Neural_Network/Preprocessed_data/excitory_neurons/Exc_L2-3_CBLN2_LINC02306/y_train.csv', 'y_test': '/12tb_dsk1/danish/Pytorch_Biologically_Informed_Neural_Network/Preprocessed_data/excitory_neurons/Exc_L2-3_CBLN2_LINC02306/y_test.csv', 'y_val': '/12tb_dsk1/danish/Pytorch_Biologically_Informed_Neural_Network/Preprocessed_data/excitory_neurons/Exc_L2-3_CBLN2_LINC02306/y_val.csv'}, 'model_output': {'model_save_dir': '/12tb_dsk1/danish/Pytorch_Biologically_Informed_Neural_Network/model_save/excitory_neurons/Exc_L2-3_CBLN2_LINC02306/'}, 'train': {'epochs': 50, 'learning_rate': 0.001, 'weight_decay': 0.0001, 'batch_size': 8192}, 'gene_expression': {'highly_expressed_threshold': 0.95, 'lowly_expressed_threshold': 0.95, 'normalization': True, 'marker': True, 'print_information': True}, 'pathways_network': {'species': 'human', 'n_hidden_layer': 3, 'pathway_relation': '../../usman/CellTICS/reactome/ReactomePathwaysRelation.txt', 'pathway_names': '../../usman/CellTICS/reactome/ReactomePathways.txt', 'ensemble_pathway_relation': '../../usman/CellTICS/reactome/Ensembl2Reactome_All_Levels.txt', 'datatype': 'diagnosis'}}\n",
      "Getting Marker Genes.......\n",
      "1125\n",
      "1125\n",
      "2250\n",
      "2250\n",
      "                    0                1\n",
      "0     ENSG00000101210  ENSG00000172270\n",
      "1     ENSG00000099622  ENSG00000141905\n",
      "2     ENSG00000105278  ENSG00000167658\n",
      "3     ENSG00000178951  ENSG00000089847\n",
      "4     ENSG00000141985  ENSG00000127663\n",
      "...               ...              ...\n",
      "1120  ENSG00000285395  ENSG00000103316\n",
      "1121  ENSG00000140740  ENSG00000284218\n",
      "1122  ENSG00000122254  ENSG00000103365\n",
      "1123  ENSG00000006116  ENSG00000182601\n",
      "1124  ENSG00000077235  ENSG00000171208\n",
      "\n",
      "[1125 rows x 2 columns]\n",
      "                    0                1\n",
      "0     ENSG00000101210  ENSG00000172270\n",
      "1     ENSG00000099622  ENSG00000141905\n",
      "2     ENSG00000105278  ENSG00000167658\n",
      "3     ENSG00000178951  ENSG00000089847\n",
      "4     ENSG00000141985  ENSG00000127663\n",
      "...               ...              ...\n",
      "1120  ENSG00000285395  ENSG00000103316\n",
      "1121  ENSG00000140740  ENSG00000284218\n",
      "1122  ENSG00000122254  ENSG00000103365\n",
      "1123  ENSG00000006116  ENSG00000182601\n",
      "1124  ENSG00000077235  ENSG00000171208\n",
      "\n",
      "[1125 rows x 2 columns]\n",
      "Getting Pathway Genes.........\n",
      "Getting Masking.........\n",
      "HSA\n"
     ]
    },
    {
     "name": "stderr",
     "output_type": "stream",
     "text": [
      "/home/anwer/.local/lib/python3.12/site-packages/torch/optim/lr_scheduler.py:28: UserWarning: The verbose parameter is deprecated. Please use get_last_lr() to access the learning rate.\n",
      "  warnings.warn(\"The verbose parameter is deprecated. Please use get_last_lr() \"\n"
     ]
    },
    {
     "name": "stdout",
     "output_type": "stream",
     "text": [
      "Training.........\n",
      "Current sub-neural network has 1 hidden layers.\n",
      "...\n"
     ]
    },
    {
     "name": "stderr",
     "output_type": "stream",
     "text": [
      "  2%|███▍                                                                                                                                                                         | 1/50 [00:00<00:28,  1.72it/s]"
     ]
    },
    {
     "name": "stdout",
     "output_type": "stream",
     "text": [
      "Epoch [1/50], Train Loss: 1.3820, Train_accuracy: 54.447994320198795, Val Loss: 0.6908, Val_accuracy: 54.33439829605964\n",
      "Model saved.\n"
     ]
    },
    {
     "name": "stderr",
     "output_type": "stream",
     "text": [
      "  4%|██████▉                                                                                                                                                                      | 2/50 [00:00<00:20,  2.33it/s]"
     ]
    },
    {
     "name": "stdout",
     "output_type": "stream",
     "text": [
      "Epoch [2/50], Train Loss: 1.3773, Train_accuracy: 52.06247781327654, Val Loss: 0.6884, Val_accuracy: 52.247071352502665\n"
     ]
    },
    {
     "name": "stderr",
     "output_type": "stream",
     "text": [
      "  6%|██████████▍                                                                                                                                                                  | 3/50 [00:01<00:23,  2.00it/s]"
     ]
    },
    {
     "name": "stdout",
     "output_type": "stream",
     "text": [
      "Epoch [3/50], Train Loss: 1.3725, Train_accuracy: 52.67305644302449, Val Loss: 0.6860, Val_accuracy: 53.077742279020235\n"
     ]
    },
    {
     "name": "stderr",
     "output_type": "stream",
     "text": [
      "  8%|█████████████▊                                                                                                                                                               | 4/50 [00:01<00:19,  2.32it/s]"
     ]
    },
    {
     "name": "stdout",
     "output_type": "stream",
     "text": [
      "Epoch [4/50], Train Loss: 1.3674, Train_accuracy: 55.68335108271211, Val Loss: 0.6836, Val_accuracy: 55.65495207667732\n",
      "Model saved.\n"
     ]
    },
    {
     "name": "stderr",
     "output_type": "stream",
     "text": [
      " 10%|█████████████████▎                                                                                                                                                           | 5/50 [00:02<00:22,  2.05it/s]"
     ]
    },
    {
     "name": "stdout",
     "output_type": "stream",
     "text": [
      "Epoch [5/50], Train Loss: 1.3621, Train_accuracy: 59.936102236421725, Val Loss: 0.6811, Val_accuracy: 60.40468583599574\n",
      "Model saved.\n"
     ]
    },
    {
     "name": "stderr",
     "output_type": "stream",
     "text": [
      " 12%|████████████████████▊                                                                                                                                                        | 6/50 [00:03<00:23,  1.89it/s]"
     ]
    },
    {
     "name": "stdout",
     "output_type": "stream",
     "text": [
      "Epoch [6/50], Train Loss: 1.3566, Train_accuracy: 63.429179978700745, Val Loss: 0.6785, Val_accuracy: 62.61980830670927\n",
      "Model saved.\n"
     ]
    },
    {
     "name": "stderr",
     "output_type": "stream",
     "text": [
      " 14%|████████████████████████▏                                                                                                                                                    | 7/50 [00:03<00:19,  2.17it/s]"
     ]
    },
    {
     "name": "stdout",
     "output_type": "stream",
     "text": [
      "Epoch [7/50], Train Loss: 1.3509, Train_accuracy: 65.24671636492722, Val Loss: 0.6758, Val_accuracy: 65.09052183173588\n",
      "Model saved.\n"
     ]
    },
    {
     "name": "stderr",
     "output_type": "stream",
     "text": [
      " 16%|███████████████████████████▋                                                                                                                                                 | 8/50 [00:03<00:21,  1.98it/s]"
     ]
    },
    {
     "name": "stdout",
     "output_type": "stream",
     "text": [
      "Epoch [8/50], Train Loss: 1.3449, Train_accuracy: 66.12708555200568, Val Loss: 0.6730, Val_accuracy: 65.77209797657082\n",
      "Model saved.\n"
     ]
    },
    {
     "name": "stderr",
     "output_type": "stream",
     "text": [
      " 18%|███████████████████████████████▏                                                                                                                                             | 9/50 [00:04<00:21,  1.88it/s]"
     ]
    },
    {
     "name": "stdout",
     "output_type": "stream",
     "text": [
      "Epoch [9/50], Train Loss: 1.3386, Train_accuracy: 66.65246716364928, Val Loss: 0.6700, Val_accuracy: 66.02768903088392\n",
      "Model saved.\n"
     ]
    },
    {
     "name": "stderr",
     "output_type": "stream",
     "text": [
      " 20%|██████████████████████████████████▍                                                                                                                                         | 10/50 [00:04<00:18,  2.13it/s]"
     ]
    },
    {
     "name": "stdout",
     "output_type": "stream",
     "text": [
      "Epoch [10/50], Train Loss: 1.3320, Train_accuracy: 66.85835995740149, Val Loss: 0.6668, Val_accuracy: 66.13418530351437\n",
      "Model saved.\n"
     ]
    },
    {
     "name": "stderr",
     "output_type": "stream",
     "text": [
      " 22%|█████████████████████████████████████▊                                                                                                                                      | 11/50 [00:05<00:19,  1.98it/s]"
     ]
    },
    {
     "name": "stdout",
     "output_type": "stream",
     "text": [
      "Epoch [11/50], Train Loss: 1.3251, Train_accuracy: 66.8512602058928, Val Loss: 0.6635, Val_accuracy: 66.11288604898829\n"
     ]
    },
    {
     "name": "stderr",
     "output_type": "stream",
     "text": [
      " 24%|█████████████████████████████████████████▎                                                                                                                                  | 12/50 [00:05<00:17,  2.23it/s]"
     ]
    },
    {
     "name": "stdout",
     "output_type": "stream",
     "text": [
      "Epoch [12/50], Train Loss: 1.3180, Train_accuracy: 66.92935747248846, Val Loss: 0.6601, Val_accuracy: 66.24068157614484\n",
      "Model saved.\n"
     ]
    },
    {
     "name": "stderr",
     "output_type": "stream",
     "text": [
      " 26%|████████████████████████████████████████████▋                                                                                                                               | 13/50 [00:06<00:18,  2.02it/s]"
     ]
    },
    {
     "name": "stdout",
     "output_type": "stream",
     "text": [
      "Epoch [13/50], Train Loss: 1.3107, Train_accuracy: 67.17784877529286, Val Loss: 0.6567, Val_accuracy: 66.28328008519702\n",
      "Model saved.\n"
     ]
    },
    {
     "name": "stderr",
     "output_type": "stream",
     "text": [
      " 28%|████████████████████████████████████████████████▏                                                                                                                           | 14/50 [00:06<00:18,  1.92it/s]"
     ]
    },
    {
     "name": "stdout",
     "output_type": "stream",
     "text": [
      "Epoch [14/50], Train Loss: 1.3032, Train_accuracy: 67.54703585374511, Val Loss: 0.6531, Val_accuracy: 66.11288604898829\n"
     ]
    },
    {
     "name": "stderr",
     "output_type": "stream",
     "text": [
      " 30%|███████████████████████████████████████████████████▌                                                                                                                        | 15/50 [00:07<00:16,  2.18it/s]"
     ]
    },
    {
     "name": "stdout",
     "output_type": "stream",
     "text": [
      "Epoch [15/50], Train Loss: 1.2956, Train_accuracy: 67.53283635072772, Val Loss: 0.6496, Val_accuracy: 66.04898828541\n"
     ]
    },
    {
     "name": "stderr",
     "output_type": "stream",
     "text": [
      " 32%|███████████████████████████████████████████████████████                                                                                                                     | 16/50 [00:07<00:16,  2.01it/s]"
     ]
    },
    {
     "name": "stdout",
     "output_type": "stream",
     "text": [
      "Epoch [16/50], Train Loss: 1.2879, Train_accuracy: 67.68193113241037, Val Loss: 0.6459, Val_accuracy: 66.41107561235357\n",
      "Model saved.\n"
     ]
    },
    {
     "name": "stderr",
     "output_type": "stream",
     "text": [
      " 34%|██████████████████████████████████████████████████████████▍                                                                                                                 | 17/50 [00:08<00:14,  2.24it/s]"
     ]
    },
    {
     "name": "stdout",
     "output_type": "stream",
     "text": [
      "Epoch [17/50], Train Loss: 1.2801, Train_accuracy: 67.80262690805822, Val Loss: 0.6423, Val_accuracy: 66.49627263045794\n",
      "Model saved.\n"
     ]
    },
    {
     "name": "stderr",
     "output_type": "stream",
     "text": [
      " 36%|█████████████████████████████████████████████████████████████▉                                                                                                              | 18/50 [00:08<00:15,  2.04it/s]"
     ]
    },
    {
     "name": "stdout",
     "output_type": "stream",
     "text": [
      "Epoch [18/50], Train Loss: 1.2722, Train_accuracy: 67.90912318068868, Val Loss: 0.6386, Val_accuracy: 66.5814696485623\n",
      "Model saved.\n"
     ]
    },
    {
     "name": "stderr",
     "output_type": "stream",
     "text": [
      " 38%|█████████████████████████████████████████████████████████████████▎                                                                                                          | 19/50 [00:09<00:16,  1.91it/s]"
     ]
    },
    {
     "name": "stdout",
     "output_type": "stream",
     "text": [
      "Epoch [19/50], Train Loss: 1.2644, Train_accuracy: 68.00141995030174, Val Loss: 0.6350, Val_accuracy: 66.70926517571885\n",
      "Model saved.\n"
     ]
    },
    {
     "name": "stderr",
     "output_type": "stream",
     "text": [
      " 40%|████████████████████████████████████████████████████████████████████▊                                                                                                       | 20/50 [00:09<00:13,  2.16it/s]"
     ]
    },
    {
     "name": "stdout",
     "output_type": "stream",
     "text": [
      "Epoch [20/50], Train Loss: 1.2567, Train_accuracy: 68.12921547745829, Val Loss: 0.6314, Val_accuracy: 67.0713525026624\n",
      "Model saved.\n"
     ]
    },
    {
     "name": "stderr",
     "output_type": "stream",
     "text": [
      " 42%|████████████████████████████████████████████████████████████████████████▏                                                                                                   | 21/50 [00:10<00:14,  1.99it/s]"
     ]
    },
    {
     "name": "stdout",
     "output_type": "stream",
     "text": [
      "Epoch [21/50], Train Loss: 1.2491, Train_accuracy: 68.23571175008874, Val Loss: 0.6278, Val_accuracy: 67.36954206602769\n",
      "Model saved.\n"
     ]
    },
    {
     "name": "stderr",
     "output_type": "stream",
     "text": [
      " 44%|███████████████████████████████████████████████████████████████████████████▋                                                                                                | 22/50 [00:10<00:14,  1.87it/s]"
     ]
    },
    {
     "name": "stdout",
     "output_type": "stream",
     "text": [
      "Epoch [22/50], Train Loss: 1.2416, Train_accuracy: 68.46290379836705, Val Loss: 0.6244, Val_accuracy: 67.75292864749734\n",
      "Model saved.\n"
     ]
    },
    {
     "name": "stderr",
     "output_type": "stream",
     "text": [
      " 46%|███████████████████████████████████████████████████████████████████████████████                                                                                             | 23/50 [00:11<00:12,  2.12it/s]"
     ]
    },
    {
     "name": "stdout",
     "output_type": "stream",
     "text": [
      "Epoch [23/50], Train Loss: 1.2342, Train_accuracy: 68.69719559815407, Val Loss: 0.6209, Val_accuracy: 67.98722044728434\n",
      "Model saved.\n"
     ]
    },
    {
     "name": "stderr",
     "output_type": "stream",
     "text": [
      " 48%|██████████████████████████████████████████████████████████████████████████████████▌                                                                                         | 24/50 [00:11<00:13,  1.97it/s]"
     ]
    },
    {
     "name": "stdout",
     "output_type": "stream",
     "text": [
      "Epoch [24/50], Train Loss: 1.2269, Train_accuracy: 68.79659211927583, Val Loss: 0.6176, Val_accuracy: 68.24281150159744\n",
      "Model saved.\n"
     ]
    },
    {
     "name": "stderr",
     "output_type": "stream",
     "text": [
      " 50%|██████████████████████████████████████████████████████████████████████████████████████                                                                                      | 25/50 [00:12<00:13,  1.87it/s]"
     ]
    },
    {
     "name": "stdout",
     "output_type": "stream",
     "text": [
      "Epoch [25/50], Train Loss: 1.2199, Train_accuracy: 69.08058217962372, Val Loss: 0.6143, Val_accuracy: 68.6261980830671\n",
      "Model saved.\n"
     ]
    },
    {
     "name": "stderr",
     "output_type": "stream",
     "text": [
      " 52%|█████████████████████████████████████████████████████████████████████████████████████████▍                                                                                  | 26/50 [00:12<00:11,  2.13it/s]"
     ]
    },
    {
     "name": "stdout",
     "output_type": "stream",
     "text": [
      "Epoch [26/50], Train Loss: 1.2130, Train_accuracy: 69.3929712460064, Val Loss: 0.6111, Val_accuracy: 68.96698615548456\n",
      "Model saved.\n"
     ]
    },
    {
     "name": "stderr",
     "output_type": "stream",
     "text": [
      " 54%|████████████████████████████████████████████████████████████████████████████████████████████▉                                                                               | 27/50 [00:13<00:11,  1.97it/s]"
     ]
    },
    {
     "name": "stdout",
     "output_type": "stream",
     "text": [
      "Epoch [27/50], Train Loss: 1.2062, Train_accuracy: 69.56336528221512, Val Loss: 0.6080, Val_accuracy: 69.45686900958466\n",
      "Model saved.\n"
     ]
    },
    {
     "name": "stderr",
     "output_type": "stream",
     "text": [
      " 56%|████████████████████████████████████████████████████████████████████████████████████████████████▎                                                                           | 28/50 [00:13<00:09,  2.22it/s]"
     ]
    },
    {
     "name": "stdout",
     "output_type": "stream",
     "text": [
      "Epoch [28/50], Train Loss: 1.1996, Train_accuracy: 69.8686545970891, Val Loss: 0.6050, Val_accuracy: 69.49946751863685\n",
      "Model saved.\n"
     ]
    },
    {
     "name": "stderr",
     "output_type": "stream",
     "text": [
      " 58%|███████████████████████████████████████████████████████████████████████████████████████████████████▊                                                                        | 29/50 [00:14<00:10,  2.02it/s]"
     ]
    },
    {
     "name": "stdout",
     "output_type": "stream",
     "text": [
      "Epoch [29/50], Train Loss: 1.1932, Train_accuracy: 69.98935037273695, Val Loss: 0.6020, Val_accuracy: 69.69116080937167\n",
      "Model saved.\n"
     ]
    },
    {
     "name": "stderr",
     "output_type": "stream",
     "text": [
      " 60%|███████████████████████████████████████████████████████████████████████████████████████████████████████▏                                                                    | 30/50 [00:14<00:10,  1.91it/s]"
     ]
    },
    {
     "name": "stdout",
     "output_type": "stream",
     "text": [
      "Epoch [30/50], Train Loss: 1.1869, Train_accuracy: 70.19524316648918, Val Loss: 0.5991, Val_accuracy: 69.98935037273695\n",
      "Model saved.\n"
     ]
    },
    {
     "name": "stderr",
     "output_type": "stream",
     "text": [
      " 62%|██████████████████████████████████████████████████████████████████████████████████████████████████████████▋                                                                 | 31/50 [00:15<00:08,  2.15it/s]"
     ]
    },
    {
     "name": "stdout",
     "output_type": "stream",
     "text": [
      "Epoch [31/50], Train Loss: 1.1808, Train_accuracy: 70.47213347532836, Val Loss: 0.5963, Val_accuracy: 70.50053248136315\n",
      "Model saved.\n"
     ]
    },
    {
     "name": "stderr",
     "output_type": "stream",
     "text": [
      " 64%|██████████████████████████████████████████████████████████████████████████████████████████████████████████████                                                              | 32/50 [00:15<00:09,  1.99it/s]"
     ]
    },
    {
     "name": "stdout",
     "output_type": "stream",
     "text": [
      "Epoch [32/50], Train Loss: 1.1748, Train_accuracy: 70.6425275115371, Val Loss: 0.5935, Val_accuracy: 70.84132055378062\n",
      "Model saved.\n"
     ]
    },
    {
     "name": "stderr",
     "output_type": "stream",
     "text": [
      " 66%|█████████████████████████████████████████████████████████████████████████████████████████████████████████████████▌                                                          | 33/50 [00:16<00:07,  2.23it/s]"
     ]
    },
    {
     "name": "stdout",
     "output_type": "stream",
     "text": [
      "Epoch [33/50], Train Loss: 1.1690, Train_accuracy: 71.00461483848065, Val Loss: 0.5908, Val_accuracy: 71.26730564430245\n",
      "Model saved.\n"
     ]
    },
    {
     "name": "stderr",
     "output_type": "stream",
     "text": [
      " 68%|████████████████████████████████████████████████████████████████████████████████████████████████████████████████████▉                                                       | 34/50 [00:16<00:07,  2.02it/s]"
     ]
    },
    {
     "name": "stdout",
     "output_type": "stream",
     "text": [
      "Epoch [34/50], Train Loss: 1.1633, Train_accuracy: 71.20340788072417, Val Loss: 0.5882, Val_accuracy: 71.43769968051119\n",
      "Model saved.\n"
     ]
    },
    {
     "name": "stderr",
     "output_type": "stream",
     "text": [
      " 70%|████████████████████████████████████████████████████████████████████████████████████████████████████████████████████████▍                                                   | 35/50 [00:17<00:07,  1.91it/s]"
     ]
    },
    {
     "name": "stdout",
     "output_type": "stream",
     "text": [
      "Epoch [35/50], Train Loss: 1.1577, Train_accuracy: 71.42350017749379, Val Loss: 0.5857, Val_accuracy: 71.58679446219382\n",
      "Model saved.\n"
     ]
    },
    {
     "name": "stderr",
     "output_type": "stream",
     "text": [
      " 72%|███████████████████████████████████████████████████████████████████████████████████████████████████████████████████████████▊                                                | 36/50 [00:17<00:06,  2.15it/s]"
     ]
    },
    {
     "name": "stdout",
     "output_type": "stream",
     "text": [
      "Epoch [36/50], Train Loss: 1.1523, Train_accuracy: 71.57259495917643, Val Loss: 0.5832, Val_accuracy: 71.73588924387647\n",
      "Model saved.\n"
     ]
    },
    {
     "name": "stderr",
     "output_type": "stream",
     "text": [
      " 74%|███████████████████████████████████████████████████████████████████████████████████████████████████████████████████████████████▎                                            | 37/50 [00:18<00:06,  1.99it/s]"
     ]
    },
    {
     "name": "stdout",
     "output_type": "stream",
     "text": [
      "Epoch [37/50], Train Loss: 1.1471, Train_accuracy: 71.74298899538516, Val Loss: 0.5808, Val_accuracy: 71.97018104366347\n",
      "Model saved.\n"
     ]
    },
    {
     "name": "stderr",
     "output_type": "stream",
     "text": [
      " 76%|██████████████████████████████████████████████████████████████████████████████████████████████████████████████████████████████████▋                                         | 38/50 [00:18<00:06,  1.88it/s]"
     ]
    },
    {
     "name": "stdout",
     "output_type": "stream",
     "text": [
      "Epoch [38/50], Train Loss: 1.1419, Train_accuracy: 71.77138800141995, Val Loss: 0.5785, Val_accuracy: 72.1405750798722\n",
      "Model saved.\n"
     ]
    },
    {
     "name": "stderr",
     "output_type": "stream",
     "text": [
      " 78%|██████████████████████████████████████████████████████████████████████████████████████████████████████████████████████████████████████▏                                     | 39/50 [00:19<00:05,  2.14it/s]"
     ]
    },
    {
     "name": "stdout",
     "output_type": "stream",
     "text": [
      "Epoch [39/50], Train Loss: 1.1369, Train_accuracy: 72.03407880724174, Val Loss: 0.5762, Val_accuracy: 72.28966986155484\n",
      "Model saved.\n"
     ]
    },
    {
     "name": "stderr",
     "output_type": "stream",
     "text": [
      " 80%|█████████████████████████████████████████████████████████████████████████████████████████████████████████████████████████████████████████▌                                  | 40/50 [00:19<00:05,  1.98it/s]"
     ]
    },
    {
     "name": "stdout",
     "output_type": "stream",
     "text": [
      "Epoch [40/50], Train Loss: 1.1321, Train_accuracy: 72.11927582534611, Val Loss: 0.5741, Val_accuracy: 72.41746538871139\n",
      "Model saved.\n"
     ]
    },
    {
     "name": "stderr",
     "output_type": "stream",
     "text": [
      " 82%|█████████████████████████████████████████████████████████████████████████████████████████████████████████████████████████████████████████████                               | 41/50 [00:20<00:04,  2.22it/s]"
     ]
    },
    {
     "name": "stdout",
     "output_type": "stream",
     "text": [
      "Epoch [41/50], Train Loss: 1.1273, Train_accuracy: 72.19027334043308, Val Loss: 0.5719, Val_accuracy: 72.39616613418531\n"
     ]
    },
    {
     "name": "stderr",
     "output_type": "stream",
     "text": [
      " 84%|████████████████████████████████████████████████████████████████████████████████████████████████████████████████████████████████████████████████▍                           | 42/50 [00:20<00:03,  2.03it/s]"
     ]
    },
    {
     "name": "stdout",
     "output_type": "stream",
     "text": [
      "Epoch [42/50], Train Loss: 1.1227, Train_accuracy: 72.21157259495918, Val Loss: 0.5699, Val_accuracy: 72.54526091586794\n",
      "Model saved.\n"
     ]
    },
    {
     "name": "stderr",
     "output_type": "stream",
     "text": [
      " 86%|███████████████████████████████████████████████████████████████████████████████████████████████████████████████████████████████████████████████████▉                        | 43/50 [00:21<00:03,  1.91it/s]"
     ]
    },
    {
     "name": "stdout",
     "output_type": "stream",
     "text": [
      "Epoch [43/50], Train Loss: 1.1182, Train_accuracy: 72.45296414625489, Val Loss: 0.5680, Val_accuracy: 72.69435569755059\n",
      "Model saved.\n"
     ]
    },
    {
     "name": "stderr",
     "output_type": "stream",
     "text": [
      " 88%|███████████████████████████████████████████████████████████████████████████████████████████████████████████████████████████████████████████████████████▎                    | 44/50 [00:21<00:02,  2.16it/s]"
     ]
    },
    {
     "name": "stdout",
     "output_type": "stream",
     "text": [
      "Epoch [44/50], Train Loss: 1.1139, Train_accuracy: 72.60915867944622, Val Loss: 0.5661, Val_accuracy: 72.84345047923323\n",
      "Model saved.\n"
     ]
    },
    {
     "name": "stderr",
     "output_type": "stream",
     "text": [
      " 90%|██████████████████████████████████████████████████████████████████████████████████████████████████████████████████████████████████████████████████████████▊                 | 45/50 [00:22<00:02,  1.98it/s]"
     ]
    },
    {
     "name": "stdout",
     "output_type": "stream",
     "text": [
      "Epoch [45/50], Train Loss: 1.1097, Train_accuracy: 72.77245296414625, Val Loss: 0.5642, Val_accuracy: 72.94994675186368\n",
      "Model saved.\n"
     ]
    },
    {
     "name": "stderr",
     "output_type": "stream",
     "text": [
      " 92%|██████████████████████████████████████████████████████████████████████████████████████████████████████████████████████████████████████████████████████████████▏             | 46/50 [00:22<00:01,  2.21it/s]"
     ]
    },
    {
     "name": "stdout",
     "output_type": "stream",
     "text": [
      "Epoch [46/50], Train Loss: 1.1055, Train_accuracy: 72.83635072772454, Val Loss: 0.5625, Val_accuracy: 73.07774227902023\n",
      "Model saved.\n"
     ]
    },
    {
     "name": "stderr",
     "output_type": "stream",
     "text": [
      " 94%|█████████████████████████████████████████████████████████████████████████████████████████████████████████████████████████████████████████████████████████████████▋          | 47/50 [00:23<00:01,  2.02it/s]"
     ]
    },
    {
     "name": "stdout",
     "output_type": "stream",
     "text": [
      "Epoch [47/50], Train Loss: 1.1015, Train_accuracy: 73.02094426695065, Val Loss: 0.5608, Val_accuracy: 73.20553780617678\n",
      "Model saved.\n"
     ]
    },
    {
     "name": "stderr",
     "output_type": "stream",
     "text": [
      " 96%|█████████████████████████████████████████████████████████████████████████████████████████████████████████████████████████████████████████████████████████████████████       | 48/50 [00:23<00:01,  1.90it/s]"
     ]
    },
    {
     "name": "stdout",
     "output_type": "stream",
     "text": [
      "Epoch [48/50], Train Loss: 1.0976, Train_accuracy: 73.11324103656372, Val Loss: 0.5592, Val_accuracy: 73.20553780617678\n"
     ]
    },
    {
     "name": "stderr",
     "output_type": "stream",
     "text": [
      " 98%|████████████████████████████████████████████████████████████████████████████████████████████████████████████████████████████████████████████████████████████████████████▌   | 49/50 [00:23<00:00,  2.15it/s]"
     ]
    },
    {
     "name": "stdout",
     "output_type": "stream",
     "text": [
      "Epoch [49/50], Train Loss: 1.0938, Train_accuracy: 73.22683706070288, Val Loss: 0.5576, Val_accuracy: 73.29073482428115\n",
      "Model saved.\n"
     ]
    },
    {
     "name": "stderr",
     "output_type": "stream",
     "text": [
      "100%|████████████████████████████████████████████████████████████████████████████████████████████████████████████████████████████████████████████████████████████████████████████| 50/50 [00:24<00:00,  2.04it/s]"
     ]
    },
    {
     "name": "stdout",
     "output_type": "stream",
     "text": [
      "Epoch [50/50], Train Loss: 1.0901, Train_accuracy: 73.36883209087682, Val Loss: 0.5561, Val_accuracy: 73.4398296059638\n",
      "Model saved.\n"
     ]
    },
    {
     "name": "stderr",
     "output_type": "stream",
     "text": [
      "\n"
     ]
    },
    {
     "name": "stdout",
     "output_type": "stream",
     "text": [
      "Test Accucary 72.70017035775128\n",
      "Current sub-neural network has 2 hidden layers.\n",
      "...\n"
     ]
    },
    {
     "name": "stderr",
     "output_type": "stream",
     "text": [
      "  2%|███▍                                                                                                                                                                         | 1/50 [00:00<00:28,  1.70it/s]"
     ]
    },
    {
     "name": "stdout",
     "output_type": "stream",
     "text": [
      "Epoch [1/50], Train Loss: 1.3865, Train_accuracy: 50.17394391196308, Val Loss: 0.6935, Val_accuracy: 49.75505857294995\n",
      "Model saved.\n"
     ]
    },
    {
     "name": "stderr",
     "output_type": "stream",
     "text": [
      "  4%|██████▉                                                                                                                                                                      | 2/50 [00:01<00:28,  1.68it/s]"
     ]
    },
    {
     "name": "stdout",
     "output_type": "stream",
     "text": [
      "Epoch [2/50], Train Loss: 1.3860, Train_accuracy: 50.17394391196308, Val Loss: 0.6933, Val_accuracy: 49.75505857294995\n"
     ]
    },
    {
     "name": "stderr",
     "output_type": "stream",
     "text": [
      "  6%|██████████▍                                                                                                                                                                  | 3/50 [00:01<00:21,  2.14it/s]"
     ]
    },
    {
     "name": "stdout",
     "output_type": "stream",
     "text": [
      "Epoch [3/50], Train Loss: 1.3856, Train_accuracy: 50.17394391196308, Val Loss: 0.6930, Val_accuracy: 49.75505857294995\n"
     ]
    },
    {
     "name": "stderr",
     "output_type": "stream",
     "text": [
      "  8%|█████████████▊                                                                                                                                                               | 4/50 [00:02<00:24,  1.91it/s]"
     ]
    },
    {
     "name": "stdout",
     "output_type": "stream",
     "text": [
      "Epoch [4/50], Train Loss: 1.3851, Train_accuracy: 50.17394391196308, Val Loss: 0.6928, Val_accuracy: 49.75505857294995\n"
     ]
    },
    {
     "name": "stderr",
     "output_type": "stream",
     "text": [
      " 10%|█████████████████▎                                                                                                                                                           | 5/50 [00:02<00:20,  2.23it/s]"
     ]
    },
    {
     "name": "stdout",
     "output_type": "stream",
     "text": [
      "Epoch [5/50], Train Loss: 1.3846, Train_accuracy: 50.17394391196308, Val Loss: 0.6925, Val_accuracy: 49.75505857294995\n"
     ]
    },
    {
     "name": "stderr",
     "output_type": "stream",
     "text": [
      " 12%|████████████████████▊                                                                                                                                                        | 6/50 [00:03<00:21,  2.00it/s]"
     ]
    },
    {
     "name": "stdout",
     "output_type": "stream",
     "text": [
      "Epoch [6/50], Train Loss: 1.3841, Train_accuracy: 50.21654242101526, Val Loss: 0.6922, Val_accuracy: 49.79765708200213\n",
      "Model saved.\n"
     ]
    },
    {
     "name": "stderr",
     "output_type": "stream",
     "text": [
      " 14%|████████████████████████▏                                                                                                                                                    | 7/50 [00:03<00:23,  1.85it/s]"
     ]
    },
    {
     "name": "stdout",
     "output_type": "stream",
     "text": [
      "Epoch [7/50], Train Loss: 1.3836, Train_accuracy: 51.68619098331558, Val Loss: 0.6919, Val_accuracy: 51.033013844515445\n",
      "Model saved.\n"
     ]
    },
    {
     "name": "stderr",
     "output_type": "stream",
     "text": [
      " 16%|███████████████████████████▋                                                                                                                                                 | 8/50 [00:03<00:19,  2.12it/s]"
     ]
    },
    {
     "name": "stdout",
     "output_type": "stream",
     "text": [
      "Epoch [8/50], Train Loss: 1.3830, Train_accuracy: 58.24636137735179, Val Loss: 0.6916, Val_accuracy: 57.55058572949947\n",
      "Model saved.\n"
     ]
    },
    {
     "name": "stderr",
     "output_type": "stream",
     "text": [
      " 18%|███████████████████████████████▏                                                                                                                                             | 9/50 [00:04<00:21,  1.94it/s]"
     ]
    },
    {
     "name": "stdout",
     "output_type": "stream",
     "text": [
      "Epoch [9/50], Train Loss: 1.3824, Train_accuracy: 64.16045438409655, Val Loss: 0.6913, Val_accuracy: 63.87646432374867\n",
      "Model saved.\n"
     ]
    },
    {
     "name": "stderr",
     "output_type": "stream",
     "text": [
      " 20%|██████████████████████████████████▍                                                                                                                                         | 10/50 [00:05<00:21,  1.84it/s]"
     ]
    },
    {
     "name": "stdout",
     "output_type": "stream",
     "text": [
      "Epoch [10/50], Train Loss: 1.3817, Train_accuracy: 64.85623003194888, Val Loss: 0.6909, Val_accuracy: 64.15335463258786\n",
      "Model saved.\n"
     ]
    },
    {
     "name": "stderr",
     "output_type": "stream",
     "text": [
      " 22%|█████████████████████████████████████▊                                                                                                                                      | 11/50 [00:05<00:18,  2.10it/s]"
     ]
    },
    {
     "name": "stdout",
     "output_type": "stream",
     "text": [
      "Epoch [11/50], Train Loss: 1.3809, Train_accuracy: 62.48491302804402, Val Loss: 0.6905, Val_accuracy: 62.15122470713525\n"
     ]
    },
    {
     "name": "stderr",
     "output_type": "stream",
     "text": [
      " 24%|█████████████████████████████████████████▎                                                                                                                                  | 12/50 [00:06<00:19,  1.96it/s]"
     ]
    },
    {
     "name": "stdout",
     "output_type": "stream",
     "text": [
      "Epoch [12/50], Train Loss: 1.3800, Train_accuracy: 60.20589279375222, Val Loss: 0.6901, Val_accuracy: 59.95740149094782\n"
     ]
    },
    {
     "name": "stderr",
     "output_type": "stream",
     "text": [
      " 26%|████████████████████████████████████████████▋                                                                                                                               | 13/50 [00:06<00:16,  2.21it/s]"
     ]
    },
    {
     "name": "stdout",
     "output_type": "stream",
     "text": [
      "Epoch [13/50], Train Loss: 1.3791, Train_accuracy: 58.50195243166489, Val Loss: 0.6896, Val_accuracy: 57.9765708200213\n"
     ]
    },
    {
     "name": "stderr",
     "output_type": "stream",
     "text": [
      " 28%|████████████████████████████████████████████████▏                                                                                                                           | 14/50 [00:07<00:17,  2.01it/s]"
     ]
    },
    {
     "name": "stdout",
     "output_type": "stream",
     "text": [
      "Epoch [14/50], Train Loss: 1.3781, Train_accuracy: 57.62158324458644, Val Loss: 0.6891, Val_accuracy: 57.4653887113951\n"
     ]
    },
    {
     "name": "stderr",
     "output_type": "stream",
     "text": [
      " 30%|███████████████████████████████████████████████████▌                                                                                                                        | 15/50 [00:07<00:18,  1.90it/s]"
     ]
    },
    {
     "name": "stdout",
     "output_type": "stream",
     "text": [
      "Epoch [15/50], Train Loss: 1.3769, Train_accuracy: 57.31629392971246, Val Loss: 0.6885, Val_accuracy: 57.145899893503724\n"
     ]
    },
    {
     "name": "stderr",
     "output_type": "stream",
     "text": [
      " 32%|███████████████████████████████████████████████████████                                                                                                                     | 16/50 [00:07<00:15,  2.14it/s]"
     ]
    },
    {
     "name": "stdout",
     "output_type": "stream",
     "text": [
      "Epoch [16/50], Train Loss: 1.3757, Train_accuracy: 57.479588214412495, Val Loss: 0.6879, Val_accuracy: 57.294994675186366\n"
     ]
    },
    {
     "name": "stderr",
     "output_type": "stream",
     "text": [
      " 34%|██████████████████████████████████████████████████████████▍                                                                                                                 | 17/50 [00:08<00:16,  1.98it/s]"
     ]
    },
    {
     "name": "stdout",
     "output_type": "stream",
     "text": [
      "Epoch [17/50], Train Loss: 1.3742, Train_accuracy: 57.784877529286476, Val Loss: 0.6872, Val_accuracy: 57.657082002129926\n"
     ]
    },
    {
     "name": "stderr",
     "output_type": "stream",
     "text": [
      " 36%|█████████████████████████████████████████████████████████████▉                                                                                                              | 18/50 [00:08<00:14,  2.21it/s]"
     ]
    },
    {
     "name": "stdout",
     "output_type": "stream",
     "text": [
      "Epoch [18/50], Train Loss: 1.3727, Train_accuracy: 58.55165069222577, Val Loss: 0.6865, Val_accuracy: 58.253461128860486\n"
     ]
    },
    {
     "name": "stderr",
     "output_type": "stream",
     "text": [
      " 38%|█████████████████████████████████████████████████████████████████▎                                                                                                          | 19/50 [00:09<00:15,  2.03it/s]"
     ]
    },
    {
     "name": "stdout",
     "output_type": "stream",
     "text": [
      "Epoch [19/50], Train Loss: 1.3710, Train_accuracy: 59.2545260915868, Val Loss: 0.6856, Val_accuracy: 59.12673056443025\n"
     ]
    },
    {
     "name": "stderr",
     "output_type": "stream",
     "text": [
      " 40%|████████████████████████████████████████████████████████████████████▊                                                                                                       | 20/50 [00:09<00:13,  2.25it/s]"
     ]
    },
    {
     "name": "stdout",
     "output_type": "stream",
     "text": [
      "Epoch [20/50], Train Loss: 1.3691, Train_accuracy: 60.33368832090877, Val Loss: 0.6847, Val_accuracy: 59.87220447284345\n"
     ]
    },
    {
     "name": "stderr",
     "output_type": "stream",
     "text": [
      " 42%|████████████████████████████████████████████████████████████████████████▏                                                                                                   | 21/50 [00:10<00:14,  2.04it/s]"
     ]
    },
    {
     "name": "stdout",
     "output_type": "stream",
     "text": [
      "Epoch [21/50], Train Loss: 1.3670, Train_accuracy: 61.19275825346113, Val Loss: 0.6837, Val_accuracy: 60.87326943556975\n"
     ]
    },
    {
     "name": "stderr",
     "output_type": "stream",
     "text": [
      " 44%|███████████████████████████████████████████████████████████████████████████▋                                                                                                | 22/50 [00:10<00:14,  1.91it/s]"
     ]
    },
    {
     "name": "stdout",
     "output_type": "stream",
     "text": [
      "Epoch [22/50], Train Loss: 1.3647, Train_accuracy: 62.22222222222222, Val Loss: 0.6826, Val_accuracy: 62.06602768903088\n"
     ]
    },
    {
     "name": "stderr",
     "output_type": "stream",
     "text": [
      " 46%|███████████████████████████████████████████████████████████████████████████████                                                                                             | 23/50 [00:11<00:12,  2.16it/s]"
     ]
    },
    {
     "name": "stdout",
     "output_type": "stream",
     "text": [
      "Epoch [23/50], Train Loss: 1.3622, Train_accuracy: 63.23038693645722, Val Loss: 0.6814, Val_accuracy: 62.854100106496276\n"
     ]
    },
    {
     "name": "stderr",
     "output_type": "stream",
     "text": [
      " 48%|██████████████████████████████████████████████████████████████████████████████████▌                                                                                         | 24/50 [00:11<00:13,  1.97it/s]"
     ]
    },
    {
     "name": "stdout",
     "output_type": "stream",
     "text": [
      "Epoch [24/50], Train Loss: 1.3595, Train_accuracy: 64.10365637202698, Val Loss: 0.6801, Val_accuracy: 63.57827476038339\n"
     ]
    },
    {
     "name": "stderr",
     "output_type": "stream",
     "text": [
      " 50%|██████████████████████████████████████████████████████████████████████████████████████                                                                                      | 25/50 [00:12<00:11,  2.21it/s]"
     ]
    },
    {
     "name": "stdout",
     "output_type": "stream",
     "text": [
      "Epoch [25/50], Train Loss: 1.3567, Train_accuracy: 64.78523251686191, Val Loss: 0.6788, Val_accuracy: 64.64323748668797\n",
      "Model saved.\n"
     ]
    },
    {
     "name": "stderr",
     "output_type": "stream",
     "text": [
      " 52%|█████████████████████████████████████████████████████████████████████████████████████████▍                                                                                  | 26/50 [00:12<00:11,  2.00it/s]"
     ]
    },
    {
     "name": "stdout",
     "output_type": "stream",
     "text": [
      "Epoch [26/50], Train Loss: 1.3535, Train_accuracy: 65.20411785587504, Val Loss: 0.6773, Val_accuracy: 64.89882854100107\n",
      "Model saved.\n"
     ]
    },
    {
     "name": "stderr",
     "output_type": "stream",
     "text": [
      " 54%|████████████████████████████████████████████████████████████████████████████████████████████▉                                                                               | 27/50 [00:13<00:10,  2.24it/s]"
     ]
    },
    {
     "name": "stdout",
     "output_type": "stream",
     "text": [
      "Epoch [27/50], Train Loss: 1.3502, Train_accuracy: 65.55200567980121, Val Loss: 0.6757, Val_accuracy: 65.38871139510117\n",
      "Model saved.\n"
     ]
    },
    {
     "name": "stderr",
     "output_type": "stream",
     "text": [
      " 56%|████████████████████████████████████████████████████████████████████████████████████████████████▎                                                                           | 28/50 [00:13<00:10,  2.02it/s]"
     ]
    },
    {
     "name": "stdout",
     "output_type": "stream",
     "text": [
      "Epoch [28/50], Train Loss: 1.3467, Train_accuracy: 65.91409300674476, Val Loss: 0.6740, Val_accuracy: 65.3248136315229\n"
     ]
    },
    {
     "name": "stderr",
     "output_type": "stream",
     "text": [
      " 58%|███████████████████████████████████████████████████████████████████████████████████████████████████▊                                                                        | 29/50 [00:14<00:10,  1.91it/s]"
     ]
    },
    {
     "name": "stdout",
     "output_type": "stream",
     "text": [
      "Epoch [29/50], Train Loss: 1.3429, Train_accuracy: 66.3045793397231, Val Loss: 0.6722, Val_accuracy: 65.23961661341853\n"
     ]
    },
    {
     "name": "stderr",
     "output_type": "stream",
     "text": [
      " 60%|███████████████████████████████████████████████████████████████████████████████████████████████████████▏                                                                    | 30/50 [00:14<00:09,  2.16it/s]"
     ]
    },
    {
     "name": "stdout",
     "output_type": "stream",
     "text": [
      "Epoch [30/50], Train Loss: 1.3390, Train_accuracy: 66.53177138800142, Val Loss: 0.6704, Val_accuracy: 65.28221512247072\n"
     ]
    },
    {
     "name": "stderr",
     "output_type": "stream",
     "text": [
      " 62%|██████████████████████████████████████████████████████████████████████████████████████████████████████████▋                                                                 | 31/50 [00:15<00:09,  1.98it/s]"
     ]
    },
    {
     "name": "stdout",
     "output_type": "stream",
     "text": [
      "Epoch [31/50], Train Loss: 1.3348, Train_accuracy: 66.63826766063188, Val Loss: 0.6684, Val_accuracy: 65.49520766773163\n",
      "Model saved.\n"
     ]
    },
    {
     "name": "stderr",
     "output_type": "stream",
     "text": [
      " 64%|██████████████████████████████████████████████████████████████████████████████████████████████████████████████                                                              | 32/50 [00:15<00:08,  2.22it/s]"
     ]
    },
    {
     "name": "stdout",
     "output_type": "stream",
     "text": [
      "Epoch [32/50], Train Loss: 1.3304, Train_accuracy: 66.66666666666667, Val Loss: 0.6663, Val_accuracy: 65.45260915867945\n"
     ]
    },
    {
     "name": "stderr",
     "output_type": "stream",
     "text": [
      " 66%|█████████████████████████████████████████████████████████████████████████████████████████████████████████████████▌                                                          | 33/50 [00:16<00:08,  2.02it/s]"
     ]
    },
    {
     "name": "stdout",
     "output_type": "stream",
     "text": [
      "Epoch [33/50], Train Loss: 1.3259, Train_accuracy: 66.76606318778843, Val Loss: 0.6641, Val_accuracy: 65.41001064962727\n"
     ]
    },
    {
     "name": "stderr",
     "output_type": "stream",
     "text": [
      " 68%|████████████████████████████████████████████████████████████████████████████████████████████████████████████████████▉                                                       | 34/50 [00:16<00:08,  1.89it/s]"
     ]
    },
    {
     "name": "stdout",
     "output_type": "stream",
     "text": [
      "Epoch [34/50], Train Loss: 1.3211, Train_accuracy: 66.79446219382322, Val Loss: 0.6618, Val_accuracy: 65.66560170394037\n",
      "Model saved.\n"
     ]
    },
    {
     "name": "stderr",
     "output_type": "stream",
     "text": [
      " 70%|████████████████████████████████████████████████████████████████████████████████████████████████████████████████████████▍                                                   | 35/50 [00:17<00:07,  2.13it/s]"
     ]
    },
    {
     "name": "stdout",
     "output_type": "stream",
     "text": [
      "Epoch [35/50], Train Loss: 1.3163, Train_accuracy: 66.8512602058928, Val Loss: 0.6595, Val_accuracy: 65.72949946751864\n",
      "Model saved.\n"
     ]
    },
    {
     "name": "stderr",
     "output_type": "stream",
     "text": [
      " 72%|███████████████████████████████████████████████████████████████████████████████████████████████████████████████████████████▊                                                | 36/50 [00:17<00:07,  1.96it/s]"
     ]
    },
    {
     "name": "stdout",
     "output_type": "stream",
     "text": [
      "Epoch [36/50], Train Loss: 1.3112, Train_accuracy: 66.92935747248846, Val Loss: 0.6571, Val_accuracy: 66.17678381256655\n",
      "Model saved.\n"
     ]
    },
    {
     "name": "stderr",
     "output_type": "stream",
     "text": [
      " 74%|███████████████████████████████████████████████████████████████████████████████████████████████████████████████████████████████▎                                            | 37/50 [00:18<00:05,  2.20it/s]"
     ]
    },
    {
     "name": "stdout",
     "output_type": "stream",
     "text": [
      "Epoch [37/50], Train Loss: 1.3061, Train_accuracy: 67.23464678736244, Val Loss: 0.6547, Val_accuracy: 66.0702875399361\n"
     ]
    },
    {
     "name": "stderr",
     "output_type": "stream",
     "text": [
      " 76%|██████████████████████████████████████████████████████████████████████████████████████████████████████████████████████████████████▋                                         | 38/50 [00:18<00:05,  2.01it/s]"
     ]
    },
    {
     "name": "stdout",
     "output_type": "stream",
     "text": [
      "Epoch [38/50], Train Loss: 1.3008, Train_accuracy: 67.23464678736244, Val Loss: 0.6522, Val_accuracy: 66.00638977635782\n"
     ]
    },
    {
     "name": "stderr",
     "output_type": "stream",
     "text": [
      " 78%|██████████████████████████████████████████████████████████████████████████████████████████████████████████████████████████████████████▏                                     | 39/50 [00:19<00:05,  1.89it/s]"
     ]
    },
    {
     "name": "stdout",
     "output_type": "stream",
     "text": [
      "Epoch [39/50], Train Loss: 1.2954, Train_accuracy: 67.38374156904509, Val Loss: 0.6497, Val_accuracy: 66.11288604898829\n"
     ]
    },
    {
     "name": "stderr",
     "output_type": "stream",
     "text": [
      " 80%|█████████████████████████████████████████████████████████████████████████████████████████████████████████████████████████████████████████▌                                  | 40/50 [00:19<00:04,  2.12it/s]"
     ]
    },
    {
     "name": "stdout",
     "output_type": "stream",
     "text": [
      "Epoch [40/50], Train Loss: 1.2900, Train_accuracy: 67.51153709620164, Val Loss: 0.6471, Val_accuracy: 66.62406815761449\n",
      "Model saved.\n"
     ]
    },
    {
     "name": "stderr",
     "output_type": "stream",
     "text": [
      " 82%|█████████████████████████████████████████████████████████████████████████████████████████████████████████████████████████████████████████████                               | 41/50 [00:20<00:04,  1.96it/s]"
     ]
    },
    {
     "name": "stdout",
     "output_type": "stream",
     "text": [
      "Epoch [41/50], Train Loss: 1.2845, Train_accuracy: 67.6109336173234, Val Loss: 0.6446, Val_accuracy: 66.70926517571885\n",
      "Model saved.\n"
     ]
    },
    {
     "name": "stderr",
     "output_type": "stream",
     "text": [
      " 84%|████████████████████████████████████████████████████████████████████████████████████████████████████████████████████████████████████████████████▍                           | 42/50 [00:20<00:03,  2.20it/s]"
     ]
    },
    {
     "name": "stdout",
     "output_type": "stream",
     "text": [
      "Epoch [42/50], Train Loss: 1.2790, Train_accuracy: 67.66063187788427, Val Loss: 0.6420, Val_accuracy: 66.64536741214057\n"
     ]
    },
    {
     "name": "stderr",
     "output_type": "stream",
     "text": [
      " 86%|███████████████████████████████████████████████████████████████████████████████████████████████████████████████████████████████████████████████████▉                        | 43/50 [00:21<00:03,  2.01it/s]"
     ]
    },
    {
     "name": "stdout",
     "output_type": "stream",
     "text": [
      "Epoch [43/50], Train Loss: 1.2735, Train_accuracy: 67.75292864749734, Val Loss: 0.6394, Val_accuracy: 66.85835995740149\n",
      "Model saved.\n"
     ]
    },
    {
     "name": "stderr",
     "output_type": "stream",
     "text": [
      " 88%|███████████████████████████████████████████████████████████████████████████████████████████████████████████████████████████████████████████████████████▎                    | 44/50 [00:21<00:03,  1.88it/s]"
     ]
    },
    {
     "name": "stdout",
     "output_type": "stream",
     "text": [
      "Epoch [44/50], Train Loss: 1.2679, Train_accuracy: 67.81682641107561, Val Loss: 0.6368, Val_accuracy: 66.87965921192759\n",
      "Model saved.\n"
     ]
    },
    {
     "name": "stderr",
     "output_type": "stream",
     "text": [
      " 90%|██████████████████████████████████████████████████████████████████████████████████████████████████████████████████████████████████████████████████████████▊                 | 45/50 [00:22<00:02,  2.12it/s]"
     ]
    },
    {
     "name": "stdout",
     "output_type": "stream",
     "text": [
      "Epoch [45/50], Train Loss: 1.2624, Train_accuracy: 67.96592119275826, Val Loss: 0.6342, Val_accuracy: 67.02875399361022\n",
      "Model saved.\n"
     ]
    },
    {
     "name": "stderr",
     "output_type": "stream",
     "text": [
      " 92%|██████████████████████████████████████████████████████████████████████████████████████████████████████████████████████████████████████████████████████████████▏             | 46/50 [00:22<00:02,  1.93it/s]"
     ]
    },
    {
     "name": "stdout",
     "output_type": "stream",
     "text": [
      "Epoch [46/50], Train Loss: 1.2569, Train_accuracy: 68.24991125310613, Val Loss: 0.6316, Val_accuracy: 67.28434504792332\n",
      "Model saved.\n"
     ]
    },
    {
     "name": "stderr",
     "output_type": "stream",
     "text": [
      " 94%|█████████████████████████████████████████████████████████████████████████████████████████████████████████████████████████████████████████████████████████████████▋          | 47/50 [00:23<00:01,  2.16it/s]"
     ]
    },
    {
     "name": "stdout",
     "output_type": "stream",
     "text": [
      "Epoch [47/50], Train Loss: 1.2514, Train_accuracy: 68.37770678026268, Val Loss: 0.6290, Val_accuracy: 67.41214057507987\n",
      "Model saved.\n"
     ]
    },
    {
     "name": "stderr",
     "output_type": "stream",
     "text": [
      " 96%|█████████████████████████████████████████████████████████████████████████████████████████████████████████████████████████████████████████████████████████████████████       | 48/50 [00:23<00:01,  1.97it/s]"
     ]
    },
    {
     "name": "stdout",
     "output_type": "stream",
     "text": [
      "Epoch [48/50], Train Loss: 1.2459, Train_accuracy: 68.6119985800497, Val Loss: 0.6265, Val_accuracy: 67.64643237486688\n",
      "Model saved.\n"
     ]
    },
    {
     "name": "stderr",
     "output_type": "stream",
     "text": [
      " 98%|████████████████████████████████████████████████████████████████████████████████████████████████████████████████████████████████████████████████████████████████████████▌   | 49/50 [00:24<00:00,  1.85it/s]"
     ]
    },
    {
     "name": "stdout",
     "output_type": "stream",
     "text": [
      "Epoch [49/50], Train Loss: 1.2405, Train_accuracy: 68.74689385871494, Val Loss: 0.6240, Val_accuracy: 67.77422790202343\n",
      "Model saved.\n"
     ]
    },
    {
     "name": "stderr",
     "output_type": "stream",
     "text": [
      "100%|████████████████████████████████████████████████████████████████████████████████████████████████████████████████████████████████████████████████████████████████████████████| 50/50 [00:24<00:00,  2.03it/s]"
     ]
    },
    {
     "name": "stdout",
     "output_type": "stream",
     "text": [
      "Epoch [50/50], Train Loss: 1.2352, Train_accuracy: 68.83209087681931, Val Loss: 0.6215, Val_accuracy: 68.00851970181044\n",
      "Model saved.\n"
     ]
    },
    {
     "name": "stderr",
     "output_type": "stream",
     "text": [
      "\n"
     ]
    },
    {
     "name": "stdout",
     "output_type": "stream",
     "text": [
      "Test Accucary 68.86712095400341\n",
      "Current sub-neural network has 3 hidden layers.\n",
      "...\n"
     ]
    },
    {
     "name": "stderr",
     "output_type": "stream",
     "text": [
      "  2%|███▍                                                                                                                                                                         | 1/50 [00:00<00:16,  3.05it/s]"
     ]
    },
    {
     "name": "stdout",
     "output_type": "stream",
     "text": [
      "Epoch [1/50], Train Loss: 1.3953, Train_accuracy: 49.82605608803692, Val Loss: 0.6969, Val_accuracy: 50.24494142705005\n",
      "Model saved.\n"
     ]
    },
    {
     "name": "stderr",
     "output_type": "stream",
     "text": [
      "  4%|██████▉                                                                                                                                                                      | 2/50 [00:00<00:23,  2.04it/s]"
     ]
    },
    {
     "name": "stdout",
     "output_type": "stream",
     "text": [
      "Epoch [2/50], Train Loss: 1.3951, Train_accuracy: 49.82605608803692, Val Loss: 0.6967, Val_accuracy: 50.24494142705005\n"
     ]
    },
    {
     "name": "stderr",
     "output_type": "stream",
     "text": [
      "  6%|██████████▍                                                                                                                                                                  | 3/50 [00:01<00:19,  2.41it/s]"
     ]
    },
    {
     "name": "stdout",
     "output_type": "stream",
     "text": [
      "Epoch [3/50], Train Loss: 1.3949, Train_accuracy: 49.82605608803692, Val Loss: 0.6966, Val_accuracy: 50.24494142705005\n"
     ]
    },
    {
     "name": "stderr",
     "output_type": "stream",
     "text": [
      "  8%|█████████████▊                                                                                                                                                               | 4/50 [00:01<00:22,  2.05it/s]"
     ]
    },
    {
     "name": "stdout",
     "output_type": "stream",
     "text": [
      "Epoch [4/50], Train Loss: 1.3946, Train_accuracy: 49.82605608803692, Val Loss: 0.6965, Val_accuracy: 50.24494142705005\n"
     ]
    },
    {
     "name": "stderr",
     "output_type": "stream",
     "text": [
      " 10%|█████████████████▎                                                                                                                                                           | 5/50 [00:02<00:23,  1.88it/s]"
     ]
    },
    {
     "name": "stdout",
     "output_type": "stream",
     "text": [
      "Epoch [5/50], Train Loss: 1.3944, Train_accuracy: 49.82605608803692, Val Loss: 0.6964, Val_accuracy: 50.24494142705005\n"
     ]
    },
    {
     "name": "stderr",
     "output_type": "stream",
     "text": [
      " 12%|████████████████████▊                                                                                                                                                        | 6/50 [00:02<00:20,  2.17it/s]"
     ]
    },
    {
     "name": "stdout",
     "output_type": "stream",
     "text": [
      "Epoch [6/50], Train Loss: 1.3941, Train_accuracy: 49.82605608803692, Val Loss: 0.6963, Val_accuracy: 50.24494142705005\n"
     ]
    },
    {
     "name": "stderr",
     "output_type": "stream",
     "text": [
      " 14%|████████████████████████▏                                                                                                                                                    | 7/50 [00:03<00:21,  1.97it/s]"
     ]
    },
    {
     "name": "stdout",
     "output_type": "stream",
     "text": [
      "Epoch [7/50], Train Loss: 1.3938, Train_accuracy: 49.82605608803692, Val Loss: 0.6962, Val_accuracy: 50.24494142705005\n"
     ]
    },
    {
     "name": "stderr",
     "output_type": "stream",
     "text": [
      " 16%|███████████████████████████▋                                                                                                                                                 | 8/50 [00:03<00:18,  2.22it/s]"
     ]
    },
    {
     "name": "stdout",
     "output_type": "stream",
     "text": [
      "Epoch [8/50], Train Loss: 1.3936, Train_accuracy: 49.82605608803692, Val Loss: 0.6961, Val_accuracy: 50.24494142705005\n"
     ]
    },
    {
     "name": "stderr",
     "output_type": "stream",
     "text": [
      " 18%|███████████████████████████████▏                                                                                                                                             | 9/50 [00:04<00:20,  2.01it/s]"
     ]
    },
    {
     "name": "stdout",
     "output_type": "stream",
     "text": [
      "Epoch [9/50], Train Loss: 1.3933, Train_accuracy: 49.82605608803692, Val Loss: 0.6959, Val_accuracy: 50.24494142705005\n"
     ]
    },
    {
     "name": "stderr",
     "output_type": "stream",
     "text": [
      " 20%|██████████████████████████████████▍                                                                                                                                         | 10/50 [00:04<00:21,  1.88it/s]"
     ]
    },
    {
     "name": "stdout",
     "output_type": "stream",
     "text": [
      "Epoch [10/50], Train Loss: 1.3930, Train_accuracy: 49.82605608803692, Val Loss: 0.6958, Val_accuracy: 50.24494142705005\n"
     ]
    },
    {
     "name": "stderr",
     "output_type": "stream",
     "text": [
      " 22%|█████████████████████████████████████▊                                                                                                                                      | 11/50 [00:05<00:18,  2.13it/s]"
     ]
    },
    {
     "name": "stdout",
     "output_type": "stream",
     "text": [
      "Epoch [11/50], Train Loss: 1.3927, Train_accuracy: 49.82605608803692, Val Loss: 0.6957, Val_accuracy: 50.24494142705005\n"
     ]
    },
    {
     "name": "stderr",
     "output_type": "stream",
     "text": [
      " 24%|█████████████████████████████████████████▎                                                                                                                                  | 12/50 [00:05<00:19,  1.96it/s]"
     ]
    },
    {
     "name": "stdout",
     "output_type": "stream",
     "text": [
      "Epoch [12/50], Train Loss: 1.3924, Train_accuracy: 49.82605608803692, Val Loss: 0.6955, Val_accuracy: 50.24494142705005\n"
     ]
    },
    {
     "name": "stderr",
     "output_type": "stream",
     "text": [
      " 26%|████████████████████████████████████████████▋                                                                                                                               | 13/50 [00:06<00:16,  2.20it/s]"
     ]
    },
    {
     "name": "stdout",
     "output_type": "stream",
     "text": [
      "Epoch [13/50], Train Loss: 1.3920, Train_accuracy: 49.82605608803692, Val Loss: 0.6954, Val_accuracy: 50.24494142705005\n"
     ]
    },
    {
     "name": "stderr",
     "output_type": "stream",
     "text": [
      " 28%|████████████████████████████████████████████████▏                                                                                                                           | 14/50 [00:06<00:18,  2.00it/s]"
     ]
    },
    {
     "name": "stdout",
     "output_type": "stream",
     "text": [
      "Epoch [14/50], Train Loss: 1.3917, Train_accuracy: 49.82605608803692, Val Loss: 0.6952, Val_accuracy: 50.24494142705005\n"
     ]
    },
    {
     "name": "stderr",
     "output_type": "stream",
     "text": [
      " 30%|███████████████████████████████████████████████████▌                                                                                                                        | 15/50 [00:07<00:15,  2.24it/s]"
     ]
    },
    {
     "name": "stdout",
     "output_type": "stream",
     "text": [
      "Epoch [15/50], Train Loss: 1.3913, Train_accuracy: 49.82605608803692, Val Loss: 0.6951, Val_accuracy: 50.24494142705005\n"
     ]
    },
    {
     "name": "stderr",
     "output_type": "stream",
     "text": [
      " 32%|███████████████████████████████████████████████████████                                                                                                                     | 16/50 [00:07<00:16,  2.02it/s]"
     ]
    },
    {
     "name": "stdout",
     "output_type": "stream",
     "text": [
      "Epoch [16/50], Train Loss: 1.3909, Train_accuracy: 49.82605608803692, Val Loss: 0.6949, Val_accuracy: 50.24494142705005\n"
     ]
    },
    {
     "name": "stderr",
     "output_type": "stream",
     "text": [
      " 34%|██████████████████████████████████████████████████████████▍                                                                                                                 | 17/50 [00:08<00:17,  1.90it/s]"
     ]
    },
    {
     "name": "stdout",
     "output_type": "stream",
     "text": [
      "Epoch [17/50], Train Loss: 1.3905, Train_accuracy: 49.82605608803692, Val Loss: 0.6947, Val_accuracy: 50.24494142705005\n"
     ]
    },
    {
     "name": "stderr",
     "output_type": "stream",
     "text": [
      " 36%|█████████████████████████████████████████████████████████████▉                                                                                                              | 18/50 [00:08<00:14,  2.14it/s]"
     ]
    },
    {
     "name": "stdout",
     "output_type": "stream",
     "text": [
      "Epoch [18/50], Train Loss: 1.3901, Train_accuracy: 49.82605608803692, Val Loss: 0.6945, Val_accuracy: 50.24494142705005\n"
     ]
    },
    {
     "name": "stderr",
     "output_type": "stream",
     "text": [
      " 38%|█████████████████████████████████████████████████████████████████▎                                                                                                          | 19/50 [00:09<00:15,  1.97it/s]"
     ]
    },
    {
     "name": "stdout",
     "output_type": "stream",
     "text": [
      "Epoch [19/50], Train Loss: 1.3896, Train_accuracy: 49.82605608803692, Val Loss: 0.6943, Val_accuracy: 50.24494142705005\n"
     ]
    },
    {
     "name": "stderr",
     "output_type": "stream",
     "text": [
      " 40%|████████████████████████████████████████████████████████████████████▊                                                                                                       | 20/50 [00:09<00:13,  2.21it/s]"
     ]
    },
    {
     "name": "stdout",
     "output_type": "stream",
     "text": [
      "Epoch [20/50], Train Loss: 1.3892, Train_accuracy: 49.82605608803692, Val Loss: 0.6941, Val_accuracy: 50.24494142705005\n"
     ]
    },
    {
     "name": "stderr",
     "output_type": "stream",
     "text": [
      " 42%|████████████████████████████████████████████████████████████████████████▏                                                                                                   | 21/50 [00:10<00:14,  2.01it/s]"
     ]
    },
    {
     "name": "stdout",
     "output_type": "stream",
     "text": [
      "Epoch [21/50], Train Loss: 1.3887, Train_accuracy: 49.82605608803692, Val Loss: 0.6939, Val_accuracy: 50.24494142705005\n"
     ]
    },
    {
     "name": "stderr",
     "output_type": "stream",
     "text": [
      " 44%|███████████████████████████████████████████████████████████████████████████▋                                                                                                | 22/50 [00:10<00:12,  2.24it/s]"
     ]
    },
    {
     "name": "stdout",
     "output_type": "stream",
     "text": [
      "Epoch [22/50], Train Loss: 1.3881, Train_accuracy: 49.82605608803692, Val Loss: 0.6937, Val_accuracy: 50.24494142705005\n"
     ]
    },
    {
     "name": "stderr",
     "output_type": "stream",
     "text": [
      " 46%|███████████████████████████████████████████████████████████████████████████████                                                                                             | 23/50 [00:11<00:13,  2.03it/s]"
     ]
    },
    {
     "name": "stdout",
     "output_type": "stream",
     "text": [
      "Epoch [23/50], Train Loss: 1.3876, Train_accuracy: 49.82605608803692, Val Loss: 0.6934, Val_accuracy: 50.24494142705005\n"
     ]
    },
    {
     "name": "stderr",
     "output_type": "stream",
     "text": [
      " 48%|██████████████████████████████████████████████████████████████████████████████████▌                                                                                         | 24/50 [00:11<00:13,  1.90it/s]"
     ]
    },
    {
     "name": "stdout",
     "output_type": "stream",
     "text": [
      "Epoch [24/50], Train Loss: 1.3870, Train_accuracy: 49.82605608803692, Val Loss: 0.6932, Val_accuracy: 50.24494142705005\n"
     ]
    },
    {
     "name": "stderr",
     "output_type": "stream",
     "text": [
      " 50%|██████████████████████████████████████████████████████████████████████████████████████                                                                                      | 25/50 [00:12<00:11,  2.14it/s]"
     ]
    },
    {
     "name": "stdout",
     "output_type": "stream",
     "text": [
      "Epoch [25/50], Train Loss: 1.3864, Train_accuracy: 49.82605608803692, Val Loss: 0.6929, Val_accuracy: 50.24494142705005\n"
     ]
    },
    {
     "name": "stderr",
     "output_type": "stream",
     "text": [
      " 52%|█████████████████████████████████████████████████████████████████████████████████████████▍                                                                                  | 26/50 [00:12<00:12,  1.97it/s]"
     ]
    },
    {
     "name": "stdout",
     "output_type": "stream",
     "text": [
      "Epoch [26/50], Train Loss: 1.3858, Train_accuracy: 49.82605608803692, Val Loss: 0.6927, Val_accuracy: 50.24494142705005\n"
     ]
    },
    {
     "name": "stderr",
     "output_type": "stream",
     "text": [
      " 54%|████████████████████████████████████████████████████████████████████████████████████████████▉                                                                               | 27/50 [00:12<00:10,  2.22it/s]"
     ]
    },
    {
     "name": "stdout",
     "output_type": "stream",
     "text": [
      "Epoch [27/50], Train Loss: 1.3852, Train_accuracy: 49.82605608803692, Val Loss: 0.6924, Val_accuracy: 50.24494142705005\n"
     ]
    },
    {
     "name": "stderr",
     "output_type": "stream",
     "text": [
      " 56%|████████████████████████████████████████████████████████████████████████████████████████████████▎                                                                           | 28/50 [00:13<00:11,  1.99it/s]"
     ]
    },
    {
     "name": "stdout",
     "output_type": "stream",
     "text": [
      "Epoch [28/50], Train Loss: 1.3845, Train_accuracy: 49.82605608803692, Val Loss: 0.6921, Val_accuracy: 50.24494142705005\n"
     ]
    },
    {
     "name": "stderr",
     "output_type": "stream",
     "text": [
      " 58%|███████████████████████████████████████████████████████████████████████████████████████████████████▊                                                                        | 29/50 [00:13<00:09,  2.23it/s]"
     ]
    },
    {
     "name": "stdout",
     "output_type": "stream",
     "text": [
      "Epoch [29/50], Train Loss: 1.3837, Train_accuracy: 49.840255591054316, Val Loss: 0.6917, Val_accuracy: 50.24494142705005\n"
     ]
    },
    {
     "name": "stderr",
     "output_type": "stream",
     "text": [
      " 60%|███████████████████████████████████████████████████████████████████████████████████████████████████████▏                                                                    | 30/50 [00:14<00:09,  2.01it/s]"
     ]
    },
    {
     "name": "stdout",
     "output_type": "stream",
     "text": [
      "Epoch [30/50], Train Loss: 1.3829, Train_accuracy: 50.09584664536741, Val Loss: 0.6914, Val_accuracy: 50.45793397231097\n",
      "Model saved.\n"
     ]
    },
    {
     "name": "stderr",
     "output_type": "stream",
     "text": [
      " 62%|██████████████████████████████████████████████████████████████████████████████████████████████████████████▋                                                                 | 31/50 [00:15<00:10,  1.87it/s]"
     ]
    },
    {
     "name": "stdout",
     "output_type": "stream",
     "text": [
      "Epoch [31/50], Train Loss: 1.3821, Train_accuracy: 51.061412850550234, Val Loss: 0.6910, Val_accuracy: 51.757188498402556\n",
      "Model saved.\n"
     ]
    },
    {
     "name": "stderr",
     "output_type": "stream",
     "text": [
      " 64%|██████████████████████████████████████████████████████████████████████████████████████████████████████████████                                                              | 32/50 [00:15<00:08,  2.11it/s]"
     ]
    },
    {
     "name": "stdout",
     "output_type": "stream",
     "text": [
      "Epoch [32/50], Train Loss: 1.3811, Train_accuracy: 53.76641817536386, Val Loss: 0.6906, Val_accuracy: 54.419595314164006\n",
      "Model saved.\n"
     ]
    },
    {
     "name": "stderr",
     "output_type": "stream",
     "text": [
      " 66%|█████████████████████████████████████████████████████████████████████████████████████████████████████████████████▌                                                          | 33/50 [00:16<00:08,  1.94it/s]"
     ]
    },
    {
     "name": "stdout",
     "output_type": "stream",
     "text": [
      "Epoch [33/50], Train Loss: 1.3801, Train_accuracy: 56.99680511182109, Val Loss: 0.6901, Val_accuracy: 57.44408945686901\n",
      "Model saved.\n"
     ]
    },
    {
     "name": "stderr",
     "output_type": "stream",
     "text": [
      " 68%|████████████████████████████████████████████████████████████████████████████████████████████████████████████████████▉                                                       | 34/50 [00:16<00:07,  2.17it/s]"
     ]
    },
    {
     "name": "stdout",
     "output_type": "stream",
     "text": [
      "Epoch [34/50], Train Loss: 1.3790, Train_accuracy: 59.37522186723465, Val Loss: 0.6896, Val_accuracy: 59.85090521831736\n",
      "Model saved.\n"
     ]
    },
    {
     "name": "stderr",
     "output_type": "stream",
     "text": [
      " 70%|████████████████████████████████████████████████████████████████████████████████████████████████████████████████████████▍                                                   | 35/50 [00:17<00:07,  1.97it/s]"
     ]
    },
    {
     "name": "stdout",
     "output_type": "stream",
     "text": [
      "Epoch [35/50], Train Loss: 1.3778, Train_accuracy: 61.462548810791624, Val Loss: 0.6891, Val_accuracy: 61.277955271565496\n",
      "Model saved.\n"
     ]
    },
    {
     "name": "stderr",
     "output_type": "stream",
     "text": [
      " 72%|███████████████████████████████████████████████████████████████████████████████████████████████████████████████████████████▊                                                | 36/50 [00:17<00:06,  2.20it/s]"
     ]
    },
    {
     "name": "stdout",
     "output_type": "stream",
     "text": [
      "Epoch [36/50], Train Loss: 1.3765, Train_accuracy: 62.09442669506567, Val Loss: 0.6884, Val_accuracy: 61.78913738019169\n",
      "Model saved.\n"
     ]
    },
    {
     "name": "stderr",
     "output_type": "stream",
     "text": [
      " 74%|███████████████████████████████████████████████████████████████████████████████████████████████████████████████████████████████▎                                            | 37/50 [00:17<00:06,  2.00it/s]"
     ]
    },
    {
     "name": "stdout",
     "output_type": "stream",
     "text": [
      "Epoch [37/50], Train Loss: 1.3751, Train_accuracy: 62.705005324813634, Val Loss: 0.6878, Val_accuracy: 62.25772097976571\n",
      "Model saved.\n"
     ]
    },
    {
     "name": "stderr",
     "output_type": "stream",
     "text": [
      " 76%|██████████████████████████████████████████████████████████████████████████████████████████████████████████████████████████████████▋                                         | 38/50 [00:18<00:06,  1.87it/s]"
     ]
    },
    {
     "name": "stdout",
     "output_type": "stream",
     "text": [
      "Epoch [38/50], Train Loss: 1.3735, Train_accuracy: 63.123890663826764, Val Loss: 0.6870, Val_accuracy: 62.66240681576145\n",
      "Model saved.\n"
     ]
    },
    {
     "name": "stderr",
     "output_type": "stream",
     "text": [
      " 78%|██████████████████████████████████████████████████████████████████████████████████████████████████████████████████████████████████████▏                                     | 39/50 [00:18<00:05,  2.11it/s]"
     ]
    },
    {
     "name": "stdout",
     "output_type": "stream",
     "text": [
      "Epoch [39/50], Train Loss: 1.3718, Train_accuracy: 63.62797302094427, Val Loss: 0.6862, Val_accuracy: 63.2800851970181\n",
      "Model saved.\n"
     ]
    },
    {
     "name": "stderr",
     "output_type": "stream",
     "text": [
      " 80%|█████████████████████████████████████████████████████████████████████████████████████████████████████████████████████████████████████████▌                                  | 40/50 [00:19<00:05,  1.93it/s]"
     ]
    },
    {
     "name": "stdout",
     "output_type": "stream",
     "text": [
      "Epoch [40/50], Train Loss: 1.3700, Train_accuracy: 63.762868299609515, Val Loss: 0.6853, Val_accuracy: 63.47177848775293\n",
      "Model saved.\n"
     ]
    },
    {
     "name": "stderr",
     "output_type": "stream",
     "text": [
      " 82%|█████████████████████████████████████████████████████████████████████████████████████████████████████████████████████████████████████████████                               | 41/50 [00:19<00:04,  2.16it/s]"
     ]
    },
    {
     "name": "stdout",
     "output_type": "stream",
     "text": [
      "Epoch [41/50], Train Loss: 1.3680, Train_accuracy: 63.997160099396524, Val Loss: 0.6844, Val_accuracy: 63.57827476038339\n",
      "Model saved.\n"
     ]
    },
    {
     "name": "stderr",
     "output_type": "stream",
     "text": [
      " 84%|████████████████████████████████████████████████████████████████████████████████████████████████████████████████████████████████████████████████▍                           | 42/50 [00:20<00:04,  1.97it/s]"
     ]
    },
    {
     "name": "stdout",
     "output_type": "stream",
     "text": [
      "Epoch [42/50], Train Loss: 1.3659, Train_accuracy: 64.13205537806176, Val Loss: 0.6834, Val_accuracy: 63.684771033013845\n",
      "Model saved.\n"
     ]
    },
    {
     "name": "stderr",
     "output_type": "stream",
     "text": [
      " 86%|███████████████████████████████████████████████████████████████████████████████████████████████████████████████████████████████████████████████████▉                        | 43/50 [00:20<00:03,  2.20it/s]"
     ]
    },
    {
     "name": "stdout",
     "output_type": "stream",
     "text": [
      "Epoch [43/50], Train Loss: 1.3636, Train_accuracy: 64.23855165069223, Val Loss: 0.6823, Val_accuracy: 63.98296059637913\n",
      "Model saved.\n"
     ]
    },
    {
     "name": "stderr",
     "output_type": "stream",
     "text": [
      " 88%|███████████████████████████████████████████████████████████████████████████████████████████████████████████████████████████████████████████████████████▎                    | 44/50 [00:21<00:03,  2.00it/s]"
     ]
    },
    {
     "name": "stdout",
     "output_type": "stream",
     "text": [
      "Epoch [44/50], Train Loss: 1.3612, Train_accuracy: 64.43734469293575, Val Loss: 0.6811, Val_accuracy: 64.11075612353568\n",
      "Model saved.\n"
     ]
    },
    {
     "name": "stderr",
     "output_type": "stream",
     "text": [
      " 90%|██████████████████████████████████████████████████████████████████████████████████████████████████████████████████████████████████████████████████████████▊                 | 45/50 [00:22<00:02,  1.88it/s]"
     ]
    },
    {
     "name": "stdout",
     "output_type": "stream",
     "text": [
      "Epoch [45/50], Train Loss: 1.3586, Train_accuracy: 64.61483848065318, Val Loss: 0.6798, Val_accuracy: 64.19595314164005\n",
      "Model saved.\n"
     ]
    },
    {
     "name": "stderr",
     "output_type": "stream",
     "text": [
      " 92%|██████████████████████████████████████████████████████████████████████████████████████████████████████████████████████████████████████████████████████████████▏             | 46/50 [00:22<00:01,  2.11it/s]"
     ]
    },
    {
     "name": "stdout",
     "output_type": "stream",
     "text": [
      "Epoch [46/50], Train Loss: 1.3558, Train_accuracy: 64.84913028044018, Val Loss: 0.6785, Val_accuracy: 64.28115015974441\n",
      "Model saved.\n"
     ]
    },
    {
     "name": "stderr",
     "output_type": "stream",
     "text": [
      " 94%|█████████████████████████████████████████████████████████████████████████████████████████████████████████████████████████████████████████████████████████████████▋          | 47/50 [00:22<00:01,  1.94it/s]"
     ]
    },
    {
     "name": "stdout",
     "output_type": "stream",
     "text": [
      "Epoch [47/50], Train Loss: 1.3529, Train_accuracy: 64.96272630457933, Val Loss: 0.6771, Val_accuracy: 64.38764643237486\n",
      "Model saved.\n"
     ]
    },
    {
     "name": "stderr",
     "output_type": "stream",
     "text": [
      " 96%|█████████████████████████████████████████████████████████████████████████████████████████████████████████████████████████████████████████████████████████████████████       | 48/50 [00:23<00:00,  2.17it/s]"
     ]
    },
    {
     "name": "stdout",
     "output_type": "stream",
     "text": [
      "Epoch [48/50], Train Loss: 1.3498, Train_accuracy: 65.10472133475328, Val Loss: 0.6756, Val_accuracy: 64.40894568690096\n",
      "Model saved.\n"
     ]
    },
    {
     "name": "stderr",
     "output_type": "stream",
     "text": [
      " 98%|████████████████████████████████████████████████████████████████████████████████████████████████████████████████████████████████████████████████████████████████████████▌   | 49/50 [00:23<00:00,  1.97it/s]"
     ]
    },
    {
     "name": "stdout",
     "output_type": "stream",
     "text": [
      "Epoch [49/50], Train Loss: 1.3465, Train_accuracy: 65.16861909833156, Val Loss: 0.6740, Val_accuracy: 64.53674121405751\n",
      "Model saved.\n"
     ]
    },
    {
     "name": "stderr",
     "output_type": "stream",
     "text": [
      "100%|████████████████████████████████████████████████████████████████████████████████████████████████████████████████████████████████████████████████████████████████████████████| 50/50 [00:24<00:00,  2.06it/s]"
     ]
    },
    {
     "name": "stdout",
     "output_type": "stream",
     "text": [
      "Epoch [50/50], Train Loss: 1.3431, Train_accuracy: 65.36741214057508, Val Loss: 0.6724, Val_accuracy: 64.64323748668797\n",
      "Model saved.\n"
     ]
    },
    {
     "name": "stderr",
     "output_type": "stream",
     "text": [
      "\n"
     ]
    },
    {
     "name": "stdout",
     "output_type": "stream",
     "text": [
      "Test Accucary 65.63032367972743\n",
      "tranining_fully_connected_layers:\n",
      "Current sub-neural network has 1 hidden layers.\n",
      "...\n"
     ]
    },
    {
     "name": "stderr",
     "output_type": "stream",
     "text": [
      "  2%|███▍                                                                                                                                                                         | 1/50 [00:00<00:15,  3.18it/s]"
     ]
    },
    {
     "name": "stdout",
     "output_type": "stream",
     "text": [
      "Epoch [1/50], Train Loss: 2.0660, Train_accuracy: 49.889953851615196, Val Loss: 1.0256, Val_accuracy: 50.3727369542066\n",
      "Model saved.\n"
     ]
    },
    {
     "name": "stderr",
     "output_type": "stream",
     "text": [
      "  4%|██████▉                                                                                                                                                                      | 2/50 [00:00<00:22,  2.09it/s]"
     ]
    },
    {
     "name": "stdout",
     "output_type": "stream",
     "text": [
      "Epoch [2/50], Train Loss: 1.5354, Train_accuracy: 52.36776712815051, Val Loss: 0.7820, Val_accuracy: 51.246006389776355\n",
      "Model saved.\n"
     ]
    },
    {
     "name": "stderr",
     "output_type": "stream",
     "text": [
      "  6%|██████████▍                                                                                                                                                                  | 3/50 [00:01<00:25,  1.88it/s]"
     ]
    },
    {
     "name": "stdout",
     "output_type": "stream",
     "text": [
      "Epoch [3/50], Train Loss: 1.2679, Train_accuracy: 62.63400780972666, Val Loss: 0.6443, Val_accuracy: 61.83173588924387\n",
      "Model saved.\n"
     ]
    },
    {
     "name": "stderr",
     "output_type": "stream",
     "text": [
      "  8%|█████████████▊                                                                                                                                                               | 4/50 [00:01<00:20,  2.23it/s]"
     ]
    },
    {
     "name": "stdout",
     "output_type": "stream",
     "text": [
      "Epoch [4/50], Train Loss: 1.3777, Train_accuracy: 57.557685481008164, Val Loss: 0.6887, Val_accuracy: 56.954206602768906\n"
     ]
    },
    {
     "name": "stderr",
     "output_type": "stream",
     "text": [
      " 10%|█████████████████▎                                                                                                                                                           | 5/50 [00:02<00:22,  1.99it/s]"
     ]
    },
    {
     "name": "stdout",
     "output_type": "stream",
     "text": [
      "Epoch [5/50], Train Loss: 1.2784, Train_accuracy: 62.570110046148386, Val Loss: 0.6411, Val_accuracy: 62.04472843450479\n",
      "Model saved.\n"
     ]
    },
    {
     "name": "stderr",
     "output_type": "stream",
     "text": [
      " 12%|████████████████████▊                                                                                                                                                        | 6/50 [00:02<00:19,  2.26it/s]"
     ]
    },
    {
     "name": "stdout",
     "output_type": "stream",
     "text": [
      "Epoch [6/50], Train Loss: 1.2073, Train_accuracy: 67.88782392616258, Val Loss: 0.6130, Val_accuracy: 66.0702875399361\n",
      "Model saved.\n"
     ]
    },
    {
     "name": "stderr",
     "output_type": "stream",
     "text": [
      " 14%|████████████████████████▏                                                                                                                                                    | 7/50 [00:03<00:21,  2.01it/s]"
     ]
    },
    {
     "name": "stdout",
     "output_type": "stream",
     "text": [
      "Epoch [7/50], Train Loss: 1.2805, Train_accuracy: 60.660276890308836, Val Loss: 0.6523, Val_accuracy: 59.61661341853035\n"
     ]
    },
    {
     "name": "stderr",
     "output_type": "stream",
     "text": [
      " 16%|███████████████████████████▋                                                                                                                                                 | 8/50 [00:03<00:18,  2.26it/s]"
     ]
    },
    {
     "name": "stdout",
     "output_type": "stream",
     "text": [
      "Epoch [8/50], Train Loss: 1.1756, Train_accuracy: 70.90521831735889, Val Loss: 0.5964, Val_accuracy: 69.41427050053248\n",
      "Model saved.\n"
     ]
    },
    {
     "name": "stderr",
     "output_type": "stream",
     "text": [
      " 18%|███████████████████████████████▏                                                                                                                                             | 9/50 [00:04<00:20,  2.04it/s]"
     ]
    },
    {
     "name": "stdout",
     "output_type": "stream",
     "text": [
      "Epoch [9/50], Train Loss: 1.1967, Train_accuracy: 68.3493077742279, Val Loss: 0.6029, Val_accuracy: 67.92332268370608\n"
     ]
    },
    {
     "name": "stderr",
     "output_type": "stream",
     "text": [
      " 20%|██████████████████████████████████▍                                                                                                                                         | 10/50 [00:04<00:21,  1.90it/s]"
     ]
    },
    {
     "name": "stdout",
     "output_type": "stream",
     "text": [
      "Epoch [10/50], Train Loss: 1.2017, Train_accuracy: 67.53283635072772, Val Loss: 0.6052, Val_accuracy: 67.13525026624067\n"
     ]
    },
    {
     "name": "stderr",
     "output_type": "stream",
     "text": [
      " 22%|█████████████████████████████████████▊                                                                                                                                      | 11/50 [00:05<00:18,  2.15it/s]"
     ]
    },
    {
     "name": "stdout",
     "output_type": "stream",
     "text": [
      "Epoch [11/50], Train Loss: 1.1446, Train_accuracy: 72.1334753283635, Val Loss: 0.5801, Val_accuracy: 71.92758253461129\n",
      "Model saved.\n"
     ]
    },
    {
     "name": "stderr",
     "output_type": "stream",
     "text": [
      " 24%|█████████████████████████████████████████▎                                                                                                                                  | 12/50 [00:05<00:19,  1.96it/s]"
     ]
    },
    {
     "name": "stdout",
     "output_type": "stream",
     "text": [
      "Epoch [12/50], Train Loss: 1.1616, Train_accuracy: 69.93255236066737, Val Loss: 0.5922, Val_accuracy: 68.47710330138445\n"
     ]
    },
    {
     "name": "stderr",
     "output_type": "stream",
     "text": [
      " 26%|████████████████████████████████████████████▋                                                                                                                               | 13/50 [00:06<00:16,  2.20it/s]"
     ]
    },
    {
     "name": "stdout",
     "output_type": "stream",
     "text": [
      "Epoch [13/50], Train Loss: 1.1447, Train_accuracy: 71.1182108626198, Val Loss: 0.5840, Val_accuracy: 70.07454739084132\n"
     ]
    },
    {
     "name": "stderr",
     "output_type": "stream",
     "text": [
      " 28%|████████████████████████████████████████████████▏                                                                                                                           | 14/50 [00:06<00:18,  2.00it/s]"
     ]
    },
    {
     "name": "stdout",
     "output_type": "stream",
     "text": [
      "Epoch [14/50], Train Loss: 1.1151, Train_accuracy: 72.9215477458289, Val Loss: 0.5666, Val_accuracy: 72.43876464323749\n",
      "Model saved.\n"
     ]
    },
    {
     "name": "stderr",
     "output_type": "stream",
     "text": [
      " 30%|███████████████████████████████████████████████████▌                                                                                                                        | 15/50 [00:07<00:18,  1.89it/s]"
     ]
    },
    {
     "name": "stdout",
     "output_type": "stream",
     "text": [
      "Epoch [15/50], Train Loss: 1.1240, Train_accuracy: 71.8991835285765, Val Loss: 0.5697, Val_accuracy: 71.05431309904154\n"
     ]
    },
    {
     "name": "stderr",
     "output_type": "stream",
     "text": [
      " 32%|███████████████████████████████████████████████████████                                                                                                                     | 16/50 [00:07<00:15,  2.13it/s]"
     ]
    },
    {
     "name": "stdout",
     "output_type": "stream",
     "text": [
      "Epoch [16/50], Train Loss: 1.0939, Train_accuracy: 73.46822861199858, Val Loss: 0.5571, Val_accuracy: 72.73695420660277\n",
      "Model saved.\n"
     ]
    },
    {
     "name": "stderr",
     "output_type": "stream",
     "text": [
      " 34%|██████████████████████████████████████████████████████████▍                                                                                                                 | 17/50 [00:08<00:16,  1.96it/s]"
     ]
    },
    {
     "name": "stdout",
     "output_type": "stream",
     "text": [
      "Epoch [17/50], Train Loss: 1.0944, Train_accuracy: 73.49662761803337, Val Loss: 0.5611, Val_accuracy: 71.97018104366347\n"
     ]
    },
    {
     "name": "stderr",
     "output_type": "stream",
     "text": [
      " 36%|█████████████████████████████████████████████████████████████▉                                                                                                              | 18/50 [00:08<00:14,  2.20it/s]"
     ]
    },
    {
     "name": "stdout",
     "output_type": "stream",
     "text": [
      "Epoch [18/50], Train Loss: 1.0769, Train_accuracy: 74.1711040113596, Val Loss: 0.5522, Val_accuracy: 72.71565495207668\n"
     ]
    },
    {
     "name": "stderr",
     "output_type": "stream",
     "text": [
      " 38%|█████████████████████████████████████████████████████████████████▎                                                                                                          | 19/50 [00:09<00:15,  2.01it/s]"
     ]
    },
    {
     "name": "stdout",
     "output_type": "stream",
     "text": [
      "Epoch [19/50], Train Loss: 1.0700, Train_accuracy: 73.9226127085552, Val Loss: 0.5465, Val_accuracy: 72.86474973375933\n",
      "Model saved.\n"
     ]
    },
    {
     "name": "stderr",
     "output_type": "stream",
     "text": [
      " 40%|████████████████████████████████████████████████████████████████████▊                                                                                                       | 20/50 [00:09<00:15,  1.88it/s]"
     ]
    },
    {
     "name": "stdout",
     "output_type": "stream",
     "text": [
      "Epoch [20/50], Train Loss: 1.0584, Train_accuracy: 74.32729854455094, Val Loss: 0.5418, Val_accuracy: 73.20553780617678\n",
      "Model saved.\n"
     ]
    },
    {
     "name": "stderr",
     "output_type": "stream",
     "text": [
      " 42%|████████████████████████████████████████████████████████████████████████▏                                                                                                   | 21/50 [00:10<00:13,  2.12it/s]"
     ]
    },
    {
     "name": "stdout",
     "output_type": "stream",
     "text": [
      "Epoch [21/50], Train Loss: 1.0518, Train_accuracy: 75.14376996805112, Val Loss: 0.5421, Val_accuracy: 73.75931842385516\n",
      "Model saved.\n"
     ]
    },
    {
     "name": "stderr",
     "output_type": "stream",
     "text": [
      " 44%|███████████████████████████████████████████████████████████████████████████▋                                                                                                | 22/50 [00:10<00:14,  1.94it/s]"
     ]
    },
    {
     "name": "stdout",
     "output_type": "stream",
     "text": [
      "Epoch [22/50], Train Loss: 1.0395, Train_accuracy: 75.48455804046858, Val Loss: 0.5360, Val_accuracy: 74.20660276890308\n",
      "Model saved.\n"
     ]
    },
    {
     "name": "stderr",
     "output_type": "stream",
     "text": [
      " 46%|███████████████████████████████████████████████████████████████████████████████                                                                                             | 23/50 [00:11<00:12,  2.18it/s]"
     ]
    },
    {
     "name": "stdout",
     "output_type": "stream",
     "text": [
      "Epoch [23/50], Train Loss: 1.0350, Train_accuracy: 75.39226127085551, Val Loss: 0.5322, Val_accuracy: 73.6954206602769\n"
     ]
    },
    {
     "name": "stderr",
     "output_type": "stream",
     "text": [
      " 48%|██████████████████████████████████████████████████████████████████████████████████▌                                                                                         | 24/50 [00:11<00:13,  1.99it/s]"
     ]
    },
    {
     "name": "stdout",
     "output_type": "stream",
     "text": [
      "Epoch [24/50], Train Loss: 1.0221, Train_accuracy: 75.89634362797302, Val Loss: 0.5280, Val_accuracy: 74.54739084132055\n",
      "Model saved.\n"
     ]
    },
    {
     "name": "stderr",
     "output_type": "stream",
     "text": [
      " 50%|██████████████████████████████████████████████████████████████████████████████████████                                                                                      | 25/50 [00:12<00:13,  1.87it/s]"
     ]
    },
    {
     "name": "stdout",
     "output_type": "stream",
     "text": [
      "Epoch [25/50], Train Loss: 1.0188, Train_accuracy: 76.12353567625134, Val Loss: 0.5284, Val_accuracy: 74.6964856230032\n",
      "Model saved.\n"
     ]
    },
    {
     "name": "stderr",
     "output_type": "stream",
     "text": [
      " 52%|█████████████████████████████████████████████████████████████████████████████████████████▍                                                                                  | 26/50 [00:12<00:11,  2.12it/s]"
     ]
    },
    {
     "name": "stdout",
     "output_type": "stream",
     "text": [
      "Epoch [26/50], Train Loss: 1.0082, Train_accuracy: 76.27263045793397, Val Loss: 0.5220, Val_accuracy: 74.65388711395101\n"
     ]
    },
    {
     "name": "stderr",
     "output_type": "stream",
     "text": [
      " 54%|████████████████████████████████████████████████████████████████████████████████████████████▉                                                                               | 27/50 [00:13<00:11,  1.95it/s]"
     ]
    },
    {
     "name": "stdout",
     "output_type": "stream",
     "text": [
      "Epoch [27/50], Train Loss: 1.0006, Train_accuracy: 76.54242101526447, Val Loss: 0.5192, Val_accuracy: 74.9520766773163\n",
      "Model saved.\n"
     ]
    },
    {
     "name": "stderr",
     "output_type": "stream",
     "text": [
      " 56%|████████████████████████████████████████████████████████████████████████████████████████████████▎                                                                           | 28/50 [00:13<00:10,  2.18it/s]"
     ]
    },
    {
     "name": "stdout",
     "output_type": "stream",
     "text": [
      "Epoch [28/50], Train Loss: 0.9958, Train_accuracy: 76.76961306354278, Val Loss: 0.5192, Val_accuracy: 75.16506922257722\n",
      "Model saved.\n"
     ]
    },
    {
     "name": "stderr",
     "output_type": "stream",
     "text": [
      " 58%|███████████████████████████████████████████████████████████████████████████████████████████████████▊                                                                        | 29/50 [00:14<00:10,  1.99it/s]"
     ]
    },
    {
     "name": "stdout",
     "output_type": "stream",
     "text": [
      "Epoch [29/50], Train Loss: 0.9865, Train_accuracy: 77.11040113596025, Val Loss: 0.5142, Val_accuracy: 75.4206602768903\n",
      "Model saved.\n"
     ]
    },
    {
     "name": "stderr",
     "output_type": "stream",
     "text": [
      " 60%|███████████████████████████████████████████████████████████████████████████████████████████████████████▏                                                                    | 30/50 [00:14<00:10,  1.88it/s]"
     ]
    },
    {
     "name": "stdout",
     "output_type": "stream",
     "text": [
      "Epoch [30/50], Train Loss: 0.9799, Train_accuracy: 77.31629392971246, Val Loss: 0.5119, Val_accuracy: 75.46325878594249\n",
      "Model saved.\n"
     ]
    },
    {
     "name": "stderr",
     "output_type": "stream",
     "text": [
      " 62%|██████████████████████████████████████████████████████████████████████████████████████████████████████████▋                                                                 | 31/50 [00:15<00:08,  2.13it/s]"
     ]
    },
    {
     "name": "stdout",
     "output_type": "stream",
     "text": [
      "Epoch [31/50], Train Loss: 0.9749, Train_accuracy: 77.58608448704295, Val Loss: 0.5116, Val_accuracy: 75.6762513312034\n",
      "Model saved.\n"
     ]
    },
    {
     "name": "stderr",
     "output_type": "stream",
     "text": [
      " 64%|██████████████████████████████████████████████████████████████████████████████████████████████████████████████                                                              | 32/50 [00:15<00:09,  1.95it/s]"
     ]
    },
    {
     "name": "stdout",
     "output_type": "stream",
     "text": [
      "Epoch [32/50], Train Loss: 0.9674, Train_accuracy: 77.45118920837771, Val Loss: 0.5078, Val_accuracy: 75.61235356762514\n"
     ]
    },
    {
     "name": "stderr",
     "output_type": "stream",
     "text": [
      " 66%|█████████████████████████████████████████████████████████████████████████████████████████████████████████████████▌                                                          | 33/50 [00:16<00:07,  2.19it/s]"
     ]
    },
    {
     "name": "stdout",
     "output_type": "stream",
     "text": [
      "Epoch [33/50], Train Loss: 0.9609, Train_accuracy: 77.76357827476038, Val Loss: 0.5063, Val_accuracy: 75.97444089456869\n",
      "Model saved.\n"
     ]
    },
    {
     "name": "stderr",
     "output_type": "stream",
     "text": [
      " 68%|████████████████████████████████████████████████████████████████████████████████████████████████████████████████████▉                                                       | 34/50 [00:16<00:08,  1.99it/s]"
     ]
    },
    {
     "name": "stdout",
     "output_type": "stream",
     "text": [
      "Epoch [34/50], Train Loss: 0.9558, Train_accuracy: 77.91267305644303, Val Loss: 0.5055, Val_accuracy: 76.1874334398296\n",
      "Model saved.\n"
     ]
    },
    {
     "name": "stderr",
     "output_type": "stream",
     "text": [
      " 70%|████████████████████████████████████████████████████████████████████████████████████████████████████████████████████████▍                                                   | 35/50 [00:16<00:06,  2.22it/s]"
     ]
    },
    {
     "name": "stdout",
     "output_type": "stream",
     "text": [
      "Epoch [35/50], Train Loss: 0.9502, Train_accuracy: 77.90557330493432, Val Loss: 0.5030, Val_accuracy: 75.91054313099042\n"
     ]
    },
    {
     "name": "stderr",
     "output_type": "stream",
     "text": [
      " 72%|███████████████████████████████████████████████████████████████████████████████████████████████████████████████████████████▊                                                | 36/50 [00:17<00:06,  2.02it/s]"
     ]
    },
    {
     "name": "stdout",
     "output_type": "stream",
     "text": [
      "Epoch [36/50], Train Loss: 0.9452, Train_accuracy: 78.28895988640397, Val Loss: 0.5029, Val_accuracy: 75.99574014909479\n"
     ]
    },
    {
     "name": "stderr",
     "output_type": "stream",
     "text": [
      " 74%|███████████████████████████████████████████████████████████████████████████████████████████████████████████████████████████████▎                                            | 37/50 [00:18<00:06,  1.89it/s]"
     ]
    },
    {
     "name": "stdout",
     "output_type": "stream",
     "text": [
      "Epoch [37/50], Train Loss: 0.9396, Train_accuracy: 78.16116435924742, Val Loss: 0.5008, Val_accuracy: 76.2087326943557\n",
      "Model saved.\n"
     ]
    },
    {
     "name": "stderr",
     "output_type": "stream",
     "text": [
      " 76%|██████████████████████████████████████████████████████████████████████████████████████████████████████████████████████████████████▋                                         | 38/50 [00:18<00:05,  2.13it/s]"
     ]
    },
    {
     "name": "stdout",
     "output_type": "stream",
     "text": [
      "Epoch [38/50], Train Loss: 0.9349, Train_accuracy: 78.29605963791268, Val Loss: 0.5001, Val_accuracy: 76.23003194888179\n",
      "Model saved.\n"
     ]
    },
    {
     "name": "stderr",
     "output_type": "stream",
     "text": [
      " 78%|██████████████████████████████████████████████████████████████████████████████████████████████████████████████████████████████████████▏                                     | 39/50 [00:19<00:05,  1.96it/s]"
     ]
    },
    {
     "name": "stdout",
     "output_type": "stream",
     "text": [
      "Epoch [39/50], Train Loss: 0.9308, Train_accuracy: 78.51615193468228, Val Loss: 0.4996, Val_accuracy: 76.14483493077742\n"
     ]
    },
    {
     "name": "stderr",
     "output_type": "stream",
     "text": [
      " 80%|█████████████████████████████████████████████████████████████████████████████████████████████████████████████████████████████████████████▌                                  | 40/50 [00:19<00:04,  2.20it/s]"
     ]
    },
    {
     "name": "stdout",
     "output_type": "stream",
     "text": [
      "Epoch [40/50], Train Loss: 0.9263, Train_accuracy: 78.4593539226127, Val Loss: 0.4983, Val_accuracy: 76.16613418530352\n"
     ]
    },
    {
     "name": "stderr",
     "output_type": "stream",
     "text": [
      " 82%|█████████████████████████████████████████████████████████████████████████████████████████████████████████████████████████████████████████████                               | 41/50 [00:20<00:04,  2.00it/s]"
     ]
    },
    {
     "name": "stdout",
     "output_type": "stream",
     "text": [
      "Epoch [41/50], Train Loss: 0.9228, Train_accuracy: 78.51615193468228, Val Loss: 0.4986, Val_accuracy: 75.88924387646432\n"
     ]
    },
    {
     "name": "stderr",
     "output_type": "stream",
     "text": [
      " 84%|████████████████████████████████████████████████████████████████████████████████████████████████████████████████████████████████████████████████▍                           | 42/50 [00:20<00:03,  2.24it/s]"
     ]
    },
    {
     "name": "stdout",
     "output_type": "stream",
     "text": [
      "Epoch [42/50], Train Loss: 0.9186, Train_accuracy: 78.61554845580405, Val Loss: 0.4972, Val_accuracy: 76.05963791267305\n"
     ]
    },
    {
     "name": "stderr",
     "output_type": "stream",
     "text": [
      " 86%|███████████████████████████████████████████████████████████████████████████████████████████████████████████████████████████████████████████████████▉                        | 43/50 [00:20<00:03,  2.04it/s]"
     ]
    },
    {
     "name": "stdout",
     "output_type": "stream",
     "text": [
      "Epoch [43/50], Train Loss: 0.9154, Train_accuracy: 78.7291444799432, Val Loss: 0.4976, Val_accuracy: 75.99574014909479\n"
     ]
    },
    {
     "name": "stderr",
     "output_type": "stream",
     "text": [
      " 88%|███████████████████████████████████████████████████████████████████████████████████████████████████████████████████████████████████████████████████████▎                    | 44/50 [00:21<00:03,  1.91it/s]"
     ]
    },
    {
     "name": "stdout",
     "output_type": "stream",
     "text": [
      "Epoch [44/50], Train Loss: 0.9116, Train_accuracy: 78.7433439829606, Val Loss: 0.4965, Val_accuracy: 76.03833865814697\n"
     ]
    },
    {
     "name": "stderr",
     "output_type": "stream",
     "text": [
      " 90%|██████████████████████████████████████████████████████████████████████████████████████████████████████████████████████████████████████████████████████████▊                 | 45/50 [00:21<00:02,  2.16it/s]"
     ]
    },
    {
     "name": "stdout",
     "output_type": "stream",
     "text": [
      "Epoch [45/50], Train Loss: 0.9088, Train_accuracy: 78.89953851615194, Val Loss: 0.4969, Val_accuracy: 76.14483493077742\n"
     ]
    },
    {
     "name": "stderr",
     "output_type": "stream",
     "text": [
      " 92%|██████████████████████████████████████████████████████████████████████████████████████████████████████████████████████████████████████████████████████████████▏             | 46/50 [00:22<00:02,  1.97it/s]"
     ]
    },
    {
     "name": "stdout",
     "output_type": "stream",
     "text": [
      "Epoch [46/50], Train Loss: 0.9053, Train_accuracy: 78.82854100106496, Val Loss: 0.4961, Val_accuracy: 75.97444089456869\n"
     ]
    },
    {
     "name": "stderr",
     "output_type": "stream",
     "text": [
      " 94%|█████████████████████████████████████████████████████████████████████████████████████████████████████████████████████████████████████████████████████████████████▋          | 47/50 [00:22<00:01,  2.21it/s]"
     ]
    },
    {
     "name": "stdout",
     "output_type": "stream",
     "text": [
      "Epoch [47/50], Train Loss: 0.9028, Train_accuracy: 79.00603478878239, Val Loss: 0.4965, Val_accuracy: 76.08093716719915\n"
     ]
    },
    {
     "name": "stderr",
     "output_type": "stream",
     "text": [
      " 96%|█████████████████████████████████████████████████████████████████████████████████████████████████████████████████████████████████████████████████████████████████████       | 48/50 [00:23<00:00,  2.00it/s]"
     ]
    },
    {
     "name": "stdout",
     "output_type": "stream",
     "text": [
      "Epoch [48/50], Train Loss: 0.8997, Train_accuracy: 79.06283280085196, Val Loss: 0.4959, Val_accuracy: 76.03833865814697\n"
     ]
    },
    {
     "name": "stderr",
     "output_type": "stream",
     "text": [
      " 98%|████████████████████████████████████████████████████████████████████████████████████████████████████████████████████████████████████████████████████████████████████████▌   | 49/50 [00:23<00:00,  2.24it/s]"
     ]
    },
    {
     "name": "stdout",
     "output_type": "stream",
     "text": [
      "Epoch [49/50], Train Loss: 0.8974, Train_accuracy: 79.06993255236067, Val Loss: 0.4965, Val_accuracy: 76.03833865814697\n"
     ]
    },
    {
     "name": "stderr",
     "output_type": "stream",
     "text": [
      "100%|████████████████████████████████████████████████████████████████████████████████████████████████████████████████████████████████████████████████████████████████████████████| 50/50 [00:24<00:00,  2.05it/s]"
     ]
    },
    {
     "name": "stdout",
     "output_type": "stream",
     "text": [
      "Epoch [50/50], Train Loss: 0.8945, Train_accuracy: 79.09123180688675, Val Loss: 0.4960, Val_accuracy: 75.9531416400426\n"
     ]
    },
    {
     "name": "stderr",
     "output_type": "stream",
     "text": [
      "\n"
     ]
    },
    {
     "name": "stdout",
     "output_type": "stream",
     "text": [
      "Test Accucary 76.66098807495742\n",
      "Current sub-neural network has 2 hidden layers.\n",
      "...\n"
     ]
    },
    {
     "name": "stderr",
     "output_type": "stream",
     "text": [
      "  2%|███▍                                                                                                                                                                         | 1/50 [00:00<00:16,  3.05it/s]"
     ]
    },
    {
     "name": "stdout",
     "output_type": "stream",
     "text": [
      "Epoch [1/50], Train Loss: 1.3269, Train_accuracy: 63.38658146964856, Val Loss: 0.6640, Val_accuracy: 63.556975505857295\n",
      "Model saved.\n"
     ]
    },
    {
     "name": "stderr",
     "output_type": "stream",
     "text": [
      "  4%|██████▉                                                                                                                                                                      | 2/50 [00:00<00:23,  2.03it/s]"
     ]
    },
    {
     "name": "stdout",
     "output_type": "stream",
     "text": [
      "Epoch [2/50], Train Loss: 1.4601, Train_accuracy: 50.181043663471776, Val Loss: 0.7357, Val_accuracy: 49.75505857294995\n"
     ]
    },
    {
     "name": "stderr",
     "output_type": "stream",
     "text": [
      "  6%|██████████▍                                                                                                                                                                  | 3/50 [00:01<00:19,  2.40it/s]"
     ]
    },
    {
     "name": "stdout",
     "output_type": "stream",
     "text": [
      "Epoch [3/50], Train Loss: 1.3623, Train_accuracy: 51.451899183528575, Val Loss: 0.6801, Val_accuracy: 52.01277955271566\n"
     ]
    },
    {
     "name": "stderr",
     "output_type": "stream",
     "text": [
      "  8%|█████████████▊                                                                                                                                                               | 4/50 [00:01<00:22,  2.01it/s]"
     ]
    },
    {
     "name": "stdout",
     "output_type": "stream",
     "text": [
      "Epoch [4/50], Train Loss: 1.3902, Train_accuracy: 50.29463968761093, Val Loss: 0.6933, Val_accuracy: 50.6283280085197\n"
     ]
    },
    {
     "name": "stderr",
     "output_type": "stream",
     "text": [
      " 10%|█████████████████▎                                                                                                                                                           | 5/50 [00:02<00:19,  2.28it/s]"
     ]
    },
    {
     "name": "stdout",
     "output_type": "stream",
     "text": [
      "Epoch [5/50], Train Loss: 1.3153, Train_accuracy: 67.24884629037983, Val Loss: 0.6598, Val_accuracy: 66.3045793397231\n",
      "Model saved.\n"
     ]
    },
    {
     "name": "stderr",
     "output_type": "stream",
     "text": [
      " 12%|████████████████████▊                                                                                                                                                        | 6/50 [00:02<00:21,  2.02it/s]"
     ]
    },
    {
     "name": "stdout",
     "output_type": "stream",
     "text": [
      "Epoch [6/50], Train Loss: 1.3477, Train_accuracy: 51.67199148029819, Val Loss: 0.6786, Val_accuracy: 50.777422790202344\n"
     ]
    },
    {
     "name": "stderr",
     "output_type": "stream",
     "text": [
      " 14%|████████████████████████▏                                                                                                                                                    | 7/50 [00:03<00:22,  1.87it/s]"
     ]
    },
    {
     "name": "stdout",
     "output_type": "stream",
     "text": [
      "Epoch [7/50], Train Loss: 1.2743, Train_accuracy: 69.27227547035854, Val Loss: 0.6404, Val_accuracy: 68.49840255591054\n",
      "Model saved.\n"
     ]
    },
    {
     "name": "stderr",
     "output_type": "stream",
     "text": [
      " 16%|███████████████████████████▋                                                                                                                                                 | 8/50 [00:03<00:19,  2.13it/s]"
     ]
    },
    {
     "name": "stdout",
     "output_type": "stream",
     "text": [
      "Epoch [8/50], Train Loss: 1.2764, Train_accuracy: 63.57827476038339, Val Loss: 0.6389, Val_accuracy: 63.45047923322684\n"
     ]
    },
    {
     "name": "stderr",
     "output_type": "stream",
     "text": [
      " 18%|███████████████████████████████▏                                                                                                                                             | 9/50 [00:04<00:21,  1.95it/s]"
     ]
    },
    {
     "name": "stdout",
     "output_type": "stream",
     "text": [
      "Epoch [9/50], Train Loss: 1.2213, Train_accuracy: 69.27227547035854, Val Loss: 0.6138, Val_accuracy: 69.05218317358893\n",
      "Model saved.\n"
     ]
    },
    {
     "name": "stderr",
     "output_type": "stream",
     "text": [
      " 20%|██████████████████████████████████▍                                                                                                                                         | 10/50 [00:04<00:18,  2.18it/s]"
     ]
    },
    {
     "name": "stdout",
     "output_type": "stream",
     "text": [
      "Epoch [10/50], Train Loss: 1.2199, Train_accuracy: 68.02271920482784, Val Loss: 0.6183, Val_accuracy: 66.8157614483493\n"
     ]
    },
    {
     "name": "stderr",
     "output_type": "stream",
     "text": [
      " 22%|█████████████████████████████████████▊                                                                                                                                      | 11/50 [00:05<00:19,  1.98it/s]"
     ]
    },
    {
     "name": "stdout",
     "output_type": "stream",
     "text": [
      "Epoch [11/50], Train Loss: 1.1680, Train_accuracy: 71.21050763223288, Val Loss: 0.5903, Val_accuracy: 70.45793397231097\n",
      "Model saved.\n"
     ]
    },
    {
     "name": "stderr",
     "output_type": "stream",
     "text": [
      " 24%|█████████████████████████████████████████▎                                                                                                                                  | 12/50 [00:05<00:20,  1.87it/s]"
     ]
    },
    {
     "name": "stdout",
     "output_type": "stream",
     "text": [
      "Epoch [12/50], Train Loss: 1.1651, Train_accuracy: 69.90415335463258, Val Loss: 0.5874, Val_accuracy: 69.43556975505857\n"
     ]
    },
    {
     "name": "stderr",
     "output_type": "stream",
     "text": [
      " 26%|████████████████████████████████████████████▋                                                                                                                               | 13/50 [00:06<00:17,  2.11it/s]"
     ]
    },
    {
     "name": "stdout",
     "output_type": "stream",
     "text": [
      "Epoch [13/50], Train Loss: 1.1420, Train_accuracy: 71.79978700745474, Val Loss: 0.5825, Val_accuracy: 70.6070287539936\n",
      "Model saved.\n"
     ]
    },
    {
     "name": "stderr",
     "output_type": "stream",
     "text": [
      " 28%|████████████████████████████████████████████████▏                                                                                                                           | 14/50 [00:06<00:18,  1.94it/s]"
     ]
    },
    {
     "name": "stdout",
     "output_type": "stream",
     "text": [
      "Epoch [14/50], Train Loss: 1.1100, Train_accuracy: 72.85055023074193, Val Loss: 0.5652, Val_accuracy: 72.31096911608094\n",
      "Model saved.\n"
     ]
    },
    {
     "name": "stderr",
     "output_type": "stream",
     "text": [
      " 30%|███████████████████████████████████████████████████▌                                                                                                                        | 15/50 [00:07<00:16,  2.17it/s]"
     ]
    },
    {
     "name": "stdout",
     "output_type": "stream",
     "text": [
      "Epoch [15/50], Train Loss: 1.0992, Train_accuracy: 73.43272985445509, Val Loss: 0.5587, Val_accuracy: 72.69435569755059\n",
      "Model saved.\n"
     ]
    },
    {
     "name": "stderr",
     "output_type": "stream",
     "text": [
      " 32%|███████████████████████████████████████████████████████                                                                                                                     | 16/50 [00:07<00:17,  1.97it/s]"
     ]
    },
    {
     "name": "stdout",
     "output_type": "stream",
     "text": [
      "Epoch [16/50], Train Loss: 1.0867, Train_accuracy: 74.02200922967697, Val Loss: 0.5585, Val_accuracy: 73.03514376996804\n",
      "Model saved.\n"
     ]
    },
    {
     "name": "stderr",
     "output_type": "stream",
     "text": [
      " 34%|██████████████████████████████████████████████████████████▍                                                                                                                 | 17/50 [00:08<00:17,  1.86it/s]"
     ]
    },
    {
     "name": "stdout",
     "output_type": "stream",
     "text": [
      "Epoch [17/50], Train Loss: 1.0611, Train_accuracy: 74.97337593184238, Val Loss: 0.5421, Val_accuracy: 73.58892438764643\n",
      "Model saved.\n"
     ]
    },
    {
     "name": "stderr",
     "output_type": "stream",
     "text": [
      " 36%|█████████████████████████████████████████████████████████████▉                                                                                                              | 18/50 [00:08<00:15,  2.09it/s]"
     ]
    },
    {
     "name": "stdout",
     "output_type": "stream",
     "text": [
      "Epoch [18/50], Train Loss: 1.0405, Train_accuracy: 75.98154064607739, Val Loss: 0.5357, Val_accuracy: 75.10117145899893\n",
      "Model saved.\n"
     ]
    },
    {
     "name": "stderr",
     "output_type": "stream",
     "text": [
      " 38%|█████████████████████████████████████████████████████████████████▎                                                                                                          | 19/50 [00:09<00:16,  1.92it/s]"
     ]
    },
    {
     "name": "stdout",
     "output_type": "stream",
     "text": [
      "Epoch [19/50], Train Loss: 1.0239, Train_accuracy: 76.63471778487752, Val Loss: 0.5274, Val_accuracy: 75.46325878594249\n",
      "Model saved.\n"
     ]
    },
    {
     "name": "stderr",
     "output_type": "stream",
     "text": [
      " 40%|████████████████████████████████████████████████████████████████████▊                                                                                                       | 20/50 [00:09<00:13,  2.15it/s]"
     ]
    },
    {
     "name": "stdout",
     "output_type": "stream",
     "text": [
      "Epoch [20/50], Train Loss: 1.0115, Train_accuracy: 76.62051828186013, Val Loss: 0.5224, Val_accuracy: 75.71884984025559\n",
      "Model saved.\n"
     ]
    },
    {
     "name": "stderr",
     "output_type": "stream",
     "text": [
      " 42%|████████████████████████████████████████████████████████████████████████▏                                                                                                   | 21/50 [00:10<00:14,  1.97it/s]"
     ]
    },
    {
     "name": "stdout",
     "output_type": "stream",
     "text": [
      "Epoch [21/50], Train Loss: 1.0007, Train_accuracy: 76.79801206957757, Val Loss: 0.5192, Val_accuracy: 75.80404685835995\n",
      "Model saved.\n"
     ]
    },
    {
     "name": "stderr",
     "output_type": "stream",
     "text": [
      " 44%|███████████████████████████████████████████████████████████████████████████▋                                                                                                | 22/50 [00:10<00:15,  1.85it/s]"
     ]
    },
    {
     "name": "stdout",
     "output_type": "stream",
     "text": [
      "Epoch [22/50], Train Loss: 0.9891, Train_accuracy: 76.9471068512602, Val Loss: 0.5148, Val_accuracy: 75.74014909478169\n"
     ]
    },
    {
     "name": "stderr",
     "output_type": "stream",
     "text": [
      " 46%|███████████████████████████████████████████████████████████████████████████████                                                                                             | 23/50 [00:11<00:12,  2.10it/s]"
     ]
    },
    {
     "name": "stdout",
     "output_type": "stream",
     "text": [
      "Epoch [23/50], Train Loss: 0.9776, Train_accuracy: 77.16719914802982, Val Loss: 0.5114, Val_accuracy: 75.71884984025559\n"
     ]
    },
    {
     "name": "stderr",
     "output_type": "stream",
     "text": [
      " 48%|██████████████████████████████████████████████████████████████████████████████████▌                                                                                         | 24/50 [00:11<00:13,  1.93it/s]"
     ]
    },
    {
     "name": "stdout",
     "output_type": "stream",
     "text": [
      "Epoch [24/50], Train Loss: 0.9678, Train_accuracy: 77.63578274760384, Val Loss: 0.5100, Val_accuracy: 75.99574014909479\n",
      "Model saved.\n"
     ]
    },
    {
     "name": "stderr",
     "output_type": "stream",
     "text": [
      " 50%|██████████████████████████████████████████████████████████████████████████████████████                                                                                      | 25/50 [00:12<00:11,  2.16it/s]"
     ]
    },
    {
     "name": "stdout",
     "output_type": "stream",
     "text": [
      "Epoch [25/50], Train Loss: 0.9563, Train_accuracy: 77.58608448704295, Val Loss: 0.5051, Val_accuracy: 75.9318423855165\n"
     ]
    },
    {
     "name": "stderr",
     "output_type": "stream",
     "text": [
      " 52%|█████████████████████████████████████████████████████████████████████████████████████████▍                                                                                  | 26/50 [00:12<00:12,  1.97it/s]"
     ]
    },
    {
     "name": "stdout",
     "output_type": "stream",
     "text": [
      "Epoch [26/50], Train Loss: 0.9510, Train_accuracy: 77.99077032303869, Val Loss: 0.5082, Val_accuracy: 75.80404685835995\n"
     ]
    },
    {
     "name": "stderr",
     "output_type": "stream",
     "text": [
      " 54%|████████████████████████████████████████████████████████████████████████████████████████████▉                                                                               | 27/50 [00:13<00:12,  1.86it/s]"
     ]
    },
    {
     "name": "stdout",
     "output_type": "stream",
     "text": [
      "Epoch [27/50], Train Loss: 0.9359, Train_accuracy: 78.2250621228257, Val Loss: 0.5011, Val_accuracy: 76.27263045793397\n",
      "Model saved.\n"
     ]
    },
    {
     "name": "stderr",
     "output_type": "stream",
     "text": [
      " 56%|████████████████████████████████████████████████████████████████████████████████████████████████▎                                                                           | 28/50 [00:13<00:10,  2.09it/s]"
     ]
    },
    {
     "name": "stdout",
     "output_type": "stream",
     "text": [
      "Epoch [28/50], Train Loss: 0.9274, Train_accuracy: 78.41675541356052, Val Loss: 0.5007, Val_accuracy: 76.52822151224707\n",
      "Model saved.\n"
     ]
    },
    {
     "name": "stderr",
     "output_type": "stream",
     "text": [
      " 58%|███████████████████████████████████████████████████████████████████████████████████████████████████▊                                                                        | 29/50 [00:14<00:10,  1.93it/s]"
     ]
    },
    {
     "name": "stdout",
     "output_type": "stream",
     "text": [
      "Epoch [29/50], Train Loss: 0.9265, Train_accuracy: 78.58004969826057, Val Loss: 0.5047, Val_accuracy: 75.99574014909479\n"
     ]
    },
    {
     "name": "stderr",
     "output_type": "stream",
     "text": [
      " 60%|███████████████████████████████████████████████████████████████████████████████████████████████████████▏                                                                    | 30/50 [00:14<00:09,  2.16it/s]"
     ]
    },
    {
     "name": "stdout",
     "output_type": "stream",
     "text": [
      "Epoch [30/50], Train Loss: 0.9125, Train_accuracy: 78.69364572239972, Val Loss: 0.4984, Val_accuracy: 76.2087326943557\n"
     ]
    },
    {
     "name": "stderr",
     "output_type": "stream",
     "text": [
      " 62%|██████████████████████████████████████████████████████████████████████████████████████████████████████████▋                                                                 | 31/50 [00:15<00:09,  1.97it/s]"
     ]
    },
    {
     "name": "stdout",
     "output_type": "stream",
     "text": [
      "Epoch [31/50], Train Loss: 0.9060, Train_accuracy: 78.97053603123891, Val Loss: 0.4981, Val_accuracy: 76.16613418530352\n"
     ]
    },
    {
     "name": "stderr",
     "output_type": "stream",
     "text": [
      " 64%|██████████████████████████████████████████████████████████████████████████████████████████████████████████████                                                              | 32/50 [00:15<00:08,  2.21it/s]"
     ]
    },
    {
     "name": "stdout",
     "output_type": "stream",
     "text": [
      "Epoch [32/50], Train Loss: 0.9104, Train_accuracy: 78.89953851615194, Val Loss: 0.5053, Val_accuracy: 76.1874334398296\n"
     ]
    },
    {
     "name": "stderr",
     "output_type": "stream",
     "text": [
      " 66%|█████████████████████████████████████████████████████████████████████████████████████████████████████████████████▌                                                          | 33/50 [00:16<00:08,  2.00it/s]"
     ]
    },
    {
     "name": "stdout",
     "output_type": "stream",
     "text": [
      "Epoch [33/50], Train Loss: 0.9064, Train_accuracy: 78.99183528576499, Val Loss: 0.5062, Val_accuracy: 76.10223642172524\n"
     ]
    },
    {
     "name": "stderr",
     "output_type": "stream",
     "text": [
      " 68%|████████████████████████████████████████████████████████████████████████████████████████████████████████████████████▉                                                       | 34/50 [00:16<00:08,  1.88it/s]"
     ]
    },
    {
     "name": "stdout",
     "output_type": "stream",
     "text": [
      "Epoch [34/50], Train Loss: 0.8901, Train_accuracy: 79.13383031593894, Val Loss: 0.4980, Val_accuracy: 75.97444089456869\n"
     ]
    },
    {
     "name": "stderr",
     "output_type": "stream",
     "text": [
      " 70%|████████████████████████████████████████████████████████████████████████████████████████████████████████████████████████▍                                                   | 35/50 [00:17<00:07,  2.12it/s]"
     ]
    },
    {
     "name": "stdout",
     "output_type": "stream",
     "text": [
      "Epoch [35/50], Train Loss: 0.8857, Train_accuracy: 79.38942137025204, Val Loss: 0.4981, Val_accuracy: 75.91054313099042\n"
     ]
    },
    {
     "name": "stderr",
     "output_type": "stream",
     "text": [
      " 72%|███████████████████████████████████████████████████████████████████████████████████████████████████████████████████████████▊                                                | 36/50 [00:17<00:07,  1.94it/s]"
     ]
    },
    {
     "name": "stdout",
     "output_type": "stream",
     "text": [
      "Epoch [36/50], Train Loss: 0.8909, Train_accuracy: 79.41782037628683, Val Loss: 0.5058, Val_accuracy: 75.97444089456869\n"
     ]
    },
    {
     "name": "stderr",
     "output_type": "stream",
     "text": [
      " 74%|███████████████████████████████████████████████████████████████████████████████████████████████████████████████████████████████▎                                            | 37/50 [00:18<00:05,  2.17it/s]"
     ]
    },
    {
     "name": "stdout",
     "output_type": "stream",
     "text": [
      "Epoch [37/50], Train Loss: 0.9001, Train_accuracy: 79.20482783102591, Val Loss: 0.5137, Val_accuracy: 75.54845580404685\n"
     ]
    },
    {
     "name": "stderr",
     "output_type": "stream",
     "text": [
      " 76%|██████████████████████████████████████████████████████████████████████████████████████████████████████████████████████████████████▋                                         | 38/50 [00:18<00:06,  1.97it/s]"
     ]
    },
    {
     "name": "stdout",
     "output_type": "stream",
     "text": [
      "Epoch [38/50], Train Loss: 0.8743, Train_accuracy: 79.67341143059993, Val Loss: 0.4991, Val_accuracy: 75.78274760383387\n"
     ]
    },
    {
     "name": "stderr",
     "output_type": "stream",
     "text": [
      " 78%|██████████████████████████████████████████████████████████████████████████████████████████████████████████████████████████████████████▏                                     | 39/50 [00:19<00:04,  2.21it/s]"
     ]
    },
    {
     "name": "stdout",
     "output_type": "stream",
     "text": [
      "Epoch [39/50], Train Loss: 0.8737, Train_accuracy: 79.7302094426695, Val Loss: 0.4985, Val_accuracy: 75.80404685835995\n"
     ]
    },
    {
     "name": "stderr",
     "output_type": "stream",
     "text": [
      " 80%|█████████████████████████████████████████████████████████████████████████████████████████████████████████████████████████████████████████▌                                  | 40/50 [00:19<00:05,  2.00it/s]"
     ]
    },
    {
     "name": "stdout",
     "output_type": "stream",
     "text": [
      "Epoch [40/50], Train Loss: 0.8715, Train_accuracy: 79.93610223642173, Val Loss: 0.5021, Val_accuracy: 75.80404685835995\n"
     ]
    },
    {
     "name": "stderr",
     "output_type": "stream",
     "text": [
      " 82%|█████████████████████████████████████████████████████████████████████████████████████████████████████████████████████████████████████████████                               | 41/50 [00:20<00:04,  1.87it/s]"
     ]
    },
    {
     "name": "stdout",
     "output_type": "stream",
     "text": [
      "Epoch [41/50], Train Loss: 0.8808, Train_accuracy: 79.57401490947817, Val Loss: 0.5099, Val_accuracy: 75.78274760383387\n"
     ]
    },
    {
     "name": "stderr",
     "output_type": "stream",
     "text": [
      " 84%|████████████████████████████████████████████████████████████████████████████████████████████████████████████████████████████████████████████████▍                           | 42/50 [00:20<00:03,  2.12it/s]"
     ]
    },
    {
     "name": "stdout",
     "output_type": "stream",
     "text": [
      "Epoch [42/50], Train Loss: 0.8614, Train_accuracy: 80.31238906638268, Val Loss: 0.4994, Val_accuracy: 75.80404685835995\n"
     ]
    },
    {
     "name": "stderr",
     "output_type": "stream",
     "text": [
      " 86%|███████████████████████████████████████████████████████████████████████████████████████████████████████████████████████████████████████████████████▉                        | 43/50 [00:21<00:03,  1.95it/s]"
     ]
    },
    {
     "name": "stdout",
     "output_type": "stream",
     "text": [
      "Epoch [43/50], Train Loss: 0.8597, Train_accuracy: 80.234291799787, Val Loss: 0.4987, Val_accuracy: 75.9531416400426\n"
     ]
    },
    {
     "name": "stderr",
     "output_type": "stream",
     "text": [
      " 88%|███████████████████████████████████████████████████████████████████████████████████████████████████████████████████████████████████████████████████████▎                    | 44/50 [00:21<00:02,  2.18it/s]"
     ]
    },
    {
     "name": "stdout",
     "output_type": "stream",
     "text": [
      "Epoch [44/50], Train Loss: 0.8562, Train_accuracy: 80.40468583599574, Val Loss: 0.5010, Val_accuracy: 75.63365282215122\n"
     ]
    },
    {
     "name": "stderr",
     "output_type": "stream",
     "text": [
      " 90%|██████████████████████████████████████████████████████████████████████████████████████████████████████████████████████████████████████████████████████████▊                 | 45/50 [00:22<00:02,  1.98it/s]"
     ]
    },
    {
     "name": "stdout",
     "output_type": "stream",
     "text": [
      "Epoch [45/50], Train Loss: 0.8689, Train_accuracy: 79.80120695775648, Val Loss: 0.5112, Val_accuracy: 75.6975505857295\n"
     ]
    },
    {
     "name": "stderr",
     "output_type": "stream",
     "text": [
      " 92%|██████████████████████████████████████████████████████████████████████████████████████████████████████████████████████████████████████████████████████████████▏             | 46/50 [00:22<00:01,  2.21it/s]"
     ]
    },
    {
     "name": "stdout",
     "output_type": "stream",
     "text": [
      "Epoch [46/50], Train Loss: 0.8580, Train_accuracy: 80.22009229676961, Val Loss: 0.5063, Val_accuracy: 75.97444089456869\n"
     ]
    },
    {
     "name": "stderr",
     "output_type": "stream",
     "text": [
      " 94%|█████████████████████████████████████████████████████████████████████████████████████████████████████████████████████████████████████████████████████████████████▋          | 47/50 [00:23<00:01,  2.01it/s]"
     ]
    },
    {
     "name": "stdout",
     "output_type": "stream",
     "text": [
      "Epoch [47/50], Train Loss: 0.8456, Train_accuracy: 80.7454739084132, Val Loss: 0.4985, Val_accuracy: 76.10223642172524\n"
     ]
    },
    {
     "name": "stderr",
     "output_type": "stream",
     "text": [
      " 96%|█████████████████████████████████████████████████████████████████████████████████████████████████████████████████████████████████████████████████████████████████████       | 48/50 [00:23<00:01,  1.88it/s]"
     ]
    },
    {
     "name": "stdout",
     "output_type": "stream",
     "text": [
      "Epoch [48/50], Train Loss: 0.8432, Train_accuracy: 80.67447639332623, Val Loss: 0.4982, Val_accuracy: 76.10223642172524\n"
     ]
    },
    {
     "name": "stderr",
     "output_type": "stream",
     "text": [
      " 98%|████████████████████████████████████████████████████████████████████████████████████████████████████████████████████████████████████████████████████████████████████████▌   | 49/50 [00:24<00:00,  2.12it/s]"
     ]
    },
    {
     "name": "stdout",
     "output_type": "stream",
     "text": [
      "Epoch [49/50], Train Loss: 0.8421, Train_accuracy: 80.80227192048278, Val Loss: 0.5013, Val_accuracy: 75.88924387646432\n"
     ]
    },
    {
     "name": "stderr",
     "output_type": "stream",
     "text": [
      "100%|████████████████████████████████████████████████████████████████████████████████████████████████████████████████████████████████████████████████████████████████████████████| 50/50 [00:24<00:00,  2.02it/s]"
     ]
    },
    {
     "name": "stdout",
     "output_type": "stream",
     "text": [
      "Epoch [50/50], Train Loss: 0.8541, Train_accuracy: 80.20589279375221, Val Loss: 0.5104, Val_accuracy: 75.56975505857295\n"
     ]
    },
    {
     "name": "stderr",
     "output_type": "stream",
     "text": [
      "\n"
     ]
    },
    {
     "name": "stdout",
     "output_type": "stream",
     "text": [
      "Test Accucary 76.25638841567292\n",
      "Current sub-neural network has 3 hidden layers.\n",
      "...\n"
     ]
    },
    {
     "name": "stderr",
     "output_type": "stream",
     "text": [
      "  2%|███▍                                                                                                                                                                         | 1/50 [00:00<00:29,  1.68it/s]"
     ]
    },
    {
     "name": "stdout",
     "output_type": "stream",
     "text": [
      "Epoch [1/50], Train Loss: 1.4635, Train_accuracy: 50.03904863329783, Val Loss: 0.7306, Val_accuracy: 50.3727369542066\n",
      "Model saved.\n"
     ]
    },
    {
     "name": "stderr",
     "output_type": "stream",
     "text": [
      "  4%|██████▉                                                                                                                                                                      | 2/50 [00:00<00:21,  2.26it/s]"
     ]
    },
    {
     "name": "stdout",
     "output_type": "stream",
     "text": [
      "Epoch [2/50], Train Loss: 1.3735, Train_accuracy: 52.744053958111465, Val Loss: 0.6945, Val_accuracy: 52.14057507987221\n",
      "Model saved.\n"
     ]
    },
    {
     "name": "stderr",
     "output_type": "stream",
     "text": [
      "  6%|██████████▍                                                                                                                                                                  | 3/50 [00:01<00:24,  1.93it/s]"
     ]
    },
    {
     "name": "stdout",
     "output_type": "stream",
     "text": [
      "Epoch [3/50], Train Loss: 1.2560, Train_accuracy: 69.00248491302804, Val Loss: 0.6327, Val_accuracy: 68.17891373801918\n",
      "Model saved.\n"
     ]
    },
    {
     "name": "stderr",
     "output_type": "stream",
     "text": [
      "  8%|█████████████▊                                                                                                                                                               | 4/50 [00:02<00:25,  1.80it/s]"
     ]
    },
    {
     "name": "stdout",
     "output_type": "stream",
     "text": [
      "Epoch [4/50], Train Loss: 1.2834, Train_accuracy: 61.7678381256656, Val Loss: 0.6439, Val_accuracy: 61.980830670926515\n"
     ]
    },
    {
     "name": "stderr",
     "output_type": "stream",
     "text": [
      " 10%|█████████████████▎                                                                                                                                                           | 5/50 [00:02<00:21,  2.12it/s]"
     ]
    },
    {
     "name": "stdout",
     "output_type": "stream",
     "text": [
      "Epoch [5/50], Train Loss: 1.2234, Train_accuracy: 68.51970181043663, Val Loss: 0.6199, Val_accuracy: 67.24174653887114\n"
     ]
    },
    {
     "name": "stderr",
     "output_type": "stream",
     "text": [
      " 12%|████████████████████▊                                                                                                                                                        | 6/50 [00:03<00:22,  1.92it/s]"
     ]
    },
    {
     "name": "stdout",
     "output_type": "stream",
     "text": [
      "Epoch [6/50], Train Loss: 1.1851, Train_accuracy: 70.3727369542066, Val Loss: 0.6019, Val_accuracy: 69.35037273695421\n",
      "Model saved.\n"
     ]
    },
    {
     "name": "stderr",
     "output_type": "stream",
     "text": [
      " 14%|████████████████████████▏                                                                                                                                                    | 7/50 [00:03<00:19,  2.18it/s]"
     ]
    },
    {
     "name": "stdout",
     "output_type": "stream",
     "text": [
      "Epoch [7/50], Train Loss: 1.1797, Train_accuracy: 69.48526801561945, Val Loss: 0.5959, Val_accuracy: 68.39190628328008\n"
     ]
    },
    {
     "name": "stderr",
     "output_type": "stream",
     "text": [
      " 16%|███████████████████████████▋                                                                                                                                                 | 8/50 [00:04<00:21,  1.97it/s]"
     ]
    },
    {
     "name": "stdout",
     "output_type": "stream",
     "text": [
      "Epoch [8/50], Train Loss: 1.1393, Train_accuracy: 71.33830315938943, Val Loss: 0.5833, Val_accuracy: 70.09584664536742\n",
      "Model saved.\n"
     ]
    },
    {
     "name": "stderr",
     "output_type": "stream",
     "text": [
      " 18%|███████████████████████████████▏                                                                                                                                             | 9/50 [00:04<00:18,  2.21it/s]"
     ]
    },
    {
     "name": "stdout",
     "output_type": "stream",
     "text": [
      "Epoch [9/50], Train Loss: 1.0988, Train_accuracy: 73.21263755768548, Val Loss: 0.5619, Val_accuracy: 72.18317358892439\n",
      "Model saved.\n"
     ]
    },
    {
     "name": "stderr",
     "output_type": "stream",
     "text": [
      " 20%|██████████████████████████████████▍                                                                                                                                         | 10/50 [00:04<00:20,  1.98it/s]"
     ]
    },
    {
     "name": "stdout",
     "output_type": "stream",
     "text": [
      "Epoch [10/50], Train Loss: 1.0778, Train_accuracy: 74.34859779907703, Val Loss: 0.5525, Val_accuracy: 73.20553780617678\n",
      "Model saved.\n"
     ]
    },
    {
     "name": "stderr",
     "output_type": "stream",
     "text": [
      " 22%|█████████████████████████████████████▊                                                                                                                                      | 11/50 [00:05<00:20,  1.86it/s]"
     ]
    },
    {
     "name": "stdout",
     "output_type": "stream",
     "text": [
      "Epoch [11/50], Train Loss: 1.0626, Train_accuracy: 74.66808661696841, Val Loss: 0.5495, Val_accuracy: 73.37593184238551\n",
      "Model saved.\n"
     ]
    },
    {
     "name": "stderr",
     "output_type": "stream",
     "text": [
      " 24%|█████████████████████████████████████████▎                                                                                                                                  | 12/50 [00:05<00:18,  2.10it/s]"
     ]
    },
    {
     "name": "stdout",
     "output_type": "stream",
     "text": [
      "Epoch [12/50], Train Loss: 1.0417, Train_accuracy: 75.57685481008164, Val Loss: 0.5364, Val_accuracy: 74.185303514377\n",
      "Model saved.\n"
     ]
    },
    {
     "name": "stderr",
     "output_type": "stream",
     "text": [
      " 26%|████████████████████████████████████████████▋                                                                                                                               | 13/50 [00:06<00:19,  1.93it/s]"
     ]
    },
    {
     "name": "stdout",
     "output_type": "stream",
     "text": [
      "Epoch [13/50], Train Loss: 1.0258, Train_accuracy: 75.86084487042953, Val Loss: 0.5343, Val_accuracy: 74.31309904153355\n",
      "Model saved.\n"
     ]
    },
    {
     "name": "stderr",
     "output_type": "stream",
     "text": [
      " 28%|████████████████████████████████████████████████▏                                                                                                                           | 14/50 [00:06<00:16,  2.16it/s]"
     ]
    },
    {
     "name": "stdout",
     "output_type": "stream",
     "text": [
      "Epoch [14/50], Train Loss: 1.0061, Train_accuracy: 76.49982250621228, Val Loss: 0.5229, Val_accuracy: 75.27156549520767\n",
      "Model saved.\n"
     ]
    },
    {
     "name": "stderr",
     "output_type": "stream",
     "text": [
      " 30%|███████████████████████████████████████████████████▌                                                                                                                        | 15/50 [00:07<00:17,  1.98it/s]"
     ]
    },
    {
     "name": "stdout",
     "output_type": "stream",
     "text": [
      "Epoch [15/50], Train Loss: 0.9925, Train_accuracy: 76.89030883919062, Val Loss: 0.5200, Val_accuracy: 75.25026624068158\n"
     ]
    },
    {
     "name": "stderr",
     "output_type": "stream",
     "text": [
      " 32%|███████████████████████████████████████████████████████                                                                                                                     | 16/50 [00:08<00:18,  1.87it/s]"
     ]
    },
    {
     "name": "stdout",
     "output_type": "stream",
     "text": [
      "Epoch [16/50], Train Loss: 0.9863, Train_accuracy: 77.17429889953851, Val Loss: 0.5205, Val_accuracy: 75.16506922257722\n"
     ]
    },
    {
     "name": "stderr",
     "output_type": "stream",
     "text": [
      " 34%|██████████████████████████████████████████████████████████▍                                                                                                                 | 17/50 [00:08<00:15,  2.12it/s]"
     ]
    },
    {
     "name": "stdout",
     "output_type": "stream",
     "text": [
      "Epoch [17/50], Train Loss: 0.9763, Train_accuracy: 76.68441604543841, Val Loss: 0.5145, Val_accuracy: 75.35676251331203\n",
      "Model saved.\n"
     ]
    },
    {
     "name": "stderr",
     "output_type": "stream",
     "text": [
      " 36%|█████████████████████████████████████████████████████████████▉                                                                                                              | 18/50 [00:09<00:16,  1.96it/s]"
     ]
    },
    {
     "name": "stdout",
     "output_type": "stream",
     "text": [
      "Epoch [18/50], Train Loss: 0.9630, Train_accuracy: 77.69968051118211, Val Loss: 0.5149, Val_accuracy: 75.86794462193824\n",
      "Model saved.\n"
     ]
    },
    {
     "name": "stderr",
     "output_type": "stream",
     "text": [
      " 38%|█████████████████████████████████████████████████████████████████▎                                                                                                          | 19/50 [00:09<00:14,  2.20it/s]"
     ]
    },
    {
     "name": "stdout",
     "output_type": "stream",
     "text": [
      "Epoch [19/50], Train Loss: 0.9480, Train_accuracy: 78.06886758963437, Val Loss: 0.5099, Val_accuracy: 75.78274760383387\n"
     ]
    },
    {
     "name": "stderr",
     "output_type": "stream",
     "text": [
      " 40%|████████████████████████████████████████████████████████████████████▊                                                                                                       | 20/50 [00:09<00:14,  2.00it/s]"
     ]
    },
    {
     "name": "stdout",
     "output_type": "stream",
     "text": [
      "Epoch [20/50], Train Loss: 0.9387, Train_accuracy: 78.06886758963437, Val Loss: 0.5050, Val_accuracy: 75.97444089456869\n",
      "Model saved.\n"
     ]
    },
    {
     "name": "stderr",
     "output_type": "stream",
     "text": [
      " 42%|████████████████████████████████████████████████████████████████████████▏                                                                                                   | 21/50 [00:10<00:15,  1.88it/s]"
     ]
    },
    {
     "name": "stdout",
     "output_type": "stream",
     "text": [
      "Epoch [21/50], Train Loss: 0.9270, Train_accuracy: 78.62264820731275, Val Loss: 0.5047, Val_accuracy: 75.9531416400426\n"
     ]
    },
    {
     "name": "stderr",
     "output_type": "stream",
     "text": [
      " 44%|███████████████████████████████████████████████████████████████████████████▋                                                                                                | 22/50 [00:10<00:13,  2.14it/s]"
     ]
    },
    {
     "name": "stdout",
     "output_type": "stream",
     "text": [
      "Epoch [22/50], Train Loss: 0.9442, Train_accuracy: 77.95527156549521, Val Loss: 0.5184, Val_accuracy: 74.99467518636848\n"
     ]
    },
    {
     "name": "stderr",
     "output_type": "stream",
     "text": [
      " 46%|███████████████████████████████████████████████████████████████████████████████                                                                                             | 23/50 [00:11<00:13,  1.96it/s]"
     ]
    },
    {
     "name": "stdout",
     "output_type": "stream",
     "text": [
      "Epoch [23/50], Train Loss: 0.9132, Train_accuracy: 78.95633652822151, Val Loss: 0.5036, Val_accuracy: 76.14483493077742\n",
      "Model saved.\n"
     ]
    },
    {
     "name": "stderr",
     "output_type": "stream",
     "text": [
      " 48%|██████████████████████████████████████████████████████████████████████████████████▌                                                                                         | 24/50 [00:11<00:11,  2.20it/s]"
     ]
    },
    {
     "name": "stdout",
     "output_type": "stream",
     "text": [
      "Epoch [24/50], Train Loss: 0.9094, Train_accuracy: 78.7149449769258, Val Loss: 0.5015, Val_accuracy: 75.76144834930777\n"
     ]
    },
    {
     "name": "stderr",
     "output_type": "stream",
     "text": [
      " 50%|██████████████████████████████████████████████████████████████████████████████████████                                                                                      | 25/50 [00:12<00:12,  2.00it/s]"
     ]
    },
    {
     "name": "stdout",
     "output_type": "stream",
     "text": [
      "Epoch [25/50], Train Loss: 0.8976, Train_accuracy: 79.33262335818246, Val Loss: 0.5005, Val_accuracy: 76.16613418530352\n",
      "Model saved.\n"
     ]
    },
    {
     "name": "stderr",
     "output_type": "stream",
     "text": [
      " 52%|█████████████████████████████████████████████████████████████████████████████████████████▍                                                                                  | 26/50 [00:13<00:12,  1.88it/s]"
     ]
    },
    {
     "name": "stdout",
     "output_type": "stream",
     "text": [
      "Epoch [26/50], Train Loss: 0.9234, Train_accuracy: 78.37415690450834, Val Loss: 0.5198, Val_accuracy: 74.88817891373802\n"
     ]
    },
    {
     "name": "stderr",
     "output_type": "stream",
     "text": [
      " 54%|████████████████████████████████████████████████████████████████████████████████████████████▉                                                                               | 27/50 [00:13<00:10,  2.13it/s]"
     ]
    },
    {
     "name": "stdout",
     "output_type": "stream",
     "text": [
      "Epoch [27/50], Train Loss: 0.9553, Train_accuracy: 77.58608448704295, Val Loss: 0.5385, Val_accuracy: 73.90841320553781\n"
     ]
    },
    {
     "name": "stderr",
     "output_type": "stream",
     "text": [
      " 56%|████████████████████████████████████████████████████████████████████████████████████████████████▎                                                                           | 28/50 [00:13<00:11,  1.95it/s]"
     ]
    },
    {
     "name": "stdout",
     "output_type": "stream",
     "text": [
      "Epoch [28/50], Train Loss: 0.9114, Train_accuracy: 78.60844870429536, Val Loss: 0.5096, Val_accuracy: 75.12247071352503\n"
     ]
    },
    {
     "name": "stderr",
     "output_type": "stream",
     "text": [
      " 58%|███████████████████████████████████████████████████████████████████████████████████████████████████▊                                                                        | 29/50 [00:14<00:09,  2.20it/s]"
     ]
    },
    {
     "name": "stdout",
     "output_type": "stream",
     "text": [
      "Epoch [29/50], Train Loss: 0.8814, Train_accuracy: 79.78700745473908, Val Loss: 0.5003, Val_accuracy: 76.12353567625134\n"
     ]
    },
    {
     "name": "stderr",
     "output_type": "stream",
     "text": [
      " 60%|███████████████████████████████████████████████████████████████████████████████████████████████████████▏                                                                    | 30/50 [00:14<00:09,  2.00it/s]"
     ]
    },
    {
     "name": "stdout",
     "output_type": "stream",
     "text": [
      "Epoch [30/50], Train Loss: 0.8966, Train_accuracy: 79.43911963081293, Val Loss: 0.5107, Val_accuracy: 75.39936102236422\n"
     ]
    },
    {
     "name": "stderr",
     "output_type": "stream",
     "text": [
      " 62%|██████████████████████████████████████████████████████████████████████████████████████████████████████████▋                                                                 | 31/50 [00:15<00:10,  1.89it/s]"
     ]
    },
    {
     "name": "stdout",
     "output_type": "stream",
     "text": [
      "Epoch [31/50], Train Loss: 0.8996, Train_accuracy: 79.13383031593894, Val Loss: 0.5072, Val_accuracy: 75.35676251331203\n"
     ]
    },
    {
     "name": "stderr",
     "output_type": "stream",
     "text": [
      " 64%|██████████████████████████████████████████████████████████████████████████████████████████████████████████████                                                              | 32/50 [00:15<00:08,  2.14it/s]"
     ]
    },
    {
     "name": "stdout",
     "output_type": "stream",
     "text": [
      "Epoch [32/50], Train Loss: 0.8911, Train_accuracy: 79.54561590344338, Val Loss: 0.5109, Val_accuracy: 75.52715654952077\n"
     ]
    },
    {
     "name": "stderr",
     "output_type": "stream",
     "text": [
      " 66%|█████████████████████████████████████████████████████████████████████████████████████████████████████████████████▌                                                          | 33/50 [00:16<00:08,  1.97it/s]"
     ]
    },
    {
     "name": "stdout",
     "output_type": "stream",
     "text": [
      "Epoch [33/50], Train Loss: 0.8693, Train_accuracy: 80.26269080582179, Val Loss: 0.4994, Val_accuracy: 75.97444089456869\n"
     ]
    },
    {
     "name": "stderr",
     "output_type": "stream",
     "text": [
      " 68%|████████████████████████████████████████████████████████████████████████████████████████████████████████████████████▉                                                       | 34/50 [00:16<00:07,  2.21it/s]"
     ]
    },
    {
     "name": "stdout",
     "output_type": "stream",
     "text": [
      "Epoch [34/50], Train Loss: 0.8683, Train_accuracy: 80.17749378771742, Val Loss: 0.5004, Val_accuracy: 75.78274760383387\n"
     ]
    },
    {
     "name": "stderr",
     "output_type": "stream",
     "text": [
      " 70%|████████████████████████████████████████████████████████████████████████████████████████████████████████████████████████▍                                                   | 35/50 [00:17<00:07,  2.01it/s]"
     ]
    },
    {
     "name": "stdout",
     "output_type": "stream",
     "text": [
      "Epoch [35/50], Train Loss: 0.8797, Train_accuracy: 79.80830670926518, Val Loss: 0.5120, Val_accuracy: 75.39936102236422\n"
     ]
    },
    {
     "name": "stderr",
     "output_type": "stream",
     "text": [
      " 72%|███████████████████████████████████████████████████████████████████████████████████████████████████████████████████████████▊                                                | 36/50 [00:17<00:06,  2.24it/s]"
     ]
    },
    {
     "name": "stdout",
     "output_type": "stream",
     "text": [
      "Epoch [36/50], Train Loss: 0.8590, Train_accuracy: 80.58217962371317, Val Loss: 0.5006, Val_accuracy: 75.86794462193824\n"
     ]
    },
    {
     "name": "stderr",
     "output_type": "stream",
     "text": [
      " 74%|███████████████████████████████████████████████████████████████████████████████████████████████████████████████████████████████▎                                            | 37/50 [00:18<00:06,  2.03it/s]"
     ]
    },
    {
     "name": "stdout",
     "output_type": "stream",
     "text": [
      "Epoch [37/50], Train Loss: 0.8582, Train_accuracy: 80.59637912673057, Val Loss: 0.5015, Val_accuracy: 75.9531416400426\n"
     ]
    },
    {
     "name": "stderr",
     "output_type": "stream",
     "text": [
      " 76%|██████████████████████████████████████████████████████████████████████████████████████████████████████████████████████████████████▋                                         | 38/50 [00:18<00:06,  1.90it/s]"
     ]
    },
    {
     "name": "stdout",
     "output_type": "stream",
     "text": [
      "Epoch [38/50], Train Loss: 0.8609, Train_accuracy: 80.56798012069578, Val Loss: 0.5082, Val_accuracy: 75.82534611288605\n"
     ]
    },
    {
     "name": "stderr",
     "output_type": "stream",
     "text": [
      " 78%|██████████████████████████████████████████████████████████████████████████████████████████████████████████████████████████████████████▏                                     | 39/50 [00:19<00:05,  2.14it/s]"
     ]
    },
    {
     "name": "stdout",
     "output_type": "stream",
     "text": [
      "Epoch [39/50], Train Loss: 0.8566, Train_accuracy: 80.70287539936102, Val Loss: 0.5079, Val_accuracy: 75.91054313099042\n"
     ]
    },
    {
     "name": "stderr",
     "output_type": "stream",
     "text": [
      " 80%|█████████████████████████████████████████████████████████████████████████████████████████████████████████████████████████████████████████▌                                  | 40/50 [00:19<00:05,  1.96it/s]"
     ]
    },
    {
     "name": "stdout",
     "output_type": "stream",
     "text": [
      "Epoch [40/50], Train Loss: 0.8437, Train_accuracy: 80.97266595669151, Val Loss: 0.5006, Val_accuracy: 76.03833865814697\n"
     ]
    },
    {
     "name": "stderr",
     "output_type": "stream",
     "text": [
      " 82%|█████████████████████████████████████████████████████████████████████████████████████████████████████████████████████████████████████████████                               | 41/50 [00:20<00:04,  2.20it/s]"
     ]
    },
    {
     "name": "stdout",
     "output_type": "stream",
     "text": [
      "Epoch [41/50], Train Loss: 0.8424, Train_accuracy: 80.88746893858715, Val Loss: 0.5011, Val_accuracy: 76.16613418530352\n"
     ]
    },
    {
     "name": "stderr",
     "output_type": "stream",
     "text": [
      " 84%|████████████████████████████████████████████████████████████████████████████████████████████████████████████████████████████████████████████████▍                           | 42/50 [00:20<00:04,  1.99it/s]"
     ]
    },
    {
     "name": "stdout",
     "output_type": "stream",
     "text": [
      "Epoch [42/50], Train Loss: 0.8349, Train_accuracy: 81.29925452609159, Val Loss: 0.5015, Val_accuracy: 75.9318423855165\n"
     ]
    },
    {
     "name": "stderr",
     "output_type": "stream",
     "text": [
      " 86%|███████████████████████████████████████████████████████████████████████████████████████████████████████████████████████████████████████████████████▉                        | 43/50 [00:21<00:03,  2.22it/s]"
     ]
    },
    {
     "name": "stdout",
     "output_type": "stream",
     "text": [
      "Epoch [43/50], Train Loss: 0.8498, Train_accuracy: 80.64607738729144, Val Loss: 0.5132, Val_accuracy: 75.65495207667732\n"
     ]
    },
    {
     "name": "stderr",
     "output_type": "stream",
     "text": [
      " 88%|███████████████████████████████████████████████████████████████████████████████████████████████████████████████████████████████████████████████████████▎                    | 44/50 [00:21<00:02,  2.00it/s]"
     ]
    },
    {
     "name": "stdout",
     "output_type": "stream",
     "text": [
      "Epoch [44/50], Train Loss: 0.9121, Train_accuracy: 78.34575789847355, Val Loss: 0.5454, Val_accuracy: 73.88711395101171\n"
     ]
    },
    {
     "name": "stderr",
     "output_type": "stream",
     "text": [
      " 90%|██████████████████████████████████████████████████████████████████████████████████████████████████████████████████████████████████████████████████████████▊                 | 45/50 [00:22<00:02,  1.87it/s]"
     ]
    },
    {
     "name": "stdout",
     "output_type": "stream",
     "text": [
      "Epoch [45/50], Train Loss: 0.8333, Train_accuracy: 81.2850550230742, Val Loss: 0.5023, Val_accuracy: 75.84664536741214\n"
     ]
    },
    {
     "name": "stderr",
     "output_type": "stream",
     "text": [
      " 92%|██████████████████████████████████████████████████████████████████████████████████████████████████████████████████████████████████████████████████████████████▏             | 46/50 [00:22<00:01,  2.11it/s]"
     ]
    },
    {
     "name": "stdout",
     "output_type": "stream",
     "text": [
      "Epoch [46/50], Train Loss: 0.8643, Train_accuracy: 80.17039403620873, Val Loss: 0.5107, Val_accuracy: 75.4206602768903\n"
     ]
    },
    {
     "name": "stderr",
     "output_type": "stream",
     "text": [
      " 94%|█████████████████████████████████████████████████████████████████████████████████████████████████████████████████████████████████████████████████████████████████▋          | 47/50 [00:23<00:01,  1.94it/s]"
     ]
    },
    {
     "name": "stdout",
     "output_type": "stream",
     "text": [
      "Epoch [47/50], Train Loss: 0.8344, Train_accuracy: 81.04366347177849, Val Loss: 0.5055, Val_accuracy: 75.63365282215122\n"
     ]
    },
    {
     "name": "stderr",
     "output_type": "stream",
     "text": [
      " 96%|█████████████████████████████████████████████████████████████████████████████████████████████████████████████████████████████████████████████████████████████████████       | 48/50 [00:23<00:00,  2.16it/s]"
     ]
    },
    {
     "name": "stdout",
     "output_type": "stream",
     "text": [
      "Epoch [48/50], Train Loss: 0.8217, Train_accuracy: 81.66844160454384, Val Loss: 0.5026, Val_accuracy: 76.37912673056444\n",
      "Model saved.\n"
     ]
    },
    {
     "name": "stderr",
     "output_type": "stream",
     "text": [
      " 98%|████████████████████████████████████████████████████████████████████████████████████████████████████████████████████████████████████████████████████████████████████████▌   | 49/50 [00:24<00:00,  1.96it/s]"
     ]
    },
    {
     "name": "stdout",
     "output_type": "stream",
     "text": [
      "Epoch [49/50], Train Loss: 0.8382, Train_accuracy: 80.87326943556975, Val Loss: 0.5067, Val_accuracy: 75.82534611288605\n"
     ]
    },
    {
     "name": "stderr",
     "output_type": "stream",
     "text": [
      "100%|████████████████████████████████████████████████████████████████████████████████████████████████████████████████████████████████████████████████████████████████████████████| 50/50 [00:24<00:00,  2.04it/s]"
     ]
    },
    {
     "name": "stdout",
     "output_type": "stream",
     "text": [
      "Epoch [50/50], Train Loss: 0.8057, Train_accuracy: 81.95953141640042, Val Loss: 0.4966, Val_accuracy: 76.29392971246007\n"
     ]
    },
    {
     "name": "stderr",
     "output_type": "stream",
     "text": [
      "\n"
     ]
    },
    {
     "name": "stdout",
     "output_type": "stream",
     "text": [
      "Test Accucary 77.34241908006814\n",
      "Hidden_Layers: 2\n",
      "Test Accuracy: 72.70017035775128\n",
      "Train Accuracy: 73.36883209087682\n",
      "Validation Accuracy: 73.4398296059638\n",
      "Hidden_Layers: 3\n",
      "Test Accuracy: 68.86712095400341\n",
      "Train Accuracy: 68.83209087681931\n",
      "Validation Accuracy: 68.00851970181044\n",
      "Hidden_Layers: 4\n",
      "Test Accuracy: 65.63032367972743\n",
      "Train Accuracy: 65.36741214057508\n",
      "Validation Accuracy: 64.64323748668797\n"
     ]
    }
   ],
   "source": [
    "import os\n",
    "import torch\n",
    "from tqdm import tqdm\n",
    "import numpy as np\n",
    "from torch.optim.lr_scheduler import ReduceLROnPlateau\n",
    "from torch.utils.data import Dataset, DataLoader\n",
    "import argparse\n",
    "from utils import *\n",
    "from gene_expression import *\n",
    "from pathway_hierarchy import *\n",
    "import pandas as pd\n",
    "import yaml\n",
    "from custom_neural_network import *\n",
    "from custom_fc_network import *\n",
    "from datetime import datetime\n",
    "import csv\n",
    "import copy\n",
    "import pickle\n",
    "import random\n",
    "random.seed(0)\n",
    "np.random.seed(0)\n",
    "\n",
    "\n",
    "model_dct = dict()\n",
    "\n",
    "# Hook function\n",
    "def hook_fn(module, input, output, layer_name):\n",
    "    global model_dct\n",
    "    input_list = [i.detach().cpu().numpy().tolist() for i in input]\n",
    "    output_list = output.detach().cpu().numpy().tolist()\n",
    "    \n",
    "    # If the layer name is not in the dictionary, create a new list for it\n",
    "    if layer_name not in model_dct:\n",
    "        model_dct[layer_name] = []\n",
    "\n",
    "    # Append the activations to the corresponding layer list\n",
    "    model_dct[layer_name].append({\n",
    "        'input': input_list,\n",
    "        'output': output_list\n",
    "    })\n",
    "\n",
    "\n",
    "\n",
    "# Define the file path for the CSV file\n",
    "def seed_worker(worker_id):\n",
    "    worker_seed = torch.initial_seed() % 2**32\n",
    "    np.random.seed(worker_seed)\n",
    "    random.seed(worker_seed)\n",
    "\n",
    "class TabularDataset(Dataset):\n",
    "    def __init__(self, count_matrix, label):\n",
    "        # Read the CSV file\n",
    "        self.data = count_matrix\n",
    "        # Separate features and target\n",
    "        self.features = self.data.values\n",
    "        self.target = label.values\n",
    "    \n",
    "    def __len__(self):\n",
    "        return len(self.data)\n",
    "    \n",
    "    def __getitem__(self, idx):\n",
    "        # Get features and target for a given index\n",
    "        features = torch.tensor(self.features[idx], dtype=torch.float32)\n",
    "        target = torch.tensor(self.target[idx], dtype=torch.float32)\n",
    "        return features, target\n",
    "\n",
    "def evaluate(model, dataloader):\n",
    "    model.eval()  # Set the model to evaluation mode\n",
    "    correct = 0\n",
    "    total = 0\n",
    "    predicted_list = []\n",
    "    probability_list = []\n",
    "    labels_list = []\n",
    "    criterion = nn.BCEWithLogitsLoss()\n",
    "    loss = 0\n",
    "    with torch.no_grad():  # No need to compute gradients during evaluation\n",
    "        for features, labels in dataloader:\n",
    "            outputs = model(features)\n",
    "            #print(outputs)\n",
    "            probability = torch.sigmoid(outputs.data)\n",
    "            predicted = torch.round(torch.sigmoid(outputs.data))\n",
    "            #print(outputs)\n",
    "            #print(predicted)\n",
    "            loss += criterion(outputs, labels)\n",
    "            #_, predicted = torch.sigmoid(outputs.data)\n",
    "            predicted_list.extend(predicted)\n",
    "            labels_list.extend(labels)\n",
    "            probability_list.extend(probability)\n",
    "            total += labels.size(0)\n",
    "            correct += (predicted == labels).sum().item()\n",
    "    #print(total)\n",
    "    accuracy = 100 * correct / total\n",
    "    return accuracy, loss, predicted_list, labels_list, probability_list\n",
    "\n",
    "def save_model(model_nn,model_path, model_state_dict_path):\n",
    "    \n",
    "    model_nn.eval()\n",
    "    torch.save(model_nn, model_path)\n",
    "    torch.save(model_nn.state_dict(), model_state_dict_path)\n",
    "\n",
    "\n",
    "\n",
    "\n",
    "def model_fc(train_dataloader , val_dataloader, test_dataloader, test_cell_id, layers_node, masking, output_layer,model_save_dir, date_string, learning_rate=0.001, num_epochs=50, weight_decay = 0):\n",
    "\n",
    "    model_nn = CustomfcNetwork(layers_node, output_layer, masking)\n",
    "    optimizer = optim.AdamW(model_nn.parameters(), lr=learning_rate,weight_decay = weight_decay )  # Using SGD with momentum\n",
    "    criterion = nn.BCEWithLogitsLoss()\n",
    "    scheduler = ReduceLROnPlateau(optimizer, mode='max', factor=0.1, patience=5, verbose=True)\n",
    "    patience = 20\n",
    "    best_val_accuracy = 0.0\n",
    "    epochs_no_improve = 0\n",
    "    early_stop = False\n",
    "    csv_file_path = f'{model_save_dir}{date_string}/fc_training_log_{output_layer}.csv'\n",
    "\n",
    "    try:\n",
    "        os.makedirs(f'{model_save_dir}{date_string}')\n",
    "    except:\n",
    "        print(('...'))\n",
    "\n",
    "    with open(csv_file_path, mode='w', newline='') as file:\n",
    "        writer = csv.writer(file)\n",
    "        writer.writerow(['Epoch', 'Train_Loss', 'Train_accuracy','Validation_Loss','Val_accuracy'])\n",
    "\n",
    "    for epoch in tqdm(range(num_epochs)):\n",
    "        if early_stop:\n",
    "            print(\"Early stopping\")\n",
    "            break\n",
    "        epoch_cost = 0.\n",
    "        \n",
    "        total_loss = 0\n",
    "        for batch_features,batch_targets in train_dataloader:\n",
    "            outputs = model_nn(batch_features)\n",
    "            #print(outputs)\n",
    "            #print(batch_targets)\n",
    "            #print(outputs)\n",
    "            loss = criterion(outputs, batch_targets)\n",
    "            \n",
    "            optimizer.zero_grad()\n",
    "            loss.backward()\n",
    "            optimizer.step()\n",
    "            \n",
    "            \n",
    "        \n",
    "        train_accuracy, train_loss, predicted_list_train, labels_list_train, train_probability_list = evaluate(model_nn, train_dataloader)\n",
    "        val_accuracy, val_loss, predicted_list_val, labels_list_val, val_probability_list = evaluate(model_nn, val_dataloader)\n",
    "        #scheduler.step(val_accuracy)\n",
    "        print(f'Epoch [{epoch+1}/{num_epochs}], Train Loss: {train_loss.item():.4f}, Train_accuracy: {train_accuracy}, Val Loss: {val_loss.item():.4f}, Val_accuracy: {val_accuracy}')\n",
    "        with open(csv_file_path, mode='a', newline='') as file:\n",
    "            writer = csv.writer(file)\n",
    "            writer.writerow([epoch + 1, loss.item(), train_accuracy, val_loss.item(), val_accuracy])\n",
    "        \n",
    "        if val_accuracy > best_val_accuracy:\n",
    "            best_val_accuracy = val_accuracy\n",
    "            epochs_no_improve = 0\n",
    "        # Save the best model\n",
    "            model_path = f'{model_save_dir}{date_string}/fc_best_model_{output_layer}.pth'\n",
    "            model_state_dict_path = f'{model_save_dir}{date_string}/fc_best_model_{output_layer}_state_dict.pth'\n",
    "            save_model(model_nn, model_path, model_state_dict_path)\n",
    "            best_model_nn = copy.deepcopy(model_nn)\n",
    "            #torch.save(model_nn, f'{model_save_dir}{date_string}/fc_best_model_{output_layer}.pth')\n",
    "            #torch.save(model_nn.state_dict(), f'{model_save_dir}{date_string}/fc_best_model_{output_layer}_state_dict.pth')\n",
    "            print('Model saved.')\n",
    "        else:\n",
    "            epochs_no_improve += 1\n",
    "    \n",
    "        # Early stopping\n",
    "        '''if epochs_no_improve >= patience:\n",
    "            early_stop = True\n",
    "            print(\"Early stopping triggered\")'''\n",
    "        \n",
    "    \n",
    "    train_accuracy, train_loss, predicted_list_train, labels_list_train, train_probability_list = evaluate(best_model_nn, train_dataloader)\n",
    "    val_accuracy, val_loss, predicted_list_val, labels_list_val, val_probability_list = evaluate(best_model_nn, val_dataloader)\n",
    "    test_accuracy, test_loss, predicted_list_test, labels_list_test, test_probability_list = evaluate(best_model_nn, test_dataloader)\n",
    "    print('Test Accucary', test_accuracy)\n",
    "    output_train = (predicted_list_train, labels_list_train)\n",
    "    output_val = (predicted_list_val, labels_list_val)\n",
    "\n",
    "    labels_list_test = [m.item() for m in labels_list_test]\n",
    "    predicted_list_test = [m.item() for m in predicted_list_test]\n",
    "    test_probability_list = [m.item() for m in test_probability_list]\n",
    "\n",
    "\n",
    "    test_df = pd.DataFrame({'cell_id': test_cell_id, 'true_y': labels_list_test, 'pred_y': predicted_list_test, 'probabilty': test_probability_list})\n",
    "    csv_file_path = f'{model_save_dir}{date_string}/fc_test_log_{output_layer}.csv'\n",
    "    test_df.to_csv(csv_file_path)\n",
    "    #torch.save(model_nn, f'{model_save_dir}{date_string}/fc_last_epoch_model_{output_layer}.pth')\n",
    "    return output_train, output_val,best_model_nn\n",
    "\n",
    "\n",
    "\n",
    "def model(train_dataloader , val_dataloader, test_dataloader, test_cell_id, layers_node, masking, output_layer,model_save_dir, date_string, learning_rate=0.001, num_epochs=50, weight_decay = 0):\n",
    "\n",
    "    model_nn = CustomNetwork(layers_node, output_layer, masking)\n",
    "    optimizer = optim.AdamW(model_nn.parameters(), lr=learning_rate,weight_decay = weight_decay )  # Using SGD with momentum\n",
    "    criterion = nn.BCEWithLogitsLoss()\n",
    "    scheduler = ReduceLROnPlateau(optimizer, mode='max', factor=0.1, patience=5, verbose=True)\n",
    "    patience = 20\n",
    "    best_val_accuracy = 0.0\n",
    "    epochs_no_improve = 0\n",
    "    early_stop = False\n",
    "    csv_file_path = f'{model_save_dir}{date_string}/training_log_{output_layer}.csv'\n",
    "\n",
    "    try:\n",
    "        os.makedirs(f'{model_save_dir}{date_string}')\n",
    "    except:\n",
    "        print(('...'))\n",
    "\n",
    "    with open(csv_file_path, mode='w', newline='') as file:\n",
    "        writer = csv.writer(file)\n",
    "        writer.writerow(['Epoch', 'Train_Loss', 'Train_accuracy','Validation_Loss','Val_accuracy'])\n",
    "\n",
    "    for epoch in tqdm(range(num_epochs)):\n",
    "        if early_stop:\n",
    "            print(\"Early stopping\")\n",
    "            break\n",
    "        epoch_cost = 0.\n",
    "        \n",
    "        total_loss = 0\n",
    "        for batch_features,batch_targets in train_dataloader:\n",
    "            \n",
    "            #print(outputs)\n",
    "            #print(batch_targets)\n",
    "            #print(outputs)\n",
    "            \n",
    "            \n",
    "            optimizer.zero_grad()\n",
    "            outputs = model_nn(batch_features)\n",
    "            loss = criterion(outputs, batch_targets)\n",
    "            loss.backward()\n",
    "            optimizer.step()\n",
    "            \n",
    "            \n",
    "        \n",
    "        train_accuracy, train_loss, predicted_list_train, labels_list_train, train_probability_list = evaluate(model_nn, train_dataloader)\n",
    "        val_accuracy, val_loss, predicted_list_val, labels_list_val, val_probability_list = evaluate(model_nn, val_dataloader)\n",
    "        #scheduler.step(val_accuracy)\n",
    "        print(f'Epoch [{epoch+1}/{num_epochs}], Train Loss: {train_loss.item():.4f}, Train_accuracy: {train_accuracy}, Val Loss: {val_loss.item():.4f}, Val_accuracy: {val_accuracy}')\n",
    "        with open(csv_file_path, mode='a', newline='') as file:\n",
    "            writer = csv.writer(file)\n",
    "            writer.writerow([epoch + 1, loss.item(), train_accuracy, val_loss.item(), val_accuracy])\n",
    "        \n",
    "        if val_accuracy > best_val_accuracy:\n",
    "            best_val_accuracy = val_accuracy\n",
    "            epochs_no_improve = 0\n",
    "        # Save the best model\n",
    "            model_path = f'{model_save_dir}{date_string}/best_model_{output_layer}.pth'\n",
    "            model_state_dict_path = f'{model_save_dir}{date_string}/best_model_{output_layer}_state_dict.pth'\n",
    "            save_model(model_nn, model_path, model_state_dict_path)\n",
    "            best_model_nn = copy.deepcopy(model_nn)\n",
    "            #torch.save(model_nn, f'{model_save_dir}{date_string}/best_model_{output_layer}.pth')\n",
    "            #torch.save(model_nn.state_dict(), f'{model_save_dir}{date_string}/best_model_{output_layer}_state_dict.pth')\n",
    "            print('Model saved.')\n",
    "        else:\n",
    "            epochs_no_improve += 1\n",
    "    \n",
    "        # Early stopping\n",
    "        '''if epochs_no_improve >= patience:\n",
    "            early_stop = True\n",
    "            print(\"Early stopping triggered\")'''\n",
    "        \n",
    "    \n",
    "    train_accuracy, train_loss, predicted_list_train, labels_list_train, train_probability_list = evaluate(best_model_nn, train_dataloader)\n",
    "    val_accuracy, val_loss, predicted_list_val, labels_list_val, val_probability_list = evaluate(best_model_nn, val_dataloader)\n",
    "    test_accuracy, test_loss, predicted_list_test, labels_list_test, test_probability_list = evaluate(best_model_nn, test_dataloader)\n",
    "    print('Test Accucary', test_accuracy)\n",
    "    output_train = (predicted_list_train, labels_list_train)\n",
    "    output_val = (predicted_list_val, labels_list_val)\n",
    "\n",
    "    labels_list_test = [m.item() for m in labels_list_test]\n",
    "    predicted_list_test = [m.item() for m in predicted_list_test]\n",
    "    test_probability_list = [m.item() for m in test_probability_list]\n",
    "\n",
    "\n",
    "    test_df = pd.DataFrame({'cell_id': test_cell_id, 'true_y': labels_list_test, 'pred_y': predicted_list_test, 'probabilty': test_probability_list})\n",
    "    csv_file_path = f'{model_save_dir}{date_string}/test_log_{output_layer}.csv'\n",
    "    test_df.to_csv(csv_file_path)\n",
    "    #torch.save(model_nn, f'{model_save_dir}{date_string}/last_epoch_model_{output_layer}.pth')\n",
    "    return output_train, output_val,best_model_nn\n",
    "\n",
    "\n",
    "def load_config(config_file):\n",
    "    with open(config_file, 'r') as file:\n",
    "        return yaml.safe_load(file)\n",
    "\n",
    "\n",
    "def main_file():\n",
    "\n",
    "    '''parser = argparse.ArgumentParser(description='Sample application with config and argparse')\n",
    "    parser.add_argument('--config', type=str, default='config.yml', help='Path to the configuration file')\n",
    "    args = parser.parse_args()'''\n",
    "\n",
    "    config = load_config('config.yml')\n",
    "    print(config)\n",
    "    train = pd.read_csv(config['dataset']['train'],index_col=0)\n",
    "    test = pd.read_csv(config['dataset']['test'],index_col=0)\n",
    "    val = pd.read_csv(config['dataset']['val'],index_col=0)\n",
    "\n",
    "    y_train = pd.read_csv(config['dataset']['y_train'])\n",
    "    y_test = pd.read_csv(config['dataset']['y_test'])\n",
    "    y_val = pd.read_csv(config['dataset']['y_val'])\n",
    "  \n",
    "\n",
    "\n",
    "    r_data_tmp = train.T\n",
    "    q_data_tmp = test.T\n",
    "    v_data_tmp = val.T\n",
    "    r_label_tmp = y_train\n",
    "\n",
    "    print('Getting Marker Genes.......')\n",
    "    train_x, test_x, val_x, train_y = get_expression(r_data_tmp,\n",
    "                                                q_data_tmp,\n",
    "                                                v_data_tmp,\n",
    "                                                r_label_tmp,\n",
    "                                                thrh=config['gene_expression']['highly_expressed_threshold'],\n",
    "                                                thrl=config['gene_expression']['lowly_expressed_threshold'],\n",
    "                                                normalization=config['gene_expression']['normalization'],\n",
    "                                                marker=config['gene_expression']['marker'])\n",
    "    \n",
    "    print('Getting Pathway Genes.........')\n",
    "    pathway_genes = get_gene_pathways(config['pathways_network']['ensemble_pathway_relation'], species=config['pathways_network']['species'])\n",
    "\n",
    "\n",
    "    print('Getting Masking.........')\n",
    "    masking, masking_df, layers_node, train_x, test_x,val_x = get_masking(config['pathways_network']['pathway_names'],\n",
    "                                                        pathway_genes,\n",
    "                                                        config['pathways_network']['pathway_relation'],\n",
    "                                                        train_x,\n",
    "                                                        test_x,\n",
    "                                                        val_x,\n",
    "                                                        train_y,\n",
    "                                                        config['pathways_network']['datatype'],\n",
    "                                                        config['pathways_network']['species'],\n",
    "                                                        config['pathways_network']['n_hidden_layer'])\n",
    "\n",
    "    test_cell_id = list(test_x.T.index) \n",
    "    try:\n",
    "        masking = list(masking.values())\n",
    "        layers_node = list(layers_node.values())\n",
    "    except:\n",
    "        print('already_done')\n",
    "\n",
    "\n",
    "    train_dataset = TabularDataset(train_x.T,train_y)\n",
    "    val_dataset = TabularDataset(val_x.T,y_val)\n",
    "    test_dataset = TabularDataset(test_x.T,y_test)  \n",
    "    \n",
    "    \n",
    "\n",
    "    dataloader_params = {\n",
    "    'batch_size': config['train']['batch_size'],\n",
    "    'shuffle': False\n",
    "    }\n",
    "\n",
    "    train_dataloader = DataLoader(train_dataset,**dataloader_params)\n",
    "    test_dataloader = DataLoader(test_dataset, **dataloader_params)\n",
    "    val_dataloader = DataLoader(val_dataset,**dataloader_params)\n",
    "    # Example of iterating through the DataLoader\n",
    "\n",
    "\n",
    "    pred_y_df = pd.DataFrame(data=0, index=test_x.columns, columns=list(range(2, len(masking) + 2)))\n",
    "    train_y_df = pd.DataFrame(data=0, index=train_x.columns, columns=list(range(2, len(masking) + 2)))\n",
    "    model_dict_sparse = dict()\n",
    "    model_dict_fc = dict()\n",
    "    activation_output = {}\n",
    "    now = datetime.now()\n",
    "\n",
    "# Format the date as a string\n",
    "    date_string = datetime_string = now.strftime(\"%Y_%m_%d_%H_%M_%S\")\n",
    "\n",
    "    try:\n",
    "        os.makedirs(f'{config['model_output']['model_save_dir']}{date_string}')\n",
    "    except:\n",
    "        print(('...'))\n",
    "\n",
    "   \n",
    "\n",
    "    print('Training.........')\n",
    "    for output_layer in range(2, len(masking) + 2):\n",
    "        if config['gene_expression']['print_information']:\n",
    "            print(\"Current sub-neural network has \" + str(output_layer - 1) + \" hidden layers.\")\n",
    "        output_train, output_val,model_dict_sparse[output_layer] = model(train_dataloader,\n",
    "                                            val_dataloader,test_dataloader, test_cell_id,\n",
    "                                            layers_node,\n",
    "                                            masking,\n",
    "                                            output_layer,\n",
    "                                            model_save_dir = config['model_output']['model_save_dir'],date_string = date_string,\n",
    "                                            learning_rate=config['train']['learning_rate'],num_epochs=config['train']['epochs'],weight_decay = config['train']['weight_decay']\n",
    "                                        )  \n",
    "\n",
    "    print('tranining_fully_connected_layers:')\n",
    "    for output_layer in range(2, len(masking) + 2):\n",
    "        if config['gene_expression']['print_information']:\n",
    "            print(\"Current sub-neural network has \" + str(output_layer - 1) + \" hidden layers.\")\n",
    "        output_train, output_val,model_dict_fc[output_layer] = model_fc(train_dataloader,\n",
    "                                            val_dataloader,test_dataloader, test_cell_id,\n",
    "                                            layers_node,\n",
    "                                            masking,\n",
    "                                            output_layer,\n",
    "                                            model_save_dir = config['model_output']['model_save_dir'],date_string = date_string,\n",
    "                                            learning_rate=config['train']['learning_rate'],num_epochs=config['train']['epochs'],weight_decay = config['train']['weight_decay']\n",
    "                                        )  \n",
    "        \n",
    "    new_parameter = {'date_string': date_string}\n",
    "    config.update(new_parameter)\n",
    "    save_path =   str(config['model_output']['model_save_dir'])+ date_string + '/config.yml'\n",
    "    with open(save_path, 'w') as file:\n",
    "        yaml.dump(config, file)\n",
    "\n",
    "        \n",
    "    for i in range(len(masking_df)):\n",
    "        masking_df[i].to_csv(str(config['model_output']['model_save_dir'])+ date_string+ '/' +f'masking_df_{i}.csv')\n",
    "    \n",
    "   \n",
    "        \n",
    "    return model_dict_sparse, val_dataloader, test_dataloader, train_dataloader, train_x, train_y, val_x, y_val, test_x, y_test, config\n",
    "\n",
    "   \n",
    "model_dict_sparse, val_dataloader, test_dataloader, train_dataloader,train_x, train_y, val_x, y_val, test_x, y_test, config = main_file()\n",
    "for j,i in model_dict_sparse.items():\n",
    "\n",
    "# Assuming 'model' is your neural network\n",
    "    torch.save(i.state_dict(), f'{config['model_output']['model_save_dir']}{config['date_string']}/model_{j}_state_dict_jupyter_notebook.pth')\n",
    "\n",
    "\n",
    "for j,i in model_dict_sparse.items():\n",
    "        \n",
    "        print(f'Hidden_Layers: {j}')\n",
    "        accuracy, loss, predicted_list, labels_list, probability_list = evaluate(i, test_dataloader)\n",
    "        print(f'Test Accuracy: {accuracy}')   \n",
    "        accuracy, loss, predicted_list, labels_list, probability_list = evaluate(i, train_dataloader)\n",
    "        print(f'Train Accuracy: {accuracy}')   \n",
    "        accuracy, loss, predicted_list, labels_list, probability_list = evaluate(i, val_dataloader)\n",
    "        print(f'Validation Accuracy: {accuracy}') "
   ]
  },
  {
   "cell_type": "code",
   "execution_count": 67,
   "id": "32a465e1-58ab-4f18-9943-54217f87d0cd",
   "metadata": {},
   "outputs": [
    {
     "name": "stdout",
     "output_type": "stream",
     "text": [
      "Hidden_Layers: 2\n",
      "Test Accuracy: 72.70017035775128\n",
      "Train Accuracy: 73.36883209087682\n",
      "Validation Accuracy: 73.4398296059638\n",
      "Hidden_Layers: 3\n",
      "Test Accuracy: 68.86712095400341\n",
      "Train Accuracy: 68.83209087681931\n",
      "Validation Accuracy: 68.00851970181044\n",
      "Hidden_Layers: 4\n",
      "Test Accuracy: 65.63032367972743\n",
      "Train Accuracy: 65.36741214057508\n",
      "Validation Accuracy: 64.64323748668797\n"
     ]
    }
   ],
   "source": [
    "\n",
    "train_dataset = TabularDataset(train_x.T,train_y)\n",
    "val_dataset = TabularDataset(val_x.T,y_val)\n",
    "test_dataset = TabularDataset(test_x.T,y_test) \n",
    "\n",
    "dataloader_params = {\n",
    "    'batch_size': 1,\n",
    "    'shuffle': False\n",
    "    }\n",
    "\n",
    "train_dataloader = DataLoader(train_dataset,**dataloader_params)\n",
    "test_dataloader = DataLoader(test_dataset, **dataloader_params)\n",
    "val_dataloader = DataLoader(val_dataset,**dataloader_params)\n",
    "\n",
    "for j,i in model_dict_sparse.items():\n",
    "        \n",
    "        print(f'Hidden_Layers: {j}')\n",
    "        accuracy, loss, predicted_list, labels_list, probability_list = evaluate(i, test_dataloader)\n",
    "        print(f'Test Accuracy: {accuracy}')   \n",
    "        accuracy, loss, predicted_list, labels_list, probability_list = evaluate(i, train_dataloader)\n",
    "        print(f'Train Accuracy: {accuracy}')   \n",
    "        accuracy, loss, predicted_list, labels_list, probability_list = evaluate(i, val_dataloader)\n",
    "        print(f'Validation Accuracy: {accuracy}')"
   ]
  },
  {
   "cell_type": "code",
   "execution_count": 20,
   "id": "07cf86ae-23f8-429d-838e-df8abde3c2ca",
   "metadata": {},
   "outputs": [
    {
     "data": {
      "text/plain": [
       "{'dataset': {'train': '/12tb_dsk1/danish/Pytorch_Biologically_Informed_Neural_Network/Preprocessed_data/excitory_neurons/Exc_L2-3_CBLN2_LINC02306/train.csv',\n",
       "  'test': '/12tb_dsk1/danish/Pytorch_Biologically_Informed_Neural_Network/Preprocessed_data/excitory_neurons/Exc_L2-3_CBLN2_LINC02306/test.csv',\n",
       "  'val': '/12tb_dsk1/danish/Pytorch_Biologically_Informed_Neural_Network/Preprocessed_data/excitory_neurons/Exc_L2-3_CBLN2_LINC02306/val.csv',\n",
       "  'y_train': '/12tb_dsk1/danish/Pytorch_Biologically_Informed_Neural_Network/Preprocessed_data/excitory_neurons/Exc_L2-3_CBLN2_LINC02306/y_train.csv',\n",
       "  'y_test': '/12tb_dsk1/danish/Pytorch_Biologically_Informed_Neural_Network/Preprocessed_data/excitory_neurons/Exc_L2-3_CBLN2_LINC02306/y_test.csv',\n",
       "  'y_val': '/12tb_dsk1/danish/Pytorch_Biologically_Informed_Neural_Network/Preprocessed_data/excitory_neurons/Exc_L2-3_CBLN2_LINC02306/y_val.csv'},\n",
       " 'model_output': {'model_save_dir': '/12tb_dsk1/danish/Pytorch_Biologically_Informed_Neural_Network/model_save/excitory_neurons/Exc_L2-3_CBLN2_LINC02306/'},\n",
       " 'train': {'epochs': 50,\n",
       "  'learning_rate': 0.001,\n",
       "  'weight_decay': 0.0001,\n",
       "  'batch_size': 8192},\n",
       " 'gene_expression': {'highly_expressed_threshold': 0.95,\n",
       "  'lowly_expressed_threshold': 0.95,\n",
       "  'normalization': True,\n",
       "  'marker': True,\n",
       "  'print_information': True},\n",
       " 'pathways_network': {'species': 'human',\n",
       "  'n_hidden_layer': 3,\n",
       "  'pathway_relation': '../../usman/CellTICS/reactome/ReactomePathwaysRelation.txt',\n",
       "  'pathway_names': '../../usman/CellTICS/reactome/ReactomePathways.txt',\n",
       "  'ensemble_pathway_relation': '../../usman/CellTICS/reactome/Ensembl2Reactome_All_Levels.txt',\n",
       "  'datatype': 'diagnosis'},\n",
       " 'date_string': '2024_08_05_08_44_09'}"
      ]
     },
     "execution_count": 20,
     "metadata": {},
     "output_type": "execute_result"
    }
   ],
   "source": [
    "config"
   ]
  },
  {
   "cell_type": "code",
   "execution_count": 5,
   "id": "01c89375-5f2d-4175-958c-8c59fc2b1667",
   "metadata": {},
   "outputs": [
    {
     "data": {
      "text/plain": [
       "'/12tb_dsk1/danish/Pytorch_Biologically_Informed_Neural_Network/model_save/excitory_neurons/Exc_L2-3_CBLN2_LINC02306/'"
      ]
     },
     "execution_count": 5,
     "metadata": {},
     "output_type": "execute_result"
    }
   ],
   "source": [
    "config['model_output']['model_save_dir'] "
   ]
  },
  {
   "cell_type": "code",
   "execution_count": 56,
   "id": "d7daaf19-3f00-45b9-a72c-88be61c83e0a",
   "metadata": {},
   "outputs": [
    {
     "name": "stdout",
     "output_type": "stream",
     "text": [
      "Test Accuracy: 73.01959114139693\n",
      "Train Accuracy: 73.47532836350727\n",
      "Validation Accuracy: 73.61022364217253\n"
     ]
    }
   ],
   "source": [
    "for j,i in model_dict_sparse.items():\n",
    "        \n",
    "        '''for name, layer in enumerate(i.children()):\n",
    "            layer_name = 'fc'+str(name+1)\n",
    "            layer.register_forward_hook(lambda module, input, output, name=layer_name: hook_fn(module, input, output, name))'''\n",
    "        #k= torch.load(f'{config['model_output']['model_save_dir']}/2024_08_04_14_54_25/model_{j}_state_dict_jupyter_notebook.pth')\n",
    "        #print(k)\n",
    "        #i.load_state_dict(k)\n",
    "        #print(i.layers[1].weight)\n",
    "        accuracy, loss, predicted_list, labels_list, probability_list = evaluate(i, test_dataloader)\n",
    "        #print(j)\n",
    "        print(f'Test Accuracy: {accuracy}')   \n",
    "        accuracy, loss, predicted_list, labels_list, probability_list = evaluate(i, train_dataloader)\n",
    "        print(f'Train Accuracy: {accuracy}')   \n",
    "        accuracy, loss, predicted_list, labels_list, probability_list = evaluate(i, val_dataloader)\n",
    "        print(f'Validation Accuracy: {accuracy}')\n",
    "        break"
   ]
  },
  {
   "cell_type": "code",
   "execution_count": 57,
   "id": "867f09af-cd2b-45d7-ac06-29e192830d90",
   "metadata": {},
   "outputs": [
    {
     "data": {
      "text/html": [
       "<div>\n",
       "<style scoped>\n",
       "    .dataframe tbody tr th:only-of-type {\n",
       "        vertical-align: middle;\n",
       "    }\n",
       "\n",
       "    .dataframe tbody tr th {\n",
       "        vertical-align: top;\n",
       "    }\n",
       "\n",
       "    .dataframe thead th {\n",
       "        text-align: right;\n",
       "    }\n",
       "</style>\n",
       "<table border=\"1\" class=\"dataframe\">\n",
       "  <thead>\n",
       "    <tr style=\"text-align: right;\">\n",
       "      <th>cell_id</th>\n",
       "      <th>GTACAACAGGCGTTGA.21.11</th>\n",
       "      <th>GAGTTGTAGCAACAGC.42.2</th>\n",
       "      <th>ACACCAATCCCGATCT.23.6</th>\n",
       "      <th>GCACATAAGAATCTAG.10.7</th>\n",
       "      <th>AAGACCTAGCCTATGT.13.1</th>\n",
       "      <th>ACTTACTGTCAGAAGC.8.1</th>\n",
       "      <th>CACAGGCAGAATCTCC.38.1</th>\n",
       "      <th>CGAGCCAGTATTACCG.29.0</th>\n",
       "      <th>ACCCAAAGTGACCTGC.1.5</th>\n",
       "      <th>CGGACGTTCATGTGGT.15.1</th>\n",
       "      <th>...</th>\n",
       "      <th>AGGGCCTTCGAGAACG.12.14</th>\n",
       "      <th>GCGATCGCACCTCTAC.12.11</th>\n",
       "      <th>ATGTCTTGTTCACCGG.16.2</th>\n",
       "      <th>TGCAGTACAACCAATC.26.2</th>\n",
       "      <th>CGGACGTCACGGTAGA.19.0</th>\n",
       "      <th>CTAACCCTCCCGGTAG.31.6</th>\n",
       "      <th>TCGGGCATCCCAGTGG.12.14</th>\n",
       "      <th>ATCACGAGTATCACCA.6.2</th>\n",
       "      <th>AAGACTCGTTGGGTAG.10.7</th>\n",
       "      <th>GATGATCCAGCCATTA.30.6</th>\n",
       "    </tr>\n",
       "  </thead>\n",
       "  <tbody>\n",
       "    <tr>\n",
       "      <th>ENSG00000142920</th>\n",
       "      <td>0.000000</td>\n",
       "      <td>1.145814</td>\n",
       "      <td>1.360721</td>\n",
       "      <td>0.000000</td>\n",
       "      <td>0.0000</td>\n",
       "      <td>1.643206</td>\n",
       "      <td>0.000000</td>\n",
       "      <td>0.0</td>\n",
       "      <td>0.504917</td>\n",
       "      <td>1.582466</td>\n",
       "      <td>...</td>\n",
       "      <td>0.861235</td>\n",
       "      <td>1.664975</td>\n",
       "      <td>0.940507</td>\n",
       "      <td>0.649033</td>\n",
       "      <td>0.000000</td>\n",
       "      <td>0.000000</td>\n",
       "      <td>0.000000</td>\n",
       "      <td>0.000000</td>\n",
       "      <td>0.000000</td>\n",
       "      <td>0.000000</td>\n",
       "    </tr>\n",
       "    <tr>\n",
       "      <th>ENSG00000128298</th>\n",
       "      <td>0.000000</td>\n",
       "      <td>0.000000</td>\n",
       "      <td>0.000000</td>\n",
       "      <td>0.381069</td>\n",
       "      <td>3.4106</td>\n",
       "      <td>0.000000</td>\n",
       "      <td>0.000000</td>\n",
       "      <td>0.0</td>\n",
       "      <td>0.504917</td>\n",
       "      <td>0.000000</td>\n",
       "      <td>...</td>\n",
       "      <td>0.861235</td>\n",
       "      <td>0.625523</td>\n",
       "      <td>0.000000</td>\n",
       "      <td>0.000000</td>\n",
       "      <td>2.828458</td>\n",
       "      <td>0.000000</td>\n",
       "      <td>0.000000</td>\n",
       "      <td>0.501618</td>\n",
       "      <td>0.656484</td>\n",
       "      <td>0.454942</td>\n",
       "    </tr>\n",
       "    <tr>\n",
       "      <th>ENSG00000128739</th>\n",
       "      <td>0.000000</td>\n",
       "      <td>1.145814</td>\n",
       "      <td>0.000000</td>\n",
       "      <td>0.931244</td>\n",
       "      <td>0.0000</td>\n",
       "      <td>0.000000</td>\n",
       "      <td>0.000000</td>\n",
       "      <td>0.0</td>\n",
       "      <td>1.174485</td>\n",
       "      <td>0.000000</td>\n",
       "      <td>...</td>\n",
       "      <td>0.000000</td>\n",
       "      <td>0.625523</td>\n",
       "      <td>0.000000</td>\n",
       "      <td>0.000000</td>\n",
       "      <td>1.601402</td>\n",
       "      <td>0.000000</td>\n",
       "      <td>0.000000</td>\n",
       "      <td>2.245558</td>\n",
       "      <td>1.105994</td>\n",
       "      <td>2.713896</td>\n",
       "    </tr>\n",
       "    <tr>\n",
       "      <th>ENSG00000115738</th>\n",
       "      <td>0.000000</td>\n",
       "      <td>0.000000</td>\n",
       "      <td>0.000000</td>\n",
       "      <td>0.381069</td>\n",
       "      <td>3.4106</td>\n",
       "      <td>0.000000</td>\n",
       "      <td>2.347186</td>\n",
       "      <td>0.0</td>\n",
       "      <td>0.000000</td>\n",
       "      <td>0.000000</td>\n",
       "      <td>...</td>\n",
       "      <td>0.000000</td>\n",
       "      <td>0.625523</td>\n",
       "      <td>0.000000</td>\n",
       "      <td>0.360711</td>\n",
       "      <td>2.018482</td>\n",
       "      <td>0.000000</td>\n",
       "      <td>0.000000</td>\n",
       "      <td>0.501618</td>\n",
       "      <td>1.105994</td>\n",
       "      <td>0.000000</td>\n",
       "    </tr>\n",
       "    <tr>\n",
       "      <th>ENSG00000104325</th>\n",
       "      <td>0.000000</td>\n",
       "      <td>0.000000</td>\n",
       "      <td>0.000000</td>\n",
       "      <td>0.931244</td>\n",
       "      <td>0.0000</td>\n",
       "      <td>0.000000</td>\n",
       "      <td>0.000000</td>\n",
       "      <td>0.0</td>\n",
       "      <td>0.000000</td>\n",
       "      <td>0.000000</td>\n",
       "      <td>...</td>\n",
       "      <td>0.000000</td>\n",
       "      <td>0.625523</td>\n",
       "      <td>0.000000</td>\n",
       "      <td>0.000000</td>\n",
       "      <td>0.000000</td>\n",
       "      <td>0.000000</td>\n",
       "      <td>0.000000</td>\n",
       "      <td>0.873105</td>\n",
       "      <td>0.656484</td>\n",
       "      <td>0.000000</td>\n",
       "    </tr>\n",
       "    <tr>\n",
       "      <th>...</th>\n",
       "      <td>...</td>\n",
       "      <td>...</td>\n",
       "      <td>...</td>\n",
       "      <td>...</td>\n",
       "      <td>...</td>\n",
       "      <td>...</td>\n",
       "      <td>...</td>\n",
       "      <td>...</td>\n",
       "      <td>...</td>\n",
       "      <td>...</td>\n",
       "      <td>...</td>\n",
       "      <td>...</td>\n",
       "      <td>...</td>\n",
       "      <td>...</td>\n",
       "      <td>...</td>\n",
       "      <td>...</td>\n",
       "      <td>...</td>\n",
       "      <td>...</td>\n",
       "      <td>...</td>\n",
       "      <td>...</td>\n",
       "      <td>...</td>\n",
       "    </tr>\n",
       "    <tr>\n",
       "      <th>ENSG00000157152</th>\n",
       "      <td>2.006299</td>\n",
       "      <td>2.820393</td>\n",
       "      <td>1.745110</td>\n",
       "      <td>2.468479</td>\n",
       "      <td>0.0000</td>\n",
       "      <td>0.000000</td>\n",
       "      <td>0.000000</td>\n",
       "      <td>0.0</td>\n",
       "      <td>2.945731</td>\n",
       "      <td>1.582466</td>\n",
       "      <td>...</td>\n",
       "      <td>2.345670</td>\n",
       "      <td>2.684303</td>\n",
       "      <td>2.484399</td>\n",
       "      <td>2.611894</td>\n",
       "      <td>2.341633</td>\n",
       "      <td>1.990744</td>\n",
       "      <td>1.351873</td>\n",
       "      <td>2.679290</td>\n",
       "      <td>2.487972</td>\n",
       "      <td>1.846029</td>\n",
       "    </tr>\n",
       "    <tr>\n",
       "      <th>ENSG00000112186</th>\n",
       "      <td>2.006299</td>\n",
       "      <td>2.820393</td>\n",
       "      <td>1.360721</td>\n",
       "      <td>1.492540</td>\n",
       "      <td>0.0000</td>\n",
       "      <td>2.391544</td>\n",
       "      <td>0.000000</td>\n",
       "      <td>0.0</td>\n",
       "      <td>2.254404</td>\n",
       "      <td>2.318932</td>\n",
       "      <td>...</td>\n",
       "      <td>0.861235</td>\n",
       "      <td>1.060421</td>\n",
       "      <td>0.940507</td>\n",
       "      <td>0.360711</td>\n",
       "      <td>1.012347</td>\n",
       "      <td>0.000000</td>\n",
       "      <td>0.828808</td>\n",
       "      <td>1.805211</td>\n",
       "      <td>0.656484</td>\n",
       "      <td>2.234892</td>\n",
       "    </tr>\n",
       "    <tr>\n",
       "      <th>ENSG00000076685</th>\n",
       "      <td>2.006299</td>\n",
       "      <td>0.000000</td>\n",
       "      <td>1.745110</td>\n",
       "      <td>1.328568</td>\n",
       "      <td>0.0000</td>\n",
       "      <td>0.000000</td>\n",
       "      <td>0.000000</td>\n",
       "      <td>0.0</td>\n",
       "      <td>1.420167</td>\n",
       "      <td>1.582466</td>\n",
       "      <td>...</td>\n",
       "      <td>0.861235</td>\n",
       "      <td>1.394136</td>\n",
       "      <td>0.940507</td>\n",
       "      <td>2.140355</td>\n",
       "      <td>2.605483</td>\n",
       "      <td>1.990744</td>\n",
       "      <td>0.828808</td>\n",
       "      <td>1.967391</td>\n",
       "      <td>0.000000</td>\n",
       "      <td>1.312032</td>\n",
       "    </tr>\n",
       "    <tr>\n",
       "      <th>ENSG00000134539</th>\n",
       "      <td>0.000000</td>\n",
       "      <td>1.776280</td>\n",
       "      <td>0.000000</td>\n",
       "      <td>0.381069</td>\n",
       "      <td>0.0000</td>\n",
       "      <td>1.643206</td>\n",
       "      <td>0.000000</td>\n",
       "      <td>0.0</td>\n",
       "      <td>0.000000</td>\n",
       "      <td>0.000000</td>\n",
       "      <td>...</td>\n",
       "      <td>0.000000</td>\n",
       "      <td>0.000000</td>\n",
       "      <td>0.000000</td>\n",
       "      <td>0.000000</td>\n",
       "      <td>0.000000</td>\n",
       "      <td>1.990744</td>\n",
       "      <td>1.351873</td>\n",
       "      <td>1.622463</td>\n",
       "      <td>0.000000</td>\n",
       "      <td>0.454942</td>\n",
       "    </tr>\n",
       "    <tr>\n",
       "      <th>ENSG00000127663</th>\n",
       "      <td>0.000000</td>\n",
       "      <td>0.000000</td>\n",
       "      <td>0.000000</td>\n",
       "      <td>1.328568</td>\n",
       "      <td>0.0000</td>\n",
       "      <td>0.000000</td>\n",
       "      <td>0.000000</td>\n",
       "      <td>0.0</td>\n",
       "      <td>0.878202</td>\n",
       "      <td>0.000000</td>\n",
       "      <td>...</td>\n",
       "      <td>0.861235</td>\n",
       "      <td>1.060421</td>\n",
       "      <td>0.000000</td>\n",
       "      <td>1.095070</td>\n",
       "      <td>0.000000</td>\n",
       "      <td>0.000000</td>\n",
       "      <td>1.734937</td>\n",
       "      <td>0.873105</td>\n",
       "      <td>1.105994</td>\n",
       "      <td>1.078734</td>\n",
       "    </tr>\n",
       "  </tbody>\n",
       "</table>\n",
       "<p>582 rows × 14085 columns</p>\n",
       "</div>"
      ],
      "text/plain": [
       "cell_id          GTACAACAGGCGTTGA.21.11  GAGTTGTAGCAACAGC.42.2  \\\n",
       "ENSG00000142920                0.000000               1.145814   \n",
       "ENSG00000128298                0.000000               0.000000   \n",
       "ENSG00000128739                0.000000               1.145814   \n",
       "ENSG00000115738                0.000000               0.000000   \n",
       "ENSG00000104325                0.000000               0.000000   \n",
       "...                                 ...                    ...   \n",
       "ENSG00000157152                2.006299               2.820393   \n",
       "ENSG00000112186                2.006299               2.820393   \n",
       "ENSG00000076685                2.006299               0.000000   \n",
       "ENSG00000134539                0.000000               1.776280   \n",
       "ENSG00000127663                0.000000               0.000000   \n",
       "\n",
       "cell_id          ACACCAATCCCGATCT.23.6  GCACATAAGAATCTAG.10.7  \\\n",
       "ENSG00000142920               1.360721               0.000000   \n",
       "ENSG00000128298               0.000000               0.381069   \n",
       "ENSG00000128739               0.000000               0.931244   \n",
       "ENSG00000115738               0.000000               0.381069   \n",
       "ENSG00000104325               0.000000               0.931244   \n",
       "...                                ...                    ...   \n",
       "ENSG00000157152               1.745110               2.468479   \n",
       "ENSG00000112186               1.360721               1.492540   \n",
       "ENSG00000076685               1.745110               1.328568   \n",
       "ENSG00000134539               0.000000               0.381069   \n",
       "ENSG00000127663               0.000000               1.328568   \n",
       "\n",
       "cell_id          AAGACCTAGCCTATGT.13.1  ACTTACTGTCAGAAGC.8.1  \\\n",
       "ENSG00000142920                 0.0000              1.643206   \n",
       "ENSG00000128298                 3.4106              0.000000   \n",
       "ENSG00000128739                 0.0000              0.000000   \n",
       "ENSG00000115738                 3.4106              0.000000   \n",
       "ENSG00000104325                 0.0000              0.000000   \n",
       "...                                ...                   ...   \n",
       "ENSG00000157152                 0.0000              0.000000   \n",
       "ENSG00000112186                 0.0000              2.391544   \n",
       "ENSG00000076685                 0.0000              0.000000   \n",
       "ENSG00000134539                 0.0000              1.643206   \n",
       "ENSG00000127663                 0.0000              0.000000   \n",
       "\n",
       "cell_id          CACAGGCAGAATCTCC.38.1  CGAGCCAGTATTACCG.29.0  \\\n",
       "ENSG00000142920               0.000000                    0.0   \n",
       "ENSG00000128298               0.000000                    0.0   \n",
       "ENSG00000128739               0.000000                    0.0   \n",
       "ENSG00000115738               2.347186                    0.0   \n",
       "ENSG00000104325               0.000000                    0.0   \n",
       "...                                ...                    ...   \n",
       "ENSG00000157152               0.000000                    0.0   \n",
       "ENSG00000112186               0.000000                    0.0   \n",
       "ENSG00000076685               0.000000                    0.0   \n",
       "ENSG00000134539               0.000000                    0.0   \n",
       "ENSG00000127663               0.000000                    0.0   \n",
       "\n",
       "cell_id          ACCCAAAGTGACCTGC.1.5  CGGACGTTCATGTGGT.15.1  ...  \\\n",
       "ENSG00000142920              0.504917               1.582466  ...   \n",
       "ENSG00000128298              0.504917               0.000000  ...   \n",
       "ENSG00000128739              1.174485               0.000000  ...   \n",
       "ENSG00000115738              0.000000               0.000000  ...   \n",
       "ENSG00000104325              0.000000               0.000000  ...   \n",
       "...                               ...                    ...  ...   \n",
       "ENSG00000157152              2.945731               1.582466  ...   \n",
       "ENSG00000112186              2.254404               2.318932  ...   \n",
       "ENSG00000076685              1.420167               1.582466  ...   \n",
       "ENSG00000134539              0.000000               0.000000  ...   \n",
       "ENSG00000127663              0.878202               0.000000  ...   \n",
       "\n",
       "cell_id          AGGGCCTTCGAGAACG.12.14  GCGATCGCACCTCTAC.12.11  \\\n",
       "ENSG00000142920                0.861235                1.664975   \n",
       "ENSG00000128298                0.861235                0.625523   \n",
       "ENSG00000128739                0.000000                0.625523   \n",
       "ENSG00000115738                0.000000                0.625523   \n",
       "ENSG00000104325                0.000000                0.625523   \n",
       "...                                 ...                     ...   \n",
       "ENSG00000157152                2.345670                2.684303   \n",
       "ENSG00000112186                0.861235                1.060421   \n",
       "ENSG00000076685                0.861235                1.394136   \n",
       "ENSG00000134539                0.000000                0.000000   \n",
       "ENSG00000127663                0.861235                1.060421   \n",
       "\n",
       "cell_id          ATGTCTTGTTCACCGG.16.2  TGCAGTACAACCAATC.26.2  \\\n",
       "ENSG00000142920               0.940507               0.649033   \n",
       "ENSG00000128298               0.000000               0.000000   \n",
       "ENSG00000128739               0.000000               0.000000   \n",
       "ENSG00000115738               0.000000               0.360711   \n",
       "ENSG00000104325               0.000000               0.000000   \n",
       "...                                ...                    ...   \n",
       "ENSG00000157152               2.484399               2.611894   \n",
       "ENSG00000112186               0.940507               0.360711   \n",
       "ENSG00000076685               0.940507               2.140355   \n",
       "ENSG00000134539               0.000000               0.000000   \n",
       "ENSG00000127663               0.000000               1.095070   \n",
       "\n",
       "cell_id          CGGACGTCACGGTAGA.19.0  CTAACCCTCCCGGTAG.31.6  \\\n",
       "ENSG00000142920               0.000000               0.000000   \n",
       "ENSG00000128298               2.828458               0.000000   \n",
       "ENSG00000128739               1.601402               0.000000   \n",
       "ENSG00000115738               2.018482               0.000000   \n",
       "ENSG00000104325               0.000000               0.000000   \n",
       "...                                ...                    ...   \n",
       "ENSG00000157152               2.341633               1.990744   \n",
       "ENSG00000112186               1.012347               0.000000   \n",
       "ENSG00000076685               2.605483               1.990744   \n",
       "ENSG00000134539               0.000000               1.990744   \n",
       "ENSG00000127663               0.000000               0.000000   \n",
       "\n",
       "cell_id          TCGGGCATCCCAGTGG.12.14  ATCACGAGTATCACCA.6.2  \\\n",
       "ENSG00000142920                0.000000              0.000000   \n",
       "ENSG00000128298                0.000000              0.501618   \n",
       "ENSG00000128739                0.000000              2.245558   \n",
       "ENSG00000115738                0.000000              0.501618   \n",
       "ENSG00000104325                0.000000              0.873105   \n",
       "...                                 ...                   ...   \n",
       "ENSG00000157152                1.351873              2.679290   \n",
       "ENSG00000112186                0.828808              1.805211   \n",
       "ENSG00000076685                0.828808              1.967391   \n",
       "ENSG00000134539                1.351873              1.622463   \n",
       "ENSG00000127663                1.734937              0.873105   \n",
       "\n",
       "cell_id          AAGACTCGTTGGGTAG.10.7  GATGATCCAGCCATTA.30.6  \n",
       "ENSG00000142920               0.000000               0.000000  \n",
       "ENSG00000128298               0.656484               0.454942  \n",
       "ENSG00000128739               1.105994               2.713896  \n",
       "ENSG00000115738               1.105994               0.000000  \n",
       "ENSG00000104325               0.656484               0.000000  \n",
       "...                                ...                    ...  \n",
       "ENSG00000157152               2.487972               1.846029  \n",
       "ENSG00000112186               0.656484               2.234892  \n",
       "ENSG00000076685               0.000000               1.312032  \n",
       "ENSG00000134539               0.000000               0.454942  \n",
       "ENSG00000127663               1.105994               1.078734  \n",
       "\n",
       "[582 rows x 14085 columns]"
      ]
     },
     "execution_count": 57,
     "metadata": {},
     "output_type": "execute_result"
    }
   ],
   "source": [
    "train_x"
   ]
  },
  {
   "cell_type": "code",
   "execution_count": 58,
   "id": "0cc76530-a8e9-4c58-a08b-d3d1033ea819",
   "metadata": {},
   "outputs": [],
   "source": [
    "\n",
    "train_dataset = TabularDataset(train_x.T,train_y)\n",
    "val_dataset = TabularDataset(val_x.T,y_val)\n",
    "test_dataset = TabularDataset(test_x.T,y_test) \n",
    "\n",
    "dataloader_params = {\n",
    "    'batch_size': 1,\n",
    "    'shuffle': False\n",
    "    }\n",
    "\n",
    "train_dataloader = DataLoader(train_dataset,**dataloader_params)\n",
    "test_dataloader = DataLoader(test_dataset, **dataloader_params)\n",
    "val_dataloader = DataLoader(val_dataset,**dataloader_params)"
   ]
  },
  {
   "cell_type": "code",
   "execution_count": 59,
   "id": "4dce6d6f-cadc-4111-bc5c-6618bec14a2f",
   "metadata": {},
   "outputs": [
    {
     "data": {
      "text/plain": [
       "{2: CustomNetwork(\n",
       "   (layers): ModuleList(\n",
       "     (0): Linear(in_features=582, out_features=356, bias=False)\n",
       "     (1): Linear(in_features=356, out_features=1, bias=True)\n",
       "   )\n",
       " ),\n",
       " 3: CustomNetwork(\n",
       "   (layers): ModuleList(\n",
       "     (0): Linear(in_features=582, out_features=356, bias=False)\n",
       "     (1): Linear(in_features=356, out_features=134, bias=False)\n",
       "     (2): Linear(in_features=134, out_features=1, bias=True)\n",
       "   )\n",
       " ),\n",
       " 4: CustomNetwork(\n",
       "   (layers): ModuleList(\n",
       "     (0): Linear(in_features=582, out_features=356, bias=False)\n",
       "     (1): Linear(in_features=356, out_features=134, bias=False)\n",
       "     (2): Linear(in_features=134, out_features=29, bias=False)\n",
       "     (3): Linear(in_features=29, out_features=1, bias=True)\n",
       "   )\n",
       " )}"
      ]
     },
     "execution_count": 59,
     "metadata": {},
     "output_type": "execute_result"
    }
   ],
   "source": [
    "model_dict_sparse"
   ]
  },
  {
   "cell_type": "code",
   "execution_count": 60,
   "id": "683ab5ca-4687-4923-8940-0e1bd5a6b234",
   "metadata": {},
   "outputs": [],
   "source": [
    "model_2 = model_dict_sparse[2]\n",
    "model_3 = model_dict_sparse[3]\n",
    "model_4 = model_dict_sparse[4]"
   ]
  },
  {
   "cell_type": "code",
   "execution_count": 73,
   "id": "b8458044-062e-48b9-a957-11ed67272bc4",
   "metadata": {},
   "outputs": [
    {
     "data": {
      "text/plain": [
       "CustomNetwork(\n",
       "  (layers): ModuleList(\n",
       "    (0): Linear(in_features=582, out_features=356, bias=False)\n",
       "    (1): Linear(in_features=356, out_features=1, bias=True)\n",
       "  )\n",
       ")"
      ]
     },
     "execution_count": 73,
     "metadata": {},
     "output_type": "execute_result"
    }
   ],
   "source": [
    "model_dict_sparse[2]"
   ]
  },
  {
   "cell_type": "code",
   "execution_count": 61,
   "id": "8bde3fb4-3f40-450f-9c3c-5b2a05aced97",
   "metadata": {},
   "outputs": [
    {
     "data": {
      "text/plain": [
       "CustomNetwork(\n",
       "  (layers): ModuleList(\n",
       "    (0): Linear(in_features=582, out_features=356, bias=False)\n",
       "    (1): Linear(in_features=356, out_features=1, bias=True)\n",
       "  )\n",
       ")"
      ]
     },
     "execution_count": 61,
     "metadata": {},
     "output_type": "execute_result"
    }
   ],
   "source": [
    "model_2"
   ]
  },
  {
   "cell_type": "code",
   "execution_count": 75,
   "id": "5337d8b1-82eb-4825-be59-e962176e58a0",
   "metadata": {},
   "outputs": [
    {
     "data": {
      "text/plain": [
       "65.63032367972743"
      ]
     },
     "execution_count": 75,
     "metadata": {},
     "output_type": "execute_result"
    }
   ],
   "source": [
    "accuracy, loss, predicted_list, labels_list, probability_list = evaluate(model_dict_sparse[4], test_dataloader)\n",
    "accuracy"
   ]
  },
  {
   "cell_type": "code",
   "execution_count": 62,
   "id": "e823f1ea-15ab-417a-a6ca-9976f4876d88",
   "metadata": {},
   "outputs": [
    {
     "name": "stdout",
     "output_type": "stream",
     "text": [
      "tensor([[1.]])\n",
      "torch.Size([1, 582])\n"
     ]
    }
   ],
   "source": [
    "for features, labels in test_dataloader:\n",
    "    print(labels)\n",
    "    print(features.shape)\n",
    "    break"
   ]
  },
  {
   "cell_type": "code",
   "execution_count": 63,
   "id": "6022339a-cf84-4801-b60c-666f947f77c3",
   "metadata": {},
   "outputs": [
    {
     "data": {
      "text/plain": [
       "{'dataset': {'train': '/12tb_dsk1/danish/Pytorch_Biologically_Informed_Neural_Network/Preprocessed_data/excitory_neurons/Exc_L2-3_CBLN2_LINC02306/train.csv',\n",
       "  'test': '/12tb_dsk1/danish/Pytorch_Biologically_Informed_Neural_Network/Preprocessed_data/excitory_neurons/Exc_L2-3_CBLN2_LINC02306/test.csv',\n",
       "  'val': '/12tb_dsk1/danish/Pytorch_Biologically_Informed_Neural_Network/Preprocessed_data/excitory_neurons/Exc_L2-3_CBLN2_LINC02306/val.csv',\n",
       "  'y_train': '/12tb_dsk1/danish/Pytorch_Biologically_Informed_Neural_Network/Preprocessed_data/excitory_neurons/Exc_L2-3_CBLN2_LINC02306/y_train.csv',\n",
       "  'y_test': '/12tb_dsk1/danish/Pytorch_Biologically_Informed_Neural_Network/Preprocessed_data/excitory_neurons/Exc_L2-3_CBLN2_LINC02306/y_test.csv',\n",
       "  'y_val': '/12tb_dsk1/danish/Pytorch_Biologically_Informed_Neural_Network/Preprocessed_data/excitory_neurons/Exc_L2-3_CBLN2_LINC02306/y_val.csv'},\n",
       " 'model_output': {'model_save_dir': '/12tb_dsk1/danish/Pytorch_Biologically_Informed_Neural_Network/model_save/excitory_neurons/Exc_L2-3_CBLN2_LINC02306/'},\n",
       " 'train': {'epochs': 50,\n",
       "  'learning_rate': 0.001,\n",
       "  'weight_decay': 0.0001,\n",
       "  'batch_size': 8192},\n",
       " 'gene_expression': {'highly_expressed_threshold': 0.95,\n",
       "  'lowly_expressed_threshold': 0.95,\n",
       "  'normalization': True,\n",
       "  'marker': True,\n",
       "  'print_information': True},\n",
       " 'pathways_network': {'species': 'human',\n",
       "  'n_hidden_layer': 3,\n",
       "  'pathway_relation': '../../usman/CellTICS/reactome/ReactomePathwaysRelation.txt',\n",
       "  'pathway_names': '../../usman/CellTICS/reactome/ReactomePathways.txt',\n",
       "  'ensemble_pathway_relation': '../../usman/CellTICS/reactome/Ensembl2Reactome_All_Levels.txt',\n",
       "  'datatype': 'diagnosis'},\n",
       " 'date_string': '2024_08_05_09_46_44'}"
      ]
     },
     "execution_count": 63,
     "metadata": {},
     "output_type": "execute_result"
    }
   ],
   "source": [
    "config"
   ]
  },
  {
   "cell_type": "code",
   "execution_count": 78,
   "id": "8b688d50-c892-4781-8630-259ed9e5078b",
   "metadata": {},
   "outputs": [
    {
     "name": "stdout",
     "output_type": "stream",
     "text": [
      "Linear(in_features=582, out_features=356, bias=False)\n",
      "Linear(in_features=356, out_features=1, bias=True)\n"
     ]
    }
   ],
   "source": [
    "activations = {}\n",
    "\n",
    "# Define a hook function to capture the activations\n",
    "def get_activation(name, sample_idx, number_of_layers, config):\n",
    "    def hook(model, input, output):\n",
    "        # Convert output to numpy array for easier handling, but this is optional\n",
    "        activations[name] = output.detach().numpy()\n",
    "        output_dir = config['model_output']['model_save_dir'] + config['date_string'] + '/model_interpretation'\n",
    "        try:\n",
    "            os.makedirs(output_dir)\n",
    "        except:\n",
    "            print('already_directory there')\n",
    "        csv_filename = os.path.join(output_dir, f\"{name}_sample_{sample_idx}_model_hidden_layers_{number_of_layers}.csv\")\n",
    "        np.savetxt(csv_filename, activation, delimiter=\",\")\n",
    "        \n",
    "    return hook\n",
    "\n",
    "for idx, layer in enumerate(model_2.layers):\n",
    "    print(layer)\n",
    "    number_of_layers = len(model_2.layers)\n",
    "    layer.register_forward_hook(lambda mod, input, output, idx=idx: get_activation(f'layer_{idx}', sample_idx, number_of_layers, config))\n"
   ]
  },
  {
   "cell_type": "code",
   "execution_count": 65,
   "id": "5a223d76-ebaf-479f-9eb3-6c79676b365c",
   "metadata": {},
   "outputs": [
    {
     "name": "stdout",
     "output_type": "stream",
     "text": [
      "tensor([[1.]])\n",
      "torch.Size([1, 582])\n"
     ]
    },
    {
     "ename": "TypeError",
     "evalue": "tanh(): argument 'input' (position 1) must be Tensor, not function",
     "output_type": "error",
     "traceback": [
      "\u001b[0;31m---------------------------------------------------------------------------\u001b[0m",
      "\u001b[0;31mTypeError\u001b[0m                                 Traceback (most recent call last)",
      "Cell \u001b[0;32mIn[65], line 13\u001b[0m\n\u001b[1;32m     11\u001b[0m \u001b[38;5;28mprint\u001b[39m(labels)\n\u001b[1;32m     12\u001b[0m \u001b[38;5;28mprint\u001b[39m(features\u001b[38;5;241m.\u001b[39mshape)\n\u001b[0;32m---> 13\u001b[0m outputs \u001b[38;5;241m=\u001b[39m  \u001b[43mmodel_2\u001b[49m\u001b[43m(\u001b[49m\u001b[43mfeatures\u001b[49m\u001b[43m)\u001b[49m\n\u001b[1;32m     14\u001b[0m     \u001b[38;5;66;03m#print(outputs)\u001b[39;00m\n\u001b[1;32m     15\u001b[0m probability \u001b[38;5;241m=\u001b[39m torch\u001b[38;5;241m.\u001b[39msigmoid(outputs\u001b[38;5;241m.\u001b[39mdata)\n",
      "File \u001b[0;32m~/.local/lib/python3.12/site-packages/torch/nn/modules/module.py:1532\u001b[0m, in \u001b[0;36mModule._wrapped_call_impl\u001b[0;34m(self, *args, **kwargs)\u001b[0m\n\u001b[1;32m   1530\u001b[0m     \u001b[38;5;28;01mreturn\u001b[39;00m \u001b[38;5;28mself\u001b[39m\u001b[38;5;241m.\u001b[39m_compiled_call_impl(\u001b[38;5;241m*\u001b[39margs, \u001b[38;5;241m*\u001b[39m\u001b[38;5;241m*\u001b[39mkwargs)  \u001b[38;5;66;03m# type: ignore[misc]\u001b[39;00m\n\u001b[1;32m   1531\u001b[0m \u001b[38;5;28;01melse\u001b[39;00m:\n\u001b[0;32m-> 1532\u001b[0m     \u001b[38;5;28;01mreturn\u001b[39;00m \u001b[38;5;28;43mself\u001b[39;49m\u001b[38;5;241;43m.\u001b[39;49m\u001b[43m_call_impl\u001b[49m\u001b[43m(\u001b[49m\u001b[38;5;241;43m*\u001b[39;49m\u001b[43margs\u001b[49m\u001b[43m,\u001b[49m\u001b[43m \u001b[49m\u001b[38;5;241;43m*\u001b[39;49m\u001b[38;5;241;43m*\u001b[39;49m\u001b[43mkwargs\u001b[49m\u001b[43m)\u001b[49m\n",
      "File \u001b[0;32m~/.local/lib/python3.12/site-packages/torch/nn/modules/module.py:1541\u001b[0m, in \u001b[0;36mModule._call_impl\u001b[0;34m(self, *args, **kwargs)\u001b[0m\n\u001b[1;32m   1536\u001b[0m \u001b[38;5;66;03m# If we don't have any hooks, we want to skip the rest of the logic in\u001b[39;00m\n\u001b[1;32m   1537\u001b[0m \u001b[38;5;66;03m# this function, and just call forward.\u001b[39;00m\n\u001b[1;32m   1538\u001b[0m \u001b[38;5;28;01mif\u001b[39;00m \u001b[38;5;129;01mnot\u001b[39;00m (\u001b[38;5;28mself\u001b[39m\u001b[38;5;241m.\u001b[39m_backward_hooks \u001b[38;5;129;01mor\u001b[39;00m \u001b[38;5;28mself\u001b[39m\u001b[38;5;241m.\u001b[39m_backward_pre_hooks \u001b[38;5;129;01mor\u001b[39;00m \u001b[38;5;28mself\u001b[39m\u001b[38;5;241m.\u001b[39m_forward_hooks \u001b[38;5;129;01mor\u001b[39;00m \u001b[38;5;28mself\u001b[39m\u001b[38;5;241m.\u001b[39m_forward_pre_hooks\n\u001b[1;32m   1539\u001b[0m         \u001b[38;5;129;01mor\u001b[39;00m _global_backward_pre_hooks \u001b[38;5;129;01mor\u001b[39;00m _global_backward_hooks\n\u001b[1;32m   1540\u001b[0m         \u001b[38;5;129;01mor\u001b[39;00m _global_forward_hooks \u001b[38;5;129;01mor\u001b[39;00m _global_forward_pre_hooks):\n\u001b[0;32m-> 1541\u001b[0m     \u001b[38;5;28;01mreturn\u001b[39;00m \u001b[43mforward_call\u001b[49m\u001b[43m(\u001b[49m\u001b[38;5;241;43m*\u001b[39;49m\u001b[43margs\u001b[49m\u001b[43m,\u001b[49m\u001b[43m \u001b[49m\u001b[38;5;241;43m*\u001b[39;49m\u001b[38;5;241;43m*\u001b[39;49m\u001b[43mkwargs\u001b[49m\u001b[43m)\u001b[49m\n\u001b[1;32m   1543\u001b[0m \u001b[38;5;28;01mtry\u001b[39;00m:\n\u001b[1;32m   1544\u001b[0m     result \u001b[38;5;241m=\u001b[39m \u001b[38;5;28;01mNone\u001b[39;00m\n",
      "File \u001b[0;32m/12tb_dsk1/danish/Pytorch_Biologically_Informed_Neural_Network/custom_neural_network.py:51\u001b[0m, in \u001b[0;36mCustomNetwork.forward\u001b[0;34m(self, x)\u001b[0m\n\u001b[1;32m     41\u001b[0m     x \u001b[38;5;241m=\u001b[39m layer(x)\n\u001b[1;32m     43\u001b[0m \u001b[38;5;250m    \u001b[39m\u001b[38;5;124;03m'''\u001b[39;00m\n\u001b[1;32m     44\u001b[0m \u001b[38;5;124;03m    x = x.unsqueeze(2)\u001b[39;00m\n\u001b[1;32m     45\u001b[0m \u001b[38;5;124;03m    print('x shape before multi: ',x.shape)\u001b[39;00m\n\u001b[0;32m   (...)\u001b[0m\n\u001b[1;32m     49\u001b[0m \u001b[38;5;124;03m    x = torch.tanh(x)\u001b[39;00m\n\u001b[1;32m     50\u001b[0m \u001b[38;5;124;03m    '''\u001b[39;00m\n\u001b[0;32m---> 51\u001b[0m     x \u001b[38;5;241m=\u001b[39m \u001b[43mtorch\u001b[49m\u001b[38;5;241;43m.\u001b[39;49m\u001b[43mtanh\u001b[49m\u001b[43m(\u001b[49m\u001b[43mx\u001b[49m\u001b[43m)\u001b[49m\n\u001b[1;32m     52\u001b[0m     \u001b[38;5;66;03m#print('x shape: ',x.shape)\u001b[39;00m\n\u001b[1;32m     53\u001b[0m \u001b[38;5;66;03m#print(x.shape)\u001b[39;00m\n\u001b[1;32m     55\u001b[0m x \u001b[38;5;241m=\u001b[39m \u001b[38;5;28mself\u001b[39m\u001b[38;5;241m.\u001b[39mlayers[\u001b[38;5;241m-\u001b[39m\u001b[38;5;241m1\u001b[39m](x)\n",
      "\u001b[0;31mTypeError\u001b[0m: tanh(): argument 'input' (position 1) must be Tensor, not function"
     ]
    }
   ],
   "source": [
    "model_2.eval()  # Set the model to evaluation mode\n",
    "correct = 0\n",
    "total = 0\n",
    "predicted_list = []\n",
    "probability_list = []\n",
    "labels_list = []\n",
    "criterion = nn.BCEWithLogitsLoss()\n",
    "loss = 0\n",
    "with torch.no_grad():  # No need to compute gradients during evaluation\n",
    "    for sample_idx, (features, labels) in enumerate(test_dataloader):\n",
    "        print(labels)\n",
    "        print(features.shape)\n",
    "        outputs =  model_2(features)\n",
    "            #print(outputs)\n",
    "        probability = torch.sigmoid(outputs.data)\n",
    "        predicted = torch.round(torch.sigmoid(outputs.data))\n",
    "            #print(outputs)\n",
    "            #print(predicted)\n",
    "        #loss += criterion(outputs, labels)\n",
    "            #_, predicted = torch.sigmoid(outputs.data)\n",
    "        predicted_list.extend(predicted)\n",
    "        labels_list.extend(labels)\n",
    "        probability_list.extend(probability)\n",
    "        total += labels.size(0)\n",
    "        correct += (predicted == labels).sum().item()\n",
    "        \n",
    "    #print(total)\n",
    "accuracy = 100 * correct / total"
   ]
  },
  {
   "cell_type": "code",
   "execution_count": 10,
   "id": "e7e365da-98dd-4268-ba12-58198d2588a1",
   "metadata": {},
   "outputs": [
    {
     "data": {
      "text/plain": [
       "100.0"
      ]
     },
     "execution_count": 10,
     "metadata": {},
     "output_type": "execute_result"
    }
   ],
   "source": [
    "accuracy"
   ]
  },
  {
   "cell_type": "code",
   "execution_count": 11,
   "id": "752bb9d4-3a1a-49f4-b260-1a115d09f49b",
   "metadata": {},
   "outputs": [
    {
     "data": {
      "text/plain": [
       "{'layer_0': array([[ 2.96206146e-01,  1.27690226e-01,  3.66973221e-01,\n",
       "          7.09568322e-01, -2.00132981e-01,  4.48493399e-02,\n",
       "          1.67873546e-01, -1.66143663e-02, -4.97219235e-01,\n",
       "         -2.31709689e-01, -1.32067248e-01,  3.03427190e-01,\n",
       "          3.21313180e-02, -6.74475580e-02,  3.19500625e-01,\n",
       "          1.72643438e-01,  4.34936918e-02,  5.29077530e-01,\n",
       "         -1.06818840e-01,  2.16723651e-01,  1.84147567e-01,\n",
       "          6.32062137e-01,  1.91032559e-01, -1.75858647e-01,\n",
       "         -3.60671431e-01, -3.09281737e-01,  8.85776758e-01,\n",
       "          2.93016732e-01, -1.84145919e-03,  1.88473284e-01,\n",
       "         -1.34294018e-01, -6.66129589e-02, -4.00170200e-02,\n",
       "          3.17997992e-01,  1.91933215e-02, -2.64761318e-02,\n",
       "         -2.09678158e-01, -7.97831893e-01, -7.12285042e-01,\n",
       "          1.62922710e-01,  3.33372295e-01,  2.31371477e-01,\n",
       "         -6.45204723e-01, -3.02555680e-01, -6.11125231e-02,\n",
       "         -2.07096145e-01, -5.21495007e-02,  0.00000000e+00,\n",
       "          1.52642205e-01,  3.70814651e-01, -7.84361642e-03,\n",
       "         -4.72317077e-02, -6.85185492e-02,  2.97301769e-01,\n",
       "          1.92409575e-01,  6.18134141e-02,  2.25801736e-01,\n",
       "          0.00000000e+00,  7.35189497e-01,  2.28915364e-01,\n",
       "          7.16437876e-01,  1.88652992e-01,  1.74692720e-02,\n",
       "         -1.20815165e-01, -6.74264356e-02,  4.65764143e-02,\n",
       "         -3.78432333e-01,  3.73301283e-02,  4.53714058e-02,\n",
       "          2.12257698e-01, -1.94459766e-01,  3.04979891e-01,\n",
       "         -2.05549181e-01,  8.60682130e-02,  2.19858378e-01,\n",
       "         -6.36808872e-02,  5.54965973e-01, -1.60953507e-01,\n",
       "          1.01826519e-01, -3.10841531e-01, -1.02495298e-01,\n",
       "         -1.89395130e-01, -8.13148841e-02, -1.03520319e-01,\n",
       "          1.97376549e-01, -3.82798791e-01, -8.90492499e-02,\n",
       "          9.19755250e-02,  2.34917346e-02, -3.94720465e-01,\n",
       "         -2.18991190e-01,  0.00000000e+00, -1.27010942e-02,\n",
       "          7.00815767e-02, -7.95292377e-01, -4.11187336e-02,\n",
       "         -1.82872847e-01, -1.00326918e-01,  3.17433864e-01,\n",
       "          4.91489209e-02, -2.06045675e-04,  2.24063173e-01,\n",
       "          1.81849107e-01,  8.19651708e-02, -2.53623426e-02,\n",
       "          4.39168662e-02,  1.85238227e-01, -3.66985500e-02,\n",
       "         -9.70825553e-03, -1.93041712e-01, -2.42604643e-01,\n",
       "          5.45821786e-02, -1.25069380e-01, -2.14097872e-01,\n",
       "          1.00337595e-01, -1.93215460e-01, -2.09701747e-01,\n",
       "         -3.81996781e-02, -3.87359619e-01, -6.80578649e-02,\n",
       "         -3.72039646e-01,  7.80396089e-02, -2.21203625e-01,\n",
       "         -2.85818100e-01,  2.93869853e-01, -1.67020082e-01,\n",
       "          0.00000000e+00,  6.41078770e-01, -7.92685896e-02,\n",
       "          3.92002314e-02,  1.49576396e-01,  8.51214826e-02,\n",
       "          8.70190412e-02,  0.00000000e+00, -4.41367269e-01,\n",
       "          1.46479636e-01,  1.76753938e-01, -2.94000581e-02,\n",
       "          1.62156940e-01, -2.85999358e-01,  1.86779752e-01,\n",
       "          3.82629335e-02,  0.00000000e+00, -1.61942258e-01,\n",
       "         -1.08534552e-01,  5.09525277e-02,  0.00000000e+00,\n",
       "         -4.68010008e-01, -1.66103825e-01,  1.79421887e-01,\n",
       "         -1.25596553e-01, -3.53145361e-01, -1.24310791e-01,\n",
       "         -3.62097263e-01, -1.26945823e-01,  2.45080754e-01,\n",
       "          2.06784472e-01,  5.06388605e-01,  2.54938006e-03,\n",
       "          9.81529504e-02, -5.64830005e-02,  0.00000000e+00,\n",
       "          2.12770760e-01,  1.36947796e-01, -2.72778898e-01,\n",
       "          6.74179643e-02,  2.13450164e-01, -1.82143778e-01,\n",
       "          3.94374341e-01, -6.43240809e-02,  2.78127640e-02,\n",
       "          0.00000000e+00, -9.35048983e-02,  2.38691986e-01,\n",
       "          1.48830310e-01,  7.29233995e-02, -4.35622036e-01,\n",
       "          4.42132503e-01,  9.09783840e-02, -5.52278571e-02,\n",
       "          5.03921881e-04,  3.47562075e-01,  1.36416346e-01,\n",
       "         -8.44834447e-02, -3.41631919e-01, -1.27087384e-01,\n",
       "          1.12652376e-01, -2.08918542e-01, -4.72916901e-01,\n",
       "         -1.33498386e-03,  6.81240320e-01, -3.48048270e-01,\n",
       "          1.92420930e-01,  1.01256996e-01, -3.42071354e-01,\n",
       "          6.67854100e-02, -8.12186226e-02,  5.13672978e-02,\n",
       "          4.04082239e-02,  6.43495262e-01,  9.80660319e-04,\n",
       "          0.00000000e+00, -4.05967951e-01, -2.23194405e-01,\n",
       "          6.26691803e-02,  3.28545749e-01, -2.10200220e-01,\n",
       "          1.13919653e-01, -5.97439289e-01, -7.62405917e-02,\n",
       "          0.00000000e+00, -7.13914335e-02, -1.58563629e-01,\n",
       "         -4.31835264e-01,  1.16770789e-01, -3.79836977e-01,\n",
       "         -9.75196213e-02,  1.58443227e-01,  1.55620247e-01,\n",
       "         -6.99879378e-02,  1.09848797e-01,  2.33079195e-02,\n",
       "         -4.24755454e-01,  0.00000000e+00, -1.30122304e-01,\n",
       "          0.00000000e+00, -2.27231383e-02, -1.71349838e-01,\n",
       "          4.74754833e-02, -3.58252712e-02, -2.48343647e-02,\n",
       "          2.89515197e-01,  3.12495083e-01,  0.00000000e+00,\n",
       "         -4.43181992e-01,  9.52093378e-02,  7.15527713e-01,\n",
       "          4.48904157e-01,  1.56068221e-01, -9.79935378e-02,\n",
       "         -1.37199253e-01, -6.49092048e-02,  1.16097912e-01,\n",
       "          2.98038006e-01,  3.39727700e-02, -1.45170800e-02,\n",
       "         -1.90241739e-01, -4.72435772e-01,  3.04028302e-01,\n",
       "          9.40061137e-02,  4.26344797e-02,  2.29093745e-01,\n",
       "         -2.98042178e-01,  2.03283861e-01, -1.65066019e-01,\n",
       "         -3.39468330e-01, -4.95893061e-01, -6.11710139e-02,\n",
       "          7.65155911e-01, -5.61880358e-02, -2.63497025e-01,\n",
       "          1.97866052e-01, -7.93479905e-02,  1.61098465e-01,\n",
       "         -1.41655102e-01,  1.60721451e-01,  0.00000000e+00,\n",
       "          1.00665145e-01,  3.69959384e-01,  1.90668523e-01,\n",
       "          2.72630192e-02, -7.47279972e-02, -2.23524302e-01,\n",
       "          2.28054985e-01,  3.63502771e-01,  5.14232814e-01,\n",
       "          5.96753359e-01,  1.11274689e-01,  3.38497818e-01,\n",
       "          0.00000000e+00,  0.00000000e+00,  2.25857049e-01,\n",
       "         -4.21067119e-01, -1.66264519e-01, -1.38432652e-01,\n",
       "          7.69409984e-02,  1.78994313e-01, -2.70343255e-02,\n",
       "          4.72393781e-02,  4.69708480e-02,  7.06185214e-03,\n",
       "          2.25994796e-01, -4.07492578e-01, -1.16366431e-01,\n",
       "         -3.97965968e-01,  1.38426289e-01,  3.74042615e-03,\n",
       "          1.91571787e-01,  1.77821428e-01, -8.95267129e-02,\n",
       "          3.78776155e-02, -1.40308857e-01,  5.09303153e-01,\n",
       "         -1.32730693e-01, -4.68604863e-02, -7.83297792e-03,\n",
       "          2.01461196e-01,  2.31327862e-01, -3.72915924e-01,\n",
       "         -1.18528828e-01, -2.99888849e-02, -2.29058117e-01,\n",
       "          1.03400335e-01,  0.00000000e+00,  3.83846790e-01,\n",
       "         -3.94572616e-01,  2.60059655e-01,  2.25212306e-01,\n",
       "         -7.62772486e-02, -8.99374485e-02, -2.44068891e-01,\n",
       "          1.03953779e-01, -2.10829437e-01,  5.12389988e-02,\n",
       "          5.95675230e-01, -2.43100643e-01,  1.47206128e-01,\n",
       "          1.70735136e-01,  1.07495621e-01, -1.69089381e-02,\n",
       "         -1.76275253e-01,  4.41564471e-02,  8.04968178e-02,\n",
       "         -6.34540990e-02, -2.30825499e-01,  4.11197364e-01,\n",
       "          3.29159237e-02, -1.01404563e-02, -1.60336733e-01,\n",
       "         -5.02661355e-02, -6.17425591e-02, -3.74361962e-01,\n",
       "          3.41476649e-01,  3.76556128e-01,  1.40976429e-01,\n",
       "          2.80286461e-01,  7.19060004e-03,  1.00521818e-01,\n",
       "         -4.62362945e-01,  5.75318858e-02, -9.66162533e-02,\n",
       "         -1.31226415e-02,  7.15610325e-01,  2.70697325e-02,\n",
       "          1.30647629e-01, -5.14991619e-02]], dtype=float32),\n",
       " 'layer_1': array([[-4.17350717e-02, -1.38227046e-02, -6.89482018e-02,\n",
       "          6.52164500e-03, -1.78219639e-02,  5.59299067e-03,\n",
       "         -1.16091808e-02,  5.74546214e-03, -1.97860524e-02,\n",
       "          6.20345678e-03, -4.61748896e-05,  1.56063810e-02,\n",
       "          4.62580621e-02, -4.36461009e-02, -1.69018023e-02,\n",
       "          3.45075019e-02, -3.73895355e-02,  5.09759821e-02,\n",
       "          1.75671041e-01, -9.66888759e-03, -3.13848117e-03,\n",
       "          3.90089527e-02,  2.69476771e-02,  1.07598472e-02,\n",
       "          1.78664625e-02,  2.65812278e-02,  3.49316411e-02,\n",
       "         -1.45123461e-02,  4.52420727e-06,  6.12798855e-02,\n",
       "         -1.00348368e-01, -2.29277946e-02, -4.14801277e-02,\n",
       "         -2.79595879e-05, -3.34137445e-03,  6.14844039e-02,\n",
       "         -3.42230196e-03,  2.61817724e-02,  2.75540333e-02,\n",
       "         -3.87711935e-02,  1.23213893e-02,  2.66446173e-01,\n",
       "          1.12053730e-01, -1.22413456e-01, -3.27071063e-02,\n",
       "         -4.63733487e-02, -6.07503997e-03, -4.59648110e-02,\n",
       "         -1.03173312e-04,  5.30815162e-02, -7.65431896e-02,\n",
       "         -7.50479400e-02,  5.54235503e-02,  2.84769014e-02,\n",
       "          0.00000000e+00,  2.86645889e-02, -7.96613991e-02,\n",
       "          3.10514104e-02,  1.52033344e-02, -3.51419020e-03,\n",
       "         -4.85012643e-02,  1.28018670e-02, -1.37900382e-01,\n",
       "          1.75488815e-02,  5.37526049e-02,  9.85697955e-02,\n",
       "         -4.20949273e-02, -4.12339829e-02,  1.40636368e-02,\n",
       "          1.62072778e-01, -9.81092751e-02,  3.40641066e-02,\n",
       "         -4.81100604e-02, -3.61183956e-02, -4.69815545e-02,\n",
       "          1.57805942e-02, -1.75603285e-01,  5.97312935e-02,\n",
       "          1.74404740e-01,  1.07205259e-02, -2.25572698e-02,\n",
       "         -4.55457829e-02, -1.98017210e-02,  1.55795366e-01,\n",
       "         -8.98606256e-02,  4.32669697e-03,  3.30826007e-02,\n",
       "         -2.01033615e-02,  2.68282220e-02,  3.01848203e-02,\n",
       "          7.80249536e-02, -6.81684166e-03,  1.68786496e-02,\n",
       "          3.84278595e-04,  0.00000000e+00,  5.73579445e-02,\n",
       "          7.81667531e-02, -1.08283935e-02, -4.55473624e-02,\n",
       "         -5.32849517e-05, -1.36511857e-02, -9.88160372e-02,\n",
       "         -1.47785917e-02,  0.00000000e+00, -2.66111009e-02,\n",
       "          3.58934216e-02,  5.98989252e-04,  1.52897770e-02,\n",
       "         -2.41756216e-02, -1.60460807e-02,  2.23280102e-01,\n",
       "         -4.44655344e-02, -2.84864847e-02, -6.00642003e-02,\n",
       "          1.00785308e-03,  0.00000000e+00,  6.27333671e-02,\n",
       "         -4.20746431e-02,  1.00754909e-01, -6.55777827e-02,\n",
       "          9.76162776e-02,  3.71073112e-02,  4.09010462e-02,\n",
       "          4.23038229e-02,  1.32320463e-04, -5.02535366e-02,\n",
       "         -4.01482638e-03,  8.12428221e-02,  1.03624240e-01,\n",
       "         -2.41779014e-02,  2.81769298e-02, -2.62606470e-03,\n",
       "          7.04981908e-02, -7.64573216e-02]], dtype=float32),\n",
       " 'layer_2': array([[0.03309521]], dtype=float32)}"
      ]
     },
     "execution_count": 11,
     "metadata": {},
     "output_type": "execute_result"
    }
   ],
   "source": [
    "activations"
   ]
  },
  {
   "cell_type": "code",
   "execution_count": 12,
   "id": "c6814bb8-c98f-4875-9020-0f13ba0aef3b",
   "metadata": {},
   "outputs": [
    {
     "data": {
      "text/plain": [
       "(1, 134)"
      ]
     },
     "execution_count": 12,
     "metadata": {},
     "output_type": "execute_result"
    }
   ],
   "source": [
    "activations['layer_1'].shape"
   ]
  }
 ],
 "metadata": {
  "kernelspec": {
   "display_name": "Python 3 (ipykernel)",
   "language": "python",
   "name": "python3"
  },
  "language_info": {
   "codemirror_mode": {
    "name": "ipython",
    "version": 3
   },
   "file_extension": ".py",
   "mimetype": "text/x-python",
   "name": "python",
   "nbconvert_exporter": "python",
   "pygments_lexer": "ipython3",
   "version": "3.12.2"
  }
 },
 "nbformat": 4,
 "nbformat_minor": 5
}
