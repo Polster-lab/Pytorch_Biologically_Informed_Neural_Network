{
 "cells": [
  {
   "cell_type": "code",
   "execution_count": 1,
   "id": "7d5cdb53-97f5-4257-81cd-bddeb027f895",
   "metadata": {},
   "outputs": [
    {
     "name": "stderr",
     "output_type": "stream",
     "text": [
      "2024-08-03 12:28:29.671862: I tensorflow/core/util/port.cc:113] oneDNN custom operations are on. You may see slightly different numerical results due to floating-point round-off errors from different computation orders. To turn them off, set the environment variable `TF_ENABLE_ONEDNN_OPTS=0`.\n",
      "2024-08-03 12:28:29.681246: E external/local_xla/xla/stream_executor/cuda/cuda_fft.cc:479] Unable to register cuFFT factory: Attempting to register factory for plugin cuFFT when one has already been registered\n",
      "2024-08-03 12:28:29.693278: E external/local_xla/xla/stream_executor/cuda/cuda_dnn.cc:10575] Unable to register cuDNN factory: Attempting to register factory for plugin cuDNN when one has already been registered\n",
      "2024-08-03 12:28:29.693297: E external/local_xla/xla/stream_executor/cuda/cuda_blas.cc:1442] Unable to register cuBLAS factory: Attempting to register factory for plugin cuBLAS when one has already been registered\n",
      "2024-08-03 12:28:29.702288: I tensorflow/core/platform/cpu_feature_guard.cc:210] This TensorFlow binary is optimized to use available CPU instructions in performance-critical operations.\n",
      "To enable the following instructions: AVX2 AVX512F AVX512_VNNI AVX512_BF16 FMA, in other operations, rebuild TensorFlow with the appropriate compiler flags.\n",
      "2024-08-03 12:28:30.093096: W tensorflow/compiler/tf2tensorrt/utils/py_utils.cc:38] TF-TRT Warning: Could not find TensorRT\n"
     ]
    }
   ],
   "source": [
    "import tensorflow as tf\n",
    "from gene_expression import *\n",
    "from pathway_hierarchy import *\n",
    "from utils import *\n",
    "import torch"
   ]
  },
  {
   "cell_type": "code",
   "execution_count": 3,
   "id": "828d4bb0-72b2-48a4-aec4-27f93b30497f",
   "metadata": {},
   "outputs": [],
   "source": [
    "import os\n",
    "import torch\n",
    "from tqdm import tqdm\n",
    "import numpy as np\n",
    "from torch.optim.lr_scheduler import ReduceLROnPlateau\n",
    "from torch.utils.data import Dataset, DataLoader\n",
    "import argparse\n",
    "from utils import *\n",
    "from gene_expression import *\n",
    "from pathway_hierarchy import *\n",
    "import pandas as pd\n",
    "import yaml\n",
    "from custom_neural_network import *\n",
    "from custom_fc_network import *\n",
    "from datetime import datetime\n",
    "import csv\n",
    "import copy\n",
    "import pickle\n",
    "import random\n",
    "random.seed(0)\n",
    "np.random.seed(0)\n",
    "\n",
    "\n",
    "model_dct = dict()\n",
    "\n",
    "# Hook function\n",
    "def hook_fn(module, input, output, layer_name):\n",
    "    global model_dct\n",
    "    input_list = [i.detach().cpu().numpy().tolist() for i in input]\n",
    "    output_list = output.detach().cpu().numpy().tolist()\n",
    "    \n",
    "    # If the layer name is not in the dictionary, create a new list for it\n",
    "    if layer_name not in model_dct:\n",
    "        model_dct[layer_name] = []\n",
    "\n",
    "    # Append the activations to the corresponding layer list\n",
    "    model_dct[layer_name].append({\n",
    "        'input': input_list,\n",
    "        'output': output_list\n",
    "    })\n",
    "\n",
    "\n",
    "\n",
    "# Define the file path for the CSV file\n",
    "def seed_worker(worker_id):\n",
    "    worker_seed = torch.initial_seed() % 2**32\n",
    "    np.random.seed(worker_seed)\n",
    "    random.seed(worker_seed)\n",
    "\n",
    "class TabularDataset(Dataset):\n",
    "    def __init__(self, count_matrix, label):\n",
    "        # Read the CSV file\n",
    "        self.data = count_matrix\n",
    "        # Separate features and target\n",
    "        self.features = self.data.values\n",
    "        self.target = label.values\n",
    "    \n",
    "    def __len__(self):\n",
    "        return len(self.data)\n",
    "    \n",
    "    def __getitem__(self, idx):\n",
    "        # Get features and target for a given index\n",
    "        features = torch.tensor(self.features[idx], dtype=torch.float32)\n",
    "        target = torch.tensor(self.target[idx], dtype=torch.float32)\n",
    "        return features, target\n",
    "\n",
    "def evaluate(model, dataloader):\n",
    "    model.eval()  # Set the model to evaluation mode\n",
    "    correct = 0\n",
    "    total = 0\n",
    "    predicted_list = []\n",
    "    probability_list = []\n",
    "    labels_list = []\n",
    "    criterion = nn.BCEWithLogitsLoss()\n",
    "    loss = 0\n",
    "    with torch.no_grad():  # No need to compute gradients during evaluation\n",
    "        for features, labels in dataloader:\n",
    "            outputs = model(features)\n",
    "            #print(outputs)\n",
    "            probability = torch.sigmoid(outputs.data)\n",
    "            predicted = torch.round(torch.sigmoid(outputs.data))\n",
    "            #print(outputs)\n",
    "            #print(predicted)\n",
    "            loss += criterion(outputs, labels)\n",
    "            #_, predicted = torch.sigmoid(outputs.data)\n",
    "            predicted_list.extend(predicted)\n",
    "            labels_list.extend(labels)\n",
    "            probability_list.extend(probability)\n",
    "            total += labels.size(0)\n",
    "            correct += (predicted == labels).sum().item()\n",
    "    #print(total)\n",
    "    accuracy = 100 * correct / total\n",
    "    return accuracy, loss, predicted_list, labels_list, probability_list\n",
    "\n",
    "def save_model(model_nn,model_path, model_state_dict_path):\n",
    "    \n",
    "    model_nn.eval()\n",
    "    torch.save(model_nn, model_path)\n",
    "    torch.save(model_nn.state_dict(), model_state_dict_path)\n",
    "\n",
    "\n",
    "\n",
    "\n",
    "def model_fc(train_dataloader , val_dataloader, test_dataloader, test_cell_id, layers_node, masking, output_layer,model_save_dir, date_string, learning_rate=0.001, num_epochs=50, weight_decay = 0):\n",
    "\n",
    "    model_nn = CustomfcNetwork(layers_node, output_layer, masking)\n",
    "    optimizer = optim.AdamW(model_nn.parameters(), lr=learning_rate,weight_decay = weight_decay )  # Using SGD with momentum\n",
    "    criterion = nn.BCEWithLogitsLoss()\n",
    "    scheduler = ReduceLROnPlateau(optimizer, mode='max', factor=0.1, patience=5, verbose=True)\n",
    "    patience = 20\n",
    "    best_val_accuracy = 0.0\n",
    "    epochs_no_improve = 0\n",
    "    early_stop = False\n",
    "    csv_file_path = f'{model_save_dir}{date_string}/fc_training_log_{output_layer}.csv'\n",
    "\n",
    "    try:\n",
    "        os.makedirs(f'{model_save_dir}{date_string}')\n",
    "    except:\n",
    "        print(('...'))\n",
    "\n",
    "    with open(csv_file_path, mode='w', newline='') as file:\n",
    "        writer = csv.writer(file)\n",
    "        writer.writerow(['Epoch', 'Train_Loss', 'Train_accuracy','Validation_Loss','Val_accuracy'])\n",
    "\n",
    "    for epoch in tqdm(range(num_epochs)):\n",
    "        if early_stop:\n",
    "            print(\"Early stopping\")\n",
    "            break\n",
    "        epoch_cost = 0.\n",
    "        \n",
    "        total_loss = 0\n",
    "        for batch_features,batch_targets in train_dataloader:\n",
    "            outputs = model_nn(batch_features)\n",
    "            #print(outputs)\n",
    "            #print(batch_targets)\n",
    "            #print(outputs)\n",
    "            loss = criterion(outputs, batch_targets)\n",
    "            \n",
    "            optimizer.zero_grad()\n",
    "            loss.backward()\n",
    "            optimizer.step()\n",
    "            \n",
    "            \n",
    "        \n",
    "        train_accuracy, train_loss, predicted_list_train, labels_list_train, train_probability_list = evaluate(model_nn, train_dataloader)\n",
    "        val_accuracy, val_loss, predicted_list_val, labels_list_val, val_probability_list = evaluate(model_nn, val_dataloader)\n",
    "        #scheduler.step(val_accuracy)\n",
    "        print(f'Epoch [{epoch+1}/{num_epochs}], Train Loss: {train_loss.item():.4f}, Train_accuracy: {train_accuracy}, Val Loss: {val_loss.item():.4f}, Val_accuracy: {val_accuracy}')\n",
    "        with open(csv_file_path, mode='a', newline='') as file:\n",
    "            writer = csv.writer(file)\n",
    "            writer.writerow([epoch + 1, loss.item(), train_accuracy, val_loss.item(), val_accuracy])\n",
    "        \n",
    "        if val_accuracy > best_val_accuracy:\n",
    "            best_val_accuracy = val_accuracy\n",
    "            epochs_no_improve = 0\n",
    "        # Save the best model\n",
    "            model_path = f'{model_save_dir}{date_string}/fc_best_model_{output_layer}.pth'\n",
    "            model_state_dict_path = f'{model_save_dir}{date_string}/fc_best_model_{output_layer}_state_dict.pth'\n",
    "            save_model(model_nn, model_path, model_state_dict_path)\n",
    "            best_model_nn = copy.deepcopy(model_nn)\n",
    "            #torch.save(model_nn, f'{model_save_dir}{date_string}/fc_best_model_{output_layer}.pth')\n",
    "            #torch.save(model_nn.state_dict(), f'{model_save_dir}{date_string}/fc_best_model_{output_layer}_state_dict.pth')\n",
    "            print('Model saved.')\n",
    "        else:\n",
    "            epochs_no_improve += 1\n",
    "    \n",
    "        # Early stopping\n",
    "        '''if epochs_no_improve >= patience:\n",
    "            early_stop = True\n",
    "            print(\"Early stopping triggered\")'''\n",
    "        \n",
    "    \n",
    "    train_accuracy, train_loss, predicted_list_train, labels_list_train, train_probability_list = evaluate(best_model_nn, train_dataloader)\n",
    "    val_accuracy, val_loss, predicted_list_val, labels_list_val, val_probability_list = evaluate(best_model_nn, val_dataloader)\n",
    "    test_accuracy, test_loss, predicted_list_test, labels_list_test, test_probability_list = evaluate(best_model_nn, test_dataloader)\n",
    "    print('Test Accucary', test_accuracy)\n",
    "    output_train = (predicted_list_train, labels_list_train)\n",
    "    output_val = (predicted_list_val, labels_list_val)\n",
    "\n",
    "    labels_list_test = [m.item() for m in labels_list_test]\n",
    "    predicted_list_test = [m.item() for m in predicted_list_test]\n",
    "    test_probability_list = [m.item() for m in test_probability_list]\n",
    "\n",
    "\n",
    "    test_df = pd.DataFrame({'cell_id': test_cell_id, 'true_y': labels_list_test, 'pred_y': predicted_list_test, 'probabilty': test_probability_list})\n",
    "    csv_file_path = f'{model_save_dir}{date_string}/fc_test_log_{output_layer}.csv'\n",
    "    test_df.to_csv(csv_file_path)\n",
    "    #torch.save(model_nn, f'{model_save_dir}{date_string}/fc_last_epoch_model_{output_layer}.pth')\n",
    "    return output_train, output_val,best_model_nn\n",
    "\n",
    "\n",
    "\n",
    "def model(train_dataloader , val_dataloader, test_dataloader, test_cell_id, layers_node, masking, output_layer,model_save_dir, date_string, learning_rate=0.001, num_epochs=50, weight_decay = 0):\n",
    "\n",
    "    model_nn = CustomNetwork(layers_node, output_layer, masking)\n",
    "    optimizer = optim.AdamW(model_nn.parameters(), lr=learning_rate,weight_decay = weight_decay )  # Using SGD with momentum\n",
    "    criterion = nn.BCEWithLogitsLoss()\n",
    "    scheduler = ReduceLROnPlateau(optimizer, mode='max', factor=0.1, patience=5, verbose=True)\n",
    "    patience = 20\n",
    "    best_val_accuracy = 0.0\n",
    "    epochs_no_improve = 0\n",
    "    early_stop = False\n",
    "    csv_file_path = f'{model_save_dir}{date_string}/training_log_{output_layer}.csv'\n",
    "\n",
    "    try:\n",
    "        os.makedirs(f'{model_save_dir}{date_string}')\n",
    "    except:\n",
    "        print(('...'))\n",
    "\n",
    "    with open(csv_file_path, mode='w', newline='') as file:\n",
    "        writer = csv.writer(file)\n",
    "        writer.writerow(['Epoch', 'Train_Loss', 'Train_accuracy','Validation_Loss','Val_accuracy'])\n",
    "\n",
    "    for epoch in tqdm(range(num_epochs)):\n",
    "        if early_stop:\n",
    "            print(\"Early stopping\")\n",
    "            break\n",
    "        epoch_cost = 0.\n",
    "        \n",
    "        total_loss = 0\n",
    "        for batch_features,batch_targets in train_dataloader:\n",
    "            \n",
    "            #print(outputs)\n",
    "            #print(batch_targets)\n",
    "            #print(outputs)\n",
    "            \n",
    "            \n",
    "            optimizer.zero_grad()\n",
    "            outputs = model_nn(batch_features)\n",
    "            loss = criterion(outputs, batch_targets)\n",
    "            loss.backward()\n",
    "            optimizer.step()\n",
    "            \n",
    "            \n",
    "        \n",
    "        train_accuracy, train_loss, predicted_list_train, labels_list_train, train_probability_list = evaluate(model_nn, train_dataloader)\n",
    "        val_accuracy, val_loss, predicted_list_val, labels_list_val, val_probability_list = evaluate(model_nn, val_dataloader)\n",
    "        #scheduler.step(val_accuracy)\n",
    "        print(f'Epoch [{epoch+1}/{num_epochs}], Train Loss: {train_loss.item():.4f}, Train_accuracy: {train_accuracy}, Val Loss: {val_loss.item():.4f}, Val_accuracy: {val_accuracy}')\n",
    "        with open(csv_file_path, mode='a', newline='') as file:\n",
    "            writer = csv.writer(file)\n",
    "            writer.writerow([epoch + 1, loss.item(), train_accuracy, val_loss.item(), val_accuracy])\n",
    "        \n",
    "        if val_accuracy > best_val_accuracy:\n",
    "            best_val_accuracy = val_accuracy\n",
    "            epochs_no_improve = 0\n",
    "        # Save the best model\n",
    "            model_path = f'{model_save_dir}{date_string}/best_model_{output_layer}.pth'\n",
    "            model_state_dict_path = f'{model_save_dir}{date_string}/best_model_{output_layer}_state_dict.pth'\n",
    "            save_model(model_nn, model_path, model_state_dict_path)\n",
    "            best_model_nn = copy.deepcopy(model_nn)\n",
    "            #torch.save(model_nn, f'{model_save_dir}{date_string}/best_model_{output_layer}.pth')\n",
    "            #torch.save(model_nn.state_dict(), f'{model_save_dir}{date_string}/best_model_{output_layer}_state_dict.pth')\n",
    "            print('Model saved.')\n",
    "        else:\n",
    "            epochs_no_improve += 1\n",
    "    \n",
    "        # Early stopping\n",
    "        '''if epochs_no_improve >= patience:\n",
    "            early_stop = True\n",
    "            print(\"Early stopping triggered\")'''\n",
    "        \n",
    "    \n",
    "    train_accuracy, train_loss, predicted_list_train, labels_list_train, train_probability_list = evaluate(best_model_nn, train_dataloader)\n",
    "    val_accuracy, val_loss, predicted_list_val, labels_list_val, val_probability_list = evaluate(best_model_nn, val_dataloader)\n",
    "    test_accuracy, test_loss, predicted_list_test, labels_list_test, test_probability_list = evaluate(best_model_nn, test_dataloader)\n",
    "    print('Test Accucary', test_accuracy)\n",
    "    output_train = (predicted_list_train, labels_list_train)\n",
    "    output_val = (predicted_list_val, labels_list_val)\n",
    "\n",
    "    labels_list_test = [m.item() for m in labels_list_test]\n",
    "    predicted_list_test = [m.item() for m in predicted_list_test]\n",
    "    test_probability_list = [m.item() for m in test_probability_list]\n",
    "\n",
    "\n",
    "    test_df = pd.DataFrame({'cell_id': test_cell_id, 'true_y': labels_list_test, 'pred_y': predicted_list_test, 'probabilty': test_probability_list})\n",
    "    csv_file_path = f'{model_save_dir}{date_string}/test_log_{output_layer}.csv'\n",
    "    test_df.to_csv(csv_file_path)\n",
    "    #torch.save(model_nn, f'{model_save_dir}{date_string}/last_epoch_model_{output_layer}.pth')\n",
    "    return output_train, output_val,best_model_nn\n",
    "\n",
    "\n",
    "def load_config(config_file):\n",
    "    with open(config_file, 'r') as file:\n",
    "        return yaml.safe_load(file)\n",
    "\n",
    "\n",
    "def main_file():\n",
    "\n",
    "    '''parser = argparse.ArgumentParser(description='Sample application with config and argparse')\n",
    "    parser.add_argument('--config', type=str, default='config.yml', help='Path to the configuration file')\n",
    "    args = parser.parse_args()'''\n",
    "\n",
    "    config = load_config('config.yml')\n",
    "    train = pd.read_csv(config['dataset']['train'],index_col=0)\n",
    "    test = pd.read_csv(config['dataset']['test'],index_col=0)\n",
    "    val = pd.read_csv(config['dataset']['val'],index_col=0)\n",
    "\n",
    "    y_train = pd.read_csv(config['dataset']['y_train'])\n",
    "    y_test = pd.read_csv(config['dataset']['y_test'])\n",
    "    y_val = pd.read_csv(config['dataset']['y_val'])\n",
    "  \n",
    "\n",
    "\n",
    "    r_data_tmp = train.T\n",
    "    q_data_tmp = test.T\n",
    "    v_data_tmp = val.T\n",
    "    r_label_tmp = y_train\n",
    "\n",
    "    print('Getting Marker Genes.......')\n",
    "    train_x, test_x, val_x, train_y = get_expression(r_data_tmp,\n",
    "                                                q_data_tmp,\n",
    "                                                v_data_tmp,\n",
    "                                                r_label_tmp,\n",
    "                                                thrh=config['gene_expression']['highly_expressed_threshold'],\n",
    "                                                thrl=config['gene_expression']['lowly_expressed_threshold'],\n",
    "                                                normalization=config['gene_expression']['normalization'],\n",
    "                                                marker=config['gene_expression']['marker'])\n",
    "    \n",
    "    print('Getting Pathway Genes.........')\n",
    "    pathway_genes = get_gene_pathways(config['pathways_network']['ensemble_pathway_relation'], species=config['pathways_network']['species'])\n",
    "\n",
    "\n",
    "    print('Getting Masking.........')\n",
    "    masking, masking_df, layers_node, train_x, test_x,val_x = get_masking(config['pathways_network']['pathway_names'],\n",
    "                                                        pathway_genes,\n",
    "                                                        config['pathways_network']['pathway_relation'],\n",
    "                                                        train_x,\n",
    "                                                        test_x,\n",
    "                                                        val_x,\n",
    "                                                        train_y,\n",
    "                                                        config['pathways_network']['datatype'],\n",
    "                                                        config['pathways_network']['species'],\n",
    "                                                        config['pathways_network']['n_hidden_layer'])\n",
    "\n",
    "    test_cell_id = list(test_x.T.index) \n",
    "    try:\n",
    "        masking = list(masking.values())\n",
    "        layers_node = list(layers_node.values())\n",
    "    except:\n",
    "        print('already_done')\n",
    "\n",
    "\n",
    "    train_dataset = TabularDataset(train_x.T,train_y)\n",
    "    val_dataset = TabularDataset(val_x.T,y_val)\n",
    "    test_dataset = TabularDataset(test_x.T,y_test)  \n",
    "    \n",
    "    \n",
    "\n",
    "    dataloader_params = {\n",
    "    'batch_size': config['train']['batch_size'],\n",
    "    'shuffle': False\n",
    "    }\n",
    "\n",
    "    train_dataloader = DataLoader(train_dataset,**dataloader_params)\n",
    "    test_dataloader = DataLoader(test_dataset, **dataloader_params)\n",
    "    val_dataloader = DataLoader(val_dataset,**dataloader_params)\n",
    "    # Example of iterating through the DataLoader\n",
    "\n",
    "\n",
    "    pred_y_df = pd.DataFrame(data=0, index=test_x.columns, columns=list(range(2, len(masking) + 2)))\n",
    "    train_y_df = pd.DataFrame(data=0, index=train_x.columns, columns=list(range(2, len(masking) + 2)))\n",
    "    model_dict_sparse = dict()\n",
    "    model_dict_fc = dict()\n",
    "    activation_output = {}\n",
    "    now = datetime.now()\n",
    "\n",
    "# Format the date as a string\n",
    "    date_string = datetime_string = now.strftime(\"%Y_%m_%d_%H_%M_%S\")\n",
    "\n",
    "    try:\n",
    "        os.makedirs(f'{config['model_output']['model_save_dir']}{date_string}')\n",
    "    except:\n",
    "        print(('...'))\n",
    "\n",
    "   \n",
    "\n",
    "    print('Training.........')\n",
    "    for output_layer in range(2, len(masking) + 2):\n",
    "        if config['gene_expression']['print_information']:\n",
    "            print(\"Current sub-neural network has \" + str(output_layer - 1) + \" hidden layers.\")\n",
    "        output_train, output_val,model_dict_sparse[output_layer] = model(train_dataloader,\n",
    "                                            val_dataloader,test_dataloader, test_cell_id,\n",
    "                                            layers_node,\n",
    "                                            masking,\n",
    "                                            output_layer,\n",
    "                                            model_save_dir = config['model_output']['model_save_dir'],date_string = date_string,\n",
    "                                            learning_rate=config['train']['learning_rate'],num_epochs=config['train']['epochs'],weight_decay = config['train']['weight_decay']\n",
    "                                        )  \n",
    "\n",
    "    print('tranining_fully_connected_layers:')\n",
    "    for output_layer in range(2, len(masking) + 2):\n",
    "        if config['gene_expression']['print_information']:\n",
    "            print(\"Current sub-neural network has \" + str(output_layer - 1) + \" hidden layers.\")\n",
    "        output_train, output_val,model_dict_fc[output_layer] = model_fc(train_dataloader,\n",
    "                                            val_dataloader,test_dataloader, test_cell_id,\n",
    "                                            layers_node,\n",
    "                                            masking,\n",
    "                                            output_layer,\n",
    "                                            model_save_dir = config['model_output']['model_save_dir'],date_string = date_string,\n",
    "                                            learning_rate=config['train']['learning_rate'],num_epochs=config['train']['epochs'],weight_decay = config['train']['weight_decay']\n",
    "                                        )  \n",
    "        \n",
    "    new_parameter = {'date_string': date_string}\n",
    "    config.update(new_parameter)\n",
    "    save_path =   str(config['model_output']['model_save_dir'])+ date_string + '/config.yml'\n",
    "    with open(save_path, 'w') as file:\n",
    "        yaml.dump(config, file)\n",
    "\n",
    "        \n",
    "    for i in range(len(masking_df)):\n",
    "        masking_df[i].to_csv(str(config['model_output']['model_save_dir'])+ date_string+ '/' +f'masking_df_{i}.csv')\n",
    "    \n",
    "    dataloader_params = {\n",
    "    'batch_size': 1,\n",
    "    'shuffle': False\n",
    "    }\n",
    "\n",
    "    train_dataloader = DataLoader(train_dataset,**dataloader_params)\n",
    "    test_dataloader = DataLoader(test_dataset, **dataloader_params)\n",
    "    val_dataloader = DataLoader(val_dataset,**dataloader_params)\n",
    "    \n",
    "    for j,i in model_dict_sparse.items():\n",
    "        \n",
    "        for name, layer in enumerate(i.children()):\n",
    "            layer_name = 'fc'+str(name+1)\n",
    "            layer.register_forward_hook(lambda module, input, output, name=layer_name: hook_fn(module, input, output, name))\n",
    "\n",
    "\n",
    "\n",
    "        accuracy, loss, predicted_list, labels_list, probability_list = evaluate(i, test_dataloader)\n",
    "        print(j)\n",
    "        print(f'Test Accuracy: {accuracy}')   \n",
    "        accuracy, loss, predicted_list, labels_list, probability_list = evaluate(i, train_dataloader)\n",
    "        print(f'Train Accuracy: {accuracy}')   \n",
    "        accuracy, loss, predicted_list, labels_list, probability_list = evaluate(i, val_dataloader)\n",
    "        print(f'Validation Accuracy: {accuracy}') \n",
    "\n",
    "        '''with open('model_activations_train_test.csv', 'w', newline='') as csvfile:\n",
    "            fieldnames = ['layer', 'input', 'output']\n",
    "            writer = csv.DictWriter(csvfile, fieldnames=fieldnames)\n",
    "            \n",
    "            writer.writeheader()\n",
    "            for layer_name, activations in model_dct.items():\n",
    "                for activation in activations:\n",
    "                    writer.writerow({\n",
    "                        'layer': layer_name,\n",
    "                        'input': activation['input'],\n",
    "                        'output': activation['output']\n",
    "                    })'''\n",
    "        \n",
    "        break\n",
    "        \n",
    "    return model_dict_sparse, test_dataloader, train_dataloader\n",
    "\n",
    "   \n",
    "\n",
    "\n",
    "                                            \n",
    "\n",
    "\n",
    "                            "
   ]
  },
  {
   "cell_type": "code",
   "execution_count": 4,
   "id": "06350243-c2e9-4cc7-8304-3604395ebbad",
   "metadata": {},
   "outputs": [
    {
     "name": "stdout",
     "output_type": "stream",
     "text": [
      "Getting Marker Genes.......\n",
      "1125\n",
      "1125\n",
      "2250\n",
      "2250\n",
      "                    0                1\n",
      "0     ENSG00000101210  ENSG00000172270\n",
      "1     ENSG00000099622  ENSG00000141905\n",
      "2     ENSG00000105278  ENSG00000167658\n",
      "3     ENSG00000178951  ENSG00000089847\n",
      "4     ENSG00000141985  ENSG00000127663\n",
      "...               ...              ...\n",
      "1120  ENSG00000285395  ENSG00000103316\n",
      "1121  ENSG00000140740  ENSG00000284218\n",
      "1122  ENSG00000122254  ENSG00000103365\n",
      "1123  ENSG00000006116  ENSG00000182601\n",
      "1124  ENSG00000077235  ENSG00000171208\n",
      "\n",
      "[1125 rows x 2 columns]\n",
      "                    0                1\n",
      "0     ENSG00000101210  ENSG00000172270\n",
      "1     ENSG00000099622  ENSG00000141905\n",
      "2     ENSG00000105278  ENSG00000167658\n",
      "3     ENSG00000178951  ENSG00000089847\n",
      "4     ENSG00000141985  ENSG00000127663\n",
      "...               ...              ...\n",
      "1120  ENSG00000285395  ENSG00000103316\n",
      "1121  ENSG00000140740  ENSG00000284218\n",
      "1122  ENSG00000122254  ENSG00000103365\n",
      "1123  ENSG00000006116  ENSG00000182601\n",
      "1124  ENSG00000077235  ENSG00000171208\n",
      "\n",
      "[1125 rows x 2 columns]\n",
      "Getting Pathway Genes.........\n",
      "Getting Masking.........\n",
      "HSA\n",
      "Training.........\n",
      "Current sub-neural network has 1 hidden layers.\n"
     ]
    },
    {
     "name": "stderr",
     "output_type": "stream",
     "text": [
      "/home/anwer/.local/lib/python3.12/site-packages/torch/optim/lr_scheduler.py:28: UserWarning: The verbose parameter is deprecated. Please use get_last_lr() to access the learning rate.\n",
      "  warnings.warn(\"The verbose parameter is deprecated. Please use get_last_lr() \"\n"
     ]
    },
    {
     "name": "stdout",
     "output_type": "stream",
     "text": [
      "...\n"
     ]
    },
    {
     "name": "stderr",
     "output_type": "stream",
     "text": [
      "  2%|███▍                                                                                                                                                                         | 1/50 [00:00<00:15,  3.08it/s]"
     ]
    },
    {
     "name": "stdout",
     "output_type": "stream",
     "text": [
      "Epoch [1/50], Train Loss: 4.8217, Train_accuracy: 52.01277955271566, Val Loss: 2.0679, Val_accuracy: 52.09797657082002\n",
      "Model saved.\n"
     ]
    },
    {
     "name": "stderr",
     "output_type": "stream",
     "text": [
      "  4%|██████▉                                                                                                                                                                      | 2/50 [00:00<00:20,  2.35it/s]"
     ]
    },
    {
     "name": "stdout",
     "output_type": "stream",
     "text": [
      "Epoch [2/50], Train Loss: 4.7888, Train_accuracy: 59.09123180688676, Val Loss: 2.0546, Val_accuracy: 58.78594249201278\n",
      "Model saved.\n"
     ]
    },
    {
     "name": "stderr",
     "output_type": "stream",
     "text": [
      "  6%|██████████▍                                                                                                                                                                  | 3/50 [00:01<00:21,  2.15it/s]"
     ]
    },
    {
     "name": "stdout",
     "output_type": "stream",
     "text": [
      "Epoch [3/50], Train Loss: 4.7491, Train_accuracy: 64.0468583599574, Val Loss: 2.0385, Val_accuracy: 62.96059637912673\n",
      "Model saved.\n"
     ]
    },
    {
     "name": "stderr",
     "output_type": "stream",
     "text": [
      "  8%|█████████████▊                                                                                                                                                               | 4/50 [00:01<00:18,  2.44it/s]"
     ]
    },
    {
     "name": "stdout",
     "output_type": "stream",
     "text": [
      "Epoch [4/50], Train Loss: 4.6990, Train_accuracy: 66.28328008519702, Val Loss: 2.0184, Val_accuracy: 64.87752928647497\n",
      "Model saved.\n"
     ]
    },
    {
     "name": "stderr",
     "output_type": "stream",
     "text": [
      " 10%|█████████████████▎                                                                                                                                                           | 5/50 [00:02<00:19,  2.27it/s]"
     ]
    },
    {
     "name": "stdout",
     "output_type": "stream",
     "text": [
      "Epoch [5/50], Train Loss: 4.6392, Train_accuracy: 66.90805821796238, Val Loss: 1.9941, Val_accuracy: 65.87859424920129\n",
      "Model saved.\n"
     ]
    },
    {
     "name": "stderr",
     "output_type": "stream",
     "text": [
      " 12%|████████████████████▊                                                                                                                                                        | 6/50 [00:02<00:17,  2.50it/s]"
     ]
    },
    {
     "name": "stdout",
     "output_type": "stream",
     "text": [
      "Epoch [6/50], Train Loss: 4.5711, Train_accuracy: 67.68193113241037, Val Loss: 1.9664, Val_accuracy: 66.64536741214057\n",
      "Model saved.\n"
     ]
    },
    {
     "name": "stderr",
     "output_type": "stream",
     "text": [
      " 14%|████████████████████████▏                                                                                                                                                    | 7/50 [00:02<00:18,  2.32it/s]"
     ]
    },
    {
     "name": "stdout",
     "output_type": "stream",
     "text": [
      "Epoch [7/50], Train Loss: 4.4982, Train_accuracy: 67.93042243521477, Val Loss: 1.9367, Val_accuracy: 66.90095846645367\n",
      "Model saved.\n"
     ]
    },
    {
     "name": "stderr",
     "output_type": "stream",
     "text": [
      " 16%|███████████████████████████▋                                                                                                                                                 | 8/50 [00:03<00:18,  2.21it/s]"
     ]
    },
    {
     "name": "stdout",
     "output_type": "stream",
     "text": [
      "Epoch [8/50], Train Loss: 4.4241, Train_accuracy: 68.18601348952787, Val Loss: 1.9066, Val_accuracy: 67.56123535676251\n",
      "Model saved.\n"
     ]
    },
    {
     "name": "stderr",
     "output_type": "stream",
     "text": [
      " 18%|███████████████████████████████▏                                                                                                                                             | 9/50 [00:03<00:16,  2.43it/s]"
     ]
    },
    {
     "name": "stdout",
     "output_type": "stream",
     "text": [
      "Epoch [9/50], Train Loss: 4.3519, Train_accuracy: 68.64749733759318, Val Loss: 1.8773, Val_accuracy: 68.07241746538871\n",
      "Model saved.\n"
     ]
    },
    {
     "name": "stderr",
     "output_type": "stream",
     "text": [
      " 20%|██████████████████████████████████▍                                                                                                                                         | 10/50 [00:04<00:15,  2.61it/s]"
     ]
    },
    {
     "name": "stdout",
     "output_type": "stream",
     "text": [
      "Epoch [10/50], Train Loss: 4.2838, Train_accuracy: 68.97408590699325, Val Loss: 1.8497, Val_accuracy: 68.56230031948881\n",
      "Model saved.\n"
     ]
    },
    {
     "name": "stderr",
     "output_type": "stream",
     "text": [
      " 22%|█████████████████████████████████████▊                                                                                                                                      | 11/50 [00:04<00:16,  2.41it/s]"
     ]
    },
    {
     "name": "stdout",
     "output_type": "stream",
     "text": [
      "Epoch [11/50], Train Loss: 4.2205, Train_accuracy: 69.43556975505857, Val Loss: 1.8242, Val_accuracy: 69.3929712460064\n",
      "Model saved.\n"
     ]
    },
    {
     "name": "stderr",
     "output_type": "stream",
     "text": [
      " 24%|█████████████████████████████████████████▎                                                                                                                                  | 12/50 [00:05<00:16,  2.27it/s]"
     ]
    },
    {
     "name": "stdout",
     "output_type": "stream",
     "text": [
      "Epoch [12/50], Train Loss: 4.1622, Train_accuracy: 70.06034788782392, Val Loss: 1.8007, Val_accuracy: 69.64856230031948\n",
      "Model saved.\n"
     ]
    },
    {
     "name": "stderr",
     "output_type": "stream",
     "text": [
      " 26%|████████████████████████████████████████████▋                                                                                                                               | 13/50 [00:05<00:15,  2.46it/s]"
     ]
    },
    {
     "name": "stdout",
     "output_type": "stream",
     "text": [
      "Epoch [13/50], Train Loss: 4.1085, Train_accuracy: 70.67802626908058, Val Loss: 1.7793, Val_accuracy: 70.20234291799787\n",
      "Model saved.\n"
     ]
    },
    {
     "name": "stderr",
     "output_type": "stream",
     "text": [
      " 28%|████████████████████████████████████████████████▏                                                                                                                           | 14/50 [00:05<00:15,  2.31it/s]"
     ]
    },
    {
     "name": "stdout",
     "output_type": "stream",
     "text": [
      "Epoch [14/50], Train Loss: 4.0588, Train_accuracy: 71.17500887468938, Val Loss: 1.7593, Val_accuracy: 70.6283280085197\n",
      "Model saved.\n"
     ]
    },
    {
     "name": "stderr",
     "output_type": "stream",
     "text": [
      " 30%|███████████████████████████████████████████████████▌                                                                                                                        | 15/50 [00:06<00:14,  2.49it/s]"
     ]
    },
    {
     "name": "stdout",
     "output_type": "stream",
     "text": [
      "Epoch [15/50], Train Loss: 4.0130, Train_accuracy: 71.33830315938943, Val Loss: 1.7410, Val_accuracy: 70.99041533546325\n",
      "Model saved.\n"
     ]
    },
    {
     "name": "stderr",
     "output_type": "stream",
     "text": [
      " 32%|███████████████████████████████████████████████████████                                                                                                                     | 16/50 [00:06<00:14,  2.33it/s]"
     ]
    },
    {
     "name": "stdout",
     "output_type": "stream",
     "text": [
      "Epoch [16/50], Train Loss: 3.9703, Train_accuracy: 71.97728079517216, Val Loss: 1.7241, Val_accuracy: 71.50159744408946\n",
      "Model saved.\n"
     ]
    },
    {
     "name": "stderr",
     "output_type": "stream",
     "text": [
      " 34%|██████████████████████████████████████████████████████████▍                                                                                                                 | 17/50 [00:07<00:15,  2.20it/s]"
     ]
    },
    {
     "name": "stdout",
     "output_type": "stream",
     "text": [
      "Epoch [17/50], Train Loss: 3.9297, Train_accuracy: 72.28966986155484, Val Loss: 1.7083, Val_accuracy: 72.1405750798722\n",
      "Model saved.\n"
     ]
    },
    {
     "name": "stderr",
     "output_type": "stream",
     "text": [
      " 36%|█████████████████████████████████████████████████████████████▉                                                                                                              | 18/50 [00:07<00:13,  2.36it/s]"
     ]
    },
    {
     "name": "stdout",
     "output_type": "stream",
     "text": [
      "Epoch [18/50], Train Loss: 3.8895, Train_accuracy: 72.69435569755059, Val Loss: 1.6930, Val_accuracy: 72.48136315228967\n",
      "Model saved.\n"
     ]
    },
    {
     "name": "stderr",
     "output_type": "stream",
     "text": [
      " 38%|█████████████████████████████████████████████████████████████████▎                                                                                                          | 19/50 [00:08<00:13,  2.24it/s]"
     ]
    },
    {
     "name": "stdout",
     "output_type": "stream",
     "text": [
      "Epoch [19/50], Train Loss: 3.8525, Train_accuracy: 73.03514376996804, Val Loss: 1.6786, Val_accuracy: 72.73695420660277\n",
      "Model saved.\n"
     ]
    },
    {
     "name": "stderr",
     "output_type": "stream",
     "text": [
      " 40%|████████████████████████████████████████████████████████████████████▊                                                                                                       | 20/50 [00:08<00:12,  2.43it/s]"
     ]
    },
    {
     "name": "stdout",
     "output_type": "stream",
     "text": [
      "Epoch [20/50], Train Loss: 3.8183, Train_accuracy: 73.27653532126375, Val Loss: 1.6654, Val_accuracy: 72.97124600638978\n",
      "Model saved.\n"
     ]
    },
    {
     "name": "stderr",
     "output_type": "stream",
     "text": [
      " 42%|████████████████████████████████████████████████████████████████████████▏                                                                                                   | 21/50 [00:08<00:12,  2.28it/s]"
     ]
    },
    {
     "name": "stdout",
     "output_type": "stream",
     "text": [
      "Epoch [21/50], Train Loss: 3.7867, Train_accuracy: 73.65282215122471, Val Loss: 1.6534, Val_accuracy: 73.1629392971246\n",
      "Model saved.\n"
     ]
    },
    {
     "name": "stderr",
     "output_type": "stream",
     "text": [
      " 44%|███████████████████████████████████████████████████████████████████████████▋                                                                                                | 22/50 [00:09<00:11,  2.46it/s]"
     ]
    },
    {
     "name": "stdout",
     "output_type": "stream",
     "text": [
      "Epoch [22/50], Train Loss: 3.7574, Train_accuracy: 73.78061767838126, Val Loss: 1.6425, Val_accuracy: 73.54632587859425\n",
      "Model saved.\n"
     ]
    },
    {
     "name": "stderr",
     "output_type": "stream",
     "text": [
      " 46%|███████████████████████████████████████████████████████████████████████████████                                                                                             | 23/50 [00:09<00:11,  2.29it/s]"
     ]
    },
    {
     "name": "stdout",
     "output_type": "stream",
     "text": [
      "Epoch [23/50], Train Loss: 3.7300, Train_accuracy: 74.12140575079871, Val Loss: 1.6325, Val_accuracy: 73.61022364217253\n",
      "Model saved.\n"
     ]
    },
    {
     "name": "stderr",
     "output_type": "stream",
     "text": [
      " 48%|██████████████████████████████████████████████████████████████████████████████████▌                                                                                         | 24/50 [00:10<00:11,  2.19it/s]"
     ]
    },
    {
     "name": "stdout",
     "output_type": "stream",
     "text": [
      "Epoch [24/50], Train Loss: 3.7044, Train_accuracy: 74.49059282925097, Val Loss: 1.6233, Val_accuracy: 74.05750798722045\n",
      "Model saved.\n"
     ]
    },
    {
     "name": "stderr",
     "output_type": "stream",
     "text": [
      " 50%|██████████████████████████████████████████████████████████████████████████████████████                                                                                      | 25/50 [00:10<00:10,  2.38it/s]"
     ]
    },
    {
     "name": "stdout",
     "output_type": "stream",
     "text": [
      "Epoch [25/50], Train Loss: 3.6802, Train_accuracy: 74.75328363507278, Val Loss: 1.6148, Val_accuracy: 74.12140575079871\n",
      "Model saved.\n"
     ]
    },
    {
     "name": "stderr",
     "output_type": "stream",
     "text": [
      " 52%|█████████████████████████████████████████████████████████████████████████████████████████▍                                                                                  | 26/50 [00:11<00:10,  2.24it/s]"
     ]
    },
    {
     "name": "stdout",
     "output_type": "stream",
     "text": [
      "Epoch [26/50], Train Loss: 3.6573, Train_accuracy: 75.04437344692936, Val Loss: 1.6070, Val_accuracy: 74.39829605963791\n",
      "Model saved.\n"
     ]
    },
    {
     "name": "stderr",
     "output_type": "stream",
     "text": [
      " 54%|████████████████████████████████████████████████████████████████████████████████████████████▉                                                                               | 27/50 [00:11<00:09,  2.42it/s]"
     ]
    },
    {
     "name": "stdout",
     "output_type": "stream",
     "text": [
      "Epoch [27/50], Train Loss: 3.6356, Train_accuracy: 75.17926872559461, Val Loss: 1.5997, Val_accuracy: 74.61128860489883\n",
      "Model saved.\n"
     ]
    },
    {
     "name": "stderr",
     "output_type": "stream",
     "text": [
      " 56%|████████████████████████████████████████████████████████████████████████████████████████████████▎                                                                           | 28/50 [00:11<00:09,  2.27it/s]"
     ]
    },
    {
     "name": "stdout",
     "output_type": "stream",
     "text": [
      "Epoch [28/50], Train Loss: 3.6150, Train_accuracy: 75.27156549520767, Val Loss: 1.5930, Val_accuracy: 74.6751863684771\n",
      "Model saved.\n"
     ]
    },
    {
     "name": "stderr",
     "output_type": "stream",
     "text": [
      " 58%|███████████████████████████████████████████████████████████████████████████████████████████████████▊                                                                        | 29/50 [00:12<00:08,  2.44it/s]"
     ]
    },
    {
     "name": "stdout",
     "output_type": "stream",
     "text": [
      "Epoch [29/50], Train Loss: 3.5955, Train_accuracy: 75.52005679801206, Val Loss: 1.5868, Val_accuracy: 74.82428115015975\n",
      "Model saved.\n"
     ]
    },
    {
     "name": "stderr",
     "output_type": "stream",
     "text": [
      " 60%|███████████████████████████████████████████████████████████████████████████████████████████████████████▏                                                                    | 30/50 [00:12<00:08,  2.28it/s]"
     ]
    },
    {
     "name": "stdout",
     "output_type": "stream",
     "text": [
      "Epoch [30/50], Train Loss: 3.5769, Train_accuracy: 75.64075257365992, Val Loss: 1.5810, Val_accuracy: 74.9520766773163\n",
      "Model saved.\n"
     ]
    },
    {
     "name": "stderr",
     "output_type": "stream",
     "text": [
      " 62%|██████████████████████████████████████████████████████████████████████████████████████████████████████████▋                                                                 | 31/50 [00:13<00:07,  2.45it/s]"
     ]
    },
    {
     "name": "stdout",
     "output_type": "stream",
     "text": [
      "Epoch [31/50], Train Loss: 3.5591, Train_accuracy: 75.81824636137735, Val Loss: 1.5755, Val_accuracy: 75.07987220447285\n",
      "Model saved.\n"
     ]
    },
    {
     "name": "stderr",
     "output_type": "stream",
     "text": [
      " 64%|██████████████████████████████████████████████████████████████████████████████████████████████████████████████                                                              | 32/50 [00:13<00:07,  2.30it/s]"
     ]
    },
    {
     "name": "stdout",
     "output_type": "stream",
     "text": [
      "Epoch [32/50], Train Loss: 3.5421, Train_accuracy: 75.88924387646432, Val Loss: 1.5703, Val_accuracy: 75.07987220447285\n"
     ]
    },
    {
     "name": "stderr",
     "output_type": "stream",
     "text": [
      " 66%|█████████████████████████████████████████████████████████████████████████████████████████████████████████████████▌                                                          | 33/50 [00:13<00:06,  2.46it/s]"
     ]
    },
    {
     "name": "stdout",
     "output_type": "stream",
     "text": [
      "Epoch [33/50], Train Loss: 3.5260, Train_accuracy: 76.02413915512957, Val Loss: 1.5656, Val_accuracy: 75.12247071352503\n",
      "Model saved.\n"
     ]
    },
    {
     "name": "stderr",
     "output_type": "stream",
     "text": [
      " 68%|████████████████████████████████████████████████████████████████████████████████████████████████████████████████████▉                                                       | 34/50 [00:14<00:06,  2.29it/s]"
     ]
    },
    {
     "name": "stdout",
     "output_type": "stream",
     "text": [
      "Epoch [34/50], Train Loss: 3.5106, Train_accuracy: 76.15193468228613, Val Loss: 1.5610, Val_accuracy: 75.22896698615548\n",
      "Model saved.\n"
     ]
    },
    {
     "name": "stderr",
     "output_type": "stream",
     "text": [
      " 70%|████████████████████████████████████████████████████████████████████████████████████████████████████████████████████████▍                                                   | 35/50 [00:14<00:06,  2.18it/s]"
     ]
    },
    {
     "name": "stdout",
     "output_type": "stream",
     "text": [
      "Epoch [35/50], Train Loss: 3.4959, Train_accuracy: 76.30102946396876, Val Loss: 1.5568, Val_accuracy: 75.29286474973377\n",
      "Model saved.\n"
     ]
    },
    {
     "name": "stderr",
     "output_type": "stream",
     "text": [
      " 72%|███████████████████████████████████████████████████████████████████████████████████████████████████████████████████████████▊                                                | 36/50 [00:15<00:05,  2.38it/s]"
     ]
    },
    {
     "name": "stdout",
     "output_type": "stream",
     "text": [
      "Epoch [36/50], Train Loss: 3.4818, Train_accuracy: 76.50692225772097, Val Loss: 1.5528, Val_accuracy: 75.48455804046858\n",
      "Model saved.\n"
     ]
    },
    {
     "name": "stderr",
     "output_type": "stream",
     "text": [
      " 74%|███████████████████████████████████████████████████████████████████████████████████████████████████████████████████████████████▎                                            | 37/50 [00:15<00:05,  2.25it/s]"
     ]
    },
    {
     "name": "stdout",
     "output_type": "stream",
     "text": [
      "Epoch [37/50], Train Loss: 3.4683, Train_accuracy: 76.55662051828186, Val Loss: 1.5490, Val_accuracy: 75.54845580404685\n",
      "Model saved.\n"
     ]
    },
    {
     "name": "stderr",
     "output_type": "stream",
     "text": [
      " 76%|██████████████████████████████████████████████████████████████████████████████████████████████████████████████████████████████████▋                                         | 38/50 [00:16<00:04,  2.43it/s]"
     ]
    },
    {
     "name": "stdout",
     "output_type": "stream",
     "text": [
      "Epoch [38/50], Train Loss: 3.4554, Train_accuracy: 76.7128150514732, Val Loss: 1.5454, Val_accuracy: 75.82534611288605\n",
      "Model saved.\n"
     ]
    },
    {
     "name": "stderr",
     "output_type": "stream",
     "text": [
      " 78%|██████████████████████████████████████████████████████████████████████████████████████████████████████████████████████████████████████▏                                     | 39/50 [00:16<00:04,  2.29it/s]"
     ]
    },
    {
     "name": "stdout",
     "output_type": "stream",
     "text": [
      "Epoch [39/50], Train Loss: 3.4429, Train_accuracy: 76.74831380901668, Val Loss: 1.5420, Val_accuracy: 75.91054313099042\n",
      "Model saved.\n"
     ]
    },
    {
     "name": "stderr",
     "output_type": "stream",
     "text": [
      " 80%|█████████████████████████████████████████████████████████████████████████████████████████████████████████████████████████████████████████▌                                  | 40/50 [00:16<00:04,  2.47it/s]"
     ]
    },
    {
     "name": "stdout",
     "output_type": "stream",
     "text": [
      "Epoch [40/50], Train Loss: 3.4310, Train_accuracy: 76.92580759673412, Val Loss: 1.5388, Val_accuracy: 76.05963791267305\n",
      "Model saved.\n"
     ]
    },
    {
     "name": "stderr",
     "output_type": "stream",
     "text": [
      " 82%|█████████████████████████████████████████████████████████████████████████████████████████████████████████████████████████████████████████████                               | 41/50 [00:17<00:03,  2.30it/s]"
     ]
    },
    {
     "name": "stdout",
     "output_type": "stream",
     "text": [
      "Epoch [41/50], Train Loss: 3.4197, Train_accuracy: 77.05360312389067, Val Loss: 1.5358, Val_accuracy: 76.14483493077742\n",
      "Model saved.\n"
     ]
    },
    {
     "name": "stderr",
     "output_type": "stream",
     "text": [
      " 84%|████████████████████████████████████████████████████████████████████████████████████████████████████████████████████████████████████████████████▍                           | 42/50 [00:17<00:03,  2.48it/s]"
     ]
    },
    {
     "name": "stdout",
     "output_type": "stream",
     "text": [
      "Epoch [42/50], Train Loss: 3.4087, Train_accuracy: 77.14589989350372, Val Loss: 1.5331, Val_accuracy: 76.05963791267305\n"
     ]
    },
    {
     "name": "stderr",
     "output_type": "stream",
     "text": [
      " 86%|███████████████████████████████████████████████████████████████████████████████████████████████████████████████████████████████████████████████████▉                        | 43/50 [00:18<00:03,  2.31it/s]"
     ]
    },
    {
     "name": "stdout",
     "output_type": "stream",
     "text": [
      "Epoch [43/50], Train Loss: 3.3981, Train_accuracy: 77.24529641462549, Val Loss: 1.5305, Val_accuracy: 76.03833865814697\n"
     ]
    },
    {
     "name": "stderr",
     "output_type": "stream",
     "text": [
      " 88%|███████████████████████████████████████████████████████████████████████████████████████████████████████████████████████████████████████████████████████▎                    | 44/50 [00:18<00:02,  2.49it/s]"
     ]
    },
    {
     "name": "stdout",
     "output_type": "stream",
     "text": [
      "Epoch [44/50], Train Loss: 3.3880, Train_accuracy: 77.34469293574725, Val Loss: 1.5280, Val_accuracy: 76.03833865814697\n"
     ]
    },
    {
     "name": "stderr",
     "output_type": "stream",
     "text": [
      " 90%|██████████████████████████████████████████████████████████████████████████████████████████████████████████████████████████████████████████████████████████▊                 | 45/50 [00:19<00:02,  2.31it/s]"
     ]
    },
    {
     "name": "stdout",
     "output_type": "stream",
     "text": [
      "Epoch [45/50], Train Loss: 3.3782, Train_accuracy: 77.40149094781682, Val Loss: 1.5257, Val_accuracy: 75.99574014909479\n"
     ]
    },
    {
     "name": "stderr",
     "output_type": "stream",
     "text": [
      " 92%|██████████████████████████████████████████████████████████████████████████████████████████████████████████████████████████████████████████████████████████████▏             | 46/50 [00:19<00:01,  2.48it/s]"
     ]
    },
    {
     "name": "stdout",
     "output_type": "stream",
     "text": [
      "Epoch [46/50], Train Loss: 3.3687, Train_accuracy: 77.4724884629038, Val Loss: 1.5235, Val_accuracy: 75.91054313099042\n"
     ]
    },
    {
     "name": "stderr",
     "output_type": "stream",
     "text": [
      " 94%|█████████████████████████████████████████████████████████████████████████████████████████████████████████████████████████████████████████████████████████████████▋          | 47/50 [00:19<00:01,  2.31it/s]"
     ]
    },
    {
     "name": "stdout",
     "output_type": "stream",
     "text": [
      "Epoch [47/50], Train Loss: 3.3596, Train_accuracy: 77.55058572949947, Val Loss: 1.5213, Val_accuracy: 75.82534611288605\n"
     ]
    },
    {
     "name": "stderr",
     "output_type": "stream",
     "text": [
      " 96%|█████████████████████████████████████████████████████████████████████████████████████████████████████████████████████████████████████████████████████████████████████       | 48/50 [00:20<00:00,  2.50it/s]"
     ]
    },
    {
     "name": "stdout",
     "output_type": "stream",
     "text": [
      "Epoch [48/50], Train Loss: 3.3509, Train_accuracy: 77.62868299609514, Val Loss: 1.5193, Val_accuracy: 75.84664536741214\n"
     ]
    },
    {
     "name": "stderr",
     "output_type": "stream",
     "text": [
      " 98%|████████████████████████████████████████████████████████████████████████████████████████████████████████████████████████████████████████████████████████████████████████▌   | 49/50 [00:20<00:00,  2.33it/s]"
     ]
    },
    {
     "name": "stdout",
     "output_type": "stream",
     "text": [
      "Epoch [49/50], Train Loss: 3.3425, Train_accuracy: 77.79197728079517, Val Loss: 1.5174, Val_accuracy: 75.86794462193824\n"
     ]
    },
    {
     "name": "stderr",
     "output_type": "stream",
     "text": [
      "100%|████████████████████████████████████████████████████████████████████████████████████████████████████████████████████████████████████████████████████████████████████████████| 50/50 [00:21<00:00,  2.37it/s]"
     ]
    },
    {
     "name": "stdout",
     "output_type": "stream",
     "text": [
      "Epoch [50/50], Train Loss: 3.3344, Train_accuracy: 77.82747603833866, Val Loss: 1.5157, Val_accuracy: 75.9531416400426\n"
     ]
    },
    {
     "name": "stderr",
     "output_type": "stream",
     "text": [
      "\n"
     ]
    },
    {
     "name": "stdout",
     "output_type": "stream",
     "text": [
      "Test Accucary 75.51107325383305\n",
      "Current sub-neural network has 2 hidden layers.\n",
      "...\n"
     ]
    },
    {
     "name": "stderr",
     "output_type": "stream",
     "text": [
      "  2%|███▍                                                                                                                                                                         | 1/50 [00:00<00:16,  2.93it/s]"
     ]
    },
    {
     "name": "stdout",
     "output_type": "stream",
     "text": [
      "Epoch [1/50], Train Loss: 4.8511, Train_accuracy: 50.17394391196308, Val Loss: 2.0790, Val_accuracy: 49.75505857294995\n",
      "Model saved.\n"
     ]
    },
    {
     "name": "stderr",
     "output_type": "stream",
     "text": [
      "  4%|██████▉                                                                                                                                                                      | 2/50 [00:00<00:21,  2.21it/s]"
     ]
    },
    {
     "name": "stdout",
     "output_type": "stream",
     "text": [
      "Epoch [2/50], Train Loss: 4.8499, Train_accuracy: 50.17394391196308, Val Loss: 2.0785, Val_accuracy: 49.75505857294995\n"
     ]
    },
    {
     "name": "stderr",
     "output_type": "stream",
     "text": [
      "  6%|██████████▍                                                                                                                                                                  | 3/50 [00:01<00:18,  2.49it/s]"
     ]
    },
    {
     "name": "stdout",
     "output_type": "stream",
     "text": [
      "Epoch [3/50], Train Loss: 4.8482, Train_accuracy: 50.159744408945684, Val Loss: 2.0778, Val_accuracy: 49.75505857294995\n"
     ]
    },
    {
     "name": "stderr",
     "output_type": "stream",
     "text": [
      "  8%|█████████████▊                                                                                                                                                               | 4/50 [00:01<00:20,  2.22it/s]"
     ]
    },
    {
     "name": "stdout",
     "output_type": "stream",
     "text": [
      "Epoch [4/50], Train Loss: 4.8454, Train_accuracy: 57.17429889953851, Val Loss: 2.0767, Val_accuracy: 57.23109691160809\n",
      "Model saved.\n"
     ]
    },
    {
     "name": "stderr",
     "output_type": "stream",
     "text": [
      " 10%|█████████████████▎                                                                                                                                                           | 5/50 [00:02<00:18,  2.41it/s]"
     ]
    },
    {
     "name": "stdout",
     "output_type": "stream",
     "text": [
      "Epoch [5/50], Train Loss: 4.8411, Train_accuracy: 64.84913028044018, Val Loss: 2.0749, Val_accuracy: 63.85516506922258\n",
      "Model saved.\n"
     ]
    },
    {
     "name": "stderr",
     "output_type": "stream",
     "text": [
      " 12%|████████████████████▊                                                                                                                                                        | 6/50 [00:02<00:19,  2.21it/s]"
     ]
    },
    {
     "name": "stdout",
     "output_type": "stream",
     "text": [
      "Epoch [6/50], Train Loss: 4.8347, Train_accuracy: 63.64217252396166, Val Loss: 2.0723, Val_accuracy: 62.74760383386582\n"
     ]
    },
    {
     "name": "stderr",
     "output_type": "stream",
     "text": [
      " 14%|████████████████████████▏                                                                                                                                                    | 7/50 [00:02<00:17,  2.39it/s]"
     ]
    },
    {
     "name": "stdout",
     "output_type": "stream",
     "text": [
      "Epoch [7/50], Train Loss: 4.8257, Train_accuracy: 61.93823216187433, Val Loss: 2.0685, Val_accuracy: 61.61874334398296\n"
     ]
    },
    {
     "name": "stderr",
     "output_type": "stream",
     "text": [
      " 16%|███████████████████████████▋                                                                                                                                                 | 8/50 [00:03<00:18,  2.24it/s]"
     ]
    },
    {
     "name": "stdout",
     "output_type": "stream",
     "text": [
      "Epoch [8/50], Train Loss: 4.8133, Train_accuracy: 61.384451544195954, Val Loss: 2.0633, Val_accuracy: 61.42705005324814\n"
     ]
    },
    {
     "name": "stderr",
     "output_type": "stream",
     "text": [
      " 18%|███████████████████████████████▏                                                                                                                                             | 9/50 [00:03<00:16,  2.43it/s]"
     ]
    },
    {
     "name": "stdout",
     "output_type": "stream",
     "text": [
      "Epoch [9/50], Train Loss: 4.7968, Train_accuracy: 62.158324458643946, Val Loss: 2.0564, Val_accuracy: 62.17252396166134\n"
     ]
    },
    {
     "name": "stderr",
     "output_type": "stream",
     "text": [
      " 20%|██████████████████████████████████▍                                                                                                                                         | 10/50 [00:04<00:17,  2.25it/s]"
     ]
    },
    {
     "name": "stdout",
     "output_type": "stream",
     "text": [
      "Epoch [10/50], Train Loss: 4.7757, Train_accuracy: 63.65637202697906, Val Loss: 2.0475, Val_accuracy: 62.98189563365282\n"
     ]
    },
    {
     "name": "stderr",
     "output_type": "stream",
     "text": [
      " 22%|█████████████████████████████████████▊                                                                                                                                      | 11/50 [00:04<00:18,  2.13it/s]"
     ]
    },
    {
     "name": "stdout",
     "output_type": "stream",
     "text": [
      "Epoch [11/50], Train Loss: 4.7494, Train_accuracy: 64.92012779552715, Val Loss: 2.0364, Val_accuracy: 63.83386581469649\n"
     ]
    },
    {
     "name": "stderr",
     "output_type": "stream",
     "text": [
      " 24%|█████████████████████████████████████████▎                                                                                                                                  | 12/50 [00:05<00:16,  2.28it/s]"
     ]
    },
    {
     "name": "stdout",
     "output_type": "stream",
     "text": [
      "Epoch [12/50], Train Loss: 4.7177, Train_accuracy: 65.5591054313099, Val Loss: 2.0230, Val_accuracy: 64.92012779552715\n",
      "Model saved.\n"
     ]
    },
    {
     "name": "stderr",
     "output_type": "stream",
     "text": [
      " 26%|████████████████████████████████████████████▋                                                                                                                               | 13/50 [00:05<00:17,  2.12it/s]"
     ]
    },
    {
     "name": "stdout",
     "output_type": "stream",
     "text": [
      "Epoch [13/50], Train Loss: 4.6806, Train_accuracy: 66.02768903088392, Val Loss: 2.0072, Val_accuracy: 65.75079872204473\n",
      "Model saved.\n"
     ]
    },
    {
     "name": "stderr",
     "output_type": "stream",
     "text": [
      " 28%|████████████████████████████████████████████████▏                                                                                                                           | 14/50 [00:06<00:15,  2.27it/s]"
     ]
    },
    {
     "name": "stdout",
     "output_type": "stream",
     "text": [
      "Epoch [14/50], Train Loss: 4.6385, Train_accuracy: 66.71636492722754, Val Loss: 1.9894, Val_accuracy: 66.36847710330139\n",
      "Model saved.\n"
     ]
    },
    {
     "name": "stderr",
     "output_type": "stream",
     "text": [
      " 30%|███████████████████████████████████████████████████▌                                                                                                                        | 15/50 [00:06<00:16,  2.12it/s]"
     ]
    },
    {
     "name": "stdout",
     "output_type": "stream",
     "text": [
      "Epoch [15/50], Train Loss: 4.5923, Train_accuracy: 67.05715299964501, Val Loss: 1.9699, Val_accuracy: 66.47497337593184\n",
      "Model saved.\n"
     ]
    },
    {
     "name": "stderr",
     "output_type": "stream",
     "text": [
      " 32%|███████████████████████████████████████████████████████                                                                                                                     | 16/50 [00:07<00:14,  2.30it/s]"
     ]
    },
    {
     "name": "stdout",
     "output_type": "stream",
     "text": [
      "Epoch [16/50], Train Loss: 4.5431, Train_accuracy: 67.14944976925807, Val Loss: 1.9492, Val_accuracy: 66.36847710330139\n"
     ]
    },
    {
     "name": "stderr",
     "output_type": "stream",
     "text": [
      " 34%|██████████████████████████████████████████████████████████▍                                                                                                                 | 17/50 [00:07<00:15,  2.17it/s]"
     ]
    },
    {
     "name": "stdout",
     "output_type": "stream",
     "text": [
      "Epoch [17/50], Train Loss: 4.4921, Train_accuracy: 67.60383386581469, Val Loss: 1.9277, Val_accuracy: 66.53887113951012\n",
      "Model saved.\n"
     ]
    },
    {
     "name": "stderr",
     "output_type": "stream",
     "text": [
      " 36%|█████████████████████████████████████████████████████████████▉                                                                                                              | 18/50 [00:07<00:13,  2.35it/s]"
     ]
    },
    {
     "name": "stdout",
     "output_type": "stream",
     "text": [
      "Epoch [18/50], Train Loss: 4.4408, Train_accuracy: 67.75292864749734, Val Loss: 1.9060, Val_accuracy: 66.73056443024494\n",
      "Model saved.\n"
     ]
    },
    {
     "name": "stderr",
     "output_type": "stream",
     "text": [
      " 38%|█████████████████████████████████████████████████████████████████▎                                                                                                          | 19/50 [00:08<00:14,  2.19it/s]"
     ]
    },
    {
     "name": "stdout",
     "output_type": "stream",
     "text": [
      "Epoch [19/50], Train Loss: 4.3901, Train_accuracy: 68.1079162229322, Val Loss: 1.8847, Val_accuracy: 67.28434504792332\n",
      "Model saved.\n"
     ]
    },
    {
     "name": "stderr",
     "output_type": "stream",
     "text": [
      " 40%|████████████████████████████████████████████████████████████████████▊                                                                                                       | 20/50 [00:08<00:12,  2.36it/s]"
     ]
    },
    {
     "name": "stdout",
     "output_type": "stream",
     "text": [
      "Epoch [20/50], Train Loss: 4.3410, Train_accuracy: 68.37770678026268, Val Loss: 1.8640, Val_accuracy: 67.83812566560171\n",
      "Model saved.\n"
     ]
    },
    {
     "name": "stderr",
     "output_type": "stream",
     "text": [
      " 42%|████████████████████████████████████████████████████████████████████████▏                                                                                                   | 21/50 [00:09<00:13,  2.20it/s]"
     ]
    },
    {
     "name": "stdout",
     "output_type": "stream",
     "text": [
      "Epoch [21/50], Train Loss: 4.2942, Train_accuracy: 68.8533901313454, Val Loss: 1.8443, Val_accuracy: 67.98722044728434\n",
      "Model saved.\n"
     ]
    },
    {
     "name": "stderr",
     "output_type": "stream",
     "text": [
      " 44%|███████████████████████████████████████████████████████████████████████████▋                                                                                                | 22/50 [00:09<00:11,  2.37it/s]"
     ]
    },
    {
     "name": "stdout",
     "output_type": "stream",
     "text": [
      "Epoch [22/50], Train Loss: 4.2499, Train_accuracy: 69.18707845225417, Val Loss: 1.8257, Val_accuracy: 68.17891373801918\n",
      "Model saved.\n"
     ]
    },
    {
     "name": "stderr",
     "output_type": "stream",
     "text": [
      " 46%|███████████████████████████████████████████████████████████████████████████████                                                                                             | 23/50 [00:10<00:12,  2.22it/s]"
     ]
    },
    {
     "name": "stdout",
     "output_type": "stream",
     "text": [
      "Epoch [23/50], Train Loss: 4.2082, Train_accuracy: 69.46396876109335, Val Loss: 1.8082, Val_accuracy: 68.49840255591054\n",
      "Model saved.\n"
     ]
    },
    {
     "name": "stderr",
     "output_type": "stream",
     "text": [
      " 48%|██████████████████████████████████████████████████████████████████████████████████▌                                                                                         | 24/50 [00:10<00:10,  2.40it/s]"
     ]
    },
    {
     "name": "stdout",
     "output_type": "stream",
     "text": [
      "Epoch [24/50], Train Loss: 4.1693, Train_accuracy: 69.79765708200213, Val Loss: 1.7919, Val_accuracy: 68.8817891373802\n",
      "Model saved.\n"
     ]
    },
    {
     "name": "stderr",
     "output_type": "stream",
     "text": [
      " 50%|██████████████████████████████████████████████████████████████████████████████████████                                                                                      | 25/50 [00:11<00:11,  2.24it/s]"
     ]
    },
    {
     "name": "stdout",
     "output_type": "stream",
     "text": [
      "Epoch [25/50], Train Loss: 4.1327, Train_accuracy: 70.17394391196308, Val Loss: 1.7767, Val_accuracy: 69.47816826411075\n",
      "Model saved.\n"
     ]
    },
    {
     "name": "stderr",
     "output_type": "stream",
     "text": [
      " 52%|█████████████████████████████████████████████████████████████████████████████████████████▍                                                                                  | 26/50 [00:11<00:09,  2.41it/s]"
     ]
    },
    {
     "name": "stdout",
     "output_type": "stream",
     "text": [
      "Epoch [26/50], Train Loss: 4.0984, Train_accuracy: 70.59992900248491, Val Loss: 1.7625, Val_accuracy: 69.8615548455804\n",
      "Model saved.\n"
     ]
    },
    {
     "name": "stderr",
     "output_type": "stream",
     "text": [
      " 54%|████████████████████████████████████████████████████████████████████████████████████████████▉                                                                               | 27/50 [00:11<00:10,  2.25it/s]"
     ]
    },
    {
     "name": "stdout",
     "output_type": "stream",
     "text": [
      "Epoch [27/50], Train Loss: 4.0661, Train_accuracy: 70.91941782037628, Val Loss: 1.7491, Val_accuracy: 70.20234291799787\n",
      "Model saved.\n"
     ]
    },
    {
     "name": "stderr",
     "output_type": "stream",
     "text": [
      " 56%|████████████████████████████████████████████████████████████████████████████████████████████████▎                                                                           | 28/50 [00:12<00:09,  2.42it/s]"
     ]
    },
    {
     "name": "stdout",
     "output_type": "stream",
     "text": [
      "Epoch [28/50], Train Loss: 4.0357, Train_accuracy: 71.21050763223288, Val Loss: 1.7366, Val_accuracy: 70.43663471778488\n",
      "Model saved.\n"
     ]
    },
    {
     "name": "stderr",
     "output_type": "stream",
     "text": [
      " 58%|███████████████████████████████████████████████████████████████████████████████████████████████████▊                                                                        | 29/50 [00:12<00:09,  2.23it/s]"
     ]
    },
    {
     "name": "stdout",
     "output_type": "stream",
     "text": [
      "Epoch [29/50], Train Loss: 4.0070, Train_accuracy: 71.52289669861555, Val Loss: 1.7249, Val_accuracy: 70.96911608093717\n",
      "Model saved.\n"
     ]
    },
    {
     "name": "stderr",
     "output_type": "stream",
     "text": [
      " 60%|███████████████████████████████████████████████████████████████████████████████████████████████████████▏                                                                    | 30/50 [00:13<00:08,  2.39it/s]"
     ]
    },
    {
     "name": "stdout",
     "output_type": "stream",
     "text": [
      "Epoch [30/50], Train Loss: 3.9798, Train_accuracy: 71.90628328008519, Val Loss: 1.7139, Val_accuracy: 71.28860489882854\n",
      "Model saved.\n"
     ]
    },
    {
     "name": "stderr",
     "output_type": "stream",
     "text": [
      " 62%|██████████████████████████████████████████████████████████████████████████████████████████████████████████▋                                                                 | 31/50 [00:13<00:08,  2.18it/s]"
     ]
    },
    {
     "name": "stdout",
     "output_type": "stream",
     "text": [
      "Epoch [31/50], Train Loss: 3.9541, Train_accuracy: 72.05537806176784, Val Loss: 1.7037, Val_accuracy: 71.24600638977635\n"
     ]
    },
    {
     "name": "stderr",
     "output_type": "stream",
     "text": [
      " 64%|██████████████████████████████████████████████████████████████████████████████████████████████████████████████                                                              | 32/50 [00:13<00:07,  2.34it/s]"
     ]
    },
    {
     "name": "stdout",
     "output_type": "stream",
     "text": [
      "Epoch [32/50], Train Loss: 3.9298, Train_accuracy: 72.24707135250266, Val Loss: 1.6941, Val_accuracy: 71.3738019169329\n",
      "Model saved.\n"
     ]
    },
    {
     "name": "stderr",
     "output_type": "stream",
     "text": [
      " 66%|█████████████████████████████████████████████████████████████████████████████████████████████████████████████████▌                                                          | 33/50 [00:14<00:07,  2.19it/s]"
     ]
    },
    {
     "name": "stdout",
     "output_type": "stream",
     "text": [
      "Epoch [33/50], Train Loss: 3.9067, Train_accuracy: 72.45296414625489, Val Loss: 1.6852, Val_accuracy: 71.48029818956337\n",
      "Model saved.\n"
     ]
    },
    {
     "name": "stderr",
     "output_type": "stream",
     "text": [
      " 68%|████████████████████████████████████████████████████████████████████████████████████████████████████████████████████▉                                                       | 34/50 [00:15<00:07,  2.09it/s]"
     ]
    },
    {
     "name": "stdout",
     "output_type": "stream",
     "text": [
      "Epoch [34/50], Train Loss: 3.8848, Train_accuracy: 72.63045793397231, Val Loss: 1.6768, Val_accuracy: 71.77848775292864\n",
      "Model saved.\n"
     ]
    },
    {
     "name": "stderr",
     "output_type": "stream",
     "text": [
      " 70%|████████████████████████████████████████████████████████████████████████████████████████████████████████████████████████▍                                                   | 35/50 [00:15<00:06,  2.27it/s]"
     ]
    },
    {
     "name": "stdout",
     "output_type": "stream",
     "text": [
      "Epoch [35/50], Train Loss: 3.8641, Train_accuracy: 72.79375221867235, Val Loss: 1.6691, Val_accuracy: 72.07667731629392\n",
      "Model saved.\n"
     ]
    },
    {
     "name": "stderr",
     "output_type": "stream",
     "text": [
      " 72%|███████████████████████████████████████████████████████████████████████████████████████████████████████████████████████████▊                                                | 36/50 [00:15<00:05,  2.37it/s]"
     ]
    },
    {
     "name": "stdout",
     "output_type": "stream",
     "text": [
      "Epoch [36/50], Train Loss: 3.8443, Train_accuracy: 72.9002484913028, Val Loss: 1.6618, Val_accuracy: 72.18317358892439\n",
      "Model saved.\n"
     ]
    },
    {
     "name": "stderr",
     "output_type": "stream",
     "text": [
      " 74%|███████████████████████████████████████████████████████████████████████████████████████████████████████████████████████████████▎                                            | 37/50 [00:16<00:05,  2.17it/s]"
     ]
    },
    {
     "name": "stdout",
     "output_type": "stream",
     "text": [
      "Epoch [37/50], Train Loss: 3.8252, Train_accuracy: 73.02094426695065, Val Loss: 1.6549, Val_accuracy: 72.22577209797657\n",
      "Model saved.\n"
     ]
    },
    {
     "name": "stderr",
     "output_type": "stream",
     "text": [
      " 76%|██████████████████████████████████████████████████████████████████████████████████████████████████████████████████████████████████▋                                         | 38/50 [00:16<00:05,  2.37it/s]"
     ]
    },
    {
     "name": "stdout",
     "output_type": "stream",
     "text": [
      "Epoch [38/50], Train Loss: 3.8070, Train_accuracy: 73.1629392971246, Val Loss: 1.6484, Val_accuracy: 72.16187433439829\n"
     ]
    },
    {
     "name": "stderr",
     "output_type": "stream",
     "text": [
      " 78%|██████████████████████████████████████████████████████████████████████████████████████████████████████████████████████████████████████▏                                     | 39/50 [00:17<00:04,  2.22it/s]"
     ]
    },
    {
     "name": "stdout",
     "output_type": "stream",
     "text": [
      "Epoch [39/50], Train Loss: 3.7896, Train_accuracy: 73.21263755768548, Val Loss: 1.6423, Val_accuracy: 72.33226837060703\n",
      "Model saved.\n"
     ]
    },
    {
     "name": "stderr",
     "output_type": "stream",
     "text": [
      " 80%|█████████████████████████████████████████████████████████████████████████████████████████████████████████████████████████████████████████▌                                  | 40/50 [00:17<00:04,  2.39it/s]"
     ]
    },
    {
     "name": "stdout",
     "output_type": "stream",
     "text": [
      "Epoch [40/50], Train Loss: 3.7728, Train_accuracy: 73.32623358182464, Val Loss: 1.6366, Val_accuracy: 72.56656017039404\n",
      "Model saved.\n"
     ]
    },
    {
     "name": "stderr",
     "output_type": "stream",
     "text": [
      " 82%|█████████████████████████████████████████████████████████████████████████████████████████████████████████████████████████████████████████████                               | 41/50 [00:18<00:04,  2.23it/s]"
     ]
    },
    {
     "name": "stdout",
     "output_type": "stream",
     "text": [
      "Epoch [41/50], Train Loss: 3.7567, Train_accuracy: 73.4398296059638, Val Loss: 1.6312, Val_accuracy: 72.84345047923323\n",
      "Model saved.\n"
     ]
    },
    {
     "name": "stderr",
     "output_type": "stream",
     "text": [
      " 84%|████████████████████████████████████████████████████████████████████████████████████████████████████████████████████████████████████████████████▍                           | 42/50 [00:18<00:03,  2.41it/s]"
     ]
    },
    {
     "name": "stdout",
     "output_type": "stream",
     "text": [
      "Epoch [42/50], Train Loss: 3.7412, Train_accuracy: 73.55342563010295, Val Loss: 1.6261, Val_accuracy: 72.90734824281151\n",
      "Model saved.\n"
     ]
    },
    {
     "name": "stderr",
     "output_type": "stream",
     "text": [
      " 86%|███████████████████████████████████████████████████████████████████████████████████████████████████████████████████████████████████████████████████▉                        | 43/50 [00:18<00:03,  2.23it/s]"
     ]
    },
    {
     "name": "stdout",
     "output_type": "stream",
     "text": [
      "Epoch [43/50], Train Loss: 3.7263, Train_accuracy: 73.73801916932908, Val Loss: 1.6213, Val_accuracy: 73.07774227902023\n",
      "Model saved.\n"
     ]
    },
    {
     "name": "stderr",
     "output_type": "stream",
     "text": [
      " 88%|███████████████████████████████████████████████████████████████████████████████████████████████████████████████████████████████████████████████████████▎                    | 44/50 [00:19<00:02,  2.40it/s]"
     ]
    },
    {
     "name": "stdout",
     "output_type": "stream",
     "text": [
      "Epoch [44/50], Train Loss: 3.7119, Train_accuracy: 73.88711395101171, Val Loss: 1.6167, Val_accuracy: 73.12034078807241\n",
      "Model saved.\n"
     ]
    },
    {
     "name": "stderr",
     "output_type": "stream",
     "text": [
      " 90%|██████████████████████████████████████████████████████████████████████████████████████████████████████████████████████████████████████████████████████████▊                 | 45/50 [00:19<00:02,  2.23it/s]"
     ]
    },
    {
     "name": "stdout",
     "output_type": "stream",
     "text": [
      "Epoch [45/50], Train Loss: 3.6980, Train_accuracy: 73.97231096911608, Val Loss: 1.6123, Val_accuracy: 73.22683706070288\n",
      "Model saved.\n"
     ]
    },
    {
     "name": "stderr",
     "output_type": "stream",
     "text": [
      " 92%|██████████████████████████████████████████████████████████████████████████████████████████████████████████████████████████████████████████████████████████████▏             | 46/50 [00:20<00:01,  2.40it/s]"
     ]
    },
    {
     "name": "stdout",
     "output_type": "stream",
     "text": [
      "Epoch [46/50], Train Loss: 3.6845, Train_accuracy: 74.13560525381611, Val Loss: 1.6082, Val_accuracy: 73.37593184238551\n",
      "Model saved.\n"
     ]
    },
    {
     "name": "stderr",
     "output_type": "stream",
     "text": [
      " 94%|█████████████████████████████████████████████████████████████████████████████████████████████████████████████████████████████████████████████████████████████████▋          | 47/50 [00:20<00:01,  2.23it/s]"
     ]
    },
    {
     "name": "stdout",
     "output_type": "stream",
     "text": [
      "Epoch [47/50], Train Loss: 3.6714, Train_accuracy: 74.1711040113596, Val Loss: 1.6042, Val_accuracy: 73.50372736954206\n",
      "Model saved.\n"
     ]
    },
    {
     "name": "stderr",
     "output_type": "stream",
     "text": [
      " 96%|█████████████████████████████████████████████████████████████████████████████████████████████████████████████████████████████████████████████████████████████████████       | 48/50 [00:20<00:00,  2.40it/s]"
     ]
    },
    {
     "name": "stdout",
     "output_type": "stream",
     "text": [
      "Epoch [48/50], Train Loss: 3.6588, Train_accuracy: 74.19950301739439, Val Loss: 1.6004, Val_accuracy: 73.71671991480298\n",
      "Model saved.\n"
     ]
    },
    {
     "name": "stderr",
     "output_type": "stream",
     "text": [
      " 98%|████████████████████████████████████████████████████████████████████████████████████████████████████████████████████████████████████████████████████████████████████████▌   | 49/50 [00:21<00:00,  2.23it/s]"
     ]
    },
    {
     "name": "stdout",
     "output_type": "stream",
     "text": [
      "Epoch [49/50], Train Loss: 3.6466, Train_accuracy: 74.419595314164, Val Loss: 1.5969, Val_accuracy: 73.82321618743345\n",
      "Model saved.\n"
     ]
    },
    {
     "name": "stderr",
     "output_type": "stream",
     "text": [
      "100%|████████████████████████████████████████████████████████████████████████████████████████████████████████████████████████████████████████████████████████████████████████████| 50/50 [00:21<00:00,  2.29it/s]"
     ]
    },
    {
     "name": "stdout",
     "output_type": "stream",
     "text": [
      "Epoch [50/50], Train Loss: 3.6348, Train_accuracy: 74.56869009584665, Val Loss: 1.5935, Val_accuracy: 73.86581469648563\n",
      "Model saved.\n"
     ]
    },
    {
     "name": "stderr",
     "output_type": "stream",
     "text": [
      "\n"
     ]
    },
    {
     "name": "stdout",
     "output_type": "stream",
     "text": [
      "Test Accucary 72.99829642248723\n",
      "Current sub-neural network has 3 hidden layers.\n",
      "...\n"
     ]
    },
    {
     "name": "stderr",
     "output_type": "stream",
     "text": [
      "  2%|███▍                                                                                                                                                                         | 1/50 [00:00<00:25,  1.96it/s]"
     ]
    },
    {
     "name": "stdout",
     "output_type": "stream",
     "text": [
      "Epoch [1/50], Train Loss: 4.8712, Train_accuracy: 50.17394391196308, Val Loss: 2.0870, Val_accuracy: 49.75505857294995\n",
      "Model saved.\n"
     ]
    },
    {
     "name": "stderr",
     "output_type": "stream",
     "text": [
      "  4%|██████▉                                                                                                                                                                      | 2/50 [00:00<00:19,  2.45it/s]"
     ]
    },
    {
     "name": "stdout",
     "output_type": "stream",
     "text": [
      "Epoch [2/50], Train Loss: 4.8695, Train_accuracy: 50.17394391196308, Val Loss: 2.0862, Val_accuracy: 49.75505857294995\n"
     ]
    },
    {
     "name": "stderr",
     "output_type": "stream",
     "text": [
      "  6%|██████████▍                                                                                                                                                                  | 3/50 [00:01<00:17,  2.67it/s]"
     ]
    },
    {
     "name": "stdout",
     "output_type": "stream",
     "text": [
      "Epoch [3/50], Train Loss: 4.8677, Train_accuracy: 50.17394391196308, Val Loss: 2.0855, Val_accuracy: 49.75505857294995\n"
     ]
    },
    {
     "name": "stderr",
     "output_type": "stream",
     "text": [
      "  8%|█████████████▊                                                                                                                                                               | 4/50 [00:01<00:19,  2.34it/s]"
     ]
    },
    {
     "name": "stdout",
     "output_type": "stream",
     "text": [
      "Epoch [4/50], Train Loss: 4.8660, Train_accuracy: 50.17394391196308, Val Loss: 2.0848, Val_accuracy: 49.75505857294995\n"
     ]
    },
    {
     "name": "stderr",
     "output_type": "stream",
     "text": [
      " 10%|█████████████████▎                                                                                                                                                           | 5/50 [00:02<00:17,  2.52it/s]"
     ]
    },
    {
     "name": "stdout",
     "output_type": "stream",
     "text": [
      "Epoch [5/50], Train Loss: 4.8641, Train_accuracy: 50.17394391196308, Val Loss: 2.0840, Val_accuracy: 49.75505857294995\n"
     ]
    },
    {
     "name": "stderr",
     "output_type": "stream",
     "text": [
      " 12%|████████████████████▊                                                                                                                                                        | 6/50 [00:02<00:19,  2.27it/s]"
     ]
    },
    {
     "name": "stdout",
     "output_type": "stream",
     "text": [
      "Epoch [6/50], Train Loss: 4.8620, Train_accuracy: 50.17394391196308, Val Loss: 2.0832, Val_accuracy: 49.75505857294995\n"
     ]
    },
    {
     "name": "stderr",
     "output_type": "stream",
     "text": [
      " 14%|████████████████████████▏                                                                                                                                                    | 7/50 [00:02<00:17,  2.46it/s]"
     ]
    },
    {
     "name": "stdout",
     "output_type": "stream",
     "text": [
      "Epoch [7/50], Train Loss: 4.8596, Train_accuracy: 50.17394391196308, Val Loss: 2.0822, Val_accuracy: 49.75505857294995\n"
     ]
    },
    {
     "name": "stderr",
     "output_type": "stream",
     "text": [
      " 16%|███████████████████████████▋                                                                                                                                                 | 8/50 [00:03<00:18,  2.23it/s]"
     ]
    },
    {
     "name": "stdout",
     "output_type": "stream",
     "text": [
      "Epoch [8/50], Train Loss: 4.8568, Train_accuracy: 50.17394391196308, Val Loss: 2.0810, Val_accuracy: 49.75505857294995\n"
     ]
    },
    {
     "name": "stderr",
     "output_type": "stream",
     "text": [
      " 18%|███████████████████████████████▏                                                                                                                                             | 9/50 [00:03<00:17,  2.40it/s]"
     ]
    },
    {
     "name": "stdout",
     "output_type": "stream",
     "text": [
      "Epoch [9/50], Train Loss: 4.8533, Train_accuracy: 50.17394391196308, Val Loss: 2.0796, Val_accuracy: 49.75505857294995\n"
     ]
    },
    {
     "name": "stderr",
     "output_type": "stream",
     "text": [
      " 20%|██████████████████████████████████▍                                                                                                                                         | 10/50 [00:04<00:17,  2.23it/s]"
     ]
    },
    {
     "name": "stdout",
     "output_type": "stream",
     "text": [
      "Epoch [10/50], Train Loss: 4.8491, Train_accuracy: 50.17394391196308, Val Loss: 2.0779, Val_accuracy: 49.75505857294995\n"
     ]
    },
    {
     "name": "stderr",
     "output_type": "stream",
     "text": [
      " 22%|█████████████████████████████████████▊                                                                                                                                      | 11/50 [00:04<00:16,  2.40it/s]"
     ]
    },
    {
     "name": "stdout",
     "output_type": "stream",
     "text": [
      "Epoch [11/50], Train Loss: 4.8439, Train_accuracy: 50.17394391196308, Val Loss: 2.0758, Val_accuracy: 49.75505857294995\n"
     ]
    },
    {
     "name": "stderr",
     "output_type": "stream",
     "text": [
      " 24%|█████████████████████████████████████████▎                                                                                                                                  | 12/50 [00:05<00:17,  2.22it/s]"
     ]
    },
    {
     "name": "stdout",
     "output_type": "stream",
     "text": [
      "Epoch [12/50], Train Loss: 4.8377, Train_accuracy: 50.17394391196308, Val Loss: 2.0732, Val_accuracy: 49.75505857294995\n"
     ]
    },
    {
     "name": "stderr",
     "output_type": "stream",
     "text": [
      " 26%|████████████████████████████████████████████▋                                                                                                                               | 13/50 [00:05<00:15,  2.38it/s]"
     ]
    },
    {
     "name": "stdout",
     "output_type": "stream",
     "text": [
      "Epoch [13/50], Train Loss: 4.8301, Train_accuracy: 50.96911608093717, Val Loss: 2.0701, Val_accuracy: 50.52183173588924\n",
      "Model saved.\n"
     ]
    },
    {
     "name": "stderr",
     "output_type": "stream",
     "text": [
      " 28%|████████████████████████████████████████████████▏                                                                                                                           | 14/50 [00:06<00:16,  2.21it/s]"
     ]
    },
    {
     "name": "stdout",
     "output_type": "stream",
     "text": [
      "Epoch [14/50], Train Loss: 4.8209, Train_accuracy: 58.7362442314519, Val Loss: 2.0663, Val_accuracy: 57.59318423855165\n",
      "Model saved.\n"
     ]
    },
    {
     "name": "stderr",
     "output_type": "stream",
     "text": [
      " 30%|███████████████████████████████████████████████████▌                                                                                                                        | 15/50 [00:06<00:16,  2.10it/s]"
     ]
    },
    {
     "name": "stdout",
     "output_type": "stream",
     "text": [
      "Epoch [15/50], Train Loss: 4.8097, Train_accuracy: 64.33084842030529, Val Loss: 2.0617, Val_accuracy: 63.919062832800854\n",
      "Model saved.\n"
     ]
    },
    {
     "name": "stderr",
     "output_type": "stream",
     "text": [
      " 32%|███████████████████████████████████████████████████████                                                                                                                     | 16/50 [00:06<00:14,  2.28it/s]"
     ]
    },
    {
     "name": "stdout",
     "output_type": "stream",
     "text": [
      "Epoch [16/50], Train Loss: 4.7962, Train_accuracy: 65.88569400070998, Val Loss: 2.0561, Val_accuracy: 65.68690095846645\n",
      "Model saved.\n"
     ]
    },
    {
     "name": "stderr",
     "output_type": "stream",
     "text": [
      " 34%|██████████████████████████████████████████████████████████▍                                                                                                                 | 17/50 [00:07<00:13,  2.44it/s]"
     ]
    },
    {
     "name": "stdout",
     "output_type": "stream",
     "text": [
      "Epoch [17/50], Train Loss: 4.7796, Train_accuracy: 65.89989350372737, Val Loss: 2.0493, Val_accuracy: 65.60170394036209\n"
     ]
    },
    {
     "name": "stderr",
     "output_type": "stream",
     "text": [
      " 36%|█████████████████████████████████████████████████████████████▉                                                                                                              | 18/50 [00:07<00:14,  2.25it/s]"
     ]
    },
    {
     "name": "stdout",
     "output_type": "stream",
     "text": [
      "Epoch [18/50], Train Loss: 4.7597, Train_accuracy: 65.87859424920129, Val Loss: 2.0411, Val_accuracy: 65.70820021299255\n",
      "Model saved.\n"
     ]
    },
    {
     "name": "stderr",
     "output_type": "stream",
     "text": [
      " 38%|█████████████████████████████████████████████████████████████████▎                                                                                                          | 19/50 [00:08<00:14,  2.13it/s]"
     ]
    },
    {
     "name": "stdout",
     "output_type": "stream",
     "text": [
      "Epoch [19/50], Train Loss: 4.7363, Train_accuracy: 66.13418530351437, Val Loss: 2.0314, Val_accuracy: 65.85729499467519\n",
      "Model saved.\n"
     ]
    },
    {
     "name": "stderr",
     "output_type": "stream",
     "text": [
      " 40%|████████████████████████████████████████████████████████████████████▊                                                                                                       | 20/50 [00:08<00:12,  2.31it/s]"
     ]
    },
    {
     "name": "stdout",
     "output_type": "stream",
     "text": [
      "Epoch [20/50], Train Loss: 4.7090, Train_accuracy: 66.48207312744054, Val Loss: 2.0201, Val_accuracy: 66.00638977635782\n",
      "Model saved.\n"
     ]
    },
    {
     "name": "stderr",
     "output_type": "stream",
     "text": [
      " 42%|████████████████████████████████████████████████████████████████████████▏                                                                                                   | 21/50 [00:09<00:13,  2.16it/s]"
     ]
    },
    {
     "name": "stdout",
     "output_type": "stream",
     "text": [
      "Epoch [21/50], Train Loss: 4.6779, Train_accuracy: 66.588569400071, Val Loss: 2.0071, Val_accuracy: 66.3258785942492\n",
      "Model saved.\n"
     ]
    },
    {
     "name": "stderr",
     "output_type": "stream",
     "text": [
      " 44%|███████████████████████████████████████████████████████████████████████████▋                                                                                                | 22/50 [00:09<00:12,  2.33it/s]"
     ]
    },
    {
     "name": "stdout",
     "output_type": "stream",
     "text": [
      "Epoch [22/50], Train Loss: 4.6430, Train_accuracy: 66.8299609513667, Val Loss: 1.9927, Val_accuracy: 66.34717784877529\n",
      "Model saved.\n"
     ]
    },
    {
     "name": "stderr",
     "output_type": "stream",
     "text": [
      " 46%|███████████████████████████████████████████████████████████████████████████████                                                                                             | 23/50 [00:10<00:12,  2.18it/s]"
     ]
    },
    {
     "name": "stdout",
     "output_type": "stream",
     "text": [
      "Epoch [23/50], Train Loss: 4.6048, Train_accuracy: 66.94355697550586, Val Loss: 1.9769, Val_accuracy: 66.49627263045794\n",
      "Model saved.\n"
     ]
    },
    {
     "name": "stderr",
     "output_type": "stream",
     "text": [
      " 48%|██████████████████████████████████████████████████████████████████████████████████▌                                                                                         | 24/50 [00:10<00:11,  2.35it/s]"
     ]
    },
    {
     "name": "stdout",
     "output_type": "stream",
     "text": [
      "Epoch [24/50], Train Loss: 4.5638, Train_accuracy: 67.21334753283635, Val Loss: 1.9599, Val_accuracy: 66.5814696485623\n",
      "Model saved.\n"
     ]
    },
    {
     "name": "stderr",
     "output_type": "stream",
     "text": [
      " 50%|██████████████████████████████████████████████████████████████████████████████████████                                                                                      | 25/50 [00:10<00:11,  2.20it/s]"
     ]
    },
    {
     "name": "stdout",
     "output_type": "stream",
     "text": [
      "Epoch [25/50], Train Loss: 4.5207, Train_accuracy: 67.32694355697551, Val Loss: 1.9421, Val_accuracy: 66.75186368477104\n",
      "Model saved.\n"
     ]
    },
    {
     "name": "stderr",
     "output_type": "stream",
     "text": [
      " 52%|█████████████████████████████████████████████████████████████████████████████████████████▍                                                                                  | 26/50 [00:11<00:10,  2.37it/s]"
     ]
    },
    {
     "name": "stdout",
     "output_type": "stream",
     "text": [
      "Epoch [26/50], Train Loss: 4.4765, Train_accuracy: 67.53993610223642, Val Loss: 1.9239, Val_accuracy: 66.75186368477104\n"
     ]
    },
    {
     "name": "stderr",
     "output_type": "stream",
     "text": [
      " 54%|████████████████████████████████████████████████████████████████████████████████████████████▉                                                                               | 27/50 [00:11<00:10,  2.20it/s]"
     ]
    },
    {
     "name": "stdout",
     "output_type": "stream",
     "text": [
      "Epoch [27/50], Train Loss: 4.4321, Train_accuracy: 67.78842740504082, Val Loss: 1.9057, Val_accuracy: 67.32694355697551\n",
      "Model saved.\n"
     ]
    },
    {
     "name": "stderr",
     "output_type": "stream",
     "text": [
      " 56%|████████████████████████████████████████████████████████████████████████████████████████████████▎                                                                           | 28/50 [00:12<00:09,  2.36it/s]"
     ]
    },
    {
     "name": "stdout",
     "output_type": "stream",
     "text": [
      "Epoch [28/50], Train Loss: 4.3882, Train_accuracy: 68.1008164714235, Val Loss: 1.8878, Val_accuracy: 67.36954206602769\n",
      "Model saved.\n"
     ]
    },
    {
     "name": "stderr",
     "output_type": "stream",
     "text": [
      " 58%|███████████████████████████████████████████████████████████████████████████████████████████████████▊                                                                        | 29/50 [00:12<00:09,  2.19it/s]"
     ]
    },
    {
     "name": "stdout",
     "output_type": "stream",
     "text": [
      "Epoch [29/50], Train Loss: 4.3456, Train_accuracy: 68.29250976215832, Val Loss: 1.8704, Val_accuracy: 67.51863684771033\n",
      "Model saved.\n"
     ]
    },
    {
     "name": "stderr",
     "output_type": "stream",
     "text": [
      " 60%|███████████████████████████████████████████████████████████████████████████████████████████████████████▏                                                                    | 30/50 [00:13<00:08,  2.35it/s]"
     ]
    },
    {
     "name": "stdout",
     "output_type": "stream",
     "text": [
      "Epoch [30/50], Train Loss: 4.3047, Train_accuracy: 68.54810081647142, Val Loss: 1.8538, Val_accuracy: 67.98722044728434\n",
      "Model saved.\n"
     ]
    },
    {
     "name": "stderr",
     "output_type": "stream",
     "text": [
      " 62%|██████████████████████████████████████████████████████████████████████████████████████████████████████████▋                                                                 | 31/50 [00:13<00:08,  2.18it/s]"
     ]
    },
    {
     "name": "stdout",
     "output_type": "stream",
     "text": [
      "Epoch [31/50], Train Loss: 4.2656, Train_accuracy: 68.72559460418886, Val Loss: 1.8380, Val_accuracy: 68.05111821086263\n",
      "Model saved.\n"
     ]
    },
    {
     "name": "stderr",
     "output_type": "stream",
     "text": [
      " 64%|██████████████████████████████████████████████████████████████████████████████████████████████████████████████                                                              | 32/50 [00:13<00:07,  2.34it/s]"
     ]
    },
    {
     "name": "stdout",
     "output_type": "stream",
     "text": [
      "Epoch [32/50], Train Loss: 4.2285, Train_accuracy: 69.13028044018459, Val Loss: 1.8231, Val_accuracy: 68.3493077742279\n",
      "Model saved.\n"
     ]
    },
    {
     "name": "stderr",
     "output_type": "stream",
     "text": [
      " 66%|█████████████████████████████████████████████████████████████████████████████████████████████████████████████████▌                                                          | 33/50 [00:14<00:07,  2.19it/s]"
     ]
    },
    {
     "name": "stdout",
     "output_type": "stream",
     "text": [
      "Epoch [33/50], Train Loss: 4.1934, Train_accuracy: 69.40717074902379, Val Loss: 1.8091, Val_accuracy: 68.45580404685836\n",
      "Model saved.\n"
     ]
    },
    {
     "name": "stderr",
     "output_type": "stream",
     "text": [
      " 68%|████████████████████████████████████████████████████████████████████████████████████████████████████████████████████▉                                                       | 34/50 [00:15<00:07,  2.10it/s]"
     ]
    },
    {
     "name": "stdout",
     "output_type": "stream",
     "text": [
      "Epoch [34/50], Train Loss: 4.1601, Train_accuracy: 69.76215832445864, Val Loss: 1.7959, Val_accuracy: 68.96698615548456\n",
      "Model saved.\n"
     ]
    },
    {
     "name": "stderr",
     "output_type": "stream",
     "text": [
      " 70%|████████████████████████████████████████████████████████████████████████████████████████████████████████████████████████▍                                                   | 35/50 [00:15<00:06,  2.29it/s]"
     ]
    },
    {
     "name": "stdout",
     "output_type": "stream",
     "text": [
      "Epoch [35/50], Train Loss: 4.1284, Train_accuracy: 70.15974440894568, Val Loss: 1.7834, Val_accuracy: 69.58466453674122\n",
      "Model saved.\n"
     ]
    },
    {
     "name": "stderr",
     "output_type": "stream",
     "text": [
      " 72%|███████████████████████████████████████████████████████████████████████████████████████████████████████████████████████████▊                                                | 36/50 [00:15<00:06,  2.17it/s]"
     ]
    },
    {
     "name": "stdout",
     "output_type": "stream",
     "text": [
      "Epoch [36/50], Train Loss: 4.0986, Train_accuracy: 70.48633297834576, Val Loss: 1.7717, Val_accuracy: 69.8828541001065\n",
      "Model saved.\n"
     ]
    },
    {
     "name": "stderr",
     "output_type": "stream",
     "text": [
      " 74%|███████████████████████████████████████████████████████████████████████████████████████████████████████████████████████████████▎                                            | 37/50 [00:16<00:05,  2.35it/s]"
     ]
    },
    {
     "name": "stdout",
     "output_type": "stream",
     "text": [
      "Epoch [37/50], Train Loss: 4.0703, Train_accuracy: 70.69932552360667, Val Loss: 1.7607, Val_accuracy: 70.43663471778488\n",
      "Model saved.\n"
     ]
    },
    {
     "name": "stderr",
     "output_type": "stream",
     "text": [
      " 76%|██████████████████████████████████████████████████████████████████████████████████████████████████████████████████████████████████▋                                         | 38/50 [00:16<00:05,  2.22it/s]"
     ]
    },
    {
     "name": "stdout",
     "output_type": "stream",
     "text": [
      "Epoch [38/50], Train Loss: 4.0435, Train_accuracy: 70.77742279020234, Val Loss: 1.7505, Val_accuracy: 70.43663471778488\n"
     ]
    },
    {
     "name": "stderr",
     "output_type": "stream",
     "text": [
      " 78%|██████████████████████████████████████████████████████████████████████████████████████████████████████████████████████████████████████▏                                     | 39/50 [00:17<00:04,  2.39it/s]"
     ]
    },
    {
     "name": "stdout",
     "output_type": "stream",
     "text": [
      "Epoch [39/50], Train Loss: 4.0181, Train_accuracy: 71.06141285055023, Val Loss: 1.7409, Val_accuracy: 70.77742279020234\n",
      "Model saved.\n"
     ]
    },
    {
     "name": "stderr",
     "output_type": "stream",
     "text": [
      " 80%|█████████████████████████████████████████████████████████████████████████████████████████████████████████████████████████████████████████▌                                  | 40/50 [00:17<00:04,  2.20it/s]"
     ]
    },
    {
     "name": "stdout",
     "output_type": "stream",
     "text": [
      "Epoch [40/50], Train Loss: 3.9941, Train_accuracy: 71.27440539581114, Val Loss: 1.7319, Val_accuracy: 71.05431309904154\n",
      "Model saved.\n"
     ]
    },
    {
     "name": "stderr",
     "output_type": "stream",
     "text": [
      " 82%|█████████████████████████████████████████████████████████████████████████████████████████████████████████████████████████████████████████████                               | 41/50 [00:17<00:03,  2.36it/s]"
     ]
    },
    {
     "name": "stdout",
     "output_type": "stream",
     "text": [
      "Epoch [41/50], Train Loss: 3.9714, Train_accuracy: 71.46609868654598, Val Loss: 1.7234, Val_accuracy: 71.28860489882854\n",
      "Model saved.\n"
     ]
    },
    {
     "name": "stderr",
     "output_type": "stream",
     "text": [
      " 84%|████████████████████████████████████████████████████████████████████████████████████████████████████████████████████████████████████████████████▍                           | 42/50 [00:18<00:03,  2.19it/s]"
     ]
    },
    {
     "name": "stdout",
     "output_type": "stream",
     "text": [
      "Epoch [42/50], Train Loss: 3.9498, Train_accuracy: 71.6506922257721, Val Loss: 1.7157, Val_accuracy: 71.45899893503727\n",
      "Model saved.\n"
     ]
    },
    {
     "name": "stderr",
     "output_type": "stream",
     "text": [
      " 86%|███████████████████████████████████████████████████████████████████████████████████████████████████████████████████████████████████████████████████▉                        | 43/50 [00:19<00:03,  2.08it/s]"
     ]
    },
    {
     "name": "stdout",
     "output_type": "stream",
     "text": [
      "Epoch [43/50], Train Loss: 3.9295, Train_accuracy: 71.97728079517216, Val Loss: 1.7084, Val_accuracy: 71.73588924387647\n",
      "Model saved.\n"
     ]
    },
    {
     "name": "stderr",
     "output_type": "stream",
     "text": [
      " 88%|███████████████████████████████████████████████████████████████████████████████████████████████████████████████████████████████████████████████████████▎                    | 44/50 [00:19<00:02,  2.26it/s]"
     ]
    },
    {
     "name": "stdout",
     "output_type": "stream",
     "text": [
      "Epoch [44/50], Train Loss: 3.9103, Train_accuracy: 72.28257011004615, Val Loss: 1.7017, Val_accuracy: 71.94888178913737\n",
      "Model saved.\n"
     ]
    },
    {
     "name": "stderr",
     "output_type": "stream",
     "text": [
      " 90%|██████████████████████████████████████████████████████████████████████████████████████████████████████████████████████████████████████████████████████████▊                 | 45/50 [00:19<00:02,  2.41it/s]"
     ]
    },
    {
     "name": "stdout",
     "output_type": "stream",
     "text": [
      "Epoch [45/50], Train Loss: 3.8922, Train_accuracy: 72.37486687965921, Val Loss: 1.6955, Val_accuracy: 72.07667731629392\n",
      "Model saved.\n"
     ]
    },
    {
     "name": "stderr",
     "output_type": "stream",
     "text": [
      " 92%|██████████████████████████████████████████████████████████████████████████████████████████████████████████████████████████████████████████████████████████████▏             | 46/50 [00:20<00:01,  2.22it/s]"
     ]
    },
    {
     "name": "stdout",
     "output_type": "stream",
     "text": [
      "Epoch [46/50], Train Loss: 3.8751, Train_accuracy: 72.46716364927228, Val Loss: 1.6897, Val_accuracy: 72.39616613418531\n",
      "Model saved.\n"
     ]
    },
    {
     "name": "stderr",
     "output_type": "stream",
     "text": [
      " 94%|█████████████████████████████████████████████████████████████████████████████████████████████████████████████████████████████████████████████████████████████████▋          | 47/50 [00:20<00:01,  2.37it/s]"
     ]
    },
    {
     "name": "stdout",
     "output_type": "stream",
     "text": [
      "Epoch [47/50], Train Loss: 3.8589, Train_accuracy: 72.55946041888534, Val Loss: 1.6844, Val_accuracy: 72.41746538871139\n",
      "Model saved.\n"
     ]
    },
    {
     "name": "stderr",
     "output_type": "stream",
     "text": [
      " 96%|█████████████████████████████████████████████████████████████████████████████████████████████████████████████████████████████████████████████████████████████████████       | 48/50 [00:21<00:00,  2.19it/s]"
     ]
    },
    {
     "name": "stdout",
     "output_type": "stream",
     "text": [
      "Epoch [48/50], Train Loss: 3.8436, Train_accuracy: 72.6801561945332, Val Loss: 1.6793, Val_accuracy: 72.46006389776358\n",
      "Model saved.\n"
     ]
    },
    {
     "name": "stderr",
     "output_type": "stream",
     "text": [
      " 98%|████████████████████████████████████████████████████████████████████████████████████████████████████████████████████████████████████████████████████████████████████████▌   | 49/50 [00:21<00:00,  2.36it/s]"
     ]
    },
    {
     "name": "stdout",
     "output_type": "stream",
     "text": [
      "Epoch [49/50], Train Loss: 3.8290, Train_accuracy: 72.72985445509407, Val Loss: 1.6746, Val_accuracy: 72.60915867944622\n",
      "Model saved.\n"
     ]
    },
    {
     "name": "stderr",
     "output_type": "stream",
     "text": [
      "100%|████████████████████████████████████████████████████████████████████████████████████████████████████████████████████████████████████████████████████████████████████████████| 50/50 [00:22<00:00,  2.27it/s]"
     ]
    },
    {
     "name": "stdout",
     "output_type": "stream",
     "text": [
      "Epoch [50/50], Train Loss: 3.8151, Train_accuracy: 72.73695420660277, Val Loss: 1.6702, Val_accuracy: 72.60915867944622\n"
     ]
    },
    {
     "name": "stderr",
     "output_type": "stream",
     "text": [
      "\n"
     ]
    },
    {
     "name": "stdout",
     "output_type": "stream",
     "text": [
      "Test Accucary 71.50766609880749\n",
      "tranining_fully_connected_layers:\n",
      "Current sub-neural network has 1 hidden layers.\n",
      "...\n"
     ]
    },
    {
     "name": "stderr",
     "output_type": "stream",
     "text": [
      "  2%|███▍                                                                                                                                                                         | 1/50 [00:00<00:23,  2.05it/s]"
     ]
    },
    {
     "name": "stdout",
     "output_type": "stream",
     "text": [
      "Epoch [1/50], Train Loss: 4.7246, Train_accuracy: 54.682286119985804, Val Loss: 2.0334, Val_accuracy: 54.48349307774228\n",
      "Model saved.\n"
     ]
    },
    {
     "name": "stderr",
     "output_type": "stream",
     "text": [
      "  4%|██████▉                                                                                                                                                                      | 2/50 [00:01<00:24,  1.99it/s]"
     ]
    },
    {
     "name": "stdout",
     "output_type": "stream",
     "text": [
      "Epoch [2/50], Train Loss: 4.6357, Train_accuracy: 59.21902733404331, Val Loss: 1.9968, Val_accuracy: 58.12566560170394\n",
      "Model saved.\n"
     ]
    },
    {
     "name": "stderr",
     "output_type": "stream",
     "text": [
      "  6%|██████████▍                                                                                                                                                                  | 3/50 [00:01<00:19,  2.36it/s]"
     ]
    },
    {
     "name": "stdout",
     "output_type": "stream",
     "text": [
      "Epoch [3/50], Train Loss: 4.4112, Train_accuracy: 65.97089101881434, Val Loss: 1.9043, Val_accuracy: 65.43130990415335\n",
      "Model saved.\n"
     ]
    },
    {
     "name": "stderr",
     "output_type": "stream",
     "text": [
      "  8%|█████████████▊                                                                                                                                                               | 4/50 [00:01<00:21,  2.19it/s]"
     ]
    },
    {
     "name": "stdout",
     "output_type": "stream",
     "text": [
      "Epoch [4/50], Train Loss: 4.1740, Train_accuracy: 70.95491657791978, Val Loss: 1.8116, Val_accuracy: 69.35037273695421\n",
      "Model saved.\n"
     ]
    },
    {
     "name": "stderr",
     "output_type": "stream",
     "text": [
      " 10%|█████████████████▎                                                                                                                                                           | 5/50 [00:02<00:18,  2.42it/s]"
     ]
    },
    {
     "name": "stdout",
     "output_type": "stream",
     "text": [
      "Epoch [5/50], Train Loss: 3.9773, Train_accuracy: 72.48846290379836, Val Loss: 1.7351, Val_accuracy: 70.77742279020234\n",
      "Model saved.\n"
     ]
    },
    {
     "name": "stderr",
     "output_type": "stream",
     "text": [
      " 12%|████████████████████▊                                                                                                                                                        | 6/50 [00:02<00:19,  2.26it/s]"
     ]
    },
    {
     "name": "stdout",
     "output_type": "stream",
     "text": [
      "Epoch [6/50], Train Loss: 3.8046, Train_accuracy: 74.44799432019879, Val Loss: 1.6685, Val_accuracy: 72.86474973375933\n",
      "Model saved.\n"
     ]
    },
    {
     "name": "stderr",
     "output_type": "stream",
     "text": [
      " 14%|████████████████████████▏                                                                                                                                                    | 7/50 [00:03<00:17,  2.46it/s]"
     ]
    },
    {
     "name": "stdout",
     "output_type": "stream",
     "text": [
      "Epoch [7/50], Train Loss: 3.6530, Train_accuracy: 75.9460418885339, Val Loss: 1.6116, Val_accuracy: 74.84558040468583\n",
      "Model saved.\n"
     ]
    },
    {
     "name": "stderr",
     "output_type": "stream",
     "text": [
      " 16%|███████████████████████████▋                                                                                                                                                 | 8/50 [00:03<00:18,  2.29it/s]"
     ]
    },
    {
     "name": "stdout",
     "output_type": "stream",
     "text": [
      "Epoch [8/50], Train Loss: 3.5341, Train_accuracy: 76.94000709975151, Val Loss: 1.5713, Val_accuracy: 75.10117145899893\n",
      "Model saved.\n"
     ]
    },
    {
     "name": "stderr",
     "output_type": "stream",
     "text": [
      " 18%|███████████████████████████████▏                                                                                                                                             | 9/50 [00:03<00:16,  2.48it/s]"
     ]
    },
    {
     "name": "stdout",
     "output_type": "stream",
     "text": [
      "Epoch [9/50], Train Loss: 3.4469, Train_accuracy: 77.06780262690806, Val Loss: 1.5423, Val_accuracy: 74.97337593184238\n"
     ]
    },
    {
     "name": "stderr",
     "output_type": "stream",
     "text": [
      " 20%|██████████████████████████████████▍                                                                                                                                         | 10/50 [00:04<00:17,  2.31it/s]"
     ]
    },
    {
     "name": "stdout",
     "output_type": "stream",
     "text": [
      "Epoch [10/50], Train Loss: 3.3622, Train_accuracy: 77.62868299609514, Val Loss: 1.5191, Val_accuracy: 75.56975505857295\n",
      "Model saved.\n"
     ]
    },
    {
     "name": "stderr",
     "output_type": "stream",
     "text": [
      " 22%|█████████████████████████████████████▊                                                                                                                                      | 11/50 [00:04<00:17,  2.20it/s]"
     ]
    },
    {
     "name": "stdout",
     "output_type": "stream",
     "text": [
      "Epoch [11/50], Train Loss: 3.3142, Train_accuracy: 77.79197728079517, Val Loss: 1.5081, Val_accuracy: 75.46325878594249\n"
     ]
    },
    {
     "name": "stderr",
     "output_type": "stream",
     "text": [
      " 24%|█████████████████████████████████████████▎                                                                                                                                  | 12/50 [00:05<00:15,  2.40it/s]"
     ]
    },
    {
     "name": "stdout",
     "output_type": "stream",
     "text": [
      "Epoch [12/50], Train Loss: 3.2523, Train_accuracy: 78.55165069222578, Val Loss: 1.4948, Val_accuracy: 75.78274760383387\n",
      "Model saved.\n"
     ]
    },
    {
     "name": "stderr",
     "output_type": "stream",
     "text": [
      " 26%|████████████████████████████████████████████▋                                                                                                                               | 13/50 [00:05<00:16,  2.26it/s]"
     ]
    },
    {
     "name": "stdout",
     "output_type": "stream",
     "text": [
      "Epoch [13/50], Train Loss: 3.2163, Train_accuracy: 78.39545615903444, Val Loss: 1.4877, Val_accuracy: 76.08093716719915\n",
      "Model saved.\n"
     ]
    },
    {
     "name": "stderr",
     "output_type": "stream",
     "text": [
      " 28%|████████████████████████████████████████████████▏                                                                                                                           | 14/50 [00:06<00:14,  2.45it/s]"
     ]
    },
    {
     "name": "stdout",
     "output_type": "stream",
     "text": [
      "Epoch [14/50], Train Loss: 3.1730, Train_accuracy: 78.92083777067802, Val Loss: 1.4819, Val_accuracy: 75.86794462193824\n"
     ]
    },
    {
     "name": "stderr",
     "output_type": "stream",
     "text": [
      " 30%|███████████████████████████████████████████████████▌                                                                                                                        | 15/50 [00:06<00:15,  2.29it/s]"
     ]
    },
    {
     "name": "stdout",
     "output_type": "stream",
     "text": [
      "Epoch [15/50], Train Loss: 3.1388, Train_accuracy: 79.06993255236067, Val Loss: 1.4775, Val_accuracy: 76.08093716719915\n"
     ]
    },
    {
     "name": "stderr",
     "output_type": "stream",
     "text": [
      " 32%|███████████████████████████████████████████████████████                                                                                                                     | 16/50 [00:06<00:13,  2.48it/s]"
     ]
    },
    {
     "name": "stdout",
     "output_type": "stream",
     "text": [
      "Epoch [16/50], Train Loss: 3.1056, Train_accuracy: 79.30422435214767, Val Loss: 1.4740, Val_accuracy: 76.10223642172524\n",
      "Model saved.\n"
     ]
    },
    {
     "name": "stderr",
     "output_type": "stream",
     "text": [
      " 34%|██████████████████████████████████████████████████████████▍                                                                                                                 | 17/50 [00:07<00:12,  2.62it/s]"
     ]
    },
    {
     "name": "stdout",
     "output_type": "stream",
     "text": [
      "Epoch [17/50], Train Loss: 3.0698, Train_accuracy: 79.67341143059993, Val Loss: 1.4699, Val_accuracy: 76.16613418530352\n",
      "Model saved.\n"
     ]
    },
    {
     "name": "stderr",
     "output_type": "stream",
     "text": [
      " 36%|█████████████████████████████████████████████████████████████▉                                                                                                              | 18/50 [00:07<00:13,  2.39it/s]"
     ]
    },
    {
     "name": "stdout",
     "output_type": "stream",
     "text": [
      "Epoch [18/50], Train Loss: 3.0370, Train_accuracy: 79.96450124245652, Val Loss: 1.4650, Val_accuracy: 76.29392971246007\n",
      "Model saved.\n"
     ]
    },
    {
     "name": "stderr",
     "output_type": "stream",
     "text": [
      " 38%|█████████████████████████████████████████████████████████████████▎                                                                                                          | 19/50 [00:07<00:12,  2.55it/s]"
     ]
    },
    {
     "name": "stdout",
     "output_type": "stream",
     "text": [
      "Epoch [19/50], Train Loss: 2.9982, Train_accuracy: 80.46858359957402, Val Loss: 1.4600, Val_accuracy: 76.27263045793397\n"
     ]
    },
    {
     "name": "stderr",
     "output_type": "stream",
     "text": [
      " 40%|████████████████████████████████████████████████████████████████████▊                                                                                                       | 20/50 [00:08<00:12,  2.35it/s]"
     ]
    },
    {
     "name": "stdout",
     "output_type": "stream",
     "text": [
      "Epoch [20/50], Train Loss: 2.9588, Train_accuracy: 80.93006744763933, Val Loss: 1.4525, Val_accuracy: 76.4643237486688\n",
      "Model saved.\n"
     ]
    },
    {
     "name": "stderr",
     "output_type": "stream",
     "text": [
      " 42%|████████████████████████████████████████████████████████████████████████▏                                                                                                   | 21/50 [00:08<00:11,  2.51it/s]"
     ]
    },
    {
     "name": "stdout",
     "output_type": "stream",
     "text": [
      "Epoch [21/50], Train Loss: 2.9198, Train_accuracy: 81.21405750798722, Val Loss: 1.4475, Val_accuracy: 76.48562300319489\n",
      "Model saved.\n"
     ]
    },
    {
     "name": "stderr",
     "output_type": "stream",
     "text": [
      " 44%|███████████████████████████████████████████████████████████████████████████▋                                                                                                | 22/50 [00:09<00:12,  2.32it/s]"
     ]
    },
    {
     "name": "stdout",
     "output_type": "stream",
     "text": [
      "Epoch [22/50], Train Loss: 2.8819, Train_accuracy: 81.5264465743699, Val Loss: 1.4402, Val_accuracy: 76.78381256656017\n",
      "Model saved.\n"
     ]
    },
    {
     "name": "stderr",
     "output_type": "stream",
     "text": [
      " 46%|███████████████████████████████████████████████████████████████████████████████                                                                                             | 23/50 [00:09<00:12,  2.20it/s]"
     ]
    },
    {
     "name": "stdout",
     "output_type": "stream",
     "text": [
      "Epoch [23/50], Train Loss: 2.8455, Train_accuracy: 81.83883564075258, Val Loss: 1.4347, Val_accuracy: 76.93290734824281\n",
      "Model saved.\n"
     ]
    },
    {
     "name": "stderr",
     "output_type": "stream",
     "text": [
      " 48%|██████████████████████████████████████████████████████████████████████████████████▌                                                                                         | 24/50 [00:10<00:10,  2.39it/s]"
     ]
    },
    {
     "name": "stdout",
     "output_type": "stream",
     "text": [
      "Epoch [24/50], Train Loss: 2.8019, Train_accuracy: 82.11572594959176, Val Loss: 1.4267, Val_accuracy: 77.06070287539936\n",
      "Model saved.\n"
     ]
    },
    {
     "name": "stderr",
     "output_type": "stream",
     "text": [
      " 50%|██████████████████████████████████████████████████████████████████████████████████████                                                                                      | 25/50 [00:10<00:11,  2.24it/s]"
     ]
    },
    {
     "name": "stdout",
     "output_type": "stream",
     "text": [
      "Epoch [25/50], Train Loss: 2.7551, Train_accuracy: 82.69080582179623, Val Loss: 1.4189, Val_accuracy: 77.08200212992546\n",
      "Model saved.\n"
     ]
    },
    {
     "name": "stderr",
     "output_type": "stream",
     "text": [
      " 52%|█████████████████████████████████████████████████████████████████████████████████████████▍                                                                                  | 26/50 [00:11<00:09,  2.42it/s]"
     ]
    },
    {
     "name": "stdout",
     "output_type": "stream",
     "text": [
      "Epoch [26/50], Train Loss: 2.7122, Train_accuracy: 83.15938942137025, Val Loss: 1.4096, Val_accuracy: 77.44408945686901\n",
      "Model saved.\n"
     ]
    },
    {
     "name": "stderr",
     "output_type": "stream",
     "text": [
      " 54%|████████████████████████████████████████████████████████████████████████████████████████████▉                                                                               | 27/50 [00:11<00:10,  2.26it/s]"
     ]
    },
    {
     "name": "stdout",
     "output_type": "stream",
     "text": [
      "Epoch [27/50], Train Loss: 2.6741, Train_accuracy: 83.39368122115727, Val Loss: 1.4034, Val_accuracy: 77.63578274760384\n",
      "Model saved.\n"
     ]
    },
    {
     "name": "stderr",
     "output_type": "stream",
     "text": [
      " 56%|████████████████████████████████████████████████████████████████████████████████████████████████▎                                                                           | 28/50 [00:11<00:09,  2.44it/s]"
     ]
    },
    {
     "name": "stdout",
     "output_type": "stream",
     "text": [
      "Epoch [28/50], Train Loss: 2.6292, Train_accuracy: 83.75576854810082, Val Loss: 1.3956, Val_accuracy: 77.84877529286474\n",
      "Model saved.\n"
     ]
    },
    {
     "name": "stderr",
     "output_type": "stream",
     "text": [
      " 58%|███████████████████████████████████████████████████████████████████████████████████████████████████▊                                                                        | 29/50 [00:12<00:09,  2.27it/s]"
     ]
    },
    {
     "name": "stdout",
     "output_type": "stream",
     "text": [
      "Epoch [29/50], Train Loss: 2.5792, Train_accuracy: 84.14625488107916, Val Loss: 1.3869, Val_accuracy: 78.01916932907348\n",
      "Model saved.\n"
     ]
    },
    {
     "name": "stderr",
     "output_type": "stream",
     "text": [
      " 60%|███████████████████████████████████████████████████████████████████████████████████████████████████████▏                                                                    | 30/50 [00:12<00:08,  2.45it/s]"
     ]
    },
    {
     "name": "stdout",
     "output_type": "stream",
     "text": [
      "Epoch [30/50], Train Loss: 2.5335, Train_accuracy: 84.5438409655662, Val Loss: 1.3782, Val_accuracy: 78.08306709265176\n",
      "Model saved.\n"
     ]
    },
    {
     "name": "stderr",
     "output_type": "stream",
     "text": [
      " 62%|██████████████████████████████████████████████████████████████████████████████████████████████████████████▋                                                                 | 31/50 [00:13<00:08,  2.28it/s]"
     ]
    },
    {
     "name": "stdout",
     "output_type": "stream",
     "text": [
      "Epoch [31/50], Train Loss: 2.4881, Train_accuracy: 84.87042953496628, Val Loss: 1.3704, Val_accuracy: 78.04046858359958\n"
     ]
    },
    {
     "name": "stderr",
     "output_type": "stream",
     "text": [
      " 64%|██████████████████████████████████████████████████████████████████████████████████████████████████████████████                                                              | 32/50 [00:13<00:08,  2.15it/s]"
     ]
    },
    {
     "name": "stdout",
     "output_type": "stream",
     "text": [
      "Epoch [32/50], Train Loss: 2.4478, Train_accuracy: 85.11892083777067, Val Loss: 1.3644, Val_accuracy: 78.35995740149095\n",
      "Model saved.\n"
     ]
    },
    {
     "name": "stderr",
     "output_type": "stream",
     "text": [
      " 66%|█████████████████████████████████████████████████████████████████████████████████████████████████████████████████▌                                                          | 33/50 [00:14<00:07,  2.33it/s]"
     ]
    },
    {
     "name": "stdout",
     "output_type": "stream",
     "text": [
      "Epoch [33/50], Train Loss: 2.4087, Train_accuracy: 85.49520766773163, Val Loss: 1.3591, Val_accuracy: 78.53035143769968\n",
      "Model saved.\n"
     ]
    },
    {
     "name": "stderr",
     "output_type": "stream",
     "text": [
      " 68%|████████████████████████████████████████████████████████████████████████████████████████████████████████████████████▉                                                       | 34/50 [00:14<00:07,  2.19it/s]"
     ]
    },
    {
     "name": "stdout",
     "output_type": "stream",
     "text": [
      "Epoch [34/50], Train Loss: 2.3735, Train_accuracy: 85.76499822506213, Val Loss: 1.3545, Val_accuracy: 78.55165069222578\n",
      "Model saved.\n"
     ]
    },
    {
     "name": "stderr",
     "output_type": "stream",
     "text": [
      " 70%|████████████████████████████████████████████████████████████████████████████████████████████████████████████████████████▍                                                   | 35/50 [00:14<00:06,  2.38it/s]"
     ]
    },
    {
     "name": "stdout",
     "output_type": "stream",
     "text": [
      "Epoch [35/50], Train Loss: 2.3293, Train_accuracy: 86.02768903088392, Val Loss: 1.3469, Val_accuracy: 78.61554845580405\n",
      "Model saved.\n"
     ]
    },
    {
     "name": "stderr",
     "output_type": "stream",
     "text": [
      " 72%|███████████████████████████████████████████████████████████████████████████████████████████████████████████████████████████▊                                                | 36/50 [00:15<00:06,  2.22it/s]"
     ]
    },
    {
     "name": "stdout",
     "output_type": "stream",
     "text": [
      "Epoch [36/50], Train Loss: 2.2862, Train_accuracy: 86.38267660631878, Val Loss: 1.3394, Val_accuracy: 78.78594249201278\n",
      "Model saved.\n"
     ]
    },
    {
     "name": "stderr",
     "output_type": "stream",
     "text": [
      " 74%|███████████████████████████████████████████████████████████████████████████████████████████████████████████████████████████████▎                                            | 37/50 [00:15<00:05,  2.40it/s]"
     ]
    },
    {
     "name": "stdout",
     "output_type": "stream",
     "text": [
      "Epoch [37/50], Train Loss: 2.2384, Train_accuracy: 86.78026269080583, Val Loss: 1.3303, Val_accuracy: 79.08413205537806\n",
      "Model saved.\n"
     ]
    },
    {
     "name": "stderr",
     "output_type": "stream",
     "text": [
      " 76%|██████████████████████████████████████████████████████████████████████████████████████████████████████████████████████████████████▋                                         | 38/50 [00:16<00:05,  2.25it/s]"
     ]
    },
    {
     "name": "stdout",
     "output_type": "stream",
     "text": [
      "Epoch [38/50], Train Loss: 2.1973, Train_accuracy: 87.24884629037983, Val Loss: 1.3229, Val_accuracy: 79.31842385516507\n",
      "Model saved.\n"
     ]
    },
    {
     "name": "stderr",
     "output_type": "stream",
     "text": [
      " 78%|██████████████████████████████████████████████████████████████████████████████████████████████████████████████████████████████████████▏                                     | 39/50 [00:16<00:04,  2.45it/s]"
     ]
    },
    {
     "name": "stdout",
     "output_type": "stream",
     "text": [
      "Epoch [39/50], Train Loss: 2.1586, Train_accuracy: 87.52573659921903, Val Loss: 1.3183, Val_accuracy: 79.46751863684771\n",
      "Model saved.\n"
     ]
    },
    {
     "name": "stderr",
     "output_type": "stream",
     "text": [
      " 80%|█████████████████████████████████████████████████████████████████████████████████████████████████████████████████████████████████████████▌                                  | 40/50 [00:17<00:04,  2.27it/s]"
     ]
    },
    {
     "name": "stdout",
     "output_type": "stream",
     "text": [
      "Epoch [40/50], Train Loss: 2.1105, Train_accuracy: 87.89492367767129, Val Loss: 1.3096, Val_accuracy: 79.5101171458999\n",
      "Model saved.\n"
     ]
    },
    {
     "name": "stderr",
     "output_type": "stream",
     "text": [
      " 82%|█████████████████████████████████████████████████████████████████████████████████████████████████████████████████████████████████████████████                               | 41/50 [00:17<00:03,  2.45it/s]"
     ]
    },
    {
     "name": "stdout",
     "output_type": "stream",
     "text": [
      "Epoch [41/50], Train Loss: 2.0563, Train_accuracy: 88.55520056798012, Val Loss: 1.3012, Val_accuracy: 79.91480298189563\n",
      "Model saved.\n"
     ]
    },
    {
     "name": "stderr",
     "output_type": "stream",
     "text": [
      " 84%|████████████████████████████████████████████████████████████████████████████████████████████████████████████████████████████████████████████████▍                           | 42/50 [00:18<00:03,  2.27it/s]"
     ]
    },
    {
     "name": "stdout",
     "output_type": "stream",
     "text": [
      "Epoch [42/50], Train Loss: 2.0109, Train_accuracy: 88.95988640397586, Val Loss: 1.2950, Val_accuracy: 80.0\n",
      "Model saved.\n"
     ]
    },
    {
     "name": "stderr",
     "output_type": "stream",
     "text": [
      " 86%|███████████████████████████████████████████████████████████████████████████████████████████████████████████████████████████████████████████████████▉                        | 43/50 [00:18<00:02,  2.45it/s]"
     ]
    },
    {
     "name": "stdout",
     "output_type": "stream",
     "text": [
      "Epoch [43/50], Train Loss: 1.9653, Train_accuracy: 89.28647497337593, Val Loss: 1.2910, Val_accuracy: 80.31948881789137\n",
      "Model saved.\n"
     ]
    },
    {
     "name": "stderr",
     "output_type": "stream",
     "text": [
      " 88%|███████████████████████████████████████████████████████████████████████████████████████████████████████████████████████████████████████████████████████▎                    | 44/50 [00:18<00:02,  2.28it/s]"
     ]
    },
    {
     "name": "stdout",
     "output_type": "stream",
     "text": [
      "Epoch [44/50], Train Loss: 1.9271, Train_accuracy: 89.44976925807596, Val Loss: 1.2912, Val_accuracy: 80.57507987220447\n",
      "Model saved.\n"
     ]
    },
    {
     "name": "stderr",
     "output_type": "stream",
     "text": [
      " 90%|██████████████████████████████████████████████████████████████████████████████████████████████████████████████████████████████████████████████████████████▊                 | 45/50 [00:19<00:02,  2.47it/s]"
     ]
    },
    {
     "name": "stdout",
     "output_type": "stream",
     "text": [
      "Epoch [45/50], Train Loss: 1.8930, Train_accuracy: 89.70536031238906, Val Loss: 1.2866, Val_accuracy: 80.85197018104367\n",
      "Model saved.\n"
     ]
    },
    {
     "name": "stderr",
     "output_type": "stream",
     "text": [
      " 92%|██████████████████████████████████████████████████████████████████████████████████████████████████████████████████████████████████████████████████████████████▏             | 46/50 [00:19<00:01,  2.30it/s]"
     ]
    },
    {
     "name": "stdout",
     "output_type": "stream",
     "text": [
      "Epoch [46/50], Train Loss: 1.8481, Train_accuracy: 89.93965211217608, Val Loss: 1.2764, Val_accuracy: 80.80937167199149\n"
     ]
    },
    {
     "name": "stderr",
     "output_type": "stream",
     "text": [
      " 94%|█████████████████████████████████████████████████████████████████████████████████████████████████████████████████████████████████████████████████████████████████▋          | 47/50 [00:20<00:01,  2.49it/s]"
     ]
    },
    {
     "name": "stdout",
     "output_type": "stream",
     "text": [
      "Epoch [47/50], Train Loss: 1.8033, Train_accuracy: 90.3585374511892, Val Loss: 1.2716, Val_accuracy: 80.70287539936102\n"
     ]
    },
    {
     "name": "stderr",
     "output_type": "stream",
     "text": [
      " 96%|█████████████████████████████████████████████████████████████████████████████████████████████████████████████████████████████████████████████████████████████████████       | 48/50 [00:20<00:00,  2.32it/s]"
     ]
    },
    {
     "name": "stdout",
     "output_type": "stream",
     "text": [
      "Epoch [48/50], Train Loss: 1.7529, Train_accuracy: 90.99041533546325, Val Loss: 1.2629, Val_accuracy: 80.95846645367412\n",
      "Model saved.\n"
     ]
    },
    {
     "name": "stderr",
     "output_type": "stream",
     "text": [
      " 98%|████████████████████████████████████████████████████████████████████████████████████████████████████████████████████████████████████████████████████████████████████████▌   | 49/50 [00:21<00:00,  2.21it/s]"
     ]
    },
    {
     "name": "stdout",
     "output_type": "stream",
     "text": [
      "Epoch [49/50], Train Loss: 1.7275, Train_accuracy: 91.26730564430245, Val Loss: 1.2693, Val_accuracy: 81.06496272630459\n",
      "Model saved.\n"
     ]
    },
    {
     "name": "stderr",
     "output_type": "stream",
     "text": [
      "100%|████████████████████████████████████████████████████████████████████████████████████████████████████████████████████████████████████████████████████████████████████████████| 50/50 [00:21<00:00,  2.34it/s]"
     ]
    },
    {
     "name": "stdout",
     "output_type": "stream",
     "text": [
      "Epoch [50/50], Train Loss: 1.6811, Train_accuracy: 91.75008874689387, Val Loss: 1.2555, Val_accuracy: 81.29925452609159\n",
      "Model saved.\n"
     ]
    },
    {
     "name": "stderr",
     "output_type": "stream",
     "text": [
      "\n"
     ]
    },
    {
     "name": "stdout",
     "output_type": "stream",
     "text": [
      "Test Accucary 82.43185689948892\n",
      "Current sub-neural network has 2 hidden layers.\n",
      "...\n"
     ]
    },
    {
     "name": "stderr",
     "output_type": "stream",
     "text": [
      "  2%|███▍                                                                                                                                                                         | 1/50 [00:00<00:23,  2.08it/s]"
     ]
    },
    {
     "name": "stdout",
     "output_type": "stream",
     "text": [
      "Epoch [1/50], Train Loss: 4.6142, Train_accuracy: 66.39687610933618, Val Loss: 1.9830, Val_accuracy: 65.89989350372737\n",
      "Model saved.\n"
     ]
    },
    {
     "name": "stderr",
     "output_type": "stream",
     "text": [
      "  4%|██████▉                                                                                                                                                                      | 2/50 [00:00<00:23,  2.02it/s]"
     ]
    },
    {
     "name": "stdout",
     "output_type": "stream",
     "text": [
      "Epoch [2/50], Train Loss: 4.1036, Train_accuracy: 70.77742279020234, Val Loss: 1.7799, Val_accuracy: 69.8615548455804\n",
      "Model saved.\n"
     ]
    },
    {
     "name": "stderr",
     "output_type": "stream",
     "text": [
      "  6%|██████████▍                                                                                                                                                                  | 3/50 [00:01<00:19,  2.38it/s]"
     ]
    },
    {
     "name": "stdout",
     "output_type": "stream",
     "text": [
      "Epoch [3/50], Train Loss: 4.0137, Train_accuracy: 70.30883919062833, Val Loss: 1.7425, Val_accuracy: 69.73375931842385\n"
     ]
    },
    {
     "name": "stderr",
     "output_type": "stream",
     "text": [
      "  8%|█████████████▊                                                                                                                                                               | 4/50 [00:01<00:20,  2.21it/s]"
     ]
    },
    {
     "name": "stdout",
     "output_type": "stream",
     "text": [
      "Epoch [4/50], Train Loss: 3.7133, Train_accuracy: 74.81718139865104, Val Loss: 1.6370, Val_accuracy: 73.31203407880724\n",
      "Model saved.\n"
     ]
    },
    {
     "name": "stderr",
     "output_type": "stream",
     "text": [
      " 10%|█████████████████▎                                                                                                                                                           | 5/50 [00:02<00:18,  2.46it/s]"
     ]
    },
    {
     "name": "stdout",
     "output_type": "stream",
     "text": [
      "Epoch [5/50], Train Loss: 3.5409, Train_accuracy: 76.06673766418176, Val Loss: 1.5661, Val_accuracy: 74.56869009584665\n",
      "Model saved.\n"
     ]
    },
    {
     "name": "stderr",
     "output_type": "stream",
     "text": [
      " 12%|████████████████████▊                                                                                                                                                        | 6/50 [00:02<00:19,  2.28it/s]"
     ]
    },
    {
     "name": "stdout",
     "output_type": "stream",
     "text": [
      "Epoch [6/50], Train Loss: 3.3940, Train_accuracy: 77.56478523251687, Val Loss: 1.5255, Val_accuracy: 75.56975505857295\n",
      "Model saved.\n"
     ]
    },
    {
     "name": "stderr",
     "output_type": "stream",
     "text": [
      " 14%|████████████████████████▏                                                                                                                                                    | 7/50 [00:02<00:17,  2.51it/s]"
     ]
    },
    {
     "name": "stdout",
     "output_type": "stream",
     "text": [
      "Epoch [7/50], Train Loss: 3.3291, Train_accuracy: 77.23109691160809, Val Loss: 1.5091, Val_accuracy: 75.29286474973377\n"
     ]
    },
    {
     "name": "stderr",
     "output_type": "stream",
     "text": [
      " 16%|███████████████████████████▋                                                                                                                                                 | 8/50 [00:03<00:18,  2.33it/s]"
     ]
    },
    {
     "name": "stdout",
     "output_type": "stream",
     "text": [
      "Epoch [8/50], Train Loss: 3.2151, Train_accuracy: 78.17536386226482, Val Loss: 1.4813, Val_accuracy: 75.52715654952077\n"
     ]
    },
    {
     "name": "stderr",
     "output_type": "stream",
     "text": [
      " 18%|███████████████████████████████▏                                                                                                                                             | 9/50 [00:03<00:16,  2.52it/s]"
     ]
    },
    {
     "name": "stdout",
     "output_type": "stream",
     "text": [
      "Epoch [9/50], Train Loss: 3.0783, Train_accuracy: 79.63791267305645, Val Loss: 1.4495, Val_accuracy: 76.6986155484558\n",
      "Model saved.\n"
     ]
    },
    {
     "name": "stderr",
     "output_type": "stream",
     "text": [
      " 20%|██████████████████████████████████▍                                                                                                                                         | 10/50 [00:04<00:17,  2.34it/s]"
     ]
    },
    {
     "name": "stdout",
     "output_type": "stream",
     "text": [
      "Epoch [10/50], Train Loss: 2.9731, Train_accuracy: 80.61057862974796, Val Loss: 1.4310, Val_accuracy: 76.61341853035144\n"
     ]
    },
    {
     "name": "stderr",
     "output_type": "stream",
     "text": [
      " 22%|█████████████████████████████████████▊                                                                                                                                      | 11/50 [00:04<00:15,  2.53it/s]"
     ]
    },
    {
     "name": "stdout",
     "output_type": "stream",
     "text": [
      "Epoch [11/50], Train Loss: 2.8998, Train_accuracy: 81.0365637202698, Val Loss: 1.4228, Val_accuracy: 76.93290734824281\n",
      "Model saved.\n"
     ]
    },
    {
     "name": "stderr",
     "output_type": "stream",
     "text": [
      " 24%|█████████████████████████████████████████▎                                                                                                                                  | 12/50 [00:05<00:16,  2.34it/s]"
     ]
    },
    {
     "name": "stdout",
     "output_type": "stream",
     "text": [
      "Epoch [12/50], Train Loss: 2.9143, Train_accuracy: 80.57507987220447, Val Loss: 1.4485, Val_accuracy: 76.01703940362087\n"
     ]
    },
    {
     "name": "stderr",
     "output_type": "stream",
     "text": [
      " 26%|████████████████████████████████████████████▋                                                                                                                               | 13/50 [00:05<00:14,  2.54it/s]"
     ]
    },
    {
     "name": "stdout",
     "output_type": "stream",
     "text": [
      "Epoch [13/50], Train Loss: 2.8095, Train_accuracy: 81.55484558040469, Val Loss: 1.4242, Val_accuracy: 76.86900958466454\n"
     ]
    },
    {
     "name": "stderr",
     "output_type": "stream",
     "text": [
      " 28%|████████████████████████████████████████████████▏                                                                                                                           | 14/50 [00:05<00:15,  2.32it/s]"
     ]
    },
    {
     "name": "stdout",
     "output_type": "stream",
     "text": [
      "Epoch [14/50], Train Loss: 2.6075, Train_accuracy: 83.80546680866169, Val Loss: 1.3777, Val_accuracy: 77.67838125665601\n",
      "Model saved.\n"
     ]
    },
    {
     "name": "stderr",
     "output_type": "stream",
     "text": [
      " 30%|███████████████████████████████████████████████████▌                                                                                                                        | 15/50 [00:06<00:13,  2.51it/s]"
     ]
    },
    {
     "name": "stdout",
     "output_type": "stream",
     "text": [
      "Epoch [15/50], Train Loss: 2.4950, Train_accuracy: 84.64323748668797, Val Loss: 1.3664, Val_accuracy: 77.87007454739084\n",
      "Model saved.\n"
     ]
    },
    {
     "name": "stderr",
     "output_type": "stream",
     "text": [
      " 32%|███████████████████████████████████████████████████████                                                                                                                     | 16/50 [00:06<00:14,  2.32it/s]"
     ]
    },
    {
     "name": "stdout",
     "output_type": "stream",
     "text": [
      "Epoch [16/50], Train Loss: 2.3780, Train_accuracy: 85.73659921902734, Val Loss: 1.3526, Val_accuracy: 78.55165069222578\n",
      "Model saved.\n"
     ]
    },
    {
     "name": "stderr",
     "output_type": "stream",
     "text": [
      " 34%|██████████████████████████████████████████████████████████▍                                                                                                                 | 17/50 [00:07<00:13,  2.52it/s]"
     ]
    },
    {
     "name": "stdout",
     "output_type": "stream",
     "text": [
      "Epoch [17/50], Train Loss: 2.4805, Train_accuracy: 84.3024494142705, Val Loss: 1.4578, Val_accuracy: 77.65708200212993\n"
     ]
    },
    {
     "name": "stderr",
     "output_type": "stream",
     "text": [
      " 36%|█████████████████████████████████████████████████████████████▉                                                                                                              | 18/50 [00:07<00:13,  2.32it/s]"
     ]
    },
    {
     "name": "stdout",
     "output_type": "stream",
     "text": [
      "Epoch [18/50], Train Loss: 2.1573, Train_accuracy: 87.01455449059283, Val Loss: 1.3312, Val_accuracy: 79.08413205537806\n",
      "Model saved.\n"
     ]
    },
    {
     "name": "stderr",
     "output_type": "stream",
     "text": [
      " 38%|█████████████████████████████████████████████████████████████████▎                                                                                                          | 19/50 [00:07<00:12,  2.51it/s]"
     ]
    },
    {
     "name": "stdout",
     "output_type": "stream",
     "text": [
      "Epoch [19/50], Train Loss: 2.1830, Train_accuracy: 86.64536741214057, Val Loss: 1.3926, Val_accuracy: 78.89243876464323\n"
     ]
    },
    {
     "name": "stderr",
     "output_type": "stream",
     "text": [
      " 40%|████████████████████████████████████████████████████████████████████▊                                                                                                       | 20/50 [00:08<00:12,  2.33it/s]"
     ]
    },
    {
     "name": "stdout",
     "output_type": "stream",
     "text": [
      "Epoch [20/50], Train Loss: 2.1047, Train_accuracy: 87.02875399361022, Val Loss: 1.4110, Val_accuracy: 79.21192758253461\n",
      "Model saved.\n"
     ]
    },
    {
     "name": "stderr",
     "output_type": "stream",
     "text": [
      " 42%|████████████████████████████████████████████████████████████████████████▏                                                                                                   | 21/50 [00:08<00:11,  2.52it/s]"
     ]
    },
    {
     "name": "stdout",
     "output_type": "stream",
     "text": [
      "Epoch [21/50], Train Loss: 1.8217, Train_accuracy: 89.47106851260206, Val Loss: 1.3120, Val_accuracy: 80.21299254526092\n",
      "Model saved.\n"
     ]
    },
    {
     "name": "stderr",
     "output_type": "stream",
     "text": [
      " 44%|███████████████████████████████████████████████████████████████████████████▋                                                                                                | 22/50 [00:09<00:11,  2.34it/s]"
     ]
    },
    {
     "name": "stdout",
     "output_type": "stream",
     "text": [
      "Epoch [22/50], Train Loss: 1.8122, Train_accuracy: 89.56336528221512, Val Loss: 1.3864, Val_accuracy: 80.12779552715655\n"
     ]
    },
    {
     "name": "stderr",
     "output_type": "stream",
     "text": [
      " 46%|███████████████████████████████████████████████████████████████████████████████                                                                                             | 23/50 [00:09<00:10,  2.53it/s]"
     ]
    },
    {
     "name": "stdout",
     "output_type": "stream",
     "text": [
      "Epoch [23/50], Train Loss: 1.7392, Train_accuracy: 90.05324813631523, Val Loss: 1.3906, Val_accuracy: 80.36208732694355\n",
      "Model saved.\n"
     ]
    },
    {
     "name": "stderr",
     "output_type": "stream",
     "text": [
      " 48%|██████████████████████████████████████████████████████████████████████████████████▌                                                                                         | 24/50 [00:10<00:11,  2.33it/s]"
     ]
    },
    {
     "name": "stdout",
     "output_type": "stream",
     "text": [
      "Epoch [24/50], Train Loss: 1.6017, Train_accuracy: 90.8768193113241, Val Loss: 1.3794, Val_accuracy: 80.70287539936102\n",
      "Model saved.\n"
     ]
    },
    {
     "name": "stderr",
     "output_type": "stream",
     "text": [
      " 50%|██████████████████████████████████████████████████████████████████████████████████████                                                                                      | 25/50 [00:10<00:09,  2.51it/s]"
     ]
    },
    {
     "name": "stdout",
     "output_type": "stream",
     "text": [
      "Epoch [25/50], Train Loss: 1.4019, Train_accuracy: 92.65175718849841, Val Loss: 1.3064, Val_accuracy: 81.38445154419595\n",
      "Model saved.\n"
     ]
    },
    {
     "name": "stderr",
     "output_type": "stream",
     "text": [
      " 52%|█████████████████████████████████████████████████████████████████████████████████████████▍                                                                                  | 26/50 [00:10<00:10,  2.34it/s]"
     ]
    },
    {
     "name": "stdout",
     "output_type": "stream",
     "text": [
      "Epoch [26/50], Train Loss: 1.5715, Train_accuracy: 90.70642527511536, Val Loss: 1.4643, Val_accuracy: 80.21299254526092\n"
     ]
    },
    {
     "name": "stderr",
     "output_type": "stream",
     "text": [
      " 54%|████████████████████████████████████████████████████████████████████████████████████████████▉                                                                               | 27/50 [00:11<00:09,  2.52it/s]"
     ]
    },
    {
     "name": "stdout",
     "output_type": "stream",
     "text": [
      "Epoch [27/50], Train Loss: 1.2301, Train_accuracy: 93.70962016329429, Val Loss: 1.3087, Val_accuracy: 81.87433439829606\n",
      "Model saved.\n"
     ]
    },
    {
     "name": "stderr",
     "output_type": "stream",
     "text": [
      " 56%|████████████████████████████████████████████████████████████████████████████████████████████████▎                                                                           | 28/50 [00:11<00:09,  2.33it/s]"
     ]
    },
    {
     "name": "stdout",
     "output_type": "stream",
     "text": [
      "Epoch [28/50], Train Loss: 1.1919, Train_accuracy: 94.11430599929002, Val Loss: 1.3649, Val_accuracy: 81.61874334398296\n"
     ]
    },
    {
     "name": "stderr",
     "output_type": "stream",
     "text": [
      " 58%|███████████████████████████████████████████████████████████████████████████████████████████████████▊                                                                        | 29/50 [00:12<00:09,  2.20it/s]"
     ]
    },
    {
     "name": "stdout",
     "output_type": "stream",
     "text": [
      "Epoch [29/50], Train Loss: 1.1712, Train_accuracy: 93.9155129570465, Val Loss: 1.4279, Val_accuracy: 81.46964856230032\n"
     ]
    },
    {
     "name": "stderr",
     "output_type": "stream",
     "text": [
      " 60%|███████████████████████████████████████████████████████████████████████████████████████████████████████▏                                                                    | 30/50 [00:12<00:08,  2.39it/s]"
     ]
    },
    {
     "name": "stdout",
     "output_type": "stream",
     "text": [
      "Epoch [30/50], Train Loss: 1.0545, Train_accuracy: 94.92367767128151, Val Loss: 1.4156, Val_accuracy: 81.40575079872204\n"
     ]
    },
    {
     "name": "stderr",
     "output_type": "stream",
     "text": [
      " 62%|██████████████████████████████████████████████████████████████████████████████████████████████████████████▋                                                                 | 31/50 [00:13<00:08,  2.27it/s]"
     ]
    },
    {
     "name": "stdout",
     "output_type": "stream",
     "text": [
      "Epoch [31/50], Train Loss: 1.1124, Train_accuracy: 94.09300674476394, Val Loss: 1.5394, Val_accuracy: 80.93716719914804\n"
     ]
    },
    {
     "name": "stderr",
     "output_type": "stream",
     "text": [
      " 64%|██████████████████████████████████████████████████████████████████████████████████████████████████████████████                                                              | 32/50 [00:13<00:07,  2.47it/s]"
     ]
    },
    {
     "name": "stdout",
     "output_type": "stream",
     "text": [
      "Epoch [32/50], Train Loss: 1.0024, Train_accuracy: 95.12247071352503, Val Loss: 1.4545, Val_accuracy: 81.55484558040469\n"
     ]
    },
    {
     "name": "stderr",
     "output_type": "stream",
     "text": [
      " 66%|█████████████████████████████████████████████████████████████████████████████████████████████████████████████████▌                                                          | 33/50 [00:13<00:07,  2.30it/s]"
     ]
    },
    {
     "name": "stdout",
     "output_type": "stream",
     "text": [
      "Epoch [33/50], Train Loss: 1.1199, Train_accuracy: 93.96521121760739, Val Loss: 1.5139, Val_accuracy: 81.21405750798722\n"
     ]
    },
    {
     "name": "stderr",
     "output_type": "stream",
     "text": [
      " 68%|████████████████████████████████████████████████████████████████████████████████████████████████████████████████████▉                                                       | 34/50 [00:14<00:06,  2.49it/s]"
     ]
    },
    {
     "name": "stdout",
     "output_type": "stream",
     "text": [
      "Epoch [34/50], Train Loss: 0.8495, Train_accuracy: 96.41462548810792, Val Loss: 1.3971, Val_accuracy: 82.59850905218318\n",
      "Model saved.\n"
     ]
    },
    {
     "name": "stderr",
     "output_type": "stream",
     "text": [
      " 70%|████████████████████████████████████████████████████████████████████████████████████████████████████████████████████████▍                                                   | 35/50 [00:14<00:06,  2.32it/s]"
     ]
    },
    {
     "name": "stdout",
     "output_type": "stream",
     "text": [
      "Epoch [35/50], Train Loss: 0.7847, Train_accuracy: 96.48562300319489, Val Loss: 1.3953, Val_accuracy: 82.34291799787007\n"
     ]
    },
    {
     "name": "stderr",
     "output_type": "stream",
     "text": [
      " 72%|███████████████████████████████████████████████████████████████████████████████████████████████████████████████████████████▊                                                | 36/50 [00:15<00:05,  2.52it/s]"
     ]
    },
    {
     "name": "stdout",
     "output_type": "stream",
     "text": [
      "Epoch [36/50], Train Loss: 0.7316, Train_accuracy: 96.77671281505147, Val Loss: 1.4619, Val_accuracy: 82.30031948881789\n"
     ]
    },
    {
     "name": "stderr",
     "output_type": "stream",
     "text": [
      " 74%|███████████████████████████████████████████████████████████████████████████████████████████████████████████████████████████████▎                                            | 37/50 [00:15<00:05,  2.32it/s]"
     ]
    },
    {
     "name": "stdout",
     "output_type": "stream",
     "text": [
      "Epoch [37/50], Train Loss: 0.6626, Train_accuracy: 97.32339368122116, Val Loss: 1.4434, Val_accuracy: 82.59850905218318\n"
     ]
    },
    {
     "name": "stderr",
     "output_type": "stream",
     "text": [
      " 76%|██████████████████████████████████████████████████████████████████████████████████████████████████████████████████████████████████▋                                         | 38/50 [00:15<00:04,  2.52it/s]"
     ]
    },
    {
     "name": "stdout",
     "output_type": "stream",
     "text": [
      "Epoch [38/50], Train Loss: 0.9646, Train_accuracy: 94.80298189563365, Val Loss: 1.4633, Val_accuracy: 81.17145899893504\n"
     ]
    },
    {
     "name": "stderr",
     "output_type": "stream",
     "text": [
      " 78%|██████████████████████████████████████████████████████████████████████████████████████████████████████████████████████████████████████▏                                     | 39/50 [00:16<00:04,  2.64it/s]"
     ]
    },
    {
     "name": "stdout",
     "output_type": "stream",
     "text": [
      "Epoch [39/50], Train Loss: 3.1097, Train_accuracy: 77.68548100816471, Val Loss: 2.3805, Val_accuracy: 69.75505857294995\n"
     ]
    },
    {
     "name": "stderr",
     "output_type": "stream",
     "text": [
      " 80%|█████████████████████████████████████████████████████████████████████████████████████████████████████████████████████████████████████████▌                                  | 40/50 [00:16<00:04,  2.40it/s]"
     ]
    },
    {
     "name": "stdout",
     "output_type": "stream",
     "text": [
      "Epoch [40/50], Train Loss: 1.2991, Train_accuracy: 93.51082712105077, Val Loss: 1.3509, Val_accuracy: 81.32055378061767\n"
     ]
    },
    {
     "name": "stderr",
     "output_type": "stream",
     "text": [
      " 82%|█████████████████████████████████████████████████████████████████████████████████████████████████████████████████████████████████████████████                               | 41/50 [00:17<00:04,  2.25it/s]"
     ]
    },
    {
     "name": "stdout",
     "output_type": "stream",
     "text": [
      "Epoch [41/50], Train Loss: 1.2068, Train_accuracy: 93.85871494497692, Val Loss: 1.3586, Val_accuracy: 81.32055378061767\n"
     ]
    },
    {
     "name": "stderr",
     "output_type": "stream",
     "text": [
      " 84%|████████████████████████████████████████████████████████████████████████████████████████████████████████████████████████████████████████████████▍                           | 42/50 [00:17<00:03,  2.45it/s]"
     ]
    },
    {
     "name": "stdout",
     "output_type": "stream",
     "text": [
      "Epoch [42/50], Train Loss: 1.4139, Train_accuracy: 91.16790912318069, Val Loss: 1.5326, Val_accuracy: 78.78594249201278\n"
     ]
    },
    {
     "name": "stderr",
     "output_type": "stream",
     "text": [
      " 86%|███████████████████████████████████████████████████████████████████████████████████████████████████████████████████████████████████████████████████▉                        | 43/50 [00:18<00:03,  2.28it/s]"
     ]
    },
    {
     "name": "stdout",
     "output_type": "stream",
     "text": [
      "Epoch [43/50], Train Loss: 0.8997, Train_accuracy: 95.90344337948171, Val Loss: 1.3589, Val_accuracy: 82.25772097976571\n"
     ]
    },
    {
     "name": "stderr",
     "output_type": "stream",
     "text": [
      " 88%|███████████████████████████████████████████████████████████████████████████████████████████████████████████████████████████████████████████████████████▎                    | 44/50 [00:18<00:02,  2.46it/s]"
     ]
    },
    {
     "name": "stdout",
     "output_type": "stream",
     "text": [
      "Epoch [44/50], Train Loss: 0.7943, Train_accuracy: 96.55662051828186, Val Loss: 1.3712, Val_accuracy: 82.790202342918\n",
      "Model saved.\n"
     ]
    },
    {
     "name": "stderr",
     "output_type": "stream",
     "text": [
      " 90%|██████████████████████████████████████████████████████████████████████████████████████████████████████████████████████████████████████████████████████████▊                 | 45/50 [00:18<00:02,  2.30it/s]"
     ]
    },
    {
     "name": "stdout",
     "output_type": "stream",
     "text": [
      "Epoch [45/50], Train Loss: 0.7906, Train_accuracy: 96.30102946396876, Val Loss: 1.4327, Val_accuracy: 82.30031948881789\n"
     ]
    },
    {
     "name": "stderr",
     "output_type": "stream",
     "text": [
      " 92%|██████████████████████████████████████████████████████████████████████████████████████████████████████████████████████████████████████████████████████████████▏             | 46/50 [00:19<00:01,  2.49it/s]"
     ]
    },
    {
     "name": "stdout",
     "output_type": "stream",
     "text": [
      "Epoch [46/50], Train Loss: 0.6259, Train_accuracy: 97.61448349307774, Val Loss: 1.4285, Val_accuracy: 83.15228966986156\n",
      "Model saved.\n"
     ]
    },
    {
     "name": "stderr",
     "output_type": "stream",
     "text": [
      " 94%|█████████████████████████████████████████████████████████████████████████████████████████████████████████████████████████████████████████████████████████████████▋          | 47/50 [00:19<00:01,  2.33it/s]"
     ]
    },
    {
     "name": "stdout",
     "output_type": "stream",
     "text": [
      "Epoch [47/50], Train Loss: 0.6092, Train_accuracy: 97.43698970536032, Val Loss: 1.4644, Val_accuracy: 83.10969116080938\n"
     ]
    },
    {
     "name": "stderr",
     "output_type": "stream",
     "text": [
      " 96%|█████████████████████████████████████████████████████████████████████████████████████████████████████████████████████████████████████████████████████████████████████       | 48/50 [00:20<00:00,  2.22it/s]"
     ]
    },
    {
     "name": "stdout",
     "output_type": "stream",
     "text": [
      "Epoch [48/50], Train Loss: 0.5455, Train_accuracy: 97.87717429889953, Val Loss: 1.4516, Val_accuracy: 82.83280085197018\n"
     ]
    },
    {
     "name": "stderr",
     "output_type": "stream",
     "text": [
      " 98%|████████████████████████████████████████████████████████████████████████████████████████████████████████████████████████████████████████████████████████████████████████▌   | 49/50 [00:20<00:00,  2.42it/s]"
     ]
    },
    {
     "name": "stdout",
     "output_type": "stream",
     "text": [
      "Epoch [49/50], Train Loss: 0.4855, Train_accuracy: 98.35995740149095, Val Loss: 1.4919, Val_accuracy: 83.59957401490948\n",
      "Model saved.\n"
     ]
    },
    {
     "name": "stderr",
     "output_type": "stream",
     "text": [
      "100%|████████████████████████████████████████████████████████████████████████████████████████████████████████████████████████████████████████████████████████████████████████████| 50/50 [00:21<00:00,  2.38it/s]"
     ]
    },
    {
     "name": "stdout",
     "output_type": "stream",
     "text": [
      "Epoch [50/50], Train Loss: 0.4664, Train_accuracy: 98.40255591054313, Val Loss: 1.4989, Val_accuracy: 83.21618743343983\n"
     ]
    },
    {
     "name": "stderr",
     "output_type": "stream",
     "text": [
      "\n"
     ]
    },
    {
     "name": "stdout",
     "output_type": "stream",
     "text": [
      "Test Accucary 83.8160136286201\n",
      "Current sub-neural network has 3 hidden layers.\n",
      "...\n"
     ]
    },
    {
     "name": "stderr",
     "output_type": "stream",
     "text": [
      "  2%|███▍                                                                                                                                                                         | 1/50 [00:00<00:24,  2.01it/s]"
     ]
    },
    {
     "name": "stdout",
     "output_type": "stream",
     "text": [
      "Epoch [1/50], Train Loss: 4.4373, Train_accuracy: 66.99325523606674, Val Loss: 1.9120, Val_accuracy: 66.98615548455804\n",
      "Model saved.\n"
     ]
    },
    {
     "name": "stderr",
     "output_type": "stream",
     "text": [
      "  4%|██████▉                                                                                                                                                                      | 2/50 [00:00<00:18,  2.53it/s]"
     ]
    },
    {
     "name": "stdout",
     "output_type": "stream",
     "text": [
      "Epoch [2/50], Train Loss: 4.0327, Train_accuracy: 71.23180688675896, Val Loss: 1.7586, Val_accuracy: 70.26624068157615\n",
      "Model saved.\n"
     ]
    },
    {
     "name": "stderr",
     "output_type": "stream",
     "text": [
      "  6%|██████████▍                                                                                                                                                                  | 3/50 [00:01<00:21,  2.23it/s]"
     ]
    },
    {
     "name": "stdout",
     "output_type": "stream",
     "text": [
      "Epoch [3/50], Train Loss: 3.7608, Train_accuracy: 74.10720624778133, Val Loss: 1.6611, Val_accuracy: 72.9286474973376\n",
      "Model saved.\n"
     ]
    },
    {
     "name": "stderr",
     "output_type": "stream",
     "text": [
      "  8%|█████████████▊                                                                                                                                                               | 4/50 [00:01<00:18,  2.51it/s]"
     ]
    },
    {
     "name": "stdout",
     "output_type": "stream",
     "text": [
      "Epoch [4/50], Train Loss: 3.7791, Train_accuracy: 72.1334753283635, Val Loss: 1.6552, Val_accuracy: 71.48029818956337\n"
     ]
    },
    {
     "name": "stderr",
     "output_type": "stream",
     "text": [
      " 10%|█████████████████▎                                                                                                                                                           | 5/50 [00:02<00:19,  2.29it/s]"
     ]
    },
    {
     "name": "stdout",
     "output_type": "stream",
     "text": [
      "Epoch [5/50], Train Loss: 3.4369, Train_accuracy: 77.51508697195598, Val Loss: 1.5391, Val_accuracy: 75.71884984025559\n",
      "Model saved.\n"
     ]
    },
    {
     "name": "stderr",
     "output_type": "stream",
     "text": [
      " 12%|████████████████████▊                                                                                                                                                        | 6/50 [00:02<00:17,  2.51it/s]"
     ]
    },
    {
     "name": "stdout",
     "output_type": "stream",
     "text": [
      "Epoch [6/50], Train Loss: 3.3382, Train_accuracy: 77.2381966631168, Val Loss: 1.5068, Val_accuracy: 75.59105431309904\n"
     ]
    },
    {
     "name": "stderr",
     "output_type": "stream",
     "text": [
      " 14%|████████████████████████▏                                                                                                                                                    | 7/50 [00:02<00:18,  2.31it/s]"
     ]
    },
    {
     "name": "stdout",
     "output_type": "stream",
     "text": [
      "Epoch [7/50], Train Loss: 3.1821, Train_accuracy: 79.43911963081293, Val Loss: 1.4737, Val_accuracy: 76.27263045793397\n",
      "Model saved.\n"
     ]
    },
    {
     "name": "stderr",
     "output_type": "stream",
     "text": [
      " 16%|███████████████████████████▋                                                                                                                                                 | 8/50 [00:03<00:16,  2.50it/s]"
     ]
    },
    {
     "name": "stdout",
     "output_type": "stream",
     "text": [
      "Epoch [8/50], Train Loss: 3.0490, Train_accuracy: 80.36208732694355, Val Loss: 1.4495, Val_accuracy: 76.84771033013844\n",
      "Model saved.\n"
     ]
    },
    {
     "name": "stderr",
     "output_type": "stream",
     "text": [
      " 18%|███████████████████████████████▏                                                                                                                                             | 9/50 [00:03<00:17,  2.32it/s]"
     ]
    },
    {
     "name": "stdout",
     "output_type": "stream",
     "text": [
      "Epoch [9/50], Train Loss: 2.9141, Train_accuracy: 81.37025204117856, Val Loss: 1.4224, Val_accuracy: 77.16719914802982\n",
      "Model saved.\n"
     ]
    },
    {
     "name": "stderr",
     "output_type": "stream",
     "text": [
      " 20%|██████████████████████████████████▍                                                                                                                                         | 10/50 [00:04<00:15,  2.52it/s]"
     ]
    },
    {
     "name": "stdout",
     "output_type": "stream",
     "text": [
      "Epoch [10/50], Train Loss: 2.8848, Train_accuracy: 81.12886048988285, Val Loss: 1.4280, Val_accuracy: 76.84771033013844\n"
     ]
    },
    {
     "name": "stderr",
     "output_type": "stream",
     "text": [
      " 22%|█████████████████████████████████████▊                                                                                                                                      | 11/50 [00:04<00:16,  2.33it/s]"
     ]
    },
    {
     "name": "stdout",
     "output_type": "stream",
     "text": [
      "Epoch [11/50], Train Loss: 2.9834, Train_accuracy: 79.99290024849131, Val Loss: 1.4862, Val_accuracy: 75.37806176783812\n"
     ]
    },
    {
     "name": "stderr",
     "output_type": "stream",
     "text": [
      " 24%|█████████████████████████████████████████▎                                                                                                                                  | 12/50 [00:05<00:17,  2.21it/s]"
     ]
    },
    {
     "name": "stdout",
     "output_type": "stream",
     "text": [
      "Epoch [12/50], Train Loss: 2.6173, Train_accuracy: 83.72736954206603, Val Loss: 1.3762, Val_accuracy: 77.65708200212993\n",
      "Model saved.\n"
     ]
    },
    {
     "name": "stderr",
     "output_type": "stream",
     "text": [
      " 26%|████████████████████████████████████████████▋                                                                                                                               | 13/50 [00:05<00:15,  2.40it/s]"
     ]
    },
    {
     "name": "stdout",
     "output_type": "stream",
     "text": [
      "Epoch [13/50], Train Loss: 2.4866, Train_accuracy: 84.52254171104012, Val Loss: 1.3658, Val_accuracy: 78.44515441959531\n",
      "Model saved.\n"
     ]
    },
    {
     "name": "stderr",
     "output_type": "stream",
     "text": [
      " 28%|████████████████████████████████████████████████▏                                                                                                                           | 14/50 [00:05<00:14,  2.57it/s]"
     ]
    },
    {
     "name": "stdout",
     "output_type": "stream",
     "text": [
      "Epoch [14/50], Train Loss: 2.3491, Train_accuracy: 85.49520766773163, Val Loss: 1.3511, Val_accuracy: 78.57294994675186\n",
      "Model saved.\n"
     ]
    },
    {
     "name": "stderr",
     "output_type": "stream",
     "text": [
      " 30%|███████████████████████████████████████████████████▌                                                                                                                        | 15/50 [00:06<00:14,  2.37it/s]"
     ]
    },
    {
     "name": "stdout",
     "output_type": "stream",
     "text": [
      "Epoch [15/50], Train Loss: 2.4726, Train_accuracy: 84.36634717784878, Val Loss: 1.4824, Val_accuracy: 77.40149094781682\n"
     ]
    },
    {
     "name": "stderr",
     "output_type": "stream",
     "text": [
      " 32%|███████████████████████████████████████████████████████                                                                                                                     | 16/50 [00:06<00:13,  2.51it/s]"
     ]
    },
    {
     "name": "stdout",
     "output_type": "stream",
     "text": [
      "Epoch [16/50], Train Loss: 2.0794, Train_accuracy: 87.5896343627973, Val Loss: 1.3279, Val_accuracy: 79.65921192758253\n",
      "Model saved.\n"
     ]
    },
    {
     "name": "stderr",
     "output_type": "stream",
     "text": [
      " 34%|██████████████████████████████████████████████████████████▍                                                                                                                 | 17/50 [00:07<00:14,  2.31it/s]"
     ]
    },
    {
     "name": "stdout",
     "output_type": "stream",
     "text": [
      "Epoch [17/50], Train Loss: 2.2270, Train_accuracy: 85.93539226127085, Val Loss: 1.5035, Val_accuracy: 77.95527156549521\n"
     ]
    },
    {
     "name": "stderr",
     "output_type": "stream",
     "text": [
      " 36%|█████████████████████████████████████████████████████████████▉                                                                                                              | 18/50 [00:07<00:12,  2.47it/s]"
     ]
    },
    {
     "name": "stdout",
     "output_type": "stream",
     "text": [
      "Epoch [18/50], Train Loss: 1.9869, Train_accuracy: 87.73872914447995, Val Loss: 1.3518, Val_accuracy: 79.2545260915868\n"
     ]
    },
    {
     "name": "stderr",
     "output_type": "stream",
     "text": [
      " 38%|█████████████████████████████████████████████████████████████████▎                                                                                                          | 19/50 [00:08<00:13,  2.28it/s]"
     ]
    },
    {
     "name": "stdout",
     "output_type": "stream",
     "text": [
      "Epoch [19/50], Train Loss: 1.7204, Train_accuracy: 90.15974440894568, Val Loss: 1.3062, Val_accuracy: 80.57507987220447\n",
      "Model saved.\n"
     ]
    },
    {
     "name": "stderr",
     "output_type": "stream",
     "text": [
      " 40%|████████████████████████████████████████████████████████████████████▊                                                                                                       | 20/50 [00:08<00:13,  2.17it/s]"
     ]
    },
    {
     "name": "stdout",
     "output_type": "stream",
     "text": [
      "Epoch [20/50], Train Loss: 1.6447, Train_accuracy: 90.47923322683707, Val Loss: 1.3695, Val_accuracy: 80.29818956336528\n"
     ]
    },
    {
     "name": "stderr",
     "output_type": "stream",
     "text": [
      " 42%|████████████████████████████████████████████████████████████████████████▏                                                                                                   | 21/50 [00:08<00:12,  2.38it/s]"
     ]
    },
    {
     "name": "stdout",
     "output_type": "stream",
     "text": [
      "Epoch [21/50], Train Loss: 1.4944, Train_accuracy: 91.74298899538516, Val Loss: 1.3231, Val_accuracy: 80.95846645367412\n",
      "Model saved.\n"
     ]
    },
    {
     "name": "stderr",
     "output_type": "stream",
     "text": [
      " 44%|███████████████████████████████████████████████████████████████████████████▋                                                                                                | 22/50 [00:09<00:11,  2.54it/s]"
     ]
    },
    {
     "name": "stdout",
     "output_type": "stream",
     "text": [
      "Epoch [22/50], Train Loss: 1.3762, Train_accuracy: 92.48846290379836, Val Loss: 1.3423, Val_accuracy: 81.17145899893504\n",
      "Model saved.\n"
     ]
    },
    {
     "name": "stderr",
     "output_type": "stream",
     "text": [
      " 46%|███████████████████████████████████████████████████████████████████████████████                                                                                             | 23/50 [00:09<00:11,  2.30it/s]"
     ]
    },
    {
     "name": "stdout",
     "output_type": "stream",
     "text": [
      "Epoch [23/50], Train Loss: 1.2529, Train_accuracy: 93.4398296059638, Val Loss: 1.3182, Val_accuracy: 81.34185303514377\n",
      "Model saved.\n"
     ]
    },
    {
     "name": "stderr",
     "output_type": "stream",
     "text": [
      " 48%|██████████████████████████████████████████████████████████████████████████████████▌                                                                                         | 24/50 [00:10<00:10,  2.48it/s]"
     ]
    },
    {
     "name": "stdout",
     "output_type": "stream",
     "text": [
      "Epoch [24/50], Train Loss: 1.1247, Train_accuracy: 94.53319133830315, Val Loss: 1.3312, Val_accuracy: 82.06602768903089\n",
      "Model saved.\n"
     ]
    },
    {
     "name": "stderr",
     "output_type": "stream",
     "text": [
      " 50%|██████████████████████████████████████████████████████████████████████████████████████                                                                                      | 25/50 [00:10<00:10,  2.30it/s]"
     ]
    },
    {
     "name": "stdout",
     "output_type": "stream",
     "text": [
      "Epoch [25/50], Train Loss: 1.0759, Train_accuracy: 94.59708910188144, Val Loss: 1.3981, Val_accuracy: 81.5122470713525\n"
     ]
    },
    {
     "name": "stderr",
     "output_type": "stream",
     "text": [
      " 52%|█████████████████████████████████████████████████████████████████████████████████████████▍                                                                                  | 26/50 [00:10<00:09,  2.46it/s]"
     ]
    },
    {
     "name": "stdout",
     "output_type": "stream",
     "text": [
      "Epoch [26/50], Train Loss: 1.1149, Train_accuracy: 94.08590699325524, Val Loss: 1.5177, Val_accuracy: 80.66027689030884\n"
     ]
    },
    {
     "name": "stderr",
     "output_type": "stream",
     "text": [
      " 54%|████████████████████████████████████████████████████████████████████████████████████████████▉                                                                               | 27/50 [00:11<00:10,  2.30it/s]"
     ]
    },
    {
     "name": "stdout",
     "output_type": "stream",
     "text": [
      "Epoch [27/50], Train Loss: 1.0686, Train_accuracy: 94.72488462903799, Val Loss: 1.3459, Val_accuracy: 81.68264110756124\n"
     ]
    },
    {
     "name": "stderr",
     "output_type": "stream",
     "text": [
      " 56%|████████████████████████████████████████████████████████████████████████████████████████████████▎                                                                           | 28/50 [00:11<00:08,  2.49it/s]"
     ]
    },
    {
     "name": "stdout",
     "output_type": "stream",
     "text": [
      "Epoch [28/50], Train Loss: 1.3036, Train_accuracy: 92.9002484913028, Val Loss: 1.3428, Val_accuracy: 80.95846645367412\n"
     ]
    },
    {
     "name": "stderr",
     "output_type": "stream",
     "text": [
      " 58%|███████████████████████████████████████████████████████████████████████████████████████████████████▊                                                                        | 29/50 [00:12<00:09,  2.32it/s]"
     ]
    },
    {
     "name": "stdout",
     "output_type": "stream",
     "text": [
      "Epoch [29/50], Train Loss: 1.2878, Train_accuracy: 92.58075967341144, Val Loss: 1.4107, Val_accuracy: 80.78807241746539\n"
     ]
    },
    {
     "name": "stderr",
     "output_type": "stream",
     "text": [
      " 60%|███████████████████████████████████████████████████████████████████████████████████████████████████████▏                                                                    | 30/50 [00:12<00:08,  2.50it/s]"
     ]
    },
    {
     "name": "stdout",
     "output_type": "stream",
     "text": [
      "Epoch [30/50], Train Loss: 1.3052, Train_accuracy: 92.01277955271566, Val Loss: 1.5323, Val_accuracy: 79.89350372736955\n"
     ]
    },
    {
     "name": "stderr",
     "output_type": "stream",
     "text": [
      " 62%|██████████████████████████████████████████████████████████████████████████████████████████████████████████▋                                                                 | 31/50 [00:13<00:08,  2.33it/s]"
     ]
    },
    {
     "name": "stdout",
     "output_type": "stream",
     "text": [
      "Epoch [31/50], Train Loss: 1.2550, Train_accuracy: 92.37486687965921, Val Loss: 1.5776, Val_accuracy: 79.85090521831737\n"
     ]
    },
    {
     "name": "stderr",
     "output_type": "stream",
     "text": [
      " 64%|██████████████████████████████████████████████████████████████████████████████████████████████████████████████                                                              | 32/50 [00:13<00:07,  2.51it/s]"
     ]
    },
    {
     "name": "stdout",
     "output_type": "stream",
     "text": [
      "Epoch [32/50], Train Loss: 1.3197, Train_accuracy: 91.75008874689387, Val Loss: 1.6333, Val_accuracy: 80.02129925452608\n"
     ]
    },
    {
     "name": "stderr",
     "output_type": "stream",
     "text": [
      " 66%|█████████████████████████████████████████████████████████████████████████████████████████████████████████████████▌                                                          | 33/50 [00:13<00:07,  2.32it/s]"
     ]
    },
    {
     "name": "stdout",
     "output_type": "stream",
     "text": [
      "Epoch [33/50], Train Loss: 0.8387, Train_accuracy: 96.10223642172524, Val Loss: 1.3757, Val_accuracy: 82.70500532481363\n",
      "Model saved.\n"
     ]
    },
    {
     "name": "stderr",
     "output_type": "stream",
     "text": [
      " 68%|████████████████████████████████████████████████████████████████████████████████████████████████████████████████████▉                                                       | 34/50 [00:14<00:07,  2.19it/s]"
     ]
    },
    {
     "name": "stdout",
     "output_type": "stream",
     "text": [
      "Epoch [34/50], Train Loss: 1.4900, Train_accuracy: 90.22364217252397, Val Loss: 1.8105, Val_accuracy: 78.63684771033014\n"
     ]
    },
    {
     "name": "stderr",
     "output_type": "stream",
     "text": [
      " 70%|████████████████████████████████████████████████████████████████████████████████████████████████████████████████████████▍                                                   | 35/50 [00:14<00:06,  2.38it/s]"
     ]
    },
    {
     "name": "stdout",
     "output_type": "stream",
     "text": [
      "Epoch [35/50], Train Loss: 0.8100, Train_accuracy: 96.39332623358183, Val Loss: 1.3634, Val_accuracy: 82.85410010649628\n",
      "Model saved.\n"
     ]
    },
    {
     "name": "stderr",
     "output_type": "stream",
     "text": [
      " 72%|███████████████████████████████████████████████████████████████████████████████████████████████████████████████████████████▊                                                | 36/50 [00:15<00:06,  2.21it/s]"
     ]
    },
    {
     "name": "stdout",
     "output_type": "stream",
     "text": [
      "Epoch [36/50], Train Loss: 0.7481, Train_accuracy: 96.40042598509052, Val Loss: 1.4073, Val_accuracy: 82.790202342918\n"
     ]
    },
    {
     "name": "stderr",
     "output_type": "stream",
     "text": [
      " 74%|███████████████████████████████████████████████████████████████████████████████████████████████████████████████████████████████▎                                            | 37/50 [00:15<00:05,  2.40it/s]"
     ]
    },
    {
     "name": "stdout",
     "output_type": "stream",
     "text": [
      "Epoch [37/50], Train Loss: 0.7726, Train_accuracy: 96.19453319133831, Val Loss: 1.5211, Val_accuracy: 81.78913738019169\n"
     ]
    },
    {
     "name": "stderr",
     "output_type": "stream",
     "text": [
      " 76%|██████████████████████████████████████████████████████████████████████████████████████████████████████████████████████████████████▋                                         | 38/50 [00:15<00:04,  2.55it/s]"
     ]
    },
    {
     "name": "stdout",
     "output_type": "stream",
     "text": [
      "Epoch [38/50], Train Loss: 0.6069, Train_accuracy: 97.43698970536032, Val Loss: 1.4607, Val_accuracy: 82.42811501597444\n"
     ]
    },
    {
     "name": "stderr",
     "output_type": "stream",
     "text": [
      " 78%|██████████████████████████████████████████████████████████████████████████████████████████████████████████████████████████████████████▏                                     | 39/50 [00:16<00:04,  2.32it/s]"
     ]
    },
    {
     "name": "stdout",
     "output_type": "stream",
     "text": [
      "Epoch [39/50], Train Loss: 0.5107, Train_accuracy: 97.89847355342563, Val Loss: 1.5083, Val_accuracy: 82.93929712460064\n",
      "Model saved.\n"
     ]
    },
    {
     "name": "stderr",
     "output_type": "stream",
     "text": [
      " 80%|█████████████████████████████████████████████████████████████████████████████████████████████████████████████████████████████████████████▌                                  | 40/50 [00:16<00:04,  2.47it/s]"
     ]
    },
    {
     "name": "stdout",
     "output_type": "stream",
     "text": [
      "Epoch [40/50], Train Loss: 0.4327, Train_accuracy: 98.39545615903444, Val Loss: 1.5293, Val_accuracy: 83.06709265175719\n",
      "Model saved.\n"
     ]
    },
    {
     "name": "stderr",
     "output_type": "stream",
     "text": [
      " 82%|█████████████████████████████████████████████████████████████████████████████████████████████████████████████████████████████████████████████                               | 41/50 [00:17<00:03,  2.28it/s]"
     ]
    },
    {
     "name": "stdout",
     "output_type": "stream",
     "text": [
      "Epoch [41/50], Train Loss: 0.4095, Train_accuracy: 98.44515441959531, Val Loss: 1.6395, Val_accuracy: 82.49201277955271\n"
     ]
    },
    {
     "name": "stderr",
     "output_type": "stream",
     "text": [
      " 84%|████████████████████████████████████████████████████████████████████████████████████████████████████████████████████████████████████████████████▍                           | 42/50 [00:17<00:03,  2.15it/s]"
     ]
    },
    {
     "name": "stdout",
     "output_type": "stream",
     "text": [
      "Epoch [42/50], Train Loss: 0.3505, Train_accuracy: 98.82144124955627, Val Loss: 1.6524, Val_accuracy: 82.87539936102236\n"
     ]
    },
    {
     "name": "stderr",
     "output_type": "stream",
     "text": [
      " 86%|███████████████████████████████████████████████████████████████████████████████████████████████████████████████████████████████████████████████████▉                        | 43/50 [00:18<00:02,  2.35it/s]"
     ]
    },
    {
     "name": "stdout",
     "output_type": "stream",
     "text": [
      "Epoch [43/50], Train Loss: 0.2981, Train_accuracy: 99.09123180688675, Val Loss: 1.6724, Val_accuracy: 82.89669861554846\n"
     ]
    },
    {
     "name": "stderr",
     "output_type": "stream",
     "text": [
      " 88%|███████████████████████████████████████████████████████████████████████████████████████████████████████████████████████████████████████████████████████▎                    | 44/50 [00:18<00:02,  2.18it/s]"
     ]
    },
    {
     "name": "stdout",
     "output_type": "stream",
     "text": [
      "Epoch [44/50], Train Loss: 0.2735, Train_accuracy: 99.11963081292154, Val Loss: 1.6984, Val_accuracy: 83.19488817891374\n",
      "Model saved.\n"
     ]
    },
    {
     "name": "stderr",
     "output_type": "stream",
     "text": [
      " 90%|██████████████████████████████████████████████████████████████████████████████████████████████████████████████████████████████████████████████████████████▊                 | 45/50 [00:19<00:02,  2.37it/s]"
     ]
    },
    {
     "name": "stdout",
     "output_type": "stream",
     "text": [
      "Epoch [45/50], Train Loss: 0.2446, Train_accuracy: 99.33972310969116, Val Loss: 1.7562, Val_accuracy: 83.17358892438764\n"
     ]
    },
    {
     "name": "stderr",
     "output_type": "stream",
     "text": [
      " 92%|██████████████████████████████████████████████████████████████████████████████████████████████████████████████████████████████████████████████████████████████▏             | 46/50 [00:19<00:01,  2.22it/s]"
     ]
    },
    {
     "name": "stdout",
     "output_type": "stream",
     "text": [
      "Epoch [46/50], Train Loss: 0.2055, Train_accuracy: 99.51721689740859, Val Loss: 1.7875, Val_accuracy: 83.06709265175719\n"
     ]
    },
    {
     "name": "stderr",
     "output_type": "stream",
     "text": [
      " 94%|█████████████████████████████████████████████████████████████████████████████████████████████████████████████████████████████████████████████████████████████████▋          | 47/50 [00:19<00:01,  2.42it/s]"
     ]
    },
    {
     "name": "stdout",
     "output_type": "stream",
     "text": [
      "Epoch [47/50], Train Loss: 0.1872, Train_accuracy: 99.60951366702166, Val Loss: 1.8667, Val_accuracy: 82.89669861554846\n"
     ]
    },
    {
     "name": "stderr",
     "output_type": "stream",
     "text": [
      " 96%|█████████████████████████████████████████████████████████████████████████████████████████████████████████████████████████████████████████████████████████████████████       | 48/50 [00:20<00:00,  2.57it/s]"
     ]
    },
    {
     "name": "stdout",
     "output_type": "stream",
     "text": [
      "Epoch [48/50], Train Loss: 0.1722, Train_accuracy: 99.65921192758253, Val Loss: 1.9223, Val_accuracy: 82.85410010649628\n"
     ]
    },
    {
     "name": "stderr",
     "output_type": "stream",
     "text": [
      " 98%|████████████████████████████████████████████████████████████████████████████████████████████████████████████████████████████████████████████████████████████████████████▌   | 49/50 [00:20<00:00,  2.33it/s]"
     ]
    },
    {
     "name": "stdout",
     "output_type": "stream",
     "text": [
      "Epoch [49/50], Train Loss: 0.1476, Train_accuracy: 99.78700745473908, Val Loss: 1.9372, Val_accuracy: 83.02449414270501\n"
     ]
    },
    {
     "name": "stderr",
     "output_type": "stream",
     "text": [
      "100%|████████████████████████████████████████████████████████████████████████████████████████████████████████████████████████████████████████████████████████████████████████████| 50/50 [00:21<00:00,  2.37it/s]"
     ]
    },
    {
     "name": "stdout",
     "output_type": "stream",
     "text": [
      "Epoch [50/50], Train Loss: 0.1343, Train_accuracy: 99.79410720624779, Val Loss: 1.9463, Val_accuracy: 83.49307774227903\n",
      "Model saved.\n"
     ]
    },
    {
     "name": "stderr",
     "output_type": "stream",
     "text": [
      "\n"
     ]
    },
    {
     "name": "stdout",
     "output_type": "stream",
     "text": [
      "Test Accucary 84.15672913117547\n",
      "2\n",
      "Test Accuracy: 75.51107325383305\n",
      "Train Accuracy: 77.05360312389067\n",
      "Validation Accuracy: 76.14483493077742\n"
     ]
    }
   ],
   "source": [
    "model_dict_sparse, test_dataloader, train_dataloader = main_file()"
   ]
  },
  {
   "cell_type": "code",
   "execution_count": 5,
   "id": "45d2b672-8d76-418e-9655-42237bc6a3cc",
   "metadata": {},
   "outputs": [
    {
     "name": "stdout",
     "output_type": "stream",
     "text": [
      "2\n",
      "Test Accuracy: 75.51107325383305\n",
      "Train Accuracy: 77.05360312389067\n",
      "3\n",
      "Test Accuracy: 72.99829642248723\n",
      "Train Accuracy: 74.56869009584665\n",
      "4\n",
      "Test Accuracy: 71.50766609880749\n",
      "Train Accuracy: 72.72985445509407\n"
     ]
    }
   ],
   "source": [
    "for j,i in model_dict_sparse.items():\n",
    "        \n",
    "        '''for name, layer in enumerate(i.children()):\n",
    "            layer_name = 'fc'+str(name+1)\n",
    "            layer.register_forward_hook(lambda module, input, output, name=layer_name: hook_fn(module, input, output, name))'''\n",
    "\n",
    "\n",
    "\n",
    "        accuracy, loss, predicted_list, labels_list, probability_list = evaluate(i, test_dataloader)\n",
    "        print(j)\n",
    "        print(f'Test Accuracy: {accuracy}')   \n",
    "        accuracy, loss, predicted_list, labels_list, probability_list = evaluate(i, train_dataloader)\n",
    "        print(f'Train Accuracy: {accuracy}')   \n",
    "        '''accuracy, loss, predicted_list, labels_list, probability_list = evaluate(i, val_dataloader)\n",
    "        print(f'Validation Accuracy: {accuracy}') '''"
   ]
  },
  {
   "cell_type": "code",
   "execution_count": 7,
   "id": "ebdcd46a-27e3-46e5-84c6-81b1e2cad65f",
   "metadata": {},
   "outputs": [
    {
     "data": {
      "text/plain": [
       "{2: CustomNetwork(\n",
       "   (layers): ModuleList(\n",
       "     (0): Linear(in_features=582, out_features=356, bias=False)\n",
       "     (1): Linear(in_features=356, out_features=1, bias=True)\n",
       "   )\n",
       " ),\n",
       " 3: CustomNetwork(\n",
       "   (layers): ModuleList(\n",
       "     (0): Linear(in_features=582, out_features=356, bias=False)\n",
       "     (1): Linear(in_features=356, out_features=134, bias=False)\n",
       "     (2): Linear(in_features=134, out_features=1, bias=True)\n",
       "   )\n",
       " ),\n",
       " 4: CustomNetwork(\n",
       "   (layers): ModuleList(\n",
       "     (0): Linear(in_features=582, out_features=356, bias=False)\n",
       "     (1): Linear(in_features=356, out_features=134, bias=False)\n",
       "     (2): Linear(in_features=134, out_features=29, bias=False)\n",
       "     (3): Linear(in_features=29, out_features=1, bias=True)\n",
       "   )\n",
       " )}"
      ]
     },
     "execution_count": 7,
     "metadata": {},
     "output_type": "execute_result"
    }
   ],
   "source": [
    "model_dict_sparse"
   ]
  },
  {
   "cell_type": "code",
   "execution_count": null,
   "id": "08f4f5e1-65f9-4578-b028-29f7fc367a2a",
   "metadata": {},
   "outputs": [],
   "source": [
    "for j,i in model_dict_sparse.items():\n",
    "\n",
    "# Assuming 'model' is your neural network\n",
    "    torch.save(i, f'model_{j}.pth')"
   ]
  },
  {
   "cell_type": "code",
   "execution_count": null,
   "id": "22ba0c85-1415-4b2f-8dbe-c5c9d704e6b4",
   "metadata": {},
   "outputs": [],
   "source": []
  },
  {
   "cell_type": "code",
   "execution_count": null,
   "id": "1337dbaa-8e9a-4fb1-a14c-644ccae6e860",
   "metadata": {},
   "outputs": [],
   "source": []
  },
  {
   "cell_type": "code",
   "execution_count": null,
   "id": "e568884b-5790-4145-aae8-206e137f2ed6",
   "metadata": {},
   "outputs": [],
   "source": []
  },
  {
   "cell_type": "code",
   "execution_count": null,
   "id": "69f99d48-aff4-4fcc-a907-e42615ea3c43",
   "metadata": {},
   "outputs": [],
   "source": []
  },
  {
   "cell_type": "code",
   "execution_count": 2,
   "id": "ad23bd3a-7053-4dbd-8fd3-e2afa2788b4e",
   "metadata": {},
   "outputs": [
    {
     "name": "stdout",
     "output_type": "stream",
     "text": [
      "[PhysicalDevice(name='/physical_device:GPU:0', device_type='GPU')]\n"
     ]
    },
    {
     "name": "stderr",
     "output_type": "stream",
     "text": [
      "2024-07-31 14:11:36.224737: I external/local_xla/xla/stream_executor/cuda/cuda_executor.cc:998] successful NUMA node read from SysFS had negative value (-1), but there must be at least one NUMA node, so returning NUMA node zero. See more at https://github.com/torvalds/linux/blob/v6.0/Documentation/ABI/testing/sysfs-bus-pci#L344-L355\n",
      "2024-07-31 14:11:36.227061: I external/local_xla/xla/stream_executor/cuda/cuda_executor.cc:998] successful NUMA node read from SysFS had negative value (-1), but there must be at least one NUMA node, so returning NUMA node zero. See more at https://github.com/torvalds/linux/blob/v6.0/Documentation/ABI/testing/sysfs-bus-pci#L344-L355\n",
      "2024-07-31 14:11:36.227177: I external/local_xla/xla/stream_executor/cuda/cuda_executor.cc:998] successful NUMA node read from SysFS had negative value (-1), but there must be at least one NUMA node, so returning NUMA node zero. See more at https://github.com/torvalds/linux/blob/v6.0/Documentation/ABI/testing/sysfs-bus-pci#L344-L355\n"
     ]
    }
   ],
   "source": [
    "print(tf.config.list_physical_devices('GPU'))"
   ]
  },
  {
   "cell_type": "code",
   "execution_count": 3,
   "id": "0f67b552-3b72-4f66-8480-cd51321746bf",
   "metadata": {},
   "outputs": [],
   "source": [
    "import pandas as pd\n",
    "import numpy as np"
   ]
  },
  {
   "cell_type": "code",
   "execution_count": 4,
   "id": "35d2b45d-6ae0-4027-bf66-fe4a3ff6272a",
   "metadata": {},
   "outputs": [
    {
     "name": "stdout",
     "output_type": "stream",
     "text": [
      "WARNING:tensorflow:From /tmp/ipykernel_2122442/337460670.py:1: is_gpu_available (from tensorflow.python.framework.test_util) is deprecated and will be removed in a future version.\n",
      "Instructions for updating:\n",
      "Use `tf.config.list_physical_devices('GPU')` instead.\n"
     ]
    },
    {
     "name": "stderr",
     "output_type": "stream",
     "text": [
      "2024-07-31 14:11:36.242744: I external/local_xla/xla/stream_executor/cuda/cuda_executor.cc:998] successful NUMA node read from SysFS had negative value (-1), but there must be at least one NUMA node, so returning NUMA node zero. See more at https://github.com/torvalds/linux/blob/v6.0/Documentation/ABI/testing/sysfs-bus-pci#L344-L355\n"
     ]
    },
    {
     "data": {
      "text/plain": [
       "True"
      ]
     },
     "execution_count": 4,
     "metadata": {},
     "output_type": "execute_result"
    },
    {
     "name": "stderr",
     "output_type": "stream",
     "text": [
      "2024-07-31 14:11:36.242868: I external/local_xla/xla/stream_executor/cuda/cuda_executor.cc:998] successful NUMA node read from SysFS had negative value (-1), but there must be at least one NUMA node, so returning NUMA node zero. See more at https://github.com/torvalds/linux/blob/v6.0/Documentation/ABI/testing/sysfs-bus-pci#L344-L355\n",
      "2024-07-31 14:11:36.242962: I external/local_xla/xla/stream_executor/cuda/cuda_executor.cc:998] successful NUMA node read from SysFS had negative value (-1), but there must be at least one NUMA node, so returning NUMA node zero. See more at https://github.com/torvalds/linux/blob/v6.0/Documentation/ABI/testing/sysfs-bus-pci#L344-L355\n",
      "2024-07-31 14:11:36.410684: I external/local_xla/xla/stream_executor/cuda/cuda_executor.cc:998] successful NUMA node read from SysFS had negative value (-1), but there must be at least one NUMA node, so returning NUMA node zero. See more at https://github.com/torvalds/linux/blob/v6.0/Documentation/ABI/testing/sysfs-bus-pci#L344-L355\n",
      "2024-07-31 14:11:36.410822: I external/local_xla/xla/stream_executor/cuda/cuda_executor.cc:998] successful NUMA node read from SysFS had negative value (-1), but there must be at least one NUMA node, so returning NUMA node zero. See more at https://github.com/torvalds/linux/blob/v6.0/Documentation/ABI/testing/sysfs-bus-pci#L344-L355\n",
      "2024-07-31 14:11:36.410920: I external/local_xla/xla/stream_executor/cuda/cuda_executor.cc:998] successful NUMA node read from SysFS had negative value (-1), but there must be at least one NUMA node, so returning NUMA node zero. See more at https://github.com/torvalds/linux/blob/v6.0/Documentation/ABI/testing/sysfs-bus-pci#L344-L355\n",
      "2024-07-31 14:11:36.411180: I tensorflow/core/common_runtime/gpu/gpu_device.cc:1928] Created device /device:GPU:0 with 46184 MB memory:  -> device: 0, name: NVIDIA RTX 6000 Ada Generation, pci bus id: 0000:01:00.0, compute capability: 8.9\n"
     ]
    }
   ],
   "source": [
    "tf.test.is_gpu_available()"
   ]
  },
  {
   "cell_type": "code",
   "execution_count": 5,
   "id": "e0b9768d-f539-432e-aac3-7fae8725b8ea",
   "metadata": {},
   "outputs": [
    {
     "data": {
      "text/plain": [
       "True"
      ]
     },
     "execution_count": 5,
     "metadata": {},
     "output_type": "execute_result"
    }
   ],
   "source": [
    "torch.cuda.is_available()\n"
   ]
  },
  {
   "cell_type": "code",
   "execution_count": 6,
   "id": "a2b271dd-a27d-46c2-a6a0-599b56652736",
   "metadata": {},
   "outputs": [],
   "source": [
    "rdata = pd.read_csv('../../usman/Single_Cell_Microglia_Project/preprocessed_data/inhibitory_neuron/train_test_set/train_count_matrix.csv', index_col=0)\n",
    "qdata = pd.read_csv('../../usman/Single_Cell_Microglia_Project/preprocessed_data/inhibitory_neuron/train_test_set/test_count_matrix.csv', index_col=0)\n",
    "rlabel = pd.read_csv('../../usman/Single_Cell_Microglia_Project/preprocessed_data/inhibitory_neuron/train_test_set/train_label.csv')\n",
    "qlabel = pd.read_csv('../../usman/Single_Cell_Microglia_Project/preprocessed_data/inhibitory_neuron/train_test_set/test_label.csv')"
   ]
  },
  {
   "cell_type": "code",
   "execution_count": null,
   "id": "a6f78476-e380-4781-84ee-85c7eaf73454",
   "metadata": {},
   "outputs": [],
   "source": [
    "single_cell_metadata = pd.read_csv('../../usman/Single_Cell_Microglia_Project/preprocessed_data/inhibitory_neuron/metadata_inhibitory_neurons.csv')"
   ]
  },
  {
   "cell_type": "code",
   "execution_count": null,
   "id": "9e49cc13-d416-4952-90ad-0e0299280b71",
   "metadata": {},
   "outputs": [],
   "source": [
    "single_cell_metadata"
   ]
  },
  {
   "cell_type": "code",
   "execution_count": null,
   "id": "a7bd28fc-a41f-4979-a37c-4ebc6036fe55",
   "metadata": {},
   "outputs": [],
   "source": [
    "# Verifying Train Label is correct\n",
    "\n",
    "list(single_cell_metadata.set_index('cell_id').loc[rdata.columns,].clinical_pathological_AD) == list(rlabel.diagnosis)"
   ]
  },
  {
   "cell_type": "code",
   "execution_count": null,
   "id": "ef71fcf3-c70c-4aab-959a-4cf401e3c23a",
   "metadata": {},
   "outputs": [],
   "source": [
    "# Verifying Test Label is correct\n",
    "\n",
    "list(single_cell_metadata.set_index('cell_id').loc[qdata.columns,].clinical_pathological_AD) == list(qlabel.diagnosis)"
   ]
  },
  {
   "cell_type": "code",
   "execution_count": null,
   "id": "456392b6-e593-4ff1-953b-14605a5b90cf",
   "metadata": {},
   "outputs": [],
   "source": [
    "rdata = rdata.T\n",
    "qdata = qdata.T\n",
    "rdata"
   ]
  },
  {
   "cell_type": "code",
   "execution_count": null,
   "id": "5903d618-ed12-446f-9d7b-8507819a152d",
   "metadata": {},
   "outputs": [],
   "source": [
    "rdata['diagnosis'] =  list(rlabel.diagnosis)\n",
    "qdata['diagnosis'] =  list(qlabel.diagnosis)"
   ]
  },
  {
   "cell_type": "code",
   "execution_count": null,
   "id": "e3e65f9e-a6f5-4332-831a-3400bafe8a0d",
   "metadata": {},
   "outputs": [],
   "source": [
    "rdata.diagnosis.value_counts()"
   ]
  },
  {
   "cell_type": "code",
   "execution_count": null,
   "id": "66ed4a30-1a3b-4657-a955-98d0d61db7b9",
   "metadata": {},
   "outputs": [],
   "source": [
    "rdata_neg = rdata[rdata.diagnosis == 'NCI_with_No_Plaques'].iloc[0:24372,]\n",
    "rdata_pos = rdata[rdata.diagnosis == 'AD_with_Plaques'].iloc[0:24372,]\n",
    "rdata = pd.concat([rdata_neg,rdata_pos])\n"
   ]
  },
  {
   "cell_type": "code",
   "execution_count": null,
   "id": "60a0cf24-3b00-4b34-ae43-be84c38b436b",
   "metadata": {},
   "outputs": [],
   "source": [
    "rdata"
   ]
  },
  {
   "cell_type": "code",
   "execution_count": null,
   "id": "d6ef6d9b-0fd1-4976-8ea4-b9c4e560a201",
   "metadata": {},
   "outputs": [],
   "source": [
    "rdata = rdata.sample(frac = 1)"
   ]
  },
  {
   "cell_type": "code",
   "execution_count": null,
   "id": "7c1c67bb-ec0b-4543-bf7e-20d690d5f409",
   "metadata": {},
   "outputs": [],
   "source": [
    "rdata"
   ]
  },
  {
   "cell_type": "code",
   "execution_count": null,
   "id": "4224a563-4b37-41cc-a0c6-19603c3978b9",
   "metadata": {},
   "outputs": [],
   "source": [
    "rlabel = pd.DataFrame(rdata.diagnosis)"
   ]
  },
  {
   "cell_type": "code",
   "execution_count": null,
   "id": "4ceed006-fb1e-4bb6-a280-b4a80afc8bd4",
   "metadata": {},
   "outputs": [],
   "source": [
    "rlabel"
   ]
  },
  {
   "cell_type": "code",
   "execution_count": null,
   "id": "cf296654-9ecd-40e7-8f4d-d7324b9d563a",
   "metadata": {},
   "outputs": [],
   "source": [
    "rdata = rdata.drop(columns=['diagnosis'])"
   ]
  },
  {
   "cell_type": "code",
   "execution_count": null,
   "id": "3ad4e81b-3de4-493e-a880-595df299b1d0",
   "metadata": {},
   "outputs": [],
   "source": [
    "qdata.diagnosis.value_counts()"
   ]
  },
  {
   "cell_type": "code",
   "execution_count": null,
   "id": "9ee8929c-5124-4c2f-b5a7-5ec0b4ab1ee9",
   "metadata": {},
   "outputs": [],
   "source": [
    "qdata_neg = qdata[qdata.diagnosis == 'NCI_with_No_Plaques'].iloc[0:3442,]\n",
    "qdata_pos =qdata[qdata.diagnosis == 'AD_with_Plaques'].iloc[0:3442,]\n",
    "qdata = pd.concat([qdata_neg,qdata_pos])"
   ]
  },
  {
   "cell_type": "code",
   "execution_count": null,
   "id": "8a9166d3-49f0-4369-a58e-c12d74f4efd9",
   "metadata": {},
   "outputs": [],
   "source": [
    "qdata"
   ]
  },
  {
   "cell_type": "code",
   "execution_count": null,
   "id": "61a8cf1e-fac9-41d6-abc4-5e79ded58381",
   "metadata": {},
   "outputs": [],
   "source": [
    "qdata = qdata.sample(frac = 1)"
   ]
  },
  {
   "cell_type": "code",
   "execution_count": null,
   "id": "0672cf56-8f9c-4b8e-a5b2-900d525a2277",
   "metadata": {},
   "outputs": [],
   "source": [
    "qdata"
   ]
  },
  {
   "cell_type": "code",
   "execution_count": null,
   "id": "ddca9ddc-55eb-47a4-9be8-deba3705d88b",
   "metadata": {},
   "outputs": [],
   "source": [
    "qlabel = pd.DataFrame(qdata.diagnosis)"
   ]
  },
  {
   "cell_type": "code",
   "execution_count": null,
   "id": "97811f88-7fdc-4fec-b631-531cf100b86e",
   "metadata": {},
   "outputs": [],
   "source": [
    "qlabel.reset_index(drop = True, inplace = True)\n",
    "rlabel.reset_index(drop = True, inplace = True)\n",
    "rlabel"
   ]
  },
  {
   "cell_type": "code",
   "execution_count": null,
   "id": "e977db80-d292-47f0-a2ff-0494b9ce04ae",
   "metadata": {},
   "outputs": [],
   "source": [
    "qdata = qdata.drop(columns=['diagnosis'])"
   ]
  },
  {
   "cell_type": "code",
   "execution_count": null,
   "id": "ea21e13e-bf27-4edc-b722-c78c3c12ff0a",
   "metadata": {},
   "outputs": [],
   "source": [
    "qdata"
   ]
  },
  {
   "cell_type": "code",
   "execution_count": null,
   "id": "d62828a1-0bb4-4b0b-a01f-1531cc232114",
   "metadata": {},
   "outputs": [],
   "source": [
    "rdata = rdata.T\n",
    "qdata = qdata.T"
   ]
  },
  {
   "cell_type": "code",
   "execution_count": null,
   "id": "2ebb908d-164c-466d-999e-2530af6cb48b",
   "metadata": {},
   "outputs": [],
   "source": [
    "r_data_tmp = rdata.copy()\n",
    "q_data_tmp = qdata.copy()\n",
    "r_label_tmp = rlabel.copy()"
   ]
  },
  {
   "cell_type": "code",
   "execution_count": null,
   "id": "07757c6b-64c2-430e-b906-2d42e7202296",
   "metadata": {},
   "outputs": [],
   "source": [
    "import numpy as np\n",
    "import pandas as pd\n",
    "\n",
    "\n",
    "def fphi(x):\n",
    "  zt = (1 - (x + 1).div(x.max(axis=1) + 1, axis=0)).sum(axis=1) / (x.shape[1] - 1)\n",
    "  zp = (x + 1).div(x.max(axis=1) + 1, axis=0).mul(zt, axis=0)\n",
    "  return zp\n",
    "\n",
    "\n",
    "def frho(x):\n",
    "  zt = (1 - (1 / (x + 1)).mul(x.min(axis=1) + 1, axis=0)).sum(axis=1) / (x.shape[1] - 1)\n",
    "  zp = (1 / (x + 1)).mul(x.min(axis=1) + 1, axis=0).mul(zt, axis=0)\n",
    "  return zp\n",
    "\n",
    "\n",
    "def fmkg(phi, rho, thr1=0.95, thr2=0.9):\n",
    "  #print(phi)\n",
    "  #print(rho)\n",
    "  gnm = phi.index.values\n",
    "  ctpnm = phi.columns.values\n",
    "  phi = np.array(phi)\n",
    "  rho = np.array(rho)\n",
    "  nummkg1 = round((1 - thr1) * phi.shape[0])\n",
    "  nummkg2 = round((1 - thr2) * phi.shape[0])\n",
    "  print(nummkg1)\n",
    "  print(nummkg2)\n",
    "  alpha = []\n",
    "  beta = []\n",
    "  for i in range(0, phi.shape[1]):\n",
    "    alpha = np.append(alpha, np.quantile(phi[:, i], thr1))\n",
    "    beta = np.append(beta, np.quantile(rho[:, i], thr2))\n",
    "  mkh = []\n",
    "  mkl = []\n",
    "  for i in range(0, phi.shape[1]):\n",
    "    mkh = np.concatenate([mkh, gnm[phi[:, i] >= alpha[i]][0:nummkg1]], axis=0)\n",
    "    mkl = np.concatenate([mkl, gnm[rho[:, i] >= beta[i]][0:nummkg2]], axis=0)\n",
    "  \n",
    "  print(len(mkh))\n",
    "  print(len(mkl))\n",
    "  mkh = mkh.reshape(nummkg1, phi.shape[1])\n",
    "  mkl = mkl.reshape(nummkg2, rho.shape[1])\n",
    "  mkh = pd.DataFrame(mkh, columns=ctpnm)\n",
    "  mkl = pd.DataFrame(mkl, columns=ctpnm)\n",
    "  print(mkh)\n",
    "  print(mkl)\n",
    "  return mkh, mkl\n",
    "\n",
    "\n",
    "def get_expression(rdata, qdata, rlabel, thrh=0.95, thrl=0.9, normalization=True, marker=True):\n",
    "    # calculate sum of cell type\n",
    "    rulabel = rlabel.iloc[:, 0].unique()\n",
    "    rdt = pd.DataFrame(data=None, columns=None)\n",
    "    for l in rulabel:\n",
    "      rdata_l = rdata.iloc[:, rlabel[(rlabel[\"diagnosis\"] == l)].index.tolist()] #row value in rlabel, is column in rdata\n",
    "      zs = rdata_l.apply(lambda x: x.sum(), axis=1)\n",
    "      rdt = pd.concat([rdt, pd.DataFrame(data=zs, columns=[l])], axis=1)\n",
    "      \n",
    "\n",
    "    # normalization\n",
    "    if normalization:\n",
    "        rdt_df = rdt\n",
    "        rdata_df = rdata\n",
    "        qdata_df = qdata\n",
    "        rdt = np.array(rdt_df, dtype=np.float32)\n",
    "        rdata = np.array(rdata_df, dtype=np.float32)\n",
    "        qdata = np.array(qdata_df, dtype=np.float32)\n",
    "        rdt = np.divide(rdt, np.sum(rdt, axis=0, keepdims=True)) * 10000\n",
    "        rdata = np.log2(np.divide(rdata, np.sum(rdata, axis=0, keepdims=True)) * 10000 + 1)\n",
    "        qdata = np.log2(np.divide(qdata, np.sum(qdata, axis=0, keepdims=True)) * 10000 + 1)\n",
    "\n",
    "        rdt = pd.DataFrame(data=rdt, columns=rdt_df.columns, index=rdt_df.index)\n",
    "        rdata = pd.DataFrame(data=rdata, columns=rdata_df.columns, index=rdata_df.index)\n",
    "        qdata = pd.DataFrame(data=qdata, columns=qdata_df.columns, index=qdata_df.index)\n",
    "    #print(rdt.head())\n",
    "    #print(rdata.head())\n",
    "    # match gene ensembl ids between the query data and the reference data\n",
    "    nm = qdata.index.tolist()\n",
    "    zg = pd.DataFrame(data=nm, columns=['gene'])\n",
    "    gid = []\n",
    "    for i in range(0, len(nm)):\n",
    "      if nm[i] not in rdata.index.tolist():\n",
    "        zg.iloc[i] = ''\n",
    "      else:\n",
    "        gid = gid + [nm[i]]\n",
    "    qdata = qdata.loc[gid, :]\n",
    "    rdata = rdata.loc[gid, :]\n",
    "    rdt = rdt.loc[gid, :]\n",
    "\n",
    "    rlabel.index = rdata.columns\n",
    "\n",
    "    if not marker:\n",
    "        train_x = rdata\n",
    "        train_y = rlabel\n",
    "        test_x = qdata\n",
    "    else:\n",
    "        # calculate important genes\n",
    "        phi = fphi(rdt)\n",
    "        rho = frho(rdt)\n",
    "        mkh, mkl = fmkg(phi, rho, thrh, thrl)\n",
    "        mkg = np.unique(np.append(np.array(mkh).reshape(1, -1), np.array(mkl).reshape(1, -1)))\n",
    "\n",
    "        # return training set and testing set\n",
    "        train_x = rdata.loc[mkg, :]\n",
    "        train_y = rlabel\n",
    "        test_x = qdata.loc[mkg, :]\n",
    "    return train_x, test_x, train_y\n"
   ]
  },
  {
   "cell_type": "code",
   "execution_count": null,
   "id": "7a228079-0871-4834-8233-f0f00591ad0e",
   "metadata": {},
   "outputs": [],
   "source": [
    "\n",
    "r_data_tmp = rdata.copy()\n",
    "q_data_tmp = qdata.copy()\n",
    "r_label_tmp = rlabel.copy()\n",
    "train_x, test_x, train_y = get_expression(r_data_tmp,\n",
    "                                              q_data_tmp,\n",
    "                                              r_label_tmp,\n",
    "                                              thrh=0.90,\n",
    "                                              thrl=0.90,\n",
    "                                              normalization=True,\n",
    "                                              marker=True)"
   ]
  },
  {
   "cell_type": "code",
   "execution_count": null,
   "id": "2d2d6ce4-dfb7-469f-9033-bbc7faf03e92",
   "metadata": {},
   "outputs": [],
   "source": [
    "train_x"
   ]
  },
  {
   "cell_type": "code",
   "execution_count": null,
   "id": "b1f88ac4-c927-4098-8f17-f4e282df95d1",
   "metadata": {},
   "outputs": [],
   "source": [
    "train_y"
   ]
  },
  {
   "cell_type": "code",
   "execution_count": null,
   "id": "c2aef732-0480-4718-94b2-30736798af83",
   "metadata": {},
   "outputs": [],
   "source": [
    "train_y.diagnosis.value_counts()"
   ]
  },
  {
   "cell_type": "code",
   "execution_count": null,
   "id": "fc167a29-f834-4964-b059-13ebb6842183",
   "metadata": {},
   "outputs": [],
   "source": [
    "test_x"
   ]
  },
  {
   "cell_type": "code",
   "execution_count": null,
   "id": "fd9b4920-7f10-419f-b404-1cd72ad30171",
   "metadata": {},
   "outputs": [],
   "source": [
    "ensembl_pathway_relation = '../../usman/CellTICS/reactome/Ensembl2Reactome_All_Levels.txt'\n",
    "species = 'human'\n",
    "pathway_names = '../../usman/CellTICS/reactome/ReactomePathways.txt'\n",
    "pathway_relation = '../../usman/CellTICS/reactome/ReactomePathwaysRelation.txt'\n",
    "datatype = 'diagnosis'\n",
    "n_hidden = 5"
   ]
  },
  {
   "cell_type": "code",
   "execution_count": null,
   "id": "ea92cfcc-1f48-48a4-a0c8-760b5961ed0a",
   "metadata": {},
   "outputs": [],
   "source": [
    "pathway_genes = get_gene_pathways(ensembl_pathway_relation, species=species)"
   ]
  },
  {
   "cell_type": "code",
   "execution_count": null,
   "id": "09c9f9e2-935d-46a9-b86f-825123ffeeee",
   "metadata": {},
   "outputs": [],
   "source": [
    "#set(pathway_genes.gene)-set(test_x.index)"
   ]
  },
  {
   "cell_type": "code",
   "execution_count": null,
   "id": "83367bb5-95eb-4715-928b-37ec381acfe0",
   "metadata": {},
   "outputs": [],
   "source": [
    "masking, layers_node, train_x, test_x = get_masking(pathway_names,\n",
    "                                                        pathway_genes,\n",
    "                                                        pathway_relation,\n",
    "                                                        train_x,\n",
    "                                                        test_x,\n",
    "                                                        train_y,\n",
    "                                                        datatype,\n",
    "                                                        species,\n",
    "                                                        n_hidden)"
   ]
  },
  {
   "cell_type": "code",
   "execution_count": null,
   "id": "947a0dbb-5fe7-48d5-80f4-964d2efbd8f5",
   "metadata": {},
   "outputs": [],
   "source": [
    "masking[2].shape"
   ]
  },
  {
   "cell_type": "code",
   "execution_count": null,
   "id": "2c4d808a-43a6-4d1f-87f8-5cfa7e16e469",
   "metadata": {},
   "outputs": [],
   "source": [
    "masking[2]"
   ]
  },
  {
   "cell_type": "code",
   "execution_count": null,
   "id": "21f4978a-7822-4d48-afa2-708f9a2fb2ce",
   "metadata": {},
   "outputs": [],
   "source": [
    "train_x"
   ]
  },
  {
   "cell_type": "code",
   "execution_count": null,
   "id": "7e3a749c-7072-4c71-beb6-21057380c770",
   "metadata": {},
   "outputs": [],
   "source": [
    "test_x"
   ]
  },
  {
   "cell_type": "code",
   "execution_count": null,
   "id": "6365ab2d-46b8-473a-8b75-e8b54ceab56f",
   "metadata": {},
   "outputs": [],
   "source": [
    "#pd.DataFrame(test_x.index).to_csv('../../preprocessed_data/inhibitory_neuron/marker_genes.csv', index=False)"
   ]
  },
  {
   "cell_type": "code",
   "execution_count": null,
   "id": "12c1f84b-3130-4129-b807-064c217d4a9b",
   "metadata": {},
   "outputs": [],
   "source": [
    "train_x.T"
   ]
  },
  {
   "cell_type": "code",
   "execution_count": null,
   "id": "47a99354-1bad-4216-9cc7-12840888017b",
   "metadata": {},
   "outputs": [],
   "source": [
    "train_y"
   ]
  },
  {
   "cell_type": "code",
   "execution_count": null,
   "id": "4fc8ec16-f4a2-44bf-b7c9-7da47f9b77fa",
   "metadata": {},
   "outputs": [],
   "source": [
    "diagnosis_mapping = {'AD_with_Plaques': 1, 'NCI_with_No_Plaques': 0}\n",
    "train_y['diagnosis_binary'] = train_y['diagnosis'].map(diagnosis_mapping)\n",
    "\n",
    "# Display the first few rows to verify the mapping\n",
    "print(train_y.head())\n",
    "train_y.drop(columns=['diagnosis'], inplace=True)\n",
    "train_y"
   ]
  },
  {
   "cell_type": "code",
   "execution_count": null,
   "id": "fc9be8f3-a46a-4ae1-9a1d-67cccac99006",
   "metadata": {},
   "outputs": [],
   "source": [
    "qlabel"
   ]
  },
  {
   "cell_type": "code",
   "execution_count": null,
   "id": "732b2a38-d803-4b4f-ac4e-c019be91a7a4",
   "metadata": {},
   "outputs": [],
   "source": [
    "try:\n",
    "    diagnosis_mapping = {'AD_with_Plaques': 1, 'NCI_with_No_Plaques': 0}\n",
    "    qlabel['diagnosis_binary'] = qlabel['diagnosis'].map(diagnosis_mapping)\n",
    "    \n",
    "    # Display the first few rows to verify the mapping\n",
    "    print(qlabel.head())\n",
    "    qlabel.drop(columns=['diagnosis'], inplace=True)\n",
    "    qlabel\n",
    "\n",
    "except:\n",
    "    print('Previously Run Before')"
   ]
  },
  {
   "cell_type": "code",
   "execution_count": null,
   "id": "d03936a4-ef5b-4cc2-86aa-2287d1cd6b01",
   "metadata": {},
   "outputs": [],
   "source": [
    "import torch\n",
    "from torch.utils.data import Dataset, DataLoader\n",
    "import pandas as pd\n",
    "\n",
    "class TabularDataset(Dataset):\n",
    "    def __init__(self, count_matrix, label):\n",
    "        # Read the CSV file\n",
    "        self.data = count_matrix\n",
    "        # Separate features and target\n",
    "        self.features = self.data.values\n",
    "        self.target = label.values\n",
    "    \n",
    "    def __len__(self):\n",
    "        return len(self.data)\n",
    "    \n",
    "    def __getitem__(self, idx):\n",
    "        # Get features and target for a given index\n",
    "        features = torch.tensor(self.features[idx], dtype=torch.float32)\n",
    "        target = torch.tensor(self.target[idx], dtype=torch.float32)\n",
    "        return features, target\n",
    "\n",
    "# Example usage\n",
    "\n"
   ]
  },
  {
   "cell_type": "code",
   "execution_count": null,
   "id": "1901d316-2738-464b-9074-41a0ef2ca039",
   "metadata": {},
   "outputs": [],
   "source": [
    "qlabel"
   ]
  },
  {
   "cell_type": "code",
   "execution_count": null,
   "id": "181ee5b3-4d91-4d14-8f61-5c9daab89b2d",
   "metadata": {},
   "outputs": [],
   "source": [
    "train_y"
   ]
  },
  {
   "cell_type": "code",
   "execution_count": null,
   "id": "3a3e1ccd-08c2-45eb-b30b-8531d07852a7",
   "metadata": {},
   "outputs": [],
   "source": [
    "val_x = train_x.T.iloc[40000:,]\n",
    "val_y = train_y.iloc[40000:,]\n",
    "train_x = train_x.T.iloc[0:40000,]\n",
    "train_y = train_y.iloc[0:40000,]\n"
   ]
  },
  {
   "cell_type": "code",
   "execution_count": null,
   "id": "0e9ae3f2-675c-45b6-8893-4238202fa2c7",
   "metadata": {},
   "outputs": [],
   "source": [
    "train_dataset = TabularDataset(train_x,train_y)\n",
    "val_dataset = TabularDataset(val_x,val_y)\n",
    "test_dataset = TabularDataset(test_x.T,qlabel)"
   ]
  },
  {
   "cell_type": "code",
   "execution_count": null,
   "id": "df832a5b-69e3-4a78-8688-da267b38db30",
   "metadata": {},
   "outputs": [],
   "source": [
    "val_x"
   ]
  },
  {
   "cell_type": "code",
   "execution_count": null,
   "id": "b058625e-5d59-4bc3-8359-766f22f55474",
   "metadata": {},
   "outputs": [],
   "source": [
    "qlabel"
   ]
  },
  {
   "cell_type": "code",
   "execution_count": null,
   "id": "f0755769-eed7-4fbb-aa59-ff1302fe8d78",
   "metadata": {},
   "outputs": [],
   "source": [
    "masking[0].shape, len(layers_node[1])"
   ]
  },
  {
   "cell_type": "code",
   "execution_count": null,
   "id": "1e6b3d48-9c50-4b05-8e1a-3884cd8d66b1",
   "metadata": {},
   "outputs": [],
   "source": [
    "masking[1].shape, len(layers_node[2])"
   ]
  },
  {
   "cell_type": "code",
   "execution_count": null,
   "id": "01ab2870-e147-4900-82b5-ee28eddc10f1",
   "metadata": {},
   "outputs": [],
   "source": [
    "masking[2].shape, len(layers_node[3])"
   ]
  },
  {
   "cell_type": "code",
   "execution_count": null,
   "id": "203eaf52-825c-49aa-8ad3-3359958fd0ce",
   "metadata": {},
   "outputs": [],
   "source": [
    "masking = list(masking.values())\n",
    "layers_node = list(layers_node.values())"
   ]
  },
  {
   "cell_type": "code",
   "execution_count": null,
   "id": "21b3edc4-e47e-433b-bbef-77aa6289184e",
   "metadata": {
    "scrolled": true
   },
   "outputs": [],
   "source": [
    " import numpy as np\n",
    "import torch\n",
    "import torch.nn as nn\n",
    "import torch.optim as optim\n",
    "import torch.nn.functional as F\n",
    "\n",
    "\n",
    "#for output_layer in range(2, len(masking) + 2):       -->n\n",
    "class CustomNetwork(nn.Module):\n",
    "    def __init__(self, layers_node, n, masking):\n",
    "        super(CustomNetwork, self).__init__()\n",
    "        self.layers = nn.ModuleList()\n",
    "        self.masks = []\n",
    "        self.gamma = 0.0001\n",
    "\n",
    "        for i in range(n-1):\n",
    "            #print(-1-i)\n",
    "            #print(layers_node[-1-i])\n",
    "            in_features = len(layers_node[-1-i])\n",
    "            out_features = len(layers_node[-1-i-1])\n",
    "            self.layers.append(nn.Linear(in_features, out_features, bias=False))\n",
    "            self.masks.append(masking[-1-i])\n",
    "\n",
    "        self.layers.append(nn.Linear(len(layers_node[-n]), len(layers_node[0])-1))\n",
    "        self.masks = [torch.tensor(mask, dtype=torch.float32) for mask in self.masks]\n",
    "\n",
    "\n",
    "    def forward(self, x):\n",
    "        for i, layer in enumerate(self.layers[:-1]):\n",
    "            mask = self.masks[i]\n",
    "            #print(mask[0].shape)\n",
    "            layer.weight.data *= mask\n",
    "            #print(layer(x).shape)\n",
    "            x = layer(x)\n",
    "            \n",
    "            '''\n",
    "            x = x.unsqueeze(2)\n",
    "            print('x shape before multi: ',x.shape)\n",
    "            print('shape of mask: ', mask.shape )\n",
    "            x =  x*mask\n",
    "            x = x.squeeze(2)\n",
    "            x = torch.tanh(x)\n",
    "            '''\n",
    "            x = torch.relu(x)\n",
    "            #print('x shape: ',x.shape)\n",
    "        #print(x.shape)\n",
    "        \n",
    "        x = self.layers[-1](x)\n",
    "        return x\n"
   ]
  },
  {
   "cell_type": "code",
   "execution_count": null,
   "id": "bec154e2-cebc-42c3-b0d7-9e8bdd046bb9",
   "metadata": {},
   "outputs": [],
   "source": [
    "def evaluate(model, dataloader):\n",
    "    model.eval()  # Set the model to evaluation mode\n",
    "    correct = 0\n",
    "    total = 0\n",
    "    predicted_list = []\n",
    "    labels_list = []\n",
    "    \n",
    "    with torch.no_grad():  # No need to compute gradients during evaluation\n",
    "        for features, labels in dataloader:\n",
    "            outputs = model(features)\n",
    "            #print(outputs)\n",
    "            predicted = torch.round(torch.sigmoid(outputs.data))\n",
    "            #print(outputs)\n",
    "            #print(predicted)\n",
    "            #_, predicted = torch.sigmoid(outputs.data)\n",
    "            predicted_list.append(predicted)\n",
    "            labels_list.append(labels)\n",
    "            total += labels.size(0)\n",
    "            correct += (predicted == labels).sum().item()\n",
    "    #print(total)\n",
    "    accuracy = 100 * correct / total\n",
    "    return accuracy, predicted_list, labels_list"
   ]
  },
  {
   "cell_type": "code",
   "execution_count": null,
   "id": "55b46c87-92a9-41b4-988b-8d2fce7cc2d1",
   "metadata": {},
   "outputs": [],
   "source": [
    "from tqdm import tqdm\n",
    "from torch.optim.lr_scheduler import ReduceLROnPlateau\n",
    "\n",
    "def model(train_dataloader , val_dataloader, layers_node, masking, output_layer, learning_rate=0.001, num_epochs=50):\n",
    "\n",
    "    model = CustomNetwork(layers_node, output_layer, masking)\n",
    "    optimizer = optim.Adam(model.parameters(), lr=learning_rate)  # Using SGD with momentum\n",
    "    criterion = nn.BCEWithLogitsLoss()\n",
    "    scheduler = ReduceLROnPlateau(optimizer, mode='max', factor=0.1, patience=5, verbose=True)\n",
    "    patience = 20\n",
    "    best_val_accuracy = 0.0\n",
    "    epochs_no_improve = 0\n",
    "    early_stop = False\n",
    "    \n",
    "    for epoch in tqdm(range(num_epochs)):\n",
    "        if early_stop:\n",
    "            print(\"Early stopping\")\n",
    "            break\n",
    "        epoch_cost = 0.\n",
    "        \n",
    "        for batch_features,batch_targets in train_dataloader:\n",
    "            outputs = model(batch_features)\n",
    "            #print(outputs)\n",
    "            #print(batch_targets)\n",
    "            #print(outputs)\n",
    "            loss = criterion(outputs, batch_targets)\n",
    "            \n",
    "            optimizer.zero_grad()\n",
    "            loss.backward()\n",
    "            optimizer.step()\n",
    "            \n",
    "        \n",
    "        train_accuracy, predicted_list_train, labels_list_train = evaluate(model, train_dataloader)\n",
    "        val_accuracy, predicted_list_val, labels_list_val = evaluate(model, val_dataloader)\n",
    "        scheduler.step(val_accuracy)\n",
    "        print(f'Epoch [{epoch+1}/{num_epochs}], Loss: {loss.item():.4f}, Train_accuracy: {train_accuracy}, Val_accuracy: {val_accuracy}')\n",
    "\n",
    "        if val_accuracy > best_val_accuracy:\n",
    "            best_val_accuracy = val_accuracy\n",
    "            epochs_no_improve = 0\n",
    "        # Save the best model\n",
    "            torch.save(model.state_dict(), f'best_model_{output_layer}.pth')\n",
    "            print('Model saved.')\n",
    "        else:\n",
    "            epochs_no_improve += 1\n",
    "    \n",
    "        # Early stopping\n",
    "        if epochs_no_improve >= patience:\n",
    "            early_stop = True\n",
    "            print(\"Early stopping triggered\")\n",
    "        \n",
    "    \n",
    "    train_accuracy, predicted_list_train, labels_list_train = evaluate(model, train_dataloader)\n",
    "    val_accuracy, predicted_list_val, labels_list_val = evaluate(model, val_dataloader)\n",
    "    \n",
    "    output_train = (predicted_list_train, labels_list_train)\n",
    "    output_val = (predicted_list_val, labels_list_val)\n",
    "    \n",
    "    return output_train, output_val,model"
   ]
  },
  {
   "cell_type": "code",
   "execution_count": null,
   "id": "46b7950f-3b88-4e40-a104-b7608b808a37",
   "metadata": {},
   "outputs": [],
   "source": [
    "torch.round(torch.sigmoid(torch.tensor([0.4,0.8])))"
   ]
  },
  {
   "cell_type": "code",
   "execution_count": null,
   "id": "38a3d963-ef52-4af7-8ff2-b3d1e5d1849f",
   "metadata": {},
   "outputs": [],
   "source": [
    "\n",
    "#from neural_network import *\n",
    "print_information = True\n",
    "num_epochs = 500\n",
    "learning_rate = 0.01\n",
    "batch_size = 2048\n",
    "l2_regularization = 0.00001\n",
    "print_cost = True\n",
    "\n",
    "\n",
    "# Create the DataLoader\n",
    "train_dataloader = DataLoader(train_dataset, batch_size=batch_size, shuffle=True)\n",
    "test_dataloader = DataLoader(test_dataset, batch_size=batch_size, shuffle= True)\n",
    "val_dataloader = DataLoader(val_dataset, batch_size=batch_size, shuffle= True)\n",
    "# Example of iterating through the DataLoader\n",
    "\n",
    "\n",
    "pred_y_df = pd.DataFrame(data=0, index=test_x.columns, columns=list(range(2, len(masking) + 2)))\n",
    "train_y_df = pd.DataFrame(data=0, index=train_x.columns, columns=list(range(2, len(masking) + 2)))\n",
    "#masking = list(masking.values())\n",
    "model_dict = dict()\n",
    "#layers_node = list(layers_node.values())\n",
    "activation_output = {}\n",
    "for output_layer in range(2, len(masking) + 2):\n",
    "    if print_information:\n",
    "        print(\"Current sub-neural network has \" + str(output_layer - 1) + \" hidden layers.\")\n",
    "    output_train, output_test,model_dict[output_layer] = model(train_dataloader,\n",
    "                                          val_dataloader,\n",
    "                                          layers_node,\n",
    "                                          masking,\n",
    "                                          output_layer,\n",
    "                                          learning_rate=learning_rate,num_epochs=num_epochs\n",
    "                                          )"
   ]
  },
  {
   "cell_type": "code",
   "execution_count": null,
   "id": "ee465466-3124-4032-ab3e-56f9acb94294",
   "metadata": {},
   "outputs": [],
   "source": [
    "model_dict"
   ]
  },
  {
   "cell_type": "code",
   "execution_count": null,
   "id": "0d364a0a-f5c1-49a0-93af-6dceef5494a7",
   "metadata": {},
   "outputs": [],
   "source": [
    "model_dict[2]"
   ]
  },
  {
   "cell_type": "code",
   "execution_count": null,
   "id": "4704e75b-97c7-4e7a-8c75-85b0305c1994",
   "metadata": {},
   "outputs": [],
   "source": [
    "model_dict[2].layers[0].weight.shape"
   ]
  },
  {
   "cell_type": "code",
   "execution_count": 124,
   "id": "af1c28b8-cb97-49bf-8f9c-bc3e098fd863",
   "metadata": {},
   "outputs": [
    {
     "data": {
      "text/plain": [
       "(28, 135)"
      ]
     },
     "execution_count": 124,
     "metadata": {},
     "output_type": "execute_result"
    }
   ],
   "source": [
    "masking[0].shape"
   ]
  },
  {
   "cell_type": "code",
   "execution_count": null,
   "id": "d90259b8-8120-411c-9643-1a16696a3781",
   "metadata": {},
   "outputs": [],
   "source": [
    "print(model_dict)"
   ]
  },
  {
   "cell_type": "code",
   "execution_count": null,
   "id": "8075db07-a146-474b-a513-9ed6a8a053b2",
   "metadata": {},
   "outputs": [],
   "source": [
    "!pip install wandb -Uq"
   ]
  },
  {
   "cell_type": "code",
   "execution_count": null,
   "id": "dc7441ad-be5e-462a-a082-4f67c9b2b931",
   "metadata": {},
   "outputs": [],
   "source": [
    "pred_y_df"
   ]
  },
  {
   "cell_type": "code",
   "execution_count": null,
   "id": "85feecb5-4c2e-4fea-ab3e-c5609f6579ed",
   "metadata": {},
   "outputs": [],
   "source": [
    "model_dict[2].layers[0].weight"
   ]
  },
  {
   "cell_type": "code",
   "execution_count": 84,
   "id": "89972661-b084-44b8-8254-da5cd9845183",
   "metadata": {},
   "outputs": [
    {
     "data": {
      "text/plain": [
       "(390, 1242)"
      ]
     },
     "execution_count": 84,
     "metadata": {},
     "output_type": "execute_result"
    }
   ],
   "source": [
    "masking[2].shape"
   ]
  },
  {
   "cell_type": "code",
   "execution_count": 91,
   "id": "8cf46b65-a7bd-4b84-bc8b-0797a8776c15",
   "metadata": {},
   "outputs": [
    {
     "data": {
      "text/plain": [
       "Parameter containing:\n",
       "tensor([[0.0000, -0.0000, -0.0000,  ..., -0.0000, -0.0000, 0.0000],\n",
       "        [-0.0000, 0.0000, -0.0000,  ..., -0.0000, 0.0000, 0.0000],\n",
       "        [-0.0000, -0.0000, 0.0000,  ..., -0.0000, -0.0000, -0.0000],\n",
       "        ...,\n",
       "        [-0.0000, 0.0674, -0.0000,  ..., -0.0000, -0.0000, -0.0000],\n",
       "        [0.0000, 0.0000, 0.0000,  ..., 0.0000, 0.0000, 0.0000],\n",
       "        [0.0000, 0.0000, 0.0000,  ..., 0.0000, -0.0000, -0.0000]],\n",
       "       requires_grad=True)"
      ]
     },
     "execution_count": 91,
     "metadata": {},
     "output_type": "execute_result"
    }
   ],
   "source": [
    "model_dict[2].layers[0].weight"
   ]
  },
  {
   "cell_type": "code",
   "execution_count": 106,
   "id": "666ed806-a2de-4f4b-adce-c5a9d3c4cd56",
   "metadata": {},
   "outputs": [
    {
     "name": "stderr",
     "output_type": "stream",
     "text": [
      "/tmp/ipykernel_888033/1061644972.py:1: UserWarning: To copy construct from a tensor, it is recommended to use sourceTensor.clone().detach() or sourceTensor.clone().detach().requires_grad_(True), rather than torch.tensor(sourceTensor).\n",
      "  torch.nonzero(torch.tensor(model_dict[4].layers[2].weight)).squeeze()\n"
     ]
    },
    {
     "data": {
      "text/plain": [
       "tensor([[  0,  27],\n",
       "        [  0,  33],\n",
       "        [  0,  37],\n",
       "        [  0,  42],\n",
       "        [  0,  98],\n",
       "        [  0, 100],\n",
       "        [  0, 112],\n",
       "        [  0, 127],\n",
       "        [  1,   8],\n",
       "        [  1,  23],\n",
       "        [  1,  25],\n",
       "        [  1,  32],\n",
       "        [  1,  44],\n",
       "        [  1,  53],\n",
       "        [  1,  56],\n",
       "        [  1,  73],\n",
       "        [  1,  83],\n",
       "        [  1,  92],\n",
       "        [  1,  93],\n",
       "        [  1,  97],\n",
       "        [  1, 105],\n",
       "        [  1, 107],\n",
       "        [  1, 129],\n",
       "        [  1, 141],\n",
       "        [  2, 106],\n",
       "        [  3,   3],\n",
       "        [  3,  13],\n",
       "        [  3,  18],\n",
       "        [  3,  28],\n",
       "        [  3,  41],\n",
       "        [  3,  59],\n",
       "        [  3,  71],\n",
       "        [  3,  79],\n",
       "        [  3,  95],\n",
       "        [  3, 104],\n",
       "        [  3, 110],\n",
       "        [  3, 111],\n",
       "        [  3, 126],\n",
       "        [  3, 137],\n",
       "        [  3, 138],\n",
       "        [  4, 108],\n",
       "        [  5,  31],\n",
       "        [  5,  47],\n",
       "        [  5,  54],\n",
       "        [  5,  55],\n",
       "        [  5,  63],\n",
       "        [  5,  68],\n",
       "        [  5,  96],\n",
       "        [  6,   7],\n",
       "        [  6,  20],\n",
       "        [  6, 119],\n",
       "        [  7,   6],\n",
       "        [  7,   9],\n",
       "        [  8,   2],\n",
       "        [  8, 109],\n",
       "        [  9,  52],\n",
       "        [  9, 122],\n",
       "        [ 10,  17],\n",
       "        [ 10,  36],\n",
       "        [ 10,  38],\n",
       "        [ 10,  45],\n",
       "        [ 10,  60],\n",
       "        [ 10,  61],\n",
       "        [ 10,  69],\n",
       "        [ 10,  78],\n",
       "        [ 10,  88],\n",
       "        [ 10, 117],\n",
       "        [ 11,  14],\n",
       "        [ 11,  65],\n",
       "        [ 11,  72],\n",
       "        [ 11,  82],\n",
       "        [ 11, 134],\n",
       "        [ 12,   1],\n",
       "        [ 12,  12],\n",
       "        [ 12,  57],\n",
       "        [ 12,  58],\n",
       "        [ 12,  81],\n",
       "        [ 12, 116],\n",
       "        [ 12, 123],\n",
       "        [ 13,  43],\n",
       "        [ 13,  94],\n",
       "        [ 13, 124],\n",
       "        [ 14,   4],\n",
       "        [ 14,  90],\n",
       "        [ 15,  40],\n",
       "        [ 15,  74],\n",
       "        [ 15, 108],\n",
       "        [ 15, 115],\n",
       "        [ 16,  16],\n",
       "        [ 16,  24],\n",
       "        [ 16,  39],\n",
       "        [ 16,  50],\n",
       "        [ 16,  62],\n",
       "        [ 16,  80],\n",
       "        [ 16,  86],\n",
       "        [ 16,  89],\n",
       "        [ 16, 114],\n",
       "        [ 16, 125],\n",
       "        [ 17, 118],\n",
       "        [ 18,  67],\n",
       "        [ 18, 133],\n",
       "        [ 19,  21],\n",
       "        [ 19,  51],\n",
       "        [ 19,  75],\n",
       "        [ 19,  77],\n",
       "        [ 19,  84],\n",
       "        [ 19, 121],\n",
       "        [ 19, 139],\n",
       "        [ 19, 142],\n",
       "        [ 20,  15],\n",
       "        [ 20,  48],\n",
       "        [ 20,  91],\n",
       "        [ 20, 135],\n",
       "        [ 21,  35],\n",
       "        [ 21,  70],\n",
       "        [ 21, 103],\n",
       "        [ 22,  19],\n",
       "        [ 22,  76],\n",
       "        [ 22, 140],\n",
       "        [ 23,  29],\n",
       "        [ 23,  64],\n",
       "        [ 23,  99],\n",
       "        [ 24,   5],\n",
       "        [ 24,  10],\n",
       "        [ 24,  22],\n",
       "        [ 24,  46],\n",
       "        [ 24,  49],\n",
       "        [ 24, 101],\n",
       "        [ 24, 102],\n",
       "        [ 24, 120],\n",
       "        [ 24, 131],\n",
       "        [ 25,  26],\n",
       "        [ 25,  34],\n",
       "        [ 25,  85],\n",
       "        [ 25, 113],\n",
       "        [ 25, 130],\n",
       "        [ 25, 136],\n",
       "        [ 26,   0],\n",
       "        [ 26,  11],\n",
       "        [ 26,  30],\n",
       "        [ 26,  87],\n",
       "        [ 27,  66],\n",
       "        [ 27, 128],\n",
       "        [ 27, 132]])"
      ]
     },
     "execution_count": 106,
     "metadata": {},
     "output_type": "execute_result"
    }
   ],
   "source": [
    "torch.nonzero(torch.tensor(model_dict[4].layers[2].weight)).squeeze()"
   ]
  },
  {
   "cell_type": "code",
   "execution_count": 107,
   "id": "f30399a7-963a-458c-9030-0d8d3fad4050",
   "metadata": {},
   "outputs": [
    {
     "data": {
      "text/plain": [
       "tensor([[  0,  27],\n",
       "        [  0,  33],\n",
       "        [  0,  37],\n",
       "        [  0,  42],\n",
       "        [  0,  98],\n",
       "        [  0, 100],\n",
       "        [  0, 112],\n",
       "        [  0, 127],\n",
       "        [  1,   8],\n",
       "        [  1,  23],\n",
       "        [  1,  25],\n",
       "        [  1,  32],\n",
       "        [  1,  44],\n",
       "        [  1,  53],\n",
       "        [  1,  56],\n",
       "        [  1,  73],\n",
       "        [  1,  83],\n",
       "        [  1,  92],\n",
       "        [  1,  93],\n",
       "        [  1,  97],\n",
       "        [  1, 105],\n",
       "        [  1, 107],\n",
       "        [  1, 129],\n",
       "        [  1, 141],\n",
       "        [  2, 106],\n",
       "        [  3,   3],\n",
       "        [  3,  13],\n",
       "        [  3,  18],\n",
       "        [  3,  28],\n",
       "        [  3,  41],\n",
       "        [  3,  59],\n",
       "        [  3,  71],\n",
       "        [  3,  79],\n",
       "        [  3,  95],\n",
       "        [  3, 104],\n",
       "        [  3, 110],\n",
       "        [  3, 111],\n",
       "        [  3, 126],\n",
       "        [  3, 137],\n",
       "        [  3, 138],\n",
       "        [  4, 108],\n",
       "        [  5,  31],\n",
       "        [  5,  47],\n",
       "        [  5,  54],\n",
       "        [  5,  55],\n",
       "        [  5,  63],\n",
       "        [  5,  68],\n",
       "        [  5,  96],\n",
       "        [  6,   7],\n",
       "        [  6,  20],\n",
       "        [  6, 119],\n",
       "        [  7,   6],\n",
       "        [  7,   9],\n",
       "        [  8,   2],\n",
       "        [  8, 109],\n",
       "        [  9,  52],\n",
       "        [  9, 122],\n",
       "        [ 10,  17],\n",
       "        [ 10,  36],\n",
       "        [ 10,  38],\n",
       "        [ 10,  45],\n",
       "        [ 10,  60],\n",
       "        [ 10,  61],\n",
       "        [ 10,  69],\n",
       "        [ 10,  78],\n",
       "        [ 10,  88],\n",
       "        [ 10, 117],\n",
       "        [ 11,  14],\n",
       "        [ 11,  65],\n",
       "        [ 11,  72],\n",
       "        [ 11,  82],\n",
       "        [ 11, 134],\n",
       "        [ 12,   1],\n",
       "        [ 12,  12],\n",
       "        [ 12,  57],\n",
       "        [ 12,  58],\n",
       "        [ 12,  81],\n",
       "        [ 12, 116],\n",
       "        [ 12, 123],\n",
       "        [ 13,  43],\n",
       "        [ 13,  94],\n",
       "        [ 13, 124],\n",
       "        [ 14,   4],\n",
       "        [ 14,  90],\n",
       "        [ 15,  40],\n",
       "        [ 15,  74],\n",
       "        [ 15, 108],\n",
       "        [ 15, 115],\n",
       "        [ 16,  16],\n",
       "        [ 16,  24],\n",
       "        [ 16,  39],\n",
       "        [ 16,  50],\n",
       "        [ 16,  62],\n",
       "        [ 16,  80],\n",
       "        [ 16,  86],\n",
       "        [ 16,  89],\n",
       "        [ 16, 114],\n",
       "        [ 16, 125],\n",
       "        [ 17, 118],\n",
       "        [ 18,  67],\n",
       "        [ 18, 133],\n",
       "        [ 19,  21],\n",
       "        [ 19,  51],\n",
       "        [ 19,  75],\n",
       "        [ 19,  77],\n",
       "        [ 19,  84],\n",
       "        [ 19, 121],\n",
       "        [ 19, 139],\n",
       "        [ 19, 142],\n",
       "        [ 20,  15],\n",
       "        [ 20,  48],\n",
       "        [ 20,  91],\n",
       "        [ 20, 135],\n",
       "        [ 21,  35],\n",
       "        [ 21,  70],\n",
       "        [ 21, 103],\n",
       "        [ 22,  19],\n",
       "        [ 22,  76],\n",
       "        [ 22, 140],\n",
       "        [ 23,  29],\n",
       "        [ 23,  64],\n",
       "        [ 23,  99],\n",
       "        [ 24,   5],\n",
       "        [ 24,  10],\n",
       "        [ 24,  22],\n",
       "        [ 24,  46],\n",
       "        [ 24,  49],\n",
       "        [ 24, 101],\n",
       "        [ 24, 102],\n",
       "        [ 24, 120],\n",
       "        [ 24, 131],\n",
       "        [ 25,  26],\n",
       "        [ 25,  34],\n",
       "        [ 25,  85],\n",
       "        [ 25, 113],\n",
       "        [ 25, 130],\n",
       "        [ 25, 136],\n",
       "        [ 26,   0],\n",
       "        [ 26,  11],\n",
       "        [ 26,  30],\n",
       "        [ 26,  87],\n",
       "        [ 27,  66],\n",
       "        [ 27, 128],\n",
       "        [ 27, 132]])"
      ]
     },
     "execution_count": 107,
     "metadata": {},
     "output_type": "execute_result"
    }
   ],
   "source": [
    "non_zero_indices_flat = torch.nonzero(torch.tensor(masking[0])).squeeze()\n",
    "non_zero_indices_flat "
   ]
  },
  {
   "cell_type": "code",
   "execution_count": null,
   "id": "e9f7f6b0-cdd8-42e9-b838-e069cf22d782",
   "metadata": {},
   "outputs": [],
   "source": [
    "'''\n",
    "    train_y_df[output_layer] = get_prediction(output_train[output_layer],\n",
    "                                                 pd.get_dummies(train_y['diagnosis']),\n",
    "                                                 train_x,\n",
    "                                                 datatype='diagnosis')\n",
    "\n",
    "    \n",
    "    for j in range(len(output_train)):\n",
    "        ctp_sort = layers_node[0]\n",
    "        ctp_sort.sort()\n",
    "        if j != output_layer - 1:\n",
    "            output_train[j + 1] = pd.DataFrame(data=output_train[j + 1],\n",
    "                                                   index=layers_node[len(layers_node) - 2 - j],\n",
    "                                                   columns=train_x.columns)\n",
    "        else:\n",
    "            output_train[j + 1] = pd.DataFrame(data=output_train[j + 1],\n",
    "                                                   index=ctp_sort,\n",
    "                                                   columns=train_x.columns)\n",
    "    activation_output[output_layer] = output_train\n",
    "    pred_y_df[output_layer] = get_prediction(output_test[output_layer],\n",
    "                                                 pd.get_dummies(train_y['diagnosis']),\n",
    "                                                 test_x,\n",
    "                                                 datatype='diagnosis')\n",
    "    \n",
    "pred_test_y = pd.DataFra000me(data=0, index=test_x.columns, columns=['diagnosis'])\n",
    "pred_test_y['diagnosis'] = pred_y_df.T.describe().T['top']\n",
    "\n",
    "pred_train_y = pd.DataFrame(data=0, index= train_x.columns, columns=['diagnosis'])\n",
    "pred_train_y['diagnosis'] = train_y_df.T.describe().T['top']'''"
   ]
  },
  {
   "cell_type": "code",
   "execution_count": null,
   "id": "7d4dfe8d-ac4a-4ab6-8b8b-d55e02531bee",
   "metadata": {},
   "outputs": [],
   "source": [
    "train_y"
   ]
  },
  {
   "cell_type": "code",
   "execution_count": null,
   "id": "5d536e5c-1ad5-4431-b2cb-10591afdf8af",
   "metadata": {},
   "outputs": [],
   "source": [
    "import torch\n",
    "\n",
    "# Example tensors\n",
    "x = torch.randn(1024, 216, 1)  # Shape: [1024, 216, 1]\n",
    "mask = torch.randn(1024, 216, 159)  # Shape: [1024, 216, 159]\n",
    "\n",
    "# Perform element-wise multiplication\n",
    "result = mask * x  # Shape: [1024, 216, 159]\n",
    "\n",
    "# Print shapes\n",
    "print(\"x shape:\", x.shape)\n",
    "print(\"mask shape:\", mask.shape)\n",
    "print(\"result shape:\", result.shape)\n",
    "\n"
   ]
  },
  {
   "cell_type": "code",
   "execution_count": null,
   "id": "5c888d49-ef5c-4b32-b041-450bcbef70ec",
   "metadata": {},
   "outputs": [],
   "source": [
    "labels = torch.randint(0, 2, (100,))  \n",
    "labels"
   ]
  },
  {
   "cell_type": "code",
   "execution_count": null,
   "id": "42e644a6-4af5-4e35-b2ab-f61042ca0ab5",
   "metadata": {},
   "outputs": [],
   "source": [
    "mask.shape"
   ]
  },
  {
   "cell_type": "code",
   "execution_count": null,
   "id": "5bd6154f-b2a3-42b3-99ed-ef87b9b6bffa",
   "metadata": {},
   "outputs": [],
   "source": [
    "result"
   ]
  },
  {
   "cell_type": "code",
   "execution_count": 108,
   "id": "7ba1ef44-1238-4541-a5de-fe5ef1b1b79b",
   "metadata": {},
   "outputs": [
    {
     "name": "stdout",
     "output_type": "stream",
     "text": [
      "Layer output: tensor([[ 1.8656, -0.9858]], grad_fn=<AddmmBackward0>)\n",
      "After tanh activation: tensor([[ 0.9532, -0.7556]], grad_fn=<TanhBackward0>)\n"
     ]
    }
   ],
   "source": [
    "import torch\n",
    "import torch.nn as nn\n",
    "\n",
    "# Define a simple linear layer\n",
    "layer = nn.Linear(3, 2)  # Linear layer with 3 input features and 2 output features\n",
    "\n",
    "# Input tensor\n",
    "x = torch.tensor([[1.0, 2.0, 3.0]])\n",
    "\n",
    "# Apply the layer\n",
    "layer_output = layer(x)\n",
    "\n",
    "# Apply the tanh activation function\n",
    "tanh_output = torch.tanh(layer_output)\n",
    "\n",
    "print(\"Layer output:\", layer_output)\n",
    "print(\"After tanh activation:\", tanh_output)"
   ]
  },
  {
   "cell_type": "code",
   "execution_count": 109,
   "id": "f983e9b7-bf48-4aaa-9ee3-e7df63b3b582",
   "metadata": {},
   "outputs": [
    {
     "data": {
      "text/plain": [
       "torch.Size([1, 2])"
      ]
     },
     "execution_count": 109,
     "metadata": {},
     "output_type": "execute_result"
    }
   ],
   "source": [
    "layer_output.shape"
   ]
  },
  {
   "cell_type": "code",
   "execution_count": null,
   "id": "7a49c10c-f91b-4e0f-badb-0087f1a00faf",
   "metadata": {
    "scrolled": true
   },
   "outputs": [],
   "source": []
  },
  {
   "cell_type": "code",
   "execution_count": null,
   "id": "bcaa4a26-e8f8-4f4f-b747-38806641a289",
   "metadata": {},
   "outputs": [],
   "source": [
    "sum(pred_train_y.diagnosis.values == rlabel.diagnosis.values)/len(pred_train_y)"
   ]
  },
  {
   "cell_type": "code",
   "execution_count": null,
   "id": "6d96327c-58f3-4c56-be5e-cc92dcb24ad9",
   "metadata": {},
   "outputs": [],
   "source": [
    "sum(pred_test_y.diagnosis.values == qlabel.diagnosis.values)/len(pred_test_y )"
   ]
  },
  {
   "cell_type": "code",
   "execution_count": null,
   "id": "28a95032-bab2-4264-a703-4a75f3f31089",
   "metadata": {},
   "outputs": [],
   "source": []
  },
  {
   "cell_type": "code",
   "execution_count": null,
   "id": "43cfde36-ecf3-409a-92dc-c6f9f9a8b8f2",
   "metadata": {},
   "outputs": [],
   "source": [
    "qlabel"
   ]
  },
  {
   "cell_type": "code",
   "execution_count": 110,
   "id": "a6648f2b-ab84-4d45-bf46-4925d0c4a96c",
   "metadata": {},
   "outputs": [
    {
     "name": "stdout",
     "output_type": "stream",
     "text": [
      "Layer output: tensor([[0.0911, 0.1891]], grad_fn=<AddmmBackward0>)\n",
      "After tanh activation: tensor([[0.0908, 0.1869]], grad_fn=<TanhBackward0>)\n"
     ]
    }
   ],
   "source": [
    "import torch\n",
    "import torch.nn as nn\n",
    "\n",
    "# Define a simple linear layer\n",
    "layer = nn.Linear(3, 2)  # Linear layer with 3 input features and 2 output features\n",
    "\n",
    "# Input tensor\n",
    "x = torch.tensor([[1.0, 2.0, 3.0]])\n",
    "\n",
    "# Apply the layer\n",
    "layer_output = layer(x)\n",
    "\n",
    "# Apply the tanh activation function\n",
    "tanh_output = torch.tanh(layer_output)\n",
    "\n",
    "print(\"Layer output:\", layer_output)\n",
    "print(\"After tanh activation:\", tanh_output)"
   ]
  },
  {
   "cell_type": "code",
   "execution_count": 111,
   "id": "31ab862b-a5f3-4136-a953-04d103a879d4",
   "metadata": {},
   "outputs": [
    {
     "data": {
      "text/plain": [
       "tensor([[0.0911, 0.1891]], grad_fn=<AddmmBackward0>)"
      ]
     },
     "execution_count": 111,
     "metadata": {},
     "output_type": "execute_result"
    }
   ],
   "source": [
    "layer_output"
   ]
  },
  {
   "cell_type": "code",
   "execution_count": 117,
   "id": "11a0a768-4830-4729-bb36-022cf602d277",
   "metadata": {},
   "outputs": [
    {
     "name": "stdout",
     "output_type": "stream",
     "text": [
      "Original weights:\n",
      "Parameter containing:\n",
      "tensor([[5., 5., 5.],\n",
      "        [5., 5., 5.]], requires_grad=True)\n",
      "Mask matrix:\n",
      "tensor([[1., 0., 1.],\n",
      "        [0., 1., 0.]])\n",
      "Sparse weights:\n",
      "Parameter containing:\n",
      "tensor([[5., 0., 5.],\n",
      "        [0., 5., 0.]], requires_grad=True)\n"
     ]
    }
   ],
   "source": [
    "import torch\n",
    "import torch.nn as nn\n",
    "\n",
    "# Step 1: Define the Linear Layer\n",
    "layer = nn.Linear(3, 2)\n",
    "\n",
    "# Initialize layer weights for demonstration\n",
    "nn.init.constant_(layer.weight, 5.0)\n",
    "nn.init.constant_(layer.bias, 0.0)\n",
    "\n",
    "print(\"Original weights:\")\n",
    "print(layer.weight)\n",
    "\n",
    "# Step 2: Create a Mask Matrix\n",
    "# Example mask matrix: 2x3, matching the shape of layer.weight\n",
    "mask = torch.tensor([[1, 0, 1],\n",
    "                     [0, 1, 0]], dtype=torch.float32)\n",
    "\n",
    "print(\"Mask matrix:\")\n",
    "print(mask)\n",
    "\n",
    "# Step 3: Apply the Mask\n",
    "# Element-wise multiplication of the layer's weights and the mask\n",
    "layer.weight.data *= mask\n",
    "\n",
    "print(\"Sparse weights:\")\n",
    "print(layer.weight)\n",
    "\n",
    "# Now you can use the layer in your model as usual.\n"
   ]
  },
  {
   "cell_type": "code",
   "execution_count": 120,
   "id": "242584e0-1c92-424f-b404-54c95bcf0b80",
   "metadata": {},
   "outputs": [
    {
     "data": {
      "text/plain": [
       "(28, 135)"
      ]
     },
     "execution_count": 120,
     "metadata": {},
     "output_type": "execute_result"
    }
   ],
   "source": [
    "masking[0].shape"
   ]
  },
  {
   "cell_type": "code",
   "execution_count": 112,
   "id": "2edd1e13-d702-4730-85e4-31034c56a291",
   "metadata": {},
   "outputs": [
    {
     "data": {
      "text/plain": [
       "Parameter containing:\n",
       "tensor([[-0.5483,  0.3901,  0.0170],\n",
       "        [ 0.1705,  0.3766, -0.3806]], requires_grad=True)"
      ]
     },
     "execution_count": 112,
     "metadata": {},
     "output_type": "execute_result"
    }
   ],
   "source": [
    "layer.weight"
   ]
  },
  {
   "cell_type": "code",
   "execution_count": 113,
   "id": "5a452b2c-79ed-4394-887d-a8f81b924bb7",
   "metadata": {},
   "outputs": [
    {
     "data": {
      "text/plain": [
       "torch.Size([2, 3])"
      ]
     },
     "execution_count": 113,
     "metadata": {},
     "output_type": "execute_result"
    }
   ],
   "source": [
    "layer.weight.shape"
   ]
  },
  {
   "cell_type": "code",
   "execution_count": 114,
   "id": "56008d09-aab5-48d6-8a93-59eeba7679c5",
   "metadata": {},
   "outputs": [
    {
     "data": {
      "text/plain": [
       "torch.Size([1, 3])"
      ]
     },
     "execution_count": 114,
     "metadata": {},
     "output_type": "execute_result"
    }
   ],
   "source": [
    "x.shape"
   ]
  },
  {
   "cell_type": "code",
   "execution_count": 115,
   "id": "42ad6c68-f6e2-4baf-89c9-6b26c1e23b0e",
   "metadata": {},
   "outputs": [
    {
     "data": {
      "text/plain": [
       "0.7911999999999999"
      ]
     },
     "execution_count": 115,
     "metadata": {},
     "output_type": "execute_result"
    }
   ],
   "source": [
    "-0.1207*1 + 0.5761*2 -0.0801*3"
   ]
  },
  {
   "cell_type": "code",
   "execution_count": null,
   "id": "f4c44666-4a10-4080-9480-c190b530db18",
   "metadata": {},
   "outputs": [],
   "source": [
    "-0.1207,  0.5761, -0.0801"
   ]
  },
  {
   "cell_type": "code",
   "execution_count": null,
   "id": "6755c25e-e8b2-46fa-8e7c-906c55dcc123",
   "metadata": {},
   "outputs": [],
   "source": [
    "(-0.3824*1) +  (0.5135*2) -(0.1200*3)"
   ]
  },
  {
   "cell_type": "code",
   "execution_count": null,
   "id": "49c35e56-ac27-490f-8df1-018342dad4bc",
   "metadata": {},
   "outputs": [],
   "source": [
    "import torch\n",
    "import torch.nn as nn\n",
    "\n",
    "# Define a simple linear layer\n",
    "layer = nn.Linear(3, 2, bias = False)  # Linear layer with 3 input features and 2 output features\n",
    "\n",
    "# Input tensor\n",
    "x = torch.tensor([[1.0, 2.0, 3.0]])\n",
    "\n",
    "# Apply the layer\n",
    "layer_output = layer(x)\n",
    "\n",
    "# Apply the tanh activation function\n",
    "tanh_output = torch.tanh(layer_output)\n",
    "\n",
    "print(\"Layer output:\", layer_output)\n",
    "print(\"After tanh activation:\", tanh_output)"
   ]
  },
  {
   "cell_type": "code",
   "execution_count": null,
   "id": "9dab1582-2d77-44df-bc5f-0748e389589c",
   "metadata": {},
   "outputs": [],
   "source": [
    "layer.weight.shape"
   ]
  },
  {
   "cell_type": "code",
   "execution_count": null,
   "id": "12683e48-30fd-436f-8d01-528dbf28ebd0",
   "metadata": {},
   "outputs": [],
   "source": [
    "x.shape"
   ]
  },
  {
   "cell_type": "code",
   "execution_count": null,
   "id": "7048a058-832b-4085-a757-850d88a5ce67",
   "metadata": {},
   "outputs": [],
   "source": [
    "# What nn.linear does\n",
    "\n",
    "torch.matmul(x,layer.weight.T)    \n"
   ]
  },
  {
   "cell_type": "code",
   "execution_count": null,
   "id": "778eff23-4ebf-431b-9e79-603534027e5f",
   "metadata": {},
   "outputs": [],
   "source": [
    "layer.weight"
   ]
  },
  {
   "cell_type": "code",
   "execution_count": null,
   "id": "3ecf3caa-e38f-497a-8fc4-cf1571eae053",
   "metadata": {},
   "outputs": [],
   "source": [
    "1*0.5236 -0.5384*2-0.4127*3"
   ]
  },
  {
   "cell_type": "code",
   "execution_count": null,
   "id": "64fd7b3e-7697-461f-8f75-91d106fcc0e9",
   "metadata": {},
   "outputs": [],
   "source": [
    "layer_output"
   ]
  },
  {
   "cell_type": "code",
   "execution_count": null,
   "id": "a28610ff-915f-49ac-9a7a-7f7da183b64a",
   "metadata": {},
   "outputs": [],
   "source": [
    "import torch\n",
    "\n",
    "# Create a batch of tensors\n",
    "num_samples = 1024\n",
    "num_features = 3\n",
    "x_batch = torch.randn(num_samples, num_features)  # Shape: [1024, 3]§\n",
    "\n",
    "# Print the shape and content of the batch\n",
    "print(\"x_batch shape:\", x_batch.shape)\n",
    "print(\"x_batch tensor:\", x_batch)\n"
   ]
  },
  {
   "cell_type": "code",
   "execution_count": null,
   "id": "7e6ec33d-7ddb-4542-a241-aae6740f054e",
   "metadata": {},
   "outputs": [],
   "source": [
    "layer = nn.Linear(3, 2, bias = False) "
   ]
  },
  {
   "cell_type": "code",
   "execution_count": null,
   "id": "a4fffec3-5c6c-466c-aea1-850a05a6b112",
   "metadata": {},
   "outputs": [],
   "source": [
    "layer.weight"
   ]
  },
  {
   "cell_type": "code",
   "execution_count": null,
   "id": "98d9b01c-2076-4d53-99bf-d45135435b06",
   "metadata": {},
   "outputs": [],
   "source": [
    "layer_output = layer(x_batch)"
   ]
  },
  {
   "cell_type": "code",
   "execution_count": null,
   "id": "eaa1aa77-c2aa-4b3b-ba0c-af8a9956e7b0",
   "metadata": {},
   "outputs": [],
   "source": [
    "layer_output "
   ]
  },
  {
   "cell_type": "code",
   "execution_count": null,
   "id": "83d90573-d194-4acb-87e4-129eb6a8a976",
   "metadata": {},
   "outputs": [],
   "source": [
    "1.3851 * -0.1641 + 0.2640 * 0.5494 + 0.1831 * -1.0035"
   ]
  },
  {
   "cell_type": "code",
   "execution_count": null,
   "id": "2eebf343-ebd3-4ad1-97c7-93083a111477",
   "metadata": {},
   "outputs": [],
   "source": []
  },
  {
   "cell_type": "code",
   "execution_count": null,
   "id": "50bdd3d1-c6c0-4bd8-af0b-886281a0db77",
   "metadata": {},
   "outputs": [],
   "source": []
  },
  {
   "cell_type": "code",
   "execution_count": null,
   "id": "838cf8de-fa87-4d0f-abb0-9e7a73a969be",
   "metadata": {},
   "outputs": [],
   "source": []
  },
  {
   "cell_type": "markdown",
   "id": "2ba6fbbb-526f-4ceb-86e7-1b240f373593",
   "metadata": {},
   "source": []
  },
  {
   "cell_type": "code",
   "execution_count": null,
   "id": "b3bbeffc-b225-44a5-b9a1-b15d02a4a876",
   "metadata": {},
   "outputs": [],
   "source": []
  }
 ],
 "metadata": {
  "kernelspec": {
   "display_name": "Python 3 (ipykernel)",
   "language": "python",
   "name": "python3"
  },
  "language_info": {
   "codemirror_mode": {
    "name": "ipython",
    "version": 3
   },
   "file_extension": ".py",
   "mimetype": "text/x-python",
   "name": "python",
   "nbconvert_exporter": "python",
   "pygments_lexer": "ipython3",
   "version": "3.12.2"
  }
 },
 "nbformat": 4,
 "nbformat_minor": 5
}
