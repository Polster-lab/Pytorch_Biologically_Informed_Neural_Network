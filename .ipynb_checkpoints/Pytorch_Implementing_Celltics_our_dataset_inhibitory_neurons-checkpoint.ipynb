{
 "cells": [
  {
   "cell_type": "code",
   "execution_count": 1,
   "id": "7d5cdb53-97f5-4257-81cd-bddeb027f895",
   "metadata": {},
   "outputs": [
    {
     "name": "stderr",
     "output_type": "stream",
     "text": [
      "2024-07-10 14:23:30.706704: I tensorflow/core/util/port.cc:113] oneDNN custom operations are on. You may see slightly different numerical results due to floating-point round-off errors from different computation orders. To turn them off, set the environment variable `TF_ENABLE_ONEDNN_OPTS=0`.\n",
      "2024-07-10 14:23:30.716012: E external/local_xla/xla/stream_executor/cuda/cuda_fft.cc:479] Unable to register cuFFT factory: Attempting to register factory for plugin cuFFT when one has already been registered\n",
      "2024-07-10 14:23:30.727919: E external/local_xla/xla/stream_executor/cuda/cuda_dnn.cc:10575] Unable to register cuDNN factory: Attempting to register factory for plugin cuDNN when one has already been registered\n",
      "2024-07-10 14:23:30.727937: E external/local_xla/xla/stream_executor/cuda/cuda_blas.cc:1442] Unable to register cuBLAS factory: Attempting to register factory for plugin cuBLAS when one has already been registered\n",
      "2024-07-10 14:23:30.737158: I tensorflow/core/platform/cpu_feature_guard.cc:210] This TensorFlow binary is optimized to use available CPU instructions in performance-critical operations.\n",
      "To enable the following instructions: AVX2 AVX512F AVX512_VNNI AVX512_BF16 FMA, in other operations, rebuild TensorFlow with the appropriate compiler flags.\n",
      "2024-07-10 14:23:31.112548: W tensorflow/compiler/tf2tensorrt/utils/py_utils.cc:38] TF-TRT Warning: Could not find TensorRT\n"
     ]
    }
   ],
   "source": [
    "import tensorflow as tf\n",
    "from gene_expression import *\n",
    "from pathway_hierarchy import *\n",
    "from utils import *\n",
    "import torch"
   ]
  },
  {
   "cell_type": "code",
   "execution_count": 2,
   "id": "ad23bd3a-7053-4dbd-8fd3-e2afa2788b4e",
   "metadata": {},
   "outputs": [
    {
     "name": "stdout",
     "output_type": "stream",
     "text": [
      "[PhysicalDevice(name='/physical_device:GPU:0', device_type='GPU')]\n"
     ]
    },
    {
     "name": "stderr",
     "output_type": "stream",
     "text": [
      "2024-07-10 14:23:47.073582: I external/local_xla/xla/stream_executor/cuda/cuda_executor.cc:998] successful NUMA node read from SysFS had negative value (-1), but there must be at least one NUMA node, so returning NUMA node zero. See more at https://github.com/torvalds/linux/blob/v6.0/Documentation/ABI/testing/sysfs-bus-pci#L344-L355\n",
      "2024-07-10 14:23:47.074264: I external/local_xla/xla/stream_executor/cuda/cuda_executor.cc:998] successful NUMA node read from SysFS had negative value (-1), but there must be at least one NUMA node, so returning NUMA node zero. See more at https://github.com/torvalds/linux/blob/v6.0/Documentation/ABI/testing/sysfs-bus-pci#L344-L355\n",
      "2024-07-10 14:23:47.074369: I external/local_xla/xla/stream_executor/cuda/cuda_executor.cc:998] successful NUMA node read from SysFS had negative value (-1), but there must be at least one NUMA node, so returning NUMA node zero. See more at https://github.com/torvalds/linux/blob/v6.0/Documentation/ABI/testing/sysfs-bus-pci#L344-L355\n"
     ]
    }
   ],
   "source": [
    "print(tf.config.list_physical_devices('GPU'))"
   ]
  },
  {
   "cell_type": "code",
   "execution_count": 3,
   "id": "0f67b552-3b72-4f66-8480-cd51321746bf",
   "metadata": {},
   "outputs": [],
   "source": [
    "import pandas as pd\n",
    "import numpy as np"
   ]
  },
  {
   "cell_type": "code",
   "execution_count": 4,
   "id": "35d2b45d-6ae0-4027-bf66-fe4a3ff6272a",
   "metadata": {},
   "outputs": [
    {
     "name": "stdout",
     "output_type": "stream",
     "text": [
      "WARNING:tensorflow:From /tmp/ipykernel_871765/337460670.py:1: is_gpu_available (from tensorflow.python.framework.test_util) is deprecated and will be removed in a future version.\n",
      "Instructions for updating:\n",
      "Use `tf.config.list_physical_devices('GPU')` instead.\n"
     ]
    },
    {
     "name": "stderr",
     "output_type": "stream",
     "text": [
      "2024-07-10 14:23:49.794936: I external/local_xla/xla/stream_executor/cuda/cuda_executor.cc:998] successful NUMA node read from SysFS had negative value (-1), but there must be at least one NUMA node, so returning NUMA node zero. See more at https://github.com/torvalds/linux/blob/v6.0/Documentation/ABI/testing/sysfs-bus-pci#L344-L355\n",
      "2024-07-10 14:23:49.795110: I external/local_xla/xla/stream_executor/cuda/cuda_executor.cc:998] successful NUMA node read from SysFS had negative value (-1), but there must be at least one NUMA node, so returning NUMA node zero. See more at https://github.com/torvalds/linux/blob/v6.0/Documentation/ABI/testing/sysfs-bus-pci#L344-L355\n",
      "2024-07-10 14:23:49.795206: I external/local_xla/xla/stream_executor/cuda/cuda_executor.cc:998] successful NUMA node read from SysFS had negative value (-1), but there must be at least one NUMA node, so returning NUMA node zero. See more at https://github.com/torvalds/linux/blob/v6.0/Documentation/ABI/testing/sysfs-bus-pci#L344-L355\n",
      "2024-07-10 14:23:49.939483: I external/local_xla/xla/stream_executor/cuda/cuda_executor.cc:998] successful NUMA node read from SysFS had negative value (-1), but there must be at least one NUMA node, so returning NUMA node zero. See more at https://github.com/torvalds/linux/blob/v6.0/Documentation/ABI/testing/sysfs-bus-pci#L344-L355\n",
      "2024-07-10 14:23:49.939612: I external/local_xla/xla/stream_executor/cuda/cuda_executor.cc:998] successful NUMA node read from SysFS had negative value (-1), but there must be at least one NUMA node, so returning NUMA node zero. See more at https://github.com/torvalds/linux/blob/v6.0/Documentation/ABI/testing/sysfs-bus-pci#L344-L355\n",
      "2024-07-10 14:23:49.939707: I external/local_xla/xla/stream_executor/cuda/cuda_executor.cc:998] successful NUMA node read from SysFS had negative value (-1), but there must be at least one NUMA node, so returning NUMA node zero. See more at https://github.com/torvalds/linux/blob/v6.0/Documentation/ABI/testing/sysfs-bus-pci#L344-L355\n",
      "2024-07-10 14:23:49.939794: I tensorflow/core/common_runtime/gpu/gpu_device.cc:1928] Created device /device:GPU:0 with 868 MB memory:  -> device: 0, name: NVIDIA RTX 6000 Ada Generation, pci bus id: 0000:01:00.0, compute capability: 8.9\n"
     ]
    },
    {
     "data": {
      "text/plain": [
       "True"
      ]
     },
     "execution_count": 4,
     "metadata": {},
     "output_type": "execute_result"
    }
   ],
   "source": [
    "tf.test.is_gpu_available()"
   ]
  },
  {
   "cell_type": "code",
   "execution_count": 5,
   "id": "e0b9768d-f539-432e-aac3-7fae8725b8ea",
   "metadata": {},
   "outputs": [
    {
     "data": {
      "text/plain": [
       "True"
      ]
     },
     "execution_count": 5,
     "metadata": {},
     "output_type": "execute_result"
    }
   ],
   "source": [
    "torch.cuda.is_available()\n"
   ]
  },
  {
   "cell_type": "code",
   "execution_count": null,
   "id": "a2b271dd-a27d-46c2-a6a0-599b56652736",
   "metadata": {},
   "outputs": [],
   "source": [
    "rdata = pd.read_csv('../../usman/Single_Cell_Microglia_Project/preprocessed_data/inhibitory_neuron/train_test_set/train_count_matrix.csv', index_col=0)\n",
    "qdata = pd.read_csv('../../usman/Single_Cell_Microglia_Project/preprocessed_data/inhibitory_neuron/train_test_set/test_count_matrix.csv', index_col=0)\n",
    "rlabel = pd.read_csv('../../usman/Single_Cell_Microglia_Project/preprocessed_data/inhibitory_neuron/train_test_set/train_label.csv')\n",
    "qlabel = pd.read_csv('../../usman/Single_Cell_Microglia_Project/preprocessed_data/inhibitory_neuron/train_test_set/test_label.csv')"
   ]
  },
  {
   "cell_type": "code",
   "execution_count": null,
   "id": "a6f78476-e380-4781-84ee-85c7eaf73454",
   "metadata": {},
   "outputs": [],
   "source": [
    "single_cell_metadata = pd.read_csv('../../usman/Single_Cell_Microglia_Project/preprocessed_data/inhibitory_neuron/metadata_inhibitory_neurons.csv')"
   ]
  },
  {
   "cell_type": "code",
   "execution_count": null,
   "id": "9e49cc13-d416-4952-90ad-0e0299280b71",
   "metadata": {},
   "outputs": [],
   "source": [
    "single_cell_metadata"
   ]
  },
  {
   "cell_type": "code",
   "execution_count": null,
   "id": "a7bd28fc-a41f-4979-a37c-4ebc6036fe55",
   "metadata": {},
   "outputs": [],
   "source": [
    "# Verifying Train Label is correct\n",
    "\n",
    "list(single_cell_metadata.set_index('cell_id').loc[rdata.columns,].clinical_pathological_AD) == list(rlabel.diagnosis)"
   ]
  },
  {
   "cell_type": "code",
   "execution_count": null,
   "id": "ef71fcf3-c70c-4aab-959a-4cf401e3c23a",
   "metadata": {},
   "outputs": [],
   "source": [
    "# Verifying Test Label is correct\n",
    "\n",
    "list(single_cell_metadata.set_index('cell_id').loc[qdata.columns,].clinical_pathological_AD) == list(qlabel.diagnosis)"
   ]
  },
  {
   "cell_type": "code",
   "execution_count": null,
   "id": "456392b6-e593-4ff1-953b-14605a5b90cf",
   "metadata": {},
   "outputs": [],
   "source": [
    "rdata = rdata.T\n",
    "qdata = qdata.T\n",
    "rdata"
   ]
  },
  {
   "cell_type": "code",
   "execution_count": null,
   "id": "5903d618-ed12-446f-9d7b-8507819a152d",
   "metadata": {},
   "outputs": [],
   "source": [
    "rdata['diagnosis'] =  list(rlabel.diagnosis)\n",
    "qdata['diagnosis'] =  list(qlabel.diagnosis)"
   ]
  },
  {
   "cell_type": "code",
   "execution_count": null,
   "id": "e3e65f9e-a6f5-4332-831a-3400bafe8a0d",
   "metadata": {},
   "outputs": [],
   "source": [
    "rdata.diagnosis.value_counts()"
   ]
  },
  {
   "cell_type": "code",
   "execution_count": null,
   "id": "66ed4a30-1a3b-4657-a955-98d0d61db7b9",
   "metadata": {},
   "outputs": [],
   "source": [
    "rdata_neg = rdata[rdata.diagnosis == 'NCI_with_No_Plaques'].iloc[0:24372,]\n",
    "rdata_pos = rdata[rdata.diagnosis == 'AD_with_Plaques'].iloc[0:24372,]\n",
    "rdata = pd.concat([rdata_neg,rdata_pos])\n"
   ]
  },
  {
   "cell_type": "code",
   "execution_count": null,
   "id": "60a0cf24-3b00-4b34-ae43-be84c38b436b",
   "metadata": {},
   "outputs": [],
   "source": [
    "rdata"
   ]
  },
  {
   "cell_type": "code",
   "execution_count": null,
   "id": "d6ef6d9b-0fd1-4976-8ea4-b9c4e560a201",
   "metadata": {},
   "outputs": [],
   "source": [
    "rdata = rdata.sample(frac = 1)"
   ]
  },
  {
   "cell_type": "code",
   "execution_count": null,
   "id": "7c1c67bb-ec0b-4543-bf7e-20d690d5f409",
   "metadata": {},
   "outputs": [],
   "source": [
    "rdata"
   ]
  },
  {
   "cell_type": "code",
   "execution_count": null,
   "id": "4224a563-4b37-41cc-a0c6-19603c3978b9",
   "metadata": {},
   "outputs": [],
   "source": [
    "rlabel = pd.DataFrame(rdata.diagnosis)"
   ]
  },
  {
   "cell_type": "code",
   "execution_count": null,
   "id": "4ceed006-fb1e-4bb6-a280-b4a80afc8bd4",
   "metadata": {},
   "outputs": [],
   "source": [
    "rlabel"
   ]
  },
  {
   "cell_type": "code",
   "execution_count": null,
   "id": "cf296654-9ecd-40e7-8f4d-d7324b9d563a",
   "metadata": {},
   "outputs": [],
   "source": [
    "rdata = rdata.drop(columns=['diagnosis'])"
   ]
  },
  {
   "cell_type": "code",
   "execution_count": null,
   "id": "3ad4e81b-3de4-493e-a880-595df299b1d0",
   "metadata": {},
   "outputs": [],
   "source": [
    "qdata.diagnosis.value_counts()"
   ]
  },
  {
   "cell_type": "code",
   "execution_count": null,
   "id": "9ee8929c-5124-4c2f-b5a7-5ec0b4ab1ee9",
   "metadata": {},
   "outputs": [],
   "source": [
    "qdata_neg = qdata[qdata.diagnosis == 'NCI_with_No_Plaques'].iloc[0:3442,]\n",
    "qdata_pos =qdata[qdata.diagnosis == 'AD_with_Plaques'].iloc[0:3442,]\n",
    "qdata = pd.concat([qdata_neg,qdata_pos])"
   ]
  },
  {
   "cell_type": "code",
   "execution_count": null,
   "id": "8a9166d3-49f0-4369-a58e-c12d74f4efd9",
   "metadata": {},
   "outputs": [],
   "source": [
    "qdata"
   ]
  },
  {
   "cell_type": "code",
   "execution_count": null,
   "id": "61a8cf1e-fac9-41d6-abc4-5e79ded58381",
   "metadata": {},
   "outputs": [],
   "source": [
    "qdata = qdata.sample(frac = 1)"
   ]
  },
  {
   "cell_type": "code",
   "execution_count": null,
   "id": "0672cf56-8f9c-4b8e-a5b2-900d525a2277",
   "metadata": {},
   "outputs": [],
   "source": [
    "qdata"
   ]
  },
  {
   "cell_type": "code",
   "execution_count": null,
   "id": "ddca9ddc-55eb-47a4-9be8-deba3705d88b",
   "metadata": {},
   "outputs": [],
   "source": [
    "qlabel = pd.DataFrame(qdata.diagnosis)"
   ]
  },
  {
   "cell_type": "code",
   "execution_count": null,
   "id": "97811f88-7fdc-4fec-b631-531cf100b86e",
   "metadata": {},
   "outputs": [],
   "source": [
    "qlabel.reset_index(drop = True, inplace = True)\n",
    "rlabel.reset_index(drop = True, inplace = True)\n",
    "rlabel"
   ]
  },
  {
   "cell_type": "code",
   "execution_count": null,
   "id": "e977db80-d292-47f0-a2ff-0494b9ce04ae",
   "metadata": {},
   "outputs": [],
   "source": [
    "qdata = qdata.drop(columns=['diagnosis'])"
   ]
  },
  {
   "cell_type": "code",
   "execution_count": null,
   "id": "ea21e13e-bf27-4edc-b722-c78c3c12ff0a",
   "metadata": {},
   "outputs": [],
   "source": [
    "qdata"
   ]
  },
  {
   "cell_type": "code",
   "execution_count": null,
   "id": "d62828a1-0bb4-4b0b-a01f-1531cc232114",
   "metadata": {},
   "outputs": [],
   "source": [
    "rdata = rdata.T\n",
    "qdata = qdata.T"
   ]
  },
  {
   "cell_type": "code",
   "execution_count": null,
   "id": "2ebb908d-164c-466d-999e-2530af6cb48b",
   "metadata": {},
   "outputs": [],
   "source": [
    "r_data_tmp = rdata.copy()\n",
    "q_data_tmp = qdata.copy()\n",
    "r_label_tmp = rlabel.copy()"
   ]
  },
  {
   "cell_type": "code",
   "execution_count": null,
   "id": "07757c6b-64c2-430e-b906-2d42e7202296",
   "metadata": {},
   "outputs": [],
   "source": [
    "import numpy as np\n",
    "import pandas as pd\n",
    "\n",
    "\n",
    "def fphi(x):\n",
    "  zt = (1 - (x + 1).div(x.max(axis=1) + 1, axis=0)).sum(axis=1) / (x.shape[1] - 1)\n",
    "  zp = (x + 1).div(x.max(axis=1) + 1, axis=0).mul(zt, axis=0)\n",
    "  return zp\n",
    "\n",
    "\n",
    "def frho(x):\n",
    "  zt = (1 - (1 / (x + 1)).mul(x.min(axis=1) + 1, axis=0)).sum(axis=1) / (x.shape[1] - 1)\n",
    "  zp = (1 / (x + 1)).mul(x.min(axis=1) + 1, axis=0).mul(zt, axis=0)\n",
    "  return zp\n",
    "\n",
    "\n",
    "def fmkg(phi, rho, thr1=0.95, thr2=0.9):\n",
    "  #print(phi)\n",
    "  #print(rho)\n",
    "  gnm = phi.index.values\n",
    "  ctpnm = phi.columns.values\n",
    "  phi = np.array(phi)\n",
    "  rho = np.array(rho)\n",
    "  nummkg1 = round((1 - thr1) * phi.shape[0])\n",
    "  nummkg2 = round((1 - thr2) * phi.shape[0])\n",
    "  print(nummkg1)\n",
    "  print(nummkg2)\n",
    "  alpha = []\n",
    "  beta = []\n",
    "  for i in range(0, phi.shape[1]):\n",
    "    alpha = np.append(alpha, np.quantile(phi[:, i], thr1))\n",
    "    beta = np.append(beta, np.quantile(rho[:, i], thr2))\n",
    "  mkh = []\n",
    "  mkl = []\n",
    "  for i in range(0, phi.shape[1]):\n",
    "    mkh = np.concatenate([mkh, gnm[phi[:, i] >= alpha[i]][0:nummkg1]], axis=0)\n",
    "    mkl = np.concatenate([mkl, gnm[rho[:, i] >= beta[i]][0:nummkg2]], axis=0)\n",
    "  \n",
    "  print(len(mkh))\n",
    "  print(len(mkl))\n",
    "  mkh = mkh.reshape(nummkg1, phi.shape[1])\n",
    "  mkl = mkl.reshape(nummkg2, rho.shape[1])\n",
    "  mkh = pd.DataFrame(mkh, columns=ctpnm)\n",
    "  mkl = pd.DataFrame(mkl, columns=ctpnm)\n",
    "  print(mkh)\n",
    "  print(mkl)\n",
    "  return mkh, mkl\n",
    "\n",
    "\n",
    "def get_expression(rdata, qdata, rlabel, thrh=0.95, thrl=0.9, normalization=True, marker=True):\n",
    "    # calculate sum of cell type\n",
    "    rulabel = rlabel.iloc[:, 0].unique()\n",
    "    rdt = pd.DataFrame(data=None, columns=None)\n",
    "    for l in rulabel:\n",
    "      rdata_l = rdata.iloc[:, rlabel[(rlabel[\"diagnosis\"] == l)].index.tolist()] #row value in rlabel, is column in rdata\n",
    "      zs = rdata_l.apply(lambda x: x.sum(), axis=1)\n",
    "      rdt = pd.concat([rdt, pd.DataFrame(data=zs, columns=[l])], axis=1)\n",
    "      \n",
    "\n",
    "    # normalization\n",
    "    if normalization:\n",
    "        rdt_df = rdt\n",
    "        rdata_df = rdata\n",
    "        qdata_df = qdata\n",
    "        rdt = np.array(rdt_df, dtype=np.float32)\n",
    "        rdata = np.array(rdata_df, dtype=np.float32)\n",
    "        qdata = np.array(qdata_df, dtype=np.float32)\n",
    "        rdt = np.divide(rdt, np.sum(rdt, axis=0, keepdims=True)) * 10000\n",
    "        rdata = np.log2(np.divide(rdata, np.sum(rdata, axis=0, keepdims=True)) * 10000 + 1)\n",
    "        qdata = np.log2(np.divide(qdata, np.sum(qdata, axis=0, keepdims=True)) * 10000 + 1)\n",
    "\n",
    "        rdt = pd.DataFrame(data=rdt, columns=rdt_df.columns, index=rdt_df.index)\n",
    "        rdata = pd.DataFrame(data=rdata, columns=rdata_df.columns, index=rdata_df.index)\n",
    "        qdata = pd.DataFrame(data=qdata, columns=qdata_df.columns, index=qdata_df.index)\n",
    "    #print(rdt.head())\n",
    "    #print(rdata.head())\n",
    "    # match gene ensembl ids between the query data and the reference data\n",
    "    nm = qdata.index.tolist()\n",
    "    zg = pd.DataFrame(data=nm, columns=['gene'])\n",
    "    gid = []\n",
    "    for i in range(0, len(nm)):\n",
    "      if nm[i] not in rdata.index.tolist():\n",
    "        zg.iloc[i] = ''\n",
    "      else:\n",
    "        gid = gid + [nm[i]]\n",
    "    qdata = qdata.loc[gid, :]\n",
    "    rdata = rdata.loc[gid, :]\n",
    "    rdt = rdt.loc[gid, :]\n",
    "\n",
    "    rlabel.index = rdata.columns\n",
    "\n",
    "    if not marker:\n",
    "        train_x = rdata\n",
    "        train_y = rlabel\n",
    "        test_x = qdata\n",
    "    else:\n",
    "        # calculate important genes\n",
    "        phi = fphi(rdt)\n",
    "        rho = frho(rdt)\n",
    "        mkh, mkl = fmkg(phi, rho, thrh, thrl)\n",
    "        mkg = np.unique(np.append(np.array(mkh).reshape(1, -1), np.array(mkl).reshape(1, -1)))\n",
    "\n",
    "        # return training set and testing set\n",
    "        train_x = rdata.loc[mkg, :]\n",
    "        train_y = rlabel\n",
    "        test_x = qdata.loc[mkg, :]\n",
    "    return train_x, test_x, train_y\n"
   ]
  },
  {
   "cell_type": "code",
   "execution_count": null,
   "id": "7a228079-0871-4834-8233-f0f00591ad0e",
   "metadata": {},
   "outputs": [],
   "source": [
    "\n",
    "r_data_tmp = rdata.copy()\n",
    "q_data_tmp = qdata.copy()\n",
    "r_label_tmp = rlabel.copy()\n",
    "train_x, test_x, train_y = get_expression(r_data_tmp,\n",
    "                                              q_data_tmp,\n",
    "                                              r_label_tmp,\n",
    "                                              thrh=0.99,\n",
    "                                              thrl=0.99,\n",
    "                                              normalization=True,\n",
    "                                              marker=False)"
   ]
  },
  {
   "cell_type": "code",
   "execution_count": null,
   "id": "2d2d6ce4-dfb7-469f-9033-bbc7faf03e92",
   "metadata": {},
   "outputs": [],
   "source": [
    "train_x"
   ]
  },
  {
   "cell_type": "code",
   "execution_count": null,
   "id": "b1f88ac4-c927-4098-8f17-f4e282df95d1",
   "metadata": {},
   "outputs": [],
   "source": [
    "train_y"
   ]
  },
  {
   "cell_type": "code",
   "execution_count": null,
   "id": "c2aef732-0480-4718-94b2-30736798af83",
   "metadata": {},
   "outputs": [],
   "source": [
    "train_y.diagnosis.value_counts()"
   ]
  },
  {
   "cell_type": "code",
   "execution_count": null,
   "id": "fc167a29-f834-4964-b059-13ebb6842183",
   "metadata": {},
   "outputs": [],
   "source": [
    "test_x"
   ]
  },
  {
   "cell_type": "code",
   "execution_count": null,
   "id": "fd9b4920-7f10-419f-b404-1cd72ad30171",
   "metadata": {},
   "outputs": [],
   "source": [
    "ensembl_pathway_relation = '../../usman/CellTICS/reactome/Ensembl2Reactome_All_Levels.txt'\n",
    "species = 'human'\n",
    "pathway_names = '../../usman/CellTICS/reactome/ReactomePathways.txt'\n",
    "pathway_relation = '../../usman/CellTICS/reactome/ReactomePathwaysRelation.txt'\n",
    "datatype = 'diagnosis'\n",
    "n_hidden = 3"
   ]
  },
  {
   "cell_type": "code",
   "execution_count": null,
   "id": "ea92cfcc-1f48-48a4-a0c8-760b5961ed0a",
   "metadata": {},
   "outputs": [],
   "source": [
    "pathway_genes = get_gene_pathways(ensembl_pathway_relation, species=species)"
   ]
  },
  {
   "cell_type": "code",
   "execution_count": null,
   "id": "09c9f9e2-935d-46a9-b86f-825123ffeeee",
   "metadata": {},
   "outputs": [],
   "source": [
    "#set(pathway_genes.gene)-set(test_x.index)"
   ]
  },
  {
   "cell_type": "code",
   "execution_count": null,
   "id": "83367bb5-95eb-4715-928b-37ec381acfe0",
   "metadata": {},
   "outputs": [],
   "source": [
    "masking, layers_node, train_x, test_x = get_masking(pathway_names,\n",
    "                                                        pathway_genes,\n",
    "                                                        pathway_relation,\n",
    "                                                        train_x,\n",
    "                                                        test_x,\n",
    "                                                        train_y,\n",
    "                                                        datatype,\n",
    "                                                        species,\n",
    "                                                        n_hidden)"
   ]
  },
  {
   "cell_type": "code",
   "execution_count": null,
   "id": "21f4978a-7822-4d48-afa2-708f9a2fb2ce",
   "metadata": {},
   "outputs": [],
   "source": [
    "train_x"
   ]
  },
  {
   "cell_type": "code",
   "execution_count": null,
   "id": "7e3a749c-7072-4c71-beb6-21057380c770",
   "metadata": {},
   "outputs": [],
   "source": [
    "test_x"
   ]
  },
  {
   "cell_type": "code",
   "execution_count": null,
   "id": "6365ab2d-46b8-473a-8b75-e8b54ceab56f",
   "metadata": {},
   "outputs": [],
   "source": [
    "#pd.DataFrame(test_x.index).to_csv('../../preprocessed_data/inhibitory_neuron/marker_genes.csv', index=False)"
   ]
  },
  {
   "cell_type": "code",
   "execution_count": null,
   "id": "12c1f84b-3130-4129-b807-064c217d4a9b",
   "metadata": {},
   "outputs": [],
   "source": [
    "train_x.T"
   ]
  },
  {
   "cell_type": "code",
   "execution_count": null,
   "id": "47a99354-1bad-4216-9cc7-12840888017b",
   "metadata": {},
   "outputs": [],
   "source": [
    "train_y"
   ]
  },
  {
   "cell_type": "code",
   "execution_count": null,
   "id": "4fc8ec16-f4a2-44bf-b7c9-7da47f9b77fa",
   "metadata": {},
   "outputs": [],
   "source": [
    "diagnosis_mapping = {'AD_with_Plaques': 1, 'NCI_with_No_Plaques': 0}\n",
    "train_y['diagnosis_binary'] = train_y['diagnosis'].map(diagnosis_mapping)\n",
    "\n",
    "# Display the first few rows to verify the mapping\n",
    "print(train_y.head())\n",
    "train_y.drop(columns=['diagnosis'], inplace=True)\n",
    "train_y"
   ]
  },
  {
   "cell_type": "code",
   "execution_count": null,
   "id": "fa537bb2-307f-42a9-be13-52077f7db2e4",
   "metadata": {},
   "outputs": [],
   "source": [
    "train"
   ]
  },
  {
   "cell_type": "code",
   "execution_count": null,
   "id": "fc9be8f3-a46a-4ae1-9a1d-67cccac99006",
   "metadata": {},
   "outputs": [],
   "source": [
    "qlabel"
   ]
  },
  {
   "cell_type": "code",
   "execution_count": null,
   "id": "732b2a38-d803-4b4f-ac4e-c019be91a7a4",
   "metadata": {},
   "outputs": [],
   "source": [
    "try:\n",
    "    diagnosis_mapping = {'AD_with_Plaques': 1, 'NCI_with_No_Plaques': 0}\n",
    "    qlabel['diagnosis_binary'] = qlabel['diagnosis'].map(diagnosis_mapping)\n",
    "    \n",
    "    # Display the first few rows to verify the mapping\n",
    "    print(qlabel.head())\n",
    "    qlabel.drop(columns=['diagnosis'], inplace=True)\n",
    "    qlabel\n",
    "\n",
    "except:\n",
    "    print('Previously Run Before')"
   ]
  },
  {
   "cell_type": "code",
   "execution_count": null,
   "id": "d03936a4-ef5b-4cc2-86aa-2287d1cd6b01",
   "metadata": {},
   "outputs": [],
   "source": [
    "import torch\n",
    "from torch.utils.data import Dataset, DataLoader\n",
    "import pandas as pd\n",
    "\n",
    "class TabularDataset(Dataset):\n",
    "    def __init__(self, count_matrix, label):\n",
    "        # Read the CSV file\n",
    "        self.data = count_matrix\n",
    "        # Separate features and target\n",
    "        self.features = self.data.values\n",
    "        self.target = label.values\n",
    "    \n",
    "    def __len__(self):\n",
    "        return len(self.data)\n",
    "    \n",
    "    def __getitem__(self, idx):\n",
    "        # Get features and target for a given index\n",
    "        features = torch.tensor(self.features[idx], dtype=torch.float32)\n",
    "        target = torch.tensor(self.target[idx], dtype=torch.float32)\n",
    "        return features, target\n",
    "\n",
    "# Example usage\n",
    "\n"
   ]
  },
  {
   "cell_type": "code",
   "execution_count": null,
   "id": "1901d316-2738-464b-9074-41a0ef2ca039",
   "metadata": {},
   "outputs": [],
   "source": [
    "qlabel"
   ]
  },
  {
   "cell_type": "code",
   "execution_count": null,
   "id": "181ee5b3-4d91-4d14-8f61-5c9daab89b2d",
   "metadata": {},
   "outputs": [],
   "source": [
    "train_y"
   ]
  },
  {
   "cell_type": "code",
   "execution_count": null,
   "id": "3a3e1ccd-08c2-45eb-b30b-8531d07852a7",
   "metadata": {},
   "outputs": [],
   "source": [
    "val_x = train_x.T.iloc[40000:,]\n",
    "val_y = train_y.iloc[40000:,]\n",
    "train_x = train_x.T.iloc[0:40000,]\n",
    "train_y = train_y.iloc[0:40000,]\n"
   ]
  },
  {
   "cell_type": "code",
   "execution_count": null,
   "id": "0e9ae3f2-675c-45b6-8893-4238202fa2c7",
   "metadata": {},
   "outputs": [],
   "source": [
    "train_dataset = TabularDataset(train_x,train_y)\n",
    "val_dataset = TabularDataset(val_x,val_y)\n",
    "test_dataset = TabularDataset(test_x.T,qlabel)"
   ]
  },
  {
   "cell_type": "code",
   "execution_count": null,
   "id": "df832a5b-69e3-4a78-8688-da267b38db30",
   "metadata": {},
   "outputs": [],
   "source": [
    "val_x"
   ]
  },
  {
   "cell_type": "code",
   "execution_count": null,
   "id": "b058625e-5d59-4bc3-8359-766f22f55474",
   "metadata": {},
   "outputs": [],
   "source": [
    "qlabel"
   ]
  },
  {
   "cell_type": "code",
   "execution_count": null,
   "id": "f0755769-eed7-4fbb-aa59-ff1302fe8d78",
   "metadata": {},
   "outputs": [],
   "source": [
    "masking[0].shape, len(layers_node[1])"
   ]
  },
  {
   "cell_type": "code",
   "execution_count": null,
   "id": "1e6b3d48-9c50-4b05-8e1a-3884cd8d66b1",
   "metadata": {},
   "outputs": [],
   "source": [
    "masking[1].shape, len(layers_node[2])"
   ]
  },
  {
   "cell_type": "code",
   "execution_count": null,
   "id": "01ab2870-e147-4900-82b5-ee28eddc10f1",
   "metadata": {},
   "outputs": [],
   "source": [
    "masking[2].shape, len(layers_node[3])"
   ]
  },
  {
   "cell_type": "code",
   "execution_count": null,
   "id": "203eaf52-825c-49aa-8ad3-3359958fd0ce",
   "metadata": {},
   "outputs": [],
   "source": [
    "masking = list(masking.values())\n",
    "layers_node = list(layers_node.values())"
   ]
  },
  {
   "cell_type": "code",
   "execution_count": null,
   "id": "21b3edc4-e47e-433b-bbef-77aa6289184e",
   "metadata": {
    "scrolled": true
   },
   "outputs": [],
   "source": [
    " import numpy as np\n",
    "import torch\n",
    "import torch.nn as nn\n",
    "import torch.optim as optim\n",
    "import torch.nn.functional as F\n",
    "\n",
    "\n",
    "#for output_layer in range(2, len(masking) + 2):       -->n\n",
    "class CustomNetwork(nn.Module):\n",
    "    def __init__(self, layers_node, n, masking):\n",
    "        super(CustomNetwork, self).__init__()\n",
    "        self.layers = nn.ModuleList()\n",
    "        self.masks = []\n",
    "        self.gamma = 0.0001\n",
    "\n",
    "        for i in range(n-1):\n",
    "            #print(-1-i)\n",
    "            #print(layers_node[-1-i])\n",
    "            in_features = len(layers_node[-1-i])\n",
    "            out_features = len(layers_node[-1-i-1])\n",
    "            self.layers.append(nn.Linear(in_features, out_features, bias=False))\n",
    "            self.masks.append(masking[-1-i])\n",
    "\n",
    "        self.layers.append(nn.Linear(len(layers_node[-n]), len(layers_node[0])-1))\n",
    "        self.masks = [torch.tensor(mask, dtype=torch.float32) for mask in self.masks]\n",
    "\n",
    "\n",
    "    def forward(self, x):\n",
    "        for i, layer in enumerate(self.layers[:-1]):\n",
    "            mask = self.masks[i]\n",
    "            mask = mask.unsqueeze(0).expand(x.size(0), -1, -1)\n",
    "            #print(mask[0].shape)\n",
    "            \n",
    "            #print(layer(x).shape)\n",
    "            x = layer(x)\n",
    "            \n",
    "            '''\n",
    "            x = x.unsqueeze(2)\n",
    "            print('x shape before multi: ',x.shape)\n",
    "            print('shape of mask: ', mask.shape )\n",
    "            x =  x*mask\n",
    "            x = x.squeeze(2)\n",
    "            x = torch.tanh(x)\n",
    "            '''\n",
    "            x = torch.relu(x)\n",
    "            #print('x shape: ',x.shape)\n",
    "        #print(x.shape)\n",
    "        \n",
    "        x = self.layers[-1](x)\n",
    "        return x\n"
   ]
  },
  {
   "cell_type": "code",
   "execution_count": null,
   "id": "bec154e2-cebc-42c3-b0d7-9e8bdd046bb9",
   "metadata": {},
   "outputs": [],
   "source": [
    "def evaluate(model, dataloader):\n",
    "    model.eval()  # Set the model to evaluation mode\n",
    "    correct = 0\n",
    "    total = 0\n",
    "    predicted_list = []\n",
    "    labels_list = []\n",
    "    \n",
    "    with torch.no_grad():  # No need to compute gradients during evaluation\n",
    "        for features, labels in dataloader:\n",
    "            outputs = model(features)\n",
    "            #print(outputs)\n",
    "            predicted = torch.round(torch.sigmoid(outputs.data))\n",
    "            #print(outputs)\n",
    "            #print(predicted)\n",
    "            #_, predicted = torch.sigmoid(outputs.data)\n",
    "            predicted_list.append(predicted)\n",
    "            labels_list.append(labels)\n",
    "            total += labels.size(0)\n",
    "            correct += (predicted == labels).sum().item()\n",
    "    #print(total)\n",
    "    accuracy = 100 * correct / total\n",
    "    return accuracy, predicted_list, labels_list"
   ]
  },
  {
   "cell_type": "code",
   "execution_count": null,
   "id": "55b46c87-92a9-41b4-988b-8d2fce7cc2d1",
   "metadata": {},
   "outputs": [],
   "source": [
    "from tqdm import tqdm\n",
    "def model(train_dataloader , test_dataloader, layers_node, masking, output_layer, learning_rate=0.001, num_epochs=50):\n",
    "\n",
    "    model = CustomNetwork(layers_node, output_layer, masking)\n",
    "    optimizer = optim.Adam(model.parameters(), lr=learning_rate)  # Using SGD with momentum\n",
    "    criterion = nn.BCEWithLogitsLoss()\n",
    "\n",
    "    for epoch in tqdm(range(num_epochs)):\n",
    "        epoch_cost = 0.\n",
    "        \n",
    "        for batch_features,batch_targets in train_dataloader:\n",
    "            outputs = model(batch_features)\n",
    "            #print(outputs)\n",
    "            #print(batch_targets)\n",
    "            #print(outputs)\n",
    "            loss = criterion(outputs, batch_targets)\n",
    "            \n",
    "            optimizer.zero_grad()\n",
    "            loss.backward()\n",
    "            optimizer.step()\n",
    "            \n",
    "        \n",
    "        train_accuracy, predicted_list_train, labels_list_train = evaluate(model, train_dataloader)\n",
    "        test_accuracy, predicted_list_test, labels_list_test = evaluate(model, test_dataloader)\n",
    "        print(f'Epoch [{epoch+1}/{num_epochs}], Loss: {loss.item():.4f}, Train_accuracy: {train_accuracy}, Test_accuracy: {test_accuracy}')\n",
    "        \n",
    "    train_accuracy, predicted_list_train, labels_list_train = evaluate(model, train_dataloader)\n",
    "    test_accuracy, predicted_list_test, labels_list_test = evaluate(model, test_dataloader)\n",
    "    \n",
    "    output_train = (predicted_list_train, labels_list_train)\n",
    "    output_test = (predicted_list_test, labels_list_test)\n",
    "    \n",
    "    return output_train, output_test,model"
   ]
  },
  {
   "cell_type": "code",
   "execution_count": null,
   "id": "46b7950f-3b88-4e40-a104-b7608b808a37",
   "metadata": {},
   "outputs": [],
   "source": [
    "torch.round(torch.sigmoid(torch.tensor([0.4,0.8])))"
   ]
  },
  {
   "cell_type": "code",
   "execution_count": null,
   "id": "38a3d963-ef52-4af7-8ff2-b3d1e5d1849f",
   "metadata": {},
   "outputs": [],
   "source": [
    "\n",
    "#from neural_network import *\n",
    "print_information = True\n",
    "num_epochs = 100\n",
    "learning_rate = 0.0001\n",
    "batch_size = 2048\n",
    "l2_regularization = 0.00001\n",
    "print_cost = True\n",
    "\n",
    "\n",
    "# Create the DataLoader\n",
    "train_dataloader = DataLoader(train_dataset, batch_size=batch_size, shuffle=True)\n",
    "test_dataloader = DataLoader(test_dataset, batch_size=batch_size, shuffle= True)\n",
    "val_dataloader = DataLoader(val_dataset, batch_size=batch_size, shuffle= True)\n",
    "# Example of iterating through the DataLoader\n",
    "\n",
    "\n",
    "pred_y_df = pd.DataFrame(data=0, index=test_x.columns, columns=list(range(2, len(masking) + 2)))\n",
    "train_y_df = pd.DataFrame(data=0, index=train_x.columns, columns=list(range(2, len(masking) + 2)))\n",
    "#masking = list(masking.values())\n",
    "model_dict = dict()\n",
    "#layers_node = list(layers_node.values())\n",
    "activation_output = {}\n",
    "for output_layer in range(2, len(masking) + 2):\n",
    "    if print_information:\n",
    "        print(\"Current sub-neural network has \" + str(output_layer - 1) + \" hidden layers.\")\n",
    "    output_train, output_test,model_dict[output_layer] = model(train_dataloader,\n",
    "                                          val_dataloader,\n",
    "                                          layers_node,\n",
    "                                          masking,\n",
    "                                          output_layer,\n",
    "                                          learning_rate=learning_rate,num_epochs=num_epochs\n",
    "                                          )"
   ]
  },
  {
   "cell_type": "code",
   "execution_count": null,
   "id": "d90259b8-8120-411c-9643-1a16696a3781",
   "metadata": {},
   "outputs": [],
   "source": [
    "print(model_dict)"
   ]
  },
  {
   "cell_type": "code",
   "execution_count": null,
   "id": "8075db07-a146-474b-a513-9ed6a8a053b2",
   "metadata": {},
   "outputs": [],
   "source": [
    "!pip install wandb -Uq"
   ]
  },
  {
   "cell_type": "code",
   "execution_count": 203,
   "id": "dc7441ad-be5e-462a-a082-4f67c9b2b931",
   "metadata": {},
   "outputs": [
    {
     "data": {
      "text/html": [
       "<div>\n",
       "<style scoped>\n",
       "    .dataframe tbody tr th:only-of-type {\n",
       "        vertical-align: middle;\n",
       "    }\n",
       "\n",
       "    .dataframe tbody tr th {\n",
       "        vertical-align: top;\n",
       "    }\n",
       "\n",
       "    .dataframe thead th {\n",
       "        text-align: right;\n",
       "    }\n",
       "</style>\n",
       "<table border=\"1\" class=\"dataframe\">\n",
       "  <thead>\n",
       "    <tr style=\"text-align: right;\">\n",
       "      <th></th>\n",
       "      <th>2</th>\n",
       "      <th>3</th>\n",
       "      <th>4</th>\n",
       "    </tr>\n",
       "  </thead>\n",
       "  <tbody>\n",
       "    <tr>\n",
       "      <th>AGCTTCCGTATGCTTG.8.11</th>\n",
       "      <td>0</td>\n",
       "      <td>0</td>\n",
       "      <td>0</td>\n",
       "    </tr>\n",
       "    <tr>\n",
       "      <th>CATCCGTCATATACCG.10.9</th>\n",
       "      <td>0</td>\n",
       "      <td>0</td>\n",
       "      <td>0</td>\n",
       "    </tr>\n",
       "    <tr>\n",
       "      <th>CCTCCTCTCGGTAGAG.32.11</th>\n",
       "      <td>0</td>\n",
       "      <td>0</td>\n",
       "      <td>0</td>\n",
       "    </tr>\n",
       "    <tr>\n",
       "      <th>TGTACAGGTGATACAA.26.3</th>\n",
       "      <td>0</td>\n",
       "      <td>0</td>\n",
       "      <td>0</td>\n",
       "    </tr>\n",
       "    <tr>\n",
       "      <th>ACATGCAAGGTTAAAC.13.2</th>\n",
       "      <td>0</td>\n",
       "      <td>0</td>\n",
       "      <td>0</td>\n",
       "    </tr>\n",
       "    <tr>\n",
       "      <th>...</th>\n",
       "      <td>...</td>\n",
       "      <td>...</td>\n",
       "      <td>...</td>\n",
       "    </tr>\n",
       "    <tr>\n",
       "      <th>GATGAGGCACATGTTG.10.2</th>\n",
       "      <td>0</td>\n",
       "      <td>0</td>\n",
       "      <td>0</td>\n",
       "    </tr>\n",
       "    <tr>\n",
       "      <th>GGGCGTTCACGTACTA.32.11</th>\n",
       "      <td>0</td>\n",
       "      <td>0</td>\n",
       "      <td>0</td>\n",
       "    </tr>\n",
       "    <tr>\n",
       "      <th>AGGGTGAGTGTTACTG.26.3</th>\n",
       "      <td>0</td>\n",
       "      <td>0</td>\n",
       "      <td>0</td>\n",
       "    </tr>\n",
       "    <tr>\n",
       "      <th>GACGTTATCGCGTTTC.38.1</th>\n",
       "      <td>0</td>\n",
       "      <td>0</td>\n",
       "      <td>0</td>\n",
       "    </tr>\n",
       "    <tr>\n",
       "      <th>TCTGCCAGTGAGAACC.10.2</th>\n",
       "      <td>0</td>\n",
       "      <td>0</td>\n",
       "      <td>0</td>\n",
       "    </tr>\n",
       "  </tbody>\n",
       "</table>\n",
       "<p>6884 rows × 3 columns</p>\n",
       "</div>"
      ],
      "text/plain": [
       "                        2  3  4\n",
       "AGCTTCCGTATGCTTG.8.11   0  0  0\n",
       "CATCCGTCATATACCG.10.9   0  0  0\n",
       "CCTCCTCTCGGTAGAG.32.11  0  0  0\n",
       "TGTACAGGTGATACAA.26.3   0  0  0\n",
       "ACATGCAAGGTTAAAC.13.2   0  0  0\n",
       "...                    .. .. ..\n",
       "GATGAGGCACATGTTG.10.2   0  0  0\n",
       "GGGCGTTCACGTACTA.32.11  0  0  0\n",
       "AGGGTGAGTGTTACTG.26.3   0  0  0\n",
       "GACGTTATCGCGTTTC.38.1   0  0  0\n",
       "TCTGCCAGTGAGAACC.10.2   0  0  0\n",
       "\n",
       "[6884 rows x 3 columns]"
      ]
     },
     "execution_count": 203,
     "metadata": {},
     "output_type": "execute_result"
    }
   ],
   "source": [
    "pred_y_df"
   ]
  },
  {
   "cell_type": "code",
   "execution_count": 97,
   "id": "e9f7f6b0-cdd8-42e9-b838-e069cf22d782",
   "metadata": {},
   "outputs": [
    {
     "data": {
      "text/plain": [
       "\"\\n    train_y_df[output_layer] = get_prediction(output_train[output_layer],\\n                                                 pd.get_dummies(train_y['diagnosis']),\\n                                                 train_x,\\n                                                 datatype='diagnosis')\\n\\n    \\n    for j in range(len(output_train)):\\n        ctp_sort = layers_node[0]\\n        ctp_sort.sort()\\n        if j != output_layer - 1:\\n            output_train[j + 1] = pd.DataFrame(data=output_train[j + 1],\\n                                                   index=layers_node[len(layers_node) - 2 - j],\\n                                                   columns=train_x.columns)\\n        else:\\n            output_train[j + 1] = pd.DataFrame(data=output_train[j + 1],\\n                                                   index=ctp_sort,\\n                                                   columns=train_x.columns)\\n    activation_output[output_layer] = output_train\\n    pred_y_df[output_layer] = get_prediction(output_test[output_layer],\\n                                                 pd.get_dummies(train_y['diagnosis']),\\n                                                 test_x,\\n                                                 datatype='diagnosis')\\n    \\npred_test_y = pd.DataFra000me(data=0, index=test_x.columns, columns=['diagnosis'])\\npred_test_y['diagnosis'] = pred_y_df.T.describe().T['top']\\n\\npred_train_y = pd.DataFrame(data=0, index= train_x.columns, columns=['diagnosis'])\\npred_train_y['diagnosis'] = train_y_df.T.describe().T['top']\""
      ]
     },
     "execution_count": 97,
     "metadata": {},
     "output_type": "execute_result"
    }
   ],
   "source": [
    "'''\n",
    "    train_y_df[output_layer] = get_prediction(output_train[output_layer],\n",
    "                                                 pd.get_dummies(train_y['diagnosis']),\n",
    "                                                 train_x,\n",
    "                                                 datatype='diagnosis')\n",
    "\n",
    "    \n",
    "    for j in range(len(output_train)):\n",
    "        ctp_sort = layers_node[0]\n",
    "        ctp_sort.sort()\n",
    "        if j != output_layer - 1:\n",
    "            output_train[j + 1] = pd.DataFrame(data=output_train[j + 1],\n",
    "                                                   index=layers_node[len(layers_node) - 2 - j],\n",
    "                                                   columns=train_x.columns)\n",
    "        else:\n",
    "            output_train[j + 1] = pd.DataFrame(data=output_train[j + 1],\n",
    "                                                   index=ctp_sort,\n",
    "                                                   columns=train_x.columns)\n",
    "    activation_output[output_layer] = output_train\n",
    "    pred_y_df[output_layer] = get_prediction(output_test[output_layer],\n",
    "                                                 pd.get_dummies(train_y['diagnosis']),\n",
    "                                                 test_x,\n",
    "                                                 datatype='diagnosis')\n",
    "    \n",
    "pred_test_y = pd.DataFra000me(data=0, index=test_x.columns, columns=['diagnosis'])\n",
    "pred_test_y['diagnosis'] = pred_y_df.T.describe().T['top']\n",
    "\n",
    "pred_train_y = pd.DataFrame(data=0, index= train_x.columns, columns=['diagnosis'])\n",
    "pred_train_y['diagnosis'] = train_y_df.T.describe().T['top']'''"
   ]
  },
  {
   "cell_type": "code",
   "execution_count": 251,
   "id": "7d4dfe8d-ac4a-4ab6-8b8b-d55e02531bee",
   "metadata": {},
   "outputs": [
    {
     "data": {
      "text/html": [
       "<div>\n",
       "<style scoped>\n",
       "    .dataframe tbody tr th:only-of-type {\n",
       "        vertical-align: middle;\n",
       "    }\n",
       "\n",
       "    .dataframe tbody tr th {\n",
       "        vertical-align: top;\n",
       "    }\n",
       "\n",
       "    .dataframe thead th {\n",
       "        text-align: right;\n",
       "    }\n",
       "</style>\n",
       "<table border=\"1\" class=\"dataframe\">\n",
       "  <thead>\n",
       "    <tr style=\"text-align: right;\">\n",
       "      <th></th>\n",
       "      <th>diagnosis</th>\n",
       "    </tr>\n",
       "  </thead>\n",
       "  <tbody>\n",
       "    <tr>\n",
       "      <th>AAGCCATCAGTTAGGG.3.9</th>\n",
       "      <td>NCI_with_No_Plaques</td>\n",
       "    </tr>\n",
       "    <tr>\n",
       "      <th>GAACTGTTCTTTGCTA.5.2</th>\n",
       "      <td>NCI_with_No_Plaques</td>\n",
       "    </tr>\n",
       "    <tr>\n",
       "      <th>CTAACCCTCTGCGAGC.8.7</th>\n",
       "      <td>NCI_with_No_Plaques</td>\n",
       "    </tr>\n",
       "    <tr>\n",
       "      <th>CTACATTGTGTTACAC.24.2</th>\n",
       "      <td>NCI_with_No_Plaques</td>\n",
       "    </tr>\n",
       "    <tr>\n",
       "      <th>TTGGTTTCAACAGAGC.1.6</th>\n",
       "      <td>AD_with_Plaques</td>\n",
       "    </tr>\n",
       "    <tr>\n",
       "      <th>...</th>\n",
       "      <td>...</td>\n",
       "    </tr>\n",
       "    <tr>\n",
       "      <th>GCAGGCTGTCGGCTAC.28.6</th>\n",
       "      <td>NCI_with_No_Plaques</td>\n",
       "    </tr>\n",
       "    <tr>\n",
       "      <th>TATCGCCAGCAGATAT.30.10</th>\n",
       "      <td>AD_with_Plaques</td>\n",
       "    </tr>\n",
       "    <tr>\n",
       "      <th>ACTATCTTCACGTAGT.31.6</th>\n",
       "      <td>NCI_with_No_Plaques</td>\n",
       "    </tr>\n",
       "    <tr>\n",
       "      <th>ATTCAGGCACTTGAGT.27.3</th>\n",
       "      <td>AD_with_Plaques</td>\n",
       "    </tr>\n",
       "    <tr>\n",
       "      <th>GGGACTCGTATCATGC.10.14</th>\n",
       "      <td>AD_with_Plaques</td>\n",
       "    </tr>\n",
       "  </tbody>\n",
       "</table>\n",
       "<p>48744 rows × 1 columns</p>\n",
       "</div>"
      ],
      "text/plain": [
       "                                  diagnosis\n",
       "AAGCCATCAGTTAGGG.3.9    NCI_with_No_Plaques\n",
       "GAACTGTTCTTTGCTA.5.2    NCI_with_No_Plaques\n",
       "CTAACCCTCTGCGAGC.8.7    NCI_with_No_Plaques\n",
       "CTACATTGTGTTACAC.24.2   NCI_with_No_Plaques\n",
       "TTGGTTTCAACAGAGC.1.6        AD_with_Plaques\n",
       "...                                     ...\n",
       "GCAGGCTGTCGGCTAC.28.6   NCI_with_No_Plaques\n",
       "TATCGCCAGCAGATAT.30.10      AD_with_Plaques\n",
       "ACTATCTTCACGTAGT.31.6   NCI_with_No_Plaques\n",
       "ATTCAGGCACTTGAGT.27.3       AD_with_Plaques\n",
       "GGGACTCGTATCATGC.10.14      AD_with_Plaques\n",
       "\n",
       "[48744 rows x 1 columns]"
      ]
     },
     "execution_count": 251,
     "metadata": {},
     "output_type": "execute_result"
    }
   ],
   "source": [
    "train_y"
   ]
  },
  {
   "cell_type": "code",
   "execution_count": 193,
   "id": "5d536e5c-1ad5-4431-b2cb-10591afdf8af",
   "metadata": {},
   "outputs": [
    {
     "name": "stdout",
     "output_type": "stream",
     "text": [
      "x shape: torch.Size([1024, 216, 1])\n",
      "mask shape: torch.Size([1024, 216, 159])\n",
      "result shape: torch.Size([1024, 216, 159])\n"
     ]
    }
   ],
   "source": [
    "import torch\n",
    "\n",
    "# Example tensors\n",
    "x = torch.randn(1024, 216, 1)  # Shape: [1024, 216, 1]\n",
    "mask = torch.randn(1024, 216, 159)  # Shape: [1024, 216, 159]\n",
    "\n",
    "# Perform element-wise multiplication\n",
    "result = mask * x  # Shape: [1024, 216, 159]\n",
    "\n",
    "# Print shapes\n",
    "print(\"x shape:\", x.shape)\n",
    "print(\"mask shape:\", mask.shape)\n",
    "print(\"result shape:\", result.shape)\n",
    "\n"
   ]
  },
  {
   "cell_type": "code",
   "execution_count": 132,
   "id": "5c888d49-ef5c-4b32-b041-450bcbef70ec",
   "metadata": {},
   "outputs": [
    {
     "data": {
      "text/plain": [
       "tensor([0, 0, 1, 0, 1, 0, 1, 0, 0, 1, 0, 1, 1, 0, 0, 1, 0, 0, 1, 1, 1, 0, 1, 0,\n",
       "        0, 0, 1, 0, 1, 1, 1, 0, 0, 1, 0, 0, 0, 1, 1, 0, 0, 0, 0, 1, 1, 0, 1, 0,\n",
       "        1, 0, 0, 0, 1, 0, 1, 0, 1, 1, 1, 1, 1, 1, 0, 0, 1, 0, 0, 1, 0, 1, 1, 1,\n",
       "        0, 0, 1, 0, 0, 0, 0, 1, 1, 1, 0, 1, 1, 1, 1, 1, 1, 1, 1, 0, 0, 0, 1, 0,\n",
       "        0, 1, 1, 0])"
      ]
     },
     "execution_count": 132,
     "metadata": {},
     "output_type": "execute_result"
    }
   ],
   "source": [
    "labels = torch.randint(0, 2, (100,))  \n",
    "labels"
   ]
  },
  {
   "cell_type": "code",
   "execution_count": 133,
   "id": "42e644a6-4af5-4e35-b2ab-f61042ca0ab5",
   "metadata": {},
   "outputs": [
    {
     "ename": "NameError",
     "evalue": "name 'mask' is not defined",
     "output_type": "error",
     "traceback": [
      "\u001b[0;31m---------------------------------------------------------------------------\u001b[0m",
      "\u001b[0;31mNameError\u001b[0m                                 Traceback (most recent call last)",
      "Cell \u001b[0;32mIn[133], line 1\u001b[0m\n\u001b[0;32m----> 1\u001b[0m \u001b[43mmask\u001b[49m\u001b[38;5;241m.\u001b[39mshape\n",
      "\u001b[0;31mNameError\u001b[0m: name 'mask' is not defined"
     ]
    }
   ],
   "source": [
    "mask.shape"
   ]
  },
  {
   "cell_type": "code",
   "execution_count": 180,
   "id": "5bd6154f-b2a3-42b3-99ed-ef87b9b6bffa",
   "metadata": {},
   "outputs": [
    {
     "ename": "NameError",
     "evalue": "name 'result' is not defined",
     "output_type": "error",
     "traceback": [
      "\u001b[0;31m---------------------------------------------------------------------------\u001b[0m",
      "\u001b[0;31mNameError\u001b[0m                                 Traceback (most recent call last)",
      "Cell \u001b[0;32mIn[180], line 1\u001b[0m\n\u001b[0;32m----> 1\u001b[0m \u001b[43mresult\u001b[49m\n",
      "\u001b[0;31mNameError\u001b[0m: name 'result' is not defined"
     ]
    }
   ],
   "source": [
    "result"
   ]
  },
  {
   "cell_type": "code",
   "execution_count": 108,
   "id": "7ba1ef44-1238-4541-a5de-fe5ef1b1b79b",
   "metadata": {},
   "outputs": [
    {
     "name": "stdout",
     "output_type": "stream",
     "text": [
      "Layer output: tensor([[1.8384, 0.1309]], grad_fn=<AddmmBackward0>)\n",
      "After tanh activation: tensor([[0.9506, 0.1302]], grad_fn=<TanhBackward0>)\n"
     ]
    }
   ],
   "source": [
    "import torch\n",
    "import torch.nn as nn\n",
    "\n",
    "# Define a simple linear layer\n",
    "layer = nn.Linear(3, 2)  # Linear layer with 3 input features and 2 output features\n",
    "\n",
    "# Input tensor\n",
    "x = torch.tensor([[1.0, 2.0, 3.0]])\n",
    "\n",
    "# Apply the layer\n",
    "layer_output = layer(x)\n",
    "\n",
    "# Apply the tanh activation function\n",
    "tanh_output = torch.tanh(layer_output)\n",
    "\n",
    "print(\"Layer output:\", layer_output)\n",
    "print(\"After tanh activation:\", tanh_output)"
   ]
  },
  {
   "cell_type": "code",
   "execution_count": 110,
   "id": "f983e9b7-bf48-4aaa-9ee3-e7df63b3b582",
   "metadata": {},
   "outputs": [
    {
     "data": {
      "text/plain": [
       "torch.Size([1, 2])"
      ]
     },
     "execution_count": 110,
     "metadata": {},
     "output_type": "execute_result"
    }
   ],
   "source": [
    "layer_output.shape"
   ]
  },
  {
   "cell_type": "code",
   "execution_count": 112,
   "id": "7a49c10c-f91b-4e0f-badb-0087f1a00faf",
   "metadata": {
    "scrolled": true
   },
   "outputs": [
    {
     "name": "stdout",
     "output_type": "stream",
     "text": [
      "Current sub-neural network has 1 hidden layers.\n"
     ]
    },
    {
     "ename": "KeyError",
     "evalue": "-1",
     "output_type": "error",
     "traceback": [
      "\u001b[0;31m---------------------------------------------------------------------------\u001b[0m",
      "\u001b[0;31mKeyError\u001b[0m                                  Traceback (most recent call last)",
      "Cell \u001b[0;32mIn[112], line 15\u001b[0m\n\u001b[1;32m     13\u001b[0m \u001b[38;5;28;01mif\u001b[39;00m print_information:\n\u001b[1;32m     14\u001b[0m     \u001b[38;5;28mprint\u001b[39m(\u001b[38;5;124m\"\u001b[39m\u001b[38;5;124mCurrent sub-neural network has \u001b[39m\u001b[38;5;124m\"\u001b[39m \u001b[38;5;241m+\u001b[39m \u001b[38;5;28mstr\u001b[39m(output_layer \u001b[38;5;241m-\u001b[39m \u001b[38;5;241m1\u001b[39m) \u001b[38;5;241m+\u001b[39m \u001b[38;5;124m\"\u001b[39m\u001b[38;5;124m hidden layers.\u001b[39m\u001b[38;5;124m\"\u001b[39m)\n\u001b[0;32m---> 15\u001b[0m output_train, output_test \u001b[38;5;241m=\u001b[39m \u001b[43mmodel\u001b[49m\u001b[43m(\u001b[49m\u001b[43mnp\u001b[49m\u001b[38;5;241;43m.\u001b[39;49m\u001b[43marray\u001b[49m\u001b[43m(\u001b[49m\u001b[43mtrain_x\u001b[49m\u001b[43m)\u001b[49m\u001b[43m,\u001b[49m\n\u001b[1;32m     16\u001b[0m \u001b[43m                                      \u001b[49m\u001b[43mone_hot_coding\u001b[49m\u001b[43m(\u001b[49m\u001b[43mtrain_y\u001b[49m\u001b[43m,\u001b[49m\u001b[43m \u001b[49m\u001b[38;5;124;43m'\u001b[39;49m\u001b[38;5;124;43mdiagnosis\u001b[39;49m\u001b[38;5;124;43m'\u001b[39;49m\u001b[43m)\u001b[49m\u001b[43m,\u001b[49m\n\u001b[1;32m     17\u001b[0m \u001b[43m                                      \u001b[49m\u001b[43mnp\u001b[49m\u001b[38;5;241;43m.\u001b[39;49m\u001b[43marray\u001b[49m\u001b[43m(\u001b[49m\u001b[43mtest_x\u001b[49m\u001b[43m)\u001b[49m\u001b[43m,\u001b[49m\n\u001b[1;32m     18\u001b[0m \u001b[43m                                      \u001b[49m\u001b[43mlayers_node\u001b[49m\u001b[43m,\u001b[49m\n\u001b[1;32m     19\u001b[0m \u001b[43m                                      \u001b[49m\u001b[43mmasking\u001b[49m\u001b[43m,\u001b[49m\n\u001b[1;32m     20\u001b[0m \u001b[43m                                      \u001b[49m\u001b[43moutput_layer\u001b[49m\u001b[43m,\u001b[49m\n\u001b[1;32m     21\u001b[0m \u001b[43m                                      \u001b[49m\u001b[43mnum_epochs\u001b[49m\u001b[38;5;241;43m=\u001b[39;49m\u001b[43mnum_epochs\u001b[49m\u001b[43m,\u001b[49m\n\u001b[1;32m     22\u001b[0m \u001b[43m                                      \u001b[49m\u001b[43mlearning_rate\u001b[49m\u001b[38;5;241;43m=\u001b[39;49m\u001b[43mlearning_rate\u001b[49m\u001b[43m,\u001b[49m\n\u001b[1;32m     23\u001b[0m \u001b[43m                                      \u001b[49m\u001b[43mminibatch_size\u001b[49m\u001b[38;5;241;43m=\u001b[39;49m\u001b[43mbatch_size\u001b[49m\u001b[43m,\u001b[49m\n\u001b[1;32m     24\u001b[0m \u001b[43m                                      \u001b[49m\u001b[43mgamma\u001b[49m\u001b[38;5;241;43m=\u001b[39;49m\u001b[43ml2_regularization\u001b[49m\u001b[43m,\u001b[49m\n\u001b[1;32m     25\u001b[0m \u001b[43m                                      \u001b[49m\u001b[43mprint_cost\u001b[49m\u001b[38;5;241;43m=\u001b[39;49m\u001b[43mprint_cost\u001b[49m\u001b[43m)\u001b[49m\n\u001b[1;32m     27\u001b[0m train_y_df[output_layer] \u001b[38;5;241m=\u001b[39m get_prediction(output_train[output_layer],\n\u001b[1;32m     28\u001b[0m                                              pd\u001b[38;5;241m.\u001b[39mget_dummies(train_y[\u001b[38;5;124m'\u001b[39m\u001b[38;5;124mdiagnosis\u001b[39m\u001b[38;5;124m'\u001b[39m]),\n\u001b[1;32m     29\u001b[0m                                              train_x,\n\u001b[1;32m     30\u001b[0m                                              datatype\u001b[38;5;241m=\u001b[39m\u001b[38;5;124m'\u001b[39m\u001b[38;5;124mdiagnosis\u001b[39m\u001b[38;5;124m'\u001b[39m)\n\u001b[1;32m     33\u001b[0m \u001b[38;5;28;01mfor\u001b[39;00m j \u001b[38;5;129;01min\u001b[39;00m \u001b[38;5;28mrange\u001b[39m(\u001b[38;5;28mlen\u001b[39m(output_train)):\n",
      "Cell \u001b[0;32mIn[111], line 74\u001b[0m, in \u001b[0;36mmodel\u001b[0;34m(X_train, Y_train, X_test, layers_node, masking, output_layer, learning_rate, num_epochs, minibatch_size, gamma, print_cost)\u001b[0m\n\u001b[1;32m     71\u001b[0m (n_x, m) \u001b[38;5;241m=\u001b[39m X_train\u001b[38;5;241m.\u001b[39mshape\n\u001b[1;32m     72\u001b[0m n_y \u001b[38;5;241m=\u001b[39m Y_train\u001b[38;5;241m.\u001b[39mshape[\u001b[38;5;241m0\u001b[39m]\n\u001b[0;32m---> 74\u001b[0m net \u001b[38;5;241m=\u001b[39m \u001b[43mCustomNetwork\u001b[49m\u001b[43m(\u001b[49m\u001b[43mlayers_node\u001b[49m\u001b[43m,\u001b[49m\u001b[43m \u001b[49m\u001b[43moutput_layer\u001b[49m\u001b[43m,\u001b[49m\u001b[43m \u001b[49m\u001b[43mmasking\u001b[49m\u001b[43m)\u001b[49m\n\u001b[1;32m     75\u001b[0m optimizer \u001b[38;5;241m=\u001b[39m optim\u001b[38;5;241m.\u001b[39mSGD(net\u001b[38;5;241m.\u001b[39mparameters(), lr\u001b[38;5;241m=\u001b[39mlearning_rate, momentum\u001b[38;5;241m=\u001b[39m\u001b[38;5;241m0.9\u001b[39m)  \u001b[38;5;66;03m# Using SGD with momentum\u001b[39;00m\n\u001b[1;32m     77\u001b[0m \u001b[38;5;28;01mfor\u001b[39;00m epoch \u001b[38;5;129;01min\u001b[39;00m \u001b[38;5;28mrange\u001b[39m(num_epochs):\n",
      "Cell \u001b[0;32mIn[111], line 44\u001b[0m, in \u001b[0;36mCustomNetwork.__init__\u001b[0;34m(self, layers_node, n, masking)\u001b[0m\n\u001b[1;32m     41\u001b[0m \u001b[38;5;28mself\u001b[39m\u001b[38;5;241m.\u001b[39mgamma \u001b[38;5;241m=\u001b[39m \u001b[38;5;241m0.0001\u001b[39m\n\u001b[1;32m     43\u001b[0m \u001b[38;5;28;01mfor\u001b[39;00m i \u001b[38;5;129;01min\u001b[39;00m \u001b[38;5;28mrange\u001b[39m(n\u001b[38;5;241m-\u001b[39m\u001b[38;5;241m1\u001b[39m):\n\u001b[0;32m---> 44\u001b[0m     in_features \u001b[38;5;241m=\u001b[39m \u001b[38;5;28mlen\u001b[39m(\u001b[43mlayers_node\u001b[49m\u001b[43m[\u001b[49m\u001b[38;5;241;43m-\u001b[39;49m\u001b[38;5;241;43m1\u001b[39;49m\u001b[38;5;241;43m-\u001b[39;49m\u001b[43mi\u001b[49m\u001b[43m]\u001b[49m)\n\u001b[1;32m     45\u001b[0m     out_features \u001b[38;5;241m=\u001b[39m \u001b[38;5;28mlen\u001b[39m(layers_node[\u001b[38;5;241m-\u001b[39m\u001b[38;5;241m1\u001b[39m\u001b[38;5;241m-\u001b[39mi\u001b[38;5;241m-\u001b[39m\u001b[38;5;241m1\u001b[39m])\n\u001b[1;32m     46\u001b[0m     \u001b[38;5;28mself\u001b[39m\u001b[38;5;241m.\u001b[39mlayers\u001b[38;5;241m.\u001b[39mappend(nn\u001b[38;5;241m.\u001b[39mLinear(in_features, out_features))\n",
      "\u001b[0;31mKeyError\u001b[0m: -1"
     ]
    }
   ],
   "source": []
  },
  {
   "cell_type": "code",
   "execution_count": null,
   "id": "bcaa4a26-e8f8-4f4f-b747-38806641a289",
   "metadata": {},
   "outputs": [],
   "source": [
    "sum(pred_train_y.diagnosis.values == rlabel.diagnosis.values)/len(pred_train_y)"
   ]
  },
  {
   "cell_type": "code",
   "execution_count": null,
   "id": "6d96327c-58f3-4c56-be5e-cc92dcb24ad9",
   "metadata": {},
   "outputs": [],
   "source": [
    "sum(pred_test_y.diagnosis.values == qlabel.diagnosis.values)/len(pred_test_y )"
   ]
  },
  {
   "cell_type": "code",
   "execution_count": null,
   "id": "28a95032-bab2-4264-a703-4a75f3f31089",
   "metadata": {},
   "outputs": [],
   "source": []
  },
  {
   "cell_type": "code",
   "execution_count": 52,
   "id": "43cfde36-ecf3-409a-92dc-c6f9f9a8b8f2",
   "metadata": {},
   "outputs": [
    {
     "data": {
      "text/html": [
       "<div>\n",
       "<style scoped>\n",
       "    .dataframe tbody tr th:only-of-type {\n",
       "        vertical-align: middle;\n",
       "    }\n",
       "\n",
       "    .dataframe tbody tr th {\n",
       "        vertical-align: top;\n",
       "    }\n",
       "\n",
       "    .dataframe thead th {\n",
       "        text-align: right;\n",
       "    }\n",
       "</style>\n",
       "<table border=\"1\" class=\"dataframe\">\n",
       "  <thead>\n",
       "    <tr style=\"text-align: right;\">\n",
       "      <th></th>\n",
       "      <th>diagnosis</th>\n",
       "    </tr>\n",
       "  </thead>\n",
       "  <tbody>\n",
       "    <tr>\n",
       "      <th>0</th>\n",
       "      <td>AD_with_Plaques</td>\n",
       "    </tr>\n",
       "    <tr>\n",
       "      <th>1</th>\n",
       "      <td>AD_with_Plaques</td>\n",
       "    </tr>\n",
       "    <tr>\n",
       "      <th>2</th>\n",
       "      <td>AD_with_Plaques</td>\n",
       "    </tr>\n",
       "    <tr>\n",
       "      <th>3</th>\n",
       "      <td>AD_with_Plaques</td>\n",
       "    </tr>\n",
       "    <tr>\n",
       "      <th>4</th>\n",
       "      <td>NCI_with_No_Plaques</td>\n",
       "    </tr>\n",
       "    <tr>\n",
       "      <th>...</th>\n",
       "      <td>...</td>\n",
       "    </tr>\n",
       "    <tr>\n",
       "      <th>6879</th>\n",
       "      <td>AD_with_Plaques</td>\n",
       "    </tr>\n",
       "    <tr>\n",
       "      <th>6880</th>\n",
       "      <td>NCI_with_No_Plaques</td>\n",
       "    </tr>\n",
       "    <tr>\n",
       "      <th>6881</th>\n",
       "      <td>AD_with_Plaques</td>\n",
       "    </tr>\n",
       "    <tr>\n",
       "      <th>6882</th>\n",
       "      <td>AD_with_Plaques</td>\n",
       "    </tr>\n",
       "    <tr>\n",
       "      <th>6883</th>\n",
       "      <td>NCI_with_No_Plaques</td>\n",
       "    </tr>\n",
       "  </tbody>\n",
       "</table>\n",
       "<p>6884 rows × 1 columns</p>\n",
       "</div>"
      ],
      "text/plain": [
       "                diagnosis\n",
       "0         AD_with_Plaques\n",
       "1         AD_with_Plaques\n",
       "2         AD_with_Plaques\n",
       "3         AD_with_Plaques\n",
       "4     NCI_with_No_Plaques\n",
       "...                   ...\n",
       "6879      AD_with_Plaques\n",
       "6880  NCI_with_No_Plaques\n",
       "6881      AD_with_Plaques\n",
       "6882      AD_with_Plaques\n",
       "6883  NCI_with_No_Plaques\n",
       "\n",
       "[6884 rows x 1 columns]"
      ]
     },
     "execution_count": 52,
     "metadata": {},
     "output_type": "execute_result"
    }
   ],
   "source": [
    "qlabel"
   ]
  },
  {
   "cell_type": "code",
   "execution_count": 196,
   "id": "a6648f2b-ab84-4d45-bf46-4925d0c4a96c",
   "metadata": {},
   "outputs": [
    {
     "name": "stdout",
     "output_type": "stream",
     "text": [
      "Layer output: tensor([[ 1.1401, -0.1478]], grad_fn=<AddmmBackward0>)\n",
      "After tanh activation: tensor([[ 0.8144, -0.1467]], grad_fn=<TanhBackward0>)\n"
     ]
    }
   ],
   "source": [
    "import torch\n",
    "import torch.nn as nn\n",
    "\n",
    "# Define a simple linear layer\n",
    "layer = nn.Linear(3, 2)  # Linear layer with 3 input features and 2 output features\n",
    "\n",
    "# Input tensor\n",
    "x = torch.tensor([[1.0, 2.0, 3.0]])\n",
    "\n",
    "# Apply the layer\n",
    "layer_output = layer(x)\n",
    "\n",
    "# Apply the tanh activation function\n",
    "tanh_output = torch.tanh(layer_output)\n",
    "\n",
    "print(\"Layer output:\", layer_output)\n",
    "print(\"After tanh activation:\", tanh_output)"
   ]
  },
  {
   "cell_type": "code",
   "execution_count": 197,
   "id": "31ab862b-a5f3-4136-a953-04d103a879d4",
   "metadata": {},
   "outputs": [
    {
     "data": {
      "text/plain": [
       "tensor([[ 1.1401, -0.1478]], grad_fn=<AddmmBackward0>)"
      ]
     },
     "execution_count": 197,
     "metadata": {},
     "output_type": "execute_result"
    }
   ],
   "source": [
    "layer_output"
   ]
  },
  {
   "cell_type": "code",
   "execution_count": 198,
   "id": "2edd1e13-d702-4730-85e4-31034c56a291",
   "metadata": {},
   "outputs": [
    {
     "data": {
      "text/plain": [
       "Parameter containing:\n",
       "tensor([[-0.1207,  0.5761, -0.0801],\n",
       "        [-0.3824,  0.5135, -0.1200]], requires_grad=True)"
      ]
     },
     "execution_count": 198,
     "metadata": {},
     "output_type": "execute_result"
    }
   ],
   "source": [
    "layer.weight"
   ]
  },
  {
   "cell_type": "code",
   "execution_count": 199,
   "id": "5a452b2c-79ed-4394-887d-a8f81b924bb7",
   "metadata": {},
   "outputs": [
    {
     "data": {
      "text/plain": [
       "torch.Size([2, 3])"
      ]
     },
     "execution_count": 199,
     "metadata": {},
     "output_type": "execute_result"
    }
   ],
   "source": [
    "layer.weight.shape"
   ]
  },
  {
   "cell_type": "code",
   "execution_count": 201,
   "id": "56008d09-aab5-48d6-8a93-59eeba7679c5",
   "metadata": {},
   "outputs": [
    {
     "data": {
      "text/plain": [
       "torch.Size([1, 3])"
      ]
     },
     "execution_count": 201,
     "metadata": {},
     "output_type": "execute_result"
    }
   ],
   "source": [
    "x.shape"
   ]
  },
  {
   "cell_type": "code",
   "execution_count": 202,
   "id": "42ad6c68-f6e2-4baf-89c9-6b26c1e23b0e",
   "metadata": {},
   "outputs": [
    {
     "data": {
      "text/plain": [
       "0.7911999999999999"
      ]
     },
     "execution_count": 202,
     "metadata": {},
     "output_type": "execute_result"
    }
   ],
   "source": [
    "-0.1207*1 + 0.5761*2 -0.0801*3"
   ]
  },
  {
   "cell_type": "code",
   "execution_count": null,
   "id": "f4c44666-4a10-4080-9480-c190b530db18",
   "metadata": {},
   "outputs": [],
   "source": [
    "-0.1207,  0.5761, -0.0801"
   ]
  },
  {
   "cell_type": "code",
   "execution_count": 204,
   "id": "6755c25e-e8b2-46fa-8e7c-906c55dcc123",
   "metadata": {},
   "outputs": [
    {
     "data": {
      "text/plain": [
       "0.28459999999999985"
      ]
     },
     "execution_count": 204,
     "metadata": {},
     "output_type": "execute_result"
    }
   ],
   "source": [
    "(-0.3824*1) +  (0.5135*2) -(0.1200*3)"
   ]
  },
  {
   "cell_type": "code",
   "execution_count": 222,
   "id": "49c35e56-ac27-490f-8df1-018342dad4bc",
   "metadata": {},
   "outputs": [
    {
     "name": "stdout",
     "output_type": "stream",
     "text": [
      "Layer output: tensor([[-0.7807,  0.0361]], grad_fn=<MmBackward0>)\n",
      "After tanh activation: tensor([[-0.6531,  0.0361]], grad_fn=<TanhBackward0>)\n"
     ]
    }
   ],
   "source": [
    "import torch\n",
    "import torch.nn as nn\n",
    "\n",
    "# Define a simple linear layer\n",
    "layer = nn.Linear(3, 2, bias = False)  # Linear layer with 3 input features and 2 output features\n",
    "\n",
    "# Input tensor\n",
    "x = torch.tensor([[1.0, 2.0, 3.0]])\n",
    "\n",
    "# Apply the layer\n",
    "layer_output = layer(x)\n",
    "\n",
    "# Apply the tanh activation function\n",
    "tanh_output = torch.tanh(layer_output)\n",
    "\n",
    "print(\"Layer output:\", layer_output)\n",
    "print(\"After tanh activation:\", tanh_output)"
   ]
  },
  {
   "cell_type": "code",
   "execution_count": 223,
   "id": "9dab1582-2d77-44df-bc5f-0748e389589c",
   "metadata": {},
   "outputs": [
    {
     "data": {
      "text/plain": [
       "torch.Size([2, 3])"
      ]
     },
     "execution_count": 223,
     "metadata": {},
     "output_type": "execute_result"
    }
   ],
   "source": [
    "layer.weight.shape"
   ]
  },
  {
   "cell_type": "code",
   "execution_count": 224,
   "id": "12683e48-30fd-436f-8d01-528dbf28ebd0",
   "metadata": {},
   "outputs": [
    {
     "data": {
      "text/plain": [
       "torch.Size([1, 3])"
      ]
     },
     "execution_count": 224,
     "metadata": {},
     "output_type": "execute_result"
    }
   ],
   "source": [
    "x.shape"
   ]
  },
  {
   "cell_type": "code",
   "execution_count": 229,
   "id": "7048a058-832b-4085-a757-850d88a5ce67",
   "metadata": {},
   "outputs": [
    {
     "data": {
      "text/plain": [
       "tensor([[-0.7807,  0.0361]], grad_fn=<MmBackward0>)"
      ]
     },
     "execution_count": 229,
     "metadata": {},
     "output_type": "execute_result"
    }
   ],
   "source": [
    "# What nn.linear does\n",
    "\n",
    "torch.matmul(x,layer.weight.T)    \n"
   ]
  },
  {
   "cell_type": "code",
   "execution_count": 226,
   "id": "778eff23-4ebf-431b-9e79-603534027e5f",
   "metadata": {},
   "outputs": [
    {
     "data": {
      "text/plain": [
       "Parameter containing:\n",
       "tensor([[ 0.4250,  0.2475, -0.5669],\n",
       "        [-0.4622,  0.5361, -0.1913]], requires_grad=True)"
      ]
     },
     "execution_count": 226,
     "metadata": {},
     "output_type": "execute_result"
    }
   ],
   "source": [
    "layer.weight"
   ]
  },
  {
   "cell_type": "code",
   "execution_count": 227,
   "id": "3ecf3caa-e38f-497a-8fc4-cf1571eae053",
   "metadata": {},
   "outputs": [
    {
     "data": {
      "text/plain": [
       "-1.7913000000000001"
      ]
     },
     "execution_count": 227,
     "metadata": {},
     "output_type": "execute_result"
    }
   ],
   "source": [
    "1*0.5236 -0.5384*2-0.4127*3"
   ]
  },
  {
   "cell_type": "code",
   "execution_count": 228,
   "id": "64fd7b3e-7697-461f-8f75-91d106fcc0e9",
   "metadata": {},
   "outputs": [
    {
     "data": {
      "text/plain": [
       "tensor([[-0.7807,  0.0361]], grad_fn=<MmBackward0>)"
      ]
     },
     "execution_count": 228,
     "metadata": {},
     "output_type": "execute_result"
    }
   ],
   "source": [
    "layer_output"
   ]
  },
  {
   "cell_type": "code",
   "execution_count": 230,
   "id": "a28610ff-915f-49ac-9a7a-7f7da183b64a",
   "metadata": {},
   "outputs": [
    {
     "name": "stdout",
     "output_type": "stream",
     "text": [
      "x_batch shape: torch.Size([1024, 3])\n",
      "x_batch tensor: tensor([[ 1.3851,  0.2620, -1.0035],\n",
      "        [-0.3788,  1.1610, -1.9341],\n",
      "        [ 0.1912,  1.6240, -1.6308],\n",
      "        ...,\n",
      "        [ 0.0301, -0.4233,  1.8012],\n",
      "        [ 1.7705,  0.0975, -0.7867],\n",
      "        [ 1.1085,  0.7245, -0.5201]])\n"
     ]
    }
   ],
   "source": [
    "import torch\n",
    "\n",
    "# Create a batch of tensors\n",
    "num_samples = 1024\n",
    "num_features = 3\n",
    "x_batch = torch.randn(num_samples, num_features)  # Shape: [1024, 3]§\n",
    "\n",
    "# Print the shape and content of the batch\n",
    "print(\"x_batch shape:\", x_batch.shape)\n",
    "print(\"x_batch tensor:\", x_batch)\n"
   ]
  },
  {
   "cell_type": "code",
   "execution_count": 231,
   "id": "7e6ec33d-7ddb-4542-a241-aae6740f054e",
   "metadata": {},
   "outputs": [],
   "source": [
    "layer = nn.Linear(3, 2, bias = False) "
   ]
  },
  {
   "cell_type": "code",
   "execution_count": 234,
   "id": "a4fffec3-5c6c-466c-aea1-850a05a6b112",
   "metadata": {},
   "outputs": [
    {
     "data": {
      "text/plain": [
       "Parameter containing:\n",
       "tensor([[-0.1641,  0.5494,  0.1831],\n",
       "        [ 0.2614, -0.2852, -0.3680]], requires_grad=True)"
      ]
     },
     "execution_count": 234,
     "metadata": {},
     "output_type": "execute_result"
    }
   ],
   "source": [
    "layer.weight"
   ]
  },
  {
   "cell_type": "code",
   "execution_count": 232,
   "id": "98d9b01c-2076-4d53-99bf-d45135435b06",
   "metadata": {},
   "outputs": [],
   "source": [
    "layer_output = layer(x_batch)"
   ]
  },
  {
   "cell_type": "code",
   "execution_count": 233,
   "id": "eaa1aa77-c2aa-4b3b-ba0c-af8a9956e7b0",
   "metadata": {},
   "outputs": [
    {
     "data": {
      "text/plain": [
       "tensor([[-0.2671,  0.6567],\n",
       "        [ 0.3457,  0.2817],\n",
       "        [ 0.5621,  0.1870],\n",
       "        ...,\n",
       "        [ 0.0924, -0.5343],\n",
       "        [-0.3810,  0.7246],\n",
       "        [ 0.1209,  0.2746]], grad_fn=<MmBackward0>)"
      ]
     },
     "execution_count": 233,
     "metadata": {},
     "output_type": "execute_result"
    }
   ],
   "source": [
    "layer_output "
   ]
  },
  {
   "cell_type": "code",
   "execution_count": 236,
   "id": "83d90573-d194-4acb-87e4-129eb6a8a976",
   "metadata": {},
   "outputs": [
    {
     "data": {
      "text/plain": [
       "-0.26599416"
      ]
     },
     "execution_count": 236,
     "metadata": {},
     "output_type": "execute_result"
    }
   ],
   "source": [
    "1.3851 * -0.1641 + 0.2640 * 0.5494 + 0.1831 * -1.0035"
   ]
  },
  {
   "cell_type": "code",
   "execution_count": null,
   "id": "2eebf343-ebd3-4ad1-97c7-93083a111477",
   "metadata": {},
   "outputs": [],
   "source": []
  },
  {
   "cell_type": "code",
   "execution_count": null,
   "id": "50bdd3d1-c6c0-4bd8-af0b-886281a0db77",
   "metadata": {},
   "outputs": [],
   "source": []
  },
  {
   "cell_type": "code",
   "execution_count": null,
   "id": "838cf8de-fa87-4d0f-abb0-9e7a73a969be",
   "metadata": {},
   "outputs": [],
   "source": []
  },
  {
   "cell_type": "markdown",
   "id": "2ba6fbbb-526f-4ceb-86e7-1b240f373593",
   "metadata": {},
   "source": [
    "# Understading Masking and batch intorch\n"
   ]
  },
  {
   "cell_type": "code",
   "execution_count": null,
   "id": "b3bbeffc-b225-44a5-b9a1-b15d02a4a876",
   "metadata": {},
   "outputs": [],
   "source": []
  }
 ],
 "metadata": {
  "kernelspec": {
   "display_name": "Python 3 (ipykernel)",
   "language": "python",
   "name": "python3"
  },
  "language_info": {
   "codemirror_mode": {
    "name": "ipython",
    "version": 3
   },
   "file_extension": ".py",
   "mimetype": "text/x-python",
   "name": "python",
   "nbconvert_exporter": "python",
   "pygments_lexer": "ipython3",
   "version": "3.12.2"
  }
 },
 "nbformat": 4,
 "nbformat_minor": 5
}
