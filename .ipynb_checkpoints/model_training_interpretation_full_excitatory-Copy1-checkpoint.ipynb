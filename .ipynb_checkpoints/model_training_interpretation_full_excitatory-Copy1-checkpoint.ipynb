{
 "cells": [
  {
   "cell_type": "markdown",
   "id": "ede80ff4-96c7-4c69-8695-db4e19bf987b",
   "metadata": {},
   "source": [
    "# AD_with_Plaques:1\n",
    "# NCI_with_No_Plaques: 0"
   ]
  },
  {
   "cell_type": "code",
   "execution_count": 3,
   "id": "17daee1e-8cea-4fa2-ae8c-d63b1396bf0e",
   "metadata": {},
   "outputs": [
    {
     "name": "stderr",
     "output_type": "stream",
     "text": [
      "2024-08-25 08:41:35.703062: I tensorflow/core/util/port.cc:113] oneDNN custom operations are on. You may see slightly different numerical results due to floating-point round-off errors from different computation orders. To turn them off, set the environment variable `TF_ENABLE_ONEDNN_OPTS=0`.\n",
      "2024-08-25 08:41:35.841578: E external/local_xla/xla/stream_executor/cuda/cuda_fft.cc:479] Unable to register cuFFT factory: Attempting to register factory for plugin cuFFT when one has already been registered\n",
      "2024-08-25 08:41:35.902661: E external/local_xla/xla/stream_executor/cuda/cuda_dnn.cc:10575] Unable to register cuDNN factory: Attempting to register factory for plugin cuDNN when one has already been registered\n",
      "2024-08-25 08:41:35.903193: E external/local_xla/xla/stream_executor/cuda/cuda_blas.cc:1442] Unable to register cuBLAS factory: Attempting to register factory for plugin cuBLAS when one has already been registered\n",
      "2024-08-25 08:41:36.003881: I tensorflow/core/platform/cpu_feature_guard.cc:210] This TensorFlow binary is optimized to use available CPU instructions in performance-critical operations.\n",
      "To enable the following instructions: AVX2 AVX512F AVX512_VNNI AVX512_BF16 FMA, in other operations, rebuild TensorFlow with the appropriate compiler flags.\n",
      "2024-08-25 08:41:36.730972: W tensorflow/compiler/tf2tensorrt/utils/py_utils.cc:38] TF-TRT Warning: Could not find TensorRT\n"
     ]
    }
   ],
   "source": [
    "\n",
    "import tensorflow as tf\n",
    "from gene_expression import *\n",
    "from pathway_hierarchy import *\n",
    "from utils import *\n",
    "import torch"
   ]
  },
  {
   "cell_type": "code",
   "execution_count": null,
   "id": "2fb0cea0-3807-442e-8374-f4c7a4b49355",
   "metadata": {
    "scrolled": true
   },
   "outputs": [
    {
     "name": "stdout",
     "output_type": "stream",
     "text": [
      "{'dataset': {'train': '/12tb_dsk2/danish/Pytorch_Biologically_Informed_Neural_Network/Preprocessed_data/excitory_neurons/train.csv', 'test': '/12tb_dsk2/danish/Pytorch_Biologically_Informed_Neural_Network/Preprocessed_data/excitory_neurons/test.csv', 'val': '/12tb_dsk2/danish/Pytorch_Biologically_Informed_Neural_Network/Preprocessed_data/excitory_neurons/val.csv', 'y_train': '/12tb_dsk2/danish/Pytorch_Biologically_Informed_Neural_Network/Preprocessed_data/excitory_neurons/y_train.csv', 'y_test': '/12tb_dsk2/danish/Pytorch_Biologically_Informed_Neural_Network/Preprocessed_data/excitory_neurons/y_test.csv', 'y_val': '/12tb_dsk2/danish/Pytorch_Biologically_Informed_Neural_Network/Preprocessed_data/excitory_neurons/y_val.csv'}, 'model_output': {'model_save_dir': '/12tb_dsk2/danish/Pytorch_Biologically_Informed_Neural_Network/model_save/excitory_neurons/'}, 'train': {'epochs': 400, 'learning_rate': 0.0001, 'weight_decay': 0.001, 'batch_size': 20000}, 'gene_expression': {'highly_expressed_threshold': 0.7, 'lowly_expressed_threshold': 0.7, 'normalization': True, 'marker': True, 'print_information': True}, 'pathways_network': {'species': 'human', 'n_hidden_layer': 5, 'pathway_relation': './reactome/ReactomePathwaysRelationReverse.txt', 'pathway_names': './reactome/ReactomePathways.txt', 'ensemble_pathway_relation': './reactome/Ensembl2Reactome_All_Levels.txt', 'datatype': 'diagnosis', 'h_thresh': 1.0, 'l_thresh': 0.0, 'pathway_relation_updated': './reactome/Subset_reactomePathwaysRelation.txt', 'ensemble_pathway_relation_updated': './reactome/Subset_Ensembl2Reactome_All_Levels.txt'}}\n",
      "               0              1  \\\n",
      "0          26364   R-BTA-162582   \n",
      "1          26364   R-BTA-195253   \n",
      "2          26364   R-BTA-195721   \n",
      "3          26364   R-BTA-196299   \n",
      "4          26364   R-BTA-201681   \n",
      "...          ...            ...   \n",
      "2774794  YPR188C  R-SCE-9716542   \n",
      "2774795  YPR193C  R-SCE-1430728   \n",
      "2774796  YPR193C   R-SCE-351200   \n",
      "2774797  YPR193C   R-SCE-351202   \n",
      "2774798  YPR193C    R-SCE-71291   \n",
      "\n",
      "                                                         2  \\\n",
      "0        https://reactome.org/PathwayBrowser/#/R-BTA-16...   \n",
      "1        https://reactome.org/PathwayBrowser/#/R-BTA-19...   \n",
      "2        https://reactome.org/PathwayBrowser/#/R-BTA-19...   \n",
      "3        https://reactome.org/PathwayBrowser/#/R-BTA-19...   \n",
      "4        https://reactome.org/PathwayBrowser/#/R-BTA-20...   \n",
      "...                                                    ...   \n",
      "2774794  https://reactome.org/PathwayBrowser/#/R-SCE-97...   \n",
      "2774795  https://reactome.org/PathwayBrowser/#/R-SCE-14...   \n",
      "2774796  https://reactome.org/PathwayBrowser/#/R-SCE-35...   \n",
      "2774797  https://reactome.org/PathwayBrowser/#/R-SCE-35...   \n",
      "2774798  https://reactome.org/PathwayBrowser/#/R-SCE-71291   \n",
      "\n",
      "                                                         3    4  \\\n",
      "0                                      Signal Transduction  IEA   \n",
      "1        Degradation of beta-catenin by the destruction...  IEA   \n",
      "2                                         Signaling by WNT  IEA   \n",
      "3                     Beta-catenin phosphorylation cascade  IEA   \n",
      "4               TCF dependent signaling in response to WNT  IEA   \n",
      "...                                                    ...  ...   \n",
      "2774794  Signaling by Rho GTPases, Miro GTPases and RHO...  IEA   \n",
      "2774795                                         Metabolism  IEA   \n",
      "2774796                      Interconversion of polyamines  IEA   \n",
      "2774797                           Metabolism of polyamines  IEA   \n",
      "2774798          Metabolism of amino acids and derivatives  IEA   \n",
      "\n",
      "                                5  \n",
      "0                      Bos taurus  \n",
      "1                      Bos taurus  \n",
      "2                      Bos taurus  \n",
      "3                      Bos taurus  \n",
      "4                      Bos taurus  \n",
      "...                           ...  \n",
      "2774794  Saccharomyces cerevisiae  \n",
      "2774795  Saccharomyces cerevisiae  \n",
      "2774796  Saccharomyces cerevisiae  \n",
      "2774797  Saccharomyces cerevisiae  \n",
      "2774798  Saccharomyces cerevisiae  \n",
      "\n",
      "[2774799 rows x 6 columns]\n",
      "Getting Marker Genes.......\n",
      "6750\n",
      "6750\n",
      "13500\n",
      "13500\n",
      "                    0                1\n",
      "0     ENSG00000281151  ENSG00000101210\n",
      "1     ENSG00000197457  ENSG00000101246\n",
      "2     ENSG00000130584  ENSG00000101150\n",
      "3     ENSG00000198276  ENSG00000101161\n",
      "4     ENSG00000280663  ENSG00000129946\n",
      "...               ...              ...\n",
      "6745  ENSG00000102921  ENSG00000102935\n",
      "6746  ENSG00000155393  ENSG00000121274\n",
      "6747  ENSG00000121281  ENSG00000083799\n",
      "6748  ENSG00000177200  ENSG00000103479\n",
      "6749  ENSG00000140718  ENSG00000245694\n",
      "\n",
      "[6750 rows x 2 columns]\n",
      "                    0                1\n",
      "0     ENSG00000281151  ENSG00000101210\n",
      "1     ENSG00000197457  ENSG00000101246\n",
      "2     ENSG00000130584  ENSG00000101150\n",
      "3     ENSG00000198276  ENSG00000101161\n",
      "4     ENSG00000280663  ENSG00000129946\n",
      "...               ...              ...\n",
      "6745  ENSG00000102921  ENSG00000102935\n",
      "6746  ENSG00000155393  ENSG00000121274\n",
      "6747  ENSG00000121281  ENSG00000083799\n",
      "6748  ENSG00000177200  ENSG00000103479\n",
      "6749  ENSG00000140718  ENSG00000245694\n",
      "\n",
      "[6750 rows x 2 columns]\n",
      "Getting Pathway Genes.........\n",
      "Getting Masking.........\n",
      "HSA\n"
     ]
    },
    {
     "name": "stderr",
     "output_type": "stream",
     "text": [
      "/home/anwer/.local/lib/python3.12/site-packages/torch/optim/lr_scheduler.py:28: UserWarning: The verbose parameter is deprecated. Please use get_last_lr() to access the learning rate.\n",
      "  warnings.warn(\"The verbose parameter is deprecated. Please use get_last_lr() \"\n"
     ]
    },
    {
     "name": "stdout",
     "output_type": "stream",
     "text": [
      "Training.........\n",
      "Current sub-neural network has 1 hidden layers.\n",
      "...\n"
     ]
    },
    {
     "name": "stderr",
     "output_type": "stream",
     "text": [
      "  0%|▍                                                                                                                                                                         | 1/400 [00:09<1:02:08,  9.34s/it]"
     ]
    },
    {
     "name": "stdout",
     "output_type": "stream",
     "text": [
      "Epoch [1/400], Train Loss: 6.2362, Train_accuracy: 51.87284070290558, Val Loss: 2.0770, Val_accuracy: 52.44007008910263\n",
      "Model saved.\n"
     ]
    },
    {
     "name": "stderr",
     "output_type": "stream",
     "text": [
      "  0%|▊                                                                                                                                                                         | 2/400 [00:18<1:00:54,  9.18s/it]"
     ]
    },
    {
     "name": "stdout",
     "output_type": "stream",
     "text": [
      "Epoch [2/400], Train Loss: 6.2156, Train_accuracy: 54.28814654636741, Val Loss: 2.0703, Val_accuracy: 54.665771912164935\n",
      "Model saved.\n"
     ]
    },
    {
     "name": "stderr",
     "output_type": "stream",
     "text": [
      "  1%|█▎                                                                                                                                                                        | 3/400 [00:27<1:00:23,  9.13s/it]"
     ]
    },
    {
     "name": "stdout",
     "output_type": "stream",
     "text": [
      "Epoch [3/400], Train Loss: 6.1874, Train_accuracy: 55.84905425894166, Val Loss: 2.0618, Val_accuracy: 56.21667971516982\n",
      "Model saved.\n"
     ]
    },
    {
     "name": "stderr",
     "output_type": "stream",
     "text": [
      "  1%|█▋                                                                                                                                                                        | 4/400 [00:36<1:00:56,  9.23s/it]"
     ]
    },
    {
     "name": "stdout",
     "output_type": "stream",
     "text": [
      "Epoch [4/400], Train Loss: 6.1625, Train_accuracy: 58.267467004697636, Val Loss: 2.0539, Val_accuracy: 58.47034261641129\n",
      "Model saved.\n"
     ]
    },
    {
     "name": "stderr",
     "output_type": "stream",
     "text": [
      "  1%|██▏                                                                                                                                                                       | 5/400 [00:45<1:00:26,  9.18s/it]"
     ]
    },
    {
     "name": "stdout",
     "output_type": "stream",
     "text": [
      "Epoch [5/400], Train Loss: 6.1378, Train_accuracy: 61.95287450600254, Val Loss: 2.0458, Val_accuracy: 62.19662230175596\n",
      "Model saved.\n"
     ]
    },
    {
     "name": "stderr",
     "output_type": "stream",
     "text": [
      "  2%|██▌                                                                                                                                                                       | 6/400 [00:55<1:00:12,  9.17s/it]"
     ]
    },
    {
     "name": "stdout",
     "output_type": "stream",
     "text": [
      "Epoch [6/400], Train Loss: 6.1129, Train_accuracy: 62.72835731861905, Val Loss: 2.0380, Val_accuracy: 62.91615404690005\n",
      "Model saved.\n"
     ]
    },
    {
     "name": "stderr",
     "output_type": "stream",
     "text": [
      "  2%|██▉                                                                                                                                                                       | 7/400 [01:04<1:00:41,  9.27s/it]"
     ]
    },
    {
     "name": "stdout",
     "output_type": "stream",
     "text": [
      "Epoch [7/400], Train Loss: 6.0884, Train_accuracy: 63.3161832326697, Val Loss: 2.0303, Val_accuracy: 63.536889982477724\n",
      "Model saved.\n"
     ]
    },
    {
     "name": "stderr",
     "output_type": "stream",
     "text": [
      "  2%|███▍                                                                                                                                                                      | 8/400 [01:13<1:00:11,  9.21s/it]"
     ]
    },
    {
     "name": "stdout",
     "output_type": "stream",
     "text": [
      "Epoch [8/400], Train Loss: 6.0641, Train_accuracy: 64.29112917256978, Val Loss: 2.0225, Val_accuracy: 64.4465570592402\n",
      "Model saved.\n"
     ]
    },
    {
     "name": "stderr",
     "output_type": "stream",
     "text": [
      "  2%|███▊                                                                                                                                                                        | 9/400 [01:22<59:53,  9.19s/it]"
     ]
    },
    {
     "name": "stdout",
     "output_type": "stream",
     "text": [
      "Epoch [9/400], Train Loss: 6.0397, Train_accuracy: 64.96967663360923, Val Loss: 2.0148, Val_accuracy: 65.09525407299705\n",
      "Model saved.\n"
     ]
    },
    {
     "name": "stderr",
     "output_type": "stream",
     "text": [
      "  2%|████▎                                                                                                                                                                      | 10/400 [01:31<59:40,  9.18s/it]"
     ]
    },
    {
     "name": "stdout",
     "output_type": "stream",
     "text": [
      "Epoch [10/400], Train Loss: 6.0154, Train_accuracy: 65.45124648920041, Val Loss: 2.0071, Val_accuracy: 65.63956306155166\n",
      "Model saved.\n"
     ]
    },
    {
     "name": "stderr",
     "output_type": "stream",
     "text": [
      "  3%|████▋                                                                                                                                                                      | 11/400 [01:41<59:31,  9.18s/it]"
     ]
    },
    {
     "name": "stdout",
     "output_type": "stream",
     "text": [
      "Epoch [11/400], Train Loss: 5.9912, Train_accuracy: 65.99246886883901, Val Loss: 1.9994, Val_accuracy: 66.079484024904\n",
      "Model saved.\n"
     ]
    },
    {
     "name": "stderr",
     "output_type": "stream",
     "text": [
      "  3%|█████▏                                                                                                                                                                     | 12/400 [01:50<59:55,  9.27s/it]"
     ]
    },
    {
     "name": "stdout",
     "output_type": "stream",
     "text": [
      "Epoch [12/400], Train Loss: 5.9671, Train_accuracy: 66.49081599681853, Val Loss: 1.9917, Val_accuracy: 66.58464750400775\n",
      "Model saved.\n"
     ]
    },
    {
     "name": "stderr",
     "output_type": "stream",
     "text": [
      "  3%|█████▌                                                                                                                                                                     | 13/400 [01:59<59:33,  9.23s/it]"
     ]
    },
    {
     "name": "stdout",
     "output_type": "stream",
     "text": [
      "Epoch [13/400], Train Loss: 5.9431, Train_accuracy: 66.87047945716203, Val Loss: 1.9841, Val_accuracy: 66.96678223912313\n",
      "Model saved.\n"
     ]
    },
    {
     "name": "stderr",
     "output_type": "stream",
     "text": [
      "  4%|█████▉                                                                                                                                                                     | 14/400 [02:08<59:18,  9.22s/it]"
     ]
    },
    {
     "name": "stdout",
     "output_type": "stream",
     "text": [
      "Epoch [14/400], Train Loss: 5.9193, Train_accuracy: 67.22155941639947, Val Loss: 1.9766, Val_accuracy: 67.45330499944077\n",
      "Model saved.\n"
     ]
    },
    {
     "name": "stderr",
     "output_type": "stream",
     "text": [
      "  4%|██████▍                                                                                                                                                                    | 15/400 [02:18<59:04,  9.21s/it]"
     ]
    },
    {
     "name": "stdout",
     "output_type": "stream",
     "text": [
      "Epoch [15/400], Train Loss: 5.8958, Train_accuracy: 67.60308701811945, Val Loss: 1.9692, Val_accuracy: 67.76274093129031\n",
      "Model saved.\n"
     ]
    },
    {
     "name": "stderr",
     "output_type": "stream",
     "text": [
      "  4%|██████▊                                                                                                                                                                    | 16/400 [02:27<58:55,  9.21s/it]"
     ]
    },
    {
     "name": "stdout",
     "output_type": "stream",
     "text": [
      "Epoch [16/400], Train Loss: 5.8726, Train_accuracy: 67.89140755101533, Val Loss: 1.9618, Val_accuracy: 68.08708943816873\n",
      "Model saved.\n"
     ]
    },
    {
     "name": "stderr",
     "output_type": "stream",
     "text": [
      "  4%|███████▎                                                                                                                                                                   | 17/400 [02:36<59:21,  9.30s/it]"
     ]
    },
    {
     "name": "stdout",
     "output_type": "stream",
     "text": [
      "Epoch [17/400], Train Loss: 5.8497, Train_accuracy: 68.23440956428803, Val Loss: 1.9546, Val_accuracy: 68.4021175856541\n",
      "Model saved.\n"
     ]
    },
    {
     "name": "stderr",
     "output_type": "stream",
     "text": [
      "  4%|███████▋                                                                                                                                                                   | 18/400 [02:46<58:57,  9.26s/it]"
     ]
    },
    {
     "name": "stdout",
     "output_type": "stream",
     "text": [
      "Epoch [18/400], Train Loss: 5.8271, Train_accuracy: 68.51340939030149, Val Loss: 1.9475, Val_accuracy: 68.71900980501808\n",
      "Model saved.\n"
     ]
    },
    {
     "name": "stderr",
     "output_type": "stream",
     "text": [
      "  5%|████████                                                                                                                                                                   | 19/400 [02:55<58:40,  9.24s/it]"
     ]
    },
    {
     "name": "stdout",
     "output_type": "stream",
     "text": [
      "Epoch [19/400], Train Loss: 5.8049, Train_accuracy: 68.806700966868, Val Loss: 1.9405, Val_accuracy: 69.0098050180815\n",
      "Model saved.\n"
     ]
    },
    {
     "name": "stderr",
     "output_type": "stream",
     "text": [
      "  5%|████████▌                                                                                                                                                                  | 20/400 [03:04<58:27,  9.23s/it]"
     ]
    },
    {
     "name": "stdout",
     "output_type": "stream",
     "text": [
      "Epoch [20/400], Train Loss: 5.7830, Train_accuracy: 69.05401038948128, Val Loss: 1.9336, Val_accuracy: 69.22044514036462\n",
      "Model saved.\n"
     ]
    },
    {
     "name": "stderr",
     "output_type": "stream",
     "text": [
      "  5%|████████▉                                                                                                                                                                  | 21/400 [03:13<58:39,  9.29s/it]"
     ]
    },
    {
     "name": "stdout",
     "output_type": "stream",
     "text": [
      "Epoch [21/400], Train Loss: 5.7615, Train_accuracy: 69.28578530062387, Val Loss: 1.9268, Val_accuracy: 69.4254930470119\n",
      "Model saved.\n"
     ]
    },
    {
     "name": "stderr",
     "output_type": "stream",
     "text": [
      "  6%|█████████▍                                                                                                                                                                 | 22/400 [03:22<57:56,  9.20s/it]"
     ]
    },
    {
     "name": "stdout",
     "output_type": "stream",
     "text": [
      "Epoch [22/400], Train Loss: 5.7404, Train_accuracy: 69.5069967439664, Val Loss: 1.9202, Val_accuracy: 69.6491816724453\n",
      "Model saved.\n"
     ]
    },
    {
     "name": "stderr",
     "output_type": "stream",
     "text": [
      "  6%|█████████▊                                                                                                                                                                 | 23/400 [03:31<57:39,  9.18s/it]"
     ]
    },
    {
     "name": "stdout",
     "output_type": "stream",
     "text": [
      "Epoch [23/400], Train Loss: 5.7196, Train_accuracy: 69.75741306887382, Val Loss: 1.9137, Val_accuracy: 69.79085113521977\n",
      "Model saved.\n"
     ]
    },
    {
     "name": "stderr",
     "output_type": "stream",
     "text": [
      "  6%|██████████▎                                                                                                                                                                | 24/400 [03:41<58:11,  9.29s/it]"
     ]
    },
    {
     "name": "stdout",
     "output_type": "stream",
     "text": [
      "Epoch [24/400], Train Loss: 5.6991, Train_accuracy: 69.93202097780429, Val Loss: 1.9073, Val_accuracy: 69.97725832308093\n",
      "Model saved.\n"
     ]
    },
    {
     "name": "stderr",
     "output_type": "stream",
     "text": [
      "  6%|██████████▋                                                                                                                                                                | 25/400 [03:50<57:57,  9.27s/it]"
     ]
    },
    {
     "name": "stdout",
     "output_type": "stream",
     "text": [
      "Epoch [25/400], Train Loss: 5.6791, Train_accuracy: 70.07866676608754, Val Loss: 1.9011, Val_accuracy: 70.12638407336986\n",
      "Model saved.\n"
     ]
    },
    {
     "name": "stderr",
     "output_type": "stream",
     "text": [
      "  6%|███████████                                                                                                                                                                | 26/400 [03:59<57:41,  9.25s/it]"
     ]
    },
    {
     "name": "stdout",
     "output_type": "stream",
     "text": [
      "Epoch [26/400], Train Loss: 5.6593, Train_accuracy: 70.2371187830885, Val Loss: 1.8949, Val_accuracy: 70.3239756925027\n",
      "Model saved.\n"
     ]
    },
    {
     "name": "stderr",
     "output_type": "stream",
     "text": [
      "  7%|███████████▌                                                                                                                                                               | 27/400 [04:09<57:27,  9.24s/it]"
     ]
    },
    {
     "name": "stdout",
     "output_type": "stream",
     "text": [
      "Epoch [27/400], Train Loss: 5.6400, Train_accuracy: 70.375686625407, Val Loss: 1.8889, Val_accuracy: 70.4507325802483\n",
      "Model saved.\n"
     ]
    },
    {
     "name": "stderr",
     "output_type": "stream",
     "text": [
      "  7%|███████████▉                                                                                                                                                               | 28/400 [04:18<57:40,  9.30s/it]"
     ]
    },
    {
     "name": "stdout",
     "output_type": "stream",
     "text": [
      "Epoch [28/400], Train Loss: 5.6209, Train_accuracy: 70.54345934929039, Val Loss: 1.8830, Val_accuracy: 70.5308876710286\n",
      "Model saved.\n"
     ]
    },
    {
     "name": "stderr",
     "output_type": "stream",
     "text": [
      "  7%|████████████▍                                                                                                                                                              | 29/400 [04:27<57:02,  9.23s/it]"
     ]
    },
    {
     "name": "stdout",
     "output_type": "stream",
     "text": [
      "Epoch [29/400], Train Loss: 5.6023, Train_accuracy: 70.69445480078542, Val Loss: 1.8772, Val_accuracy: 70.66882899004585\n",
      "Model saved.\n"
     ]
    },
    {
     "name": "stderr",
     "output_type": "stream",
     "text": [
      "  8%|████████████▊                                                                                                                                                              | 30/400 [04:36<56:53,  9.22s/it]"
     ]
    },
    {
     "name": "stdout",
     "output_type": "stream",
     "text": [
      "Epoch [30/400], Train Loss: 5.5839, Train_accuracy: 70.83612954539805, Val Loss: 1.8716, Val_accuracy: 70.78067330276255\n",
      "Model saved.\n"
     ]
    },
    {
     "name": "stderr",
     "output_type": "stream",
     "text": [
      "  8%|█████████████▎                                                                                                                                                             | 31/400 [04:46<56:44,  9.23s/it]"
     ]
    },
    {
     "name": "stdout",
     "output_type": "stream",
     "text": [
      "Epoch [31/400], Train Loss: 5.5659, Train_accuracy: 70.95108493028111, Val Loss: 1.8660, Val_accuracy: 70.86082839354286\n",
      "Model saved.\n"
     ]
    },
    {
     "name": "stderr",
     "output_type": "stream",
     "text": [
      "  8%|█████████████▋                                                                                                                                                             | 32/400 [04:55<57:13,  9.33s/it]"
     ]
    },
    {
     "name": "stdout",
     "output_type": "stream",
     "text": [
      "Epoch [32/400], Train Loss: 5.5482, Train_accuracy: 71.04864166231701, Val Loss: 1.8606, Val_accuracy: 70.90929426238675\n",
      "Model saved.\n"
     ]
    },
    {
     "name": "stderr",
     "output_type": "stream",
     "text": [
      "  8%|██████████████                                                                                                                                                             | 33/400 [05:04<56:52,  9.30s/it]"
     ]
    },
    {
     "name": "stdout",
     "output_type": "stream",
     "text": [
      "Epoch [33/400], Train Loss: 5.5308, Train_accuracy: 71.1847239828002, Val Loss: 1.8552, Val_accuracy: 71.03977929388957\n",
      "Model saved.\n"
     ]
    },
    {
     "name": "stderr",
     "output_type": "stream",
     "text": [
      "  8%|██████████████▌                                                                                                                                                            | 34/400 [05:14<56:38,  9.29s/it]"
     ]
    },
    {
     "name": "stdout",
     "output_type": "stream",
     "text": [
      "Epoch [34/400], Train Loss: 5.5138, Train_accuracy: 71.28663037804787, Val Loss: 1.8500, Val_accuracy: 71.11993438466988\n",
      "Model saved.\n"
     ]
    },
    {
     "name": "stderr",
     "output_type": "stream",
     "text": [
      "  9%|██████████████▉                                                                                                                                                            | 35/400 [05:23<56:27,  9.28s/it]"
     ]
    },
    {
     "name": "stdout",
     "output_type": "stream",
     "text": [
      "Epoch [35/400], Train Loss: 5.4970, Train_accuracy: 71.3667884572366, Val Loss: 1.8448, Val_accuracy: 71.17026432539238\n",
      "Model saved.\n"
     ]
    },
    {
     "name": "stderr",
     "output_type": "stream",
     "text": [
      "  9%|███████████████▍                                                                                                                                                           | 36/400 [05:33<56:53,  9.38s/it]"
     ]
    },
    {
     "name": "stdout",
     "output_type": "stream",
     "text": [
      "Epoch [36/400], Train Loss: 5.4805, Train_accuracy: 71.47801555936668, Val Loss: 1.8398, Val_accuracy: 71.23923498490102\n",
      "Model saved.\n"
     ]
    },
    {
     "name": "stderr",
     "output_type": "stream",
     "text": [
      "  9%|███████████████▊                                                                                                                                                           | 37/400 [05:42<56:27,  9.33s/it]"
     ]
    },
    {
     "name": "stdout",
     "output_type": "stream",
     "text": [
      "Epoch [37/400], Train Loss: 5.4644, Train_accuracy: 71.59048542241443, Val Loss: 1.8349, Val_accuracy: 71.30261342877381\n",
      "Model saved.\n"
     ]
    },
    {
     "name": "stderr",
     "output_type": "stream",
     "text": [
      " 10%|████████████████▏                                                                                                                                                          | 38/400 [05:51<56:11,  9.31s/it]"
     ]
    },
    {
     "name": "stdout",
     "output_type": "stream",
     "text": [
      "Epoch [38/400], Train Loss: 5.4485, Train_accuracy: 71.67996420848557, Val Loss: 1.8300, Val_accuracy: 71.42377810088357\n",
      "Model saved.\n"
     ]
    },
    {
     "name": "stderr",
     "output_type": "stream",
     "text": [
      " 10%|████████████████▋                                                                                                                                                          | 39/400 [06:00<55:52,  9.29s/it]"
     ]
    },
    {
     "name": "stdout",
     "output_type": "stream",
     "text": [
      "Epoch [39/400], Train Loss: 5.4328, Train_accuracy: 71.77317127730967, Val Loss: 1.8253, Val_accuracy: 71.47410804160609\n",
      "Model saved.\n"
     ]
    },
    {
     "name": "stderr",
     "output_type": "stream",
     "text": [
      " 10%|█████████████████                                                                                                                                                          | 40/400 [06:10<56:19,  9.39s/it]"
     ]
    },
    {
     "name": "stdout",
     "output_type": "stream",
     "text": [
      "Epoch [40/400], Train Loss: 5.4175, Train_accuracy: 71.82226033355703, Val Loss: 1.8206, Val_accuracy: 71.57476792305111\n",
      "Model saved.\n"
     ]
    },
    {
     "name": "stderr",
     "output_type": "stream",
     "text": [
      " 10%|█████████████████▌                                                                                                                                                         | 41/400 [06:19<55:30,  9.28s/it]"
     ]
    },
    {
     "name": "stdout",
     "output_type": "stream",
     "text": [
      "Epoch [41/400], Train Loss: 5.4024, Train_accuracy: 71.90925359779285, Val Loss: 1.8160, Val_accuracy: 71.67915594825337\n",
      "Model saved.\n"
     ]
    },
    {
     "name": "stderr",
     "output_type": "stream",
     "text": [
      " 10%|█████████████████▉                                                                                                                                                         | 42/400 [06:28<55:15,  9.26s/it]"
     ]
    },
    {
     "name": "stdout",
     "output_type": "stream",
     "text": [
      "Epoch [42/400], Train Loss: 5.3875, Train_accuracy: 71.99748962294633, Val Loss: 1.8115, Val_accuracy: 71.7015248107967\n",
      "Model saved.\n"
     ]
    },
    {
     "name": "stderr",
     "output_type": "stream",
     "text": [
      " 11%|██████████████████▍                                                                                                                                                        | 43/400 [06:37<54:59,  9.24s/it]"
     ]
    },
    {
     "name": "stdout",
     "output_type": "stream",
     "text": [
      "Epoch [43/400], Train Loss: 5.3729, Train_accuracy: 72.08510426764099, Val Loss: 1.8071, Val_accuracy: 71.78354397345562\n",
      "Model saved.\n"
     ]
    },
    {
     "name": "stderr",
     "output_type": "stream",
     "text": [
      " 11%|██████████████████▊                                                                                                                                                        | 44/400 [06:47<55:11,  9.30s/it]"
     ]
    },
    {
     "name": "stdout",
     "output_type": "stream",
     "text": [
      "Epoch [44/400], Train Loss: 5.3586, Train_accuracy: 72.15221335719434, Val Loss: 1.8028, Val_accuracy: 71.83946612981397\n",
      "Model saved.\n"
     ]
    },
    {
     "name": "stderr",
     "output_type": "stream",
     "text": [
      " 11%|███████████████████▏                                                                                                                                                       | 45/400 [06:56<54:27,  9.20s/it]"
     ]
    },
    {
     "name": "stdout",
     "output_type": "stream",
     "text": [
      "Epoch [45/400], Train Loss: 5.3445, Train_accuracy: 72.22926453408893, Val Loss: 1.7986, Val_accuracy: 71.86929127987175\n",
      "Model saved.\n"
     ]
    },
    {
     "name": "stderr",
     "output_type": "stream",
     "text": [
      " 12%|███████████████████▋                                                                                                                                                       | 46/400 [07:05<54:04,  9.16s/it]"
     ]
    },
    {
     "name": "stdout",
     "output_type": "stream",
     "text": [
      "Epoch [46/400], Train Loss: 5.3306, Train_accuracy: 72.28643153630105, Val Loss: 1.7944, Val_accuracy: 71.9252134362301\n",
      "Model saved.\n"
     ]
    },
    {
     "name": "stderr",
     "output_type": "stream",
     "text": [
      " 12%|████████████████████                                                                                                                                                       | 47/400 [07:14<53:44,  9.14s/it]"
     ]
    },
    {
     "name": "stdout",
     "output_type": "stream",
     "text": [
      "Epoch [47/400], Train Loss: 5.3169, Train_accuracy: 72.37839584420749, Val Loss: 1.7903, Val_accuracy: 72.01096074264623\n",
      "Model saved.\n"
     ]
    },
    {
     "name": "stderr",
     "output_type": "stream",
     "text": [
      " 12%|████████████████████▌                                                                                                                                                      | 48/400 [07:23<54:05,  9.22s/it]"
     ]
    },
    {
     "name": "stdout",
     "output_type": "stream",
     "text": [
      "Epoch [48/400], Train Loss: 5.3034, Train_accuracy: 72.44488355330202, Val Loss: 1.7863, Val_accuracy: 72.05569846773291\n",
      "Model saved.\n"
     ]
    },
    {
     "name": "stderr",
     "output_type": "stream",
     "text": [
      " 12%|████████████████████▉                                                                                                                                                      | 49/400 [07:32<53:47,  9.20s/it]"
     ]
    },
    {
     "name": "stdout",
     "output_type": "stream",
     "text": [
      "Epoch [49/400], Train Loss: 5.2902, Train_accuracy: 72.49707951184351, Val Loss: 1.7823, Val_accuracy: 72.10602840845543\n",
      "Model saved.\n"
     ]
    },
    {
     "name": "stderr",
     "output_type": "stream",
     "text": [
      " 12%|█████████████████████▍                                                                                                                                                     | 50/400 [07:42<53:47,  9.22s/it]"
     ]
    },
    {
     "name": "stdout",
     "output_type": "stream",
     "text": [
      "Epoch [50/400], Train Loss: 5.2771, Train_accuracy: 72.57350930827927, Val Loss: 1.7784, Val_accuracy: 72.13958170227043\n",
      "Model saved.\n"
     ]
    },
    {
     "name": "stderr",
     "output_type": "stream",
     "text": [
      " 13%|█████████████████████▊                                                                                                                                                     | 51/400 [07:51<53:43,  9.24s/it]"
     ]
    },
    {
     "name": "stdout",
     "output_type": "stream",
     "text": [
      "Epoch [51/400], Train Loss: 5.2643, Train_accuracy: 72.63316183232669, Val Loss: 1.7746, Val_accuracy: 72.1973679305074\n",
      "Model saved.\n"
     ]
    },
    {
     "name": "stderr",
     "output_type": "stream",
     "text": [
      " 13%|██████████████████████▏                                                                                                                                                    | 52/400 [08:01<54:07,  9.33s/it]"
     ]
    },
    {
     "name": "stdout",
     "output_type": "stream",
     "text": [
      "Epoch [52/400], Train Loss: 5.2517, Train_accuracy: 72.70275644371536, Val Loss: 1.7708, Val_accuracy: 72.26074637438019\n",
      "Model saved.\n"
     ]
    },
    {
     "name": "stderr",
     "output_type": "stream",
     "text": [
      " 13%|██████████████████████▋                                                                                                                                                    | 53/400 [08:10<53:32,  9.26s/it]"
     ]
    },
    {
     "name": "stdout",
     "output_type": "stream",
     "text": [
      "Epoch [53/400], Train Loss: 5.2392, Train_accuracy: 72.77172967464519, Val Loss: 1.7671, Val_accuracy: 72.31666853073854\n",
      "Model saved.\n"
     ]
    },
    {
     "name": "stderr",
     "output_type": "stream",
     "text": [
      " 14%|███████████████████████                                                                                                                                                    | 54/400 [08:19<53:03,  9.20s/it]"
     ]
    },
    {
     "name": "stdout",
     "output_type": "stream",
     "text": [
      "Epoch [54/400], Train Loss: 5.2269, Train_accuracy: 72.82454701364551, Val Loss: 1.7635, Val_accuracy: 72.35208589643217\n",
      "Model saved.\n"
     ]
    },
    {
     "name": "stderr",
     "output_type": "stream",
     "text": [
      " 14%|███████████████████████▌                                                                                                                                                   | 55/400 [08:28<52:45,  9.18s/it]"
     ]
    },
    {
     "name": "stdout",
     "output_type": "stream",
     "text": [
      "Epoch [55/400], Train Loss: 5.2148, Train_accuracy: 72.90719061466955, Val Loss: 1.7599, Val_accuracy: 72.41173619654774\n",
      "Model saved.\n"
     ]
    },
    {
     "name": "stderr",
     "output_type": "stream",
     "text": [
      " 14%|███████████████████████▉                                                                                                                                                   | 56/400 [08:37<53:19,  9.30s/it]"
     ]
    },
    {
     "name": "stdout",
     "output_type": "stream",
     "text": [
      "Epoch [56/400], Train Loss: 5.2029, Train_accuracy: 72.98424179156414, Val Loss: 1.7564, Val_accuracy: 72.49748350296387\n",
      "Model saved.\n"
     ]
    },
    {
     "name": "stderr",
     "output_type": "stream",
     "text": [
      " 14%|████████████████████████▎                                                                                                                                                  | 57/400 [08:47<53:09,  9.30s/it]"
     ]
    },
    {
     "name": "stdout",
     "output_type": "stream",
     "text": [
      "Epoch [57/400], Train Loss: 5.1912, Train_accuracy: 73.00971839037607, Val Loss: 1.7529, Val_accuracy: 72.5347649405361\n",
      "Model saved.\n"
     ]
    },
    {
     "name": "stderr",
     "output_type": "stream",
     "text": [
      " 14%|████████████████████████▊                                                                                                                                                  | 58/400 [08:56<53:01,  9.30s/it]"
     ]
    },
    {
     "name": "stdout",
     "output_type": "stream",
     "text": [
      "Epoch [58/400], Train Loss: 5.1796, Train_accuracy: 73.06874953396465, Val Loss: 1.7495, Val_accuracy: 72.58509488125863\n",
      "Model saved.\n"
     ]
    },
    {
     "name": "stderr",
     "output_type": "stream",
     "text": [
      " 15%|█████████████████████████▏                                                                                                                                                 | 59/400 [09:05<52:49,  9.29s/it]"
     ]
    },
    {
     "name": "stdout",
     "output_type": "stream",
     "text": [
      "Epoch [59/400], Train Loss: 5.1682, Train_accuracy: 73.14393656948276, Val Loss: 1.7462, Val_accuracy: 72.6149200313164\n",
      "Model saved.\n"
     ]
    },
    {
     "name": "stderr",
     "output_type": "stream",
     "text": [
      " 15%|█████████████████████████▋                                                                                                                                                 | 60/400 [09:15<52:58,  9.35s/it]"
     ]
    },
    {
     "name": "stdout",
     "output_type": "stream",
     "text": [
      "Epoch [60/400], Train Loss: 5.1569, Train_accuracy: 73.20545323490667, Val Loss: 1.7428, Val_accuracy: 72.67829847518921\n",
      "Model saved.\n"
     ]
    },
    {
     "name": "stderr",
     "output_type": "stream",
     "text": [
      " 15%|██████████████████████████                                                                                                                                                 | 61/400 [09:24<52:31,  9.30s/it]"
     ]
    },
    {
     "name": "stdout",
     "output_type": "stream",
     "text": [
      "Epoch [61/400], Train Loss: 5.1458, Train_accuracy: 73.26013471528347, Val Loss: 1.7396, Val_accuracy: 72.7249002721545\n",
      "Model saved.\n"
     ]
    },
    {
     "name": "stderr",
     "output_type": "stream",
     "text": [
      " 16%|██████████████████████████▌                                                                                                                                                | 62/400 [09:33<52:09,  9.26s/it]"
     ]
    },
    {
     "name": "stdout",
     "output_type": "stream",
     "text": [
      "Epoch [62/400], Train Loss: 5.1348, Train_accuracy: 73.33283622896627, Val Loss: 1.7364, Val_accuracy: 72.78268650039145\n",
      "Model saved.\n"
     ]
    },
    {
     "name": "stderr",
     "output_type": "stream",
     "text": [
      " 16%|██████████████████████████▉                                                                                                                                                | 63/400 [09:42<52:06,  9.28s/it]"
     ]
    },
    {
     "name": "stdout",
     "output_type": "stream",
     "text": [
      "Epoch [63/400], Train Loss: 5.1240, Train_accuracy: 73.3813039047548, Val Loss: 1.7332, Val_accuracy: 72.81810386608508\n",
      "Model saved.\n"
     ]
    },
    {
     "name": "stderr",
     "output_type": "stream",
     "text": [
      " 16%|███████████████████████████▎                                                                                                                                               | 64/400 [09:52<52:32,  9.38s/it]"
     ]
    },
    {
     "name": "stdout",
     "output_type": "stream",
     "text": [
      "Epoch [64/400], Train Loss: 5.1133, Train_accuracy: 73.42977158054333, Val Loss: 1.7301, Val_accuracy: 72.8702978786862\n",
      "Model saved.\n"
     ]
    },
    {
     "name": "stderr",
     "output_type": "stream",
     "text": [
      " 16%|███████████████████████████▊                                                                                                                                               | 65/400 [10:01<52:11,  9.35s/it]"
     ]
    },
    {
     "name": "stdout",
     "output_type": "stream",
     "text": [
      "Epoch [65/400], Train Loss: 5.1028, Train_accuracy: 73.49004548504959, Val Loss: 1.7271, Val_accuracy: 72.9485888975879\n",
      "Model saved.\n"
     ]
    },
    {
     "name": "stderr",
     "output_type": "stream",
     "text": [
      " 16%|████████████████████████████▏                                                                                                                                              | 66/400 [10:11<51:58,  9.34s/it]"
     ]
    },
    {
     "name": "stdout",
     "output_type": "stream",
     "text": [
      "Epoch [66/400], Train Loss: 5.0924, Train_accuracy: 73.50806551835558, Val Loss: 1.7240, Val_accuracy: 73.01942362897513\n",
      "Model saved.\n"
     ]
    },
    {
     "name": "stderr",
     "output_type": "stream",
     "text": [
      " 17%|████████████████████████████▋                                                                                                                                              | 67/400 [10:20<51:36,  9.30s/it]"
     ]
    },
    {
     "name": "stdout",
     "output_type": "stream",
     "text": [
      "Epoch [67/400], Train Loss: 5.0822, Train_accuracy: 73.55901871597942, Val Loss: 1.7211, Val_accuracy: 73.07534578533348\n",
      "Model saved.\n"
     ]
    },
    {
     "name": "stderr",
     "output_type": "stream",
     "text": [
      " 17%|█████████████████████████████                                                                                                                                              | 68/400 [10:29<51:59,  9.40s/it]"
     ]
    },
    {
     "name": "stdout",
     "output_type": "stream",
     "text": [
      "Epoch [68/400], Train Loss: 5.0720, Train_accuracy: 73.60748639176795, Val Loss: 1.7181, Val_accuracy: 73.10144279163404\n",
      "Model saved.\n"
     ]
    },
    {
     "name": "stderr",
     "output_type": "stream",
     "text": [
      " 17%|█████████████████████████████▍                                                                                                                                             | 69/400 [10:39<51:35,  9.35s/it]"
     ]
    },
    {
     "name": "stdout",
     "output_type": "stream",
     "text": [
      "Epoch [69/400], Train Loss: 5.0620, Train_accuracy: 73.64104093654463, Val Loss: 1.7153, Val_accuracy: 73.1424523729635\n",
      "Model saved.\n"
     ]
    },
    {
     "name": "stderr",
     "output_type": "stream",
     "text": [
      " 18%|█████████████████████████████▉                                                                                                                                             | 70/400 [10:48<51:19,  9.33s/it]"
     ]
    },
    {
     "name": "stdout",
     "output_type": "stream",
     "text": [
      "Epoch [70/400], Train Loss: 5.0521, Train_accuracy: 73.70131484105087, Val Loss: 1.7124, Val_accuracy: 73.18159788241435\n",
      "Model saved.\n"
     ]
    },
    {
     "name": "stderr",
     "output_type": "stream",
     "text": [
      " 18%|██████████████████████████████▎                                                                                                                                            | 71/400 [10:57<51:21,  9.37s/it]"
     ]
    },
    {
     "name": "stdout",
     "output_type": "stream",
     "text": [
      "Epoch [71/400], Train Loss: 5.0424, Train_accuracy: 73.75040389729824, Val Loss: 1.7096, Val_accuracy: 73.22633560750103\n",
      "Model saved.\n"
     ]
    },
    {
     "name": "stderr",
     "output_type": "stream",
     "text": [
      " 18%|██████████████████████████████▊                                                                                                                                            | 72/400 [11:07<50:44,  9.28s/it]"
     ]
    },
    {
     "name": "stdout",
     "output_type": "stream",
     "text": [
      "Epoch [72/400], Train Loss: 5.0327, Train_accuracy: 73.808813660428, Val Loss: 1.7068, Val_accuracy: 73.26920926070909\n",
      "Model saved.\n"
     ]
    },
    {
     "name": "stderr",
     "output_type": "stream",
     "text": [
      " 18%|███████████████████████████████▏                                                                                                                                           | 73/400 [11:16<50:35,  9.28s/it]"
     ]
    },
    {
     "name": "stdout",
     "output_type": "stream",
     "text": [
      "Epoch [73/400], Train Loss: 5.0232, Train_accuracy: 73.85976685805184, Val Loss: 1.7041, Val_accuracy: 73.3008984826455\n",
      "Model saved.\n"
     ]
    },
    {
     "name": "stderr",
     "output_type": "stream",
     "text": [
      " 18%|███████████████████████████████▋                                                                                                                                           | 74/400 [11:25<50:32,  9.30s/it]"
     ]
    },
    {
     "name": "stdout",
     "output_type": "stream",
     "text": [
      "Epoch [74/400], Train Loss: 5.0138, Train_accuracy: 73.8970496855815, Val Loss: 1.7014, Val_accuracy: 73.33817992021773\n",
      "Model saved.\n"
     ]
    },
    {
     "name": "stderr",
     "output_type": "stream",
     "text": [
      " 19%|████████████████████████████████                                                                                                                                           | 75/400 [11:34<50:15,  9.28s/it]"
     ]
    },
    {
     "name": "stdout",
     "output_type": "stream",
     "text": [
      "Epoch [75/400], Train Loss: 5.0045, Train_accuracy: 73.95483806825243, Val Loss: 1.6987, Val_accuracy: 73.3829176453044\n",
      "Model saved.\n"
     ]
    },
    {
     "name": "stderr",
     "output_type": "stream",
     "text": [
      " 19%|████████████████████████████████▍                                                                                                                                          | 76/400 [11:44<50:37,  9.38s/it]"
     ]
    },
    {
     "name": "stdout",
     "output_type": "stream",
     "text": [
      "Epoch [76/400], Train Loss: 4.9953, Train_accuracy: 73.98963537394675, Val Loss: 1.6961, Val_accuracy: 73.39596614845469\n",
      "Model saved.\n"
     ]
    },
    {
     "name": "stderr",
     "output_type": "stream",
     "text": [
      " 19%|████████████████████████████████▉                                                                                                                                          | 77/400 [11:53<50:19,  9.35s/it]"
     ]
    },
    {
     "name": "stdout",
     "output_type": "stream",
     "text": [
      "Epoch [77/400], Train Loss: 4.9862, Train_accuracy: 74.03748166927646, Val Loss: 1.6935, Val_accuracy: 73.47239309547776\n",
      "Model saved.\n"
     ]
    },
    {
     "name": "stderr",
     "output_type": "stream",
     "text": [
      " 20%|█████████████████████████████████▎                                                                                                                                         | 78/400 [12:03<50:19,  9.38s/it]"
     ]
    },
    {
     "name": "stdout",
     "output_type": "stream",
     "text": [
      "Epoch [78/400], Train Loss: 4.9772, Train_accuracy: 74.10459075882981, Val Loss: 1.6910, Val_accuracy: 73.54136375498639\n",
      "Model saved.\n"
     ]
    },
    {
     "name": "stderr",
     "output_type": "stream",
     "text": [
      " 20%|█████████████████████████████████▊                                                                                                                                         | 79/400 [12:12<50:16,  9.40s/it]"
     ]
    },
    {
     "name": "stdout",
     "output_type": "stream",
     "text": [
      "Epoch [79/400], Train Loss: 4.9683, Train_accuracy: 74.15554395645366, Val Loss: 1.6884, Val_accuracy: 73.55068411437945\n",
      "Model saved.\n"
     ]
    },
    {
     "name": "stderr",
     "output_type": "stream",
     "text": [
      " 20%|██████████████████████████████████▏                                                                                                                                        | 80/400 [12:22<50:29,  9.47s/it]"
     ]
    },
    {
     "name": "stdout",
     "output_type": "stream",
     "text": [
      "Epoch [80/400], Train Loss: 4.9596, Train_accuracy: 74.19406954490096, Val Loss: 1.6859, Val_accuracy: 73.61033441449503\n",
      "Model saved.\n"
     ]
    },
    {
     "name": "stderr",
     "output_type": "stream",
     "text": [
      " 20%|██████████████████████████████████▋                                                                                                                                        | 81/400 [12:31<49:41,  9.35s/it]"
     ]
    },
    {
     "name": "stdout",
     "output_type": "stream",
     "text": [
      "Epoch [81/400], Train Loss: 4.9509, Train_accuracy: 74.24129445977182, Val Loss: 1.6835, Val_accuracy: 73.66439249897476\n",
      "Model saved.\n"
     ]
    },
    {
     "name": "stderr",
     "output_type": "stream",
     "text": [
      " 20%|███████████████████████████████████                                                                                                                                        | 82/400 [12:40<49:04,  9.26s/it]"
     ]
    },
    {
     "name": "stdout",
     "output_type": "stream",
     "text": [
      "Epoch [82/400], Train Loss: 4.9423, Train_accuracy: 74.28416971143092, Val Loss: 1.6811, Val_accuracy: 73.6848972896395\n",
      "Model saved.\n"
     ]
    },
    {
     "name": "stderr",
     "output_type": "stream",
     "text": [
      " 21%|███████████████████████████████████▍                                                                                                                                       | 83/400 [12:49<49:08,  9.30s/it]"
     ]
    },
    {
     "name": "stdout",
     "output_type": "stream",
     "text": [
      "Epoch [83/400], Train Loss: 4.9338, Train_accuracy: 74.32331668033704, Val Loss: 1.6787, Val_accuracy: 73.701673936547\n",
      "Model saved.\n"
     ]
    },
    {
     "name": "stderr",
     "output_type": "stream",
     "text": [
      " 21%|███████████████████████████████████▉                                                                                                                                       | 84/400 [12:58<48:38,  9.24s/it]"
     ]
    },
    {
     "name": "stdout",
     "output_type": "stream",
     "text": [
      "Epoch [84/400], Train Loss: 4.9253, Train_accuracy: 74.35252156190192, Val Loss: 1.6763, Val_accuracy: 73.735227230362\n",
      "Model saved.\n"
     ]
    },
    {
     "name": "stderr",
     "output_type": "stream",
     "text": [
      " 21%|████████████████████████████████████▎                                                                                                                                      | 85/400 [13:08<48:34,  9.25s/it]"
     ]
    },
    {
     "name": "stdout",
     "output_type": "stream",
     "text": [
      "Epoch [85/400], Train Loss: 4.9170, Train_accuracy: 74.38359058484329, Val Loss: 1.6740, Val_accuracy: 73.75759609290535\n",
      "Model saved.\n"
     ]
    },
    {
     "name": "stderr",
     "output_type": "stream",
     "text": [
      " 22%|████████████████████████████████████▊                                                                                                                                      | 86/400 [13:17<48:29,  9.27s/it]"
     ]
    },
    {
     "name": "stdout",
     "output_type": "stream",
     "text": [
      "Epoch [86/400], Train Loss: 4.9088, Train_accuracy: 74.3972609549375, Val Loss: 1.6716, Val_accuracy: 73.77996495544868\n",
      "Model saved.\n"
     ]
    },
    {
     "name": "stderr",
     "output_type": "stream",
     "text": [
      " 22%|█████████████████████████████████████▏                                                                                                                                     | 87/400 [13:27<48:53,  9.37s/it]"
     ]
    },
    {
     "name": "stdout",
     "output_type": "stream",
     "text": [
      "Epoch [87/400], Train Loss: 4.9006, Train_accuracy: 74.45380657669078, Val Loss: 1.6694, Val_accuracy: 73.83775118368564\n",
      "Model saved.\n"
     ]
    },
    {
     "name": "stderr",
     "output_type": "stream",
     "text": [
      " 22%|█████████████████████████████████████▌                                                                                                                                     | 88/400 [13:36<48:36,  9.35s/it]"
     ]
    },
    {
     "name": "stdout",
     "output_type": "stream",
     "text": [
      "Epoch [88/400], Train Loss: 4.8926, Train_accuracy: 74.51408048119703, Val Loss: 1.6671, Val_accuracy: 73.8787607650151\n",
      "Model saved.\n"
     ]
    },
    {
     "name": "stderr",
     "output_type": "stream",
     "text": [
      " 22%|██████████████████████████████████████                                                                                                                                     | 89/400 [13:45<48:48,  9.42s/it]"
     ]
    },
    {
     "name": "stdout",
     "output_type": "stream",
     "text": [
      "Epoch [89/400], Train Loss: 4.8846, Train_accuracy: 74.55695573285611, Val Loss: 1.6649, Val_accuracy: 73.91977034634455\n",
      "Model saved.\n"
     ]
    },
    {
     "name": "stderr",
     "output_type": "stream",
     "text": [
      " 22%|██████████████████████████████████████▍                                                                                                                                    | 90/400 [13:55<48:30,  9.39s/it]"
     ]
    },
    {
     "name": "stdout",
     "output_type": "stream",
     "text": [
      "Epoch [90/400], Train Loss: 4.8767, Train_accuracy: 74.6023165063505, Val Loss: 1.6627, Val_accuracy: 73.92909070573761\n",
      "Model saved.\n"
     ]
    },
    {
     "name": "stderr",
     "output_type": "stream",
     "text": [
      " 23%|██████████████████████████████████████▉                                                                                                                                    | 91/400 [14:04<48:19,  9.38s/it]"
     ]
    },
    {
     "name": "stdout",
     "output_type": "stream",
     "text": [
      "Epoch [91/400], Train Loss: 4.8688, Train_accuracy: 74.63897795342132, Val Loss: 1.6605, Val_accuracy: 73.95518771203818\n",
      "Model saved.\n"
     ]
    },
    {
     "name": "stderr",
     "output_type": "stream",
     "text": [
      " 23%|███████████████████████████████████████▎                                                                                                                                   | 92/400 [14:14<48:35,  9.47s/it]"
     ]
    },
    {
     "name": "stdout",
     "output_type": "stream",
     "text": [
      "Epoch [92/400], Train Loss: 4.8611, Train_accuracy: 74.6793676832451, Val Loss: 1.6583, Val_accuracy: 73.99246914961041\n",
      "Model saved.\n"
     ]
    },
    {
     "name": "stderr",
     "output_type": "stream",
     "text": [
      " 23%|███████████████████████████████████████▊                                                                                                                                   | 93/400 [14:23<48:12,  9.42s/it]"
     ]
    },
    {
     "name": "stdout",
     "output_type": "stream",
     "text": [
      "Epoch [93/400], Train Loss: 4.8534, Train_accuracy: 74.72783535903363, Val Loss: 1.6562, Val_accuracy: 74.0409350184543\n",
      "Model saved.\n"
     ]
    },
    {
     "name": "stderr",
     "output_type": "stream",
     "text": [
      " 24%|████████████████████████████████████████▏                                                                                                                                  | 94/400 [14:32<47:52,  9.39s/it]"
     ]
    },
    {
     "name": "stdout",
     "output_type": "stream",
     "text": [
      "Epoch [94/400], Train Loss: 4.8458, Train_accuracy: 74.77568165436334, Val Loss: 1.6541, Val_accuracy: 74.08008052790515\n",
      "Model saved.\n"
     ]
    },
    {
     "name": "stderr",
     "output_type": "stream",
     "text": [
      " 24%|████████████████████████████████████████▌                                                                                                                                  | 95/400 [14:42<47:39,  9.38s/it]"
     ]
    },
    {
     "name": "stdout",
     "output_type": "stream",
     "text": [
      "Epoch [95/400], Train Loss: 4.8383, Train_accuracy: 74.81979966694007, Val Loss: 1.6520, Val_accuracy: 74.10431346232711\n",
      "Model saved.\n"
     ]
    },
    {
     "name": "stderr",
     "output_type": "stream",
     "text": [
      " 24%|█████████████████████████████████████████                                                                                                                                  | 96/400 [14:51<47:19,  9.34s/it]"
     ]
    },
    {
     "name": "stdout",
     "output_type": "stream",
     "text": [
      "Epoch [96/400], Train Loss: 4.8308, Train_accuracy: 74.87013148410509, Val Loss: 1.6499, Val_accuracy: 74.16582783432129\n",
      "Model saved.\n"
     ]
    },
    {
     "name": "stderr",
     "output_type": "stream",
     "text": [
      " 24%|█████████████████████████████████████████▍                                                                                                                                 | 97/400 [15:01<47:40,  9.44s/it]"
     ]
    },
    {
     "name": "stdout",
     "output_type": "stream",
     "text": [
      "Epoch [97/400], Train Loss: 4.8234, Train_accuracy: 74.91549225759948, Val Loss: 1.6479, Val_accuracy: 74.20310927189352\n",
      "Model saved.\n"
     ]
    },
    {
     "name": "stderr",
     "output_type": "stream",
     "text": [
      " 24%|█████████████████████████████████████████▉                                                                                                                                 | 98/400 [15:10<47:19,  9.40s/it]"
     ]
    },
    {
     "name": "stdout",
     "output_type": "stream",
     "text": [
      "Epoch [98/400], Train Loss: 4.8161, Train_accuracy: 74.94407575870554, Val Loss: 1.6459, Val_accuracy: 74.2627595720091\n",
      "Model saved.\n"
     ]
    },
    {
     "name": "stderr",
     "output_type": "stream",
     "text": [
      " 25%|██████████████████████████████████████████▎                                                                                                                                | 99/400 [15:19<47:05,  9.39s/it]"
     ]
    },
    {
     "name": "stdout",
     "output_type": "stream",
     "text": [
      "Epoch [99/400], Train Loss: 4.8088, Train_accuracy: 74.96209579201154, Val Loss: 1.6439, Val_accuracy: 74.28699250643105\n",
      "Model saved.\n"
     ]
    },
    {
     "name": "stderr",
     "output_type": "stream",
     "text": [
      " 25%|██████████████████████████████████████████▌                                                                                                                               | 100/400 [15:29<46:47,  9.36s/it]"
     ]
    },
    {
     "name": "stdout",
     "output_type": "stream",
     "text": [
      "Epoch [100/400], Train Loss: 4.8016, Train_accuracy: 74.99130067357642, Val Loss: 1.6419, Val_accuracy: 74.33173023151772\n",
      "Model saved.\n"
     ]
    },
    {
     "name": "stderr",
     "output_type": "stream",
     "text": [
      " 25%|██████████████████████████████████████████▉                                                                                                                               | 101/400 [15:38<46:34,  9.35s/it]"
     ]
    },
    {
     "name": "stdout",
     "output_type": "stream",
     "text": [
      "Epoch [101/400], Train Loss: 4.7945, Train_accuracy: 75.02361245743543, Val Loss: 1.6400, Val_accuracy: 74.3764679566044\n",
      "Model saved.\n"
     ]
    },
    {
     "name": "stderr",
     "output_type": "stream",
     "text": [
      " 26%|███████████████████████████████████████████▎                                                                                                                              | 102/400 [15:48<46:56,  9.45s/it]"
     ]
    },
    {
     "name": "stdout",
     "output_type": "stream",
     "text": [
      "Epoch [102/400], Train Loss: 4.7875, Train_accuracy: 75.06648770909453, Val Loss: 1.6380, Val_accuracy: 74.41002125041942\n",
      "Model saved.\n"
     ]
    },
    {
     "name": "stderr",
     "output_type": "stream",
     "text": [
      " 26%|███████████████████████████████████████████▊                                                                                                                              | 103/400 [15:57<46:35,  9.41s/it]"
     ]
    },
    {
     "name": "stdout",
     "output_type": "stream",
     "text": [
      "Epoch [103/400], Train Loss: 4.7805, Train_accuracy: 75.10563467800064, Val Loss: 1.6361, Val_accuracy: 74.43984640047721\n",
      "Model saved.\n"
     ]
    },
    {
     "name": "stderr",
     "output_type": "stream",
     "text": [
      " 26%|████████████████████████████████████████████▏                                                                                                                             | 104/400 [16:06<46:19,  9.39s/it]"
     ]
    },
    {
     "name": "stdout",
     "output_type": "stream",
     "text": [
      "Epoch [104/400], Train Loss: 4.7735, Train_accuracy: 75.13421817910671, Val Loss: 1.6342, Val_accuracy: 74.45848711926332\n",
      "Model saved.\n"
     ]
    },
    {
     "name": "stderr",
     "output_type": "stream",
     "text": [
      " 26%|████████████████████████████████████████████▋                                                                                                                             | 105/400 [16:16<46:08,  9.38s/it]"
     ]
    },
    {
     "name": "stdout",
     "output_type": "stream",
     "text": [
      "Epoch [105/400], Train Loss: 4.7667, Train_accuracy: 75.17150100663635, Val Loss: 1.6324, Val_accuracy: 74.47712783804944\n",
      "Model saved.\n"
     ]
    },
    {
     "name": "stderr",
     "output_type": "stream",
     "text": [
      " 26%|█████████████████████████████████████████████                                                                                                                             | 106/400 [16:25<46:24,  9.47s/it]"
     ]
    },
    {
     "name": "stdout",
     "output_type": "stream",
     "text": [
      "Epoch [106/400], Train Loss: 4.7598, Train_accuracy: 75.21189073646012, Val Loss: 1.6305, Val_accuracy: 74.51254520374306\n",
      "Model saved.\n"
     ]
    },
    {
     "name": "stderr",
     "output_type": "stream",
     "text": [
      " 27%|█████████████████████████████████████████████▍                                                                                                                            | 107/400 [16:35<46:06,  9.44s/it]"
     ]
    },
    {
     "name": "stdout",
     "output_type": "stream",
     "text": [
      "Epoch [107/400], Train Loss: 4.7531, Train_accuracy: 75.24295975940149, Val Loss: 1.6287, Val_accuracy: 74.54423442567945\n",
      "Model saved.\n"
     ]
    },
    {
     "name": "stderr",
     "output_type": "stream",
     "text": [
      " 27%|█████████████████████████████████████████████▉                                                                                                                            | 108/400 [16:44<45:47,  9.41s/it]"
     ]
    },
    {
     "name": "stdout",
     "output_type": "stream",
     "text": [
      "Epoch [108/400], Train Loss: 4.7464, Train_accuracy: 75.28459225014292, Val Loss: 1.6269, Val_accuracy: 74.58897215076614\n",
      "Model saved.\n"
     ]
    },
    {
     "name": "stderr",
     "output_type": "stream",
     "text": [
      " 27%|██████████████████████████████████████████████▎                                                                                                                           | 109/400 [16:54<46:04,  9.50s/it]"
     ]
    },
    {
     "name": "stdout",
     "output_type": "stream",
     "text": [
      "Epoch [109/400], Train Loss: 4.7397, Train_accuracy: 75.32249645813138, Val Loss: 1.6251, Val_accuracy: 74.64489430712449\n",
      "Model saved.\n"
     ]
    },
    {
     "name": "stderr",
     "output_type": "stream",
     "text": [
      " 28%|██████████████████████████████████████████████▊                                                                                                                           | 110/400 [17:03<45:42,  9.46s/it]"
     ]
    },
    {
     "name": "stdout",
     "output_type": "stream",
     "text": [
      "Epoch [110/400], Train Loss: 4.7332, Train_accuracy: 75.34300201327268, Val Loss: 1.6233, Val_accuracy: 74.68403981657532\n",
      "Model saved.\n"
     ]
    },
    {
     "name": "stderr",
     "output_type": "stream",
     "text": [
      " 28%|███████████████████████████████████████████████▏                                                                                                                          | 111/400 [17:13<45:26,  9.43s/it]"
     ]
    },
    {
     "name": "stdout",
     "output_type": "stream",
     "text": [
      "Epoch [111/400], Train Loss: 4.7266, Train_accuracy: 75.36475032933164, Val Loss: 1.6215, Val_accuracy: 74.70827275099728\n",
      "Model saved.\n"
     ]
    },
    {
     "name": "stderr",
     "output_type": "stream",
     "text": [
      " 28%|███████████████████████████████████████████████▌                                                                                                                          | 112/400 [17:22<45:13,  9.42s/it]"
     ]
    },
    {
     "name": "stdout",
     "output_type": "stream",
     "text": [
      "Epoch [112/400], Train Loss: 4.7202, Train_accuracy: 75.3796634603435, Val Loss: 1.6198, Val_accuracy: 74.71945718226895\n",
      "Model saved.\n"
     ]
    },
    {
     "name": "stderr",
     "output_type": "stream",
     "text": [
      " 28%|████████████████████████████████████████████████                                                                                                                          | 113/400 [17:32<45:29,  9.51s/it]"
     ]
    },
    {
     "name": "stdout",
     "output_type": "stream",
     "text": [
      "Epoch [113/400], Train Loss: 4.7137, Train_accuracy: 75.40576143961425, Val Loss: 1.6181, Val_accuracy: 74.75487454796257\n",
      "Model saved.\n"
     ]
    },
    {
     "name": "stderr",
     "output_type": "stream",
     "text": [
      " 28%|████████████████████████████████████████████████▍                                                                                                                         | 114/400 [17:41<45:05,  9.46s/it]"
     ]
    },
    {
     "name": "stdout",
     "output_type": "stream",
     "text": [
      "Epoch [114/400], Train Loss: 4.7074, Train_accuracy: 75.42191733154375, Val Loss: 1.6164, Val_accuracy: 74.76605897923424\n",
      "Model saved.\n"
     ]
    },
    {
     "name": "stderr",
     "output_type": "stream",
     "text": [
      " 29%|████████████████████████████████████████████████▊                                                                                                                         | 115/400 [17:50<44:49,  9.44s/it]"
     ]
    },
    {
     "name": "stdout",
     "output_type": "stream",
     "text": [
      "Epoch [115/400], Train Loss: 4.7010, Train_accuracy: 75.46417120274401, Val Loss: 1.6147, Val_accuracy: 74.79029191365619\n",
      "Model saved.\n"
     ]
    },
    {
     "name": "stderr",
     "output_type": "stream",
     "text": [
      " 29%|█████████████████████████████████████████████████▎                                                                                                                        | 116/400 [18:00<44:29,  9.40s/it]"
     ]
    },
    {
     "name": "stdout",
     "output_type": "stream",
     "text": [
      "Epoch [116/400], Train Loss: 4.6948, Train_accuracy: 75.50580369348545, Val Loss: 1.6130, Val_accuracy: 74.85367035752898\n",
      "Model saved.\n"
     ]
    },
    {
     "name": "stderr",
     "output_type": "stream",
     "text": [
      " 29%|█████████████████████████████████████████████████▋                                                                                                                        | 117/400 [18:09<44:47,  9.50s/it]"
     ]
    },
    {
     "name": "stdout",
     "output_type": "stream",
     "text": [
      "Epoch [117/400], Train Loss: 4.6886, Train_accuracy: 75.5524072278975, Val Loss: 1.6113, Val_accuracy: 74.8723110763151\n",
      "Model saved.\n"
     ]
    },
    {
     "name": "stderr",
     "output_type": "stream",
     "text": [
      " 30%|██████████████████████████████████████████████████▏                                                                                                                       | 118/400 [18:19<44:25,  9.45s/it]"
     ]
    },
    {
     "name": "stdout",
     "output_type": "stream",
     "text": [
      "Epoch [118/400], Train Loss: 4.6824, Train_accuracy: 75.58844729450948, Val Loss: 1.6097, Val_accuracy: 74.92264101703762\n",
      "Model saved.\n"
     ]
    },
    {
     "name": "stderr",
     "output_type": "stream",
     "text": [
      " 30%|██████████████████████████████████████████████████▌                                                                                                                       | 119/400 [18:28<44:12,  9.44s/it]"
     ]
    },
    {
     "name": "stdout",
     "output_type": "stream",
     "text": [
      "Epoch [119/400], Train Loss: 4.6763, Train_accuracy: 75.61268113240375, Val Loss: 1.6081, Val_accuracy: 74.94873802333818\n",
      "Model saved.\n"
     ]
    },
    {
     "name": "stderr",
     "output_type": "stream",
     "text": [
      " 30%|███████████████████████████████████████████████████                                                                                                                       | 120/400 [18:38<43:57,  9.42s/it]"
     ]
    },
    {
     "name": "stdout",
     "output_type": "stream",
     "text": [
      "Epoch [120/400], Train Loss: 4.6702, Train_accuracy: 75.64872119901574, Val Loss: 1.6064, Val_accuracy: 74.98229131715318\n",
      "Model saved.\n"
     ]
    },
    {
     "name": "stderr",
     "output_type": "stream",
     "text": [
      " 30%|███████████████████████████████████████████████████▍                                                                                                                      | 121/400 [18:47<44:14,  9.51s/it]"
     ]
    },
    {
     "name": "stdout",
     "output_type": "stream",
     "text": [
      "Epoch [121/400], Train Loss: 4.6642, Train_accuracy: 75.6661198518629, Val Loss: 1.6048, Val_accuracy: 74.98601946091041\n",
      "Model saved.\n"
     ]
    },
    {
     "name": "stderr",
     "output_type": "stream",
     "text": [
      " 30%|███████████████████████████████████████████████████▊                                                                                                                      | 122/400 [18:57<43:48,  9.45s/it]"
     ]
    },
    {
     "name": "stdout",
     "output_type": "stream",
     "text": [
      "Epoch [122/400], Train Loss: 4.6582, Train_accuracy: 75.70153853801605, Val Loss: 1.6033, Val_accuracy: 74.98601946091041\n"
     ]
    },
    {
     "name": "stderr",
     "output_type": "stream",
     "text": [
      " 31%|████████████████████████████████████████████████████▎                                                                                                                     | 123/400 [19:06<43:29,  9.42s/it]"
     ]
    },
    {
     "name": "stdout",
     "output_type": "stream",
     "text": [
      "Epoch [123/400], Train Loss: 4.6523, Train_accuracy: 75.73136480003977, Val Loss: 1.6017, Val_accuracy: 75.03075718599709\n",
      "Model saved.\n"
     ]
    },
    {
     "name": "stderr",
     "output_type": "stream",
     "text": [
      " 31%|████████████████████████████████████████████████████▋                                                                                                                     | 124/400 [19:15<43:10,  9.39s/it]"
     ]
    },
    {
     "name": "stdout",
     "output_type": "stream",
     "text": [
      "Epoch [124/400], Train Loss: 4.6464, Train_accuracy: 75.76305520343996, Val Loss: 1.6001, Val_accuracy: 75.01398053908959\n"
     ]
    },
    {
     "name": "stderr",
     "output_type": "stream",
     "text": [
      " 31%|█████████████████████████████████████████████████████▏                                                                                                                    | 125/400 [19:25<43:26,  9.48s/it]"
     ]
    },
    {
     "name": "stdout",
     "output_type": "stream",
     "text": [
      "Epoch [125/400], Train Loss: 4.6405, Train_accuracy: 75.79723112867546, Val Loss: 1.5986, Val_accuracy: 75.02702904223987\n"
     ]
    },
    {
     "name": "stderr",
     "output_type": "stream",
     "text": [
      " 32%|█████████████████████████████████████████████████████▌                                                                                                                    | 126/400 [19:34<43:04,  9.43s/it]"
     ]
    },
    {
     "name": "stdout",
     "output_type": "stream",
     "text": [
      "Epoch [126/400], Train Loss: 4.6347, Train_accuracy: 75.81525116198146, Val Loss: 1.5971, Val_accuracy: 75.04753383290459\n",
      "Model saved.\n"
     ]
    },
    {
     "name": "stderr",
     "output_type": "stream",
     "text": [
      " 32%|█████████████████████████████████████████████████████▉                                                                                                                    | 127/400 [19:44<42:49,  9.41s/it]"
     ]
    },
    {
     "name": "stdout",
     "output_type": "stream",
     "text": [
      "Epoch [127/400], Train Loss: 4.6290, Train_accuracy: 75.8345139562051, Val Loss: 1.5955, Val_accuracy: 75.05312604854043\n",
      "Model saved.\n"
     ]
    },
    {
     "name": "stderr",
     "output_type": "stream",
     "text": [
      " 32%|██████████████████████████████████████████████████████▍                                                                                                                   | 128/400 [19:53<42:36,  9.40s/it]"
     ]
    },
    {
     "name": "stdout",
     "output_type": "stream",
     "text": [
      "Epoch [128/400], Train Loss: 4.6233, Train_accuracy: 75.86931126189944, Val Loss: 1.5940, Val_accuracy: 75.09227155799128\n",
      "Model saved.\n"
     ]
    },
    {
     "name": "stderr",
     "output_type": "stream",
     "text": [
      " 32%|██████████████████████████████████████████████████████▊                                                                                                                   | 129/400 [20:03<42:54,  9.50s/it]"
     ]
    },
    {
     "name": "stdout",
     "output_type": "stream",
     "text": [
      "Epoch [129/400], Train Loss: 4.6176, Train_accuracy: 75.9072154698879, Val Loss: 1.5925, Val_accuracy: 75.11464042053461\n",
      "Model saved.\n"
     ]
    },
    {
     "name": "stderr",
     "output_type": "stream",
     "text": [
      " 32%|███████████████████████████████████████████████████████▎                                                                                                                  | 130/400 [20:12<42:36,  9.47s/it]"
     ]
    },
    {
     "name": "stdout",
     "output_type": "stream",
     "text": [
      "Epoch [130/400], Train Loss: 4.6120, Train_accuracy: 75.93020654686451, Val Loss: 1.5911, Val_accuracy: 75.12955299556351\n",
      "Model saved.\n"
     ]
    },
    {
     "name": "stderr",
     "output_type": "stream",
     "text": [
      " 33%|███████████████████████████████████████████████████████▋                                                                                                                  | 131/400 [20:22<42:25,  9.46s/it]"
     ]
    },
    {
     "name": "stdout",
     "output_type": "stream",
     "text": [
      "Epoch [131/400], Train Loss: 4.6064, Train_accuracy: 75.96997489622946, Val Loss: 1.5896, Val_accuracy: 75.15565000186407\n",
      "Model saved.\n"
     ]
    },
    {
     "name": "stderr",
     "output_type": "stream",
     "text": [
      " 33%|████████████████████████████████████████████████████████                                                                                                                  | 132/400 [20:31<42:06,  9.43s/it]"
     ]
    },
    {
     "name": "stdout",
     "output_type": "stream",
     "text": [
      "Epoch [132/400], Train Loss: 4.6008, Train_accuracy: 76.00539358238262, Val Loss: 1.5882, Val_accuracy: 75.16310628937852\n",
      "Model saved.\n"
     ]
    },
    {
     "name": "stderr",
     "output_type": "stream",
     "text": [
      " 33%|████████████████████████████████████████████████████████▌                                                                                                                 | 133/400 [20:41<42:21,  9.52s/it]"
     ]
    },
    {
     "name": "stdout",
     "output_type": "stream",
     "text": [
      "Epoch [133/400], Train Loss: 4.5953, Train_accuracy: 76.0457833122064, Val Loss: 1.5867, Val_accuracy: 75.19852365507214\n",
      "Model saved.\n"
     ]
    },
    {
     "name": "stderr",
     "output_type": "stream",
     "text": [
      " 34%|████████████████████████████████████████████████████████▉                                                                                                                 | 134/400 [20:50<42:04,  9.49s/it]"
     ]
    },
    {
     "name": "stdout",
     "output_type": "stream",
     "text": [
      "Epoch [134/400], Train Loss: 4.5899, Train_accuracy: 76.08803718340666, Val Loss: 1.5853, Val_accuracy: 75.21716437385825\n",
      "Model saved.\n"
     ]
    },
    {
     "name": "stderr",
     "output_type": "stream",
     "text": [
      " 34%|█████████████████████████████████████████████████████████▍                                                                                                                | 135/400 [21:00<41:51,  9.48s/it]"
     ]
    },
    {
     "name": "stdout",
     "output_type": "stream",
     "text": [
      "Epoch [135/400], Train Loss: 4.5844, Train_accuracy: 76.104814455795, Val Loss: 1.5839, Val_accuracy: 75.23021287700854\n",
      "Model saved.\n"
     ]
    },
    {
     "name": "stderr",
     "output_type": "stream",
     "text": [
      " 34%|█████████████████████████████████████████████████████████▊                                                                                                                | 136/400 [21:09<41:38,  9.46s/it]"
     ]
    },
    {
     "name": "stdout",
     "output_type": "stream",
     "text": [
      "Epoch [136/400], Train Loss: 4.5791, Train_accuracy: 76.13588347873636, Val Loss: 1.5825, Val_accuracy: 75.25444581143049\n",
      "Model saved.\n"
     ]
    },
    {
     "name": "stderr",
     "output_type": "stream",
     "text": [
      " 34%|██████████████████████████████████████████████████████████▏                                                                                                               | 137/400 [21:19<41:54,  9.56s/it]"
     ]
    },
    {
     "name": "stdout",
     "output_type": "stream",
     "text": [
      "Epoch [137/400], Train Loss: 4.5737, Train_accuracy: 76.15328213158352, Val Loss: 1.5811, Val_accuracy: 75.27867874585245\n",
      "Model saved.\n"
     ]
    },
    {
     "name": "stderr",
     "output_type": "stream",
     "text": [
      " 34%|██████████████████████████████████████████████████████████▋                                                                                                               | 138/400 [21:28<41:32,  9.52s/it]"
     ]
    },
    {
     "name": "stdout",
     "output_type": "stream",
     "text": [
      "Epoch [138/400], Train Loss: 4.5684, Train_accuracy: 76.18310839360724, Val Loss: 1.5797, Val_accuracy: 75.31782425530328\n",
      "Model saved.\n"
     ]
    },
    {
     "name": "stderr",
     "output_type": "stream",
     "text": [
      " 35%|███████████████████████████████████████████████████████████                                                                                                               | 139/400 [21:38<41:18,  9.50s/it]"
     ]
    },
    {
     "name": "stdout",
     "output_type": "stream",
     "text": [
      "Epoch [139/400], Train Loss: 4.5631, Train_accuracy: 76.20237118783089, Val Loss: 1.5784, Val_accuracy: 75.34578533348245\n",
      "Model saved.\n"
     ]
    },
    {
     "name": "stderr",
     "output_type": "stream",
     "text": [
      " 35%|███████████████████████████████████████████████████████████▍                                                                                                              | 140/400 [21:47<41:05,  9.48s/it]"
     ]
    },
    {
     "name": "stdout",
     "output_type": "stream",
     "text": [
      "Epoch [140/400], Train Loss: 4.5579, Train_accuracy: 76.2321974498546, Val Loss: 1.5770, Val_accuracy: 75.37188233978303\n",
      "Model saved.\n"
     ]
    },
    {
     "name": "stderr",
     "output_type": "stream",
     "text": [
      " 35%|███████████████████████████████████████████████████████████▉                                                                                                              | 141/400 [21:57<41:20,  9.58s/it]"
     ]
    },
    {
     "name": "stdout",
     "output_type": "stream",
     "text": [
      "Epoch [141/400], Train Loss: 4.5527, Train_accuracy: 76.25456714637238, Val Loss: 1.5757, Val_accuracy: 75.37188233978303\n"
     ]
    },
    {
     "name": "stderr",
     "output_type": "stream",
     "text": [
      " 36%|████████████████████████████████████████████████████████████▎                                                                                                             | 142/400 [22:06<40:57,  9.52s/it]"
     ]
    },
    {
     "name": "stdout",
     "output_type": "stream",
     "text": [
      "Epoch [142/400], Train Loss: 4.5475, Train_accuracy: 76.2800437451843, Val Loss: 1.5743, Val_accuracy: 75.39238713044774\n",
      "Model saved.\n"
     ]
    },
    {
     "name": "stderr",
     "output_type": "stream",
     "text": [
      " 36%|████████████████████████████████████████████████████████████▊                                                                                                             | 143/400 [22:16<40:38,  9.49s/it]"
     ]
    },
    {
     "name": "stdout",
     "output_type": "stream",
     "text": [
      "Epoch [143/400], Train Loss: 4.5424, Train_accuracy: 76.29247135436084, Val Loss: 1.5730, Val_accuracy: 75.3998434179622\n",
      "Model saved.\n"
     ]
    },
    {
     "name": "stderr",
     "output_type": "stream",
     "text": [
      " 36%|█████████████████████████████████████████████████████████████▏                                                                                                            | 144/400 [22:25<40:16,  9.44s/it]"
     ]
    },
    {
     "name": "stdout",
     "output_type": "stream",
     "text": [
      "Epoch [144/400], Train Loss: 4.5373, Train_accuracy: 76.31794795317276, Val Loss: 1.5717, Val_accuracy: 75.43526078365582\n",
      "Model saved.\n"
     ]
    },
    {
     "name": "stderr",
     "output_type": "stream",
     "text": [
      " 36%|█████████████████████████████████████████████████████████████▋                                                                                                            | 145/400 [22:35<40:30,  9.53s/it]"
     ]
    },
    {
     "name": "stdout",
     "output_type": "stream",
     "text": [
      "Epoch [145/400], Train Loss: 4.5323, Train_accuracy: 76.34901697611413, Val Loss: 1.5704, Val_accuracy: 75.45762964619915\n",
      "Model saved.\n"
     ]
    },
    {
     "name": "stderr",
     "output_type": "stream",
     "text": [
      " 36%|██████████████████████████████████████████████████████████████                                                                                                            | 146/400 [22:44<40:08,  9.48s/it]"
     ]
    },
    {
     "name": "stdout",
     "output_type": "stream",
     "text": [
      "Epoch [146/400], Train Loss: 4.5272, Train_accuracy: 76.36330872666717, Val Loss: 1.5691, Val_accuracy: 75.46695000559221\n",
      "Model saved.\n"
     ]
    },
    {
     "name": "stderr",
     "output_type": "stream",
     "text": [
      " 37%|██████████████████████████████████████████████████████████████▍                                                                                                           | 147/400 [22:54<39:57,  9.47s/it]"
     ]
    },
    {
     "name": "stdout",
     "output_type": "stream",
     "text": [
      "Epoch [147/400], Train Loss: 4.5223, Train_accuracy: 76.38629980364378, Val Loss: 1.5678, Val_accuracy: 75.48559072437833\n",
      "Model saved.\n"
     ]
    },
    {
     "name": "stderr",
     "output_type": "stream",
     "text": [
      " 37%|██████████████████████████████████████████████████████████████▉                                                                                                           | 148/400 [23:03<39:31,  9.41s/it]"
     ]
    },
    {
     "name": "stdout",
     "output_type": "stream",
     "text": [
      "Epoch [148/400], Train Loss: 4.5173, Train_accuracy: 76.41426192429101, Val Loss: 1.5666, Val_accuracy: 75.49863922752861\n",
      "Model saved.\n"
     ]
    },
    {
     "name": "stderr",
     "output_type": "stream",
     "text": [
      " 37%|███████████████████████████████████████████████████████████████▎                                                                                                          | 149/400 [23:12<39:27,  9.43s/it]"
     ]
    },
    {
     "name": "stdout",
     "output_type": "stream",
     "text": [
      "Epoch [149/400], Train Loss: 4.5124, Train_accuracy: 76.44284542539707, Val Loss: 1.5653, Val_accuracy: 75.50982365880029\n",
      "Model saved.\n"
     ]
    },
    {
     "name": "stderr",
     "output_type": "stream",
     "text": [
      " 38%|███████████████████████████████████████████████████████████████▊                                                                                                          | 150/400 [23:21<38:55,  9.34s/it]"
     ]
    },
    {
     "name": "stdout",
     "output_type": "stream",
     "text": [
      "Epoch [150/400], Train Loss: 4.5075, Train_accuracy: 76.46272960007954, Val Loss: 1.5641, Val_accuracy: 75.54337695261529\n",
      "Model saved.\n"
     ]
    },
    {
     "name": "stderr",
     "output_type": "stream",
     "text": [
      " 38%|████████████████████████████████████████████████████████████████▏                                                                                                         | 151/400 [23:31<38:38,  9.31s/it]"
     ]
    },
    {
     "name": "stdout",
     "output_type": "stream",
     "text": [
      "Epoch [151/400], Train Loss: 4.5026, Train_accuracy: 76.48074963338553, Val Loss: 1.5628, Val_accuracy: 75.5620176714014\n",
      "Model saved.\n"
     ]
    },
    {
     "name": "stderr",
     "output_type": "stream",
     "text": [
      " 38%|████████████████████████████████████████████████████████████████▌                                                                                                         | 152/400 [23:40<38:39,  9.35s/it]"
     ]
    },
    {
     "name": "stdout",
     "output_type": "stream",
     "text": [
      "Epoch [152/400], Train Loss: 4.4978, Train_accuracy: 76.49628414485622, Val Loss: 1.5616, Val_accuracy: 75.56574581515864\n",
      "Model saved.\n"
     ]
    },
    {
     "name": "stderr",
     "output_type": "stream",
     "text": [
      " 38%|█████████████████████████████████████████████████████████████████                                                                                                         | 153/400 [23:49<38:20,  9.31s/it]"
     ]
    },
    {
     "name": "stdout",
     "output_type": "stream",
     "text": [
      "Epoch [153/400], Train Loss: 4.4930, Train_accuracy: 76.53108145055054, Val Loss: 1.5604, Val_accuracy: 75.58811467770197\n",
      "Model saved.\n"
     ]
    },
    {
     "name": "stderr",
     "output_type": "stream",
     "text": [
      " 38%|█████████████████████████████████████████████████████████████████▍                                                                                                        | 154/400 [23:59<38:07,  9.30s/it]"
     ]
    },
    {
     "name": "stdout",
     "output_type": "stream",
     "text": [
      "Epoch [154/400], Train Loss: 4.4883, Train_accuracy: 76.53978077697413, Val Loss: 1.5592, Val_accuracy: 75.58625060582337\n"
     ]
    },
    {
     "name": "stderr",
     "output_type": "stream",
     "text": [
      " 39%|█████████████████████████████████████████████████████████████████▉                                                                                                        | 155/400 [24:08<37:57,  9.30s/it]"
     ]
    },
    {
     "name": "stdout",
     "output_type": "stream",
     "text": [
      "Epoch [155/400], Train Loss: 4.4836, Train_accuracy: 76.56774289762136, Val Loss: 1.5580, Val_accuracy: 75.60302725273087\n",
      "Model saved.\n"
     ]
    },
    {
     "name": "stderr",
     "output_type": "stream",
     "text": [
      " 39%|██████████████████████████████████████████████████████████████████▎                                                                                                       | 156/400 [24:17<37:48,  9.30s/it]"
     ]
    },
    {
     "name": "stdout",
     "output_type": "stream",
     "text": [
      "Epoch [156/400], Train Loss: 4.4789, Train_accuracy: 76.60129744239804, Val Loss: 1.5568, Val_accuracy: 75.60302725273087\n"
     ]
    },
    {
     "name": "stderr",
     "output_type": "stream",
     "text": [
      " 39%|██████████████████████████████████████████████████████████████████▋                                                                                                       | 157/400 [24:27<38:05,  9.41s/it]"
     ]
    },
    {
     "name": "stdout",
     "output_type": "stream",
     "text": [
      "Epoch [157/400], Train Loss: 4.4742, Train_accuracy: 76.61248229065693, Val Loss: 1.5556, Val_accuracy: 75.6253961152742\n",
      "Model saved.\n"
     ]
    },
    {
     "name": "stderr",
     "output_type": "stream",
     "text": [
      " 40%|███████████████████████████████████████████████████████████████████▏                                                                                                      | 158/400 [24:36<37:43,  9.35s/it]"
     ]
    },
    {
     "name": "stdout",
     "output_type": "stream",
     "text": [
      "Epoch [158/400], Train Loss: 4.4696, Train_accuracy: 76.63298784579823, Val Loss: 1.5544, Val_accuracy: 75.65335719345337\n",
      "Model saved.\n"
     ]
    },
    {
     "name": "stderr",
     "output_type": "stream",
     "text": [
      " 40%|███████████████████████████████████████████████████████████████████▌                                                                                                      | 159/400 [24:45<37:28,  9.33s/it]"
     ]
    },
    {
     "name": "stdout",
     "output_type": "stream",
     "text": [
      "Epoch [159/400], Train Loss: 4.4650, Train_accuracy: 76.64914373772774, Val Loss: 1.5533, Val_accuracy: 75.6570853372106\n",
      "Model saved.\n"
     ]
    },
    {
     "name": "stderr",
     "output_type": "stream",
     "text": [
      " 40%|████████████████████████████████████████████████████████████████████                                                                                                      | 160/400 [24:55<37:10,  9.30s/it]"
     ]
    },
    {
     "name": "stdout",
     "output_type": "stream",
     "text": [
      "Epoch [160/400], Train Loss: 4.4604, Train_accuracy: 76.68518380433972, Val Loss: 1.5521, Val_accuracy: 75.67013384036089\n",
      "Model saved.\n"
     ]
    },
    {
     "name": "stderr",
     "output_type": "stream",
     "text": [
      " 40%|████████████████████████████████████████████████████████████████████▍                                                                                                     | 161/400 [25:04<37:22,  9.38s/it]"
     ]
    },
    {
     "name": "stdout",
     "output_type": "stream",
     "text": [
      "Epoch [161/400], Train Loss: 4.4559, Train_accuracy: 76.7212238709517, Val Loss: 1.5510, Val_accuracy: 75.69995899041866\n",
      "Model saved.\n"
     ]
    },
    {
     "name": "stderr",
     "output_type": "stream",
     "text": [
      " 40%|████████████████████████████████████████████████████████████████████▊                                                                                                     | 162/400 [25:14<37:13,  9.38s/it]"
     ]
    },
    {
     "name": "stdout",
     "output_type": "stream",
     "text": [
      "Epoch [162/400], Train Loss: 4.4514, Train_accuracy: 76.73613700196356, Val Loss: 1.5498, Val_accuracy: 75.7353763561123\n",
      "Model saved.\n"
     ]
    },
    {
     "name": "stderr",
     "output_type": "stream",
     "text": [
      " 41%|█████████████████████████████████████████████████████████████████████▎                                                                                                    | 163/400 [25:23<36:59,  9.36s/it]"
     ]
    },
    {
     "name": "stdout",
     "output_type": "stream",
     "text": [
      "Epoch [163/400], Train Loss: 4.4469, Train_accuracy: 76.75912807894018, Val Loss: 1.5487, Val_accuracy: 75.74283264362674\n",
      "Model saved.\n"
     ]
    },
    {
     "name": "stderr",
     "output_type": "stream",
     "text": [
      " 41%|█████████████████████████████████████████████████████████████████████▋                                                                                                    | 164/400 [25:33<37:18,  9.49s/it]"
     ]
    },
    {
     "name": "stdout",
     "output_type": "stream",
     "text": [
      "Epoch [164/400], Train Loss: 4.4424, Train_accuracy: 76.77901225362265, Val Loss: 1.5476, Val_accuracy: 75.7521530030198\n",
      "Model saved.\n"
     ]
    },
    {
     "name": "stderr",
     "output_type": "stream",
     "text": [
      " 41%|██████████████████████████████████████████████████████████████████████▏                                                                                                   | 165/400 [25:42<37:03,  9.46s/it]"
     ]
    },
    {
     "name": "stdout",
     "output_type": "stream",
     "text": [
      "Epoch [165/400], Train Loss: 4.4380, Train_accuracy: 76.79019710188155, Val Loss: 1.5465, Val_accuracy: 75.77079372180592\n",
      "Model saved.\n"
     ]
    },
    {
     "name": "stderr",
     "output_type": "stream",
     "text": [
      " 42%|██████████████████████████████████████████████████████████████████████▌                                                                                                   | 166/400 [25:51<36:33,  9.37s/it]"
     ]
    },
    {
     "name": "stdout",
     "output_type": "stream",
     "text": [
      "Epoch [166/400], Train Loss: 4.4336, Train_accuracy: 76.81132403748167, Val Loss: 1.5454, Val_accuracy: 75.8006188718637\n",
      "Model saved.\n"
     ]
    },
    {
     "name": "stderr",
     "output_type": "stream",
     "text": [
      " 42%|██████████████████████████████████████████████████████████████████████▉                                                                                                   | 167/400 [26:00<36:08,  9.31s/it]"
     ]
    },
    {
     "name": "stdout",
     "output_type": "stream",
     "text": [
      "Epoch [167/400], Train Loss: 4.4292, Train_accuracy: 76.82685854895236, Val Loss: 1.5443, Val_accuracy: 75.81925959064982\n",
      "Model saved.\n"
     ]
    },
    {
     "name": "stderr",
     "output_type": "stream",
     "text": [
      " 42%|███████████████████████████████████████████████████████████████████████▍                                                                                                  | 168/400 [26:10<36:18,  9.39s/it]"
     ]
    },
    {
     "name": "stdout",
     "output_type": "stream",
     "text": [
      "Epoch [168/400], Train Loss: 4.4249, Train_accuracy: 76.84239306042303, Val Loss: 1.5432, Val_accuracy: 75.81366737501398\n"
     ]
    },
    {
     "name": "stderr",
     "output_type": "stream",
     "text": [
      " 42%|███████████████████████████████████████████████████████████████████████▊                                                                                                  | 169/400 [26:19<36:05,  9.37s/it]"
     ]
    },
    {
     "name": "stdout",
     "output_type": "stream",
     "text": [
      "Epoch [169/400], Train Loss: 4.4206, Train_accuracy: 76.86289861556433, Val Loss: 1.5421, Val_accuracy: 75.82671587816426\n",
      "Model saved.\n"
     ]
    },
    {
     "name": "stderr",
     "output_type": "stream",
     "text": [
      " 42%|████████████████████████████████████████████████████████████████████████▎                                                                                                 | 170/400 [26:28<35:41,  9.31s/it]"
     ]
    },
    {
     "name": "stdout",
     "output_type": "stream",
     "text": [
      "Epoch [170/400], Train Loss: 4.4163, Train_accuracy: 76.87967588795267, Val Loss: 1.5411, Val_accuracy: 75.85094881258621\n",
      "Model saved.\n"
     ]
    },
    {
     "name": "stderr",
     "output_type": "stream",
     "text": [
      " 43%|████████████████████████████████████████████████████████████████████████▋                                                                                                 | 171/400 [26:38<35:21,  9.27s/it]"
     ]
    },
    {
     "name": "stdout",
     "output_type": "stream",
     "text": [
      "Epoch [171/400], Train Loss: 4.4120, Train_accuracy: 76.89272487758805, Val Loss: 1.5400, Val_accuracy: 75.87518174700817\n",
      "Model saved.\n"
     ]
    },
    {
     "name": "stderr",
     "output_type": "stream",
     "text": [
      " 43%|█████████████████████████████████████████████████████████████████████████                                                                                                 | 172/400 [26:47<35:31,  9.35s/it]"
     ]
    },
    {
     "name": "stdout",
     "output_type": "stream",
     "text": [
      "Epoch [172/400], Train Loss: 4.4078, Train_accuracy: 76.91012353043521, Val Loss: 1.5390, Val_accuracy: 75.87704581888677\n",
      "Model saved.\n"
     ]
    },
    {
     "name": "stderr",
     "output_type": "stream",
     "text": [
      " 43%|█████████████████████████████████████████████████████████████████████████▌                                                                                                | 173/400 [26:56<35:10,  9.30s/it]"
     ]
    },
    {
     "name": "stdout",
     "output_type": "stream",
     "text": [
      "Epoch [173/400], Train Loss: 4.4036, Train_accuracy: 76.93187184649418, Val Loss: 1.5379, Val_accuracy: 75.90314282518735\n",
      "Model saved.\n"
     ]
    },
    {
     "name": "stderr",
     "output_type": "stream",
     "text": [
      " 44%|█████████████████████████████████████████████████████████████████████████▉                                                                                                | 174/400 [27:06<34:52,  9.26s/it]"
     ]
    },
    {
     "name": "stdout",
     "output_type": "stream",
     "text": [
      "Epoch [174/400], Train Loss: 4.3994, Train_accuracy: 76.9461635970472, Val Loss: 1.5369, Val_accuracy: 75.89941468143012\n"
     ]
    },
    {
     "name": "stderr",
     "output_type": "stream",
     "text": [
      " 44%|██████████████████████████████████████████████████████████████████████████▍                                                                                               | 175/400 [27:15<34:37,  9.23s/it]"
     ]
    },
    {
     "name": "stdout",
     "output_type": "stream",
     "text": [
      "Epoch [175/400], Train Loss: 4.3953, Train_accuracy: 76.97536847861208, Val Loss: 1.5359, Val_accuracy: 75.91991947209485\n",
      "Model saved.\n"
     ]
    },
    {
     "name": "stderr",
     "output_type": "stream",
     "text": [
      " 44%|██████████████████████████████████████████████████████████████████████████▊                                                                                               | 176/400 [27:24<34:49,  9.33s/it]"
     ]
    },
    {
     "name": "stdout",
     "output_type": "stream",
     "text": [
      "Epoch [176/400], Train Loss: 4.3911, Train_accuracy: 76.99525265329456, Val Loss: 1.5349, Val_accuracy: 75.93296797524512\n",
      "Model saved.\n"
     ]
    },
    {
     "name": "stderr",
     "output_type": "stream",
     "text": [
      " 44%|███████████████████████████████████████████████████████████████████████████▏                                                                                              | 177/400 [27:33<34:27,  9.27s/it]"
     ]
    },
    {
     "name": "stdout",
     "output_type": "stream",
     "text": [
      "Epoch [177/400], Train Loss: 4.3870, Train_accuracy: 77.01824373027117, Val Loss: 1.5338, Val_accuracy: 75.9609290534243\n",
      "Model saved.\n"
     ]
    },
    {
     "name": "stderr",
     "output_type": "stream",
     "text": [
      " 44%|███████████████████████████████████████████████████████████████████████████▋                                                                                              | 178/400 [27:43<34:22,  9.29s/it]"
     ]
    },
    {
     "name": "stdout",
     "output_type": "stream",
     "text": [
      "Epoch [178/400], Train Loss: 4.3830, Train_accuracy: 77.04931275321253, Val Loss: 1.5328, Val_accuracy: 75.97956977221041\n",
      "Model saved.\n"
     ]
    },
    {
     "name": "stderr",
     "output_type": "stream",
     "text": [
      " 45%|████████████████████████████████████████████████████████████████████████████                                                                                              | 179/400 [27:52<34:13,  9.29s/it]"
     ]
    },
    {
     "name": "stdout",
     "output_type": "stream",
     "text": [
      "Epoch [179/400], Train Loss: 4.3789, Train_accuracy: 77.0710610692715, Val Loss: 1.5318, Val_accuracy: 76.01871528166126\n",
      "Model saved.\n"
     ]
    },
    {
     "name": "stderr",
     "output_type": "stream",
     "text": [
      " 45%|████████████████████████████████████████████████████████████████████████████▌                                                                                             | 180/400 [28:02<34:28,  9.40s/it]"
     ]
    },
    {
     "name": "stdout",
     "output_type": "stream",
     "text": [
      "Epoch [180/400], Train Loss: 4.3749, Train_accuracy: 77.10150871175404, Val Loss: 1.5309, Val_accuracy: 76.03735600044737\n",
      "Model saved.\n"
     ]
    },
    {
     "name": "stderr",
     "output_type": "stream",
     "text": [
      " 45%|████████████████████████████████████████████████████████████████████████████▉                                                                                             | 181/400 [28:11<34:13,  9.38s/it]"
     ]
    },
    {
     "name": "stdout",
     "output_type": "stream",
     "text": [
      "Epoch [181/400], Train Loss: 4.3709, Train_accuracy: 77.12263564735416, Val Loss: 1.5299, Val_accuracy: 76.0578607911121\n",
      "Model saved.\n"
     ]
    },
    {
     "name": "stderr",
     "output_type": "stream",
     "text": [
      " 46%|█████████████████████████████████████████████████████████████████████████████▎                                                                                            | 182/400 [28:20<33:59,  9.36s/it]"
     ]
    },
    {
     "name": "stdout",
     "output_type": "stream",
     "text": [
      "Epoch [182/400], Train Loss: 4.3669, Train_accuracy: 77.14251982203663, Val Loss: 1.5289, Val_accuracy: 76.05599671923349\n"
     ]
    },
    {
     "name": "stderr",
     "output_type": "stream",
     "text": [
      " 46%|█████████████████████████████████████████████████████████████████████████████▊                                                                                            | 183/400 [28:30<33:47,  9.34s/it]"
     ]
    },
    {
     "name": "stdout",
     "output_type": "stream",
     "text": [
      "Epoch [183/400], Train Loss: 4.3630, Train_accuracy: 77.16302537717795, Val Loss: 1.5279, Val_accuracy: 76.08395779741267\n",
      "Model saved.\n"
     ]
    },
    {
     "name": "stderr",
     "output_type": "stream",
     "text": [
      " 46%|██████████████████████████████████████████████████████████████████████████████▏                                                                                           | 184/400 [28:39<33:54,  9.42s/it]"
     ]
    },
    {
     "name": "stdout",
     "output_type": "stream",
     "text": [
      "Epoch [184/400], Train Loss: 4.3590, Train_accuracy: 77.18353093231924, Val Loss: 1.5270, Val_accuracy: 76.11378294747045\n",
      "Model saved.\n"
     ]
    },
    {
     "name": "stderr",
     "output_type": "stream",
     "text": [
      " 46%|██████████████████████████████████████████████████████████████████████████████▋                                                                                           | 185/400 [28:48<33:30,  9.35s/it]"
     ]
    },
    {
     "name": "stdout",
     "output_type": "stream",
     "text": [
      "Epoch [185/400], Train Loss: 4.3551, Train_accuracy: 77.20900753113116, Val Loss: 1.5260, Val_accuracy: 76.12496737874213\n",
      "Model saved.\n"
     ]
    },
    {
     "name": "stderr",
     "output_type": "stream",
     "text": [
      " 46%|███████████████████████████████████████████████████████████████████████████████                                                                                           | 186/400 [28:58<33:12,  9.31s/it]"
     ]
    },
    {
     "name": "stdout",
     "output_type": "stream",
     "text": [
      "Epoch [186/400], Train Loss: 4.3512, Train_accuracy: 77.23199860810777, Val Loss: 1.5251, Val_accuracy: 76.1361518100138\n",
      "Model saved.\n"
     ]
    },
    {
     "name": "stderr",
     "output_type": "stream",
     "text": [
      " 47%|███████████████████████████████████████████████████████████████████████████████▍                                                                                          | 187/400 [29:07<32:58,  9.29s/it]"
     ]
    },
    {
     "name": "stdout",
     "output_type": "stream",
     "text": [
      "Epoch [187/400], Train Loss: 4.3474, Train_accuracy: 77.2556110655432, Val Loss: 1.5241, Val_accuracy: 76.15665660067852\n",
      "Model saved.\n"
     ]
    },
    {
     "name": "stderr",
     "output_type": "stream",
     "text": [
      " 47%|███████████████████████████████████████████████████████████████████████████████▉                                                                                          | 188/400 [29:16<33:07,  9.38s/it]"
     ]
    },
    {
     "name": "stdout",
     "output_type": "stream",
     "text": [
      "Epoch [188/400], Train Loss: 4.3435, Train_accuracy: 77.28792284940224, Val Loss: 1.5232, Val_accuracy: 76.19207396637215\n",
      "Model saved.\n"
     ]
    },
    {
     "name": "stderr",
     "output_type": "stream",
     "text": [
      " 47%|████████████████████████████████████████████████████████████████████████████████▎                                                                                         | 189/400 [29:26<32:50,  9.34s/it]"
     ]
    },
    {
     "name": "stdout",
     "output_type": "stream",
     "text": [
      "Epoch [189/400], Train Loss: 4.3397, Train_accuracy: 77.30345736087291, Val Loss: 1.5223, Val_accuracy: 76.23494761958021\n",
      "Model saved.\n"
     ]
    },
    {
     "name": "stderr",
     "output_type": "stream",
     "text": [
      " 48%|████████████████████████████████████████████████████████████████████████████████▊                                                                                         | 190/400 [29:35<32:34,  9.30s/it]"
     ]
    },
    {
     "name": "stdout",
     "output_type": "stream",
     "text": [
      "Epoch [190/400], Train Loss: 4.3359, Train_accuracy: 77.31774911142594, Val Loss: 1.5214, Val_accuracy: 76.24613205085188\n",
      "Model saved.\n"
     ]
    },
    {
     "name": "stderr",
     "output_type": "stream",
     "text": [
      " 48%|█████████████████████████████████████████████████████████████████████████████████▏                                                                                        | 191/400 [29:44<32:19,  9.28s/it]"
     ]
    },
    {
     "name": "stdout",
     "output_type": "stream",
     "text": [
      "Epoch [191/400], Train Loss: 4.3322, Train_accuracy: 77.34074018840255, Val Loss: 1.5205, Val_accuracy: 76.2479961227305\n",
      "Model saved.\n"
     ]
    },
    {
     "name": "stderr",
     "output_type": "stream",
     "text": [
      " 48%|█████████████████████████████████████████████████████████████████████████████████▌                                                                                        | 192/400 [29:54<32:29,  9.37s/it]"
     ]
    },
    {
     "name": "stdout",
     "output_type": "stream",
     "text": [
      "Epoch [192/400], Train Loss: 4.3284, Train_accuracy: 77.35006089528497, Val Loss: 1.5195, Val_accuracy: 76.25545241024494\n",
      "Model saved.\n"
     ]
    },
    {
     "name": "stderr",
     "output_type": "stream",
     "text": [
      " 48%|██████████████████████████████████████████████████████████████████████████████████                                                                                        | 193/400 [30:03<32:08,  9.32s/it]"
     ]
    },
    {
     "name": "stdout",
     "output_type": "stream",
     "text": [
      "Epoch [193/400], Train Loss: 4.3247, Train_accuracy: 77.35441055849675, Val Loss: 1.5186, Val_accuracy: 76.25918055400216\n",
      "Model saved.\n"
     ]
    },
    {
     "name": "stderr",
     "output_type": "stream",
     "text": [
      " 48%|██████████████████████████████████████████████████████████████████████████████████▍                                                                                       | 194/400 [30:12<31:56,  9.30s/it]"
     ]
    },
    {
     "name": "stdout",
     "output_type": "stream",
     "text": [
      "Epoch [194/400], Train Loss: 4.3210, Train_accuracy: 77.37740163547336, Val Loss: 1.5178, Val_accuracy: 76.26663684151661\n",
      "Model saved.\n"
     ]
    },
    {
     "name": "stderr",
     "output_type": "stream",
     "text": [
      " 49%|██████████████████████████████████████████████████████████████████████████████████▉                                                                                       | 195/400 [30:21<31:41,  9.28s/it]"
     ]
    },
    {
     "name": "stdout",
     "output_type": "stream",
     "text": [
      "Epoch [195/400], Train Loss: 4.3173, Train_accuracy: 77.40225685382646, Val Loss: 1.5169, Val_accuracy: 76.28714163218133\n",
      "Model saved.\n"
     ]
    },
    {
     "name": "stderr",
     "output_type": "stream",
     "text": [
      " 49%|███████████████████████████████████████████████████████████████████████████████████▎                                                                                      | 196/400 [30:31<31:54,  9.39s/it]"
     ]
    },
    {
     "name": "stdout",
     "output_type": "stream",
     "text": [
      "Epoch [196/400], Train Loss: 4.3137, Train_accuracy: 77.41530584346184, Val Loss: 1.5160, Val_accuracy: 76.30578235096745\n",
      "Model saved.\n"
     ]
    },
    {
     "name": "stderr",
     "output_type": "stream",
     "text": [
      " 49%|███████████████████████████████████████████████████████████████████████████████████▋                                                                                      | 197/400 [30:40<31:47,  9.40s/it]"
     ]
    },
    {
     "name": "stdout",
     "output_type": "stream",
     "text": [
      "Epoch [197/400], Train Loss: 4.3101, Train_accuracy: 77.43084035493251, Val Loss: 1.5151, Val_accuracy: 76.32255899787496\n",
      "Model saved.\n"
     ]
    },
    {
     "name": "stderr",
     "output_type": "stream",
     "text": [
      " 50%|████████████████████████████████████████████████████████████████████████████████████▏                                                                                     | 198/400 [30:50<31:45,  9.43s/it]"
     ]
    },
    {
     "name": "stdout",
     "output_type": "stream",
     "text": [
      "Epoch [198/400], Train Loss: 4.3064, Train_accuracy: 77.45010314915616, Val Loss: 1.5143, Val_accuracy: 76.33747157290385\n",
      "Model saved.\n"
     ]
    },
    {
     "name": "stderr",
     "output_type": "stream",
     "text": [
      " 50%|████████████████████████████████████████████████████████████████████████████████████▌                                                                                     | 199/400 [30:59<31:38,  9.44s/it]"
     ]
    },
    {
     "name": "stdout",
     "output_type": "stream",
     "text": [
      "Epoch [199/400], Train Loss: 4.3029, Train_accuracy: 77.47247284567395, Val Loss: 1.5134, Val_accuracy: 76.34679193229691\n",
      "Model saved.\n"
     ]
    },
    {
     "name": "stderr",
     "output_type": "stream",
     "text": [
      " 50%|█████████████████████████████████████████████████████████████████████████████████████                                                                                     | 200/400 [31:09<31:53,  9.57s/it]"
     ]
    },
    {
     "name": "stdout",
     "output_type": "stream",
     "text": [
      "Epoch [200/400], Train Loss: 4.2993, Train_accuracy: 77.47682250888575, Val Loss: 1.5125, Val_accuracy: 76.35052007605414\n",
      "Model saved.\n"
     ]
    },
    {
     "name": "stderr",
     "output_type": "stream",
     "text": [
      " 50%|█████████████████████████████████████████████████████████████████████████████████████▍                                                                                    | 201/400 [31:19<31:40,  9.55s/it]"
     ]
    },
    {
     "name": "stdout",
     "output_type": "stream",
     "text": [
      "Epoch [201/400], Train Loss: 4.2957, Train_accuracy: 77.48676459622698, Val Loss: 1.5117, Val_accuracy: 76.35424821981135\n",
      "Model saved.\n"
     ]
    },
    {
     "name": "stderr",
     "output_type": "stream",
     "text": [
      " 50%|█████████████████████████████████████████████████████████████████████████████████████▊                                                                                    | 202/400 [31:28<31:27,  9.54s/it]"
     ]
    },
    {
     "name": "stdout",
     "output_type": "stream",
     "text": [
      "Epoch [202/400], Train Loss: 4.2922, Train_accuracy: 77.49794944448587, Val Loss: 1.5109, Val_accuracy: 76.36543265108303\n",
      "Model saved.\n"
     ]
    },
    {
     "name": "stderr",
     "output_type": "stream",
     "text": [
      " 51%|██████████████████████████████████████████████████████████████████████████████████████▎                                                                                   | 203/400 [31:38<31:15,  9.52s/it]"
     ]
    },
    {
     "name": "stdout",
     "output_type": "stream",
     "text": [
      "Epoch [203/400], Train Loss: 4.2887, Train_accuracy: 77.5215619019213, Val Loss: 1.5100, Val_accuracy: 76.39712187301943\n",
      "Model saved.\n"
     ]
    },
    {
     "name": "stderr",
     "output_type": "stream",
     "text": [
      " 51%|██████████████████████████████████████████████████████████████████████████████████████▋                                                                                   | 204/400 [31:48<31:27,  9.63s/it]"
     ]
    },
    {
     "name": "stdout",
     "output_type": "stream",
     "text": [
      "Epoch [204/400], Train Loss: 4.2852, Train_accuracy: 77.55014540302737, Val Loss: 1.5092, Val_accuracy: 76.40644223241249\n",
      "Model saved.\n"
     ]
    },
    {
     "name": "stderr",
     "output_type": "stream",
     "text": [
      " 51%|███████████████████████████████████████████████████████████████████████████████████████                                                                                   | 205/400 [31:57<31:07,  9.58s/it]"
     ]
    },
    {
     "name": "stdout",
     "output_type": "stream",
     "text": [
      "Epoch [205/400], Train Loss: 4.2818, Train_accuracy: 77.5669226754157, Val Loss: 1.5084, Val_accuracy: 76.4101703761697\n",
      "Model saved.\n"
     ]
    },
    {
     "name": "stderr",
     "output_type": "stream",
     "text": [
      " 52%|███████████████████████████████████████████████████████████████████████████████████████▌                                                                                  | 206/400 [32:07<30:54,  9.56s/it]"
     ]
    },
    {
     "name": "stdout",
     "output_type": "stream",
     "text": [
      "Epoch [206/400], Train Loss: 4.2783, Train_accuracy: 77.5849427087217, Val Loss: 1.5076, Val_accuracy: 76.4250829511986\n",
      "Model saved.\n"
     ]
    },
    {
     "name": "stderr",
     "output_type": "stream",
     "text": [
      " 52%|███████████████████████████████████████████████████████████████████████████████████████▉                                                                                  | 207/400 [32:16<30:40,  9.54s/it]"
     ]
    },
    {
     "name": "stdout",
     "output_type": "stream",
     "text": [
      "Epoch [207/400], Train Loss: 4.2749, Train_accuracy: 77.59364203514528, Val Loss: 1.5067, Val_accuracy: 76.45490810125638\n",
      "Model saved.\n"
     ]
    },
    {
     "name": "stderr",
     "output_type": "stream",
     "text": [
      " 52%|████████████████████████████████████████████████████████████████████████████████████████▍                                                                                 | 208/400 [32:26<30:49,  9.63s/it]"
     ]
    },
    {
     "name": "stdout",
     "output_type": "stream",
     "text": [
      "Epoch [208/400], Train Loss: 4.2715, Train_accuracy: 77.61290482936893, Val Loss: 1.5059, Val_accuracy: 76.4884613950714\n",
      "Model saved.\n"
     ]
    },
    {
     "name": "stderr",
     "output_type": "stream",
     "text": [
      " 52%|████████████████████████████████████████████████████████████████████████████████████████▊                                                                                 | 209/400 [32:35<30:32,  9.59s/it]"
     ]
    },
    {
     "name": "stdout",
     "output_type": "stream",
     "text": [
      "Epoch [209/400], Train Loss: 4.2681, Train_accuracy: 77.62657519946313, Val Loss: 1.5051, Val_accuracy: 76.49591768258584\n",
      "Model saved.\n"
     ]
    },
    {
     "name": "stderr",
     "output_type": "stream",
     "text": [
      " 52%|█████████████████████████████████████████████████████████████████████████████████████████▎                                                                                | 210/400 [32:45<30:16,  9.56s/it]"
     ]
    },
    {
     "name": "stdout",
     "output_type": "stream",
     "text": [
      "Epoch [210/400], Train Loss: 4.2647, Train_accuracy: 77.63589590634554, Val Loss: 1.5043, Val_accuracy: 76.52015061700779\n",
      "Model saved.\n"
     ]
    },
    {
     "name": "stderr",
     "output_type": "stream",
     "text": [
      " 53%|█████████████████████████████████████████████████████████████████████████████████████████▋                                                                                | 211/400 [32:55<30:05,  9.55s/it]"
     ]
    },
    {
     "name": "stdout",
     "output_type": "stream",
     "text": [
      "Epoch [211/400], Train Loss: 4.2614, Train_accuracy: 77.64335247185147, Val Loss: 1.5036, Val_accuracy: 76.54997576706558\n",
      "Model saved.\n"
     ]
    },
    {
     "name": "stderr",
     "output_type": "stream",
     "text": [
      " 53%|██████████████████████████████████████████████████████████████████████████████████████████                                                                                | 212/400 [33:04<30:10,  9.63s/it]"
     ]
    },
    {
     "name": "stdout",
     "output_type": "stream",
     "text": [
      "Epoch [212/400], Train Loss: 4.2580, Train_accuracy: 77.6439738523103, Val Loss: 1.5028, Val_accuracy: 76.55183983894419\n",
      "Model saved.\n"
     ]
    },
    {
     "name": "stderr",
     "output_type": "stream",
     "text": [
      " 53%|██████████████████████████████████████████████████████████████████████████████████████████▌                                                                               | 213/400 [33:14<29:48,  9.56s/it]"
     ]
    },
    {
     "name": "stdout",
     "output_type": "stream",
     "text": [
      "Epoch [213/400], Train Loss: 4.2547, Train_accuracy: 77.6532945591927, Val Loss: 1.5020, Val_accuracy: 76.55556798270142\n",
      "Model saved.\n"
     ]
    },
    {
     "name": "stderr",
     "output_type": "stream",
     "text": [
      " 54%|██████████████████████████████████████████████████████████████████████████████████████████▉                                                                               | 214/400 [33:23<29:35,  9.55s/it]"
     ]
    },
    {
     "name": "stdout",
     "output_type": "stream",
     "text": [
      "Epoch [214/400], Train Loss: 4.2514, Train_accuracy: 77.673800114334, Val Loss: 1.5012, Val_accuracy: 76.57420870148754\n",
      "Model saved.\n"
     ]
    },
    {
     "name": "stderr",
     "output_type": "stream",
     "text": [
      " 54%|███████████████████████████████████████████████████████████████████████████████████████████▍                                                                              | 215/400 [33:33<29:21,  9.52s/it]"
     ]
    },
    {
     "name": "stdout",
     "output_type": "stream",
     "text": [
      "Epoch [215/400], Train Loss: 4.2482, Train_accuracy: 77.69182014764, Val Loss: 1.5005, Val_accuracy: 76.5853931327592\n",
      "Model saved.\n"
     ]
    },
    {
     "name": "stderr",
     "output_type": "stream",
     "text": [
      " 54%|███████████████████████████████████████████████████████████████████████████████████████████▊                                                                              | 216/400 [33:43<29:30,  9.62s/it]"
     ]
    },
    {
     "name": "stdout",
     "output_type": "stream",
     "text": [
      "Epoch [216/400], Train Loss: 4.2449, Train_accuracy: 77.71481122461661, Val Loss: 1.4997, Val_accuracy: 76.58912127651642\n",
      "Model saved.\n"
     ]
    },
    {
     "name": "stderr",
     "output_type": "stream",
     "text": [
      " 54%|████████████████████████████████████████████████████████████████████████████████████████████▏                                                                             | 217/400 [33:52<29:11,  9.57s/it]"
     ]
    },
    {
     "name": "stdout",
     "output_type": "stream",
     "text": [
      "Epoch [217/400], Train Loss: 4.2417, Train_accuracy: 77.71791812691075, Val Loss: 1.4989, Val_accuracy: 76.60216977966671\n",
      "Model saved.\n"
     ]
    },
    {
     "name": "stderr",
     "output_type": "stream",
     "text": [
      " 55%|████████████████████████████████████████████████████████████████████████████████████████████▋                                                                             | 218/400 [34:02<28:57,  9.55s/it]"
     ]
    },
    {
     "name": "stdout",
     "output_type": "stream",
     "text": [
      "Epoch [218/400], Train Loss: 4.2385, Train_accuracy: 77.73158849700495, Val Loss: 1.4982, Val_accuracy: 76.59844163590948\n"
     ]
    },
    {
     "name": "stderr",
     "output_type": "stream",
     "text": [
      " 55%|█████████████████████████████████████████████████████████████████████████████████████████████                                                                             | 219/400 [34:11<28:43,  9.52s/it]"
     ]
    },
    {
     "name": "stdout",
     "output_type": "stream",
     "text": [
      "Epoch [219/400], Train Loss: 4.2353, Train_accuracy: 77.74525886709915, Val Loss: 1.4975, Val_accuracy: 76.60962606718115\n",
      "Model saved.\n"
     ]
    },
    {
     "name": "stderr",
     "output_type": "stream",
     "text": [
      " 55%|█████████████████████████████████████████████████████████████████████████████████████████████▌                                                                            | 220/400 [34:21<28:50,  9.62s/it]"
     ]
    },
    {
     "name": "stdout",
     "output_type": "stream",
     "text": [
      "Epoch [220/400], Train Loss: 4.2321, Train_accuracy: 77.7576864762757, Val Loss: 1.4967, Val_accuracy: 76.63199492972448\n",
      "Model saved.\n"
     ]
    },
    {
     "name": "stderr",
     "output_type": "stream",
     "text": [
      " 55%|█████████████████████████████████████████████████████████████████████████████████████████████▉                                                                            | 221/400 [34:30<28:30,  9.56s/it]"
     ]
    },
    {
     "name": "stdout",
     "output_type": "stream",
     "text": [
      "Epoch [221/400], Train Loss: 4.2289, Train_accuracy: 77.76327890040514, Val Loss: 1.4960, Val_accuracy: 76.6655482235395\n",
      "Model saved.\n"
     ]
    },
    {
     "name": "stderr",
     "output_type": "stream",
     "text": [
      " 56%|██████████████████████████████████████████████████████████████████████████████████████████████▎                                                                           | 222/400 [34:40<28:17,  9.54s/it]"
     ]
    },
    {
     "name": "stdout",
     "output_type": "stream",
     "text": [
      "Epoch [222/400], Train Loss: 4.2258, Train_accuracy: 77.77011408545224, Val Loss: 1.4953, Val_accuracy: 76.67673265481118\n",
      "Model saved.\n"
     ]
    },
    {
     "name": "stderr",
     "output_type": "stream",
     "text": [
      " 56%|██████████████████████████████████████████████████████████████████████████████████████████████▊                                                                           | 223/400 [34:49<28:04,  9.52s/it]"
     ]
    },
    {
     "name": "stdout",
     "output_type": "stream",
     "text": [
      "Epoch [223/400], Train Loss: 4.2226, Train_accuracy: 77.78316307508761, Val Loss: 1.4945, Val_accuracy: 76.67300451105395\n"
     ]
    },
    {
     "name": "stderr",
     "output_type": "stream",
     "text": [
      " 56%|███████████████████████████████████████████████████████████████████████████████████████████████▏                                                                          | 224/400 [34:59<28:12,  9.62s/it]"
     ]
    },
    {
     "name": "stdout",
     "output_type": "stream",
     "text": [
      "Epoch [224/400], Train Loss: 4.2195, Train_accuracy: 77.79559068426416, Val Loss: 1.4938, Val_accuracy: 76.69164522984006\n",
      "Model saved.\n"
     ]
    },
    {
     "name": "stderr",
     "output_type": "stream",
     "text": [
      " 56%|███████████████████████████████████████████████████████████████████████████████████████████████▋                                                                          | 225/400 [35:09<27:55,  9.57s/it]"
     ]
    },
    {
     "name": "stdout",
     "output_type": "stream",
     "text": [
      "Epoch [225/400], Train Loss: 4.2164, Train_accuracy: 77.80677553252305, Val Loss: 1.4931, Val_accuracy: 76.68791708608283\n"
     ]
    },
    {
     "name": "stderr",
     "output_type": "stream",
     "text": [
      " 56%|████████████████████████████████████████████████████████████████████████████████████████████████                                                                          | 226/400 [35:18<27:40,  9.54s/it]"
     ]
    },
    {
     "name": "stdout",
     "output_type": "stream",
     "text": [
      "Epoch [226/400], Train Loss: 4.2134, Train_accuracy: 77.80988243481718, Val Loss: 1.4924, Val_accuracy: 76.70469373299035\n",
      "Model saved.\n"
     ]
    },
    {
     "name": "stderr",
     "output_type": "stream",
     "text": [
      " 57%|████████████████████████████████████████████████████████████████████████████████████████████████▍                                                                         | 227/400 [35:27<27:28,  9.53s/it]"
     ]
    },
    {
     "name": "stdout",
     "output_type": "stream",
     "text": [
      "Epoch [227/400], Train Loss: 4.2103, Train_accuracy: 77.81609623940547, Val Loss: 1.4917, Val_accuracy: 76.70469373299035\n"
     ]
    },
    {
     "name": "stderr",
     "output_type": "stream",
     "text": [
      " 57%|████████████████████████████████████████████████████████████████████████████████████████████████▉                                                                         | 228/400 [35:37<27:36,  9.63s/it]"
     ]
    },
    {
     "name": "stdout",
     "output_type": "stream",
     "text": [
      "Epoch [228/400], Train Loss: 4.2073, Train_accuracy: 77.8440583600527, Val Loss: 1.4910, Val_accuracy: 76.71587816426201\n",
      "Model saved.\n"
     ]
    },
    {
     "name": "stderr",
     "output_type": "stream",
     "text": [
      " 57%|█████████████████████████████████████████████████████████████████████████████████████████████████▎                                                                        | 229/400 [35:47<27:17,  9.58s/it]"
     ]
    },
    {
     "name": "stdout",
     "output_type": "stream",
     "text": [
      "Epoch [229/400], Train Loss: 4.2042, Train_accuracy: 77.864563915194, Val Loss: 1.4903, Val_accuracy: 76.73638295492674\n",
      "Model saved.\n"
     ]
    },
    {
     "name": "stderr",
     "output_type": "stream",
     "text": [
      " 57%|█████████████████████████████████████████████████████████████████████████████████████████████████▋                                                                        | 230/400 [35:56<27:04,  9.56s/it]"
     ]
    },
    {
     "name": "stdout",
     "output_type": "stream",
     "text": [
      "Epoch [230/400], Train Loss: 4.2012, Train_accuracy: 77.88569085079412, Val Loss: 1.4896, Val_accuracy: 76.74383924244118\n",
      "Model saved.\n"
     ]
    },
    {
     "name": "stderr",
     "output_type": "stream",
     "text": [
      " 58%|██████████████████████████████████████████████████████████████████████████████████████████████████▏                                                                       | 231/400 [36:06<26:49,  9.53s/it]"
     ]
    },
    {
     "name": "stdout",
     "output_type": "stream",
     "text": [
      "Epoch [231/400], Train Loss: 4.1982, Train_accuracy: 77.88879775308826, Val Loss: 1.4889, Val_accuracy: 76.75502367371286\n",
      "Model saved.\n"
     ]
    },
    {
     "name": "stderr",
     "output_type": "stream",
     "text": [
      " 58%|██████████████████████████████████████████████████████████████████████████████████████████████████▌                                                                       | 232/400 [36:16<26:57,  9.63s/it]"
     ]
    },
    {
     "name": "stdout",
     "output_type": "stream",
     "text": [
      "Epoch [232/400], Train Loss: 4.1953, Train_accuracy: 77.90619640593543, Val Loss: 1.4882, Val_accuracy: 76.76807217686314\n",
      "Model saved.\n"
     ]
    },
    {
     "name": "stderr",
     "output_type": "stream",
     "text": [
      " 58%|███████████████████████████████████████████████████████████████████████████████████████████████████                                                                       | 233/400 [36:25<26:40,  9.59s/it]"
     ]
    },
    {
     "name": "stdout",
     "output_type": "stream",
     "text": [
      "Epoch [233/400], Train Loss: 4.1923, Train_accuracy: 77.92235229786493, Val Loss: 1.4876, Val_accuracy: 76.77366439249897\n",
      "Model saved.\n"
     ]
    },
    {
     "name": "stderr",
     "output_type": "stream",
     "text": [
      " 58%|███████████████████████████████████████████████████████████████████████████████████████████████████▍                                                                      | 234/400 [36:35<26:27,  9.56s/it]"
     ]
    },
    {
     "name": "stdout",
     "output_type": "stream",
     "text": [
      "Epoch [234/400], Train Loss: 4.1893, Train_accuracy: 77.93415852658265, Val Loss: 1.4869, Val_accuracy: 76.77925660813482\n",
      "Model saved.\n"
     ]
    },
    {
     "name": "stderr",
     "output_type": "stream",
     "text": [
      " 59%|███████████████████████████████████████████████████████████████████████████████████████████████████▉                                                                      | 235/400 [36:44<26:14,  9.54s/it]"
     ]
    },
    {
     "name": "stdout",
     "output_type": "stream",
     "text": [
      "Epoch [235/400], Train Loss: 4.1864, Train_accuracy: 77.9465861357592, Val Loss: 1.4862, Val_accuracy: 76.78112068001342\n",
      "Model saved.\n"
     ]
    },
    {
     "name": "stderr",
     "output_type": "stream",
     "text": [
      " 59%|████████████████████████████████████████████████████████████████████████████████████████████████████▎                                                                     | 236/400 [36:54<26:21,  9.64s/it]"
     ]
    },
    {
     "name": "stdout",
     "output_type": "stream",
     "text": [
      "Epoch [236/400], Train Loss: 4.1835, Train_accuracy: 77.95839236447692, Val Loss: 1.4856, Val_accuracy: 76.78857696752787\n",
      "Model saved.\n"
     ]
    },
    {
     "name": "stderr",
     "output_type": "stream",
     "text": [
      " 59%|████████████████████████████████████████████████████████████████████████████████████████████████████▋                                                                     | 237/400 [37:03<26:02,  9.58s/it]"
     ]
    },
    {
     "name": "stdout",
     "output_type": "stream",
     "text": [
      "Epoch [237/400], Train Loss: 4.1806, Train_accuracy: 77.96336340814754, Val Loss: 1.4849, Val_accuracy: 76.79230511128509\n",
      "Model saved.\n"
     ]
    },
    {
     "name": "stderr",
     "output_type": "stream",
     "text": [
      " 60%|█████████████████████████████████████████████████████████████████████████████████████████████████████▏                                                                    | 238/400 [37:13<25:51,  9.58s/it]"
     ]
    },
    {
     "name": "stdout",
     "output_type": "stream",
     "text": [
      "Epoch [238/400], Train Loss: 4.1777, Train_accuracy: 77.98014068053588, Val Loss: 1.4843, Val_accuracy: 76.80721768631399\n",
      "Model saved.\n"
     ]
    },
    {
     "name": "stderr",
     "output_type": "stream",
     "text": [
      " 60%|█████████████████████████████████████████████████████████████████████████████████████████████████████▌                                                                    | 239/400 [37:23<25:38,  9.55s/it]"
     ]
    },
    {
     "name": "stdout",
     "output_type": "stream",
     "text": [
      "Epoch [239/400], Train Loss: 4.1749, Train_accuracy: 78.00313175751249, Val Loss: 1.4836, Val_accuracy: 76.81280990194982\n",
      "Model saved.\n"
     ]
    },
    {
     "name": "stderr",
     "output_type": "stream",
     "text": [
      " 60%|██████████████████████████████████████████████████████████████████████████████████████████████████████                                                                    | 240/400 [37:32<25:45,  9.66s/it]"
     ]
    },
    {
     "name": "stdout",
     "output_type": "stream",
     "text": [
      "Epoch [240/400], Train Loss: 4.1720, Train_accuracy: 78.01493798623021, Val Loss: 1.4830, Val_accuracy: 76.81467397382843\n",
      "Model saved.\n"
     ]
    },
    {
     "name": "stderr",
     "output_type": "stream",
     "text": [
      " 60%|██████████████████████████████████████████████████████████████████████████████████████████████████████▍                                                                   | 241/400 [37:42<25:27,  9.61s/it]"
     ]
    },
    {
     "name": "stdout",
     "output_type": "stream",
     "text": [
      "Epoch [241/400], Train Loss: 4.1692, Train_accuracy: 78.02239455173614, Val Loss: 1.4824, Val_accuracy: 76.81653804570705\n",
      "Model saved.\n"
     ]
    },
    {
     "name": "stderr",
     "output_type": "stream",
     "text": [
      " 60%|██████████████████████████████████████████████████████████████████████████████████████████████████████▊                                                                   | 242/400 [37:51<25:04,  9.52s/it]"
     ]
    },
    {
     "name": "stdout",
     "output_type": "stream",
     "text": [
      "Epoch [242/400], Train Loss: 4.1664, Train_accuracy: 78.0354435413715, Val Loss: 1.4817, Val_accuracy: 76.81840211758565\n",
      "Model saved.\n"
     ]
    },
    {
     "name": "stderr",
     "output_type": "stream",
     "text": [
      " 61%|███████████████████████████████████████████████████████████████████████████████████████████████████████▎                                                                  | 243/400 [38:01<25:03,  9.57s/it]"
     ]
    },
    {
     "name": "stdout",
     "output_type": "stream",
     "text": [
      "Epoch [243/400], Train Loss: 4.1635, Train_accuracy: 78.04600700917157, Val Loss: 1.4811, Val_accuracy: 76.81653804570705\n"
     ]
    },
    {
     "name": "stderr",
     "output_type": "stream",
     "text": [
      " 61%|███████████████████████████████████████████████████████████████████████████████████████████████████████▋                                                                  | 244/400 [38:10<24:49,  9.55s/it]"
     ]
    },
    {
     "name": "stdout",
     "output_type": "stream",
     "text": [
      "Epoch [244/400], Train Loss: 4.1608, Train_accuracy: 78.05905599880695, Val Loss: 1.4805, Val_accuracy: 76.81467397382843\n"
     ]
    },
    {
     "name": "stderr",
     "output_type": "stream",
     "text": [
      " 61%|████████████████████████████████████████████████████████████████████████████████████████████████████████▏                                                                 | 245/400 [38:20<24:35,  9.52s/it]"
     ]
    },
    {
     "name": "stdout",
     "output_type": "stream",
     "text": [
      "Epoch [245/400], Train Loss: 4.1580, Train_accuracy: 78.07894017348943, Val Loss: 1.4798, Val_accuracy: 76.84263505200761\n",
      "Model saved.\n"
     ]
    },
    {
     "name": "stderr",
     "output_type": "stream",
     "text": [
      " 62%|████████████████████████████████████████████████████████████████████████████████████████████████████████▌                                                                 | 246/400 [38:29<24:18,  9.47s/it]"
     ]
    },
    {
     "name": "stdout",
     "output_type": "stream",
     "text": [
      "Epoch [246/400], Train Loss: 4.1552, Train_accuracy: 78.09012502174832, Val Loss: 1.4792, Val_accuracy: 76.8575476270365\n",
      "Model saved.\n"
     ]
    },
    {
     "name": "stderr",
     "output_type": "stream",
     "text": [
      " 62%|████████████████████████████████████████████████████████████████████████████████████████████████████████▉                                                                 | 247/400 [38:39<24:13,  9.50s/it]"
     ]
    },
    {
     "name": "stdout",
     "output_type": "stream",
     "text": [
      "Epoch [247/400], Train Loss: 4.1525, Train_accuracy: 78.105659533219, Val Loss: 1.4786, Val_accuracy: 76.87059613018678\n",
      "Model saved.\n"
     ]
    },
    {
     "name": "stderr",
     "output_type": "stream",
     "text": [
      " 62%|█████████████████████████████████████████████████████████████████████████████████████████████████████████▍                                                                | 248/400 [38:49<24:24,  9.63s/it]"
     ]
    },
    {
     "name": "stdout",
     "output_type": "stream",
     "text": [
      "Epoch [248/400], Train Loss: 4.1497, Train_accuracy: 78.12430094698382, Val Loss: 1.4780, Val_accuracy: 76.86127577079372\n"
     ]
    },
    {
     "name": "stderr",
     "output_type": "stream",
     "text": [
      " 62%|█████████████████████████████████████████████████████████████████████████████████████████████████████████▊                                                                | 249/400 [38:58<24:09,  9.60s/it]"
     ]
    },
    {
     "name": "stdout",
     "output_type": "stream",
     "text": [
      "Epoch [249/400], Train Loss: 4.1470, Train_accuracy: 78.12678646881913, Val Loss: 1.4774, Val_accuracy: 76.85941169891511\n"
     ]
    },
    {
     "name": "stderr",
     "output_type": "stream",
     "text": [
      " 62%|██████████████████████████████████████████████████████████████████████████████████████████████████████████▎                                                               | 250/400 [39:08<23:59,  9.59s/it]"
     ]
    },
    {
     "name": "stdout",
     "output_type": "stream",
     "text": [
      "Epoch [250/400], Train Loss: 4.1443, Train_accuracy: 78.13921407799567, Val Loss: 1.4768, Val_accuracy: 76.86127577079372\n"
     ]
    },
    {
     "name": "stderr",
     "output_type": "stream",
     "text": [
      " 63%|██████████████████████████████████████████████████████████████████████████████████████████████████████████▋                                                               | 251/400 [39:17<23:47,  9.58s/it]"
     ]
    },
    {
     "name": "stdout",
     "output_type": "stream",
     "text": [
      "Epoch [251/400], Train Loss: 4.1416, Train_accuracy: 78.1578554917605, Val Loss: 1.4762, Val_accuracy: 76.88364463333706\n",
      "Model saved.\n"
     ]
    },
    {
     "name": "stderr",
     "output_type": "stream",
     "text": [
      " 63%|███████████████████████████████████████████████████████████████████████████████████████████████████████████                                                               | 252/400 [39:27<23:52,  9.68s/it]"
     ]
    },
    {
     "name": "stdout",
     "output_type": "stream",
     "text": [
      "Epoch [252/400], Train Loss: 4.1390, Train_accuracy: 78.17525414460766, Val Loss: 1.4756, Val_accuracy: 76.90228535212317\n",
      "Model saved.\n"
     ]
    },
    {
     "name": "stderr",
     "output_type": "stream",
     "text": [
      " 63%|███████████████████████████████████████████████████████████████████████████████████████████████████████████▌                                                              | 253/400 [39:37<23:39,  9.65s/it]"
     ]
    },
    {
     "name": "stdout",
     "output_type": "stream",
     "text": [
      "Epoch [253/400], Train Loss: 4.1363, Train_accuracy: 78.192031416996, Val Loss: 1.4750, Val_accuracy: 76.91533385527346\n",
      "Model saved.\n"
     ]
    },
    {
     "name": "stderr",
     "output_type": "stream",
     "text": [
      " 64%|███████████████████████████████████████████████████████████████████████████████████████████████████████████▉                                                              | 254/400 [39:46<23:25,  9.62s/it]"
     ]
    },
    {
     "name": "stdout",
     "output_type": "stream",
     "text": [
      "Epoch [254/400], Train Loss: 4.1337, Train_accuracy: 78.20694454800785, Val Loss: 1.4745, Val_accuracy: 76.9227901427879\n",
      "Model saved.\n"
     ]
    },
    {
     "name": "stderr",
     "output_type": "stream",
     "text": [
      " 64%|████████████████████████████████████████████████████████████████████████████████████████████████████████████▎                                                             | 255/400 [39:56<23:28,  9.71s/it]"
     ]
    },
    {
     "name": "stdout",
     "output_type": "stream",
     "text": [
      "Epoch [255/400], Train Loss: 4.1310, Train_accuracy: 78.21315835259612, Val Loss: 1.4739, Val_accuracy: 76.93583864593819\n",
      "Model saved.\n"
     ]
    },
    {
     "name": "stderr",
     "output_type": "stream",
     "text": [
      " 64%|████████████████████████████████████████████████████████████████████████████████████████████████████████████▊                                                             | 256/400 [40:06<23:09,  9.65s/it]"
     ]
    },
    {
     "name": "stdout",
     "output_type": "stream",
     "text": [
      "Epoch [256/400], Train Loss: 4.1284, Train_accuracy: 78.2218576790197, Val Loss: 1.4733, Val_accuracy: 76.96752786787458\n",
      "Model saved.\n"
     ]
    },
    {
     "name": "stderr",
     "output_type": "stream",
     "text": [
      " 64%|█████████████████████████████████████████████████████████████████████████████████████████████████████████████▏                                                            | 257/400 [40:15<22:53,  9.61s/it]"
     ]
    },
    {
     "name": "stdout",
     "output_type": "stream",
     "text": [
      "Epoch [257/400], Train Loss: 4.1258, Train_accuracy: 78.23552804911391, Val Loss: 1.4727, Val_accuracy: 76.97125601163181\n",
      "Model saved.\n"
     ]
    },
    {
     "name": "stderr",
     "output_type": "stream",
     "text": [
      " 64%|█████████████████████████████████████████████████████████████████████████████████████████████████████████████▋                                                            | 258/400 [40:25<22:39,  9.58s/it]"
     ]
    },
    {
     "name": "stdout",
     "output_type": "stream",
     "text": [
      "Epoch [258/400], Train Loss: 4.1232, Train_accuracy: 78.26659707205528, Val Loss: 1.4722, Val_accuracy: 76.98989673041793\n",
      "Model saved.\n"
     ]
    },
    {
     "name": "stderr",
     "output_type": "stream",
     "text": [
      " 65%|██████████████████████████████████████████████████████████████████████████████████████████████████████████████                                                            | 259/400 [40:35<22:43,  9.67s/it]"
     ]
    },
    {
     "name": "stdout",
     "output_type": "stream",
     "text": [
      "Epoch [259/400], Train Loss: 4.1206, Train_accuracy: 78.28461710536126, Val Loss: 1.4716, Val_accuracy: 77.00480930544681\n",
      "Model saved.\n"
     ]
    },
    {
     "name": "stderr",
     "output_type": "stream",
     "text": [
      " 65%|██████████████████████████████████████████████████████████████████████████████████████████████████████████████▌                                                           | 260/400 [40:44<22:23,  9.60s/it]"
     ]
    },
    {
     "name": "stdout",
     "output_type": "stream",
     "text": [
      "Epoch [260/400], Train Loss: 4.1181, Train_accuracy: 78.29083090994955, Val Loss: 1.4711, Val_accuracy: 77.01040152108266\n",
      "Model saved.\n"
     ]
    },
    {
     "name": "stderr",
     "output_type": "stream",
     "text": [
      " 65%|██████████████████████████████████████████████████████████████████████████████████████████████████████████████▉                                                           | 261/400 [40:54<22:11,  9.58s/it]"
     ]
    },
    {
     "name": "stdout",
     "output_type": "stream",
     "text": [
      "Epoch [261/400], Train Loss: 4.1155, Train_accuracy: 78.30947232371436, Val Loss: 1.4705, Val_accuracy: 77.0010811616896\n"
     ]
    },
    {
     "name": "stderr",
     "output_type": "stream",
     "text": [
      " 66%|███████████████████████████████████████████████████████████████████████████████████████████████████████████████▎                                                          | 262/400 [41:03<21:59,  9.56s/it]"
     ]
    },
    {
     "name": "stdout",
     "output_type": "stream",
     "text": [
      "Epoch [262/400], Train Loss: 4.1130, Train_accuracy: 78.31382198692616, Val Loss: 1.4700, Val_accuracy: 77.02717816799016\n",
      "Model saved.\n"
     ]
    },
    {
     "name": "stderr",
     "output_type": "stream",
     "text": [
      " 66%|███████████████████████████████████████████████████████████████████████████████████████████████████████████████▊                                                          | 263/400 [41:13<22:06,  9.68s/it]"
     ]
    },
    {
     "name": "stdout",
     "output_type": "stream",
     "text": [
      "Epoch [263/400], Train Loss: 4.1104, Train_accuracy: 78.32376407426739, Val Loss: 1.4694, Val_accuracy: 77.04395481489766\n",
      "Model saved.\n"
     ]
    },
    {
     "name": "stderr",
     "output_type": "stream",
     "text": [
      " 66%|████████████████████████████████████████████████████████████████████████████████████████████████████████████████▏                                                         | 264/400 [41:23<21:50,  9.64s/it]"
     ]
    },
    {
     "name": "stdout",
     "output_type": "stream",
     "text": [
      "Epoch [264/400], Train Loss: 4.1079, Train_accuracy: 78.33246340069097, Val Loss: 1.4689, Val_accuracy: 77.05513924616933\n",
      "Model saved.\n"
     ]
    },
    {
     "name": "stderr",
     "output_type": "stream",
     "text": [
      " 66%|████████████████████████████████████████████████████████████████████████████████████████████████████████████████▋                                                         | 265/400 [41:32<21:36,  9.61s/it]"
     ]
    },
    {
     "name": "stdout",
     "output_type": "stream",
     "text": [
      "Epoch [265/400], Train Loss: 4.1054, Train_accuracy: 78.33867720527925, Val Loss: 1.4683, Val_accuracy: 77.06445960556239\n",
      "Model saved.\n"
     ]
    },
    {
     "name": "stderr",
     "output_type": "stream",
     "text": [
      " 66%|█████████████████████████████████████████████████████████████████████████████████████████████████████████████████                                                         | 266/400 [41:42<21:38,  9.69s/it]"
     ]
    },
    {
     "name": "stdout",
     "output_type": "stream",
     "text": [
      "Epoch [266/400], Train Loss: 4.1029, Train_accuracy: 78.34799791216166, Val Loss: 1.4678, Val_accuracy: 77.07750810871268\n",
      "Model saved.\n"
     ]
    },
    {
     "name": "stderr",
     "output_type": "stream",
     "text": [
      " 67%|█████████████████████████████████████████████████████████████████████████████████████████████████████████████████▍                                                        | 267/400 [41:52<21:21,  9.63s/it]"
     ]
    },
    {
     "name": "stdout",
     "output_type": "stream",
     "text": [
      "Epoch [267/400], Train Loss: 4.1005, Train_accuracy: 78.35793999950289, Val Loss: 1.4673, Val_accuracy: 77.08123625246989\n",
      "Model saved.\n"
     ]
    },
    {
     "name": "stderr",
     "output_type": "stream",
     "text": [
      " 67%|█████████████████████████████████████████████████████████████████████████████████████████████████████████████████▉                                                        | 268/400 [42:01<21:07,  9.61s/it]"
     ]
    },
    {
     "name": "stdout",
     "output_type": "stream",
     "text": [
      "Epoch [268/400], Train Loss: 4.0980, Train_accuracy: 78.37036760867944, Val Loss: 1.4667, Val_accuracy: 77.09987697125601\n",
      "Model saved.\n"
     ]
    },
    {
     "name": "stderr",
     "output_type": "stream",
     "text": [
      " 67%|██████████████████████████████████████████████████████████████████████████████████████████████████████████████████▎                                                       | 269/400 [42:11<20:55,  9.58s/it]"
     ]
    },
    {
     "name": "stdout",
     "output_type": "stream",
     "text": [
      "Epoch [269/400], Train Loss: 4.0955, Train_accuracy: 78.38155245693834, Val Loss: 1.4662, Val_accuracy: 77.09987697125601\n"
     ]
    },
    {
     "name": "stderr",
     "output_type": "stream",
     "text": [
      " 68%|██████████████████████████████████████████████████████████████████████████████████████████████████████████████████▊                                                       | 270/400 [42:20<20:43,  9.57s/it]"
     ]
    },
    {
     "name": "stdout",
     "output_type": "stream",
     "text": [
      "Epoch [270/400], Train Loss: 4.0931, Train_accuracy: 78.38093107647951, Val Loss: 1.4657, Val_accuracy: 77.11106140252768\n",
      "Model saved.\n"
     ]
    },
    {
     "name": "stderr",
     "output_type": "stream",
     "text": [
      " 68%|███████████████████████████████████████████████████████████████████████████████████████████████████████████████████▏                                                      | 271/400 [42:30<20:47,  9.67s/it]"
     ]
    },
    {
     "name": "stdout",
     "output_type": "stream",
     "text": [
      "Epoch [271/400], Train Loss: 4.0907, Train_accuracy: 78.39149454427957, Val Loss: 1.4652, Val_accuracy: 77.13529433694963\n",
      "Model saved.\n"
     ]
    },
    {
     "name": "stderr",
     "output_type": "stream",
     "text": [
      " 68%|███████████████████████████████████████████████████████████████████████████████████████████████████████████████████▌                                                      | 272/400 [42:40<20:30,  9.62s/it]"
     ]
    },
    {
     "name": "stdout",
     "output_type": "stream",
     "text": [
      "Epoch [272/400], Train Loss: 4.0883, Train_accuracy: 78.40392215345612, Val Loss: 1.4647, Val_accuracy: 77.15579912761436\n",
      "Model saved.\n"
     ]
    },
    {
     "name": "stderr",
     "output_type": "stream",
     "text": [
      " 68%|████████████████████████████████████████████████████████████████████████████████████████████████████████████████████                                                      | 273/400 [42:49<20:18,  9.60s/it]"
     ]
    },
    {
     "name": "stdout",
     "output_type": "stream",
     "text": [
      "Epoch [273/400], Train Loss: 4.0859, Train_accuracy: 78.41572838217384, Val Loss: 1.4641, Val_accuracy: 77.18376020579353\n",
      "Model saved.\n"
     ]
    },
    {
     "name": "stderr",
     "output_type": "stream",
     "text": [
      " 68%|████████████████████████████████████████████████████████████████████████████████████████████████████████████████████▍                                                     | 274/400 [42:59<20:05,  9.57s/it]"
     ]
    },
    {
     "name": "stdout",
     "output_type": "stream",
     "text": [
      "Epoch [274/400], Train Loss: 4.0835, Train_accuracy: 78.4374766982328, Val Loss: 1.4636, Val_accuracy: 77.20426499645826\n",
      "Model saved.\n"
     ]
    },
    {
     "name": "stderr",
     "output_type": "stream",
     "text": [
      " 69%|████████████████████████████████████████████████████████████████████████████████████████████████████████████████████▉                                                     | 275/400 [43:09<20:07,  9.66s/it]"
     ]
    },
    {
     "name": "stdout",
     "output_type": "stream",
     "text": [
      "Epoch [275/400], Train Loss: 4.0811, Train_accuracy: 78.44741878557403, Val Loss: 1.4631, Val_accuracy: 77.21172128397271\n",
      "Model saved.\n"
     ]
    },
    {
     "name": "stderr",
     "output_type": "stream",
     "text": [
      " 69%|█████████████████████████████████████████████████████████████████████████████████████████████████████████████████████▎                                                    | 276/400 [43:18<19:55,  9.64s/it]"
     ]
    },
    {
     "name": "stdout",
     "output_type": "stream",
     "text": [
      "Epoch [276/400], Train Loss: 4.0787, Train_accuracy: 78.44555464419754, Val Loss: 1.4626, Val_accuracy: 77.20612906833688\n"
     ]
    },
    {
     "name": "stderr",
     "output_type": "stream",
     "text": [
      " 69%|█████████████████████████████████████████████████████████████████████████████████████████████████████████████████████▋                                                    | 277/400 [43:28<19:43,  9.62s/it]"
     ]
    },
    {
     "name": "stdout",
     "output_type": "stream",
     "text": [
      "Epoch [277/400], Train Loss: 4.0764, Train_accuracy: 78.45301120970348, Val Loss: 1.4621, Val_accuracy: 77.21544942772994\n",
      "Model saved.\n"
     ]
    },
    {
     "name": "stderr",
     "output_type": "stream",
     "text": [
      " 70%|██████████████████████████████████████████████████████████████████████████████████████████████████████████████████████▏                                                   | 278/400 [43:38<19:47,  9.74s/it]"
     ]
    },
    {
     "name": "stdout",
     "output_type": "stream",
     "text": [
      "Epoch [278/400], Train Loss: 4.0740, Train_accuracy: 78.45114706832699, Val Loss: 1.4616, Val_accuracy: 77.20426499645826\n"
     ]
    },
    {
     "name": "stderr",
     "output_type": "stream",
     "text": [
      " 70%|██████████████████████████████████████████████████████████████████████████████████████████████████████████████████████▌                                                   | 279/400 [43:47<19:33,  9.70s/it]"
     ]
    },
    {
     "name": "stdout",
     "output_type": "stream",
     "text": [
      "Epoch [279/400], Train Loss: 4.0717, Train_accuracy: 78.46233191658588, Val Loss: 1.4612, Val_accuracy: 77.20612906833688\n"
     ]
    },
    {
     "name": "stderr",
     "output_type": "stream",
     "text": [
      " 70%|██████████████████████████████████████████████████████████████████████████████████████████████████████████████████████▉                                                   | 280/400 [43:57<19:20,  9.67s/it]"
     ]
    },
    {
     "name": "stdout",
     "output_type": "stream",
     "text": [
      "Epoch [280/400], Train Loss: 4.0694, Train_accuracy: 78.47973056943306, Val Loss: 1.4607, Val_accuracy: 77.2098572120941\n"
     ]
    },
    {
     "name": "stderr",
     "output_type": "stream",
     "text": [
      " 70%|███████████████████████████████████████████████████████████████████████████████████████████████████████████████████████▍                                                  | 281/400 [44:07<19:08,  9.65s/it]"
     ]
    },
    {
     "name": "stdout",
     "output_type": "stream",
     "text": [
      "Epoch [281/400], Train Loss: 4.0670, Train_accuracy: 78.49588646136256, Val Loss: 1.4602, Val_accuracy: 77.21544942772994\n"
     ]
    },
    {
     "name": "stderr",
     "output_type": "stream",
     "text": [
      " 70%|███████████████████████████████████████████████████████████████████████████████████████████████████████████████████████▊                                                  | 282/400 [44:17<19:12,  9.76s/it]"
     ]
    },
    {
     "name": "stdout",
     "output_type": "stream",
     "text": [
      "Epoch [282/400], Train Loss: 4.0647, Train_accuracy: 78.51142097283325, Val Loss: 1.4597, Val_accuracy: 77.21358535585132\n"
     ]
    },
    {
     "name": "stderr",
     "output_type": "stream",
     "text": [
      " 71%|████████████████████████████████████████████████████████████████████████████████████████████████████████████████████████▎                                                 | 283/400 [44:26<18:54,  9.69s/it]"
     ]
    },
    {
     "name": "stdout",
     "output_type": "stream",
     "text": [
      "Epoch [283/400], Train Loss: 4.0625, Train_accuracy: 78.51825615788034, Val Loss: 1.4592, Val_accuracy: 77.23409014651605\n",
      "Model saved.\n"
     ]
    },
    {
     "name": "stderr",
     "output_type": "stream",
     "text": [
      " 71%|████████████████████████████████████████████████████████████████████████████████████████████████████████████████████████▋                                                 | 284/400 [44:36<18:40,  9.66s/it]"
     ]
    },
    {
     "name": "stdout",
     "output_type": "stream",
     "text": [
      "Epoch [284/400], Train Loss: 4.0602, Train_accuracy: 78.5263341038451, Val Loss: 1.4588, Val_accuracy: 77.258323080938\n",
      "Model saved.\n"
     ]
    },
    {
     "name": "stderr",
     "output_type": "stream",
     "text": [
      " 71%|█████████████████████████████████████████████████████████████████████████████████████████████████████████████████████████▏                                                | 285/400 [44:45<18:27,  9.63s/it]"
     ]
    },
    {
     "name": "stdout",
     "output_type": "stream",
     "text": [
      "Epoch [285/400], Train Loss: 4.0579, Train_accuracy: 78.53938309348048, Val Loss: 1.4583, Val_accuracy: 77.25086679342355\n"
     ]
    },
    {
     "name": "stderr",
     "output_type": "stream",
     "text": [
      " 72%|█████████████████████████████████████████████████████████████████████████████████████████████████████████████████████████▌                                                | 286/400 [44:55<18:28,  9.72s/it]"
     ]
    },
    {
     "name": "stdout",
     "output_type": "stream",
     "text": [
      "Epoch [286/400], Train Loss: 4.0557, Train_accuracy: 78.54994656128054, Val Loss: 1.4578, Val_accuracy: 77.25459493718078\n"
     ]
    },
    {
     "name": "stderr",
     "output_type": "stream",
     "text": [
      " 72%|█████████████████████████████████████████████████████████████████████████████████████████████████████████████████████████▉                                                | 287/400 [45:05<18:13,  9.68s/it]"
     ]
    },
    {
     "name": "stdout",
     "output_type": "stream",
     "text": [
      "Epoch [287/400], Train Loss: 4.0534, Train_accuracy: 78.55802450724529, Val Loss: 1.4573, Val_accuracy: 77.258323080938\n"
     ]
    },
    {
     "name": "stderr",
     "output_type": "stream",
     "text": [
      " 72%|██████████████████████████████████████████████████████████████████████████████████████████████████████████████████████████▍                                               | 288/400 [45:14<17:59,  9.64s/it]"
     ]
    },
    {
     "name": "stdout",
     "output_type": "stream",
     "text": [
      "Epoch [288/400], Train Loss: 4.0512, Train_accuracy: 78.56983073596301, Val Loss: 1.4569, Val_accuracy: 77.26391529657384\n",
      "Model saved.\n"
     ]
    },
    {
     "name": "stderr",
     "output_type": "stream",
     "text": [
      " 72%|██████████████████████████████████████████████████████████████████████████████████████████████████████████████████████████▊                                               | 289/400 [45:24<17:47,  9.61s/it]"
     ]
    },
    {
     "name": "stdout",
     "output_type": "stream",
     "text": [
      "Epoch [289/400], Train Loss: 4.0490, Train_accuracy: 78.58039420376308, Val Loss: 1.4564, Val_accuracy: 77.258323080938\n"
     ]
    },
    {
     "name": "stderr",
     "output_type": "stream",
     "text": [
      " 72%|███████████████████████████████████████████████████████████████████████████████████████████████████████████████████████████▎                                              | 290/400 [45:34<17:48,  9.71s/it]"
     ]
    },
    {
     "name": "stdout",
     "output_type": "stream",
     "text": [
      "Epoch [290/400], Train Loss: 4.0468, Train_accuracy: 78.60027837844555, Val Loss: 1.4560, Val_accuracy: 77.26577936845244\n",
      "Model saved.\n"
     ]
    },
    {
     "name": "stderr",
     "output_type": "stream",
     "text": [
      " 73%|███████████████████████████████████████████████████████████████████████████████████████████████████████████████████████████▋                                              | 291/400 [45:43<17:31,  9.65s/it]"
     ]
    },
    {
     "name": "stdout",
     "output_type": "stream",
     "text": [
      "Epoch [291/400], Train Loss: 4.0446, Train_accuracy: 78.60773494395148, Val Loss: 1.4555, Val_accuracy: 77.28442008723856\n",
      "Model saved.\n"
     ]
    },
    {
     "name": "stderr",
     "output_type": "stream",
     "text": [
      " 73%|████████████████████████████████████████████████████████████████████████████████████████████████████████████████████████████                                              | 292/400 [45:53<17:19,  9.63s/it]"
     ]
    },
    {
     "name": "stdout",
     "output_type": "stream",
     "text": [
      "Epoch [292/400], Train Loss: 4.0424, Train_accuracy: 78.62824049909278, Val Loss: 1.4551, Val_accuracy: 77.31424523729635\n",
      "Model saved.\n"
     ]
    },
    {
     "name": "stderr",
     "output_type": "stream",
     "text": [
      " 73%|████████████████████████████████████████████████████████████████████████████████████████████████████████████████████████████▌                                             | 293/400 [46:02<17:07,  9.60s/it]"
     ]
    },
    {
     "name": "stdout",
     "output_type": "stream",
     "text": [
      "Epoch [293/400], Train Loss: 4.0402, Train_accuracy: 78.64191086918699, Val Loss: 1.4546, Val_accuracy: 77.33288595608246\n",
      "Model saved.\n"
     ]
    },
    {
     "name": "stderr",
     "output_type": "stream",
     "text": [
      " 74%|████████████████████████████████████████████████████████████████████████████████████████████████████████████████████████████▉                                             | 294/400 [46:12<17:08,  9.70s/it]"
     ]
    },
    {
     "name": "stdout",
     "output_type": "stream",
     "text": [
      "Epoch [294/400], Train Loss: 4.0380, Train_accuracy: 78.66055228295181, Val Loss: 1.4542, Val_accuracy: 77.36457517801887\n",
      "Model saved.\n"
     ]
    },
    {
     "name": "stderr",
     "output_type": "stream",
     "text": [
      " 74%|█████████████████████████████████████████████████████████████████████████████████████████████████████████████████████████████▍                                            | 295/400 [46:22<16:54,  9.66s/it]"
     ]
    },
    {
     "name": "stdout",
     "output_type": "stream",
     "text": [
      "Epoch [295/400], Train Loss: 4.0359, Train_accuracy: 78.68354335992842, Val Loss: 1.4537, Val_accuracy: 77.36457517801887\n"
     ]
    },
    {
     "name": "stderr",
     "output_type": "stream",
     "text": [
      " 74%|█████████████████████████████████████████████████████████████████████████████████████████████████████████████████████████████▊                                            | 296/400 [46:32<16:41,  9.63s/it]"
     ]
    },
    {
     "name": "stdout",
     "output_type": "stream",
     "text": [
      "Epoch [296/400], Train Loss: 4.0337, Train_accuracy: 78.6990778713991, Val Loss: 1.4533, Val_accuracy: 77.3701673936547\n",
      "Model saved.\n"
     ]
    },
    {
     "name": "stderr",
     "output_type": "stream",
     "text": [
      " 74%|██████████████████████████████████████████████████████████████████████████████████████████████████████████████████████████████▏                                           | 297/400 [46:41<16:30,  9.61s/it]"
     ]
    },
    {
     "name": "stdout",
     "output_type": "stream",
     "text": [
      "Epoch [297/400], Train Loss: 4.0316, Train_accuracy: 78.71336962195213, Val Loss: 1.4529, Val_accuracy: 77.3850799686836\n",
      "Model saved.\n"
     ]
    },
    {
     "name": "stderr",
     "output_type": "stream",
     "text": [
      " 74%|██████████████████████████████████████████████████████████████████████████████████████████████████████████████████████████████▋                                           | 298/400 [46:51<16:35,  9.76s/it]"
     ]
    },
    {
     "name": "stdout",
     "output_type": "stream",
     "text": [
      "Epoch [298/400], Train Loss: 4.0294, Train_accuracy: 78.72020480699923, Val Loss: 1.4524, Val_accuracy: 77.36643924989748\n"
     ]
    },
    {
     "name": "stderr",
     "output_type": "stream",
     "text": [
      " 75%|███████████████████████████████████████████████████████████████████████████████████████████████████████████████████████████████                                           | 299/400 [47:01<16:19,  9.70s/it]"
     ]
    },
    {
     "name": "stdout",
     "output_type": "stream",
     "text": [
      "Epoch [299/400], Train Loss: 4.0273, Train_accuracy: 78.71212686103448, Val Loss: 1.4520, Val_accuracy: 77.37948775304775\n"
     ]
    },
    {
     "name": "stderr",
     "output_type": "stream",
     "text": [
      " 75%|███████████████████████████████████████████████████████████████████████████████████████████████████████████████████████████████▌                                          | 300/400 [47:10<16:06,  9.67s/it]"
     ]
    },
    {
     "name": "stdout",
     "output_type": "stream",
     "text": [
      "Epoch [300/400], Train Loss: 4.0252, Train_accuracy: 78.72703999204633, Val Loss: 1.4516, Val_accuracy: 77.38321589680498\n"
     ]
    },
    {
     "name": "stderr",
     "output_type": "stream",
     "text": [
      " 75%|███████████████████████████████████████████████████████████████████████████████████████████████████████████████████████████████▉                                          | 301/400 [47:20<15:54,  9.64s/it]"
     ]
    },
    {
     "name": "stdout",
     "output_type": "stream",
     "text": [
      "Epoch [301/400], Train Loss: 4.0231, Train_accuracy: 78.73822484030522, Val Loss: 1.4512, Val_accuracy: 77.38880811244081\n",
      "Model saved.\n"
     ]
    },
    {
     "name": "stderr",
     "output_type": "stream",
     "text": [
      " 76%|████████████████████████████████████████████████████████████████████████████████████████████████████████████████████████████████▎                                         | 302/400 [47:30<15:52,  9.72s/it]"
     ]
    },
    {
     "name": "stdout",
     "output_type": "stream",
     "text": [
      "Epoch [302/400], Train Loss: 4.0210, Train_accuracy: 78.75251659085825, Val Loss: 1.4508, Val_accuracy: 77.39440032807666\n",
      "Model saved.\n"
     ]
    },
    {
     "name": "stderr",
     "output_type": "stream",
     "text": [
      " 76%|████████████████████████████████████████████████████████████████████████████████████████████████████████████████████████████████▊                                         | 303/400 [47:39<15:37,  9.66s/it]"
     ]
    },
    {
     "name": "stdout",
     "output_type": "stream",
     "text": [
      "Epoch [303/400], Train Loss: 4.0189, Train_accuracy: 78.76370143911714, Val Loss: 1.4503, Val_accuracy: 77.39812847183387\n",
      "Model saved.\n"
     ]
    },
    {
     "name": "stderr",
     "output_type": "stream",
     "text": [
      " 76%|█████████████████████████████████████████████████████████████████████████████████████████████████████████████████████████████████▏                                        | 304/400 [47:49<15:25,  9.64s/it]"
     ]
    },
    {
     "name": "stdout",
     "output_type": "stream",
     "text": [
      "Epoch [304/400], Train Loss: 4.0169, Train_accuracy: 78.77115800462308, Val Loss: 1.4499, Val_accuracy: 77.39812847183387\n"
     ]
    },
    {
     "name": "stderr",
     "output_type": "stream",
     "text": [
      " 76%|█████████████████████████████████████████████████████████████████████████████████████████████████████████████████████████████████▋                                        | 305/400 [47:59<15:15,  9.63s/it]"
     ]
    },
    {
     "name": "stdout",
     "output_type": "stream",
     "text": [
      "Epoch [305/400], Train Loss: 4.0148, Train_accuracy: 78.77302214599955, Val Loss: 1.4495, Val_accuracy: 77.40372068746971\n",
      "Model saved.\n"
     ]
    },
    {
     "name": "stderr",
     "output_type": "stream",
     "text": [
      " 76%|██████████████████████████████████████████████████████████████████████████████████████████████████████████████████████████████████                                        | 306/400 [48:09<15:15,  9.74s/it]"
     ]
    },
    {
     "name": "stdout",
     "output_type": "stream",
     "text": [
      "Epoch [306/400], Train Loss: 4.0127, Train_accuracy: 78.77240076554072, Val Loss: 1.4491, Val_accuracy: 77.42422547813443\n",
      "Model saved.\n"
     ]
    },
    {
     "name": "stderr",
     "output_type": "stream",
     "text": [
      " 77%|██████████████████████████████████████████████████████████████████████████████████████████████████████████████████████████████████▍                                       | 307/400 [48:18<14:59,  9.67s/it]"
     ]
    },
    {
     "name": "stdout",
     "output_type": "stream",
     "text": [
      "Epoch [307/400], Train Loss: 4.0107, Train_accuracy: 78.78793527701141, Val Loss: 1.4487, Val_accuracy: 77.4354099094061\n",
      "Model saved.\n"
     ]
    },
    {
     "name": "stderr",
     "output_type": "stream",
     "text": [
      " 77%|██████████████████████████████████████████████████████████████████████████████████████████████████████████████████████████████████▉                                       | 308/400 [48:28<14:48,  9.66s/it]"
     ]
    },
    {
     "name": "stdout",
     "output_type": "stream",
     "text": [
      "Epoch [308/400], Train Loss: 4.0087, Train_accuracy: 78.79601322297616, Val Loss: 1.4483, Val_accuracy: 77.43354583752749\n"
     ]
    },
    {
     "name": "stderr",
     "output_type": "stream",
     "text": [
      " 77%|███████████████████████████████████████████████████████████████████████████████████████████████████████████████████████████████████▎                                      | 309/400 [48:37<14:36,  9.63s/it]"
     ]
    },
    {
     "name": "stdout",
     "output_type": "stream",
     "text": [
      "Epoch [309/400], Train Loss: 4.0066, Train_accuracy: 78.8016056471056, Val Loss: 1.4479, Val_accuracy: 77.44100212504195\n",
      "Model saved.\n"
     ]
    },
    {
     "name": "stderr",
     "output_type": "stream",
     "text": [
      " 78%|███████████████████████████████████████████████████████████████████████████████████████████████████████████████████████████████████▊                                      | 310/400 [48:47<14:34,  9.72s/it]"
     ]
    },
    {
     "name": "stdout",
     "output_type": "stream",
     "text": [
      "Epoch [310/400], Train Loss: 4.0046, Train_accuracy: 78.8103049735292, Val Loss: 1.4475, Val_accuracy: 77.45405062819222\n",
      "Model saved.\n"
     ]
    },
    {
     "name": "stderr",
     "output_type": "stream",
     "text": [
      " 78%|████████████████████████████████████████████████████████████████████████████████████████████████████████████████████████████████████▏                                     | 311/400 [48:56<14:13,  9.59s/it]"
     ]
    },
    {
     "name": "stdout",
     "output_type": "stream",
     "text": [
      "Epoch [311/400], Train Loss: 4.0026, Train_accuracy: 78.8152760171998, Val Loss: 1.4471, Val_accuracy: 77.47269134697834\n",
      "Model saved.\n"
     ]
    },
    {
     "name": "stderr",
     "output_type": "stream",
     "text": [
      " 78%|████████████████████████████████████████████████████████████████████████████████████████████████████████████████████████████████████▌                                     | 312/400 [49:06<14:08,  9.64s/it]"
     ]
    },
    {
     "name": "stdout",
     "output_type": "stream",
     "text": [
      "Epoch [312/400], Train Loss: 4.0006, Train_accuracy: 78.82397534362339, Val Loss: 1.4467, Val_accuracy: 77.47455541885695\n",
      "Model saved.\n"
     ]
    },
    {
     "name": "stderr",
     "output_type": "stream",
     "text": [
      " 78%|█████████████████████████████████████████████████████████████████████████████████████████████████████████████████████████████████████                                     | 313/400 [49:16<14:09,  9.76s/it]"
     ]
    },
    {
     "name": "stdout",
     "output_type": "stream",
     "text": [
      "Epoch [313/400], Train Loss: 3.9986, Train_accuracy: 78.83702433325877, Val Loss: 1.4463, Val_accuracy: 77.47269134697834\n"
     ]
    },
    {
     "name": "stderr",
     "output_type": "stream",
     "text": [
      " 78%|█████████████████████████████████████████████████████████████████████████████████████████████████████████████████████████████████████▍                                    | 314/400 [49:26<13:56,  9.72s/it]"
     ]
    },
    {
     "name": "stdout",
     "output_type": "stream",
     "text": [
      "Epoch [314/400], Train Loss: 3.9967, Train_accuracy: 78.83702433325877, Val Loss: 1.4459, Val_accuracy: 77.47269134697834\n"
     ]
    },
    {
     "name": "stderr",
     "output_type": "stream",
     "text": [
      " 79%|█████████████████████████████████████████████████████████████████████████████████████████████████████████████████████████████████████▉                                    | 315/400 [49:36<13:45,  9.72s/it]"
     ]
    },
    {
     "name": "stdout",
     "output_type": "stream",
     "text": [
      "Epoch [315/400], Train Loss: 3.9947, Train_accuracy: 78.85442298610593, Val Loss: 1.4455, Val_accuracy: 77.47828356261418\n",
      "Model saved.\n"
     ]
    },
    {
     "name": "stderr",
     "output_type": "stream",
     "text": [
      " 79%|██████████████████████████████████████████████████████████████████████████████████████████████████████████████████████████████████████▎                                   | 316/400 [49:45<13:35,  9.71s/it]"
     ]
    },
    {
     "name": "stdout",
     "output_type": "stream",
     "text": [
      "Epoch [316/400], Train Loss: 3.9927, Train_accuracy: 78.86312231252951, Val Loss: 1.4452, Val_accuracy: 77.49133206576445\n",
      "Model saved.\n"
     ]
    },
    {
     "name": "stderr",
     "output_type": "stream",
     "text": [
      " 79%|██████████████████████████████████████████████████████████████████████████████████████████████████████████████████████████████████████▋                                   | 317/400 [49:55<13:24,  9.69s/it]"
     ]
    },
    {
     "name": "stdout",
     "output_type": "stream",
     "text": [
      "Epoch [317/400], Train Loss: 3.9908, Train_accuracy: 78.88611338950612, Val Loss: 1.4448, Val_accuracy: 77.49133206576445\n"
     ]
    },
    {
     "name": "stderr",
     "output_type": "stream",
     "text": [
      " 80%|███████████████████████████████████████████████████████████████████████████████████████████████████████████████████████████████████████▏                                  | 318/400 [50:05<13:23,  9.80s/it]"
     ]
    },
    {
     "name": "stdout",
     "output_type": "stream",
     "text": [
      "Epoch [318/400], Train Loss: 3.9888, Train_accuracy: 78.8948127159297, Val Loss: 1.4444, Val_accuracy: 77.50624464079335\n",
      "Model saved.\n"
     ]
    },
    {
     "name": "stderr",
     "output_type": "stream",
     "text": [
      " 80%|███████████████████████████████████████████████████████████████████████████████████████████████████████████████████████████████████████▌                                  | 319/400 [50:15<13:07,  9.72s/it]"
     ]
    },
    {
     "name": "stdout",
     "output_type": "stream",
     "text": [
      "Epoch [319/400], Train Loss: 3.9869, Train_accuracy: 78.89108443317674, Val Loss: 1.4440, Val_accuracy: 77.52302128770086\n",
      "Model saved.\n"
     ]
    },
    {
     "name": "stderr",
     "output_type": "stream",
     "text": [
      " 80%|████████████████████████████████████████████████████████████████████████████████████████████████████████████████████████████████████████                                  | 320/400 [50:24<12:56,  9.71s/it]"
     ]
    },
    {
     "name": "stdout",
     "output_type": "stream",
     "text": [
      "Epoch [320/400], Train Loss: 3.9850, Train_accuracy: 78.90413342281212, Val Loss: 1.4437, Val_accuracy: 77.5472542221228\n",
      "Model saved.\n"
     ]
    },
    {
     "name": "stderr",
     "output_type": "stream",
     "text": [
      " 80%|████████████████████████████████████████████████████████████████████████████████████████████████████████████████████████████████████████▍                                 | 321/400 [50:34<12:44,  9.68s/it]"
     ]
    },
    {
     "name": "stdout",
     "output_type": "stream",
     "text": [
      "Epoch [321/400], Train Loss: 3.9831, Train_accuracy: 78.91407551015335, Val Loss: 1.4433, Val_accuracy: 77.55843865339448\n",
      "Model saved.\n"
     ]
    },
    {
     "name": "stderr",
     "output_type": "stream",
     "text": [
      " 80%|████████████████████████████████████████████████████████████████████████████████████████████████████████████████████████████████████████▊                                 | 322/400 [50:44<12:42,  9.78s/it]"
     ]
    },
    {
     "name": "stdout",
     "output_type": "stream",
     "text": [
      "Epoch [322/400], Train Loss: 3.9812, Train_accuracy: 78.91469689061218, Val Loss: 1.4429, Val_accuracy: 77.56030272527309\n",
      "Model saved.\n"
     ]
    },
    {
     "name": "stderr",
     "output_type": "stream",
     "text": [
      " 81%|█████████████████████████████████████████████████████████████████████████████████████████████████████████████████████████████████████████▎                                | 323/400 [50:54<12:30,  9.74s/it]"
     ]
    },
    {
     "name": "stdout",
     "output_type": "stream",
     "text": [
      "Epoch [323/400], Train Loss: 3.9793, Train_accuracy: 78.92526035841225, Val Loss: 1.4426, Val_accuracy: 77.57335122842336\n",
      "Model saved.\n"
     ]
    },
    {
     "name": "stderr",
     "output_type": "stream",
     "text": [
      " 81%|█████████████████████████████████████████████████████████████████████████████████████████████████████████████████████████████████████████▋                                | 324/400 [51:03<12:18,  9.71s/it]"
     ]
    },
    {
     "name": "stdout",
     "output_type": "stream",
     "text": [
      "Epoch [324/400], Train Loss: 3.9774, Train_accuracy: 78.93830934804762, Val Loss: 1.4422, Val_accuracy: 77.56962308466615\n"
     ]
    },
    {
     "name": "stderr",
     "output_type": "stream",
     "text": [
      " 81%|██████████████████████████████████████████████████████████████████████████████████████████████████████████████████████████████████████████▏                               | 325/400 [51:13<12:15,  9.81s/it]"
     ]
    },
    {
     "name": "stdout",
     "output_type": "stream",
     "text": [
      "Epoch [325/400], Train Loss: 3.9755, Train_accuracy: 78.95260109860065, Val Loss: 1.4418, Val_accuracy: 77.58639973157365\n",
      "Model saved.\n"
     ]
    },
    {
     "name": "stderr",
     "output_type": "stream",
     "text": [
      " 82%|██████████████████████████████████████████████████████████████████████████████████████████████████████████████████████████████████████████▌                               | 326/400 [51:23<12:02,  9.77s/it]"
     ]
    },
    {
     "name": "stdout",
     "output_type": "stream",
     "text": [
      "Epoch [326/400], Train Loss: 3.9736, Train_accuracy: 78.97124251236548, Val Loss: 1.4415, Val_accuracy: 77.5938560190881\n",
      "Model saved.\n"
     ]
    },
    {
     "name": "stderr",
     "output_type": "stream",
     "text": [
      " 82%|██████████████████████████████████████████████████████████████████████████████████████████████████████████████████████████████████████████▉                               | 327/400 [51:33<11:54,  9.79s/it]"
     ]
    },
    {
     "name": "stdout",
     "output_type": "stream",
     "text": [
      "Epoch [327/400], Train Loss: 3.9717, Train_accuracy: 78.98242736062436, Val Loss: 1.4411, Val_accuracy: 77.5938560190881\n"
     ]
    },
    {
     "name": "stderr",
     "output_type": "stream",
     "text": [
      " 82%|███████████████████████████████████████████████████████████████████████████████████████████████████████████████████████████████████████████▍                              | 328/400 [51:42<11:44,  9.78s/it]"
     ]
    },
    {
     "name": "stdout",
     "output_type": "stream",
     "text": [
      "Epoch [328/400], Train Loss: 3.9699, Train_accuracy: 78.98056321924788, Val Loss: 1.4408, Val_accuracy: 77.60131230660254\n",
      "Model saved.\n"
     ]
    },
    {
     "name": "stderr",
     "output_type": "stream",
     "text": [
      " 82%|███████████████████████████████████████████████████████████████████████████████████████████████████████████████████████████████████████████▊                              | 329/400 [51:53<11:41,  9.88s/it]"
     ]
    },
    {
     "name": "stdout",
     "output_type": "stream",
     "text": [
      "Epoch [329/400], Train Loss: 3.9680, Train_accuracy: 78.99423358934209, Val Loss: 1.4404, Val_accuracy: 77.61249673787421\n",
      "Model saved.\n"
     ]
    },
    {
     "name": "stderr",
     "output_type": "stream",
     "text": [
      " 82%|████████████████████████████████████████████████████████████████████████████████████████████████████████████████████████████████████████████▎                             | 330/400 [52:02<11:28,  9.83s/it]"
     ]
    },
    {
     "name": "stdout",
     "output_type": "stream",
     "text": [
      "Epoch [330/400], Train Loss: 3.9662, Train_accuracy: 78.99734049163622, Val Loss: 1.4401, Val_accuracy: 77.60690452223838\n"
     ]
    },
    {
     "name": "stderr",
     "output_type": "stream",
     "text": [
      " 83%|████████████████████████████████████████████████████████████████████████████████████████████████████████████████████████████████████████████▋                             | 331/400 [52:12<11:16,  9.81s/it]"
     ]
    },
    {
     "name": "stdout",
     "output_type": "stream",
     "text": [
      "Epoch [331/400], Train Loss: 3.9643, Train_accuracy: 79.0060398180598, Val Loss: 1.4397, Val_accuracy: 77.61808895351005\n",
      "Model saved.\n"
     ]
    },
    {
     "name": "stderr",
     "output_type": "stream",
     "text": [
      " 83%|█████████████████████████████████████████████████████████████████████████████████████████████████████████████████████████████████████████████                             | 332/400 [52:22<11:05,  9.79s/it]"
     ]
    },
    {
     "name": "stdout",
     "output_type": "stream",
     "text": [
      "Epoch [332/400], Train Loss: 3.9625, Train_accuracy: 79.01101086173043, Val Loss: 1.4394, Val_accuracy: 77.62927338478171\n",
      "Model saved.\n"
     ]
    },
    {
     "name": "stderr",
     "output_type": "stream",
     "text": [
      " 83%|█████████████████████████████████████████████████████████████████████████████████████████████████████████████████████████████████████████████▌                            | 333/400 [52:32<11:02,  9.89s/it]"
     ]
    },
    {
     "name": "stdout",
     "output_type": "stream",
     "text": [
      "Epoch [333/400], Train Loss: 3.9607, Train_accuracy: 79.01660328585987, Val Loss: 1.4390, Val_accuracy: 77.60317637848115\n"
     ]
    },
    {
     "name": "stderr",
     "output_type": "stream",
     "text": [
      " 84%|█████████████████████████████████████████████████████████████████████████████████████████████████████████████████████████████████████████████▉                            | 334/400 [52:42<10:48,  9.83s/it]"
     ]
    },
    {
     "name": "stdout",
     "output_type": "stream",
     "text": [
      "Epoch [334/400], Train Loss: 3.9589, Train_accuracy: 79.02903089503641, Val Loss: 1.4387, Val_accuracy: 77.61622488163144\n"
     ]
    },
    {
     "name": "stderr",
     "output_type": "stream",
     "text": [
      " 84%|██████████████████████████████████████████████████████████████████████████████████████████████████████████████████████████████████████████████▍                           | 335/400 [52:51<10:37,  9.80s/it]"
     ]
    },
    {
     "name": "stdout",
     "output_type": "stream",
     "text": [
      "Epoch [335/400], Train Loss: 3.9571, Train_accuracy: 79.0402157432953, Val Loss: 1.4384, Val_accuracy: 77.61622488163144\n"
     ]
    },
    {
     "name": "stderr",
     "output_type": "stream",
     "text": [
      " 84%|██████████████████████████████████████████████████████████████████████████████████████████████████████████████████████████████████████████████▊                           | 336/400 [53:01<10:25,  9.77s/it]"
     ]
    },
    {
     "name": "stdout",
     "output_type": "stream",
     "text": [
      "Epoch [336/400], Train Loss: 3.9553, Train_accuracy: 79.04580816742475, Val Loss: 1.4380, Val_accuracy: 77.63859374417477\n",
      "Model saved.\n"
     ]
    },
    {
     "name": "stderr",
     "output_type": "stream",
     "text": [
      " 84%|███████████████████████████████████████████████████████████████████████████████████████████████████████████████████████████████████████████████▏                          | 337/400 [53:11<10:21,  9.87s/it]"
     ]
    },
    {
     "name": "stdout",
     "output_type": "stream",
     "text": [
      "Epoch [337/400], Train Loss: 3.9535, Train_accuracy: 79.04953645017771, Val Loss: 1.4377, Val_accuracy: 77.63859374417477\n"
     ]
    },
    {
     "name": "stderr",
     "output_type": "stream",
     "text": [
      " 84%|███████████████████████████████████████████████████████████████████████████████████████████████████████████████████████████████████████████████▋                          | 338/400 [53:21<10:08,  9.81s/it]"
     ]
    },
    {
     "name": "stdout",
     "output_type": "stream",
     "text": [
      "Epoch [338/400], Train Loss: 3.9517, Train_accuracy: 79.06569234210723, Val Loss: 1.4374, Val_accuracy: 77.642321887932\n",
      "Model saved.\n"
     ]
    },
    {
     "name": "stderr",
     "output_type": "stream",
     "text": [
      " 85%|████████████████████████████████████████████████████████████████████████████████████████████████████████████████████████████████████████████████                          | 339/400 [53:31<09:57,  9.79s/it]"
     ]
    },
    {
     "name": "stdout",
     "output_type": "stream",
     "text": [
      "Epoch [339/400], Train Loss: 3.9499, Train_accuracy: 79.07936271220143, Val Loss: 1.4370, Val_accuracy: 77.67214703798979\n",
      "Model saved.\n"
     ]
    },
    {
     "name": "stderr",
     "output_type": "stream",
     "text": [
      " 85%|████████████████████████████████████████████████████████████████████████████████████████████████████████████████████████████████████████████████▌                         | 340/400 [53:40<09:46,  9.78s/it]"
     ]
    },
    {
     "name": "stdout",
     "output_type": "stream",
     "text": [
      "Epoch [340/400], Train Loss: 3.9482, Train_accuracy: 79.08930479954266, Val Loss: 1.4367, Val_accuracy: 77.66282667859673\n"
     ]
    },
    {
     "name": "stderr",
     "output_type": "stream",
     "text": [
      " 85%|████████████████████████████████████████████████████████████████████████████████████████████████████████████████████████████████████████████████▉                         | 341/400 [53:51<09:45,  9.92s/it]"
     ]
    },
    {
     "name": "stdout",
     "output_type": "stream",
     "text": [
      "Epoch [341/400], Train Loss: 3.9464, Train_accuracy: 79.08495513633088, Val Loss: 1.4364, Val_accuracy: 77.66655482235394\n"
     ]
    },
    {
     "name": "stderr",
     "output_type": "stream",
     "text": [
      " 86%|█████████████████████████████████████████████████████████████████████████████████████████████████████████████████████████████████████████████████▎                        | 342/400 [54:00<09:32,  9.87s/it]"
     ]
    },
    {
     "name": "stdout",
     "output_type": "stream",
     "text": [
      "Epoch [342/400], Train Loss: 3.9447, Train_accuracy: 79.08060547311908, Val Loss: 1.4361, Val_accuracy: 77.66282667859673\n"
     ]
    },
    {
     "name": "stderr",
     "output_type": "stream",
     "text": [
      " 86%|█████████████████████████████████████████████████████████████████████████████████████████████████████████████████████████████████████████████████▊                        | 343/400 [54:10<09:21,  9.85s/it]"
     ]
    },
    {
     "name": "stdout",
     "output_type": "stream",
     "text": [
      "Epoch [343/400], Train Loss: 3.9429, Train_accuracy: 79.09054756046032, Val Loss: 1.4357, Val_accuracy: 77.66469075047534\n"
     ]
    },
    {
     "name": "stderr",
     "output_type": "stream",
     "text": [
      " 86%|██████████████████████████████████████████████████████████████████████████████████████████████████████████████████████████████████████████████████▏                       | 344/400 [54:20<09:10,  9.83s/it]"
     ]
    },
    {
     "name": "stdout",
     "output_type": "stream",
     "text": [
      "Epoch [344/400], Train Loss: 3.9412, Train_accuracy: 79.09427584321328, Val Loss: 1.4354, Val_accuracy: 77.66469075047534\n"
     ]
    },
    {
     "name": "stderr",
     "output_type": "stream",
     "text": [
      " 86%|██████████████████████████████████████████████████████████████████████████████████████████████████████████████████████████████████████████████████▋                       | 345/400 [54:30<09:06,  9.93s/it]"
     ]
    },
    {
     "name": "stdout",
     "output_type": "stream",
     "text": [
      "Epoch [345/400], Train Loss: 3.9394, Train_accuracy: 79.10732483284866, Val Loss: 1.4351, Val_accuracy: 77.675875181747\n",
      "Model saved.\n"
     ]
    },
    {
     "name": "stderr",
     "output_type": "stream",
     "text": [
      " 86%|███████████████████████████████████████████████████████████████████████████████████████████████████████████████████████████████████████████████████                       | 346/400 [54:40<08:53,  9.88s/it]"
     ]
    },
    {
     "name": "stdout",
     "output_type": "stream",
     "text": [
      "Epoch [346/400], Train Loss: 3.9377, Train_accuracy: 79.11602415927224, Val Loss: 1.4348, Val_accuracy: 77.68892368489729\n",
      "Model saved.\n"
     ]
    },
    {
     "name": "stderr",
     "output_type": "stream",
     "text": [
      " 87%|███████████████████████████████████████████████████████████████████████████████████████████████████████████████████████████████████████████████████▍                      | 347/400 [54:50<08:42,  9.85s/it]"
     ]
    },
    {
     "name": "stdout",
     "output_type": "stream",
     "text": [
      "Epoch [347/400], Train Loss: 3.9360, Train_accuracy: 79.124102105237, Val Loss: 1.4345, Val_accuracy: 77.67960332550423\n"
     ]
    },
    {
     "name": "stderr",
     "output_type": "stream",
     "text": [
      " 87%|███████████████████████████████████████████████████████████████████████████████████████████████████████████████████████████████████████████████████▉                      | 348/400 [54:59<08:30,  9.83s/it]"
     ]
    },
    {
     "name": "stdout",
     "output_type": "stream",
     "text": [
      "Epoch [348/400], Train Loss: 3.9343, Train_accuracy: 79.13777247533119, Val Loss: 1.4342, Val_accuracy: 77.68333146926146\n"
     ]
    },
    {
     "name": "stderr",
     "output_type": "stream",
     "text": [
      " 87%|████████████████████████████████████████████████████████████████████████████████████████████████████████████████████████████████████████████████████▎                     | 349/400 [55:10<08:26,  9.93s/it]"
     ]
    },
    {
     "name": "stdout",
     "output_type": "stream",
     "text": [
      "Epoch [349/400], Train Loss: 3.9326, Train_accuracy: 79.14522904083712, Val Loss: 1.4339, Val_accuracy: 77.69265182865452\n",
      "Model saved.\n"
     ]
    },
    {
     "name": "stderr",
     "output_type": "stream",
     "text": [
      " 88%|████████████████████████████████████████████████████████████████████████████████████████████████████████████████████████████████████████████████████▊                     | 350/400 [55:19<08:12,  9.86s/it]"
     ]
    },
    {
     "name": "stdout",
     "output_type": "stream",
     "text": [
      "Epoch [350/400], Train Loss: 3.9309, Train_accuracy: 79.14709318221361, Val Loss: 1.4336, Val_accuracy: 77.70197218804758\n",
      "Model saved.\n"
     ]
    },
    {
     "name": "stderr",
     "output_type": "stream",
     "text": [
      " 88%|█████████████████████████████████████████████████████████████████████████████████████████████████████████████████████████████████████████████████████▏                    | 351/400 [55:29<08:01,  9.84s/it]"
     ]
    },
    {
     "name": "stdout",
     "output_type": "stream",
     "text": [
      "Epoch [351/400], Train Loss: 3.9292, Train_accuracy: 79.14833594313126, Val Loss: 1.4333, Val_accuracy: 77.70942847556202\n",
      "Model saved.\n"
     ]
    },
    {
     "name": "stderr",
     "output_type": "stream",
     "text": [
      " 88%|█████████████████████████████████████████████████████████████████████████████████████████████████████████████████████████████████████████████████████▌                    | 352/400 [55:39<07:50,  9.81s/it]"
     ]
    },
    {
     "name": "stdout",
     "output_type": "stream",
     "text": [
      "Epoch [352/400], Train Loss: 3.9275, Train_accuracy: 79.1539283672607, Val Loss: 1.4330, Val_accuracy: 77.71129254744064\n",
      "Model saved.\n"
     ]
    },
    {
     "name": "stderr",
     "output_type": "stream",
     "text": [
      " 88%|██████████████████████████████████████████████████████████████████████████████████████████████████████████████████████████████████████████████████████                    | 353/400 [55:49<07:45,  9.90s/it]"
     ]
    },
    {
     "name": "stdout",
     "output_type": "stream",
     "text": [
      "Epoch [353/400], Train Loss: 3.9259, Train_accuracy: 79.17008425919022, Val Loss: 1.4327, Val_accuracy: 77.71315661931924\n",
      "Model saved.\n"
     ]
    },
    {
     "name": "stderr",
     "output_type": "stream",
     "text": [
      " 88%|██████████████████████████████████████████████████████████████████████████████████████████████████████████████████████████████████████████████████████▍                   | 354/400 [55:59<07:32,  9.83s/it]"
     ]
    },
    {
     "name": "stdout",
     "output_type": "stream",
     "text": [
      "Epoch [354/400], Train Loss: 3.9242, Train_accuracy: 79.18251186836676, Val Loss: 1.4324, Val_accuracy: 77.72620512246952\n",
      "Model saved.\n"
     ]
    },
    {
     "name": "stderr",
     "output_type": "stream",
     "text": [
      " 89%|██████████████████████████████████████████████████████████████████████████████████████████████████████████████████████████████████████████████████████▉                   | 355/400 [56:08<07:22,  9.83s/it]"
     ]
    },
    {
     "name": "stdout",
     "output_type": "stream",
     "text": [
      "Epoch [355/400], Train Loss: 3.9225, Train_accuracy: 79.18313324882558, Val Loss: 1.4321, Val_accuracy: 77.73179733810535\n",
      "Model saved.\n"
     ]
    },
    {
     "name": "stderr",
     "output_type": "stream",
     "text": [
      " 89%|███████████████████████████████████████████████████████████████████████████████████████████████████████████████████████████████████████████████████████▎                  | 356/400 [56:18<07:11,  9.80s/it]"
     ]
    },
    {
     "name": "stdout",
     "output_type": "stream",
     "text": [
      "Epoch [356/400], Train Loss: 3.9209, Train_accuracy: 79.19369671662565, Val Loss: 1.4318, Val_accuracy: 77.73925362561981\n",
      "Model saved.\n"
     ]
    },
    {
     "name": "stderr",
     "output_type": "stream",
     "text": [
      " 89%|███████████████████████████████████████████████████████████████████████████████████████████████████████████████████████████████████████████████████████▋                  | 357/400 [56:28<07:05,  9.89s/it]"
     ]
    },
    {
     "name": "stdout",
     "output_type": "stream",
     "text": [
      "Epoch [357/400], Train Loss: 3.9192, Train_accuracy: 79.20301742350807, Val Loss: 1.4315, Val_accuracy: 77.72993326622675\n"
     ]
    },
    {
     "name": "stderr",
     "output_type": "stream",
     "text": [
      " 90%|████████████████████████████████████████████████████████████████████████████████████████████████████████████████████████████████████████████████████████▏                 | 358/400 [56:38<06:53,  9.84s/it]"
     ]
    },
    {
     "name": "stdout",
     "output_type": "stream",
     "text": [
      "Epoch [358/400], Train Loss: 3.9176, Train_accuracy: 79.21233813039048, Val Loss: 1.4312, Val_accuracy: 77.7373895537412\n"
     ]
    },
    {
     "name": "stderr",
     "output_type": "stream",
     "text": [
      " 90%|████████████████████████████████████████████████████████████████████████████████████████████████████████████████████████████████████████████████████████▌                 | 359/400 [56:48<06:42,  9.81s/it]"
     ]
    },
    {
     "name": "stdout",
     "output_type": "stream",
     "text": [
      "Epoch [359/400], Train Loss: 3.9160, Train_accuracy: 79.22290159819055, Val Loss: 1.4309, Val_accuracy: 77.75043805689147\n",
      "Model saved.\n"
     ]
    },
    {
     "name": "stderr",
     "output_type": "stream",
     "text": [
      " 90%|█████████████████████████████████████████████████████████████████████████████████████████████████████████████████████████████████████████████████████████                 | 360/400 [56:57<06:30,  9.77s/it]"
     ]
    },
    {
     "name": "stdout",
     "output_type": "stream",
     "text": [
      "Epoch [360/400], Train Loss: 3.9143, Train_accuracy: 79.22600850048468, Val Loss: 1.4306, Val_accuracy: 77.75043805689147\n"
     ]
    },
    {
     "name": "stderr",
     "output_type": "stream",
     "text": [
      " 90%|█████████████████████████████████████████████████████████████████████████████████████████████████████████████████████████████████████████████████████████▍                | 361/400 [57:07<06:24,  9.86s/it]"
     ]
    },
    {
     "name": "stdout",
     "output_type": "stream",
     "text": [
      "Epoch [361/400], Train Loss: 3.9127, Train_accuracy: 79.23532920736709, Val Loss: 1.4303, Val_accuracy: 77.76348656004176\n",
      "Model saved.\n"
     ]
    },
    {
     "name": "stderr",
     "output_type": "stream",
     "text": [
      " 90%|█████████████████████████████████████████████████████████████████████████████████████████████████████████████████████████████████████████████████████████▊                | 362/400 [57:17<06:12,  9.80s/it]"
     ]
    },
    {
     "name": "stdout",
     "output_type": "stream",
     "text": [
      "Epoch [362/400], Train Loss: 3.9111, Train_accuracy: 79.24899957746129, Val Loss: 1.4300, Val_accuracy: 77.76907877567758\n",
      "Model saved.\n"
     ]
    },
    {
     "name": "stderr",
     "output_type": "stream",
     "text": [
      " 91%|██████████████████████████████████████████████████████████████████████████████████████████████████████████████████████████████████████████████████████████▎               | 363/400 [57:27<06:01,  9.76s/it]"
     ]
    },
    {
     "name": "stdout",
     "output_type": "stream",
     "text": [
      "Epoch [363/400], Train Loss: 3.9095, Train_accuracy: 79.25521338204956, Val Loss: 1.4298, Val_accuracy: 77.76162248816314\n"
     ]
    },
    {
     "name": "stderr",
     "output_type": "stream",
     "text": [
      " 91%|██████████████████████████████████████████████████████████████████████████████████████████████████████████████████████████████████████████████████████████▋               | 364/400 [57:36<05:47,  9.64s/it]"
     ]
    },
    {
     "name": "stdout",
     "output_type": "stream",
     "text": [
      "Epoch [364/400], Train Loss: 3.9079, Train_accuracy: 79.2676409912261, Val Loss: 1.4295, Val_accuracy: 77.75603027252731\n"
     ]
    },
    {
     "name": "stderr",
     "output_type": "stream",
     "text": [
      " 91%|███████████████████████████████████████████████████████████████████████████████████████████████████████████████████████████████████████████████████████████▏              | 365/400 [57:46<05:38,  9.67s/it]"
     ]
    },
    {
     "name": "stdout",
     "output_type": "stream",
     "text": [
      "Epoch [365/400], Train Loss: 3.9063, Train_accuracy: 79.27074789352025, Val Loss: 1.4292, Val_accuracy: 77.75230212877008\n"
     ]
    },
    {
     "name": "stderr",
     "output_type": "stream",
     "text": [
      " 92%|███████████████████████████████████████████████████████████████████████████████████████████████████████████████████████████████████████████████████████████▌              | 366/400 [57:55<05:24,  9.54s/it]"
     ]
    },
    {
     "name": "stdout",
     "output_type": "stream",
     "text": [
      "Epoch [366/400], Train Loss: 3.9047, Train_accuracy: 79.2856610245321, Val Loss: 1.4289, Val_accuracy: 77.75789434440593\n"
     ]
    },
    {
     "name": "stderr",
     "output_type": "stream",
     "text": [
      " 92%|███████████████████████████████████████████████████████████████████████████████████████████████████████████████████████████████████████████████████████████▉              | 367/400 [58:04<05:13,  9.49s/it]"
     ]
    },
    {
     "name": "stdout",
     "output_type": "stream",
     "text": [
      "Epoch [367/400], Train Loss: 3.9031, Train_accuracy: 79.28814654636741, Val Loss: 1.4286, Val_accuracy: 77.75975841628453\n"
     ]
    },
    {
     "name": "stderr",
     "output_type": "stream",
     "text": [
      " 92%|████████████████████████████████████████████████████████████████████████████████████████████████████████████████████████████████████████████████████████████▍             | 368/400 [58:14<05:01,  9.43s/it]"
     ]
    },
    {
     "name": "stdout",
     "output_type": "stream",
     "text": [
      "Epoch [368/400], Train Loss: 3.9015, Train_accuracy: 79.29436035095569, Val Loss: 1.4284, Val_accuracy: 77.74857398501287\n"
     ]
    },
    {
     "name": "stderr",
     "output_type": "stream",
     "text": [
      " 92%|████████████████████████████████████████████████████████████████████████████████████████████████████████████████████████████████████████████████████████████▊             | 369/400 [58:24<04:58,  9.64s/it]"
     ]
    },
    {
     "name": "stdout",
     "output_type": "stream",
     "text": [
      "Epoch [369/400], Train Loss: 3.9000, Train_accuracy: 79.30492381875575, Val Loss: 1.4281, Val_accuracy: 77.75043805689147\n"
     ]
    },
    {
     "name": "stderr",
     "output_type": "stream",
     "text": [
      " 92%|█████████████████████████████████████████████████████████████████████████████████████████████████████████████████████████████████████████████████████████████▎            | 370/400 [58:34<04:50,  9.68s/it]"
     ]
    },
    {
     "name": "stdout",
     "output_type": "stream",
     "text": [
      "Epoch [370/400], Train Loss: 3.8984, Train_accuracy: 79.31486590609698, Val Loss: 1.4278, Val_accuracy: 77.76535063192037\n"
     ]
    },
    {
     "name": "stderr",
     "output_type": "stream",
     "text": [
      " 93%|█████████████████████████████████████████████████████████████████████████████████████████████████████████████████████████████████████████████████████████████▋            | 371/400 [58:43<04:41,  9.71s/it]"
     ]
    },
    {
     "name": "stdout",
     "output_type": "stream",
     "text": [
      "Epoch [371/400], Train Loss: 3.8969, Train_accuracy: 79.3198369497676, Val Loss: 1.4276, Val_accuracy: 77.77467099131343\n",
      "Model saved.\n"
     ]
    },
    {
     "name": "stderr",
     "output_type": "stream",
     "text": [
      " 93%|██████████████████████████████████████████████████████████████████████████████████████████████████████████████████████████████████████████████████████████████            | 372/400 [58:53<04:31,  9.71s/it]"
     ]
    },
    {
     "name": "stdout",
     "output_type": "stream",
     "text": [
      "Epoch [372/400], Train Loss: 3.8953, Train_accuracy: 79.32729351527354, Val Loss: 1.4273, Val_accuracy: 77.77467099131343\n"
     ]
    },
    {
     "name": "stderr",
     "output_type": "stream",
     "text": [
      " 93%|██████████████████████████████████████████████████████████████████████████████████████████████████████████████████████████████████████████████████████████████▌           | 373/400 [59:03<04:25,  9.85s/it]"
     ]
    },
    {
     "name": "stdout",
     "output_type": "stream",
     "text": [
      "Epoch [373/400], Train Loss: 3.8938, Train_accuracy: 79.33040041756767, Val Loss: 1.4270, Val_accuracy: 77.7858554225851\n",
      "Model saved.\n"
     ]
    },
    {
     "name": "stderr",
     "output_type": "stream",
     "text": [
      " 94%|██████████████████████████████████████████████████████████████████████████████████████████████████████████████████████████████████████████████████████████████▉           | 374/400 [59:13<04:15,  9.81s/it]"
     ]
    },
    {
     "name": "stdout",
     "output_type": "stream",
     "text": [
      "Epoch [374/400], Train Loss: 3.8922, Train_accuracy: 79.33599284169712, Val Loss: 1.4268, Val_accuracy: 77.7858554225851\n"
     ]
    },
    {
     "name": "stderr",
     "output_type": "stream",
     "text": [
      " 94%|███████████████████████████████████████████████████████████████████████████████████████████████████████████████████████████████████████████████████████████████▍          | 375/400 [59:23<04:05,  9.81s/it]"
     ]
    },
    {
     "name": "stdout",
     "output_type": "stream",
     "text": [
      "Epoch [375/400], Train Loss: 3.8907, Train_accuracy: 79.34966321179131, Val Loss: 1.4265, Val_accuracy: 77.78958356634232\n",
      "Model saved.\n"
     ]
    },
    {
     "name": "stderr",
     "output_type": "stream",
     "text": [
      " 94%|███████████████████████████████████████████████████████████████████████████████████████████████████████████████████████████████████████████████████████████████▊          | 376/400 [59:33<03:55,  9.83s/it]"
     ]
    },
    {
     "name": "stdout",
     "output_type": "stream",
     "text": [
      "Epoch [376/400], Train Loss: 3.8892, Train_accuracy: 79.36022667959138, Val Loss: 1.4263, Val_accuracy: 77.79703985385676\n",
      "Model saved.\n"
     ]
    },
    {
     "name": "stderr",
     "output_type": "stream",
     "text": [
      " 94%|████████████████████████████████████████████████████████████████████████████████████████████████████████████████████████████████████████████████████████████████▏         | 377/400 [59:43<03:48,  9.95s/it]"
     ]
    },
    {
     "name": "stdout",
     "output_type": "stream",
     "text": [
      "Epoch [377/400], Train Loss: 3.8876, Train_accuracy: 79.36271220142669, Val Loss: 1.4260, Val_accuracy: 77.8026320694926\n",
      "Model saved.\n"
     ]
    },
    {
     "name": "stderr",
     "output_type": "stream",
     "text": [
      " 94%|████████████████████████████████████████████████████████████████████████████████████████████████████████████████████████████████████████████████████████████████▋         | 378/400 [59:53<03:38,  9.91s/it]"
     ]
    },
    {
     "name": "stdout",
     "output_type": "stream",
     "text": [
      "Epoch [378/400], Train Loss: 3.8861, Train_accuracy: 79.36644048417965, Val Loss: 1.4257, Val_accuracy: 77.81008835700705\n",
      "Model saved.\n"
     ]
    },
    {
     "name": "stderr",
     "output_type": "stream",
     "text": [
      " 95%|███████████████████████████████████████████████████████████████████████████████████████████████████████████████████████████████████████████████████████████████▏        | 379/400 [1:00:03<03:27,  9.88s/it]"
     ]
    },
    {
     "name": "stdout",
     "output_type": "stream",
     "text": [
      "Epoch [379/400], Train Loss: 3.8846, Train_accuracy: 79.3745184301444, Val Loss: 1.4255, Val_accuracy: 77.81008835700705\n"
     ]
    },
    {
     "name": "stderr",
     "output_type": "stream",
     "text": [
      " 95%|███████████████████████████████████████████████████████████████████████████████████████████████████████████████████████████████████████████████████████████████▌        | 380/400 [1:00:12<03:17,  9.85s/it]"
     ]
    },
    {
     "name": "stdout",
     "output_type": "stream",
     "text": [
      "Epoch [380/400], Train Loss: 3.8831, Train_accuracy: 79.38446051748565, Val Loss: 1.4252, Val_accuracy: 77.83432129142899\n",
      "Model saved.\n"
     ]
    },
    {
     "name": "stderr",
     "output_type": "stream",
     "text": [
      " 95%|████████████████████████████████████████████████████████████████████████████████████████████████████████████████████████████████████████████████████████████████        | 381/400 [1:00:23<03:09,  9.99s/it]"
     ]
    },
    {
     "name": "stdout",
     "output_type": "stream",
     "text": [
      "Epoch [381/400], Train Loss: 3.8816, Train_accuracy: 79.39440260482688, Val Loss: 1.4250, Val_accuracy: 77.82872907579316\n"
     ]
    },
    {
     "name": "stderr",
     "output_type": "stream",
     "text": [
      " 96%|████████████████████████████████████████████████████████████████████████████████████████████████████████████████████████████████████████████████████████████████▍       | 382/400 [1:00:32<02:58,  9.93s/it]"
     ]
    },
    {
     "name": "stdout",
     "output_type": "stream",
     "text": [
      "Epoch [382/400], Train Loss: 3.8801, Train_accuracy: 79.40123778987399, Val Loss: 1.4247, Val_accuracy: 77.83991350706484\n",
      "Model saved.\n"
     ]
    },
    {
     "name": "stderr",
     "output_type": "stream",
     "text": [
      " 96%|████████████████████████████████████████████████████████████████████████████████████████████████████████████████████████████████████████████████████████████████▊       | 383/400 [1:00:42<02:48,  9.90s/it]"
     ]
    },
    {
     "name": "stdout",
     "output_type": "stream",
     "text": [
      "Epoch [383/400], Train Loss: 3.8786, Train_accuracy: 79.41366539905053, Val Loss: 1.4245, Val_accuracy: 77.85109793833651\n",
      "Model saved.\n"
     ]
    },
    {
     "name": "stderr",
     "output_type": "stream",
     "text": [
      " 96%|█████████████████████████████████████████████████████████████████████████████████████████████████████████████████████████████████████████████████████████████████▎      | 384/400 [1:00:52<02:38,  9.89s/it]"
     ]
    },
    {
     "name": "stdout",
     "output_type": "stream",
     "text": [
      "Epoch [384/400], Train Loss: 3.8771, Train_accuracy: 79.42795714960356, Val Loss: 1.4242, Val_accuracy: 77.85855422585095\n",
      "Model saved.\n"
     ]
    },
    {
     "name": "stderr",
     "output_type": "stream",
     "text": [
      " 96%|█████████████████████████████████████████████████████████████████████████████████████████████████████████████████████████████████████████████████████████████████▋      | 385/400 [1:01:02<02:30, 10.01s/it]"
     ]
    },
    {
     "name": "stdout",
     "output_type": "stream",
     "text": [
      "Epoch [385/400], Train Loss: 3.8757, Train_accuracy: 79.42360748639177, Val Loss: 1.4240, Val_accuracy: 77.87160272900122\n",
      "Model saved.\n"
     ]
    },
    {
     "name": "stderr",
     "output_type": "stream",
     "text": [
      " 96%|██████████████████████████████████████████████████████████████████████████████████████████████████████████████████████████████████████████████████████████████████      | 386/400 [1:01:12<02:19,  9.96s/it]"
     ]
    },
    {
     "name": "stdout",
     "output_type": "stream",
     "text": [
      "Epoch [386/400], Train Loss: 3.8742, Train_accuracy: 79.43230681281536, Val Loss: 1.4237, Val_accuracy: 77.8827871602729\n",
      "Model saved.\n"
     ]
    },
    {
     "name": "stderr",
     "output_type": "stream",
     "text": [
      " 97%|██████████████████████████████████████████████████████████████████████████████████████████████████████████████████████████████████████████████████████████████████▌     | 387/400 [1:01:22<02:08,  9.92s/it]"
     ]
    },
    {
     "name": "stdout",
     "output_type": "stream",
     "text": [
      "Epoch [387/400], Train Loss: 3.8727, Train_accuracy: 79.4447344219919, Val Loss: 1.4235, Val_accuracy: 77.88837937590874\n",
      "Model saved.\n"
     ]
    },
    {
     "name": "stderr",
     "output_type": "stream",
     "text": [
      " 97%|██████████████████████████████████████████████████████████████████████████████████████████████████████████████████████████████████████████████████████████████████▉     | 388/400 [1:01:32<01:58,  9.89s/it]"
     ]
    },
    {
     "name": "stdout",
     "output_type": "stream",
     "text": [
      "Epoch [388/400], Train Loss: 3.8713, Train_accuracy: 79.45281236795665, Val Loss: 1.4233, Val_accuracy: 77.8827871602729\n"
     ]
    },
    {
     "name": "stderr",
     "output_type": "stream",
     "text": [
      " 97%|███████████████████████████████████████████████████████████████████████████████████████████████████████████████████████████████████████████████████████████████████▍    | 389/400 [1:01:42<01:50, 10.00s/it]"
     ]
    },
    {
     "name": "stdout",
     "output_type": "stream",
     "text": [
      "Epoch [389/400], Train Loss: 3.8698, Train_accuracy: 79.45591927025079, Val Loss: 1.4230, Val_accuracy: 77.88465123215151\n"
     ]
    },
    {
     "name": "stderr",
     "output_type": "stream",
     "text": [
      " 98%|███████████████████████████████████████████████████████████████████████████████████████████████████████████████████████████████████████████████████████████████████▊    | 390/400 [1:01:52<01:39,  9.92s/it]"
     ]
    },
    {
     "name": "stdout",
     "output_type": "stream",
     "text": [
      "Epoch [390/400], Train Loss: 3.8684, Train_accuracy: 79.4652399771332, Val Loss: 1.4228, Val_accuracy: 77.89024344778734\n",
      "Model saved.\n"
     ]
    },
    {
     "name": "stderr",
     "output_type": "stream",
     "text": [
      " 98%|████████████████████████████████████████████████████████████████████████████████████████████████████████████████████████████████████████████████████████████████████▏   | 391/400 [1:02:02<01:29,  9.90s/it]"
     ]
    },
    {
     "name": "stdout",
     "output_type": "stream",
     "text": [
      "Epoch [391/400], Train Loss: 3.8669, Train_accuracy: 79.47456068401561, Val Loss: 1.4226, Val_accuracy: 77.88837937590874\n"
     ]
    },
    {
     "name": "stderr",
     "output_type": "stream",
     "text": [
      " 98%|████████████████████████████████████████████████████████████████████████████████████████████████████████████████████████████████████████████████████████████████████▋   | 392/400 [1:02:12<01:19,  9.88s/it]"
     ]
    },
    {
     "name": "stdout",
     "output_type": "stream",
     "text": [
      "Epoch [392/400], Train Loss: 3.8655, Train_accuracy: 79.47828896676857, Val Loss: 1.4223, Val_accuracy: 77.87533087275845\n"
     ]
    },
    {
     "name": "stderr",
     "output_type": "stream",
     "text": [
      " 98%|█████████████████████████████████████████████████████████████████████████████████████████████████████████████████████████████████████████████████████████████████████   | 393/400 [1:02:22<01:09,  9.96s/it]"
     ]
    },
    {
     "name": "stdout",
     "output_type": "stream",
     "text": [
      "Epoch [393/400], Train Loss: 3.8640, Train_accuracy: 79.4882310541098, Val Loss: 1.4221, Val_accuracy: 77.8660105133654\n"
     ]
    },
    {
     "name": "stderr",
     "output_type": "stream",
     "text": [
      " 98%|█████████████████████████████████████████████████████████████████████████████████████████████████████████████████████████████████████████████████████████████████████▍  | 394/400 [1:02:31<00:59,  9.89s/it]"
     ]
    },
    {
     "name": "stdout",
     "output_type": "stream",
     "text": [
      "Epoch [394/400], Train Loss: 3.8626, Train_accuracy: 79.49755176099222, Val Loss: 1.4219, Val_accuracy: 77.86973865712262\n"
     ]
    },
    {
     "name": "stderr",
     "output_type": "stream",
     "text": [
      " 99%|█████████████████████████████████████████████████████████████████████████████████████████████████████████████████████████████████████████████████████████████████████▉  | 395/400 [1:02:41<00:49,  9.84s/it]"
     ]
    },
    {
     "name": "stdout",
     "output_type": "stream",
     "text": [
      "Epoch [395/400], Train Loss: 3.8612, Train_accuracy: 79.5062510874158, Val Loss: 1.4216, Val_accuracy: 77.86973865712262\n"
     ]
    },
    {
     "name": "stderr",
     "output_type": "stream",
     "text": [
      " 99%|██████████████████████████████████████████████████████████████████████████████████████████████████████████████████████████████████████████████████████████████████████▎ | 396/400 [1:02:51<00:39,  9.80s/it]"
     ]
    },
    {
     "name": "stdout",
     "output_type": "stream",
     "text": [
      "Epoch [396/400], Train Loss: 3.8598, Train_accuracy: 79.51184351154525, Val Loss: 1.4214, Val_accuracy: 77.88465123215151\n"
     ]
    },
    {
     "name": "stderr",
     "output_type": "stream",
     "text": [
      " 99%|██████████████████████████████████████████████████████████████████████████████████████████████████████████████████████████████████████████████████████████████████████▋ | 397/400 [1:03:01<00:29,  9.89s/it]"
     ]
    },
    {
     "name": "stdout",
     "output_type": "stream",
     "text": [
      "Epoch [397/400], Train Loss: 3.8584, Train_accuracy: 79.52489250118062, Val Loss: 1.4212, Val_accuracy: 77.8827871602729\n"
     ]
    },
    {
     "name": "stderr",
     "output_type": "stream",
     "text": [
      "100%|███████████████████████████████████████████████████████████████████████████████████████████████████████████████████████████████████████████████████████████████████████▏| 398/400 [1:03:11<00:19,  9.81s/it]"
     ]
    },
    {
     "name": "stdout",
     "output_type": "stream",
     "text": [
      "Epoch [398/400], Train Loss: 3.8570, Train_accuracy: 79.53421320806304, Val Loss: 1.4209, Val_accuracy: 77.89397159154457\n",
      "Model saved.\n"
     ]
    },
    {
     "name": "stderr",
     "output_type": "stream",
     "text": [
      "100%|███████████████████████████████████████████████████████████████████████████████████████████████████████████████████████████████████████████████████████████████████████▌| 399/400 [1:03:20<00:09,  9.79s/it]"
     ]
    },
    {
     "name": "stdout",
     "output_type": "stream",
     "text": [
      "Epoch [399/400], Train Loss: 3.8556, Train_accuracy: 79.54291253448662, Val Loss: 1.4207, Val_accuracy: 77.88465123215151\n"
     ]
    },
    {
     "name": "stderr",
     "output_type": "stream",
     "text": [
      "100%|████████████████████████████████████████████████████████████████████████████████████████████████████████████████████████████████████████████████████████████████████████| 400/400 [1:03:30<00:00,  9.53s/it]"
     ]
    },
    {
     "name": "stdout",
     "output_type": "stream",
     "text": [
      "Epoch [400/400], Train Loss: 3.8542, Train_accuracy: 79.55471876320433, Val Loss: 1.4205, Val_accuracy: 77.8976997353018\n",
      "Model saved.\n"
     ]
    },
    {
     "name": "stderr",
     "output_type": "stream",
     "text": [
      "\n"
     ]
    },
    {
     "name": "stdout",
     "output_type": "stream",
     "text": [
      "Test Accucary 78.34296365330849\n",
      "Current sub-neural network has 2 hidden layers.\n",
      "...\n"
     ]
    },
    {
     "name": "stderr",
     "output_type": "stream",
     "text": [
      "  0%|▍                                                                                                                                                                         | 1/400 [00:10<1:07:36, 10.17s/it]"
     ]
    },
    {
     "name": "stdout",
     "output_type": "stream",
     "text": [
      "Epoch [1/400], Train Loss: 6.2466, Train_accuracy: 49.977630303482215, Val Loss: 2.0824, Val_accuracy: 49.76139879953771\n",
      "Model saved.\n"
     ]
    },
    {
     "name": "stderr",
     "output_type": "stream",
     "text": [
      "  0%|▊                                                                                                                                                                         | 2/400 [00:20<1:06:20, 10.00s/it]"
     ]
    },
    {
     "name": "stdout",
     "output_type": "stream",
     "text": [
      "Epoch [2/400], Train Loss: 6.2415, Train_accuracy: 49.977630303482215, Val Loss: 2.0807, Val_accuracy: 49.76139879953771\n"
     ]
    },
    {
     "name": "stderr",
     "output_type": "stream",
     "text": [
      "  1%|█▎                                                                                                                                                                        | 3/400 [00:29<1:04:02,  9.68s/it]"
     ]
    },
    {
     "name": "stdout",
     "output_type": "stream",
     "text": [
      "Epoch [3/400], Train Loss: 6.2382, Train_accuracy: 49.977630303482215, Val Loss: 2.0797, Val_accuracy: 49.76139879953771\n"
     ]
    },
    {
     "name": "stderr",
     "output_type": "stream",
     "text": [
      "  1%|█▋                                                                                                                                                                        | 4/400 [00:39<1:04:11,  9.73s/it]"
     ]
    },
    {
     "name": "stdout",
     "output_type": "stream",
     "text": [
      "Epoch [4/400], Train Loss: 6.2359, Train_accuracy: 49.977630303482215, Val Loss: 2.0789, Val_accuracy: 49.76139879953771\n"
     ]
    },
    {
     "name": "stderr",
     "output_type": "stream",
     "text": [
      "  1%|██▏                                                                                                                                                                       | 5/400 [00:48<1:04:06,  9.74s/it]"
     ]
    },
    {
     "name": "stdout",
     "output_type": "stream",
     "text": [
      "Epoch [5/400], Train Loss: 6.2339, Train_accuracy: 49.977630303482215, Val Loss: 2.0783, Val_accuracy: 49.76139879953771\n"
     ]
    },
    {
     "name": "stderr",
     "output_type": "stream",
     "text": [
      "  2%|██▌                                                                                                                                                                       | 6/400 [00:58<1:03:01,  9.60s/it]"
     ]
    },
    {
     "name": "stdout",
     "output_type": "stream",
     "text": [
      "Epoch [6/400], Train Loss: 6.2321, Train_accuracy: 49.977630303482215, Val Loss: 2.0777, Val_accuracy: 49.76139879953771\n"
     ]
    },
    {
     "name": "stderr",
     "output_type": "stream",
     "text": [
      "  2%|██▉                                                                                                                                                                       | 7/400 [01:07<1:03:10,  9.65s/it]"
     ]
    },
    {
     "name": "stdout",
     "output_type": "stream",
     "text": [
      "Epoch [7/400], Train Loss: 6.2303, Train_accuracy: 49.977630303482215, Val Loss: 2.0771, Val_accuracy: 49.76139879953771\n"
     ]
    },
    {
     "name": "stderr",
     "output_type": "stream",
     "text": [
      "  2%|███▍                                                                                                                                                                      | 8/400 [01:17<1:03:29,  9.72s/it]"
     ]
    },
    {
     "name": "stdout",
     "output_type": "stream",
     "text": [
      "Epoch [8/400], Train Loss: 6.2281, Train_accuracy: 49.977630303482215, Val Loss: 2.0765, Val_accuracy: 49.76139879953771\n"
     ]
    },
    {
     "name": "stderr",
     "output_type": "stream",
     "text": [
      "  2%|███▊                                                                                                                                                                      | 9/400 [01:27<1:02:35,  9.60s/it]"
     ]
    },
    {
     "name": "stdout",
     "output_type": "stream",
     "text": [
      "Epoch [9/400], Train Loss: 6.2256, Train_accuracy: 49.979494444858695, Val Loss: 2.0757, Val_accuracy: 49.76326287141632\n",
      "Model saved.\n"
     ]
    },
    {
     "name": "stderr",
     "output_type": "stream",
     "text": [
      "  2%|████▏                                                                                                                                                                    | 10/400 [01:36<1:02:46,  9.66s/it]"
     ]
    },
    {
     "name": "stdout",
     "output_type": "stream",
     "text": [
      "Epoch [10/400], Train Loss: 6.2228, Train_accuracy: 50.02982626202371, Val Loss: 2.0748, Val_accuracy: 49.835961674682174\n",
      "Model saved.\n"
     ]
    },
    {
     "name": "stderr",
     "output_type": "stream",
     "text": [
      "  3%|████▋                                                                                                                                                                    | 11/400 [01:46<1:02:43,  9.68s/it]"
     ]
    },
    {
     "name": "stdout",
     "output_type": "stream",
     "text": [
      "Epoch [11/400], Train Loss: 6.2197, Train_accuracy: 50.543707901473915, Val Loss: 2.0738, Val_accuracy: 50.382134735115386\n",
      "Model saved.\n"
     ]
    },
    {
     "name": "stderr",
     "output_type": "stream",
     "text": [
      "  3%|█████                                                                                                                                                                    | 12/400 [01:56<1:02:42,  9.70s/it]"
     ]
    },
    {
     "name": "stdout",
     "output_type": "stream",
     "text": [
      "Epoch [12/400], Train Loss: 6.2162, Train_accuracy: 52.01327268660055, Val Loss: 2.0727, Val_accuracy: 51.89762517242665\n",
      "Model saved.\n"
     ]
    },
    {
     "name": "stderr",
     "output_type": "stream",
     "text": [
      "  3%|█████▍                                                                                                                                                                   | 13/400 [02:05<1:01:44,  9.57s/it]"
     ]
    },
    {
     "name": "stdout",
     "output_type": "stream",
     "text": [
      "Epoch [13/400], Train Loss: 6.2124, Train_accuracy: 53.67484403350483, Val Loss: 2.0715, Val_accuracy: 53.37583417216568\n",
      "Model saved.\n"
     ]
    },
    {
     "name": "stderr",
     "output_type": "stream",
     "text": [
      "  4%|█████▉                                                                                                                                                                   | 14/400 [02:15<1:01:59,  9.64s/it]"
     ]
    },
    {
     "name": "stdout",
     "output_type": "stream",
     "text": [
      "Epoch [14/400], Train Loss: 6.2083, Train_accuracy: 54.89212835234758, Val Loss: 2.0702, Val_accuracy: 54.54087909629796\n",
      "Model saved.\n"
     ]
    },
    {
     "name": "stderr",
     "output_type": "stream",
     "text": [
      "  4%|██████▎                                                                                                                                                                  | 15/400 [02:25<1:02:06,  9.68s/it]"
     ]
    },
    {
     "name": "stdout",
     "output_type": "stream",
     "text": [
      "Epoch [15/400], Train Loss: 6.2040, Train_accuracy: 56.604031516416875, Val Loss: 2.0688, Val_accuracy: 56.02840845543004\n",
      "Model saved.\n"
     ]
    },
    {
     "name": "stderr",
     "output_type": "stream",
     "text": [
      "  4%|██████▊                                                                                                                                                                  | 16/400 [02:35<1:02:06,  9.70s/it]"
     ]
    },
    {
     "name": "stdout",
     "output_type": "stream",
     "text": [
      "Epoch [16/400], Train Loss: 6.1996, Train_accuracy: 58.55205925484055, Val Loss: 2.0674, Val_accuracy: 58.10684860008202\n",
      "Model saved.\n"
     ]
    },
    {
     "name": "stderr",
     "output_type": "stream",
     "text": [
      "  4%|███████▏                                                                                                                                                                 | 17/400 [02:44<1:01:26,  9.62s/it]"
     ]
    },
    {
     "name": "stdout",
     "output_type": "stream",
     "text": [
      "Epoch [17/400], Train Loss: 6.1950, Train_accuracy: 60.39134541296945, Val Loss: 2.0659, Val_accuracy: 59.954143831786155\n",
      "Model saved.\n"
     ]
    },
    {
     "name": "stderr",
     "output_type": "stream",
     "text": [
      "  4%|███████▌                                                                                                                                                                 | 18/400 [02:54<1:01:52,  9.72s/it]"
     ]
    },
    {
     "name": "stdout",
     "output_type": "stream",
     "text": [
      "Epoch [18/400], Train Loss: 6.1903, Train_accuracy: 62.03551810702657, Val Loss: 2.0644, Val_accuracy: 61.57588636617828\n",
      "Model saved.\n"
     ]
    },
    {
     "name": "stderr",
     "output_type": "stream",
     "text": [
      "  5%|████████                                                                                                                                                                 | 19/400 [03:04<1:01:50,  9.74s/it]"
     ]
    },
    {
     "name": "stdout",
     "output_type": "stream",
     "text": [
      "Epoch [19/400], Train Loss: 6.1854, Train_accuracy: 63.23043272935153, Val Loss: 2.0629, Val_accuracy: 62.8453193155128\n",
      "Model saved.\n"
     ]
    },
    {
     "name": "stderr",
     "output_type": "stream",
     "text": [
      "  5%|████████▍                                                                                                                                                                | 20/400 [03:13<1:00:55,  9.62s/it]"
     ]
    },
    {
     "name": "stdout",
     "output_type": "stream",
     "text": [
      "Epoch [20/400], Train Loss: 6.1805, Train_accuracy: 64.24638977953421, Val Loss: 2.0613, Val_accuracy: 63.86123848935615\n",
      "Model saved.\n"
     ]
    },
    {
     "name": "stderr",
     "output_type": "stream",
     "text": [
      "  5%|████████▊                                                                                                                                                                | 21/400 [03:23<1:01:15,  9.70s/it]"
     ]
    },
    {
     "name": "stdout",
     "output_type": "stream",
     "text": [
      "Epoch [21/400], Train Loss: 6.1755, Train_accuracy: 65.01130912435066, Val Loss: 2.0597, Val_accuracy: 64.69075047533833\n",
      "Model saved.\n"
     ]
    },
    {
     "name": "stderr",
     "output_type": "stream",
     "text": [
      "  6%|█████████▎                                                                                                                                                               | 22/400 [03:33<1:01:33,  9.77s/it]"
     ]
    },
    {
     "name": "stdout",
     "output_type": "stream",
     "text": [
      "Epoch [22/400], Train Loss: 6.1704, Train_accuracy: 65.65008823602516, Val Loss: 2.0581, Val_accuracy: 65.24997203892183\n",
      "Model saved.\n"
     ]
    },
    {
     "name": "stderr",
     "output_type": "stream",
     "text": [
      "  6%|█████████▋                                                                                                                                                               | 23/400 [03:42<1:00:50,  9.68s/it]"
     ]
    },
    {
     "name": "stdout",
     "output_type": "stream",
     "text": [
      "Epoch [23/400], Train Loss: 6.1652, Train_accuracy: 66.0036537170979, Val Loss: 2.0564, Val_accuracy: 65.60414569585804\n",
      "Model saved.\n"
     ]
    },
    {
     "name": "stderr",
     "output_type": "stream",
     "text": [
      "  6%|██████████▏                                                                                                                                                              | 24/400 [03:52<1:01:13,  9.77s/it]"
     ]
    },
    {
     "name": "stdout",
     "output_type": "stream",
     "text": [
      "Epoch [24/400], Train Loss: 6.1599, Train_accuracy: 66.42370690726518, Val Loss: 2.0547, Val_accuracy: 65.90612534019311\n",
      "Model saved.\n"
     ]
    },
    {
     "name": "stderr",
     "output_type": "stream",
     "text": [
      "  6%|██████████▌                                                                                                                                                              | 25/400 [04:02<1:01:04,  9.77s/it]"
     ]
    },
    {
     "name": "stdout",
     "output_type": "stream",
     "text": [
      "Epoch [25/400], Train Loss: 6.1545, Train_accuracy: 66.71202744016107, Val Loss: 2.0530, Val_accuracy: 66.30690079409462\n",
      "Model saved.\n"
     ]
    },
    {
     "name": "stderr",
     "output_type": "stream",
     "text": [
      "  6%|██████████▉                                                                                                                                                              | 26/400 [04:11<1:00:03,  9.64s/it]"
     ]
    },
    {
     "name": "stdout",
     "output_type": "stream",
     "text": [
      "Epoch [26/400], Train Loss: 6.1490, Train_accuracy: 67.01712524544529, Val Loss: 2.0512, Val_accuracy: 66.53990977892107\n",
      "Model saved.\n"
     ]
    },
    {
     "name": "stderr",
     "output_type": "stream",
     "text": [
      "  7%|███████████▍                                                                                                                                                             | 27/400 [04:21<1:00:15,  9.69s/it]"
     ]
    },
    {
     "name": "stdout",
     "output_type": "stream",
     "text": [
      "Epoch [27/400], Train Loss: 6.1434, Train_accuracy: 67.20229662217582, Val Loss: 2.0495, Val_accuracy: 66.7673265481117\n",
      "Model saved.\n"
     ]
    },
    {
     "name": "stderr",
     "output_type": "stream",
     "text": [
      "  7%|███████████▊                                                                                                                                                             | 28/400 [04:31<1:00:14,  9.72s/it]"
     ]
    },
    {
     "name": "stdout",
     "output_type": "stream",
     "text": [
      "Epoch [28/400], Train Loss: 6.1377, Train_accuracy: 67.31663062660006, Val Loss: 2.0477, Val_accuracy: 66.94814152033702\n",
      "Model saved.\n"
     ]
    },
    {
     "name": "stderr",
     "output_type": "stream",
     "text": [
      "  7%|████████████▍                                                                                                                                                              | 29/400 [04:40<59:24,  9.61s/it]"
     ]
    },
    {
     "name": "stdout",
     "output_type": "stream",
     "text": [
      "Epoch [29/400], Train Loss: 6.1319, Train_accuracy: 67.44463500111848, Val Loss: 2.0458, Val_accuracy: 67.07489840808262\n",
      "Model saved.\n"
     ]
    },
    {
     "name": "stderr",
     "output_type": "stream",
     "text": [
      "  8%|████████████▊                                                                                                                                                              | 30/400 [04:50<59:38,  9.67s/it]"
     ]
    },
    {
     "name": "stdout",
     "output_type": "stream",
     "text": [
      "Epoch [30/400], Train Loss: 6.1260, Train_accuracy: 67.59128078940174, Val Loss: 2.0439, Val_accuracy: 67.13082056444097\n",
      "Model saved.\n"
     ]
    },
    {
     "name": "stderr",
     "output_type": "stream",
     "text": [
      "  8%|█████████████▎                                                                                                                                                             | 31/400 [05:00<59:40,  9.70s/it]"
     ]
    },
    {
     "name": "stdout",
     "output_type": "stream",
     "text": [
      "Epoch [31/400], Train Loss: 6.1201, Train_accuracy: 67.71369273979072, Val Loss: 2.0420, Val_accuracy: 67.27249002721545\n",
      "Model saved.\n"
     ]
    },
    {
     "name": "stderr",
     "output_type": "stream",
     "text": [
      "  8%|█████████████▋                                                                                                                                                             | 32/400 [05:09<58:47,  9.59s/it]"
     ]
    },
    {
     "name": "stdout",
     "output_type": "stream",
     "text": [
      "Epoch [32/400], Train Loss: 6.1140, Train_accuracy: 67.81435637412075, Val Loss: 2.0401, Val_accuracy: 67.51668344331357\n",
      "Model saved.\n"
     ]
    },
    {
     "name": "stderr",
     "output_type": "stream",
     "text": [
      "  8%|██████████████                                                                                                                                                             | 33/400 [05:19<59:07,  9.67s/it]"
     ]
    },
    {
     "name": "stdout",
     "output_type": "stream",
     "text": [
      "Epoch [33/400], Train Loss: 6.1078, Train_accuracy: 67.90507792110954, Val Loss: 2.0381, Val_accuracy: 67.54650859337136\n",
      "Model saved.\n"
     ]
    },
    {
     "name": "stderr",
     "output_type": "stream",
     "text": [
      "  8%|██████████████▌                                                                                                                                                            | 34/400 [05:29<59:11,  9.70s/it]"
     ]
    },
    {
     "name": "stdout",
     "output_type": "stream",
     "text": [
      "Epoch [34/400], Train Loss: 6.1015, Train_accuracy: 67.98772152213357, Val Loss: 2.0361, Val_accuracy: 67.6807217686314\n",
      "Model saved.\n"
     ]
    },
    {
     "name": "stderr",
     "output_type": "stream",
     "text": [
      "  9%|██████████████▉                                                                                                                                                            | 35/400 [05:38<58:40,  9.65s/it]"
     ]
    },
    {
     "name": "stdout",
     "output_type": "stream",
     "text": [
      "Epoch [35/400], Train Loss: 6.0952, Train_accuracy: 68.06166579673402, Val Loss: 2.0341, Val_accuracy: 67.77019721880475\n",
      "Model saved.\n"
     ]
    },
    {
     "name": "stderr",
     "output_type": "stream",
     "text": [
      "  9%|███████████████▍                                                                                                                                                           | 36/400 [05:48<58:57,  9.72s/it]"
     ]
    },
    {
     "name": "stdout",
     "output_type": "stream",
     "text": [
      "Epoch [36/400], Train Loss: 6.0887, Train_accuracy: 68.12628936445206, Val Loss: 2.0321, Val_accuracy: 67.83916787831339\n",
      "Model saved.\n"
     ]
    },
    {
     "name": "stderr",
     "output_type": "stream",
     "text": [
      "  9%|███████████████▊                                                                                                                                                           | 37/400 [05:58<58:59,  9.75s/it]"
     ]
    },
    {
     "name": "stdout",
     "output_type": "stream",
     "text": [
      "Epoch [37/400], Train Loss: 6.0822, Train_accuracy: 68.24435165162926, Val Loss: 2.0300, Val_accuracy: 67.93609961600119\n",
      "Model saved.\n"
     ]
    },
    {
     "name": "stderr",
     "output_type": "stream",
     "text": [
      " 10%|████████████████▏                                                                                                                                                          | 38/400 [06:07<58:03,  9.62s/it]"
     ]
    },
    {
     "name": "stdout",
     "output_type": "stream",
     "text": [
      "Epoch [38/400], Train Loss: 6.0755, Train_accuracy: 68.34439390550045, Val Loss: 2.0279, Val_accuracy: 68.02184692241732\n",
      "Model saved.\n"
     ]
    },
    {
     "name": "stderr",
     "output_type": "stream",
     "text": [
      " 10%|████████████████▋                                                                                                                                                          | 39/400 [06:17<58:15,  9.68s/it]"
     ]
    },
    {
     "name": "stdout",
     "output_type": "stream",
     "text": [
      "Epoch [39/400], Train Loss: 6.0688, Train_accuracy: 68.41895956055974, Val Loss: 2.0257, Val_accuracy: 68.19147746337099\n",
      "Model saved.\n"
     ]
    },
    {
     "name": "stderr",
     "output_type": "stream",
     "text": [
      " 10%|█████████████████                                                                                                                                                          | 40/400 [06:27<58:15,  9.71s/it]"
     ]
    },
    {
     "name": "stdout",
     "output_type": "stream",
     "text": [
      "Epoch [40/400], Train Loss: 6.0620, Train_accuracy: 68.5065742052544, Val Loss: 2.0236, Val_accuracy: 68.31637027923797\n",
      "Model saved.\n"
     ]
    },
    {
     "name": "stderr",
     "output_type": "stream",
     "text": [
      " 10%|█████████████████▌                                                                                                                                                         | 41/400 [06:36<57:24,  9.59s/it]"
     ]
    },
    {
     "name": "stdout",
     "output_type": "stream",
     "text": [
      "Epoch [41/400], Train Loss: 6.0551, Train_accuracy: 68.60599507866677, Val Loss: 2.0214, Val_accuracy: 68.34805950117436\n",
      "Model saved.\n"
     ]
    },
    {
     "name": "stderr",
     "output_type": "stream",
     "text": [
      " 10%|█████████████████▉                                                                                                                                                         | 42/400 [06:46<57:36,  9.66s/it]"
     ]
    },
    {
     "name": "stdout",
     "output_type": "stream",
     "text": [
      "Epoch [42/400], Train Loss: 6.0481, Train_accuracy: 68.66689036363185, Val Loss: 2.0192, Val_accuracy: 68.43753495134773\n",
      "Model saved.\n"
     ]
    },
    {
     "name": "stderr",
     "output_type": "stream",
     "text": [
      " 11%|██████████████████▍                                                                                                                                                        | 43/400 [06:56<57:41,  9.69s/it]"
     ]
    },
    {
     "name": "stdout",
     "output_type": "stream",
     "text": [
      "Epoch [43/400], Train Loss: 6.0410, Train_accuracy: 68.7159794198792, Val Loss: 2.0169, Val_accuracy: 68.48786489207023\n",
      "Model saved.\n"
     ]
    },
    {
     "name": "stderr",
     "output_type": "stream",
     "text": [
      " 11%|██████████████████▊                                                                                                                                                        | 44/400 [07:05<56:50,  9.58s/it]"
     ]
    },
    {
     "name": "stdout",
     "output_type": "stream",
     "text": [
      "Epoch [44/400], Train Loss: 6.0338, Train_accuracy: 68.7955161186091, Val Loss: 2.0147, Val_accuracy: 68.52701040152108\n",
      "Model saved.\n"
     ]
    },
    {
     "name": "stderr",
     "output_type": "stream",
     "text": [
      " 11%|███████████████████▏                                                                                                                                                       | 45/400 [07:15<57:08,  9.66s/it]"
     ]
    },
    {
     "name": "stdout",
     "output_type": "stream",
     "text": [
      "Epoch [45/400], Train Loss: 6.0266, Train_accuracy: 68.87815971963313, Val Loss: 2.0124, Val_accuracy: 68.60716549230138\n",
      "Model saved.\n"
     ]
    },
    {
     "name": "stderr",
     "output_type": "stream",
     "text": [
      " 12%|███████████████████▋                                                                                                                                                       | 46/400 [07:25<57:10,  9.69s/it]"
     ]
    },
    {
     "name": "stdout",
     "output_type": "stream",
     "text": [
      "Epoch [46/400], Train Loss: 6.0193, Train_accuracy: 68.96701712524545, Val Loss: 2.0101, Val_accuracy: 68.69291279871751\n",
      "Model saved.\n"
     ]
    },
    {
     "name": "stderr",
     "output_type": "stream",
     "text": [
      " 12%|████████████████████                                                                                                                                                       | 47/400 [07:34<56:20,  9.58s/it]"
     ]
    },
    {
     "name": "stdout",
     "output_type": "stream",
     "text": [
      "Epoch [47/400], Train Loss: 6.0120, Train_accuracy: 69.02107722516342, Val Loss: 2.0077, Val_accuracy: 68.75442717071171\n",
      "Model saved.\n"
     ]
    },
    {
     "name": "stderr",
     "output_type": "stream",
     "text": [
      " 12%|████████████████████▌                                                                                                                                                      | 48/400 [07:44<56:38,  9.66s/it]"
     ]
    },
    {
     "name": "stdout",
     "output_type": "stream",
     "text": [
      "Epoch [48/400], Train Loss: 6.0045, Train_accuracy: 69.08942907563443, Val Loss: 2.0054, Val_accuracy: 68.8028930395556\n",
      "Model saved.\n"
     ]
    },
    {
     "name": "stderr",
     "output_type": "stream",
     "text": [
      " 12%|████████████████████▉                                                                                                                                                      | 49/400 [07:54<57:00,  9.74s/it]"
     ]
    },
    {
     "name": "stdout",
     "output_type": "stream",
     "text": [
      "Epoch [49/400], Train Loss: 5.9971, Train_accuracy: 69.17393681803495, Val Loss: 2.0030, Val_accuracy: 68.868135555307\n",
      "Model saved.\n"
     ]
    },
    {
     "name": "stderr",
     "output_type": "stream",
     "text": [
      " 12%|█████████████████████▍                                                                                                                                                     | 50/400 [08:04<56:27,  9.68s/it]"
     ]
    },
    {
     "name": "stdout",
     "output_type": "stream",
     "text": [
      "Epoch [50/400], Train Loss: 5.9895, Train_accuracy: 69.21929759152934, Val Loss: 2.0007, Val_accuracy: 68.93897028669426\n",
      "Model saved.\n"
     ]
    },
    {
     "name": "stderr",
     "output_type": "stream",
     "text": [
      " 13%|█████████████████████▊                                                                                                                                                     | 51/400 [08:14<56:49,  9.77s/it]"
     ]
    },
    {
     "name": "stdout",
     "output_type": "stream",
     "text": [
      "Epoch [51/400], Train Loss: 5.9819, Train_accuracy: 69.29821290980041, Val Loss: 1.9983, Val_accuracy: 68.98557208365955\n",
      "Model saved.\n"
     ]
    },
    {
     "name": "stderr",
     "output_type": "stream",
     "text": [
      " 13%|██████████████████████▏                                                                                                                                                    | 52/400 [08:23<56:41,  9.78s/it]"
     ]
    },
    {
     "name": "stdout",
     "output_type": "stream",
     "text": [
      "Epoch [52/400], Train Loss: 5.9742, Train_accuracy: 69.36967166256555, Val Loss: 1.9958, Val_accuracy: 69.0750475338329\n",
      "Model saved.\n"
     ]
    },
    {
     "name": "stderr",
     "output_type": "stream",
     "text": [
      " 13%|██████████████████████▋                                                                                                                                                    | 53/400 [08:33<55:48,  9.65s/it]"
     ]
    },
    {
     "name": "stdout",
     "output_type": "stream",
     "text": [
      "Epoch [53/400], Train Loss: 5.9665, Train_accuracy: 69.41316829468347, Val Loss: 1.9934, Val_accuracy: 69.11232897140513\n",
      "Model saved.\n"
     ]
    },
    {
     "name": "stderr",
     "output_type": "stream",
     "text": [
      " 14%|███████████████████████                                                                                                                                                    | 54/400 [08:42<55:56,  9.70s/it]"
     ]
    },
    {
     "name": "stdout",
     "output_type": "stream",
     "text": [
      "Epoch [54/400], Train Loss: 5.9587, Train_accuracy: 69.47468496010737, Val Loss: 1.9909, Val_accuracy: 69.24281400290795\n",
      "Model saved.\n"
     ]
    },
    {
     "name": "stderr",
     "output_type": "stream",
     "text": [
      " 14%|███████████████████████▌                                                                                                                                                   | 55/400 [08:52<55:47,  9.70s/it]"
     ]
    },
    {
     "name": "stdout",
     "output_type": "stream",
     "text": [
      "Epoch [55/400], Train Loss: 5.9509, Train_accuracy: 69.53868714736659, Val Loss: 1.9885, Val_accuracy: 69.27450322484435\n",
      "Model saved.\n"
     ]
    },
    {
     "name": "stderr",
     "output_type": "stream",
     "text": [
      " 14%|███████████████████████▉                                                                                                                                                   | 56/400 [09:01<54:57,  9.59s/it]"
     ]
    },
    {
     "name": "stdout",
     "output_type": "stream",
     "text": [
      "Epoch [56/400], Train Loss: 5.9430, Train_accuracy: 69.61573832426117, Val Loss: 1.9860, Val_accuracy: 69.3639786750177\n",
      "Model saved.\n"
     ]
    },
    {
     "name": "stderr",
     "output_type": "stream",
     "text": [
      " 14%|████████████████████████▎                                                                                                                                                  | 57/400 [09:11<55:14,  9.66s/it]"
     ]
    },
    {
     "name": "stdout",
     "output_type": "stream",
     "text": [
      "Epoch [57/400], Train Loss: 5.9351, Train_accuracy: 69.6822260333557, Val Loss: 1.9835, Val_accuracy: 69.42176490325467\n",
      "Model saved.\n"
     ]
    },
    {
     "name": "stderr",
     "output_type": "stream",
     "text": [
      " 14%|████████████████████████▊                                                                                                                                                  | 58/400 [09:21<55:16,  9.70s/it]"
     ]
    },
    {
     "name": "stdout",
     "output_type": "stream",
     "text": [
      "Epoch [58/400], Train Loss: 5.9271, Train_accuracy: 69.7070812517088, Val Loss: 1.9810, Val_accuracy: 69.45345412519107\n",
      "Model saved.\n"
     ]
    },
    {
     "name": "stderr",
     "output_type": "stream",
     "text": [
      " 15%|█████████████████████████▏                                                                                                                                                 | 59/400 [09:31<54:41,  9.62s/it]"
     ]
    },
    {
     "name": "stdout",
     "output_type": "stream",
     "text": [
      "Epoch [59/400], Train Loss: 5.9191, Train_accuracy: 69.75679168841498, Val Loss: 1.9785, Val_accuracy: 69.53360921597137\n",
      "Model saved.\n"
     ]
    },
    {
     "name": "stderr",
     "output_type": "stream",
     "text": [
      " 15%|█████████████████████████▋                                                                                                                                                 | 60/400 [09:40<54:52,  9.68s/it]"
     ]
    },
    {
     "name": "stdout",
     "output_type": "stream",
     "text": [
      "Epoch [60/400], Train Loss: 5.9111, Train_accuracy: 69.825143538886, Val Loss: 1.9760, Val_accuracy: 69.59325951608695\n",
      "Model saved.\n"
     ]
    },
    {
     "name": "stderr",
     "output_type": "stream",
     "text": [
      " 15%|██████████████████████████                                                                                                                                                 | 61/400 [09:50<54:56,  9.72s/it]"
     ]
    },
    {
     "name": "stdout",
     "output_type": "stream",
     "text": [
      "Epoch [61/400], Train Loss: 5.9030, Train_accuracy: 69.87050431238039, Val Loss: 1.9734, Val_accuracy: 69.65290981620251\n",
      "Model saved.\n"
     ]
    },
    {
     "name": "stderr",
     "output_type": "stream",
     "text": [
      " 16%|██████████████████████████▌                                                                                                                                                | 62/400 [10:00<54:09,  9.61s/it]"
     ]
    },
    {
     "name": "stdout",
     "output_type": "stream",
     "text": [
      "Epoch [62/400], Train Loss: 5.8949, Train_accuracy: 69.9140009444983, Val Loss: 1.9709, Val_accuracy: 69.69019125377474\n",
      "Model saved.\n"
     ]
    },
    {
     "name": "stderr",
     "output_type": "stream",
     "text": [
      " 16%|██████████████████████████▉                                                                                                                                                | 63/400 [10:09<54:24,  9.69s/it]"
     ]
    },
    {
     "name": "stdout",
     "output_type": "stream",
     "text": [
      "Epoch [63/400], Train Loss: 5.8867, Train_accuracy: 69.9755176099222, Val Loss: 1.9683, Val_accuracy: 69.72001640383253\n",
      "Model saved.\n"
     ]
    },
    {
     "name": "stderr",
     "output_type": "stream",
     "text": [
      " 16%|███████████████████████████▎                                                                                                                                               | 64/400 [10:19<54:26,  9.72s/it]"
     ]
    },
    {
     "name": "stdout",
     "output_type": "stream",
     "text": [
      "Epoch [64/400], Train Loss: 5.8786, Train_accuracy: 70.02709218800487, Val Loss: 1.9658, Val_accuracy: 69.78153077582671\n",
      "Model saved.\n"
     ]
    },
    {
     "name": "stderr",
     "output_type": "stream",
     "text": [
      " 16%|███████████████████████████▊                                                                                                                                               | 65/400 [10:29<53:39,  9.61s/it]"
     ]
    },
    {
     "name": "stdout",
     "output_type": "stream",
     "text": [
      "Epoch [65/400], Train Loss: 5.8703, Train_accuracy: 70.07431710287575, Val Loss: 1.9632, Val_accuracy: 69.8430451478209\n",
      "Model saved.\n"
     ]
    },
    {
     "name": "stderr",
     "output_type": "stream",
     "text": [
      " 16%|████████████████████████████▏                                                                                                                                              | 66/400 [10:38<53:53,  9.68s/it]"
     ]
    },
    {
     "name": "stdout",
     "output_type": "stream",
     "text": [
      "Epoch [66/400], Train Loss: 5.8621, Train_accuracy: 70.11097854994657, Val Loss: 1.9606, Val_accuracy: 69.88405472915035\n",
      "Model saved.\n"
     ]
    },
    {
     "name": "stderr",
     "output_type": "stream",
     "text": [
      " 17%|████████████████████████████▋                                                                                                                                              | 67/400 [10:48<53:55,  9.72s/it]"
     ]
    },
    {
     "name": "stdout",
     "output_type": "stream",
     "text": [
      "Epoch [67/400], Train Loss: 5.8538, Train_accuracy: 70.15758208435861, Val Loss: 1.9580, Val_accuracy: 69.94184095738731\n",
      "Model saved.\n"
     ]
    },
    {
     "name": "stderr",
     "output_type": "stream",
     "text": [
      " 17%|█████████████████████████████                                                                                                                                              | 68/400 [10:58<53:08,  9.60s/it]"
     ]
    },
    {
     "name": "stdout",
     "output_type": "stream",
     "text": [
      "Epoch [68/400], Train Loss: 5.8455, Train_accuracy: 70.220962891159, Val Loss: 1.9554, Val_accuracy: 69.99217089810983\n",
      "Model saved.\n"
     ]
    },
    {
     "name": "stderr",
     "output_type": "stream",
     "text": [
      " 17%|█████████████████████████████▍                                                                                                                                             | 69/400 [11:07<53:28,  9.69s/it]"
     ]
    },
    {
     "name": "stdout",
     "output_type": "stream",
     "text": [
      "Epoch [69/400], Train Loss: 5.8372, Train_accuracy: 70.24395396813561, Val Loss: 1.9528, Val_accuracy: 70.00149125750289\n",
      "Model saved.\n"
     ]
    },
    {
     "name": "stderr",
     "output_type": "stream",
     "text": [
      " 18%|█████████████████████████████▉                                                                                                                                             | 70/400 [11:17<53:29,  9.73s/it]"
     ]
    },
    {
     "name": "stdout",
     "output_type": "stream",
     "text": [
      "Epoch [70/400], Train Loss: 5.8289, Train_accuracy: 70.2824795565829, Val Loss: 1.9502, Val_accuracy: 70.03877269507512\n",
      "Model saved.\n"
     ]
    },
    {
     "name": "stderr",
     "output_type": "stream",
     "text": [
      " 18%|██████████████████████████████▎                                                                                                                                            | 71/400 [11:27<52:39,  9.60s/it]"
     ]
    },
    {
     "name": "stdout",
     "output_type": "stream",
     "text": [
      "Epoch [71/400], Train Loss: 5.8205, Train_accuracy: 70.35455968980688, Val Loss: 1.9476, Val_accuracy: 70.09096670767624\n",
      "Model saved.\n"
     ]
    },
    {
     "name": "stderr",
     "output_type": "stream",
     "text": [
      " 18%|██████████████████████████████▊                                                                                                                                            | 72/400 [11:36<52:51,  9.67s/it]"
     ]
    },
    {
     "name": "stdout",
     "output_type": "stream",
     "text": [
      "Epoch [72/400], Train Loss: 5.8121, Train_accuracy: 70.4278825839485, Val Loss: 1.9450, Val_accuracy: 70.14502479215598\n",
      "Model saved.\n"
     ]
    },
    {
     "name": "stderr",
     "output_type": "stream",
     "text": [
      " 18%|███████████████████████████████▏                                                                                                                                           | 73/400 [11:46<52:50,  9.69s/it]"
     ]
    },
    {
     "name": "stdout",
     "output_type": "stream",
     "text": [
      "Epoch [73/400], Train Loss: 5.8037, Train_accuracy: 70.48815648845475, Val Loss: 1.9424, Val_accuracy: 70.17671401409238\n",
      "Model saved.\n"
     ]
    },
    {
     "name": "stderr",
     "output_type": "stream",
     "text": [
      " 18%|███████████████████████████████▋                                                                                                                                           | 74/400 [11:55<52:02,  9.58s/it]"
     ]
    },
    {
     "name": "stdout",
     "output_type": "stream",
     "text": [
      "Epoch [74/400], Train Loss: 5.7953, Train_accuracy: 70.5415952079139, Val Loss: 1.9397, Val_accuracy: 70.22331581105767\n",
      "Model saved.\n"
     ]
    },
    {
     "name": "stderr",
     "output_type": "stream",
     "text": [
      " 19%|████████████████████████████████                                                                                                                                           | 75/400 [12:05<52:13,  9.64s/it]"
     ]
    },
    {
     "name": "stdout",
     "output_type": "stream",
     "text": [
      "Epoch [75/400], Train Loss: 5.7869, Train_accuracy: 70.58757736186712, Val Loss: 1.9371, Val_accuracy: 70.29228647056631\n",
      "Model saved.\n"
     ]
    },
    {
     "name": "stderr",
     "output_type": "stream",
     "text": [
      " 19%|████████████████████████████████▍                                                                                                                                          | 76/400 [12:15<52:18,  9.69s/it]"
     ]
    },
    {
     "name": "stdout",
     "output_type": "stream",
     "text": [
      "Epoch [76/400], Train Loss: 5.7785, Train_accuracy: 70.66027887554992, Val Loss: 1.9345, Val_accuracy: 70.37989784886105\n",
      "Model saved.\n"
     ]
    },
    {
     "name": "stderr",
     "output_type": "stream",
     "text": [
      " 19%|████████████████████████████████▉                                                                                                                                          | 77/400 [12:24<51:33,  9.58s/it]"
     ]
    },
    {
     "name": "stdout",
     "output_type": "stream",
     "text": [
      "Epoch [77/400], Train Loss: 5.7700, Train_accuracy: 70.70377550766783, Val Loss: 1.9318, Val_accuracy: 70.41345114267607\n",
      "Model saved.\n"
     ]
    },
    {
     "name": "stderr",
     "output_type": "stream",
     "text": [
      " 20%|█████████████████████████████████▎                                                                                                                                         | 78/400 [12:34<51:50,  9.66s/it]"
     ]
    },
    {
     "name": "stdout",
     "output_type": "stream",
     "text": [
      "Epoch [78/400], Train Loss: 5.7616, Train_accuracy: 70.75348594437402, Val Loss: 1.9292, Val_accuracy: 70.47310144279163\n",
      "Model saved.\n"
     ]
    },
    {
     "name": "stderr",
     "output_type": "stream",
     "text": [
      " 20%|█████████████████████████████████▊                                                                                                                                         | 79/400 [12:44<51:50,  9.69s/it]"
     ]
    },
    {
     "name": "stdout",
     "output_type": "stream",
     "text": [
      "Epoch [79/400], Train Loss: 5.7531, Train_accuracy: 70.77026321676236, Val Loss: 1.9266, Val_accuracy: 70.50292659284942\n",
      "Model saved.\n"
     ]
    },
    {
     "name": "stderr",
     "output_type": "stream",
     "text": [
      " 20%|██████████████████████████████████▏                                                                                                                                        | 80/400 [12:53<51:04,  9.58s/it]"
     ]
    },
    {
     "name": "stdout",
     "output_type": "stream",
     "text": [
      "Epoch [80/400], Train Loss: 5.7447, Train_accuracy: 70.81065294658613, Val Loss: 1.9240, Val_accuracy: 70.54393617417888\n",
      "Model saved.\n"
     ]
    },
    {
     "name": "stderr",
     "output_type": "stream",
     "text": [
      " 20%|██████████████████████████████████▋                                                                                                                                        | 81/400 [13:03<51:25,  9.67s/it]"
     ]
    },
    {
     "name": "stdout",
     "output_type": "stream",
     "text": [
      "Epoch [81/400], Train Loss: 5.7362, Train_accuracy: 70.85104267640992, Val Loss: 1.9213, Val_accuracy: 70.57748946799389\n",
      "Model saved.\n"
     ]
    },
    {
     "name": "stderr",
     "output_type": "stream",
     "text": [
      " 20%|███████████████████████████████████                                                                                                                                        | 82/400 [13:13<51:31,  9.72s/it]"
     ]
    },
    {
     "name": "stdout",
     "output_type": "stream",
     "text": [
      "Epoch [82/400], Train Loss: 5.7277, Train_accuracy: 70.90013173265727, Val Loss: 1.9187, Val_accuracy: 70.64086791186668\n",
      "Model saved.\n"
     ]
    },
    {
     "name": "stderr",
     "output_type": "stream",
     "text": [
      " 21%|███████████████████████████████████▍                                                                                                                                       | 83/400 [13:22<50:49,  9.62s/it]"
     ]
    },
    {
     "name": "stdout",
     "output_type": "stream",
     "text": [
      "Epoch [83/400], Train Loss: 5.7193, Train_accuracy: 70.9485994084458, Val Loss: 1.9161, Val_accuracy: 70.69306192446781\n",
      "Model saved.\n"
     ]
    },
    {
     "name": "stderr",
     "output_type": "stream",
     "text": [
      " 21%|███████████████████████████████████▉                                                                                                                                       | 84/400 [13:32<51:05,  9.70s/it]"
     ]
    },
    {
     "name": "stdout",
     "output_type": "stream",
     "text": [
      "Epoch [84/400], Train Loss: 5.7108, Train_accuracy: 70.9939601819402, Val Loss: 1.9134, Val_accuracy: 70.74525593706893\n",
      "Model saved.\n"
     ]
    },
    {
     "name": "stderr",
     "output_type": "stream",
     "text": [
      " 21%|████████████████████████████████████▎                                                                                                                                      | 85/400 [13:42<51:10,  9.75s/it]"
     ]
    },
    {
     "name": "stdout",
     "output_type": "stream",
     "text": [
      "Epoch [85/400], Train Loss: 5.7023, Train_accuracy: 71.05236994506997, Val Loss: 1.9108, Val_accuracy: 70.80490623718451\n",
      "Model saved.\n"
     ]
    },
    {
     "name": "stderr",
     "output_type": "stream",
     "text": [
      " 22%|████████████████████████████████████▊                                                                                                                                      | 86/400 [13:52<50:28,  9.65s/it]"
     ]
    },
    {
     "name": "stdout",
     "output_type": "stream",
     "text": [
      "Epoch [86/400], Train Loss: 5.6938, Train_accuracy: 71.1008376208585, Val Loss: 1.9082, Val_accuracy: 70.85896432166425\n",
      "Model saved.\n"
     ]
    },
    {
     "name": "stderr",
     "output_type": "stream",
     "text": [
      " 22%|█████████████████████████████████████▏                                                                                                                                     | 87/400 [14:01<50:41,  9.72s/it]"
     ]
    },
    {
     "name": "stdout",
     "output_type": "stream",
     "text": [
      "Epoch [87/400], Train Loss: 5.6854, Train_accuracy: 71.15303357939999, Val Loss: 1.9056, Val_accuracy: 70.92979905305148\n",
      "Model saved.\n"
     ]
    },
    {
     "name": "stderr",
     "output_type": "stream",
     "text": [
      " 22%|█████████████████████████████████████▌                                                                                                                                     | 88/400 [14:11<50:45,  9.76s/it]"
     ]
    },
    {
     "name": "stdout",
     "output_type": "stream",
     "text": [
      "Epoch [88/400], Train Loss: 5.6769, Train_accuracy: 71.1983943528944, Val Loss: 1.9029, Val_accuracy: 70.97267270625956\n",
      "Model saved.\n"
     ]
    },
    {
     "name": "stderr",
     "output_type": "stream",
     "text": [
      " 22%|██████████████████████████████████████                                                                                                                                     | 89/400 [14:21<50:03,  9.66s/it]"
     ]
    },
    {
     "name": "stdout",
     "output_type": "stream",
     "text": [
      "Epoch [89/400], Train Loss: 5.6685, Train_accuracy: 71.25804687694182, Val Loss: 1.9003, Val_accuracy: 71.00622600007456\n",
      "Model saved.\n"
     ]
    },
    {
     "name": "stderr",
     "output_type": "stream",
     "text": [
      " 22%|██████████████████████████████████████▍                                                                                                                                    | 90/400 [14:31<50:16,  9.73s/it]"
     ]
    },
    {
     "name": "stdout",
     "output_type": "stream",
     "text": [
      "Epoch [90/400], Train Loss: 5.6600, Train_accuracy: 71.31832078144807, Val Loss: 1.8977, Val_accuracy: 71.03605115013235\n",
      "Model saved.\n"
     ]
    },
    {
     "name": "stderr",
     "output_type": "stream",
     "text": [
      " 23%|██████████████████████████████████████▉                                                                                                                                    | 91/400 [14:40<50:17,  9.77s/it]"
     ]
    },
    {
     "name": "stdout",
     "output_type": "stream",
     "text": [
      "Epoch [91/400], Train Loss: 5.6516, Train_accuracy: 71.37983744687197, Val Loss: 1.8951, Val_accuracy: 71.05842001267568\n",
      "Model saved.\n"
     ]
    },
    {
     "name": "stderr",
     "output_type": "stream",
     "text": [
      " 23%|███████████████████████████████████████▎                                                                                                                                   | 92/400 [14:50<49:36,  9.66s/it]"
     ]
    },
    {
     "name": "stdout",
     "output_type": "stream",
     "text": [
      "Epoch [92/400], Train Loss: 5.6432, Train_accuracy: 71.41277061118981, Val Loss: 1.8925, Val_accuracy: 71.0919733064907\n",
      "Model saved.\n"
     ]
    },
    {
     "name": "stderr",
     "output_type": "stream",
     "text": [
      " 23%|███████████████████████████████████████▊                                                                                                                                   | 93/400 [15:00<50:06,  9.79s/it]"
     ]
    },
    {
     "name": "stdout",
     "output_type": "stream",
     "text": [
      "Epoch [93/400], Train Loss: 5.6348, Train_accuracy: 71.48547212487262, Val Loss: 1.8899, Val_accuracy: 71.14789546284905\n",
      "Model saved.\n"
     ]
    },
    {
     "name": "stderr",
     "output_type": "stream",
     "text": [
      " 24%|████████████████████████████████████████▏                                                                                                                                  | 94/400 [15:10<50:11,  9.84s/it]"
     ]
    },
    {
     "name": "stdout",
     "output_type": "stream",
     "text": [
      "Epoch [94/400], Train Loss: 5.6264, Train_accuracy: 71.53083289836701, Val Loss: 1.8873, Val_accuracy: 71.17772061290684\n",
      "Model saved.\n"
     ]
    },
    {
     "name": "stderr",
     "output_type": "stream",
     "text": [
      " 24%|████████████████████████████████████████▌                                                                                                                                  | 95/400 [15:19<49:20,  9.71s/it]"
     ]
    },
    {
     "name": "stdout",
     "output_type": "stream",
     "text": [
      "Epoch [95/400], Train Loss: 5.6180, Train_accuracy: 71.5805433350732, Val Loss: 1.8847, Val_accuracy: 71.18144875666405\n",
      "Model saved.\n"
     ]
    },
    {
     "name": "stderr",
     "output_type": "stream",
     "text": [
      " 24%|█████████████████████████████████████████                                                                                                                                  | 96/400 [15:29<49:30,  9.77s/it]"
     ]
    },
    {
     "name": "stdout",
     "output_type": "stream",
     "text": [
      "Epoch [96/400], Train Loss: 5.6096, Train_accuracy: 71.62963239132056, Val Loss: 1.8822, Val_accuracy: 71.23923498490102\n",
      "Model saved.\n"
     ]
    },
    {
     "name": "stderr",
     "output_type": "stream",
     "text": [
      " 24%|█████████████████████████████████████████▍                                                                                                                                 | 97/400 [15:39<49:34,  9.82s/it]"
     ]
    },
    {
     "name": "stdout",
     "output_type": "stream",
     "text": [
      "Epoch [97/400], Train Loss: 5.6012, Train_accuracy: 71.68369249123853, Val Loss: 1.8796, Val_accuracy: 71.26346791932296\n",
      "Model saved.\n"
     ]
    },
    {
     "name": "stderr",
     "output_type": "stream",
     "text": [
      " 24%|█████████████████████████████████████████▉                                                                                                                                 | 98/400 [15:49<48:48,  9.70s/it]"
     ]
    },
    {
     "name": "stdout",
     "output_type": "stream",
     "text": [
      "Epoch [98/400], Train Loss: 5.5929, Train_accuracy: 71.74023811299182, Val Loss: 1.8770, Val_accuracy: 71.31379786004548\n",
      "Model saved.\n"
     ]
    },
    {
     "name": "stderr",
     "output_type": "stream",
     "text": [
      " 25%|██████████████████████████████████████████▎                                                                                                                                | 99/400 [15:59<48:56,  9.76s/it]"
     ]
    },
    {
     "name": "stdout",
     "output_type": "stream",
     "text": [
      "Epoch [99/400], Train Loss: 5.5846, Train_accuracy: 71.7874630278627, Val Loss: 1.8745, Val_accuracy: 71.35480744137494\n",
      "Model saved.\n"
     ]
    },
    {
     "name": "stderr",
     "output_type": "stream",
     "text": [
      " 25%|██████████████████████████████████████████▌                                                                                                                               | 100/400 [16:08<49:03,  9.81s/it]"
     ]
    },
    {
     "name": "stdout",
     "output_type": "stream",
     "text": [
      "Epoch [100/400], Train Loss: 5.5763, Train_accuracy: 71.82598861631, Val Loss: 1.8719, Val_accuracy: 71.40700145397606\n",
      "Model saved.\n"
     ]
    },
    {
     "name": "stderr",
     "output_type": "stream",
     "text": [
      " 25%|██████████████████████████████████████████▉                                                                                                                               | 101/400 [16:18<48:13,  9.68s/it]"
     ]
    },
    {
     "name": "stdout",
     "output_type": "stream",
     "text": [
      "Epoch [101/400], Train Loss: 5.5680, Train_accuracy: 71.86327144383964, Val Loss: 1.8694, Val_accuracy: 71.42377810088357\n",
      "Model saved.\n"
     ]
    },
    {
     "name": "stderr",
     "output_type": "stream",
     "text": [
      " 26%|███████████████████████████████████████████▎                                                                                                                              | 102/400 [16:28<48:25,  9.75s/it]"
     ]
    },
    {
     "name": "stdout",
     "output_type": "stream",
     "text": [
      "Epoch [102/400], Train Loss: 5.5597, Train_accuracy: 71.88874804265156, Val Loss: 1.8668, Val_accuracy: 71.4778361853633\n",
      "Model saved.\n"
     ]
    },
    {
     "name": "stderr",
     "output_type": "stream",
     "text": [
      " 26%|███████████████████████████████████████████▊                                                                                                                              | 103/400 [16:38<48:27,  9.79s/it]"
     ]
    },
    {
     "name": "stdout",
     "output_type": "stream",
     "text": [
      "Epoch [103/400], Train Loss: 5.5514, Train_accuracy: 71.93286605522829, Val Loss: 1.8643, Val_accuracy: 71.51511762293553\n",
      "Model saved.\n"
     ]
    },
    {
     "name": "stderr",
     "output_type": "stream",
     "text": [
      " 26%|████████████████████████████████████████████▏                                                                                                                             | 104/400 [16:47<47:44,  9.68s/it]"
     ]
    },
    {
     "name": "stdout",
     "output_type": "stream",
     "text": [
      "Epoch [104/400], Train Loss: 5.5432, Train_accuracy: 71.96393507816965, Val Loss: 1.8618, Val_accuracy: 71.56544756365805\n",
      "Model saved.\n"
     ]
    },
    {
     "name": "stderr",
     "output_type": "stream",
     "text": [
      " 26%|████████████████████████████████████████████▋                                                                                                                             | 105/400 [16:57<47:54,  9.74s/it]"
     ]
    },
    {
     "name": "stdout",
     "output_type": "stream",
     "text": [
      "Epoch [105/400], Train Loss: 5.5350, Train_accuracy: 72.00556756891109, Val Loss: 1.8593, Val_accuracy: 71.61950564813779\n",
      "Model saved.\n"
     ]
    },
    {
     "name": "stderr",
     "output_type": "stream",
     "text": [
      " 26%|█████████████████████████████████████████████                                                                                                                             | 106/400 [17:07<47:55,  9.78s/it]"
     ]
    },
    {
     "name": "stdout",
     "output_type": "stream",
     "text": [
      "Epoch [106/400], Train Loss: 5.5268, Train_accuracy: 72.04409315735839, Val Loss: 1.8568, Val_accuracy: 71.68288409201058\n",
      "Model saved.\n"
     ]
    },
    {
     "name": "stderr",
     "output_type": "stream",
     "text": [
      " 27%|█████████████████████████████████████████████▍                                                                                                                            | 107/400 [17:16<47:09,  9.66s/it]"
     ]
    },
    {
     "name": "stdout",
     "output_type": "stream",
     "text": [
      "Epoch [107/400], Train Loss: 5.5186, Train_accuracy: 72.07267665846445, Val Loss: 1.8543, Val_accuracy: 71.7164373858256\n",
      "Model saved.\n"
     ]
    },
    {
     "name": "stderr",
     "output_type": "stream",
     "text": [
      " 27%|█████████████████████████████████████████████▉                                                                                                                            | 108/400 [17:26<47:21,  9.73s/it]"
     ]
    },
    {
     "name": "stdout",
     "output_type": "stream",
     "text": [
      "Epoch [108/400], Train Loss: 5.5105, Train_accuracy: 72.11120224691174, Val Loss: 1.8518, Val_accuracy: 71.7332140327331\n",
      "Model saved.\n"
     ]
    },
    {
     "name": "stderr",
     "output_type": "stream",
     "text": [
      " 27%|██████████████████████████████████████████████▎                                                                                                                           | 109/400 [17:36<47:24,  9.77s/it]"
     ]
    },
    {
     "name": "stdout",
     "output_type": "stream",
     "text": [
      "Epoch [109/400], Train Loss: 5.5024, Train_accuracy: 72.16091268361792, Val Loss: 1.8493, Val_accuracy: 71.76117511091228\n",
      "Model saved.\n"
     ]
    },
    {
     "name": "stderr",
     "output_type": "stream",
     "text": [
      " 28%|██████████████████████████████████████████████▊                                                                                                                           | 110/400 [17:45<46:41,  9.66s/it]"
     ]
    },
    {
     "name": "stdout",
     "output_type": "stream",
     "text": [
      "Epoch [110/400], Train Loss: 5.4943, Train_accuracy: 72.20503069619467, Val Loss: 1.8469, Val_accuracy: 71.76303918279089\n",
      "Model saved.\n"
     ]
    },
    {
     "name": "stderr",
     "output_type": "stream",
     "text": [
      " 28%|███████████████████████████████████████████████▏                                                                                                                          | 111/400 [17:55<46:53,  9.74s/it]"
     ]
    },
    {
     "name": "stdout",
     "output_type": "stream",
     "text": [
      "Epoch [111/400], Train Loss: 5.4862, Train_accuracy: 72.2491487087714, Val Loss: 1.8444, Val_accuracy: 71.79845654848451\n",
      "Model saved.\n"
     ]
    },
    {
     "name": "stderr",
     "output_type": "stream",
     "text": [
      " 28%|███████████████████████████████████████████████▌                                                                                                                          | 112/400 [18:05<46:54,  9.77s/it]"
     ]
    },
    {
     "name": "stdout",
     "output_type": "stream",
     "text": [
      "Epoch [112/400], Train Loss: 5.4782, Train_accuracy: 72.27959635125394, Val Loss: 1.8420, Val_accuracy: 71.81523319539201\n",
      "Model saved.\n"
     ]
    },
    {
     "name": "stderr",
     "output_type": "stream",
     "text": [
      " 28%|████████████████████████████████████████████████                                                                                                                          | 113/400 [18:15<46:13,  9.66s/it]"
     ]
    },
    {
     "name": "stdout",
     "output_type": "stream",
     "text": [
      "Epoch [113/400], Train Loss: 5.4701, Train_accuracy: 72.32309298337186, Val Loss: 1.8395, Val_accuracy: 71.8786116392648\n",
      "Model saved.\n"
     ]
    },
    {
     "name": "stderr",
     "output_type": "stream",
     "text": [
      " 28%|████████████████████████████████████████████████▍                                                                                                                         | 114/400 [18:24<46:26,  9.74s/it]"
     ]
    },
    {
     "name": "stdout",
     "output_type": "stream",
     "text": [
      "Epoch [114/400], Train Loss: 5.4622, Train_accuracy: 72.36410409365446, Val Loss: 1.8371, Val_accuracy: 71.90470864556538\n",
      "Model saved.\n"
     ]
    },
    {
     "name": "stderr",
     "output_type": "stream",
     "text": [
      " 29%|████████████████████████████████████████████████▊                                                                                                                         | 115/400 [18:34<46:23,  9.77s/it]"
     ]
    },
    {
     "name": "stdout",
     "output_type": "stream",
     "text": [
      "Epoch [115/400], Train Loss: 5.4542, Train_accuracy: 72.4013869211841, Val Loss: 1.8347, Val_accuracy: 71.9252134362301\n",
      "Model saved.\n"
     ]
    },
    {
     "name": "stderr",
     "output_type": "stream",
     "text": [
      " 29%|█████████████████████████████████████████████████▎                                                                                                                        | 116/400 [18:44<45:46,  9.67s/it]"
     ]
    },
    {
     "name": "stdout",
     "output_type": "stream",
     "text": [
      "Epoch [116/400], Train Loss: 5.4463, Train_accuracy: 72.42375661770188, Val Loss: 1.8323, Val_accuracy: 71.95876673004511\n",
      "Model saved.\n"
     ]
    },
    {
     "name": "stderr",
     "output_type": "stream",
     "text": [
      " 29%|█████████████████████████████████████████████████▋                                                                                                                        | 117/400 [18:54<45:59,  9.75s/it]"
     ]
    },
    {
     "name": "stdout",
     "output_type": "stream",
     "text": [
      "Epoch [117/400], Train Loss: 5.4384, Train_accuracy: 72.4647677279845, Val Loss: 1.8299, Val_accuracy: 72.04637810833985\n",
      "Model saved.\n"
     ]
    },
    {
     "name": "stderr",
     "output_type": "stream",
     "text": [
      " 30%|██████████████████████████████████████████████████▏                                                                                                                       | 118/400 [19:04<46:00,  9.79s/it]"
     ]
    },
    {
     "name": "stdout",
     "output_type": "stream",
     "text": [
      "Epoch [118/400], Train Loss: 5.4305, Train_accuracy: 72.50267193597296, Val Loss: 1.8275, Val_accuracy: 72.07620325839764\n",
      "Model saved.\n"
     ]
    },
    {
     "name": "stderr",
     "output_type": "stream",
     "text": [
      " 30%|██████████████████████████████████████████████████▌                                                                                                                       | 119/400 [19:13<45:18,  9.67s/it]"
     ]
    },
    {
     "name": "stdout",
     "output_type": "stream",
     "text": [
      "Epoch [119/400], Train Loss: 5.4226, Train_accuracy: 72.54616856809088, Val Loss: 1.8251, Val_accuracy: 72.09670804906237\n",
      "Model saved.\n"
     ]
    },
    {
     "name": "stderr",
     "output_type": "stream",
     "text": [
      " 30%|███████████████████████████████████████████████████                                                                                                                       | 120/400 [19:23<45:32,  9.76s/it]"
     ]
    },
    {
     "name": "stdout",
     "output_type": "stream",
     "text": [
      "Epoch [120/400], Train Loss: 5.4148, Train_accuracy: 72.58966520020878, Val Loss: 1.8227, Val_accuracy: 72.12094098348432\n",
      "Model saved.\n"
     ]
    },
    {
     "name": "stderr",
     "output_type": "stream",
     "text": [
      " 30%|███████████████████████████████████████████████████▍                                                                                                                      | 121/400 [19:33<45:34,  9.80s/it]"
     ]
    },
    {
     "name": "stdout",
     "output_type": "stream",
     "text": [
      "Epoch [121/400], Train Loss: 5.4070, Train_accuracy: 72.62819078865608, Val Loss: 1.8204, Val_accuracy: 72.14330984602766\n",
      "Model saved.\n"
     ]
    },
    {
     "name": "stderr",
     "output_type": "stream",
     "text": [
      " 30%|███████████████████████████████████████████████████▊                                                                                                                      | 122/400 [19:42<44:56,  9.70s/it]"
     ]
    },
    {
     "name": "stdout",
     "output_type": "stream",
     "text": [
      "Epoch [122/400], Train Loss: 5.3993, Train_accuracy: 72.64496806104442, Val Loss: 1.8181, Val_accuracy: 72.16567870857101\n",
      "Model saved.\n"
     ]
    },
    {
     "name": "stderr",
     "output_type": "stream",
     "text": [
      " 31%|████████████████████████████████████████████████████▎                                                                                                                     | 123/400 [19:52<45:07,  9.77s/it]"
     ]
    },
    {
     "name": "stdout",
     "output_type": "stream",
     "text": [
      "Epoch [123/400], Train Loss: 5.3915, Train_accuracy: 72.69343573683295, Val Loss: 1.8157, Val_accuracy: 72.19550385862878\n",
      "Model saved.\n"
     ]
    },
    {
     "name": "stderr",
     "output_type": "stream",
     "text": [
      " 31%|████████████████████████████████████████████████████▋                                                                                                                     | 124/400 [20:02<45:05,  9.80s/it]"
     ]
    },
    {
     "name": "stdout",
     "output_type": "stream",
     "text": [
      "Epoch [124/400], Train Loss: 5.3838, Train_accuracy: 72.73071856436259, Val Loss: 1.8134, Val_accuracy: 72.20296014614324\n",
      "Model saved.\n"
     ]
    },
    {
     "name": "stderr",
     "output_type": "stream",
     "text": [
      " 31%|█████████████████████████████████████████████████████▏                                                                                                                    | 125/400 [20:11<44:23,  9.69s/it]"
     ]
    },
    {
     "name": "stdout",
     "output_type": "stream",
     "text": [
      "Epoch [125/400], Train Loss: 5.3762, Train_accuracy: 72.77297243556285, Val Loss: 1.8111, Val_accuracy: 72.24769787122992\n",
      "Model saved.\n"
     ]
    },
    {
     "name": "stderr",
     "output_type": "stream",
     "text": [
      " 32%|█████████████████████████████████████████████████████▌                                                                                                                    | 126/400 [20:21<44:35,  9.77s/it]"
     ]
    },
    {
     "name": "stdout",
     "output_type": "stream",
     "text": [
      "Epoch [126/400], Train Loss: 5.3686, Train_accuracy: 72.81646906768076, Val Loss: 1.8088, Val_accuracy: 72.27565894940909\n",
      "Model saved.\n"
     ]
    },
    {
     "name": "stderr",
     "output_type": "stream",
     "text": [
      " 32%|█████████████████████████████████████████████████████▉                                                                                                                    | 127/400 [20:31<44:41,  9.82s/it]"
     ]
    },
    {
     "name": "stdout",
     "output_type": "stream",
     "text": [
      "Epoch [127/400], Train Loss: 5.3610, Train_accuracy: 72.8562374170457, Val Loss: 1.8065, Val_accuracy: 72.31666853073854\n",
      "Model saved.\n"
     ]
    },
    {
     "name": "stderr",
     "output_type": "stream",
     "text": [
      " 32%|██████████████████████████████████████████████████████▍                                                                                                                   | 128/400 [20:41<43:56,  9.69s/it]"
     ]
    },
    {
     "name": "stdout",
     "output_type": "stream",
     "text": [
      "Epoch [128/400], Train Loss: 5.3534, Train_accuracy: 72.88917058136356, Val Loss: 1.8043, Val_accuracy: 72.33717332140327\n",
      "Model saved.\n"
     ]
    },
    {
     "name": "stderr",
     "output_type": "stream",
     "text": [
      " 32%|██████████████████████████████████████████████████████▊                                                                                                                   | 129/400 [20:51<44:06,  9.77s/it]"
     ]
    },
    {
     "name": "stdout",
     "output_type": "stream",
     "text": [
      "Epoch [129/400], Train Loss: 5.3459, Train_accuracy: 72.92272512614024, Val Loss: 1.8020, Val_accuracy: 72.37259068709689\n",
      "Model saved.\n"
     ]
    },
    {
     "name": "stderr",
     "output_type": "stream",
     "text": [
      " 32%|███████████████████████████████████████████████████████▎                                                                                                                  | 130/400 [21:01<44:05,  9.80s/it]"
     ]
    },
    {
     "name": "stdout",
     "output_type": "stream",
     "text": [
      "Epoch [130/400], Train Loss: 5.3384, Train_accuracy: 72.95565829045808, Val Loss: 1.7997, Val_accuracy: 72.39868769339746\n",
      "Model saved.\n"
     ]
    },
    {
     "name": "stderr",
     "output_type": "stream",
     "text": [
      " 33%|███████████████████████████████████████████████████████▋                                                                                                                  | 131/400 [21:10<43:23,  9.68s/it]"
     ]
    },
    {
     "name": "stdout",
     "output_type": "stream",
     "text": [
      "Epoch [131/400], Train Loss: 5.3309, Train_accuracy: 72.99294111798773, Val Loss: 1.7975, Val_accuracy: 72.43410505909108\n",
      "Model saved.\n"
     ]
    },
    {
     "name": "stderr",
     "output_type": "stream",
     "text": [
      " 33%|████████████████████████████████████████████████████████                                                                                                                  | 132/400 [21:20<43:35,  9.76s/it]"
     ]
    },
    {
     "name": "stdout",
     "output_type": "stream",
     "text": [
      "Epoch [132/400], Train Loss: 5.3235, Train_accuracy: 73.04078741331743, Val Loss: 1.7953, Val_accuracy: 72.44901763411997\n",
      "Model saved.\n"
     ]
    },
    {
     "name": "stderr",
     "output_type": "stream",
     "text": [
      " 33%|████████████████████████████████████████████████████████▌                                                                                                                 | 133/400 [21:30<43:43,  9.83s/it]"
     ]
    },
    {
     "name": "stdout",
     "output_type": "stream",
     "text": [
      "Epoch [133/400], Train Loss: 5.3161, Train_accuracy: 73.07620609947058, Val Loss: 1.7931, Val_accuracy: 72.45460984975581\n",
      "Model saved.\n"
     ]
    },
    {
     "name": "stderr",
     "output_type": "stream",
     "text": [
      " 34%|████████████████████████████████████████████████████████▉                                                                                                                 | 134/400 [21:39<43:04,  9.72s/it]"
     ]
    },
    {
     "name": "stdout",
     "output_type": "stream",
     "text": [
      "Epoch [134/400], Train Loss: 5.3087, Train_accuracy: 73.12032411204733, Val Loss: 1.7909, Val_accuracy: 72.47138649666331\n",
      "Model saved.\n"
     ]
    },
    {
     "name": "stderr",
     "output_type": "stream",
     "text": [
      " 34%|█████████████████████████████████████████████████████████▍                                                                                                                | 135/400 [21:49<43:15,  9.79s/it]"
     ]
    },
    {
     "name": "stdout",
     "output_type": "stream",
     "text": [
      "Epoch [135/400], Train Loss: 5.3014, Train_accuracy: 73.18246215793006, Val Loss: 1.7887, Val_accuracy: 72.49375535920665\n",
      "Model saved.\n"
     ]
    },
    {
     "name": "stderr",
     "output_type": "stream",
     "text": [
      " 34%|█████████████████████████████████████████████████████████▊                                                                                                                | 136/400 [21:59<43:17,  9.84s/it]"
     ]
    },
    {
     "name": "stdout",
     "output_type": "stream",
     "text": [
      "Epoch [136/400], Train Loss: 5.2941, Train_accuracy: 73.21477394178908, Val Loss: 1.7865, Val_accuracy: 72.55340565932222\n",
      "Model saved.\n"
     ]
    },
    {
     "name": "stderr",
     "output_type": "stream",
     "text": [
      " 34%|██████████████████████████████████████████████████████████▏                                                                                                               | 137/400 [22:09<42:39,  9.73s/it]"
     ]
    },
    {
     "name": "stdout",
     "output_type": "stream",
     "text": [
      "Epoch [137/400], Train Loss: 5.2868, Train_accuracy: 73.2446002038128, Val Loss: 1.7843, Val_accuracy: 72.60000745628751\n",
      "Model saved.\n"
     ]
    },
    {
     "name": "stderr",
     "output_type": "stream",
     "text": [
      " 34%|██████████████████████████████████████████████████████████▋                                                                                                               | 138/400 [22:19<42:55,  9.83s/it]"
     ]
    },
    {
     "name": "stdout",
     "output_type": "stream",
     "text": [
      "Epoch [138/400], Train Loss: 5.2796, Train_accuracy: 73.26821266124823, Val Loss: 1.7822, Val_accuracy: 72.6466092532528\n",
      "Model saved.\n"
     ]
    },
    {
     "name": "stderr",
     "output_type": "stream",
     "text": [
      " 35%|███████████████████████████████████████████████████████████                                                                                                               | 139/400 [22:29<42:57,  9.88s/it]"
     ]
    },
    {
     "name": "stdout",
     "output_type": "stream",
     "text": [
      "Epoch [139/400], Train Loss: 5.2724, Train_accuracy: 73.29493202097781, Val Loss: 1.7801, Val_accuracy: 72.67084218767475\n",
      "Model saved.\n"
     ]
    },
    {
     "name": "stderr",
     "output_type": "stream",
     "text": [
      " 35%|███████████████████████████████████████████████████████████▍                                                                                                              | 140/400 [22:38<42:17,  9.76s/it]"
     ]
    },
    {
     "name": "stdout",
     "output_type": "stream",
     "text": [
      "Epoch [140/400], Train Loss: 5.2652, Train_accuracy: 73.32040861978973, Val Loss: 1.7779, Val_accuracy: 72.72303620027589\n",
      "Model saved.\n"
     ]
    },
    {
     "name": "stderr",
     "output_type": "stream",
     "text": [
      " 35%|███████████████████████████████████████████████████████████▉                                                                                                              | 141/400 [22:48<42:28,  9.84s/it]"
     ]
    },
    {
     "name": "stdout",
     "output_type": "stream",
     "text": [
      "Epoch [141/400], Train Loss: 5.2581, Train_accuracy: 73.3607983496135, Val Loss: 1.7758, Val_accuracy: 72.74354099094062\n",
      "Model saved.\n"
     ]
    },
    {
     "name": "stderr",
     "output_type": "stream",
     "text": [
      " 36%|████████████████████████████████████████████████████████████▎                                                                                                             | 142/400 [22:58<42:26,  9.87s/it]"
     ]
    },
    {
     "name": "stdout",
     "output_type": "stream",
     "text": [
      "Epoch [142/400], Train Loss: 5.2510, Train_accuracy: 73.39435289439018, Val Loss: 1.7737, Val_accuracy: 72.79759907542035\n",
      "Model saved.\n"
     ]
    },
    {
     "name": "stderr",
     "output_type": "stream",
     "text": [
      " 36%|████████████████████████████████████████████████████████████▊                                                                                                             | 143/400 [23:08<41:47,  9.76s/it]"
     ]
    },
    {
     "name": "stdout",
     "output_type": "stream",
     "text": [
      "Epoch [143/400], Train Loss: 5.2439, Train_accuracy: 73.42231501503741, Val Loss: 1.7716, Val_accuracy: 72.81437572232785\n",
      "Model saved.\n"
     ]
    },
    {
     "name": "stderr",
     "output_type": "stream",
     "text": [
      " 36%|█████████████████████████████████████████████████████████████▏                                                                                                            | 144/400 [23:18<41:58,  9.84s/it]"
     ]
    },
    {
     "name": "stdout",
     "output_type": "stream",
     "text": [
      "Epoch [144/400], Train Loss: 5.2369, Train_accuracy: 73.44841299430816, Val Loss: 1.7695, Val_accuracy: 72.83488051299258\n",
      "Model saved.\n"
     ]
    },
    {
     "name": "stderr",
     "output_type": "stream",
     "text": [
      " 36%|█████████████████████████████████████████████████████████████▋                                                                                                            | 145/400 [23:28<41:42,  9.81s/it]"
     ]
    },
    {
     "name": "stdout",
     "output_type": "stream",
     "text": [
      "Epoch [145/400], Train Loss: 5.2299, Train_accuracy: 73.48072477816717, Val Loss: 1.7675, Val_accuracy: 72.87589009432203\n",
      "Model saved.\n"
     ]
    },
    {
     "name": "stderr",
     "output_type": "stream",
     "text": [
      " 36%|██████████████████████████████████████████████████████████████                                                                                                            | 146/400 [23:37<40:52,  9.66s/it]"
     ]
    },
    {
     "name": "stdout",
     "output_type": "stream",
     "text": [
      "Epoch [146/400], Train Loss: 5.2229, Train_accuracy: 73.51241518156738, Val Loss: 1.7654, Val_accuracy: 72.89266674122955\n",
      "Model saved.\n"
     ]
    },
    {
     "name": "stderr",
     "output_type": "stream",
     "text": [
      " 37%|██████████████████████████████████████████████████████████████▍                                                                                                           | 147/400 [23:47<41:02,  9.73s/it]"
     ]
    },
    {
     "name": "stdout",
     "output_type": "stream",
     "text": [
      "Epoch [147/400], Train Loss: 5.2160, Train_accuracy: 73.55715457460293, Val Loss: 1.7634, Val_accuracy: 72.93740446631622\n",
      "Model saved.\n"
     ]
    },
    {
     "name": "stderr",
     "output_type": "stream",
     "text": [
      " 37%|██████████████████████████████████████████████████████████████▉                                                                                                           | 148/400 [23:57<41:02,  9.77s/it]"
     ]
    },
    {
     "name": "stdout",
     "output_type": "stream",
     "text": [
      "Epoch [148/400], Train Loss: 5.2091, Train_accuracy: 73.58698083662665, Val Loss: 1.7614, Val_accuracy: 72.94486075383067\n",
      "Model saved.\n"
     ]
    },
    {
     "name": "stderr",
     "output_type": "stream",
     "text": [
      " 37%|███████████████████████████████████████████████████████████████▎                                                                                                          | 149/400 [24:06<40:27,  9.67s/it]"
     ]
    },
    {
     "name": "stdout",
     "output_type": "stream",
     "text": [
      "Epoch [149/400], Train Loss: 5.2023, Train_accuracy: 73.60935053314444, Val Loss: 1.7593, Val_accuracy: 72.96722961637401\n",
      "Model saved.\n"
     ]
    },
    {
     "name": "stderr",
     "output_type": "stream",
     "text": [
      " 38%|███████████████████████████████████████████████████████████████▊                                                                                                          | 150/400 [24:16<40:34,  9.74s/it]"
     ]
    },
    {
     "name": "stdout",
     "output_type": "stream",
     "text": [
      "Epoch [150/400], Train Loss: 5.1955, Train_accuracy: 73.64663336067407, Val Loss: 1.7573, Val_accuracy: 72.99146255079596\n",
      "Model saved.\n"
     ]
    },
    {
     "name": "stderr",
     "output_type": "stream",
     "text": [
      " 38%|████████████████████████████████████████████████████████████████▏                                                                                                         | 151/400 [24:26<40:34,  9.78s/it]"
     ]
    },
    {
     "name": "stdout",
     "output_type": "stream",
     "text": [
      "Epoch [151/400], Train Loss: 5.1887, Train_accuracy: 73.67148857902717, Val Loss: 1.7553, Val_accuracy: 73.01010326958207\n",
      "Model saved.\n"
     ]
    },
    {
     "name": "stderr",
     "output_type": "stream",
     "text": [
      " 38%|████████████████████████████████████████████████████████████████▌                                                                                                         | 152/400 [24:35<39:54,  9.65s/it]"
     ]
    },
    {
     "name": "stdout",
     "output_type": "stream",
     "text": [
      "Epoch [152/400], Train Loss: 5.1819, Train_accuracy: 73.69572241692143, Val Loss: 1.7534, Val_accuracy: 73.02501584461096\n",
      "Model saved.\n"
     ]
    },
    {
     "name": "stderr",
     "output_type": "stream",
     "text": [
      " 38%|█████████████████████████████████████████████████████████████████                                                                                                         | 153/400 [24:45<40:09,  9.76s/it]"
     ]
    },
    {
     "name": "stdout",
     "output_type": "stream",
     "text": [
      "Epoch [153/400], Train Loss: 5.1752, Train_accuracy: 73.740461809957, Val Loss: 1.7514, Val_accuracy: 73.05297692279014\n",
      "Model saved.\n"
     ]
    },
    {
     "name": "stderr",
     "output_type": "stream",
     "text": [
      " 38%|█████████████████████████████████████████████████████████████████▍                                                                                                        | 154/400 [24:55<40:10,  9.80s/it]"
     ]
    },
    {
     "name": "stdout",
     "output_type": "stream",
     "text": [
      "Epoch [154/400], Train Loss: 5.1685, Train_accuracy: 73.7883081052867, Val Loss: 1.7494, Val_accuracy: 73.07161764157625\n",
      "Model saved.\n"
     ]
    },
    {
     "name": "stderr",
     "output_type": "stream",
     "text": [
      " 39%|█████████████████████████████████████████████████████████████████▉                                                                                                        | 155/400 [25:04<39:32,  9.68s/it]"
     ]
    },
    {
     "name": "stdout",
     "output_type": "stream",
     "text": [
      "Epoch [155/400], Train Loss: 5.1619, Train_accuracy: 73.81813436731042, Val Loss: 1.7475, Val_accuracy: 73.09771464787683\n",
      "Model saved.\n"
     ]
    },
    {
     "name": "stderr",
     "output_type": "stream",
     "text": [
      " 39%|██████████████████████████████████████████████████████████████████▎                                                                                                       | 156/400 [25:14<39:43,  9.77s/it]"
     ]
    },
    {
     "name": "stdout",
     "output_type": "stream",
     "text": [
      "Epoch [156/400], Train Loss: 5.1553, Train_accuracy: 73.83304749832227, Val Loss: 1.7456, Val_accuracy: 73.13126794169183\n",
      "Model saved.\n"
     ]
    },
    {
     "name": "stderr",
     "output_type": "stream",
     "text": [
      " 39%|██████████████████████████████████████████████████████████████████▋                                                                                                       | 157/400 [25:24<39:39,  9.79s/it]"
     ]
    },
    {
     "name": "stdout",
     "output_type": "stream",
     "text": [
      "Epoch [157/400], Train Loss: 5.1487, Train_accuracy: 73.84236820520468, Val Loss: 1.7436, Val_accuracy: 73.16668530738545\n",
      "Model saved.\n"
     ]
    },
    {
     "name": "stderr",
     "output_type": "stream",
     "text": [
      " 40%|███████████████████████████████████████████████████████████████████▏                                                                                                      | 158/400 [25:34<39:00,  9.67s/it]"
     ]
    },
    {
     "name": "stdout",
     "output_type": "stream",
     "text": [
      "Epoch [158/400], Train Loss: 5.1422, Train_accuracy: 73.86287376034599, Val Loss: 1.7417, Val_accuracy: 73.21328710435074\n",
      "Model saved.\n"
     ]
    },
    {
     "name": "stderr",
     "output_type": "stream",
     "text": [
      " 40%|███████████████████████████████████████████████████████████████████▌                                                                                                      | 159/400 [25:44<39:10,  9.75s/it]"
     ]
    },
    {
     "name": "stdout",
     "output_type": "stream",
     "text": [
      "Epoch [159/400], Train Loss: 5.1356, Train_accuracy: 73.88648621778142, Val Loss: 1.7398, Val_accuracy: 73.21887931998658\n",
      "Model saved.\n"
     ]
    },
    {
     "name": "stderr",
     "output_type": "stream",
     "text": [
      " 40%|████████████████████████████████████████████████████████████████████                                                                                                      | 160/400 [25:54<39:10,  9.79s/it]"
     ]
    },
    {
     "name": "stdout",
     "output_type": "stream",
     "text": [
      "Epoch [160/400], Train Loss: 5.1292, Train_accuracy: 73.93557527402878, Val Loss: 1.7379, Val_accuracy: 73.25056854192297\n",
      "Model saved.\n"
     ]
    },
    {
     "name": "stderr",
     "output_type": "stream",
     "text": [
      " 40%|████████████████████████████████████████████████████████████████████▍                                                                                                     | 161/400 [26:03<38:31,  9.67s/it]"
     ]
    },
    {
     "name": "stdout",
     "output_type": "stream",
     "text": [
      "Epoch [161/400], Train Loss: 5.1227, Train_accuracy: 73.96291601421719, Val Loss: 1.7361, Val_accuracy: 73.29157812325244\n",
      "Model saved.\n"
     ]
    },
    {
     "name": "stderr",
     "output_type": "stream",
     "text": [
      " 40%|████████████████████████████████████████████████████████████████████▊                                                                                                     | 162/400 [26:13<38:42,  9.76s/it]"
     ]
    },
    {
     "name": "stdout",
     "output_type": "stream",
     "text": [
      "Epoch [162/400], Train Loss: 5.1163, Train_accuracy: 74.00144160266449, Val Loss: 1.7342, Val_accuracy: 73.31953920143161\n",
      "Model saved.\n"
     ]
    },
    {
     "name": "stderr",
     "output_type": "stream",
     "text": [
      " 41%|█████████████████████████████████████████████████████████████████████▎                                                                                                    | 163/400 [26:23<38:45,  9.81s/it]"
     ]
    },
    {
     "name": "stdout",
     "output_type": "stream",
     "text": [
      "Epoch [163/400], Train Loss: 5.1099, Train_accuracy: 74.00579126587627, Val Loss: 1.7323, Val_accuracy: 73.33258770458188\n",
      "Model saved.\n"
     ]
    },
    {
     "name": "stderr",
     "output_type": "stream",
     "text": [
      " 41%|█████████████████████████████████████████████████████████████████████▋                                                                                                    | 164/400 [26:32<38:02,  9.67s/it]"
     ]
    },
    {
     "name": "stdout",
     "output_type": "stream",
     "text": [
      "Epoch [164/400], Train Loss: 5.1036, Train_accuracy: 74.01138369000572, Val Loss: 1.7305, Val_accuracy: 73.34004399209634\n",
      "Model saved.\n"
     ]
    },
    {
     "name": "stderr",
     "output_type": "stream",
     "text": [
      " 41%|██████████████████████████████████████████████████████████████████████▏                                                                                                   | 165/400 [26:42<38:10,  9.75s/it]"
     ]
    },
    {
     "name": "stdout",
     "output_type": "stream",
     "text": [
      "Epoch [165/400], Train Loss: 5.0973, Train_accuracy: 74.05053065891184, Val Loss: 1.7287, Val_accuracy: 73.3829176453044\n",
      "Model saved.\n"
     ]
    },
    {
     "name": "stderr",
     "output_type": "stream",
     "text": [
      " 42%|██████████████████████████████████████████████████████████████████████▌                                                                                                   | 166/400 [26:52<38:07,  9.78s/it]"
     ]
    },
    {
     "name": "stdout",
     "output_type": "stream",
     "text": [
      "Epoch [166/400], Train Loss: 5.0910, Train_accuracy: 74.07538587726494, Val Loss: 1.7269, Val_accuracy: 73.41274279536219\n",
      "Model saved.\n"
     ]
    },
    {
     "name": "stderr",
     "output_type": "stream",
     "text": [
      " 42%|██████████████████████████████████████████████████████████████████████▉                                                                                                   | 167/400 [27:01<37:24,  9.63s/it]"
     ]
    },
    {
     "name": "stdout",
     "output_type": "stream",
     "text": [
      "Epoch [167/400], Train Loss: 5.0847, Train_accuracy: 74.12571769442995, Val Loss: 1.7251, Val_accuracy: 73.43697572978414\n",
      "Model saved.\n"
     ]
    },
    {
     "name": "stderr",
     "output_type": "stream",
     "text": [
      " 42%|███████████████████████████████████████████████████████████████████████▍                                                                                                  | 168/400 [27:11<37:37,  9.73s/it]"
     ]
    },
    {
     "name": "stdout",
     "output_type": "stream",
     "text": [
      "Epoch [168/400], Train Loss: 5.0785, Train_accuracy: 74.17045708746551, Val Loss: 1.7233, Val_accuracy: 73.45375237669164\n",
      "Model saved.\n"
     ]
    },
    {
     "name": "stderr",
     "output_type": "stream",
     "text": [
      " 42%|███████████████████████████████████████████████████████████████████████▊                                                                                                  | 169/400 [27:21<37:32,  9.75s/it]"
     ]
    },
    {
     "name": "stdout",
     "output_type": "stream",
     "text": [
      "Epoch [169/400], Train Loss: 5.0723, Train_accuracy: 74.18350607710089, Val Loss: 1.7215, Val_accuracy: 73.4630727360847\n",
      "Model saved.\n"
     ]
    },
    {
     "name": "stderr",
     "output_type": "stream",
     "text": [
      " 42%|████████████████████████████████████████████████████████████████████████▎                                                                                                 | 170/400 [27:30<36:49,  9.61s/it]"
     ]
    },
    {
     "name": "stdout",
     "output_type": "stream",
     "text": [
      "Epoch [170/400], Train Loss: 5.0661, Train_accuracy: 74.21706062187756, Val Loss: 1.7197, Val_accuracy: 73.4947619580211\n",
      "Model saved.\n"
     ]
    },
    {
     "name": "stderr",
     "output_type": "stream",
     "text": [
      " 43%|████████████████████████████████████████████████████████████████████████▋                                                                                                 | 171/400 [27:40<37:00,  9.70s/it]"
     ]
    },
    {
     "name": "stdout",
     "output_type": "stream",
     "text": [
      "Epoch [171/400], Train Loss: 5.0600, Train_accuracy: 74.23694479656004, Val Loss: 1.7179, Val_accuracy: 73.51899489244305\n",
      "Model saved.\n"
     ]
    },
    {
     "name": "stderr",
     "output_type": "stream",
     "text": [
      " 43%|█████████████████████████████████████████████████████████████████████████                                                                                                 | 172/400 [27:50<37:05,  9.76s/it]"
     ]
    },
    {
     "name": "stdout",
     "output_type": "stream",
     "text": [
      "Epoch [172/400], Train Loss: 5.0539, Train_accuracy: 74.27671314592499, Val Loss: 1.7162, Val_accuracy: 73.53763561122916\n",
      "Model saved.\n"
     ]
    },
    {
     "name": "stderr",
     "output_type": "stream",
     "text": [
      " 43%|█████████████████████████████████████████████████████████████████████████▌                                                                                                | 173/400 [28:00<36:33,  9.66s/it]"
     ]
    },
    {
     "name": "stdout",
     "output_type": "stream",
     "text": [
      "Epoch [173/400], Train Loss: 5.0479, Train_accuracy: 74.29473317923097, Val Loss: 1.7145, Val_accuracy: 73.55441225813668\n",
      "Model saved.\n"
     ]
    },
    {
     "name": "stderr",
     "output_type": "stream",
     "text": [
      " 44%|█████████████████████████████████████████████████████████████████████████▉                                                                                                | 174/400 [28:09<36:46,  9.76s/it]"
     ]
    },
    {
     "name": "stdout",
     "output_type": "stream",
     "text": [
      "Epoch [174/400], Train Loss: 5.0418, Train_accuracy: 74.3226952998782, Val Loss: 1.7127, Val_accuracy: 73.58050926443724\n",
      "Model saved.\n"
     ]
    },
    {
     "name": "stderr",
     "output_type": "stream",
     "text": [
      " 44%|██████████████████████████████████████████████████████████████████████████▍                                                                                               | 175/400 [28:19<36:46,  9.81s/it]"
     ]
    },
    {
     "name": "stdout",
     "output_type": "stream",
     "text": [
      "Epoch [175/400], Train Loss: 5.0358, Train_accuracy: 74.34630775731365, Val Loss: 1.7110, Val_accuracy: 73.62897513328114\n",
      "Model saved.\n"
     ]
    },
    {
     "name": "stderr",
     "output_type": "stream",
     "text": [
      " 44%|██████████████████████████████████████████████████████████████████████████▊                                                                                               | 176/400 [28:29<36:06,  9.67s/it]"
     ]
    },
    {
     "name": "stdout",
     "output_type": "stream",
     "text": [
      "Epoch [176/400], Train Loss: 5.0299, Train_accuracy: 74.37302711704322, Val Loss: 1.7093, Val_accuracy: 73.6550721395817\n",
      "Model saved.\n"
     ]
    },
    {
     "name": "stderr",
     "output_type": "stream",
     "text": [
      " 44%|███████████████████████████████████████████████████████████████████████████▏                                                                                              | 177/400 [28:39<36:05,  9.71s/it]"
     ]
    },
    {
     "name": "stdout",
     "output_type": "stream",
     "text": [
      "Epoch [177/400], Train Loss: 5.0239, Train_accuracy: 74.4109313250317, Val Loss: 1.7076, Val_accuracy: 73.69608172091115\n",
      "Model saved.\n"
     ]
    },
    {
     "name": "stderr",
     "output_type": "stream",
     "text": [
      " 44%|███████████████████████████████████████████████████████████████████████████▋                                                                                              | 178/400 [28:48<35:58,  9.72s/it]"
     ]
    },
    {
     "name": "stdout",
     "output_type": "stream",
     "text": [
      "Epoch [178/400], Train Loss: 5.0180, Train_accuracy: 74.43889344567891, Val Loss: 1.7059, Val_accuracy: 73.72217872721173\n",
      "Model saved.\n"
     ]
    },
    {
     "name": "stderr",
     "output_type": "stream",
     "text": [
      " 45%|████████████████████████████████████████████████████████████████████████████                                                                                              | 179/400 [28:58<35:18,  9.59s/it]"
     ]
    },
    {
     "name": "stdout",
     "output_type": "stream",
     "text": [
      "Epoch [179/400], Train Loss: 5.0121, Train_accuracy: 74.46499142494967, Val Loss: 1.7042, Val_accuracy: 73.76318830854117\n",
      "Model saved.\n"
     ]
    },
    {
     "name": "stderr",
     "output_type": "stream",
     "text": [
      " 45%|████████████████████████████████████████████████████████████████████████████▌                                                                                             | 180/400 [29:07<35:27,  9.67s/it]"
     ]
    },
    {
     "name": "stdout",
     "output_type": "stream",
     "text": [
      "Epoch [180/400], Train Loss: 5.0063, Train_accuracy: 74.46996246862028, Val Loss: 1.7026, Val_accuracy: 73.79487753047758\n",
      "Model saved.\n"
     ]
    },
    {
     "name": "stderr",
     "output_type": "stream",
     "text": [
      " 45%|████████████████████████████████████████████████████████████████████████████▉                                                                                             | 181/400 [29:17<35:26,  9.71s/it]"
     ]
    },
    {
     "name": "stdout",
     "output_type": "stream",
     "text": [
      "Epoch [181/400], Train Loss: 5.0004, Train_accuracy: 74.49233216513807, Val Loss: 1.7009, Val_accuracy: 73.82097453677814\n",
      "Model saved.\n"
     ]
    },
    {
     "name": "stderr",
     "output_type": "stream",
     "text": [
      " 46%|█████████████████████████████████████████████████████████████████████████████▎                                                                                            | 182/400 [29:27<34:47,  9.58s/it]"
     ]
    },
    {
     "name": "stdout",
     "output_type": "stream",
     "text": [
      "Epoch [182/400], Train Loss: 4.9946, Train_accuracy: 74.51843014440882, Val Loss: 1.6993, Val_accuracy: 73.85266375871454\n",
      "Model saved.\n"
     ]
    },
    {
     "name": "stderr",
     "output_type": "stream",
     "text": [
      " 46%|█████████████████████████████████████████████████████████████████████████████▊                                                                                            | 183/400 [29:36<34:55,  9.66s/it]"
     ]
    },
    {
     "name": "stdout",
     "output_type": "stream",
     "text": [
      "Epoch [183/400], Train Loss: 4.9889, Train_accuracy: 74.54577088459722, Val Loss: 1.6976, Val_accuracy: 73.88248890877232\n",
      "Model saved.\n"
     ]
    },
    {
     "name": "stderr",
     "output_type": "stream",
     "text": [
      " 46%|██████████████████████████████████████████████████████████████████████████████▏                                                                                           | 184/400 [29:46<34:51,  9.68s/it]"
     ]
    },
    {
     "name": "stdout",
     "output_type": "stream",
     "text": [
      "Epoch [184/400], Train Loss: 4.9831, Train_accuracy: 74.56130539606791, Val Loss: 1.6960, Val_accuracy: 73.90858591507289\n",
      "Model saved.\n"
     ]
    },
    {
     "name": "stderr",
     "output_type": "stream",
     "text": [
      " 46%|██████████████████████████████████████████████████████████████████████████████▋                                                                                           | 185/400 [29:55<34:11,  9.54s/it]"
     ]
    },
    {
     "name": "stdout",
     "output_type": "stream",
     "text": [
      "Epoch [185/400], Train Loss: 4.9774, Train_accuracy: 74.57683990753858, Val Loss: 1.6944, Val_accuracy: 73.93468292137345\n",
      "Model saved.\n"
     ]
    },
    {
     "name": "stderr",
     "output_type": "stream",
     "text": [
      " 46%|███████████████████████████████████████████████████████████████████████████████                                                                                           | 186/400 [30:05<34:15,  9.61s/it]"
     ]
    },
    {
     "name": "stdout",
     "output_type": "stream",
     "text": [
      "Epoch [186/400], Train Loss: 4.9717, Train_accuracy: 74.60790893047995, Val Loss: 1.6928, Val_accuracy: 73.97010028706707\n",
      "Model saved.\n"
     ]
    },
    {
     "name": "stderr",
     "output_type": "stream",
     "text": [
      " 47%|███████████████████████████████████████████████████████████████████████████████▍                                                                                          | 187/400 [30:15<34:14,  9.64s/it]"
     ]
    },
    {
     "name": "stdout",
     "output_type": "stream",
     "text": [
      "Epoch [187/400], Train Loss: 4.9661, Train_accuracy: 74.61971515919767, Val Loss: 1.6912, Val_accuracy: 73.97196435894568\n",
      "Model saved.\n"
     ]
    },
    {
     "name": "stderr",
     "output_type": "stream",
     "text": [
      " 47%|███████████████████████████████████████████████████████████████████████████████▉                                                                                          | 188/400 [30:24<33:39,  9.52s/it]"
     ]
    },
    {
     "name": "stdout",
     "output_type": "stream",
     "text": [
      "Epoch [188/400], Train Loss: 4.9604, Train_accuracy: 74.65575522580966, Val Loss: 1.6896, Val_accuracy: 74.00551765276069\n",
      "Model saved.\n"
     ]
    },
    {
     "name": "stderr",
     "output_type": "stream",
     "text": [
      " 47%|████████████████████████████████████████████████████████████████████████████████▎                                                                                         | 189/400 [30:34<33:51,  9.63s/it]"
     ]
    },
    {
     "name": "stdout",
     "output_type": "stream",
     "text": [
      "Epoch [189/400], Train Loss: 4.9548, Train_accuracy: 74.67998906370393, Val Loss: 1.6880, Val_accuracy: 74.02602244342542\n",
      "Model saved.\n"
     ]
    },
    {
     "name": "stderr",
     "output_type": "stream",
     "text": [
      " 48%|████████████████████████████████████████████████████████████████████████████████▊                                                                                         | 190/400 [30:44<33:56,  9.70s/it]"
     ]
    },
    {
     "name": "stdout",
     "output_type": "stream",
     "text": [
      "Epoch [190/400], Train Loss: 4.9493, Train_accuracy: 74.71043670618647, Val Loss: 1.6865, Val_accuracy: 74.0539835216046\n",
      "Model saved.\n"
     ]
    },
    {
     "name": "stderr",
     "output_type": "stream",
     "text": [
      " 48%|█████████████████████████████████████████████████████████████████████████████████▏                                                                                        | 191/400 [30:53<33:20,  9.57s/it]"
     ]
    },
    {
     "name": "stdout",
     "output_type": "stream",
     "text": [
      "Epoch [191/400], Train Loss: 4.9437, Train_accuracy: 74.740884348669, Val Loss: 1.6849, Val_accuracy: 74.09499310293405\n",
      "Model saved.\n"
     ]
    },
    {
     "name": "stderr",
     "output_type": "stream",
     "text": [
      " 48%|█████████████████████████████████████████████████████████████████████████████████▌                                                                                        | 192/400 [31:03<33:27,  9.65s/it]"
     ]
    },
    {
     "name": "stdout",
     "output_type": "stream",
     "text": [
      "Epoch [192/400], Train Loss: 4.9382, Train_accuracy: 74.77195337161037, Val Loss: 1.6833, Val_accuracy: 74.12854639674906\n",
      "Model saved.\n"
     ]
    },
    {
     "name": "stderr",
     "output_type": "stream",
     "text": [
      " 48%|██████████████████████████████████████████████████████████████████████████████████                                                                                        | 193/400 [31:13<33:27,  9.70s/it]"
     ]
    },
    {
     "name": "stdout",
     "output_type": "stream",
     "text": [
      "Epoch [193/400], Train Loss: 4.9327, Train_accuracy: 74.79494444858697, Val Loss: 1.6818, Val_accuracy: 74.12668232487044\n"
     ]
    },
    {
     "name": "stderr",
     "output_type": "stream",
     "text": [
      " 48%|██████████████████████████████████████████████████████████████████████████████████▍                                                                                       | 194/400 [31:22<32:55,  9.59s/it]"
     ]
    },
    {
     "name": "stdout",
     "output_type": "stream",
     "text": [
      "Epoch [194/400], Train Loss: 4.9272, Train_accuracy: 74.81420724281062, Val Loss: 1.6803, Val_accuracy: 74.14159489989935\n",
      "Model saved.\n"
     ]
    },
    {
     "name": "stderr",
     "output_type": "stream",
     "text": [
      " 49%|██████████████████████████████████████████████████████████████████████████████████▉                                                                                       | 195/400 [31:32<33:09,  9.70s/it]"
     ]
    },
    {
     "name": "stdout",
     "output_type": "stream",
     "text": [
      "Epoch [195/400], Train Loss: 4.9218, Train_accuracy: 74.82414933015187, Val Loss: 1.6788, Val_accuracy: 74.18446855310741\n",
      "Model saved.\n"
     ]
    },
    {
     "name": "stderr",
     "output_type": "stream",
     "text": [
      " 49%|███████████████████████████████████████████████████████████████████████████████████▎                                                                                      | 196/400 [31:42<33:07,  9.74s/it]"
     ]
    },
    {
     "name": "stdout",
     "output_type": "stream",
     "text": [
      "Epoch [196/400], Train Loss: 4.9163, Train_accuracy: 74.86888872318744, Val Loss: 1.6772, Val_accuracy: 74.18819669686464\n",
      "Model saved.\n"
     ]
    },
    {
     "name": "stderr",
     "output_type": "stream",
     "text": [
      " 49%|███████████████████████████████████████████████████████████████████████████████████▋                                                                                      | 197/400 [31:51<32:32,  9.62s/it]"
     ]
    },
    {
     "name": "stdout",
     "output_type": "stream",
     "text": [
      "Epoch [197/400], Train Loss: 4.9110, Train_accuracy: 74.8999577461288, Val Loss: 1.6757, Val_accuracy: 74.21988591880103\n",
      "Model saved.\n"
     ]
    },
    {
     "name": "stderr",
     "output_type": "stream",
     "text": [
      " 50%|████████████████████████████████████████████████████████████████████████████████████▏                                                                                     | 198/400 [32:01<32:44,  9.72s/it]"
     ]
    },
    {
     "name": "stdout",
     "output_type": "stream",
     "text": [
      "Epoch [198/400], Train Loss: 4.9056, Train_accuracy: 74.92170606218775, Val Loss: 1.6742, Val_accuracy: 74.24971106885882\n",
      "Model saved.\n"
     ]
    },
    {
     "name": "stderr",
     "output_type": "stream",
     "text": [
      " 50%|████████████████████████████████████████████████████████████████████████████████████▌                                                                                     | 199/400 [32:11<32:43,  9.77s/it]"
     ]
    },
    {
     "name": "stdout",
     "output_type": "stream",
     "text": [
      "Epoch [199/400], Train Loss: 4.9002, Train_accuracy: 74.94283299778789, Val Loss: 1.6727, Val_accuracy: 74.3093613689744\n",
      "Model saved.\n"
     ]
    },
    {
     "name": "stderr",
     "output_type": "stream",
     "text": [
      " 50%|█████████████████████████████████████████████████████████████████████████████████████                                                                                     | 200/400 [32:20<32:10,  9.65s/it]"
     ]
    },
    {
     "name": "stdout",
     "output_type": "stream",
     "text": [
      "Epoch [200/400], Train Loss: 4.8949, Train_accuracy: 74.95339646558796, Val Loss: 1.6713, Val_accuracy: 74.34477873466801\n",
      "Model saved.\n"
     ]
    },
    {
     "name": "stderr",
     "output_type": "stream",
     "text": [
      " 50%|█████████████████████████████████████████████████████████████████████████████████████▍                                                                                    | 201/400 [32:30<32:17,  9.74s/it]"
     ]
    },
    {
     "name": "stdout",
     "output_type": "stream",
     "text": [
      "Epoch [201/400], Train Loss: 4.8896, Train_accuracy: 74.99192205403524, Val Loss: 1.6698, Val_accuracy: 74.38019610036163\n",
      "Model saved.\n"
     ]
    },
    {
     "name": "stderr",
     "output_type": "stream",
     "text": [
      " 50%|█████████████████████████████████████████████████████████████████████████████████████▊                                                                                    | 202/400 [32:40<32:19,  9.80s/it]"
     ]
    },
    {
     "name": "stdout",
     "output_type": "stream",
     "text": [
      "Epoch [202/400], Train Loss: 4.8843, Train_accuracy: 75.00869932642358, Val Loss: 1.6683, Val_accuracy: 74.4081571785408\n",
      "Model saved.\n"
     ]
    },
    {
     "name": "stderr",
     "output_type": "stream",
     "text": [
      " 51%|██████████████████████████████████████████████████████████████████████████████████████▎                                                                                   | 203/400 [32:50<31:45,  9.67s/it]"
     ]
    },
    {
     "name": "stdout",
     "output_type": "stream",
     "text": [
      "Epoch [203/400], Train Loss: 4.8791, Train_accuracy: 75.03231178385902, Val Loss: 1.6669, Val_accuracy: 74.41374939417663\n",
      "Model saved.\n"
     ]
    },
    {
     "name": "stderr",
     "output_type": "stream",
     "text": [
      " 51%|██████████████████████████████████████████████████████████████████████████████████████▋                                                                                   | 204/400 [33:00<31:48,  9.74s/it]"
     ]
    },
    {
     "name": "stdout",
     "output_type": "stream",
     "text": [
      "Epoch [204/400], Train Loss: 4.8739, Train_accuracy: 75.06773047001218, Val Loss: 1.6654, Val_accuracy: 74.4547589755061\n",
      "Model saved.\n"
     ]
    },
    {
     "name": "stderr",
     "output_type": "stream",
     "text": [
      " 51%|███████████████████████████████████████████████████████████████████████████████████████                                                                                   | 205/400 [33:09<31:45,  9.77s/it]"
     ]
    },
    {
     "name": "stdout",
     "output_type": "stream",
     "text": [
      "Epoch [205/400], Train Loss: 4.8687, Train_accuracy: 75.09444982974175, Val Loss: 1.6640, Val_accuracy: 74.46594340677777\n",
      "Model saved.\n"
     ]
    },
    {
     "name": "stderr",
     "output_type": "stream",
     "text": [
      " 52%|███████████████████████████████████████████████████████████████████████████████████████▌                                                                                  | 206/400 [33:19<31:11,  9.65s/it]"
     ]
    },
    {
     "name": "stdout",
     "output_type": "stream",
     "text": [
      "Epoch [206/400], Train Loss: 4.8635, Train_accuracy: 75.10874158029478, Val Loss: 1.6626, Val_accuracy: 74.49017634119971\n",
      "Model saved.\n"
     ]
    },
    {
     "name": "stderr",
     "output_type": "stream",
     "text": [
      " 52%|███████████████████████████████████████████████████████████████████████████████████████▉                                                                                  | 207/400 [33:29<31:16,  9.72s/it]"
     ]
    },
    {
     "name": "stdout",
     "output_type": "stream",
     "text": [
      "Epoch [207/400], Train Loss: 4.8583, Train_accuracy: 75.13608232048318, Val Loss: 1.6611, Val_accuracy: 74.49949670059277\n",
      "Model saved.\n"
     ]
    },
    {
     "name": "stderr",
     "output_type": "stream",
     "text": [
      " 52%|████████████████████████████████████████████████████████████████████████████████████████▍                                                                                 | 208/400 [33:39<31:14,  9.76s/it]"
     ]
    },
    {
     "name": "stdout",
     "output_type": "stream",
     "text": [
      "Epoch [208/400], Train Loss: 4.8532, Train_accuracy: 75.1522382124127, Val Loss: 1.6597, Val_accuracy: 74.51627334750027\n",
      "Model saved.\n"
     ]
    },
    {
     "name": "stderr",
     "output_type": "stream",
     "text": [
      " 52%|████████████████████████████████████████████████████████████████████████████████████████▊                                                                                 | 209/400 [33:48<30:39,  9.63s/it]"
     ]
    },
    {
     "name": "stdout",
     "output_type": "stream",
     "text": [
      "Epoch [209/400], Train Loss: 4.8481, Train_accuracy: 75.16777272388337, Val Loss: 1.6583, Val_accuracy: 74.53864221004362\n",
      "Model saved.\n"
     ]
    },
    {
     "name": "stderr",
     "output_type": "stream",
     "text": [
      " 52%|█████████████████████████████████████████████████████████████████████████████████████████▎                                                                                | 210/400 [33:58<30:48,  9.73s/it]"
     ]
    },
    {
     "name": "stdout",
     "output_type": "stream",
     "text": [
      "Epoch [210/400], Train Loss: 4.8430, Train_accuracy: 75.18827827902469, Val Loss: 1.6569, Val_accuracy: 74.536778138165\n"
     ]
    },
    {
     "name": "stderr",
     "output_type": "stream",
     "text": [
      " 53%|█████████████████████████████████████████████████████████████████████████████████████████▋                                                                                | 211/400 [34:08<30:50,  9.79s/it]"
     ]
    },
    {
     "name": "stdout",
     "output_type": "stream",
     "text": [
      "Epoch [211/400], Train Loss: 4.8379, Train_accuracy: 75.22556110655432, Val Loss: 1.6555, Val_accuracy: 74.54609849755806\n",
      "Model saved.\n"
     ]
    },
    {
     "name": "stderr",
     "output_type": "stream",
     "text": [
      " 53%|██████████████████████████████████████████████████████████████████████████████████████████                                                                                | 212/400 [34:17<30:16,  9.66s/it]"
     ]
    },
    {
     "name": "stdout",
     "output_type": "stream",
     "text": [
      "Epoch [212/400], Train Loss: 4.8329, Train_accuracy: 75.24668804215445, Val Loss: 1.6542, Val_accuracy: 74.57592364761585\n",
      "Model saved.\n"
     ]
    },
    {
     "name": "stderr",
     "output_type": "stream",
     "text": [
      " 53%|██████████████████████████████████████████████████████████████████████████████████████████▌                                                                               | 213/400 [34:27<30:19,  9.73s/it]"
     ]
    },
    {
     "name": "stdout",
     "output_type": "stream",
     "text": [
      "Epoch [213/400], Train Loss: 4.8279, Train_accuracy: 75.27216464096637, Val Loss: 1.6528, Val_accuracy: 74.58524400700891\n",
      "Model saved.\n"
     ]
    },
    {
     "name": "stderr",
     "output_type": "stream",
     "text": [
      " 54%|██████████████████████████████████████████████████████████████████████████████████████████▉                                                                               | 214/400 [34:37<30:16,  9.77s/it]"
     ]
    },
    {
     "name": "stdout",
     "output_type": "stream",
     "text": [
      "Epoch [214/400], Train Loss: 4.8229, Train_accuracy: 75.28086396738995, Val Loss: 1.6514, Val_accuracy: 74.60574879767364\n",
      "Model saved.\n"
     ]
    },
    {
     "name": "stderr",
     "output_type": "stream",
     "text": [
      " 54%|███████████████████████████████████████████████████████████████████████████████████████████▍                                                                              | 215/400 [34:46<29:43,  9.64s/it]"
     ]
    },
    {
     "name": "stdout",
     "output_type": "stream",
     "text": [
      "Epoch [215/400], Train Loss: 4.8179, Train_accuracy: 75.30634056620187, Val Loss: 1.6501, Val_accuracy: 74.6318458039742\n",
      "Model saved.\n"
     ]
    },
    {
     "name": "stderr",
     "output_type": "stream",
     "text": [
      " 54%|███████████████████████████████████████████████████████████████████████████████████████████▊                                                                              | 216/400 [34:56<29:47,  9.71s/it]"
     ]
    },
    {
     "name": "stdout",
     "output_type": "stream",
     "text": [
      "Epoch [216/400], Train Loss: 4.8129, Train_accuracy: 75.33989511097855, Val Loss: 1.6487, Val_accuracy: 74.65235059463893\n",
      "Model saved.\n"
     ]
    },
    {
     "name": "stderr",
     "output_type": "stream",
     "text": [
      " 54%|████████████████████████████████████████████████████████████████████████████████████████████▏                                                                             | 217/400 [35:06<29:45,  9.76s/it]"
     ]
    },
    {
     "name": "stdout",
     "output_type": "stream",
     "text": [
      "Epoch [217/400], Train Loss: 4.8080, Train_accuracy: 75.36412894887282, Val Loss: 1.6474, Val_accuracy: 74.68590388845394\n",
      "Model saved.\n"
     ]
    },
    {
     "name": "stderr",
     "output_type": "stream",
     "text": [
      " 55%|████████████████████████████████████████████████████████████████████████████████████████████▋                                                                             | 218/400 [35:15<29:18,  9.66s/it]"
     ]
    },
    {
     "name": "stdout",
     "output_type": "stream",
     "text": [
      "Epoch [218/400], Train Loss: 4.8031, Train_accuracy: 75.37593517759053, Val Loss: 1.6460, Val_accuracy: 74.69336017596838\n",
      "Model saved.\n"
     ]
    },
    {
     "name": "stderr",
     "output_type": "stream",
     "text": [
      " 55%|█████████████████████████████████████████████████████████████████████████████████████████████                                                                             | 219/400 [35:25<29:24,  9.75s/it]"
     ]
    },
    {
     "name": "stdout",
     "output_type": "stream",
     "text": [
      "Epoch [219/400], Train Loss: 4.7982, Train_accuracy: 75.39892625456714, Val Loss: 1.6447, Val_accuracy: 74.68403981657532\n"
     ]
    },
    {
     "name": "stderr",
     "output_type": "stream",
     "text": [
      " 55%|█████████████████████████████████████████████████████████████████████████████████████████████▌                                                                            | 220/400 [35:35<29:22,  9.79s/it]"
     ]
    },
    {
     "name": "stdout",
     "output_type": "stream",
     "text": [
      "Epoch [220/400], Train Loss: 4.7933, Train_accuracy: 75.42191733154375, Val Loss: 1.6434, Val_accuracy: 74.70081646348284\n",
      "Model saved.\n"
     ]
    },
    {
     "name": "stderr",
     "output_type": "stream",
     "text": [
      " 55%|█████████████████████████████████████████████████████████████████████████████████████████████▉                                                                            | 221/400 [35:45<28:52,  9.68s/it]"
     ]
    },
    {
     "name": "stdout",
     "output_type": "stream",
     "text": [
      "Epoch [221/400], Train Loss: 4.7884, Train_accuracy: 75.4455297889792, Val Loss: 1.6420, Val_accuracy: 74.70640867911867\n",
      "Model saved.\n"
     ]
    },
    {
     "name": "stderr",
     "output_type": "stream",
     "text": [
      " 56%|██████████████████████████████████████████████████████████████████████████████████████████████▎                                                                           | 222/400 [35:55<28:59,  9.77s/it]"
     ]
    },
    {
     "name": "stdout",
     "output_type": "stream",
     "text": [
      "Epoch [222/400], Train Loss: 4.7836, Train_accuracy: 75.46354982228519, Val Loss: 1.6407, Val_accuracy: 74.72318532602617\n",
      "Model saved.\n"
     ]
    },
    {
     "name": "stderr",
     "output_type": "stream",
     "text": [
      " 56%|██████████████████████████████████████████████████████████████████████████████████████████████▊                                                                           | 223/400 [36:05<28:57,  9.82s/it]"
     ]
    },
    {
     "name": "stdout",
     "output_type": "stream",
     "text": [
      "Epoch [223/400], Train Loss: 4.7788, Train_accuracy: 75.48902642109711, Val Loss: 1.6394, Val_accuracy: 74.73064161354061\n",
      "Model saved.\n"
     ]
    },
    {
     "name": "stderr",
     "output_type": "stream",
     "text": [
      " 56%|███████████████████████████████████████████████████████████████████████████████████████████████▏                                                                          | 224/400 [36:14<28:28,  9.71s/it]"
     ]
    },
    {
     "name": "stdout",
     "output_type": "stream",
     "text": [
      "Epoch [224/400], Train Loss: 4.7740, Train_accuracy: 75.51636716128552, Val Loss: 1.6381, Val_accuracy: 74.75673861984119\n",
      "Model saved.\n"
     ]
    },
    {
     "name": "stderr",
     "output_type": "stream",
     "text": [
      " 56%|███████████████████████████████████████████████████████████████████████████████████████████████▋                                                                          | 225/400 [36:24<28:32,  9.79s/it]"
     ]
    },
    {
     "name": "stdout",
     "output_type": "stream",
     "text": [
      "Epoch [225/400], Train Loss: 4.7692, Train_accuracy: 75.53500857505033, Val Loss: 1.6368, Val_accuracy: 74.76978712299146\n",
      "Model saved.\n"
     ]
    },
    {
     "name": "stderr",
     "output_type": "stream",
     "text": [
      " 56%|████████████████████████████████████████████████████████████████████████████████████████████████                                                                          | 226/400 [36:34<28:28,  9.82s/it]"
     ]
    },
    {
     "name": "stdout",
     "output_type": "stream",
     "text": [
      "Epoch [226/400], Train Loss: 4.7644, Train_accuracy: 75.55613551065046, Val Loss: 1.6355, Val_accuracy: 74.78656376989896\n",
      "Model saved.\n"
     ]
    },
    {
     "name": "stderr",
     "output_type": "stream",
     "text": [
      " 57%|████████████████████████████████████████████████████████████████████████████████████████████████▍                                                                         | 227/400 [36:43<27:57,  9.70s/it]"
     ]
    },
    {
     "name": "stdout",
     "output_type": "stream",
     "text": [
      "Epoch [227/400], Train Loss: 4.7597, Train_accuracy: 75.57229140257998, Val Loss: 1.6343, Val_accuracy: 74.80147634492786\n",
      "Model saved.\n"
     ]
    },
    {
     "name": "stderr",
     "output_type": "stream",
     "text": [
      " 57%|████████████████████████████████████████████████████████████████████████████████████████████████▉                                                                         | 228/400 [36:53<28:00,  9.77s/it]"
     ]
    },
    {
     "name": "stdout",
     "output_type": "stream",
     "text": [
      "Epoch [228/400], Train Loss: 4.7550, Train_accuracy: 75.58099072900356, Val Loss: 1.6330, Val_accuracy: 74.81079670432092\n",
      "Model saved.\n"
     ]
    },
    {
     "name": "stderr",
     "output_type": "stream",
     "text": [
      " 57%|█████████████████████████████████████████████████████████████████████████████████████████████████▎                                                                        | 229/400 [37:03<27:58,  9.82s/it]"
     ]
    },
    {
     "name": "stdout",
     "output_type": "stream",
     "text": [
      "Epoch [229/400], Train Loss: 4.7503, Train_accuracy: 75.59217557726245, Val Loss: 1.6317, Val_accuracy: 74.81638891995675\n",
      "Model saved.\n"
     ]
    },
    {
     "name": "stderr",
     "output_type": "stream",
     "text": [
      " 57%|█████████████████████████████████████████████████████████████████████████████████████████████████▋                                                                        | 230/400 [37:13<27:28,  9.69s/it]"
     ]
    },
    {
     "name": "stdout",
     "output_type": "stream",
     "text": [
      "Epoch [230/400], Train Loss: 4.7456, Train_accuracy: 75.604603186439, Val Loss: 1.6305, Val_accuracy: 74.84807814189315\n",
      "Model saved.\n"
     ]
    },
    {
     "name": "stderr",
     "output_type": "stream",
     "text": [
      " 58%|██████████████████████████████████████████████████████████████████████████████████████████████████▏                                                                       | 231/400 [37:23<27:33,  9.78s/it]"
     ]
    },
    {
     "name": "stdout",
     "output_type": "stream",
     "text": [
      "Epoch [231/400], Train Loss: 4.7409, Train_accuracy: 75.62386598066264, Val Loss: 1.6292, Val_accuracy: 74.87976736382954\n",
      "Model saved.\n"
     ]
    },
    {
     "name": "stderr",
     "output_type": "stream",
     "text": [
      " 58%|██████████████████████████████████████████████████████████████████████████████████████████████████▌                                                                       | 232/400 [37:32<27:27,  9.81s/it]"
     ]
    },
    {
     "name": "stdout",
     "output_type": "stream",
     "text": [
      "Epoch [232/400], Train Loss: 4.7363, Train_accuracy: 75.64250739442745, Val Loss: 1.6280, Val_accuracy: 74.90772844200872\n",
      "Model saved.\n"
     ]
    },
    {
     "name": "stderr",
     "output_type": "stream",
     "text": [
      " 58%|███████████████████████████████████████████████████████████████████████████████████████████████████                                                                       | 233/400 [37:42<26:57,  9.69s/it]"
     ]
    },
    {
     "name": "stdout",
     "output_type": "stream",
     "text": [
      "Epoch [233/400], Train Loss: 4.7316, Train_accuracy: 75.65058534039221, Val Loss: 1.6267, Val_accuracy: 74.920776945159\n",
      "Model saved.\n"
     ]
    },
    {
     "name": "stderr",
     "output_type": "stream",
     "text": [
      " 58%|███████████████████████████████████████████████████████████████████████████████████████████████████▍                                                                      | 234/400 [37:52<26:59,  9.76s/it]"
     ]
    },
    {
     "name": "stdout",
     "output_type": "stream",
     "text": [
      "Epoch [234/400], Train Loss: 4.7270, Train_accuracy: 75.67171227599235, Val Loss: 1.6255, Val_accuracy: 74.94314580770235\n",
      "Model saved.\n"
     ]
    },
    {
     "name": "stderr",
     "output_type": "stream",
     "text": [
      " 59%|███████████████████████████████████████████████████████████████████████████████████████████████████▉                                                                      | 235/400 [38:02<26:56,  9.80s/it]"
     ]
    },
    {
     "name": "stdout",
     "output_type": "stream",
     "text": [
      "Epoch [235/400], Train Loss: 4.7224, Train_accuracy: 75.68103298287475, Val Loss: 1.6243, Val_accuracy: 74.95992245460985\n",
      "Model saved.\n"
     ]
    },
    {
     "name": "stderr",
     "output_type": "stream",
     "text": [
      " 59%|████████████████████████████████████████████████████████████████████████████████████████████████████▎                                                                     | 236/400 [38:11<26:28,  9.69s/it]"
     ]
    },
    {
     "name": "stdout",
     "output_type": "stream",
     "text": [
      "Epoch [236/400], Train Loss: 4.7179, Train_accuracy: 75.71645166902792, Val Loss: 1.6231, Val_accuracy: 74.95805838273124\n"
     ]
    },
    {
     "name": "stderr",
     "output_type": "stream",
     "text": [
      " 59%|████████████████████████████████████████████████████████████████████████████████████████████████████▋                                                                     | 237/400 [38:21<26:31,  9.77s/it]"
     ]
    },
    {
     "name": "stdout",
     "output_type": "stream",
     "text": [
      "Epoch [237/400], Train Loss: 4.7133, Train_accuracy: 75.74938483334576, Val Loss: 1.6218, Val_accuracy: 74.97297095776013\n",
      "Model saved.\n"
     ]
    },
    {
     "name": "stderr",
     "output_type": "stream",
     "text": [
      " 60%|█████████████████████████████████████████████████████████████████████████████████████████████████████▏                                                                    | 238/400 [38:31<26:26,  9.79s/it]"
     ]
    },
    {
     "name": "stdout",
     "output_type": "stream",
     "text": [
      "Epoch [238/400], Train Loss: 4.7088, Train_accuracy: 75.76491934481645, Val Loss: 1.6206, Val_accuracy: 74.95992245460985\n"
     ]
    },
    {
     "name": "stderr",
     "output_type": "stream",
     "text": [
      " 60%|█████████████████████████████████████████████████████████████████████████████████████████████████████▌                                                                    | 239/400 [38:40<25:52,  9.64s/it]"
     ]
    },
    {
     "name": "stdout",
     "output_type": "stream",
     "text": [
      "Epoch [239/400], Train Loss: 4.7042, Train_accuracy: 75.78169661720479, Val Loss: 1.6194, Val_accuracy: 74.98788353278903\n",
      "Model saved.\n"
     ]
    },
    {
     "name": "stderr",
     "output_type": "stream",
     "text": [
      " 60%|██████████████████████████████████████████████████████████████████████████████████████████████████████                                                                    | 240/400 [38:50<25:55,  9.72s/it]"
     ]
    },
    {
     "name": "stdout",
     "output_type": "stream",
     "text": [
      "Epoch [240/400], Train Loss: 4.6997, Train_accuracy: 75.79536698729898, Val Loss: 1.6182, Val_accuracy: 75.02516497036126\n",
      "Model saved.\n"
     ]
    },
    {
     "name": "stderr",
     "output_type": "stream",
     "text": [
      " 60%|██████████████████████████████████████████████████████████████████████████████████████████████████████▍                                                                   | 241/400 [39:00<25:53,  9.77s/it]"
     ]
    },
    {
     "name": "stdout",
     "output_type": "stream",
     "text": [
      "Epoch [241/400], Train Loss: 4.6952, Train_accuracy: 75.80530907464022, Val Loss: 1.6170, Val_accuracy: 75.02143682660403\n"
     ]
    },
    {
     "name": "stderr",
     "output_type": "stream",
     "text": [
      " 60%|██████████████████████████████████████████████████████████████████████████████████████████████████████▊                                                                   | 242/400 [39:09<25:24,  9.65s/it]"
     ]
    },
    {
     "name": "stdout",
     "output_type": "stream",
     "text": [
      "Epoch [242/400], Train Loss: 4.6908, Train_accuracy: 75.82146496656974, Val Loss: 1.6159, Val_accuracy: 75.03448532975432\n",
      "Model saved.\n"
     ]
    },
    {
     "name": "stderr",
     "output_type": "stream",
     "text": [
      " 61%|███████████████████████████████████████████████████████████████████████████████████████████████████████▎                                                                  | 243/400 [39:19<25:29,  9.74s/it]"
     ]
    },
    {
     "name": "stdout",
     "output_type": "stream",
     "text": [
      "Epoch [243/400], Train Loss: 4.6863, Train_accuracy: 75.84383466308752, Val Loss: 1.6147, Val_accuracy: 75.05499012041905\n",
      "Model saved.\n"
     ]
    },
    {
     "name": "stderr",
     "output_type": "stream",
     "text": [
      " 61%|███████████████████████████████████████████████████████████████████████████████████████████████████████▋                                                                  | 244/400 [39:29<25:26,  9.78s/it]"
     ]
    },
    {
     "name": "stdout",
     "output_type": "stream",
     "text": [
      "Epoch [244/400], Train Loss: 4.6819, Train_accuracy: 75.85004846767579, Val Loss: 1.6135, Val_accuracy: 75.04753383290459\n"
     ]
    },
    {
     "name": "stderr",
     "output_type": "stream",
     "text": [
      " 61%|████████████████████████████████████████████████████████████████████████████████████████████████████████▏                                                                 | 245/400 [39:38<24:56,  9.65s/it]"
     ]
    },
    {
     "name": "stdout",
     "output_type": "stream",
     "text": [
      "Epoch [245/400], Train Loss: 4.6775, Train_accuracy: 75.86371883777, Val Loss: 1.6123, Val_accuracy: 75.07549491108377\n",
      "Model saved.\n"
     ]
    },
    {
     "name": "stderr",
     "output_type": "stream",
     "text": [
      " 62%|████████████████████████████████████████████████████████████████████████████████████████████████████████▌                                                                 | 246/400 [39:48<24:58,  9.73s/it]"
     ]
    },
    {
     "name": "stdout",
     "output_type": "stream",
     "text": [
      "Epoch [246/400], Train Loss: 4.6731, Train_accuracy: 75.88733129520543, Val Loss: 1.6112, Val_accuracy: 75.08295119859822\n",
      "Model saved.\n"
     ]
    },
    {
     "name": "stderr",
     "output_type": "stream",
     "text": [
      " 62%|████████████████████████████████████████████████████████████████████████████████████████████████████████▉                                                                 | 247/400 [39:58<24:54,  9.77s/it]"
     ]
    },
    {
     "name": "stdout",
     "output_type": "stream",
     "text": [
      "Epoch [247/400], Train Loss: 4.6687, Train_accuracy: 75.89478786071136, Val Loss: 1.6100, Val_accuracy: 75.11464042053461\n",
      "Model saved.\n"
     ]
    },
    {
     "name": "stderr",
     "output_type": "stream",
     "text": [
      " 62%|█████████████████████████████████████████████████████████████████████████████████████████████████████████▍                                                                | 248/400 [40:08<24:25,  9.64s/it]"
     ]
    },
    {
     "name": "stdout",
     "output_type": "stream",
     "text": [
      "Epoch [248/400], Train Loss: 4.6643, Train_accuracy: 75.90845823080556, Val Loss: 1.6089, Val_accuracy: 75.12023263617046\n",
      "Model saved.\n"
     ]
    },
    {
     "name": "stderr",
     "output_type": "stream",
     "text": [
      " 62%|█████████████████████████████████████████████████████████████████████████████████████████████████████████▊                                                                | 249/400 [40:17<24:26,  9.71s/it]"
     ]
    },
    {
     "name": "stdout",
     "output_type": "stream",
     "text": [
      "Epoch [249/400], Train Loss: 4.6600, Train_accuracy: 75.91777893768797, Val Loss: 1.6077, Val_accuracy: 75.1444655705924\n",
      "Model saved.\n"
     ]
    },
    {
     "name": "stderr",
     "output_type": "stream",
     "text": [
      " 62%|██████████████████████████████████████████████████████████████████████████████████████████████████████████▎                                                               | 250/400 [40:27<24:23,  9.76s/it]"
     ]
    },
    {
     "name": "stdout",
     "output_type": "stream",
     "text": [
      "Epoch [250/400], Train Loss: 4.6556, Train_accuracy: 75.92709964457038, Val Loss: 1.6066, Val_accuracy: 75.1761547925288\n",
      "Model saved.\n"
     ]
    },
    {
     "name": "stderr",
     "output_type": "stream",
     "text": [
      " 63%|██████████████████████████████████████████████████████████████████████████████████████████████████████████▋                                                               | 251/400 [40:37<23:55,  9.64s/it]"
     ]
    },
    {
     "name": "stdout",
     "output_type": "stream",
     "text": [
      "Epoch [251/400], Train Loss: 4.6513, Train_accuracy: 75.94822658017051, Val Loss: 1.6054, Val_accuracy: 75.18361108004325\n",
      "Model saved.\n"
     ]
    },
    {
     "name": "stderr",
     "output_type": "stream",
     "text": [
      " 63%|███████████████████████████████████████████████████████████████████████████████████████████████████████████                                                               | 252/400 [40:47<23:56,  9.70s/it]"
     ]
    },
    {
     "name": "stdout",
     "output_type": "stream",
     "text": [
      "Epoch [252/400], Train Loss: 4.6470, Train_accuracy: 75.97246041806477, Val Loss: 1.6043, Val_accuracy: 75.18547515192186\n",
      "Model saved.\n"
     ]
    },
    {
     "name": "stderr",
     "output_type": "stream",
     "text": [
      " 63%|███████████████████████████████████████████████████████████████████████████████████████████████████████████▌                                                              | 253/400 [40:56<23:52,  9.75s/it]"
     ]
    },
    {
     "name": "stdout",
     "output_type": "stream",
     "text": [
      "Epoch [253/400], Train Loss: 4.6427, Train_accuracy: 75.99048045137077, Val Loss: 1.6032, Val_accuracy: 75.21343623010104\n",
      "Model saved.\n"
     ]
    },
    {
     "name": "stderr",
     "output_type": "stream",
     "text": [
      " 64%|███████████████████████████████████████████████████████████████████████████████████████████████████████████▉                                                              | 254/400 [41:06<23:24,  9.62s/it]"
     ]
    },
    {
     "name": "stdout",
     "output_type": "stream",
     "text": [
      "Epoch [254/400], Train Loss: 4.6384, Train_accuracy: 76.0209280938533, Val Loss: 1.6021, Val_accuracy: 75.24326138015881\n",
      "Model saved.\n"
     ]
    },
    {
     "name": "stderr",
     "output_type": "stream",
     "text": [
      " 64%|████████████████████████████████████████████████████████████████████████████████████████████████████████████▎                                                             | 255/400 [41:16<23:29,  9.72s/it]"
     ]
    },
    {
     "name": "stdout",
     "output_type": "stream",
     "text": [
      "Epoch [255/400], Train Loss: 4.6342, Train_accuracy: 76.0389481271593, Val Loss: 1.6009, Val_accuracy: 75.26190209894493\n",
      "Model saved.\n"
     ]
    },
    {
     "name": "stderr",
     "output_type": "stream",
     "text": [
      " 64%|████████████████████████████████████████████████████████████████████████████████████████████████████████████▊                                                             | 256/400 [41:26<23:26,  9.77s/it]"
     ]
    },
    {
     "name": "stdout",
     "output_type": "stream",
     "text": [
      "Epoch [256/400], Train Loss: 4.6299, Train_accuracy: 76.05572539954764, Val Loss: 1.5998, Val_accuracy: 75.29172724900272\n",
      "Model saved.\n"
     ]
    },
    {
     "name": "stderr",
     "output_type": "stream",
     "text": [
      " 64%|█████████████████████████████████████████████████████████████████████████████████████████████████████████████▏                                                            | 257/400 [41:35<23:00,  9.65s/it]"
     ]
    },
    {
     "name": "stdout",
     "output_type": "stream",
     "text": [
      "Epoch [257/400], Train Loss: 4.6257, Train_accuracy: 76.07125991101832, Val Loss: 1.5987, Val_accuracy: 75.304775752153\n",
      "Model saved.\n"
     ]
    },
    {
     "name": "stderr",
     "output_type": "stream",
     "text": [
      " 64%|█████████████████████████████████████████████████████████████████████████████████████████████████████████████▋                                                            | 258/400 [41:45<23:03,  9.74s/it]"
     ]
    },
    {
     "name": "stdout",
     "output_type": "stream",
     "text": [
      "Epoch [258/400], Train Loss: 4.6215, Train_accuracy: 76.08058061790072, Val Loss: 1.5976, Val_accuracy: 75.31782425530328\n",
      "Model saved.\n"
     ]
    },
    {
     "name": "stderr",
     "output_type": "stream",
     "text": [
      " 65%|██████████████████████████████████████████████████████████████████████████████████████████████████████████████                                                            | 259/400 [41:55<23:02,  9.81s/it]"
     ]
    },
    {
     "name": "stdout",
     "output_type": "stream",
     "text": [
      "Epoch [259/400], Train Loss: 4.6173, Train_accuracy: 76.10170755350086, Val Loss: 1.5965, Val_accuracy: 75.3364649740894\n",
      "Model saved.\n"
     ]
    },
    {
     "name": "stderr",
     "output_type": "stream",
     "text": [
      " 65%|██████████████████████████████████████████████████████████████████████████████████████████████████████████████▌                                                           | 260/400 [42:04<22:37,  9.69s/it]"
     ]
    },
    {
     "name": "stdout",
     "output_type": "stream",
     "text": [
      "Epoch [260/400], Train Loss: 4.6131, Train_accuracy: 76.10667859717148, Val Loss: 1.5954, Val_accuracy: 75.34951347723968\n",
      "Model saved.\n"
     ]
    },
    {
     "name": "stderr",
     "output_type": "stream",
     "text": [
      " 65%|██████████████████████████████████████████████████████████████████████████████████████████████████████████████▉                                                           | 261/400 [42:14<22:38,  9.77s/it]"
     ]
    },
    {
     "name": "stdout",
     "output_type": "stream",
     "text": [
      "Epoch [261/400], Train Loss: 4.6090, Train_accuracy: 76.12594139139512, Val Loss: 1.5944, Val_accuracy: 75.37374641166163\n",
      "Model saved.\n"
     ]
    },
    {
     "name": "stderr",
     "output_type": "stream",
     "text": [
      " 66%|███████████████████████████████████████████████████████████████████████████████████████████████████████████████▎                                                          | 262/400 [42:24<22:33,  9.81s/it]"
     ]
    },
    {
     "name": "stdout",
     "output_type": "stream",
     "text": [
      "Epoch [262/400], Train Loss: 4.6048, Train_accuracy: 76.1414759028658, Val Loss: 1.5933, Val_accuracy: 75.37933862729747\n",
      "Model saved.\n"
     ]
    },
    {
     "name": "stderr",
     "output_type": "stream",
     "text": [
      " 66%|███████████████████████████████████████████████████████████████████████████████████████████████████████████████▊                                                          | 263/400 [42:34<22:07,  9.69s/it]"
     ]
    },
    {
     "name": "stdout",
     "output_type": "stream",
     "text": [
      "Epoch [263/400], Train Loss: 4.6007, Train_accuracy: 76.1594959361718, Val Loss: 1.5922, Val_accuracy: 75.41102784923386\n",
      "Model saved.\n"
     ]
    },
    {
     "name": "stderr",
     "output_type": "stream",
     "text": [
      " 66%|████████████████████████████████████████████████████████████████████████████████████████████████████████████████▏                                                         | 264/400 [42:44<22:12,  9.79s/it]"
     ]
    },
    {
     "name": "stdout",
     "output_type": "stream",
     "text": [
      "Epoch [264/400], Train Loss: 4.5966, Train_accuracy: 76.16695250167773, Val Loss: 1.5911, Val_accuracy: 75.41848413674832\n",
      "Model saved.\n"
     ]
    },
    {
     "name": "stderr",
     "output_type": "stream",
     "text": [
      " 66%|████████████████████████████████████████████████████████████████████████████████████████████████████████████████▋                                                         | 265/400 [42:54<22:08,  9.84s/it]"
     ]
    },
    {
     "name": "stdout",
     "output_type": "stream",
     "text": [
      "Epoch [265/400], Train Loss: 4.5925, Train_accuracy: 76.19242910048965, Val Loss: 1.5901, Val_accuracy: 75.42966856801998\n",
      "Model saved.\n"
     ]
    },
    {
     "name": "stderr",
     "output_type": "stream",
     "text": [
      " 66%|█████████████████████████████████████████████████████████████████████████████████████████████████████████████████                                                         | 266/400 [43:03<21:43,  9.73s/it]"
     ]
    },
    {
     "name": "stdout",
     "output_type": "stream",
     "text": [
      "Epoch [266/400], Train Loss: 4.5884, Train_accuracy: 76.21790569930157, Val Loss: 1.5890, Val_accuracy: 75.44458114304888\n",
      "Model saved.\n"
     ]
    },
    {
     "name": "stderr",
     "output_type": "stream",
     "text": [
      " 67%|█████████████████████████████████████████████████████████████████████████████████████████████████████████████████▍                                                        | 267/400 [43:13<21:44,  9.80s/it]"
     ]
    },
    {
     "name": "stdout",
     "output_type": "stream",
     "text": [
      "Epoch [267/400], Train Loss: 4.5843, Train_accuracy: 76.22909054756046, Val Loss: 1.5880, Val_accuracy: 75.47627036498527\n",
      "Model saved.\n"
     ]
    },
    {
     "name": "stderr",
     "output_type": "stream",
     "text": [
      " 67%|█████████████████████████████████████████████████████████████████████████████████████████████████████████████████▉                                                        | 268/400 [43:23<21:38,  9.84s/it]"
     ]
    },
    {
     "name": "stdout",
     "output_type": "stream",
     "text": [
      "Epoch [268/400], Train Loss: 4.5803, Train_accuracy: 76.24524643948997, Val Loss: 1.5869, Val_accuracy: 75.46881407747082\n"
     ]
    },
    {
     "name": "stderr",
     "output_type": "stream",
     "text": [
      " 67%|██████████████████████████████████████████████████████████████████████████████████████████████████████████████████▎                                                       | 269/400 [43:32<21:13,  9.72s/it]"
     ]
    },
    {
     "name": "stdout",
     "output_type": "stream",
     "text": [
      "Epoch [269/400], Train Loss: 4.5762, Train_accuracy: 76.28563616931375, Val Loss: 1.5859, Val_accuracy: 75.47813443686388\n",
      "Model saved.\n"
     ]
    },
    {
     "name": "stderr",
     "output_type": "stream",
     "text": [
      " 68%|██████████████████████████████████████████████████████████████████████████████████████████████████████████████████▊                                                       | 270/400 [43:42<21:14,  9.80s/it]"
     ]
    },
    {
     "name": "stdout",
     "output_type": "stream",
     "text": [
      "Epoch [270/400], Train Loss: 4.5722, Train_accuracy: 76.30552034399622, Val Loss: 1.5848, Val_accuracy: 75.48931886813556\n",
      "Model saved.\n"
     ]
    },
    {
     "name": "stderr",
     "output_type": "stream",
     "text": [
      " 68%|███████████████████████████████████████████████████████████████████████████████████████████████████████████████████▏                                                      | 271/400 [43:52<21:09,  9.84s/it]"
     ]
    },
    {
     "name": "stdout",
     "output_type": "stream",
     "text": [
      "Epoch [271/400], Train Loss: 4.5682, Train_accuracy: 76.32229761638456, Val Loss: 1.5838, Val_accuracy: 75.51914401819334\n",
      "Model saved.\n"
     ]
    },
    {
     "name": "stderr",
     "output_type": "stream",
     "text": [
      " 68%|███████████████████████████████████████████████████████████████████████████████████████████████████████████████████▌                                                      | 272/400 [44:02<20:42,  9.71s/it]"
     ]
    },
    {
     "name": "stdout",
     "output_type": "stream",
     "text": [
      "Epoch [272/400], Train Loss: 4.5642, Train_accuracy: 76.3483955956553, Val Loss: 1.5828, Val_accuracy: 75.5135518025575\n"
     ]
    },
    {
     "name": "stderr",
     "output_type": "stream",
     "text": [
      " 68%|████████████████████████████████████████████████████████████████████████████████████████████████████████████████████                                                      | 273/400 [44:12<20:42,  9.78s/it]"
     ]
    },
    {
     "name": "stdout",
     "output_type": "stream",
     "text": [
      "Epoch [273/400], Train Loss: 4.5602, Train_accuracy: 76.36330872666717, Val Loss: 1.5817, Val_accuracy: 75.54896916825113\n",
      "Model saved.\n"
     ]
    },
    {
     "name": "stderr",
     "output_type": "stream",
     "text": [
      " 68%|████████████████████████████████████████████████████████████████████████████████████████████████████████████████████▍                                                     | 274/400 [44:21<20:34,  9.80s/it]"
     ]
    },
    {
     "name": "stdout",
     "output_type": "stream",
     "text": [
      "Epoch [274/400], Train Loss: 4.5562, Train_accuracy: 76.38381428180847, Val Loss: 1.5807, Val_accuracy: 75.55456138388696\n",
      "Model saved.\n"
     ]
    },
    {
     "name": "stderr",
     "output_type": "stream",
     "text": [
      " 69%|████████████████████████████████████████████████████████████████████████████████████████████████████████████████████▉                                                     | 275/400 [44:31<20:05,  9.65s/it]"
     ]
    },
    {
     "name": "stdout",
     "output_type": "stream",
     "text": [
      "Epoch [275/400], Train Loss: 4.5523, Train_accuracy: 76.40991226107921, Val Loss: 1.5797, Val_accuracy: 75.58438653394475\n",
      "Model saved.\n"
     ]
    },
    {
     "name": "stderr",
     "output_type": "stream",
     "text": [
      " 69%|█████████████████████████████████████████████████████████████████████████████████████████████████████████████████████▎                                                    | 276/400 [44:41<20:04,  9.72s/it]"
     ]
    },
    {
     "name": "stdout",
     "output_type": "stream",
     "text": [
      "Epoch [276/400], Train Loss: 4.5483, Train_accuracy: 76.43166057713817, Val Loss: 1.5787, Val_accuracy: 75.59743503709502\n",
      "Model saved.\n"
     ]
    },
    {
     "name": "stderr",
     "output_type": "stream",
     "text": [
      " 69%|█████████████████████████████████████████████████████████████████████████████████████████████████████████████████████▋                                                    | 277/400 [44:50<19:58,  9.74s/it]"
     ]
    },
    {
     "name": "stdout",
     "output_type": "stream",
     "text": [
      "Epoch [277/400], Train Loss: 4.5444, Train_accuracy: 76.4416026644794, Val Loss: 1.5777, Val_accuracy: 75.60489132460948\n",
      "Model saved.\n"
     ]
    },
    {
     "name": "stderr",
     "output_type": "stream",
     "text": [
      " 70%|██████████████████████████████████████████████████████████████████████████████████████████████████████████████████████▏                                                   | 278/400 [45:00<19:33,  9.62s/it]"
     ]
    },
    {
     "name": "stdout",
     "output_type": "stream",
     "text": [
      "Epoch [278/400], Train Loss: 4.5405, Train_accuracy: 76.45651579549126, Val Loss: 1.5767, Val_accuracy: 75.61980389963837\n",
      "Model saved.\n"
     ]
    },
    {
     "name": "stderr",
     "output_type": "stream",
     "text": [
      " 70%|██████████████████████████████████████████████████████████████████████████████████████████████████████████████████████▌                                                   | 279/400 [45:10<19:33,  9.70s/it]"
     ]
    },
    {
     "name": "stdout",
     "output_type": "stream",
     "text": [
      "Epoch [279/400], Train Loss: 4.5366, Train_accuracy: 76.48137101384435, Val Loss: 1.5757, Val_accuracy: 75.6403086903031\n",
      "Model saved.\n"
     ]
    },
    {
     "name": "stderr",
     "output_type": "stream",
     "text": [
      " 70%|██████████████████████████████████████████████████████████████████████████████████████████████████████████████████████▉                                                   | 280/400 [45:19<19:28,  9.73s/it]"
     ]
    },
    {
     "name": "stdout",
     "output_type": "stream",
     "text": [
      "Epoch [280/400], Train Loss: 4.5327, Train_accuracy: 76.51492555862103, Val Loss: 1.5747, Val_accuracy: 75.65894940908922\n",
      "Model saved.\n"
     ]
    },
    {
     "name": "stderr",
     "output_type": "stream",
     "text": [
      " 70%|███████████████████████████████████████████████████████████████████████████████████████████████████████████████████████▍                                                  | 281/400 [45:29<19:03,  9.61s/it]"
     ]
    },
    {
     "name": "stdout",
     "output_type": "stream",
     "text": [
      "Epoch [281/400], Train Loss: 4.5289, Train_accuracy: 76.53729525513882, Val Loss: 1.5737, Val_accuracy: 75.66826976848228\n",
      "Model saved.\n"
     ]
    },
    {
     "name": "stderr",
     "output_type": "stream",
     "text": [
      " 70%|███████████████████████████████████████████████████████████████████████████████████████████████████████████████████████▊                                                  | 282/400 [45:39<19:03,  9.69s/it]"
     ]
    },
    {
     "name": "stdout",
     "output_type": "stream",
     "text": [
      "Epoch [282/400], Train Loss: 4.5250, Train_accuracy: 76.55780081028011, Val Loss: 1.5727, Val_accuracy: 75.67945419975395\n",
      "Model saved.\n"
     ]
    },
    {
     "name": "stderr",
     "output_type": "stream",
     "text": [
      " 71%|████████████████████████████████████████████████████████████████████████████████████████████████████████████████████████▎                                                 | 283/400 [45:49<19:00,  9.75s/it]"
     ]
    },
    {
     "name": "stdout",
     "output_type": "stream",
     "text": [
      "Epoch [283/400], Train Loss: 4.5212, Train_accuracy: 76.568985658539, Val Loss: 1.5717, Val_accuracy: 75.69250270290422\n",
      "Model saved.\n"
     ]
    },
    {
     "name": "stderr",
     "output_type": "stream",
     "text": [
      " 71%|████████████████████████████████████████████████████████████████████████████████████████████████████████████████████████▋                                                 | 284/400 [45:58<18:37,  9.63s/it]"
     ]
    },
    {
     "name": "stdout",
     "output_type": "stream",
     "text": [
      "Epoch [284/400], Train Loss: 4.5173, Train_accuracy: 76.59570501826859, Val Loss: 1.5708, Val_accuracy: 75.72419192484062\n",
      "Model saved.\n"
     ]
    },
    {
     "name": "stderr",
     "output_type": "stream",
     "text": [
      " 71%|█████████████████████████████████████████████████████████████████████████████████████████████████████████████████████████▏                                                | 285/400 [46:08<18:36,  9.71s/it]"
     ]
    },
    {
     "name": "stdout",
     "output_type": "stream",
     "text": [
      "Epoch [285/400], Train Loss: 4.5135, Train_accuracy: 76.60626848606864, Val Loss: 1.5698, Val_accuracy: 75.7353763561123\n",
      "Model saved.\n"
     ]
    },
    {
     "name": "stderr",
     "output_type": "stream",
     "text": [
      " 72%|█████████████████████████████████████████████████████████████████████████████████████████████████████████████████████████▌                                                | 286/400 [46:18<18:31,  9.75s/it]"
     ]
    },
    {
     "name": "stdout",
     "output_type": "stream",
     "text": [
      "Epoch [286/400], Train Loss: 4.5097, Train_accuracy: 76.61558919295106, Val Loss: 1.5688, Val_accuracy: 75.73164821235507\n"
     ]
    },
    {
     "name": "stderr",
     "output_type": "stream",
     "text": [
      " 72%|█████████████████████████████████████████████████████████████████████████████████████████████████████████████████████████▉                                                | 287/400 [46:27<18:07,  9.62s/it]"
     ]
    },
    {
     "name": "stdout",
     "output_type": "stream",
     "text": [
      "Epoch [287/400], Train Loss: 4.5060, Train_accuracy: 76.62988094350409, Val Loss: 1.5679, Val_accuracy: 75.7372404279909\n",
      "Model saved.\n"
     ]
    },
    {
     "name": "stderr",
     "output_type": "stream",
     "text": [
      " 72%|██████████████████████████████████████████████████████████████████████████████████████████████████████████████████████████▍                                               | 288/400 [46:37<18:06,  9.70s/it]"
     ]
    },
    {
     "name": "stdout",
     "output_type": "stream",
     "text": [
      "Epoch [288/400], Train Loss: 4.5022, Train_accuracy: 76.65100787910421, Val Loss: 1.5669, Val_accuracy: 75.74469671550536\n",
      "Model saved.\n"
     ]
    },
    {
     "name": "stderr",
     "output_type": "stream",
     "text": [
      " 72%|██████████████████████████████████████████████████████████████████████████████████████████████████████████████████████████▊                                               | 289/400 [46:47<18:01,  9.74s/it]"
     ]
    },
    {
     "name": "stdout",
     "output_type": "stream",
     "text": [
      "Epoch [289/400], Train Loss: 4.4984, Train_accuracy: 76.66405686873959, Val Loss: 1.5660, Val_accuracy: 75.75401707489841\n",
      "Model saved.\n"
     ]
    },
    {
     "name": "stderr",
     "output_type": "stream",
     "text": [
      " 72%|███████████████████████████████████████████████████████████████████████████████████████████████████████████████████████████▎                                              | 290/400 [46:56<17:37,  9.61s/it]"
     ]
    },
    {
     "name": "stdout",
     "output_type": "stream",
     "text": [
      "Epoch [290/400], Train Loss: 4.4947, Train_accuracy: 76.68642656525738, Val Loss: 1.5650, Val_accuracy: 75.76520150617007\n",
      "Model saved.\n"
     ]
    },
    {
     "name": "stderr",
     "output_type": "stream",
     "text": [
      " 73%|███████████████████████████████████████████████████████████████████████████████████████████████████████████████████████████▋                                              | 291/400 [47:06<17:35,  9.68s/it]"
     ]
    },
    {
     "name": "stdout",
     "output_type": "stream",
     "text": [
      "Epoch [291/400], Train Loss: 4.4910, Train_accuracy: 76.7007183158104, Val Loss: 1.5641, Val_accuracy: 75.77825000932036\n",
      "Model saved.\n"
     ]
    },
    {
     "name": "stderr",
     "output_type": "stream",
     "text": [
      " 73%|████████████████████████████████████████████████████████████████████████████████████████████████████████████████████████████                                              | 292/400 [47:16<17:31,  9.74s/it]"
     ]
    },
    {
     "name": "stdout",
     "output_type": "stream",
     "text": [
      "Epoch [292/400], Train Loss: 4.4873, Train_accuracy: 76.71128178361047, Val Loss: 1.5631, Val_accuracy: 75.79689072810648\n",
      "Model saved.\n"
     ]
    },
    {
     "name": "stderr",
     "output_type": "stream",
     "text": [
      " 73%|████████████████████████████████████████████████████████████████████████████████████████████████████████████████████████████▌                                             | 293/400 [47:25<17:09,  9.62s/it]"
     ]
    },
    {
     "name": "stdout",
     "output_type": "stream",
     "text": [
      "Epoch [293/400], Train Loss: 4.4836, Train_accuracy: 76.72246663186937, Val Loss: 1.5622, Val_accuracy: 75.81180330313536\n",
      "Model saved.\n"
     ]
    },
    {
     "name": "stderr",
     "output_type": "stream",
     "text": [
      " 74%|████████████████████████████████████████████████████████████████████████████████████████████████████████████████████████████▉                                             | 294/400 [47:35<17:07,  9.69s/it]"
     ]
    },
    {
     "name": "stdout",
     "output_type": "stream",
     "text": [
      "Epoch [294/400], Train Loss: 4.4799, Train_accuracy: 76.73365148012826, Val Loss: 1.5613, Val_accuracy: 75.81366737501398\n",
      "Model saved.\n"
     ]
    },
    {
     "name": "stderr",
     "output_type": "stream",
     "text": [
      " 74%|█████████████████████████████████████████████████████████████████████████████████████████████████████████████████████████████▍                                            | 295/400 [47:45<17:03,  9.75s/it]"
     ]
    },
    {
     "name": "stdout",
     "output_type": "stream",
     "text": [
      "Epoch [295/400], Train Loss: 4.4762, Train_accuracy: 76.75167151343425, Val Loss: 1.5603, Val_accuracy: 75.83790030943594\n",
      "Model saved.\n"
     ]
    },
    {
     "name": "stderr",
     "output_type": "stream",
     "text": [
      " 74%|█████████████████████████████████████████████████████████████████████████████████████████████████████████████████████████████▊                                            | 296/400 [47:54<16:42,  9.64s/it]"
     ]
    },
    {
     "name": "stdout",
     "output_type": "stream",
     "text": [
      "Epoch [296/400], Train Loss: 4.4725, Train_accuracy: 76.76161360077548, Val Loss: 1.5594, Val_accuracy: 75.85281288446483\n",
      "Model saved.\n"
     ]
    },
    {
     "name": "stderr",
     "output_type": "stream",
     "text": [
      " 74%|██████████████████████████████████████████████████████████████████████████████████████████████████████████████████████████████▏                                           | 297/400 [48:04<16:41,  9.72s/it]"
     ]
    },
    {
     "name": "stdout",
     "output_type": "stream",
     "text": [
      "Epoch [297/400], Train Loss: 4.4689, Train_accuracy: 76.78087639499913, Val Loss: 1.5585, Val_accuracy: 75.84535659695038\n"
     ]
    },
    {
     "name": "stderr",
     "output_type": "stream",
     "text": [
      " 74%|██████████████████████████████████████████████████████████████████████████████████████████████████████████████████████████████▋                                           | 298/400 [48:14<16:34,  9.75s/it]"
     ]
    },
    {
     "name": "stdout",
     "output_type": "stream",
     "text": [
      "Epoch [298/400], Train Loss: 4.4653, Train_accuracy: 76.78957572142271, Val Loss: 1.5576, Val_accuracy: 75.85840510010065\n",
      "Model saved.\n"
     ]
    },
    {
     "name": "stderr",
     "output_type": "stream",
     "text": [
      " 75%|███████████████████████████████████████████████████████████████████████████████████████████████████████████████████████████████                                           | 299/400 [48:23<16:11,  9.62s/it]"
     ]
    },
    {
     "name": "stdout",
     "output_type": "stream",
     "text": [
      "Epoch [299/400], Train Loss: 4.4616, Train_accuracy: 76.81194541794049, Val Loss: 1.5567, Val_accuracy: 75.88636617827983\n",
      "Model saved.\n"
     ]
    },
    {
     "name": "stderr",
     "output_type": "stream",
     "text": [
      " 75%|███████████████████████████████████████████████████████████████████████████████████████████████████████████████████████████████▌                                          | 300/400 [48:33<16:10,  9.70s/it]"
     ]
    },
    {
     "name": "stdout",
     "output_type": "stream",
     "text": [
      "Epoch [300/400], Train Loss: 4.4580, Train_accuracy: 76.82499440757587, Val Loss: 1.5558, Val_accuracy: 75.89941468143012\n",
      "Model saved.\n"
     ]
    },
    {
     "name": "stderr",
     "output_type": "stream",
     "text": [
      " 75%|███████████████████████████████████████████████████████████████████████████████████████████████████████████████████████████████▉                                          | 301/400 [48:43<16:05,  9.76s/it]"
     ]
    },
    {
     "name": "stdout",
     "output_type": "stream",
     "text": [
      "Epoch [301/400], Train Loss: 4.4544, Train_accuracy: 76.85854895235255, Val Loss: 1.5549, Val_accuracy: 75.88636617827983\n"
     ]
    },
    {
     "name": "stderr",
     "output_type": "stream",
     "text": [
      " 76%|████████████████████████████████████████████████████████████████████████████████████████████████████████████████████████████████▎                                         | 302/400 [48:52<15:47,  9.67s/it]"
     ]
    },
    {
     "name": "stdout",
     "output_type": "stream",
     "text": [
      "Epoch [302/400], Train Loss: 4.4509, Train_accuracy: 76.8802972684115, Val Loss: 1.5540, Val_accuracy: 75.91059911270179\n",
      "Model saved.\n"
     ]
    },
    {
     "name": "stderr",
     "output_type": "stream",
     "text": [
      " 76%|████████████████████████████████████████████████████████████████████████████████████████████████████████████████████████████████▊                                         | 303/400 [49:02<15:48,  9.78s/it]"
     ]
    },
    {
     "name": "stdout",
     "output_type": "stream",
     "text": [
      "Epoch [303/400], Train Loss: 4.4473, Train_accuracy: 76.89956006263515, Val Loss: 1.5531, Val_accuracy: 75.92178354397346\n",
      "Model saved.\n"
     ]
    },
    {
     "name": "stderr",
     "output_type": "stream",
     "text": [
      " 76%|█████████████████████████████████████████████████████████████████████████████████████████████████████████████████████████████████▏                                        | 304/400 [49:12<15:44,  9.84s/it]"
     ]
    },
    {
     "name": "stdout",
     "output_type": "stream",
     "text": [
      "Epoch [304/400], Train Loss: 4.4438, Train_accuracy: 76.9213083786941, Val Loss: 1.5522, Val_accuracy: 75.92737575960929\n",
      "Model saved.\n"
     ]
    },
    {
     "name": "stderr",
     "output_type": "stream",
     "text": [
      " 76%|█████████████████████████████████████████████████████████████████████████████████████████████████████████████████████████████████▋                                        | 305/400 [49:22<15:24,  9.74s/it]"
     ]
    },
    {
     "name": "stdout",
     "output_type": "stream",
     "text": [
      "Epoch [305/400], Train Loss: 4.4402, Train_accuracy: 76.9393284120001, Val Loss: 1.5513, Val_accuracy: 75.93296797524512\n",
      "Model saved.\n"
     ]
    },
    {
     "name": "stderr",
     "output_type": "stream",
     "text": [
      " 76%|██████████████████████████████████████████████████████████████████████████████████████████████████████████████████████████████████                                        | 306/400 [49:32<15:25,  9.85s/it]"
     ]
    },
    {
     "name": "stdout",
     "output_type": "stream",
     "text": [
      "Epoch [306/400], Train Loss: 4.4367, Train_accuracy: 76.94243531429423, Val Loss: 1.5504, Val_accuracy: 75.95347276590985\n",
      "Model saved.\n"
     ]
    },
    {
     "name": "stderr",
     "output_type": "stream",
     "text": [
      " 77%|██████████████████████████████████████████████████████████████████████████████████████████████████████████████████████████████████▍                                       | 307/400 [49:42<15:25,  9.96s/it]"
     ]
    },
    {
     "name": "stdout",
     "output_type": "stream",
     "text": [
      "Epoch [307/400], Train Loss: 4.4332, Train_accuracy: 76.95672706484727, Val Loss: 1.5496, Val_accuracy: 75.9590649815457\n",
      "Model saved.\n"
     ]
    },
    {
     "name": "stderr",
     "output_type": "stream",
     "text": [
      " 77%|██████████████████████████████████████████████████████████████████████████████████████████████████████████████████████████████████▉                                       | 308/400 [49:52<15:08,  9.88s/it]"
     ]
    },
    {
     "name": "stdout",
     "output_type": "stream",
     "text": [
      "Epoch [308/400], Train Loss: 4.4297, Train_accuracy: 76.96418363035319, Val Loss: 1.5487, Val_accuracy: 75.97956977221041\n",
      "Model saved.\n"
     ]
    },
    {
     "name": "stderr",
     "output_type": "stream",
     "text": [
      " 77%|███████████████████████████████████████████████████████████████████████████████████████████████████████████████████████████████████▎                                      | 309/400 [50:02<15:09,  9.99s/it]"
     ]
    },
    {
     "name": "stdout",
     "output_type": "stream",
     "text": [
      "Epoch [309/400], Train Loss: 4.4262, Train_accuracy: 76.96542639127085, Val Loss: 1.5478, Val_accuracy: 76.00193863475376\n",
      "Model saved.\n"
     ]
    },
    {
     "name": "stderr",
     "output_type": "stream",
     "text": [
      " 78%|███████████████████████████████████████████████████████████████████████████████████████████████████████████████████████████████████▊                                      | 310/400 [50:12<15:04, 10.05s/it]"
     ]
    },
    {
     "name": "stdout",
     "output_type": "stream",
     "text": [
      "Epoch [310/400], Train Loss: 4.4227, Train_accuracy: 76.96107672805906, Val Loss: 1.5470, Val_accuracy: 76.01685120978264\n",
      "Model saved.\n"
     ]
    },
    {
     "name": "stderr",
     "output_type": "stream",
     "text": [
      " 78%|████████████████████████████████████████████████████████████████████████████████████████████████████████████████████████████████████▏                                     | 311/400 [50:22<14:44,  9.94s/it]"
     ]
    },
    {
     "name": "stdout",
     "output_type": "stream",
     "text": [
      "Epoch [311/400], Train Loss: 4.4193, Train_accuracy: 76.96294086943554, Val Loss: 1.5461, Val_accuracy: 76.02803564105432\n",
      "Model saved.\n"
     ]
    },
    {
     "name": "stderr",
     "output_type": "stream",
     "text": [
      " 78%|████████████████████████████████████████████████████████████████████████████████████████████████████████████████████████████████████▌                                     | 312/400 [50:32<14:43, 10.04s/it]"
     ]
    },
    {
     "name": "stdout",
     "output_type": "stream",
     "text": [
      "Epoch [312/400], Train Loss: 4.4158, Train_accuracy: 76.97723261998857, Val Loss: 1.5453, Val_accuracy: 76.05413264735488\n",
      "Model saved.\n"
     ]
    },
    {
     "name": "stderr",
     "output_type": "stream",
     "text": [
      " 78%|█████████████████████████████████████████████████████████████████████████████████████████████████████████████████████████████████████                                     | 313/400 [50:43<14:36, 10.08s/it]"
     ]
    },
    {
     "name": "stdout",
     "output_type": "stream",
     "text": [
      "Epoch [313/400], Train Loss: 4.4124, Train_accuracy: 76.98903884870629, Val Loss: 1.5444, Val_accuracy: 76.05226857547628\n"
     ]
    },
    {
     "name": "stderr",
     "output_type": "stream",
     "text": [
      " 78%|█████████████████████████████████████████████████████████████████████████████████████████████████████████████████████████████████████▍                                    | 314/400 [50:52<14:16,  9.96s/it]"
     ]
    },
    {
     "name": "stdout",
     "output_type": "stream",
     "text": [
      "Epoch [314/400], Train Loss: 4.4090, Train_accuracy: 77.01016578430641, Val Loss: 1.5436, Val_accuracy: 76.07650150989822\n",
      "Model saved.\n"
     ]
    },
    {
     "name": "stderr",
     "output_type": "stream",
     "text": [
      " 79%|█████████████████████████████████████████████████████████████████████████████████████████████████████████████████████████████████████▉                                    | 315/400 [51:02<14:13, 10.05s/it]"
     ]
    },
    {
     "name": "stdout",
     "output_type": "stream",
     "text": [
      "Epoch [315/400], Train Loss: 4.4055, Train_accuracy: 77.02383615440061, Val Loss: 1.5427, Val_accuracy: 76.08209372553405\n",
      "Model saved.\n"
     ]
    },
    {
     "name": "stderr",
     "output_type": "stream",
     "text": [
      " 79%|██████████████████████████████████████████████████████████████████████████████████████████████████████████████████████████████████████▎                                   | 316/400 [51:13<14:06, 10.08s/it]"
     ]
    },
    {
     "name": "stdout",
     "output_type": "stream",
     "text": [
      "Epoch [316/400], Train Loss: 4.4022, Train_accuracy: 77.04682723137722, Val Loss: 1.5419, Val_accuracy: 76.10073444432017\n",
      "Model saved.\n"
     ]
    },
    {
     "name": "stderr",
     "output_type": "stream",
     "text": [
      " 79%|██████████████████████████████████████████████████████████████████████████████████████████████████████████████████████████████████████▋                                   | 317/400 [51:22<13:45,  9.95s/it]"
     ]
    },
    {
     "name": "stdout",
     "output_type": "stream",
     "text": [
      "Epoch [317/400], Train Loss: 4.3988, Train_accuracy: 77.05739069917729, Val Loss: 1.5411, Val_accuracy: 76.11191887559184\n",
      "Model saved.\n"
     ]
    },
    {
     "name": "stderr",
     "output_type": "stream",
     "text": [
      " 80%|███████████████████████████████████████████████████████████████████████████████████████████████████████████████████████████████████████▏                                  | 318/400 [51:32<13:39,  9.99s/it]"
     ]
    },
    {
     "name": "stdout",
     "output_type": "stream",
     "text": [
      "Epoch [318/400], Train Loss: 4.3954, Train_accuracy: 77.07230383018914, Val Loss: 1.5402, Val_accuracy: 76.12869552249934\n",
      "Model saved.\n"
     ]
    },
    {
     "name": "stderr",
     "output_type": "stream",
     "text": [
      " 80%|███████████████████████████████████████████████████████████████████████████████████████████████████████████████████████████████████████▌                                  | 319/400 [51:42<13:29, 10.00s/it]"
     ]
    },
    {
     "name": "stdout",
     "output_type": "stream",
     "text": [
      "Epoch [319/400], Train Loss: 4.3920, Train_accuracy: 77.08721696120101, Val Loss: 1.5394, Val_accuracy: 76.13428773813519\n",
      "Model saved.\n"
     ]
    },
    {
     "name": "stderr",
     "output_type": "stream",
     "text": [
      " 80%|████████████████████████████████████████████████████████████████████████████████████████████████████████████████████████████████████████                                  | 320/400 [51:52<13:08,  9.86s/it]"
     ]
    },
    {
     "name": "stdout",
     "output_type": "stream",
     "text": [
      "Epoch [320/400], Train Loss: 4.3887, Train_accuracy: 77.10896527725995, Val Loss: 1.5386, Val_accuracy: 76.13987995377101\n",
      "Model saved.\n"
     ]
    },
    {
     "name": "stderr",
     "output_type": "stream",
     "text": [
      " 80%|████████████████████████████████████████████████████████████████████████████████████████████████████████████████████████████████████████▍                                 | 321/400 [52:02<13:02,  9.91s/it]"
     ]
    },
    {
     "name": "stdout",
     "output_type": "stream",
     "text": [
      "Epoch [321/400], Train Loss: 4.3854, Train_accuracy: 77.12139288643651, Val Loss: 1.5378, Val_accuracy: 76.12869552249934\n"
     ]
    },
    {
     "name": "stderr",
     "output_type": "stream",
     "text": [
      " 80%|████████████████████████████████████████████████████████████████████████████████████████████████████████████████████████████████████████▊                                 | 322/400 [52:12<12:52,  9.91s/it]"
     ]
    },
    {
     "name": "stdout",
     "output_type": "stream",
     "text": [
      "Epoch [322/400], Train Loss: 4.3820, Train_accuracy: 77.14562672433077, Val Loss: 1.5370, Val_accuracy: 76.12310330686351\n"
     ]
    },
    {
     "name": "stderr",
     "output_type": "stream",
     "text": [
      " 81%|█████████████████████████████████████████████████████████████████████████████████████████████████████████████████████████████████████████▎                                | 323/400 [52:21<12:30,  9.75s/it]"
     ]
    },
    {
     "name": "stdout",
     "output_type": "stream",
     "text": [
      "Epoch [323/400], Train Loss: 4.3787, Train_accuracy: 77.15494743121319, Val Loss: 1.5362, Val_accuracy: 76.1212392349849\n"
     ]
    },
    {
     "name": "stderr",
     "output_type": "stream",
     "text": [
      " 81%|█████████████████████████████████████████████████████████████████████████████████████████████████████████████████████████████████████████▋                                | 324/400 [52:31<12:23,  9.78s/it]"
     ]
    },
    {
     "name": "stdout",
     "output_type": "stream",
     "text": [
      "Epoch [324/400], Train Loss: 4.3754, Train_accuracy: 77.17421022543682, Val Loss: 1.5354, Val_accuracy: 76.11751109122768\n"
     ]
    },
    {
     "name": "stderr",
     "output_type": "stream",
     "text": [
      " 81%|██████████████████████████████████████████████████████████████████████████████████████████████████████████████████████████████████████████▏                               | 325/400 [52:41<12:13,  9.78s/it]"
     ]
    },
    {
     "name": "stdout",
     "output_type": "stream",
     "text": [
      "Epoch [325/400], Train Loss: 4.3722, Train_accuracy: 77.18353093231924, Val Loss: 1.5346, Val_accuracy: 76.11751109122768\n"
     ]
    },
    {
     "name": "stderr",
     "output_type": "stream",
     "text": [
      " 82%|██████████████████████████████████████████████████████████████████████████████████████████████████████████████████████████████████████████▌                               | 326/400 [52:50<11:52,  9.63s/it]"
     ]
    },
    {
     "name": "stdout",
     "output_type": "stream",
     "text": [
      "Epoch [326/400], Train Loss: 4.3689, Train_accuracy: 77.21025029204881, Val Loss: 1.5338, Val_accuracy: 76.12869552249934\n"
     ]
    },
    {
     "name": "stderr",
     "output_type": "stream",
     "text": [
      " 82%|██████████████████████████████████████████████████████████████████████████████████████████████████████████████████████████████████████████▉                               | 327/400 [53:00<11:46,  9.68s/it]"
     ]
    },
    {
     "name": "stdout",
     "output_type": "stream",
     "text": [
      "Epoch [327/400], Train Loss: 4.3656, Train_accuracy: 77.22516342306068, Val Loss: 1.5330, Val_accuracy: 76.14360809752824\n",
      "Model saved.\n"
     ]
    },
    {
     "name": "stderr",
     "output_type": "stream",
     "text": [
      " 82%|███████████████████████████████████████████████████████████████████████████████████████████████████████████████████████████████████████████▍                              | 328/400 [53:10<11:39,  9.71s/it]"
     ]
    },
    {
     "name": "stdout",
     "output_type": "stream",
     "text": [
      "Epoch [328/400], Train Loss: 4.3624, Train_accuracy: 77.24318345636667, Val Loss: 1.5322, Val_accuracy: 76.15665660067852\n",
      "Model saved.\n"
     ]
    },
    {
     "name": "stderr",
     "output_type": "stream",
     "text": [
      " 82%|███████████████████████████████████████████████████████████████████████████████████████████████████████████████████████████████████████████▊                              | 329/400 [53:19<11:20,  9.59s/it]"
     ]
    },
    {
     "name": "stdout",
     "output_type": "stream",
     "text": [
      "Epoch [329/400], Train Loss: 4.3591, Train_accuracy: 77.25250416324907, Val Loss: 1.5314, Val_accuracy: 76.16784103195019\n",
      "Model saved.\n"
     ]
    },
    {
     "name": "stderr",
     "output_type": "stream",
     "text": [
      " 82%|████████████████████████████████████████████████████████████████████████████████████████████████████████████████████████████████████████████▎                             | 330/400 [53:29<11:17,  9.68s/it]"
     ]
    },
    {
     "name": "stdout",
     "output_type": "stream",
     "text": [
      "Epoch [330/400], Train Loss: 4.3559, Train_accuracy: 77.25685382646087, Val Loss: 1.5306, Val_accuracy: 76.16224881631436\n"
     ]
    },
    {
     "name": "stderr",
     "output_type": "stream",
     "text": [
      " 83%|████████████████████████████████████████████████████████████████████████████████████████████████████████████████████████████████████████████▋                             | 331/400 [53:39<11:11,  9.74s/it]"
     ]
    },
    {
     "name": "stdout",
     "output_type": "stream",
     "text": [
      "Epoch [331/400], Train Loss: 4.3527, Train_accuracy: 77.27425247930803, Val Loss: 1.5298, Val_accuracy: 76.18461767885769\n",
      "Model saved.\n"
     ]
    },
    {
     "name": "stderr",
     "output_type": "stream",
     "text": [
      " 83%|█████████████████████████████████████████████████████████████████████████████████████████████████████████████████████████████████████████████                             | 332/400 [53:48<10:54,  9.63s/it]"
     ]
    },
    {
     "name": "stdout",
     "output_type": "stream",
     "text": [
      "Epoch [332/400], Train Loss: 4.3495, Train_accuracy: 77.29289389307286, Val Loss: 1.5291, Val_accuracy: 76.20139432576521\n",
      "Model saved.\n"
     ]
    },
    {
     "name": "stderr",
     "output_type": "stream",
     "text": [
      " 83%|█████████████████████████████████████████████████████████████████████████████████████████████████████████████████████████████████████████████▌                            | 333/400 [53:58<10:50,  9.70s/it]"
     ]
    },
    {
     "name": "stdout",
     "output_type": "stream",
     "text": [
      "Epoch [333/400], Train Loss: 4.3463, Train_accuracy: 77.30407874133174, Val Loss: 1.5283, Val_accuracy: 76.20698654140104\n",
      "Model saved.\n"
     ]
    },
    {
     "name": "stderr",
     "output_type": "stream",
     "text": [
      " 84%|█████████████████████████████████████████████████████████████████████████████████████████████████████████████████████████████████████████████▉                            | 334/400 [54:08<10:42,  9.74s/it]"
     ]
    },
    {
     "name": "stdout",
     "output_type": "stream",
     "text": [
      "Epoch [334/400], Train Loss: 4.3431, Train_accuracy: 77.3189918723436, Val Loss: 1.5275, Val_accuracy: 76.20139432576521\n"
     ]
    },
    {
     "name": "stderr",
     "output_type": "stream",
     "text": [
      " 84%|██████████████████████████████████████████████████████████████████████████████████████████████████████████████████████████████████████████████▍                           | 335/400 [54:17<10:24,  9.61s/it]"
     ]
    },
    {
     "name": "stdout",
     "output_type": "stream",
     "text": [
      "Epoch [335/400], Train Loss: 4.3400, Train_accuracy: 77.33390500335545, Val Loss: 1.5268, Val_accuracy: 76.22189911642992\n",
      "Model saved.\n"
     ]
    },
    {
     "name": "stderr",
     "output_type": "stream",
     "text": [
      " 84%|██████████████████████████████████████████████████████████████████████████████████████████████████████████████████████████████████████████████▊                           | 336/400 [54:27<10:20,  9.69s/it]"
     ]
    },
    {
     "name": "stdout",
     "output_type": "stream",
     "text": [
      "Epoch [336/400], Train Loss: 4.3368, Train_accuracy: 77.34819675390848, Val Loss: 1.5260, Val_accuracy: 76.24426797897327\n",
      "Model saved.\n"
     ]
    },
    {
     "name": "stderr",
     "output_type": "stream",
     "text": [
      " 84%|███████████████████████████████████████████████████████████████████████████████████████████████████████████████████████████████████████████████▏                          | 337/400 [54:37<10:14,  9.75s/it]"
     ]
    },
    {
     "name": "stdout",
     "output_type": "stream",
     "text": [
      "Epoch [337/400], Train Loss: 4.3337, Train_accuracy: 77.37305197226158, Val Loss: 1.5253, Val_accuracy: 76.24613205085188\n",
      "Model saved.\n"
     ]
    },
    {
     "name": "stderr",
     "output_type": "stream",
     "text": [
      " 84%|███████████████████████████████████████████████████████████████████████████████████████████████████████████████████████████████████████████████▋                          | 338/400 [54:46<09:57,  9.63s/it]"
     ]
    },
    {
     "name": "stdout",
     "output_type": "stream",
     "text": [
      "Epoch [338/400], Train Loss: 4.3306, Train_accuracy: 77.37740163547336, Val Loss: 1.5245, Val_accuracy: 76.24053983521604\n"
     ]
    },
    {
     "name": "stderr",
     "output_type": "stream",
     "text": [
      " 85%|████████████████████████████████████████████████████████████████████████████████████████████████████████████████████████████████████████████████                          | 339/400 [54:56<09:51,  9.70s/it]"
     ]
    },
    {
     "name": "stdout",
     "output_type": "stream",
     "text": [
      "Epoch [339/400], Train Loss: 4.3274, Train_accuracy: 77.38672234235578, Val Loss: 1.5238, Val_accuracy: 76.23681169145883\n"
     ]
    },
    {
     "name": "stderr",
     "output_type": "stream",
     "text": [
      " 85%|████████████████████████████████████████████████████████████████████████████████████████████████████████████████████████████████████████████████▌                         | 340/400 [55:06<09:45,  9.76s/it]"
     ]
    },
    {
     "name": "stdout",
     "output_type": "stream",
     "text": [
      "Epoch [340/400], Train Loss: 4.3243, Train_accuracy: 77.40349961474412, Val Loss: 1.5230, Val_accuracy: 76.24053983521604\n"
     ]
    },
    {
     "name": "stderr",
     "output_type": "stream",
     "text": [
      " 85%|████████████████████████████████████████████████████████████████████████████████████████████████████████████████████████████████████████████████▉                         | 341/400 [55:15<09:29,  9.64s/it]"
     ]
    },
    {
     "name": "stdout",
     "output_type": "stream",
     "text": [
      "Epoch [341/400], Train Loss: 4.3212, Train_accuracy: 77.42089826759128, Val Loss: 1.5223, Val_accuracy: 76.23867576333744\n"
     ]
    },
    {
     "name": "stderr",
     "output_type": "stream",
     "text": [
      " 86%|█████████████████████████████████████████████████████████████████████████████████████████████████████████████████████████████████████████████████▎                        | 342/400 [55:25<09:23,  9.72s/it]"
     ]
    },
    {
     "name": "stdout",
     "output_type": "stream",
     "text": [
      "Epoch [342/400], Train Loss: 4.3182, Train_accuracy: 77.42649069172073, Val Loss: 1.5216, Val_accuracy: 76.25358833836633\n",
      "Model saved.\n"
     ]
    },
    {
     "name": "stderr",
     "output_type": "stream",
     "text": [
      " 86%|█████████████████████████████████████████████████████████████████████████████████████████████████████████████████████████████████████████████████▊                        | 343/400 [55:35<09:16,  9.76s/it]"
     ]
    },
    {
     "name": "stdout",
     "output_type": "stream",
     "text": [
      "Epoch [343/400], Train Loss: 4.3151, Train_accuracy: 77.44886038823851, Val Loss: 1.5208, Val_accuracy: 76.27782127278827\n",
      "Model saved.\n"
     ]
    },
    {
     "name": "stderr",
     "output_type": "stream",
     "text": [
      " 86%|██████████████████████████████████████████████████████████████████████████████████████████████████████████████████████████████████████████████████▏                       | 344/400 [55:44<08:59,  9.63s/it]"
     ]
    },
    {
     "name": "stdout",
     "output_type": "stream",
     "text": [
      "Epoch [344/400], Train Loss: 4.3120, Train_accuracy: 77.46874456292099, Val Loss: 1.5201, Val_accuracy: 76.28527756030273\n",
      "Model saved.\n"
     ]
    },
    {
     "name": "stderr",
     "output_type": "stream",
     "text": [
      " 86%|██████████████████████████████████████████████████████████████████████████████████████████████████████████████████████████████████████████████████▋                       | 345/400 [55:54<08:54,  9.71s/it]"
     ]
    },
    {
     "name": "stdout",
     "output_type": "stream",
     "text": [
      "Epoch [345/400], Train Loss: 4.3090, Train_accuracy: 77.4805507916387, Val Loss: 1.5194, Val_accuracy: 76.29459791969579\n",
      "Model saved.\n"
     ]
    },
    {
     "name": "stderr",
     "output_type": "stream",
     "text": [
      " 86%|███████████████████████████████████████████████████████████████████████████████████████████████████████████████████████████████████████████████████                       | 346/400 [56:04<08:46,  9.74s/it]"
     ]
    },
    {
     "name": "stdout",
     "output_type": "stream",
     "text": [
      "Epoch [346/400], Train Loss: 4.3059, Train_accuracy: 77.49794944448587, Val Loss: 1.5187, Val_accuracy: 76.28714163218133\n"
     ]
    },
    {
     "name": "stderr",
     "output_type": "stream",
     "text": [
      " 87%|███████████████████████████████████████████████████████████████████████████████████████████████████████████████████████████████████████████████████▍                      | 347/400 [56:13<08:29,  9.61s/it]"
     ]
    },
    {
     "name": "stdout",
     "output_type": "stream",
     "text": [
      "Epoch [347/400], Train Loss: 4.3029, Train_accuracy: 77.5165908582507, Val Loss: 1.5179, Val_accuracy: 76.30578235096745\n",
      "Model saved.\n"
     ]
    },
    {
     "name": "stderr",
     "output_type": "stream",
     "text": [
      " 87%|███████████████████████████████████████████████████████████████████████████████████████████████████████████████████████████████████████████████████▉                      | 348/400 [56:23<08:25,  9.71s/it]"
     ]
    },
    {
     "name": "stdout",
     "output_type": "stream",
     "text": [
      "Epoch [348/400], Train Loss: 4.2999, Train_accuracy: 77.51721223870952, Val Loss: 1.5172, Val_accuracy: 76.30764642284606\n",
      "Model saved.\n"
     ]
    },
    {
     "name": "stderr",
     "output_type": "stream",
     "text": [
      " 87%|████████████████████████████████████████████████████████████████████████████████████████████████████████████████████████████████████████████████████▎                     | 349/400 [56:33<08:17,  9.76s/it]"
     ]
    },
    {
     "name": "stdout",
     "output_type": "stream",
     "text": [
      "Epoch [349/400], Train Loss: 4.2969, Train_accuracy: 77.52529018467428, Val Loss: 1.5165, Val_accuracy: 76.30764642284606\n"
     ]
    },
    {
     "name": "stderr",
     "output_type": "stream",
     "text": [
      " 88%|████████████████████████████████████████████████████████████████████████████████████████████████████████████████████████████████████████████████████▊                     | 350/400 [56:43<08:00,  9.62s/it]"
     ]
    },
    {
     "name": "stdout",
     "output_type": "stream",
     "text": [
      "Epoch [350/400], Train Loss: 4.2939, Train_accuracy: 77.54082469614495, Val Loss: 1.5158, Val_accuracy: 76.30578235096745\n"
     ]
    },
    {
     "name": "stderr",
     "output_type": "stream",
     "text": [
      " 88%|█████████████████████████████████████████████████████████████████████████████████████████████████████████████████████████████████████████████████████▏                    | 351/400 [56:52<07:55,  9.70s/it]"
     ]
    },
    {
     "name": "stdout",
     "output_type": "stream",
     "text": [
      "Epoch [351/400], Train Loss: 4.2909, Train_accuracy: 77.54890264210971, Val Loss: 1.5151, Val_accuracy: 76.31883085411773\n",
      "Model saved.\n"
     ]
    },
    {
     "name": "stderr",
     "output_type": "stream",
     "text": [
      " 88%|█████████████████████████████████████████████████████████████████████████████████████████████████████████████████████████████████████████████████████▌                    | 352/400 [57:02<07:47,  9.74s/it]"
     ]
    },
    {
     "name": "stdout",
     "output_type": "stream",
     "text": [
      "Epoch [352/400], Train Loss: 4.2879, Train_accuracy: 77.56878681679218, Val Loss: 1.5144, Val_accuracy: 76.34306378853968\n",
      "Model saved.\n"
     ]
    },
    {
     "name": "stderr",
     "output_type": "stream",
     "text": [
      " 88%|██████████████████████████████████████████████████████████████████████████████████████████████████████████████████████████████████████████████████████                    | 353/400 [57:12<07:32,  9.63s/it]"
     ]
    },
    {
     "name": "stdout",
     "output_type": "stream",
     "text": [
      "Epoch [353/400], Train Loss: 4.2850, Train_accuracy: 77.59364203514528, Val Loss: 1.5137, Val_accuracy: 76.35238414793274\n",
      "Model saved.\n"
     ]
    },
    {
     "name": "stderr",
     "output_type": "stream",
     "text": [
      " 88%|██████████████████████████████████████████████████████████████████████████████████████████████████████████████████████████████████████████████████████▍                   | 354/400 [57:22<07:26,  9.71s/it]"
     ]
    },
    {
     "name": "stdout",
     "output_type": "stream",
     "text": [
      "Epoch [354/400], Train Loss: 4.2820, Train_accuracy: 77.60047722019237, Val Loss: 1.5130, Val_accuracy: 76.34865600417552\n"
     ]
    },
    {
     "name": "stderr",
     "output_type": "stream",
     "text": [
      " 89%|██████████████████████████████████████████████████████████████████████████████████████████████████████████████████████████████████████████████████████▉                   | 355/400 [57:31<07:18,  9.74s/it]"
     ]
    },
    {
     "name": "stdout",
     "output_type": "stream",
     "text": [
      "Epoch [355/400], Train Loss: 4.2791, Train_accuracy: 77.61539035120424, Val Loss: 1.5123, Val_accuracy: 76.37102486671886\n",
      "Model saved.\n"
     ]
    },
    {
     "name": "stderr",
     "output_type": "stream",
     "text": [
      " 89%|███████████████████████████████████████████████████████████████████████████████████████████████████████████████████████████████████████████████████████▎                  | 356/400 [57:41<07:02,  9.61s/it]"
     ]
    },
    {
     "name": "stdout",
     "output_type": "stream",
     "text": [
      "Epoch [356/400], Train Loss: 4.2762, Train_accuracy: 77.63465314542788, Val Loss: 1.5117, Val_accuracy: 76.36916079484025\n"
     ]
    },
    {
     "name": "stderr",
     "output_type": "stream",
     "text": [
      " 89%|███████████████████████████████████████████████████████████████████████████████████████████████████████████████████████████████████████████████████████▋                  | 357/400 [57:51<06:56,  9.69s/it]"
     ]
    },
    {
     "name": "stdout",
     "output_type": "stream",
     "text": [
      "Epoch [357/400], Train Loss: 4.2732, Train_accuracy: 77.65143041781621, Val Loss: 1.5110, Val_accuracy: 76.39525780114081\n",
      "Model saved.\n"
     ]
    },
    {
     "name": "stderr",
     "output_type": "stream",
     "text": [
      " 90%|████████████████████████████████████████████████████████████████████████████████████████████████████████████████████████████████████████████████████████▏                 | 358/400 [58:01<06:50,  9.76s/it]"
     ]
    },
    {
     "name": "stdout",
     "output_type": "stream",
     "text": [
      "Epoch [358/400], Train Loss: 4.2703, Train_accuracy: 77.66820769020455, Val Loss: 1.5103, Val_accuracy: 76.40085001677664\n",
      "Model saved.\n"
     ]
    },
    {
     "name": "stderr",
     "output_type": "stream",
     "text": [
      " 90%|████████████████████████████████████████████████████████████████████████████████████████████████████████████████████████████████████████████████████████▌                 | 359/400 [58:10<06:36,  9.67s/it]"
     ]
    },
    {
     "name": "stdout",
     "output_type": "stream",
     "text": [
      "Epoch [359/400], Train Loss: 4.2674, Train_accuracy: 77.67939253846345, Val Loss: 1.5096, Val_accuracy: 76.41389851992693\n",
      "Model saved.\n"
     ]
    },
    {
     "name": "stderr",
     "output_type": "stream",
     "text": [
      " 90%|█████████████████████████████████████████████████████████████████████████████████████████████████████████████████████████████████████████████████████████                 | 360/400 [58:20<06:31,  9.79s/it]"
     ]
    },
    {
     "name": "stdout",
     "output_type": "stream",
     "text": [
      "Epoch [360/400], Train Loss: 4.2646, Train_accuracy: 77.69989809360476, Val Loss: 1.5090, Val_accuracy: 76.42321887931999\n",
      "Model saved.\n"
     ]
    },
    {
     "name": "stderr",
     "output_type": "stream",
     "text": [
      " 90%|█████████████████████████████████████████████████████████████████████████████████████████████████████████████████████████████████████████████████████████▍                | 361/400 [58:30<06:24,  9.86s/it]"
     ]
    },
    {
     "name": "stdout",
     "output_type": "stream",
     "text": [
      "Epoch [361/400], Train Loss: 4.2617, Train_accuracy: 77.71356846369895, Val Loss: 1.5083, Val_accuracy: 76.42881109495582\n",
      "Model saved.\n"
     ]
    },
    {
     "name": "stderr",
     "output_type": "stream",
     "text": [
      " 90%|█████████████████████████████████████████████████████████████████████████████████████████████████████████████████████████████████████████████████████████▊                | 362/400 [58:39<06:09,  9.72s/it]"
     ]
    },
    {
     "name": "stdout",
     "output_type": "stream",
     "text": [
      "Epoch [362/400], Train Loss: 4.2588, Train_accuracy: 77.7259960728755, Val Loss: 1.5076, Val_accuracy: 76.42135480744138\n"
     ]
    },
    {
     "name": "stderr",
     "output_type": "stream",
     "text": [
      " 91%|██████████████████████████████████████████████████████████████████████████████████████████████████████████████████████████████████████████████████████████▎               | 363/400 [58:49<06:02,  9.80s/it]"
     ]
    },
    {
     "name": "stdout",
     "output_type": "stream",
     "text": [
      "Epoch [363/400], Train Loss: 4.2560, Train_accuracy: 77.75271543260507, Val Loss: 1.5070, Val_accuracy: 76.43813145434888\n",
      "Model saved.\n"
     ]
    },
    {
     "name": "stderr",
     "output_type": "stream",
     "text": [
      " 91%|██████████████████████████████████████████████████████████████████████████████████████████████████████████████████████████████████████████████████████████▋               | 364/400 [58:59<05:53,  9.82s/it]"
     ]
    },
    {
     "name": "stdout",
     "output_type": "stream",
     "text": [
      "Epoch [364/400], Train Loss: 4.2531, Train_accuracy: 77.75582233489921, Val Loss: 1.5063, Val_accuracy: 76.456772173135\n",
      "Model saved.\n"
     ]
    },
    {
     "name": "stderr",
     "output_type": "stream",
     "text": [
      " 91%|███████████████████████████████████████████████████████████████████████████████████████████████████████████████████████████████████████████████████████████▏              | 365/400 [59:09<05:38,  9.67s/it]"
     ]
    },
    {
     "name": "stdout",
     "output_type": "stream",
     "text": [
      "Epoch [365/400], Train Loss: 4.2503, Train_accuracy: 77.76265751994632, Val Loss: 1.5057, Val_accuracy: 76.46982067628528\n",
      "Model saved.\n"
     ]
    },
    {
     "name": "stderr",
     "output_type": "stream",
     "text": [
      " 92%|███████████████████████████████████████████████████████████████████████████████████████████████████████████████████████████████████████████████████████████▌              | 366/400 [59:19<05:31,  9.75s/it]"
     ]
    },
    {
     "name": "stdout",
     "output_type": "stream",
     "text": [
      "Epoch [366/400], Train Loss: 4.2475, Train_accuracy: 77.77197822682872, Val Loss: 1.5050, Val_accuracy: 76.46982067628528\n"
     ]
    },
    {
     "name": "stderr",
     "output_type": "stream",
     "text": [
      " 92%|███████████████████████████████████████████████████████████████████████████████████████████████████████████████████████████████████████████████████████████▉              | 367/400 [59:29<05:24,  9.82s/it]"
     ]
    },
    {
     "name": "stdout",
     "output_type": "stream",
     "text": [
      "Epoch [367/400], Train Loss: 4.2446, Train_accuracy: 77.78254169462879, Val Loss: 1.5044, Val_accuracy: 76.4884613950714\n",
      "Model saved.\n"
     ]
    },
    {
     "name": "stderr",
     "output_type": "stream",
     "text": [
      " 92%|████████████████████████████████████████████████████████████████████████████████████████████████████████████████████████████████████████████████████████████▍             | 368/400 [59:38<05:10,  9.70s/it]"
     ]
    },
    {
     "name": "stdout",
     "output_type": "stream",
     "text": [
      "Epoch [368/400], Train Loss: 4.2418, Train_accuracy: 77.79745482564064, Val Loss: 1.5037, Val_accuracy: 76.5052380419789\n",
      "Model saved.\n"
     ]
    },
    {
     "name": "stderr",
     "output_type": "stream",
     "text": [
      " 92%|████████████████████████████████████████████████████████████████████████████████████████████████████████████████████████████████████████████████████████████▊             | 369/400 [59:48<05:03,  9.78s/it]"
     ]
    },
    {
     "name": "stdout",
     "output_type": "stream",
     "text": [
      "Epoch [369/400], Train Loss: 4.2390, Train_accuracy: 77.80366863022891, Val Loss: 1.5031, Val_accuracy: 76.49591768258584\n"
     ]
    },
    {
     "name": "stderr",
     "output_type": "stream",
     "text": [
      " 92%|█████████████████████████████████████████████████████████████████████████████████████████████████████████████████████████████████████████████████████████████▎            | 370/400 [59:58<04:53,  9.79s/it]"
     ]
    },
    {
     "name": "stdout",
     "output_type": "stream",
     "text": [
      "Epoch [370/400], Train Loss: 4.2363, Train_accuracy: 77.8055327716054, Val Loss: 1.5024, Val_accuracy: 76.51455840137196\n",
      "Model saved.\n"
     ]
    },
    {
     "name": "stderr",
     "output_type": "stream",
     "text": [
      " 93%|███████████████████████████████████████████████████████████████████████████████████████████████████████████████████████████████████████████████████████████▊            | 371/400 [1:00:07<04:40,  9.66s/it]"
     ]
    },
    {
     "name": "stdout",
     "output_type": "stream",
     "text": [
      "Epoch [371/400], Train Loss: 4.2335, Train_accuracy: 77.81858176124078, Val Loss: 1.5018, Val_accuracy: 76.52947097640084\n",
      "Model saved.\n"
     ]
    },
    {
     "name": "stderr",
     "output_type": "stream",
     "text": [
      " 93%|████████████████████████████████████████████████████████████████████████████████████████████████████████████████████████████████████████████████████████████▏           | 372/400 [1:00:17<04:32,  9.74s/it]"
     ]
    },
    {
     "name": "stdout",
     "output_type": "stream",
     "text": [
      "Epoch [372/400], Train Loss: 4.2307, Train_accuracy: 77.82355280491139, Val Loss: 1.5012, Val_accuracy: 76.53319912015807\n",
      "Model saved.\n"
     ]
    }
   ],
   "source": [
    "import os\n",
    "import torch\n",
    "from tqdm import tqdm\n",
    "import numpy as np\n",
    "from torch.optim.lr_scheduler import ReduceLROnPlateau\n",
    "from torch.utils.data import Dataset, DataLoader\n",
    "import argparse\n",
    "from utils import *\n",
    "from gene_expression import *\n",
    "from pathway_hierarchy import *\n",
    "import pandas as pd\n",
    "import yaml\n",
    "from custom_neural_network import *\n",
    "from custom_fc_network import *\n",
    "from datetime import datetime\n",
    "import csv\n",
    "import copy\n",
    "import pickle\n",
    "import random\n",
    "random.seed(0)\n",
    "np.random.seed(0)\n",
    "\n",
    "path_config = 'config.yml'\n",
    "model_dct = dict()\n",
    "\n",
    "# Hook function\n",
    "def hook_fn(module, input, output, layer_name):\n",
    "    global model_dct\n",
    "    input_list = [i.detach().cpu().numpy().tolist() for i in input]\n",
    "    output_list = output.detach().cpu().numpy().tolist()\n",
    "    \n",
    "    # If the layer name is not in the dictionary, create a new list for it\n",
    "    if layer_name not in model_dct:\n",
    "        model_dct[layer_name] = []\n",
    "\n",
    "    # Append the activations to the corresponding layer list\n",
    "    model_dct[layer_name].append({\n",
    "        'input': input_list,\n",
    "        'output': output_list\n",
    "    })\n",
    "\n",
    "\n",
    "\n",
    "# Define the file path for the CSV file\n",
    "def seed_worker(worker_id):\n",
    "    worker_seed = torch.initial_seed() % 2**32\n",
    "    np.random.seed(worker_seed)\n",
    "    random.seed(worker_seed)\n",
    "\n",
    "class TabularDataset(Dataset):\n",
    "    def __init__(self, count_matrix, label):\n",
    "        # Read the CSV file\n",
    "        self.data = count_matrix\n",
    "        # Separate features and target\n",
    "        self.features = self.data.values\n",
    "        self.target = label.values\n",
    "    \n",
    "    def __len__(self):\n",
    "        return len(self.data)\n",
    "    \n",
    "    def __getitem__(self, idx):\n",
    "        # Get features and target for a given index\n",
    "        features = torch.tensor(self.features[idx], dtype=torch.float32)\n",
    "        target = torch.tensor(self.target[idx], dtype=torch.float32)\n",
    "        return features, target\n",
    "\n",
    "def evaluate(model, dataloader):\n",
    "    model.eval()  # Set the model to evaluation mode\n",
    "    correct = 0\n",
    "    total = 0\n",
    "    predicted_list = []\n",
    "    probability_list = []\n",
    "    labels_list = []\n",
    "    criterion = nn.BCEWithLogitsLoss()\n",
    "    loss = 0\n",
    "    with torch.no_grad():  # No need to compute gradients during evaluation\n",
    "        for features, labels in dataloader:\n",
    "            outputs = model(features)\n",
    "            #print(outputs)\n",
    "            probability = torch.sigmoid(outputs.data)\n",
    "            predicted = torch.round(torch.sigmoid(outputs.data))\n",
    "            #print(outputs)\n",
    "            #print(predicted)\n",
    "            loss += criterion(outputs, labels)\n",
    "            #_, predicted = torch.sigmoid(outputs.data)\n",
    "            predicted_list.extend(predicted)\n",
    "            labels_list.extend(labels)\n",
    "            probability_list.extend(probability)\n",
    "            total += labels.size(0)\n",
    "            correct += (predicted == labels).sum().item()\n",
    "    #print(total)\n",
    "    accuracy = 100 * correct / total\n",
    "    return accuracy, loss, predicted_list, labels_list, probability_list\n",
    "\n",
    "def save_model(model_nn,model_path, model_state_dict_path):\n",
    "    \n",
    "    model_nn.eval()\n",
    "    torch.save(model_nn, model_path)\n",
    "    torch.save(model_nn.state_dict(), model_state_dict_path)\n",
    "\n",
    "\n",
    "\n",
    "\n",
    "def model_fc(train_dataloader , val_dataloader, test_dataloader, test_cell_id, layers_node, masking, output_layer,model_save_dir, date_string, learning_rate=0.001, num_epochs=50, weight_decay = 0):\n",
    "\n",
    "    model_nn = CustomfcNetwork(layers_node, output_layer, masking)\n",
    "    optimizer = optim.AdamW(model_nn.parameters(), lr=learning_rate,weight_decay = weight_decay )  # Using SGD with momentum\n",
    "    criterion = nn.BCEWithLogitsLoss()\n",
    "    scheduler = ReduceLROnPlateau(optimizer, mode='max', factor=0.1, patience=5, verbose=True)\n",
    "    patience = 20\n",
    "    best_val_accuracy = 0.0\n",
    "    epochs_no_improve = 0\n",
    "    early_stop = False\n",
    "    csv_file_path = f'{model_save_dir}{date_string}/fc_training_log_{output_layer}.csv'\n",
    "\n",
    "    try:\n",
    "        os.makedirs(f'{model_save_dir}{date_string}')\n",
    "    except:\n",
    "        print(('...'))\n",
    "\n",
    "    with open(csv_file_path, mode='w', newline='') as file:\n",
    "        writer = csv.writer(file)\n",
    "        writer.writerow(['Epoch', 'Train_Loss', 'Train_accuracy','Validation_Loss','Val_accuracy'])\n",
    "\n",
    "    for epoch in tqdm(range(num_epochs)):\n",
    "        if early_stop:\n",
    "            print(\"Early stopping\")\n",
    "            break\n",
    "        epoch_cost = 0.\n",
    "        \n",
    "        total_loss = 0\n",
    "        for batch_features,batch_targets in train_dataloader:\n",
    "            outputs = model_nn(batch_features)\n",
    "            #print(outputs)\n",
    "            #print(batch_targets)\n",
    "            #print(outputs)\n",
    "            loss = criterion(outputs, batch_targets)\n",
    "            \n",
    "            optimizer.zero_grad()\n",
    "            loss.backward()\n",
    "            optimizer.step()\n",
    "            \n",
    "            \n",
    "        \n",
    "        train_accuracy, train_loss, predicted_list_train, labels_list_train, train_probability_list = evaluate(model_nn, train_dataloader)\n",
    "        val_accuracy, val_loss, predicted_list_val, labels_list_val, val_probability_list = evaluate(model_nn, val_dataloader)\n",
    "        #scheduler.step(val_accuracy)\n",
    "        print(f'Epoch [{epoch+1}/{num_epochs}], Train Loss: {train_loss.item():.4f}, Train_accuracy: {train_accuracy}, Val Loss: {val_loss.item():.4f}, Val_accuracy: {val_accuracy}')\n",
    "        with open(csv_file_path, mode='a', newline='') as file:\n",
    "            writer = csv.writer(file)\n",
    "            writer.writerow([epoch + 1, loss.item(), train_accuracy, val_loss.item(), val_accuracy])\n",
    "        \n",
    "        if val_accuracy > best_val_accuracy:\n",
    "            best_val_accuracy = val_accuracy\n",
    "            epochs_no_improve = 0\n",
    "        # Save the best model\n",
    "            model_path = f'{model_save_dir}{date_string}/fc_best_model_{output_layer}.pth'\n",
    "            model_state_dict_path = f'{model_save_dir}{date_string}/fc_best_model_{output_layer}_state_dict.pth'\n",
    "            save_model(model_nn, model_path, model_state_dict_path)\n",
    "            best_model_nn = copy.deepcopy(model_nn)\n",
    "            #torch.save(model_nn, f'{model_save_dir}{date_string}/fc_best_model_{output_layer}.pth')\n",
    "            #torch.save(model_nn.state_dict(), f'{model_save_dir}{date_string}/fc_best_model_{output_layer}_state_dict.pth')\n",
    "            print('Model saved.')\n",
    "        else:\n",
    "            epochs_no_improve += 1\n",
    "    \n",
    "        # Early stopping\n",
    "        '''if epochs_no_improve >= patience:\n",
    "            early_stop = True\n",
    "            print(\"Early stopping triggered\")'''\n",
    "        \n",
    "    \n",
    "    train_accuracy, train_loss, predicted_list_train, labels_list_train, train_probability_list = evaluate(best_model_nn, train_dataloader)\n",
    "    val_accuracy, val_loss, predicted_list_val, labels_list_val, val_probability_list = evaluate(best_model_nn, val_dataloader)\n",
    "    test_accuracy, test_loss, predicted_list_test, labels_list_test, test_probability_list = evaluate(best_model_nn, test_dataloader)\n",
    "    print('Test Accucary', test_accuracy)\n",
    "    output_train = (predicted_list_train, labels_list_train)\n",
    "    output_val = (predicted_list_val, labels_list_val)\n",
    "\n",
    "    labels_list_test = [m.item() for m in labels_list_test]\n",
    "    predicted_list_test = [m.item() for m in predicted_list_test]\n",
    "    test_probability_list = [m.item() for m in test_probability_list]\n",
    "\n",
    "\n",
    "    test_df = pd.DataFrame({'cell_id': test_cell_id, 'true_y': labels_list_test, 'pred_y': predicted_list_test, 'probabilty': test_probability_list})\n",
    "    csv_file_path = f'{model_save_dir}{date_string}/fc_test_log_{output_layer}.csv'\n",
    "    test_df.to_csv(csv_file_path)\n",
    "    #torch.save(model_nn, f'{model_save_dir}{date_string}/fc_last_epoch_model_{output_layer}.pth')\n",
    "    return output_train, output_val,best_model_nn\n",
    "\n",
    "\n",
    "\n",
    "def model(train_dataloader , val_dataloader, test_dataloader, test_cell_id, layers_node, masking, output_layer,model_save_dir, date_string, learning_rate=0.001, num_epochs=50, weight_decay = 0):\n",
    "\n",
    "    model_nn = CustomNetwork(layers_node, output_layer, masking)\n",
    "    optimizer = optim.AdamW(model_nn.parameters(), lr=learning_rate,weight_decay = weight_decay )  # Using SGD with momentum\n",
    "    criterion = nn.BCEWithLogitsLoss()\n",
    "    scheduler = ReduceLROnPlateau(optimizer, mode='max', factor=0.1, patience=5, verbose=True)\n",
    "    patience = 20\n",
    "    best_val_accuracy = 0.0\n",
    "    epochs_no_improve = 0\n",
    "    early_stop = False\n",
    "    csv_file_path = f'{model_save_dir}{date_string}/training_log_{output_layer}.csv'\n",
    "\n",
    "    try:\n",
    "        os.makedirs(f'{model_save_dir}{date_string}')\n",
    "    except:\n",
    "        print(('...'))\n",
    "\n",
    "    with open(csv_file_path, mode='w', newline='') as file:\n",
    "        writer = csv.writer(file)\n",
    "        writer.writerow(['Epoch', 'Train_Loss', 'Train_accuracy','Validation_Loss','Val_accuracy'])\n",
    "\n",
    "    for epoch in tqdm(range(num_epochs)):\n",
    "        if early_stop:\n",
    "            print(\"Early stopping\")\n",
    "            break\n",
    "        epoch_cost = 0.\n",
    "        \n",
    "        total_loss = 0\n",
    "        for batch_features,batch_targets in train_dataloader:\n",
    "            \n",
    "            #print(outputs)\n",
    "            #print(batch_targets)\n",
    "            #print(outputs)\n",
    "            \n",
    "            \n",
    "            optimizer.zero_grad()\n",
    "            outputs = model_nn(batch_features)\n",
    "            loss = criterion(outputs, batch_targets)\n",
    "            loss.backward()\n",
    "            optimizer.step()\n",
    "            \n",
    "            \n",
    "        \n",
    "        train_accuracy, train_loss, predicted_list_train, labels_list_train, train_probability_list = evaluate(model_nn, train_dataloader)\n",
    "        val_accuracy, val_loss, predicted_list_val, labels_list_val, val_probability_list = evaluate(model_nn, val_dataloader)\n",
    "        #scheduler.step(val_accuracy)\n",
    "        print(f'Epoch [{epoch+1}/{num_epochs}], Train Loss: {train_loss.item():.4f}, Train_accuracy: {train_accuracy}, Val Loss: {val_loss.item():.4f}, Val_accuracy: {val_accuracy}')\n",
    "        with open(csv_file_path, mode='a', newline='') as file:\n",
    "            writer = csv.writer(file)\n",
    "            writer.writerow([epoch + 1, loss.item(), train_accuracy, val_loss.item(), val_accuracy])\n",
    "        \n",
    "        if val_accuracy > best_val_accuracy:\n",
    "            best_val_accuracy = val_accuracy\n",
    "            epochs_no_improve = 0\n",
    "        # Save the best model\n",
    "            model_path = f'{model_save_dir}{date_string}/best_model_{output_layer}.pth'\n",
    "            model_state_dict_path = f'{model_save_dir}{date_string}/best_model_{output_layer}_state_dict.pth'\n",
    "            save_model(model_nn, model_path, model_state_dict_path)\n",
    "            best_model_nn = copy.deepcopy(model_nn)\n",
    "            #torch.save(model_nn, f'{model_save_dir}{date_string}/best_model_{output_layer}.pth')\n",
    "            #torch.save(model_nn.state_dict(), f'{model_save_dir}{date_string}/best_model_{output_layer}_state_dict.pth')\n",
    "            print('Model saved.')\n",
    "        else:\n",
    "            epochs_no_improve += 1\n",
    "    \n",
    "        # Early stopping\n",
    "        '''if epochs_no_improve >= patience:\n",
    "            early_stop = True\n",
    "            print(\"Early stopping triggered\")'''\n",
    "        \n",
    "    \n",
    "    train_accuracy, train_loss, predicted_list_train, labels_list_train, train_probability_list = evaluate(best_model_nn, train_dataloader)\n",
    "    val_accuracy, val_loss, predicted_list_val, labels_list_val, val_probability_list = evaluate(best_model_nn, val_dataloader)\n",
    "    test_accuracy, test_loss, predicted_list_test, labels_list_test, test_probability_list = evaluate(best_model_nn, test_dataloader)\n",
    "    print('Test Accucary', test_accuracy)\n",
    "    output_train = (predicted_list_train, labels_list_train)\n",
    "    output_val = (predicted_list_val, labels_list_val)\n",
    "\n",
    "    labels_list_test = [m.item() for m in labels_list_test]\n",
    "    predicted_list_test = [m.item() for m in predicted_list_test]\n",
    "    test_probability_list = [m.item() for m in test_probability_list]\n",
    "\n",
    "\n",
    "    test_df = pd.DataFrame({'cell_id': test_cell_id, 'true_y': labels_list_test, 'pred_y': predicted_list_test, 'probabilty': test_probability_list})\n",
    "    csv_file_path = f'{model_save_dir}{date_string}/test_log_{output_layer}.csv'\n",
    "    test_df.to_csv(csv_file_path)\n",
    "    #torch.save(model_nn, f'{model_save_dir}{date_string}/last_epoch_model_{output_layer}.pth')\n",
    "    return output_train, output_val,best_model_nn\n",
    "\n",
    "\n",
    "def load_config(config_file):\n",
    "    with open(config_file, 'r') as file:\n",
    "        return yaml.safe_load(file)\n",
    "\n",
    "\n",
    "def main_file(path_config):\n",
    "\n",
    "    '''parser = argparse.ArgumentParser(description='Sample application with config and argparse')\n",
    "    parser.add_argument('--config', type=str, default='config.yml', help='Path to the configuration file')\n",
    "    args = parser.parse_args()'''\n",
    "\n",
    "    config = load_config(path_config)\n",
    "    print(config)\n",
    "    train = pd.read_csv(config['dataset']['train'],index_col=0)\n",
    "    test = pd.read_csv(config['dataset']['test'],index_col=0)\n",
    "    val = pd.read_csv(config['dataset']['val'],index_col=0)\n",
    "\n",
    "    y_train = pd.read_csv(config['dataset']['y_train'])\n",
    "    y_test = pd.read_csv(config['dataset']['y_test'])\n",
    "    y_val = pd.read_csv(config['dataset']['y_val'])\n",
    "  \n",
    "\n",
    "\n",
    "    r_data_tmp = train.T\n",
    "    q_data_tmp = test.T\n",
    "    v_data_tmp = val.T\n",
    "    r_label_tmp = y_train\n",
    "\n",
    "\n",
    "\n",
    "    pathway_relation, ensemble_pathway_relation = return_threshold_pathways(config['pathways_network']['pathway_relation'], \n",
    "                                  config['pathways_network']['ensemble_pathway_relation'],  config['pathways_network']['h_thresh'],\\\n",
    "                                      config['pathways_network']['l_thresh'])\n",
    "\n",
    "    if os.path.exists(config['pathways_network']['pathway_relation_updated']):\n",
    "        os.remove(config['pathways_network']['pathway_relation_updated'])\n",
    "\n",
    "    if os.path.exists(config['pathways_network']['ensemble_pathway_relation_updated']):\n",
    "        os.remove(config['pathways_network']['ensemble_pathway_relation_updated'])\n",
    "\n",
    "    pathway_relation.to_csv(config['pathways_network']['pathway_relation_updated'], sep = '\\t', index = False, header= False)\n",
    "    ensemble_pathway_relation.to_csv(config['pathways_network']['ensemble_pathway_relation_updated'], sep = '\\t', index = False, header= False)\n",
    "\n",
    "\n",
    "\n",
    "\n",
    "    print('Getting Marker Genes.......')\n",
    "    train_x, test_x, val_x, train_y = get_expression(r_data_tmp,\n",
    "                                                q_data_tmp,\n",
    "                                                v_data_tmp,\n",
    "                                                r_label_tmp,\n",
    "                                                thrh=config['gene_expression']['highly_expressed_threshold'],\n",
    "                                                thrl=config['gene_expression']['lowly_expressed_threshold'],\n",
    "                                                normalization=config['gene_expression']['normalization'],\n",
    "                                                marker=config['gene_expression']['marker'])\n",
    "    \n",
    "    print('Getting Pathway Genes.........')\n",
    "    pathway_genes = get_gene_pathways(config['pathways_network']['ensemble_pathway_relation_updated'], species=config['pathways_network']['species'])\n",
    "\n",
    "\n",
    "    print('Getting Masking.........')\n",
    "    masking, masking_df, layers_node, train_x, test_x,val_x = get_masking(config['pathways_network']['pathway_names'],\n",
    "                                                        pathway_genes,\n",
    "                                                        config['pathways_network']['pathway_relation_updated'],\n",
    "                                                        train_x,\n",
    "                                                        test_x,\n",
    "                                                        val_x,\n",
    "                                                        train_y,\n",
    "                                                        config['pathways_network']['datatype'],\n",
    "                                                        config['pathways_network']['species'],\n",
    "                                                        config['pathways_network']['n_hidden_layer'])\n",
    "\n",
    "    test_cell_id = list(test_x.T.index) \n",
    "    try:\n",
    "        masking = list(masking.values())\n",
    "        layers_node = list(layers_node.values())\n",
    "    except:\n",
    "        print('already_done')\n",
    "\n",
    "\n",
    "    train_dataset = TabularDataset(train_x.T,train_y)\n",
    "    val_dataset = TabularDataset(val_x.T,y_val)\n",
    "    test_dataset = TabularDataset(test_x.T,y_test)  \n",
    "    \n",
    "    \n",
    "\n",
    "    dataloader_params = {\n",
    "    'batch_size': config['train']['batch_size'],\n",
    "    'shuffle': False\n",
    "    }\n",
    "\n",
    "    train_dataloader = DataLoader(train_dataset,**dataloader_params)\n",
    "    test_dataloader = DataLoader(test_dataset, **dataloader_params)\n",
    "    val_dataloader = DataLoader(val_dataset,**dataloader_params)\n",
    "    # Example of iterating through the DataLoader\n",
    "\n",
    "\n",
    "    pred_y_df = pd.DataFrame(data=0, index=test_x.columns, columns=list(range(2, len(masking) + 2)))\n",
    "    train_y_df = pd.DataFrame(data=0, index=train_x.columns, columns=list(range(2, len(masking) + 2)))\n",
    "    model_dict_sparse = dict()\n",
    "    model_dict_fc = dict()\n",
    "    activation_output = {}\n",
    "    now = datetime.now()\n",
    "\n",
    "# Format the date as a string\n",
    "    date_string = datetime_string = now.strftime(\"%Y_%m_%d_%H_%M_%S\")\n",
    "\n",
    "    try:\n",
    "        os.makedirs(f'{config['model_output']['model_save_dir']}{date_string}')\n",
    "    except:\n",
    "        print(('...'))\n",
    "\n",
    "   \n",
    "\n",
    "    print('Training.........')\n",
    "    for output_layer in range(2, len(masking) + 2):\n",
    "        if config['gene_expression']['print_information']:\n",
    "            print(\"Current sub-neural network has \" + str(output_layer - 1) + \" hidden layers.\")\n",
    "        output_train, output_val,model_dict_sparse[output_layer] = model(train_dataloader,\n",
    "                                            val_dataloader,test_dataloader, test_cell_id,\n",
    "                                            layers_node,\n",
    "                                            masking,\n",
    "                                            output_layer,\n",
    "                                            model_save_dir = config['model_output']['model_save_dir'],date_string = date_string,\n",
    "                                            learning_rate=config['train']['learning_rate'],num_epochs=config['train']['epochs'],weight_decay = config['train']['weight_decay']\n",
    "                                        )  \n",
    "    '''\n",
    "    print('tranining_fully_connected_layers:')\n",
    "    for output_layer in range(2, len(masking) + 2):\n",
    "        if config['gene_expression']['print_information']:\n",
    "            print(\"Current sub-neural network has \" + str(output_layer - 1) + \" hidden layers.\")\n",
    "        output_train, output_val,model_dict_fc[output_layer] = model_fc(train_dataloader,\n",
    "                                            val_dataloader,test_dataloader, test_cell_id,\n",
    "                                            layers_node,\n",
    "                                            masking,\n",
    "                                            output_layer,\n",
    "                                            model_save_dir = config['model_output']['model_save_dir'],date_string = date_string,\n",
    "                                            learning_rate=config['train']['learning_rate'],num_epochs=config['train']['epochs'],weight_decay = config['train']['weight_decay']\n",
    "                                        )  \n",
    "    '''\n",
    "    \n",
    "    new_parameter = {'date_string': date_string}\n",
    "    config.update(new_parameter)\n",
    "    save_path =   str(config['model_output']['model_save_dir'])+ date_string + '/config.yml'\n",
    "    with open(save_path, 'w') as file:\n",
    "        yaml.dump(config, file)\n",
    "\n",
    "        \n",
    "    for i in range(len(masking_df)):\n",
    "        masking_df[i].to_csv(str(config['model_output']['model_save_dir'])+ date_string+ '/' +f'masking_df_{i}.csv')\n",
    "    \n",
    "   \n",
    "        \n",
    "    return model_dict_sparse, val_dataloader, test_dataloader, train_dataloader, train_x, train_y, val_x, y_val, test_x, y_test, config\n",
    "\n",
    "   \n",
    "model_dict_sparse, val_dataloader, test_dataloader, train_dataloader,train_x, train_y, val_x, y_val, test_x, y_test, config = main_file(path_config= path_config)\n",
    "for j,i in model_dict_sparse.items():\n",
    "\n",
    "# Assuming 'model' is your neural network\n",
    "    torch.save(i.state_dict(), f'{config['model_output']['model_save_dir']}{config['date_string']}/model_{j}_state_dict_jupyter_notebook.pth')\n",
    "\n",
    "\n",
    "for j,i in model_dict_sparse.items():\n",
    "        \n",
    "        print(f'Hidden_Layers: {j}')\n",
    "        accuracy, loss, predicted_list, labels_list, probability_list = evaluate(i, test_dataloader)\n",
    "        print(f'Test Accuracy: {accuracy}')   \n",
    "        accuracy, loss, predicted_list, labels_list, probability_list = evaluate(i, train_dataloader)\n",
    "        print(f'Train Accuracy: {accuracy}')   \n",
    "        accuracy, loss, predicted_list, labels_list, probability_list = evaluate(i, val_dataloader)\n",
    "        print(f'Validation Accuracy: {accuracy}') "
   ]
  },
  {
   "cell_type": "code",
   "execution_count": null,
   "id": "257d1ba9-d164-46ef-ad95-7a60a7acab7c",
   "metadata": {},
   "outputs": [],
   "source": []
  },
  {
   "cell_type": "code",
   "execution_count": null,
   "id": "9844d5be-484a-4fda-9579-429cc3fb7ec1",
   "metadata": {},
   "outputs": [],
   "source": []
  },
  {
   "cell_type": "code",
   "execution_count": 1,
   "id": "32a465e1-58ab-4f18-9943-54217f87d0cd",
   "metadata": {},
   "outputs": [
    {
     "ename": "NameError",
     "evalue": "name 'TabularDataset' is not defined",
     "output_type": "error",
     "traceback": [
      "\u001b[0;31m---------------------------------------------------------------------------\u001b[0m",
      "\u001b[0;31mNameError\u001b[0m                                 Traceback (most recent call last)",
      "Cell \u001b[0;32mIn[1], line 1\u001b[0m\n\u001b[0;32m----> 1\u001b[0m train_dataset \u001b[38;5;241m=\u001b[39m \u001b[43mTabularDataset\u001b[49m(train_x\u001b[38;5;241m.\u001b[39mT,train_y)\n\u001b[1;32m      2\u001b[0m val_dataset \u001b[38;5;241m=\u001b[39m TabularDataset(val_x\u001b[38;5;241m.\u001b[39mT,y_val)\n\u001b[1;32m      3\u001b[0m test_dataset \u001b[38;5;241m=\u001b[39m TabularDataset(test_x\u001b[38;5;241m.\u001b[39mT,y_test) \n",
      "\u001b[0;31mNameError\u001b[0m: name 'TabularDataset' is not defined"
     ]
    }
   ],
   "source": [
    "\n",
    "train_dataset = TabularDataset(train_x.T,train_y)\n",
    "val_dataset = TabularDataset(val_x.T,y_val)\n",
    "test_dataset = TabularDataset(test_x.T,y_test) \n",
    "\n",
    "dataloader_params = {\n",
    "    'batch_size': 1,\n",
    "    'shuffle': False\n",
    "    }\n",
    "\n",
    "train_dataloader = DataLoader(train_dataset,**dataloader_params)\n",
    "test_dataloader = DataLoader(test_dataset, **dataloader_params)\n",
    "val_dataloader = DataLoader(val_dataset,**dataloader_params)\n",
    "\n",
    "for j,i in model_dict_sparse.items():\n",
    "        \n",
    "        print(f'Hidden_Layers: {j}')\n",
    "        accuracy, loss, predicted_list, labels_list, probability_list = evaluate(i, test_dataloader)\n",
    "        print(f'Test Accuracy: {accuracy}')   \n",
    "        accuracy, loss, predicted_list, labels_list, probability_list = evaluate(i, train_dataloader)\n",
    "        print(f'Train Accuracy: {accuracy}')   \n",
    "        accuracy, loss, predicted_list, labels_list, probability_list = evaluate(i, val_dataloader)\n",
    "        print(f'Validation Accuracy: {accuracy}')"
   ]
  },
  {
   "cell_type": "code",
   "execution_count": null,
   "id": "07cf86ae-23f8-429d-838e-df8abde3c2ca",
   "metadata": {},
   "outputs": [],
   "source": [
    "config"
   ]
  },
  {
   "cell_type": "code",
   "execution_count": null,
   "id": "01c89375-5f2d-4175-958c-8c59fc2b1667",
   "metadata": {},
   "outputs": [],
   "source": [
    "config['model_output']['model_save_dir'] "
   ]
  },
  {
   "cell_type": "code",
   "execution_count": null,
   "id": "867f09af-cd2b-45d7-ac06-29e192830d90",
   "metadata": {},
   "outputs": [],
   "source": [
    "train_x"
   ]
  },
  {
   "cell_type": "code",
   "execution_count": null,
   "id": "4dce6d6f-cadc-4111-bc5c-6618bec14a2f",
   "metadata": {},
   "outputs": [],
   "source": [
    "model_dict_sparse"
   ]
  },
  {
   "cell_type": "code",
   "execution_count": null,
   "id": "b8458044-062e-48b9-a957-11ed67272bc4",
   "metadata": {},
   "outputs": [],
   "source": [
    "model_dict_sparse[2]"
   ]
  },
  {
   "cell_type": "code",
   "execution_count": null,
   "id": "5337d8b1-82eb-4825-be59-e962176e58a0",
   "metadata": {},
   "outputs": [],
   "source": [
    "accuracy, loss, predicted_list, labels_list, probability_list = evaluate(model_dict_sparse[2], test_dataloader)\n",
    "accuracy"
   ]
  },
  {
   "cell_type": "code",
   "execution_count": null,
   "id": "e823f1ea-15ab-417a-a6ca-9976f4876d88",
   "metadata": {},
   "outputs": [],
   "source": [
    "for features, labels in test_dataloader:\n",
    "    print(labels)\n",
    "    print(features.shape)\n",
    "    break"
   ]
  },
  {
   "cell_type": "code",
   "execution_count": null,
   "id": "6022339a-cf84-4801-b60c-666f947f77c3",
   "metadata": {},
   "outputs": [],
   "source": [
    "config"
   ]
  },
  {
   "cell_type": "markdown",
   "id": "079d4f44-e871-4952-9ec7-a37a4e2f2140",
   "metadata": {},
   "source": [
    "# Result Analysis"
   ]
  },
  {
   "cell_type": "code",
   "execution_count": null,
   "id": "3df282de-5393-4213-93f2-b894ae0760b4",
   "metadata": {},
   "outputs": [],
   "source": [
    "import pandas as pd\n",
    "import matplotlib.pyplot as plt\n",
    "from sklearn.metrics import confusion_matrix, ConfusionMatrixDisplay\n",
    "def confusion_matrix_return(result):\n",
    "    cm = confusion_matrix(result['true_y'], result['pred_y'])\n",
    "    \n",
    "    # Plot the confusion matrix\n",
    "    disp = ConfusionMatrixDisplay(confusion_matrix=cm, display_labels=[0, 1])\n",
    "    disp.plot(cmap=plt.cm.Blues)\n",
    "    plt.title('Confusion Matrix')\n",
    "    plt.show()"
   ]
  },
  {
   "cell_type": "code",
   "execution_count": null,
   "id": "8044567b-d707-4878-a47d-09abd45a779c",
   "metadata": {},
   "outputs": [],
   "source": [
    "from sklearn.metrics import roc_curve, roc_auc_score\n",
    "\n",
    "def roc_curve_return(result):\n",
    "    \n",
    "    # Calculate the ROC curve\n",
    "    fpr, tpr, thresholds = roc_curve(result['true_y'], result['probabilty'])\n",
    "    \n",
    "    # Calculate the AUC\n",
    "    auc = roc_auc_score(result['true_y'], result['probabilty'])\n",
    "    print(f'AUC: {auc}')\n",
    "    \n",
    "    # Plot the ROC curve\n",
    "    plt.figure()\n",
    "    plt.plot(fpr, tpr, color='blue', lw=2, label=f'ROC curve (area = {auc:.2f})')\n",
    "    plt.plot([0, 1], [0, 1], color='gray', lw=2, linestyle='--')\n",
    "    plt.xlim([0.0, 1.0])\n",
    "    plt.ylim([0.0, 1.05])\n",
    "    plt.xlabel('False Positive Rate')\n",
    "    plt.ylabel('True Positive Rate')\n",
    "    plt.title('Receiver Operating Characteristic (ROC) Curve')\n",
    "    plt.legend(loc='lower right')\n",
    "    plt.show()"
   ]
  },
  {
   "cell_type": "code",
   "execution_count": 3,
   "id": "b6a4324c-0a47-4e2e-9027-dc86272376c6",
   "metadata": {},
   "outputs": [],
   "source": [
    "\n",
    "\n",
    "import pandas as pd\n",
    "from sklearn.metrics import precision_score\n",
    "\n",
    "# Sample DataFrame\n",
    "def return_accuracy(result):\n",
    "    df = result.copy()\n",
    "    \n",
    "    # Calculate positive accuracy (precision for positive class)\n",
    "    positive_accuracy = precision_score(df['true_y'], df['pred_y'], pos_label=1)\n",
    "    \n",
    "    # Calculate negative accuracy (precision for negative class)\n",
    "    negative_accuracy = precision_score(df['true_y'], df['pred_y'], pos_label=0)\n",
    "    \n",
    "    print(f'Positive Accuracy (Precision for positive class): {positive_accuracy}')\n",
    "    print(f'Negative Accuracy (Precision for negative class): {negative_accuracy}')"
   ]
  },
  {
   "cell_type": "code",
   "execution_count": 4,
   "id": "dbc4a90f-e31d-47c8-a3f7-06876d627576",
   "metadata": {},
   "outputs": [
    {
     "ename": "NameError",
     "evalue": "name 'config' is not defined",
     "output_type": "error",
     "traceback": [
      "\u001b[0;31m---------------------------------------------------------------------------\u001b[0m",
      "\u001b[0;31mNameError\u001b[0m                                 Traceback (most recent call last)",
      "Cell \u001b[0;32mIn[4], line 1\u001b[0m\n\u001b[0;32m----> 1\u001b[0m dir_path \u001b[38;5;241m=\u001b[39m \u001b[43mconfig\u001b[49m[\u001b[38;5;124m'\u001b[39m\u001b[38;5;124mmodel_output\u001b[39m\u001b[38;5;124m'\u001b[39m][\u001b[38;5;124m'\u001b[39m\u001b[38;5;124mmodel_save_dir\u001b[39m\u001b[38;5;124m'\u001b[39m] \u001b[38;5;241m+\u001b[39m config[\u001b[38;5;124m'\u001b[39m\u001b[38;5;124mdate_string\u001b[39m\u001b[38;5;124m'\u001b[39m]\u001b[38;5;241m+\u001b[39m \u001b[38;5;124m'\u001b[39m\u001b[38;5;124m/\u001b[39m\u001b[38;5;124m'\u001b[39m \u001b[38;5;241m+\u001b[39m \u001b[38;5;124m'\u001b[39m\u001b[38;5;124mtest_log_\u001b[39m\u001b[38;5;124m'\u001b[39m\n\u001b[1;32m      3\u001b[0m \u001b[38;5;28;01mfor\u001b[39;00m i \u001b[38;5;129;01min\u001b[39;00m \u001b[38;5;28mrange\u001b[39m(\u001b[38;5;241m2\u001b[39m,config[\u001b[38;5;124m'\u001b[39m\u001b[38;5;124mpathways_network\u001b[39m\u001b[38;5;124m'\u001b[39m][\u001b[38;5;124m'\u001b[39m\u001b[38;5;124mn_hidden_layer\u001b[39m\u001b[38;5;124m'\u001b[39m]\u001b[38;5;241m+\u001b[39m\u001b[38;5;241m2\u001b[39m):\n\u001b[1;32m      4\u001b[0m     \u001b[38;5;28mprint\u001b[39m(\u001b[38;5;124m'\u001b[39m\u001b[38;5;124m-\u001b[39m\u001b[38;5;124m'\u001b[39m\u001b[38;5;241m*\u001b[39m\u001b[38;5;241m282\u001b[39m)\n",
      "\u001b[0;31mNameError\u001b[0m: name 'config' is not defined"
     ]
    }
   ],
   "source": [
    "dir_path = config['model_output']['model_save_dir'] + config['date_string']+ '/' + 'test_log_'\n",
    "\n",
    "for i in range(2,config['pathways_network']['n_hidden_layer']+2):\n",
    "    print('-'*282)\n",
    "    print(f'Number of Hidden Layers: {i-1}')\n",
    "    result = pd.read_csv(f'{dir_path}{i}.csv',index_col=0)\n",
    "\n",
    "    confusion_matrix_return(result)\n",
    "    roc_curve_return(result)\n",
    "    return_accuracy(result)"
   ]
  },
  {
   "cell_type": "markdown",
   "id": "a0033209-555e-4136-8c99-bdd45b8bd2ee",
   "metadata": {},
   "source": [
    "# Model Interpretation"
   ]
  },
  {
   "cell_type": "code",
   "execution_count": 5,
   "id": "8b688d50-c892-4781-8630-259ed9e5078b",
   "metadata": {},
   "outputs": [],
   "source": [
    "# Define a hook function to capture the activations\n",
    "\n",
    "\n",
    "def get_activation(name, number_of_layers, config, activations):\n",
    "    def hook(model, input, output):\n",
    "        # Convert output to numpy array for easier handling, but this is optional\n",
    "        activations[name] = output.detach().numpy()\n",
    "        \n",
    "           \n",
    "    return hook\n",
    "def attaching_hook(model, dataloader):\n",
    "    \n",
    "        correct = 0\n",
    "        total = 0\n",
    "        predicted_list = []\n",
    "        probability_list = []\n",
    "        labels_list = []\n",
    "        activations_list = []\n",
    "        features_list = []\n",
    "        criterion = nn.BCEWithLogitsLoss()\n",
    "        loss = 0\n",
    "        \n",
    "\n",
    "        with torch.no_grad():  # No need to compute gradients during evaluation\n",
    "            for sample_idx, (features, labels) in tqdm(enumerate(dataloader)):\n",
    "                \n",
    "                \n",
    "                #print(labels)\n",
    "                #print(features.shape)\n",
    "                activations = {}\n",
    "                for idx, layer in enumerate(model.layers):\n",
    "                    layer_name = f'layer_{idx}'\n",
    "                    number_of_layers = len(model.layers)\n",
    "                    activation_hook = get_activation(layer_name, number_of_layers, config, activations)\n",
    "                    \n",
    "                    layer.register_forward_hook(activation_hook)\n",
    "    \n",
    "                outputs =  model(features)\n",
    "                    #print(outputs)\n",
    "                probability = torch.sigmoid(outputs.data)\n",
    "                predicted = torch.round(torch.sigmoid(outputs.data))\n",
    "                    #print(outputs)\n",
    "                    #print(predicted)\n",
    "                #loss += criterion(outputs, labels)\n",
    "                    #_, predicted = torch.sigmoid(outputs.data)\n",
    "                predicted_list.extend(predicted.detach().numpy())\n",
    "                labels_list.extend(labels.detach().numpy())\n",
    "                probability_list.extend(probability.detach().numpy())\n",
    "                features_list.append(features)\n",
    "                total += labels.size(0)\n",
    "                x = activations\n",
    "                activations_temp = activations.copy()\n",
    "                activations_list.append(activations_temp)\n",
    "                \n",
    "                correct += (predicted == labels).sum().item()\n",
    "                '''if sample_idx == 1000:\n",
    "                    #print(activations_list)\n",
    "                    break'''\n",
    "                \n",
    "            #print(total)\n",
    "        accuracy = 100 * correct / total\n",
    "        #print(activations_list)\n",
    "        return activations_list, accuracy, predicted_list, labels_list, features_list,x\n",
    "        \n"
   ]
  },
  {
   "cell_type": "code",
   "execution_count": 6,
   "id": "c3aad112-b683-4ca7-a7de-eda25b51adeb",
   "metadata": {},
   "outputs": [],
   "source": [
    "\n",
    "def return_feature_importance(model_dict_sparse, dataloader):\n",
    "    predicted_list_dict = {}\n",
    "    ground_truth_list_dict = {}\n",
    "    activations_list_dict = {}\n",
    "    accuracy_list_dict = {}\n",
    "    for i, j in model_dict_sparse.items():\n",
    "        #accuracy, loss, predicted_list, labels_list, probability_list = evaluate(j, dataloader)\n",
    "        \n",
    "        activations_list_dict[f'model_{i}_hidden_layers'], accuracy_list_dict[f'model_{i}_hidden_layers'], \\\n",
    "        predicted_list_dict[f'model_{i}_hidden_layers'], ground_truth_list_dict[f'model_{i}_hidden_layers'], \\\n",
    "        feature_list,x= attaching_hook(j, dataloader)\n",
    "        print(f'{i} Layers: {accuracy_list_dict[f'model_{i}_hidden_layers']}')\n",
    "        \n",
    "    return activations_list_dict, accuracy_list_dict, predicted_list_dict, ground_truth_list_dict, feature_list,x"
   ]
  },
  {
   "cell_type": "code",
   "execution_count": 19,
   "id": "f21569bf-6144-4f5d-bccb-7336562f40d1",
   "metadata": {},
   "outputs": [
    {
     "name": "stderr",
     "output_type": "stream",
     "text": [
      "4696it [00:35, 130.83it/s]\n"
     ]
    },
    {
     "name": "stdout",
     "output_type": "stream",
     "text": [
      "2 Layers: 66.69505962521295\n"
     ]
    },
    {
     "name": "stderr",
     "output_type": "stream",
     "text": [
      "4696it [00:56, 82.91it/s] \n"
     ]
    },
    {
     "name": "stdout",
     "output_type": "stream",
     "text": [
      "3 Layers: 62.86201022146508\n"
     ]
    },
    {
     "name": "stderr",
     "output_type": "stream",
     "text": [
      "4696it [01:20, 58.58it/s] "
     ]
    },
    {
     "name": "stdout",
     "output_type": "stream",
     "text": [
      "4 Layers: 62.116695059625215\n"
     ]
    },
    {
     "name": "stderr",
     "output_type": "stream",
     "text": [
      "\n"
     ]
    }
   ],
   "source": [
    "\n",
    "activations_list_dict, accuracy_list_dict, predicted_list_dict, ground_truth_list_dict, feature_list,x = return_feature_importance(model_dict_sparse, test_dataloader)"
   ]
  },
  {
   "cell_type": "code",
   "execution_count": 20,
   "id": "a4b76f36-8d00-4f25-845c-ce4dfda18476",
   "metadata": {},
   "outputs": [],
   "source": [
    "def return_feature_importance_list(activations_list_dict, model_name):\n",
    "    m=0\n",
    "    for k in tqdm(activations_list_dict[model_name]):\n",
    "        #print(k)\n",
    "        if m == 0:\n",
    "            layer_dict = {key: [] for key in list(k.keys())}\n",
    "        m = m+1\n",
    "        \n",
    "        #print(k['0_layer_0'])\n",
    "        for z in list(layer_dict.keys()):\n",
    "            #print(k)\n",
    "            layer_dict[z].append(k[z][0])\n",
    "\n",
    "    return layer_dict\n",
    "    "
   ]
  },
  {
   "cell_type": "code",
   "execution_count": 21,
   "id": "74fd88a9-b562-4c01-b365-ea928e2d2628",
   "metadata": {},
   "outputs": [
    {
     "name": "stderr",
     "output_type": "stream",
     "text": [
      "100%|████████████████████████████████████████████████████████████████████████████████████████████████████████████████████████████████████████████████████████████████████| 4696/4696 [00:00<00:00, 862819.85it/s]\n"
     ]
    }
   ],
   "source": [
    "\n",
    "layer_dict = return_feature_importance_list(activations_list_dict, 'model_2_hidden_layers')\n",
    "layer_node_name_dict = {}\n",
    "for i in range(config['pathways_network']['n_hidden_layer']+1):\n",
    "    nodes_df = pd.read_csv(config['model_output']['model_save_dir'] + config['date_string'] + '/' + 'masking_df_' + \\\n",
    "    f'{config['pathways_network']['n_hidden_layer']-i}'+ '.csv', index_col = 0)\n",
    "    layer_node_name_dict[f'layer_{i-1}'] = nodes_df.columns\n",
    "    \n",
    "\n",
    "layer_node_name_dict['final_layer'] = ['last_layer']\n",
    "\n",
    "li = []\n",
    "for i in layer_dict['layer_0']:\n",
    "    li.append(list(i))\n",
    "    \n",
    "layer_0_df = pd.DataFrame(li,index = test_x.columns, columns=layer_node_name_dict['layer_0'])\n",
    "layer_0_df\n",
    "\n",
    "li = []\n",
    "for i in layer_dict['layer_1']:\n",
    "    li.append(list(i))\n",
    "    \n",
    "last_layer_df = pd.DataFrame(li,index = test_x.columns, columns=layer_node_name_dict['final_layer'])\n"
   ]
  },
  {
   "cell_type": "code",
   "execution_count": 23,
   "id": "ce99c197-9654-42aa-9dc4-8785e258c4b8",
   "metadata": {},
   "outputs": [
    {
     "data": {
      "text/html": [
       "<div>\n",
       "<style scoped>\n",
       "    .dataframe tbody tr th:only-of-type {\n",
       "        vertical-align: middle;\n",
       "    }\n",
       "\n",
       "    .dataframe tbody tr th {\n",
       "        vertical-align: top;\n",
       "    }\n",
       "\n",
       "    .dataframe thead th {\n",
       "        text-align: right;\n",
       "    }\n",
       "</style>\n",
       "<table border=\"1\" class=\"dataframe\">\n",
       "  <thead>\n",
       "    <tr style=\"text-align: right;\">\n",
       "      <th></th>\n",
       "      <th>R-HSA-3315487</th>\n",
       "      <th>R-HSA-3656532</th>\n",
       "      <th>R-HSA-209560_copy1</th>\n",
       "      <th>R-HSA-5205685_copy1</th>\n",
       "      <th>R-HSA-9032759_copy1</th>\n",
       "      <th>R-HSA-2514859_copy1</th>\n",
       "      <th>R-HSA-5358747</th>\n",
       "      <th>R-HSA-1971475_copy1</th>\n",
       "      <th>R-HSA-73776_copy1</th>\n",
       "      <th>R-HSA-159227_copy1</th>\n",
       "      <th>...</th>\n",
       "      <th>R-HSA-141430_copy1</th>\n",
       "      <th>R-HSA-9635465</th>\n",
       "      <th>R-HSA-389960_copy1</th>\n",
       "      <th>R-HSA-114508_copy2</th>\n",
       "      <th>R-HSA-9013419_copy1</th>\n",
       "      <th>R-HSA-2161541_copy1</th>\n",
       "      <th>R-HSA-6788467_copy1</th>\n",
       "      <th>R-HSA-3560801_copy1</th>\n",
       "      <th>R-HSA-8875555_copy1</th>\n",
       "      <th>R-HSA-416993</th>\n",
       "    </tr>\n",
       "    <tr>\n",
       "      <th>cell_id</th>\n",
       "      <th></th>\n",
       "      <th></th>\n",
       "      <th></th>\n",
       "      <th></th>\n",
       "      <th></th>\n",
       "      <th></th>\n",
       "      <th></th>\n",
       "      <th></th>\n",
       "      <th></th>\n",
       "      <th></th>\n",
       "      <th></th>\n",
       "      <th></th>\n",
       "      <th></th>\n",
       "      <th></th>\n",
       "      <th></th>\n",
       "      <th></th>\n",
       "      <th></th>\n",
       "      <th></th>\n",
       "      <th></th>\n",
       "      <th></th>\n",
       "      <th></th>\n",
       "    </tr>\n",
       "  </thead>\n",
       "  <tbody>\n",
       "    <tr>\n",
       "      <th>CACAACATCGTCCTTG.26.2</th>\n",
       "      <td>-0.104177</td>\n",
       "      <td>0.128060</td>\n",
       "      <td>0.010123</td>\n",
       "      <td>0.171800</td>\n",
       "      <td>0.378658</td>\n",
       "      <td>-0.086698</td>\n",
       "      <td>0.091002</td>\n",
       "      <td>-0.201550</td>\n",
       "      <td>0.261269</td>\n",
       "      <td>-0.081268</td>\n",
       "      <td>...</td>\n",
       "      <td>-0.191488</td>\n",
       "      <td>0.183320</td>\n",
       "      <td>-0.222688</td>\n",
       "      <td>0.238013</td>\n",
       "      <td>-0.061297</td>\n",
       "      <td>-0.146795</td>\n",
       "      <td>0.248670</td>\n",
       "      <td>-0.127721</td>\n",
       "      <td>0.462251</td>\n",
       "      <td>-0.377998</td>\n",
       "    </tr>\n",
       "    <tr>\n",
       "      <th>AGCTTCCGTCTCTCTG.9.9</th>\n",
       "      <td>0.000000</td>\n",
       "      <td>0.182171</td>\n",
       "      <td>0.000000</td>\n",
       "      <td>-0.176692</td>\n",
       "      <td>0.246327</td>\n",
       "      <td>0.090808</td>\n",
       "      <td>0.050610</td>\n",
       "      <td>-0.299075</td>\n",
       "      <td>0.129498</td>\n",
       "      <td>0.000000</td>\n",
       "      <td>...</td>\n",
       "      <td>0.000000</td>\n",
       "      <td>0.148118</td>\n",
       "      <td>-0.112575</td>\n",
       "      <td>0.702499</td>\n",
       "      <td>0.000000</td>\n",
       "      <td>0.000000</td>\n",
       "      <td>0.355612</td>\n",
       "      <td>-0.234067</td>\n",
       "      <td>0.169219</td>\n",
       "      <td>-0.423348</td>\n",
       "    </tr>\n",
       "    <tr>\n",
       "      <th>CGCCAGACAACAAGTA.17.11</th>\n",
       "      <td>-0.120349</td>\n",
       "      <td>0.228286</td>\n",
       "      <td>0.071449</td>\n",
       "      <td>0.011055</td>\n",
       "      <td>0.518755</td>\n",
       "      <td>-0.014310</td>\n",
       "      <td>0.083217</td>\n",
       "      <td>-0.186013</td>\n",
       "      <td>0.227450</td>\n",
       "      <td>-0.122589</td>\n",
       "      <td>...</td>\n",
       "      <td>0.000000</td>\n",
       "      <td>0.225380</td>\n",
       "      <td>-0.098334</td>\n",
       "      <td>0.302307</td>\n",
       "      <td>0.000000</td>\n",
       "      <td>-0.116238</td>\n",
       "      <td>0.225101</td>\n",
       "      <td>-0.162024</td>\n",
       "      <td>0.236334</td>\n",
       "      <td>-0.384918</td>\n",
       "    </tr>\n",
       "    <tr>\n",
       "      <th>GGGATGATCGTAACAC.7.4</th>\n",
       "      <td>-0.186852</td>\n",
       "      <td>0.068468</td>\n",
       "      <td>-0.056526</td>\n",
       "      <td>-0.028001</td>\n",
       "      <td>0.518847</td>\n",
       "      <td>0.015822</td>\n",
       "      <td>0.088915</td>\n",
       "      <td>-0.159729</td>\n",
       "      <td>0.074406</td>\n",
       "      <td>0.000000</td>\n",
       "      <td>...</td>\n",
       "      <td>-0.115525</td>\n",
       "      <td>0.229217</td>\n",
       "      <td>-0.155028</td>\n",
       "      <td>0.542527</td>\n",
       "      <td>-0.065121</td>\n",
       "      <td>0.000000</td>\n",
       "      <td>0.000000</td>\n",
       "      <td>-0.259453</td>\n",
       "      <td>0.297295</td>\n",
       "      <td>-0.190980</td>\n",
       "    </tr>\n",
       "    <tr>\n",
       "      <th>ACGTTCCGTATTCTCT.5.11</th>\n",
       "      <td>0.000000</td>\n",
       "      <td>0.000000</td>\n",
       "      <td>0.000000</td>\n",
       "      <td>0.354219</td>\n",
       "      <td>0.000000</td>\n",
       "      <td>0.000000</td>\n",
       "      <td>0.000000</td>\n",
       "      <td>-0.191324</td>\n",
       "      <td>0.000000</td>\n",
       "      <td>0.000000</td>\n",
       "      <td>...</td>\n",
       "      <td>0.000000</td>\n",
       "      <td>0.000000</td>\n",
       "      <td>0.000000</td>\n",
       "      <td>0.000000</td>\n",
       "      <td>0.000000</td>\n",
       "      <td>0.000000</td>\n",
       "      <td>0.000000</td>\n",
       "      <td>0.299068</td>\n",
       "      <td>0.000000</td>\n",
       "      <td>-0.592075</td>\n",
       "    </tr>\n",
       "    <tr>\n",
       "      <th>...</th>\n",
       "      <td>...</td>\n",
       "      <td>...</td>\n",
       "      <td>...</td>\n",
       "      <td>...</td>\n",
       "      <td>...</td>\n",
       "      <td>...</td>\n",
       "      <td>...</td>\n",
       "      <td>...</td>\n",
       "      <td>...</td>\n",
       "      <td>...</td>\n",
       "      <td>...</td>\n",
       "      <td>...</td>\n",
       "      <td>...</td>\n",
       "      <td>...</td>\n",
       "      <td>...</td>\n",
       "      <td>...</td>\n",
       "      <td>...</td>\n",
       "      <td>...</td>\n",
       "      <td>...</td>\n",
       "      <td>...</td>\n",
       "      <td>...</td>\n",
       "    </tr>\n",
       "    <tr>\n",
       "      <th>CATCAAGTCCTCGCAT.19.1</th>\n",
       "      <td>0.000000</td>\n",
       "      <td>0.000000</td>\n",
       "      <td>0.149445</td>\n",
       "      <td>0.217579</td>\n",
       "      <td>0.438324</td>\n",
       "      <td>0.043964</td>\n",
       "      <td>0.059833</td>\n",
       "      <td>-0.162424</td>\n",
       "      <td>-0.391722</td>\n",
       "      <td>0.000000</td>\n",
       "      <td>...</td>\n",
       "      <td>-0.104156</td>\n",
       "      <td>0.327104</td>\n",
       "      <td>-0.248611</td>\n",
       "      <td>0.653575</td>\n",
       "      <td>0.000000</td>\n",
       "      <td>0.000000</td>\n",
       "      <td>0.000000</td>\n",
       "      <td>-0.263830</td>\n",
       "      <td>0.000000</td>\n",
       "      <td>-0.280876</td>\n",
       "    </tr>\n",
       "    <tr>\n",
       "      <th>GTCAGCGGTCTGATAC.45.2</th>\n",
       "      <td>-0.250623</td>\n",
       "      <td>0.000000</td>\n",
       "      <td>-0.057824</td>\n",
       "      <td>-0.073373</td>\n",
       "      <td>0.379557</td>\n",
       "      <td>0.123249</td>\n",
       "      <td>-0.015392</td>\n",
       "      <td>-0.067214</td>\n",
       "      <td>-0.040238</td>\n",
       "      <td>0.000000</td>\n",
       "      <td>...</td>\n",
       "      <td>0.000000</td>\n",
       "      <td>0.404054</td>\n",
       "      <td>-0.270675</td>\n",
       "      <td>0.303669</td>\n",
       "      <td>0.000000</td>\n",
       "      <td>0.000000</td>\n",
       "      <td>0.241985</td>\n",
       "      <td>0.105066</td>\n",
       "      <td>0.342795</td>\n",
       "      <td>-0.309141</td>\n",
       "    </tr>\n",
       "    <tr>\n",
       "      <th>CATGCTCAGTGTCATC.30.10</th>\n",
       "      <td>0.000000</td>\n",
       "      <td>0.071860</td>\n",
       "      <td>-0.044960</td>\n",
       "      <td>-0.163976</td>\n",
       "      <td>0.383798</td>\n",
       "      <td>0.009163</td>\n",
       "      <td>0.044208</td>\n",
       "      <td>-0.066473</td>\n",
       "      <td>0.181265</td>\n",
       "      <td>0.000000</td>\n",
       "      <td>...</td>\n",
       "      <td>0.000000</td>\n",
       "      <td>0.199733</td>\n",
       "      <td>-0.076705</td>\n",
       "      <td>-0.109112</td>\n",
       "      <td>0.000000</td>\n",
       "      <td>-0.082373</td>\n",
       "      <td>0.245705</td>\n",
       "      <td>-0.107975</td>\n",
       "      <td>0.359899</td>\n",
       "      <td>-0.291026</td>\n",
       "    </tr>\n",
       "    <tr>\n",
       "      <th>CTCATCGAGCAAATGT.32.8</th>\n",
       "      <td>-0.106864</td>\n",
       "      <td>0.200241</td>\n",
       "      <td>0.082937</td>\n",
       "      <td>0.116454</td>\n",
       "      <td>0.468820</td>\n",
       "      <td>-0.054640</td>\n",
       "      <td>-0.011763</td>\n",
       "      <td>-0.048604</td>\n",
       "      <td>0.073049</td>\n",
       "      <td>-0.145415</td>\n",
       "      <td>...</td>\n",
       "      <td>0.000000</td>\n",
       "      <td>0.360400</td>\n",
       "      <td>-0.272932</td>\n",
       "      <td>0.402562</td>\n",
       "      <td>-0.106634</td>\n",
       "      <td>-0.201869</td>\n",
       "      <td>0.103181</td>\n",
       "      <td>0.075975</td>\n",
       "      <td>0.446314</td>\n",
       "      <td>-0.392548</td>\n",
       "    </tr>\n",
       "    <tr>\n",
       "      <th>GAAATGACATGCACTA.3.9</th>\n",
       "      <td>-0.108252</td>\n",
       "      <td>0.066968</td>\n",
       "      <td>0.021981</td>\n",
       "      <td>0.182004</td>\n",
       "      <td>0.459831</td>\n",
       "      <td>-0.195259</td>\n",
       "      <td>0.083105</td>\n",
       "      <td>-0.329546</td>\n",
       "      <td>0.176049</td>\n",
       "      <td>-0.213104</td>\n",
       "      <td>...</td>\n",
       "      <td>-0.085566</td>\n",
       "      <td>0.000000</td>\n",
       "      <td>-0.222448</td>\n",
       "      <td>0.445482</td>\n",
       "      <td>-0.063695</td>\n",
       "      <td>-0.170734</td>\n",
       "      <td>0.232463</td>\n",
       "      <td>-0.139921</td>\n",
       "      <td>0.169031</td>\n",
       "      <td>-0.465376</td>\n",
       "    </tr>\n",
       "  </tbody>\n",
       "</table>\n",
       "<p>4696 rows × 247 columns</p>\n",
       "</div>"
      ],
      "text/plain": [
       "                        R-HSA-3315487  R-HSA-3656532  R-HSA-209560_copy1  \\\n",
       "cell_id                                                                    \n",
       "CACAACATCGTCCTTG.26.2       -0.104177       0.128060            0.010123   \n",
       "AGCTTCCGTCTCTCTG.9.9         0.000000       0.182171            0.000000   \n",
       "CGCCAGACAACAAGTA.17.11      -0.120349       0.228286            0.071449   \n",
       "GGGATGATCGTAACAC.7.4        -0.186852       0.068468           -0.056526   \n",
       "ACGTTCCGTATTCTCT.5.11        0.000000       0.000000            0.000000   \n",
       "...                               ...            ...                 ...   \n",
       "CATCAAGTCCTCGCAT.19.1        0.000000       0.000000            0.149445   \n",
       "GTCAGCGGTCTGATAC.45.2       -0.250623       0.000000           -0.057824   \n",
       "CATGCTCAGTGTCATC.30.10       0.000000       0.071860           -0.044960   \n",
       "CTCATCGAGCAAATGT.32.8       -0.106864       0.200241            0.082937   \n",
       "GAAATGACATGCACTA.3.9        -0.108252       0.066968            0.021981   \n",
       "\n",
       "                        R-HSA-5205685_copy1  R-HSA-9032759_copy1  \\\n",
       "cell_id                                                            \n",
       "CACAACATCGTCCTTG.26.2              0.171800             0.378658   \n",
       "AGCTTCCGTCTCTCTG.9.9              -0.176692             0.246327   \n",
       "CGCCAGACAACAAGTA.17.11             0.011055             0.518755   \n",
       "GGGATGATCGTAACAC.7.4              -0.028001             0.518847   \n",
       "ACGTTCCGTATTCTCT.5.11              0.354219             0.000000   \n",
       "...                                     ...                  ...   \n",
       "CATCAAGTCCTCGCAT.19.1              0.217579             0.438324   \n",
       "GTCAGCGGTCTGATAC.45.2             -0.073373             0.379557   \n",
       "CATGCTCAGTGTCATC.30.10            -0.163976             0.383798   \n",
       "CTCATCGAGCAAATGT.32.8              0.116454             0.468820   \n",
       "GAAATGACATGCACTA.3.9               0.182004             0.459831   \n",
       "\n",
       "                        R-HSA-2514859_copy1  R-HSA-5358747  \\\n",
       "cell_id                                                      \n",
       "CACAACATCGTCCTTG.26.2             -0.086698       0.091002   \n",
       "AGCTTCCGTCTCTCTG.9.9               0.090808       0.050610   \n",
       "CGCCAGACAACAAGTA.17.11            -0.014310       0.083217   \n",
       "GGGATGATCGTAACAC.7.4               0.015822       0.088915   \n",
       "ACGTTCCGTATTCTCT.5.11              0.000000       0.000000   \n",
       "...                                     ...            ...   \n",
       "CATCAAGTCCTCGCAT.19.1              0.043964       0.059833   \n",
       "GTCAGCGGTCTGATAC.45.2              0.123249      -0.015392   \n",
       "CATGCTCAGTGTCATC.30.10             0.009163       0.044208   \n",
       "CTCATCGAGCAAATGT.32.8             -0.054640      -0.011763   \n",
       "GAAATGACATGCACTA.3.9              -0.195259       0.083105   \n",
       "\n",
       "                        R-HSA-1971475_copy1  R-HSA-73776_copy1  \\\n",
       "cell_id                                                          \n",
       "CACAACATCGTCCTTG.26.2             -0.201550           0.261269   \n",
       "AGCTTCCGTCTCTCTG.9.9              -0.299075           0.129498   \n",
       "CGCCAGACAACAAGTA.17.11            -0.186013           0.227450   \n",
       "GGGATGATCGTAACAC.7.4              -0.159729           0.074406   \n",
       "ACGTTCCGTATTCTCT.5.11             -0.191324           0.000000   \n",
       "...                                     ...                ...   \n",
       "CATCAAGTCCTCGCAT.19.1             -0.162424          -0.391722   \n",
       "GTCAGCGGTCTGATAC.45.2             -0.067214          -0.040238   \n",
       "CATGCTCAGTGTCATC.30.10            -0.066473           0.181265   \n",
       "CTCATCGAGCAAATGT.32.8             -0.048604           0.073049   \n",
       "GAAATGACATGCACTA.3.9              -0.329546           0.176049   \n",
       "\n",
       "                        R-HSA-159227_copy1  ...  R-HSA-141430_copy1  \\\n",
       "cell_id                                     ...                       \n",
       "CACAACATCGTCCTTG.26.2            -0.081268  ...           -0.191488   \n",
       "AGCTTCCGTCTCTCTG.9.9              0.000000  ...            0.000000   \n",
       "CGCCAGACAACAAGTA.17.11           -0.122589  ...            0.000000   \n",
       "GGGATGATCGTAACAC.7.4              0.000000  ...           -0.115525   \n",
       "ACGTTCCGTATTCTCT.5.11             0.000000  ...            0.000000   \n",
       "...                                    ...  ...                 ...   \n",
       "CATCAAGTCCTCGCAT.19.1             0.000000  ...           -0.104156   \n",
       "GTCAGCGGTCTGATAC.45.2             0.000000  ...            0.000000   \n",
       "CATGCTCAGTGTCATC.30.10            0.000000  ...            0.000000   \n",
       "CTCATCGAGCAAATGT.32.8            -0.145415  ...            0.000000   \n",
       "GAAATGACATGCACTA.3.9             -0.213104  ...           -0.085566   \n",
       "\n",
       "                        R-HSA-9635465  R-HSA-389960_copy1  R-HSA-114508_copy2  \\\n",
       "cell_id                                                                         \n",
       "CACAACATCGTCCTTG.26.2        0.183320           -0.222688            0.238013   \n",
       "AGCTTCCGTCTCTCTG.9.9         0.148118           -0.112575            0.702499   \n",
       "CGCCAGACAACAAGTA.17.11       0.225380           -0.098334            0.302307   \n",
       "GGGATGATCGTAACAC.7.4         0.229217           -0.155028            0.542527   \n",
       "ACGTTCCGTATTCTCT.5.11        0.000000            0.000000            0.000000   \n",
       "...                               ...                 ...                 ...   \n",
       "CATCAAGTCCTCGCAT.19.1        0.327104           -0.248611            0.653575   \n",
       "GTCAGCGGTCTGATAC.45.2        0.404054           -0.270675            0.303669   \n",
       "CATGCTCAGTGTCATC.30.10       0.199733           -0.076705           -0.109112   \n",
       "CTCATCGAGCAAATGT.32.8        0.360400           -0.272932            0.402562   \n",
       "GAAATGACATGCACTA.3.9         0.000000           -0.222448            0.445482   \n",
       "\n",
       "                        R-HSA-9013419_copy1  R-HSA-2161541_copy1  \\\n",
       "cell_id                                                            \n",
       "CACAACATCGTCCTTG.26.2             -0.061297            -0.146795   \n",
       "AGCTTCCGTCTCTCTG.9.9               0.000000             0.000000   \n",
       "CGCCAGACAACAAGTA.17.11             0.000000            -0.116238   \n",
       "GGGATGATCGTAACAC.7.4              -0.065121             0.000000   \n",
       "ACGTTCCGTATTCTCT.5.11              0.000000             0.000000   \n",
       "...                                     ...                  ...   \n",
       "CATCAAGTCCTCGCAT.19.1              0.000000             0.000000   \n",
       "GTCAGCGGTCTGATAC.45.2              0.000000             0.000000   \n",
       "CATGCTCAGTGTCATC.30.10             0.000000            -0.082373   \n",
       "CTCATCGAGCAAATGT.32.8             -0.106634            -0.201869   \n",
       "GAAATGACATGCACTA.3.9              -0.063695            -0.170734   \n",
       "\n",
       "                        R-HSA-6788467_copy1  R-HSA-3560801_copy1  \\\n",
       "cell_id                                                            \n",
       "CACAACATCGTCCTTG.26.2              0.248670            -0.127721   \n",
       "AGCTTCCGTCTCTCTG.9.9               0.355612            -0.234067   \n",
       "CGCCAGACAACAAGTA.17.11             0.225101            -0.162024   \n",
       "GGGATGATCGTAACAC.7.4               0.000000            -0.259453   \n",
       "ACGTTCCGTATTCTCT.5.11              0.000000             0.299068   \n",
       "...                                     ...                  ...   \n",
       "CATCAAGTCCTCGCAT.19.1              0.000000            -0.263830   \n",
       "GTCAGCGGTCTGATAC.45.2              0.241985             0.105066   \n",
       "CATGCTCAGTGTCATC.30.10             0.245705            -0.107975   \n",
       "CTCATCGAGCAAATGT.32.8              0.103181             0.075975   \n",
       "GAAATGACATGCACTA.3.9               0.232463            -0.139921   \n",
       "\n",
       "                        R-HSA-8875555_copy1  R-HSA-416993  \n",
       "cell_id                                                    \n",
       "CACAACATCGTCCTTG.26.2              0.462251     -0.377998  \n",
       "AGCTTCCGTCTCTCTG.9.9               0.169219     -0.423348  \n",
       "CGCCAGACAACAAGTA.17.11             0.236334     -0.384918  \n",
       "GGGATGATCGTAACAC.7.4               0.297295     -0.190980  \n",
       "ACGTTCCGTATTCTCT.5.11              0.000000     -0.592075  \n",
       "...                                     ...           ...  \n",
       "CATCAAGTCCTCGCAT.19.1              0.000000     -0.280876  \n",
       "GTCAGCGGTCTGATAC.45.2              0.342795     -0.309141  \n",
       "CATGCTCAGTGTCATC.30.10             0.359899     -0.291026  \n",
       "CTCATCGAGCAAATGT.32.8              0.446314     -0.392548  \n",
       "GAAATGACATGCACTA.3.9               0.169031     -0.465376  \n",
       "\n",
       "[4696 rows x 247 columns]"
      ]
     },
     "execution_count": 23,
     "metadata": {},
     "output_type": "execute_result"
    }
   ],
   "source": [
    "layer_0_df"
   ]
  },
  {
   "cell_type": "code",
   "execution_count": 25,
   "id": "281141a4-2957-4d7f-8d1e-bbd51d4c63c2",
   "metadata": {},
   "outputs": [
    {
     "data": {
      "text/html": [
       "<div>\n",
       "<style scoped>\n",
       "    .dataframe tbody tr th:only-of-type {\n",
       "        vertical-align: middle;\n",
       "    }\n",
       "\n",
       "    .dataframe tbody tr th {\n",
       "        vertical-align: top;\n",
       "    }\n",
       "\n",
       "    .dataframe thead th {\n",
       "        text-align: right;\n",
       "    }\n",
       "</style>\n",
       "<table border=\"1\" class=\"dataframe\">\n",
       "  <thead>\n",
       "    <tr style=\"text-align: right;\">\n",
       "      <th></th>\n",
       "      <th>last_layer</th>\n",
       "    </tr>\n",
       "    <tr>\n",
       "      <th>cell_id</th>\n",
       "      <th></th>\n",
       "    </tr>\n",
       "  </thead>\n",
       "  <tbody>\n",
       "    <tr>\n",
       "      <th>CACAACATCGTCCTTG.26.2</th>\n",
       "      <td>0.219095</td>\n",
       "    </tr>\n",
       "    <tr>\n",
       "      <th>AGCTTCCGTCTCTCTG.9.9</th>\n",
       "      <td>-0.219352</td>\n",
       "    </tr>\n",
       "    <tr>\n",
       "      <th>CGCCAGACAACAAGTA.17.11</th>\n",
       "      <td>-0.233183</td>\n",
       "    </tr>\n",
       "    <tr>\n",
       "      <th>GGGATGATCGTAACAC.7.4</th>\n",
       "      <td>0.532885</td>\n",
       "    </tr>\n",
       "    <tr>\n",
       "      <th>ACGTTCCGTATTCTCT.5.11</th>\n",
       "      <td>-0.003342</td>\n",
       "    </tr>\n",
       "    <tr>\n",
       "      <th>...</th>\n",
       "      <td>...</td>\n",
       "    </tr>\n",
       "    <tr>\n",
       "      <th>CATCAAGTCCTCGCAT.19.1</th>\n",
       "      <td>-1.132989</td>\n",
       "    </tr>\n",
       "    <tr>\n",
       "      <th>GTCAGCGGTCTGATAC.45.2</th>\n",
       "      <td>0.942101</td>\n",
       "    </tr>\n",
       "    <tr>\n",
       "      <th>CATGCTCAGTGTCATC.30.10</th>\n",
       "      <td>0.784364</td>\n",
       "    </tr>\n",
       "    <tr>\n",
       "      <th>CTCATCGAGCAAATGT.32.8</th>\n",
       "      <td>0.110899</td>\n",
       "    </tr>\n",
       "    <tr>\n",
       "      <th>GAAATGACATGCACTA.3.9</th>\n",
       "      <td>-0.747772</td>\n",
       "    </tr>\n",
       "  </tbody>\n",
       "</table>\n",
       "<p>4696 rows × 1 columns</p>\n",
       "</div>"
      ],
      "text/plain": [
       "                        last_layer\n",
       "cell_id                           \n",
       "CACAACATCGTCCTTG.26.2     0.219095\n",
       "AGCTTCCGTCTCTCTG.9.9     -0.219352\n",
       "CGCCAGACAACAAGTA.17.11   -0.233183\n",
       "GGGATGATCGTAACAC.7.4      0.532885\n",
       "ACGTTCCGTATTCTCT.5.11    -0.003342\n",
       "...                            ...\n",
       "CATCAAGTCCTCGCAT.19.1    -1.132989\n",
       "GTCAGCGGTCTGATAC.45.2     0.942101\n",
       "CATGCTCAGTGTCATC.30.10    0.784364\n",
       "CTCATCGAGCAAATGT.32.8     0.110899\n",
       "GAAATGACATGCACTA.3.9     -0.747772\n",
       "\n",
       "[4696 rows x 1 columns]"
      ]
     },
     "execution_count": 25,
     "metadata": {},
     "output_type": "execute_result"
    }
   ],
   "source": [
    "last_layer_df"
   ]
  },
  {
   "cell_type": "code",
   "execution_count": 26,
   "id": "602dd62d-2b51-4f7b-afeb-49fdc61ed376",
   "metadata": {},
   "outputs": [
    {
     "ename": "NameError",
     "evalue": "name 'layer_1_df' is not defined",
     "output_type": "error",
     "traceback": [
      "\u001b[0;31m---------------------------------------------------------------------------\u001b[0m",
      "\u001b[0;31mNameError\u001b[0m                                 Traceback (most recent call last)",
      "Cell \u001b[0;32mIn[26], line 1\u001b[0m\n\u001b[0;32m----> 1\u001b[0m \u001b[43mlayer_1_df\u001b[49m\n",
      "\u001b[0;31mNameError\u001b[0m: name 'layer_1_df' is not defined"
     ]
    }
   ],
   "source": [
    "layer_1_df"
   ]
  },
  {
   "cell_type": "code",
   "execution_count": 27,
   "id": "c716d4e2-24f3-4971-9931-fcc4289ca805",
   "metadata": {},
   "outputs": [
    {
     "data": {
      "text/html": [
       "<div>\n",
       "<style scoped>\n",
       "    .dataframe tbody tr th:only-of-type {\n",
       "        vertical-align: middle;\n",
       "    }\n",
       "\n",
       "    .dataframe tbody tr th {\n",
       "        vertical-align: top;\n",
       "    }\n",
       "\n",
       "    .dataframe thead th {\n",
       "        text-align: right;\n",
       "    }\n",
       "</style>\n",
       "<table border=\"1\" class=\"dataframe\">\n",
       "  <thead>\n",
       "    <tr style=\"text-align: right;\">\n",
       "      <th></th>\n",
       "      <th>last_layer</th>\n",
       "    </tr>\n",
       "    <tr>\n",
       "      <th>cell_id</th>\n",
       "      <th></th>\n",
       "    </tr>\n",
       "  </thead>\n",
       "  <tbody>\n",
       "    <tr>\n",
       "      <th>CACAACATCGTCCTTG.26.2</th>\n",
       "      <td>0.219095</td>\n",
       "    </tr>\n",
       "    <tr>\n",
       "      <th>AGCTTCCGTCTCTCTG.9.9</th>\n",
       "      <td>-0.219352</td>\n",
       "    </tr>\n",
       "    <tr>\n",
       "      <th>CGCCAGACAACAAGTA.17.11</th>\n",
       "      <td>-0.233183</td>\n",
       "    </tr>\n",
       "    <tr>\n",
       "      <th>GGGATGATCGTAACAC.7.4</th>\n",
       "      <td>0.532885</td>\n",
       "    </tr>\n",
       "    <tr>\n",
       "      <th>ACGTTCCGTATTCTCT.5.11</th>\n",
       "      <td>-0.003342</td>\n",
       "    </tr>\n",
       "    <tr>\n",
       "      <th>...</th>\n",
       "      <td>...</td>\n",
       "    </tr>\n",
       "    <tr>\n",
       "      <th>CATCAAGTCCTCGCAT.19.1</th>\n",
       "      <td>-1.132989</td>\n",
       "    </tr>\n",
       "    <tr>\n",
       "      <th>GTCAGCGGTCTGATAC.45.2</th>\n",
       "      <td>0.942101</td>\n",
       "    </tr>\n",
       "    <tr>\n",
       "      <th>CATGCTCAGTGTCATC.30.10</th>\n",
       "      <td>0.784364</td>\n",
       "    </tr>\n",
       "    <tr>\n",
       "      <th>CTCATCGAGCAAATGT.32.8</th>\n",
       "      <td>0.110899</td>\n",
       "    </tr>\n",
       "    <tr>\n",
       "      <th>GAAATGACATGCACTA.3.9</th>\n",
       "      <td>-0.747772</td>\n",
       "    </tr>\n",
       "  </tbody>\n",
       "</table>\n",
       "<p>4696 rows × 1 columns</p>\n",
       "</div>"
      ],
      "text/plain": [
       "                        last_layer\n",
       "cell_id                           \n",
       "CACAACATCGTCCTTG.26.2     0.219095\n",
       "AGCTTCCGTCTCTCTG.9.9     -0.219352\n",
       "CGCCAGACAACAAGTA.17.11   -0.233183\n",
       "GGGATGATCGTAACAC.7.4      0.532885\n",
       "ACGTTCCGTATTCTCT.5.11    -0.003342\n",
       "...                            ...\n",
       "CATCAAGTCCTCGCAT.19.1    -1.132989\n",
       "GTCAGCGGTCTGATAC.45.2     0.942101\n",
       "CATGCTCAGTGTCATC.30.10    0.784364\n",
       "CTCATCGAGCAAATGT.32.8     0.110899\n",
       "GAAATGACATGCACTA.3.9     -0.747772\n",
       "\n",
       "[4696 rows x 1 columns]"
      ]
     },
     "execution_count": 27,
     "metadata": {},
     "output_type": "execute_result"
    }
   ],
   "source": [
    "last_layer_df"
   ]
  },
  {
   "cell_type": "code",
   "execution_count": 28,
   "id": "a2b12b52-6671-401a-bbc2-1f7c2ed45d45",
   "metadata": {},
   "outputs": [
    {
     "data": {
      "text/html": [
       "<div>\n",
       "<style scoped>\n",
       "    .dataframe tbody tr th:only-of-type {\n",
       "        vertical-align: middle;\n",
       "    }\n",
       "\n",
       "    .dataframe tbody tr th {\n",
       "        vertical-align: top;\n",
       "    }\n",
       "\n",
       "    .dataframe thead th {\n",
       "        text-align: right;\n",
       "    }\n",
       "</style>\n",
       "<table border=\"1\" class=\"dataframe\">\n",
       "  <thead>\n",
       "    <tr style=\"text-align: right;\">\n",
       "      <th></th>\n",
       "      <th>diagnosis</th>\n",
       "    </tr>\n",
       "  </thead>\n",
       "  <tbody>\n",
       "    <tr>\n",
       "      <th>0</th>\n",
       "      <td>1</td>\n",
       "    </tr>\n",
       "    <tr>\n",
       "      <th>1</th>\n",
       "      <td>0</td>\n",
       "    </tr>\n",
       "    <tr>\n",
       "      <th>2</th>\n",
       "      <td>0</td>\n",
       "    </tr>\n",
       "    <tr>\n",
       "      <th>3</th>\n",
       "      <td>1</td>\n",
       "    </tr>\n",
       "    <tr>\n",
       "      <th>4</th>\n",
       "      <td>1</td>\n",
       "    </tr>\n",
       "    <tr>\n",
       "      <th>...</th>\n",
       "      <td>...</td>\n",
       "    </tr>\n",
       "    <tr>\n",
       "      <th>4691</th>\n",
       "      <td>1</td>\n",
       "    </tr>\n",
       "    <tr>\n",
       "      <th>4692</th>\n",
       "      <td>1</td>\n",
       "    </tr>\n",
       "    <tr>\n",
       "      <th>4693</th>\n",
       "      <td>1</td>\n",
       "    </tr>\n",
       "    <tr>\n",
       "      <th>4694</th>\n",
       "      <td>0</td>\n",
       "    </tr>\n",
       "    <tr>\n",
       "      <th>4695</th>\n",
       "      <td>0</td>\n",
       "    </tr>\n",
       "  </tbody>\n",
       "</table>\n",
       "<p>4696 rows × 1 columns</p>\n",
       "</div>"
      ],
      "text/plain": [
       "      diagnosis\n",
       "0             1\n",
       "1             0\n",
       "2             0\n",
       "3             1\n",
       "4             1\n",
       "...         ...\n",
       "4691          1\n",
       "4692          1\n",
       "4693          1\n",
       "4694          0\n",
       "4695          0\n",
       "\n",
       "[4696 rows x 1 columns]"
      ]
     },
     "execution_count": 28,
     "metadata": {},
     "output_type": "execute_result"
    }
   ],
   "source": [
    "y_test"
   ]
  },
  {
   "cell_type": "code",
   "execution_count": 29,
   "id": "ecb1c306-28a7-4518-ad38-2012bfa8d730",
   "metadata": {},
   "outputs": [],
   "source": [
    "for i,j in predicted_list_dict.items():\n",
    "    flattened_list = [item for sublist in list(predicted_list_dict[i]) for item in sublist]\n",
    "    predicted_list_dict[i] = flattened_list\n",
    "    "
   ]
  },
  {
   "cell_type": "code",
   "execution_count": 30,
   "id": "0fda485a-1ff5-4b97-b5b9-db22c10d9db5",
   "metadata": {},
   "outputs": [
    {
     "data": {
      "text/plain": [
       "[1.0, 0.0, 0.0, 1.0, 0.0, 0.0, 1.0, 0.0, 1.0, 0.0]"
      ]
     },
     "execution_count": 30,
     "metadata": {},
     "output_type": "execute_result"
    }
   ],
   "source": [
    "predicted_list_dict['model_2_hidden_layers'][0:10]"
   ]
  },
  {
   "cell_type": "code",
   "execution_count": 31,
   "id": "f45df74f-a602-4488-97e7-f72ba9e5f73a",
   "metadata": {},
   "outputs": [
    {
     "data": {
      "text/plain": [
       "[1.0, 0.0, 0.0, 1.0, 0.0, 0.0, 1.0, 1.0, 0.0, 0.0]"
      ]
     },
     "execution_count": 31,
     "metadata": {},
     "output_type": "execute_result"
    }
   ],
   "source": [
    "predicted_list_dict['model_4_hidden_layers'][0:10]"
   ]
  },
  {
   "cell_type": "code",
   "execution_count": 32,
   "id": "d2382371-4dd7-421f-b4f0-150e0d9eae8d",
   "metadata": {},
   "outputs": [],
   "source": [
    "for i,j in ground_truth_list_dict.items():\n",
    "    flattened_list = [item for sublist in list(ground_truth_list_dict[i]) for item in sublist]\n",
    "    ground_truth_list_dict[i] = flattened_list\n",
    "    "
   ]
  },
  {
   "cell_type": "code",
   "execution_count": 33,
   "id": "f16c0920-cc15-4394-a3ca-e498c01fd912",
   "metadata": {},
   "outputs": [
    {
     "data": {
      "text/plain": [
       "[1.0, 0.0, 0.0, 1.0, 1.0, 0.0, 1.0, 0.0, 1.0, 1.0]"
      ]
     },
     "execution_count": 33,
     "metadata": {},
     "output_type": "execute_result"
    }
   ],
   "source": [
    "ground_truth_list_dict['model_2_hidden_layers'][0:10]"
   ]
  },
  {
   "cell_type": "code",
   "execution_count": 34,
   "id": "ed02ed48-b781-4ef9-9c11-ea1d467f63c7",
   "metadata": {},
   "outputs": [
    {
     "data": {
      "text/plain": [
       "[1.0, 0.0, 0.0, 1.0, 1.0, 0.0, 1.0, 0.0, 1.0, 1.0]"
      ]
     },
     "execution_count": 34,
     "metadata": {},
     "output_type": "execute_result"
    }
   ],
   "source": [
    "ground_truth_list_dict['model_4_hidden_layers'][0:10]"
   ]
  },
  {
   "cell_type": "code",
   "execution_count": 35,
   "id": "d693f4e1-59b3-4467-b28d-1b40a4e698cd",
   "metadata": {},
   "outputs": [
    {
     "data": {
      "text/plain": [
       "[1.0, 0.0, 0.0, 1.0, 0.0, 0.0, 1.0, 0.0, 1.0, 0.0]"
      ]
     },
     "execution_count": 35,
     "metadata": {},
     "output_type": "execute_result"
    }
   ],
   "source": [
    "predicted_list_dict['model_2_hidden_layers'][0:10]"
   ]
  },
  {
   "cell_type": "code",
   "execution_count": 36,
   "id": "185c2410-67b8-4d30-b781-3522bd05ea9b",
   "metadata": {},
   "outputs": [
    {
     "ename": "NameError",
     "evalue": "name 'layer_1_df' is not defined",
     "output_type": "error",
     "traceback": [
      "\u001b[0;31m---------------------------------------------------------------------------\u001b[0m",
      "\u001b[0;31mNameError\u001b[0m                                 Traceback (most recent call last)",
      "Cell \u001b[0;32mIn[36], line 1\u001b[0m\n\u001b[0;32m----> 1\u001b[0m \u001b[43mlayer_1_df\u001b[49m[\u001b[38;5;124m'\u001b[39m\u001b[38;5;124mpredicted\u001b[39m\u001b[38;5;124m'\u001b[39m] \u001b[38;5;241m=\u001b[39m predicted_list_dict[\u001b[38;5;124m'\u001b[39m\u001b[38;5;124mmodel_2_hidden_layers\u001b[39m\u001b[38;5;124m'\u001b[39m]\n\u001b[1;32m      2\u001b[0m layer_1_df[\u001b[38;5;124m'\u001b[39m\u001b[38;5;124mground_truth\u001b[39m\u001b[38;5;124m'\u001b[39m] \u001b[38;5;241m=\u001b[39m ground_truth_list_dict[\u001b[38;5;124m'\u001b[39m\u001b[38;5;124mmodel_2_hidden_layers\u001b[39m\u001b[38;5;124m'\u001b[39m]\n\u001b[1;32m      3\u001b[0m layer_1_df\u001b[38;5;241m.\u001b[39mhead()\n",
      "\u001b[0;31mNameError\u001b[0m: name 'layer_1_df' is not defined"
     ]
    }
   ],
   "source": [
    "layer_1_df['predicted'] = predicted_list_dict['model_2_hidden_layers']\n",
    "layer_1_df['ground_truth'] = ground_truth_list_dict['model_2_hidden_layers']\n",
    "layer_1_df.head()"
   ]
  },
  {
   "cell_type": "code",
   "execution_count": 37,
   "id": "91fb5fa3-42f9-44e2-805d-79e9872f8d4b",
   "metadata": {},
   "outputs": [
    {
     "ename": "NameError",
     "evalue": "name 'layer_1_df' is not defined",
     "output_type": "error",
     "traceback": [
      "\u001b[0;31m---------------------------------------------------------------------------\u001b[0m",
      "\u001b[0;31mNameError\u001b[0m                                 Traceback (most recent call last)",
      "Cell \u001b[0;32mIn[37], line 1\u001b[0m\n\u001b[0;32m----> 1\u001b[0m correct_predicted_layer_1_df \u001b[38;5;241m=\u001b[39m \u001b[43mlayer_1_df\u001b[49m[layer_1_df\u001b[38;5;241m.\u001b[39mpredicted \u001b[38;5;241m==\u001b[39m layer_1_df\u001b[38;5;241m.\u001b[39mground_truth]\n\u001b[1;32m      2\u001b[0m correct_predicted_layer_1_df_AD \u001b[38;5;241m=\u001b[39m correct_predicted_layer_1_df[correct_predicted_layer_1_df\u001b[38;5;241m.\u001b[39mpredicted \u001b[38;5;241m==\u001b[39m \u001b[38;5;241m1\u001b[39m]\n\u001b[1;32m      3\u001b[0m correct_predicted_layer_1_df_Control \u001b[38;5;241m=\u001b[39m correct_predicted_layer_1_df[correct_predicted_layer_1_df\u001b[38;5;241m.\u001b[39mpredicted \u001b[38;5;241m==\u001b[39m \u001b[38;5;241m0\u001b[39m]\n",
      "\u001b[0;31mNameError\u001b[0m: name 'layer_1_df' is not defined"
     ]
    }
   ],
   "source": [
    "correct_predicted_layer_1_df = layer_1_df[layer_1_df.predicted == layer_1_df.ground_truth]\n",
    "correct_predicted_layer_1_df_AD = correct_predicted_layer_1_df[correct_predicted_layer_1_df.predicted == 1]\n",
    "correct_predicted_layer_1_df_Control = correct_predicted_layer_1_df[correct_predicted_layer_1_df.predicted == 0]"
   ]
  },
  {
   "cell_type": "code",
   "execution_count": 38,
   "id": "fb798ea8-65fc-4f9f-8117-b6bb4361761f",
   "metadata": {},
   "outputs": [
    {
     "ename": "NameError",
     "evalue": "name 'correct_predicted_layer_1_df_AD' is not defined",
     "output_type": "error",
     "traceback": [
      "\u001b[0;31m---------------------------------------------------------------------------\u001b[0m",
      "\u001b[0;31mNameError\u001b[0m                                 Traceback (most recent call last)",
      "Cell \u001b[0;32mIn[38], line 1\u001b[0m\n\u001b[0;32m----> 1\u001b[0m \u001b[43mcorrect_predicted_layer_1_df_AD\u001b[49m\u001b[38;5;241m.\u001b[39mdrop(columns\u001b[38;5;241m=\u001b[39m[\u001b[38;5;124m'\u001b[39m\u001b[38;5;124mpredicted\u001b[39m\u001b[38;5;124m'\u001b[39m,\u001b[38;5;124m'\u001b[39m\u001b[38;5;124mground_truth\u001b[39m\u001b[38;5;124m'\u001b[39m], inplace \u001b[38;5;241m=\u001b[39m \u001b[38;5;28;01mTrue\u001b[39;00m)\n\u001b[1;32m      2\u001b[0m correct_predicted_layer_1_df_AD\u001b[38;5;241m.\u001b[39mhead()\n",
      "\u001b[0;31mNameError\u001b[0m: name 'correct_predicted_layer_1_df_AD' is not defined"
     ]
    }
   ],
   "source": [
    "correct_predicted_layer_1_df_AD.drop(columns=['predicted','ground_truth'], inplace = True)\n",
    "correct_predicted_layer_1_df_AD.head()"
   ]
  },
  {
   "cell_type": "code",
   "execution_count": 39,
   "id": "6e9143de-6378-4d2c-bedd-399743650dc4",
   "metadata": {},
   "outputs": [
    {
     "ename": "NameError",
     "evalue": "name 'correct_predicted_layer_1_df_Control' is not defined",
     "output_type": "error",
     "traceback": [
      "\u001b[0;31m---------------------------------------------------------------------------\u001b[0m",
      "\u001b[0;31mNameError\u001b[0m                                 Traceback (most recent call last)",
      "Cell \u001b[0;32mIn[39], line 1\u001b[0m\n\u001b[0;32m----> 1\u001b[0m \u001b[43mcorrect_predicted_layer_1_df_Control\u001b[49m\u001b[38;5;241m.\u001b[39mdrop(columns\u001b[38;5;241m=\u001b[39m[\u001b[38;5;124m'\u001b[39m\u001b[38;5;124mpredicted\u001b[39m\u001b[38;5;124m'\u001b[39m,\u001b[38;5;124m'\u001b[39m\u001b[38;5;124mground_truth\u001b[39m\u001b[38;5;124m'\u001b[39m], inplace \u001b[38;5;241m=\u001b[39m \u001b[38;5;28;01mTrue\u001b[39;00m)\n\u001b[1;32m      2\u001b[0m correct_predicted_layer_1_df_Control\n",
      "\u001b[0;31mNameError\u001b[0m: name 'correct_predicted_layer_1_df_Control' is not defined"
     ]
    }
   ],
   "source": [
    "correct_predicted_layer_1_df_Control.drop(columns=['predicted','ground_truth'], inplace = True)\n",
    "correct_predicted_layer_1_df_Control"
   ]
  },
  {
   "cell_type": "code",
   "execution_count": 40,
   "id": "815f1a7b-a0c2-4b50-ba88-ff38f8d2006e",
   "metadata": {},
   "outputs": [],
   "source": [
    "from scipy import stats\n",
    "\n",
    "\n",
    "\n",
    "# Perform a two-sample t-test\n",
    "\n",
    "\n",
    "\n"
   ]
  },
  {
   "cell_type": "code",
   "execution_count": 41,
   "id": "a8aa7433-ca7d-4566-908b-c42efa096b7f",
   "metadata": {},
   "outputs": [
    {
     "ename": "NameError",
     "evalue": "name 'correct_predicted_layer_1_df_Control' is not defined",
     "output_type": "error",
     "traceback": [
      "\u001b[0;31m---------------------------------------------------------------------------\u001b[0m",
      "\u001b[0;31mNameError\u001b[0m                                 Traceback (most recent call last)",
      "Cell \u001b[0;32mIn[41], line 4\u001b[0m\n\u001b[1;32m      1\u001b[0m pathways_list \u001b[38;5;241m=\u001b[39m []\n\u001b[1;32m      2\u001b[0m p_value_list \u001b[38;5;241m=\u001b[39m []\n\u001b[0;32m----> 4\u001b[0m \u001b[38;5;28;01mfor\u001b[39;00m i \u001b[38;5;129;01min\u001b[39;00m \u001b[43mcorrect_predicted_layer_1_df_Control\u001b[49m\u001b[38;5;241m.\u001b[39mcolumns:\n\u001b[1;32m      5\u001b[0m     t_stat, p_value \u001b[38;5;241m=\u001b[39m stats\u001b[38;5;241m.\u001b[39mttest_ind(correct_predicted_layer_1_df_Control[i]\u001b[38;5;241m.\u001b[39mtolist(), correct_predicted_layer_1_df_AD[i]\u001b[38;5;241m.\u001b[39mtolist())\n\u001b[1;32m      6\u001b[0m     \u001b[38;5;28mprint\u001b[39m(\u001b[38;5;124mf\u001b[39m\u001b[38;5;124m\"\u001b[39m\u001b[38;5;124mT-statistic: \u001b[39m\u001b[38;5;132;01m{\u001b[39;00mt_stat\u001b[38;5;132;01m}\u001b[39;00m\u001b[38;5;124m\"\u001b[39m)\n",
      "\u001b[0;31mNameError\u001b[0m: name 'correct_predicted_layer_1_df_Control' is not defined"
     ]
    }
   ],
   "source": [
    "pathways_list = []\n",
    "p_value_list = []\n",
    "\n",
    "for i in correct_predicted_layer_1_df_Control.columns:\n",
    "    t_stat, p_value = stats.ttest_ind(correct_predicted_layer_1_df_Control[i].tolist(), correct_predicted_layer_1_df_AD[i].tolist())\n",
    "    print(f\"T-statistic: {t_stat}\")\n",
    "    print(f\"P-value: {p_value}\")\n",
    "\n",
    "    plt.figure(figsize=(8, 6))\n",
    "    plt.boxplot([correct_predicted_layer_1_df_Control[i].tolist(), correct_predicted_layer_1_df_AD[i].tolist()], labels=['Control', 'AD'], patch_artist=True, \n",
    "                boxprops=dict(facecolor='lightblue'))\n",
    "    \n",
    "    # Add title and labels\n",
    "    plt.title('Box Plot of Two Distributions')\n",
    "    plt.ylabel('Values')\n",
    "    pathways_list.append(i)\n",
    "    p_value_list.append(p_value)\n",
    "    # Display the plot\n",
    "    plt.show()\n",
    "    \n",
    "    "
   ]
  },
  {
   "cell_type": "code",
   "execution_count": 42,
   "id": "5e4c6d50-6023-4daf-9608-cafb5f7e167a",
   "metadata": {},
   "outputs": [
    {
     "data": {
      "text/html": [
       "<div>\n",
       "<style scoped>\n",
       "    .dataframe tbody tr th:only-of-type {\n",
       "        vertical-align: middle;\n",
       "    }\n",
       "\n",
       "    .dataframe tbody tr th {\n",
       "        vertical-align: top;\n",
       "    }\n",
       "\n",
       "    .dataframe thead th {\n",
       "        text-align: right;\n",
       "    }\n",
       "</style>\n",
       "<table border=\"1\" class=\"dataframe\">\n",
       "  <thead>\n",
       "    <tr style=\"text-align: right;\">\n",
       "      <th></th>\n",
       "    </tr>\n",
       "  </thead>\n",
       "  <tbody>\n",
       "  </tbody>\n",
       "</table>\n",
       "</div>"
      ],
      "text/plain": [
       "Empty DataFrame\n",
       "Columns: []\n",
       "Index: []"
      ]
     },
     "execution_count": 42,
     "metadata": {},
     "output_type": "execute_result"
    }
   ],
   "source": [
    "pd.DataFrame(pathways_list, p_value_list)"
   ]
  },
  {
   "cell_type": "code",
   "execution_count": null,
   "id": "3fdcda2f-36e9-468e-99d2-40b7b5a4ede6",
   "metadata": {},
   "outputs": [],
   "source": []
  },
  {
   "cell_type": "code",
   "execution_count": 43,
   "id": "ae9838f8-2115-40c2-b9a7-8f00d98a5655",
   "metadata": {},
   "outputs": [
    {
     "name": "stderr",
     "output_type": "stream",
     "text": [
      "100%|████████████████████████████████████████████████████████████████████████████████████████████████████████████████████████████████████████████████████████████████████| 4696/4696 [00:00<00:00, 554142.80it/s]\n"
     ]
    }
   ],
   "source": [
    "\n",
    "layer_dict = return_feature_importance_list(activations_list_dict, 'model_3_hidden_layers')\n",
    "layer_node_name_dict = {}\n",
    "for i in range(config['pathways_network']['n_hidden_layer']+1):\n",
    "    nodes_df = pd.read_csv(config['model_output']['model_save_dir'] + config['date_string'] + '/' + 'masking_df_' + \\\n",
    "    f'{config['pathways_network']['n_hidden_layer']-i}'+ '.csv', index_col = 0)\n",
    "    layer_node_name_dict[f'layer_{i-1}'] = nodes_df.columns\n",
    "    \n",
    "\n",
    "layer_node_name_dict['final_layer'] = ['last_layer']\n",
    "\n",
    "li = []\n",
    "for i in layer_dict['layer_0']:\n",
    "    li.append(list(i))    \n",
    "layer_0_df = pd.DataFrame(li,index = test_x.columns, columns=layer_node_name_dict['layer_0'])\n",
    "\n",
    "li = []\n",
    "for i in layer_dict['layer_1']:\n",
    "    li.append(list(i)) \n",
    "layer_1_df = pd.DataFrame(li,index = test_x.columns, columns=layer_node_name_dict['layer_1'])\n",
    "\n",
    "li = []\n",
    "for i in layer_dict['layer_2']:\n",
    "    li.append(list(i))   \n",
    "last_layer_df = pd.DataFrame(li,index = test_x.columns, columns=layer_node_name_dict['final_layer'])\n"
   ]
  },
  {
   "cell_type": "code",
   "execution_count": 44,
   "id": "329036d6-7f40-49ac-bbcf-a8ef4cd50a80",
   "metadata": {},
   "outputs": [
    {
     "data": {
      "text/html": [
       "<div>\n",
       "<style scoped>\n",
       "    .dataframe tbody tr th:only-of-type {\n",
       "        vertical-align: middle;\n",
       "    }\n",
       "\n",
       "    .dataframe tbody tr th {\n",
       "        vertical-align: top;\n",
       "    }\n",
       "\n",
       "    .dataframe thead th {\n",
       "        text-align: right;\n",
       "    }\n",
       "</style>\n",
       "<table border=\"1\" class=\"dataframe\">\n",
       "  <thead>\n",
       "    <tr style=\"text-align: right;\">\n",
       "      <th></th>\n",
       "      <th>R-HSA-417957</th>\n",
       "      <th>R-HSA-162592</th>\n",
       "      <th>R-HSA-5654689</th>\n",
       "      <th>R-HSA-75896</th>\n",
       "      <th>R-HSA-5654716</th>\n",
       "      <th>R-HSA-159231</th>\n",
       "      <th>R-HSA-5210891</th>\n",
       "      <th>R-HSA-113507</th>\n",
       "      <th>R-HSA-5339716</th>\n",
       "      <th>R-HSA-9034864</th>\n",
       "      <th>...</th>\n",
       "      <th>R-HSA-5655291_copy1</th>\n",
       "      <th>R-HSA-5654688</th>\n",
       "      <th>R-HSA-6783310_copy1</th>\n",
       "      <th>R-HSA-5675482</th>\n",
       "      <th>R-HSA-9027604</th>\n",
       "      <th>R-HSA-5661231</th>\n",
       "      <th>R-HSA-2979096</th>\n",
       "      <th>R-HSA-901042</th>\n",
       "      <th>R-HSA-9665348</th>\n",
       "      <th>R-HSA-77288</th>\n",
       "    </tr>\n",
       "    <tr>\n",
       "      <th>cell_id</th>\n",
       "      <th></th>\n",
       "      <th></th>\n",
       "      <th></th>\n",
       "      <th></th>\n",
       "      <th></th>\n",
       "      <th></th>\n",
       "      <th></th>\n",
       "      <th></th>\n",
       "      <th></th>\n",
       "      <th></th>\n",
       "      <th></th>\n",
       "      <th></th>\n",
       "      <th></th>\n",
       "      <th></th>\n",
       "      <th></th>\n",
       "      <th></th>\n",
       "      <th></th>\n",
       "      <th></th>\n",
       "      <th></th>\n",
       "      <th></th>\n",
       "      <th></th>\n",
       "    </tr>\n",
       "  </thead>\n",
       "  <tbody>\n",
       "    <tr>\n",
       "      <th>CACAACATCGTCCTTG.26.2</th>\n",
       "      <td>0.003275</td>\n",
       "      <td>0.009810</td>\n",
       "      <td>-0.015456</td>\n",
       "      <td>0.000000</td>\n",
       "      <td>0.001502</td>\n",
       "      <td>0.001915</td>\n",
       "      <td>0.009021</td>\n",
       "      <td>-0.010476</td>\n",
       "      <td>-0.006433</td>\n",
       "      <td>-0.000057</td>\n",
       "      <td>...</td>\n",
       "      <td>0.027487</td>\n",
       "      <td>0.000277</td>\n",
       "      <td>0.002091</td>\n",
       "      <td>-0.000094</td>\n",
       "      <td>0.000000</td>\n",
       "      <td>0.000000</td>\n",
       "      <td>0.012869</td>\n",
       "      <td>-0.000795</td>\n",
       "      <td>0.011302</td>\n",
       "      <td>-0.000602</td>\n",
       "    </tr>\n",
       "    <tr>\n",
       "      <th>AGCTTCCGTCTCTCTG.9.9</th>\n",
       "      <td>0.000000</td>\n",
       "      <td>0.012895</td>\n",
       "      <td>-0.005234</td>\n",
       "      <td>0.000000</td>\n",
       "      <td>-0.003001</td>\n",
       "      <td>0.000000</td>\n",
       "      <td>0.010151</td>\n",
       "      <td>-0.005489</td>\n",
       "      <td>-0.002985</td>\n",
       "      <td>0.000000</td>\n",
       "      <td>...</td>\n",
       "      <td>0.008764</td>\n",
       "      <td>0.000000</td>\n",
       "      <td>0.000000</td>\n",
       "      <td>0.000000</td>\n",
       "      <td>0.000000</td>\n",
       "      <td>0.000000</td>\n",
       "      <td>0.023016</td>\n",
       "      <td>0.000000</td>\n",
       "      <td>0.000332</td>\n",
       "      <td>0.000000</td>\n",
       "    </tr>\n",
       "    <tr>\n",
       "      <th>CGCCAGACAACAAGTA.17.11</th>\n",
       "      <td>0.000000</td>\n",
       "      <td>0.013725</td>\n",
       "      <td>-0.010916</td>\n",
       "      <td>0.000000</td>\n",
       "      <td>-0.001140</td>\n",
       "      <td>0.006392</td>\n",
       "      <td>0.008776</td>\n",
       "      <td>-0.012376</td>\n",
       "      <td>-0.004896</td>\n",
       "      <td>-0.000100</td>\n",
       "      <td>...</td>\n",
       "      <td>0.023170</td>\n",
       "      <td>-0.000132</td>\n",
       "      <td>0.005502</td>\n",
       "      <td>0.003574</td>\n",
       "      <td>-0.000662</td>\n",
       "      <td>0.000000</td>\n",
       "      <td>0.011449</td>\n",
       "      <td>-0.001674</td>\n",
       "      <td>0.009848</td>\n",
       "      <td>-0.000389</td>\n",
       "    </tr>\n",
       "    <tr>\n",
       "      <th>GGGATGATCGTAACAC.7.4</th>\n",
       "      <td>0.000000</td>\n",
       "      <td>0.007576</td>\n",
       "      <td>-0.009176</td>\n",
       "      <td>-0.003849</td>\n",
       "      <td>0.012905</td>\n",
       "      <td>0.000000</td>\n",
       "      <td>0.014573</td>\n",
       "      <td>0.000000</td>\n",
       "      <td>-0.005228</td>\n",
       "      <td>-0.000047</td>\n",
       "      <td>...</td>\n",
       "      <td>0.016054</td>\n",
       "      <td>0.000687</td>\n",
       "      <td>0.004162</td>\n",
       "      <td>-0.004238</td>\n",
       "      <td>0.000000</td>\n",
       "      <td>0.000000</td>\n",
       "      <td>0.016451</td>\n",
       "      <td>0.000013</td>\n",
       "      <td>0.015558</td>\n",
       "      <td>0.000000</td>\n",
       "    </tr>\n",
       "    <tr>\n",
       "      <th>ACGTTCCGTATTCTCT.5.11</th>\n",
       "      <td>0.000000</td>\n",
       "      <td>0.000000</td>\n",
       "      <td>0.000000</td>\n",
       "      <td>0.000000</td>\n",
       "      <td>0.000000</td>\n",
       "      <td>0.000000</td>\n",
       "      <td>0.000000</td>\n",
       "      <td>-0.034737</td>\n",
       "      <td>0.000000</td>\n",
       "      <td>0.000000</td>\n",
       "      <td>...</td>\n",
       "      <td>0.000000</td>\n",
       "      <td>0.000000</td>\n",
       "      <td>0.000000</td>\n",
       "      <td>0.000000</td>\n",
       "      <td>0.000000</td>\n",
       "      <td>0.000000</td>\n",
       "      <td>0.000000</td>\n",
       "      <td>0.000000</td>\n",
       "      <td>0.000000</td>\n",
       "      <td>0.000000</td>\n",
       "    </tr>\n",
       "    <tr>\n",
       "      <th>...</th>\n",
       "      <td>...</td>\n",
       "      <td>...</td>\n",
       "      <td>...</td>\n",
       "      <td>...</td>\n",
       "      <td>...</td>\n",
       "      <td>...</td>\n",
       "      <td>...</td>\n",
       "      <td>...</td>\n",
       "      <td>...</td>\n",
       "      <td>...</td>\n",
       "      <td>...</td>\n",
       "      <td>...</td>\n",
       "      <td>...</td>\n",
       "      <td>...</td>\n",
       "      <td>...</td>\n",
       "      <td>...</td>\n",
       "      <td>...</td>\n",
       "      <td>...</td>\n",
       "      <td>...</td>\n",
       "      <td>...</td>\n",
       "      <td>...</td>\n",
       "    </tr>\n",
       "    <tr>\n",
       "      <th>CATCAAGTCCTCGCAT.19.1</th>\n",
       "      <td>0.012875</td>\n",
       "      <td>0.000000</td>\n",
       "      <td>0.000000</td>\n",
       "      <td>0.000000</td>\n",
       "      <td>0.000000</td>\n",
       "      <td>0.000000</td>\n",
       "      <td>0.006510</td>\n",
       "      <td>-0.006484</td>\n",
       "      <td>-0.003527</td>\n",
       "      <td>0.000000</td>\n",
       "      <td>...</td>\n",
       "      <td>0.000000</td>\n",
       "      <td>0.000000</td>\n",
       "      <td>0.009876</td>\n",
       "      <td>0.006180</td>\n",
       "      <td>0.000000</td>\n",
       "      <td>0.000000</td>\n",
       "      <td>0.003763</td>\n",
       "      <td>-0.004656</td>\n",
       "      <td>0.000000</td>\n",
       "      <td>-0.001288</td>\n",
       "    </tr>\n",
       "    <tr>\n",
       "      <th>GTCAGCGGTCTGATAC.45.2</th>\n",
       "      <td>0.000000</td>\n",
       "      <td>0.025255</td>\n",
       "      <td>-0.016036</td>\n",
       "      <td>0.000000</td>\n",
       "      <td>-0.005883</td>\n",
       "      <td>0.000000</td>\n",
       "      <td>0.013536</td>\n",
       "      <td>-0.007280</td>\n",
       "      <td>-0.001409</td>\n",
       "      <td>-0.000141</td>\n",
       "      <td>...</td>\n",
       "      <td>0.033405</td>\n",
       "      <td>-0.000373</td>\n",
       "      <td>-0.001616</td>\n",
       "      <td>-0.004335</td>\n",
       "      <td>0.000000</td>\n",
       "      <td>0.000069</td>\n",
       "      <td>0.016819</td>\n",
       "      <td>0.000014</td>\n",
       "      <td>0.011218</td>\n",
       "      <td>0.000000</td>\n",
       "    </tr>\n",
       "    <tr>\n",
       "      <th>CATGCTCAGTGTCATC.30.10</th>\n",
       "      <td>0.000000</td>\n",
       "      <td>0.020581</td>\n",
       "      <td>-0.013634</td>\n",
       "      <td>0.000000</td>\n",
       "      <td>-0.011415</td>\n",
       "      <td>0.000000</td>\n",
       "      <td>0.013967</td>\n",
       "      <td>-0.013448</td>\n",
       "      <td>-0.003815</td>\n",
       "      <td>-0.000052</td>\n",
       "      <td>...</td>\n",
       "      <td>0.025742</td>\n",
       "      <td>-0.000368</td>\n",
       "      <td>0.000013</td>\n",
       "      <td>-0.003372</td>\n",
       "      <td>0.000000</td>\n",
       "      <td>0.000000</td>\n",
       "      <td>0.008851</td>\n",
       "      <td>0.000011</td>\n",
       "      <td>0.001313</td>\n",
       "      <td>0.000000</td>\n",
       "    </tr>\n",
       "    <tr>\n",
       "      <th>CTCATCGAGCAAATGT.32.8</th>\n",
       "      <td>0.000000</td>\n",
       "      <td>0.019385</td>\n",
       "      <td>-0.013723</td>\n",
       "      <td>0.000000</td>\n",
       "      <td>0.007739</td>\n",
       "      <td>0.000258</td>\n",
       "      <td>0.011361</td>\n",
       "      <td>-0.022696</td>\n",
       "      <td>-0.001077</td>\n",
       "      <td>-0.000041</td>\n",
       "      <td>...</td>\n",
       "      <td>0.023315</td>\n",
       "      <td>0.000590</td>\n",
       "      <td>0.005399</td>\n",
       "      <td>0.003533</td>\n",
       "      <td>0.000000</td>\n",
       "      <td>0.000000</td>\n",
       "      <td>0.001859</td>\n",
       "      <td>-0.002511</td>\n",
       "      <td>0.013775</td>\n",
       "      <td>0.000000</td>\n",
       "    </tr>\n",
       "    <tr>\n",
       "      <th>GAAATGACATGCACTA.3.9</th>\n",
       "      <td>0.000000</td>\n",
       "      <td>0.016424</td>\n",
       "      <td>-0.009281</td>\n",
       "      <td>-0.001702</td>\n",
       "      <td>0.001646</td>\n",
       "      <td>0.003709</td>\n",
       "      <td>0.013021</td>\n",
       "      <td>-0.016361</td>\n",
       "      <td>-0.005553</td>\n",
       "      <td>-0.000115</td>\n",
       "      <td>...</td>\n",
       "      <td>0.021208</td>\n",
       "      <td>-0.000097</td>\n",
       "      <td>0.001482</td>\n",
       "      <td>0.000043</td>\n",
       "      <td>0.000000</td>\n",
       "      <td>0.000000</td>\n",
       "      <td>0.008585</td>\n",
       "      <td>-0.001496</td>\n",
       "      <td>0.011898</td>\n",
       "      <td>-0.000625</td>\n",
       "    </tr>\n",
       "  </tbody>\n",
       "</table>\n",
       "<p>4696 rows × 226 columns</p>\n",
       "</div>"
      ],
      "text/plain": [
       "                        R-HSA-417957  R-HSA-162592  R-HSA-5654689  \\\n",
       "cell_id                                                             \n",
       "CACAACATCGTCCTTG.26.2       0.003275      0.009810      -0.015456   \n",
       "AGCTTCCGTCTCTCTG.9.9        0.000000      0.012895      -0.005234   \n",
       "CGCCAGACAACAAGTA.17.11      0.000000      0.013725      -0.010916   \n",
       "GGGATGATCGTAACAC.7.4        0.000000      0.007576      -0.009176   \n",
       "ACGTTCCGTATTCTCT.5.11       0.000000      0.000000       0.000000   \n",
       "...                              ...           ...            ...   \n",
       "CATCAAGTCCTCGCAT.19.1       0.012875      0.000000       0.000000   \n",
       "GTCAGCGGTCTGATAC.45.2       0.000000      0.025255      -0.016036   \n",
       "CATGCTCAGTGTCATC.30.10      0.000000      0.020581      -0.013634   \n",
       "CTCATCGAGCAAATGT.32.8       0.000000      0.019385      -0.013723   \n",
       "GAAATGACATGCACTA.3.9        0.000000      0.016424      -0.009281   \n",
       "\n",
       "                        R-HSA-75896  R-HSA-5654716  R-HSA-159231  \\\n",
       "cell_id                                                            \n",
       "CACAACATCGTCCTTG.26.2      0.000000       0.001502      0.001915   \n",
       "AGCTTCCGTCTCTCTG.9.9       0.000000      -0.003001      0.000000   \n",
       "CGCCAGACAACAAGTA.17.11     0.000000      -0.001140      0.006392   \n",
       "GGGATGATCGTAACAC.7.4      -0.003849       0.012905      0.000000   \n",
       "ACGTTCCGTATTCTCT.5.11      0.000000       0.000000      0.000000   \n",
       "...                             ...            ...           ...   \n",
       "CATCAAGTCCTCGCAT.19.1      0.000000       0.000000      0.000000   \n",
       "GTCAGCGGTCTGATAC.45.2      0.000000      -0.005883      0.000000   \n",
       "CATGCTCAGTGTCATC.30.10     0.000000      -0.011415      0.000000   \n",
       "CTCATCGAGCAAATGT.32.8      0.000000       0.007739      0.000258   \n",
       "GAAATGACATGCACTA.3.9      -0.001702       0.001646      0.003709   \n",
       "\n",
       "                        R-HSA-5210891  R-HSA-113507  R-HSA-5339716  \\\n",
       "cell_id                                                              \n",
       "CACAACATCGTCCTTG.26.2        0.009021     -0.010476      -0.006433   \n",
       "AGCTTCCGTCTCTCTG.9.9         0.010151     -0.005489      -0.002985   \n",
       "CGCCAGACAACAAGTA.17.11       0.008776     -0.012376      -0.004896   \n",
       "GGGATGATCGTAACAC.7.4         0.014573      0.000000      -0.005228   \n",
       "ACGTTCCGTATTCTCT.5.11        0.000000     -0.034737       0.000000   \n",
       "...                               ...           ...            ...   \n",
       "CATCAAGTCCTCGCAT.19.1        0.006510     -0.006484      -0.003527   \n",
       "GTCAGCGGTCTGATAC.45.2        0.013536     -0.007280      -0.001409   \n",
       "CATGCTCAGTGTCATC.30.10       0.013967     -0.013448      -0.003815   \n",
       "CTCATCGAGCAAATGT.32.8        0.011361     -0.022696      -0.001077   \n",
       "GAAATGACATGCACTA.3.9         0.013021     -0.016361      -0.005553   \n",
       "\n",
       "                        R-HSA-9034864  ...  R-HSA-5655291_copy1  \\\n",
       "cell_id                                ...                        \n",
       "CACAACATCGTCCTTG.26.2       -0.000057  ...             0.027487   \n",
       "AGCTTCCGTCTCTCTG.9.9         0.000000  ...             0.008764   \n",
       "CGCCAGACAACAAGTA.17.11      -0.000100  ...             0.023170   \n",
       "GGGATGATCGTAACAC.7.4        -0.000047  ...             0.016054   \n",
       "ACGTTCCGTATTCTCT.5.11        0.000000  ...             0.000000   \n",
       "...                               ...  ...                  ...   \n",
       "CATCAAGTCCTCGCAT.19.1        0.000000  ...             0.000000   \n",
       "GTCAGCGGTCTGATAC.45.2       -0.000141  ...             0.033405   \n",
       "CATGCTCAGTGTCATC.30.10      -0.000052  ...             0.025742   \n",
       "CTCATCGAGCAAATGT.32.8       -0.000041  ...             0.023315   \n",
       "GAAATGACATGCACTA.3.9        -0.000115  ...             0.021208   \n",
       "\n",
       "                        R-HSA-5654688  R-HSA-6783310_copy1  R-HSA-5675482  \\\n",
       "cell_id                                                                     \n",
       "CACAACATCGTCCTTG.26.2        0.000277             0.002091      -0.000094   \n",
       "AGCTTCCGTCTCTCTG.9.9         0.000000             0.000000       0.000000   \n",
       "CGCCAGACAACAAGTA.17.11      -0.000132             0.005502       0.003574   \n",
       "GGGATGATCGTAACAC.7.4         0.000687             0.004162      -0.004238   \n",
       "ACGTTCCGTATTCTCT.5.11        0.000000             0.000000       0.000000   \n",
       "...                               ...                  ...            ...   \n",
       "CATCAAGTCCTCGCAT.19.1        0.000000             0.009876       0.006180   \n",
       "GTCAGCGGTCTGATAC.45.2       -0.000373            -0.001616      -0.004335   \n",
       "CATGCTCAGTGTCATC.30.10      -0.000368             0.000013      -0.003372   \n",
       "CTCATCGAGCAAATGT.32.8        0.000590             0.005399       0.003533   \n",
       "GAAATGACATGCACTA.3.9        -0.000097             0.001482       0.000043   \n",
       "\n",
       "                        R-HSA-9027604  R-HSA-5661231  R-HSA-2979096  \\\n",
       "cell_id                                                               \n",
       "CACAACATCGTCCTTG.26.2        0.000000       0.000000       0.012869   \n",
       "AGCTTCCGTCTCTCTG.9.9         0.000000       0.000000       0.023016   \n",
       "CGCCAGACAACAAGTA.17.11      -0.000662       0.000000       0.011449   \n",
       "GGGATGATCGTAACAC.7.4         0.000000       0.000000       0.016451   \n",
       "ACGTTCCGTATTCTCT.5.11        0.000000       0.000000       0.000000   \n",
       "...                               ...            ...            ...   \n",
       "CATCAAGTCCTCGCAT.19.1        0.000000       0.000000       0.003763   \n",
       "GTCAGCGGTCTGATAC.45.2        0.000000       0.000069       0.016819   \n",
       "CATGCTCAGTGTCATC.30.10       0.000000       0.000000       0.008851   \n",
       "CTCATCGAGCAAATGT.32.8        0.000000       0.000000       0.001859   \n",
       "GAAATGACATGCACTA.3.9         0.000000       0.000000       0.008585   \n",
       "\n",
       "                        R-HSA-901042  R-HSA-9665348  R-HSA-77288  \n",
       "cell_id                                                           \n",
       "CACAACATCGTCCTTG.26.2      -0.000795       0.011302    -0.000602  \n",
       "AGCTTCCGTCTCTCTG.9.9        0.000000       0.000332     0.000000  \n",
       "CGCCAGACAACAAGTA.17.11     -0.001674       0.009848    -0.000389  \n",
       "GGGATGATCGTAACAC.7.4        0.000013       0.015558     0.000000  \n",
       "ACGTTCCGTATTCTCT.5.11       0.000000       0.000000     0.000000  \n",
       "...                              ...            ...          ...  \n",
       "CATCAAGTCCTCGCAT.19.1      -0.004656       0.000000    -0.001288  \n",
       "GTCAGCGGTCTGATAC.45.2       0.000014       0.011218     0.000000  \n",
       "CATGCTCAGTGTCATC.30.10      0.000011       0.001313     0.000000  \n",
       "CTCATCGAGCAAATGT.32.8      -0.002511       0.013775     0.000000  \n",
       "GAAATGACATGCACTA.3.9       -0.001496       0.011898    -0.000625  \n",
       "\n",
       "[4696 rows x 226 columns]"
      ]
     },
     "execution_count": 44,
     "metadata": {},
     "output_type": "execute_result"
    }
   ],
   "source": [
    "layer_1_df"
   ]
  },
  {
   "cell_type": "code",
   "execution_count": 45,
   "id": "f0cd6899-ba80-4b8d-9dee-1130caaf81da",
   "metadata": {},
   "outputs": [
    {
     "name": "stderr",
     "output_type": "stream",
     "text": [
      "100%|████████████████████████████████████████████████████████████████████████████████████████████████████████████████████████████████████████████████████████████████████| 4696/4696 [00:00<00:00, 443773.69it/s]\n"
     ]
    }
   ],
   "source": [
    "\n",
    "layer_dict = return_feature_importance_list(activations_list_dict, 'model_4_hidden_layers')\n",
    "layer_node_name_dict = {}\n",
    "for i in range(config['pathways_network']['n_hidden_layer']+1):\n",
    "    nodes_df = pd.read_csv(config['model_output']['model_save_dir'] + config['date_string'] + '/' + 'masking_df_' + \\\n",
    "    f'{config['pathways_network']['n_hidden_layer']-i}'+ '.csv', index_col = 0)\n",
    "    layer_node_name_dict[f'layer_{i-1}'] = nodes_df.columns\n",
    "    \n",
    "\n",
    "layer_node_name_dict['final_layer'] = ['last_layer']\n",
    "\n",
    "li = []\n",
    "for i in layer_dict['layer_0']:\n",
    "    li.append(list(i))    \n",
    "layer_0_df = pd.DataFrame(li,index = test_x.columns, columns=layer_node_name_dict['layer_0'])\n",
    "\n",
    "li = []\n",
    "for i in layer_dict['layer_1']:\n",
    "    li.append(list(i)) \n",
    "layer_1_df = pd.DataFrame(li,index = test_x.columns, columns=layer_node_name_dict['layer_1'])\n",
    "\n",
    "li = []\n",
    "for i in layer_dict['layer_2']:\n",
    "    li.append(list(i)) \n",
    "layer_2_df = pd.DataFrame(li,index = test_x.columns, columns=layer_node_name_dict['layer_2'])\n",
    "\n",
    "li = []\n",
    "for i in layer_dict['layer_3']:\n",
    "    li.append(list(i))   \n",
    "last_layer_df = pd.DataFrame(li,index = test_x.columns, columns=layer_node_name_dict['final_layer'])\n"
   ]
  },
  {
   "cell_type": "code",
   "execution_count": 46,
   "id": "5efd1c54-7bc1-473b-b436-8b4f0acccb46",
   "metadata": {},
   "outputs": [
    {
     "data": {
      "text/html": [
       "<div>\n",
       "<style scoped>\n",
       "    .dataframe tbody tr th:only-of-type {\n",
       "        vertical-align: middle;\n",
       "    }\n",
       "\n",
       "    .dataframe tbody tr th {\n",
       "        vertical-align: top;\n",
       "    }\n",
       "\n",
       "    .dataframe thead th {\n",
       "        text-align: right;\n",
       "    }\n",
       "</style>\n",
       "<table border=\"1\" class=\"dataframe\">\n",
       "  <thead>\n",
       "    <tr style=\"text-align: right;\">\n",
       "      <th></th>\n",
       "      <th>R-HSA-5655332</th>\n",
       "      <th>R-HSA-5693537</th>\n",
       "      <th>R-HSA-5205647</th>\n",
       "      <th>R-HSA-881907</th>\n",
       "      <th>R-HSA-2660825</th>\n",
       "      <th>R-HSA-5654696</th>\n",
       "      <th>R-HSA-109704</th>\n",
       "      <th>R-HSA-198753</th>\n",
       "      <th>R-HSA-211976</th>\n",
       "      <th>R-HSA-5654687</th>\n",
       "      <th>...</th>\n",
       "      <th>R-HSA-389356</th>\n",
       "      <th>R-HSA-8979227</th>\n",
       "      <th>R-HSA-446353</th>\n",
       "      <th>R-HSA-196807</th>\n",
       "      <th>R-HSA-1181150</th>\n",
       "      <th>R-HSA-1839124</th>\n",
       "      <th>R-HSA-6804758</th>\n",
       "      <th>R-HSA-3371571</th>\n",
       "      <th>R-HSA-5260271</th>\n",
       "      <th>R-HSA-8963898</th>\n",
       "    </tr>\n",
       "    <tr>\n",
       "      <th>cell_id</th>\n",
       "      <th></th>\n",
       "      <th></th>\n",
       "      <th></th>\n",
       "      <th></th>\n",
       "      <th></th>\n",
       "      <th></th>\n",
       "      <th></th>\n",
       "      <th></th>\n",
       "      <th></th>\n",
       "      <th></th>\n",
       "      <th></th>\n",
       "      <th></th>\n",
       "      <th></th>\n",
       "      <th></th>\n",
       "      <th></th>\n",
       "      <th></th>\n",
       "      <th></th>\n",
       "      <th></th>\n",
       "      <th></th>\n",
       "      <th></th>\n",
       "      <th></th>\n",
       "    </tr>\n",
       "  </thead>\n",
       "  <tbody>\n",
       "    <tr>\n",
       "      <th>CACAACATCGTCCTTG.26.2</th>\n",
       "      <td>-0.003298</td>\n",
       "      <td>-0.000165</td>\n",
       "      <td>-0.001825</td>\n",
       "      <td>-0.000286</td>\n",
       "      <td>0.001378</td>\n",
       "      <td>-0.003232</td>\n",
       "      <td>0.001074</td>\n",
       "      <td>-0.000682</td>\n",
       "      <td>0.000001</td>\n",
       "      <td>0.000799</td>\n",
       "      <td>...</td>\n",
       "      <td>0.000024</td>\n",
       "      <td>0.001375</td>\n",
       "      <td>0.000942</td>\n",
       "      <td>-0.000680</td>\n",
       "      <td>-0.000505</td>\n",
       "      <td>-0.000043</td>\n",
       "      <td>0.000042</td>\n",
       "      <td>-0.000133</td>\n",
       "      <td>0.002777</td>\n",
       "      <td>0.004619</td>\n",
       "    </tr>\n",
       "    <tr>\n",
       "      <th>AGCTTCCGTCTCTCTG.9.9</th>\n",
       "      <td>-0.001275</td>\n",
       "      <td>-0.000542</td>\n",
       "      <td>0.003747</td>\n",
       "      <td>0.000000</td>\n",
       "      <td>0.002781</td>\n",
       "      <td>-0.001038</td>\n",
       "      <td>0.000221</td>\n",
       "      <td>-0.000620</td>\n",
       "      <td>0.000007</td>\n",
       "      <td>0.000482</td>\n",
       "      <td>...</td>\n",
       "      <td>0.000059</td>\n",
       "      <td>0.000580</td>\n",
       "      <td>0.001331</td>\n",
       "      <td>-0.000299</td>\n",
       "      <td>-0.000403</td>\n",
       "      <td>-0.000027</td>\n",
       "      <td>0.000000</td>\n",
       "      <td>-0.000133</td>\n",
       "      <td>0.004294</td>\n",
       "      <td>0.001991</td>\n",
       "    </tr>\n",
       "    <tr>\n",
       "      <th>CGCCAGACAACAAGTA.17.11</th>\n",
       "      <td>-0.002072</td>\n",
       "      <td>-0.000194</td>\n",
       "      <td>-0.000583</td>\n",
       "      <td>0.000020</td>\n",
       "      <td>0.001338</td>\n",
       "      <td>-0.003624</td>\n",
       "      <td>0.000773</td>\n",
       "      <td>-0.000940</td>\n",
       "      <td>0.000005</td>\n",
       "      <td>0.000524</td>\n",
       "      <td>...</td>\n",
       "      <td>-0.000422</td>\n",
       "      <td>0.001126</td>\n",
       "      <td>0.001401</td>\n",
       "      <td>-0.000515</td>\n",
       "      <td>-0.000350</td>\n",
       "      <td>-0.000085</td>\n",
       "      <td>0.000048</td>\n",
       "      <td>-0.000117</td>\n",
       "      <td>0.003689</td>\n",
       "      <td>0.003816</td>\n",
       "    </tr>\n",
       "    <tr>\n",
       "      <th>GGGATGATCGTAACAC.7.4</th>\n",
       "      <td>-0.001756</td>\n",
       "      <td>-0.000536</td>\n",
       "      <td>0.001314</td>\n",
       "      <td>-0.000621</td>\n",
       "      <td>0.001628</td>\n",
       "      <td>-0.001184</td>\n",
       "      <td>0.001733</td>\n",
       "      <td>-0.000956</td>\n",
       "      <td>0.000010</td>\n",
       "      <td>-0.000068</td>\n",
       "      <td>...</td>\n",
       "      <td>0.000212</td>\n",
       "      <td>0.001284</td>\n",
       "      <td>0.001769</td>\n",
       "      <td>-0.000462</td>\n",
       "      <td>-0.000622</td>\n",
       "      <td>-0.000023</td>\n",
       "      <td>0.000000</td>\n",
       "      <td>-0.000158</td>\n",
       "      <td>0.002709</td>\n",
       "      <td>0.004330</td>\n",
       "    </tr>\n",
       "    <tr>\n",
       "      <th>ACGTTCCGTATTCTCT.5.11</th>\n",
       "      <td>0.000000</td>\n",
       "      <td>0.000000</td>\n",
       "      <td>-0.004301</td>\n",
       "      <td>0.000000</td>\n",
       "      <td>0.000000</td>\n",
       "      <td>0.000000</td>\n",
       "      <td>0.000000</td>\n",
       "      <td>0.000000</td>\n",
       "      <td>0.000000</td>\n",
       "      <td>0.000000</td>\n",
       "      <td>...</td>\n",
       "      <td>0.000000</td>\n",
       "      <td>0.000000</td>\n",
       "      <td>0.000000</td>\n",
       "      <td>0.000000</td>\n",
       "      <td>0.000000</td>\n",
       "      <td>0.000000</td>\n",
       "      <td>0.000000</td>\n",
       "      <td>-0.000240</td>\n",
       "      <td>0.000000</td>\n",
       "      <td>0.000000</td>\n",
       "    </tr>\n",
       "    <tr>\n",
       "      <th>...</th>\n",
       "      <td>...</td>\n",
       "      <td>...</td>\n",
       "      <td>...</td>\n",
       "      <td>...</td>\n",
       "      <td>...</td>\n",
       "      <td>...</td>\n",
       "      <td>...</td>\n",
       "      <td>...</td>\n",
       "      <td>...</td>\n",
       "      <td>...</td>\n",
       "      <td>...</td>\n",
       "      <td>...</td>\n",
       "      <td>...</td>\n",
       "      <td>...</td>\n",
       "      <td>...</td>\n",
       "      <td>...</td>\n",
       "      <td>...</td>\n",
       "      <td>...</td>\n",
       "      <td>...</td>\n",
       "      <td>...</td>\n",
       "      <td>...</td>\n",
       "    </tr>\n",
       "    <tr>\n",
       "      <th>CATCAAGTCCTCGCAT.19.1</th>\n",
       "      <td>0.000000</td>\n",
       "      <td>-0.000968</td>\n",
       "      <td>-0.004846</td>\n",
       "      <td>0.000000</td>\n",
       "      <td>0.000000</td>\n",
       "      <td>0.000000</td>\n",
       "      <td>0.000000</td>\n",
       "      <td>-0.001352</td>\n",
       "      <td>0.000008</td>\n",
       "      <td>0.000000</td>\n",
       "      <td>...</td>\n",
       "      <td>0.000000</td>\n",
       "      <td>0.001268</td>\n",
       "      <td>0.001014</td>\n",
       "      <td>-0.000750</td>\n",
       "      <td>0.000000</td>\n",
       "      <td>-0.000026</td>\n",
       "      <td>0.000000</td>\n",
       "      <td>0.000000</td>\n",
       "      <td>0.003127</td>\n",
       "      <td>0.004278</td>\n",
       "    </tr>\n",
       "    <tr>\n",
       "      <th>GTCAGCGGTCTGATAC.45.2</th>\n",
       "      <td>-0.003111</td>\n",
       "      <td>0.000000</td>\n",
       "      <td>0.003738</td>\n",
       "      <td>0.000186</td>\n",
       "      <td>0.001664</td>\n",
       "      <td>-0.005484</td>\n",
       "      <td>0.000576</td>\n",
       "      <td>-0.001488</td>\n",
       "      <td>0.000012</td>\n",
       "      <td>0.000944</td>\n",
       "      <td>...</td>\n",
       "      <td>-0.000818</td>\n",
       "      <td>0.000000</td>\n",
       "      <td>0.000000</td>\n",
       "      <td>-0.000397</td>\n",
       "      <td>-0.000792</td>\n",
       "      <td>-0.000100</td>\n",
       "      <td>0.000000</td>\n",
       "      <td>-0.000109</td>\n",
       "      <td>0.002332</td>\n",
       "      <td>0.000000</td>\n",
       "    </tr>\n",
       "    <tr>\n",
       "      <th>CATGCTCAGTGTCATC.30.10</th>\n",
       "      <td>-0.003066</td>\n",
       "      <td>-0.000559</td>\n",
       "      <td>0.005367</td>\n",
       "      <td>0.000263</td>\n",
       "      <td>0.000776</td>\n",
       "      <td>-0.003960</td>\n",
       "      <td>0.001311</td>\n",
       "      <td>-0.000742</td>\n",
       "      <td>0.000011</td>\n",
       "      <td>0.001265</td>\n",
       "      <td>...</td>\n",
       "      <td>-0.000353</td>\n",
       "      <td>0.001623</td>\n",
       "      <td>0.001542</td>\n",
       "      <td>-0.000403</td>\n",
       "      <td>-0.000563</td>\n",
       "      <td>-0.000065</td>\n",
       "      <td>0.000028</td>\n",
       "      <td>-0.000110</td>\n",
       "      <td>0.000000</td>\n",
       "      <td>0.005398</td>\n",
       "    </tr>\n",
       "    <tr>\n",
       "      <th>CTCATCGAGCAAATGT.32.8</th>\n",
       "      <td>-0.002909</td>\n",
       "      <td>0.000000</td>\n",
       "      <td>-0.002401</td>\n",
       "      <td>-0.000533</td>\n",
       "      <td>0.000000</td>\n",
       "      <td>-0.002149</td>\n",
       "      <td>0.000914</td>\n",
       "      <td>-0.001355</td>\n",
       "      <td>0.000010</td>\n",
       "      <td>0.000464</td>\n",
       "      <td>...</td>\n",
       "      <td>0.000447</td>\n",
       "      <td>0.000557</td>\n",
       "      <td>0.000826</td>\n",
       "      <td>-0.000377</td>\n",
       "      <td>0.000000</td>\n",
       "      <td>-0.000022</td>\n",
       "      <td>0.000000</td>\n",
       "      <td>-0.000182</td>\n",
       "      <td>0.000000</td>\n",
       "      <td>0.001913</td>\n",
       "    </tr>\n",
       "    <tr>\n",
       "      <th>GAAATGACATGCACTA.3.9</th>\n",
       "      <td>-0.001574</td>\n",
       "      <td>-0.000526</td>\n",
       "      <td>-0.002838</td>\n",
       "      <td>-0.000023</td>\n",
       "      <td>0.000724</td>\n",
       "      <td>-0.003440</td>\n",
       "      <td>0.001068</td>\n",
       "      <td>0.000052</td>\n",
       "      <td>0.000007</td>\n",
       "      <td>0.000257</td>\n",
       "      <td>...</td>\n",
       "      <td>-0.000146</td>\n",
       "      <td>0.001268</td>\n",
       "      <td>0.001093</td>\n",
       "      <td>-0.000569</td>\n",
       "      <td>-0.000231</td>\n",
       "      <td>-0.000091</td>\n",
       "      <td>0.000000</td>\n",
       "      <td>-0.000156</td>\n",
       "      <td>0.003021</td>\n",
       "      <td>0.004277</td>\n",
       "    </tr>\n",
       "  </tbody>\n",
       "</table>\n",
       "<p>4696 rows × 153 columns</p>\n",
       "</div>"
      ],
      "text/plain": [
       "                        R-HSA-5655332  R-HSA-5693537  R-HSA-5205647  \\\n",
       "cell_id                                                               \n",
       "CACAACATCGTCCTTG.26.2       -0.003298      -0.000165      -0.001825   \n",
       "AGCTTCCGTCTCTCTG.9.9        -0.001275      -0.000542       0.003747   \n",
       "CGCCAGACAACAAGTA.17.11      -0.002072      -0.000194      -0.000583   \n",
       "GGGATGATCGTAACAC.7.4        -0.001756      -0.000536       0.001314   \n",
       "ACGTTCCGTATTCTCT.5.11        0.000000       0.000000      -0.004301   \n",
       "...                               ...            ...            ...   \n",
       "CATCAAGTCCTCGCAT.19.1        0.000000      -0.000968      -0.004846   \n",
       "GTCAGCGGTCTGATAC.45.2       -0.003111       0.000000       0.003738   \n",
       "CATGCTCAGTGTCATC.30.10      -0.003066      -0.000559       0.005367   \n",
       "CTCATCGAGCAAATGT.32.8       -0.002909       0.000000      -0.002401   \n",
       "GAAATGACATGCACTA.3.9        -0.001574      -0.000526      -0.002838   \n",
       "\n",
       "                        R-HSA-881907  R-HSA-2660825  R-HSA-5654696  \\\n",
       "cell_id                                                              \n",
       "CACAACATCGTCCTTG.26.2      -0.000286       0.001378      -0.003232   \n",
       "AGCTTCCGTCTCTCTG.9.9        0.000000       0.002781      -0.001038   \n",
       "CGCCAGACAACAAGTA.17.11      0.000020       0.001338      -0.003624   \n",
       "GGGATGATCGTAACAC.7.4       -0.000621       0.001628      -0.001184   \n",
       "ACGTTCCGTATTCTCT.5.11       0.000000       0.000000       0.000000   \n",
       "...                              ...            ...            ...   \n",
       "CATCAAGTCCTCGCAT.19.1       0.000000       0.000000       0.000000   \n",
       "GTCAGCGGTCTGATAC.45.2       0.000186       0.001664      -0.005484   \n",
       "CATGCTCAGTGTCATC.30.10      0.000263       0.000776      -0.003960   \n",
       "CTCATCGAGCAAATGT.32.8      -0.000533       0.000000      -0.002149   \n",
       "GAAATGACATGCACTA.3.9       -0.000023       0.000724      -0.003440   \n",
       "\n",
       "                        R-HSA-109704  R-HSA-198753  R-HSA-211976  \\\n",
       "cell_id                                                            \n",
       "CACAACATCGTCCTTG.26.2       0.001074     -0.000682      0.000001   \n",
       "AGCTTCCGTCTCTCTG.9.9        0.000221     -0.000620      0.000007   \n",
       "CGCCAGACAACAAGTA.17.11      0.000773     -0.000940      0.000005   \n",
       "GGGATGATCGTAACAC.7.4        0.001733     -0.000956      0.000010   \n",
       "ACGTTCCGTATTCTCT.5.11       0.000000      0.000000      0.000000   \n",
       "...                              ...           ...           ...   \n",
       "CATCAAGTCCTCGCAT.19.1       0.000000     -0.001352      0.000008   \n",
       "GTCAGCGGTCTGATAC.45.2       0.000576     -0.001488      0.000012   \n",
       "CATGCTCAGTGTCATC.30.10      0.001311     -0.000742      0.000011   \n",
       "CTCATCGAGCAAATGT.32.8       0.000914     -0.001355      0.000010   \n",
       "GAAATGACATGCACTA.3.9        0.001068      0.000052      0.000007   \n",
       "\n",
       "                        R-HSA-5654687  ...  R-HSA-389356  R-HSA-8979227  \\\n",
       "cell_id                                ...                                \n",
       "CACAACATCGTCCTTG.26.2        0.000799  ...      0.000024       0.001375   \n",
       "AGCTTCCGTCTCTCTG.9.9         0.000482  ...      0.000059       0.000580   \n",
       "CGCCAGACAACAAGTA.17.11       0.000524  ...     -0.000422       0.001126   \n",
       "GGGATGATCGTAACAC.7.4        -0.000068  ...      0.000212       0.001284   \n",
       "ACGTTCCGTATTCTCT.5.11        0.000000  ...      0.000000       0.000000   \n",
       "...                               ...  ...           ...            ...   \n",
       "CATCAAGTCCTCGCAT.19.1        0.000000  ...      0.000000       0.001268   \n",
       "GTCAGCGGTCTGATAC.45.2        0.000944  ...     -0.000818       0.000000   \n",
       "CATGCTCAGTGTCATC.30.10       0.001265  ...     -0.000353       0.001623   \n",
       "CTCATCGAGCAAATGT.32.8        0.000464  ...      0.000447       0.000557   \n",
       "GAAATGACATGCACTA.3.9         0.000257  ...     -0.000146       0.001268   \n",
       "\n",
       "                        R-HSA-446353  R-HSA-196807  R-HSA-1181150  \\\n",
       "cell_id                                                             \n",
       "CACAACATCGTCCTTG.26.2       0.000942     -0.000680      -0.000505   \n",
       "AGCTTCCGTCTCTCTG.9.9        0.001331     -0.000299      -0.000403   \n",
       "CGCCAGACAACAAGTA.17.11      0.001401     -0.000515      -0.000350   \n",
       "GGGATGATCGTAACAC.7.4        0.001769     -0.000462      -0.000622   \n",
       "ACGTTCCGTATTCTCT.5.11       0.000000      0.000000       0.000000   \n",
       "...                              ...           ...            ...   \n",
       "CATCAAGTCCTCGCAT.19.1       0.001014     -0.000750       0.000000   \n",
       "GTCAGCGGTCTGATAC.45.2       0.000000     -0.000397      -0.000792   \n",
       "CATGCTCAGTGTCATC.30.10      0.001542     -0.000403      -0.000563   \n",
       "CTCATCGAGCAAATGT.32.8       0.000826     -0.000377       0.000000   \n",
       "GAAATGACATGCACTA.3.9        0.001093     -0.000569      -0.000231   \n",
       "\n",
       "                        R-HSA-1839124  R-HSA-6804758  R-HSA-3371571  \\\n",
       "cell_id                                                               \n",
       "CACAACATCGTCCTTG.26.2       -0.000043       0.000042      -0.000133   \n",
       "AGCTTCCGTCTCTCTG.9.9        -0.000027       0.000000      -0.000133   \n",
       "CGCCAGACAACAAGTA.17.11      -0.000085       0.000048      -0.000117   \n",
       "GGGATGATCGTAACAC.7.4        -0.000023       0.000000      -0.000158   \n",
       "ACGTTCCGTATTCTCT.5.11        0.000000       0.000000      -0.000240   \n",
       "...                               ...            ...            ...   \n",
       "CATCAAGTCCTCGCAT.19.1       -0.000026       0.000000       0.000000   \n",
       "GTCAGCGGTCTGATAC.45.2       -0.000100       0.000000      -0.000109   \n",
       "CATGCTCAGTGTCATC.30.10      -0.000065       0.000028      -0.000110   \n",
       "CTCATCGAGCAAATGT.32.8       -0.000022       0.000000      -0.000182   \n",
       "GAAATGACATGCACTA.3.9        -0.000091       0.000000      -0.000156   \n",
       "\n",
       "                        R-HSA-5260271  R-HSA-8963898  \n",
       "cell_id                                               \n",
       "CACAACATCGTCCTTG.26.2        0.002777       0.004619  \n",
       "AGCTTCCGTCTCTCTG.9.9         0.004294       0.001991  \n",
       "CGCCAGACAACAAGTA.17.11       0.003689       0.003816  \n",
       "GGGATGATCGTAACAC.7.4         0.002709       0.004330  \n",
       "ACGTTCCGTATTCTCT.5.11        0.000000       0.000000  \n",
       "...                               ...            ...  \n",
       "CATCAAGTCCTCGCAT.19.1        0.003127       0.004278  \n",
       "GTCAGCGGTCTGATAC.45.2        0.002332       0.000000  \n",
       "CATGCTCAGTGTCATC.30.10       0.000000       0.005398  \n",
       "CTCATCGAGCAAATGT.32.8        0.000000       0.001913  \n",
       "GAAATGACATGCACTA.3.9         0.003021       0.004277  \n",
       "\n",
       "[4696 rows x 153 columns]"
      ]
     },
     "execution_count": 46,
     "metadata": {},
     "output_type": "execute_result"
    }
   ],
   "source": [
    "layer_2_df"
   ]
  },
  {
   "cell_type": "markdown",
   "id": "d8439581-0287-4c43-a5cb-558e36a1a321",
   "metadata": {},
   "source": [
    "# layer_2_df"
   ]
  },
  {
   "cell_type": "markdown",
   "id": "57ec7de6-23c1-4bf2-993e-fad6c062d449",
   "metadata": {},
   "source": [
    "# Plots"
   ]
  },
  {
   "cell_type": "code",
   "execution_count": 782,
   "id": "30001e3c-d3e9-4f01-a289-03b430725af2",
   "metadata": {},
   "outputs": [
    {
     "name": "stdout",
     "output_type": "stream",
     "text": [
      "/12tb_dsk1/danish/Pytorch_Biologically_Informed_Neural_Network\n"
     ]
    }
   ],
   "source": [
    "!pwd"
   ]
  },
  {
   "cell_type": "code",
   "execution_count": null,
   "id": "2628cf21-4400-4f14-95e8-8bf4d2c9dfd5",
   "metadata": {},
   "outputs": [],
   "source": []
  }
 ],
 "metadata": {
  "kernelspec": {
   "display_name": "Python 3 (ipykernel)",
   "language": "python",
   "name": "python3"
  },
  "language_info": {
   "codemirror_mode": {
    "name": "ipython",
    "version": 3
   },
   "file_extension": ".py",
   "mimetype": "text/x-python",
   "name": "python",
   "nbconvert_exporter": "python",
   "pygments_lexer": "ipython3",
   "version": "3.12.2"
  }
 },
 "nbformat": 4,
 "nbformat_minor": 5
}
