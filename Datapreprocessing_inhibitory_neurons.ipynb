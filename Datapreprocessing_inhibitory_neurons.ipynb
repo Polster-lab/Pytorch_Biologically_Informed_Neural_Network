{
 "cells": [
  {
   "cell_type": "code",
   "execution_count": 1,
   "id": "469d7b1a-8568-4e04-b2f8-128851b3b1b2",
   "metadata": {},
   "outputs": [],
   "source": [
    "import pandas as pd\n",
    "import pickle\n",
    "import numpy as np\n",
    "import os\n",
    "from tqdm import tqdm\n",
    "from sklearn.model_selection import train_test_split\n"
   ]
  },
  {
   "cell_type": "code",
   "execution_count": 2,
   "id": "79bfd5fe-6baf-4958-81cf-a21932dc8fd6",
   "metadata": {},
   "outputs": [
    {
     "name": "stdout",
     "output_type": "stream",
     "text": [
      "/12tb_dsk1/danish/Pytorch_Biologically_Informed_Neural_Network\n"
     ]
    }
   ],
   "source": [
    "!pwd"
   ]
  },
  {
   "cell_type": "markdown",
   "id": "14277728-a9fd-49f1-9956-63ba0c033d4f",
   "metadata": {},
   "source": [
    "# loading Ensemble_file"
   ]
  },
  {
   "cell_type": "code",
   "execution_count": 3,
   "id": "12db96a2-aeb5-4c39-ad75-dd02f56c05ad",
   "metadata": {},
   "outputs": [
    {
     "data": {
      "text/html": [
       "<div>\n",
       "<style scoped>\n",
       "    .dataframe tbody tr th:only-of-type {\n",
       "        vertical-align: middle;\n",
       "    }\n",
       "\n",
       "    .dataframe tbody tr th {\n",
       "        vertical-align: top;\n",
       "    }\n",
       "\n",
       "    .dataframe thead th {\n",
       "        text-align: right;\n",
       "    }\n",
       "</style>\n",
       "<table border=\"1\" class=\"dataframe\">\n",
       "  <thead>\n",
       "    <tr style=\"text-align: right;\">\n",
       "      <th></th>\n",
       "      <th>0</th>\n",
       "      <th>1</th>\n",
       "    </tr>\n",
       "  </thead>\n",
       "  <tbody>\n",
       "    <tr>\n",
       "      <th>0</th>\n",
       "      <td>ENSG00000210049</td>\n",
       "      <td>MT-TF</td>\n",
       "    </tr>\n",
       "    <tr>\n",
       "      <th>1</th>\n",
       "      <td>ENSG00000211459</td>\n",
       "      <td>MT-RNR1</td>\n",
       "    </tr>\n",
       "    <tr>\n",
       "      <th>2</th>\n",
       "      <td>ENSG00000210077</td>\n",
       "      <td>MT-TV</td>\n",
       "    </tr>\n",
       "    <tr>\n",
       "      <th>3</th>\n",
       "      <td>ENSG00000210082</td>\n",
       "      <td>MT-RNR2</td>\n",
       "    </tr>\n",
       "    <tr>\n",
       "      <th>4</th>\n",
       "      <td>ENSG00000209082</td>\n",
       "      <td>MT-TL1</td>\n",
       "    </tr>\n",
       "    <tr>\n",
       "      <th>...</th>\n",
       "      <td>...</td>\n",
       "      <td>...</td>\n",
       "    </tr>\n",
       "    <tr>\n",
       "      <th>70606</th>\n",
       "      <td>ENSG00000232679</td>\n",
       "      <td>LINC01705</td>\n",
       "    </tr>\n",
       "    <tr>\n",
       "      <th>70607</th>\n",
       "      <td>ENSG00000200033</td>\n",
       "      <td>RNU6-403P</td>\n",
       "    </tr>\n",
       "    <tr>\n",
       "      <th>70608</th>\n",
       "      <td>ENSG00000228437</td>\n",
       "      <td>LINC02474</td>\n",
       "    </tr>\n",
       "    <tr>\n",
       "      <th>70609</th>\n",
       "      <td>ENSG00000229463</td>\n",
       "      <td>LYST-AS1</td>\n",
       "    </tr>\n",
       "    <tr>\n",
       "      <th>70610</th>\n",
       "      <td>ENSG00000229291</td>\n",
       "      <td>LINC02768</td>\n",
       "    </tr>\n",
       "  </tbody>\n",
       "</table>\n",
       "<p>70611 rows × 2 columns</p>\n",
       "</div>"
      ],
      "text/plain": [
       "                     0          1\n",
       "0      ENSG00000210049      MT-TF\n",
       "1      ENSG00000211459    MT-RNR1\n",
       "2      ENSG00000210077      MT-TV\n",
       "3      ENSG00000210082    MT-RNR2\n",
       "4      ENSG00000209082     MT-TL1\n",
       "...                ...        ...\n",
       "70606  ENSG00000232679  LINC01705\n",
       "70607  ENSG00000200033  RNU6-403P\n",
       "70608  ENSG00000228437  LINC02474\n",
       "70609  ENSG00000229463   LYST-AS1\n",
       "70610  ENSG00000229291  LINC02768\n",
       "\n",
       "[70611 rows x 2 columns]"
      ]
     },
     "execution_count": 3,
     "metadata": {},
     "output_type": "execute_result"
    }
   ],
   "source": [
    "df_ensemble = pd.read_csv('df_ensemble.csv')\n",
    "df_ensemble"
   ]
  },
  {
   "cell_type": "code",
   "execution_count": 4,
   "id": "ec73f536-28dc-47ae-8a3f-af7baefbf6c8",
   "metadata": {},
   "outputs": [],
   "source": [
    "\n",
    "def return_ensemble_id(x):\n",
    "    try:\n",
    "        return df_ensemble[df_ensemble['1']==x]['0'].values[0]\n",
    "    except: \n",
    "        return np.nan"
   ]
  },
  {
   "cell_type": "markdown",
   "id": "84833b2c-1217-423b-bffe-aabaefae162c",
   "metadata": {},
   "source": [
    "# CSV reading"
   ]
  },
  {
   "cell_type": "code",
   "execution_count": 5,
   "id": "13d0b81e-ee50-4065-82aa-a4e5ede733d9",
   "metadata": {},
   "outputs": [],
   "source": [
    "def save_train_test(subtype_name):\n",
    "\n",
    "    print(subtype_name)\n",
    "\n",
    "    data = pd.read_csv(f'../../usman/Single_Cell_Microglia_Project/preprocessed_data/inhibitory_neuron/subtype_inhibitory/{subtype_name}/count_matrix.csv',index_col = 0)\n",
    "    x = data.reset_index()['index'].apply(return_ensemble_id)\n",
    "    data['ensemble_gene_name'] = x.tolist()\n",
    "    data = data.dropna()\n",
    "    data.set_index('ensemble_gene_name', inplace = True)\n",
    "    data = data.T\n",
    "    clinical_data = pd.read_csv('../../danish/preprocessed_data/clinical/clinical_single_cell.csv')\n",
    "    \n",
    "    meta_data = pd.read_csv(f'../../usman/Single_Cell_Microglia_Project/preprocessed_data/inhibitory_neuron/subtype_inhibitory/{subtype_name}/metadata.csv',index_col = 0)\n",
    "    meta_data = meta_data.sort_values(by = ['cell_id'])\n",
    "    meta_data = pd.merge(meta_data,clinical_data[['subject','clinical_pathological_AD']], on = 'subject', how = 'left')\n",
    "    meta_data.drop_duplicates(inplace=True)\n",
    "    meta_data.set_index('cell_id',inplace = True)\n",
    "    meta_data.sort_index(inplace= True)\n",
    "\n",
    "    meta_data = meta_data[meta_data.clinical_pathological_AD != 'False']\n",
    "\n",
    "    meta_data_NCI = meta_data[meta_data.clinical_pathological_AD == 'NCI_with_No_Plaques'][0:min(meta_data.clinical_pathological_AD.value_counts().tolist())]\n",
    "    meta_data_AD = meta_data[meta_data.clinical_pathological_AD == 'AD_with_Plaques'][0:min(meta_data.clinical_pathological_AD.value_counts().tolist())]\n",
    "    meta_data = pd.concat([meta_data_NCI,meta_data_AD])\n",
    "    data = data.loc[meta_data.index,]\n",
    "    y = meta_data.clinical_pathological_AD.tolist()\n",
    "    X = data\n",
    "\n",
    "\n",
    "    # Step 1: Split data into training and temporary dataset (which will be further split into testing and validation)\n",
    "    X_train, X_temp, y_train, y_temp = train_test_split(X, y, test_size=0.40, random_state=42)  # 40% of data will be split into testing and validation\n",
    "    \n",
    "    # Step 2: Split the temporary dataset into testing and validation\n",
    "    X_val, X_test, y_val, y_test = train_test_split(X_temp, y_temp, test_size=0.50, random_state=42)  # 50% of the temporary set will be for validation and 50% for testing\n",
    "    \n",
    "    y_train = pd.DataFrame(y_train)\n",
    "    y_test = pd.DataFrame(y_test)\n",
    "    y_val = pd.DataFrame(y_val)\n",
    "\n",
    "    try:\n",
    "        diagnosis_mapping = {'AD_with_Plaques': 1, 'NCI_with_No_Plaques': 0}\n",
    "        y_test['diagnosis_binary'] = y_test[0].map(diagnosis_mapping)\n",
    "        \n",
    "        # Display the first few rows to verify the mapping\n",
    "        print(y_test.head())\n",
    "        y_test.drop(columns=[0], inplace=True)\n",
    "        y_test\n",
    "    \n",
    "    except:\n",
    "        print('Previously Run Before')\n",
    "\n",
    "\n",
    "\n",
    "    try:\n",
    "        diagnosis_mapping = {'AD_with_Plaques': 1, 'NCI_with_No_Plaques': 0}\n",
    "        y_train['diagnosis_binary'] = y_train[0].map(diagnosis_mapping)\n",
    "        \n",
    "        # Display the first few rows to verify the mapping\n",
    "        \n",
    "        y_train.drop(columns=[0], inplace=True)\n",
    "        y_train\n",
    "    \n",
    "    except:\n",
    "        print('Previously Run Before')\n",
    "\n",
    "\n",
    "\n",
    "    \n",
    "    try:\n",
    "        diagnosis_mapping = {'AD_with_Plaques': 1, 'NCI_with_No_Plaques': 0}\n",
    "        y_val['diagnosis_binary'] = y_val[0].map(diagnosis_mapping)\n",
    "        # Display the first few rows to verify the mapping\n",
    "        y_val.drop(columns=[0], inplace=True)\n",
    "        y_val\n",
    "    \n",
    "    except:\n",
    "        print('Previously Run Before')\n",
    "\n",
    "\n",
    "    y_train.rename(columns = {'diagnosis_binary':'diagnosis'}, inplace=True)\n",
    "    y_test.rename(columns = {'diagnosis_binary':'diagnosis'}, inplace=True)\n",
    "    y_val.rename(columns = {'diagnosis_binary':'diagnosis'}, inplace=True)\n",
    "\n",
    "    try:\n",
    "        os.makedirs(f'./Preprocessed_data/excitory_neurons/{subtype_name}')\n",
    "    except:\n",
    "        print('directory already created')\n",
    "\n",
    "    \n",
    "    X_train.to_csv(f'./Preprocessed_data/excitory_neurons/{subtype_name}/train.csv')\n",
    "    X_test.to_csv(f'./Preprocessed_data/excitory_neurons/{subtype_name}/test.csv')\n",
    "    X_val.to_csv(f'./Preprocessed_data/excitory_neurons/{subtype_name}/val.csv')\n",
    "\n",
    "    y_val.to_csv(f'./Preprocessed_data/excitory_neurons/{subtype_name}/y_val.csv', index = False)\n",
    "    y_test.to_csv(f'./Preprocessed_data/excitory_neurons/{subtype_name}/y_test.csv', index = False)\n",
    "    y_train.to_csv(f'./Preprocessed_data/excitory_neurons/{subtype_name}/y_train.csv', index = False)\n",
    "    meta_data.to_csv(f'./Preprocessed_data/excitory_neurons/{subtype_name}/metadata.csv')\n",
    "\n",
    "\n",
    "\n",
    "    "
   ]
  },
  {
   "cell_type": "code",
   "execution_count": 6,
   "id": "9dd9d7ec-ea94-43e2-b7f2-74a721f5c16e",
   "metadata": {},
   "outputs": [
    {
     "name": "stderr",
     "output_type": "stream",
     "text": [
      "  0%|                                                                                                                                              | 0/25 [00:00<?, ?it/s]"
     ]
    },
    {
     "name": "stdout",
     "output_type": "stream",
     "text": [
      "Inh_GPC5_RIT2\n",
      "                     0  diagnosis_binary\n",
      "0      AD_with_Plaques                 1\n",
      "1  NCI_with_No_Plaques                 0\n",
      "2  NCI_with_No_Plaques                 0\n",
      "3      AD_with_Plaques                 1\n",
      "4  NCI_with_No_Plaques                 0\n"
     ]
    },
    {
     "name": "stderr",
     "output_type": "stream",
     "text": [
      "  4%|█████▎                                                                                                                                | 1/25 [01:14<29:56, 74.87s/it]"
     ]
    },
    {
     "name": "stdout",
     "output_type": "stream",
     "text": [
      "Inh_VIP_ABI3BP\n",
      "                     0  diagnosis_binary\n",
      "0  NCI_with_No_Plaques                 0\n",
      "1      AD_with_Plaques                 1\n",
      "2      AD_with_Plaques                 1\n",
      "3  NCI_with_No_Plaques                 0\n",
      "4  NCI_with_No_Plaques                 0\n"
     ]
    },
    {
     "name": "stderr",
     "output_type": "stream",
     "text": [
      "  8%|██████████▋                                                                                                                           | 2/25 [02:48<32:50, 85.69s/it]"
     ]
    },
    {
     "name": "stdout",
     "output_type": "stream",
     "text": [
      "Inh_L6_SST_NPY\n",
      "                     0  diagnosis_binary\n",
      "0  NCI_with_No_Plaques                 0\n",
      "1      AD_with_Plaques                 1\n",
      "2      AD_with_Plaques                 1\n",
      "3      AD_with_Plaques                 1\n",
      "4  NCI_with_No_Plaques                 0\n"
     ]
    },
    {
     "name": "stderr",
     "output_type": "stream",
     "text": [
      " 12%|████████████████                                                                                                                      | 3/25 [03:57<28:43, 78.32s/it]"
     ]
    },
    {
     "name": "stdout",
     "output_type": "stream",
     "text": [
      "Inh_ENOX2_SPHKAP\n",
      "                     0  diagnosis_binary\n",
      "0      AD_with_Plaques                 1\n",
      "1  NCI_with_No_Plaques                 0\n",
      "2  NCI_with_No_Plaques                 0\n",
      "3  NCI_with_No_Plaques                 0\n",
      "4  NCI_with_No_Plaques                 0\n"
     ]
    },
    {
     "name": "stderr",
     "output_type": "stream",
     "text": [
      " 16%|█████████████████████▍                                                                                                                | 4/25 [05:25<28:39, 81.88s/it]"
     ]
    },
    {
     "name": "stdout",
     "output_type": "stream",
     "text": [
      "Inh_SORCS1_TTN\n",
      "                     0  diagnosis_binary\n",
      "0      AD_with_Plaques                 1\n",
      "1      AD_with_Plaques                 1\n",
      "2  NCI_with_No_Plaques                 0\n",
      "3      AD_with_Plaques                 1\n",
      "4  NCI_with_No_Plaques                 0\n"
     ]
    },
    {
     "name": "stderr",
     "output_type": "stream",
     "text": [
      " 20%|██████████████████████████▊                                                                                                           | 5/25 [06:45<27:04, 81.20s/it]"
     ]
    },
    {
     "name": "stdout",
     "output_type": "stream",
     "text": [
      "Inh_ALCAM_TRPM3\n",
      "                     0  diagnosis_binary\n",
      "0      AD_with_Plaques                 1\n",
      "1      AD_with_Plaques                 1\n",
      "2      AD_with_Plaques                 1\n",
      "3      AD_with_Plaques                 1\n",
      "4  NCI_with_No_Plaques                 0\n"
     ]
    },
    {
     "name": "stderr",
     "output_type": "stream",
     "text": [
      " 24%|████████████████████████████████▏                                                                                                     | 6/25 [08:10<26:11, 82.73s/it]"
     ]
    },
    {
     "name": "stdout",
     "output_type": "stream",
     "text": [
      "Inh_PVALB_CA8__Chandelier\n",
      "                 0  diagnosis_binary\n",
      "0  AD_with_Plaques                 1\n",
      "1  AD_with_Plaques                 1\n",
      "2  AD_with_Plaques                 1\n",
      "3  AD_with_Plaques                 1\n",
      "4  AD_with_Plaques                 1\n"
     ]
    },
    {
     "name": "stderr",
     "output_type": "stream",
     "text": [
      " 28%|█████████████████████████████████████▌                                                                                                | 7/25 [09:43<25:46, 85.94s/it]"
     ]
    },
    {
     "name": "stdout",
     "output_type": "stream",
     "text": [
      "Inh_L1-6_LAMP5_CA13\n",
      "                     0  diagnosis_binary\n",
      "0      AD_with_Plaques                 1\n",
      "1  NCI_with_No_Plaques                 0\n",
      "2  NCI_with_No_Plaques                 0\n",
      "3      AD_with_Plaques                 1\n",
      "4  NCI_with_No_Plaques                 0\n"
     ]
    },
    {
     "name": "stderr",
     "output_type": "stream",
     "text": [
      " 32%|██████████████████████████████████████████▉                                                                                           | 8/25 [11:21<25:26, 89.77s/it]"
     ]
    },
    {
     "name": "stdout",
     "output_type": "stream",
     "text": [
      "Inh_PVALB_SULF1\n",
      "                     0  diagnosis_binary\n",
      "0  NCI_with_No_Plaques                 0\n",
      "1      AD_with_Plaques                 1\n",
      "2      AD_with_Plaques                 1\n",
      "3      AD_with_Plaques                 1\n",
      "4      AD_with_Plaques                 1\n",
      "                     0  diagnosis_binary\n",
      "0  NCI_with_No_Plaques                 0\n",
      "1      AD_with_Plaques                 1\n",
      "2  NCI_with_No_Plaques                 0\n",
      "3  NCI_with_No_Plaques                 0\n",
      "4      AD_with_Plaques                 1\n"
     ]
    },
    {
     "name": "stderr",
     "output_type": "stream",
     "text": [
      " 40%|████████████████████████████████████████████████████▊                                                                               | 10/25 [16:04<29:47, 119.16s/it]"
     ]
    },
    {
     "name": "stdout",
     "output_type": "stream",
     "text": [
      "Inh_PTPRK_FAM19A1\n",
      "                     0  diagnosis_binary\n",
      "0  NCI_with_No_Plaques                 0\n",
      "1      AD_with_Plaques                 1\n",
      "2  NCI_with_No_Plaques                 0\n",
      "3  NCI_with_No_Plaques                 0\n",
      "4  NCI_with_No_Plaques                 0\n"
     ]
    },
    {
     "name": "stderr",
     "output_type": "stream",
     "text": [
      " 44%|██████████████████████████████████████████████████████████                                                                          | 11/25 [17:29<25:22, 108.78s/it]"
     ]
    },
    {
     "name": "stdout",
     "output_type": "stream",
     "text": [
      "Inh_L5-6_PVALB_STON2\n",
      "                     0  diagnosis_binary\n",
      "0  NCI_with_No_Plaques                 0\n",
      "1      AD_with_Plaques                 1\n",
      "2  NCI_with_No_Plaques                 0\n",
      "3      AD_with_Plaques                 1\n",
      "4      AD_with_Plaques                 1\n"
     ]
    },
    {
     "name": "stderr",
     "output_type": "stream",
     "text": [
      " 48%|███████████████████████████████████████████████████████████████▊                                                                     | 12/25 [18:46<21:25, 98.90s/it]"
     ]
    },
    {
     "name": "stdout",
     "output_type": "stream",
     "text": [
      "Inh_LAMP5_RELN\n",
      "                     0  diagnosis_binary\n",
      "0  NCI_with_No_Plaques                 0\n",
      "1      AD_with_Plaques                 1\n",
      "2      AD_with_Plaques                 1\n",
      "3      AD_with_Plaques                 1\n",
      "4  NCI_with_No_Plaques                 0\n"
     ]
    },
    {
     "name": "stderr",
     "output_type": "stream",
     "text": [
      " 52%|█████████████████████████████████████████████████████████████████████▏                                                               | 13/25 [20:04<18:30, 92.55s/it]"
     ]
    },
    {
     "name": "stdout",
     "output_type": "stream",
     "text": [
      "Inh_VIP_CLSTN2\n",
      "                     0  diagnosis_binary\n",
      "0      AD_with_Plaques                 1\n",
      "1  NCI_with_No_Plaques                 0\n",
      "2  NCI_with_No_Plaques                 0\n",
      "3      AD_with_Plaques                 1\n",
      "4  NCI_with_No_Plaques                 0\n"
     ]
    },
    {
     "name": "stderr",
     "output_type": "stream",
     "text": [
      " 56%|██████████████████████████████████████████████████████████████████████████▍                                                          | 14/25 [21:42<17:15, 94.17s/it]"
     ]
    },
    {
     "name": "stdout",
     "output_type": "stream",
     "text": [
      "Inh_L1-2_PAX6_SCGN\n",
      "                     0  diagnosis_binary\n",
      "0  NCI_with_No_Plaques                 0\n",
      "1      AD_with_Plaques                 1\n",
      "2      AD_with_Plaques                 1\n",
      "3      AD_with_Plaques                 1\n",
      "4      AD_with_Plaques                 1\n"
     ]
    },
    {
     "name": "stderr",
     "output_type": "stream",
     "text": [
      " 60%|███████████████████████████████████████████████████████████████████████████████▊                                                     | 15/25 [22:49<14:21, 86.15s/it]"
     ]
    },
    {
     "name": "stdout",
     "output_type": "stream",
     "text": [
      "Inh_L3-5_SST_MAFB\n",
      "                     0  diagnosis_binary\n",
      "0      AD_with_Plaques                 1\n",
      "1  NCI_with_No_Plaques                 0\n",
      "2  NCI_with_No_Plaques                 0\n",
      "3      AD_with_Plaques                 1\n",
      "4      AD_with_Plaques                 1\n"
     ]
    },
    {
     "name": "stderr",
     "output_type": "stream",
     "text": [
      " 64%|█████████████████████████████████████████████████████████████████████████████████████                                                | 16/25 [24:38<13:56, 92.95s/it]"
     ]
    },
    {
     "name": "stdout",
     "output_type": "stream",
     "text": [
      "Inh_LAMP5_NRG1__Rosehip\n",
      "                     0  diagnosis_binary\n",
      "0  NCI_with_No_Plaques                 0\n",
      "1      AD_with_Plaques                 1\n",
      "2      AD_with_Plaques                 1\n",
      "3  NCI_with_No_Plaques                 0\n",
      "4      AD_with_Plaques                 1\n"
     ]
    },
    {
     "name": "stderr",
     "output_type": "stream",
     "text": [
      " 68%|██████████████████████████████████████████████████████████████████████████████████████████▍                                          | 17/25 [26:34<13:18, 99.86s/it]"
     ]
    },
    {
     "name": "stdout",
     "output_type": "stream",
     "text": [
      "Inh_VIP_THSD7B\n",
      "                     0  diagnosis_binary\n",
      "0      AD_with_Plaques                 1\n",
      "1      AD_with_Plaques                 1\n",
      "2  NCI_with_No_Plaques                 0\n",
      "3      AD_with_Plaques                 1\n",
      "4  NCI_with_No_Plaques                 0\n"
     ]
    },
    {
     "name": "stderr",
     "output_type": "stream",
     "text": [
      " 72%|███████████████████████████████████████████████████████████████████████████████████████████████▊                                     | 18/25 [27:53<10:54, 93.52s/it]"
     ]
    },
    {
     "name": "stdout",
     "output_type": "stream",
     "text": [
      "Inh_SGCD_PDE3A\n",
      "                     0  diagnosis_binary\n",
      "0      AD_with_Plaques                 1\n",
      "1  NCI_with_No_Plaques                 0\n",
      "2      AD_with_Plaques                 1\n",
      "3  NCI_with_No_Plaques                 0\n",
      "4  NCI_with_No_Plaques                 0\n"
     ]
    },
    {
     "name": "stderr",
     "output_type": "stream",
     "text": [
      " 76%|█████████████████████████████████████████████████████████████████████████████████████████████████████                                | 19/25 [29:05<08:43, 87.18s/it]"
     ]
    },
    {
     "name": "stdout",
     "output_type": "stream",
     "text": [
      "Inh_RYR3_TSHZ2\n",
      "                     0  diagnosis_binary\n",
      "0  NCI_with_No_Plaques                 0\n",
      "1      AD_with_Plaques                 1\n",
      "2      AD_with_Plaques                 1\n",
      "3  NCI_with_No_Plaques                 0\n",
      "4  NCI_with_No_Plaques                 0\n"
     ]
    },
    {
     "name": "stderr",
     "output_type": "stream",
     "text": [
      " 80%|██████████████████████████████████████████████████████████████████████████████████████████████████████████▍                          | 20/25 [30:58<07:55, 95.02s/it]"
     ]
    },
    {
     "name": "stdout",
     "output_type": "stream",
     "text": [
      "Inh_VIP_TSHZ2\n",
      "                     0  diagnosis_binary\n",
      "0      AD_with_Plaques                 1\n",
      "1  NCI_with_No_Plaques                 0\n",
      "2      AD_with_Plaques                 1\n",
      "3  NCI_with_No_Plaques                 0\n",
      "4  NCI_with_No_Plaques                 0\n"
     ]
    },
    {
     "name": "stderr",
     "output_type": "stream",
     "text": [
      " 84%|███████████████████████████████████████████████████████████████████████████████████████████████████████████████▋                     | 21/25 [32:26<06:11, 92.82s/it]"
     ]
    },
    {
     "name": "stdout",
     "output_type": "stream",
     "text": [
      "Inh_L1_PAX6_CA4\n",
      "                     0  diagnosis_binary\n",
      "0  NCI_with_No_Plaques                 0\n",
      "1  NCI_with_No_Plaques                 0\n",
      "2      AD_with_Plaques                 1\n",
      "3  NCI_with_No_Plaques                 0\n",
      "4      AD_with_Plaques                 1\n"
     ]
    },
    {
     "name": "stderr",
     "output_type": "stream",
     "text": [
      " 88%|█████████████████████████████████████████████████████████████████████████████████████████████████████████████████████                | 22/25 [33:39<04:20, 86.85s/it]"
     ]
    },
    {
     "name": "stdout",
     "output_type": "stream",
     "text": [
      "Inh_FBN2_EPB41L4A\n",
      "                     0  diagnosis_binary\n",
      "0  NCI_with_No_Plaques                 0\n",
      "1  NCI_with_No_Plaques                 0\n",
      "2  NCI_with_No_Plaques                 0\n",
      "3  NCI_with_No_Plaques                 0\n",
      "4      AD_with_Plaques                 1\n"
     ]
    },
    {
     "name": "stderr",
     "output_type": "stream",
     "text": [
      " 92%|██████████████████████████████████████████████████████████████████████████████████████████████████████████████████████████▎          | 23/25 [34:57<02:48, 84.27s/it]"
     ]
    },
    {
     "name": "stdout",
     "output_type": "stream",
     "text": [
      "Inh_L5-6_SST_TH\n",
      "                     0  diagnosis_binary\n",
      "0  NCI_with_No_Plaques                 0\n",
      "1      AD_with_Plaques                 1\n",
      "2      AD_with_Plaques                 1\n",
      "3      AD_with_Plaques                 1\n",
      "4      AD_with_Plaques                 1\n"
     ]
    },
    {
     "name": "stderr",
     "output_type": "stream",
     "text": [
      " 96%|███████████████████████████████████████████████████████████████████████████████████████████████████████████████████████████████▋     | 24/25 [36:10<01:20, 80.98s/it]"
     ]
    },
    {
     "name": "stdout",
     "output_type": "stream",
     "text": [
      "Inh_CUX2_MSR1\n",
      "                     0  diagnosis_binary\n",
      "0  NCI_with_No_Plaques                 0\n",
      "1  NCI_with_No_Plaques                 0\n",
      "2  NCI_with_No_Plaques                 0\n",
      "3      AD_with_Plaques                 1\n",
      "4  NCI_with_No_Plaques                 0\n"
     ]
    },
    {
     "name": "stderr",
     "output_type": "stream",
     "text": [
      "100%|█████████████████████████████████████████████████████████████████████████████████████████████████████████████████████████████████████| 25/25 [38:02<00:00, 91.31s/it]\n"
     ]
    }
   ],
   "source": [
    "for i in tqdm(os.listdir('../../usman/Single_Cell_Microglia_Project/preprocessed_data/inhibitory_neuron/subtype_inhibitory/')):\n",
    "    save_train_test(i)"
   ]
  },
  {
   "cell_type": "code",
   "execution_count": null,
   "id": "58adbd0f-7ca4-47fd-8e7d-bba8b2f52c27",
   "metadata": {},
   "outputs": [],
   "source": []
  }
 ],
 "metadata": {
  "kernelspec": {
   "display_name": "Python 3 (ipykernel)",
   "language": "python",
   "name": "python3"
  },
  "language_info": {
   "codemirror_mode": {
    "name": "ipython",
    "version": 3
   },
   "file_extension": ".py",
   "mimetype": "text/x-python",
   "name": "python",
   "nbconvert_exporter": "python",
   "pygments_lexer": "ipython3",
   "version": "3.12.2"
  }
 },
 "nbformat": 4,
 "nbformat_minor": 5
}
