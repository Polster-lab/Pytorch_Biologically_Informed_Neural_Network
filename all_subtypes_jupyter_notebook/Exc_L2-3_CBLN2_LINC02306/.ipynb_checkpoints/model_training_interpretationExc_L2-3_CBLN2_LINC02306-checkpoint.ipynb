{
 "cells": [
  {
   "cell_type": "markdown",
   "id": "ede80ff4-96c7-4c69-8695-db4e19bf987b",
   "metadata": {},
   "source": [
    "# AD_with_Plaques:1\n",
    "# NCI_with_No_Plaques: 0"
   ]
  },
  {
   "cell_type": "code",
   "execution_count": 1,
   "id": "3fac629b-399d-460c-8d0a-47a849f6b175",
   "metadata": {},
   "outputs": [
    {
     "name": "stdout",
     "output_type": "stream",
     "text": [
      "/12tb_dsk2/danish/Pytorch_Biologically_Informed_Neural_Network/all_subtypes_jupyter_notebook/Exc_L2-3_CBLN2_LINC02306\n"
     ]
    }
   ],
   "source": [
    "!pwd"
   ]
  },
  {
   "cell_type": "code",
   "execution_count": 2,
   "id": "17daee1e-8cea-4fa2-ae8c-d63b1396bf0e",
   "metadata": {},
   "outputs": [
    {
     "name": "stderr",
     "output_type": "stream",
     "text": [
      "2024-08-27 16:23:35.001955: I tensorflow/core/util/port.cc:113] oneDNN custom operations are on. You may see slightly different numerical results due to floating-point round-off errors from different computation orders. To turn them off, set the environment variable `TF_ENABLE_ONEDNN_OPTS=0`.\n",
      "2024-08-27 16:23:35.144749: E external/local_xla/xla/stream_executor/cuda/cuda_fft.cc:479] Unable to register cuFFT factory: Attempting to register factory for plugin cuFFT when one has already been registered\n",
      "2024-08-27 16:23:35.211582: E external/local_xla/xla/stream_executor/cuda/cuda_dnn.cc:10575] Unable to register cuDNN factory: Attempting to register factory for plugin cuDNN when one has already been registered\n",
      "2024-08-27 16:23:35.212127: E external/local_xla/xla/stream_executor/cuda/cuda_blas.cc:1442] Unable to register cuBLAS factory: Attempting to register factory for plugin cuBLAS when one has already been registered\n",
      "2024-08-27 16:23:35.317081: I tensorflow/core/platform/cpu_feature_guard.cc:210] This TensorFlow binary is optimized to use available CPU instructions in performance-critical operations.\n",
      "To enable the following instructions: AVX2 AVX512F AVX512_VNNI AVX512_BF16 FMA, in other operations, rebuild TensorFlow with the appropriate compiler flags.\n",
      "2024-08-27 16:23:35.909950: W tensorflow/compiler/tf2tensorrt/utils/py_utils.cc:38] TF-TRT Warning: Could not find TensorRT\n"
     ]
    }
   ],
   "source": [
    "import os\n",
    "os.chdir('./../../')\n",
    "\n",
    "import tensorflow as tf\n",
    "from gene_expression import *\n",
    "from pathway_hierarchy import *\n",
    "from utils import *\n",
    "import torch"
   ]
  },
  {
   "cell_type": "code",
   "execution_count": 6,
   "id": "2fb0cea0-3807-442e-8374-f4c7a4b49355",
   "metadata": {
    "scrolled": true
   },
   "outputs": [
    {
     "name": "stdout",
     "output_type": "stream",
     "text": [
      "{'dataset': {'train': '/12tb_dsk2/danish/Pytorch_Biologically_Informed_Neural_Network/Preprocessed_data/excitory_neurons/Exc_L2-3_CBLN2_LINC02306/train.csv', 'test': '/12tb_dsk2/danish/Pytorch_Biologically_Informed_Neural_Network/Preprocessed_data/excitory_neurons/Exc_L2-3_CBLN2_LINC02306/test.csv', 'val': '/12tb_dsk2/danish/Pytorch_Biologically_Informed_Neural_Network/Preprocessed_data/excitory_neurons/Exc_L2-3_CBLN2_LINC02306/val.csv', 'y_train': '/12tb_dsk2/danish/Pytorch_Biologically_Informed_Neural_Network/Preprocessed_data/excitory_neurons/Exc_L2-3_CBLN2_LINC02306/y_train.csv', 'y_test': '/12tb_dsk2/danish/Pytorch_Biologically_Informed_Neural_Network/Preprocessed_data/excitory_neurons/Exc_L2-3_CBLN2_LINC02306/y_test.csv', 'y_val': '/12tb_dsk2/danish/Pytorch_Biologically_Informed_Neural_Network/Preprocessed_data/excitory_neurons/Exc_L2-3_CBLN2_LINC02306/y_val.csv'}, 'model_output': {'model_save_dir': '/12tb_dsk2/danish/Pytorch_Biologically_Informed_Neural_Network/model_save/excitory_neurons/Exc_L2-3_CBLN2_LINC02306/'}, 'train': {'epochs': 3000, 'learning_rate': 0.05, 'weight_decay': 0.1, 'batch_size': 200000}, 'gene_expression': {'highly_expressed_threshold': 0.85, 'lowly_expressed_threshold': 0.85, 'normalization': True, 'marker': True, 'print_information': True}, 'pathways_network': {'species': 'human', 'n_hidden_layer': 6, 'pathway_relation': '/12tb_dsk2/danish/Pytorch_Biologically_Informed_Neural_Network/reactome/ReactomePathwaysRelation.txt', 'pathway_names': '/12tb_dsk2/danish/Pytorch_Biologically_Informed_Neural_Network/reactome/ReactomePathways.txt', 'ensemble_pathway_relation': '/12tb_dsk2/danish/Pytorch_Biologically_Informed_Neural_Network/reactome/Ensembl2Reactome_All_Levels.txt', 'datatype': 'diagnosis', 'h_thresh': 0.9, 'l_thresh': 0.0, 'pathway_relation_updated': '/12tb_dsk2/danish/Pytorch_Biologically_Informed_Neural_Network/reactome/Subset_reactomePathwaysRelation.txt', 'ensemble_pathway_relation_updated': '/12tb_dsk2/danish/Pytorch_Biologically_Informed_Neural_Network/reactome/Subset_Ensembl2Reactome_All_Levels.txt'}}\n",
      "Getting Marker Genes.......\n",
      "3375\n",
      "3375\n",
      "6750\n",
      "6750\n",
      "                    0                1\n",
      "0     ENSG00000101210  ENSG00000197457\n",
      "1     ENSG00000101150  ENSG00000172270\n",
      "2     ENSG00000099822  ENSG00000099864\n",
      "3     ENSG00000116017  ENSG00000182087\n",
      "4     ENSG00000099622  ENSG00000119559\n",
      "...               ...              ...\n",
      "3370  ENSG00000260083  ENSG00000099365\n",
      "3371  ENSG00000089280  ENSG00000171208\n",
      "3372  ENSG00000102893  ENSG00000155393\n",
      "3373  ENSG00000103479  ENSG00000166971\n",
      "3374  ENSG00000103494  ENSG00000140718\n",
      "\n",
      "[3375 rows x 2 columns]\n",
      "                    0                1\n",
      "0     ENSG00000101210  ENSG00000197457\n",
      "1     ENSG00000101150  ENSG00000172270\n",
      "2     ENSG00000099822  ENSG00000099864\n",
      "3     ENSG00000198858  ENSG00000116017\n",
      "4     ENSG00000182087  ENSG00000099622\n",
      "...               ...              ...\n",
      "3370  ENSG00000260083  ENSG00000099365\n",
      "3371  ENSG00000089280  ENSG00000171208\n",
      "3372  ENSG00000102893  ENSG00000155393\n",
      "3373  ENSG00000103479  ENSG00000166971\n",
      "3374  ENSG00000103494  ENSG00000140718\n",
      "\n",
      "[3375 rows x 2 columns]\n",
      "Getting Pathway Genes.........\n",
      "Getting Masking.........\n",
      "HSA\n"
     ]
    },
    {
     "name": "stderr",
     "output_type": "stream",
     "text": [
      "/home/anwer/.local/lib/python3.12/site-packages/torch/optim/lr_scheduler.py:28: UserWarning: The verbose parameter is deprecated. Please use get_last_lr() to access the learning rate.\n",
      "  warnings.warn(\"The verbose parameter is deprecated. Please use get_last_lr() \"\n"
     ]
    },
    {
     "name": "stdout",
     "output_type": "stream",
     "text": [
      "Training.........\n",
      "Current sub-neural network has 1 hidden layers.\n",
      "CustomNetwork(\n",
      "  (layers): ModuleList(\n",
      "    (0): Linear(in_features=1117, out_features=801, bias=False)\n",
      "    (1): Linear(in_features=801, out_features=1, bias=True)\n",
      "  )\n",
      ")\n",
      "...\n"
     ]
    },
    {
     "name": "stderr",
     "output_type": "stream",
     "text": [
      "  0%|                                                                                                                                                                           | 1/3000 [00:00<34:23,  1.45it/s]"
     ]
    },
    {
     "name": "stdout",
     "output_type": "stream",
     "text": [
      "Epoch [1/3000], Train Loss: 0.7553, Train_accuracy: 50.259140930067446, Val Loss: 0.7527, Val_accuracy: 50.58572949946752\n",
      "Model saved.\n"
     ]
    },
    {
     "name": "stderr",
     "output_type": "stream",
     "text": [
      "  0%|                                                                                                                                                                           | 2/3000 [00:01<32:44,  1.53it/s]"
     ]
    },
    {
     "name": "stdout",
     "output_type": "stream",
     "text": [
      "Epoch [2/3000], Train Loss: 2.9318, Train_accuracy: 50.17394391196308, Val Loss: 2.9536, Val_accuracy: 49.75505857294995\n"
     ]
    },
    {
     "name": "stderr",
     "output_type": "stream",
     "text": [
      "  0%|▏                                                                                                                                                                          | 3/3000 [00:01<32:13,  1.55it/s]"
     ]
    },
    {
     "name": "stdout",
     "output_type": "stream",
     "text": [
      "Epoch [3/3000], Train Loss: 0.9414, Train_accuracy: 50.181043663471776, Val Loss: 0.9482, Val_accuracy: 49.75505857294995\n"
     ]
    },
    {
     "name": "stderr",
     "output_type": "stream",
     "text": [
      "  0%|▏                                                                                                                                                                          | 4/3000 [00:02<31:56,  1.56it/s]"
     ]
    },
    {
     "name": "stdout",
     "output_type": "stream",
     "text": [
      "Epoch [4/3000], Train Loss: 1.5699, Train_accuracy: 49.82605608803692, Val Loss: 1.5576, Val_accuracy: 50.24494142705005\n"
     ]
    },
    {
     "name": "stderr",
     "output_type": "stream",
     "text": [
      "  0%|▎                                                                                                                                                                          | 5/3000 [00:03<28:06,  1.78it/s]"
     ]
    },
    {
     "name": "stdout",
     "output_type": "stream",
     "text": [
      "Epoch [5/3000], Train Loss: 1.0926, Train_accuracy: 49.82605608803692, Val Loss: 1.0849, Val_accuracy: 50.24494142705005\n"
     ]
    },
    {
     "name": "stderr",
     "output_type": "stream",
     "text": [
      "  0%|▎                                                                                                                                                                          | 6/3000 [00:03<29:19,  1.70it/s]"
     ]
    },
    {
     "name": "stdout",
     "output_type": "stream",
     "text": [
      "Epoch [6/3000], Train Loss: 1.0105, Train_accuracy: 50.17394391196308, Val Loss: 1.0158, Val_accuracy: 49.75505857294995\n"
     ]
    },
    {
     "name": "stderr",
     "output_type": "stream",
     "text": [
      "  0%|▍                                                                                                                                                                          | 7/3000 [00:04<29:57,  1.66it/s]"
     ]
    },
    {
     "name": "stdout",
     "output_type": "stream",
     "text": [
      "Epoch [7/3000], Train Loss: 1.3969, Train_accuracy: 50.17394391196308, Val Loss: 1.4058, Val_accuracy: 49.75505857294995\n"
     ]
    },
    {
     "name": "stderr",
     "output_type": "stream",
     "text": [
      "  0%|▍                                                                                                                                                                          | 8/3000 [00:04<30:24,  1.64it/s]"
     ]
    },
    {
     "name": "stdout",
     "output_type": "stream",
     "text": [
      "Epoch [8/3000], Train Loss: 0.8985, Train_accuracy: 50.17394391196308, Val Loss: 0.9033, Val_accuracy: 49.75505857294995\n"
     ]
    },
    {
     "name": "stderr",
     "output_type": "stream",
     "text": [
      "  0%|▌                                                                                                                                                                          | 9/3000 [00:05<28:30,  1.75it/s]"
     ]
    },
    {
     "name": "stdout",
     "output_type": "stream",
     "text": [
      "Epoch [9/3000], Train Loss: 0.7306, Train_accuracy: 50.47923322683706, Val Loss: 0.7276, Val_accuracy: 50.8839190628328\n",
      "Model saved.\n"
     ]
    },
    {
     "name": "stderr",
     "output_type": "stream",
     "text": [
      "  0%|▌                                                                                                                                                                         | 10/3000 [00:06<29:53,  1.67it/s]"
     ]
    },
    {
     "name": "stdout",
     "output_type": "stream",
     "text": [
      "Epoch [10/3000], Train Loss: 0.9805, Train_accuracy: 49.86155484558041, Val Loss: 0.9736, Val_accuracy: 50.24494142705005\n"
     ]
    },
    {
     "name": "stderr",
     "output_type": "stream",
     "text": [
      "  0%|▌                                                                                                                                                                         | 11/3000 [00:06<30:34,  1.63it/s]"
     ]
    },
    {
     "name": "stdout",
     "output_type": "stream",
     "text": [
      "Epoch [11/3000], Train Loss: 0.8260, Train_accuracy: 50.308839190628326, Val Loss: 0.8211, Val_accuracy: 50.60702875399361\n"
     ]
    },
    {
     "name": "stderr",
     "output_type": "stream",
     "text": [
      "  0%|▋                                                                                                                                                                         | 12/3000 [00:07<31:38,  1.57it/s]"
     ]
    },
    {
     "name": "stdout",
     "output_type": "stream",
     "text": [
      "Epoch [12/3000], Train Loss: 0.6597, Train_accuracy: 59.85090521831736, Val Loss: 0.6611, Val_accuracy: 59.14802981895634\n",
      "Model saved.\n"
     ]
    },
    {
     "name": "stderr",
     "output_type": "stream",
     "text": [
      "  0%|▋                                                                                                                                                                         | 13/3000 [00:07<28:25,  1.75it/s]"
     ]
    },
    {
     "name": "stdout",
     "output_type": "stream",
     "text": [
      "Epoch [13/3000], Train Loss: 0.8818, Train_accuracy: 50.42953496627618, Val Loss: 0.8885, Val_accuracy: 50.07454739084132\n"
     ]
    },
    {
     "name": "stderr",
     "output_type": "stream",
     "text": [
      "  0%|▊                                                                                                                                                                         | 14/3000 [00:08<29:26,  1.69it/s]"
     ]
    },
    {
     "name": "stdout",
     "output_type": "stream",
     "text": [
      "Epoch [14/3000], Train Loss: 0.8422, Train_accuracy: 50.571529996450124, Val Loss: 0.8489, Val_accuracy: 50.24494142705005\n"
     ]
    },
    {
     "name": "stderr",
     "output_type": "stream",
     "text": [
      "  0%|▊                                                                                                                                                                         | 15/3000 [00:09<30:24,  1.64it/s]"
     ]
    },
    {
     "name": "stdout",
     "output_type": "stream",
     "text": [
      "Epoch [15/3000], Train Loss: 0.6459, Train_accuracy: 62.35001774937877, Val Loss: 0.6482, Val_accuracy: 61.72523961661342\n",
      "Model saved.\n"
     ]
    },
    {
     "name": "stderr",
     "output_type": "stream",
     "text": [
      "  1%|▉                                                                                                                                                                         | 16/3000 [00:09<30:39,  1.62it/s]"
     ]
    },
    {
     "name": "stdout",
     "output_type": "stream",
     "text": [
      "Epoch [16/3000], Train Loss: 0.7204, Train_accuracy: 52.94284700035499, Val Loss: 0.7181, Val_accuracy: 53.461128860489886\n"
     ]
    },
    {
     "name": "stderr",
     "output_type": "stream",
     "text": [
      "  1%|▉                                                                                                                                                                         | 17/3000 [00:10<27:48,  1.79it/s]"
     ]
    },
    {
     "name": "stdout",
     "output_type": "stream",
     "text": [
      "Epoch [17/3000], Train Loss: 0.7933, Train_accuracy: 50.905218317358894, Val Loss: 0.7899, Val_accuracy: 51.20340788072417\n"
     ]
    },
    {
     "name": "stderr",
     "output_type": "stream",
     "text": [
      "  1%|█                                                                                                                                                                         | 18/3000 [00:10<28:54,  1.72it/s]"
     ]
    },
    {
     "name": "stdout",
     "output_type": "stream",
     "text": [
      "Epoch [18/3000], Train Loss: 0.6916, Train_accuracy: 55.41356052538161, Val Loss: 0.6904, Val_accuracy: 56.14483493077742\n"
     ]
    },
    {
     "name": "stderr",
     "output_type": "stream",
     "text": [
      "  1%|█                                                                                                                                                                         | 19/3000 [00:11<30:24,  1.63it/s]"
     ]
    },
    {
     "name": "stdout",
     "output_type": "stream",
     "text": [
      "Epoch [19/3000], Train Loss: 0.6251, Train_accuracy: 66.09158679446219, Val Loss: 0.6285, Val_accuracy: 65.8359957401491\n",
      "Model saved.\n"
     ]
    },
    {
     "name": "stderr",
     "output_type": "stream",
     "text": [
      "  1%|█▏                                                                                                                                                                        | 20/3000 [00:12<30:39,  1.62it/s]"
     ]
    },
    {
     "name": "stdout",
     "output_type": "stream",
     "text": [
      "Epoch [20/3000], Train Loss: 0.7079, Train_accuracy: 53.9226127085552, Val Loss: 0.7152, Val_accuracy: 52.715654952076676\n"
     ]
    },
    {
     "name": "stderr",
     "output_type": "stream",
     "text": [
      "  1%|█▏                                                                                                                                                                        | 21/3000 [00:12<27:52,  1.78it/s]"
     ]
    },
    {
     "name": "stdout",
     "output_type": "stream",
     "text": [
      "Epoch [21/3000], Train Loss: 0.7128, Train_accuracy: 53.64572239971601, Val Loss: 0.7207, Val_accuracy: 52.822151224707135\n"
     ]
    },
    {
     "name": "stderr",
     "output_type": "stream",
     "text": [
      "  1%|█▏                                                                                                                                                                        | 22/3000 [00:13<28:55,  1.72it/s]"
     ]
    },
    {
     "name": "stdout",
     "output_type": "stream",
     "text": [
      "Epoch [22/3000], Train Loss: 0.6264, Train_accuracy: 64.70713525026623, Val Loss: 0.6319, Val_accuracy: 63.791267305644304\n"
     ]
    },
    {
     "name": "stderr",
     "output_type": "stream",
     "text": [
      "  1%|█▎                                                                                                                                                                        | 23/3000 [00:13<29:43,  1.67it/s]"
     ]
    },
    {
     "name": "stdout",
     "output_type": "stream",
     "text": [
      "Epoch [23/3000], Train Loss: 0.6228, Train_accuracy: 65.70110046148385, Val Loss: 0.6250, Val_accuracy: 65.580404685836\n"
     ]
    },
    {
     "name": "stderr",
     "output_type": "stream",
     "text": [
      "  1%|█▎                                                                                                                                                                        | 24/3000 [00:14<30:01,  1.65it/s]"
     ]
    },
    {
     "name": "stdout",
     "output_type": "stream",
     "text": [
      "Epoch [24/3000], Train Loss: 0.6696, Train_accuracy: 58.16826411075613, Val Loss: 0.6703, Val_accuracy: 58.08306709265176\n"
     ]
    },
    {
     "name": "stderr",
     "output_type": "stream",
     "text": [
      "  1%|█▍                                                                                                                                                                        | 25/3000 [00:14<27:36,  1.80it/s]"
     ]
    },
    {
     "name": "stdout",
     "output_type": "stream",
     "text": [
      "Epoch [25/3000], Train Loss: 0.6507, Train_accuracy: 60.49698260560881, Val Loss: 0.6520, Val_accuracy: 60.660276890308836\n"
     ]
    },
    {
     "name": "stderr",
     "output_type": "stream",
     "text": [
      "  1%|█▍                                                                                                                                                                        | 26/3000 [00:15<29:25,  1.68it/s]"
     ]
    },
    {
     "name": "stdout",
     "output_type": "stream",
     "text": [
      "Epoch [26/3000], Train Loss: 0.6005, Train_accuracy: 69.05218317358893, Val Loss: 0.6045, Val_accuracy: 68.69009584664536\n",
      "Model saved.\n"
     ]
    },
    {
     "name": "stderr",
     "output_type": "stream",
     "text": [
      "  1%|█▌                                                                                                                                                                        | 27/3000 [00:16<29:53,  1.66it/s]"
     ]
    },
    {
     "name": "stdout",
     "output_type": "stream",
     "text": [
      "Epoch [27/3000], Train Loss: 0.6100, Train_accuracy: 66.62406815761449, Val Loss: 0.6174, Val_accuracy: 66.41107561235357\n"
     ]
    },
    {
     "name": "stderr",
     "output_type": "stream",
     "text": [
      "  1%|█▌                                                                                                                                                                        | 28/3000 [00:16<30:21,  1.63it/s]"
     ]
    },
    {
     "name": "stdout",
     "output_type": "stream",
     "text": [
      "Epoch [28/3000], Train Loss: 0.6386, Train_accuracy: 62.24352147674831, Val Loss: 0.6478, Val_accuracy: 60.95846645367412\n"
     ]
    },
    {
     "name": "stderr",
     "output_type": "stream",
     "text": [
      "  1%|█▋                                                                                                                                                                        | 29/3000 [00:17<27:41,  1.79it/s]"
     ]
    },
    {
     "name": "stdout",
     "output_type": "stream",
     "text": [
      "Epoch [29/3000], Train Loss: 0.6127, Train_accuracy: 65.77919772807952, Val Loss: 0.6213, Val_accuracy: 65.02662406815762\n"
     ]
    },
    {
     "name": "stderr",
     "output_type": "stream",
     "text": [
      "  1%|█▋                                                                                                                                                                        | 30/3000 [00:17<29:29,  1.68it/s]"
     ]
    },
    {
     "name": "stdout",
     "output_type": "stream",
     "text": [
      "Epoch [30/3000], Train Loss: 0.5833, Train_accuracy: 70.8981185658502, Val Loss: 0.5897, Val_accuracy: 70.50053248136315\n",
      "Model saved.\n"
     ]
    },
    {
     "name": "stderr",
     "output_type": "stream",
     "text": [
      "  1%|█▊                                                                                                                                                                        | 31/3000 [00:18<29:58,  1.65it/s]"
     ]
    },
    {
     "name": "stdout",
     "output_type": "stream",
     "text": [
      "Epoch [31/3000], Train Loss: 0.5996, Train_accuracy: 68.36350727724529, Val Loss: 0.6040, Val_accuracy: 67.90202342917998\n"
     ]
    },
    {
     "name": "stderr",
     "output_type": "stream",
     "text": [
      "  1%|█▊                                                                                                                                                                        | 32/3000 [00:19<30:15,  1.63it/s]"
     ]
    },
    {
     "name": "stdout",
     "output_type": "stream",
     "text": [
      "Epoch [32/3000], Train Loss: 0.6089, Train_accuracy: 66.8512602058928, Val Loss: 0.6131, Val_accuracy: 66.64536741214057\n"
     ]
    },
    {
     "name": "stderr",
     "output_type": "stream",
     "text": [
      "  1%|█▊                                                                                                                                                                        | 33/3000 [00:19<27:31,  1.80it/s]"
     ]
    },
    {
     "name": "stdout",
     "output_type": "stream",
     "text": [
      "Epoch [33/3000], Train Loss: 0.5837, Train_accuracy: 70.152644657437, Val Loss: 0.5894, Val_accuracy: 69.56336528221512\n"
     ]
    },
    {
     "name": "stderr",
     "output_type": "stream",
     "text": [
      "  1%|█▉                                                                                                                                                                        | 34/3000 [00:20<29:48,  1.66it/s]"
     ]
    },
    {
     "name": "stdout",
     "output_type": "stream",
     "text": [
      "Epoch [34/3000], Train Loss: 0.5727, Train_accuracy: 71.47319843805467, Val Loss: 0.5811, Val_accuracy: 70.8626198083067\n",
      "Model saved.\n"
     ]
    },
    {
     "name": "stderr",
     "output_type": "stream",
     "text": [
      "  1%|█▉                                                                                                                                                                        | 35/3000 [00:20<30:06,  1.64it/s]"
     ]
    },
    {
     "name": "stdout",
     "output_type": "stream",
     "text": [
      "Epoch [35/3000], Train Loss: 0.5885, Train_accuracy: 68.95988640397586, Val Loss: 0.5991, Val_accuracy: 68.54100106496273\n"
     ]
    },
    {
     "name": "stderr",
     "output_type": "stream",
     "text": [
      "  1%|██                                                                                                                                                                        | 36/3000 [00:21<30:39,  1.61it/s]"
     ]
    },
    {
     "name": "stdout",
     "output_type": "stream",
     "text": [
      "Epoch [36/3000], Train Loss: 0.5821, Train_accuracy: 69.8828541001065, Val Loss: 0.5929, Val_accuracy: 69.20127795527156\n"
     ]
    },
    {
     "name": "stderr",
     "output_type": "stream",
     "text": [
      "  1%|██                                                                                                                                                                        | 37/3000 [00:22<28:59,  1.70it/s]"
     ]
    },
    {
     "name": "stdout",
     "output_type": "stream",
     "text": [
      "Epoch [37/3000], Train Loss: 0.5622, Train_accuracy: 72.43166489172879, Val Loss: 0.5714, Val_accuracy: 71.35250266240682\n",
      "Model saved.\n"
     ]
    },
    {
     "name": "stderr",
     "output_type": "stream",
     "text": [
      "  1%|██▏                                                                                                                                                                       | 38/3000 [00:22<30:01,  1.64it/s]"
     ]
    },
    {
     "name": "stdout",
     "output_type": "stream",
     "text": [
      "Epoch [38/3000], Train Loss: 0.5676, Train_accuracy: 71.27440539581114, Val Loss: 0.5750, Val_accuracy: 70.52183173588925\n"
     ]
    },
    {
     "name": "stderr",
     "output_type": "stream",
     "text": [
      "  1%|██▏                                                                                                                                                                       | 39/3000 [00:23<30:39,  1.61it/s]"
     ]
    },
    {
     "name": "stdout",
     "output_type": "stream",
     "text": [
      "Epoch [39/3000], Train Loss: 0.5723, Train_accuracy: 70.42243521476749, Val Loss: 0.5795, Val_accuracy: 70.1171458998935\n"
     ]
    },
    {
     "name": "stderr",
     "output_type": "stream",
     "text": [
      "  1%|██▎                                                                                                                                                                       | 40/3000 [00:24<31:59,  1.54it/s]"
     ]
    },
    {
     "name": "stdout",
     "output_type": "stream",
     "text": [
      "Epoch [40/3000], Train Loss: 0.5561, Train_accuracy: 72.51686190983315, Val Loss: 0.5649, Val_accuracy: 71.629392971246\n",
      "Model saved.\n"
     ]
    },
    {
     "name": "stderr",
     "output_type": "stream",
     "text": [
      "  1%|██▎                                                                                                                                                                       | 41/3000 [00:24<29:28,  1.67it/s]"
     ]
    },
    {
     "name": "stdout",
     "output_type": "stream",
     "text": [
      "Epoch [41/3000], Train Loss: 0.5526, Train_accuracy: 72.72275470358538, Val Loss: 0.5639, Val_accuracy: 72.03407880724174\n",
      "Model saved.\n"
     ]
    },
    {
     "name": "stderr",
     "output_type": "stream",
     "text": [
      "  1%|██▍                                                                                                                                                                       | 42/3000 [00:25<30:00,  1.64it/s]"
     ]
    },
    {
     "name": "stdout",
     "output_type": "stream",
     "text": [
      "Epoch [42/3000], Train Loss: 0.5594, Train_accuracy: 71.62229321973732, Val Loss: 0.5723, Val_accuracy: 71.3738019169329\n"
     ]
    },
    {
     "name": "stderr",
     "output_type": "stream",
     "text": [
      "  1%|██▍                                                                                                                                                                       | 43/3000 [00:25<31:09,  1.58it/s]"
     ]
    },
    {
     "name": "stdout",
     "output_type": "stream",
     "text": [
      "Epoch [43/3000], Train Loss: 0.5479, Train_accuracy: 72.95704650337238, Val Loss: 0.5603, Val_accuracy: 72.26837060702876\n",
      "Model saved.\n"
     ]
    },
    {
     "name": "stderr",
     "output_type": "stream",
     "text": [
      "  1%|██▍                                                                                                                                                                       | 44/3000 [00:26<31:51,  1.55it/s]"
     ]
    },
    {
     "name": "stdout",
     "output_type": "stream",
     "text": [
      "Epoch [44/3000], Train Loss: 0.5421, Train_accuracy: 73.56052538161164, Val Loss: 0.5528, Val_accuracy: 72.75825346112886\n",
      "Model saved.\n"
     ]
    },
    {
     "name": "stderr",
     "output_type": "stream",
     "text": [
      "  2%|██▌                                                                                                                                                                       | 45/3000 [00:27<29:00,  1.70it/s]"
     ]
    },
    {
     "name": "stdout",
     "output_type": "stream",
     "text": [
      "Epoch [45/3000], Train Loss: 0.5475, Train_accuracy: 72.80795172168975, Val Loss: 0.5574, Val_accuracy: 71.77848775292864\n"
     ]
    },
    {
     "name": "stderr",
     "output_type": "stream",
     "text": [
      "  2%|██▌                                                                                                                                                                       | 46/3000 [00:27<30:29,  1.61it/s]"
     ]
    },
    {
     "name": "stdout",
     "output_type": "stream",
     "text": [
      "Epoch [46/3000], Train Loss: 0.5381, Train_accuracy: 73.63152289669861, Val Loss: 0.5493, Val_accuracy: 72.60915867944622\n"
     ]
    },
    {
     "name": "stderr",
     "output_type": "stream",
     "text": [
      "  2%|██▋                                                                                                                                                                       | 47/3000 [00:28<32:03,  1.54it/s]"
     ]
    },
    {
     "name": "stdout",
     "output_type": "stream",
     "text": [
      "Epoch [47/3000], Train Loss: 0.5334, Train_accuracy: 74.22080227192048, Val Loss: 0.5472, Val_accuracy: 72.97124600638978\n",
      "Model saved.\n"
     ]
    },
    {
     "name": "stderr",
     "output_type": "stream",
     "text": [
      "  2%|██▋                                                                                                                                                                       | 48/3000 [00:29<32:16,  1.52it/s]"
     ]
    },
    {
     "name": "stdout",
     "output_type": "stream",
     "text": [
      "Epoch [48/3000], Train Loss: 0.5368, Train_accuracy: 73.6599219027334, Val Loss: 0.5522, Val_accuracy: 72.97124600638978\n"
     ]
    },
    {
     "name": "stderr",
     "output_type": "stream",
     "text": [
      "  2%|██▊                                                                                                                                                                       | 49/3000 [00:29<29:34,  1.66it/s]"
     ]
    },
    {
     "name": "stdout",
     "output_type": "stream",
     "text": [
      "Epoch [49/3000], Train Loss: 0.5274, Train_accuracy: 74.56869009584665, Val Loss: 0.5422, Val_accuracy: 73.35463258785943\n",
      "Model saved.\n"
     ]
    },
    {
     "name": "stderr",
     "output_type": "stream",
     "text": [
      "  2%|██▊                                                                                                                                                                       | 50/3000 [00:30<31:31,  1.56it/s]"
     ]
    },
    {
     "name": "stdout",
     "output_type": "stream",
     "text": [
      "Epoch [50/3000], Train Loss: 0.5264, Train_accuracy: 74.31309904153355, Val Loss: 0.5398, Val_accuracy: 73.46112886048988\n",
      "Model saved.\n"
     ]
    },
    {
     "name": "stderr",
     "output_type": "stream",
     "text": [
      "  2%|██▉                                                                                                                                                                       | 51/3000 [00:31<31:43,  1.55it/s]"
     ]
    },
    {
     "name": "stdout",
     "output_type": "stream",
     "text": [
      "Epoch [51/3000], Train Loss: 0.5260, Train_accuracy: 74.34859779907703, Val Loss: 0.5396, Val_accuracy: 73.24813631522896\n"
     ]
    },
    {
     "name": "stderr",
     "output_type": "stream",
     "text": [
      "  2%|██▉                                                                                                                                                                       | 52/3000 [00:31<32:41,  1.50it/s]"
     ]
    },
    {
     "name": "stdout",
     "output_type": "stream",
     "text": [
      "Epoch [52/3000], Train Loss: 0.5179, Train_accuracy: 75.08697195598154, Val Loss: 0.5338, Val_accuracy: 73.90841320553781\n",
      "Model saved.\n"
     ]
    },
    {
     "name": "stderr",
     "output_type": "stream",
     "text": [
      "  2%|███                                                                                                                                                                       | 53/3000 [00:32<29:38,  1.66it/s]"
     ]
    },
    {
     "name": "stdout",
     "output_type": "stream",
     "text": [
      "Epoch [53/3000], Train Loss: 0.5200, Train_accuracy: 74.9449769258076, Val Loss: 0.5382, Val_accuracy: 73.80191693290735\n"
     ]
    },
    {
     "name": "stderr",
     "output_type": "stream",
     "text": [
      "  2%|███                                                                                                                                                                       | 54/3000 [00:32<31:02,  1.58it/s]"
     ]
    },
    {
     "name": "stdout",
     "output_type": "stream",
     "text": [
      "Epoch [54/3000], Train Loss: 0.5141, Train_accuracy: 75.37096201632943, Val Loss: 0.5323, Val_accuracy: 73.9297124600639\n",
      "Model saved.\n"
     ]
    },
    {
     "name": "stderr",
     "output_type": "stream",
     "text": [
      "  2%|███                                                                                                                                                                       | 55/3000 [00:33<31:42,  1.55it/s]"
     ]
    },
    {
     "name": "stdout",
     "output_type": "stream",
     "text": [
      "Epoch [55/3000], Train Loss: 0.5120, Train_accuracy: 75.37096201632943, Val Loss: 0.5289, Val_accuracy: 74.05750798722045\n",
      "Model saved.\n"
     ]
    },
    {
     "name": "stderr",
     "output_type": "stream",
     "text": [
      "  2%|███▏                                                                                                                                                                      | 56/3000 [00:34<31:26,  1.56it/s]"
     ]
    },
    {
     "name": "stdout",
     "output_type": "stream",
     "text": [
      "Epoch [56/3000], Train Loss: 0.5108, Train_accuracy: 75.40646077387291, Val Loss: 0.5282, Val_accuracy: 74.05750798722045\n"
     ]
    },
    {
     "name": "stderr",
     "output_type": "stream",
     "text": [
      "  2%|███▏                                                                                                                                                                      | 57/3000 [00:34<28:57,  1.69it/s]"
     ]
    },
    {
     "name": "stdout",
     "output_type": "stream",
     "text": [
      "Epoch [57/3000], Train Loss: 0.5054, Train_accuracy: 75.80404685835995, Val Loss: 0.5254, Val_accuracy: 74.27050053248136\n",
      "Model saved.\n"
     ]
    },
    {
     "name": "stderr",
     "output_type": "stream",
     "text": [
      "  2%|███▎                                                                                                                                                                      | 58/3000 [00:35<30:26,  1.61it/s]"
     ]
    },
    {
     "name": "stdout",
     "output_type": "stream",
     "text": [
      "Epoch [58/3000], Train Loss: 0.5062, Train_accuracy: 75.77564785232516, Val Loss: 0.5280, Val_accuracy: 74.29179978700745\n",
      "Model saved.\n"
     ]
    },
    {
     "name": "stderr",
     "output_type": "stream",
     "text": [
      "  2%|███▎                                                                                                                                                                      | 59/3000 [00:36<32:00,  1.53it/s]"
     ]
    },
    {
     "name": "stdout",
     "output_type": "stream",
     "text": [
      "Epoch [59/3000], Train Loss: 0.5005, Train_accuracy: 76.13063542776003, Val Loss: 0.5216, Val_accuracy: 74.48349307774228\n",
      "Model saved.\n"
     ]
    },
    {
     "name": "stderr",
     "output_type": "stream",
     "text": [
      "  2%|███▍                                                                                                                                                                      | 60/3000 [00:36<32:21,  1.51it/s]"
     ]
    },
    {
     "name": "stdout",
     "output_type": "stream",
     "text": [
      "Epoch [60/3000], Train Loss: 0.5012, Train_accuracy: 75.9318423855165, Val Loss: 0.5217, Val_accuracy: 74.6964856230032\n",
      "Model saved.\n"
     ]
    },
    {
     "name": "stderr",
     "output_type": "stream",
     "text": [
      "  2%|███▍                                                                                                                                                                      | 61/3000 [00:37<29:47,  1.64it/s]"
     ]
    },
    {
     "name": "stdout",
     "output_type": "stream",
     "text": [
      "Epoch [61/3000], Train Loss: 0.4962, Train_accuracy: 76.27263045793397, Val Loss: 0.5186, Val_accuracy: 74.82428115015975\n",
      "Model saved.\n"
     ]
    },
    {
     "name": "stderr",
     "output_type": "stream",
     "text": [
      "  2%|███▌                                                                                                                                                                      | 62/3000 [00:37<30:11,  1.62it/s]"
     ]
    },
    {
     "name": "stdout",
     "output_type": "stream",
     "text": [
      "Epoch [62/3000], Train Loss: 0.4964, Train_accuracy: 76.43592474263401, Val Loss: 0.5212, Val_accuracy: 74.29179978700745\n"
     ]
    },
    {
     "name": "stderr",
     "output_type": "stream",
     "text": [
      "  2%|███▌                                                                                                                                                                      | 63/3000 [00:38<31:07,  1.57it/s]"
     ]
    },
    {
     "name": "stdout",
     "output_type": "stream",
     "text": [
      "Epoch [63/3000], Train Loss: 0.4920, Train_accuracy: 76.53532126375576, Val Loss: 0.5166, Val_accuracy: 75.2076677316294\n",
      "Model saved.\n"
     ]
    },
    {
     "name": "stderr",
     "output_type": "stream",
     "text": [
      "  2%|███▋                                                                                                                                                                      | 64/3000 [00:39<31:05,  1.57it/s]"
     ]
    },
    {
     "name": "stdout",
     "output_type": "stream",
     "text": [
      "Epoch [64/3000], Train Loss: 0.4919, Train_accuracy: 76.49982250621228, Val Loss: 0.5158, Val_accuracy: 75.05857294994675\n"
     ]
    },
    {
     "name": "stderr",
     "output_type": "stream",
     "text": [
      "  2%|███▋                                                                                                                                                                      | 65/3000 [00:39<28:32,  1.71it/s]"
     ]
    },
    {
     "name": "stdout",
     "output_type": "stream",
     "text": [
      "Epoch [65/3000], Train Loss: 0.4879, Train_accuracy: 76.76251331203407, Val Loss: 0.5136, Val_accuracy: 75.2076677316294\n"
     ]
    },
    {
     "name": "stderr",
     "output_type": "stream",
     "text": [
      "  2%|███▋                                                                                                                                                                      | 66/3000 [00:40<29:50,  1.64it/s]"
     ]
    },
    {
     "name": "stdout",
     "output_type": "stream",
     "text": [
      "Epoch [66/3000], Train Loss: 0.4878, Train_accuracy: 76.91870784522541, Val Loss: 0.5158, Val_accuracy: 74.86687965921193\n"
     ]
    },
    {
     "name": "stderr",
     "output_type": "stream",
     "text": [
      "  2%|███▊                                                                                                                                                                      | 67/3000 [00:41<32:12,  1.52it/s]"
     ]
    },
    {
     "name": "stdout",
     "output_type": "stream",
     "text": [
      "Epoch [67/3000], Train Loss: 0.4840, Train_accuracy: 77.08200212992546, Val Loss: 0.5114, Val_accuracy: 75.29286474973377\n",
      "Model saved.\n"
     ]
    },
    {
     "name": "stderr",
     "output_type": "stream",
     "text": [
      "  2%|███▊                                                                                                                                                                      | 68/3000 [00:41<33:31,  1.46it/s]"
     ]
    },
    {
     "name": "stdout",
     "output_type": "stream",
     "text": [
      "Epoch [68/3000], Train Loss: 0.4837, Train_accuracy: 77.13880014199503, Val Loss: 0.5108, Val_accuracy: 75.52715654952077\n",
      "Model saved.\n"
     ]
    },
    {
     "name": "stderr",
     "output_type": "stream",
     "text": [
      "  2%|███▉                                                                                                                                                                      | 69/3000 [00:42<30:13,  1.62it/s]"
     ]
    },
    {
     "name": "stdout",
     "output_type": "stream",
     "text": [
      "Epoch [69/3000], Train Loss: 0.4807, Train_accuracy: 77.50088746893859, Val Loss: 0.5103, Val_accuracy: 75.33546325878594\n"
     ]
    },
    {
     "name": "stderr",
     "output_type": "stream",
     "text": [
      "  2%|███▉                                                                                                                                                                      | 70/3000 [00:43<31:50,  1.53it/s]"
     ]
    },
    {
     "name": "stdout",
     "output_type": "stream",
     "text": [
      "Epoch [70/3000], Train Loss: 0.4793, Train_accuracy: 77.57898473553426, Val Loss: 0.5101, Val_accuracy: 75.56975505857295\n",
      "Model saved.\n"
     ]
    },
    {
     "name": "stderr",
     "output_type": "stream",
     "text": [
      "  2%|████                                                                                                                                                                      | 71/3000 [00:43<31:59,  1.53it/s]"
     ]
    },
    {
     "name": "stdout",
     "output_type": "stream",
     "text": [
      "Epoch [71/3000], Train Loss: 0.4779, Train_accuracy: 77.44408945686901, Val Loss: 0.5076, Val_accuracy: 75.46325878594249\n"
     ]
    },
    {
     "name": "stderr",
     "output_type": "stream",
     "text": [
      "  2%|████                                                                                                                                                                      | 72/3000 [00:44<32:07,  1.52it/s]"
     ]
    },
    {
     "name": "stdout",
     "output_type": "stream",
     "text": [
      "Epoch [72/3000], Train Loss: 0.4752, Train_accuracy: 77.79197728079517, Val Loss: 0.5065, Val_accuracy: 75.33546325878594\n"
     ]
    },
    {
     "name": "stderr",
     "output_type": "stream",
     "text": [
      "  2%|████▏                                                                                                                                                                     | 73/3000 [00:44<30:01,  1.62it/s]"
     ]
    },
    {
     "name": "stdout",
     "output_type": "stream",
     "text": [
      "Epoch [73/3000], Train Loss: 0.4748, Train_accuracy: 77.86297479588214, Val Loss: 0.5080, Val_accuracy: 75.6762513312034\n",
      "Model saved.\n"
     ]
    },
    {
     "name": "stderr",
     "output_type": "stream",
     "text": [
      "  2%|████▏                                                                                                                                                                     | 74/3000 [00:45<30:53,  1.58it/s]"
     ]
    },
    {
     "name": "stdout",
     "output_type": "stream",
     "text": [
      "Epoch [74/3000], Train Loss: 0.4724, Train_accuracy: 77.87007454739084, Val Loss: 0.5048, Val_accuracy: 75.4419595314164\n"
     ]
    },
    {
     "name": "stderr",
     "output_type": "stream",
     "text": [
      "  2%|████▎                                                                                                                                                                     | 75/3000 [00:46<31:12,  1.56it/s]"
     ]
    },
    {
     "name": "stdout",
     "output_type": "stream",
     "text": [
      "Epoch [75/3000], Train Loss: 0.4707, Train_accuracy: 78.09016684416045, Val Loss: 0.5040, Val_accuracy: 75.54845580404685\n"
     ]
    },
    {
     "name": "stderr",
     "output_type": "stream",
     "text": [
      "  3%|████▎                                                                                                                                                                     | 76/3000 [00:46<32:08,  1.52it/s]"
     ]
    },
    {
     "name": "stdout",
     "output_type": "stream",
     "text": [
      "Epoch [76/3000], Train Loss: 0.4701, Train_accuracy: 78.14696485623003, Val Loss: 0.5056, Val_accuracy: 75.86794462193824\n",
      "Model saved.\n"
     ]
    },
    {
     "name": "stderr",
     "output_type": "stream",
     "text": [
      "  3%|████▎                                                                                                                                                                     | 77/3000 [00:47<29:18,  1.66it/s]"
     ]
    },
    {
     "name": "stdout",
     "output_type": "stream",
     "text": [
      "Epoch [77/3000], Train Loss: 0.4679, Train_accuracy: 78.17536386226482, Val Loss: 0.5027, Val_accuracy: 75.61235356762514\n"
     ]
    },
    {
     "name": "stderr",
     "output_type": "stream",
     "text": [
      "  3%|████▍                                                                                                                                                                     | 78/3000 [00:48<31:25,  1.55it/s]"
     ]
    },
    {
     "name": "stdout",
     "output_type": "stream",
     "text": [
      "Epoch [78/3000], Train Loss: 0.4663, Train_accuracy: 78.217962371317, Val Loss: 0.5021, Val_accuracy: 75.88924387646432\n",
      "Model saved.\n"
     ]
    },
    {
     "name": "stderr",
     "output_type": "stream",
     "text": [
      "  3%|████▍                                                                                                                                                                     | 79/3000 [00:48<31:44,  1.53it/s]"
     ]
    },
    {
     "name": "stdout",
     "output_type": "stream",
     "text": [
      "Epoch [79/3000], Train Loss: 0.4656, Train_accuracy: 78.38835640752573, Val Loss: 0.5034, Val_accuracy: 75.84664536741214\n"
     ]
    },
    {
     "name": "stderr",
     "output_type": "stream",
     "text": [
      "  3%|████▌                                                                                                                                                                     | 80/3000 [00:49<31:52,  1.53it/s]"
     ]
    },
    {
     "name": "stdout",
     "output_type": "stream",
     "text": [
      "Epoch [80/3000], Train Loss: 0.4642, Train_accuracy: 78.14696485623003, Val Loss: 0.5010, Val_accuracy: 75.63365282215122\n"
     ]
    },
    {
     "name": "stderr",
     "output_type": "stream",
     "text": [
      "  3%|████▌                                                                                                                                                                     | 81/3000 [00:49<30:01,  1.62it/s]"
     ]
    },
    {
     "name": "stdout",
     "output_type": "stream",
     "text": [
      "Epoch [81/3000], Train Loss: 0.4623, Train_accuracy: 78.4735534256301, Val Loss: 0.5010, Val_accuracy: 76.05963791267305\n",
      "Model saved.\n"
     ]
    },
    {
     "name": "stderr",
     "output_type": "stream",
     "text": [
      "  3%|████▋                                                                                                                                                                     | 82/3000 [00:50<31:15,  1.56it/s]"
     ]
    },
    {
     "name": "stdout",
     "output_type": "stream",
     "text": [
      "Epoch [82/3000], Train Loss: 0.4611, Train_accuracy: 78.51615193468228, Val Loss: 0.5006, Val_accuracy: 75.99574014909479\n"
     ]
    },
    {
     "name": "stderr",
     "output_type": "stream",
     "text": [
      "  3%|████▋                                                                                                                                                                     | 83/3000 [00:51<31:43,  1.53it/s]"
     ]
    },
    {
     "name": "stdout",
     "output_type": "stream",
     "text": [
      "Epoch [83/3000], Train Loss: 0.4604, Train_accuracy: 78.28186013489528, Val Loss: 0.4995, Val_accuracy: 75.82534611288605\n"
     ]
    },
    {
     "name": "stderr",
     "output_type": "stream",
     "text": [
      "  3%|████▊                                                                                                                                                                     | 84/3000 [00:52<32:13,  1.51it/s]"
     ]
    },
    {
     "name": "stdout",
     "output_type": "stream",
     "text": [
      "Epoch [84/3000], Train Loss: 0.4594, Train_accuracy: 78.64394746183883, Val Loss: 0.5010, Val_accuracy: 75.71884984025559\n"
     ]
    },
    {
     "name": "stderr",
     "output_type": "stream",
     "text": [
      "  3%|████▊                                                                                                                                                                     | 85/3000 [00:52<29:28,  1.65it/s]"
     ]
    },
    {
     "name": "stdout",
     "output_type": "stream",
     "text": [
      "Epoch [85/3000], Train Loss: 0.4580, Train_accuracy: 78.44515441959531, Val Loss: 0.4987, Val_accuracy: 75.74014909478169\n"
     ]
    },
    {
     "name": "stderr",
     "output_type": "stream",
     "text": [
      "  3%|████▊                                                                                                                                                                     | 86/3000 [00:53<30:41,  1.58it/s]"
     ]
    },
    {
     "name": "stdout",
     "output_type": "stream",
     "text": [
      "Epoch [86/3000], Train Loss: 0.4565, Train_accuracy: 78.7433439829606, Val Loss: 0.4993, Val_accuracy: 75.97444089456869\n"
     ]
    },
    {
     "name": "stderr",
     "output_type": "stream",
     "text": [
      "  3%|████▉                                                                                                                                                                     | 87/3000 [00:53<31:26,  1.54it/s]"
     ]
    },
    {
     "name": "stdout",
     "output_type": "stream",
     "text": [
      "Epoch [87/3000], Train Loss: 0.4552, Train_accuracy: 78.7504437344693, Val Loss: 0.4981, Val_accuracy: 75.78274760383387\n"
     ]
    },
    {
     "name": "stderr",
     "output_type": "stream",
     "text": [
      "  3%|████▉                                                                                                                                                                     | 88/3000 [00:54<31:59,  1.52it/s]"
     ]
    },
    {
     "name": "stdout",
     "output_type": "stream",
     "text": [
      "Epoch [88/3000], Train Loss: 0.4541, Train_accuracy: 78.83564075257365, Val Loss: 0.4979, Val_accuracy: 75.82534611288605\n"
     ]
    },
    {
     "name": "stderr",
     "output_type": "stream",
     "text": [
      "  3%|█████                                                                                                                                                                     | 89/3000 [00:55<29:19,  1.65it/s]"
     ]
    },
    {
     "name": "stdout",
     "output_type": "stream",
     "text": [
      "Epoch [89/3000], Train Loss: 0.4532, Train_accuracy: 78.86403975860844, Val Loss: 0.4982, Val_accuracy: 75.80404685835995\n"
     ]
    },
    {
     "name": "stderr",
     "output_type": "stream",
     "text": [
      "  3%|█████                                                                                                                                                                     | 90/3000 [00:55<30:27,  1.59it/s]"
     ]
    },
    {
     "name": "stdout",
     "output_type": "stream",
     "text": [
      "Epoch [90/3000], Train Loss: 0.4525, Train_accuracy: 78.88533901313454, Val Loss: 0.4974, Val_accuracy: 75.71884984025559\n"
     ]
    },
    {
     "name": "stderr",
     "output_type": "stream",
     "text": [
      "  3%|█████▏                                                                                                                                                                    | 91/3000 [00:56<31:43,  1.53it/s]"
     ]
    },
    {
     "name": "stdout",
     "output_type": "stream",
     "text": [
      "Epoch [91/3000], Train Loss: 0.4522, Train_accuracy: 79.02023429179978, Val Loss: 0.4995, Val_accuracy: 76.23003194888179\n",
      "Model saved.\n"
     ]
    },
    {
     "name": "stderr",
     "output_type": "stream",
     "text": [
      "  3%|█████▏                                                                                                                                                                    | 92/3000 [00:57<32:14,  1.50it/s]"
     ]
    },
    {
     "name": "stdout",
     "output_type": "stream",
     "text": [
      "Epoch [92/3000], Train Loss: 0.4532, Train_accuracy: 78.63684771033014, Val Loss: 0.4987, Val_accuracy: 75.46325878594249\n"
     ]
    },
    {
     "name": "stderr",
     "output_type": "stream",
     "text": [
      "  3%|█████▎                                                                                                                                                                    | 93/3000 [00:57<29:27,  1.64it/s]"
     ]
    },
    {
     "name": "stdout",
     "output_type": "stream",
     "text": [
      "Epoch [93/3000], Train Loss: 0.4580, Train_accuracy: 79.01313454029109, Val Loss: 0.5086, Val_accuracy: 76.14483493077742\n"
     ]
    },
    {
     "name": "stderr",
     "output_type": "stream",
     "text": [
      "  3%|█████▎                                                                                                                                                                    | 94/3000 [00:58<30:36,  1.58it/s]"
     ]
    },
    {
     "name": "stdout",
     "output_type": "stream",
     "text": [
      "Epoch [94/3000], Train Loss: 0.4756, Train_accuracy: 76.26553070642528, Val Loss: 0.5198, Val_accuracy: 73.50372736954206\n"
     ]
    },
    {
     "name": "stderr",
     "output_type": "stream",
     "text": [
      "  3%|█████▍                                                                                                                                                                    | 95/3000 [00:59<31:21,  1.54it/s]"
     ]
    },
    {
     "name": "stdout",
     "output_type": "stream",
     "text": [
      "Epoch [95/3000], Train Loss: 0.5226, Train_accuracy: 74.39829605963791, Val Loss: 0.5798, Val_accuracy: 71.58679446219382\n"
     ]
    },
    {
     "name": "stderr",
     "output_type": "stream",
     "text": [
      "  3%|█████▍                                                                                                                                                                    | 96/3000 [00:59<31:45,  1.52it/s]"
     ]
    },
    {
     "name": "stdout",
     "output_type": "stream",
     "text": [
      "Epoch [96/3000], Train Loss: 0.5880, Train_accuracy: 69.46396876109335, Val Loss: 0.6290, Val_accuracy: 67.41214057507987\n"
     ]
    },
    {
     "name": "stderr",
     "output_type": "stream",
     "text": [
      "  3%|█████▍                                                                                                                                                                    | 97/3000 [01:00<29:09,  1.66it/s]"
     ]
    },
    {
     "name": "stdout",
     "output_type": "stream",
     "text": [
      "Epoch [97/3000], Train Loss: 0.5349, Train_accuracy: 73.56052538161164, Val Loss: 0.5935, Val_accuracy: 71.33120340788072\n"
     ]
    },
    {
     "name": "stderr",
     "output_type": "stream",
     "text": [
      "  3%|█████▌                                                                                                                                                                    | 98/3000 [01:00<30:22,  1.59it/s]"
     ]
    },
    {
     "name": "stdout",
     "output_type": "stream",
     "text": [
      "Epoch [98/3000], Train Loss: 0.4498, Train_accuracy: 78.92083777067802, Val Loss: 0.4987, Val_accuracy: 75.35676251331203\n"
     ]
    },
    {
     "name": "stderr",
     "output_type": "stream",
     "text": [
      "  3%|█████▌                                                                                                                                                                    | 99/3000 [01:01<31:07,  1.55it/s]"
     ]
    },
    {
     "name": "stdout",
     "output_type": "stream",
     "text": [
      "Epoch [99/3000], Train Loss: 0.4839, Train_accuracy: 75.56265530706425, Val Loss: 0.5295, Val_accuracy: 72.88604898828541\n"
     ]
    },
    {
     "name": "stderr",
     "output_type": "stream",
     "text": [
      "  3%|█████▋                                                                                                                                                                   | 100/3000 [01:02<31:40,  1.53it/s]"
     ]
    },
    {
     "name": "stdout",
     "output_type": "stream",
     "text": [
      "Epoch [100/3000], Train Loss: 0.5135, Train_accuracy: 75.15086971955982, Val Loss: 0.5715, Val_accuracy: 72.26837060702876\n"
     ]
    },
    {
     "name": "stderr",
     "output_type": "stream",
     "text": [
      "  3%|█████▋                                                                                                                                                                   | 101/3000 [01:02<29:02,  1.66it/s]"
     ]
    },
    {
     "name": "stdout",
     "output_type": "stream",
     "text": [
      "Epoch [101/3000], Train Loss: 0.4546, Train_accuracy: 78.38125665601704, Val Loss: 0.5030, Val_accuracy: 74.73908413205538\n"
     ]
    },
    {
     "name": "stderr",
     "output_type": "stream",
     "text": [
      "  3%|█████▋                                                                                                                                                                   | 102/3000 [01:03<30:22,  1.59it/s]"
     ]
    },
    {
     "name": "stdout",
     "output_type": "stream",
     "text": [
      "Epoch [102/3000], Train Loss: 0.4669, Train_accuracy: 77.00390486332978, Val Loss: 0.5141, Val_accuracy: 73.6741214057508\n"
     ]
    },
    {
     "name": "stderr",
     "output_type": "stream",
     "text": [
      "  3%|█████▊                                                                                                                                                                   | 103/3000 [01:04<31:13,  1.55it/s]"
     ]
    },
    {
     "name": "stdout",
     "output_type": "stream",
     "text": [
      "Epoch [103/3000], Train Loss: 0.4878, Train_accuracy: 77.06780262690806, Val Loss: 0.5445, Val_accuracy: 73.88711395101171\n"
     ]
    },
    {
     "name": "stderr",
     "output_type": "stream",
     "text": [
      "  3%|█████▊                                                                                                                                                                   | 104/3000 [01:04<31:45,  1.52it/s]"
     ]
    },
    {
     "name": "stdout",
     "output_type": "stream",
     "text": [
      "Epoch [104/3000], Train Loss: 0.4479, Train_accuracy: 79.01313454029109, Val Loss: 0.4979, Val_accuracy: 75.27156549520767\n"
     ]
    },
    {
     "name": "stderr",
     "output_type": "stream",
     "text": [
      "  4%|█████▉                                                                                                                                                                   | 105/3000 [01:05<29:09,  1.65it/s]"
     ]
    },
    {
     "name": "stdout",
     "output_type": "stream",
     "text": [
      "Epoch [105/3000], Train Loss: 0.4679, Train_accuracy: 76.9613063542776, Val Loss: 0.5155, Val_accuracy: 73.63152289669861\n"
     ]
    },
    {
     "name": "stderr",
     "output_type": "stream",
     "text": [
      "  4%|█████▉                                                                                                                                                                   | 106/3000 [01:05<30:23,  1.59it/s]"
     ]
    },
    {
     "name": "stdout",
     "output_type": "stream",
     "text": [
      "Epoch [106/3000], Train Loss: 0.4667, Train_accuracy: 78.43805466808662, Val Loss: 0.5220, Val_accuracy: 75.33546325878594\n"
     ]
    },
    {
     "name": "stderr",
     "output_type": "stream",
     "text": [
      "  4%|██████                                                                                                                                                                   | 107/3000 [01:06<31:09,  1.55it/s]"
     ]
    },
    {
     "name": "stdout",
     "output_type": "stream",
     "text": [
      "Epoch [107/3000], Train Loss: 0.4464, Train_accuracy: 79.63081292154774, Val Loss: 0.4987, Val_accuracy: 76.05963791267305\n"
     ]
    },
    {
     "name": "stderr",
     "output_type": "stream",
     "text": [
      "  4%|██████                                                                                                                                                                   | 108/3000 [01:07<31:42,  1.52it/s]"
     ]
    },
    {
     "name": "stdout",
     "output_type": "stream",
     "text": [
      "Epoch [108/3000], Train Loss: 0.4672, Train_accuracy: 76.99680511182109, Val Loss: 0.5154, Val_accuracy: 73.54632587859425\n"
     ]
    },
    {
     "name": "stderr",
     "output_type": "stream",
     "text": [
      "  4%|██████▏                                                                                                                                                                  | 109/3000 [01:07<29:01,  1.66it/s]"
     ]
    },
    {
     "name": "stdout",
     "output_type": "stream",
     "text": [
      "Epoch [109/3000], Train Loss: 0.4509, Train_accuracy: 79.44621938232162, Val Loss: 0.5047, Val_accuracy: 76.01703940362087\n"
     ]
    },
    {
     "name": "stderr",
     "output_type": "stream",
     "text": [
      "  4%|██████▏                                                                                                                                                                  | 110/3000 [01:08<30:26,  1.58it/s]"
     ]
    },
    {
     "name": "stdout",
     "output_type": "stream",
     "text": [
      "Epoch [110/3000], Train Loss: 0.4516, Train_accuracy: 79.45331913383032, Val Loss: 0.5057, Val_accuracy: 76.01703940362087\n"
     ]
    },
    {
     "name": "stderr",
     "output_type": "stream",
     "text": [
      "  4%|██████▎                                                                                                                                                                  | 111/3000 [01:09<31:12,  1.54it/s]"
     ]
    },
    {
     "name": "stdout",
     "output_type": "stream",
     "text": [
      "Epoch [111/3000], Train Loss: 0.4598, Train_accuracy: 77.74227902023429, Val Loss: 0.5092, Val_accuracy: 73.99361022364218\n"
     ]
    },
    {
     "name": "stderr",
     "output_type": "stream",
     "text": [
      "  4%|██████▎                                                                                                                                                                  | 112/3000 [01:09<31:39,  1.52it/s]"
     ]
    },
    {
     "name": "stdout",
     "output_type": "stream",
     "text": [
      "Epoch [112/3000], Train Loss: 0.4446, Train_accuracy: 79.70891018814342, Val Loss: 0.4974, Val_accuracy: 75.78274760383387\n"
     ]
    },
    {
     "name": "stderr",
     "output_type": "stream",
     "text": [
      "  4%|██████▎                                                                                                                                                                  | 113/3000 [01:10<29:04,  1.65it/s]"
     ]
    },
    {
     "name": "stdout",
     "output_type": "stream",
     "text": [
      "Epoch [113/3000], Train Loss: 0.4549, Train_accuracy: 79.19772807951722, Val Loss: 0.5105, Val_accuracy: 75.86794462193824\n"
     ]
    },
    {
     "name": "stderr",
     "output_type": "stream",
     "text": [
      "  4%|██████▍                                                                                                                                                                  | 114/3000 [01:10<30:21,  1.58it/s]"
     ]
    },
    {
     "name": "stdout",
     "output_type": "stream",
     "text": [
      "Epoch [114/3000], Train Loss: 0.4506, Train_accuracy: 78.65104721334754, Val Loss: 0.5018, Val_accuracy: 74.76038338658147\n"
     ]
    },
    {
     "name": "stderr",
     "output_type": "stream",
     "text": [
      "  4%|██████▍                                                                                                                                                                  | 115/3000 [01:11<31:00,  1.55it/s]"
     ]
    },
    {
     "name": "stdout",
     "output_type": "stream",
     "text": [
      "Epoch [115/3000], Train Loss: 0.4445, Train_accuracy: 79.34682286119985, Val Loss: 0.4972, Val_accuracy: 74.97337593184238\n"
     ]
    },
    {
     "name": "stderr",
     "output_type": "stream",
     "text": [
      "  4%|██████▌                                                                                                                                                                  | 116/3000 [01:12<31:37,  1.52it/s]"
     ]
    },
    {
     "name": "stdout",
     "output_type": "stream",
     "text": [
      "Epoch [116/3000], Train Loss: 0.4530, Train_accuracy: 79.34682286119985, Val Loss: 0.5095, Val_accuracy: 75.99574014909479\n"
     ]
    },
    {
     "name": "stderr",
     "output_type": "stream",
     "text": [
      "  4%|██████▌                                                                                                                                                                  | 117/3000 [01:12<28:56,  1.66it/s]"
     ]
    },
    {
     "name": "stdout",
     "output_type": "stream",
     "text": [
      "Epoch [117/3000], Train Loss: 0.4446, Train_accuracy: 79.34682286119985, Val Loss: 0.4977, Val_accuracy: 74.84558040468583\n"
     ]
    },
    {
     "name": "stderr",
     "output_type": "stream",
     "text": [
      "  4%|██████▋                                                                                                                                                                  | 118/3000 [01:13<30:16,  1.59it/s]"
     ]
    },
    {
     "name": "stdout",
     "output_type": "stream",
     "text": [
      "Epoch [118/3000], Train Loss: 0.4449, Train_accuracy: 79.29002484913028, Val Loss: 0.4982, Val_accuracy: 75.03727369542067\n"
     ]
    },
    {
     "name": "stderr",
     "output_type": "stream",
     "text": [
      "  4%|██████▋                                                                                                                                                                  | 119/3000 [01:14<31:09,  1.54it/s]"
     ]
    },
    {
     "name": "stdout",
     "output_type": "stream",
     "text": [
      "Epoch [119/3000], Train Loss: 0.4490, Train_accuracy: 79.57401490947817, Val Loss: 0.5063, Val_accuracy: 75.97444089456869\n"
     ]
    },
    {
     "name": "stderr",
     "output_type": "stream",
     "text": [
      "  4%|██████▊                                                                                                                                                                  | 120/3000 [01:14<31:37,  1.52it/s]"
     ]
    },
    {
     "name": "stdout",
     "output_type": "stream",
     "text": [
      "Epoch [120/3000], Train Loss: 0.4415, Train_accuracy: 79.70181043663472, Val Loss: 0.4964, Val_accuracy: 75.2076677316294\n"
     ]
    },
    {
     "name": "stderr",
     "output_type": "stream",
     "text": [
      "  4%|██████▊                                                                                                                                                                  | 121/3000 [01:15<29:00,  1.65it/s]"
     ]
    },
    {
     "name": "stdout",
     "output_type": "stream",
     "text": [
      "Epoch [121/3000], Train Loss: 0.4436, Train_accuracy: 79.39652112176074, Val Loss: 0.4981, Val_accuracy: 75.01597444089457\n"
     ]
    },
    {
     "name": "stderr",
     "output_type": "stream",
     "text": [
      "  4%|██████▊                                                                                                                                                                  | 122/3000 [01:16<30:11,  1.59it/s]"
     ]
    },
    {
     "name": "stdout",
     "output_type": "stream",
     "text": [
      "Epoch [122/3000], Train Loss: 0.4455, Train_accuracy: 79.765708200213, Val Loss: 0.5038, Val_accuracy: 75.82534611288605\n"
     ]
    },
    {
     "name": "stderr",
     "output_type": "stream",
     "text": [
      "  4%|██████▉                                                                                                                                                                  | 123/3000 [01:16<30:54,  1.55it/s]"
     ]
    },
    {
     "name": "stdout",
     "output_type": "stream",
     "text": [
      "Epoch [123/3000], Train Loss: 0.4398, Train_accuracy: 79.88640397586084, Val Loss: 0.4961, Val_accuracy: 75.39936102236422\n"
     ]
    },
    {
     "name": "stderr",
     "output_type": "stream",
     "text": [
      "  4%|██████▉                                                                                                                                                                  | 124/3000 [01:17<31:28,  1.52it/s]"
     ]
    },
    {
     "name": "stdout",
     "output_type": "stream",
     "text": [
      "Epoch [124/3000], Train Loss: 0.4410, Train_accuracy: 79.55271565495208, Val Loss: 0.4971, Val_accuracy: 75.10117145899893\n"
     ]
    },
    {
     "name": "stderr",
     "output_type": "stream",
     "text": [
      "  4%|███████                                                                                                                                                                  | 125/3000 [01:17<28:54,  1.66it/s]"
     ]
    },
    {
     "name": "stdout",
     "output_type": "stream",
     "text": [
      "Epoch [125/3000], Train Loss: 0.4429, Train_accuracy: 79.9858004969826, Val Loss: 0.5025, Val_accuracy: 75.99574014909479\n"
     ]
    },
    {
     "name": "stderr",
     "output_type": "stream",
     "text": [
      "  4%|███████                                                                                                                                                                  | 126/3000 [01:18<30:08,  1.59it/s]"
     ]
    },
    {
     "name": "stdout",
     "output_type": "stream",
     "text": [
      "Epoch [126/3000], Train Loss: 0.4388, Train_accuracy: 79.68761093361732, Val Loss: 0.4963, Val_accuracy: 75.27156549520767\n"
     ]
    },
    {
     "name": "stderr",
     "output_type": "stream",
     "text": [
      "  4%|███████▏                                                                                                                                                                 | 127/3000 [01:19<30:59,  1.54it/s]"
     ]
    },
    {
     "name": "stdout",
     "output_type": "stream",
     "text": [
      "Epoch [127/3000], Train Loss: 0.4378, Train_accuracy: 79.93610223642173, Val Loss: 0.4959, Val_accuracy: 75.39936102236422\n"
     ]
    },
    {
     "name": "stderr",
     "output_type": "stream",
     "text": [
      "  4%|███████▏                                                                                                                                                                 | 128/3000 [01:19<31:26,  1.52it/s]"
     ]
    },
    {
     "name": "stdout",
     "output_type": "stream",
     "text": [
      "Epoch [128/3000], Train Loss: 0.4402, Train_accuracy: 80.31238906638268, Val Loss: 0.5009, Val_accuracy: 75.86794462193824\n"
     ]
    },
    {
     "name": "stderr",
     "output_type": "stream",
     "text": [
      "  4%|███████▎                                                                                                                                                                 | 129/3000 [01:20<28:49,  1.66it/s]"
     ]
    },
    {
     "name": "stdout",
     "output_type": "stream",
     "text": [
      "Epoch [129/3000], Train Loss: 0.4389, Train_accuracy: 79.61661341853035, Val Loss: 0.4974, Val_accuracy: 75.25026624068158\n"
     ]
    },
    {
     "name": "stderr",
     "output_type": "stream",
     "text": [
      "  4%|███████▎                                                                                                                                                                 | 130/3000 [01:21<29:56,  1.60it/s]"
     ]
    },
    {
     "name": "stdout",
     "output_type": "stream",
     "text": [
      "Epoch [130/3000], Train Loss: 0.4358, Train_accuracy: 80.31948881789137, Val Loss: 0.4964, Val_accuracy: 75.80404685835995\n"
     ]
    },
    {
     "name": "stderr",
     "output_type": "stream",
     "text": [
      "  4%|███████▍                                                                                                                                                                 | 131/3000 [01:21<30:37,  1.56it/s]"
     ]
    },
    {
     "name": "stdout",
     "output_type": "stream",
     "text": [
      "Epoch [131/3000], Train Loss: 0.4359, Train_accuracy: 80.45438409655662, Val Loss: 0.4973, Val_accuracy: 75.91054313099042\n"
     ]
    },
    {
     "name": "stderr",
     "output_type": "stream",
     "text": [
      "  4%|███████▍                                                                                                                                                                 | 132/3000 [01:22<31:12,  1.53it/s]"
     ]
    },
    {
     "name": "stdout",
     "output_type": "stream",
     "text": [
      "Epoch [132/3000], Train Loss: 0.4374, Train_accuracy: 79.83670571529997, Val Loss: 0.4973, Val_accuracy: 75.33546325878594\n"
     ]
    },
    {
     "name": "stderr",
     "output_type": "stream",
     "text": [
      "  4%|███████▍                                                                                                                                                                 | 133/3000 [01:22<28:40,  1.67it/s]"
     ]
    },
    {
     "name": "stdout",
     "output_type": "stream",
     "text": [
      "Epoch [133/3000], Train Loss: 0.4368, Train_accuracy: 80.54668086616968, Val Loss: 0.4998, Val_accuracy: 76.2087326943557\n"
     ]
    },
    {
     "name": "stderr",
     "output_type": "stream",
     "text": [
      "  4%|███████▌                                                                                                                                                                 | 134/3000 [01:23<30:01,  1.59it/s]"
     ]
    },
    {
     "name": "stdout",
     "output_type": "stream",
     "text": [
      "Epoch [134/3000], Train Loss: 0.4346, Train_accuracy: 79.90060347887824, Val Loss: 0.4960, Val_accuracy: 75.4206602768903\n"
     ]
    },
    {
     "name": "stderr",
     "output_type": "stream",
     "text": [
      "  4%|███████▌                                                                                                                                                                 | 135/3000 [01:24<30:52,  1.55it/s]"
     ]
    },
    {
     "name": "stdout",
     "output_type": "stream",
     "text": [
      "Epoch [135/3000], Train Loss: 0.4331, Train_accuracy: 80.40468583599574, Val Loss: 0.4958, Val_accuracy: 75.80404685835995\n"
     ]
    },
    {
     "name": "stderr",
     "output_type": "stream",
     "text": [
      "  5%|███████▋                                                                                                                                                                 | 136/3000 [01:25<31:23,  1.52it/s]"
     ]
    },
    {
     "name": "stdout",
     "output_type": "stream",
     "text": [
      "Epoch [136/3000], Train Loss: 0.4333, Train_accuracy: 80.58217962371317, Val Loss: 0.4970, Val_accuracy: 76.03833865814697\n"
     ]
    },
    {
     "name": "stderr",
     "output_type": "stream",
     "text": [
      "  5%|███████▋                                                                                                                                                                 | 137/3000 [01:25<28:50,  1.65it/s]"
     ]
    },
    {
     "name": "stdout",
     "output_type": "stream",
     "text": [
      "Epoch [137/3000], Train Loss: 0.4341, Train_accuracy: 80.07809726659566, Val Loss: 0.4967, Val_accuracy: 75.54845580404685\n"
     ]
    },
    {
     "name": "stderr",
     "output_type": "stream",
     "text": [
      "  5%|███████▊                                                                                                                                                                 | 138/3000 [01:26<30:05,  1.58it/s]"
     ]
    },
    {
     "name": "stdout",
     "output_type": "stream",
     "text": [
      "Epoch [138/3000], Train Loss: 0.4346, Train_accuracy: 80.72417465388712, Val Loss: 0.5001, Val_accuracy: 76.08093716719915\n"
     ]
    },
    {
     "name": "stderr",
     "output_type": "stream",
     "text": [
      "  5%|███████▊                                                                                                                                                                 | 139/3000 [01:26<30:48,  1.55it/s]"
     ]
    },
    {
     "name": "stdout",
     "output_type": "stream",
     "text": [
      "Epoch [139/3000], Train Loss: 0.4345, Train_accuracy: 79.95030173943913, Val Loss: 0.4977, Val_accuracy: 75.39936102236422\n"
     ]
    },
    {
     "name": "stderr",
     "output_type": "stream",
     "text": [
      "  5%|███████▉                                                                                                                                                                 | 140/3000 [01:27<31:27,  1.52it/s]"
     ]
    },
    {
     "name": "stdout",
     "output_type": "stream",
     "text": [
      "Epoch [140/3000], Train Loss: 0.4338, Train_accuracy: 80.7596734114306, Val Loss: 0.5003, Val_accuracy: 76.10223642172524\n"
     ]
    },
    {
     "name": "stderr",
     "output_type": "stream",
     "text": [
      "  5%|███████▉                                                                                                                                                                 | 141/3000 [01:28<28:51,  1.65it/s]"
     ]
    },
    {
     "name": "stdout",
     "output_type": "stream",
     "text": [
      "Epoch [141/3000], Train Loss: 0.4332, Train_accuracy: 79.95030173943913, Val Loss: 0.4974, Val_accuracy: 75.37806176783812\n"
     ]
    },
    {
     "name": "stderr",
     "output_type": "stream",
     "text": [
      "  5%|███████▉                                                                                                                                                                 | 142/3000 [01:28<30:03,  1.58it/s]"
     ]
    },
    {
     "name": "stdout",
     "output_type": "stream",
     "text": [
      "Epoch [142/3000], Train Loss: 0.4327, Train_accuracy: 80.7667731629393, Val Loss: 0.4999, Val_accuracy: 75.9318423855165\n"
     ]
    },
    {
     "name": "stderr",
     "output_type": "stream",
     "text": [
      "  5%|████████                                                                                                                                                                 | 143/3000 [01:29<30:51,  1.54it/s]"
     ]
    },
    {
     "name": "stdout",
     "output_type": "stream",
     "text": [
      "Epoch [143/3000], Train Loss: 0.4327, Train_accuracy: 79.99290024849131, Val Loss: 0.4978, Val_accuracy: 75.37806176783812\n"
     ]
    },
    {
     "name": "stderr",
     "output_type": "stream",
     "text": [
      "  5%|████████                                                                                                                                                                 | 144/3000 [01:30<31:25,  1.51it/s]"
     ]
    },
    {
     "name": "stdout",
     "output_type": "stream",
     "text": [
      "Epoch [144/3000], Train Loss: 0.4337, Train_accuracy: 80.58217962371317, Val Loss: 0.5023, Val_accuracy: 75.88924387646432\n"
     ]
    },
    {
     "name": "stderr",
     "output_type": "stream",
     "text": [
      "  5%|████████▏                                                                                                                                                                | 145/3000 [01:30<28:49,  1.65it/s]"
     ]
    },
    {
     "name": "stdout",
     "output_type": "stream",
     "text": [
      "Epoch [145/3000], Train Loss: 0.4369, Train_accuracy: 79.53851615193469, Val Loss: 0.5021, Val_accuracy: 74.90947816826412\n"
     ]
    },
    {
     "name": "stderr",
     "output_type": "stream",
     "text": [
      "  5%|████████▏                                                                                                                                                                | 146/3000 [01:31<30:10,  1.58it/s]"
     ]
    },
    {
     "name": "stdout",
     "output_type": "stream",
     "text": [
      "Epoch [146/3000], Train Loss: 0.4448, Train_accuracy: 79.96450124245652, Val Loss: 0.5156, Val_accuracy: 75.46325878594249\n"
     ]
    },
    {
     "name": "stderr",
     "output_type": "stream",
     "text": [
      "  5%|████████▎                                                                                                                                                                | 147/3000 [01:31<30:55,  1.54it/s]"
     ]
    },
    {
     "name": "stdout",
     "output_type": "stream",
     "text": [
      "Epoch [147/3000], Train Loss: 0.4639, Train_accuracy: 76.80511182108626, Val Loss: 0.5279, Val_accuracy: 73.37593184238551\n"
     ]
    },
    {
     "name": "stderr",
     "output_type": "stream",
     "text": [
      "  5%|████████▎                                                                                                                                                                | 148/3000 [01:32<31:26,  1.51it/s]"
     ]
    },
    {
     "name": "stdout",
     "output_type": "stream",
     "text": [
      "Epoch [148/3000], Train Loss: 0.4997, Train_accuracy: 75.71884984025559, Val Loss: 0.5744, Val_accuracy: 72.24707135250266\n"
     ]
    },
    {
     "name": "stderr",
     "output_type": "stream",
     "text": [
      "  5%|████████▍                                                                                                                                                                | 149/3000 [01:33<28:51,  1.65it/s]"
     ]
    },
    {
     "name": "stdout",
     "output_type": "stream",
     "text": [
      "Epoch [149/3000], Train Loss: 0.5468, Train_accuracy: 71.9133830315939, Val Loss: 0.6088, Val_accuracy: 68.66879659211928\n"
     ]
    },
    {
     "name": "stderr",
     "output_type": "stream",
     "text": [
      "  5%|████████▍                                                                                                                                                                | 150/3000 [01:33<29:59,  1.58it/s]"
     ]
    },
    {
     "name": "stdout",
     "output_type": "stream",
     "text": [
      "Epoch [150/3000], Train Loss: 0.5356, Train_accuracy: 73.81611643592474, Val Loss: 0.6117, Val_accuracy: 70.56443024494143\n"
     ]
    },
    {
     "name": "stderr",
     "output_type": "stream",
     "text": [
      "  5%|████████▌                                                                                                                                                                | 151/3000 [01:34<30:46,  1.54it/s]"
     ]
    },
    {
     "name": "stdout",
     "output_type": "stream",
     "text": [
      "Epoch [151/3000], Train Loss: 0.4675, Train_accuracy: 76.71991480298189, Val Loss: 0.5315, Val_accuracy: 72.9286474973376\n"
     ]
    },
    {
     "name": "stderr",
     "output_type": "stream",
     "text": [
      "  5%|████████▌                                                                                                                                                                | 152/3000 [01:35<31:16,  1.52it/s]"
     ]
    },
    {
     "name": "stdout",
     "output_type": "stream",
     "text": [
      "Epoch [152/3000], Train Loss: 0.4274, Train_accuracy: 80.53248136315229, Val Loss: 0.4952, Val_accuracy: 75.71884984025559\n"
     ]
    },
    {
     "name": "stderr",
     "output_type": "stream",
     "text": [
      "  5%|████████▌                                                                                                                                                                | 153/3000 [01:35<28:41,  1.65it/s]"
     ]
    },
    {
     "name": "stdout",
     "output_type": "stream",
     "text": [
      "Epoch [153/3000], Train Loss: 0.4619, Train_accuracy: 78.59424920127796, Val Loss: 0.5340, Val_accuracy: 74.61128860489883\n"
     ]
    },
    {
     "name": "stderr",
     "output_type": "stream",
     "text": [
      "  5%|████████▋                                                                                                                                                                | 154/3000 [01:36<29:55,  1.58it/s]"
     ]
    },
    {
     "name": "stdout",
     "output_type": "stream",
     "text": [
      "Epoch [154/3000], Train Loss: 0.4834, Train_accuracy: 75.71884984025559, Val Loss: 0.5461, Val_accuracy: 71.8849840255591\n"
     ]
    },
    {
     "name": "stderr",
     "output_type": "stream",
     "text": [
      "  5%|████████▋                                                                                                                                                                | 155/3000 [01:37<30:42,  1.54it/s]"
     ]
    },
    {
     "name": "stdout",
     "output_type": "stream",
     "text": [
      "Epoch [155/3000], Train Loss: 0.4402, Train_accuracy: 80.06389776357827, Val Loss: 0.5100, Val_accuracy: 75.78274760383387\n"
     ]
    },
    {
     "name": "stderr",
     "output_type": "stream",
     "text": [
      "  5%|████████▊                                                                                                                                                                | 156/3000 [01:37<31:15,  1.52it/s]"
     ]
    },
    {
     "name": "stdout",
     "output_type": "stream",
     "text": [
      "Epoch [156/3000], Train Loss: 0.4345, Train_accuracy: 80.5253816116436, Val Loss: 0.5033, Val_accuracy: 75.9531416400426\n"
     ]
    },
    {
     "name": "stderr",
     "output_type": "stream",
     "text": [
      "  5%|████████▊                                                                                                                                                                | 157/3000 [01:38<28:41,  1.65it/s]"
     ]
    },
    {
     "name": "stdout",
     "output_type": "stream",
     "text": [
      "Epoch [157/3000], Train Loss: 0.4633, Train_accuracy: 77.13170039048633, Val Loss: 0.5263, Val_accuracy: 73.24813631522896\n"
     ]
    },
    {
     "name": "stderr",
     "output_type": "stream",
     "text": [
      "  5%|████████▉                                                                                                                                                                | 158/3000 [01:38<29:54,  1.58it/s]"
     ]
    },
    {
     "name": "stdout",
     "output_type": "stream",
     "text": [
      "Epoch [158/3000], Train Loss: 0.4429, Train_accuracy: 79.95030173943913, Val Loss: 0.5123, Val_accuracy: 75.63365282215122\n"
     ]
    },
    {
     "name": "stderr",
     "output_type": "stream",
     "text": [
      "  5%|████████▉                                                                                                                                                                | 159/3000 [01:39<30:43,  1.54it/s]"
     ]
    },
    {
     "name": "stdout",
     "output_type": "stream",
     "text": [
      "Epoch [159/3000], Train Loss: 0.4300, Train_accuracy: 80.75257365992191, Val Loss: 0.4973, Val_accuracy: 76.23003194888179\n"
     ]
    },
    {
     "name": "stderr",
     "output_type": "stream",
     "text": [
      "  5%|█████████                                                                                                                                                                | 160/3000 [01:40<31:14,  1.52it/s]"
     ]
    },
    {
     "name": "stdout",
     "output_type": "stream",
     "text": [
      "Epoch [160/3000], Train Loss: 0.4507, Train_accuracy: 78.38835640752573, Val Loss: 0.5140, Val_accuracy: 73.99361022364218\n"
     ]
    },
    {
     "name": "stderr",
     "output_type": "stream",
     "text": [
      "  5%|█████████                                                                                                                                                                | 161/3000 [01:40<28:37,  1.65it/s]"
     ]
    },
    {
     "name": "stdout",
     "output_type": "stream",
     "text": [
      "Epoch [161/3000], Train Loss: 0.4395, Train_accuracy: 80.02129925452608, Val Loss: 0.5082, Val_accuracy: 75.50585729499467\n"
     ]
    },
    {
     "name": "stderr",
     "output_type": "stream",
     "text": [
      "  5%|█████████▏                                                                                                                                                               | 162/3000 [01:41<30:34,  1.55it/s]"
     ]
    },
    {
     "name": "stdout",
     "output_type": "stream",
     "text": [
      "Epoch [162/3000], Train Loss: 0.4291, Train_accuracy: 80.73837415690451, Val Loss: 0.4960, Val_accuracy: 76.31522896698615\n",
      "Model saved.\n"
     ]
    },
    {
     "name": "stderr",
     "output_type": "stream",
     "text": [
      "  5%|█████████▏                                                                                                                                                               | 163/3000 [01:42<31:06,  1.52it/s]"
     ]
    },
    {
     "name": "stdout",
     "output_type": "stream",
     "text": [
      "Epoch [163/3000], Train Loss: 0.4435, Train_accuracy: 78.95633652822151, Val Loss: 0.5072, Val_accuracy: 74.39829605963791\n"
     ]
    },
    {
     "name": "stderr",
     "output_type": "stream",
     "text": [
      "  5%|█████████▏                                                                                                                                                               | 164/3000 [01:42<31:30,  1.50it/s]"
     ]
    },
    {
     "name": "stdout",
     "output_type": "stream",
     "text": [
      "Epoch [164/3000], Train Loss: 0.4360, Train_accuracy: 80.54668086616968, Val Loss: 0.5043, Val_accuracy: 75.71884984025559\n"
     ]
    },
    {
     "name": "stderr",
     "output_type": "stream",
     "text": [
      "  6%|█████████▎                                                                                                                                                               | 165/3000 [01:43<29:22,  1.61it/s]"
     ]
    },
    {
     "name": "stdout",
     "output_type": "stream",
     "text": [
      "Epoch [165/3000], Train Loss: 0.4283, Train_accuracy: 80.87326943556975, Val Loss: 0.4953, Val_accuracy: 76.35782747603834\n",
      "Model saved.\n"
     ]
    },
    {
     "name": "stderr",
     "output_type": "stream",
     "text": [
      "  6%|█████████▎                                                                                                                                                               | 166/3000 [01:44<30:17,  1.56it/s]"
     ]
    },
    {
     "name": "stdout",
     "output_type": "stream",
     "text": [
      "Epoch [166/3000], Train Loss: 0.4384, Train_accuracy: 79.30422435214767, Val Loss: 0.5029, Val_accuracy: 74.76038338658147\n"
     ]
    },
    {
     "name": "stderr",
     "output_type": "stream",
     "text": [
      "  6%|█████████▍                                                                                                                                                               | 167/3000 [01:44<30:52,  1.53it/s]"
     ]
    },
    {
     "name": "stdout",
     "output_type": "stream",
     "text": [
      "Epoch [167/3000], Train Loss: 0.4335, Train_accuracy: 80.88036918707846, Val Loss: 0.5020, Val_accuracy: 76.12353567625134\n"
     ]
    },
    {
     "name": "stderr",
     "output_type": "stream",
     "text": [
      "  6%|█████████▍                                                                                                                                                               | 168/3000 [01:45<31:46,  1.49it/s]"
     ]
    },
    {
     "name": "stdout",
     "output_type": "stream",
     "text": [
      "Epoch [168/3000], Train Loss: 0.4272, Train_accuracy: 80.98686545970891, Val Loss: 0.4944, Val_accuracy: 76.37912673056444\n",
      "Model saved.\n"
     ]
    },
    {
     "name": "stderr",
     "output_type": "stream",
     "text": [
      "  6%|█████████▌                                                                                                                                                               | 169/3000 [01:45<29:00,  1.63it/s]"
     ]
    },
    {
     "name": "stdout",
     "output_type": "stream",
     "text": [
      "Epoch [169/3000], Train Loss: 0.4341, Train_accuracy: 79.69471068512603, Val Loss: 0.4995, Val_accuracy: 75.12247071352503\n"
     ]
    },
    {
     "name": "stderr",
     "output_type": "stream",
     "text": [
      "  6%|█████████▌                                                                                                                                                               | 170/3000 [01:46<30:05,  1.57it/s]"
     ]
    },
    {
     "name": "stdout",
     "output_type": "stream",
     "text": [
      "Epoch [170/3000], Train Loss: 0.4320, Train_accuracy: 81.07916222932198, Val Loss: 0.5011, Val_accuracy: 76.35782747603834\n"
     ]
    },
    {
     "name": "stderr",
     "output_type": "stream",
     "text": [
      "  6%|█████████▋                                                                                                                                                               | 171/3000 [01:47<30:44,  1.53it/s]"
     ]
    },
    {
     "name": "stdout",
     "output_type": "stream",
     "text": [
      "Epoch [171/3000], Train Loss: 0.4260, Train_accuracy: 80.88746893858715, Val Loss: 0.4937, Val_accuracy: 75.91054313099042\n"
     ]
    },
    {
     "name": "stderr",
     "output_type": "stream",
     "text": [
      "  6%|█████████▋                                                                                                                                                               | 172/3000 [01:48<31:08,  1.51it/s]"
     ]
    },
    {
     "name": "stdout",
     "output_type": "stream",
     "text": [
      "Epoch [172/3000], Train Loss: 0.4298, Train_accuracy: 80.08519701810437, Val Loss: 0.4966, Val_accuracy: 75.50585729499467\n"
     ]
    },
    {
     "name": "stderr",
     "output_type": "stream",
     "text": [
      "  6%|█████████▋                                                                                                                                                               | 173/3000 [01:48<28:30,  1.65it/s]"
     ]
    },
    {
     "name": "stdout",
     "output_type": "stream",
     "text": [
      "Epoch [173/3000], Train Loss: 0.4310, Train_accuracy: 81.05786297479588, Val Loss: 0.5010, Val_accuracy: 76.25133120340789\n"
     ]
    },
    {
     "name": "stderr",
     "output_type": "stream",
     "text": [
      "  6%|█████████▊                                                                                                                                                               | 174/3000 [01:49<29:41,  1.59it/s]"
     ]
    },
    {
     "name": "stdout",
     "output_type": "stream",
     "text": [
      "Epoch [174/3000], Train Loss: 0.4258, Train_accuracy: 80.61057862974796, Val Loss: 0.4939, Val_accuracy: 75.82534611288605\n"
     ]
    },
    {
     "name": "stderr",
     "output_type": "stream",
     "text": [
      "  6%|█████████▊                                                                                                                                                               | 175/3000 [01:49<30:26,  1.55it/s]"
     ]
    },
    {
     "name": "stdout",
     "output_type": "stream",
     "text": [
      "Epoch [175/3000], Train Loss: 0.4256, Train_accuracy: 80.59637912673057, Val Loss: 0.4941, Val_accuracy: 75.82534611288605\n"
     ]
    },
    {
     "name": "stderr",
     "output_type": "stream",
     "text": [
      "  6%|█████████▉                                                                                                                                                               | 176/3000 [01:50<30:52,  1.52it/s]"
     ]
    },
    {
     "name": "stdout",
     "output_type": "stream",
     "text": [
      "Epoch [176/3000], Train Loss: 0.4288, Train_accuracy: 81.17855875044373, Val Loss: 0.4998, Val_accuracy: 76.23003194888179\n"
     ]
    },
    {
     "name": "stderr",
     "output_type": "stream",
     "text": [
      "  6%|█████████▉                                                                                                                                                               | 177/3000 [01:51<28:21,  1.66it/s]"
     ]
    },
    {
     "name": "stdout",
     "output_type": "stream",
     "text": [
      "Epoch [177/3000], Train Loss: 0.4271, Train_accuracy: 80.28399006034789, Val Loss: 0.4958, Val_accuracy: 75.63365282215122\n"
     ]
    },
    {
     "name": "stderr",
     "output_type": "stream",
     "text": [
      "  6%|██████████                                                                                                                                                               | 178/3000 [01:51<29:38,  1.59it/s]"
     ]
    },
    {
     "name": "stdout",
     "output_type": "stream",
     "text": [
      "Epoch [178/3000], Train Loss: 0.4236, Train_accuracy: 81.0365637202698, Val Loss: 0.4942, Val_accuracy: 75.99574014909479\n"
     ]
    },
    {
     "name": "stderr",
     "output_type": "stream",
     "text": [
      "  6%|██████████                                                                                                                                                               | 179/3000 [01:52<30:23,  1.55it/s]"
     ]
    },
    {
     "name": "stdout",
     "output_type": "stream",
     "text": [
      "Epoch [179/3000], Train Loss: 0.4242, Train_accuracy: 81.04366347177849, Val Loss: 0.4955, Val_accuracy: 75.99574014909479\n"
     ]
    },
    {
     "name": "stderr",
     "output_type": "stream",
     "text": [
      "  6%|██████████▏                                                                                                                                                              | 180/3000 [01:53<31:01,  1.51it/s]"
     ]
    },
    {
     "name": "stdout",
     "output_type": "stream",
     "text": [
      "Epoch [180/3000], Train Loss: 0.4263, Train_accuracy: 80.31948881789137, Val Loss: 0.4961, Val_accuracy: 75.54845580404685\n"
     ]
    },
    {
     "name": "stderr",
     "output_type": "stream",
     "text": [
      "  6%|██████████▏                                                                                                                                                              | 181/3000 [01:53<28:17,  1.66it/s]"
     ]
    },
    {
     "name": "stdout",
     "output_type": "stream",
     "text": [
      "Epoch [181/3000], Train Loss: 0.4256, Train_accuracy: 81.2566560170394, Val Loss: 0.4983, Val_accuracy: 76.25133120340789\n"
     ]
    },
    {
     "name": "stderr",
     "output_type": "stream",
     "text": [
      "  6%|██████████▎                                                                                                                                                              | 182/3000 [01:54<29:21,  1.60it/s]"
     ]
    },
    {
     "name": "stdout",
     "output_type": "stream",
     "text": [
      "Epoch [182/3000], Train Loss: 0.4230, Train_accuracy: 80.66737664181754, Val Loss: 0.4943, Val_accuracy: 75.91054313099042\n"
     ]
    },
    {
     "name": "stderr",
     "output_type": "stream",
     "text": [
      "  6%|██████████▎                                                                                                                                                              | 183/3000 [01:54<29:59,  1.57it/s]"
     ]
    },
    {
     "name": "stdout",
     "output_type": "stream",
     "text": [
      "Epoch [183/3000], Train Loss: 0.4217, Train_accuracy: 81.08626198083067, Val Loss: 0.4939, Val_accuracy: 75.91054313099042\n"
     ]
    },
    {
     "name": "stderr",
     "output_type": "stream",
     "text": [
      "  6%|██████████▎                                                                                                                                                              | 184/3000 [01:55<30:27,  1.54it/s]"
     ]
    },
    {
     "name": "stdout",
     "output_type": "stream",
     "text": [
      "Epoch [184/3000], Train Loss: 0.4223, Train_accuracy: 81.18565850195243, Val Loss: 0.4957, Val_accuracy: 75.97444089456869\n"
     ]
    },
    {
     "name": "stderr",
     "output_type": "stream",
     "text": [
      "  6%|██████████▍                                                                                                                                                              | 185/3000 [01:56<27:51,  1.68it/s]"
     ]
    },
    {
     "name": "stdout",
     "output_type": "stream",
     "text": [
      "Epoch [185/3000], Train Loss: 0.4236, Train_accuracy: 80.53248136315229, Val Loss: 0.4957, Val_accuracy: 75.63365282215122\n"
     ]
    },
    {
     "name": "stderr",
     "output_type": "stream",
     "text": [
      "  6%|██████████▍                                                                                                                                                              | 186/3000 [01:56<29:02,  1.61it/s]"
     ]
    },
    {
     "name": "stdout",
     "output_type": "stream",
     "text": [
      "Epoch [186/3000], Train Loss: 0.4240, Train_accuracy: 81.39865104721335, Val Loss: 0.4988, Val_accuracy: 76.25133120340789\n"
     ]
    },
    {
     "name": "stderr",
     "output_type": "stream",
     "text": [
      "  6%|██████████▌                                                                                                                                                              | 187/3000 [01:57<29:44,  1.58it/s]"
     ]
    },
    {
     "name": "stdout",
     "output_type": "stream",
     "text": [
      "Epoch [187/3000], Train Loss: 0.4234, Train_accuracy: 80.58217962371317, Val Loss: 0.4962, Val_accuracy: 75.56975505857295\n"
     ]
    },
    {
     "name": "stderr",
     "output_type": "stream",
     "text": [
      "  6%|██████████▌                                                                                                                                                              | 188/3000 [01:58<30:21,  1.54it/s]"
     ]
    },
    {
     "name": "stdout",
     "output_type": "stream",
     "text": [
      "Epoch [188/3000], Train Loss: 0.4222, Train_accuracy: 81.27795527156549, Val Loss: 0.4975, Val_accuracy: 76.12353567625134\n"
     ]
    },
    {
     "name": "stderr",
     "output_type": "stream",
     "text": [
      "  6%|██████████▋                                                                                                                                                              | 189/3000 [01:58<27:50,  1.68it/s]"
     ]
    },
    {
     "name": "stdout",
     "output_type": "stream",
     "text": [
      "Epoch [189/3000], Train Loss: 0.4209, Train_accuracy: 80.81647142350018, Val Loss: 0.4949, Val_accuracy: 75.91054313099042\n"
     ]
    },
    {
     "name": "stderr",
     "output_type": "stream",
     "text": [
      "  6%|██████████▋                                                                                                                                                              | 190/3000 [01:59<29:08,  1.61it/s]"
     ]
    },
    {
     "name": "stdout",
     "output_type": "stream",
     "text": [
      "Epoch [190/3000], Train Loss: 0.4199, Train_accuracy: 81.21405750798722, Val Loss: 0.4956, Val_accuracy: 75.82534611288605\n"
     ]
    },
    {
     "name": "stderr",
     "output_type": "stream",
     "text": [
      "  6%|██████████▊                                                                                                                                                              | 191/3000 [01:59<29:59,  1.56it/s]"
     ]
    },
    {
     "name": "stdout",
     "output_type": "stream",
     "text": [
      "Epoch [191/3000], Train Loss: 0.4192, Train_accuracy: 81.05786297479588, Val Loss: 0.4945, Val_accuracy: 75.99574014909479\n"
     ]
    },
    {
     "name": "stderr",
     "output_type": "stream",
     "text": [
      "  6%|██████████▊                                                                                                                                                              | 192/3000 [02:00<30:36,  1.53it/s]"
     ]
    },
    {
     "name": "stdout",
     "output_type": "stream",
     "text": [
      "Epoch [192/3000], Train Loss: 0.4187, Train_accuracy: 81.19275825346112, Val Loss: 0.4949, Val_accuracy: 76.10223642172524\n"
     ]
    },
    {
     "name": "stderr",
     "output_type": "stream",
     "text": [
      "  6%|██████████▊                                                                                                                                                              | 193/3000 [02:01<28:09,  1.66it/s]"
     ]
    },
    {
     "name": "stdout",
     "output_type": "stream",
     "text": [
      "Epoch [193/3000], Train Loss: 0.4184, Train_accuracy: 81.24245651402201, Val Loss: 0.4946, Val_accuracy: 75.9318423855165\n"
     ]
    },
    {
     "name": "stderr",
     "output_type": "stream",
     "text": [
      "  6%|██████████▉                                                                                                                                                              | 194/3000 [02:01<29:27,  1.59it/s]"
     ]
    },
    {
     "name": "stdout",
     "output_type": "stream",
     "text": [
      "Epoch [194/3000], Train Loss: 0.4180, Train_accuracy: 81.20695775647852, Val Loss: 0.4947, Val_accuracy: 75.91054313099042\n"
     ]
    },
    {
     "name": "stderr",
     "output_type": "stream",
     "text": [
      "  6%|██████████▉                                                                                                                                                              | 195/3000 [02:02<30:08,  1.55it/s]"
     ]
    },
    {
     "name": "stdout",
     "output_type": "stream",
     "text": [
      "Epoch [195/3000], Train Loss: 0.4177, Train_accuracy: 81.20695775647852, Val Loss: 0.4949, Val_accuracy: 75.9531416400426\n"
     ]
    },
    {
     "name": "stderr",
     "output_type": "stream",
     "text": [
      "  7%|███████████                                                                                                                                                              | 196/3000 [02:03<30:44,  1.52it/s]"
     ]
    },
    {
     "name": "stdout",
     "output_type": "stream",
     "text": [
      "Epoch [196/3000], Train Loss: 0.4174, Train_accuracy: 81.2495562655307, Val Loss: 0.4948, Val_accuracy: 76.01703940362087\n"
     ]
    },
    {
     "name": "stderr",
     "output_type": "stream",
     "text": [
      "  7%|███████████                                                                                                                                                              | 197/3000 [02:03<28:11,  1.66it/s]"
     ]
    },
    {
     "name": "stdout",
     "output_type": "stream",
     "text": [
      "Epoch [197/3000], Train Loss: 0.4173, Train_accuracy: 81.2637557685481, Val Loss: 0.4954, Val_accuracy: 76.08093716719915\n"
     ]
    },
    {
     "name": "stderr",
     "output_type": "stream",
     "text": [
      "  7%|███████████▏                                                                                                                                                             | 198/3000 [02:04<29:18,  1.59it/s]"
     ]
    },
    {
     "name": "stdout",
     "output_type": "stream",
     "text": [
      "Epoch [198/3000], Train Loss: 0.4174, Train_accuracy: 81.10046148384806, Val Loss: 0.4951, Val_accuracy: 75.97444089456869\n"
     ]
    },
    {
     "name": "stderr",
     "output_type": "stream",
     "text": [
      "  7%|███████████▏                                                                                                                                                             | 199/3000 [02:05<30:04,  1.55it/s]"
     ]
    },
    {
     "name": "stdout",
     "output_type": "stream",
     "text": [
      "Epoch [199/3000], Train Loss: 0.4186, Train_accuracy: 81.49804756833511, Val Loss: 0.4981, Val_accuracy: 76.16613418530352\n"
     ]
    },
    {
     "name": "stderr",
     "output_type": "stream",
     "text": [
      "  7%|███████████▎                                                                                                                                                             | 200/3000 [02:05<30:33,  1.53it/s]"
     ]
    },
    {
     "name": "stdout",
     "output_type": "stream",
     "text": [
      "Epoch [200/3000], Train Loss: 0.4236, Train_accuracy: 80.22719204827831, Val Loss: 0.5008, Val_accuracy: 75.16506922257722\n"
     ]
    },
    {
     "name": "stderr",
     "output_type": "stream",
     "text": [
      "  7%|███████████▎                                                                                                                                                             | 201/3000 [02:06<28:05,  1.66it/s]"
     ]
    },
    {
     "name": "stdout",
     "output_type": "stream",
     "text": [
      "Epoch [201/3000], Train Loss: 0.4429, Train_accuracy: 79.81540646077387, Val Loss: 0.5256, Val_accuracy: 75.14376996805112\n"
     ]
    },
    {
     "name": "stderr",
     "output_type": "stream",
     "text": [
      "  7%|███████████▍                                                                                                                                                             | 202/3000 [02:06<29:16,  1.59it/s]"
     ]
    },
    {
     "name": "stdout",
     "output_type": "stream",
     "text": [
      "Epoch [202/3000], Train Loss: 0.5132, Train_accuracy: 73.90131345402911, Val Loss: 0.5876, Val_accuracy: 69.77635782747603\n"
     ]
    },
    {
     "name": "stderr",
     "output_type": "stream",
     "text": [
      "  7%|███████████▍                                                                                                                                                             | 203/3000 [02:07<29:57,  1.56it/s]"
     ]
    },
    {
     "name": "stdout",
     "output_type": "stream",
     "text": [
      "Epoch [203/3000], Train Loss: 0.6829, Train_accuracy: 66.77316293929712, Val Loss: 0.7730, Val_accuracy: 64.62193823216188\n"
     ]
    },
    {
     "name": "stderr",
     "output_type": "stream",
     "text": [
      "  7%|███████████▍                                                                                                                                                             | 204/3000 [02:08<30:33,  1.53it/s]"
     ]
    },
    {
     "name": "stdout",
     "output_type": "stream",
     "text": [
      "Epoch [204/3000], Train Loss: 0.7998, Train_accuracy: 62.19382321618743, Val Loss: 0.8712, Val_accuracy: 60.638977635782744\n"
     ]
    },
    {
     "name": "stderr",
     "output_type": "stream",
     "text": [
      "  7%|███████████▌                                                                                                                                                             | 205/3000 [02:08<28:00,  1.66it/s]"
     ]
    },
    {
     "name": "stdout",
     "output_type": "stream",
     "text": [
      "Epoch [205/3000], Train Loss: 0.4953, Train_accuracy: 76.24423145189918, Val Loss: 0.5792, Val_accuracy: 72.50266240681576\n"
     ]
    },
    {
     "name": "stderr",
     "output_type": "stream",
     "text": [
      "  7%|███████████▌                                                                                                                                                             | 206/3000 [02:09<29:07,  1.60it/s]"
     ]
    },
    {
     "name": "stdout",
     "output_type": "stream",
     "text": [
      "Epoch [206/3000], Train Loss: 0.4530, Train_accuracy: 79.04863329783457, Val Loss: 0.5336, Val_accuracy: 74.97337593184238\n"
     ]
    },
    {
     "name": "stderr",
     "output_type": "stream",
     "text": [
      "  7%|███████████▋                                                                                                                                                             | 207/3000 [02:10<29:54,  1.56it/s]"
     ]
    },
    {
     "name": "stdout",
     "output_type": "stream",
     "text": [
      "Epoch [207/3000], Train Loss: 0.6074, Train_accuracy: 68.81789137380191, Val Loss: 0.6766, Val_accuracy: 66.38977635782747\n"
     ]
    },
    {
     "name": "stderr",
     "output_type": "stream",
     "text": [
      "  7%|███████████▋                                                                                                                                                             | 208/3000 [02:10<30:27,  1.53it/s]"
     ]
    },
    {
     "name": "stdout",
     "output_type": "stream",
     "text": [
      "Epoch [208/3000], Train Loss: 0.4443, Train_accuracy: 79.65211217607384, Val Loss: 0.5213, Val_accuracy: 75.35676251331203\n"
     ]
    },
    {
     "name": "stderr",
     "output_type": "stream",
     "text": [
      "  7%|███████████▊                                                                                                                                                             | 209/3000 [02:11<27:59,  1.66it/s]"
     ]
    },
    {
     "name": "stdout",
     "output_type": "stream",
     "text": [
      "Epoch [209/3000], Train Loss: 0.4923, Train_accuracy: 76.55662051828186, Val Loss: 0.5702, Val_accuracy: 72.99254526091586\n"
     ]
    },
    {
     "name": "stderr",
     "output_type": "stream",
     "text": [
      "  7%|███████████▊                                                                                                                                                             | 210/3000 [02:11<29:13,  1.59it/s]"
     ]
    },
    {
     "name": "stdout",
     "output_type": "stream",
     "text": [
      "Epoch [210/3000], Train Loss: 0.5042, Train_accuracy: 74.4337948171814, Val Loss: 0.5708, Val_accuracy: 70.6070287539936\n"
     ]
    },
    {
     "name": "stderr",
     "output_type": "stream",
     "text": [
      "  7%|███████████▉                                                                                                                                                             | 211/3000 [02:12<29:57,  1.55it/s]"
     ]
    },
    {
     "name": "stdout",
     "output_type": "stream",
     "text": [
      "Epoch [211/3000], Train Loss: 0.4372, Train_accuracy: 79.43911963081293, Val Loss: 0.5051, Val_accuracy: 74.84558040468583\n"
     ]
    },
    {
     "name": "stderr",
     "output_type": "stream",
     "text": [
      "  7%|███████████▉                                                                                                                                                             | 212/3000 [02:13<30:31,  1.52it/s]"
     ]
    },
    {
     "name": "stdout",
     "output_type": "stream",
     "text": [
      "Epoch [212/3000], Train Loss: 0.5103, Train_accuracy: 75.28576499822506, Val Loss: 0.5849, Val_accuracy: 72.03407880724174\n"
     ]
    },
    {
     "name": "stderr",
     "output_type": "stream",
     "text": [
      "  7%|███████████▉                                                                                                                                                             | 213/3000 [02:13<28:00,  1.66it/s]"
     ]
    },
    {
     "name": "stdout",
     "output_type": "stream",
     "text": [
      "Epoch [213/3000], Train Loss: 0.4277, Train_accuracy: 80.70997515086972, Val Loss: 0.4955, Val_accuracy: 76.14483493077742\n"
     ]
    },
    {
     "name": "stderr",
     "output_type": "stream",
     "text": [
      "  7%|████████████                                                                                                                                                             | 214/3000 [02:14<29:10,  1.59it/s]"
     ]
    },
    {
     "name": "stdout",
     "output_type": "stream",
     "text": [
      "Epoch [214/3000], Train Loss: 0.4926, Train_accuracy: 75.14376996805112, Val Loss: 0.5554, Val_accuracy: 71.1182108626198\n"
     ]
    },
    {
     "name": "stderr",
     "output_type": "stream",
     "text": [
      "  7%|████████████                                                                                                                                                             | 215/3000 [02:15<29:53,  1.55it/s]"
     ]
    },
    {
     "name": "stdout",
     "output_type": "stream",
     "text": [
      "Epoch [215/3000], Train Loss: 0.4302, Train_accuracy: 80.62477813276536, Val Loss: 0.4969, Val_accuracy: 76.01703940362087\n"
     ]
    },
    {
     "name": "stderr",
     "output_type": "stream",
     "text": [
      "  7%|████████████▏                                                                                                                                                            | 216/3000 [02:15<30:24,  1.53it/s]"
     ]
    },
    {
     "name": "stdout",
     "output_type": "stream",
     "text": [
      "Epoch [216/3000], Train Loss: 0.4777, Train_accuracy: 77.53638622648208, Val Loss: 0.5475, Val_accuracy: 73.9297124600639\n"
     ]
    },
    {
     "name": "stderr",
     "output_type": "stream",
     "text": [
      "  7%|████████████▏                                                                                                                                                            | 217/3000 [02:16<27:56,  1.66it/s]"
     ]
    },
    {
     "name": "stdout",
     "output_type": "stream",
     "text": [
      "Epoch [217/3000], Train Loss: 0.4331, Train_accuracy: 80.17749378771742, Val Loss: 0.4972, Val_accuracy: 75.54845580404685\n"
     ]
    },
    {
     "name": "stderr",
     "output_type": "stream",
     "text": [
      "  7%|████████████▎                                                                                                                                                            | 218/3000 [02:16<29:09,  1.59it/s]"
     ]
    },
    {
     "name": "stdout",
     "output_type": "stream",
     "text": [
      "Epoch [218/3000], Train Loss: 0.4655, Train_accuracy: 77.00390486332978, Val Loss: 0.5272, Val_accuracy: 72.90734824281151\n"
     ]
    },
    {
     "name": "stderr",
     "output_type": "stream",
     "text": [
      "  7%|████████████▎                                                                                                                                                            | 219/3000 [02:17<29:55,  1.55it/s]"
     ]
    },
    {
     "name": "stdout",
     "output_type": "stream",
     "text": [
      "Epoch [219/3000], Train Loss: 0.4335, Train_accuracy: 80.41888533901313, Val Loss: 0.4990, Val_accuracy: 76.01703940362087\n"
     ]
    },
    {
     "name": "stderr",
     "output_type": "stream",
     "text": [
      "  7%|████████████▍                                                                                                                                                            | 220/3000 [02:18<30:31,  1.52it/s]"
     ]
    },
    {
     "name": "stdout",
     "output_type": "stream",
     "text": [
      "Epoch [220/3000], Train Loss: 0.4574, Train_accuracy: 78.99183528576499, Val Loss: 0.5250, Val_accuracy: 74.9307774227902\n"
     ]
    },
    {
     "name": "stderr",
     "output_type": "stream",
     "text": [
      "  7%|████████████▍                                                                                                                                                            | 221/3000 [02:18<27:59,  1.65it/s]"
     ]
    },
    {
     "name": "stdout",
     "output_type": "stream",
     "text": [
      "Epoch [221/3000], Train Loss: 0.4333, Train_accuracy: 80.14909478168263, Val Loss: 0.4968, Val_accuracy: 75.59105431309904\n"
     ]
    },
    {
     "name": "stderr",
     "output_type": "stream",
     "text": [
      "  7%|████████████▌                                                                                                                                                            | 222/3000 [02:19<29:17,  1.58it/s]"
     ]
    },
    {
     "name": "stdout",
     "output_type": "stream",
     "text": [
      "Epoch [222/3000], Train Loss: 0.4506, Train_accuracy: 78.27476038338658, Val Loss: 0.5129, Val_accuracy: 74.12140575079871\n"
     ]
    },
    {
     "name": "stderr",
     "output_type": "stream",
     "text": [
      "  7%|████████████▌                                                                                                                                                            | 223/3000 [02:20<30:00,  1.54it/s]"
     ]
    },
    {
     "name": "stdout",
     "output_type": "stream",
     "text": [
      "Epoch [223/3000], Train Loss: 0.4321, Train_accuracy: 80.54668086616968, Val Loss: 0.4979, Val_accuracy: 76.23003194888179\n"
     ]
    },
    {
     "name": "stderr",
     "output_type": "stream",
     "text": [
      "  7%|████████████▌                                                                                                                                                            | 224/3000 [02:20<30:32,  1.52it/s]"
     ]
    },
    {
     "name": "stdout",
     "output_type": "stream",
     "text": [
      "Epoch [224/3000], Train Loss: 0.4453, Train_accuracy: 79.97870074547392, Val Loss: 0.5130, Val_accuracy: 75.76144834930777\n"
     ]
    },
    {
     "name": "stderr",
     "output_type": "stream",
     "text": [
      "  8%|████████████▋                                                                                                                                                            | 225/3000 [02:21<28:01,  1.65it/s]"
     ]
    },
    {
     "name": "stdout",
     "output_type": "stream",
     "text": [
      "Epoch [225/3000], Train Loss: 0.4311, Train_accuracy: 80.42598509052183, Val Loss: 0.4957, Val_accuracy: 75.63365282215122\n"
     ]
    },
    {
     "name": "stderr",
     "output_type": "stream",
     "text": [
      "  8%|████████████▋                                                                                                                                                            | 226/3000 [02:22<29:11,  1.58it/s]"
     ]
    },
    {
     "name": "stdout",
     "output_type": "stream",
     "text": [
      "Epoch [226/3000], Train Loss: 0.4402, Train_accuracy: 79.17642882499112, Val Loss: 0.5042, Val_accuracy: 74.97337593184238\n"
     ]
    },
    {
     "name": "stderr",
     "output_type": "stream",
     "text": [
      "  8%|████████████▊                                                                                                                                                            | 227/3000 [02:22<29:52,  1.55it/s]"
     ]
    },
    {
     "name": "stdout",
     "output_type": "stream",
     "text": [
      "Epoch [227/3000], Train Loss: 0.4300, Train_accuracy: 80.92296769613064, Val Loss: 0.4975, Val_accuracy: 76.29392971246007\n"
     ]
    },
    {
     "name": "stderr",
     "output_type": "stream",
     "text": [
      "  8%|████████████▊                                                                                                                                                            | 228/3000 [02:23<30:25,  1.52it/s]"
     ]
    },
    {
     "name": "stdout",
     "output_type": "stream",
     "text": [
      "Epoch [228/3000], Train Loss: 0.4356, Train_accuracy: 80.44018459353923, Val Loss: 0.5045, Val_accuracy: 76.25133120340789\n"
     ]
    },
    {
     "name": "stderr",
     "output_type": "stream",
     "text": [
      "  8%|████████████▉                                                                                                                                                            | 229/3000 [02:23<27:53,  1.66it/s]"
     ]
    },
    {
     "name": "stdout",
     "output_type": "stream",
     "text": [
      "Epoch [229/3000], Train Loss: 0.4296, Train_accuracy: 80.44018459353923, Val Loss: 0.4959, Val_accuracy: 75.61235356762514\n"
     ]
    },
    {
     "name": "stderr",
     "output_type": "stream",
     "text": [
      "  8%|████████████▉                                                                                                                                                            | 230/3000 [02:24<29:12,  1.58it/s]"
     ]
    },
    {
     "name": "stdout",
     "output_type": "stream",
     "text": [
      "Epoch [230/3000], Train Loss: 0.4311, Train_accuracy: 80.11359602413916, Val Loss: 0.4977, Val_accuracy: 75.46325878594249\n"
     ]
    },
    {
     "name": "stderr",
     "output_type": "stream",
     "text": [
      "  8%|█████████████                                                                                                                                                            | 231/3000 [02:25<30:24,  1.52it/s]"
     ]
    },
    {
     "name": "stdout",
     "output_type": "stream",
     "text": [
      "Epoch [231/3000], Train Loss: 0.4295, Train_accuracy: 81.12176073837416, Val Loss: 0.4994, Val_accuracy: 76.48562300319489\n",
      "Model saved.\n"
     ]
    },
    {
     "name": "stderr",
     "output_type": "stream",
     "text": [
      "  8%|█████████████                                                                                                                                                            | 232/3000 [02:26<30:33,  1.51it/s]"
     ]
    },
    {
     "name": "stdout",
     "output_type": "stream",
     "text": [
      "Epoch [232/3000], Train Loss: 0.4267, Train_accuracy: 81.29215477458288, Val Loss: 0.4969, Val_accuracy: 76.40042598509052\n"
     ]
    },
    {
     "name": "stderr",
     "output_type": "stream",
     "text": [
      "  8%|█████████████▏                                                                                                                                                           | 233/3000 [02:26<27:49,  1.66it/s]"
     ]
    },
    {
     "name": "stdout",
     "output_type": "stream",
     "text": [
      "Epoch [233/3000], Train Loss: 0.4295, Train_accuracy: 80.09939652112176, Val Loss: 0.4978, Val_accuracy: 75.46325878594249\n"
     ]
    },
    {
     "name": "stderr",
     "output_type": "stream",
     "text": [
      "  8%|█████████████▏                                                                                                                                                           | 234/3000 [02:27<28:52,  1.60it/s]"
     ]
    },
    {
     "name": "stdout",
     "output_type": "stream",
     "text": [
      "Epoch [234/3000], Train Loss: 0.4233, Train_accuracy: 81.10756123535677, Val Loss: 0.4930, Val_accuracy: 75.99574014909479\n"
     ]
    },
    {
     "name": "stderr",
     "output_type": "stream",
     "text": [
      "  8%|█████████████▏                                                                                                                                                           | 235/3000 [02:27<30:16,  1.52it/s]"
     ]
    },
    {
     "name": "stdout",
     "output_type": "stream",
     "text": [
      "Epoch [235/3000], Train Loss: 0.4288, Train_accuracy: 81.15725949591764, Val Loss: 0.5012, Val_accuracy: 76.57082002129926\n",
      "Model saved.\n"
     ]
    },
    {
     "name": "stderr",
     "output_type": "stream",
     "text": [
      "  8%|█████████████▎                                                                                                                                                           | 236/3000 [02:28<30:32,  1.51it/s]"
     ]
    },
    {
     "name": "stdout",
     "output_type": "stream",
     "text": [
      "Epoch [236/3000], Train Loss: 0.4216, Train_accuracy: 81.05786297479588, Val Loss: 0.4928, Val_accuracy: 76.12353567625134\n"
     ]
    },
    {
     "name": "stderr",
     "output_type": "stream",
     "text": [
      "  8%|█████████████▎                                                                                                                                                           | 237/3000 [02:29<27:44,  1.66it/s]"
     ]
    },
    {
     "name": "stdout",
     "output_type": "stream",
     "text": [
      "Epoch [237/3000], Train Loss: 0.4261, Train_accuracy: 80.37628682996095, Val Loss: 0.4967, Val_accuracy: 75.56975505857295\n"
     ]
    },
    {
     "name": "stderr",
     "output_type": "stream",
     "text": [
      "  8%|█████████████▍                                                                                                                                                           | 238/3000 [02:29<28:44,  1.60it/s]"
     ]
    },
    {
     "name": "stdout",
     "output_type": "stream",
     "text": [
      "Epoch [238/3000], Train Loss: 0.4223, Train_accuracy: 81.31345402910898, Val Loss: 0.4955, Val_accuracy: 76.42172523961662\n"
     ]
    },
    {
     "name": "stderr",
     "output_type": "stream",
     "text": [
      "  8%|█████████████▍                                                                                                                                                           | 239/3000 [02:30<29:26,  1.56it/s]"
     ]
    },
    {
     "name": "stdout",
     "output_type": "stream",
     "text": [
      "Epoch [239/3000], Train Loss: 0.4219, Train_accuracy: 81.29925452609159, Val Loss: 0.4956, Val_accuracy: 76.35782747603834\n"
     ]
    },
    {
     "name": "stderr",
     "output_type": "stream",
     "text": [
      "  8%|█████████████▌                                                                                                                                                           | 240/3000 [02:31<29:50,  1.54it/s]"
     ]
    },
    {
     "name": "stdout",
     "output_type": "stream",
     "text": [
      "Epoch [240/3000], Train Loss: 0.4236, Train_accuracy: 80.58217962371317, Val Loss: 0.4959, Val_accuracy: 75.71884984025559\n"
     ]
    },
    {
     "name": "stderr",
     "output_type": "stream",
     "text": [
      "  8%|█████████████▌                                                                                                                                                           | 241/3000 [02:31<27:14,  1.69it/s]"
     ]
    },
    {
     "name": "stdout",
     "output_type": "stream",
     "text": [
      "Epoch [241/3000], Train Loss: 0.4192, Train_accuracy: 81.19275825346112, Val Loss: 0.4932, Val_accuracy: 76.05963791267305\n"
     ]
    },
    {
     "name": "stderr",
     "output_type": "stream",
     "text": [
      "  8%|█████████████▋                                                                                                                                                           | 242/3000 [02:32<28:24,  1.62it/s]"
     ]
    },
    {
     "name": "stdout",
     "output_type": "stream",
     "text": [
      "Epoch [242/3000], Train Loss: 0.4220, Train_accuracy: 81.46254881079162, Val Loss: 0.4976, Val_accuracy: 76.29392971246007\n"
     ]
    },
    {
     "name": "stderr",
     "output_type": "stream",
     "text": [
      "  8%|█████████████▋                                                                                                                                                           | 243/3000 [02:32<29:13,  1.57it/s]"
     ]
    },
    {
     "name": "stdout",
     "output_type": "stream",
     "text": [
      "Epoch [243/3000], Train Loss: 0.4200, Train_accuracy: 81.09336173233937, Val Loss: 0.4943, Val_accuracy: 75.86794462193824\n"
     ]
    },
    {
     "name": "stderr",
     "output_type": "stream",
     "text": [
      "  8%|█████████████▋                                                                                                                                                           | 244/3000 [02:33<29:48,  1.54it/s]"
     ]
    },
    {
     "name": "stdout",
     "output_type": "stream",
     "text": [
      "Epoch [244/3000], Train Loss: 0.4183, Train_accuracy: 81.34895278665246, Val Loss: 0.4935, Val_accuracy: 75.99574014909479\n"
     ]
    },
    {
     "name": "stderr",
     "output_type": "stream",
     "text": [
      "  8%|█████████████▊                                                                                                                                                           | 245/3000 [02:34<27:21,  1.68it/s]"
     ]
    },
    {
     "name": "stdout",
     "output_type": "stream",
     "text": [
      "Epoch [245/3000], Train Loss: 0.4205, Train_accuracy: 81.5264465743699, Val Loss: 0.4975, Val_accuracy: 76.23003194888179\n"
     ]
    },
    {
     "name": "stderr",
     "output_type": "stream",
     "text": [
      "  8%|█████████████▊                                                                                                                                                           | 246/3000 [02:34<28:30,  1.61it/s]"
     ]
    },
    {
     "name": "stdout",
     "output_type": "stream",
     "text": [
      "Epoch [246/3000], Train Loss: 0.4179, Train_accuracy: 81.41285055023074, Val Loss: 0.4939, Val_accuracy: 75.91054313099042\n"
     ]
    },
    {
     "name": "stderr",
     "output_type": "stream",
     "text": [
      "  8%|█████████████▉                                                                                                                                                           | 247/3000 [02:35<29:15,  1.57it/s]"
     ]
    },
    {
     "name": "stdout",
     "output_type": "stream",
     "text": [
      "Epoch [247/3000], Train Loss: 0.4173, Train_accuracy: 81.44834930777422, Val Loss: 0.4939, Val_accuracy: 75.9318423855165\n"
     ]
    },
    {
     "name": "stderr",
     "output_type": "stream",
     "text": [
      "  8%|█████████████▉                                                                                                                                                           | 248/3000 [02:36<29:47,  1.54it/s]"
     ]
    },
    {
     "name": "stdout",
     "output_type": "stream",
     "text": [
      "Epoch [248/3000], Train Loss: 0.4187, Train_accuracy: 81.67554135605253, Val Loss: 0.4971, Val_accuracy: 76.25133120340789\n"
     ]
    },
    {
     "name": "stderr",
     "output_type": "stream",
     "text": [
      "  8%|██████████████                                                                                                                                                           | 249/3000 [02:36<27:20,  1.68it/s]"
     ]
    },
    {
     "name": "stdout",
     "output_type": "stream",
     "text": [
      "Epoch [249/3000], Train Loss: 0.4167, Train_accuracy: 81.4909478168264, Val Loss: 0.4941, Val_accuracy: 75.91054313099042\n"
     ]
    },
    {
     "name": "stderr",
     "output_type": "stream",
     "text": [
      "  8%|██████████████                                                                                                                                                           | 250/3000 [02:37<28:34,  1.60it/s]"
     ]
    },
    {
     "name": "stdout",
     "output_type": "stream",
     "text": [
      "Epoch [250/3000], Train Loss: 0.4160, Train_accuracy: 81.47674831380901, Val Loss: 0.4940, Val_accuracy: 75.91054313099042\n"
     ]
    },
    {
     "name": "stderr",
     "output_type": "stream",
     "text": [
      "  8%|██████████████▏                                                                                                                                                          | 251/3000 [02:37<29:16,  1.56it/s]"
     ]
    },
    {
     "name": "stdout",
     "output_type": "stream",
     "text": [
      "Epoch [251/3000], Train Loss: 0.4171, Train_accuracy: 81.7962371317004, Val Loss: 0.4967, Val_accuracy: 76.14483493077742\n"
     ]
    },
    {
     "name": "stderr",
     "output_type": "stream",
     "text": [
      "  8%|██████████████▏                                                                                                                                                          | 252/3000 [02:38<29:45,  1.54it/s]"
     ]
    },
    {
     "name": "stdout",
     "output_type": "stream",
     "text": [
      "Epoch [252/3000], Train Loss: 0.4161, Train_accuracy: 81.41285055023074, Val Loss: 0.4946, Val_accuracy: 75.9318423855165\n"
     ]
    },
    {
     "name": "stderr",
     "output_type": "stream",
     "text": [
      "  8%|██████████████▎                                                                                                                                                          | 253/3000 [02:39<27:16,  1.68it/s]"
     ]
    },
    {
     "name": "stdout",
     "output_type": "stream",
     "text": [
      "Epoch [253/3000], Train Loss: 0.4147, Train_accuracy: 81.5193468228612, Val Loss: 0.4942, Val_accuracy: 75.99574014909479\n"
     ]
    },
    {
     "name": "stderr",
     "output_type": "stream",
     "text": [
      "  8%|██████████████▎                                                                                                                                                          | 254/3000 [02:39<28:24,  1.61it/s]"
     ]
    },
    {
     "name": "stdout",
     "output_type": "stream",
     "text": [
      "Epoch [254/3000], Train Loss: 0.4153, Train_accuracy: 81.57614483493077, Val Loss: 0.4958, Val_accuracy: 75.99574014909479\n"
     ]
    },
    {
     "name": "stderr",
     "output_type": "stream",
     "text": [
      "  8%|██████████████▎                                                                                                                                                          | 255/3000 [02:40<29:08,  1.57it/s]"
     ]
    },
    {
     "name": "stdout",
     "output_type": "stream",
     "text": [
      "Epoch [255/3000], Train Loss: 0.4155, Train_accuracy: 81.31345402910898, Val Loss: 0.4951, Val_accuracy: 75.91054313099042\n"
     ]
    },
    {
     "name": "stderr",
     "output_type": "stream",
     "text": [
      "  9%|██████████████▍                                                                                                                                                          | 256/3000 [02:41<29:37,  1.54it/s]"
     ]
    },
    {
     "name": "stdout",
     "output_type": "stream",
     "text": [
      "Epoch [256/3000], Train Loss: 0.4142, Train_accuracy: 81.57614483493077, Val Loss: 0.4953, Val_accuracy: 75.91054313099042\n"
     ]
    },
    {
     "name": "stderr",
     "output_type": "stream",
     "text": [
      "  9%|██████████████▍                                                                                                                                                          | 257/3000 [02:41<27:11,  1.68it/s]"
     ]
    },
    {
     "name": "stdout",
     "output_type": "stream",
     "text": [
      "Epoch [257/3000], Train Loss: 0.4135, Train_accuracy: 81.58324458643948, Val Loss: 0.4946, Val_accuracy: 76.10223642172524\n"
     ]
    },
    {
     "name": "stderr",
     "output_type": "stream",
     "text": [
      "  9%|██████████████▌                                                                                                                                                          | 258/3000 [02:42<28:18,  1.61it/s]"
     ]
    },
    {
     "name": "stdout",
     "output_type": "stream",
     "text": [
      "Epoch [258/3000], Train Loss: 0.4139, Train_accuracy: 81.4909478168264, Val Loss: 0.4948, Val_accuracy: 75.9531416400426\n"
     ]
    },
    {
     "name": "stderr",
     "output_type": "stream",
     "text": [
      "  9%|██████████████▌                                                                                                                                                          | 259/3000 [02:42<29:07,  1.57it/s]"
     ]
    },
    {
     "name": "stdout",
     "output_type": "stream",
     "text": [
      "Epoch [259/3000], Train Loss: 0.4140, Train_accuracy: 81.80333688320908, Val Loss: 0.4963, Val_accuracy: 76.08093716719915\n"
     ]
    },
    {
     "name": "stderr",
     "output_type": "stream",
     "text": [
      "  9%|██████████████▋                                                                                                                                                          | 260/3000 [02:43<29:48,  1.53it/s]"
     ]
    },
    {
     "name": "stdout",
     "output_type": "stream",
     "text": [
      "Epoch [260/3000], Train Loss: 0.4132, Train_accuracy: 81.5264465743699, Val Loss: 0.4948, Val_accuracy: 75.9531416400426\n"
     ]
    },
    {
     "name": "stderr",
     "output_type": "stream",
     "text": [
      "  9%|██████████████▋                                                                                                                                                          | 261/3000 [02:44<27:22,  1.67it/s]"
     ]
    },
    {
     "name": "stdout",
     "output_type": "stream",
     "text": [
      "Epoch [261/3000], Train Loss: 0.4124, Train_accuracy: 81.60454384096556, Val Loss: 0.4948, Val_accuracy: 75.88924387646432\n"
     ]
    },
    {
     "name": "stderr",
     "output_type": "stream",
     "text": [
      "  9%|██████████████▊                                                                                                                                                          | 262/3000 [02:44<28:40,  1.59it/s]"
     ]
    },
    {
     "name": "stdout",
     "output_type": "stream",
     "text": [
      "Epoch [262/3000], Train Loss: 0.4123, Train_accuracy: 81.63294284700035, Val Loss: 0.4950, Val_accuracy: 75.97444089456869\n"
     ]
    },
    {
     "name": "stderr",
     "output_type": "stream",
     "text": [
      "  9%|██████████████▊                                                                                                                                                          | 263/3000 [02:45<29:21,  1.55it/s]"
     ]
    },
    {
     "name": "stdout",
     "output_type": "stream",
     "text": [
      "Epoch [263/3000], Train Loss: 0.4125, Train_accuracy: 81.5406460773873, Val Loss: 0.4949, Val_accuracy: 75.99574014909479\n"
     ]
    },
    {
     "name": "stderr",
     "output_type": "stream",
     "text": [
      "  9%|██████████████▊                                                                                                                                                          | 264/3000 [02:46<29:44,  1.53it/s]"
     ]
    },
    {
     "name": "stdout",
     "output_type": "stream",
     "text": [
      "Epoch [264/3000], Train Loss: 0.4125, Train_accuracy: 81.7749378771743, Val Loss: 0.4961, Val_accuracy: 76.08093716719915\n"
     ]
    },
    {
     "name": "stderr",
     "output_type": "stream",
     "text": [
      "  9%|██████████████▉                                                                                                                                                          | 265/3000 [02:46<27:08,  1.68it/s]"
     ]
    },
    {
     "name": "stdout",
     "output_type": "stream",
     "text": [
      "Epoch [265/3000], Train Loss: 0.4120, Train_accuracy: 81.58324458643948, Val Loss: 0.4949, Val_accuracy: 76.03833865814697\n"
     ]
    },
    {
     "name": "stderr",
     "output_type": "stream",
     "text": [
      "  9%|██████████████▉                                                                                                                                                          | 266/3000 [02:47<28:15,  1.61it/s]"
     ]
    },
    {
     "name": "stdout",
     "output_type": "stream",
     "text": [
      "Epoch [266/3000], Train Loss: 0.4114, Train_accuracy: 81.66134185303514, Val Loss: 0.4953, Val_accuracy: 76.01703940362087\n"
     ]
    },
    {
     "name": "stderr",
     "output_type": "stream",
     "text": [
      "  9%|███████████████                                                                                                                                                          | 267/3000 [02:47<28:58,  1.57it/s]"
     ]
    },
    {
     "name": "stdout",
     "output_type": "stream",
     "text": [
      "Epoch [267/3000], Train Loss: 0.4109, Train_accuracy: 81.72523961661342, Val Loss: 0.4946, Val_accuracy: 76.01703940362087\n"
     ]
    },
    {
     "name": "stderr",
     "output_type": "stream",
     "text": [
      "  9%|███████████████                                                                                                                                                          | 268/3000 [02:48<29:25,  1.55it/s]"
     ]
    },
    {
     "name": "stdout",
     "output_type": "stream",
     "text": [
      "Epoch [268/3000], Train Loss: 0.4106, Train_accuracy: 81.68974085906993, Val Loss: 0.4947, Val_accuracy: 75.99574014909479\n"
     ]
    },
    {
     "name": "stderr",
     "output_type": "stream",
     "text": [
      "  9%|███████████████▏                                                                                                                                                         | 269/3000 [02:49<26:53,  1.69it/s]"
     ]
    },
    {
     "name": "stdout",
     "output_type": "stream",
     "text": [
      "Epoch [269/3000], Train Loss: 0.4105, Train_accuracy: 81.70394036208732, Val Loss: 0.4950, Val_accuracy: 76.08093716719915\n"
     ]
    },
    {
     "name": "stderr",
     "output_type": "stream",
     "text": [
      "  9%|███████████████▏                                                                                                                                                         | 270/3000 [02:49<28:02,  1.62it/s]"
     ]
    },
    {
     "name": "stdout",
     "output_type": "stream",
     "text": [
      "Epoch [270/3000], Train Loss: 0.4105, Train_accuracy: 81.73943911963082, Val Loss: 0.4947, Val_accuracy: 76.16613418530352\n"
     ]
    },
    {
     "name": "stderr",
     "output_type": "stream",
     "text": [
      "  9%|███████████████▎                                                                                                                                                         | 271/3000 [02:50<28:45,  1.58it/s]"
     ]
    },
    {
     "name": "stdout",
     "output_type": "stream",
     "text": [
      "Epoch [271/3000], Train Loss: 0.4106, Train_accuracy: 81.80333688320908, Val Loss: 0.4959, Val_accuracy: 76.10223642172524\n"
     ]
    },
    {
     "name": "stderr",
     "output_type": "stream",
     "text": [
      "  9%|███████████████▎                                                                                                                                                         | 272/3000 [02:51<29:17,  1.55it/s]"
     ]
    },
    {
     "name": "stdout",
     "output_type": "stream",
     "text": [
      "Epoch [272/3000], Train Loss: 0.4108, Train_accuracy: 81.5051473198438, Val Loss: 0.4953, Val_accuracy: 75.80404685835995\n"
     ]
    },
    {
     "name": "stderr",
     "output_type": "stream",
     "text": [
      "  9%|███████████████▍                                                                                                                                                         | 273/3000 [02:51<26:50,  1.69it/s]"
     ]
    },
    {
     "name": "stdout",
     "output_type": "stream",
     "text": [
      "Epoch [273/3000], Train Loss: 0.4114, Train_accuracy: 82.04472843450479, Val Loss: 0.4975, Val_accuracy: 75.91054313099042\n"
     ]
    },
    {
     "name": "stderr",
     "output_type": "stream",
     "text": [
      "  9%|███████████████▍                                                                                                                                                         | 274/3000 [02:52<28:02,  1.62it/s]"
     ]
    },
    {
     "name": "stdout",
     "output_type": "stream",
     "text": [
      "Epoch [274/3000], Train Loss: 0.4128, Train_accuracy: 81.2566560170394, Val Loss: 0.4973, Val_accuracy: 75.6762513312034\n"
     ]
    },
    {
     "name": "stderr",
     "output_type": "stream",
     "text": [
      "  9%|███████████████▍                                                                                                                                                         | 275/3000 [02:52<28:40,  1.58it/s]"
     ]
    },
    {
     "name": "stdout",
     "output_type": "stream",
     "text": [
      "Epoch [275/3000], Train Loss: 0.4159, Train_accuracy: 81.75363862264821, Val Loss: 0.5032, Val_accuracy: 75.99574014909479\n"
     ]
    },
    {
     "name": "stderr",
     "output_type": "stream",
     "text": [
      "  9%|███████████████▌                                                                                                                                                         | 276/3000 [02:53<29:13,  1.55it/s]"
     ]
    },
    {
     "name": "stdout",
     "output_type": "stream",
     "text": [
      "Epoch [276/3000], Train Loss: 0.4234, Train_accuracy: 79.96450124245652, Val Loss: 0.5075, Val_accuracy: 74.80298189563365\n"
     ]
    },
    {
     "name": "stderr",
     "output_type": "stream",
     "text": [
      "  9%|███████████████▌                                                                                                                                                         | 277/3000 [02:53<26:44,  1.70it/s]"
     ]
    },
    {
     "name": "stdout",
     "output_type": "stream",
     "text": [
      "Epoch [277/3000], Train Loss: 0.4403, Train_accuracy: 79.91480298189563, Val Loss: 0.5297, Val_accuracy: 75.1863684771033\n"
     ]
    },
    {
     "name": "stderr",
     "output_type": "stream",
     "text": [
      "  9%|███████████████▋                                                                                                                                                         | 278/3000 [02:54<27:50,  1.63it/s]"
     ]
    },
    {
     "name": "stdout",
     "output_type": "stream",
     "text": [
      "Epoch [278/3000], Train Loss: 0.4774, Train_accuracy: 76.07383741569045, Val Loss: 0.5600, Val_accuracy: 71.52289669861555\n"
     ]
    },
    {
     "name": "stderr",
     "output_type": "stream",
     "text": [
      "  9%|███████████████▋                                                                                                                                                         | 279/3000 [02:55<28:34,  1.59it/s]"
     ]
    },
    {
     "name": "stdout",
     "output_type": "stream",
     "text": [
      "Epoch [279/3000], Train Loss: 0.5323, Train_accuracy: 74.15690450834221, Val Loss: 0.6252, Val_accuracy: 70.8839190628328\n"
     ]
    },
    {
     "name": "stderr",
     "output_type": "stream",
     "text": [
      "  9%|███████████████▊                                                                                                                                                         | 280/3000 [02:55<28:59,  1.56it/s]"
     ]
    },
    {
     "name": "stdout",
     "output_type": "stream",
     "text": [
      "Epoch [280/3000], Train Loss: 0.5730, Train_accuracy: 70.61412850550231, Val Loss: 0.6543, Val_accuracy: 67.43343982960596\n"
     ]
    },
    {
     "name": "stderr",
     "output_type": "stream",
     "text": [
      "  9%|███████████████▊                                                                                                                                                         | 281/3000 [02:56<26:45,  1.69it/s]"
     ]
    },
    {
     "name": "stdout",
     "output_type": "stream",
     "text": [
      "Epoch [281/3000], Train Loss: 0.5064, Train_accuracy: 75.66205182818601, Val Loss: 0.5980, Val_accuracy: 72.03407880724174\n"
     ]
    },
    {
     "name": "stderr",
     "output_type": "stream",
     "text": [
      "  9%|███████████████▉                                                                                                                                                         | 282/3000 [02:57<28:07,  1.61it/s]"
     ]
    },
    {
     "name": "stdout",
     "output_type": "stream",
     "text": [
      "Epoch [282/3000], Train Loss: 0.4213, Train_accuracy: 80.30528931487397, Val Loss: 0.5044, Val_accuracy: 74.97337593184238\n"
     ]
    },
    {
     "name": "stderr",
     "output_type": "stream",
     "text": [
      "  9%|███████████████▉                                                                                                                                                         | 283/3000 [02:57<28:51,  1.57it/s]"
     ]
    },
    {
     "name": "stdout",
     "output_type": "stream",
     "text": [
      "Epoch [283/3000], Train Loss: 0.4251, Train_accuracy: 80.13489527866524, Val Loss: 0.5073, Val_accuracy: 74.58998935037273\n"
     ]
    },
    {
     "name": "stderr",
     "output_type": "stream",
     "text": [
      "  9%|███████████████▉                                                                                                                                                         | 284/3000 [02:58<29:29,  1.54it/s]"
     ]
    },
    {
     "name": "stdout",
     "output_type": "stream",
     "text": [
      "Epoch [284/3000], Train Loss: 0.4724, Train_accuracy: 77.67838125665601, Val Loss: 0.5607, Val_accuracy: 73.65282215122471\n"
     ]
    },
    {
     "name": "stderr",
     "output_type": "stream",
     "text": [
      " 10%|████████████████                                                                                                                                                         | 285/3000 [02:58<27:06,  1.67it/s]"
     ]
    },
    {
     "name": "stdout",
     "output_type": "stream",
     "text": [
      "Epoch [285/3000], Train Loss: 0.4443, Train_accuracy: 78.2037628682996, Val Loss: 0.5245, Val_accuracy: 73.61022364217253\n"
     ]
    },
    {
     "name": "stderr",
     "output_type": "stream",
     "text": [
      " 10%|████████████████                                                                                                                                                         | 286/3000 [02:59<28:14,  1.60it/s]"
     ]
    },
    {
     "name": "stdout",
     "output_type": "stream",
     "text": [
      "Epoch [286/3000], Train Loss: 0.4126, Train_accuracy: 81.65424210152645, Val Loss: 0.4944, Val_accuracy: 75.9318423855165\n"
     ]
    },
    {
     "name": "stderr",
     "output_type": "stream",
     "text": [
      " 10%|████████████████▏                                                                                                                                                        | 287/3000 [03:00<28:59,  1.56it/s]"
     ]
    },
    {
     "name": "stdout",
     "output_type": "stream",
     "text": [
      "Epoch [287/3000], Train Loss: 0.4466, Train_accuracy: 79.40362087326943, Val Loss: 0.5318, Val_accuracy: 75.14376996805112\n"
     ]
    },
    {
     "name": "stderr",
     "output_type": "stream",
     "text": [
      " 10%|████████████████▏                                                                                                                                                        | 288/3000 [03:01<29:28,  1.53it/s]"
     ]
    },
    {
     "name": "stdout",
     "output_type": "stream",
     "text": [
      "Epoch [288/3000], Train Loss: 0.4377, Train_accuracy: 78.87823926162584, Val Loss: 0.5167, Val_accuracy: 74.07880724174655\n"
     ]
    },
    {
     "name": "stderr",
     "output_type": "stream",
     "text": [
      " 10%|████████████████▎                                                                                                                                                        | 289/3000 [03:01<27:04,  1.67it/s]"
     ]
    },
    {
     "name": "stdout",
     "output_type": "stream",
     "text": [
      "Epoch [289/3000], Train Loss: 0.4133, Train_accuracy: 81.61874334398296, Val Loss: 0.4939, Val_accuracy: 75.9318423855165\n"
     ]
    },
    {
     "name": "stderr",
     "output_type": "stream",
     "text": [
      " 10%|████████████████▎                                                                                                                                                        | 290/3000 [03:02<28:18,  1.60it/s]"
     ]
    },
    {
     "name": "stdout",
     "output_type": "stream",
     "text": [
      "Epoch [290/3000], Train Loss: 0.4384, Train_accuracy: 80.12069577564785, Val Loss: 0.5218, Val_accuracy: 75.46325878594249\n"
     ]
    },
    {
     "name": "stderr",
     "output_type": "stream",
     "text": [
      " 10%|████████████████▍                                                                                                                                                        | 291/3000 [03:02<28:58,  1.56it/s]"
     ]
    },
    {
     "name": "stdout",
     "output_type": "stream",
     "text": [
      "Epoch [291/3000], Train Loss: 0.4277, Train_accuracy: 80.13489527866524, Val Loss: 0.5064, Val_accuracy: 74.80298189563365\n"
     ]
    },
    {
     "name": "stderr",
     "output_type": "stream",
     "text": [
      " 10%|████████████████▍                                                                                                                                                        | 292/3000 [03:03<29:35,  1.53it/s]"
     ]
    },
    {
     "name": "stdout",
     "output_type": "stream",
     "text": [
      "Epoch [292/3000], Train Loss: 0.4149, Train_accuracy: 81.54774582889598, Val Loss: 0.4945, Val_accuracy: 75.71884984025559\n"
     ]
    },
    {
     "name": "stderr",
     "output_type": "stream",
     "text": [
      " 10%|████████████████▌                                                                                                                                                        | 293/3000 [03:04<27:09,  1.66it/s]"
     ]
    },
    {
     "name": "stdout",
     "output_type": "stream",
     "text": [
      "Epoch [293/3000], Train Loss: 0.4335, Train_accuracy: 80.55378061767838, Val Loss: 0.5161, Val_accuracy: 75.63365282215122\n"
     ]
    },
    {
     "name": "stderr",
     "output_type": "stream",
     "text": [
      " 10%|████████████████▌                                                                                                                                                        | 294/3000 [03:04<28:16,  1.60it/s]"
     ]
    },
    {
     "name": "stdout",
     "output_type": "stream",
     "text": [
      "Epoch [294/3000], Train Loss: 0.4199, Train_accuracy: 81.0223642172524, Val Loss: 0.4988, Val_accuracy: 75.4206602768903\n"
     ]
    },
    {
     "name": "stderr",
     "output_type": "stream",
     "text": [
      " 10%|████████████████▌                                                                                                                                                        | 295/3000 [03:05<28:57,  1.56it/s]"
     ]
    },
    {
     "name": "stdout",
     "output_type": "stream",
     "text": [
      "Epoch [295/3000], Train Loss: 0.4166, Train_accuracy: 81.41285055023074, Val Loss: 0.4958, Val_accuracy: 75.9318423855165\n"
     ]
    },
    {
     "name": "stderr",
     "output_type": "stream",
     "text": [
      " 10%|████████████████▋                                                                                                                                                        | 296/3000 [03:06<29:28,  1.53it/s]"
     ]
    },
    {
     "name": "stdout",
     "output_type": "stream",
     "text": [
      "Epoch [296/3000], Train Loss: 0.4280, Train_accuracy: 81.09336173233937, Val Loss: 0.5105, Val_accuracy: 75.99574014909479\n"
     ]
    },
    {
     "name": "stderr",
     "output_type": "stream",
     "text": [
      " 10%|████████████████▋                                                                                                                                                        | 297/3000 [03:06<27:05,  1.66it/s]"
     ]
    },
    {
     "name": "stdout",
     "output_type": "stream",
     "text": [
      "Epoch [297/3000], Train Loss: 0.4151, Train_accuracy: 81.5051473198438, Val Loss: 0.4947, Val_accuracy: 75.84664536741214\n"
     ]
    },
    {
     "name": "stderr",
     "output_type": "stream",
     "text": [
      " 10%|████████████████▊                                                                                                                                                        | 298/3000 [03:07<28:14,  1.59it/s]"
     ]
    },
    {
     "name": "stdout",
     "output_type": "stream",
     "text": [
      "Epoch [298/3000], Train Loss: 0.4170, Train_accuracy: 81.2566560170394, Val Loss: 0.4965, Val_accuracy: 75.99574014909479\n"
     ]
    },
    {
     "name": "stderr",
     "output_type": "stream",
     "text": [
      " 10%|████████████████▊                                                                                                                                                        | 299/3000 [03:07<28:57,  1.55it/s]"
     ]
    },
    {
     "name": "stdout",
     "output_type": "stream",
     "text": [
      "Epoch [299/3000], Train Loss: 0.4229, Train_accuracy: 81.55484558040469, Val Loss: 0.5056, Val_accuracy: 76.33652822151225\n"
     ]
    },
    {
     "name": "stderr",
     "output_type": "stream",
     "text": [
      " 10%|████████████████▉                                                                                                                                                        | 300/3000 [03:08<29:33,  1.52it/s]"
     ]
    },
    {
     "name": "stdout",
     "output_type": "stream",
     "text": [
      "Epoch [300/3000], Train Loss: 0.4127, Train_accuracy: 81.69684061057863, Val Loss: 0.4932, Val_accuracy: 75.65495207667732\n"
     ]
    },
    {
     "name": "stderr",
     "output_type": "stream",
     "text": [
      " 10%|████████████████▉                                                                                                                                                        | 301/3000 [03:09<27:07,  1.66it/s]"
     ]
    },
    {
     "name": "stdout",
     "output_type": "stream",
     "text": [
      "Epoch [301/3000], Train Loss: 0.4157, Train_accuracy: 81.2708555200568, Val Loss: 0.4959, Val_accuracy: 75.9318423855165\n"
     ]
    },
    {
     "name": "stderr",
     "output_type": "stream",
     "text": [
      " 10%|█████████████████                                                                                                                                                        | 302/3000 [03:09<28:12,  1.59it/s]"
     ]
    },
    {
     "name": "stdout",
     "output_type": "stream",
     "text": [
      "Epoch [302/3000], Train Loss: 0.4192, Train_accuracy: 81.66134185303514, Val Loss: 0.5024, Val_accuracy: 76.37912673056444\n"
     ]
    },
    {
     "name": "stderr",
     "output_type": "stream",
     "text": [
      " 10%|█████████████████                                                                                                                                                        | 303/3000 [03:10<28:55,  1.55it/s]"
     ]
    },
    {
     "name": "stdout",
     "output_type": "stream",
     "text": [
      "Epoch [303/3000], Train Loss: 0.4116, Train_accuracy: 81.83173588924387, Val Loss: 0.4930, Val_accuracy: 75.6762513312034\n"
     ]
    },
    {
     "name": "stderr",
     "output_type": "stream",
     "text": [
      " 10%|█████████████████▏                                                                                                                                                       | 304/3000 [03:11<29:23,  1.53it/s]"
     ]
    },
    {
     "name": "stdout",
     "output_type": "stream",
     "text": [
      "Epoch [304/3000], Train Loss: 0.4133, Train_accuracy: 81.5193468228612, Val Loss: 0.4946, Val_accuracy: 75.86794462193824\n"
     ]
    },
    {
     "name": "stderr",
     "output_type": "stream",
     "text": [
      " 10%|█████████████████▏                                                                                                                                                       | 305/3000 [03:11<26:58,  1.66it/s]"
     ]
    },
    {
     "name": "stdout",
     "output_type": "stream",
     "text": [
      "Epoch [305/3000], Train Loss: 0.4167, Train_accuracy: 81.80333688320908, Val Loss: 0.5007, Val_accuracy: 76.33652822151225\n"
     ]
    },
    {
     "name": "stderr",
     "output_type": "stream",
     "text": [
      " 10%|█████████████████▏                                                                                                                                                       | 306/3000 [03:12<28:12,  1.59it/s]"
     ]
    },
    {
     "name": "stdout",
     "output_type": "stream",
     "text": [
      "Epoch [306/3000], Train Loss: 0.4115, Train_accuracy: 81.68974085906993, Val Loss: 0.4936, Val_accuracy: 76.08093716719915\n"
     ]
    },
    {
     "name": "stderr",
     "output_type": "stream",
     "text": [
      " 10%|█████████████████▎                                                                                                                                                       | 307/3000 [03:12<28:51,  1.56it/s]"
     ]
    },
    {
     "name": "stdout",
     "output_type": "stream",
     "text": [
      "Epoch [307/3000], Train Loss: 0.4105, Train_accuracy: 81.73233936812211, Val Loss: 0.4931, Val_accuracy: 76.01703940362087\n"
     ]
    },
    {
     "name": "stderr",
     "output_type": "stream",
     "text": [
      " 10%|█████████████████▎                                                                                                                                                       | 308/3000 [03:13<29:08,  1.54it/s]"
     ]
    },
    {
     "name": "stdout",
     "output_type": "stream",
     "text": [
      "Epoch [308/3000], Train Loss: 0.4142, Train_accuracy: 81.84593539226127, Val Loss: 0.4989, Val_accuracy: 76.31522896698615\n"
     ]
    },
    {
     "name": "stderr",
     "output_type": "stream",
     "text": [
      " 10%|█████████████████▍                                                                                                                                                       | 309/3000 [03:14<26:21,  1.70it/s]"
     ]
    },
    {
     "name": "stdout",
     "output_type": "stream",
     "text": [
      "Epoch [309/3000], Train Loss: 0.4124, Train_accuracy: 81.34895278665246, Val Loss: 0.4952, Val_accuracy: 75.78274760383387\n"
     ]
    },
    {
     "name": "stderr",
     "output_type": "stream",
     "text": [
      " 10%|█████████████████▍                                                                                                                                                       | 310/3000 [03:14<27:13,  1.65it/s]"
     ]
    },
    {
     "name": "stdout",
     "output_type": "stream",
     "text": [
      "Epoch [310/3000], Train Loss: 0.4089, Train_accuracy: 81.90273340433085, Val Loss: 0.4931, Val_accuracy: 76.35782747603834\n"
     ]
    },
    {
     "name": "stderr",
     "output_type": "stream",
     "text": [
      " 10%|█████████████████▌                                                                                                                                                       | 311/3000 [03:15<27:53,  1.61it/s]"
     ]
    },
    {
     "name": "stdout",
     "output_type": "stream",
     "text": [
      "Epoch [311/3000], Train Loss: 0.4103, Train_accuracy: 81.91693290734824, Val Loss: 0.4955, Val_accuracy: 76.23003194888179\n"
     ]
    },
    {
     "name": "stderr",
     "output_type": "stream",
     "text": [
      " 10%|█████████████████▌                                                                                                                                                       | 312/3000 [03:16<28:13,  1.59it/s]"
     ]
    },
    {
     "name": "stdout",
     "output_type": "stream",
     "text": [
      "Epoch [312/3000], Train Loss: 0.4122, Train_accuracy: 81.36315228966986, Val Loss: 0.4959, Val_accuracy: 75.74014909478169\n"
     ]
    },
    {
     "name": "stderr",
     "output_type": "stream",
     "text": [
      " 10%|█████████████████▋                                                                                                                                                       | 313/3000 [03:16<25:43,  1.74it/s]"
     ]
    },
    {
     "name": "stdout",
     "output_type": "stream",
     "text": [
      "Epoch [313/3000], Train Loss: 0.4101, Train_accuracy: 82.0376286829961, Val Loss: 0.4962, Val_accuracy: 76.33652822151225\n"
     ]
    },
    {
     "name": "stderr",
     "output_type": "stream",
     "text": [
      " 10%|█████████████████▋                                                                                                                                                       | 314/3000 [03:17<26:49,  1.67it/s]"
     ]
    },
    {
     "name": "stdout",
     "output_type": "stream",
     "text": [
      "Epoch [314/3000], Train Loss: 0.4078, Train_accuracy: 81.89563365282216, Val Loss: 0.4931, Val_accuracy: 76.2087326943557\n"
     ]
    },
    {
     "name": "stderr",
     "output_type": "stream",
     "text": [
      " 10%|█████████████████▋                                                                                                                                                       | 315/3000 [03:17<27:25,  1.63it/s]"
     ]
    },
    {
     "name": "stdout",
     "output_type": "stream",
     "text": [
      "Epoch [315/3000], Train Loss: 0.4083, Train_accuracy: 81.72523961661342, Val Loss: 0.4937, Val_accuracy: 75.9318423855165\n"
     ]
    },
    {
     "name": "stderr",
     "output_type": "stream",
     "text": [
      " 11%|█████████████████▊                                                                                                                                                       | 316/3000 [03:18<27:59,  1.60it/s]"
     ]
    },
    {
     "name": "stdout",
     "output_type": "stream",
     "text": [
      "Epoch [316/3000], Train Loss: 0.4099, Train_accuracy: 82.0234291799787, Val Loss: 0.4970, Val_accuracy: 76.1874334398296\n"
     ]
    },
    {
     "name": "stderr",
     "output_type": "stream",
     "text": [
      " 11%|█████████████████▊                                                                                                                                                       | 317/3000 [03:18<25:30,  1.75it/s]"
     ]
    },
    {
     "name": "stdout",
     "output_type": "stream",
     "text": [
      "Epoch [317/3000], Train Loss: 0.4096, Train_accuracy: 81.61164359247427, Val Loss: 0.4953, Val_accuracy: 75.91054313099042\n"
     ]
    },
    {
     "name": "stderr",
     "output_type": "stream",
     "text": [
      " 11%|█████████████████▉                                                                                                                                                       | 318/3000 [03:19<26:42,  1.67it/s]"
     ]
    },
    {
     "name": "stdout",
     "output_type": "stream",
     "text": [
      "Epoch [318/3000], Train Loss: 0.4078, Train_accuracy: 82.01632942847, Val Loss: 0.4953, Val_accuracy: 76.2087326943557\n"
     ]
    },
    {
     "name": "stderr",
     "output_type": "stream",
     "text": [
      " 11%|█████████████████▉                                                                                                                                                       | 319/3000 [03:20<27:27,  1.63it/s]"
     ]
    },
    {
     "name": "stdout",
     "output_type": "stream",
     "text": [
      "Epoch [319/3000], Train Loss: 0.4065, Train_accuracy: 81.84593539226127, Val Loss: 0.4935, Val_accuracy: 76.25133120340789\n"
     ]
    },
    {
     "name": "stderr",
     "output_type": "stream",
     "text": [
      " 11%|██████████████████                                                                                                                                                       | 320/3000 [03:20<27:57,  1.60it/s]"
     ]
    },
    {
     "name": "stdout",
     "output_type": "stream",
     "text": [
      "Epoch [320/3000], Train Loss: 0.4066, Train_accuracy: 81.78913738019169, Val Loss: 0.4937, Val_accuracy: 76.1874334398296\n"
     ]
    },
    {
     "name": "stderr",
     "output_type": "stream",
     "text": [
      " 11%|██████████████████                                                                                                                                                       | 321/3000 [03:21<25:31,  1.75it/s]"
     ]
    },
    {
     "name": "stdout",
     "output_type": "stream",
     "text": [
      "Epoch [321/3000], Train Loss: 0.4075, Train_accuracy: 82.20802271920483, Val Loss: 0.4959, Val_accuracy: 75.97444089456869\n"
     ]
    },
    {
     "name": "stderr",
     "output_type": "stream",
     "text": [
      " 11%|██████████████████▏                                                                                                                                                      | 322/3000 [03:21<26:39,  1.67it/s]"
     ]
    },
    {
     "name": "stdout",
     "output_type": "stream",
     "text": [
      "Epoch [322/3000], Train Loss: 0.4081, Train_accuracy: 81.59034433794817, Val Loss: 0.4954, Val_accuracy: 75.84664536741214\n"
     ]
    },
    {
     "name": "stderr",
     "output_type": "stream",
     "text": [
      " 11%|██████████████████▏                                                                                                                                                      | 323/3000 [03:22<27:18,  1.63it/s]"
     ]
    },
    {
     "name": "stdout",
     "output_type": "stream",
     "text": [
      "Epoch [323/3000], Train Loss: 0.4081, Train_accuracy: 82.20802271920483, Val Loss: 0.4973, Val_accuracy: 76.1874334398296\n"
     ]
    },
    {
     "name": "stderr",
     "output_type": "stream",
     "text": [
      " 11%|██████████████████▎                                                                                                                                                      | 324/3000 [03:23<27:51,  1.60it/s]"
     ]
    },
    {
     "name": "stdout",
     "output_type": "stream",
     "text": [
      "Epoch [324/3000], Train Loss: 0.4074, Train_accuracy: 81.68974085906993, Val Loss: 0.4953, Val_accuracy: 75.82534611288605\n"
     ]
    },
    {
     "name": "stderr",
     "output_type": "stream",
     "text": [
      " 11%|██████████████████▎                                                                                                                                                      | 325/3000 [03:23<25:24,  1.75it/s]"
     ]
    },
    {
     "name": "stdout",
     "output_type": "stream",
     "text": [
      "Epoch [325/3000], Train Loss: 0.4066, Train_accuracy: 82.24352147674831, Val Loss: 0.4962, Val_accuracy: 76.16613418530352\n"
     ]
    },
    {
     "name": "stderr",
     "output_type": "stream",
     "text": [
      " 11%|██████████████████▎                                                                                                                                                      | 326/3000 [03:24<26:33,  1.68it/s]"
     ]
    },
    {
     "name": "stdout",
     "output_type": "stream",
     "text": [
      "Epoch [326/3000], Train Loss: 0.4058, Train_accuracy: 81.86013489527866, Val Loss: 0.4945, Val_accuracy: 76.05963791267305\n"
     ]
    },
    {
     "name": "stderr",
     "output_type": "stream",
     "text": [
      " 11%|██████████████████▍                                                                                                                                                      | 327/3000 [03:25<27:17,  1.63it/s]"
     ]
    },
    {
     "name": "stdout",
     "output_type": "stream",
     "text": [
      "Epoch [327/3000], Train Loss: 0.4052, Train_accuracy: 82.12282570110047, Val Loss: 0.4950, Val_accuracy: 76.16613418530352\n"
     ]
    },
    {
     "name": "stderr",
     "output_type": "stream",
     "text": [
      " 11%|██████████████████▍                                                                                                                                                      | 328/3000 [03:25<27:43,  1.61it/s]"
     ]
    },
    {
     "name": "stdout",
     "output_type": "stream",
     "text": [
      "Epoch [328/3000], Train Loss: 0.4048, Train_accuracy: 82.08022719204828, Val Loss: 0.4941, Val_accuracy: 76.2087326943557\n"
     ]
    },
    {
     "name": "stderr",
     "output_type": "stream",
     "text": [
      " 11%|██████████████████▌                                                                                                                                                      | 329/3000 [03:26<25:21,  1.76it/s]"
     ]
    },
    {
     "name": "stdout",
     "output_type": "stream",
     "text": [
      "Epoch [329/3000], Train Loss: 0.4044, Train_accuracy: 82.07312744053958, Val Loss: 0.4946, Val_accuracy: 76.08093716719915\n"
     ]
    },
    {
     "name": "stderr",
     "output_type": "stream",
     "text": [
      " 11%|██████████████████▌                                                                                                                                                      | 330/3000 [03:26<26:31,  1.68it/s]"
     ]
    },
    {
     "name": "stdout",
     "output_type": "stream",
     "text": [
      "Epoch [330/3000], Train Loss: 0.4042, Train_accuracy: 81.92403265885694, Val Loss: 0.4941, Val_accuracy: 76.2087326943557\n"
     ]
    },
    {
     "name": "stderr",
     "output_type": "stream",
     "text": [
      " 11%|██████████████████▋                                                                                                                                                      | 331/3000 [03:27<27:17,  1.63it/s]"
     ]
    },
    {
     "name": "stdout",
     "output_type": "stream",
     "text": [
      "Epoch [331/3000], Train Loss: 0.4040, Train_accuracy: 82.0234291799787, Val Loss: 0.4945, Val_accuracy: 76.08093716719915\n"
     ]
    },
    {
     "name": "stderr",
     "output_type": "stream",
     "text": [
      " 11%|██████████████████▋                                                                                                                                                      | 332/3000 [03:28<27:52,  1.60it/s]"
     ]
    },
    {
     "name": "stdout",
     "output_type": "stream",
     "text": [
      "Epoch [332/3000], Train Loss: 0.4038, Train_accuracy: 82.0376286829961, Val Loss: 0.4942, Val_accuracy: 76.1874334398296\n"
     ]
    },
    {
     "name": "stderr",
     "output_type": "stream",
     "text": [
      " 11%|██████████████████▊                                                                                                                                                      | 333/3000 [03:28<25:26,  1.75it/s]"
     ]
    },
    {
     "name": "stdout",
     "output_type": "stream",
     "text": [
      "Epoch [333/3000], Train Loss: 0.4037, Train_accuracy: 82.15122470713526, Val Loss: 0.4948, Val_accuracy: 76.01703940362087\n"
     ]
    },
    {
     "name": "stderr",
     "output_type": "stream",
     "text": [
      " 11%|██████████████████▊                                                                                                                                                      | 334/3000 [03:29<26:30,  1.68it/s]"
     ]
    },
    {
     "name": "stdout",
     "output_type": "stream",
     "text": [
      "Epoch [334/3000], Train Loss: 0.4038, Train_accuracy: 82.0021299254526, Val Loss: 0.4945, Val_accuracy: 76.31522896698615\n"
     ]
    },
    {
     "name": "stderr",
     "output_type": "stream",
     "text": [
      " 11%|██████████████████▊                                                                                                                                                      | 335/3000 [03:29<27:15,  1.63it/s]"
     ]
    },
    {
     "name": "stdout",
     "output_type": "stream",
     "text": [
      "Epoch [335/3000], Train Loss: 0.4046, Train_accuracy: 82.35711750088747, Val Loss: 0.4965, Val_accuracy: 76.16613418530352\n"
     ]
    },
    {
     "name": "stderr",
     "output_type": "stream",
     "text": [
      " 11%|██████████████████▉                                                                                                                                                      | 336/3000 [03:30<27:47,  1.60it/s]"
     ]
    },
    {
     "name": "stdout",
     "output_type": "stream",
     "text": [
      "Epoch [336/3000], Train Loss: 0.4073, Train_accuracy: 81.5264465743699, Val Loss: 0.4976, Val_accuracy: 75.61235356762514\n"
     ]
    },
    {
     "name": "stderr",
     "output_type": "stream",
     "text": [
      " 11%|██████████████████▉                                                                                                                                                      | 337/3000 [03:30<25:23,  1.75it/s]"
     ]
    },
    {
     "name": "stdout",
     "output_type": "stream",
     "text": [
      "Epoch [337/3000], Train Loss: 0.4162, Train_accuracy: 81.53354632587859, Val Loss: 0.5100, Val_accuracy: 76.25133120340789\n"
     ]
    },
    {
     "name": "stderr",
     "output_type": "stream",
     "text": [
      " 11%|███████████████████                                                                                                                                                      | 338/3000 [03:31<26:32,  1.67it/s]"
     ]
    },
    {
     "name": "stdout",
     "output_type": "stream",
     "text": [
      "Epoch [338/3000], Train Loss: 0.4454, Train_accuracy: 78.2250621228257, Val Loss: 0.5343, Val_accuracy: 72.94994675186368\n"
     ]
    },
    {
     "name": "stderr",
     "output_type": "stream",
     "text": [
      " 11%|███████████████████                                                                                                                                                      | 339/3000 [03:32<27:16,  1.63it/s]"
     ]
    },
    {
     "name": "stdout",
     "output_type": "stream",
     "text": [
      "Epoch [339/3000], Train Loss: 0.5283, Train_accuracy: 74.49769258075968, Val Loss: 0.6274, Val_accuracy: 70.6283280085197\n"
     ]
    },
    {
     "name": "stderr",
     "output_type": "stream",
     "text": [
      " 11%|███████████████████▏                                                                                                                                                     | 340/3000 [03:32<27:49,  1.59it/s]"
     ]
    },
    {
     "name": "stdout",
     "output_type": "stream",
     "text": [
      "Epoch [340/3000], Train Loss: 0.6932, Train_accuracy: 65.73659921902734, Val Loss: 0.7803, Val_accuracy: 63.51437699680511\n"
     ]
    },
    {
     "name": "stderr",
     "output_type": "stream",
     "text": [
      " 11%|███████████████████▏                                                                                                                                                     | 341/3000 [03:33<25:20,  1.75it/s]"
     ]
    },
    {
     "name": "stdout",
     "output_type": "stream",
     "text": [
      "Epoch [341/3000], Train Loss: 0.6947, Train_accuracy: 66.41817536386226, Val Loss: 0.7968, Val_accuracy: 64.17465388711395\n"
     ]
    },
    {
     "name": "stderr",
     "output_type": "stream",
     "text": [
      " 11%|███████████████████▎                                                                                                                                                     | 342/3000 [03:34<26:23,  1.68it/s]"
     ]
    },
    {
     "name": "stdout",
     "output_type": "stream",
     "text": [
      "Epoch [342/3000], Train Loss: 0.4957, Train_accuracy: 74.84558040468583, Val Loss: 0.5819, Val_accuracy: 70.18104366347178\n"
     ]
    },
    {
     "name": "stderr",
     "output_type": "stream",
     "text": [
      " 11%|███████████████████▎                                                                                                                                                     | 343/3000 [03:34<27:09,  1.63it/s]"
     ]
    },
    {
     "name": "stdout",
     "output_type": "stream",
     "text": [
      "Epoch [343/3000], Train Loss: 0.4112, Train_accuracy: 81.60454384096556, Val Loss: 0.4986, Val_accuracy: 75.9318423855165\n"
     ]
    },
    {
     "name": "stderr",
     "output_type": "stream",
     "text": [
      " 11%|███████████████████▍                                                                                                                                                     | 344/3000 [03:35<27:44,  1.60it/s]"
     ]
    },
    {
     "name": "stdout",
     "output_type": "stream",
     "text": [
      "Epoch [344/3000], Train Loss: 0.5257, Train_accuracy: 74.62548810791623, Val Loss: 0.6198, Val_accuracy: 70.82002129925452\n"
     ]
    },
    {
     "name": "stderr",
     "output_type": "stream",
     "text": [
      " 12%|███████████████████▍                                                                                                                                                     | 345/3000 [03:35<25:29,  1.74it/s]"
     ]
    },
    {
     "name": "stdout",
     "output_type": "stream",
     "text": [
      "Epoch [345/3000], Train Loss: 0.4819, Train_accuracy: 76.06673766418176, Val Loss: 0.5643, Val_accuracy: 71.43769968051119\n"
     ]
    },
    {
     "name": "stderr",
     "output_type": "stream",
     "text": [
      " 12%|███████████████████▍                                                                                                                                                     | 346/3000 [03:36<26:43,  1.65it/s]"
     ]
    },
    {
     "name": "stdout",
     "output_type": "stream",
     "text": [
      "Epoch [346/3000], Train Loss: 0.4162, Train_accuracy: 81.19275825346112, Val Loss: 0.4995, Val_accuracy: 75.74014909478169\n"
     ]
    },
    {
     "name": "stderr",
     "output_type": "stream",
     "text": [
      " 12%|███████████████████▌                                                                                                                                                     | 347/3000 [03:37<27:28,  1.61it/s]"
     ]
    },
    {
     "name": "stdout",
     "output_type": "stream",
     "text": [
      "Epoch [347/3000], Train Loss: 0.4969, Train_accuracy: 76.25843095491658, Val Loss: 0.5857, Val_accuracy: 72.43876464323749\n"
     ]
    },
    {
     "name": "stderr",
     "output_type": "stream",
     "text": [
      " 12%|███████████████████▌                                                                                                                                                     | 348/3000 [03:37<28:03,  1.58it/s]"
     ]
    },
    {
     "name": "stdout",
     "output_type": "stream",
     "text": [
      "Epoch [348/3000], Train Loss: 0.4283, Train_accuracy: 80.09229676961306, Val Loss: 0.5087, Val_accuracy: 74.65388711395101\n"
     ]
    },
    {
     "name": "stderr",
     "output_type": "stream",
     "text": [
      " 12%|███████████████████▋                                                                                                                                                     | 349/3000 [03:38<25:38,  1.72it/s]"
     ]
    },
    {
     "name": "stdout",
     "output_type": "stream",
     "text": [
      "Epoch [349/3000], Train Loss: 0.4463, Train_accuracy: 78.26766063187789, Val Loss: 0.5251, Val_accuracy: 73.65282215122471\n"
     ]
    },
    {
     "name": "stderr",
     "output_type": "stream",
     "text": [
      " 12%|███████████████████▋                                                                                                                                                     | 349/3000 [03:38<27:41,  1.60it/s]\n"
     ]
    },
    {
     "ename": "KeyboardInterrupt",
     "evalue": "",
     "output_type": "error",
     "traceback": [
      "\u001b[0;31m---------------------------------------------------------------------------\u001b[0m",
      "\u001b[0;31mKeyboardInterrupt\u001b[0m                         Traceback (most recent call last)",
      "Cell \u001b[0;32mIn[6], line 439\u001b[0m\n\u001b[1;32m    432\u001b[0m         masking_df[i]\u001b[38;5;241m.\u001b[39mto_csv(\u001b[38;5;28mstr\u001b[39m(config[\u001b[38;5;124m'\u001b[39m\u001b[38;5;124mmodel_output\u001b[39m\u001b[38;5;124m'\u001b[39m][\u001b[38;5;124m'\u001b[39m\u001b[38;5;124mmodel_save_dir\u001b[39m\u001b[38;5;124m'\u001b[39m])\u001b[38;5;241m+\u001b[39m date_string\u001b[38;5;241m+\u001b[39m \u001b[38;5;124m'\u001b[39m\u001b[38;5;124m/\u001b[39m\u001b[38;5;124m'\u001b[39m \u001b[38;5;241m+\u001b[39m\u001b[38;5;124mf\u001b[39m\u001b[38;5;124m'\u001b[39m\u001b[38;5;124mmasking_df_\u001b[39m\u001b[38;5;132;01m{\u001b[39;00mi\u001b[38;5;132;01m}\u001b[39;00m\u001b[38;5;124m.csv\u001b[39m\u001b[38;5;124m'\u001b[39m)\n\u001b[1;32m    436\u001b[0m     \u001b[38;5;28;01mreturn\u001b[39;00m model_dict_sparse, val_dataloader, test_dataloader, train_dataloader, train_x, train_y, val_x, y_val, test_x, y_test, config\n\u001b[0;32m--> 439\u001b[0m model_dict_sparse, val_dataloader, test_dataloader, train_dataloader,train_x, train_y, val_x, y_val, test_x, y_test, config \u001b[38;5;241m=\u001b[39m \u001b[43mmain_file\u001b[49m\u001b[43m(\u001b[49m\u001b[43mpath_config\u001b[49m\u001b[38;5;241;43m=\u001b[39;49m\u001b[43m \u001b[49m\u001b[43mpath_config\u001b[49m\u001b[43m)\u001b[49m\n\u001b[1;32m    440\u001b[0m \u001b[38;5;28;01mfor\u001b[39;00m j,i \u001b[38;5;129;01min\u001b[39;00m model_dict_sparse\u001b[38;5;241m.\u001b[39mitems():\n\u001b[1;32m    441\u001b[0m \n\u001b[1;32m    442\u001b[0m \u001b[38;5;66;03m# Assuming 'model' is your neural network\u001b[39;00m\n\u001b[1;32m    443\u001b[0m     torch\u001b[38;5;241m.\u001b[39msave(i\u001b[38;5;241m.\u001b[39mstate_dict(), \u001b[38;5;124mf\u001b[39m\u001b[38;5;124m'\u001b[39m\u001b[38;5;132;01m{\u001b[39;00mconfig[\u001b[38;5;124m'\u001b[39m\u001b[38;5;124mmodel_output\u001b[39m\u001b[38;5;124m'\u001b[39m][\u001b[38;5;124m'\u001b[39m\u001b[38;5;124mmodel_save_dir\u001b[39m\u001b[38;5;124m'\u001b[39m]\u001b[38;5;132;01m}\u001b[39;00m\u001b[38;5;132;01m{\u001b[39;00mconfig[\u001b[38;5;124m'\u001b[39m\u001b[38;5;124mdate_string\u001b[39m\u001b[38;5;124m'\u001b[39m]\u001b[38;5;132;01m}\u001b[39;00m\u001b[38;5;124m/model_\u001b[39m\u001b[38;5;132;01m{\u001b[39;00mj\u001b[38;5;132;01m}\u001b[39;00m\u001b[38;5;124m_state_dict_jupyter_notebook.pth\u001b[39m\u001b[38;5;124m'\u001b[39m)\n",
      "Cell \u001b[0;32mIn[6], line 402\u001b[0m, in \u001b[0;36mmain_file\u001b[0;34m(path_config)\u001b[0m\n\u001b[1;32m    400\u001b[0m     \u001b[38;5;28;01mif\u001b[39;00m config[\u001b[38;5;124m'\u001b[39m\u001b[38;5;124mgene_expression\u001b[39m\u001b[38;5;124m'\u001b[39m][\u001b[38;5;124m'\u001b[39m\u001b[38;5;124mprint_information\u001b[39m\u001b[38;5;124m'\u001b[39m]:\n\u001b[1;32m    401\u001b[0m         \u001b[38;5;28mprint\u001b[39m(\u001b[38;5;124m\"\u001b[39m\u001b[38;5;124mCurrent sub-neural network has \u001b[39m\u001b[38;5;124m\"\u001b[39m \u001b[38;5;241m+\u001b[39m \u001b[38;5;28mstr\u001b[39m(output_layer \u001b[38;5;241m-\u001b[39m \u001b[38;5;241m1\u001b[39m) \u001b[38;5;241m+\u001b[39m \u001b[38;5;124m\"\u001b[39m\u001b[38;5;124m hidden layers.\u001b[39m\u001b[38;5;124m\"\u001b[39m)\n\u001b[0;32m--> 402\u001b[0m     output_train, output_val,model_dict_sparse[output_layer] \u001b[38;5;241m=\u001b[39m \u001b[43mmodel\u001b[49m\u001b[43m(\u001b[49m\u001b[43mtrain_dataloader\u001b[49m\u001b[43m,\u001b[49m\n\u001b[1;32m    403\u001b[0m \u001b[43m                                        \u001b[49m\u001b[43mval_dataloader\u001b[49m\u001b[43m,\u001b[49m\u001b[43mtest_dataloader\u001b[49m\u001b[43m,\u001b[49m\u001b[43m \u001b[49m\u001b[43mtest_cell_id\u001b[49m\u001b[43m,\u001b[49m\n\u001b[1;32m    404\u001b[0m \u001b[43m                                        \u001b[49m\u001b[43mlayers_node\u001b[49m\u001b[43m,\u001b[49m\n\u001b[1;32m    405\u001b[0m \u001b[43m                                        \u001b[49m\u001b[43mmasking\u001b[49m\u001b[43m,\u001b[49m\n\u001b[1;32m    406\u001b[0m \u001b[43m                                        \u001b[49m\u001b[43moutput_layer\u001b[49m\u001b[43m,\u001b[49m\n\u001b[1;32m    407\u001b[0m \u001b[43m                                        \u001b[49m\u001b[43mmodel_save_dir\u001b[49m\u001b[43m \u001b[49m\u001b[38;5;241;43m=\u001b[39;49m\u001b[43m \u001b[49m\u001b[43mconfig\u001b[49m\u001b[43m[\u001b[49m\u001b[38;5;124;43m'\u001b[39;49m\u001b[38;5;124;43mmodel_output\u001b[39;49m\u001b[38;5;124;43m'\u001b[39;49m\u001b[43m]\u001b[49m\u001b[43m[\u001b[49m\u001b[38;5;124;43m'\u001b[39;49m\u001b[38;5;124;43mmodel_save_dir\u001b[39;49m\u001b[38;5;124;43m'\u001b[39;49m\u001b[43m]\u001b[49m\u001b[43m,\u001b[49m\u001b[43mdate_string\u001b[49m\u001b[43m \u001b[49m\u001b[38;5;241;43m=\u001b[39;49m\u001b[43m \u001b[49m\u001b[43mdate_string\u001b[49m\u001b[43m,\u001b[49m\n\u001b[1;32m    408\u001b[0m \u001b[43m                                        \u001b[49m\u001b[43mlearning_rate\u001b[49m\u001b[38;5;241;43m=\u001b[39;49m\u001b[43mconfig\u001b[49m\u001b[43m[\u001b[49m\u001b[38;5;124;43m'\u001b[39;49m\u001b[38;5;124;43mtrain\u001b[39;49m\u001b[38;5;124;43m'\u001b[39;49m\u001b[43m]\u001b[49m\u001b[43m[\u001b[49m\u001b[38;5;124;43m'\u001b[39;49m\u001b[38;5;124;43mlearning_rate\u001b[39;49m\u001b[38;5;124;43m'\u001b[39;49m\u001b[43m]\u001b[49m\u001b[43m,\u001b[49m\u001b[43mnum_epochs\u001b[49m\u001b[38;5;241;43m=\u001b[39;49m\u001b[43mconfig\u001b[49m\u001b[43m[\u001b[49m\u001b[38;5;124;43m'\u001b[39;49m\u001b[38;5;124;43mtrain\u001b[39;49m\u001b[38;5;124;43m'\u001b[39;49m\u001b[43m]\u001b[49m\u001b[43m[\u001b[49m\u001b[38;5;124;43m'\u001b[39;49m\u001b[38;5;124;43mepochs\u001b[39;49m\u001b[38;5;124;43m'\u001b[39;49m\u001b[43m]\u001b[49m\u001b[43m,\u001b[49m\u001b[43mweight_decay\u001b[49m\u001b[43m \u001b[49m\u001b[38;5;241;43m=\u001b[39;49m\u001b[43m \u001b[49m\u001b[43mconfig\u001b[49m\u001b[43m[\u001b[49m\u001b[38;5;124;43m'\u001b[39;49m\u001b[38;5;124;43mtrain\u001b[39;49m\u001b[38;5;124;43m'\u001b[39;49m\u001b[43m]\u001b[49m\u001b[43m[\u001b[49m\u001b[38;5;124;43m'\u001b[39;49m\u001b[38;5;124;43mweight_decay\u001b[39;49m\u001b[38;5;124;43m'\u001b[39;49m\u001b[43m]\u001b[49m\n\u001b[1;32m    409\u001b[0m \u001b[43m                                    \u001b[49m\u001b[43m)\u001b[49m  \n\u001b[1;32m    411\u001b[0m \u001b[38;5;28mprint\u001b[39m(\u001b[38;5;124m'\u001b[39m\u001b[38;5;124mtranining_fully_connected_layers:\u001b[39m\u001b[38;5;124m'\u001b[39m)\n\u001b[1;32m    412\u001b[0m \u001b[38;5;28;01mfor\u001b[39;00m output_layer \u001b[38;5;129;01min\u001b[39;00m \u001b[38;5;28mrange\u001b[39m(\u001b[38;5;241m2\u001b[39m, \u001b[38;5;28mlen\u001b[39m(masking) \u001b[38;5;241m+\u001b[39m \u001b[38;5;241m2\u001b[39m):\n",
      "Cell \u001b[0;32mIn[6], line 237\u001b[0m, in \u001b[0;36mmodel\u001b[0;34m(train_dataloader, val_dataloader, test_dataloader, test_cell_id, layers_node, masking, output_layer, model_save_dir, date_string, learning_rate, num_epochs, weight_decay)\u001b[0m\n\u001b[1;32m    232\u001b[0m     loss\u001b[38;5;241m.\u001b[39mbackward()\n\u001b[1;32m    233\u001b[0m     optimizer\u001b[38;5;241m.\u001b[39mstep()\n\u001b[0;32m--> 237\u001b[0m train_accuracy, train_loss, predicted_list_train, labels_list_train, train_probability_list \u001b[38;5;241m=\u001b[39m \u001b[43mevaluate\u001b[49m\u001b[43m(\u001b[49m\u001b[43mmodel_nn\u001b[49m\u001b[43m,\u001b[49m\u001b[43m \u001b[49m\u001b[43mtrain_dataloader\u001b[49m\u001b[43m)\u001b[49m\n\u001b[1;32m    238\u001b[0m val_accuracy, val_loss, predicted_list_val, labels_list_val, val_probability_list \u001b[38;5;241m=\u001b[39m evaluate(model_nn, val_dataloader)\n\u001b[1;32m    239\u001b[0m \u001b[38;5;66;03m#scheduler.step(val_accuracy)\u001b[39;00m\n",
      "Cell \u001b[0;32mIn[6], line 78\u001b[0m, in \u001b[0;36mevaluate\u001b[0;34m(model, dataloader)\u001b[0m\n\u001b[1;32m     76\u001b[0m \u001b[38;5;28;01mwith\u001b[39;00m torch\u001b[38;5;241m.\u001b[39mno_grad():  \u001b[38;5;66;03m# No need to compute gradients during evaluation\u001b[39;00m\n\u001b[1;32m     77\u001b[0m     \u001b[38;5;28;01mfor\u001b[39;00m features, labels \u001b[38;5;129;01min\u001b[39;00m dataloader:\n\u001b[0;32m---> 78\u001b[0m         outputs \u001b[38;5;241m=\u001b[39m \u001b[43mmodel\u001b[49m\u001b[43m(\u001b[49m\u001b[43mfeatures\u001b[49m\u001b[43m)\u001b[49m\n\u001b[1;32m     79\u001b[0m         \u001b[38;5;66;03m#print(outputs)\u001b[39;00m\n\u001b[1;32m     80\u001b[0m         probability \u001b[38;5;241m=\u001b[39m torch\u001b[38;5;241m.\u001b[39msigmoid(outputs\u001b[38;5;241m.\u001b[39mdata)\n",
      "File \u001b[0;32m~/.local/lib/python3.12/site-packages/torch/nn/modules/module.py:1532\u001b[0m, in \u001b[0;36mModule._wrapped_call_impl\u001b[0;34m(self, *args, **kwargs)\u001b[0m\n\u001b[1;32m   1530\u001b[0m     \u001b[38;5;28;01mreturn\u001b[39;00m \u001b[38;5;28mself\u001b[39m\u001b[38;5;241m.\u001b[39m_compiled_call_impl(\u001b[38;5;241m*\u001b[39margs, \u001b[38;5;241m*\u001b[39m\u001b[38;5;241m*\u001b[39mkwargs)  \u001b[38;5;66;03m# type: ignore[misc]\u001b[39;00m\n\u001b[1;32m   1531\u001b[0m \u001b[38;5;28;01melse\u001b[39;00m:\n\u001b[0;32m-> 1532\u001b[0m     \u001b[38;5;28;01mreturn\u001b[39;00m \u001b[38;5;28;43mself\u001b[39;49m\u001b[38;5;241;43m.\u001b[39;49m\u001b[43m_call_impl\u001b[49m\u001b[43m(\u001b[49m\u001b[38;5;241;43m*\u001b[39;49m\u001b[43margs\u001b[49m\u001b[43m,\u001b[49m\u001b[43m \u001b[49m\u001b[38;5;241;43m*\u001b[39;49m\u001b[38;5;241;43m*\u001b[39;49m\u001b[43mkwargs\u001b[49m\u001b[43m)\u001b[49m\n",
      "File \u001b[0;32m~/.local/lib/python3.12/site-packages/torch/nn/modules/module.py:1541\u001b[0m, in \u001b[0;36mModule._call_impl\u001b[0;34m(self, *args, **kwargs)\u001b[0m\n\u001b[1;32m   1536\u001b[0m \u001b[38;5;66;03m# If we don't have any hooks, we want to skip the rest of the logic in\u001b[39;00m\n\u001b[1;32m   1537\u001b[0m \u001b[38;5;66;03m# this function, and just call forward.\u001b[39;00m\n\u001b[1;32m   1538\u001b[0m \u001b[38;5;28;01mif\u001b[39;00m \u001b[38;5;129;01mnot\u001b[39;00m (\u001b[38;5;28mself\u001b[39m\u001b[38;5;241m.\u001b[39m_backward_hooks \u001b[38;5;129;01mor\u001b[39;00m \u001b[38;5;28mself\u001b[39m\u001b[38;5;241m.\u001b[39m_backward_pre_hooks \u001b[38;5;129;01mor\u001b[39;00m \u001b[38;5;28mself\u001b[39m\u001b[38;5;241m.\u001b[39m_forward_hooks \u001b[38;5;129;01mor\u001b[39;00m \u001b[38;5;28mself\u001b[39m\u001b[38;5;241m.\u001b[39m_forward_pre_hooks\n\u001b[1;32m   1539\u001b[0m         \u001b[38;5;129;01mor\u001b[39;00m _global_backward_pre_hooks \u001b[38;5;129;01mor\u001b[39;00m _global_backward_hooks\n\u001b[1;32m   1540\u001b[0m         \u001b[38;5;129;01mor\u001b[39;00m _global_forward_hooks \u001b[38;5;129;01mor\u001b[39;00m _global_forward_pre_hooks):\n\u001b[0;32m-> 1541\u001b[0m     \u001b[38;5;28;01mreturn\u001b[39;00m \u001b[43mforward_call\u001b[49m\u001b[43m(\u001b[49m\u001b[38;5;241;43m*\u001b[39;49m\u001b[43margs\u001b[49m\u001b[43m,\u001b[49m\u001b[43m \u001b[49m\u001b[38;5;241;43m*\u001b[39;49m\u001b[38;5;241;43m*\u001b[39;49m\u001b[43mkwargs\u001b[49m\u001b[43m)\u001b[49m\n\u001b[1;32m   1543\u001b[0m \u001b[38;5;28;01mtry\u001b[39;00m:\n\u001b[1;32m   1544\u001b[0m     result \u001b[38;5;241m=\u001b[39m \u001b[38;5;28;01mNone\u001b[39;00m\n",
      "File \u001b[0;32m/12tb_dsk2/danish/Pytorch_Biologically_Informed_Neural_Network/custom_neural_network.py:41\u001b[0m, in \u001b[0;36mCustomNetwork.forward\u001b[0;34m(self, x)\u001b[0m\n\u001b[1;32m     39\u001b[0m layer\u001b[38;5;241m.\u001b[39mweight\u001b[38;5;241m.\u001b[39mdata \u001b[38;5;241m*\u001b[39m\u001b[38;5;241m=\u001b[39m mask\n\u001b[1;32m     40\u001b[0m \u001b[38;5;66;03m#print(layer(x).shape)\u001b[39;00m\n\u001b[0;32m---> 41\u001b[0m x \u001b[38;5;241m=\u001b[39m \u001b[43mlayer\u001b[49m\u001b[43m(\u001b[49m\u001b[43mx\u001b[49m\u001b[43m)\u001b[49m\n\u001b[1;32m     43\u001b[0m \u001b[38;5;250m\u001b[39m\u001b[38;5;124;03m'''\u001b[39;00m\n\u001b[1;32m     44\u001b[0m \u001b[38;5;124;03mx = x.unsqueeze(2)\u001b[39;00m\n\u001b[1;32m     45\u001b[0m \u001b[38;5;124;03mprint('x shape before multi: ',x.shape)\u001b[39;00m\n\u001b[0;32m   (...)\u001b[0m\n\u001b[1;32m     49\u001b[0m \u001b[38;5;124;03mx = torch.tanh(x)\u001b[39;00m\n\u001b[1;32m     50\u001b[0m \u001b[38;5;124;03m'''\u001b[39;00m\n\u001b[1;32m     51\u001b[0m x \u001b[38;5;241m=\u001b[39m torch\u001b[38;5;241m.\u001b[39mtanh(x)\n",
      "File \u001b[0;32m~/.local/lib/python3.12/site-packages/torch/nn/modules/module.py:1532\u001b[0m, in \u001b[0;36mModule._wrapped_call_impl\u001b[0;34m(self, *args, **kwargs)\u001b[0m\n\u001b[1;32m   1530\u001b[0m     \u001b[38;5;28;01mreturn\u001b[39;00m \u001b[38;5;28mself\u001b[39m\u001b[38;5;241m.\u001b[39m_compiled_call_impl(\u001b[38;5;241m*\u001b[39margs, \u001b[38;5;241m*\u001b[39m\u001b[38;5;241m*\u001b[39mkwargs)  \u001b[38;5;66;03m# type: ignore[misc]\u001b[39;00m\n\u001b[1;32m   1531\u001b[0m \u001b[38;5;28;01melse\u001b[39;00m:\n\u001b[0;32m-> 1532\u001b[0m     \u001b[38;5;28;01mreturn\u001b[39;00m \u001b[38;5;28;43mself\u001b[39;49m\u001b[38;5;241;43m.\u001b[39;49m\u001b[43m_call_impl\u001b[49m\u001b[43m(\u001b[49m\u001b[38;5;241;43m*\u001b[39;49m\u001b[43margs\u001b[49m\u001b[43m,\u001b[49m\u001b[43m \u001b[49m\u001b[38;5;241;43m*\u001b[39;49m\u001b[38;5;241;43m*\u001b[39;49m\u001b[43mkwargs\u001b[49m\u001b[43m)\u001b[49m\n",
      "File \u001b[0;32m~/.local/lib/python3.12/site-packages/torch/nn/modules/module.py:1541\u001b[0m, in \u001b[0;36mModule._call_impl\u001b[0;34m(self, *args, **kwargs)\u001b[0m\n\u001b[1;32m   1536\u001b[0m \u001b[38;5;66;03m# If we don't have any hooks, we want to skip the rest of the logic in\u001b[39;00m\n\u001b[1;32m   1537\u001b[0m \u001b[38;5;66;03m# this function, and just call forward.\u001b[39;00m\n\u001b[1;32m   1538\u001b[0m \u001b[38;5;28;01mif\u001b[39;00m \u001b[38;5;129;01mnot\u001b[39;00m (\u001b[38;5;28mself\u001b[39m\u001b[38;5;241m.\u001b[39m_backward_hooks \u001b[38;5;129;01mor\u001b[39;00m \u001b[38;5;28mself\u001b[39m\u001b[38;5;241m.\u001b[39m_backward_pre_hooks \u001b[38;5;129;01mor\u001b[39;00m \u001b[38;5;28mself\u001b[39m\u001b[38;5;241m.\u001b[39m_forward_hooks \u001b[38;5;129;01mor\u001b[39;00m \u001b[38;5;28mself\u001b[39m\u001b[38;5;241m.\u001b[39m_forward_pre_hooks\n\u001b[1;32m   1539\u001b[0m         \u001b[38;5;129;01mor\u001b[39;00m _global_backward_pre_hooks \u001b[38;5;129;01mor\u001b[39;00m _global_backward_hooks\n\u001b[1;32m   1540\u001b[0m         \u001b[38;5;129;01mor\u001b[39;00m _global_forward_hooks \u001b[38;5;129;01mor\u001b[39;00m _global_forward_pre_hooks):\n\u001b[0;32m-> 1541\u001b[0m     \u001b[38;5;28;01mreturn\u001b[39;00m \u001b[43mforward_call\u001b[49m\u001b[43m(\u001b[49m\u001b[38;5;241;43m*\u001b[39;49m\u001b[43margs\u001b[49m\u001b[43m,\u001b[49m\u001b[43m \u001b[49m\u001b[38;5;241;43m*\u001b[39;49m\u001b[38;5;241;43m*\u001b[39;49m\u001b[43mkwargs\u001b[49m\u001b[43m)\u001b[49m\n\u001b[1;32m   1543\u001b[0m \u001b[38;5;28;01mtry\u001b[39;00m:\n\u001b[1;32m   1544\u001b[0m     result \u001b[38;5;241m=\u001b[39m \u001b[38;5;28;01mNone\u001b[39;00m\n",
      "File \u001b[0;32m~/.local/lib/python3.12/site-packages/torch/nn/modules/linear.py:116\u001b[0m, in \u001b[0;36mLinear.forward\u001b[0;34m(self, input)\u001b[0m\n\u001b[1;32m    115\u001b[0m \u001b[38;5;28;01mdef\u001b[39;00m \u001b[38;5;21mforward\u001b[39m(\u001b[38;5;28mself\u001b[39m, \u001b[38;5;28minput\u001b[39m: Tensor) \u001b[38;5;241m-\u001b[39m\u001b[38;5;241m>\u001b[39m Tensor:\n\u001b[0;32m--> 116\u001b[0m     \u001b[38;5;28;01mreturn\u001b[39;00m \u001b[43mF\u001b[49m\u001b[38;5;241;43m.\u001b[39;49m\u001b[43mlinear\u001b[49m\u001b[43m(\u001b[49m\u001b[38;5;28;43minput\u001b[39;49m\u001b[43m,\u001b[49m\u001b[43m \u001b[49m\u001b[38;5;28;43mself\u001b[39;49m\u001b[38;5;241;43m.\u001b[39;49m\u001b[43mweight\u001b[49m\u001b[43m,\u001b[49m\u001b[43m \u001b[49m\u001b[38;5;28;43mself\u001b[39;49m\u001b[38;5;241;43m.\u001b[39;49m\u001b[43mbias\u001b[49m\u001b[43m)\u001b[49m\n",
      "\u001b[0;31mKeyboardInterrupt\u001b[0m: "
     ]
    }
   ],
   "source": [
    "import os\n",
    "import torch\n",
    "from tqdm import tqdm\n",
    "import numpy as np\n",
    "from torch.optim.lr_scheduler import ReduceLROnPlateau\n",
    "from torch.utils.data import Dataset, DataLoader\n",
    "import argparse\n",
    "from utils import *\n",
    "from gene_expression import *\n",
    "from pathway_hierarchy import *\n",
    "import pandas as pd\n",
    "import yaml\n",
    "from custom_neural_network import *\n",
    "from custom_fc_network import *\n",
    "from datetime import datetime\n",
    "import csv\n",
    "import copy\n",
    "import pickle\n",
    "import random\n",
    "random.seed(0)\n",
    "np.random.seed(0)\n",
    "\n",
    "path_config = '/12tb_dsk2/danish/Pytorch_Biologically_Informed_Neural_Network/all_subtypes_jupyter_notebook/Exc_L2-3_CBLN2_LINC02306/config.yml'\n",
    "model_dct = dict()\n",
    "\n",
    "# Hook function\n",
    "def hook_fn(module, input, output, layer_name):\n",
    "    global model_dct\n",
    "    input_list = [i.detach().cpu().numpy().tolist() for i in input]\n",
    "    output_list = output.detach().cpu().numpy().tolist()\n",
    "    \n",
    "    # If the layer name is not in the dictionary, create a new list for it\n",
    "    if layer_name not in model_dct:\n",
    "        model_dct[layer_name] = []\n",
    "\n",
    "    # Append the activations to the corresponding layer list\n",
    "    model_dct[layer_name].append({\n",
    "        'input': input_list,\n",
    "        'output': output_list\n",
    "    })\n",
    "\n",
    "\n",
    "\n",
    "# Define the file path for the CSV file\n",
    "def seed_worker(worker_id):\n",
    "    worker_seed = torch.initial_seed() % 2**32\n",
    "    np.random.seed(worker_seed)\n",
    "    random.seed(worker_seed)\n",
    "\n",
    "class TabularDataset(Dataset):\n",
    "    def __init__(self, count_matrix, label):\n",
    "        # Read the CSV file\n",
    "        self.data = count_matrix\n",
    "        # Separate features and target\n",
    "        self.features = self.data.values\n",
    "        self.target = label.values\n",
    "    \n",
    "    def __len__(self):\n",
    "        return len(self.data)\n",
    "    \n",
    "    def __getitem__(self, idx):\n",
    "        # Get features and target for a given index\n",
    "        features = torch.tensor(self.features[idx], dtype=torch.float32)\n",
    "        target = torch.tensor(self.target[idx], dtype=torch.float32)\n",
    "        return features, target\n",
    "\n",
    "def evaluate(model, dataloader):\n",
    "    model.eval()  # Set the model to evaluation mode\n",
    "    correct = 0\n",
    "    total = 0\n",
    "    predicted_list = []\n",
    "    probability_list = []\n",
    "    labels_list = []\n",
    "    criterion = nn.BCEWithLogitsLoss()\n",
    "    loss = 0\n",
    "    with torch.no_grad():  # No need to compute gradients during evaluation\n",
    "        for features, labels in dataloader:\n",
    "            outputs = model(features)\n",
    "            #print(outputs)\n",
    "            probability = torch.sigmoid(outputs.data)\n",
    "            predicted = torch.round(torch.sigmoid(outputs.data))\n",
    "            #print(outputs)\n",
    "            #print(predicted)\n",
    "            loss += criterion(outputs, labels)\n",
    "            #_, predicted = torch.sigmoid(outputs.data)\n",
    "            predicted_list.extend(predicted)\n",
    "            labels_list.extend(labels)\n",
    "            probability_list.extend(probability)\n",
    "            total += labels.size(0)\n",
    "            correct += (predicted == labels).sum().item()\n",
    "    #print(total)\n",
    "    accuracy = 100 * correct / total\n",
    "    return accuracy, loss, predicted_list, labels_list, probability_list\n",
    "\n",
    "def save_model(model_nn,model_path, model_state_dict_path):\n",
    "    \n",
    "    model_nn.eval()\n",
    "    torch.save(model_nn, model_path)\n",
    "    torch.save(model_nn.state_dict(), model_state_dict_path)\n",
    "\n",
    "\n",
    "\n",
    "\n",
    "def model_fc(train_dataloader , val_dataloader, test_dataloader, test_cell_id, layers_node, masking, output_layer,model_save_dir, date_string, learning_rate=0.001, num_epochs=50, weight_decay = 0):\n",
    "\n",
    "    model_nn = CustomfcNetwork(layers_node, output_layer, masking)\n",
    "    optimizer = optim.AdamW(model_nn.parameters(), lr=learning_rate,weight_decay = weight_decay )  # Using SGD with momentum\n",
    "    criterion = nn.BCEWithLogitsLoss()\n",
    "    scheduler = ReduceLROnPlateau(optimizer, mode='max', factor=0.1, patience=5, verbose=True)\n",
    "    patience = 20\n",
    "    best_val_accuracy = 0.0\n",
    "    epochs_no_improve = 0\n",
    "    early_stop = False\n",
    "    csv_file_path = f'{model_save_dir}{date_string}/fc_training_log_{output_layer}.csv'\n",
    "\n",
    "    try:\n",
    "        os.makedirs(f'{model_save_dir}{date_string}')\n",
    "    except:\n",
    "        print(('...'))\n",
    "\n",
    "    with open(csv_file_path, mode='w', newline='') as file:\n",
    "        writer = csv.writer(file)\n",
    "        writer.writerow(['Epoch', 'Train_Loss', 'Train_accuracy','Validation_Loss','Val_accuracy'])\n",
    "\n",
    "    for epoch in tqdm(range(num_epochs)):\n",
    "        if early_stop:\n",
    "            print(\"Early stopping\")\n",
    "            break\n",
    "        epoch_cost = 0.\n",
    "        \n",
    "        total_loss = 0\n",
    "        for batch_features,batch_targets in train_dataloader:\n",
    "            outputs = model_nn(batch_features)\n",
    "            #print(outputs)\n",
    "            #print(batch_targets)\n",
    "            #print(outputs)\n",
    "            loss = criterion(outputs, batch_targets)\n",
    "            \n",
    "            optimizer.zero_grad()\n",
    "            loss.backward()\n",
    "            optimizer.step()\n",
    "            \n",
    "            \n",
    "        \n",
    "        train_accuracy, train_loss, predicted_list_train, labels_list_train, train_probability_list = evaluate(model_nn, train_dataloader)\n",
    "        val_accuracy, val_loss, predicted_list_val, labels_list_val, val_probability_list = evaluate(model_nn, val_dataloader)\n",
    "        #scheduler.step(val_accuracy)\n",
    "        print(f'Epoch [{epoch+1}/{num_epochs}], Train Loss: {train_loss.item():.4f}, Train_accuracy: {train_accuracy}, Val Loss: {val_loss.item():.4f}, Val_accuracy: {val_accuracy}')\n",
    "        with open(csv_file_path, mode='a', newline='') as file:\n",
    "            writer = csv.writer(file)\n",
    "            writer.writerow([epoch + 1, loss.item(), train_accuracy, val_loss.item(), val_accuracy])\n",
    "        \n",
    "        if val_accuracy > best_val_accuracy:\n",
    "            best_val_accuracy = val_accuracy\n",
    "            epochs_no_improve = 0\n",
    "        # Save the best model\n",
    "            model_path = f'{model_save_dir}{date_string}/fc_best_model_{output_layer}.pth'\n",
    "            model_state_dict_path = f'{model_save_dir}{date_string}/fc_best_model_{output_layer}_state_dict.pth'\n",
    "            save_model(model_nn, model_path, model_state_dict_path)\n",
    "            best_model_nn = copy.deepcopy(model_nn)\n",
    "            #torch.save(model_nn, f'{model_save_dir}{date_string}/fc_best_model_{output_layer}.pth')\n",
    "            #torch.save(model_nn.state_dict(), f'{model_save_dir}{date_string}/fc_best_model_{output_layer}_state_dict.pth')\n",
    "            print('Model saved.')\n",
    "        else:\n",
    "            epochs_no_improve += 1\n",
    "    \n",
    "        # Early stopping\n",
    "        '''if epochs_no_improve >= patience:\n",
    "            early_stop = True\n",
    "            print(\"Early stopping triggered\")'''\n",
    "        \n",
    "    \n",
    "    train_accuracy, train_loss, predicted_list_train, labels_list_train, train_probability_list = evaluate(best_model_nn, train_dataloader)\n",
    "    val_accuracy, val_loss, predicted_list_val, labels_list_val, val_probability_list = evaluate(best_model_nn, val_dataloader)\n",
    "    test_accuracy, test_loss, predicted_list_test, labels_list_test, test_probability_list = evaluate(best_model_nn, test_dataloader)\n",
    "    print('Test Accucary', test_accuracy)\n",
    "    output_train = (predicted_list_train, labels_list_train)\n",
    "    output_val = (predicted_list_val, labels_list_val)\n",
    "\n",
    "    labels_list_test = [m.item() for m in labels_list_test]\n",
    "    predicted_list_test = [m.item() for m in predicted_list_test]\n",
    "    test_probability_list = [m.item() for m in test_probability_list]\n",
    "\n",
    "\n",
    "    test_df = pd.DataFrame({'cell_id': test_cell_id, 'true_y': labels_list_test, 'pred_y': predicted_list_test, 'probabilty': test_probability_list})\n",
    "    csv_file_path = f'{model_save_dir}{date_string}/fc_test_log_{output_layer}.csv'\n",
    "    test_df.to_csv(csv_file_path)\n",
    "    #torch.save(model_nn, f'{model_save_dir}{date_string}/fc_last_epoch_model_{output_layer}.pth')\n",
    "    return output_train, output_val,best_model_nn\n",
    "\n",
    "\n",
    "\n",
    "def model(train_dataloader , val_dataloader, test_dataloader, test_cell_id, layers_node, masking, output_layer,model_save_dir, date_string, learning_rate=0.001, num_epochs=50, weight_decay = 0):\n",
    "\n",
    "    model_nn = CustomNetwork(layers_node, output_layer, masking)\n",
    "    print(model_nn)\n",
    "    optimizer = optim.AdamW(model_nn.parameters(), lr=learning_rate,weight_decay = weight_decay )\n",
    "    optimizer = optim.Adagrad(model_nn.parameters(), lr= learning_rate, lr_decay=0, weight_decay=weight_decay)# Using SGD with momentum\n",
    "    criterion = nn.BCEWithLogitsLoss()\n",
    "    scheduler = ReduceLROnPlateau(optimizer, mode='max', factor=0.1, patience=5, verbose=True)\n",
    "    patience = 20\n",
    "    best_val_accuracy = 0.0\n",
    "    epochs_no_improve = 0\n",
    "    early_stop = False\n",
    "    csv_file_path = f'{model_save_dir}{date_string}/training_log_{output_layer}.csv'\n",
    "\n",
    "    try:\n",
    "        os.makedirs(f'{model_save_dir}{date_string}')\n",
    "    except:\n",
    "        print(('...'))\n",
    "\n",
    "    with open(csv_file_path, mode='w', newline='') as file:\n",
    "        writer = csv.writer(file)\n",
    "        writer.writerow(['Epoch', 'Train_Loss', 'Train_accuracy','Validation_Loss','Val_accuracy'])\n",
    "\n",
    "    for epoch in tqdm(range(num_epochs)):\n",
    "        if early_stop:\n",
    "            print(\"Early stopping\")\n",
    "            break\n",
    "        epoch_cost = 0.\n",
    "        \n",
    "        total_loss = 0\n",
    "        for batch_features,batch_targets in train_dataloader:\n",
    "            \n",
    "            #print(outputs)\n",
    "            #print(batch_targets)\n",
    "            #print(outputs)\n",
    "            \n",
    "            \n",
    "            optimizer.zero_grad()\n",
    "            outputs = model_nn(batch_features)\n",
    "            loss = criterion(outputs, batch_targets)\n",
    "            loss.backward()\n",
    "            optimizer.step()\n",
    "            \n",
    "            \n",
    "        \n",
    "        train_accuracy, train_loss, predicted_list_train, labels_list_train, train_probability_list = evaluate(model_nn, train_dataloader)\n",
    "        val_accuracy, val_loss, predicted_list_val, labels_list_val, val_probability_list = evaluate(model_nn, val_dataloader)\n",
    "        #scheduler.step(val_accuracy)\n",
    "        print(f'Epoch [{epoch+1}/{num_epochs}], Train Loss: {train_loss.item():.4f}, Train_accuracy: {train_accuracy}, Val Loss: {val_loss.item():.4f}, Val_accuracy: {val_accuracy}')\n",
    "        with open(csv_file_path, mode='a', newline='') as file:\n",
    "            writer = csv.writer(file)\n",
    "            writer.writerow([epoch + 1, loss.item(), train_accuracy, val_loss.item(), val_accuracy])\n",
    "        \n",
    "        if val_accuracy > best_val_accuracy:\n",
    "            best_val_accuracy = val_accuracy\n",
    "            epochs_no_improve = 0\n",
    "        # Save the best model\n",
    "            model_path = f'{model_save_dir}{date_string}/best_model_{output_layer}.pth'\n",
    "            model_state_dict_path = f'{model_save_dir}{date_string}/best_model_{output_layer}_state_dict.pth'\n",
    "            save_model(model_nn, model_path, model_state_dict_path)\n",
    "            best_model_nn = copy.deepcopy(model_nn)\n",
    "            #torch.save(model_nn, f'{model_save_dir}{date_string}/best_model_{output_layer}.pth')\n",
    "            #torch.save(model_nn.state_dict(), f'{model_save_dir}{date_string}/best_model_{output_layer}_state_dict.pth')\n",
    "            print('Model saved.')\n",
    "        else:\n",
    "            epochs_no_improve += 1\n",
    "    \n",
    "        # Early stopping\n",
    "        '''if epochs_no_improve >= patience:\n",
    "            early_stop = True\n",
    "            print(\"Early stopping triggered\")'''\n",
    "        \n",
    "    \n",
    "    train_accuracy, train_loss, predicted_list_train, labels_list_train, train_probability_list = evaluate(best_model_nn, train_dataloader)\n",
    "    val_accuracy, val_loss, predicted_list_val, labels_list_val, val_probability_list = evaluate(best_model_nn, val_dataloader)\n",
    "    test_accuracy, test_loss, predicted_list_test, labels_list_test, test_probability_list = evaluate(best_model_nn, test_dataloader)\n",
    "    print('Test Accucary', test_accuracy)\n",
    "    output_train = (predicted_list_train, labels_list_train)\n",
    "    output_val = (predicted_list_val, labels_list_val)\n",
    "\n",
    "    labels_list_test = [m.item() for m in labels_list_test]\n",
    "    predicted_list_test = [m.item() for m in predicted_list_test]\n",
    "    test_probability_list = [m.item() for m in test_probability_list]\n",
    "\n",
    "\n",
    "    test_df = pd.DataFrame({'cell_id': test_cell_id, 'true_y': labels_list_test, 'pred_y': predicted_list_test, 'probabilty': test_probability_list})\n",
    "    csv_file_path = f'{model_save_dir}{date_string}/test_log_{output_layer}.csv'\n",
    "    test_df.to_csv(csv_file_path)\n",
    "    #torch.save(model_nn, f'{model_save_dir}{date_string}/last_epoch_model_{output_layer}.pth')\n",
    "    return output_train, output_val,best_model_nn\n",
    "\n",
    "\n",
    "def load_config(config_file):\n",
    "    with open(config_file, 'r') as file:\n",
    "        return yaml.safe_load(file)\n",
    "\n",
    "\n",
    "def main_file(path_config):\n",
    "\n",
    "    '''parser = argparse.ArgumentParser(description='Sample application with config and argparse')\n",
    "    parser.add_argument('--config', type=str, default='config.yml', help='Path to the configuration file')\n",
    "    args = parser.parse_args()'''\n",
    "\n",
    "    config = load_config(path_config)\n",
    "    print(config)\n",
    "    train = pd.read_csv(config['dataset']['train'],index_col=0)\n",
    "    test = pd.read_csv(config['dataset']['test'],index_col=0)\n",
    "    val = pd.read_csv(config['dataset']['val'],index_col=0)\n",
    "\n",
    "    y_train = pd.read_csv(config['dataset']['y_train'])\n",
    "    y_test = pd.read_csv(config['dataset']['y_test'])\n",
    "    y_val = pd.read_csv(config['dataset']['y_val'])\n",
    "  \n",
    "\n",
    "\n",
    "    r_data_tmp = train.T\n",
    "    q_data_tmp = test.T\n",
    "    v_data_tmp = val.T\n",
    "    r_label_tmp = y_train\n",
    "\n",
    "\n",
    "\n",
    "    pathway_relation, ensemble_pathway_relation = return_threshold_pathways(config['pathways_network']['pathway_relation'], \n",
    "                                  config['pathways_network']['ensemble_pathway_relation'],  config['pathways_network']['h_thresh'],\\\n",
    "                                      config['pathways_network']['l_thresh'])\n",
    "\n",
    "    if os.path.exists(config['pathways_network']['pathway_relation_updated']):\n",
    "        os.remove(config['pathways_network']['pathway_relation_updated'])\n",
    "\n",
    "    if os.path.exists(config['pathways_network']['ensemble_pathway_relation_updated']):\n",
    "        os.remove(config['pathways_network']['ensemble_pathway_relation_updated'])\n",
    "\n",
    "    pathway_relation.to_csv(config['pathways_network']['pathway_relation_updated'], sep = '\\t', index = False, header= False)\n",
    "    ensemble_pathway_relation.to_csv(config['pathways_network']['ensemble_pathway_relation_updated'], sep = '\\t', index = False, header= False)\n",
    "\n",
    "\n",
    "\n",
    "\n",
    "    print('Getting Marker Genes.......')\n",
    "    train_x, test_x, val_x, train_y = get_expression(r_data_tmp,\n",
    "                                                q_data_tmp,\n",
    "                                                v_data_tmp,\n",
    "                                                r_label_tmp,\n",
    "                                                thrh=config['gene_expression']['highly_expressed_threshold'],\n",
    "                                                thrl=config['gene_expression']['lowly_expressed_threshold'],\n",
    "                                                normalization=config['gene_expression']['normalization'],\n",
    "                                                marker=config['gene_expression']['marker'])\n",
    "    \n",
    "    print('Getting Pathway Genes.........')\n",
    "    pathway_genes = get_gene_pathways(config['pathways_network']['ensemble_pathway_relation_updated'], species=config['pathways_network']['species'])\n",
    "\n",
    "\n",
    "    print('Getting Masking.........')\n",
    "    masking, masking_df, layers_node, train_x, test_x,val_x = get_masking(config['pathways_network']['pathway_names'],\n",
    "                                                        pathway_genes,\n",
    "                                                        config['pathways_network']['pathway_relation_updated'],\n",
    "                                                        train_x,\n",
    "                                                        test_x,\n",
    "                                                        val_x,\n",
    "                                                        train_y,\n",
    "                                                        config['pathways_network']['datatype'],\n",
    "                                                        config['pathways_network']['species'],\n",
    "                                                        config['pathways_network']['n_hidden_layer'])\n",
    "\n",
    "    test_cell_id = list(test_x.T.index) \n",
    "    try:\n",
    "        masking = list(masking.values())\n",
    "        layers_node = list(layers_node.values())\n",
    "    except:\n",
    "        print('already_done')\n",
    "\n",
    "\n",
    "    train_dataset = TabularDataset(train_x.T,train_y)\n",
    "    val_dataset = TabularDataset(val_x.T,y_val)\n",
    "    test_dataset = TabularDataset(test_x.T,y_test)  \n",
    "    \n",
    "    \n",
    "\n",
    "    dataloader_params = {\n",
    "    'batch_size': config['train']['batch_size'],\n",
    "    'shuffle': False\n",
    "    }\n",
    "\n",
    "    train_dataloader = DataLoader(train_dataset,**dataloader_params)\n",
    "    test_dataloader = DataLoader(test_dataset, **dataloader_params)\n",
    "    val_dataloader = DataLoader(val_dataset,**dataloader_params)\n",
    "    # Example of iterating through the DataLoader\n",
    "\n",
    "\n",
    "    pred_y_df = pd.DataFrame(data=0, index=test_x.columns, columns=list(range(2, len(masking) + 2)))\n",
    "    train_y_df = pd.DataFrame(data=0, index=train_x.columns, columns=list(range(2, len(masking) + 2)))\n",
    "    model_dict_sparse = dict()\n",
    "    model_dict_fc = dict()\n",
    "    activation_output = {}\n",
    "    now = datetime.now()\n",
    "\n",
    "# Format the date as a string\n",
    "    date_string = datetime_string = now.strftime(\"%Y_%m_%d_%H_%M_%S\")\n",
    "\n",
    "    try:\n",
    "        os.makedirs(f'{config['model_output']['model_save_dir']}{date_string}')\n",
    "    except:\n",
    "        print(('...'))\n",
    "\n",
    "   \n",
    "\n",
    "    print('Training.........')\n",
    "    for output_layer in range(2, len(masking) + 2):\n",
    "        if config['gene_expression']['print_information']:\n",
    "            print(\"Current sub-neural network has \" + str(output_layer - 1) + \" hidden layers.\")\n",
    "        output_train, output_val,model_dict_sparse[output_layer] = model(train_dataloader,\n",
    "                                            val_dataloader,test_dataloader, test_cell_id,\n",
    "                                            layers_node,\n",
    "                                            masking,\n",
    "                                            output_layer,\n",
    "                                            model_save_dir = config['model_output']['model_save_dir'],date_string = date_string,\n",
    "                                            learning_rate=config['train']['learning_rate'],num_epochs=config['train']['epochs'],weight_decay = config['train']['weight_decay']\n",
    "                                        )  \n",
    "\n",
    "    print('tranining_fully_connected_layers:')\n",
    "    for output_layer in range(2, len(masking) + 2):\n",
    "        if config['gene_expression']['print_information']:\n",
    "            print(\"Current sub-neural network has \" + str(output_layer - 1) + \" hidden layers.\")\n",
    "        output_train, output_val,model_dict_fc[output_layer] = model_fc(train_dataloader,\n",
    "                                            val_dataloader,test_dataloader, test_cell_id,\n",
    "                                            layers_node,\n",
    "                                            masking,\n",
    "                                            output_layer,\n",
    "                                            model_save_dir = config['model_output']['model_save_dir'],date_string = date_string,\n",
    "                                            learning_rate=config['train']['learning_rate'],num_epochs=config['train']['epochs'],weight_decay = config['train']['weight_decay']\n",
    "                                        )  \n",
    "        \n",
    "    new_parameter = {'date_string': date_string}\n",
    "    config.update(new_parameter)\n",
    "    save_path =   str(config['model_output']['model_save_dir'])+ date_string + '/config.yml'\n",
    "    with open(save_path, 'w') as file:\n",
    "        yaml.dump(config, file)\n",
    "\n",
    "        \n",
    "    for i in range(len(masking_df)):\n",
    "        masking_df[i].to_csv(str(config['model_output']['model_save_dir'])+ date_string+ '/' +f'masking_df_{i}.csv')\n",
    "    \n",
    "   \n",
    "        \n",
    "    return model_dict_sparse, val_dataloader, test_dataloader, train_dataloader, train_x, train_y, val_x, y_val, test_x, y_test, config\n",
    "\n",
    "   \n",
    "model_dict_sparse, val_dataloader, test_dataloader, train_dataloader,train_x, train_y, val_x, y_val, test_x, y_test, config = main_file(path_config= path_config)\n",
    "for j,i in model_dict_sparse.items():\n",
    "\n",
    "# Assuming 'model' is your neural network\n",
    "    torch.save(i.state_dict(), f'{config['model_output']['model_save_dir']}{config['date_string']}/model_{j}_state_dict_jupyter_notebook.pth')\n",
    "\n",
    "\n",
    "for j,i in model_dict_sparse.items():\n",
    "        \n",
    "        print(f'Hidden_Layers: {j}')\n",
    "        accuracy, loss, predicted_list, labels_list, probability_list = evaluate(i, test_dataloader)\n",
    "        print(f'Test Accuracy: {accuracy}')   \n",
    "        accuracy, loss, predicted_list, labels_list, probability_list = evaluate(i, train_dataloader)\n",
    "        print(f'Train Accuracy: {accuracy}')   \n",
    "        accuracy, loss, predicted_list, labels_list, probability_list = evaluate(i, val_dataloader)\n",
    "        print(f'Validation Accuracy: {accuracy}') "
   ]
  },
  {
   "cell_type": "code",
   "execution_count": null,
   "id": "32a465e1-58ab-4f18-9943-54217f87d0cd",
   "metadata": {},
   "outputs": [],
   "source": [
    "\n",
    "train_dataset = TabularDataset(train_x.T,train_y)\n",
    "val_dataset = TabularDataset(val_x.T,y_val)\n",
    "test_dataset = TabularDataset(test_x.T,y_test) \n",
    "\n",
    "dataloader_params = {\n",
    "    'batch_size': 1,\n",
    "    'shuffle': False\n",
    "    }\n",
    "\n",
    "train_dataloader = DataLoader(train_dataset,**dataloader_params)\n",
    "test_dataloader = DataLoader(test_dataset, **dataloader_params)\n",
    "val_dataloader = DataLoader(val_dataset,**dataloader_params)\n",
    "\n",
    "for j,i in model_dict_sparse.items():\n",
    "        \n",
    "        print(f'Hidden_Layers: {j}')\n",
    "        accuracy, loss, predicted_list, labels_list, probability_list = evaluate(i, test_dataloader)\n",
    "        print(f'Test Accuracy: {accuracy}')   \n",
    "        accuracy, loss, predicted_list, labels_list, probability_list = evaluate(i, train_dataloader)\n",
    "        print(f'Train Accuracy: {accuracy}')   \n",
    "        accuracy, loss, predicted_list, labels_list, probability_list = evaluate(i, val_dataloader)\n",
    "        print(f'Validation Accuracy: {accuracy}')"
   ]
  },
  {
   "cell_type": "code",
   "execution_count": null,
   "id": "07cf86ae-23f8-429d-838e-df8abde3c2ca",
   "metadata": {},
   "outputs": [],
   "source": [
    "config"
   ]
  },
  {
   "cell_type": "code",
   "execution_count": null,
   "id": "01c89375-5f2d-4175-958c-8c59fc2b1667",
   "metadata": {},
   "outputs": [],
   "source": [
    "config['model_output']['model_save_dir'] "
   ]
  },
  {
   "cell_type": "code",
   "execution_count": null,
   "id": "867f09af-cd2b-45d7-ac06-29e192830d90",
   "metadata": {},
   "outputs": [],
   "source": [
    "train_x"
   ]
  },
  {
   "cell_type": "code",
   "execution_count": null,
   "id": "4dce6d6f-cadc-4111-bc5c-6618bec14a2f",
   "metadata": {},
   "outputs": [],
   "source": [
    "model_dict_sparse"
   ]
  },
  {
   "cell_type": "code",
   "execution_count": null,
   "id": "b8458044-062e-48b9-a957-11ed67272bc4",
   "metadata": {},
   "outputs": [],
   "source": [
    "model_dict_sparse[2]"
   ]
  },
  {
   "cell_type": "code",
   "execution_count": null,
   "id": "5337d8b1-82eb-4825-be59-e962176e58a0",
   "metadata": {},
   "outputs": [],
   "source": [
    "'''accuracy, loss, predicted_list, labels_list, probability_list = evaluate(model_dict_sparse[2], test_dataloader)\n",
    "accuracy'''"
   ]
  },
  {
   "cell_type": "code",
   "execution_count": null,
   "id": "e823f1ea-15ab-417a-a6ca-9976f4876d88",
   "metadata": {},
   "outputs": [],
   "source": [
    "for features, labels in test_dataloader:\n",
    "    print(labels)\n",
    "    print(features.shape)\n",
    "    break"
   ]
  },
  {
   "cell_type": "code",
   "execution_count": null,
   "id": "6022339a-cf84-4801-b60c-666f947f77c3",
   "metadata": {},
   "outputs": [],
   "source": [
    "model_dict_sparse"
   ]
  },
  {
   "cell_type": "markdown",
   "id": "079d4f44-e871-4952-9ec7-a37a4e2f2140",
   "metadata": {},
   "source": [
    "# Result Analysis"
   ]
  },
  {
   "cell_type": "code",
   "execution_count": null,
   "id": "3df282de-5393-4213-93f2-b894ae0760b4",
   "metadata": {},
   "outputs": [],
   "source": [
    "import pandas as pd\n",
    "import matplotlib.pyplot as plt\n",
    "from sklearn.metrics import confusion_matrix, ConfusionMatrixDisplay\n",
    "def confusion_matrix_return(result):\n",
    "    cm = confusion_matrix(result['true_y'], result['pred_y'])\n",
    "    \n",
    "    # Plot the confusion matrix\n",
    "    disp = ConfusionMatrixDisplay(confusion_matrix=cm, display_labels=[0, 1])\n",
    "    disp.plot(cmap=plt.cm.Blues)\n",
    "    plt.title('Confusion Matrix')\n",
    "    plt.show()"
   ]
  },
  {
   "cell_type": "code",
   "execution_count": null,
   "id": "8044567b-d707-4878-a47d-09abd45a779c",
   "metadata": {},
   "outputs": [],
   "source": [
    "from sklearn.metrics import roc_curve, roc_auc_score\n",
    "\n",
    "def roc_curve_return(result):\n",
    "    \n",
    "    # Calculate the ROC curve\n",
    "    fpr, tpr, thresholds = roc_curve(result['true_y'], result['probabilty'])\n",
    "    \n",
    "    # Calculate the AUC\n",
    "    auc = roc_auc_score(result['true_y'], result['probabilty'])\n",
    "    print(f'AUC: {auc}')\n",
    "    \n",
    "    # Plot the ROC curve\n",
    "    plt.figure()\n",
    "    plt.plot(fpr, tpr, color='blue', lw=2, label=f'ROC curve (area = {auc:.2f})')\n",
    "    plt.plot([0, 1], [0, 1], color='gray', lw=2, linestyle='--')\n",
    "    plt.xlim([0.0, 1.0])\n",
    "    plt.ylim([0.0, 1.05])\n",
    "    plt.xlabel('False Positive Rate')\n",
    "    plt.ylabel('True Positive Rate')\n",
    "    plt.title('Receiver Operating Characteristic (ROC) Curve')\n",
    "    plt.legend(loc='lower right')\n",
    "    plt.show()"
   ]
  },
  {
   "cell_type": "code",
   "execution_count": null,
   "id": "b6a4324c-0a47-4e2e-9027-dc86272376c6",
   "metadata": {},
   "outputs": [],
   "source": [
    "\n",
    "\n",
    "import pandas as pd\n",
    "from sklearn.metrics import precision_score\n",
    "\n",
    "# Sample DataFrame\n",
    "def return_accuracy(result):\n",
    "    df = result.copy()\n",
    "    \n",
    "    # Calculate positive accuracy (precision for positive class)\n",
    "    positive_accuracy = precision_score(df['true_y'], df['pred_y'], pos_label=1)\n",
    "    \n",
    "    # Calculate negative accuracy (precision for negative class)\n",
    "    negative_accuracy = precision_score(df['true_y'], df['pred_y'], pos_label=0)\n",
    "    \n",
    "    print(f'Positive Accuracy (Precision for positive class): {positive_accuracy}')\n",
    "    print(f'Negative Accuracy (Precision for negative class): {negative_accuracy}')"
   ]
  },
  {
   "cell_type": "code",
   "execution_count": null,
   "id": "dbc4a90f-e31d-47c8-a3f7-06876d627576",
   "metadata": {},
   "outputs": [],
   "source": [
    "dir_path = config['model_output']['model_save_dir'] + config['date_string']+ '/' + 'test_log_'\n",
    "\n",
    "for i in range(2,config['pathways_network']['n_hidden_layer']+2):\n",
    "    print('-'*282)\n",
    "    print(f'Number of Hidden Layers: {i-1}')\n",
    "    result = pd.read_csv(f'{dir_path}{i}.csv',index_col=0)\n",
    "\n",
    "    confusion_matrix_return(result)\n",
    "    roc_curve_return(result)\n",
    "    return_accuracy(result)"
   ]
  },
  {
   "cell_type": "markdown",
   "id": "a0033209-555e-4136-8c99-bdd45b8bd2ee",
   "metadata": {},
   "source": [
    "# Model Interpretation"
   ]
  },
  {
   "cell_type": "code",
   "execution_count": null,
   "id": "8b688d50-c892-4781-8630-259ed9e5078b",
   "metadata": {},
   "outputs": [],
   "source": [
    "# Define a hook function to capture the activations\n",
    "\n",
    "\n",
    "def get_activation(name, number_of_layers, config, activations):\n",
    "    def hook(model, input, output):\n",
    "        # Convert output to numpy array for easier handling, but this is optional\n",
    "        activations[name] = output.detach().numpy()\n",
    "        \n",
    "           \n",
    "    return hook\n",
    "def attaching_hook(model, dataloader):\n",
    "    \n",
    "        correct = 0\n",
    "        total = 0\n",
    "        predicted_list = []\n",
    "        probability_list = []\n",
    "        labels_list = []\n",
    "        activations_list = []\n",
    "        features_list = []\n",
    "        criterion = nn.BCEWithLogitsLoss()\n",
    "        loss = 0\n",
    "        \n",
    "\n",
    "        with torch.no_grad():  # No need to compute gradients during evaluation\n",
    "            for sample_idx, (features, labels) in tqdm(enumerate(dataloader)):\n",
    "                \n",
    "                \n",
    "                #print(labels)\n",
    "                #print(features.shape)\n",
    "                activations = {}\n",
    "                for idx, layer in enumerate(model.layers):\n",
    "                    layer_name = f'layer_{idx}'\n",
    "                    number_of_layers = len(model.layers)\n",
    "                    activation_hook = get_activation(layer_name, number_of_layers, config, activations)\n",
    "                    \n",
    "                    layer.register_forward_hook(activation_hook)\n",
    "    \n",
    "                outputs =  model(features)\n",
    "                    #print(outputs)\n",
    "                probability = torch.sigmoid(outputs.data)\n",
    "                predicted = torch.round(torch.sigmoid(outputs.data))\n",
    "                    #print(outputs)\n",
    "                    #print(predicted)\n",
    "                #loss += criterion(outputs, labels)\n",
    "                    #_, predicted = torch.sigmoid(outputs.data)\n",
    "                predicted_list.extend(predicted.detach().numpy())\n",
    "                labels_list.extend(labels.detach().numpy())\n",
    "                probability_list.extend(probability.detach().numpy())\n",
    "                features_list.append(features)\n",
    "                total += labels.size(0)\n",
    "                x = activations\n",
    "                activations_temp = activations.copy()\n",
    "                activations_list.append(activations_temp)\n",
    "                \n",
    "                correct += (predicted == labels).sum().item()\n",
    "                '''if sample_idx == 1000:\n",
    "                    #print(activations_list)\n",
    "                    break'''\n",
    "                \n",
    "            #print(total)\n",
    "        accuracy = 100 * correct / total\n",
    "        #print(activations_list)\n",
    "        return activations_list, accuracy, predicted_list, labels_list, features_list,x\n",
    "        \n"
   ]
  },
  {
   "cell_type": "code",
   "execution_count": null,
   "id": "c3aad112-b683-4ca7-a7de-eda25b51adeb",
   "metadata": {},
   "outputs": [],
   "source": [
    "\n",
    "def return_feature_importance(model_dict_sparse, dataloader):\n",
    "    predicted_list_dict = {}\n",
    "    ground_truth_list_dict = {}\n",
    "    activations_list_dict = {}\n",
    "    accuracy_list_dict = {}\n",
    "    for i, j in model_dict_sparse.items():\n",
    "        #accuracy, loss, predicted_list, labels_list, probability_list = evaluate(j, dataloader)\n",
    "        \n",
    "        activations_list_dict[f'model_{i}_hidden_layers'], accuracy_list_dict[f'model_{i}_hidden_layers'], \\\n",
    "        predicted_list_dict[f'model_{i}_hidden_layers'], ground_truth_list_dict[f'model_{i}_hidden_layers'], \\\n",
    "        feature_list,x= attaching_hook(j, dataloader)\n",
    "        print(f'{i} Layers: {accuracy_list_dict[f'model_{i}_hidden_layers']}')\n",
    "        \n",
    "    return activations_list_dict, accuracy_list_dict, predicted_list_dict, ground_truth_list_dict, feature_list,x"
   ]
  },
  {
   "cell_type": "code",
   "execution_count": null,
   "id": "f21569bf-6144-4f5d-bccb-7336562f40d1",
   "metadata": {},
   "outputs": [],
   "source": [
    "\n",
    "activations_list_dict, accuracy_list_dict, predicted_list_dict, ground_truth_list_dict, feature_list,x = return_feature_importance(model_dict_sparse, test_dataloader)"
   ]
  },
  {
   "cell_type": "code",
   "execution_count": null,
   "id": "a4b76f36-8d00-4f25-845c-ce4dfda18476",
   "metadata": {},
   "outputs": [],
   "source": [
    "def return_feature_importance_list(activations_list_dict, model_name):\n",
    "    m=0\n",
    "    for k in tqdm(activations_list_dict[model_name]):\n",
    "        #print(k)\n",
    "        if m == 0:\n",
    "            layer_dict = {key: [] for key in list(k.keys())}\n",
    "        m = m+1\n",
    "        \n",
    "        #print(k['0_layer_0'])\n",
    "        for z in list(layer_dict.keys()):\n",
    "            #print(k)\n",
    "            layer_dict[z].append(k[z][0])\n",
    "\n",
    "    return layer_dict\n",
    "    "
   ]
  },
  {
   "cell_type": "code",
   "execution_count": null,
   "id": "74fd88a9-b562-4c01-b365-ea928e2d2628",
   "metadata": {},
   "outputs": [],
   "source": [
    "\n",
    "layer_dict = return_feature_importance_list(activations_list_dict, 'model_2_hidden_layers')\n",
    "layer_node_name_dict = {}\n",
    "for i in range(config['pathways_network']['n_hidden_layer']+1):\n",
    "    nodes_df = pd.read_csv(config['model_output']['model_save_dir'] + config['date_string'] + '/' + 'masking_df_' + \\\n",
    "    f'{config['pathways_network']['n_hidden_layer']-i}'+ '.csv', index_col = 0)\n",
    "    layer_node_name_dict[f'layer_{i-1}'] = nodes_df.columns\n",
    "    \n",
    "\n",
    "layer_node_name_dict['final_layer'] = ['last_layer']\n",
    "\n",
    "li = []\n",
    "for i in layer_dict['layer_0']:\n",
    "    li.append(list(i))\n",
    "    \n",
    "layer_0_df = pd.DataFrame(li,index = test_x.columns, columns=layer_node_name_dict['layer_0'])\n",
    "layer_0_df\n",
    "\n",
    "li = []\n",
    "for i in layer_dict['layer_1']:\n",
    "    li.append(list(i))\n",
    "    \n",
    "last_layer_df = pd.DataFrame(li,index = test_x.columns, columns=layer_node_name_dict['final_layer'])\n"
   ]
  },
  {
   "cell_type": "code",
   "execution_count": null,
   "id": "ce99c197-9654-42aa-9dc4-8785e258c4b8",
   "metadata": {},
   "outputs": [],
   "source": [
    "layer_0_df"
   ]
  },
  {
   "cell_type": "code",
   "execution_count": null,
   "id": "281141a4-2957-4d7f-8d1e-bbd51d4c63c2",
   "metadata": {},
   "outputs": [],
   "source": [
    "layer_0_df"
   ]
  },
  {
   "cell_type": "code",
   "execution_count": null,
   "id": "c716d4e2-24f3-4971-9931-fcc4289ca805",
   "metadata": {},
   "outputs": [],
   "source": [
    "last_layer_df"
   ]
  },
  {
   "cell_type": "code",
   "execution_count": null,
   "id": "a2b12b52-6671-401a-bbc2-1f7c2ed45d45",
   "metadata": {},
   "outputs": [],
   "source": [
    "y_test"
   ]
  },
  {
   "cell_type": "code",
   "execution_count": null,
   "id": "ecb1c306-28a7-4518-ad38-2012bfa8d730",
   "metadata": {},
   "outputs": [],
   "source": [
    "for i,j in predicted_list_dict.items():\n",
    "    flattened_list = [item for sublist in list(predicted_list_dict[i]) for item in sublist]\n",
    "    predicted_list_dict[i] = flattened_list\n",
    "    "
   ]
  },
  {
   "cell_type": "code",
   "execution_count": null,
   "id": "0fda485a-1ff5-4b97-b5b9-db22c10d9db5",
   "metadata": {},
   "outputs": [],
   "source": [
    "predicted_list_dict['model_2_hidden_layers'][0:10]"
   ]
  },
  {
   "cell_type": "code",
   "execution_count": null,
   "id": "f45df74f-a602-4488-97e7-f72ba9e5f73a",
   "metadata": {},
   "outputs": [],
   "source": [
    "predicted_list_dict['model_4_hidden_layers'][0:10]"
   ]
  },
  {
   "cell_type": "code",
   "execution_count": null,
   "id": "d2382371-4dd7-421f-b4f0-150e0d9eae8d",
   "metadata": {},
   "outputs": [],
   "source": [
    "for i,j in ground_truth_list_dict.items():\n",
    "    flattened_list = [item for sublist in list(ground_truth_list_dict[i]) for item in sublist]\n",
    "    ground_truth_list_dict[i] = flattened_list\n",
    "    "
   ]
  },
  {
   "cell_type": "code",
   "execution_count": null,
   "id": "f16c0920-cc15-4394-a3ca-e498c01fd912",
   "metadata": {},
   "outputs": [],
   "source": [
    "ground_truth_list_dict['model_2_hidden_layers'][0:10]"
   ]
  },
  {
   "cell_type": "code",
   "execution_count": null,
   "id": "ed02ed48-b781-4ef9-9c11-ea1d467f63c7",
   "metadata": {},
   "outputs": [],
   "source": [
    "ground_truth_list_dict['model_4_hidden_layers'][0:10]"
   ]
  },
  {
   "cell_type": "code",
   "execution_count": null,
   "id": "d693f4e1-59b3-4467-b28d-1b40a4e698cd",
   "metadata": {},
   "outputs": [],
   "source": [
    "predicted_list_dict['model_2_hidden_layers'][0:10]"
   ]
  },
  {
   "cell_type": "code",
   "execution_count": null,
   "id": "185c2410-67b8-4d30-b781-3522bd05ea9b",
   "metadata": {},
   "outputs": [],
   "source": [
    "layer_0_df['predicted'] = predicted_list_dict['model_2_hidden_layers']\n",
    "layer_0_df['ground_truth'] = ground_truth_list_dict['model_2_hidden_layers']\n",
    "layer_0_df.head()"
   ]
  },
  {
   "cell_type": "code",
   "execution_count": null,
   "id": "91fb5fa3-42f9-44e2-805d-79e9872f8d4b",
   "metadata": {},
   "outputs": [],
   "source": [
    "correct_predicted_layer_0_df = layer_0_df[layer_0_df.predicted == layer_0_df.ground_truth]\n",
    "correct_predicted_layer_0_df_AD = correct_predicted_layer_0_df[correct_predicted_layer_0_df.predicted == 1]\n",
    "correct_predicted_layer_0_df_Control = correct_predicted_layer_0_df[correct_predicted_layer_0_df.predicted == 0]"
   ]
  },
  {
   "cell_type": "code",
   "execution_count": null,
   "id": "9d92a59b-3f0c-4141-9608-7cd3ecc622ee",
   "metadata": {},
   "outputs": [],
   "source": [
    "combined_layer_0 = pd.concat([correct_predicted_layer_0_df_AD, correct_predicted_layer_0_df_Control])\n"
   ]
  },
  {
   "cell_type": "code",
   "execution_count": null,
   "id": "b0e01a08-09c7-4d27-b885-0203cea068a3",
   "metadata": {},
   "outputs": [],
   "source": [
    "combined_layer_0['predicted'] = combined_layer_0['predicted'].replace({1: 'AD', 0: 'Control'})\n"
   ]
  },
  {
   "cell_type": "code",
   "execution_count": null,
   "id": "07a8c710-df8a-47e5-a911-a0c97c963589",
   "metadata": {},
   "outputs": [],
   "source": [
    "labels = np.array(combined_layer_0.predicted)\n",
    "labels"
   ]
  },
  {
   "cell_type": "code",
   "execution_count": null,
   "id": "fb798ea8-65fc-4f9f-8117-b6bb4361761f",
   "metadata": {},
   "outputs": [],
   "source": [
    "combined_layer_0 .drop(columns=['predicted','ground_truth'], inplace = True)\n",
    "combined_layer_0 .head()"
   ]
  },
  {
   "cell_type": "code",
   "execution_count": null,
   "id": "a8aa7433-ca7d-4566-908b-c42efa096b7f",
   "metadata": {},
   "outputs": [],
   "source": [
    "'''pathways_list = []\n",
    "p_value_list = []\n",
    "\n",
    "for i in correct_predicted_layer_1_df_Control.columns:\n",
    "    t_stat, p_value = stats.ttest_ind(correct_predicted_layer_1_df_Control[i].tolist(), correct_predicted_layer_1_df_AD[i].tolist())\n",
    "    print(f\"T-statistic: {t_stat}\")\n",
    "    print(f\"P-value: {p_value}\")\n",
    "\n",
    "    plt.figure(figsize=(8, 6))\n",
    "    plt.boxplot([correct_predicted_layer_1_df_Control[i].tolist(), correct_predicted_layer_1_df_AD[i].tolist()], labels=['Control', 'AD'], patch_artist=True, \n",
    "                boxprops=dict(facecolor='lightblue'))\n",
    "    \n",
    "    # Add title and labels\n",
    "    plt.title('Box Plot of Two Distributions')\n",
    "    plt.ylabel('Values')\n",
    "    pathways_list.append(i)\n",
    "    p_value_list.append(p_value)\n",
    "    # Display the plot\n",
    "    plt.show()'''\n",
    "    \n",
    "    "
   ]
  },
  {
   "cell_type": "code",
   "execution_count": null,
   "id": "7ae06039-d415-4f32-ac1d-82778e03148f",
   "metadata": {},
   "outputs": [],
   "source": [
    "import pandas as pd\n",
    "import umap\n",
    "import plotly.express as px\n",
    "import numpy as np\n",
    "\n",
    "# Example embeddings (let's assume these are your high-dimensional embeddings)\n",
    "np.random.seed(42)\n",
    "embeddings = combined_layer_0.values \n",
    "#labels = np.random.choice(['A', 'B', 'C'], size=100)  # Example labels\n",
    "labels = labels\n",
    "# Step 1: Reduce dimensionality using UMAP\n",
    "reducer = umap.UMAP(n_neighbors=15, min_dist=0.1, n_components=2, random_state=42)\n",
    "umap_embeddings = reducer.fit_transform(embeddings)\n",
    "\n",
    "# Step 2: Create a DataFrame with the reduced dimensions and labels\n",
    "df_umap = pd.DataFrame({\n",
    "    'UMAP1': umap_embeddings[:, 0],\n",
    "    'UMAP2': umap_embeddings[:, 1],\n",
    "    'Label': labels\n",
    "})\n",
    "\n",
    "# Step 3: Plot using Plotly\n",
    "fig = px.scatter(\n",
    "    df_umap,\n",
    "    x='UMAP1',\n",
    "    y='UMAP2',\n",
    "    color='Label',\n",
    "    title='UMAP Projection of Pathways Importance',\n",
    "    labels={'UMAP1': 'UMAP Dimension 1', 'UMAP2': 'UMAP Dimension 2'}\n",
    ")\n",
    "\n",
    "# Show plot\n",
    "fig.show()\n"
   ]
  },
  {
   "cell_type": "code",
   "execution_count": null,
   "id": "79ba0c25-7f99-4a46-a673-d38917f84509",
   "metadata": {},
   "outputs": [],
   "source": [
    "import pandas as pd\n",
    "import numpy as np\n",
    "import plotly.express as px\n",
    "from sklearn.decomposition import PCA\n",
    "\n",
    "# Assuming `combined_layer_0` and `labels` are already defined\n",
    "\n",
    "# Step 1: Reduce dimensionality using PCA\n",
    "pca = PCA(n_components=2)  # We want to reduce to 2 dimensions\n",
    "pca_embeddings = pca.fit_transform(combined_layer_0.values)\n",
    "\n",
    "# Step 2: Create a DataFrame with the reduced dimensions and labels\n",
    "df_pca = pd.DataFrame({\n",
    "    'PCA1': pca_embeddings[:, 0],\n",
    "    'PCA2': pca_embeddings[:, 1],\n",
    "    'Label': labels\n",
    "})\n",
    "\n",
    "# Step 3: Plot using Plotly\n",
    "fig = px.scatter(\n",
    "    df_pca,\n",
    "    x='PCA1',\n",
    "    y='PCA2',\n",
    "    color='Label',\n",
    "    title=\"Tained Model's Embedding Vector of AD and Control samples\",\n",
    "    labels={'PCA1': 'PCA Dimension 1', 'PCA2': 'PCA Dimension 2'},\n",
    "    width=800,   # Set plot width\n",
    "    height=600   # Set plot height\n",
    ")\n",
    "\n",
    "# Show plot\n",
    "fig.show()\n"
   ]
  },
  {
   "cell_type": "code",
   "execution_count": null,
   "id": "84e174f4-6c08-41aa-9eab-298323e18672",
   "metadata": {},
   "outputs": [],
   "source": [
    "embeddingfig = px.scatter(\n",
    "    df_umap,\n",
    "    x='UMAP1',\n",
    "    y='UMAP2',\n",
    "    color='Label',\n",
    "    title='UMAP Projection of Pathways Importance',\n",
    "    labels={'UMAP1': 'UMAP Dimension 1', 'UMAP2': 'UMAP Dimension 2'},\n",
    "    width=500,   # Width of the plot in pixels\n",
    "    height=6000 \n",
    ")\n",
    "\n",
    "# Show plot\n",
    "fig.show()"
   ]
  },
  {
   "cell_type": "code",
   "execution_count": null,
   "id": "f7983e24-8dfe-467a-bd5b-58a4a4197def",
   "metadata": {},
   "outputs": [],
   "source": []
  },
  {
   "cell_type": "code",
   "execution_count": null,
   "id": "c731cc85-f9a3-4342-b79f-d253d67ba10c",
   "metadata": {},
   "outputs": [],
   "source": []
  },
  {
   "cell_type": "code",
   "execution_count": null,
   "id": "5e4c6d50-6023-4daf-9608-cafb5f7e167a",
   "metadata": {},
   "outputs": [],
   "source": [
    "pd.DataFrame(pathways_list, p_value_list)"
   ]
  },
  {
   "cell_type": "code",
   "execution_count": null,
   "id": "3fdcda2f-36e9-468e-99d2-40b7b5a4ede6",
   "metadata": {},
   "outputs": [],
   "source": []
  },
  {
   "cell_type": "code",
   "execution_count": null,
   "id": "ae9838f8-2115-40c2-b9a7-8f00d98a5655",
   "metadata": {},
   "outputs": [],
   "source": [
    "\n",
    "layer_dict = return_feature_importance_list(activations_list_dict, 'model_3_hidden_layers')\n",
    "layer_node_name_dict = {}\n",
    "for i in range(config['pathways_network']['n_hidden_layer']+1):\n",
    "    nodes_df = pd.read_csv(config['model_output']['model_save_dir'] + config['date_string'] + '/' + 'masking_df_' + \\\n",
    "    f'{config['pathways_network']['n_hidden_layer']-i}'+ '.csv', index_col = 0)\n",
    "    layer_node_name_dict[f'layer_{i-1}'] = nodes_df.columns\n",
    "    \n",
    "\n",
    "layer_node_name_dict['final_layer'] = ['last_layer']\n",
    "\n",
    "li = []\n",
    "for i in layer_dict['layer_0']:\n",
    "    li.append(list(i))    \n",
    "layer_0_df = pd.DataFrame(li,index = test_x.columns, columns=layer_node_name_dict['layer_0'])\n",
    "\n",
    "li = []\n",
    "for i in layer_dict['layer_1']:\n",
    "    li.append(list(i)) \n",
    "layer_1_df = pd.DataFrame(li,index = test_x.columns, columns=layer_node_name_dict['layer_1'])\n",
    "\n",
    "li = []\n",
    "for i in layer_dict['layer_2']:\n",
    "    li.append(list(i))   \n",
    "last_layer_df = pd.DataFrame(li,index = test_x.columns, columns=layer_node_name_dict['final_layer'])\n"
   ]
  },
  {
   "cell_type": "code",
   "execution_count": null,
   "id": "329036d6-7f40-49ac-bbcf-a8ef4cd50a80",
   "metadata": {},
   "outputs": [],
   "source": [
    "layer_1_df"
   ]
  },
  {
   "cell_type": "code",
   "execution_count": null,
   "id": "f0cd6899-ba80-4b8d-9dee-1130caaf81da",
   "metadata": {},
   "outputs": [],
   "source": [
    "\n",
    "layer_dict = return_feature_importance_list(activations_list_dict, 'model_4_hidden_layers')\n",
    "layer_node_name_dict = {}\n",
    "for i in range(config['pathways_network']['n_hidden_layer']+1):\n",
    "    nodes_df = pd.read_csv(config['model_output']['model_save_dir'] + config['date_string'] + '/' + 'masking_df_' + \\\n",
    "    f'{config['pathways_network']['n_hidden_layer']-i}'+ '.csv', index_col = 0)\n",
    "    layer_node_name_dict[f'layer_{i-1}'] = nodes_df.columns\n",
    "    \n",
    "\n",
    "layer_node_name_dict['final_layer'] = ['last_layer']\n",
    "\n",
    "li = []\n",
    "for i in layer_dict['layer_0']:\n",
    "    li.append(list(i))    \n",
    "layer_0_df = pd.DataFrame(li,index = test_x.columns, columns=layer_node_name_dict['layer_0'])\n",
    "\n",
    "li = []\n",
    "for i in layer_dict['layer_1']:\n",
    "    li.append(list(i)) \n",
    "layer_1_df = pd.DataFrame(li,index = test_x.columns, columns=layer_node_name_dict['layer_1'])\n",
    "\n",
    "li = []\n",
    "for i in layer_dict['layer_2']:\n",
    "    li.append(list(i)) \n",
    "layer_2_df = pd.DataFrame(li,index = test_x.columns, columns=layer_node_name_dict['layer_2'])\n",
    "\n",
    "li = []\n",
    "for i in layer_dict['layer_3']:\n",
    "    li.append(list(i))   \n",
    "last_layer_df = pd.DataFrame(li,index = test_x.columns, columns=layer_node_name_dict['final_layer'])\n"
   ]
  },
  {
   "cell_type": "code",
   "execution_count": null,
   "id": "5efd1c54-7bc1-473b-b436-8b4f0acccb46",
   "metadata": {},
   "outputs": [],
   "source": [
    "layer_2_df"
   ]
  },
  {
   "cell_type": "markdown",
   "id": "d8439581-0287-4c43-a5cb-558e36a1a321",
   "metadata": {},
   "source": [
    "# layer_2_df"
   ]
  },
  {
   "cell_type": "markdown",
   "id": "57ec7de6-23c1-4bf2-993e-fad6c062d449",
   "metadata": {},
   "source": [
    "# Plots"
   ]
  },
  {
   "cell_type": "code",
   "execution_count": null,
   "id": "30001e3c-d3e9-4f01-a289-03b430725af2",
   "metadata": {},
   "outputs": [],
   "source": [
    "!pwd"
   ]
  },
  {
   "cell_type": "code",
   "execution_count": null,
   "id": "2628cf21-4400-4f14-95e8-8bf4d2c9dfd5",
   "metadata": {},
   "outputs": [],
   "source": []
  }
 ],
 "metadata": {
  "kernelspec": {
   "display_name": "Python 3 (ipykernel)",
   "language": "python",
   "name": "python3"
  },
  "language_info": {
   "codemirror_mode": {
    "name": "ipython",
    "version": 3
   },
   "file_extension": ".py",
   "mimetype": "text/x-python",
   "name": "python",
   "nbconvert_exporter": "python",
   "pygments_lexer": "ipython3",
   "version": "3.12.2"
  }
 },
 "nbformat": 4,
 "nbformat_minor": 5
}
