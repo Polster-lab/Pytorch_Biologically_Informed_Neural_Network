{
 "cells": [
  {
   "cell_type": "code",
   "execution_count": 1,
   "id": "08e4ab4f-5218-48c6-8c02-bb204ea6433c",
   "metadata": {},
   "outputs": [],
   "source": [
    "import os\n",
    "import shutil\n",
    "\n",
    "# Source directory\n",
    "\n",
    "\n",
    "# List of target directories\n",
    "\n"
   ]
  },
  {
   "cell_type": "code",
   "execution_count": 14,
   "id": "7fe84f79-c477-4979-af32-4c6452d2eb16",
   "metadata": {},
   "outputs": [],
   "source": [
    "target_dirs = os.listdir('.')"
   ]
  },
  {
   "cell_type": "code",
   "execution_count": 15,
   "id": "52984ec7-8b17-4aa6-a27e-7aeb771b9a93",
   "metadata": {},
   "outputs": [],
   "source": [
    "target_disr = set(target_dirs) - set(['.ipynb_checkpoints']) - set(['Untitled.ipynb']) - set(['Exc_L2-3_CBLN2_LINC02306'])"
   ]
  },
  {
   "cell_type": "code",
   "execution_count": 16,
   "id": "67f21e96-159f-462c-9830-35f1c822a144",
   "metadata": {},
   "outputs": [],
   "source": [
    "target_dirs = list(target_dir)"
   ]
  },
  {
   "cell_type": "code",
   "execution_count": 17,
   "id": "e59f495b-4fc2-40d3-bc2d-ab73cb100340",
   "metadata": {},
   "outputs": [
    {
     "data": {
      "text/plain": [
       "['Exc_L4_5_RORB_IL1RAPL2',\n",
       " 'Exc_L3_5_RORB_PLCH1',\n",
       " 'Exc_L5_6_IT_Car3',\n",
       " 'Exc_L6_CT',\n",
       " 'Exc_L3_4_RORB_CUX2',\n",
       " 'Exc_L5_6_NP',\n",
       " 'Exc_L6b',\n",
       " 'Exc_L5_6_RORB_LINC02196',\n",
       " 'Exc_L5_ET',\n",
       " 'Exc_L6_THEMIS_NFIA',\n",
       " 'Exc_L4_5_RORB_GABRG1',\n",
       " 'Exc_NRGN']"
      ]
     },
     "execution_count": 17,
     "metadata": {},
     "output_type": "execute_result"
    }
   ],
   "source": [
    "target_dirs"
   ]
  },
  {
   "cell_type": "code",
   "execution_count": 19,
   "id": "1aab1c5e-c7dd-460c-8150-cae89304cb23",
   "metadata": {},
   "outputs": [],
   "source": [
    "source_dir = \"./Exc_L2-3_CBLN2_LINC02306/\""
   ]
  },
  {
   "cell_type": "code",
   "execution_count": null,
   "id": "6b4bc2fb-5d1a-4562-8451-16b38d56db53",
   "metadata": {},
   "outputs": [],
   "source": [
    "targte_dirs = ['Excitatory_Neurons']"
   ]
  },
  {
   "cell_type": "code",
   "execution_count": 20,
   "id": "4ffa8477-bbec-40cd-91e9-756b931a93ce",
   "metadata": {},
   "outputs": [
    {
     "name": "stdout",
     "output_type": "stream",
     "text": [
      "Copying files to Exc_L4_5_RORB_IL1RAPL2\n",
      "Copying files to Exc_L3_5_RORB_PLCH1\n",
      "Copying files to Exc_L5_6_IT_Car3\n",
      "Copying files to Exc_L6_CT\n",
      "Copying files to Exc_L3_4_RORB_CUX2\n",
      "Copying files to Exc_L5_6_NP\n",
      "Copying files to Exc_L6b\n",
      "Copying files to Exc_L5_6_RORB_LINC02196\n",
      "Copying files to Exc_L5_ET\n",
      "Copying files to Exc_L6_THEMIS_NFIA\n",
      "Copying files to Exc_L4_5_RORB_GABRG1\n",
      "Copying files to Exc_NRGN\n",
      "Files copied successfully to all target directories.\n"
     ]
    }
   ],
   "source": [
    "\n",
    "\n",
    "# Loop through each target directory and copy files\n",
    "for target_dir in target_dirs:\n",
    "    # Check if the target directory exists, create if not\n",
    "    if not os.path.exists(target_dir):\n",
    "        print(f\"Creating directory: {target_dir}\")\n",
    "        os.makedirs(target_dir)\n",
    "    \n",
    "    # Copy all files from source directory to target directory\n",
    "    print(f\"Copying files to {target_dir}\")\n",
    "    for item in os.listdir(source_dir):\n",
    "        s = os.path.join(source_dir, item)\n",
    "        d = os.path.join(target_dir, item)\n",
    "        if os.path.isdir(s):\n",
    "            shutil.copytree(s, d, dirs_exist_ok=True)  # Recursive copy for directories\n",
    "        else:\n",
    "            shutil.copy2(s, d)  # Copy files with metadata\n",
    "\n",
    "\n",
    "print(\"Files copied successfully to all target directories.\")"
   ]
  },
  {
   "cell_type": "code",
   "execution_count": null,
   "id": "c07f9564-02b4-4818-bad2-62d716fd0c17",
   "metadata": {},
   "outputs": [],
   "source": []
  }
 ],
 "metadata": {
  "kernelspec": {
   "display_name": "Python 3 (ipykernel)",
   "language": "python",
   "name": "python3"
  },
  "language_info": {
   "codemirror_mode": {
    "name": "ipython",
    "version": 3
   },
   "file_extension": ".py",
   "mimetype": "text/x-python",
   "name": "python",
   "nbconvert_exporter": "python",
   "pygments_lexer": "ipython3",
   "version": "3.12.2"
  }
 },
 "nbformat": 4,
 "nbformat_minor": 5
}
